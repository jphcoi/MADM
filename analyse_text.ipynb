{
 "cells": [
  {
   "cell_type": "code",
   "execution_count": 12,
   "id": "aee4af3f",
   "metadata": {},
   "outputs": [],
   "source": [
    "import pandas as pd\n",
    "import bamboolib\n",
    "import os\n",
    "import datetime\n",
    "import numpy as np\n",
    "from matplotlib import pyplot as plt\n",
    "from matplotlib.ticker import MultipleLocator, FixedFormatter, FixedLocator\n",
    "\n",
    "import seaborn as sns\n",
    "import scipy\n",
    "from scipy.cluster.hierarchy import linkage, dendrogram, fcluster\n",
    "from scipy.spatial.distance import squareform\n",
    "from IPython.core.display import display, HTML\n",
    "import re"
   ]
  },
  {
   "cell_type": "code",
   "execution_count": 3,
   "id": "9fa868ac",
   "metadata": {},
   "outputs": [
    {
     "name": "stdout",
     "output_type": "stream",
     "text": [
      "/home/aymeric/python-scripts/anses_medialab/analyse_tweets\n"
     ]
    }
   ],
   "source": [
    "current_directory = os.getcwd()\n",
    "print(current_directory)"
   ]
  },
  {
   "cell_type": "markdown",
   "id": "4fa7190f",
   "metadata": {},
   "source": [
    "## Analyse des segments"
   ]
  },
  {
   "cell_type": "code",
   "execution_count": 4,
   "id": "61f1ecd4",
   "metadata": {},
   "outputs": [],
   "source": [
    "aymeric =  \"/home/aymeric/python-scripts/anses_medialab/datas/\" #aymeric\n",
    "jp = '~/Dropbox/Mac/Desktop/CRD Anses/all3/' # Jean Philippe\n",
    "jp_index = '~/Dropbox/Mac/Desktop/CRD Anses/code/indexation_results/' # Jean Philippe index\n",
    "\n",
    "if 'aymeric' in current_directory:\n",
    "    path_base = aymeric\n",
    "    index=f\"{path_base}index_allall_domainsexhaustive.csv\"\n",
    "else:\n",
    "    path_base = jp\n",
    "    index=f'{jp_index}index_allall_domainsexhaustive.csv'\n",
    "\n",
    "\n",
    "file_segmentation = f\"{path_base}segmentation_common_freq.csv\"\n",
    "data_file = path_base+'fb_tw_med_data.csv.gz'#,line_terminator='\\n',index=False)\n",
    "\n",
    "\n",
    "all_corpus = f\"{path_base}all_corpus_seg_with_sdhi_PI.csv\"\n",
    "cluster_qualification = f\"{path_base}cluster_qualification.csv\"\n",
    "\n",
    "#twittos = f\"{path_base}tweets_pesticides/500_first_twittos_on_pesticides.csv\"\n",
    "\n",
    "\n"
   ]
  },
  {
   "cell_type": "code",
   "execution_count": 5,
   "id": "1628f390",
   "metadata": {},
   "outputs": [],
   "source": [
    "list_base = [\"index\", \"all_corpus\"]\n",
    "which_base = list_base[0]"
   ]
  },
  {
   "cell_type": "code",
   "execution_count": 6,
   "id": "00118b3f",
   "metadata": {},
   "outputs": [],
   "source": [
    "dfseg0 = pd.read_csv(file_segmentation, sep = \"\\t\")\n",
    "df_cluster = pd.read_csv(cluster_qualification, sep = \"\\t\")\n",
    "\n",
    "if which_base == \"all_corpus\":\n",
    "    df0 = pd.read_csv(all_corpus, sep = \"\\t\")\n",
    "else:\n",
    "    df_index = pd.read_csv(index, sep = \"\\t\")\n",
    "\n",
    "    df_index['date'] = pd.to_datetime(df_index['date'], infer_datetime_format=True)\n",
    "    df_index['yearmonth']=(df_index['date'].dt.strftime('%Y-%m'))\n",
    "    df_index['date'] = df_index['date'].dt.date\n",
    "    \n",
    "    segment = dfseg0[[\"yearmonth\", \"segm\", \"origin\"]]\n",
    "    df0 = df_index.merge(segment, how = \"inner\", on = [\"origin\", \"yearmonth\"])\n",
    "    df0[\"start_segment\"] = df0.groupby(['origin','segm'])[\"date\"].transform('min')\n",
    "    df0[\"end_segment\"] = df0.groupby(['origin','segm'])[\"date\"].transform('max')"
   ]
  },
  {
   "cell_type": "code",
   "execution_count": 7,
   "id": "4b866741",
   "metadata": {},
   "outputs": [
    {
     "name": "stderr",
     "output_type": "stream",
     "text": [
      "/home/aymeric/anaconda3/envs/analyse_tweets/lib/python3.9/site-packages/IPython/core/interactiveshell.py:3444: DtypeWarning: Columns (1) have mixed types.Specify dtype option on import or set low_memory=False.\n",
      "  exec(code_obj, self.user_global_ns, self.user_ns)\n"
     ]
    }
   ],
   "source": [
    "dft = pd.read_csv(data_file)\n"
   ]
  },
  {
   "cell_type": "code",
   "execution_count": 8,
   "id": "d51fcb22",
   "metadata": {},
   "outputs": [],
   "source": [
    "# Step: Rename column\n",
    "dft = dft.rename(columns={'id': 'doc_id'})\n",
    "\n",
    "dft['date'] = pd.to_datetime(dft['date'], infer_datetime_format=True)\n",
    "\n",
    "dft['yearmonth']=(dft['date'].dt.strftime('%Y-%m'))\n",
    "dft['date'] = dft['date'].dt.date\n",
    "    \n",
    "segment = dfseg0[[\"yearmonth\", \"segm\", \"origin\"]]\n",
    "dft0 = dft.merge(segment, how = \"inner\", on = [\"origin\", \"yearmonth\"])\n",
    "dft0[\"start_segment\"] = dft0.groupby(['origin','segm'])[\"date\"].transform('min')\n",
    "dft0[\"end_segment\"] = dft0.groupby(['origin','segm'])[\"date\"].transform('max')\n",
    "\n"
   ]
  },
  {
   "cell_type": "code",
   "execution_count": 16,
   "id": "5a38661f",
   "metadata": {},
   "outputs": [
    {
     "data": {
      "application/vnd.jupyter.widget-view+json": {
       "model_id": "1d03cb6f84a949edbdc8262aa2361a14"
      },
      "text/plain": [
       "     Unnamed: 0    origin yearmonth  segm  doc_id  \\\n",
       "0             0  facebook   2011-11   0.0       6   \n",
       "1             1  facebook   2011-12   0.0      25   \n",
       "2             2  facebook   2012-02   1.0       9   \n",
       "3             3  facebook   2012-04   1.0       6   \n",
       "4             4  facebook   2012-03   1.0       9   \n",
       "..          ...       ...       ...   ...     ...   \n",
       "390         390     media   2012-12   5.0      45   \n",
       "391         391     media   2011-10   3.0       3   \n",
       "392         392     media   2011-09   3.0      11   \n",
       "393         393     media   2011-01   1.0      15   \n",
       "394         394     media   2011-02   1.0      24   \n",
       "\n",
       "                                  top50_term_chi2_True  \\\n",
       "0    céréalier charentais, efsa, paul françois, mon...   \n",
       "1    céréalier charentais, efsa, paul françois, mon...   \n",
       "2    santé des français, semences transgéniques, ag...   \n",
       "3    santé des français, semences transgéniques, ag...   \n",
       "4    santé des français, semences transgéniques, ag...   \n",
       "..                                                 ...   \n",
       "390  parasite, efsa, ogm, moustique, inra, résistan...   \n",
       "391  producteurs de glyphosate, glyphosate, echa, c...   \n",
       "392  producteurs de glyphosate, glyphosate, echa, c...   \n",
       "393  production, coûts, combat, médecin, premier mi...   \n",
       "394  production, coûts, combat, médecin, premier mi...   \n",
       "\n",
       "                                top50_source_chi2_True  \n",
       "0    ASSAUPAMAR, Équiterre, Le Monde, Le changement...  \n",
       "1    ASSAUPAMAR, Équiterre, Le Monde, Le changement...  \n",
       "2    Confédération Paysanne, Bio-dynamie appliquée ...  \n",
       "3    Confédération Paysanne, Bio-dynamie appliquée ...  \n",
       "4    Confédération Paysanne, Bio-dynamie appliquée ...  \n",
       "..                                                 ...  \n",
       "390  allodocteurs.fr, lefigaro, francetvinfo.fr, Co...  \n",
       "391  RTLFrance, lexpress.fr, 20minutes.fr, Conversa...  \n",
       "392  RTLFrance, lexpress.fr, 20minutes.fr, Conversa...  \n",
       "393                    agoravox.fr, France 24, LePoint  \n",
       "394                    agoravox.fr, France 24, LePoint  \n",
       "\n",
       "[395 rows x 7 columns]"
      ]
     },
     "metadata": {},
     "output_type": "display_data"
    }
   ],
   "source": [
    "dfseg0"
   ]
  },
  {
   "cell_type": "markdown",
   "id": "4010b9f3",
   "metadata": {},
   "source": [
    "## Facebook"
   ]
  },
  {
   "cell_type": "code",
   "execution_count": 39,
   "id": "62530b84",
   "metadata": {},
   "outputs": [],
   "source": [
    "def filter_data(data, domain, segment):\n",
    "    print(domain)\n",
    "    dfseg = data[0]\n",
    "    dfseg1 = dfseg.loc[(dfseg[\"origin\"] == domain) & (dfseg[\"segm\"] == segment)]\n",
    "    \n",
    "    df = data[1]\n",
    "    df1 = df.loc[(df[\"origin\"] == domain) & (df[\"segm\"] == segment)]\n",
    "    \n",
    "    dft = data[2]\n",
    "    dft1 = dft.loc[(dft[\"origin\"] == domain) & (dft[\"segm\"] == segment)]\n",
    "    dft1['doc_id'] = dft1['doc_id'].astype('string')\n",
    "    \n",
    "    specific_terms = [x.strip() for x in dfseg1[\"top50_term_chi2_True\"].iloc[0].split(\",\")]\n",
    "\n",
    "    print(specific_terms)\n",
    "    df1.loc[df1[\"term\"].isin(specific_terms) == True, \"in_top50_term\"] = 1\n",
    "    df1.loc[df1[\"term\"].isin(specific_terms) == False, \"in_top50_term\"] = 0\n",
    "\n",
    "    \n",
    "    df2 = df1.drop_duplicates(subset = [\"doc_id\", \"term\"]).groupby(['doc_id', 'source', \"date\"]).agg(sum_of_top50_term =('in_top50_term', 'sum')).reset_index()\n",
    "    df2['doc_id'] = df2['doc_id'].astype('string')\n",
    "    df2 = df2.merge(dft1[[\"doc_id\", \"text\"]], how = \"inner\", on = [\"doc_id\"])\n",
    "    \n",
    "    return dfseg1, df1, dft1, df2, specific_terms"
   ]
  },
  {
   "cell_type": "code",
   "execution_count": 115,
   "id": "488d12cb",
   "metadata": {},
   "outputs": [
    {
     "name": "stdout",
     "output_type": "stream",
     "text": [
      "facebook\n",
      "['céréalier charentais', 'efsa', 'paul françois', 'monsanto', 'procès', 'lasso', 'résidus de pesticides', 'victimes de pesticides', 'agriculture biologique', 'monde selon monsanto', 'générations futures', 'tribunal', 'aliments', 'futures', 'résidus', 'victimes', 'roundup', 'inra', 'firme', 'épandages', 'associations', 'pesticides', 'sucre', 'martinique', 'effet', 'syngenta', 'agriculteur', 'docteur', 'planète', 'céréaliers', 'femmes', 'épandages de pesticides', 'apiculture', 'études', 'recherche', 'agrochimie', 'cour', 'sécurité des aliments', 'autorité européenne', 'dérogation', 'alternatives aux pesticides', 'parlement', 'arguments', 'malformations', 'pollution', 'alternatives', 'extinction', 'combat', 'pac', 'abeilles']\n"
     ]
    }
   ],
   "source": [
    "domains = [\"facebook\", \"twitter\", \"media\"]\n",
    "segment = 0\n",
    "domain = domains[0]\n",
    "\n",
    "list_df = [dfseg0, df0, dft0]\n",
    "dfseg1, df1, dft1, df2, specific_terms = filter_data(list_df, domain = domain, segment = segment)"
   ]
  },
  {
   "cell_type": "code",
   "execution_count": 116,
   "id": "76f64ce1",
   "metadata": {},
   "outputs": [
    {
     "data": {
      "application/vnd.jupyter.widget-view+json": {
       "model_id": "4049535b0bb5406fbd45c0eb8a4263fa"
      },
      "text/plain": [
       "     doc_id                                             source        date  \\\n",
       "0    413876         Consommons de façon responsable et éthique  2011-12-30   \n",
       "1    413877          Le mystère de la disparition des abeilles  2011-12-30   \n",
       "2    413878                                         Doctissimo  2011-12-28   \n",
       "3    413879                                 Biocoop Les Halles  2011-12-28   \n",
       "4    413880  Libres de pensées. Contre la banalisation de l...  2011-12-27   \n",
       "..      ...                                                ...         ...   \n",
       "139  414020                                        eco-SAPIENS  2011-11-22   \n",
       "140  414022                        La Lettre à Jal & Compagnie  2011-11-18   \n",
       "141  414023                        Good Smile Company (France)  2011-11-18   \n",
       "142  414024                                 Bio Consom'acteurs  2011-11-16   \n",
       "143  414025                 Les eurodéputé·e·s Europe écologie  2011-11-16   \n",
       "\n",
       "     sum_of_top50_term                                               text  \n",
       "0                  1.0  en Inde les fermiers utilise le coca cola comm...  \n",
       "1                  1.0  Jardiner autrement\\nJardinons autrement, appre...  \n",
       "2                  5.0  223 fois moins de pesticides dans les aliments...  \n",
       "3                  4.0  Cela vaut-il le coup de manger bio pour éviter...  \n",
       "4                  5.0  Paul François, malade des pesticides, demande ...  \n",
       "..                 ...                                                ...  \n",
       "139                2.0  eco-SAPIENS - OGM : le roi est nu\\nActualité e...  \n",
       "140                1.0  Offre de stage rénumérée : Réalisation d'un fi...  \n",
       "141                1.0  Good Smile Company News Roundup!\\nFriday!!    ...  \n",
       "142                2.0  Bioconsomacteurs.org - actus\\n\\nbioconsomacteu...  \n",
       "143                3.0  Hécatombe des abeilles : le Parlement ignore l...  \n",
       "\n",
       "[144 rows x 5 columns]"
      ]
     },
     "metadata": {},
     "output_type": "display_data"
    }
   ],
   "source": [
    "df2"
   ]
  },
  {
   "cell_type": "code",
   "execution_count": 117,
   "id": "fac4d6d6",
   "metadata": {},
   "outputs": [],
   "source": [
    "moyenne = np.mean(df2[\"sum_of_top50_term\"]) \n",
    "df3 = df2.loc[df2[\"sum_of_top50_term\"] >= 1 ]\n",
    "df3 = df3.sort_values(by=['date'], ascending=[True])\n",
    "\n",
    "#df3 = df3.drop_duplicates(subset = \"text\")"
   ]
  },
  {
   "cell_type": "markdown",
   "id": "c9cf4b67",
   "metadata": {},
   "source": [
    "## Matrice de similarité"
   ]
  },
  {
   "cell_type": "code",
   "execution_count": 118,
   "id": "382721bb",
   "metadata": {},
   "outputs": [],
   "source": [
    "df11 = df1.groupby(['term', 'doc_id']).agg(count_doc = (\"doc_id\", \"count\")).reset_index()\n",
    "df11=df11.merge(df1[['term','in_top50_term']].drop_duplicates(), on='term', how = 'left')\n",
    "df11=df11.loc[df11[\"in_top50_term\"] ==  1]"
   ]
  },
  {
   "cell_type": "code",
   "execution_count": 119,
   "id": "ade6feb0",
   "metadata": {},
   "outputs": [],
   "source": [
    "import math\n",
    "\n",
    "\n",
    "dico_freq={}\n",
    "for l in df11.groupby('term'):\n",
    "    term=l[0]\n",
    "    #print (term)\n",
    "    dico_freq[term]={}\n",
    "    for d in l[1].groupby('doc_id'):\n",
    "        #print (d[0],d[1]['count_doc'].values[0])\n",
    "        dico_freq[term][d[0]]=d[1]['count_doc'].values[0]\n",
    "\n",
    "for t in dico_freq:\n",
    "    N=sum(dico_freq[t].values())\n",
    "    for d in dico_freq[t]:\n",
    "        dico_freq[t][d]=dico_freq[t][d]/N\n",
    "    \n",
    "                \n",
    "squared={}\n",
    "spec_words=list(dico_freq.keys())\n",
    "for w1 in spec_words:\n",
    "    s=0\n",
    "    for d1 in dico_freq[w1]:\n",
    "        #if d1 in spec_words[w2]:\n",
    "        s += dico_freq[w1][d1] * dico_freq[w1].get(d1,0)\n",
    "    squared[w1]=s\n",
    "\n",
    "similarity=[]\n",
    "spec_words=list(dico_freq.keys())\n",
    "for w1 in spec_words:\n",
    "    sim=[]\n",
    "    for w2 in spec_words:\n",
    "        s=0\n",
    "        for d1 in dico_freq[w1]:\n",
    "            #if d1 in spec_words[w2]:\n",
    "            s += dico_freq[w1][d1] * dico_freq[w2].get(d1,0)\n",
    "        sim.append(s/math.sqrt(squared[w1]*squared[w2]))\n",
    "    similarity.append(sim)\n",
    "\n",
    "#similarity"
   ]
  },
  {
   "cell_type": "code",
   "execution_count": 120,
   "id": "740f0f13",
   "metadata": {},
   "outputs": [
    {
     "name": "stdout",
     "output_type": "stream",
     "text": [
      "['abeilles', 'agriculteur', 'agriculture biologique', 'agrochimie', 'aliments', 'alternatives', 'alternatives aux pesticides', 'apiculture', 'arguments', 'associations', 'autorité européenne', 'combat', 'cour', 'céréalier charentais', 'céréaliers', 'docteur', 'dérogation', 'effet', 'efsa', 'extinction', 'femmes', 'firme', 'futures', 'générations futures', 'inra', 'lasso', 'malformations', 'martinique', 'monde selon monsanto', 'monsanto', 'pac', 'parlement', 'paul françois', 'pesticides', 'planète', 'pollution', 'procès', 'recherche', 'roundup', 'résidus', 'résidus de pesticides', 'sucre', 'syngenta', 'sécurité des aliments', 'tribunal', 'victimes', 'victimes de pesticides', 'épandages', 'épandages de pesticides', 'études']\n"
     ]
    }
   ],
   "source": [
    "list_name = [x for x in df11.term.unique()]\n",
    "print(list_name)"
   ]
  },
  {
   "cell_type": "code",
   "execution_count": 121,
   "id": "3b174a99",
   "metadata": {},
   "outputs": [
    {
     "data": {
      "image/png": "[encoded data removed]",
      "text/plain": [
       "<Figure size 1080x1080 with 4 Axes>"
      ]
     },
     "metadata": {
      "needs_background": "light"
     },
     "output_type": "display_data"
    }
   ],
   "source": [
    "from matplotlib import pyplot as plt\n",
    "\n",
    "\n",
    "cmap_reversed = plt.cm.get_cmap('spring_r')\n",
    "#sns.clustermap(rho_terms)\n",
    "ax=sns.clustermap(similarity,figsize=(15,15), cmap = cmap_reversed, linewidths=2, linecolor='white', vmax = 0.8)#,labels=range(14))\n",
    "new_labels=[]\n",
    "labels_list= list_name\n",
    "for l in ax.ax_heatmap.axes.get_xticklabels():\n",
    "    l.set_text(labels_list[int(l.get_text())])\n",
    "    new_labels.append(l)\n",
    "ax.ax_heatmap.axes.set_yticklabels(new_labels,rotation=0)\n",
    "ax.ax_heatmap.axes.set_xticklabels(new_labels,rotation = 90)\n",
    "\n",
    "#ax.setp(g.ax_heatmap.get_yticklabels(), rotation=0)\n",
    "#ax.set_xticklabels(ax.get_xticklabels(),rotation = 30)\n",
    "plt.tight_layout()\n",
    "\n",
    "plt.savefig(f\"clustermap/cm_{domain}_{segment}.png\")"
   ]
  },
  {
   "cell_type": "markdown",
   "id": "039d6004",
   "metadata": {},
   "source": [
    "## Détermination du nombre de clusters avec kneed Locator"
   ]
  },
  {
   "cell_type": "code",
   "execution_count": 122,
   "id": "43039176",
   "metadata": {},
   "outputs": [
    {
     "data": {
      "application/vnd.jupyter.widget-view+json": {
       "model_id": "6a1c838a6323493c8dae3eff667d5101"
      },
      "text/plain": [
       "                       v1            v2       sim      dist\n",
       "0            @genefutures  @genefutures  1.000000  0.000000\n",
       "1                abeilles  @genefutures  0.001486  0.998514\n",
       "2     autorité européenne  @genefutures  0.000000  1.000000\n",
       "3                 cancers  @genefutures  0.016128  0.983872\n",
       "4             cancérogène  @genefutures  0.000000  1.000000\n",
       "...                   ...           ...       ...       ...\n",
       "2495             troubles        études  0.147782  0.852218\n",
       "2496              viandes        études  0.064711  0.935289\n",
       "2497            vignerons        études  0.009042  0.990958\n",
       "2498               vignes        études  0.023740  0.976260\n",
       "2499               études        études  1.000000  0.000000\n",
       "\n",
       "[2500 rows x 4 columns]"
      ]
     },
     "metadata": {},
     "output_type": "display_data"
    },
    {
     "data": {
      "text/plain": [
       "<Figure size 1080x360 with 0 Axes>"
      ]
     },
     "metadata": {},
     "output_type": "display_data"
    }
   ],
   "source": [
    "fig = plt.figure(1, figsize=(15, 5))\n",
    "row_linkage = linkage(sp.distance.pdist(similarity), method='complete')# for x in (t.values, rho_terms.values.T))\n",
    "nbclust_max=20\n",
    "dfcost=pd.DataFrame()\n",
    "for nbclust in  range(1,nbclust_max):\n",
    "    cluster_idx = scipy.cluster.hierarchy.fcluster(row_linkage,nbclust,criterion='maxclust')\n",
    "    cluster = [y for y in cluster_idx]    \n",
    "    new_df = pd.DataFrame(data = {\"term\": list_name, \"cluster\": cluster})\n",
    "    new_df['nbseg']=nbclust\n",
    "    new_df_count = new_df.groupby(['cluster']).agg(term_size=('term', 'size')).reset_index()\n",
    "    new_df_count = new_df_count.loc[new_df_count['term_size'] == 1]\n",
    "    if len(new_df_count)>0:\n",
    "        break\n",
    "        \n",
    "    dfcost=dfcost.append(new_df)\n",
    "    \n",
    "#Liste des distances entre chaque paire de termes\n",
    "df_sim['v1']=df_sim.index\n",
    "df_sim_melt = df_sim.melt(id_vars=['v1'])\n",
    "df_sim_melt.columns=['v1', 'v2', 'sim']\n",
    "df_sim_melt['dist']=1-df_sim_melt['sim']\n",
    "df_sim_melt"
   ]
  },
  {
   "cell_type": "markdown",
   "id": "b4c84e0a",
   "metadata": {},
   "source": [
    "## Distance moyenne entre éléments de chaque cluster (avec nombre de cluster compris entre 1 et 20)"
   ]
  },
  {
   "cell_type": "code",
   "execution_count": 123,
   "id": "eb8bed46",
   "metadata": {},
   "outputs": [],
   "source": [
    "df_dist_clust = pd.merge(df_sim_melt, dfcost, how='inner', left_on=['v1'], right_on=['term'])\n",
    "df_dist_clust = pd.merge(df_dist_clust, dfcost, how='inner', left_on=['v2'], right_on=['term'])\n",
    "df_dist_clust = df_dist_clust.loc[df_dist_clust['nbseg_x'] == df_dist_clust['nbseg_y']]\n",
    "df_dist_clust = df_dist_clust.loc[df_dist_clust['cluster_x'] == df_dist_clust['cluster_y']]\n",
    "#df_dist_clust['distsq']=df_dist_clust['dist']*df_dist_clust['dist']\n",
    "df_dist_clust_inertia = df_dist_clust.groupby(['nbseg_x', 'cluster_x' ,'v1']).agg(dist_mean=('dist', 'mean')).reset_index()\n",
    "df_dist_clust_inertia['distsq']=df_dist_clust_inertia['dist_mean'].pow(2)\n",
    "\n"
   ]
  },
  {
   "cell_type": "markdown",
   "id": "c0f21186",
   "metadata": {},
   "source": [
    "## Somme des distances moyennes au carré intra-cluster"
   ]
  },
  {
   "cell_type": "code",
   "execution_count": 124,
   "id": "ae0e71f1",
   "metadata": {},
   "outputs": [
    {
     "data": {
      "application/vnd.jupyter.widget-view+json": {
       "model_id": "a61f6856888a44f5837a0045b3f4263c"
      },
      "text/plain": [
       "    nbseg_x  cluster_x  dist_mean_sum\n",
       "0         1          1       8.989135\n",
       "1         2          1       0.531301\n",
       "2         2          2       6.303283\n",
       "3         3          1       0.531301\n",
       "4         3          2       0.258072\n",
       "..      ...        ...            ...\n",
       "85       17          5       0.258072\n",
       "86       17          6       1.048156\n",
       "87       17          7       0.413052\n",
       "88       17          9       0.000000\n",
       "89       17         14       0.000000\n",
       "\n",
       "[90 rows x 3 columns]"
      ]
     },
     "metadata": {},
     "output_type": "display_data"
    }
   ],
   "source": [
    "df_dist_clust_inertia = df_dist_clust_inertia.groupby(['nbseg_x', 'cluster_x']).agg(dist_mean_sum=('distsq', 'sum')).reset_index()\n",
    "df_dist_clust_inertia"
   ]
  },
  {
   "cell_type": "markdown",
   "id": "e14f2a03",
   "metadata": {},
   "source": [
    "## Somme des distances moyennes au carré inter-cluster"
   ]
  },
  {
   "cell_type": "code",
   "execution_count": 125,
   "id": "0f5a4d74",
   "metadata": {},
   "outputs": [
    {
     "data": {
      "application/vnd.jupyter.widget-view+json": {
       "model_id": "018d984af5f74f0fa96fcad0a781f391"
      },
      "text/plain": [
       "    nbseg_x  dist_mean_sum\n",
       "0         1       8.989135\n",
       "1         2       6.834584\n",
       "2         3       5.612533\n",
       "3         4       3.863615\n",
       "4         5       2.734329\n",
       "5         6       2.734329\n",
       "6         7       2.250581\n",
       "7         8       2.250581\n",
       "8         9       2.250581\n",
       "9        10       2.250581\n",
       "10       11       2.250581\n",
       "11       12       2.250581\n",
       "12       13       2.250581\n",
       "13       14       2.004629\n",
       "14       15       2.004629\n",
       "15       16       2.004629\n",
       "16       17       2.004629"
      ]
     },
     "metadata": {},
     "output_type": "display_data"
    }
   ],
   "source": [
    "df_dist_clust_inertia = df_dist_clust_inertia.groupby(['nbseg_x']).agg(dist_mean_sum=('dist_mean_sum', 'sum')).reset_index()\n",
    "df_dist_clust_inertia"
   ]
  },
  {
   "cell_type": "markdown",
   "id": "4ef79354",
   "metadata": {},
   "source": [
    "## Distribution de dist_mean_sum"
   ]
  },
  {
   "cell_type": "code",
   "execution_count": 126,
   "id": "41a5e1cf",
   "metadata": {},
   "outputs": [
    {
     "data": {
      "application/vnd.plotly.v1+json": {
       "config": {
        "plotlyServerURL": "https://plot.ly"
       },
       "data": [
        {
         "hovertemplate": "nbseg_x=%{x}<br>dist_mean_sum=%{y}<extra></extra>",
         "legendgroup": "",
         "marker": {
          "color": "#636efa",
          "symbol": "circle"
         },
         "mode": "markers",
         "name": "",
         "orientation": "v",
         "showlegend": false,
         "type": "scatter",
         "x": [
          1,
          2,
          3,
          4,
          5,
          6,
          7,
          8,
          9,
          10,
          11,
          12,
          13,
          14,
          15,
          16,
          17
         ],
         "xaxis": "x",
         "y": [
          8.989134730528836,
          6.834584300236985,
          5.612532955604206,
          3.863615151528955,
          2.7343285357056044,
          2.7343285357056044,
          2.250580787682712,
          2.250580787682712,
          2.250580787682712,
          2.250580787682712,
          2.250580787682712,
          2.250580787682712,
          2.250580787682712,
          2.004629209104177,
          2.004629209104177,
          2.004629209104177,
          2.004629209104177
         ],
         "yaxis": "y"
        }
       ],
       "layout": {
        "height": 600,
        "legend": {
         "tracegroupgap": 0
        },
        "margin": {
         "t": 60
        },
        "template": {
         "data": {
          "bar": [
           {
            "error_x": {
             "color": "#2a3f5f"
            },
            "error_y": {
             "color": "#2a3f5f"
            },
            "marker": {
             "line": {
              "color": "#E5ECF6",
              "width": 0.5
             },
             "pattern": {
              "fillmode": "overlay",
              "size": 10,
              "solidity": 0.2
             }
            },
            "type": "bar"
           }
          ],
          "barpolar": [
           {
            "marker": {
             "line": {
              "color": "#E5ECF6",
              "width": 0.5
             },
             "pattern": {
              "fillmode": "overlay",
              "size": 10,
              "solidity": 0.2
             }
            },
            "type": "barpolar"
           }
          ],
          "carpet": [
           {
            "aaxis": {
             "endlinecolor": "#2a3f5f",
             "gridcolor": "white",
             "linecolor": "white",
             "minorgridcolor": "white",
             "startlinecolor": "#2a3f5f"
            },
            "baxis": {
             "endlinecolor": "#2a3f5f",
             "gridcolor": "white",
             "linecolor": "white",
             "minorgridcolor": "white",
             "startlinecolor": "#2a3f5f"
            },
            "type": "carpet"
           }
          ],
          "choropleth": [
           {
            "colorbar": {
             "outlinewidth": 0,
             "ticks": ""
            },
            "type": "choropleth"
           }
          ],
          "contour": [
           {
            "colorbar": {
             "outlinewidth": 0,
             "ticks": ""
            },
            "colorscale": [
             [
              0,
              "#0d0887"
             ],
             [
              0.1111111111111111,
              "#46039f"
             ],
             [
              0.2222222222222222,
              "#7201a8"
             ],
             [
              0.3333333333333333,
              "#9c179e"
             ],
             [
              0.4444444444444444,
              "#bd3786"
             ],
             [
              0.5555555555555556,
              "#d8576b"
             ],
             [
              0.6666666666666666,
              "#ed7953"
             ],
             [
              0.7777777777777778,
              "#fb9f3a"
             ],
             [
              0.8888888888888888,
              "#fdca26"
             ],
             [
              1,
              "#f0f921"
             ]
            ],
            "type": "contour"
           }
          ],
          "contourcarpet": [
           {
            "colorbar": {
             "outlinewidth": 0,
             "ticks": ""
            },
            "type": "contourcarpet"
           }
          ],
          "heatmap": [
           {
            "colorbar": {
             "outlinewidth": 0,
             "ticks": ""
            },
            "colorscale": [
             [
              0,
              "#0d0887"
             ],
             [
              0.1111111111111111,
              "#46039f"
             ],
             [
              0.2222222222222222,
              "#7201a8"
             ],
             [
              0.3333333333333333,
              "#9c179e"
             ],
             [
              0.4444444444444444,
              "#bd3786"
             ],
             [
              0.5555555555555556,
              "#d8576b"
             ],
             [
              0.6666666666666666,
              "#ed7953"
             ],
             [
              0.7777777777777778,
              "#fb9f3a"
             ],
             [
              0.8888888888888888,
              "#fdca26"
             ],
             [
              1,
              "#f0f921"
             ]
            ],
            "type": "heatmap"
           }
          ],
          "heatmapgl": [
           {
            "colorbar": {
             "outlinewidth": 0,
             "ticks": ""
            },
            "colorscale": [
             [
              0,
              "#0d0887"
             ],
             [
              0.1111111111111111,
              "#46039f"
             ],
             [
              0.2222222222222222,
              "#7201a8"
             ],
             [
              0.3333333333333333,
              "#9c179e"
             ],
             [
              0.4444444444444444,
              "#bd3786"
             ],
             [
              0.5555555555555556,
              "#d8576b"
             ],
             [
              0.6666666666666666,
              "#ed7953"
             ],
             [
              0.7777777777777778,
              "#fb9f3a"
             ],
             [
              0.8888888888888888,
              "#fdca26"
             ],
             [
              1,
              "#f0f921"
             ]
            ],
            "type": "heatmapgl"
           }
          ],
          "histogram": [
           {
            "marker": {
             "pattern": {
              "fillmode": "overlay",
              "size": 10,
              "solidity": 0.2
             }
            },
            "type": "histogram"
           }
          ],
          "histogram2d": [
           {
            "colorbar": {
             "outlinewidth": 0,
             "ticks": ""
            },
            "colorscale": [
             [
              0,
              "#0d0887"
             ],
             [
              0.1111111111111111,
              "#46039f"
             ],
             [
              0.2222222222222222,
              "#7201a8"
             ],
             [
              0.3333333333333333,
              "#9c179e"
             ],
             [
              0.4444444444444444,
              "#bd3786"
             ],
             [
              0.5555555555555556,
              "#d8576b"
             ],
             [
              0.6666666666666666,
              "#ed7953"
             ],
             [
              0.7777777777777778,
              "#fb9f3a"
             ],
             [
              0.8888888888888888,
              "#fdca26"
             ],
             [
              1,
              "#f0f921"
             ]
            ],
            "type": "histogram2d"
           }
          ],
          "histogram2dcontour": [
           {
            "colorbar": {
             "outlinewidth": 0,
             "ticks": ""
            },
            "colorscale": [
             [
              0,
              "#0d0887"
             ],
             [
              0.1111111111111111,
              "#46039f"
             ],
             [
              0.2222222222222222,
              "#7201a8"
             ],
             [
              0.3333333333333333,
              "#9c179e"
             ],
             [
              0.4444444444444444,
              "#bd3786"
             ],
             [
              0.5555555555555556,
              "#d8576b"
             ],
             [
              0.6666666666666666,
              "#ed7953"
             ],
             [
              0.7777777777777778,
              "#fb9f3a"
             ],
             [
              0.8888888888888888,
              "#fdca26"
             ],
             [
              1,
              "#f0f921"
             ]
            ],
            "type": "histogram2dcontour"
           }
          ],
          "mesh3d": [
           {
            "colorbar": {
             "outlinewidth": 0,
             "ticks": ""
            },
            "type": "mesh3d"
           }
          ],
          "parcoords": [
           {
            "line": {
             "colorbar": {
              "outlinewidth": 0,
              "ticks": ""
             }
            },
            "type": "parcoords"
           }
          ],
          "pie": [
           {
            "automargin": true,
            "type": "pie"
           }
          ],
          "scatter": [
           {
            "fillpattern": {
             "fillmode": "overlay",
             "size": 10,
             "solidity": 0.2
            },
            "type": "scatter"
           }
          ],
          "scatter3d": [
           {
            "line": {
             "colorbar": {
              "outlinewidth": 0,
              "ticks": ""
             }
            },
            "marker": {
             "colorbar": {
              "outlinewidth": 0,
              "ticks": ""
             }
            },
            "type": "scatter3d"
           }
          ],
          "scattercarpet": [
           {
            "marker": {
             "colorbar": {
              "outlinewidth": 0,
              "ticks": ""
             }
            },
            "type": "scattercarpet"
           }
          ],
          "scattergeo": [
           {
            "marker": {
             "colorbar": {
              "outlinewidth": 0,
              "ticks": ""
             }
            },
            "type": "scattergeo"
           }
          ],
          "scattergl": [
           {
            "marker": {
             "colorbar": {
              "outlinewidth": 0,
              "ticks": ""
             }
            },
            "type": "scattergl"
           }
          ],
          "scattermapbox": [
           {
            "marker": {
             "colorbar": {
              "outlinewidth": 0,
              "ticks": ""
             }
            },
            "type": "scattermapbox"
           }
          ],
          "scatterpolar": [
           {
            "marker": {
             "colorbar": {
              "outlinewidth": 0,
              "ticks": ""
             }
            },
            "type": "scatterpolar"
           }
          ],
          "scatterpolargl": [
           {
            "marker": {
             "colorbar": {
              "outlinewidth": 0,
              "ticks": ""
             }
            },
            "type": "scatterpolargl"
           }
          ],
          "scatterternary": [
           {
            "marker": {
             "colorbar": {
              "outlinewidth": 0,
              "ticks": ""
             }
            },
            "type": "scatterternary"
           }
          ],
          "surface": [
           {
            "colorbar": {
             "outlinewidth": 0,
             "ticks": ""
            },
            "colorscale": [
             [
              0,
              "#0d0887"
             ],
             [
              0.1111111111111111,
              "#46039f"
             ],
             [
              0.2222222222222222,
              "#7201a8"
             ],
             [
              0.3333333333333333,
              "#9c179e"
             ],
             [
              0.4444444444444444,
              "#bd3786"
             ],
             [
              0.5555555555555556,
              "#d8576b"
             ],
             [
              0.6666666666666666,
              "#ed7953"
             ],
             [
              0.7777777777777778,
              "#fb9f3a"
             ],
             [
              0.8888888888888888,
              "#fdca26"
             ],
             [
              1,
              "#f0f921"
             ]
            ],
            "type": "surface"
           }
          ],
          "table": [
           {
            "cells": {
             "fill": {
              "color": "#EBF0F8"
             },
             "line": {
              "color": "white"
             }
            },
            "header": {
             "fill": {
              "color": "#C8D4E3"
             },
             "line": {
              "color": "white"
             }
            },
            "type": "table"
           }
          ]
         },
         "layout": {
          "annotationdefaults": {
           "arrowcolor": "#2a3f5f",
           "arrowhead": 0,
           "arrowwidth": 1
          },
          "autotypenumbers": "strict",
          "coloraxis": {
           "colorbar": {
            "outlinewidth": 0,
            "ticks": ""
           }
          },
          "colorscale": {
           "diverging": [
            [
             0,
             "#8e0152"
            ],
            [
             0.1,
             "#c51b7d"
            ],
            [
             0.2,
             "#de77ae"
            ],
            [
             0.3,
             "#f1b6da"
            ],
            [
             0.4,
             "#fde0ef"
            ],
            [
             0.5,
             "#f7f7f7"
            ],
            [
             0.6,
             "#e6f5d0"
            ],
            [
             0.7,
             "#b8e186"
            ],
            [
             0.8,
             "#7fbc41"
            ],
            [
             0.9,
             "#4d9221"
            ],
            [
             1,
             "#276419"
            ]
           ],
           "sequential": [
            [
             0,
             "#0d0887"
            ],
            [
             0.1111111111111111,
             "#46039f"
            ],
            [
             0.2222222222222222,
             "#7201a8"
            ],
            [
             0.3333333333333333,
             "#9c179e"
            ],
            [
             0.4444444444444444,
             "#bd3786"
            ],
            [
             0.5555555555555556,
             "#d8576b"
            ],
            [
             0.6666666666666666,
             "#ed7953"
            ],
            [
             0.7777777777777778,
             "#fb9f3a"
            ],
            [
             0.8888888888888888,
             "#fdca26"
            ],
            [
             1,
             "#f0f921"
            ]
           ],
           "sequentialminus": [
            [
             0,
             "#0d0887"
            ],
            [
             0.1111111111111111,
             "#46039f"
            ],
            [
             0.2222222222222222,
             "#7201a8"
            ],
            [
             0.3333333333333333,
             "#9c179e"
            ],
            [
             0.4444444444444444,
             "#bd3786"
            ],
            [
             0.5555555555555556,
             "#d8576b"
            ],
            [
             0.6666666666666666,
             "#ed7953"
            ],
            [
             0.7777777777777778,
             "#fb9f3a"
            ],
            [
             0.8888888888888888,
             "#fdca26"
            ],
            [
             1,
             "#f0f921"
            ]
           ]
          },
          "colorway": [
           "#636efa",
           "#EF553B",
           "#00cc96",
           "#ab63fa",
           "#FFA15A",
           "#19d3f3",
           "#FF6692",
           "#B6E880",
           "#FF97FF",
           "#FECB52"
          ],
          "font": {
           "color": "#2a3f5f"
          },
          "geo": {
           "bgcolor": "white",
           "lakecolor": "white",
           "landcolor": "#E5ECF6",
           "showlakes": true,
           "showland": true,
           "subunitcolor": "white"
          },
          "hoverlabel": {
           "align": "left"
          },
          "hovermode": "closest",
          "mapbox": {
           "style": "light"
          },
          "paper_bgcolor": "white",
          "plot_bgcolor": "#E5ECF6",
          "polar": {
           "angularaxis": {
            "gridcolor": "white",
            "linecolor": "white",
            "ticks": ""
           },
           "bgcolor": "#E5ECF6",
           "radialaxis": {
            "gridcolor": "white",
            "linecolor": "white",
            "ticks": ""
           }
          },
          "scene": {
           "xaxis": {
            "backgroundcolor": "#E5ECF6",
            "gridcolor": "white",
            "gridwidth": 2,
            "linecolor": "white",
            "showbackground": true,
            "ticks": "",
            "zerolinecolor": "white"
           },
           "yaxis": {
            "backgroundcolor": "#E5ECF6",
            "gridcolor": "white",
            "gridwidth": 2,
            "linecolor": "white",
            "showbackground": true,
            "ticks": "",
            "zerolinecolor": "white"
           },
           "zaxis": {
            "backgroundcolor": "#E5ECF6",
            "gridcolor": "white",
            "gridwidth": 2,
            "linecolor": "white",
            "showbackground": true,
            "ticks": "",
            "zerolinecolor": "white"
           }
          },
          "shapedefaults": {
           "line": {
            "color": "#2a3f5f"
           }
          },
          "ternary": {
           "aaxis": {
            "gridcolor": "white",
            "linecolor": "white",
            "ticks": ""
           },
           "baxis": {
            "gridcolor": "white",
            "linecolor": "white",
            "ticks": ""
           },
           "bgcolor": "#E5ECF6",
           "caxis": {
            "gridcolor": "white",
            "linecolor": "white",
            "ticks": ""
           }
          },
          "title": {
           "x": 0.05
          },
          "xaxis": {
           "automargin": true,
           "gridcolor": "white",
           "linecolor": "white",
           "ticks": "",
           "title": {
            "standoff": 15
           },
           "zerolinecolor": "white",
           "zerolinewidth": 2
          },
          "yaxis": {
           "automargin": true,
           "gridcolor": "white",
           "linecolor": "white",
           "ticks": "",
           "title": {
            "standoff": 15
           },
           "zerolinecolor": "white",
           "zerolinewidth": 2
          }
         }
        },
        "width": 800,
        "xaxis": {
         "anchor": "y",
         "domain": [
          0,
          1
         ],
         "title": {
          "text": "nbseg_x"
         }
        },
        "yaxis": {
         "anchor": "x",
         "domain": [
          0,
          1
         ],
         "title": {
          "text": "dist_mean_sum"
         }
        }
       }
      },
      "text/html": [
       "<div>                            <div id=\"db9335d3-efa8-482b-8f4c-eca629c428e5\" class=\"plotly-graph-div\" style=\"height:600px; width:800px;\"></div>            <script type=\"text/javascript\">                require([\"plotly\"], function(Plotly) {                    window.PLOTLYENV=window.PLOTLYENV || {};                                    if (document.getElementById(\"db9335d3-efa8-482b-8f4c-eca629c428e5\")) {                    Plotly.newPlot(                        \"db9335d3-efa8-482b-8f4c-eca629c428e5\",                        [{\"hovertemplate\":\"nbseg_x=%{x}<br>dist_mean_sum=%{y}<extra></extra>\",\"legendgroup\":\"\",\"marker\":{\"color\":\"#636efa\",\"symbol\":\"circle\"},\"mode\":\"markers\",\"name\":\"\",\"orientation\":\"v\",\"showlegend\":false,\"x\":[1,2,3,4,5,6,7,8,9,10,11,12,13,14,15,16,17],\"xaxis\":\"x\",\"y\":[8.989134730528836,6.834584300236985,5.612532955604206,3.863615151528955,2.7343285357056044,2.7343285357056044,2.250580787682712,2.250580787682712,2.250580787682712,2.250580787682712,2.250580787682712,2.250580787682712,2.250580787682712,2.004629209104177,2.004629209104177,2.004629209104177,2.004629209104177],\"yaxis\":\"y\",\"type\":\"scatter\"}],                        {\"template\":{\"data\":{\"histogram2dcontour\":[{\"type\":\"histogram2dcontour\",\"colorbar\":{\"outlinewidth\":0,\"ticks\":\"\"},\"colorscale\":[[0.0,\"#0d0887\"],[0.1111111111111111,\"#46039f\"],[0.2222222222222222,\"#7201a8\"],[0.3333333333333333,\"#9c179e\"],[0.4444444444444444,\"#bd3786\"],[0.5555555555555556,\"#d8576b\"],[0.6666666666666666,\"#ed7953\"],[0.7777777777777778,\"#fb9f3a\"],[0.8888888888888888,\"#fdca26\"],[1.0,\"#f0f921\"]]}],\"choropleth\":[{\"type\":\"choropleth\",\"colorbar\":{\"outlinewidth\":0,\"ticks\":\"\"}}],\"histogram2d\":[{\"type\":\"histogram2d\",\"colorbar\":{\"outlinewidth\":0,\"ticks\":\"\"},\"colorscale\":[[0.0,\"#0d0887\"],[0.1111111111111111,\"#46039f\"],[0.2222222222222222,\"#7201a8\"],[0.3333333333333333,\"#9c179e\"],[0.4444444444444444,\"#bd3786\"],[0.5555555555555556,\"#d8576b\"],[0.6666666666666666,\"#ed7953\"],[0.7777777777777778,\"#fb9f3a\"],[0.8888888888888888,\"#fdca26\"],[1.0,\"#f0f921\"]]}],\"heatmap\":[{\"type\":\"heatmap\",\"colorbar\":{\"outlinewidth\":0,\"ticks\":\"\"},\"colorscale\":[[0.0,\"#0d0887\"],[0.1111111111111111,\"#46039f\"],[0.2222222222222222,\"#7201a8\"],[0.3333333333333333,\"#9c179e\"],[0.4444444444444444,\"#bd3786\"],[0.5555555555555556,\"#d8576b\"],[0.6666666666666666,\"#ed7953\"],[0.7777777777777778,\"#fb9f3a\"],[0.8888888888888888,\"#fdca26\"],[1.0,\"#f0f921\"]]}],\"heatmapgl\":[{\"type\":\"heatmapgl\",\"colorbar\":{\"outlinewidth\":0,\"ticks\":\"\"},\"colorscale\":[[0.0,\"#0d0887\"],[0.1111111111111111,\"#46039f\"],[0.2222222222222222,\"#7201a8\"],[0.3333333333333333,\"#9c179e\"],[0.4444444444444444,\"#bd3786\"],[0.5555555555555556,\"#d8576b\"],[0.6666666666666666,\"#ed7953\"],[0.7777777777777778,\"#fb9f3a\"],[0.8888888888888888,\"#fdca26\"],[1.0,\"#f0f921\"]]}],\"contourcarpet\":[{\"type\":\"contourcarpet\",\"colorbar\":{\"outlinewidth\":0,\"ticks\":\"\"}}],\"contour\":[{\"type\":\"contour\",\"colorbar\":{\"outlinewidth\":0,\"ticks\":\"\"},\"colorscale\":[[0.0,\"#0d0887\"],[0.1111111111111111,\"#46039f\"],[0.2222222222222222,\"#7201a8\"],[0.3333333333333333,\"#9c179e\"],[0.4444444444444444,\"#bd3786\"],[0.5555555555555556,\"#d8576b\"],[0.6666666666666666,\"#ed7953\"],[0.7777777777777778,\"#fb9f3a\"],[0.8888888888888888,\"#fdca26\"],[1.0,\"#f0f921\"]]}],\"surface\":[{\"type\":\"surface\",\"colorbar\":{\"outlinewidth\":0,\"ticks\":\"\"},\"colorscale\":[[0.0,\"#0d0887\"],[0.1111111111111111,\"#46039f\"],[0.2222222222222222,\"#7201a8\"],[0.3333333333333333,\"#9c179e\"],[0.4444444444444444,\"#bd3786\"],[0.5555555555555556,\"#d8576b\"],[0.6666666666666666,\"#ed7953\"],[0.7777777777777778,\"#fb9f3a\"],[0.8888888888888888,\"#fdca26\"],[1.0,\"#f0f921\"]]}],\"mesh3d\":[{\"type\":\"mesh3d\",\"colorbar\":{\"outlinewidth\":0,\"ticks\":\"\"}}],\"scatter\":[{\"fillpattern\":{\"fillmode\":\"overlay\",\"size\":10,\"solidity\":0.2},\"type\":\"scatter\"}],\"parcoords\":[{\"type\":\"parcoords\",\"line\":{\"colorbar\":{\"outlinewidth\":0,\"ticks\":\"\"}}}],\"scatterpolargl\":[{\"type\":\"scatterpolargl\",\"marker\":{\"colorbar\":{\"outlinewidth\":0,\"ticks\":\"\"}}}],\"bar\":[{\"error_x\":{\"color\":\"#2a3f5f\"},\"error_y\":{\"color\":\"#2a3f5f\"},\"marker\":{\"line\":{\"color\":\"#E5ECF6\",\"width\":0.5},\"pattern\":{\"fillmode\":\"overlay\",\"size\":10,\"solidity\":0.2}},\"type\":\"bar\"}],\"scattergeo\":[{\"type\":\"scattergeo\",\"marker\":{\"colorbar\":{\"outlinewidth\":0,\"ticks\":\"\"}}}],\"scatterpolar\":[{\"type\":\"scatterpolar\",\"marker\":{\"colorbar\":{\"outlinewidth\":0,\"ticks\":\"\"}}}],\"histogram\":[{\"marker\":{\"pattern\":{\"fillmode\":\"overlay\",\"size\":10,\"solidity\":0.2}},\"type\":\"histogram\"}],\"scattergl\":[{\"type\":\"scattergl\",\"marker\":{\"colorbar\":{\"outlinewidth\":0,\"ticks\":\"\"}}}],\"scatter3d\":[{\"type\":\"scatter3d\",\"line\":{\"colorbar\":{\"outlinewidth\":0,\"ticks\":\"\"}},\"marker\":{\"colorbar\":{\"outlinewidth\":0,\"ticks\":\"\"}}}],\"scattermapbox\":[{\"type\":\"scattermapbox\",\"marker\":{\"colorbar\":{\"outlinewidth\":0,\"ticks\":\"\"}}}],\"scatterternary\":[{\"type\":\"scatterternary\",\"marker\":{\"colorbar\":{\"outlinewidth\":0,\"ticks\":\"\"}}}],\"scattercarpet\":[{\"type\":\"scattercarpet\",\"marker\":{\"colorbar\":{\"outlinewidth\":0,\"ticks\":\"\"}}}],\"carpet\":[{\"aaxis\":{\"endlinecolor\":\"#2a3f5f\",\"gridcolor\":\"white\",\"linecolor\":\"white\",\"minorgridcolor\":\"white\",\"startlinecolor\":\"#2a3f5f\"},\"baxis\":{\"endlinecolor\":\"#2a3f5f\",\"gridcolor\":\"white\",\"linecolor\":\"white\",\"minorgridcolor\":\"white\",\"startlinecolor\":\"#2a3f5f\"},\"type\":\"carpet\"}],\"table\":[{\"cells\":{\"fill\":{\"color\":\"#EBF0F8\"},\"line\":{\"color\":\"white\"}},\"header\":{\"fill\":{\"color\":\"#C8D4E3\"},\"line\":{\"color\":\"white\"}},\"type\":\"table\"}],\"barpolar\":[{\"marker\":{\"line\":{\"color\":\"#E5ECF6\",\"width\":0.5},\"pattern\":{\"fillmode\":\"overlay\",\"size\":10,\"solidity\":0.2}},\"type\":\"barpolar\"}],\"pie\":[{\"automargin\":true,\"type\":\"pie\"}]},\"layout\":{\"autotypenumbers\":\"strict\",\"colorway\":[\"#636efa\",\"#EF553B\",\"#00cc96\",\"#ab63fa\",\"#FFA15A\",\"#19d3f3\",\"#FF6692\",\"#B6E880\",\"#FF97FF\",\"#FECB52\"],\"font\":{\"color\":\"#2a3f5f\"},\"hovermode\":\"closest\",\"hoverlabel\":{\"align\":\"left\"},\"paper_bgcolor\":\"white\",\"plot_bgcolor\":\"#E5ECF6\",\"polar\":{\"bgcolor\":\"#E5ECF6\",\"angularaxis\":{\"gridcolor\":\"white\",\"linecolor\":\"white\",\"ticks\":\"\"},\"radialaxis\":{\"gridcolor\":\"white\",\"linecolor\":\"white\",\"ticks\":\"\"}},\"ternary\":{\"bgcolor\":\"#E5ECF6\",\"aaxis\":{\"gridcolor\":\"white\",\"linecolor\":\"white\",\"ticks\":\"\"},\"baxis\":{\"gridcolor\":\"white\",\"linecolor\":\"white\",\"ticks\":\"\"},\"caxis\":{\"gridcolor\":\"white\",\"linecolor\":\"white\",\"ticks\":\"\"}},\"coloraxis\":{\"colorbar\":{\"outlinewidth\":0,\"ticks\":\"\"}},\"colorscale\":{\"sequential\":[[0.0,\"#0d0887\"],[0.1111111111111111,\"#46039f\"],[0.2222222222222222,\"#7201a8\"],[0.3333333333333333,\"#9c179e\"],[0.4444444444444444,\"#bd3786\"],[0.5555555555555556,\"#d8576b\"],[0.6666666666666666,\"#ed7953\"],[0.7777777777777778,\"#fb9f3a\"],[0.8888888888888888,\"#fdca26\"],[1.0,\"#f0f921\"]],\"sequentialminus\":[[0.0,\"#0d0887\"],[0.1111111111111111,\"#46039f\"],[0.2222222222222222,\"#7201a8\"],[0.3333333333333333,\"#9c179e\"],[0.4444444444444444,\"#bd3786\"],[0.5555555555555556,\"#d8576b\"],[0.6666666666666666,\"#ed7953\"],[0.7777777777777778,\"#fb9f3a\"],[0.8888888888888888,\"#fdca26\"],[1.0,\"#f0f921\"]],\"diverging\":[[0,\"#8e0152\"],[0.1,\"#c51b7d\"],[0.2,\"#de77ae\"],[0.3,\"#f1b6da\"],[0.4,\"#fde0ef\"],[0.5,\"#f7f7f7\"],[0.6,\"#e6f5d0\"],[0.7,\"#b8e186\"],[0.8,\"#7fbc41\"],[0.9,\"#4d9221\"],[1,\"#276419\"]]},\"xaxis\":{\"gridcolor\":\"white\",\"linecolor\":\"white\",\"ticks\":\"\",\"title\":{\"standoff\":15},\"zerolinecolor\":\"white\",\"automargin\":true,\"zerolinewidth\":2},\"yaxis\":{\"gridcolor\":\"white\",\"linecolor\":\"white\",\"ticks\":\"\",\"title\":{\"standoff\":15},\"zerolinecolor\":\"white\",\"automargin\":true,\"zerolinewidth\":2},\"scene\":{\"xaxis\":{\"backgroundcolor\":\"#E5ECF6\",\"gridcolor\":\"white\",\"linecolor\":\"white\",\"showbackground\":true,\"ticks\":\"\",\"zerolinecolor\":\"white\",\"gridwidth\":2},\"yaxis\":{\"backgroundcolor\":\"#E5ECF6\",\"gridcolor\":\"white\",\"linecolor\":\"white\",\"showbackground\":true,\"ticks\":\"\",\"zerolinecolor\":\"white\",\"gridwidth\":2},\"zaxis\":{\"backgroundcolor\":\"#E5ECF6\",\"gridcolor\":\"white\",\"linecolor\":\"white\",\"showbackground\":true,\"ticks\":\"\",\"zerolinecolor\":\"white\",\"gridwidth\":2}},\"shapedefaults\":{\"line\":{\"color\":\"#2a3f5f\"}},\"annotationdefaults\":{\"arrowcolor\":\"#2a3f5f\",\"arrowhead\":0,\"arrowwidth\":1},\"geo\":{\"bgcolor\":\"white\",\"landcolor\":\"#E5ECF6\",\"subunitcolor\":\"white\",\"showland\":true,\"showlakes\":true,\"lakecolor\":\"white\"},\"title\":{\"x\":0.05},\"mapbox\":{\"style\":\"light\"}}},\"xaxis\":{\"anchor\":\"y\",\"domain\":[0.0,1.0],\"title\":{\"text\":\"nbseg_x\"}},\"yaxis\":{\"anchor\":\"x\",\"domain\":[0.0,1.0],\"title\":{\"text\":\"dist_mean_sum\"}},\"legend\":{\"tracegroupgap\":0},\"margin\":{\"t\":60},\"height\":600,\"width\":800},                        {\"responsive\": true}                    ).then(function(){\n",
       "                            \n",
       "var gd = document.getElementById('db9335d3-efa8-482b-8f4c-eca629c428e5');\n",
       "var x = new MutationObserver(function (mutations, observer) {{\n",
       "        var display = window.getComputedStyle(gd).display;\n",
       "        if (!display || display === 'none') {{\n",
       "            console.log([gd, 'removed!']);\n",
       "            Plotly.purge(gd);\n",
       "            observer.disconnect();\n",
       "        }}\n",
       "}});\n",
       "\n",
       "// Listen for the removal of the full notebook cells\n",
       "var notebookContainer = gd.closest('#notebook-container');\n",
       "if (notebookContainer) {{\n",
       "    x.observe(notebookContainer, {childList: true});\n",
       "}}\n",
       "\n",
       "// Listen for the clearing of the current output cell\n",
       "var outputEl = gd.closest('.output');\n",
       "if (outputEl) {{\n",
       "    x.observe(outputEl, {childList: true});\n",
       "}}\n",
       "\n",
       "                        })                };                });            </script>        </div>"
      ]
     },
     "metadata": {},
     "output_type": "display_data"
    }
   ],
   "source": [
    "import plotly.express as px\n",
    "fig = px.scatter(df_dist_clust_inertia, x='nbseg_x', y='dist_mean_sum', width=800, height=600)\n",
    "fig"
   ]
  },
  {
   "cell_type": "code",
   "execution_count": 127,
   "id": "1cdd814a",
   "metadata": {},
   "outputs": [
    {
     "name": "stdout",
     "output_type": "stream",
     "text": [
      "7\n"
     ]
    },
    {
     "data": {
      "application/vnd.jupyter.widget-view+json": {
       "model_id": "9eddc892cf834170a8608796e74c54bb"
      },
      "text/plain": [
       "                           term  cluster  nbseg\n",
       "11                       combat        1      7\n",
       "1                   agriculteur        1      7\n",
       "21                        firme        1      7\n",
       "44                     tribunal        1      7\n",
       "25                        lasso        1      7\n",
       "29                     monsanto        1      7\n",
       "32                paul françois        1      7\n",
       "36                       procès        1      7\n",
       "13         céréalier charentais        1      7\n",
       "23          générations futures        2      7\n",
       "22                      futures        2      7\n",
       "2        agriculture biologique        2      7\n",
       "4                      aliments        2      7\n",
       "40        résidus de pesticides        2      7\n",
       "49                       études        2      7\n",
       "9                  associations        2      7\n",
       "39                      résidus        2      7\n",
       "33                   pesticides        2      7\n",
       "8                     arguments        2      7\n",
       "43        sécurité des aliments        3      7\n",
       "10          autorité européenne        3      7\n",
       "42                     syngenta        3      7\n",
       "18                         efsa        3      7\n",
       "24                         inra        4      7\n",
       "0                      abeilles        4      7\n",
       "37                    recherche        4      7\n",
       "27                   martinique        5      7\n",
       "16                   dérogation        5      7\n",
       "15                      docteur        5      7\n",
       "26                malformations        6      7\n",
       "47                    épandages        6      7\n",
       "48      épandages de pesticides        6      7\n",
       "28         monde selon monsanto        7      7\n",
       "19                   extinction        7      7\n",
       "30                          pac        7      7\n",
       "31                    parlement        7      7\n",
       "17                        effet        7      7\n",
       "34                      planète        7      7\n",
       "35                    pollution        7      7\n",
       "38                      roundup        7      7\n",
       "41                        sucre        7      7\n",
       "7                    apiculture        7      7\n",
       "12                         cour        7      7\n",
       "6   alternatives aux pesticides        7      7\n",
       "5                  alternatives        7      7\n",
       "3                    agrochimie        7      7\n",
       "45                     victimes        7      7\n",
       "46       victimes de pesticides        7      7\n",
       "20                       femmes        7      7\n",
       "14                   céréaliers        7      7"
      ]
     },
     "metadata": {},
     "output_type": "display_data"
    }
   ],
   "source": [
    "from kneed import KneeLocator\n",
    "x=df_dist_clust_inertia['nbseg_x'].values\n",
    "y=df_dist_clust_inertia['dist_mean_sum'].values\n",
    "kn = KneeLocator(x, y, curve='convex', direction='decreasing')\n",
    "nb_segm_optimal=kn.knee\n",
    "print(nb_segm_optimal)\n",
    "\n",
    "dfcost = dfcost.loc[dfcost['nbseg'] == nb_segm_optimal]\n",
    "dfcost = dfcost.sort_values(by=['cluster'], ascending=[True])\n",
    "\n",
    "dfcost = dfcost.loc[dfcost['nbseg'] == nb_segm_optimal]\n",
    "dfcost = dfcost.sort_values(by=['cluster'], ascending=[True])\n",
    "dfcost"
   ]
  },
  {
   "cell_type": "code",
   "execution_count": 129,
   "id": "f6f888e5",
   "metadata": {},
   "outputs": [
    {
     "data": {
      "image/png": "[encoded data removed]",
      "text/plain": [
       "<Figure size 720x1440 with 1 Axes>"
      ]
     },
     "metadata": {
      "needs_background": "light"
     },
     "output_type": "display_data"
    }
   ],
   "source": [
    "import scipy.spatial as sp, scipy.cluster.hierarchy as hc\n",
    "\n",
    "fig = plt.figure(1, figsize=(10, 20))\n",
    "#th = 1.63\n",
    "row_linkage = linkage(sp.distance.pdist(similarity), method='complete')# for x in (t.values, rho_terms.values.T))\n",
    "dn = dendrogram(row_linkage, leaf_font_size= 12, labels=list_name, orientation = \"left\")\n",
    "#plt.axvline(x=th, c='grey', lw=1, linestyle='dashed')\n",
    "\n",
    "cluster_idx = scipy.cluster.hierarchy.fcluster(row_linkage,t= th,criterion=\"distance\")\n",
    "plt.savefig(f\"clustermap/dendogram_{domain}_{segment}.png\")"
   ]
  },
  {
   "cell_type": "code",
   "execution_count": 92,
   "id": "2ae48b2b",
   "metadata": {},
   "outputs": [
    {
     "name": "stdout",
     "output_type": "stream",
     "text": [
      "                          term  cluster\n",
      "2          autorité européenne        1\n",
      "13                        efsa        1\n",
      "40       sécurité des aliments        1\n",
      "1                     abeilles        2\n",
      "34                      ruches        2\n",
      "7          colonies d'abeilles        2\n",
      "41           taux de mortalité        2\n",
      "22                   mortalité        2\n",
      "47                   vignerons        3\n",
      "48                      vignes        3\n",
      "9                  corrélation        4\n",
      "19               malformations        4\n",
      "42           terre de diatomée        5\n",
      "43                      traces        5\n",
      "15         grande distribution        5\n",
      "16                  greenpeace        5\n",
      "23                   moustique        5\n",
      "20                      milieu        5\n",
      "0                 @genefutures        5\n",
      "29                  pesticides        6\n",
      "37               scientifiques        6\n",
      "36                       santé        6\n",
      "38                  substances        6\n",
      "45                    troubles        6\n",
      "30          produits chimiques        6\n",
      "28  perturbateurs endocriniens        6\n",
      "49                      études        6\n",
      "14                 expositions        6\n",
      "6                   chercheuse        6\n",
      "3                      cancers        7\n",
      "31                   recherche        7\n",
      "46                     viandes        7\n",
      "26                         oms        7\n",
      "4                  cancérogène        7\n",
      "5         centre international        7\n",
      "25                         ogm        8\n",
      "21                    monsanto        8\n",
      "39                    syngenta        8\n",
      "11                  désherbant        9\n",
      "32                     roundup        9\n",
      "33         roundup de monsanto        9\n",
      "17                  jardinerie        9\n",
      "12                    ecologie        9\n",
      "27               paul françois       10\n",
      "10                cour d'appel       10\n",
      "18                       lasso       10\n",
      "44                   triskalia       11\n",
      "35                    salariés       11\n",
      "8         coopérative agricole       11\n",
      "24            nutréa-triskalia       11\n"
     ]
    }
   ],
   "source": [
    "\n",
    "cluster = [y for y in cluster_idx]\n",
    "    \n",
    "new_df = pd.DataFrame(data = {\"term\": list_name, \"cluster\": cluster})\n",
    "new_df.sort_values(\"cluster\", ascending = True)\n",
    "\n",
    "dic_cluster = {1 : \"Alternatives aux pesticides\", \n",
    "               2 : \"Contre le monde de Monsanto\",  \n",
    "               3 : \"Médecins\", \n",
    "               4 :\"Résidus chimiques\",\n",
    "               5 : \"Expertise et risque sanitaire\",\n",
    "               6 : \"Les systèmes agricoles en question\",\n",
    "               7 : \"Abeilles et néonicotinoïdes\",\n",
    "               8 : \"OGM et herbicides\",\n",
    "               9 : \"Générations futures\",\n",
    "               10 : \"Les résidus de pesticides dans l'alimentation\"\n",
    "              }\n",
    "\n",
    "print(new_df.sort_values(\"cluster\", ascending = True))\n",
    "#print(len(dic_cluster), len(cluster))\n"
   ]
  },
  {
   "cell_type": "code",
   "execution_count": null,
   "id": "8bf0353e",
   "metadata": {
    "scrolled": true
   },
   "outputs": [],
   "source": [
    "nombre_texts = len(df3[\"text\"])\n",
    "start_segment = df1[\"start_segment\"].iloc[1]#.strftime(\"%Y-%m-%d\")\n",
    "end_segment = df1[\"end_segment\"].iloc[1]#.strftime(\"%Y-%m-%d\")\n",
    "\n",
    "for i, text in enumerate(df3[\"text\"]):\n",
    "    doc_id = df3[\"doc_id\"].iloc[i]\n",
    "    list_term = [x for x in df1[\"term\"].loc[(df1[\"doc_id\"] == doc_id)].unique()]\n",
    "    term_to_search = ['victimes']\n",
    "    nb_term_to_search = [x for x in term_to_search if x in list_term]\n",
    "    \n",
    "    if len(nb_term_to_search) >= 0:\n",
    "        #Thematique = \"Tous contre Monsanto\"\n",
    "        #df1.loc[(df1[\"doc_id\"].str.contains(doc_id) == True), \"Subject\"] = Thematique\n",
    "        list_top50_term = [x for x in df1[\"term\"].loc[(df1[\"doc_id\"] == doc_id) & (df1[\"in_top50_term\"] == 1)].unique()]\n",
    "        list_top50_term_absent = set(specific_terms) - set(list_top50_term)\n",
    "        date = df3[\"date\"].iloc[i]#.strftime(\"%Y-%m-%d\")\n",
    "        auteur = df3[\"source\"].iloc[i]\n",
    "        display(HTML(f\"<h2 style='text-align:center;'> Texte {doc_id} ({i+1} sur {nombre_texts})</h2>\"))\n",
    "        display(HTML(f\"<strong>Segment :</strong> {segment} ({start_segment} ; {end_segment})\"))\n",
    "        display(HTML(f\"<strong>Date :</strong> {date}\"))\n",
    "        display(HTML(f\"<strong>Auteur :</strong> {auteur} \\n\"))\n",
    "        print(f\"Termes indexés : {list_term} \\n\")\n",
    "        print(f\"Termes spécifiques présents : {list_top50_term} \\n\")\n",
    "        print(f\"Termes spécifiques absents : {list_top50_term_absent} \\n\")\n",
    "        #display(HTML(f\"<strong>Thématique :</strong> {Thematique} \\n\"))\n",
    "        try:\n",
    "            text1 = text\n",
    "            for j, term in enumerate(list_term):\n",
    "                if term not in list_top20_term:\n",
    "                    text1 = re.sub(term, f'<mark style=\"background-color:yellow\">{term}</mark>', text1, flags=re.I)  \n",
    "                else:\n",
    "                    text1 = re.sub(term, f'<mark style=\"background-color:pink\">{term}</mark>', text1, flags=re.I)  \n",
    "            display(HTML(f'{text1}'))\n",
    "        except:\n",
    "            print(f\"{text} \\n\")\n",
    "    else:\n",
    "        pass\n",
    "   "
   ]
  },
  {
   "cell_type": "code",
   "execution_count": 79,
   "id": "2c2939a5",
   "metadata": {},
   "outputs": [
    {
     "data": {
      "text/html": [
       "<div>\n",
       "<style scoped>\n",
       "    .dataframe tbody tr th:only-of-type {\n",
       "        vertical-align: middle;\n",
       "    }\n",
       "\n",
       "    .dataframe tbody tr th {\n",
       "        vertical-align: top;\n",
       "    }\n",
       "\n",
       "    .dataframe thead th {\n",
       "        text-align: right;\n",
       "    }\n",
       "</style>\n",
       "<table border=\"1\" class=\"dataframe\">\n",
       "  <thead>\n",
       "    <tr style=\"text-align: right;\">\n",
       "      <th></th>\n",
       "      <th>term</th>\n",
       "      <th>cluster</th>\n",
       "      <th>cluster_name</th>\n",
       "      <th>origin</th>\n",
       "      <th>segm</th>\n",
       "    </tr>\n",
       "  </thead>\n",
       "  <tbody>\n",
       "    <tr>\n",
       "      <th>3</th>\n",
       "      <td>alternatives</td>\n",
       "      <td>1</td>\n",
       "      <td>Alternatives aux pesticides</td>\n",
       "      <td>facebook</td>\n",
       "      <td>3</td>\n",
       "    </tr>\n",
       "    <tr>\n",
       "      <th>4</th>\n",
       "      <td>alternatives aux pesticides</td>\n",
       "      <td>1</td>\n",
       "      <td>Alternatives aux pesticides</td>\n",
       "      <td>facebook</td>\n",
       "      <td>3</td>\n",
       "    </tr>\n",
       "    <tr>\n",
       "      <th>24</th>\n",
       "      <td>nature</td>\n",
       "      <td>2</td>\n",
       "      <td>Contre le monde de Monsanto</td>\n",
       "      <td>facebook</td>\n",
       "      <td>3</td>\n",
       "    </tr>\n",
       "    <tr>\n",
       "      <th>22</th>\n",
       "      <td>monsanto</td>\n",
       "      <td>2</td>\n",
       "      <td>Contre le monde de Monsanto</td>\n",
       "      <td>facebook</td>\n",
       "      <td>3</td>\n",
       "    </tr>\n",
       "    <tr>\n",
       "      <th>25</th>\n",
       "      <td>ogm</td>\n",
       "      <td>2</td>\n",
       "      <td>Contre le monde de Monsanto</td>\n",
       "      <td>facebook</td>\n",
       "      <td>3</td>\n",
       "    </tr>\n",
       "    <tr>\n",
       "      <th>6</th>\n",
       "      <td>citoyens</td>\n",
       "      <td>2</td>\n",
       "      <td>Contre le monde de Monsanto</td>\n",
       "      <td>facebook</td>\n",
       "      <td>3</td>\n",
       "    </tr>\n",
       "    <tr>\n",
       "      <th>7</th>\n",
       "      <td>collectifs</td>\n",
       "      <td>2</td>\n",
       "      <td>Contre le monde de Monsanto</td>\n",
       "      <td>facebook</td>\n",
       "      <td>3</td>\n",
       "    </tr>\n",
       "    <tr>\n",
       "      <th>21</th>\n",
       "      <td>monde</td>\n",
       "      <td>2</td>\n",
       "      <td>Contre le monde de Monsanto</td>\n",
       "      <td>facebook</td>\n",
       "      <td>3</td>\n",
       "    </tr>\n",
       "    <tr>\n",
       "      <th>39</th>\n",
       "      <td>résistances</td>\n",
       "      <td>2</td>\n",
       "      <td>Contre le monde de Monsanto</td>\n",
       "      <td>facebook</td>\n",
       "      <td>3</td>\n",
       "    </tr>\n",
       "    <tr>\n",
       "      <th>23</th>\n",
       "      <td>médecin</td>\n",
       "      <td>3</td>\n",
       "      <td>Médecins</td>\n",
       "      <td>facebook</td>\n",
       "      <td>3</td>\n",
       "    </tr>\n",
       "    <tr>\n",
       "      <th>37</th>\n",
       "      <td>résidus chimiques</td>\n",
       "      <td>4</td>\n",
       "      <td>Résidus chimiques</td>\n",
       "      <td>facebook</td>\n",
       "      <td>3</td>\n",
       "    </tr>\n",
       "    <tr>\n",
       "      <th>26</th>\n",
       "      <td>pesticides</td>\n",
       "      <td>5</td>\n",
       "      <td>Expertise et risque sanitaire</td>\n",
       "      <td>facebook</td>\n",
       "      <td>3</td>\n",
       "    </tr>\n",
       "    <tr>\n",
       "      <th>40</th>\n",
       "      <td>santé</td>\n",
       "      <td>5</td>\n",
       "      <td>Expertise et risque sanitaire</td>\n",
       "      <td>facebook</td>\n",
       "      <td>3</td>\n",
       "    </tr>\n",
       "    <tr>\n",
       "      <th>41</th>\n",
       "      <td>sciences</td>\n",
       "      <td>5</td>\n",
       "      <td>Expertise et risque sanitaire</td>\n",
       "      <td>facebook</td>\n",
       "      <td>3</td>\n",
       "    </tr>\n",
       "    <tr>\n",
       "      <th>42</th>\n",
       "      <td>scientifiques</td>\n",
       "      <td>5</td>\n",
       "      <td>Expertise et risque sanitaire</td>\n",
       "      <td>facebook</td>\n",
       "      <td>3</td>\n",
       "    </tr>\n",
       "    <tr>\n",
       "      <th>43</th>\n",
       "      <td>substances</td>\n",
       "      <td>5</td>\n",
       "      <td>Expertise et risque sanitaire</td>\n",
       "      <td>facebook</td>\n",
       "      <td>3</td>\n",
       "    </tr>\n",
       "    <tr>\n",
       "      <th>34</th>\n",
       "      <td>recherche</td>\n",
       "      <td>5</td>\n",
       "      <td>Expertise et risque sanitaire</td>\n",
       "      <td>facebook</td>\n",
       "      <td>3</td>\n",
       "    </tr>\n",
       "    <tr>\n",
       "      <th>19</th>\n",
       "      <td>maladie</td>\n",
       "      <td>5</td>\n",
       "      <td>Expertise et risque sanitaire</td>\n",
       "      <td>facebook</td>\n",
       "      <td>3</td>\n",
       "    </tr>\n",
       "    <tr>\n",
       "      <th>48</th>\n",
       "      <td>études</td>\n",
       "      <td>5</td>\n",
       "      <td>Expertise et risque sanitaire</td>\n",
       "      <td>facebook</td>\n",
       "      <td>3</td>\n",
       "    </tr>\n",
       "    <tr>\n",
       "      <th>13</th>\n",
       "      <td>effet</td>\n",
       "      <td>5</td>\n",
       "      <td>Expertise et risque sanitaire</td>\n",
       "      <td>facebook</td>\n",
       "      <td>3</td>\n",
       "    </tr>\n",
       "    <tr>\n",
       "      <th>5</th>\n",
       "      <td>cancers</td>\n",
       "      <td>5</td>\n",
       "      <td>Expertise et risque sanitaire</td>\n",
       "      <td>facebook</td>\n",
       "      <td>3</td>\n",
       "    </tr>\n",
       "    <tr>\n",
       "      <th>33</th>\n",
       "      <td>production</td>\n",
       "      <td>6</td>\n",
       "      <td>Les systèmes agricoles en question</td>\n",
       "      <td>facebook</td>\n",
       "      <td>3</td>\n",
       "    </tr>\n",
       "    <tr>\n",
       "      <th>46</th>\n",
       "      <td>traitements</td>\n",
       "      <td>6</td>\n",
       "      <td>Les systèmes agricoles en question</td>\n",
       "      <td>facebook</td>\n",
       "      <td>3</td>\n",
       "    </tr>\n",
       "    <tr>\n",
       "      <th>45</th>\n",
       "      <td>systèmes</td>\n",
       "      <td>6</td>\n",
       "      <td>Les systèmes agricoles en question</td>\n",
       "      <td>facebook</td>\n",
       "      <td>3</td>\n",
       "    </tr>\n",
       "    <tr>\n",
       "      <th>1</th>\n",
       "      <td>agriculteur</td>\n",
       "      <td>6</td>\n",
       "      <td>Les systèmes agricoles en question</td>\n",
       "      <td>facebook</td>\n",
       "      <td>3</td>\n",
       "    </tr>\n",
       "    <tr>\n",
       "      <th>47</th>\n",
       "      <td>travail</td>\n",
       "      <td>6</td>\n",
       "      <td>Les systèmes agricoles en question</td>\n",
       "      <td>facebook</td>\n",
       "      <td>3</td>\n",
       "    </tr>\n",
       "    <tr>\n",
       "      <th>12</th>\n",
       "      <td>développement</td>\n",
       "      <td>6</td>\n",
       "      <td>Les systèmes agricoles en question</td>\n",
       "      <td>facebook</td>\n",
       "      <td>3</td>\n",
       "    </tr>\n",
       "    <tr>\n",
       "      <th>28</th>\n",
       "      <td>politique</td>\n",
       "      <td>6</td>\n",
       "      <td>Les systèmes agricoles en question</td>\n",
       "      <td>facebook</td>\n",
       "      <td>3</td>\n",
       "    </tr>\n",
       "    <tr>\n",
       "      <th>29</th>\n",
       "      <td>pollution</td>\n",
       "      <td>6</td>\n",
       "      <td>Les systèmes agricoles en question</td>\n",
       "      <td>facebook</td>\n",
       "      <td>3</td>\n",
       "    </tr>\n",
       "    <tr>\n",
       "      <th>30</th>\n",
       "      <td>population</td>\n",
       "      <td>6</td>\n",
       "      <td>Les systèmes agricoles en question</td>\n",
       "      <td>facebook</td>\n",
       "      <td>3</td>\n",
       "    </tr>\n",
       "    <tr>\n",
       "      <th>32</th>\n",
       "      <td>problème</td>\n",
       "      <td>6</td>\n",
       "      <td>Les systèmes agricoles en question</td>\n",
       "      <td>facebook</td>\n",
       "      <td>3</td>\n",
       "    </tr>\n",
       "    <tr>\n",
       "      <th>18</th>\n",
       "      <td>loi</td>\n",
       "      <td>6</td>\n",
       "      <td>Les systèmes agricoles en question</td>\n",
       "      <td>facebook</td>\n",
       "      <td>3</td>\n",
       "    </tr>\n",
       "    <tr>\n",
       "      <th>9</th>\n",
       "      <td>consommateurs</td>\n",
       "      <td>6</td>\n",
       "      <td>Les systèmes agricoles en question</td>\n",
       "      <td>facebook</td>\n",
       "      <td>3</td>\n",
       "    </tr>\n",
       "    <tr>\n",
       "      <th>44</th>\n",
       "      <td>syngenta</td>\n",
       "      <td>7</td>\n",
       "      <td>Abeilles et néonicotinoïdes</td>\n",
       "      <td>facebook</td>\n",
       "      <td>3</td>\n",
       "    </tr>\n",
       "    <tr>\n",
       "      <th>8</th>\n",
       "      <td>commission</td>\n",
       "      <td>7</td>\n",
       "      <td>Abeilles et néonicotinoïdes</td>\n",
       "      <td>facebook</td>\n",
       "      <td>3</td>\n",
       "    </tr>\n",
       "    <tr>\n",
       "      <th>0</th>\n",
       "      <td>abeilles</td>\n",
       "      <td>7</td>\n",
       "      <td>Abeilles et néonicotinoïdes</td>\n",
       "      <td>facebook</td>\n",
       "      <td>3</td>\n",
       "    </tr>\n",
       "    <tr>\n",
       "      <th>10</th>\n",
       "      <td>culture</td>\n",
       "      <td>8</td>\n",
       "      <td>OGM et herbicides</td>\n",
       "      <td>facebook</td>\n",
       "      <td>3</td>\n",
       "    </tr>\n",
       "    <tr>\n",
       "      <th>11</th>\n",
       "      <td>cultures de maïs</td>\n",
       "      <td>8</td>\n",
       "      <td>OGM et herbicides</td>\n",
       "      <td>facebook</td>\n",
       "      <td>3</td>\n",
       "    </tr>\n",
       "    <tr>\n",
       "      <th>27</th>\n",
       "      <td>plantes</td>\n",
       "      <td>8</td>\n",
       "      <td>OGM et herbicides</td>\n",
       "      <td>facebook</td>\n",
       "      <td>3</td>\n",
       "    </tr>\n",
       "    <tr>\n",
       "      <th>20</th>\n",
       "      <td>maïs</td>\n",
       "      <td>8</td>\n",
       "      <td>OGM et herbicides</td>\n",
       "      <td>facebook</td>\n",
       "      <td>3</td>\n",
       "    </tr>\n",
       "    <tr>\n",
       "      <th>35</th>\n",
       "      <td>roundup</td>\n",
       "      <td>8</td>\n",
       "      <td>OGM et herbicides</td>\n",
       "      <td>facebook</td>\n",
       "      <td>3</td>\n",
       "    </tr>\n",
       "    <tr>\n",
       "      <th>17</th>\n",
       "      <td>herbicide</td>\n",
       "      <td>8</td>\n",
       "      <td>OGM et herbicides</td>\n",
       "      <td>facebook</td>\n",
       "      <td>3</td>\n",
       "    </tr>\n",
       "    <tr>\n",
       "      <th>15</th>\n",
       "      <td>futures</td>\n",
       "      <td>9</td>\n",
       "      <td>Générations futures</td>\n",
       "      <td>facebook</td>\n",
       "      <td>3</td>\n",
       "    </tr>\n",
       "    <tr>\n",
       "      <th>16</th>\n",
       "      <td>génération</td>\n",
       "      <td>9</td>\n",
       "      <td>Générations futures</td>\n",
       "      <td>facebook</td>\n",
       "      <td>3</td>\n",
       "    </tr>\n",
       "    <tr>\n",
       "      <th>36</th>\n",
       "      <td>résidus</td>\n",
       "      <td>10</td>\n",
       "      <td>Les résidus de pesticides dans l'alimentation</td>\n",
       "      <td>facebook</td>\n",
       "      <td>3</td>\n",
       "    </tr>\n",
       "    <tr>\n",
       "      <th>38</th>\n",
       "      <td>résidus de pesticides</td>\n",
       "      <td>10</td>\n",
       "      <td>Les résidus de pesticides dans l'alimentation</td>\n",
       "      <td>facebook</td>\n",
       "      <td>3</td>\n",
       "    </tr>\n",
       "    <tr>\n",
       "      <th>31</th>\n",
       "      <td>pratiques</td>\n",
       "      <td>10</td>\n",
       "      <td>Les résidus de pesticides dans l'alimentation</td>\n",
       "      <td>facebook</td>\n",
       "      <td>3</td>\n",
       "    </tr>\n",
       "    <tr>\n",
       "      <th>2</th>\n",
       "      <td>aliments</td>\n",
       "      <td>10</td>\n",
       "      <td>Les résidus de pesticides dans l'alimentation</td>\n",
       "      <td>facebook</td>\n",
       "      <td>3</td>\n",
       "    </tr>\n",
       "    <tr>\n",
       "      <th>14</th>\n",
       "      <td>foetus</td>\n",
       "      <td>10</td>\n",
       "      <td>Les résidus de pesticides dans l'alimentation</td>\n",
       "      <td>facebook</td>\n",
       "      <td>3</td>\n",
       "    </tr>\n",
       "  </tbody>\n",
       "</table>\n",
       "</div>"
      ],
      "text/plain": [
       "                           term  cluster  \\\n",
       "3                  alternatives        1   \n",
       "4   alternatives aux pesticides        1   \n",
       "24                       nature        2   \n",
       "22                     monsanto        2   \n",
       "25                          ogm        2   \n",
       "6                      citoyens        2   \n",
       "7                    collectifs        2   \n",
       "21                        monde        2   \n",
       "39                  résistances        2   \n",
       "23                      médecin        3   \n",
       "37            résidus chimiques        4   \n",
       "26                   pesticides        5   \n",
       "40                        santé        5   \n",
       "41                     sciences        5   \n",
       "42                scientifiques        5   \n",
       "43                   substances        5   \n",
       "34                    recherche        5   \n",
       "19                      maladie        5   \n",
       "48                       études        5   \n",
       "13                        effet        5   \n",
       "5                       cancers        5   \n",
       "33                   production        6   \n",
       "46                  traitements        6   \n",
       "45                     systèmes        6   \n",
       "1                   agriculteur        6   \n",
       "47                      travail        6   \n",
       "12                développement        6   \n",
       "28                    politique        6   \n",
       "29                    pollution        6   \n",
       "30                   population        6   \n",
       "32                     problème        6   \n",
       "18                          loi        6   \n",
       "9                 consommateurs        6   \n",
       "44                     syngenta        7   \n",
       "8                    commission        7   \n",
       "0                      abeilles        7   \n",
       "10                      culture        8   \n",
       "11             cultures de maïs        8   \n",
       "27                      plantes        8   \n",
       "20                         maïs        8   \n",
       "35                      roundup        8   \n",
       "17                    herbicide        8   \n",
       "15                      futures        9   \n",
       "16                   génération        9   \n",
       "36                      résidus       10   \n",
       "38        résidus de pesticides       10   \n",
       "31                    pratiques       10   \n",
       "2                      aliments       10   \n",
       "14                       foetus       10   \n",
       "\n",
       "                                     cluster_name    origin  segm  \n",
       "3                     Alternatives aux pesticides  facebook     3  \n",
       "4                     Alternatives aux pesticides  facebook     3  \n",
       "24                    Contre le monde de Monsanto  facebook     3  \n",
       "22                    Contre le monde de Monsanto  facebook     3  \n",
       "25                    Contre le monde de Monsanto  facebook     3  \n",
       "6                     Contre le monde de Monsanto  facebook     3  \n",
       "7                     Contre le monde de Monsanto  facebook     3  \n",
       "21                    Contre le monde de Monsanto  facebook     3  \n",
       "39                    Contre le monde de Monsanto  facebook     3  \n",
       "23                                       Médecins  facebook     3  \n",
       "37                              Résidus chimiques  facebook     3  \n",
       "26                  Expertise et risque sanitaire  facebook     3  \n",
       "40                  Expertise et risque sanitaire  facebook     3  \n",
       "41                  Expertise et risque sanitaire  facebook     3  \n",
       "42                  Expertise et risque sanitaire  facebook     3  \n",
       "43                  Expertise et risque sanitaire  facebook     3  \n",
       "34                  Expertise et risque sanitaire  facebook     3  \n",
       "19                  Expertise et risque sanitaire  facebook     3  \n",
       "48                  Expertise et risque sanitaire  facebook     3  \n",
       "13                  Expertise et risque sanitaire  facebook     3  \n",
       "5                   Expertise et risque sanitaire  facebook     3  \n",
       "33             Les systèmes agricoles en question  facebook     3  \n",
       "46             Les systèmes agricoles en question  facebook     3  \n",
       "45             Les systèmes agricoles en question  facebook     3  \n",
       "1              Les systèmes agricoles en question  facebook     3  \n",
       "47             Les systèmes agricoles en question  facebook     3  \n",
       "12             Les systèmes agricoles en question  facebook     3  \n",
       "28             Les systèmes agricoles en question  facebook     3  \n",
       "29             Les systèmes agricoles en question  facebook     3  \n",
       "30             Les systèmes agricoles en question  facebook     3  \n",
       "32             Les systèmes agricoles en question  facebook     3  \n",
       "18             Les systèmes agricoles en question  facebook     3  \n",
       "9              Les systèmes agricoles en question  facebook     3  \n",
       "44                    Abeilles et néonicotinoïdes  facebook     3  \n",
       "8                     Abeilles et néonicotinoïdes  facebook     3  \n",
       "0                     Abeilles et néonicotinoïdes  facebook     3  \n",
       "10                              OGM et herbicides  facebook     3  \n",
       "11                              OGM et herbicides  facebook     3  \n",
       "27                              OGM et herbicides  facebook     3  \n",
       "20                              OGM et herbicides  facebook     3  \n",
       "35                              OGM et herbicides  facebook     3  \n",
       "17                              OGM et herbicides  facebook     3  \n",
       "15                            Générations futures  facebook     3  \n",
       "16                            Générations futures  facebook     3  \n",
       "36  Les résidus de pesticides dans l'alimentation  facebook     3  \n",
       "38  Les résidus de pesticides dans l'alimentation  facebook     3  \n",
       "31  Les résidus de pesticides dans l'alimentation  facebook     3  \n",
       "2   Les résidus de pesticides dans l'alimentation  facebook     3  \n",
       "14  Les résidus de pesticides dans l'alimentation  facebook     3  "
      ]
     },
     "execution_count": 79,
     "metadata": {},
     "output_type": "execute_result"
    }
   ],
   "source": [
    "new_df[\"cluster_name\"] = new_df['cluster'].map(dic_cluster)  \n",
    "new_df[\"origin\"] = domain\n",
    "new_df[\"segm\"] = segment\n",
    "new_df.sort_values(\"cluster\", ascending = True)\n"
   ]
  },
  {
   "cell_type": "code",
   "execution_count": 83,
   "id": "e2b6fa87",
   "metadata": {},
   "outputs": [],
   "source": [
    "df_cluster = pd.read_csv(cluster_qualification, sep = \"\\t\").drop(columns = [\"Unnamed: 0\"])"
   ]
  },
  {
   "cell_type": "code",
   "execution_count": 84,
   "id": "b8bb7441",
   "metadata": {},
   "outputs": [
    {
     "data": {
      "text/html": [
       "<div>\n",
       "<style scoped>\n",
       "    .dataframe tbody tr th:only-of-type {\n",
       "        vertical-align: middle;\n",
       "    }\n",
       "\n",
       "    .dataframe tbody tr th {\n",
       "        vertical-align: top;\n",
       "    }\n",
       "\n",
       "    .dataframe thead th {\n",
       "        text-align: right;\n",
       "    }\n",
       "</style>\n",
       "<table border=\"1\" class=\"dataframe\">\n",
       "  <thead>\n",
       "    <tr style=\"text-align: right;\">\n",
       "      <th></th>\n",
       "      <th>term</th>\n",
       "      <th>cluster</th>\n",
       "      <th>cluster_name</th>\n",
       "      <th>origin</th>\n",
       "      <th>segm</th>\n",
       "    </tr>\n",
       "  </thead>\n",
       "  <tbody>\n",
       "    <tr>\n",
       "      <th>0</th>\n",
       "      <td>pesticides</td>\n",
       "      <td>2.0</td>\n",
       "      <td>Rapport de Génération future</td>\n",
       "      <td>facebook</td>\n",
       "      <td>0.0</td>\n",
       "    </tr>\n",
       "    <tr>\n",
       "      <th>1</th>\n",
       "      <td>cancers</td>\n",
       "      <td>11.0</td>\n",
       "      <td>Les agriculteurs victimes des phyto</td>\n",
       "      <td>facebook</td>\n",
       "      <td>0.0</td>\n",
       "    </tr>\n",
       "    <tr>\n",
       "      <th>2</th>\n",
       "      <td>parasite</td>\n",
       "      <td>10.0</td>\n",
       "      <td>Le déclin des abeilles</td>\n",
       "      <td>facebook</td>\n",
       "      <td>0.0</td>\n",
       "    </tr>\n",
       "    <tr>\n",
       "      <th>3</th>\n",
       "      <td>effet</td>\n",
       "      <td>10.0</td>\n",
       "      <td>Le déclin des abeilles</td>\n",
       "      <td>facebook</td>\n",
       "      <td>0.0</td>\n",
       "    </tr>\n",
       "    <tr>\n",
       "      <th>4</th>\n",
       "      <td>abeilles</td>\n",
       "      <td>10.0</td>\n",
       "      <td>Le déclin des abeilles</td>\n",
       "      <td>facebook</td>\n",
       "      <td>0.0</td>\n",
       "    </tr>\n",
       "    <tr>\n",
       "      <th>...</th>\n",
       "      <td>...</td>\n",
       "      <td>...</td>\n",
       "      <td>...</td>\n",
       "      <td>...</td>\n",
       "      <td>...</td>\n",
       "    </tr>\n",
       "    <tr>\n",
       "      <th>147</th>\n",
       "      <td>traitements</td>\n",
       "      <td>5.0</td>\n",
       "      <td>Traitements phytosanitaires</td>\n",
       "      <td>facebook</td>\n",
       "      <td>2.0</td>\n",
       "    </tr>\n",
       "    <tr>\n",
       "      <th>148</th>\n",
       "      <td>travail</td>\n",
       "      <td>7.0</td>\n",
       "      <td>Les risques sanitaires</td>\n",
       "      <td>facebook</td>\n",
       "      <td>2.0</td>\n",
       "    </tr>\n",
       "    <tr>\n",
       "      <th>149</th>\n",
       "      <td>épandages</td>\n",
       "      <td>2.0</td>\n",
       "      <td>Les épandages aériens en Guadeloupe</td>\n",
       "      <td>facebook</td>\n",
       "      <td>2.0</td>\n",
       "    </tr>\n",
       "    <tr>\n",
       "      <th>150</th>\n",
       "      <td>épandages de pesticides</td>\n",
       "      <td>3.0</td>\n",
       "      <td>Les épandages aériens</td>\n",
       "      <td>facebook</td>\n",
       "      <td>2.0</td>\n",
       "    </tr>\n",
       "    <tr>\n",
       "      <th>151</th>\n",
       "      <td>études</td>\n",
       "      <td>10.0</td>\n",
       "      <td>L'étude Séralini</td>\n",
       "      <td>facebook</td>\n",
       "      <td>2.0</td>\n",
       "    </tr>\n",
       "  </tbody>\n",
       "</table>\n",
       "<p>152 rows × 5 columns</p>\n",
       "</div>"
      ],
      "text/plain": [
       "                        term  cluster                         cluster_name  \\\n",
       "0                 pesticides      2.0         Rapport de Génération future   \n",
       "1                    cancers     11.0  Les agriculteurs victimes des phyto   \n",
       "2                   parasite     10.0               Le déclin des abeilles   \n",
       "3                      effet     10.0               Le déclin des abeilles   \n",
       "4                   abeilles     10.0               Le déclin des abeilles   \n",
       "..                       ...      ...                                  ...   \n",
       "147              traitements      5.0          Traitements phytosanitaires   \n",
       "148                  travail      7.0               Les risques sanitaires   \n",
       "149                épandages      2.0  Les épandages aériens en Guadeloupe   \n",
       "150  épandages de pesticides      3.0                Les épandages aériens   \n",
       "151                   études     10.0                     L'étude Séralini   \n",
       "\n",
       "       origin  segm  \n",
       "0    facebook   0.0  \n",
       "1    facebook   0.0  \n",
       "2    facebook   0.0  \n",
       "3    facebook   0.0  \n",
       "4    facebook   0.0  \n",
       "..        ...   ...  \n",
       "147  facebook   2.0  \n",
       "148  facebook   2.0  \n",
       "149  facebook   2.0  \n",
       "150  facebook   2.0  \n",
       "151  facebook   2.0  \n",
       "\n",
       "[152 rows x 5 columns]"
      ]
     },
     "execution_count": 84,
     "metadata": {},
     "output_type": "execute_result"
    }
   ],
   "source": [
    "df_cluster"
   ]
  },
  {
   "cell_type": "code",
   "execution_count": 86,
   "id": "5beee4c2",
   "metadata": {},
   "outputs": [
    {
     "data": {
      "text/html": [
       "<div>\n",
       "<style scoped>\n",
       "    .dataframe tbody tr th:only-of-type {\n",
       "        vertical-align: middle;\n",
       "    }\n",
       "\n",
       "    .dataframe tbody tr th {\n",
       "        vertical-align: top;\n",
       "    }\n",
       "\n",
       "    .dataframe thead th {\n",
       "        text-align: right;\n",
       "    }\n",
       "</style>\n",
       "<table border=\"1\" class=\"dataframe\">\n",
       "  <thead>\n",
       "    <tr style=\"text-align: right;\">\n",
       "      <th></th>\n",
       "      <th>term</th>\n",
       "      <th>cluster</th>\n",
       "      <th>cluster_name</th>\n",
       "      <th>origin</th>\n",
       "      <th>segm</th>\n",
       "    </tr>\n",
       "  </thead>\n",
       "  <tbody>\n",
       "    <tr>\n",
       "      <th>0</th>\n",
       "      <td>pesticides</td>\n",
       "      <td>2.0</td>\n",
       "      <td>Rapport de Génération future</td>\n",
       "      <td>facebook</td>\n",
       "      <td>0.0</td>\n",
       "    </tr>\n",
       "    <tr>\n",
       "      <th>1</th>\n",
       "      <td>cancers</td>\n",
       "      <td>11.0</td>\n",
       "      <td>Les agriculteurs victimes des phyto</td>\n",
       "      <td>facebook</td>\n",
       "      <td>0.0</td>\n",
       "    </tr>\n",
       "    <tr>\n",
       "      <th>2</th>\n",
       "      <td>parasite</td>\n",
       "      <td>10.0</td>\n",
       "      <td>Le déclin des abeilles</td>\n",
       "      <td>facebook</td>\n",
       "      <td>0.0</td>\n",
       "    </tr>\n",
       "    <tr>\n",
       "      <th>3</th>\n",
       "      <td>effet</td>\n",
       "      <td>10.0</td>\n",
       "      <td>Le déclin des abeilles</td>\n",
       "      <td>facebook</td>\n",
       "      <td>0.0</td>\n",
       "    </tr>\n",
       "    <tr>\n",
       "      <th>4</th>\n",
       "      <td>abeilles</td>\n",
       "      <td>10.0</td>\n",
       "      <td>Le déclin des abeilles</td>\n",
       "      <td>facebook</td>\n",
       "      <td>0.0</td>\n",
       "    </tr>\n",
       "    <tr>\n",
       "      <th>...</th>\n",
       "      <td>...</td>\n",
       "      <td>...</td>\n",
       "      <td>...</td>\n",
       "      <td>...</td>\n",
       "      <td>...</td>\n",
       "    </tr>\n",
       "    <tr>\n",
       "      <th>44</th>\n",
       "      <td>syngenta</td>\n",
       "      <td>7.0</td>\n",
       "      <td>Abeilles et néonicotinoïdes</td>\n",
       "      <td>facebook</td>\n",
       "      <td>3.0</td>\n",
       "    </tr>\n",
       "    <tr>\n",
       "      <th>45</th>\n",
       "      <td>systèmes</td>\n",
       "      <td>6.0</td>\n",
       "      <td>Les systèmes agricoles en question</td>\n",
       "      <td>facebook</td>\n",
       "      <td>3.0</td>\n",
       "    </tr>\n",
       "    <tr>\n",
       "      <th>46</th>\n",
       "      <td>traitements</td>\n",
       "      <td>6.0</td>\n",
       "      <td>Les systèmes agricoles en question</td>\n",
       "      <td>facebook</td>\n",
       "      <td>3.0</td>\n",
       "    </tr>\n",
       "    <tr>\n",
       "      <th>47</th>\n",
       "      <td>travail</td>\n",
       "      <td>6.0</td>\n",
       "      <td>Les systèmes agricoles en question</td>\n",
       "      <td>facebook</td>\n",
       "      <td>3.0</td>\n",
       "    </tr>\n",
       "    <tr>\n",
       "      <th>48</th>\n",
       "      <td>études</td>\n",
       "      <td>5.0</td>\n",
       "      <td>Expertise et risque sanitaire</td>\n",
       "      <td>facebook</td>\n",
       "      <td>3.0</td>\n",
       "    </tr>\n",
       "  </tbody>\n",
       "</table>\n",
       "<p>201 rows × 5 columns</p>\n",
       "</div>"
      ],
      "text/plain": [
       "           term  cluster                         cluster_name    origin  segm\n",
       "0    pesticides      2.0         Rapport de Génération future  facebook   0.0\n",
       "1       cancers     11.0  Les agriculteurs victimes des phyto  facebook   0.0\n",
       "2      parasite     10.0               Le déclin des abeilles  facebook   0.0\n",
       "3         effet     10.0               Le déclin des abeilles  facebook   0.0\n",
       "4      abeilles     10.0               Le déclin des abeilles  facebook   0.0\n",
       "..          ...      ...                                  ...       ...   ...\n",
       "44     syngenta      7.0          Abeilles et néonicotinoïdes  facebook   3.0\n",
       "45     systèmes      6.0   Les systèmes agricoles en question  facebook   3.0\n",
       "46  traitements      6.0   Les systèmes agricoles en question  facebook   3.0\n",
       "47      travail      6.0   Les systèmes agricoles en question  facebook   3.0\n",
       "48       études      5.0        Expertise et risque sanitaire  facebook   3.0\n",
       "\n",
       "[201 rows x 5 columns]"
      ]
     },
     "execution_count": 86,
     "metadata": {},
     "output_type": "execute_result"
    }
   ],
   "source": [
    "new_df2 = pd.concat([df_cluster, new_df])\n",
    "new_df2"
   ]
  },
  {
   "cell_type": "code",
   "execution_count": 87,
   "id": "6d07f2c4",
   "metadata": {},
   "outputs": [],
   "source": [
    "new_df2.to_csv(f'{path_base}cluster_qualification.csv', sep = \"\\t\") #cluster qualifié par origin et segment"
   ]
  },
  {
   "cell_type": "markdown",
   "id": "3813bd30",
   "metadata": {},
   "source": [
    "## Facebook\n",
    "\n",
    "### 1ère période : 16 novembre 2011 -- 31 janvier 2012:1ère période (Segment 0)\n",
    "\n",
    "<img src=\"clustermap/cm_facebook_0.png\" alt=\"segment0_FB\" style=\"height: 100px; width:100px;\"/>"
   ]
  },
  {
   "cell_type": "markdown",
   "id": "7b3b5973",
   "metadata": {},
   "source": [
    "##### \n",
    "La première période sur facebook semble être caractérisée par trois thématiques:\n",
    "\n",
    "- La première concerne le procès opposant Paul François (céréalier charantais) à Monsanto. Paul François s'est retrouvé dans le coma après avoir nettoyé une cuve contenant du Lasso (produit commercialisé par Monsanto). Le débat a débuté le 12 décembre 2011.\n",
    "\n",
    "> pesticides : un agriculteur en procès contre monsanto Ce lundi 12 décembre 2011, paul françois, agriculteur victime des pesticides, sera en procès contre monsanto, en première instance, au TGI de Lyon, dans l'espoir de faire reconnaître la faute de la firme et d'engager la responsabilité de cette dernière. bioaddict.fr Nous en appelons à toutes celles et ceux qui le souhaitent à se rendre au TGI de Lyon le 12 décembre à 13h30 pour témoigner de leur soutien à paul françois et, ainsi, à toutes les victimes des pesticides. [Auteur : BIO ADDICT]\n",
    "\n",
    "- Un deuxième ensemble de textes évoque le problème du déclin des pollinisateurs et, plus spécifiquemet, des abeilles. Les \"termes spécifiques\" du segment 0 que l'on retrouve dans ces textes sont par exemple : *'effet', 'pesticides', 'miel', 'parasite'*. **\"Parasites\"** et **\"pesticides\"** font référence à deux des causes supposées de disparition des abeilles (les pesticides à travers les néonicotinoïdes et les parasites avec le Varoa). Une disparition qui se manifesterait notamment par une baisse de production du **miel**.\n",
    "\n",
    "\n",
    "> Fin des abeilles = fin du monde ? Oui bon, c’est peut-être un peu exagéré. Quoique…sans les abeilles, l’équilibre écologique serait gravement menacé. En effet, les abeilles ont un rôle essentiel pour la survie des végétaux depuis 50 millions d’années [...] On a découvert que les abeilles sont toxico-sensibles et donc plus vulnérables que la plupart des autres insectes aux <mark>pesticides</mark>. [...] En France, le Gaucho de Bayer et le Régent de BASF, deux insecticides accusés de ravager les abeilles, ont été interdits en 2006 mais malgré tout l’hécatombe se poursuit dans les ruches. On ne sait pas bien pourquoi et cela est très préoccupant. <mark>Certains apiculteurs soupçonnent que les pesticides</mark> toujours utilisés par l’agriculture sont à l’origine de ce qu’on appelle désormais le « syndrome d’effondrement des colonies », maladie dont on ne sait pas encore grand-chose. [...] Récemment, <mark>d’autres explications</mark> ont été données quant à la disparition des abeilles : \n",
    "> - <mark>Le frelon asiatique</mark> est montré du doigt. Cet insecte venu de l’étranger est un prédateur féroce pour les abeilles puisqu’il se nourrit de leurs larves. \n",
    "> - <mark>Une mouche parasite</mark> est également mise en cause depuis peu. Une étude américaine publiée en janvier 2012 a en effet mis en lumière le rôle néfaste de la mouche Apocephalus borealis. [Auteur: Let's save our Earth - Sauvons notre planète]\n",
    "\n",
    "- Un troisième ensemble de textes porte sur le rapport publié par Génération futures sur les  résidus de pesticides dans l'alimentation\n",
    "\n",
    "> Choisir de manger bio, c'est protéger sa santé L'association générations futures a effectué des tests comparant un menu conventionnel et un menu bio : le résultat est sans appel, le menu bio ne contenant quasiment aucun résidus de pesticides. \"Il y a 223 fois moins de résidus de pesticides en moyenne dans les aliments bio analysés que dans les a... bioaddict.fr Mangez bio, c'est bon pour la santé ! Et ça, c'est vachement bien ! [Auteur : Les 2 vaches, industrie agroalimentaire]\n",
    "\n",
    "- On trouve ensuite les textes qui prennent pour cible \"Monsanto et son monde\" ainsi que les effets sanitaires des produits commercialisés par la firme. Il s'agit probablement d'un ensemble de réactions à la suite de la sortie du film éponyme *Le monde selon Monsanto*.\n",
    "\n",
    "> *Le monde selon Monsanto* : Ce film retrace l'histoire de monsanto, une multinationale américaine, aujourd'hui leader mondial des ogm, et considérée comme l'un des plus grands pollueurs de l'ère industrielle (PCB, agent orange, hormones de croissance, roundup...). Après une enquête de trois ans, en Amérique du nord et du sud, en europe et en Asie, il reconstitue la genèse d'un empire industriel, qui, à grand renfort de rapports mensongers, de collusion avec l'administration nord-américaine, de pressions et tentatives de corruption, est devenu l'un des premiers semenciers de la planète.\n",
    "\n",
    "Il est intéressant de noter que Monsanto (et d'autres firmes comme Syngenta ou Bayer) semble être le lien entre différents \"cluster\": l'affaire Paul François, les débats liés au Roundup.\n",
    "\n",
    "- Enfin, de nombreux posts évoquent les \"pesticides\" de façon générale sans faire de lien à une affaire en particulier."
   ]
  },
  {
   "cell_type": "markdown",
   "id": "9e22cfed",
   "metadata": {},
   "source": [
    "## Test (annexe)"
   ]
  },
  {
   "cell_type": "code",
   "execution_count": null,
   "id": "33c2d350",
   "metadata": {},
   "outputs": [],
   "source": [
    "text = df2['text'].loc[(df2[\"doc_id\"] == \"413916\")]\n",
    "for x in text :\n",
    "    print(x)"
   ]
  },
  {
   "cell_type": "code",
   "execution_count": null,
   "id": "40ff32f0",
   "metadata": {},
   "outputs": [],
   "source": [
    "text = \"\"\"Santé Canada reçoit l'ordre de réexaminer les effets environnementaux du Roundup | equiterre.org \n",
    "- P La Cour fédérale du Canada a ordonné à Santé Canada de réévaluer sa décision de ne pas examiner les effets \n",
    "d'un herbicide, commercialisé sous le nom de Roundup. Ce pesticide est un des plus populaires sur le marché et \n",
    "il accompagne une proportion importante des plantes modifiées génétiquement utilis... equiterre.org \n",
    "Santé Canada reçoit l'ordre de la Cour fédérale de réexaminer les effets environnementaux du RoundUp!\"\"\""
   ]
  },
  {
   "cell_type": "code",
   "execution_count": null,
   "id": "fe5163c4",
   "metadata": {},
   "outputs": [],
   "source": [
    "list_term = [\"pesticides\", \"roundup\"]"
   ]
  },
  {
   "cell_type": "code",
   "execution_count": null,
   "id": "65e40a45",
   "metadata": {},
   "outputs": [],
   "source": [
    "import re\n",
    "for j, term in enumerate(list_term):\n",
    "    if term[-1]== \"s\":\n",
    "        singular_term = term[0:-1]\n",
    "    else:\n",
    "        singular_term = term\n",
    "    #text = text.replace(term[0:len(term)-1], f'<mark style=\"background-color:yellow\">{term}</mark>')\n",
    "    text = re.sub(term, f'<mark style=\"background-color:yellow\">{term}</mark>', text, flags=re.I)          #\n",
    "\n",
    "display(HTML(f'{text}'))"
   ]
  },
  {
   "cell_type": "code",
   "execution_count": null,
   "id": "dd61d4dc",
   "metadata": {},
   "outputs": [],
   "source": []
  }
 ],
 "metadata": {
  "kernelspec": {
   "display_name": "analyse_tweets",
   "language": "python",
   "name": "analyse_tweets"
  },
  "language_info": {
   "codemirror_mode": {
    "name": "ipython",
    "version": 3
   },
   "file_extension": ".py",
   "mimetype": "text/x-python",
   "name": "python",
   "nbconvert_exporter": "python",
   "pygments_lexer": "ipython3",
   "version": "3.9.7"
  }
 },
 "nbformat": 4,
 "nbformat_minor": 5
}
