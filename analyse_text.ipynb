{
 "cells": [
  {
   "cell_type": "code",
   "execution_count": 104,
   "id": "aee4af3f",
   "metadata": {},
   "outputs": [],
   "source": [
    "import pandas as pd\n",
    "import bamboolib\n",
    "import os\n",
    "import datetime\n",
    "import numpy as np\n",
    "from matplotlib import pyplot as plt\n",
    "from matplotlib.ticker import MultipleLocator, FixedFormatter, FixedLocator\n",
    "import plotly.express as px\n",
    "import plotly.graph_objects as go\n",
    "import seaborn as sns\n",
    "from scipy.cluster.hierarchy import linkage, dendrogram, fcluster\n",
    "from scipy.spatial.distance import squareform\n",
    "from IPython.core.display import display, HTML\n",
    "import re"
   ]
  },
  {
   "cell_type": "markdown",
   "id": "4fa7190f",
   "metadata": {},
   "source": [
    "## Analyse des segments"
   ]
  },
  {
   "cell_type": "code",
   "execution_count": 3,
   "id": "61f1ecd4",
   "metadata": {},
   "outputs": [],
   "source": [
    "aymeric =  \"/home/aymeric/python-scripts/anses_medialab/datas/\" #aymeric\n",
    "jp = 'd:/Projects/Medialab/Anses/' # Jean Philippe\n",
    "\n",
    "\n",
    "path_base = aymeric\n",
    "file_segmentation = f\"{path_base}segmentation_common_freq.csv\"\n",
    "\n",
    "index=f\"{path_base}index_alldefault_nameexhaustive_aymeric.csv\"\n",
    "\n",
    "all_corpus = f\"{path_base}all_corpus_seg_with_sdhi_PI.csv\"\n",
    "\n",
    "#twittos = f\"{path_base}tweets_pesticides/500_first_twittos_on_pesticides.csv\"\n",
    "\n",
    "data_file = path_base+'fb_tw_med_data.csv.gz'#,line_terminator='\\n',index=False)\n"
   ]
  },
  {
   "cell_type": "code",
   "execution_count": 4,
   "id": "1628f390",
   "metadata": {},
   "outputs": [],
   "source": [
    "list_base = [\"index\", \"all_corpus\"]\n",
    "which_base = list_base[0]"
   ]
  },
  {
   "cell_type": "code",
   "execution_count": 5,
   "id": "00118b3f",
   "metadata": {},
   "outputs": [],
   "source": [
    "if which_base == \"all_corpus\":\n",
    "    df0 = pd.read_csv(all_corpus, sep = \"\\t\")\n",
    "else:\n",
    "    df_index = pd.read_csv(index, sep = \"\\t\")\n",
    "    dfseg0 = pd.read_csv(file_segmentation, sep = \"\\t\")\n",
    "\n",
    "    df_index['date'] = pd.to_datetime(df_index['date'], infer_datetime_format=True)\n",
    "    df_index['yearmonth']=(df_index['date'].dt.strftime('%Y-%m'))\n",
    "    df_index['date'] = df_index['date'].dt.date\n",
    "    \n",
    "    segment = dfseg[[\"yearmonth\", \"segm\", \"origin\"]]\n",
    "    df0 = df_index.merge(segment, how = \"inner\", on = [\"origin\", \"yearmonth\"])\n",
    "    df0[\"start_segment\"] = df0.groupby(['origin','segm'])[\"date\"].transform('min')\n",
    "    df0[\"end_segment\"] = df0.groupby(['origin','segm'])[\"date\"].transform('max')"
   ]
  },
  {
   "cell_type": "code",
   "execution_count": 6,
   "id": "4b866741",
   "metadata": {},
   "outputs": [],
   "source": [
    "dft = pd.read_csv(data_file)"
   ]
  },
  {
   "cell_type": "code",
   "execution_count": 7,
   "id": "d51fcb22",
   "metadata": {},
   "outputs": [],
   "source": [
    "# Step: Rename column\n",
    "segment = df0[[\"yearmonth\", \"segm\", \"origin\"]]\n",
    "dft = dft.rename(columns={'id': 'doc_id'})\n",
    "\n",
    "dft['date'] = pd.to_datetime(dft['date'], infer_datetime_format=True)\n",
    "\n",
    "dft['yearmonth']=(dft['date'].dt.strftime('%Y-%m'))\n",
    "dft['date'] = dft['date'].dt.date\n",
    "    \n",
    "segment = dfseg[[\"yearmonth\", \"segm\", \"origin\"]]\n",
    "dft0 = dft.merge(segment, how = \"inner\", on = [\"origin\", \"yearmonth\"])\n",
    "dft0[\"start_segment\"] = dft0.groupby(['origin','segm'])[\"date\"].transform('min')\n",
    "dft0[\"end_segment\"] = dft0.groupby(['origin','segm'])[\"date\"].transform('max')\n",
    "\n"
   ]
  },
  {
   "cell_type": "markdown",
   "id": "4010b9f3",
   "metadata": {},
   "source": [
    "## Facebook"
   ]
  },
  {
   "cell_type": "code",
   "execution_count": 8,
   "id": "8a16abe9",
   "metadata": {},
   "outputs": [],
   "source": [
    "dfseg0 = dfseg.copy()"
   ]
  },
  {
   "cell_type": "code",
   "execution_count": 178,
   "id": "62530b84",
   "metadata": {},
   "outputs": [],
   "source": [
    "def filter_data(data, domain, segment):\n",
    "    print(domain)\n",
    "    dfseg = data[0]\n",
    "    dfseg1 = dfseg.loc[(dfseg[\"origin\"] == domain) & (dfseg[\"segm\"] == segment)]\n",
    "    \n",
    "    df = data[1]\n",
    "    df1 = df.loc[(df[\"origin\"] == domain) & (df[\"segm\"] == segment)]\n",
    "    \n",
    "    dft = data[2]\n",
    "    dft1 = dft.loc[(dft[\"origin\"] == domain) & (dft[\"segm\"] == segment)]\n",
    "    dft1['doc_id'] = dft1['doc_id'].astype('string')\n",
    "    \n",
    "    specific_terms = [x.strip() for x in dfseg1[\"top20_term_chi2_True\"].iloc[0].split(\",\")]\n",
    "\n",
    "    print(specific_terms)\n",
    "\n",
    "    df1.loc[df1[\"term\"].isin(specific_terms) == True, \"in_top20_term\"] = 1\n",
    "    df1.loc[df1[\"term\"].isin(specific_terms) == False, \"in_top20_term\"] = 0\n",
    "    df2 = df1.drop_duplicates(subset = [\"doc_id\", \"term\"]).groupby(['doc_id', 'source', \"date\"]).agg(sum_of_top20_term =('in_top20_term', 'sum')).reset_index()\n",
    "\n",
    "    df2 = df2.merge(dft1[[\"doc_id\", \"text\"]], how = \"inner\", on = [\"doc_id\"])\n",
    "    \n",
    "    return dfseg1, df1, dft1, df2, specific_terms"
   ]
  },
  {
   "cell_type": "code",
   "execution_count": 197,
   "id": "488d12cb",
   "metadata": {},
   "outputs": [
    {
     "name": "stdout",
     "output_type": "stream",
     "text": [
      "twitter\n"
     ]
    },
    {
     "ename": "IndexError",
     "evalue": "single positional indexer is out-of-bounds",
     "output_type": "error",
     "traceback": [
      "\u001b[0;31m---------------------------------------------------------------------------\u001b[0m",
      "\u001b[0;31mIndexError\u001b[0m                                Traceback (most recent call last)",
      "\u001b[0;32m/tmp/ipykernel_3612/219693484.py\u001b[0m in \u001b[0;36m<module>\u001b[0;34m\u001b[0m\n\u001b[1;32m      4\u001b[0m \u001b[0;34m\u001b[0m\u001b[0m\n\u001b[1;32m      5\u001b[0m \u001b[0mlist_df\u001b[0m \u001b[0;34m=\u001b[0m \u001b[0;34m[\u001b[0m\u001b[0mdfseg0\u001b[0m\u001b[0;34m,\u001b[0m \u001b[0mdf0\u001b[0m\u001b[0;34m,\u001b[0m \u001b[0mdft0\u001b[0m\u001b[0;34m]\u001b[0m\u001b[0;34m\u001b[0m\u001b[0;34m\u001b[0m\u001b[0m\n\u001b[0;32m----> 6\u001b[0;31m \u001b[0mdfseg1\u001b[0m\u001b[0;34m,\u001b[0m \u001b[0mdf1\u001b[0m\u001b[0;34m,\u001b[0m \u001b[0mdft1\u001b[0m\u001b[0;34m,\u001b[0m \u001b[0mdf2\u001b[0m\u001b[0;34m,\u001b[0m \u001b[0mspecific_terms\u001b[0m \u001b[0;34m=\u001b[0m \u001b[0mfilter_data\u001b[0m\u001b[0;34m(\u001b[0m\u001b[0mlist_df\u001b[0m\u001b[0;34m,\u001b[0m \u001b[0mdomain\u001b[0m \u001b[0;34m=\u001b[0m \u001b[0mdomain\u001b[0m\u001b[0;34m,\u001b[0m \u001b[0msegment\u001b[0m \u001b[0;34m=\u001b[0m \u001b[0msegment\u001b[0m\u001b[0;34m)\u001b[0m\u001b[0;34m\u001b[0m\u001b[0;34m\u001b[0m\u001b[0m\n\u001b[0m",
      "\u001b[0;32m/tmp/ipykernel_3612/1556048218.py\u001b[0m in \u001b[0;36mfilter_data\u001b[0;34m(data, domain, segment)\u001b[0m\n\u001b[1;32m     11\u001b[0m     \u001b[0mdft1\u001b[0m\u001b[0;34m[\u001b[0m\u001b[0;34m'doc_id'\u001b[0m\u001b[0;34m]\u001b[0m \u001b[0;34m=\u001b[0m \u001b[0mdft1\u001b[0m\u001b[0;34m[\u001b[0m\u001b[0;34m'doc_id'\u001b[0m\u001b[0;34m]\u001b[0m\u001b[0;34m.\u001b[0m\u001b[0mastype\u001b[0m\u001b[0;34m(\u001b[0m\u001b[0;34m'string'\u001b[0m\u001b[0;34m)\u001b[0m\u001b[0;34m\u001b[0m\u001b[0;34m\u001b[0m\u001b[0m\n\u001b[1;32m     12\u001b[0m \u001b[0;34m\u001b[0m\u001b[0m\n\u001b[0;32m---> 13\u001b[0;31m     \u001b[0mspecific_terms\u001b[0m \u001b[0;34m=\u001b[0m \u001b[0;34m[\u001b[0m\u001b[0mx\u001b[0m\u001b[0;34m.\u001b[0m\u001b[0mstrip\u001b[0m\u001b[0;34m(\u001b[0m\u001b[0;34m)\u001b[0m \u001b[0;32mfor\u001b[0m \u001b[0mx\u001b[0m \u001b[0;32min\u001b[0m \u001b[0mdfseg1\u001b[0m\u001b[0;34m[\u001b[0m\u001b[0;34m\"top20_term_chi2_True\"\u001b[0m\u001b[0;34m]\u001b[0m\u001b[0;34m.\u001b[0m\u001b[0miloc\u001b[0m\u001b[0;34m[\u001b[0m\u001b[0;36m0\u001b[0m\u001b[0;34m]\u001b[0m\u001b[0;34m.\u001b[0m\u001b[0msplit\u001b[0m\u001b[0;34m(\u001b[0m\u001b[0;34m\",\"\u001b[0m\u001b[0;34m)\u001b[0m\u001b[0;34m]\u001b[0m\u001b[0;34m\u001b[0m\u001b[0;34m\u001b[0m\u001b[0m\n\u001b[0m\u001b[1;32m     14\u001b[0m \u001b[0;34m\u001b[0m\u001b[0m\n\u001b[1;32m     15\u001b[0m     \u001b[0mprint\u001b[0m\u001b[0;34m(\u001b[0m\u001b[0mspecific_terms\u001b[0m\u001b[0;34m)\u001b[0m\u001b[0;34m\u001b[0m\u001b[0;34m\u001b[0m\u001b[0m\n",
      "\u001b[0;32m~/anaconda3/envs/analyse_tweets/lib/python3.9/site-packages/pandas/core/indexing.py\u001b[0m in \u001b[0;36m__getitem__\u001b[0;34m(self, key)\u001b[0m\n\u001b[1;32m    929\u001b[0m \u001b[0;34m\u001b[0m\u001b[0m\n\u001b[1;32m    930\u001b[0m             \u001b[0mmaybe_callable\u001b[0m \u001b[0;34m=\u001b[0m \u001b[0mcom\u001b[0m\u001b[0;34m.\u001b[0m\u001b[0mapply_if_callable\u001b[0m\u001b[0;34m(\u001b[0m\u001b[0mkey\u001b[0m\u001b[0;34m,\u001b[0m \u001b[0mself\u001b[0m\u001b[0;34m.\u001b[0m\u001b[0mobj\u001b[0m\u001b[0;34m)\u001b[0m\u001b[0;34m\u001b[0m\u001b[0;34m\u001b[0m\u001b[0m\n\u001b[0;32m--> 931\u001b[0;31m             \u001b[0;32mreturn\u001b[0m \u001b[0mself\u001b[0m\u001b[0;34m.\u001b[0m\u001b[0m_getitem_axis\u001b[0m\u001b[0;34m(\u001b[0m\u001b[0mmaybe_callable\u001b[0m\u001b[0;34m,\u001b[0m \u001b[0maxis\u001b[0m\u001b[0;34m=\u001b[0m\u001b[0maxis\u001b[0m\u001b[0;34m)\u001b[0m\u001b[0;34m\u001b[0m\u001b[0;34m\u001b[0m\u001b[0m\n\u001b[0m\u001b[1;32m    932\u001b[0m \u001b[0;34m\u001b[0m\u001b[0m\n\u001b[1;32m    933\u001b[0m     \u001b[0;32mdef\u001b[0m \u001b[0m_is_scalar_access\u001b[0m\u001b[0;34m(\u001b[0m\u001b[0mself\u001b[0m\u001b[0;34m,\u001b[0m \u001b[0mkey\u001b[0m\u001b[0;34m:\u001b[0m \u001b[0mtuple\u001b[0m\u001b[0;34m)\u001b[0m\u001b[0;34m:\u001b[0m\u001b[0;34m\u001b[0m\u001b[0;34m\u001b[0m\u001b[0m\n",
      "\u001b[0;32m~/anaconda3/envs/analyse_tweets/lib/python3.9/site-packages/pandas/core/indexing.py\u001b[0m in \u001b[0;36m_getitem_axis\u001b[0;34m(self, key, axis)\u001b[0m\n\u001b[1;32m   1564\u001b[0m \u001b[0;34m\u001b[0m\u001b[0m\n\u001b[1;32m   1565\u001b[0m             \u001b[0;31m# validate the location\u001b[0m\u001b[0;34m\u001b[0m\u001b[0;34m\u001b[0m\u001b[0m\n\u001b[0;32m-> 1566\u001b[0;31m             \u001b[0mself\u001b[0m\u001b[0;34m.\u001b[0m\u001b[0m_validate_integer\u001b[0m\u001b[0;34m(\u001b[0m\u001b[0mkey\u001b[0m\u001b[0;34m,\u001b[0m \u001b[0maxis\u001b[0m\u001b[0;34m)\u001b[0m\u001b[0;34m\u001b[0m\u001b[0;34m\u001b[0m\u001b[0m\n\u001b[0m\u001b[1;32m   1567\u001b[0m \u001b[0;34m\u001b[0m\u001b[0m\n\u001b[1;32m   1568\u001b[0m             \u001b[0;32mreturn\u001b[0m \u001b[0mself\u001b[0m\u001b[0;34m.\u001b[0m\u001b[0mobj\u001b[0m\u001b[0;34m.\u001b[0m\u001b[0m_ixs\u001b[0m\u001b[0;34m(\u001b[0m\u001b[0mkey\u001b[0m\u001b[0;34m,\u001b[0m \u001b[0maxis\u001b[0m\u001b[0;34m=\u001b[0m\u001b[0maxis\u001b[0m\u001b[0;34m)\u001b[0m\u001b[0;34m\u001b[0m\u001b[0;34m\u001b[0m\u001b[0m\n",
      "\u001b[0;32m~/anaconda3/envs/analyse_tweets/lib/python3.9/site-packages/pandas/core/indexing.py\u001b[0m in \u001b[0;36m_validate_integer\u001b[0;34m(self, key, axis)\u001b[0m\n\u001b[1;32m   1498\u001b[0m         \u001b[0mlen_axis\u001b[0m \u001b[0;34m=\u001b[0m \u001b[0mlen\u001b[0m\u001b[0;34m(\u001b[0m\u001b[0mself\u001b[0m\u001b[0;34m.\u001b[0m\u001b[0mobj\u001b[0m\u001b[0;34m.\u001b[0m\u001b[0m_get_axis\u001b[0m\u001b[0;34m(\u001b[0m\u001b[0maxis\u001b[0m\u001b[0;34m)\u001b[0m\u001b[0;34m)\u001b[0m\u001b[0;34m\u001b[0m\u001b[0;34m\u001b[0m\u001b[0m\n\u001b[1;32m   1499\u001b[0m         \u001b[0;32mif\u001b[0m \u001b[0mkey\u001b[0m \u001b[0;34m>=\u001b[0m \u001b[0mlen_axis\u001b[0m \u001b[0;32mor\u001b[0m \u001b[0mkey\u001b[0m \u001b[0;34m<\u001b[0m \u001b[0;34m-\u001b[0m\u001b[0mlen_axis\u001b[0m\u001b[0;34m:\u001b[0m\u001b[0;34m\u001b[0m\u001b[0;34m\u001b[0m\u001b[0m\n\u001b[0;32m-> 1500\u001b[0;31m             \u001b[0;32mraise\u001b[0m \u001b[0mIndexError\u001b[0m\u001b[0;34m(\u001b[0m\u001b[0;34m\"single positional indexer is out-of-bounds\"\u001b[0m\u001b[0;34m)\u001b[0m\u001b[0;34m\u001b[0m\u001b[0;34m\u001b[0m\u001b[0m\n\u001b[0m\u001b[1;32m   1501\u001b[0m \u001b[0;34m\u001b[0m\u001b[0m\n\u001b[1;32m   1502\u001b[0m     \u001b[0;31m# -------------------------------------------------------------------\u001b[0m\u001b[0;34m\u001b[0m\u001b[0;34m\u001b[0m\u001b[0m\n",
      "\u001b[0;31mIndexError\u001b[0m: single positional indexer is out-of-bounds"
     ]
    }
   ],
   "source": [
    "domains = [\"facebook\", \"twitter\", \"media\"]\n",
    "segment = 7\n",
    "domain = domains[1]\n",
    "\n",
    "list_df = [dfseg0, df0, dft0]\n",
    "dfseg1, df1, dft1, df2, specific_terms = filter_data(list_df, domain = domain, segment = segment)"
   ]
  },
  {
   "cell_type": "code",
   "execution_count": 180,
   "id": "fac4d6d6",
   "metadata": {},
   "outputs": [],
   "source": [
    "moyenne = np.mean(df2[\"sum_of_top20_term\"]) \n",
    "df3 = df2.loc[df2[\"sum_of_top20_term\"] >= 2 ]\n",
    "df3 = df3.sort_values(by=['date'], ascending=[True])\n",
    "\n",
    "df3 = df3.drop_duplicates(subset = \"text\")"
   ]
  },
  {
   "cell_type": "code",
   "execution_count": 181,
   "id": "5bd7620f",
   "metadata": {
    "collapsed": true
   },
   "outputs": [
    {
     "data": {
      "text/html": [
       "<h2 style='text-align:center;'> Texte 8955224590 (1 sur 286)</h2>"
      ],
      "text/plain": [
       "<IPython.core.display.HTML object>"
      ]
     },
     "metadata": {},
     "output_type": "display_data"
    },
    {
     "data": {
      "text/html": [
       "<strong>Segment :</strong> 0 (2010-02-01 ; 2010-08-31)"
      ],
      "text/plain": [
       "<IPython.core.display.HTML object>"
      ]
     },
     "metadata": {},
     "output_type": "display_data"
    },
    {
     "data": {
      "text/html": [
       "<strong>Date :</strong> 2010-02-11"
      ],
      "text/plain": [
       "<IPython.core.display.HTML object>"
      ]
     },
     "metadata": {},
     "output_type": "display_data"
    },
    {
     "data": {
      "text/html": [
       "<strong>Auteur :</strong> EELV Pays de Lannoy \n"
      ],
      "text/plain": [
       "<IPython.core.display.HTML object>"
      ]
     },
     "metadata": {},
     "output_type": "display_data"
    },
    {
     "name": "stdout",
     "output_type": "stream",
     "text": [
      "Termes indexés : ['vins', 'résidus', 'résidus de pesticides', 'pesticides'] \n",
      "\n",
      "Termes spécifiques présents : ['résidus de pesticides', 'pesticides'] \n",
      "\n",
      "Termes spécifiques absents : {'développement', 'troubles', 'cassation', \"cour d'appel\", 'frelon', 'bisphénol a', 'parlementaires', 'foetus', 'malformations', 'désherbant', 'cour', 'milieu', 'confédération paysanne', 'chlordécone', 'céréalier charentais', 'expositions', 'bisphénol', 'nature environnement'} \n",
      "\n"
     ]
    },
    {
     "data": {
      "text/html": [
       "RT @toutallantvert: <mark style=\"background-color:yellow\">vins</mark>, <mark style=\"background-color:yellow\">résidus</mark> de <mark style=\"background-color:pink\">pesticides</mark> dans des grands crus : http://bit.ly/bomWOH #fb"
      ],
      "text/plain": [
       "<IPython.core.display.HTML object>"
      ]
     },
     "metadata": {},
     "output_type": "display_data"
    },
    {
     "data": {
      "text/html": [
       "<h2 style='text-align:center;'> Texte 8955147844 (2 sur 286)</h2>"
      ],
      "text/plain": [
       "<IPython.core.display.HTML object>"
      ]
     },
     "metadata": {},
     "output_type": "display_data"
    },
    {
     "data": {
      "text/html": [
       "<strong>Segment :</strong> 0 (2010-02-01 ; 2010-08-31)"
      ],
      "text/plain": [
       "<IPython.core.display.HTML object>"
      ]
     },
     "metadata": {},
     "output_type": "display_data"
    },
    {
     "data": {
      "text/html": [
       "<strong>Date :</strong> 2010-02-11"
      ],
      "text/plain": [
       "<IPython.core.display.HTML object>"
      ]
     },
     "metadata": {},
     "output_type": "display_data"
    },
    {
     "data": {
      "text/html": [
       "<strong>Auteur :</strong> toutallantvert \n"
      ],
      "text/plain": [
       "<IPython.core.display.HTML object>"
      ]
     },
     "metadata": {},
     "output_type": "display_data"
    },
    {
     "name": "stdout",
     "output_type": "stream",
     "text": [
      "Termes indexés : ['vins', 'résidus', 'résidus de pesticides', 'pesticides'] \n",
      "\n",
      "Termes spécifiques présents : ['résidus de pesticides', 'pesticides'] \n",
      "\n",
      "Termes spécifiques absents : {'développement', 'troubles', 'cassation', \"cour d'appel\", 'frelon', 'bisphénol a', 'parlementaires', 'foetus', 'malformations', 'désherbant', 'cour', 'milieu', 'confédération paysanne', 'chlordécone', 'céréalier charentais', 'expositions', 'bisphénol', 'nature environnement'} \n",
      "\n"
     ]
    },
    {
     "data": {
      "text/html": [
       "<mark style=\"background-color:yellow\">vins</mark>, <mark style=\"background-color:yellow\">résidus</mark> de <mark style=\"background-color:pink\">pesticides</mark> dans des grands crus : http://bit.ly/bomWOH #fb"
      ],
      "text/plain": [
       "<IPython.core.display.HTML object>"
      ]
     },
     "metadata": {},
     "output_type": "display_data"
    },
    {
     "data": {
      "text/html": [
       "<h2 style='text-align:center;'> Texte 8954489384 (3 sur 286)</h2>"
      ],
      "text/plain": [
       "<IPython.core.display.HTML object>"
      ]
     },
     "metadata": {},
     "output_type": "display_data"
    },
    {
     "data": {
      "text/html": [
       "<strong>Segment :</strong> 0 (2010-02-01 ; 2010-08-31)"
      ],
      "text/plain": [
       "<IPython.core.display.HTML object>"
      ]
     },
     "metadata": {},
     "output_type": "display_data"
    },
    {
     "data": {
      "text/html": [
       "<strong>Date :</strong> 2010-02-11"
      ],
      "text/plain": [
       "<IPython.core.display.HTML object>"
      ]
     },
     "metadata": {},
     "output_type": "display_data"
    },
    {
     "data": {
      "text/html": [
       "<strong>Auteur :</strong> La France Agricole \n"
      ],
      "text/plain": [
       "<IPython.core.display.HTML object>"
      ]
     },
     "metadata": {},
     "output_type": "display_data"
    },
    {
     "name": "stdout",
     "output_type": "stream",
     "text": [
      "Termes indexés : ['résidus', 'résidus de pesticides', 'pesticides', 'plainte'] \n",
      "\n",
      "Termes spécifiques présents : ['résidus de pesticides', 'pesticides'] \n",
      "\n",
      "Termes spécifiques absents : {'développement', 'troubles', 'cassation', \"cour d'appel\", 'frelon', 'bisphénol a', 'parlementaires', 'foetus', 'malformations', 'désherbant', 'cour', 'milieu', 'confédération paysanne', 'chlordécone', 'céréalier charentais', 'expositions', 'bisphénol', 'nature environnement'} \n",
      "\n"
     ]
    },
    {
     "data": {
      "text/html": [
       "#Actu : <mark style=\"background-color:yellow\">résidus</mark> de <mark style=\"background-color:pink\">pesticides</mark>/Raisins de table: <mark style=\"background-color:yellow\">plainte</mark> rejetée, producteurs déboutés (MDRGF) -> http://bit.ly/9zDBdB"
      ],
      "text/plain": [
       "<IPython.core.display.HTML object>"
      ]
     },
     "metadata": {},
     "output_type": "display_data"
    },
    {
     "data": {
      "text/html": [
       "<h2 style='text-align:center;'> Texte 9059940716 (4 sur 286)</h2>"
      ],
      "text/plain": [
       "<IPython.core.display.HTML object>"
      ]
     },
     "metadata": {},
     "output_type": "display_data"
    },
    {
     "data": {
      "text/html": [
       "<strong>Segment :</strong> 0 (2010-02-01 ; 2010-08-31)"
      ],
      "text/plain": [
       "<IPython.core.display.HTML object>"
      ]
     },
     "metadata": {},
     "output_type": "display_data"
    },
    {
     "data": {
      "text/html": [
       "<strong>Date :</strong> 2010-02-13"
      ],
      "text/plain": [
       "<IPython.core.display.HTML object>"
      ]
     },
     "metadata": {},
     "output_type": "display_data"
    },
    {
     "data": {
      "text/html": [
       "<strong>Auteur :</strong> Sabine Grataloup \n"
      ],
      "text/plain": [
       "<IPython.core.display.HTML object>"
      ]
     },
     "metadata": {},
     "output_type": "display_data"
    },
    {
     "name": "stdout",
     "output_type": "stream",
     "text": [
      "Termes indexés : ['ogm', 'roundup', 'malformations', 'désherbant', 'glyphosate'] \n",
      "\n",
      "Termes spécifiques présents : ['malformations', 'désherbant'] \n",
      "\n",
      "Termes spécifiques absents : {'développement', 'troubles', 'pesticides', 'cassation', \"cour d'appel\", 'frelon', 'bisphénol a', 'parlementaires', 'résidus de pesticides', 'foetus', 'cour', 'milieu', 'confédération paysanne', 'chlordécone', 'céréalier charentais', 'expositions', 'bisphénol', 'nature environnement'} \n",
      "\n"
     ]
    },
    {
     "data": {
      "text/html": [
       "@CTABruxelles <mark style=\"background-color:yellow\">ogm</mark> <mark style=\"background-color:yellow\">roundup</mark> Ready : risques de <mark style=\"background-color:pink\">malformations</mark> dues à un emploi accru des <mark style=\"background-color:pink\">désherbant</mark>s au <mark style=\"background-color:yellow\">glyphosate</mark> à étudier. www.theo.sg"
      ],
      "text/plain": [
       "<IPython.core.display.HTML object>"
      ]
     },
     "metadata": {},
     "output_type": "display_data"
    },
    {
     "data": {
      "text/html": [
       "<h2 style='text-align:center;'> Texte 9059817368 (5 sur 286)</h2>"
      ],
      "text/plain": [
       "<IPython.core.display.HTML object>"
      ]
     },
     "metadata": {},
     "output_type": "display_data"
    },
    {
     "data": {
      "text/html": [
       "<strong>Segment :</strong> 0 (2010-02-01 ; 2010-08-31)"
      ],
      "text/plain": [
       "<IPython.core.display.HTML object>"
      ]
     },
     "metadata": {},
     "output_type": "display_data"
    },
    {
     "data": {
      "text/html": [
       "<strong>Date :</strong> 2010-02-13"
      ],
      "text/plain": [
       "<IPython.core.display.HTML object>"
      ]
     },
     "metadata": {},
     "output_type": "display_data"
    },
    {
     "data": {
      "text/html": [
       "<strong>Auteur :</strong> Sabine Grataloup \n"
      ],
      "text/plain": [
       "<IPython.core.display.HTML object>"
      ]
     },
     "metadata": {},
     "output_type": "display_data"
    },
    {
     "name": "stdout",
     "output_type": "stream",
     "text": [
      "Termes indexés : ['ogm', 'roundup', 'malformations', 'désherbant', 'glyphosate'] \n",
      "\n",
      "Termes spécifiques présents : ['malformations', 'désherbant'] \n",
      "\n",
      "Termes spécifiques absents : {'développement', 'troubles', 'pesticides', 'cassation', \"cour d'appel\", 'frelon', 'bisphénol a', 'parlementaires', 'résidus de pesticides', 'foetus', 'cour', 'milieu', 'confédération paysanne', 'chlordécone', 'céréalier charentais', 'expositions', 'bisphénol', 'nature environnement'} \n",
      "\n"
     ]
    },
    {
     "data": {
      "text/html": [
       "<mark style=\"background-color:yellow\">ogm</mark> <mark style=\"background-color:yellow\">roundup</mark> Ready : les risques de <mark style=\"background-color:pink\">malformations</mark> dues à un emploi accru des <mark style=\"background-color:pink\">désherbant</mark>s au <mark style=\"background-color:yellow\">glyphosate</mark> sont à étudier. www.theo.sg"
      ],
      "text/plain": [
       "<IPython.core.display.HTML object>"
      ]
     },
     "metadata": {},
     "output_type": "display_data"
    },
    {
     "data": {
      "text/html": [
       "<h2 style='text-align:center;'> Texte 9059763283 (6 sur 286)</h2>"
      ],
      "text/plain": [
       "<IPython.core.display.HTML object>"
      ]
     },
     "metadata": {},
     "output_type": "display_data"
    },
    {
     "data": {
      "text/html": [
       "<strong>Segment :</strong> 0 (2010-02-01 ; 2010-08-31)"
      ],
      "text/plain": [
       "<IPython.core.display.HTML object>"
      ]
     },
     "metadata": {},
     "output_type": "display_data"
    },
    {
     "data": {
      "text/html": [
       "<strong>Date :</strong> 2010-02-13"
      ],
      "text/plain": [
       "<IPython.core.display.HTML object>"
      ]
     },
     "metadata": {},
     "output_type": "display_data"
    },
    {
     "data": {
      "text/html": [
       "<strong>Auteur :</strong> Sabine Grataloup \n"
      ],
      "text/plain": [
       "<IPython.core.display.HTML object>"
      ]
     },
     "metadata": {},
     "output_type": "display_data"
    },
    {
     "name": "stdout",
     "output_type": "stream",
     "text": [
      "Termes indexés : ['malformations', 'désherbant', 'glyphosate', 'molécules', 'roundup', 'roundup de monsanto', 'monsanto'] \n",
      "\n",
      "Termes spécifiques présents : ['malformations', 'désherbant'] \n",
      "\n",
      "Termes spécifiques absents : {'développement', 'troubles', 'pesticides', 'cassation', \"cour d'appel\", 'frelon', 'bisphénol a', 'parlementaires', 'résidus de pesticides', 'foetus', 'cour', 'milieu', 'confédération paysanne', 'chlordécone', 'céréalier charentais', 'expositions', 'bisphénol', 'nature environnement'} \n",
      "\n"
     ]
    },
    {
     "data": {
      "text/html": [
       "Mon fils de 2 ans souffre de <mark style=\"background-color:pink\">malformations</mark> (trachéotomie) probablement dues aux <mark style=\"background-color:pink\">désherbant</mark>s au <mark style=\"background-color:yellow\">glyphosate</mark> (molécule du <mark style=\"background-color:yellow\">roundup</mark> de <mark style=\"background-color:yellow\">monsanto</mark>)."
      ],
      "text/plain": [
       "<IPython.core.display.HTML object>"
      ]
     },
     "metadata": {},
     "output_type": "display_data"
    },
    {
     "data": {
      "text/html": [
       "<h2 style='text-align:center;'> Texte 9059388453 (7 sur 286)</h2>"
      ],
      "text/plain": [
       "<IPython.core.display.HTML object>"
      ]
     },
     "metadata": {},
     "output_type": "display_data"
    },
    {
     "data": {
      "text/html": [
       "<strong>Segment :</strong> 0 (2010-02-01 ; 2010-08-31)"
      ],
      "text/plain": [
       "<IPython.core.display.HTML object>"
      ]
     },
     "metadata": {},
     "output_type": "display_data"
    },
    {
     "data": {
      "text/html": [
       "<strong>Date :</strong> 2010-02-13"
      ],
      "text/plain": [
       "<IPython.core.display.HTML object>"
      ]
     },
     "metadata": {},
     "output_type": "display_data"
    },
    {
     "data": {
      "text/html": [
       "<strong>Auteur :</strong> Sabine Grataloup \n"
      ],
      "text/plain": [
       "<IPython.core.display.HTML object>"
      ]
     },
     "metadata": {},
     "output_type": "display_data"
    },
    {
     "name": "stdout",
     "output_type": "stream",
     "text": [
      "Termes indexés : ['désherbant', 'malformations'] \n",
      "\n",
      "Termes spécifiques présents : ['désherbant', 'malformations'] \n",
      "\n",
      "Termes spécifiques absents : {'développement', 'troubles', 'pesticides', 'cassation', \"cour d'appel\", 'frelon', 'bisphénol a', 'parlementaires', 'résidus de pesticides', 'foetus', 'cour', 'milieu', 'confédération paysanne', 'chlordécone', 'céréalier charentais', 'expositions', 'bisphénol', 'nature environnement'} \n",
      "\n"
     ]
    },
    {
     "data": {
      "text/html": [
       "<mark style=\"background-color:pink\">désherbant</mark>s & <mark style=\"background-color:pink\">malformations</mark> - Courrier envoyé à Sarkozy & Bachelot : http://www.theo.sg/courrier-sarkozy-<mark style=\"background-color:pink\">malformations</mark>-desherbants.pdf"
      ],
      "text/plain": [
       "<IPython.core.display.HTML object>"
      ]
     },
     "metadata": {},
     "output_type": "display_data"
    },
    {
     "data": {
      "text/html": [
       "<h2 style='text-align:center;'> Texte 9135377070 (8 sur 286)</h2>"
      ],
      "text/plain": [
       "<IPython.core.display.HTML object>"
      ]
     },
     "metadata": {},
     "output_type": "display_data"
    },
    {
     "data": {
      "text/html": [
       "<strong>Segment :</strong> 0 (2010-02-01 ; 2010-08-31)"
      ],
      "text/plain": [
       "<IPython.core.display.HTML object>"
      ]
     },
     "metadata": {},
     "output_type": "display_data"
    },
    {
     "data": {
      "text/html": [
       "<strong>Date :</strong> 2010-02-15"
      ],
      "text/plain": [
       "<IPython.core.display.HTML object>"
      ]
     },
     "metadata": {},
     "output_type": "display_data"
    },
    {
     "data": {
      "text/html": [
       "<strong>Auteur :</strong> RiskAssur/Notre-Siecle/PereLaFouine \n"
      ],
      "text/plain": [
       "<IPython.core.display.HTML object>"
      ]
     },
     "metadata": {},
     "output_type": "display_data"
    },
    {
     "name": "stdout",
     "output_type": "stream",
     "text": [
      "Termes indexés : ['expositions', 'pesticides', 'cancers'] \n",
      "\n",
      "Termes spécifiques présents : ['expositions', 'pesticides'] \n",
      "\n",
      "Termes spécifiques absents : {'développement', 'troubles', 'cassation', \"cour d'appel\", 'frelon', 'bisphénol a', 'parlementaires', 'résidus de pesticides', 'foetus', 'malformations', 'désherbant', 'cour', 'milieu', 'confédération paysanne', 'chlordécone', 'céréalier charentais', 'bisphénol', 'nature environnement'} \n",
      "\n"
     ]
    },
    {
     "data": {
      "text/html": [
       "<mark style=\"background-color:pink\">expositions</mark> aux <mark style=\"background-color:pink\">pesticides</mark> et risques de cancer. http://blog1.riskassur-hebdo.com/?p=1182"
      ],
      "text/plain": [
       "<IPython.core.display.HTML object>"
      ]
     },
     "metadata": {},
     "output_type": "display_data"
    },
    {
     "data": {
      "text/html": [
       "<h2 style='text-align:center;'> Texte 9245922496 (9 sur 286)</h2>"
      ],
      "text/plain": [
       "<IPython.core.display.HTML object>"
      ]
     },
     "metadata": {},
     "output_type": "display_data"
    },
    {
     "data": {
      "text/html": [
       "<strong>Segment :</strong> 0 (2010-02-01 ; 2010-08-31)"
      ],
      "text/plain": [
       "<IPython.core.display.HTML object>"
      ]
     },
     "metadata": {},
     "output_type": "display_data"
    },
    {
     "data": {
      "text/html": [
       "<strong>Date :</strong> 2010-02-17"
      ],
      "text/plain": [
       "<IPython.core.display.HTML object>"
      ]
     },
     "metadata": {},
     "output_type": "display_data"
    },
    {
     "data": {
      "text/html": [
       "<strong>Auteur :</strong> Nouvelles \n"
      ],
      "text/plain": [
       "<IPython.core.display.HTML object>"
      ]
     },
     "metadata": {},
     "output_type": "display_data"
    },
    {
     "name": "stdout",
     "output_type": "stream",
     "text": [
      "Termes indexés : ['pesticides', 'frelon', 'ogm', 'apiculteur'] \n",
      "\n",
      "Termes spécifiques présents : ['pesticides', 'frelon'] \n",
      "\n",
      "Termes spécifiques absents : {'développement', 'troubles', 'cassation', \"cour d'appel\", 'bisphénol a', 'parlementaires', 'résidus de pesticides', 'foetus', 'malformations', 'désherbant', 'cour', 'milieu', 'confédération paysanne', 'chlordécone', 'céréalier charentais', 'expositions', 'bisphénol', 'nature environnement'} \n",
      "\n"
     ]
    },
    {
     "data": {
      "text/html": [
       "Flash: <mark style=\"background-color:pink\">pesticides</mark>, <mark style=\"background-color:pink\">frelon</mark>s, <mark style=\"background-color:yellow\">ogm</mark>: les <mark style=\"background-color:yellow\">apiculteur</mark>s amers - L'Express http://bit.ly/9qf671"
      ],
      "text/plain": [
       "<IPython.core.display.HTML object>"
      ]
     },
     "metadata": {},
     "output_type": "display_data"
    },
    {
     "data": {
      "text/html": [
       "<h2 style='text-align:center;'> Texte 9233791261 (10 sur 286)</h2>"
      ],
      "text/plain": [
       "<IPython.core.display.HTML object>"
      ]
     },
     "metadata": {},
     "output_type": "display_data"
    },
    {
     "data": {
      "text/html": [
       "<strong>Segment :</strong> 0 (2010-02-01 ; 2010-08-31)"
      ],
      "text/plain": [
       "<IPython.core.display.HTML object>"
      ]
     },
     "metadata": {},
     "output_type": "display_data"
    },
    {
     "data": {
      "text/html": [
       "<strong>Date :</strong> 2010-02-17"
      ],
      "text/plain": [
       "<IPython.core.display.HTML object>"
      ]
     },
     "metadata": {},
     "output_type": "display_data"
    },
    {
     "data": {
      "text/html": [
       "<strong>Auteur :</strong> Buzz l'abeille \n"
      ],
      "text/plain": [
       "<IPython.core.display.HTML object>"
      ]
     },
     "metadata": {},
     "output_type": "display_data"
    },
    {
     "name": "stdout",
     "output_type": "stream",
     "text": [
      "Termes indexés : ['pesticides', 'frelon', 'apiculteur', 'unaf'] \n",
      "\n",
      "Termes spécifiques présents : ['pesticides', 'frelon'] \n",
      "\n",
      "Termes spécifiques absents : {'développement', 'troubles', 'cassation', \"cour d'appel\", 'bisphénol a', 'parlementaires', 'résidus de pesticides', 'foetus', 'malformations', 'désherbant', 'cour', 'milieu', 'confédération paysanne', 'chlordécone', 'céréalier charentais', 'expositions', 'bisphénol', 'nature environnement'} \n",
      "\n"
     ]
    },
    {
     "data": {
      "text/html": [
       "Mais où est @nk_m ? #<mark style=\"background-color:pink\">pesticides</mark> #<mark style=\"background-color:pink\">frelon</mark>s #OGM: les <mark style=\"background-color:yellow\">apiculteur</mark>s amers #<mark style=\"background-color:yellow\">unaf</mark> #Essonne2010 http://ow.ly/18dFZ"
      ],
      "text/plain": [
       "<IPython.core.display.HTML object>"
      ]
     },
     "metadata": {},
     "output_type": "display_data"
    },
    {
     "data": {
      "text/html": [
       "<h2 style='text-align:center;'> Texte 9232104014 (11 sur 286)</h2>"
      ],
      "text/plain": [
       "<IPython.core.display.HTML object>"
      ]
     },
     "metadata": {},
     "output_type": "display_data"
    },
    {
     "data": {
      "text/html": [
       "<strong>Segment :</strong> 0 (2010-02-01 ; 2010-08-31)"
      ],
      "text/plain": [
       "<IPython.core.display.HTML object>"
      ]
     },
     "metadata": {},
     "output_type": "display_data"
    },
    {
     "data": {
      "text/html": [
       "<strong>Date :</strong> 2010-02-17"
      ],
      "text/plain": [
       "<IPython.core.display.HTML object>"
      ]
     },
     "metadata": {},
     "output_type": "display_data"
    },
    {
     "data": {
      "text/html": [
       "<strong>Auteur :</strong> infospresse \n"
      ],
      "text/plain": [
       "<IPython.core.display.HTML object>"
      ]
     },
     "metadata": {},
     "output_type": "display_data"
    },
    {
     "name": "stdout",
     "output_type": "stream",
     "text": [
      "Termes indexés : ['pesticides', 'frelon', 'ogm', 'apiculteur'] \n",
      "\n",
      "Termes spécifiques présents : ['pesticides', 'frelon'] \n",
      "\n",
      "Termes spécifiques absents : {'développement', 'troubles', 'cassation', \"cour d'appel\", 'bisphénol a', 'parlementaires', 'résidus de pesticides', 'foetus', 'malformations', 'désherbant', 'cour', 'milieu', 'confédération paysanne', 'chlordécone', 'céréalier charentais', 'expositions', 'bisphénol', 'nature environnement'} \n",
      "\n"
     ]
    },
    {
     "data": {
      "text/html": [
       "<mark style=\"background-color:pink\">pesticides</mark>, <mark style=\"background-color:pink\">frelon</mark>s, <mark style=\"background-color:yellow\">ogm</mark>: les <mark style=\"background-color:yellow\">apiculteur</mark>s amers - http://trunc.it/5onpu"
      ],
      "text/plain": [
       "<IPython.core.display.HTML object>"
      ]
     },
     "metadata": {},
     "output_type": "display_data"
    },
    {
     "data": {
      "text/html": [
       "<h2 style='text-align:center;'> Texte 9294262839 (12 sur 286)</h2>"
      ],
      "text/plain": [
       "<IPython.core.display.HTML object>"
      ]
     },
     "metadata": {},
     "output_type": "display_data"
    },
    {
     "data": {
      "text/html": [
       "<strong>Segment :</strong> 0 (2010-02-01 ; 2010-08-31)"
      ],
      "text/plain": [
       "<IPython.core.display.HTML object>"
      ]
     },
     "metadata": {},
     "output_type": "display_data"
    },
    {
     "data": {
      "text/html": [
       "<strong>Date :</strong> 2010-02-18"
      ],
      "text/plain": [
       "<IPython.core.display.HTML object>"
      ]
     },
     "metadata": {},
     "output_type": "display_data"
    },
    {
     "data": {
      "text/html": [
       "<strong>Auteur :</strong> insectes \n"
      ],
      "text/plain": [
       "<IPython.core.display.HTML object>"
      ]
     },
     "metadata": {},
     "output_type": "display_data"
    },
    {
     "name": "stdout",
     "output_type": "stream",
     "text": [
      "Termes indexés : ['abeilles', 'frelon', 'pesticides'] \n",
      "\n",
      "Termes spécifiques présents : ['frelon', 'pesticides'] \n",
      "\n",
      "Termes spécifiques absents : {'développement', 'troubles', 'cassation', \"cour d'appel\", 'bisphénol a', 'parlementaires', 'résidus de pesticides', 'foetus', 'malformations', 'désherbant', 'cour', 'milieu', 'confédération paysanne', 'chlordécone', 'céréalier charentais', 'expositions', 'bisphénol', 'nature environnement'} \n",
      "\n"
     ]
    },
    {
     "data": {
      "text/html": [
       "Les <mark style=\"background-color:yellow\">abeilles</mark> pourront-elles résister à la double menace <mark style=\"background-color:pink\">frelon</mark>s asiatiques et <mark style=\"background-color:pink\">pesticides</mark> ?  (http://cli.gs/ZR1jE) http://cli.gs/ZR1jE"
      ],
      "text/plain": [
       "<IPython.core.display.HTML object>"
      ]
     },
     "metadata": {},
     "output_type": "display_data"
    },
    {
     "data": {
      "text/html": [
       "<h2 style='text-align:center;'> Texte 9282954224 (13 sur 286)</h2>"
      ],
      "text/plain": [
       "<IPython.core.display.HTML object>"
      ]
     },
     "metadata": {},
     "output_type": "display_data"
    },
    {
     "data": {
      "text/html": [
       "<strong>Segment :</strong> 0 (2010-02-01 ; 2010-08-31)"
      ],
      "text/plain": [
       "<IPython.core.display.HTML object>"
      ]
     },
     "metadata": {},
     "output_type": "display_data"
    },
    {
     "data": {
      "text/html": [
       "<strong>Date :</strong> 2010-02-18"
      ],
      "text/plain": [
       "<IPython.core.display.HTML object>"
      ]
     },
     "metadata": {},
     "output_type": "display_data"
    },
    {
     "data": {
      "text/html": [
       "<strong>Auteur :</strong> Laurent GIMALAC \n"
      ],
      "text/plain": [
       "<IPython.core.display.HTML object>"
      ]
     },
     "metadata": {},
     "output_type": "display_data"
    },
    {
     "name": "stdout",
     "output_type": "stream",
     "text": [
      "Termes indexés : ['pesticides', 'frelon', 'ogm', 'apiculteur'] \n",
      "\n",
      "Termes spécifiques présents : ['pesticides', 'frelon'] \n",
      "\n",
      "Termes spécifiques absents : {'développement', 'troubles', 'cassation', \"cour d'appel\", 'bisphénol a', 'parlementaires', 'résidus de pesticides', 'foetus', 'malformations', 'désherbant', 'cour', 'milieu', 'confédération paysanne', 'chlordécone', 'céréalier charentais', 'expositions', 'bisphénol', 'nature environnement'} \n",
      "\n"
     ]
    },
    {
     "data": {
      "text/html": [
       "<mark style=\"background-color:pink\">pesticides</mark>, <mark style=\"background-color:pink\">frelon</mark>s, <mark style=\"background-color:yellow\">ogm</mark>: les <mark style=\"background-color:yellow\">apiculteur</mark>s amers http://tinyurl.com/ycrd7ds"
      ],
      "text/plain": [
       "<IPython.core.display.HTML object>"
      ]
     },
     "metadata": {},
     "output_type": "display_data"
    },
    {
     "data": {
      "text/html": [
       "<h2 style='text-align:center;'> Texte 9466934844 (14 sur 286)</h2>"
      ],
      "text/plain": [
       "<IPython.core.display.HTML object>"
      ]
     },
     "metadata": {},
     "output_type": "display_data"
    },
    {
     "data": {
      "text/html": [
       "<strong>Segment :</strong> 0 (2010-02-01 ; 2010-08-31)"
      ],
      "text/plain": [
       "<IPython.core.display.HTML object>"
      ]
     },
     "metadata": {},
     "output_type": "display_data"
    },
    {
     "data": {
      "text/html": [
       "<strong>Date :</strong> 2010-02-22"
      ],
      "text/plain": [
       "<IPython.core.display.HTML object>"
      ]
     },
     "metadata": {},
     "output_type": "display_data"
    },
    {
     "data": {
      "text/html": [
       "<strong>Auteur :</strong> Laurent GIMALAC \n"
      ],
      "text/plain": [
       "<IPython.core.display.HTML object>"
      ]
     },
     "metadata": {},
     "output_type": "display_data"
    },
    {
     "name": "stdout",
     "output_type": "stream",
     "text": [
      "Termes indexés : ['pesticides', 'monsanto', 'cassation'] \n",
      "\n",
      "Termes spécifiques présents : ['pesticides', 'cassation'] \n",
      "\n",
      "Termes spécifiques absents : {'développement', 'troubles', \"cour d'appel\", 'frelon', 'bisphénol a', 'parlementaires', 'résidus de pesticides', 'foetus', 'malformations', 'désherbant', 'cour', 'milieu', 'confédération paysanne', 'chlordécone', 'céréalier charentais', 'expositions', 'bisphénol', 'nature environnement'} \n",
      "\n"
     ]
    },
    {
     "data": {
      "text/html": [
       "<mark style=\"background-color:pink\">pesticides</mark> : la condamnation de <mark style=\"background-color:yellow\">monsanto</mark> pour publicité mensongère confirmée en <mark style=\"background-color:pink\">cassation</mark>. http://tinyurl.com/ydrn5sk"
      ],
      "text/plain": [
       "<IPython.core.display.HTML object>"
      ]
     },
     "metadata": {},
     "output_type": "display_data"
    },
    {
     "data": {
      "text/html": [
       "<h2 style='text-align:center;'> Texte 9965739071 (15 sur 286)</h2>"
      ],
      "text/plain": [
       "<IPython.core.display.HTML object>"
      ]
     },
     "metadata": {},
     "output_type": "display_data"
    },
    {
     "data": {
      "text/html": [
       "<strong>Segment :</strong> 0 (2010-02-01 ; 2010-08-31)"
      ],
      "text/plain": [
       "<IPython.core.display.HTML object>"
      ]
     },
     "metadata": {},
     "output_type": "display_data"
    },
    {
     "data": {
      "text/html": [
       "<strong>Date :</strong> 2010-03-04"
      ],
      "text/plain": [
       "<IPython.core.display.HTML object>"
      ]
     },
     "metadata": {},
     "output_type": "display_data"
    },
    {
     "data": {
      "text/html": [
       "<strong>Auteur :</strong> La Dépêche du Midi \n"
      ],
      "text/plain": [
       "<IPython.core.display.HTML object>"
      ]
     },
     "metadata": {},
     "output_type": "display_data"
    },
    {
     "name": "stdout",
     "output_type": "stream",
     "text": [
      "Termes indexés : ['pesticides', 'bisphénol', 'bisphénol a', 'débat'] \n",
      "\n",
      "Termes spécifiques présents : ['pesticides', 'bisphénol', 'bisphénol a'] \n",
      "\n",
      "Termes spécifiques absents : {'développement', 'troubles', 'cassation', \"cour d'appel\", 'frelon', 'parlementaires', 'résidus de pesticides', 'foetus', 'malformations', 'désherbant', 'cour', 'milieu', 'confédération paysanne', 'chlordécone', 'céréalier charentais', 'expositions', 'nature environnement'} \n",
      "\n"
     ]
    },
    {
     "data": {
      "text/html": [
       "<mark style=\"background-color:pink\">pesticides</mark>, <mark style=\"background-color:pink\">bisphénol</mark> A : <mark style=\"background-color:yellow\">débat</mark> sur un mal invisible: <mark style=\"background-color:pink\">pesticides</mark>, <mark style=\"background-color:pink\">bisphénol</mark> A : comment mesure-t-on la to... http://bit.ly/dffng5 #toulouse"
      ],
      "text/plain": [
       "<IPython.core.display.HTML object>"
      ]
     },
     "metadata": {},
     "output_type": "display_data"
    },
    {
     "data": {
      "text/html": [
       "<h2 style='text-align:center;'> Texte 10118947784 (16 sur 286)</h2>"
      ],
      "text/plain": [
       "<IPython.core.display.HTML object>"
      ]
     },
     "metadata": {},
     "output_type": "display_data"
    },
    {
     "data": {
      "text/html": [
       "<strong>Segment :</strong> 0 (2010-02-01 ; 2010-08-31)"
      ],
      "text/plain": [
       "<IPython.core.display.HTML object>"
      ]
     },
     "metadata": {},
     "output_type": "display_data"
    },
    {
     "data": {
      "text/html": [
       "<strong>Date :</strong> 2010-03-07"
      ],
      "text/plain": [
       "<IPython.core.display.HTML object>"
      ]
     },
     "metadata": {},
     "output_type": "display_data"
    },
    {
     "data": {
      "text/html": [
       "<strong>Auteur :</strong> Sabine Grataloup \n"
      ],
      "text/plain": [
       "<IPython.core.display.HTML object>"
      ]
     },
     "metadata": {},
     "output_type": "display_data"
    },
    {
     "name": "stdout",
     "output_type": "stream",
     "text": [
      "Termes indexés : ['malformations', 'pesticides'] \n",
      "\n",
      "Termes spécifiques présents : ['malformations', 'pesticides'] \n",
      "\n",
      "Termes spécifiques absents : {'développement', 'troubles', 'cassation', \"cour d'appel\", 'frelon', 'bisphénol a', 'parlementaires', 'résidus de pesticides', 'foetus', 'désherbant', 'cour', 'milieu', 'confédération paysanne', 'chlordécone', 'céréalier charentais', 'expositions', 'bisphénol', 'nature environnement'} \n",
      "\n"
     ]
    },
    {
     "data": {
      "text/html": [
       "Sarkozy devra prendre ses responsabilités car averti officiellement des risques de <mark style=\"background-color:pink\">malformations</mark> liés aux <mark style=\"background-color:pink\">pesticides</mark> - http://www.theo.sg"
      ],
      "text/plain": [
       "<IPython.core.display.HTML object>"
      ]
     },
     "metadata": {},
     "output_type": "display_data"
    },
    {
     "data": {
      "text/html": [
       "<h2 style='text-align:center;'> Texte 10412743238 (17 sur 286)</h2>"
      ],
      "text/plain": [
       "<IPython.core.display.HTML object>"
      ]
     },
     "metadata": {},
     "output_type": "display_data"
    },
    {
     "data": {
      "text/html": [
       "<strong>Segment :</strong> 0 (2010-02-01 ; 2010-08-31)"
      ],
      "text/plain": [
       "<IPython.core.display.HTML object>"
      ]
     },
     "metadata": {},
     "output_type": "display_data"
    },
    {
     "data": {
      "text/html": [
       "<strong>Date :</strong> 2010-03-13"
      ],
      "text/plain": [
       "<IPython.core.display.HTML object>"
      ]
     },
     "metadata": {},
     "output_type": "display_data"
    },
    {
     "data": {
      "text/html": [
       "<strong>Auteur :</strong> Christine Merlin \n"
      ],
      "text/plain": [
       "<IPython.core.display.HTML object>"
      ]
     },
     "metadata": {},
     "output_type": "display_data"
    },
    {
     "name": "stdout",
     "output_type": "stream",
     "text": [
      "Termes indexés : ['vins', 'résidus', 'résidus de pesticides', 'pesticides'] \n",
      "\n",
      "Termes spécifiques présents : ['résidus de pesticides', 'pesticides'] \n",
      "\n",
      "Termes spécifiques absents : {'développement', 'troubles', 'cassation', \"cour d'appel\", 'frelon', 'bisphénol a', 'parlementaires', 'foetus', 'malformations', 'désherbant', 'cour', 'milieu', 'confédération paysanne', 'chlordécone', 'céréalier charentais', 'expositions', 'bisphénol', 'nature environnement'} \n",
      "\n"
     ]
    },
    {
     "data": {
      "text/html": [
       "100% des <mark style=\"background-color:yellow\">vins</mark> conventionnels testés contaminés. en moyenne plus de 4 (max 10) <mark style=\"background-color:yellow\">résidus</mark> de <mark style=\"background-color:pink\">pesticides</mark> différents"
      ],
      "text/plain": [
       "<IPython.core.display.HTML object>"
      ]
     },
     "metadata": {},
     "output_type": "display_data"
    },
    {
     "data": {
      "text/html": [
       "<h2 style='text-align:center;'> Texte 10639354003 (18 sur 286)</h2>"
      ],
      "text/plain": [
       "<IPython.core.display.HTML object>"
      ]
     },
     "metadata": {},
     "output_type": "display_data"
    },
    {
     "data": {
      "text/html": [
       "<strong>Segment :</strong> 0 (2010-02-01 ; 2010-08-31)"
      ],
      "text/plain": [
       "<IPython.core.display.HTML object>"
      ]
     },
     "metadata": {},
     "output_type": "display_data"
    },
    {
     "data": {
      "text/html": [
       "<strong>Date :</strong> 2010-03-17"
      ],
      "text/plain": [
       "<IPython.core.display.HTML object>"
      ]
     },
     "metadata": {},
     "output_type": "display_data"
    },
    {
     "data": {
      "text/html": [
       "<strong>Auteur :</strong> Dominique D. \n"
      ],
      "text/plain": [
       "<IPython.core.display.HTML object>"
      ]
     },
     "metadata": {},
     "output_type": "display_data"
    },
    {
     "name": "stdout",
     "output_type": "stream",
     "text": [
      "Termes indexés : ['résidus', 'résidus de pesticides', 'pesticides', 'vitamines'] \n",
      "\n",
      "Termes spécifiques présents : ['résidus de pesticides', 'pesticides'] \n",
      "\n",
      "Termes spécifiques absents : {'développement', 'troubles', 'cassation', \"cour d'appel\", 'frelon', 'bisphénol a', 'parlementaires', 'foetus', 'malformations', 'désherbant', 'cour', 'milieu', 'confédération paysanne', 'chlordécone', 'céréalier charentais', 'expositions', 'bisphénol', 'nature environnement'} \n",
      "\n"
     ]
    },
    {
     "data": {
      "text/html": [
       "Charybde+Scylla version moderne=si tu pèles ta pomme pr éviter les <mark style=\"background-color:yellow\">résidus</mark> de <mark style=\"background-color:pink\">pesticides</mark>, tu ingères bcq moins de <mark style=\"background-color:yellow\">vitamines</mark>/juste ss la peau"
      ],
      "text/plain": [
       "<IPython.core.display.HTML object>"
      ]
     },
     "metadata": {},
     "output_type": "display_data"
    },
    {
     "data": {
      "text/html": [
       "<h2 style='text-align:center;'> Texte 10688129099 (19 sur 286)</h2>"
      ],
      "text/plain": [
       "<IPython.core.display.HTML object>"
      ]
     },
     "metadata": {},
     "output_type": "display_data"
    },
    {
     "data": {
      "text/html": [
       "<strong>Segment :</strong> 0 (2010-02-01 ; 2010-08-31)"
      ],
      "text/plain": [
       "<IPython.core.display.HTML object>"
      ]
     },
     "metadata": {},
     "output_type": "display_data"
    },
    {
     "data": {
      "text/html": [
       "<strong>Date :</strong> 2010-03-18"
      ],
      "text/plain": [
       "<IPython.core.display.HTML object>"
      ]
     },
     "metadata": {},
     "output_type": "display_data"
    },
    {
     "data": {
      "text/html": [
       "<strong>Auteur :</strong> RTL info \n"
      ],
      "text/plain": [
       "<IPython.core.display.HTML object>"
      ]
     },
     "metadata": {},
     "output_type": "display_data"
    },
    {
     "name": "stdout",
     "output_type": "stream",
     "text": [
      "Termes indexés : ['résidus', 'résidus de pesticides', 'pesticides', 'études'] \n",
      "\n",
      "Termes spécifiques présents : ['résidus de pesticides', 'pesticides'] \n",
      "\n",
      "Termes spécifiques absents : {'développement', 'troubles', 'cassation', \"cour d'appel\", 'frelon', 'bisphénol a', 'parlementaires', 'foetus', 'malformations', 'désherbant', 'cour', 'milieu', 'confédération paysanne', 'chlordécone', 'céréalier charentais', 'expositions', 'bisphénol', 'nature environnement'} \n",
      "\n"
     ]
    },
    {
     "data": {
      "text/html": [
       "#actu - Des <mark style=\"background-color:yellow\">résidus</mark> de <mark style=\"background-color:pink\">pesticides</mark> dans huit fruits sur dix: Selon une étude de Test-Achats huit fruits testés sur ... http://bit.ly/apm5XB"
      ],
      "text/plain": [
       "<IPython.core.display.HTML object>"
      ]
     },
     "metadata": {},
     "output_type": "display_data"
    },
    {
     "data": {
      "text/html": [
       "<h2 style='text-align:center;'> Texte 10683708872 (20 sur 286)</h2>"
      ],
      "text/plain": [
       "<IPython.core.display.HTML object>"
      ]
     },
     "metadata": {},
     "output_type": "display_data"
    },
    {
     "data": {
      "text/html": [
       "<strong>Segment :</strong> 0 (2010-02-01 ; 2010-08-31)"
      ],
      "text/plain": [
       "<IPython.core.display.HTML object>"
      ]
     },
     "metadata": {},
     "output_type": "display_data"
    },
    {
     "data": {
      "text/html": [
       "<strong>Date :</strong> 2010-03-18"
      ],
      "text/plain": [
       "<IPython.core.display.HTML object>"
      ]
     },
     "metadata": {},
     "output_type": "display_data"
    },
    {
     "data": {
      "text/html": [
       "<strong>Auteur :</strong> RTL info \n"
      ],
      "text/plain": [
       "<IPython.core.display.HTML object>"
      ]
     },
     "metadata": {},
     "output_type": "display_data"
    },
    {
     "name": "stdout",
     "output_type": "stream",
     "text": [
      "Termes indexés : ['résidus', 'résidus de pesticides', 'pesticides'] \n",
      "\n",
      "Termes spécifiques présents : ['résidus de pesticides', 'pesticides'] \n",
      "\n",
      "Termes spécifiques absents : {'développement', 'troubles', 'cassation', \"cour d'appel\", 'frelon', 'bisphénol a', 'parlementaires', 'foetus', 'malformations', 'désherbant', 'cour', 'milieu', 'confédération paysanne', 'chlordécone', 'céréalier charentais', 'expositions', 'bisphénol', 'nature environnement'} \n",
      "\n"
     ]
    },
    {
     "data": {
      "text/html": [
       "#videortl - 8 fruits sur 10 contiennent des <mark style=\"background-color:yellow\">résidus</mark> de <mark style=\"background-color:pink\">pesticides</mark> selon Test-Achats http://bit.ly/9TliNt"
      ],
      "text/plain": [
       "<IPython.core.display.HTML object>"
      ]
     },
     "metadata": {},
     "output_type": "display_data"
    },
    {
     "data": {
      "text/html": [
       "<h2 style='text-align:center;'> Texte 10674351549 (21 sur 286)</h2>"
      ],
      "text/plain": [
       "<IPython.core.display.HTML object>"
      ]
     },
     "metadata": {},
     "output_type": "display_data"
    },
    {
     "data": {
      "text/html": [
       "<strong>Segment :</strong> 0 (2010-02-01 ; 2010-08-31)"
      ],
      "text/plain": [
       "<IPython.core.display.HTML object>"
      ]
     },
     "metadata": {},
     "output_type": "display_data"
    },
    {
     "data": {
      "text/html": [
       "<strong>Date :</strong> 2010-03-18"
      ],
      "text/plain": [
       "<IPython.core.display.HTML object>"
      ]
     },
     "metadata": {},
     "output_type": "display_data"
    },
    {
     "data": {
      "text/html": [
       "<strong>Auteur :</strong> Twitty Bel \n"
      ],
      "text/plain": [
       "<IPython.core.display.HTML object>"
      ]
     },
     "metadata": {},
     "output_type": "display_data"
    },
    {
     "name": "stdout",
     "output_type": "stream",
     "text": [
      "Termes indexés : ['résidus', 'résidus de pesticides', 'pesticides'] \n",
      "\n",
      "Termes spécifiques présents : ['résidus de pesticides', 'pesticides'] \n",
      "\n",
      "Termes spécifiques absents : {'développement', 'troubles', 'cassation', \"cour d'appel\", 'frelon', 'bisphénol a', 'parlementaires', 'foetus', 'malformations', 'désherbant', 'cour', 'milieu', 'confédération paysanne', 'chlordécone', 'céréalier charentais', 'expositions', 'bisphénol', 'nature environnement'} \n",
      "\n"
     ]
    },
    {
     "data": {
      "text/html": [
       "Belgique - België Huit fruits sur dix contiennent des <mark style=\"background-color:yellow\">résidus</mark> de <mark style=\"background-color:pink\">pesticides</mark>: \n",
       "Huit fruits testés sur d... http://bit.ly/bPoIp2 Belspace.com"
      ],
      "text/plain": [
       "<IPython.core.display.HTML object>"
      ]
     },
     "metadata": {},
     "output_type": "display_data"
    },
    {
     "data": {
      "text/html": [
       "<h2 style='text-align:center;'> Texte 10673305932 (22 sur 286)</h2>"
      ],
      "text/plain": [
       "<IPython.core.display.HTML object>"
      ]
     },
     "metadata": {},
     "output_type": "display_data"
    },
    {
     "data": {
      "text/html": [
       "<strong>Segment :</strong> 0 (2010-02-01 ; 2010-08-31)"
      ],
      "text/plain": [
       "<IPython.core.display.HTML object>"
      ]
     },
     "metadata": {},
     "output_type": "display_data"
    },
    {
     "data": {
      "text/html": [
       "<strong>Date :</strong> 2010-03-18"
      ],
      "text/plain": [
       "<IPython.core.display.HTML object>"
      ]
     },
     "metadata": {},
     "output_type": "display_data"
    },
    {
     "data": {
      "text/html": [
       "<strong>Auteur :</strong> Doxys Nutrition \n"
      ],
      "text/plain": [
       "<IPython.core.display.HTML object>"
      ]
     },
     "metadata": {},
     "output_type": "display_data"
    },
    {
     "name": "stdout",
     "output_type": "stream",
     "text": [
      "Termes indexés : ['résidus', 'résidus de pesticides', 'pesticides'] \n",
      "\n",
      "Termes spécifiques présents : ['résidus de pesticides', 'pesticides'] \n",
      "\n",
      "Termes spécifiques absents : {'développement', 'troubles', 'cassation', \"cour d'appel\", 'frelon', 'bisphénol a', 'parlementaires', 'foetus', 'malformations', 'désherbant', 'cour', 'milieu', 'confédération paysanne', 'chlordécone', 'céréalier charentais', 'expositions', 'bisphénol', 'nature environnement'} \n",
      "\n"
     ]
    },
    {
     "data": {
      "text/html": [
       "Huit fruits sur dix contiennent des <mark style=\"background-color:yellow\">résidus</mark> de <mark style=\"background-color:pink\">pesticides</mark>   http://bit.ly/9e3TqV"
      ],
      "text/plain": [
       "<IPython.core.display.HTML object>"
      ]
     },
     "metadata": {},
     "output_type": "display_data"
    },
    {
     "data": {
      "text/html": [
       "<h2 style='text-align:center;'> Texte 10672391612 (23 sur 286)</h2>"
      ],
      "text/plain": [
       "<IPython.core.display.HTML object>"
      ]
     },
     "metadata": {},
     "output_type": "display_data"
    },
    {
     "data": {
      "text/html": [
       "<strong>Segment :</strong> 0 (2010-02-01 ; 2010-08-31)"
      ],
      "text/plain": [
       "<IPython.core.display.HTML object>"
      ]
     },
     "metadata": {},
     "output_type": "display_data"
    },
    {
     "data": {
      "text/html": [
       "<strong>Date :</strong> 2010-03-18"
      ],
      "text/plain": [
       "<IPython.core.display.HTML object>"
      ]
     },
     "metadata": {},
     "output_type": "display_data"
    },
    {
     "data": {
      "text/html": [
       "<strong>Auteur :</strong> La Rédaction \n"
      ],
      "text/plain": [
       "<IPython.core.display.HTML object>"
      ]
     },
     "metadata": {},
     "output_type": "display_data"
    },
    {
     "name": "stdout",
     "output_type": "stream",
     "text": [
      "Termes indexés : ['résidus', 'résidus de pesticides', 'pesticides'] \n",
      "\n",
      "Termes spécifiques présents : ['résidus de pesticides', 'pesticides'] \n",
      "\n",
      "Termes spécifiques absents : {'développement', 'troubles', 'cassation', \"cour d'appel\", 'frelon', 'bisphénol a', 'parlementaires', 'foetus', 'malformations', 'désherbant', 'cour', 'milieu', 'confédération paysanne', 'chlordécone', 'céréalier charentais', 'expositions', 'bisphénol', 'nature environnement'} \n",
      "\n"
     ]
    },
    {
     "data": {
      "text/html": [
       "Huit fruits sur dix contiennent des <mark style=\"background-color:yellow\">résidus</mark> de <mark style=\"background-color:pink\">pesticides</mark>: Huit fruits testés sur dix contiennent des <mark style=\"background-color:yellow\">résidus</mark> de p... http://bit.ly/aZoOrl"
      ],
      "text/plain": [
       "<IPython.core.display.HTML object>"
      ]
     },
     "metadata": {},
     "output_type": "display_data"
    },
    {
     "data": {
      "text/html": [
       "<h2 style='text-align:center;'> Texte 10672378750 (24 sur 286)</h2>"
      ],
      "text/plain": [
       "<IPython.core.display.HTML object>"
      ]
     },
     "metadata": {},
     "output_type": "display_data"
    },
    {
     "data": {
      "text/html": [
       "<strong>Segment :</strong> 0 (2010-02-01 ; 2010-08-31)"
      ],
      "text/plain": [
       "<IPython.core.display.HTML object>"
      ]
     },
     "metadata": {},
     "output_type": "display_data"
    },
    {
     "data": {
      "text/html": [
       "<strong>Date :</strong> 2010-03-18"
      ],
      "text/plain": [
       "<IPython.core.display.HTML object>"
      ]
     },
     "metadata": {},
     "output_type": "display_data"
    },
    {
     "data": {
      "text/html": [
       "<strong>Auteur :</strong> Arnaud Ginions \n"
      ],
      "text/plain": [
       "<IPython.core.display.HTML object>"
      ]
     },
     "metadata": {},
     "output_type": "display_data"
    },
    {
     "name": "stdout",
     "output_type": "stream",
     "text": [
      "Termes indexés : ['résidus', 'résidus de pesticides', 'pesticides'] \n",
      "\n",
      "Termes spécifiques présents : ['résidus de pesticides', 'pesticides'] \n",
      "\n",
      "Termes spécifiques absents : {'développement', 'troubles', 'cassation', \"cour d'appel\", 'frelon', 'bisphénol a', 'parlementaires', 'foetus', 'malformations', 'désherbant', 'cour', 'milieu', 'confédération paysanne', 'chlordécone', 'céréalier charentais', 'expositions', 'bisphénol', 'nature environnement'} \n",
      "\n"
     ]
    },
    {
     "data": {
      "text/html": [
       "\"Des <mark style=\"background-color:yellow\">résidus</mark> de <mark style=\"background-color:pink\">pesticides</mark> dans huit fruits sur dix\"...http://www.actu24.be/MBO_Article/427185.aspx"
      ],
      "text/plain": [
       "<IPython.core.display.HTML object>"
      ]
     },
     "metadata": {},
     "output_type": "display_data"
    },
    {
     "data": {
      "text/html": [
       "<h2 style='text-align:center;'> Texte 10672103703 (25 sur 286)</h2>"
      ],
      "text/plain": [
       "<IPython.core.display.HTML object>"
      ]
     },
     "metadata": {},
     "output_type": "display_data"
    },
    {
     "data": {
      "text/html": [
       "<strong>Segment :</strong> 0 (2010-02-01 ; 2010-08-31)"
      ],
      "text/plain": [
       "<IPython.core.display.HTML object>"
      ]
     },
     "metadata": {},
     "output_type": "display_data"
    },
    {
     "data": {
      "text/html": [
       "<strong>Date :</strong> 2010-03-18"
      ],
      "text/plain": [
       "<IPython.core.display.HTML object>"
      ]
     },
     "metadata": {},
     "output_type": "display_data"
    },
    {
     "data": {
      "text/html": [
       "<strong>Auteur :</strong> Fabien \n"
      ],
      "text/plain": [
       "<IPython.core.display.HTML object>"
      ]
     },
     "metadata": {},
     "output_type": "display_data"
    },
    {
     "name": "stdout",
     "output_type": "stream",
     "text": [
      "Termes indexés : ['résidus', 'résidus de pesticides', 'pesticides'] \n",
      "\n",
      "Termes spécifiques présents : ['résidus de pesticides', 'pesticides'] \n",
      "\n",
      "Termes spécifiques absents : {'développement', 'troubles', 'cassation', \"cour d'appel\", 'frelon', 'bisphénol a', 'parlementaires', 'foetus', 'malformations', 'désherbant', 'cour', 'milieu', 'confédération paysanne', 'chlordécone', 'céréalier charentais', 'expositions', 'bisphénol', 'nature environnement'} \n",
      "\n"
     ]
    },
    {
     "data": {
      "text/html": [
       "RT @stephan75 Des <mark style=\"background-color:yellow\">résidus</mark> de <mark style=\"background-color:pink\">pesticides</mark> dans huit fruits sur dix http://bit.ly/bah1pf / faut en manger 5/jour… donc 4 aux <mark style=\"background-color:pink\">pesticides</mark>;)"
      ],
      "text/plain": [
       "<IPython.core.display.HTML object>"
      ]
     },
     "metadata": {},
     "output_type": "display_data"
    },
    {
     "data": {
      "text/html": [
       "<h2 style='text-align:center;'> Texte 10672025280 (26 sur 286)</h2>"
      ],
      "text/plain": [
       "<IPython.core.display.HTML object>"
      ]
     },
     "metadata": {},
     "output_type": "display_data"
    },
    {
     "data": {
      "text/html": [
       "<strong>Segment :</strong> 0 (2010-02-01 ; 2010-08-31)"
      ],
      "text/plain": [
       "<IPython.core.display.HTML object>"
      ]
     },
     "metadata": {},
     "output_type": "display_data"
    },
    {
     "data": {
      "text/html": [
       "<strong>Date :</strong> 2010-03-18"
      ],
      "text/plain": [
       "<IPython.core.display.HTML object>"
      ]
     },
     "metadata": {},
     "output_type": "display_data"
    },
    {
     "data": {
      "text/html": [
       "<strong>Auteur :</strong> not stephan \n"
      ],
      "text/plain": [
       "<IPython.core.display.HTML object>"
      ]
     },
     "metadata": {},
     "output_type": "display_data"
    },
    {
     "name": "stdout",
     "output_type": "stream",
     "text": [
      "Termes indexés : ['résidus', 'résidus de pesticides', 'pesticides'] \n",
      "\n",
      "Termes spécifiques présents : ['résidus de pesticides', 'pesticides'] \n",
      "\n",
      "Termes spécifiques absents : {'développement', 'troubles', 'cassation', \"cour d'appel\", 'frelon', 'bisphénol a', 'parlementaires', 'foetus', 'malformations', 'désherbant', 'cour', 'milieu', 'confédération paysanne', 'chlordécone', 'céréalier charentais', 'expositions', 'bisphénol', 'nature environnement'} \n",
      "\n"
     ]
    },
    {
     "data": {
      "text/html": [
       "Test-Achats: \"Des <mark style=\"background-color:yellow\">résidus</mark> de <mark style=\"background-color:pink\">pesticides</mark> dans huit fruits sur dix\" http://bit.ly/bah1pf #miammiam"
      ],
      "text/plain": [
       "<IPython.core.display.HTML object>"
      ]
     },
     "metadata": {},
     "output_type": "display_data"
    },
    {
     "data": {
      "text/html": [
       "<h2 style='text-align:center;'> Texte 10671978514 (27 sur 286)</h2>"
      ],
      "text/plain": [
       "<IPython.core.display.HTML object>"
      ]
     },
     "metadata": {},
     "output_type": "display_data"
    },
    {
     "data": {
      "text/html": [
       "<strong>Segment :</strong> 0 (2010-02-01 ; 2010-08-31)"
      ],
      "text/plain": [
       "<IPython.core.display.HTML object>"
      ]
     },
     "metadata": {},
     "output_type": "display_data"
    },
    {
     "data": {
      "text/html": [
       "<strong>Date :</strong> 2010-03-18"
      ],
      "text/plain": [
       "<IPython.core.display.HTML object>"
      ]
     },
     "metadata": {},
     "output_type": "display_data"
    },
    {
     "data": {
      "text/html": [
       "<strong>Auteur :</strong> luptidej \n"
      ],
      "text/plain": [
       "<IPython.core.display.HTML object>"
      ]
     },
     "metadata": {},
     "output_type": "display_data"
    },
    {
     "name": "stdout",
     "output_type": "stream",
     "text": [
      "Termes indexés : ['résidus', 'résidus de pesticides', 'pesticides'] \n",
      "\n",
      "Termes spécifiques présents : ['résidus de pesticides', 'pesticides'] \n",
      "\n",
      "Termes spécifiques absents : {'développement', 'troubles', 'cassation', \"cour d'appel\", 'frelon', 'bisphénol a', 'parlementaires', 'foetus', 'malformations', 'désherbant', 'cour', 'milieu', 'confédération paysanne', 'chlordécone', 'céréalier charentais', 'expositions', 'bisphénol', 'nature environnement'} \n",
      "\n"
     ]
    },
    {
     "data": {
      "text/html": [
       "RT @actu24: Test-Achats: \"Des <mark style=\"background-color:yellow\">résidus</mark> de <mark style=\"background-color:pink\">pesticides</mark> dans huit fruits sur dix\" http://bit.ly/bah1pf"
      ],
      "text/plain": [
       "<IPython.core.display.HTML object>"
      ]
     },
     "metadata": {},
     "output_type": "display_data"
    },
    {
     "data": {
      "text/html": [
       "<h2 style='text-align:center;'> Texte 10671863878 (28 sur 286)</h2>"
      ],
      "text/plain": [
       "<IPython.core.display.HTML object>"
      ]
     },
     "metadata": {},
     "output_type": "display_data"
    },
    {
     "data": {
      "text/html": [
       "<strong>Segment :</strong> 0 (2010-02-01 ; 2010-08-31)"
      ],
      "text/plain": [
       "<IPython.core.display.HTML object>"
      ]
     },
     "metadata": {},
     "output_type": "display_data"
    },
    {
     "data": {
      "text/html": [
       "<strong>Date :</strong> 2010-03-18"
      ],
      "text/plain": [
       "<IPython.core.display.HTML object>"
      ]
     },
     "metadata": {},
     "output_type": "display_data"
    },
    {
     "data": {
      "text/html": [
       "<strong>Auteur :</strong> lavenir.net \n"
      ],
      "text/plain": [
       "<IPython.core.display.HTML object>"
      ]
     },
     "metadata": {},
     "output_type": "display_data"
    },
    {
     "name": "stdout",
     "output_type": "stream",
     "text": [
      "Termes indexés : ['résidus', 'résidus de pesticides', 'pesticides'] \n",
      "\n",
      "Termes spécifiques présents : ['résidus de pesticides', 'pesticides'] \n",
      "\n",
      "Termes spécifiques absents : {'développement', 'troubles', 'cassation', \"cour d'appel\", 'frelon', 'bisphénol a', 'parlementaires', 'foetus', 'malformations', 'désherbant', 'cour', 'milieu', 'confédération paysanne', 'chlordécone', 'céréalier charentais', 'expositions', 'bisphénol', 'nature environnement'} \n",
      "\n"
     ]
    },
    {
     "data": {
      "text/html": [
       "Test-Achats: \"Des <mark style=\"background-color:yellow\">résidus</mark> de <mark style=\"background-color:pink\">pesticides</mark> dans huit fruits sur dix\" http://bit.ly/bah1pf"
      ],
      "text/plain": [
       "<IPython.core.display.HTML object>"
      ]
     },
     "metadata": {},
     "output_type": "display_data"
    },
    {
     "data": {
      "text/html": [
       "<h2 style='text-align:center;'> Texte 10722240364 (29 sur 286)</h2>"
      ],
      "text/plain": [
       "<IPython.core.display.HTML object>"
      ]
     },
     "metadata": {},
     "output_type": "display_data"
    },
    {
     "data": {
      "text/html": [
       "<strong>Segment :</strong> 0 (2010-02-01 ; 2010-08-31)"
      ],
      "text/plain": [
       "<IPython.core.display.HTML object>"
      ]
     },
     "metadata": {},
     "output_type": "display_data"
    },
    {
     "data": {
      "text/html": [
       "<strong>Date :</strong> 2010-03-19"
      ],
      "text/plain": [
       "<IPython.core.display.HTML object>"
      ]
     },
     "metadata": {},
     "output_type": "display_data"
    },
    {
     "data": {
      "text/html": [
       "<strong>Auteur :</strong> Phineas_Barnum \n"
      ],
      "text/plain": [
       "<IPython.core.display.HTML object>"
      ]
     },
     "metadata": {},
     "output_type": "display_data"
    },
    {
     "name": "stdout",
     "output_type": "stream",
     "text": [
      "Termes indexés : ['résidus', 'résidus de pesticides', 'pesticides'] \n",
      "\n",
      "Termes spécifiques présents : ['résidus de pesticides', 'pesticides'] \n",
      "\n",
      "Termes spécifiques absents : {'développement', 'troubles', 'cassation', \"cour d'appel\", 'frelon', 'bisphénol a', 'parlementaires', 'foetus', 'malformations', 'désherbant', 'cour', 'milieu', 'confédération paysanne', 'chlordécone', 'céréalier charentais', 'expositions', 'bisphénol', 'nature environnement'} \n",
      "\n"
     ]
    },
    {
     "data": {
      "text/html": [
       "Gravissime ! 8 fruits sur 10 contiennent des <mark style=\"background-color:yellow\">résidus</mark> de <mark style=\"background-color:pink\">pesticides</mark> selon Test-Achats http://video.rtlinfo.be/video/139579.aspx"
      ],
      "text/plain": [
       "<IPython.core.display.HTML object>"
      ]
     },
     "metadata": {},
     "output_type": "display_data"
    },
    {
     "data": {
      "text/html": [
       "<h2 style='text-align:center;'> Texte 10720820843 (30 sur 286)</h2>"
      ],
      "text/plain": [
       "<IPython.core.display.HTML object>"
      ]
     },
     "metadata": {},
     "output_type": "display_data"
    },
    {
     "data": {
      "text/html": [
       "<strong>Segment :</strong> 0 (2010-02-01 ; 2010-08-31)"
      ],
      "text/plain": [
       "<IPython.core.display.HTML object>"
      ]
     },
     "metadata": {},
     "output_type": "display_data"
    },
    {
     "data": {
      "text/html": [
       "<strong>Date :</strong> 2010-03-19"
      ],
      "text/plain": [
       "<IPython.core.display.HTML object>"
      ]
     },
     "metadata": {},
     "output_type": "display_data"
    },
    {
     "data": {
      "text/html": [
       "<strong>Auteur :</strong> Test Achats \n"
      ],
      "text/plain": [
       "<IPython.core.display.HTML object>"
      ]
     },
     "metadata": {},
     "output_type": "display_data"
    },
    {
     "name": "stdout",
     "output_type": "stream",
     "text": [
      "Termes indexés : ['résidus', 'résidus de pesticides', 'pesticides'] \n",
      "\n",
      "Termes spécifiques présents : ['résidus de pesticides', 'pesticides'] \n",
      "\n",
      "Termes spécifiques absents : {'développement', 'troubles', 'cassation', \"cour d'appel\", 'frelon', 'bisphénol a', 'parlementaires', 'foetus', 'malformations', 'désherbant', 'cour', 'milieu', 'confédération paysanne', 'chlordécone', 'céréalier charentais', 'expositions', 'bisphénol', 'nature environnement'} \n",
      "\n"
     ]
    },
    {
     "data": {
      "text/html": [
       "Trop de <mark style=\"background-color:yellow\">résidus</mark> de <mark style=\"background-color:pink\">pesticides</mark> dans les fruits: La plupart des fruits analysés renfermaient encore trop souvent des... http://bit.ly/aMIBKW"
      ],
      "text/plain": [
       "<IPython.core.display.HTML object>"
      ]
     },
     "metadata": {},
     "output_type": "display_data"
    },
    {
     "data": {
      "text/html": [
       "<h2 style='text-align:center;'> Texte 10715703516 (31 sur 286)</h2>"
      ],
      "text/plain": [
       "<IPython.core.display.HTML object>"
      ]
     },
     "metadata": {},
     "output_type": "display_data"
    },
    {
     "data": {
      "text/html": [
       "<strong>Segment :</strong> 0 (2010-02-01 ; 2010-08-31)"
      ],
      "text/plain": [
       "<IPython.core.display.HTML object>"
      ]
     },
     "metadata": {},
     "output_type": "display_data"
    },
    {
     "data": {
      "text/html": [
       "<strong>Date :</strong> 2010-03-19"
      ],
      "text/plain": [
       "<IPython.core.display.HTML object>"
      ]
     },
     "metadata": {},
     "output_type": "display_data"
    },
    {
     "data": {
      "text/html": [
       "<strong>Auteur :</strong> napakatbra \n"
      ],
      "text/plain": [
       "<IPython.core.display.HTML object>"
      ]
     },
     "metadata": {},
     "output_type": "display_data"
    },
    {
     "name": "stdout",
     "output_type": "stream",
     "text": [
      "Termes indexés : ['résidus', 'résidus de pesticides', 'pesticides'] \n",
      "\n",
      "Termes spécifiques présents : ['résidus de pesticides', 'pesticides'] \n",
      "\n",
      "Termes spécifiques absents : {'développement', 'troubles', 'cassation', \"cour d'appel\", 'frelon', 'bisphénol a', 'parlementaires', 'foetus', 'malformations', 'désherbant', 'cour', 'milieu', 'confédération paysanne', 'chlordécone', 'céréalier charentais', 'expositions', 'bisphénol', 'nature environnement'} \n",
      "\n"
     ]
    },
    {
     "data": {
      "text/html": [
       "Huit fruits sur dix contiennent des <mark style=\"background-color:yellow\">résidus</mark> de <mark style=\"background-color:pink\">pesticides</mark>: Huit fruits testés sur dix contiennent des <mark style=\"background-color:yellow\">résidus</mark> de p... http://bit.ly/bPbxEO"
      ],
      "text/plain": [
       "<IPython.core.display.HTML object>"
      ]
     },
     "metadata": {},
     "output_type": "display_data"
    },
    {
     "data": {
      "text/html": [
       "<h2 style='text-align:center;'> Texte 10721436066 (32 sur 286)</h2>"
      ],
      "text/plain": [
       "<IPython.core.display.HTML object>"
      ]
     },
     "metadata": {},
     "output_type": "display_data"
    },
    {
     "data": {
      "text/html": [
       "<strong>Segment :</strong> 0 (2010-02-01 ; 2010-08-31)"
      ],
      "text/plain": [
       "<IPython.core.display.HTML object>"
      ]
     },
     "metadata": {},
     "output_type": "display_data"
    },
    {
     "data": {
      "text/html": [
       "<strong>Date :</strong> 2010-03-19"
      ],
      "text/plain": [
       "<IPython.core.display.HTML object>"
      ]
     },
     "metadata": {},
     "output_type": "display_data"
    },
    {
     "data": {
      "text/html": [
       "<strong>Auteur :</strong> Bamboo Bar \n"
      ],
      "text/plain": [
       "<IPython.core.display.HTML object>"
      ]
     },
     "metadata": {},
     "output_type": "display_data"
    },
    {
     "name": "stdout",
     "output_type": "stream",
     "text": [
      "Termes indexés : ['résidus', 'résidus de pesticides', 'pesticides'] \n",
      "\n",
      "Termes spécifiques présents : ['résidus de pesticides', 'pesticides'] \n",
      "\n",
      "Termes spécifiques absents : {'développement', 'troubles', 'cassation', \"cour d'appel\", 'frelon', 'bisphénol a', 'parlementaires', 'foetus', 'malformations', 'désherbant', 'cour', 'milieu', 'confédération paysanne', 'chlordécone', 'céréalier charentais', 'expositions', 'bisphénol', 'nature environnement'} \n",
      "\n",
      "http://bit.ly/aR8MysDes <mark style=\"background-color:yellow\">résidus</mark> de <mark style=\"background-color:pink\">pesticides</mark> dans huit fruits sur dix \n",
      "\n"
     ]
    },
    {
     "data": {
      "text/html": [
       "<h2 style='text-align:center;'> Texte 10736137595 (33 sur 286)</h2>"
      ],
      "text/plain": [
       "<IPython.core.display.HTML object>"
      ]
     },
     "metadata": {},
     "output_type": "display_data"
    },
    {
     "data": {
      "text/html": [
       "<strong>Segment :</strong> 0 (2010-02-01 ; 2010-08-31)"
      ],
      "text/plain": [
       "<IPython.core.display.HTML object>"
      ]
     },
     "metadata": {},
     "output_type": "display_data"
    },
    {
     "data": {
      "text/html": [
       "<strong>Date :</strong> 2010-03-19"
      ],
      "text/plain": [
       "<IPython.core.display.HTML object>"
      ]
     },
     "metadata": {},
     "output_type": "display_data"
    },
    {
     "data": {
      "text/html": [
       "<strong>Auteur :</strong> Test Achats \n"
      ],
      "text/plain": [
       "<IPython.core.display.HTML object>"
      ]
     },
     "metadata": {},
     "output_type": "display_data"
    },
    {
     "name": "stdout",
     "output_type": "stream",
     "text": [
      "Termes indexés : ['résidus', 'résidus de pesticides', 'pesticides'] \n",
      "\n",
      "Termes spécifiques présents : ['résidus de pesticides', 'pesticides'] \n",
      "\n",
      "Termes spécifiques absents : {'développement', 'troubles', 'cassation', \"cour d'appel\", 'frelon', 'bisphénol a', 'parlementaires', 'foetus', 'malformations', 'désherbant', 'cour', 'milieu', 'confédération paysanne', 'chlordécone', 'céréalier charentais', 'expositions', 'bisphénol', 'nature environnement'} \n",
      "\n"
     ]
    },
    {
     "data": {
      "text/html": [
       "Trop de <mark style=\"background-color:yellow\">résidus</mark> de <mark style=\"background-color:pink\">pesticides</mark> dans les fruits http://ow.ly/16QgS0"
      ],
      "text/plain": [
       "<IPython.core.display.HTML object>"
      ]
     },
     "metadata": {},
     "output_type": "display_data"
    },
    {
     "data": {
      "text/html": [
       "<h2 style='text-align:center;'> Texte 10727937309 (34 sur 286)</h2>"
      ],
      "text/plain": [
       "<IPython.core.display.HTML object>"
      ]
     },
     "metadata": {},
     "output_type": "display_data"
    },
    {
     "data": {
      "text/html": [
       "<strong>Segment :</strong> 0 (2010-02-01 ; 2010-08-31)"
      ],
      "text/plain": [
       "<IPython.core.display.HTML object>"
      ]
     },
     "metadata": {},
     "output_type": "display_data"
    },
    {
     "data": {
      "text/html": [
       "<strong>Date :</strong> 2010-03-19"
      ],
      "text/plain": [
       "<IPython.core.display.HTML object>"
      ]
     },
     "metadata": {},
     "output_type": "display_data"
    },
    {
     "data": {
      "text/html": [
       "<strong>Auteur :</strong> Les Pestes Acides \n"
      ],
      "text/plain": [
       "<IPython.core.display.HTML object>"
      ]
     },
     "metadata": {},
     "output_type": "display_data"
    },
    {
     "name": "stdout",
     "output_type": "stream",
     "text": [
      "Termes indexés : ['résidus', 'résidus de pesticides', 'pesticides'] \n",
      "\n",
      "Termes spécifiques présents : ['résidus de pesticides', 'pesticides'] \n",
      "\n",
      "Termes spécifiques absents : {'développement', 'troubles', 'cassation', \"cour d'appel\", 'frelon', 'bisphénol a', 'parlementaires', 'foetus', 'malformations', 'désherbant', 'cour', 'milieu', 'confédération paysanne', 'chlordécone', 'céréalier charentais', 'expositions', 'bisphénol', 'nature environnement'} \n",
      "\n"
     ]
    },
    {
     "data": {
      "text/html": [
       "@fbardeau bien possible : \"huit fruits sur dix contiennent des <mark style=\"background-color:yellow\">résidus</mark> de <mark style=\"background-color:pink\">pesticides</mark>\" http://ow.ly/1ovAS"
      ],
      "text/plain": [
       "<IPython.core.display.HTML object>"
      ]
     },
     "metadata": {},
     "output_type": "display_data"
    },
    {
     "data": {
      "text/html": [
       "<h2 style='text-align:center;'> Texte 10722790563 (35 sur 286)</h2>"
      ],
      "text/plain": [
       "<IPython.core.display.HTML object>"
      ]
     },
     "metadata": {},
     "output_type": "display_data"
    },
    {
     "data": {
      "text/html": [
       "<strong>Segment :</strong> 0 (2010-02-01 ; 2010-08-31)"
      ],
      "text/plain": [
       "<IPython.core.display.HTML object>"
      ]
     },
     "metadata": {},
     "output_type": "display_data"
    },
    {
     "data": {
      "text/html": [
       "<strong>Date :</strong> 2010-03-19"
      ],
      "text/plain": [
       "<IPython.core.display.HTML object>"
      ]
     },
     "metadata": {},
     "output_type": "display_data"
    },
    {
     "data": {
      "text/html": [
       "<strong>Auteur :</strong> al-aide.com \n"
      ],
      "text/plain": [
       "<IPython.core.display.HTML object>"
      ]
     },
     "metadata": {},
     "output_type": "display_data"
    },
    {
     "name": "stdout",
     "output_type": "stream",
     "text": [
      "Termes indexés : ['résidus', 'résidus de pesticides', 'pesticides'] \n",
      "\n",
      "Termes spécifiques présents : ['résidus de pesticides', 'pesticides'] \n",
      "\n",
      "Termes spécifiques absents : {'développement', 'troubles', 'cassation', \"cour d'appel\", 'frelon', 'bisphénol a', 'parlementaires', 'foetus', 'malformations', 'désherbant', 'cour', 'milieu', 'confédération paysanne', 'chlordécone', 'céréalier charentais', 'expositions', 'bisphénol', 'nature environnement'} \n",
      "\n"
     ]
    },
    {
     "data": {
      "text/html": [
       "Huit fruits sur dix contiennent des <mark style=\"background-color:yellow\">résidus</mark> de <mark style=\"background-color:pink\">pesticides</mark> - http://t-pa.net/621712"
      ],
      "text/plain": [
       "<IPython.core.display.HTML object>"
      ]
     },
     "metadata": {},
     "output_type": "display_data"
    },
    {
     "data": {
      "text/html": [
       "<h2 style='text-align:center;'> Texte 11493518939 (36 sur 286)</h2>"
      ],
      "text/plain": [
       "<IPython.core.display.HTML object>"
      ]
     },
     "metadata": {},
     "output_type": "display_data"
    },
    {
     "data": {
      "text/html": [
       "<strong>Segment :</strong> 0 (2010-02-01 ; 2010-08-31)"
      ],
      "text/plain": [
       "<IPython.core.display.HTML object>"
      ]
     },
     "metadata": {},
     "output_type": "display_data"
    },
    {
     "data": {
      "text/html": [
       "<strong>Date :</strong> 2010-04-02"
      ],
      "text/plain": [
       "<IPython.core.display.HTML object>"
      ]
     },
     "metadata": {},
     "output_type": "display_data"
    },
    {
     "data": {
      "text/html": [
       "<strong>Auteur :</strong> France Nature Environnement \n"
      ],
      "text/plain": [
       "<IPython.core.display.HTML object>"
      ]
     },
     "metadata": {},
     "output_type": "display_data"
    },
    {
     "name": "stdout",
     "output_type": "stream",
     "text": [
      "Termes indexés : ['pesticides', 'développement'] \n",
      "\n",
      "Termes spécifiques présents : ['pesticides', 'développement'] \n",
      "\n",
      "Termes spécifiques absents : {'troubles', 'cassation', \"cour d'appel\", 'frelon', 'bisphénol a', 'parlementaires', 'résidus de pesticides', 'foetus', 'malformations', 'désherbant', 'cour', 'milieu', 'confédération paysanne', 'chlordécone', 'céréalier charentais', 'expositions', 'bisphénol', 'nature environnement'} \n",
      "\n"
     ]
    },
    {
     "data": {
      "text/html": [
       "Jardinage : réduisons fortement les <mark style=\"background-color:pink\">pesticides</mark> !:  Dans le cadre de la Semaine du <mark style=\"background-color:pink\">développement</mark> Durable, les Minis... http://bit.ly/9xIkI5"
      ],
      "text/plain": [
       "<IPython.core.display.HTML object>"
      ]
     },
     "metadata": {},
     "output_type": "display_data"
    },
    {
     "data": {
      "text/html": [
       "<h2 style='text-align:center;'> Texte 11469517972 (37 sur 286)</h2>"
      ],
      "text/plain": [
       "<IPython.core.display.HTML object>"
      ]
     },
     "metadata": {},
     "output_type": "display_data"
    },
    {
     "data": {
      "text/html": [
       "<strong>Segment :</strong> 0 (2010-02-01 ; 2010-08-31)"
      ],
      "text/plain": [
       "<IPython.core.display.HTML object>"
      ]
     },
     "metadata": {},
     "output_type": "display_data"
    },
    {
     "data": {
      "text/html": [
       "<strong>Date :</strong> 2010-04-02"
      ],
      "text/plain": [
       "<IPython.core.display.HTML object>"
      ]
     },
     "metadata": {},
     "output_type": "display_data"
    },
    {
     "data": {
      "text/html": [
       "<strong>Auteur :</strong> Wolters Kluwer Fr \n"
      ],
      "text/plain": [
       "<IPython.core.display.HTML object>"
      ]
     },
     "metadata": {},
     "output_type": "display_data"
    },
    {
     "name": "stdout",
     "output_type": "stream",
     "text": [
      "Termes indexés : ['résidus', 'résidus de pesticides', 'pesticides', 'limite', 'limites maximales'] \n",
      "\n",
      "Termes spécifiques présents : ['résidus de pesticides', 'pesticides'] \n",
      "\n",
      "Termes spécifiques absents : {'développement', 'troubles', 'cassation', \"cour d'appel\", 'frelon', 'bisphénol a', 'parlementaires', 'foetus', 'malformations', 'désherbant', 'cour', 'milieu', 'confédération paysanne', 'chlordécone', 'céréalier charentais', 'expositions', 'bisphénol', 'nature environnement'} \n",
      "\n"
     ]
    },
    {
     "data": {
      "text/html": [
       "A propos des <mark style=\"background-color:yellow\">résidus</mark> de <mark style=\"background-color:pink\">pesticides</mark> dans les denrées alimentaires: De nouvelles <mark style=\"background-color:yellow\">limite</mark>s maximales sont fixées pour ... http://bit.ly/amxTvg"
      ],
      "text/plain": [
       "<IPython.core.display.HTML object>"
      ]
     },
     "metadata": {},
     "output_type": "display_data"
    },
    {
     "data": {
      "text/html": [
       "<h2 style='text-align:center;'> Texte 11695604341 (38 sur 286)</h2>"
      ],
      "text/plain": [
       "<IPython.core.display.HTML object>"
      ]
     },
     "metadata": {},
     "output_type": "display_data"
    },
    {
     "data": {
      "text/html": [
       "<strong>Segment :</strong> 0 (2010-02-01 ; 2010-08-31)"
      ],
      "text/plain": [
       "<IPython.core.display.HTML object>"
      ]
     },
     "metadata": {},
     "output_type": "display_data"
    },
    {
     "data": {
      "text/html": [
       "<strong>Date :</strong> 2010-04-06"
      ],
      "text/plain": [
       "<IPython.core.display.HTML object>"
      ]
     },
     "metadata": {},
     "output_type": "display_data"
    },
    {
     "data": {
      "text/html": [
       "<strong>Auteur :</strong> Vendeeinfo \n"
      ],
      "text/plain": [
       "<IPython.core.display.HTML object>"
      ]
     },
     "metadata": {},
     "output_type": "display_data"
    },
    {
     "name": "stdout",
     "output_type": "stream",
     "text": [
      "Termes indexés : ['développement', 'pesticides'] \n",
      "\n",
      "Termes spécifiques présents : ['développement', 'pesticides'] \n",
      "\n",
      "Termes spécifiques absents : {'troubles', 'cassation', \"cour d'appel\", 'frelon', 'bisphénol a', 'parlementaires', 'résidus de pesticides', 'foetus', 'malformations', 'désherbant', 'cour', 'milieu', 'confédération paysanne', 'chlordécone', 'céréalier charentais', 'expositions', 'bisphénol', 'nature environnement'} \n",
      "\n"
     ]
    },
    {
     "data": {
      "text/html": [
       "Vendeeinfo | <mark style=\"background-color:pink\">développement</mark> durable: Chantal JOUANNO signe un accord cadre sur l’usage des <mark style=\"background-color:pink\">pesticides</mark> p... | Vendeeinfo http://xfru.it/aYRpUF"
      ],
      "text/plain": [
       "<IPython.core.display.HTML object>"
      ]
     },
     "metadata": {},
     "output_type": "display_data"
    },
    {
     "data": {
      "text/html": [
       "<h2 style='text-align:center;'> Texte 12130469966 (39 sur 286)</h2>"
      ],
      "text/plain": [
       "<IPython.core.display.HTML object>"
      ]
     },
     "metadata": {},
     "output_type": "display_data"
    },
    {
     "data": {
      "text/html": [
       "<strong>Segment :</strong> 0 (2010-02-01 ; 2010-08-31)"
      ],
      "text/plain": [
       "<IPython.core.display.HTML object>"
      ]
     },
     "metadata": {},
     "output_type": "display_data"
    },
    {
     "data": {
      "text/html": [
       "<strong>Date :</strong> 2010-04-13"
      ],
      "text/plain": [
       "<IPython.core.display.HTML object>"
      ]
     },
     "metadata": {},
     "output_type": "display_data"
    },
    {
     "data": {
      "text/html": [
       "<strong>Auteur :</strong> Dans la prairie \n"
      ],
      "text/plain": [
       "<IPython.core.display.HTML object>"
      ]
     },
     "metadata": {},
     "output_type": "display_data"
    },
    {
     "name": "stdout",
     "output_type": "stream",
     "text": [
      "Termes indexés : ['avis', 'campagne', 'pesticides', 'développement'] \n",
      "\n",
      "Termes spécifiques présents : ['pesticides', 'développement'] \n",
      "\n",
      "Termes spécifiques absents : {'troubles', 'cassation', \"cour d'appel\", 'frelon', 'bisphénol a', 'parlementaires', 'résidus de pesticides', 'foetus', 'malformations', 'désherbant', 'cour', 'milieu', 'confédération paysanne', 'chlordécone', 'céréalier charentais', 'expositions', 'bisphénol', 'nature environnement'} \n",
      "\n"
     ]
    },
    {
     "data": {
      "text/html": [
       "<mark style=\"background-color:yellow\">avis</mark> aux jardiniers du dimanche : <mark style=\"background-color:yellow\">campagne</mark> de prévention contre les <mark style=\"background-color:pink\">pesticides</mark> (Ministère du <mark style=\"background-color:pink\">développement</mark> Durable). http://fb.me/xrgZHANT"
      ],
      "text/plain": [
       "<IPython.core.display.HTML object>"
      ]
     },
     "metadata": {},
     "output_type": "display_data"
    },
    {
     "data": {
      "text/html": [
       "<h2 style='text-align:center;'> Texte 12701933366 (40 sur 286)</h2>"
      ],
      "text/plain": [
       "<IPython.core.display.HTML object>"
      ]
     },
     "metadata": {},
     "output_type": "display_data"
    },
    {
     "data": {
      "text/html": [
       "<strong>Segment :</strong> 0 (2010-02-01 ; 2010-08-31)"
      ],
      "text/plain": [
       "<IPython.core.display.HTML object>"
      ]
     },
     "metadata": {},
     "output_type": "display_data"
    },
    {
     "data": {
      "text/html": [
       "<strong>Date :</strong> 2010-04-23"
      ],
      "text/plain": [
       "<IPython.core.display.HTML object>"
      ]
     },
     "metadata": {},
     "output_type": "display_data"
    },
    {
     "data": {
      "text/html": [
       "<strong>Auteur :</strong> bxpatrick \n"
      ],
      "text/plain": [
       "<IPython.core.display.HTML object>"
      ]
     },
     "metadata": {},
     "output_type": "display_data"
    },
    {
     "name": "stdout",
     "output_type": "stream",
     "text": [
      "Termes indexés : ['pesticides', 'céréaliers', 'céréalier charentais'] \n",
      "\n",
      "Termes spécifiques présents : ['pesticides', 'céréalier charentais'] \n",
      "\n",
      "Termes spécifiques absents : {'développement', 'troubles', 'cassation', \"cour d'appel\", 'frelon', 'bisphénol a', 'parlementaires', 'résidus de pesticides', 'foetus', 'malformations', 'désherbant', 'cour', 'milieu', 'confédération paysanne', 'chlordécone', 'expositions', 'bisphénol', 'nature environnement'} \n",
      "\n"
     ]
    },
    {
     "data": {
      "text/html": [
       "Intoxiqué aux <mark style=\"background-color:pink\">pesticides</mark>, un <mark style=\"background-color:pink\">céréalier charentais</mark> part en croisade contre Monsento http://goo.gl/oJdE"
      ],
      "text/plain": [
       "<IPython.core.display.HTML object>"
      ]
     },
     "metadata": {},
     "output_type": "display_data"
    },
    {
     "data": {
      "text/html": [
       "<h2 style='text-align:center;'> Texte 12689103026 (41 sur 286)</h2>"
      ],
      "text/plain": [
       "<IPython.core.display.HTML object>"
      ]
     },
     "metadata": {},
     "output_type": "display_data"
    },
    {
     "data": {
      "text/html": [
       "<strong>Segment :</strong> 0 (2010-02-01 ; 2010-08-31)"
      ],
      "text/plain": [
       "<IPython.core.display.HTML object>"
      ]
     },
     "metadata": {},
     "output_type": "display_data"
    },
    {
     "data": {
      "text/html": [
       "<strong>Date :</strong> 2010-04-23"
      ],
      "text/plain": [
       "<IPython.core.display.HTML object>"
      ]
     },
     "metadata": {},
     "output_type": "display_data"
    },
    {
     "data": {
      "text/html": [
       "<strong>Auteur :</strong> Afrique Actu \n"
      ],
      "text/plain": [
       "<IPython.core.display.HTML object>"
      ]
     },
     "metadata": {},
     "output_type": "display_data"
    },
    {
     "name": "stdout",
     "output_type": "stream",
     "text": [
      "Termes indexés : ['paul françois', 'victimes', 'victimes de pesticides', 'pesticides', 'céréaliers', 'céréalier charentais'] \n",
      "\n",
      "Termes spécifiques présents : ['pesticides', 'céréalier charentais'] \n",
      "\n",
      "Termes spécifiques absents : {'développement', 'troubles', 'cassation', \"cour d'appel\", 'frelon', 'bisphénol a', 'parlementaires', 'résidus de pesticides', 'foetus', 'malformations', 'désherbant', 'cour', 'milieu', 'confédération paysanne', 'chlordécone', 'expositions', 'bisphénol', 'nature environnement'} \n",
      "\n"
     ]
    },
    {
     "data": {
      "text/html": [
       "<mark style=\"background-color:yellow\">paul françois</mark>, porte-drapeau \"malgré lui\" des <mark style=\"background-color:yellow\">victimes</mark> des <mark style=\"background-color:pink\">pesticides</mark>: <mark style=\"background-color:yellow\">paul françois</mark>, un <mark style=\"background-color:pink\">céréalier charentais</mark> en p... http://bit.ly/9aBsKS"
      ],
      "text/plain": [
       "<IPython.core.display.HTML object>"
      ]
     },
     "metadata": {},
     "output_type": "display_data"
    },
    {
     "data": {
      "text/html": [
       "<h2 style='text-align:center;'> Texte 12780252673 (42 sur 286)</h2>"
      ],
      "text/plain": [
       "<IPython.core.display.HTML object>"
      ]
     },
     "metadata": {},
     "output_type": "display_data"
    },
    {
     "data": {
      "text/html": [
       "<strong>Segment :</strong> 0 (2010-02-01 ; 2010-08-31)"
      ],
      "text/plain": [
       "<IPython.core.display.HTML object>"
      ]
     },
     "metadata": {},
     "output_type": "display_data"
    },
    {
     "data": {
      "text/html": [
       "<strong>Date :</strong> 2010-04-24"
      ],
      "text/plain": [
       "<IPython.core.display.HTML object>"
      ]
     },
     "metadata": {},
     "output_type": "display_data"
    },
    {
     "data": {
      "text/html": [
       "<strong>Auteur :</strong> Laurent GIMALAC \n"
      ],
      "text/plain": [
       "<IPython.core.display.HTML object>"
      ]
     },
     "metadata": {},
     "output_type": "display_data"
    },
    {
     "name": "stdout",
     "output_type": "stream",
     "text": [
      "Termes indexés : ['pesticides', 'céréaliers', 'céréalier charentais', 'monsanto'] \n",
      "\n",
      "Termes spécifiques présents : ['pesticides', 'céréalier charentais'] \n",
      "\n",
      "Termes spécifiques absents : {'développement', 'troubles', 'cassation', \"cour d'appel\", 'frelon', 'bisphénol a', 'parlementaires', 'résidus de pesticides', 'foetus', 'malformations', 'désherbant', 'cour', 'milieu', 'confédération paysanne', 'chlordécone', 'expositions', 'bisphénol', 'nature environnement'} \n",
      "\n"
     ]
    },
    {
     "data": {
      "text/html": [
       "Intoxiqué aux <mark style=\"background-color:pink\">pesticides</mark>, un <mark style=\"background-color:pink\">céréalier charentais</mark> part en croisade contre <mark style=\"background-color:yellow\">monsanto</mark> http://tinyurl.com/37ysto4"
      ],
      "text/plain": [
       "<IPython.core.display.HTML object>"
      ]
     },
     "metadata": {},
     "output_type": "display_data"
    },
    {
     "data": {
      "text/html": [
       "<h2 style='text-align:center;'> Texte 12773605586 (43 sur 286)</h2>"
      ],
      "text/plain": [
       "<IPython.core.display.HTML object>"
      ]
     },
     "metadata": {},
     "output_type": "display_data"
    },
    {
     "data": {
      "text/html": [
       "<strong>Segment :</strong> 0 (2010-02-01 ; 2010-08-31)"
      ],
      "text/plain": [
       "<IPython.core.display.HTML object>"
      ]
     },
     "metadata": {},
     "output_type": "display_data"
    },
    {
     "data": {
      "text/html": [
       "<strong>Date :</strong> 2010-04-24"
      ],
      "text/plain": [
       "<IPython.core.display.HTML object>"
      ]
     },
     "metadata": {},
     "output_type": "display_data"
    },
    {
     "data": {
      "text/html": [
       "<strong>Auteur :</strong> VERDAGE Cindy \n"
      ],
      "text/plain": [
       "<IPython.core.display.HTML object>"
      ]
     },
     "metadata": {},
     "output_type": "display_data"
    },
    {
     "name": "stdout",
     "output_type": "stream",
     "text": [
      "Termes indexés : ['pesticides', 'céréaliers', 'céréalier charentais', 'monsanto', 'écologique'] \n",
      "\n",
      "Termes spécifiques présents : ['pesticides', 'céréalier charentais'] \n",
      "\n",
      "Termes spécifiques absents : {'développement', 'troubles', 'cassation', \"cour d'appel\", 'frelon', 'bisphénol a', 'parlementaires', 'résidus de pesticides', 'foetus', 'malformations', 'désherbant', 'cour', 'milieu', 'confédération paysanne', 'chlordécone', 'expositions', 'bisphénol', 'nature environnement'} \n",
      "\n"
     ]
    },
    {
     "data": {
      "text/html": [
       "Intoxiqué aux <mark style=\"background-color:pink\">pesticides</mark>, un <mark style=\"background-color:pink\">céréalier charentais</mark> part en croisade contre <mark style=\"background-color:yellow\">monsanto</mark> - Actualités <mark style=\"background-color:yellow\">écologique</mark>s de Lily-Joy http://goo.gl/8Epm"
      ],
      "text/plain": [
       "<IPython.core.display.HTML object>"
      ]
     },
     "metadata": {},
     "output_type": "display_data"
    },
    {
     "data": {
      "text/html": [
       "<h2 style='text-align:center;'> Texte 13023661750 (44 sur 286)</h2>"
      ],
      "text/plain": [
       "<IPython.core.display.HTML object>"
      ]
     },
     "metadata": {},
     "output_type": "display_data"
    },
    {
     "data": {
      "text/html": [
       "<strong>Segment :</strong> 0 (2010-02-01 ; 2010-08-31)"
      ],
      "text/plain": [
       "<IPython.core.display.HTML object>"
      ]
     },
     "metadata": {},
     "output_type": "display_data"
    },
    {
     "data": {
      "text/html": [
       "<strong>Date :</strong> 2010-04-28"
      ],
      "text/plain": [
       "<IPython.core.display.HTML object>"
      ]
     },
     "metadata": {},
     "output_type": "display_data"
    },
    {
     "data": {
      "text/html": [
       "<strong>Auteur :</strong> Wikio_LaUne \n"
      ],
      "text/plain": [
       "<IPython.core.display.HTML object>"
      ]
     },
     "metadata": {},
     "output_type": "display_data"
    },
    {
     "name": "stdout",
     "output_type": "stream",
     "text": [
      "Termes indexés : ['pesticides', 'parlementaires'] \n",
      "\n",
      "Termes spécifiques présents : ['pesticides', 'parlementaires'] \n",
      "\n",
      "Termes spécifiques absents : {'développement', 'troubles', 'cassation', \"cour d'appel\", 'frelon', 'bisphénol a', 'résidus de pesticides', 'foetus', 'malformations', 'désherbant', 'cour', 'milieu', 'confédération paysanne', 'chlordécone', 'céréalier charentais', 'expositions', 'bisphénol', 'nature environnement'} \n",
      "\n"
     ]
    },
    {
     "data": {
      "text/html": [
       "<mark style=\"background-color:pink\">pesticides</mark>: un rapport parlementaire met en garde contre une diminution trop brutale (20 minutes): ENVIRONNEMENT - Selon le texte, ils..."
      ],
      "text/plain": [
       "<IPython.core.display.HTML object>"
      ]
     },
     "metadata": {},
     "output_type": "display_data"
    },
    {
     "data": {
      "text/html": [
       "<h2 style='text-align:center;'> Texte 13019006034 (45 sur 286)</h2>"
      ],
      "text/plain": [
       "<IPython.core.display.HTML object>"
      ]
     },
     "metadata": {},
     "output_type": "display_data"
    },
    {
     "data": {
      "text/html": [
       "<strong>Segment :</strong> 0 (2010-02-01 ; 2010-08-31)"
      ],
      "text/plain": [
       "<IPython.core.display.HTML object>"
      ]
     },
     "metadata": {},
     "output_type": "display_data"
    },
    {
     "data": {
      "text/html": [
       "<strong>Date :</strong> 2010-04-28"
      ],
      "text/plain": [
       "<IPython.core.display.HTML object>"
      ]
     },
     "metadata": {},
     "output_type": "display_data"
    },
    {
     "data": {
      "text/html": [
       "<strong>Auteur :</strong> Laura Zendrini \n"
      ],
      "text/plain": [
       "<IPython.core.display.HTML object>"
      ]
     },
     "metadata": {},
     "output_type": "display_data"
    },
    {
     "name": "stdout",
     "output_type": "stream",
     "text": [
      "Termes indexés : ['pesticides', 'parlementaires', 'paris'] \n",
      "\n",
      "Termes spécifiques présents : ['pesticides', 'parlementaires'] \n",
      "\n",
      "Termes spécifiques absents : {'développement', 'troubles', 'cassation', \"cour d'appel\", 'frelon', 'bisphénol a', 'résidus de pesticides', 'foetus', 'malformations', 'désherbant', 'cour', 'milieu', 'confédération paysanne', 'chlordécone', 'céréalier charentais', 'expositions', 'bisphénol', 'nature environnement'} \n",
      "\n"
     ]
    },
    {
     "data": {
      "text/html": [
       "Pas de diminution \"brutale\" des <mark style=\"background-color:pink\">pesticides</mark>, dit un rapport parlementaire: <mark style=\"background-color:yellow\">paris</mark> - Un rapport parlementaire publié ... http://bit.ly/cCfG7i"
      ],
      "text/plain": [
       "<IPython.core.display.HTML object>"
      ]
     },
     "metadata": {},
     "output_type": "display_data"
    },
    {
     "data": {
      "text/html": [
       "<h2 style='text-align:center;'> Texte 13018410011 (46 sur 286)</h2>"
      ],
      "text/plain": [
       "<IPython.core.display.HTML object>"
      ]
     },
     "metadata": {},
     "output_type": "display_data"
    },
    {
     "data": {
      "text/html": [
       "<strong>Segment :</strong> 0 (2010-02-01 ; 2010-08-31)"
      ],
      "text/plain": [
       "<IPython.core.display.HTML object>"
      ]
     },
     "metadata": {},
     "output_type": "display_data"
    },
    {
     "data": {
      "text/html": [
       "<strong>Date :</strong> 2010-04-28"
      ],
      "text/plain": [
       "<IPython.core.display.HTML object>"
      ]
     },
     "metadata": {},
     "output_type": "display_data"
    },
    {
     "data": {
      "text/html": [
       "<strong>Auteur :</strong> MF.D \n"
      ],
      "text/plain": [
       "<IPython.core.display.HTML object>"
      ]
     },
     "metadata": {},
     "output_type": "display_data"
    },
    {
     "name": "stdout",
     "output_type": "stream",
     "text": [
      "Termes indexés : ['pesticides', 'parlementaires'] \n",
      "\n",
      "Termes spécifiques présents : ['pesticides', 'parlementaires'] \n",
      "\n",
      "Termes spécifiques absents : {'développement', 'troubles', 'cassation', \"cour d'appel\", 'frelon', 'bisphénol a', 'résidus de pesticides', 'foetus', 'malformations', 'désherbant', 'cour', 'milieu', 'confédération paysanne', 'chlordécone', 'céréalier charentais', 'expositions', 'bisphénol', 'nature environnement'} \n",
      "\n",
      "http://bit.ly/d1Spfj <mark style=\"background-color:pink\">pesticides</mark> : un rapport parlementaire demande la simplification de la reglementation \n",
      "\n"
     ]
    },
    {
     "data": {
      "text/html": [
       "<h2 style='text-align:center;'> Texte 13024762444 (47 sur 286)</h2>"
      ],
      "text/plain": [
       "<IPython.core.display.HTML object>"
      ]
     },
     "metadata": {},
     "output_type": "display_data"
    },
    {
     "data": {
      "text/html": [
       "<strong>Segment :</strong> 0 (2010-02-01 ; 2010-08-31)"
      ],
      "text/plain": [
       "<IPython.core.display.HTML object>"
      ]
     },
     "metadata": {},
     "output_type": "display_data"
    },
    {
     "data": {
      "text/html": [
       "<strong>Date :</strong> 2010-04-28"
      ],
      "text/plain": [
       "<IPython.core.display.HTML object>"
      ]
     },
     "metadata": {},
     "output_type": "display_data"
    },
    {
     "data": {
      "text/html": [
       "<strong>Auteur :</strong> RT moi infos \n"
      ],
      "text/plain": [
       "<IPython.core.display.HTML object>"
      ]
     },
     "metadata": {},
     "output_type": "display_data"
    },
    {
     "name": "stdout",
     "output_type": "stream",
     "text": [
      "Termes indexés : ['pesticides', 'parlementaires'] \n",
      "\n",
      "Termes spécifiques présents : ['pesticides', 'parlementaires'] \n",
      "\n",
      "Termes spécifiques absents : {'développement', 'troubles', 'cassation', \"cour d'appel\", 'frelon', 'bisphénol a', 'résidus de pesticides', 'foetus', 'malformations', 'désherbant', 'cour', 'milieu', 'confédération paysanne', 'chlordécone', 'céréalier charentais', 'expositions', 'bisphénol', 'nature environnement'} \n",
      "\n"
     ]
    },
    {
     "data": {
      "text/html": [
       "RT: <mark style=\"background-color:pink\">pesticides</mark>: un rapport parlementaire met en garde contre une diminution trop brutale: ENVIRONNEMENT - Se... http://bit.ly/bBUvYO #infos"
      ],
      "text/plain": [
       "<IPython.core.display.HTML object>"
      ]
     },
     "metadata": {},
     "output_type": "display_data"
    },
    {
     "data": {
      "text/html": [
       "<h2 style='text-align:center;'> Texte 13083612710 (48 sur 286)</h2>"
      ],
      "text/plain": [
       "<IPython.core.display.HTML object>"
      ]
     },
     "metadata": {},
     "output_type": "display_data"
    },
    {
     "data": {
      "text/html": [
       "<strong>Segment :</strong> 0 (2010-02-01 ; 2010-08-31)"
      ],
      "text/plain": [
       "<IPython.core.display.HTML object>"
      ]
     },
     "metadata": {},
     "output_type": "display_data"
    },
    {
     "data": {
      "text/html": [
       "<strong>Date :</strong> 2010-04-29"
      ],
      "text/plain": [
       "<IPython.core.display.HTML object>"
      ]
     },
     "metadata": {},
     "output_type": "display_data"
    },
    {
     "data": {
      "text/html": [
       "<strong>Auteur :</strong> Sidali DE SAINT-JURS \n"
      ],
      "text/plain": [
       "<IPython.core.display.HTML object>"
      ]
     },
     "metadata": {},
     "output_type": "display_data"
    },
    {
     "name": "stdout",
     "output_type": "stream",
     "text": [
      "Termes indexés : ['cour', \"cour d'appel\", 'pesticides', 'apiculture'] \n",
      "\n",
      "Termes spécifiques présents : ['cour', \"cour d'appel\", 'pesticides'] \n",
      "\n",
      "Termes spécifiques absents : {'développement', 'troubles', 'cassation', 'frelon', 'bisphénol a', 'parlementaires', 'résidus de pesticides', 'foetus', 'malformations', 'désherbant', 'milieu', 'confédération paysanne', 'chlordécone', 'céréalier charentais', 'expositions', 'bisphénol', 'nature environnement'} \n",
      "\n"
     ]
    },
    {
     "data": {
      "text/html": [
       "La <mark style=\"background-color:pink\">cour</mark> d'appel de Toulouse confirme les condamnations pour vente illégale de <mark style=\"background-color:pink\">pesticides</mark> :  http://wik.io/O4dK #<mark style=\"background-color:yellow\">apiculture</mark> #beekeeping"
      ],
      "text/plain": [
       "<IPython.core.display.HTML object>"
      ]
     },
     "metadata": {},
     "output_type": "display_data"
    },
    {
     "data": {
      "text/html": [
       "<h2 style='text-align:center;'> Texte 13054486493 (49 sur 286)</h2>"
      ],
      "text/plain": [
       "<IPython.core.display.HTML object>"
      ]
     },
     "metadata": {},
     "output_type": "display_data"
    },
    {
     "data": {
      "text/html": [
       "<strong>Segment :</strong> 0 (2010-02-01 ; 2010-08-31)"
      ],
      "text/plain": [
       "<IPython.core.display.HTML object>"
      ]
     },
     "metadata": {},
     "output_type": "display_data"
    },
    {
     "data": {
      "text/html": [
       "<strong>Date :</strong> 2010-04-29"
      ],
      "text/plain": [
       "<IPython.core.display.HTML object>"
      ]
     },
     "metadata": {},
     "output_type": "display_data"
    },
    {
     "data": {
      "text/html": [
       "<strong>Auteur :</strong> Pierre LEMASSON \n"
      ],
      "text/plain": [
       "<IPython.core.display.HTML object>"
      ]
     },
     "metadata": {},
     "output_type": "display_data"
    },
    {
     "name": "stdout",
     "output_type": "stream",
     "text": [
      "Termes indexés : ['pesticides', 'parlementaires', 'lobbies'] \n",
      "\n",
      "Termes spécifiques présents : ['pesticides', 'parlementaires'] \n",
      "\n",
      "Termes spécifiques absents : {'développement', 'troubles', 'cassation', \"cour d'appel\", 'frelon', 'bisphénol a', 'résidus de pesticides', 'foetus', 'malformations', 'désherbant', 'cour', 'milieu', 'confédération paysanne', 'chlordécone', 'céréalier charentais', 'expositions', 'bisphénol', 'nature environnement'} \n",
      "\n"
     ]
    },
    {
     "data": {
      "text/html": [
       "<mark style=\"background-color:pink\">pesticides</mark>: un rapport parlementaire met en garde contre une diminution trop brutale http://zi.pe/mXE (via @20minutes) <- Encore des lobbys"
      ],
      "text/plain": [
       "<IPython.core.display.HTML object>"
      ]
     },
     "metadata": {},
     "output_type": "display_data"
    },
    {
     "data": {
      "text/html": [
       "<h2 style='text-align:center;'> Texte 13056717294 (50 sur 286)</h2>"
      ],
      "text/plain": [
       "<IPython.core.display.HTML object>"
      ]
     },
     "metadata": {},
     "output_type": "display_data"
    },
    {
     "data": {
      "text/html": [
       "<strong>Segment :</strong> 0 (2010-02-01 ; 2010-08-31)"
      ],
      "text/plain": [
       "<IPython.core.display.HTML object>"
      ]
     },
     "metadata": {},
     "output_type": "display_data"
    },
    {
     "data": {
      "text/html": [
       "<strong>Date :</strong> 2010-04-29"
      ],
      "text/plain": [
       "<IPython.core.display.HTML object>"
      ]
     },
     "metadata": {},
     "output_type": "display_data"
    },
    {
     "data": {
      "text/html": [
       "<strong>Auteur :</strong> Channel F \n"
      ],
      "text/plain": [
       "<IPython.core.display.HTML object>"
      ]
     },
     "metadata": {},
     "output_type": "display_data"
    },
    {
     "name": "stdout",
     "output_type": "stream",
     "text": [
      "Termes indexés : ['pesticides', 'parlementaires'] \n",
      "\n",
      "Termes spécifiques présents : ['pesticides', 'parlementaires'] \n",
      "\n",
      "Termes spécifiques absents : {'développement', 'troubles', 'cassation', \"cour d'appel\", 'frelon', 'bisphénol a', 'résidus de pesticides', 'foetus', 'malformations', 'désherbant', 'cour', 'milieu', 'confédération paysanne', 'chlordécone', 'céréalier charentais', 'expositions', 'bisphénol', 'nature environnement'} \n",
      "\n"
     ]
    },
    {
     "data": {
      "text/html": [
       "Bah tiens ! <mark style=\"background-color:pink\">pesticides</mark>: un rapport parlementaire met en garde contre une diminution trop brutale.\n",
       "http://snipurl.com/vuxlz"
      ],
      "text/plain": [
       "<IPython.core.display.HTML object>"
      ]
     },
     "metadata": {},
     "output_type": "display_data"
    },
    {
     "data": {
      "text/html": [
       "<h2 style='text-align:center;'> Texte 13061309803 (51 sur 286)</h2>"
      ],
      "text/plain": [
       "<IPython.core.display.HTML object>"
      ]
     },
     "metadata": {},
     "output_type": "display_data"
    },
    {
     "data": {
      "text/html": [
       "<strong>Segment :</strong> 0 (2010-02-01 ; 2010-08-31)"
      ],
      "text/plain": [
       "<IPython.core.display.HTML object>"
      ]
     },
     "metadata": {},
     "output_type": "display_data"
    },
    {
     "data": {
      "text/html": [
       "<strong>Date :</strong> 2010-04-29"
      ],
      "text/plain": [
       "<IPython.core.display.HTML object>"
      ]
     },
     "metadata": {},
     "output_type": "display_data"
    },
    {
     "data": {
      "text/html": [
       "<strong>Auteur :</strong> Autour du Bio \n"
      ],
      "text/plain": [
       "<IPython.core.display.HTML object>"
      ]
     },
     "metadata": {},
     "output_type": "display_data"
    },
    {
     "name": "stdout",
     "output_type": "stream",
     "text": [
      "Termes indexés : ['parlementaires', 'pesticides'] \n",
      "\n",
      "Termes spécifiques présents : ['parlementaires', 'pesticides'] \n",
      "\n",
      "Termes spécifiques absents : {'développement', 'troubles', 'cassation', \"cour d'appel\", 'frelon', 'bisphénol a', 'résidus de pesticides', 'foetus', 'malformations', 'désherbant', 'cour', 'milieu', 'confédération paysanne', 'chlordécone', 'céréalier charentais', 'expositions', 'bisphénol', 'nature environnement'} \n",
      "\n"
     ]
    },
    {
     "data": {
      "text/html": [
       "Un rapport parlementaire en faveur des <mark style=\"background-color:pink\">pesticides</mark> !: Demandé à l'Office parlementaire d'évaluation des choix scien... http://bit.ly/9RsCht"
      ],
      "text/plain": [
       "<IPython.core.display.HTML object>"
      ]
     },
     "metadata": {},
     "output_type": "display_data"
    },
    {
     "data": {
      "text/html": [
       "<h2 style='text-align:center;'> Texte 13071559295 (52 sur 286)</h2>"
      ],
      "text/plain": [
       "<IPython.core.display.HTML object>"
      ]
     },
     "metadata": {},
     "output_type": "display_data"
    },
    {
     "data": {
      "text/html": [
       "<strong>Segment :</strong> 0 (2010-02-01 ; 2010-08-31)"
      ],
      "text/plain": [
       "<IPython.core.display.HTML object>"
      ]
     },
     "metadata": {},
     "output_type": "display_data"
    },
    {
     "data": {
      "text/html": [
       "<strong>Date :</strong> 2010-04-29"
      ],
      "text/plain": [
       "<IPython.core.display.HTML object>"
      ]
     },
     "metadata": {},
     "output_type": "display_data"
    },
    {
     "data": {
      "text/html": [
       "<strong>Auteur :</strong> Christophe B. \n"
      ],
      "text/plain": [
       "<IPython.core.display.HTML object>"
      ]
     },
     "metadata": {},
     "output_type": "display_data"
    },
    {
     "name": "stdout",
     "output_type": "stream",
     "text": [
      "Termes indexés : ['pesticides', 'parlementaires', 'problème'] \n",
      "\n",
      "Termes spécifiques présents : ['pesticides', 'parlementaires'] \n",
      "\n",
      "Termes spécifiques absents : {'développement', 'troubles', 'cassation', \"cour d'appel\", 'frelon', 'bisphénol a', 'résidus de pesticides', 'foetus', 'malformations', 'désherbant', 'cour', 'milieu', 'confédération paysanne', 'chlordécone', 'céréalier charentais', 'expositions', 'bisphénol', 'nature environnement'} \n",
      "\n"
     ]
    },
    {
     "data": {
      "text/html": [
       "<mark style=\"background-color:pink\">pesticides</mark> : des <mark style=\"background-color:pink\">parlementaires</mark> épousent le discours des fabricants : il n'y a aucun <mark style=\"background-color:yellow\">problème</mark>. Le lobbying paye..."
      ],
      "text/plain": [
       "<IPython.core.display.HTML object>"
      ]
     },
     "metadata": {},
     "output_type": "display_data"
    },
    {
     "data": {
      "text/html": [
       "<h2 style='text-align:center;'> Texte 13077143012 (53 sur 286)</h2>"
      ],
      "text/plain": [
       "<IPython.core.display.HTML object>"
      ]
     },
     "metadata": {},
     "output_type": "display_data"
    },
    {
     "data": {
      "text/html": [
       "<strong>Segment :</strong> 0 (2010-02-01 ; 2010-08-31)"
      ],
      "text/plain": [
       "<IPython.core.display.HTML object>"
      ]
     },
     "metadata": {},
     "output_type": "display_data"
    },
    {
     "data": {
      "text/html": [
       "<strong>Date :</strong> 2010-04-29"
      ],
      "text/plain": [
       "<IPython.core.display.HTML object>"
      ]
     },
     "metadata": {},
     "output_type": "display_data"
    },
    {
     "data": {
      "text/html": [
       "<strong>Auteur :</strong> testdecharly \n"
      ],
      "text/plain": [
       "<IPython.core.display.HTML object>"
      ]
     },
     "metadata": {},
     "output_type": "display_data"
    },
    {
     "name": "stdout",
     "output_type": "stream",
     "text": [
      "Termes indexés : ['cour', \"cour d'appel\", 'pesticides'] \n",
      "\n",
      "Termes spécifiques présents : ['cour', \"cour d'appel\", 'pesticides'] \n",
      "\n",
      "Termes spécifiques absents : {'développement', 'troubles', 'cassation', 'frelon', 'bisphénol a', 'parlementaires', 'résidus de pesticides', 'foetus', 'malformations', 'désherbant', 'milieu', 'confédération paysanne', 'chlordécone', 'céréalier charentais', 'expositions', 'bisphénol', 'nature environnement'} \n",
      "\n"
     ]
    },
    {
     "data": {
      "text/html": [
       "La <mark style=\"background-color:pink\">cour</mark> d'appel de Toulouse confirme les condamnations pour vente illégale de <mark style=\"background-color:pink\">pesticides</mark> http://url4.eu/33e62"
      ],
      "text/plain": [
       "<IPython.core.display.HTML object>"
      ]
     },
     "metadata": {},
     "output_type": "display_data"
    },
    {
     "data": {
      "text/html": [
       "<h2 style='text-align:center;'> Texte 13078610489 (54 sur 286)</h2>"
      ],
      "text/plain": [
       "<IPython.core.display.HTML object>"
      ]
     },
     "metadata": {},
     "output_type": "display_data"
    },
    {
     "data": {
      "text/html": [
       "<strong>Segment :</strong> 0 (2010-02-01 ; 2010-08-31)"
      ],
      "text/plain": [
       "<IPython.core.display.HTML object>"
      ]
     },
     "metadata": {},
     "output_type": "display_data"
    },
    {
     "data": {
      "text/html": [
       "<strong>Date :</strong> 2010-04-29"
      ],
      "text/plain": [
       "<IPython.core.display.HTML object>"
      ]
     },
     "metadata": {},
     "output_type": "display_data"
    },
    {
     "data": {
      "text/html": [
       "<strong>Auteur :</strong> slovar \n"
      ],
      "text/plain": [
       "<IPython.core.display.HTML object>"
      ]
     },
     "metadata": {},
     "output_type": "display_data"
    },
    {
     "name": "stdout",
     "output_type": "stream",
     "text": [
      "Termes indexés : ['ecologie', 'parlementaires', 'pesticides'] \n",
      "\n",
      "Termes spécifiques présents : ['parlementaires', 'pesticides'] \n",
      "\n",
      "Termes spécifiques absents : {'développement', 'troubles', 'cassation', \"cour d'appel\", 'frelon', 'bisphénol a', 'résidus de pesticides', 'foetus', 'malformations', 'désherbant', 'cour', 'milieu', 'confédération paysanne', 'chlordécone', 'céréalier charentais', 'expositions', 'bisphénol', 'nature environnement'} \n",
      "\n"
     ]
    },
    {
     "data": {
      "text/html": [
       "<mark style=\"background-color:yellow\">ecologie</mark> \"populaire\" : Plaidoyer parlementaire UMP en faveur des <mark style=\"background-color:pink\">pesticides</mark> http://bit.ly/bcdkPN"
      ],
      "text/plain": [
       "<IPython.core.display.HTML object>"
      ]
     },
     "metadata": {},
     "output_type": "display_data"
    },
    {
     "data": {
      "text/html": [
       "<h2 style='text-align:center;'> Texte 13081482844 (55 sur 286)</h2>"
      ],
      "text/plain": [
       "<IPython.core.display.HTML object>"
      ]
     },
     "metadata": {},
     "output_type": "display_data"
    },
    {
     "data": {
      "text/html": [
       "<strong>Segment :</strong> 0 (2010-02-01 ; 2010-08-31)"
      ],
      "text/plain": [
       "<IPython.core.display.HTML object>"
      ]
     },
     "metadata": {},
     "output_type": "display_data"
    },
    {
     "data": {
      "text/html": [
       "<strong>Date :</strong> 2010-04-29"
      ],
      "text/plain": [
       "<IPython.core.display.HTML object>"
      ]
     },
     "metadata": {},
     "output_type": "display_data"
    },
    {
     "data": {
      "text/html": [
       "<strong>Auteur :</strong> Paul Martin \n"
      ],
      "text/plain": [
       "<IPython.core.display.HTML object>"
      ]
     },
     "metadata": {},
     "output_type": "display_data"
    },
    {
     "name": "stdout",
     "output_type": "stream",
     "text": [
      "Termes indexés : ['cour', \"cour d'appel\", 'pesticides'] \n",
      "\n",
      "Termes spécifiques présents : ['cour', \"cour d'appel\", 'pesticides'] \n",
      "\n",
      "Termes spécifiques absents : {'développement', 'troubles', 'cassation', 'frelon', 'bisphénol a', 'parlementaires', 'résidus de pesticides', 'foetus', 'malformations', 'désherbant', 'milieu', 'confédération paysanne', 'chlordécone', 'céréalier charentais', 'expositions', 'bisphénol', 'nature environnement'} \n",
      "\n"
     ]
    },
    {
     "data": {
      "text/html": [
       "La <mark style=\"background-color:pink\">cour</mark> d'appel de Toulouse confirme les condamnations pour vente illégale de <mark style=\"background-color:pink\">pesticides</mark>: La <mark style=\"background-color:pink\">cour</mark> d'appel de Toulo... http://bit.ly/bpdmTC"
      ],
      "text/plain": [
       "<IPython.core.display.HTML object>"
      ]
     },
     "metadata": {},
     "output_type": "display_data"
    },
    {
     "data": {
      "text/html": [
       "<h2 style='text-align:center;'> Texte 13081484299 (56 sur 286)</h2>"
      ],
      "text/plain": [
       "<IPython.core.display.HTML object>"
      ]
     },
     "metadata": {},
     "output_type": "display_data"
    },
    {
     "data": {
      "text/html": [
       "<strong>Segment :</strong> 0 (2010-02-01 ; 2010-08-31)"
      ],
      "text/plain": [
       "<IPython.core.display.HTML object>"
      ]
     },
     "metadata": {},
     "output_type": "display_data"
    },
    {
     "data": {
      "text/html": [
       "<strong>Date :</strong> 2010-04-29"
      ],
      "text/plain": [
       "<IPython.core.display.HTML object>"
      ]
     },
     "metadata": {},
     "output_type": "display_data"
    },
    {
     "data": {
      "text/html": [
       "<strong>Auteur :</strong> #ForumEcolo \n"
      ],
      "text/plain": [
       "<IPython.core.display.HTML object>"
      ]
     },
     "metadata": {},
     "output_type": "display_data"
    },
    {
     "name": "stdout",
     "output_type": "stream",
     "text": [
      "Termes indexés : ['cour', \"cour d'appel\", 'pesticides'] \n",
      "\n",
      "Termes spécifiques présents : ['cour', \"cour d'appel\", 'pesticides'] \n",
      "\n",
      "Termes spécifiques absents : {'développement', 'troubles', 'cassation', 'frelon', 'bisphénol a', 'parlementaires', 'résidus de pesticides', 'foetus', 'malformations', 'désherbant', 'milieu', 'confédération paysanne', 'chlordécone', 'céréalier charentais', 'expositions', 'bisphénol', 'nature environnement'} \n",
      "\n"
     ]
    },
    {
     "data": {
      "text/html": [
       "La <mark style=\"background-color:pink\">cour</mark> d'appel de Toulouse confirme les condamnations pour vente illégale de <mark style=\"background-color:pink\">pesticides</mark> http://bit.ly/bpdmTC"
      ],
      "text/plain": [
       "<IPython.core.display.HTML object>"
      ]
     },
     "metadata": {},
     "output_type": "display_data"
    },
    {
     "data": {
      "text/html": [
       "<h2 style='text-align:center;'> Texte 13085493991 (57 sur 286)</h2>"
      ],
      "text/plain": [
       "<IPython.core.display.HTML object>"
      ]
     },
     "metadata": {},
     "output_type": "display_data"
    },
    {
     "data": {
      "text/html": [
       "<strong>Segment :</strong> 0 (2010-02-01 ; 2010-08-31)"
      ],
      "text/plain": [
       "<IPython.core.display.HTML object>"
      ]
     },
     "metadata": {},
     "output_type": "display_data"
    },
    {
     "data": {
      "text/html": [
       "<strong>Date :</strong> 2010-04-29"
      ],
      "text/plain": [
       "<IPython.core.display.HTML object>"
      ]
     },
     "metadata": {},
     "output_type": "display_data"
    },
    {
     "data": {
      "text/html": [
       "<strong>Auteur :</strong> Actu Environnement \n"
      ],
      "text/plain": [
       "<IPython.core.display.HTML object>"
      ]
     },
     "metadata": {},
     "output_type": "display_data"
    },
    {
     "name": "stdout",
     "output_type": "stream",
     "text": [
      "Termes indexés : ['cour', \"cour d'appel\", 'pesticides'] \n",
      "\n",
      "Termes spécifiques présents : ['cour', \"cour d'appel\", 'pesticides'] \n",
      "\n",
      "Termes spécifiques absents : {'développement', 'troubles', 'cassation', 'frelon', 'bisphénol a', 'parlementaires', 'résidus de pesticides', 'foetus', 'malformations', 'désherbant', 'milieu', 'confédération paysanne', 'chlordécone', 'céréalier charentais', 'expositions', 'bisphénol', 'nature environnement'} \n",
      "\n"
     ]
    },
    {
     "data": {
      "text/html": [
       "La <mark style=\"background-color:pink\">cour</mark> d'appel de Toulouse confirme les condamnations pour vente illégale de <mark style=\"background-color:pink\">pesticides</mark> http://twurl.nl/ijmjmo"
      ],
      "text/plain": [
       "<IPython.core.display.HTML object>"
      ]
     },
     "metadata": {},
     "output_type": "display_data"
    },
    {
     "data": {
      "text/html": [
       "<h2 style='text-align:center;'> Texte 13085782877 (58 sur 286)</h2>"
      ],
      "text/plain": [
       "<IPython.core.display.HTML object>"
      ]
     },
     "metadata": {},
     "output_type": "display_data"
    },
    {
     "data": {
      "text/html": [
       "<strong>Segment :</strong> 0 (2010-02-01 ; 2010-08-31)"
      ],
      "text/plain": [
       "<IPython.core.display.HTML object>"
      ]
     },
     "metadata": {},
     "output_type": "display_data"
    },
    {
     "data": {
      "text/html": [
       "<strong>Date :</strong> 2010-04-29"
      ],
      "text/plain": [
       "<IPython.core.display.HTML object>"
      ]
     },
     "metadata": {},
     "output_type": "display_data"
    },
    {
     "data": {
      "text/html": [
       "<strong>Auteur :</strong> Trésors du Goût \n"
      ],
      "text/plain": [
       "<IPython.core.display.HTML object>"
      ]
     },
     "metadata": {},
     "output_type": "display_data"
    },
    {
     "name": "stdout",
     "output_type": "stream",
     "text": [
      "Termes indexés : ['cour', \"cour d'appel\", 'pesticides'] \n",
      "\n",
      "Termes spécifiques présents : ['cour', \"cour d'appel\", 'pesticides'] \n",
      "\n",
      "Termes spécifiques absents : {'développement', 'troubles', 'cassation', 'frelon', 'bisphénol a', 'parlementaires', 'résidus de pesticides', 'foetus', 'malformations', 'désherbant', 'milieu', 'confédération paysanne', 'chlordécone', 'céréalier charentais', 'expositions', 'bisphénol', 'nature environnement'} \n",
      "\n"
     ]
    },
    {
     "data": {
      "text/html": [
       "La <mark style=\"background-color:pink\">cour</mark> d'appel de Toulouse confirme les condamnations pour vente illégale de <mark style=\"background-color:pink\">pesticides</mark>: La C... http://bit.ly/bpdmTC #Actu #environnement"
      ],
      "text/plain": [
       "<IPython.core.display.HTML object>"
      ]
     },
     "metadata": {},
     "output_type": "display_data"
    },
    {
     "data": {
      "text/html": [
       "<h2 style='text-align:center;'> Texte 13120309196 (59 sur 286)</h2>"
      ],
      "text/plain": [
       "<IPython.core.display.HTML object>"
      ]
     },
     "metadata": {},
     "output_type": "display_data"
    },
    {
     "data": {
      "text/html": [
       "<strong>Segment :</strong> 0 (2010-02-01 ; 2010-08-31)"
      ],
      "text/plain": [
       "<IPython.core.display.HTML object>"
      ]
     },
     "metadata": {},
     "output_type": "display_data"
    },
    {
     "data": {
      "text/html": [
       "<strong>Date :</strong> 2010-04-30"
      ],
      "text/plain": [
       "<IPython.core.display.HTML object>"
      ]
     },
     "metadata": {},
     "output_type": "display_data"
    },
    {
     "data": {
      "text/html": [
       "<strong>Auteur :</strong> Jérome Messinguiral - Médiateur Professionnel \n"
      ],
      "text/plain": [
       "<IPython.core.display.HTML object>"
      ]
     },
     "metadata": {},
     "output_type": "display_data"
    },
    {
     "name": "stdout",
     "output_type": "stream",
     "text": [
      "Termes indexés : ['cour', \"cour d'appel\", 'pesticides'] \n",
      "\n",
      "Termes spécifiques présents : ['cour', \"cour d'appel\", 'pesticides'] \n",
      "\n",
      "Termes spécifiques absents : {'développement', 'troubles', 'cassation', 'frelon', 'bisphénol a', 'parlementaires', 'résidus de pesticides', 'foetus', 'malformations', 'désherbant', 'milieu', 'confédération paysanne', 'chlordécone', 'céréalier charentais', 'expositions', 'bisphénol', 'nature environnement'} \n",
      "\n"
     ]
    },
    {
     "data": {
      "text/html": [
       "RT @achatsdurables: La <mark style=\"background-color:pink\">cour</mark> d'appel de Toulouse confirme les condamnations pour vente illégale de <mark style=\"background-color:pink\">pesticides</mark> http://bit.ly/bpdmTC"
      ],
      "text/plain": [
       "<IPython.core.display.HTML object>"
      ]
     },
     "metadata": {},
     "output_type": "display_data"
    },
    {
     "data": {
      "text/html": [
       "<h2 style='text-align:center;'> Texte 13117029936 (60 sur 286)</h2>"
      ],
      "text/plain": [
       "<IPython.core.display.HTML object>"
      ]
     },
     "metadata": {},
     "output_type": "display_data"
    },
    {
     "data": {
      "text/html": [
       "<strong>Segment :</strong> 0 (2010-02-01 ; 2010-08-31)"
      ],
      "text/plain": [
       "<IPython.core.display.HTML object>"
      ]
     },
     "metadata": {},
     "output_type": "display_data"
    },
    {
     "data": {
      "text/html": [
       "<strong>Date :</strong> 2010-04-30"
      ],
      "text/plain": [
       "<IPython.core.display.HTML object>"
      ]
     },
     "metadata": {},
     "output_type": "display_data"
    },
    {
     "data": {
      "text/html": [
       "<strong>Auteur :</strong> La France Agricole \n"
      ],
      "text/plain": [
       "<IPython.core.display.HTML object>"
      ]
     },
     "metadata": {},
     "output_type": "display_data"
    },
    {
     "name": "stdout",
     "output_type": "stream",
     "text": [
      "Termes indexés : ['pesticides', 'effet', 'santé', 'parlementaires'] \n",
      "\n",
      "Termes spécifiques présents : ['pesticides', 'parlementaires'] \n",
      "\n",
      "Termes spécifiques absents : {'développement', 'troubles', 'cassation', \"cour d'appel\", 'frelon', 'bisphénol a', 'résidus de pesticides', 'foetus', 'malformations', 'désherbant', 'cour', 'milieu', 'confédération paysanne', 'chlordécone', 'céréalier charentais', 'expositions', 'bisphénol', 'nature environnement'} \n",
      "\n"
     ]
    },
    {
     "data": {
      "text/html": [
       "#Actu #<mark style=\"background-color:pink\">pesticides</mark> : \"Rien n’est sûr\" concernant les <mark style=\"background-color:yellow\">effet</mark>s sur la <mark style=\"background-color:yellow\">santé</mark> (rapport parlementaire) : http://bit.ly/cqUihx"
      ],
      "text/plain": [
       "<IPython.core.display.HTML object>"
      ]
     },
     "metadata": {},
     "output_type": "display_data"
    },
    {
     "data": {
      "text/html": [
       "<h2 style='text-align:center;'> Texte 13127846500 (61 sur 286)</h2>"
      ],
      "text/plain": [
       "<IPython.core.display.HTML object>"
      ]
     },
     "metadata": {},
     "output_type": "display_data"
    },
    {
     "data": {
      "text/html": [
       "<strong>Segment :</strong> 0 (2010-02-01 ; 2010-08-31)"
      ],
      "text/plain": [
       "<IPython.core.display.HTML object>"
      ]
     },
     "metadata": {},
     "output_type": "display_data"
    },
    {
     "data": {
      "text/html": [
       "<strong>Date :</strong> 2010-04-30"
      ],
      "text/plain": [
       "<IPython.core.display.HTML object>"
      ]
     },
     "metadata": {},
     "output_type": "display_data"
    },
    {
     "data": {
      "text/html": [
       "<strong>Auteur :</strong> Bontemps \n"
      ],
      "text/plain": [
       "<IPython.core.display.HTML object>"
      ]
     },
     "metadata": {},
     "output_type": "display_data"
    },
    {
     "name": "stdout",
     "output_type": "stream",
     "text": [
      "Termes indexés : ['parlementaires', 'pesticides'] \n",
      "\n",
      "Termes spécifiques présents : ['parlementaires', 'pesticides'] \n",
      "\n",
      "Termes spécifiques absents : {'développement', 'troubles', 'cassation', \"cour d'appel\", 'frelon', 'bisphénol a', 'résidus de pesticides', 'foetus', 'malformations', 'désherbant', 'cour', 'milieu', 'confédération paysanne', 'chlordécone', 'céréalier charentais', 'expositions', 'bisphénol', 'nature environnement'} \n",
      "\n"
     ]
    },
    {
     "data": {
      "text/html": [
       "Un rapport Parlementaire va remettre en cause la réduction de 50% de l'usage des <mark style=\"background-color:pink\">pesticides</mark> prévu par le Grenelle de l'Environnement #fb"
      ],
      "text/plain": [
       "<IPython.core.display.HTML object>"
      ]
     },
     "metadata": {},
     "output_type": "display_data"
    },
    {
     "data": {
      "text/html": [
       "<h2 style='text-align:center;'> Texte 13133781363 (62 sur 286)</h2>"
      ],
      "text/plain": [
       "<IPython.core.display.HTML object>"
      ]
     },
     "metadata": {},
     "output_type": "display_data"
    },
    {
     "data": {
      "text/html": [
       "<strong>Segment :</strong> 0 (2010-02-01 ; 2010-08-31)"
      ],
      "text/plain": [
       "<IPython.core.display.HTML object>"
      ]
     },
     "metadata": {},
     "output_type": "display_data"
    },
    {
     "data": {
      "text/html": [
       "<strong>Date :</strong> 2010-04-30"
      ],
      "text/plain": [
       "<IPython.core.display.HTML object>"
      ]
     },
     "metadata": {},
     "output_type": "display_data"
    },
    {
     "data": {
      "text/html": [
       "<strong>Auteur :</strong> Jean-Philippe Rivière \n"
      ],
      "text/plain": [
       "<IPython.core.display.HTML object>"
      ]
     },
     "metadata": {},
     "output_type": "display_data"
    },
    {
     "name": "stdout",
     "output_type": "stream",
     "text": [
      "Termes indexés : ['pesticides', 'parlementaires', 'santé'] \n",
      "\n",
      "Termes spécifiques présents : ['pesticides', 'parlementaires'] \n",
      "\n",
      "Termes spécifiques absents : {'développement', 'troubles', 'cassation', \"cour d'appel\", 'frelon', 'bisphénol a', 'résidus de pesticides', 'foetus', 'malformations', 'désherbant', 'cour', 'milieu', 'confédération paysanne', 'chlordécone', 'céréalier charentais', 'expositions', 'bisphénol', 'nature environnement'} \n",
      "\n"
     ]
    },
    {
     "data": {
      "text/html": [
       "<mark style=\"background-color:pink\">pesticides</mark> : le rapport parlementaire \"<mark style=\"background-color:pink\">pesticides</mark> et <mark style=\"background-color:yellow\">santé</mark>\" remet-il en cause le Grenelle de l'environnement ? http://ow.ly/1Fcvh"
      ],
      "text/plain": [
       "<IPython.core.display.HTML object>"
      ]
     },
     "metadata": {},
     "output_type": "display_data"
    },
    {
     "data": {
      "text/html": [
       "<h2 style='text-align:center;'> Texte 13130002487 (63 sur 286)</h2>"
      ],
      "text/plain": [
       "<IPython.core.display.HTML object>"
      ]
     },
     "metadata": {},
     "output_type": "display_data"
    },
    {
     "data": {
      "text/html": [
       "<strong>Segment :</strong> 0 (2010-02-01 ; 2010-08-31)"
      ],
      "text/plain": [
       "<IPython.core.display.HTML object>"
      ]
     },
     "metadata": {},
     "output_type": "display_data"
    },
    {
     "data": {
      "text/html": [
       "<strong>Date :</strong> 2010-04-30"
      ],
      "text/plain": [
       "<IPython.core.display.HTML object>"
      ]
     },
     "metadata": {},
     "output_type": "display_data"
    },
    {
     "data": {
      "text/html": [
       "<strong>Auteur :</strong> al-aide.com \n"
      ],
      "text/plain": [
       "<IPython.core.display.HTML object>"
      ]
     },
     "metadata": {},
     "output_type": "display_data"
    },
    {
     "name": "stdout",
     "output_type": "stream",
     "text": [
      "Termes indexés : ['cour', \"cour d'appel\", 'pesticides'] \n",
      "\n",
      "Termes spécifiques présents : ['cour', \"cour d'appel\", 'pesticides'] \n",
      "\n",
      "Termes spécifiques absents : {'développement', 'troubles', 'cassation', 'frelon', 'bisphénol a', 'parlementaires', 'résidus de pesticides', 'foetus', 'malformations', 'désherbant', 'milieu', 'confédération paysanne', 'chlordécone', 'céréalier charentais', 'expositions', 'bisphénol', 'nature environnement'} \n",
      "\n"
     ]
    },
    {
     "data": {
      "text/html": [
       "La <mark style=\"background-color:pink\">cour</mark> d'appel de Toulouse confirme les condamnations pour vente illégale de <mark style=\"background-color:pink\">pesticides</mark> - http://t-pa.net/665113"
      ],
      "text/plain": [
       "<IPython.core.display.HTML object>"
      ]
     },
     "metadata": {},
     "output_type": "display_data"
    },
    {
     "data": {
      "text/html": [
       "<h2 style='text-align:center;'> Texte 13130479235 (64 sur 286)</h2>"
      ],
      "text/plain": [
       "<IPython.core.display.HTML object>"
      ]
     },
     "metadata": {},
     "output_type": "display_data"
    },
    {
     "data": {
      "text/html": [
       "<strong>Segment :</strong> 0 (2010-02-01 ; 2010-08-31)"
      ],
      "text/plain": [
       "<IPython.core.display.HTML object>"
      ]
     },
     "metadata": {},
     "output_type": "display_data"
    },
    {
     "data": {
      "text/html": [
       "<strong>Date :</strong> 2010-04-30"
      ],
      "text/plain": [
       "<IPython.core.display.HTML object>"
      ]
     },
     "metadata": {},
     "output_type": "display_data"
    },
    {
     "data": {
      "text/html": [
       "<strong>Auteur :</strong> France Nature Environnement \n"
      ],
      "text/plain": [
       "<IPython.core.display.HTML object>"
      ]
     },
     "metadata": {},
     "output_type": "display_data"
    },
    {
     "name": "stdout",
     "output_type": "stream",
     "text": [
      "Termes indexés : ['pesticides', 'santé', 'nature', 'nature environnement'] \n",
      "\n",
      "Termes spécifiques présents : ['pesticides', 'nature environnement'] \n",
      "\n",
      "Termes spécifiques absents : {'développement', 'troubles', 'cassation', \"cour d'appel\", 'frelon', 'bisphénol a', 'parlementaires', 'résidus de pesticides', 'foetus', 'malformations', 'désherbant', 'cour', 'milieu', 'confédération paysanne', 'chlordécone', 'céréalier charentais', 'expositions', 'bisphénol'} \n",
      "\n"
     ]
    },
    {
     "data": {
      "text/html": [
       "Rapport <mark style=\"background-color:pink\">pesticides</mark> et <mark style=\"background-color:yellow\">santé</mark> : surprise et déception de FNE:  La fédération France <mark style=\"background-color:yellow\">nature</mark> Environnement a pris conn... http://bit.ly/bupt5B"
      ],
      "text/plain": [
       "<IPython.core.display.HTML object>"
      ]
     },
     "metadata": {},
     "output_type": "display_data"
    },
    {
     "data": {
      "text/html": [
       "<h2 style='text-align:center;'> Texte 13149436537 (65 sur 286)</h2>"
      ],
      "text/plain": [
       "<IPython.core.display.HTML object>"
      ]
     },
     "metadata": {},
     "output_type": "display_data"
    },
    {
     "data": {
      "text/html": [
       "<strong>Segment :</strong> 0 (2010-02-01 ; 2010-08-31)"
      ],
      "text/plain": [
       "<IPython.core.display.HTML object>"
      ]
     },
     "metadata": {},
     "output_type": "display_data"
    },
    {
     "data": {
      "text/html": [
       "<strong>Date :</strong> 2010-04-30"
      ],
      "text/plain": [
       "<IPython.core.display.HTML object>"
      ]
     },
     "metadata": {},
     "output_type": "display_data"
    },
    {
     "data": {
      "text/html": [
       "<strong>Auteur :</strong> testdecharly \n"
      ],
      "text/plain": [
       "<IPython.core.display.HTML object>"
      ]
     },
     "metadata": {},
     "output_type": "display_data"
    },
    {
     "name": "stdout",
     "output_type": "stream",
     "text": [
      "Termes indexés : ['parlementaires', 'pesticides'] \n",
      "\n",
      "Termes spécifiques présents : ['parlementaires', 'pesticides'] \n",
      "\n",
      "Termes spécifiques absents : {'développement', 'troubles', 'cassation', \"cour d'appel\", 'frelon', 'bisphénol a', 'résidus de pesticides', 'foetus', 'malformations', 'désherbant', 'cour', 'milieu', 'confédération paysanne', 'chlordécone', 'céréalier charentais', 'expositions', 'bisphénol', 'nature environnement'} \n",
      "\n"
     ]
    },
    {
     "data": {
      "text/html": [
       "Plaidoyer parlementaire en faveur des <mark style=\"background-color:pink\">pesticides</mark> http://url4.eu/35D9k"
      ],
      "text/plain": [
       "<IPython.core.display.HTML object>"
      ]
     },
     "metadata": {},
     "output_type": "display_data"
    },
    {
     "data": {
      "text/html": [
       "<h2 style='text-align:center;'> Texte 13136282718 (66 sur 286)</h2>"
      ],
      "text/plain": [
       "<IPython.core.display.HTML object>"
      ]
     },
     "metadata": {},
     "output_type": "display_data"
    },
    {
     "data": {
      "text/html": [
       "<strong>Segment :</strong> 0 (2010-02-01 ; 2010-08-31)"
      ],
      "text/plain": [
       "<IPython.core.display.HTML object>"
      ]
     },
     "metadata": {},
     "output_type": "display_data"
    },
    {
     "data": {
      "text/html": [
       "<strong>Date :</strong> 2010-04-30"
      ],
      "text/plain": [
       "<IPython.core.display.HTML object>"
      ]
     },
     "metadata": {},
     "output_type": "display_data"
    },
    {
     "data": {
      "text/html": [
       "<strong>Auteur :</strong> Sabine Grataloup \n"
      ],
      "text/plain": [
       "<IPython.core.display.HTML object>"
      ]
     },
     "metadata": {},
     "output_type": "display_data"
    },
    {
     "name": "stdout",
     "output_type": "stream",
     "text": [
      "Termes indexés : ['désherbant', 'malformations'] \n",
      "\n",
      "Termes spécifiques présents : ['désherbant', 'malformations'] \n",
      "\n",
      "Termes spécifiques absents : {'développement', 'troubles', 'pesticides', 'cassation', \"cour d'appel\", 'frelon', 'bisphénol a', 'parlementaires', 'résidus de pesticides', 'foetus', 'cour', 'milieu', 'confédération paysanne', 'chlordécone', 'céréalier charentais', 'expositions', 'bisphénol', 'nature environnement'} \n",
      "\n"
     ]
    },
    {
     "data": {
      "text/html": [
       "2 questions écrites au gouvernement sur le lien <mark style=\"background-color:pink\">désherbant</mark>s / <mark style=\"background-color:pink\">malformations</mark>, inspirées par le cas de Théo : J. Dray (PS) et J Remiller (UMP)"
      ],
      "text/plain": [
       "<IPython.core.display.HTML object>"
      ]
     },
     "metadata": {},
     "output_type": "display_data"
    },
    {
     "data": {
      "text/html": [
       "<h2 style='text-align:center;'> Texte 13179469591 (67 sur 286)</h2>"
      ],
      "text/plain": [
       "<IPython.core.display.HTML object>"
      ]
     },
     "metadata": {},
     "output_type": "display_data"
    },
    {
     "data": {
      "text/html": [
       "<strong>Segment :</strong> 0 (2010-02-01 ; 2010-08-31)"
      ],
      "text/plain": [
       "<IPython.core.display.HTML object>"
      ]
     },
     "metadata": {},
     "output_type": "display_data"
    },
    {
     "data": {
      "text/html": [
       "<strong>Date :</strong> 2010-05-01"
      ],
      "text/plain": [
       "<IPython.core.display.HTML object>"
      ]
     },
     "metadata": {},
     "output_type": "display_data"
    },
    {
     "data": {
      "text/html": [
       "<strong>Auteur :</strong> Bontemps \n"
      ],
      "text/plain": [
       "<IPython.core.display.HTML object>"
      ]
     },
     "metadata": {},
     "output_type": "display_data"
    },
    {
     "name": "stdout",
     "output_type": "stream",
     "text": [
      "Termes indexés : ['parlementaires', 'pesticides'] \n",
      "\n",
      "Termes spécifiques présents : ['parlementaires', 'pesticides'] \n",
      "\n",
      "Termes spécifiques absents : {'développement', 'troubles', 'cassation', \"cour d'appel\", 'frelon', 'bisphénol a', 'résidus de pesticides', 'foetus', 'malformations', 'désherbant', 'cour', 'milieu', 'confédération paysanne', 'chlordécone', 'céréalier charentais', 'expositions', 'bisphénol', 'nature environnement'} \n",
      "\n"
     ]
    },
    {
     "data": {
      "text/html": [
       "Un rapport Parlementaire va remettre en cause la réduction de 50% de l'usage des <mark style=\"background-color:pink\">pesticides</mark> prévu par le Grenelle... http://bit.ly/ajiIFc"
      ],
      "text/plain": [
       "<IPython.core.display.HTML object>"
      ]
     },
     "metadata": {},
     "output_type": "display_data"
    },
    {
     "data": {
      "text/html": [
       "<h2 style='text-align:center;'> Texte 13175373118 (68 sur 286)</h2>"
      ],
      "text/plain": [
       "<IPython.core.display.HTML object>"
      ]
     },
     "metadata": {},
     "output_type": "display_data"
    },
    {
     "data": {
      "text/html": [
       "<strong>Segment :</strong> 0 (2010-02-01 ; 2010-08-31)"
      ],
      "text/plain": [
       "<IPython.core.display.HTML object>"
      ]
     },
     "metadata": {},
     "output_type": "display_data"
    },
    {
     "data": {
      "text/html": [
       "<strong>Date :</strong> 2010-05-01"
      ],
      "text/plain": [
       "<IPython.core.display.HTML object>"
      ]
     },
     "metadata": {},
     "output_type": "display_data"
    },
    {
     "data": {
      "text/html": [
       "<strong>Auteur :</strong> Laurent GIMALAC \n"
      ],
      "text/plain": [
       "<IPython.core.display.HTML object>"
      ]
     },
     "metadata": {},
     "output_type": "display_data"
    },
    {
     "name": "stdout",
     "output_type": "stream",
     "text": [
      "Termes indexés : ['parlementaires', 'pesticides'] \n",
      "\n",
      "Termes spécifiques présents : ['parlementaires', 'pesticides'] \n",
      "\n",
      "Termes spécifiques absents : {'développement', 'troubles', 'cassation', \"cour d'appel\", 'frelon', 'bisphénol a', 'résidus de pesticides', 'foetus', 'malformations', 'désherbant', 'cour', 'milieu', 'confédération paysanne', 'chlordécone', 'céréalier charentais', 'expositions', 'bisphénol', 'nature environnement'} \n",
      "\n"
     ]
    },
    {
     "data": {
      "text/html": [
       "Un rapport parlementaire en faveur des <mark style=\"background-color:pink\">pesticides</mark> ! http://tinyurl.com/232nsy5"
      ],
      "text/plain": [
       "<IPython.core.display.HTML object>"
      ]
     },
     "metadata": {},
     "output_type": "display_data"
    },
    {
     "data": {
      "text/html": [
       "<h2 style='text-align:center;'> Texte 13231883968 (69 sur 286)</h2>"
      ],
      "text/plain": [
       "<IPython.core.display.HTML object>"
      ]
     },
     "metadata": {},
     "output_type": "display_data"
    },
    {
     "data": {
      "text/html": [
       "<strong>Segment :</strong> 0 (2010-02-01 ; 2010-08-31)"
      ],
      "text/plain": [
       "<IPython.core.display.HTML object>"
      ]
     },
     "metadata": {},
     "output_type": "display_data"
    },
    {
     "data": {
      "text/html": [
       "<strong>Date :</strong> 2010-05-02"
      ],
      "text/plain": [
       "<IPython.core.display.HTML object>"
      ]
     },
     "metadata": {},
     "output_type": "display_data"
    },
    {
     "data": {
      "text/html": [
       "<strong>Auteur :</strong> CDURABLE.info \n"
      ],
      "text/plain": [
       "<IPython.core.display.HTML object>"
      ]
     },
     "metadata": {},
     "output_type": "display_data"
    },
    {
     "name": "stdout",
     "output_type": "stream",
     "text": [
      "Termes indexés : ['développement', 'pesticides'] \n",
      "\n",
      "Termes spécifiques présents : ['développement', 'pesticides'] \n",
      "\n",
      "Termes spécifiques absents : {'troubles', 'cassation', \"cour d'appel\", 'frelon', 'bisphénol a', 'parlementaires', 'résidus de pesticides', 'foetus', 'malformations', 'désherbant', 'cour', 'milieu', 'confédération paysanne', 'chlordécone', 'céréalier charentais', 'expositions', 'bisphénol', 'nature environnement'} \n",
      "\n"
     ]
    },
    {
     "data": {
      "text/html": [
       "Une semaine sur CDURABLE.info, l’essentiel du <mark style=\"background-color:pink\">développement</mark> durable. Grenelle 2, marée noire, <mark style=\"background-color:pink\">pesticides</mark> : http://bit.ly/dl0zC2"
      ],
      "text/plain": [
       "<IPython.core.display.HTML object>"
      ]
     },
     "metadata": {},
     "output_type": "display_data"
    },
    {
     "data": {
      "text/html": [
       "<h2 style='text-align:center;'> Texte 13306902241 (70 sur 286)</h2>"
      ],
      "text/plain": [
       "<IPython.core.display.HTML object>"
      ]
     },
     "metadata": {},
     "output_type": "display_data"
    },
    {
     "data": {
      "text/html": [
       "<strong>Segment :</strong> 0 (2010-02-01 ; 2010-08-31)"
      ],
      "text/plain": [
       "<IPython.core.display.HTML object>"
      ]
     },
     "metadata": {},
     "output_type": "display_data"
    },
    {
     "data": {
      "text/html": [
       "<strong>Date :</strong> 2010-05-03"
      ],
      "text/plain": [
       "<IPython.core.display.HTML object>"
      ]
     },
     "metadata": {},
     "output_type": "display_data"
    },
    {
     "data": {
      "text/html": [
       "<strong>Auteur :</strong> Sandra Regol 🌻 \n"
      ],
      "text/plain": [
       "<IPython.core.display.HTML object>"
      ]
     },
     "metadata": {},
     "output_type": "display_data"
    },
    {
     "name": "stdout",
     "output_type": "stream",
     "text": [
      "Termes indexés : ['pesticides', 'santé', 'parlementaires'] \n",
      "\n",
      "Termes spécifiques présents : ['pesticides', 'parlementaires'] \n",
      "\n",
      "Termes spécifiques absents : {'développement', 'troubles', 'cassation', \"cour d'appel\", 'frelon', 'bisphénol a', 'résidus de pesticides', 'foetus', 'malformations', 'désherbant', 'cour', 'milieu', 'confédération paysanne', 'chlordécone', 'céréalier charentais', 'expositions', 'bisphénol', 'nature environnement'} \n",
      "\n"
     ]
    },
    {
     "data": {
      "text/html": [
       "#LOL #fail : (via @Actuenviro) #<mark style=\"background-color:pink\">pesticides</mark> et #<mark style=\"background-color:yellow\">santé</mark> : rapport parlementaire à décharge http://twurl.nl/6qxaux / Lisez : http://ht.ly/1Gf3p"
      ],
      "text/plain": [
       "<IPython.core.display.HTML object>"
      ]
     },
     "metadata": {},
     "output_type": "display_data"
    },
    {
     "data": {
      "text/html": [
       "<h2 style='text-align:center;'> Texte 13306401115 (71 sur 286)</h2>"
      ],
      "text/plain": [
       "<IPython.core.display.HTML object>"
      ]
     },
     "metadata": {},
     "output_type": "display_data"
    },
    {
     "data": {
      "text/html": [
       "<strong>Segment :</strong> 0 (2010-02-01 ; 2010-08-31)"
      ],
      "text/plain": [
       "<IPython.core.display.HTML object>"
      ]
     },
     "metadata": {},
     "output_type": "display_data"
    },
    {
     "data": {
      "text/html": [
       "<strong>Date :</strong> 2010-05-03"
      ],
      "text/plain": [
       "<IPython.core.display.HTML object>"
      ]
     },
     "metadata": {},
     "output_type": "display_data"
    },
    {
     "data": {
      "text/html": [
       "<strong>Auteur :</strong> Actu Environnement \n"
      ],
      "text/plain": [
       "<IPython.core.display.HTML object>"
      ]
     },
     "metadata": {},
     "output_type": "display_data"
    },
    {
     "name": "stdout",
     "output_type": "stream",
     "text": [
      "Termes indexés : ['pesticides', 'santé', 'parlementaires'] \n",
      "\n",
      "Termes spécifiques présents : ['pesticides', 'parlementaires'] \n",
      "\n",
      "Termes spécifiques absents : {'développement', 'troubles', 'cassation', \"cour d'appel\", 'frelon', 'bisphénol a', 'résidus de pesticides', 'foetus', 'malformations', 'désherbant', 'cour', 'milieu', 'confédération paysanne', 'chlordécone', 'céréalier charentais', 'expositions', 'bisphénol', 'nature environnement'} \n",
      "\n"
     ]
    },
    {
     "data": {
      "text/html": [
       "<mark style=\"background-color:pink\">pesticides</mark> et <mark style=\"background-color:yellow\">santé</mark> : un rapport parlementaire à décharge http://twurl.nl/6qxaux"
      ],
      "text/plain": [
       "<IPython.core.display.HTML object>"
      ]
     },
     "metadata": {},
     "output_type": "display_data"
    },
    {
     "data": {
      "text/html": [
       "<h2 style='text-align:center;'> Texte 13306451360 (72 sur 286)</h2>"
      ],
      "text/plain": [
       "<IPython.core.display.HTML object>"
      ]
     },
     "metadata": {},
     "output_type": "display_data"
    },
    {
     "data": {
      "text/html": [
       "<strong>Segment :</strong> 0 (2010-02-01 ; 2010-08-31)"
      ],
      "text/plain": [
       "<IPython.core.display.HTML object>"
      ]
     },
     "metadata": {},
     "output_type": "display_data"
    },
    {
     "data": {
      "text/html": [
       "<strong>Date :</strong> 2010-05-03"
      ],
      "text/plain": [
       "<IPython.core.display.HTML object>"
      ]
     },
     "metadata": {},
     "output_type": "display_data"
    },
    {
     "data": {
      "text/html": [
       "<strong>Auteur :</strong> Nouvelles \n"
      ],
      "text/plain": [
       "<IPython.core.display.HTML object>"
      ]
     },
     "metadata": {},
     "output_type": "display_data"
    },
    {
     "name": "stdout",
     "output_type": "stream",
     "text": [
      "Termes indexés : ['pesticides', 'parlementaires'] \n",
      "\n",
      "Termes spécifiques présents : ['pesticides', 'parlementaires'] \n",
      "\n",
      "Termes spécifiques absents : {'développement', 'troubles', 'cassation', \"cour d'appel\", 'frelon', 'bisphénol a', 'résidus de pesticides', 'foetus', 'malformations', 'désherbant', 'cour', 'milieu', 'confédération paysanne', 'chlordécone', 'céréalier charentais', 'expositions', 'bisphénol', 'nature environnement'} \n",
      "\n"
     ]
    },
    {
     "data": {
      "text/html": [
       "Flash: <mark style=\"background-color:pink\">pesticides</mark> : les <mark style=\"background-color:pink\">parlementaires</mark> publient un rapport critiqué par ... - Enviro2B http://bit.ly/9MX3b0"
      ],
      "text/plain": [
       "<IPython.core.display.HTML object>"
      ]
     },
     "metadata": {},
     "output_type": "display_data"
    },
    {
     "data": {
      "text/html": [
       "<h2 style='text-align:center;'> Texte 13305174658 (73 sur 286)</h2>"
      ],
      "text/plain": [
       "<IPython.core.display.HTML object>"
      ]
     },
     "metadata": {},
     "output_type": "display_data"
    },
    {
     "data": {
      "text/html": [
       "<strong>Segment :</strong> 0 (2010-02-01 ; 2010-08-31)"
      ],
      "text/plain": [
       "<IPython.core.display.HTML object>"
      ]
     },
     "metadata": {},
     "output_type": "display_data"
    },
    {
     "data": {
      "text/html": [
       "<strong>Date :</strong> 2010-05-03"
      ],
      "text/plain": [
       "<IPython.core.display.HTML object>"
      ]
     },
     "metadata": {},
     "output_type": "display_data"
    },
    {
     "data": {
      "text/html": [
       "<strong>Auteur :</strong> testdecharly \n"
      ],
      "text/plain": [
       "<IPython.core.display.HTML object>"
      ]
     },
     "metadata": {},
     "output_type": "display_data"
    },
    {
     "name": "stdout",
     "output_type": "stream",
     "text": [
      "Termes indexés : ['pesticides', 'santé', 'parlementaires'] \n",
      "\n",
      "Termes spécifiques présents : ['pesticides', 'parlementaires'] \n",
      "\n",
      "Termes spécifiques absents : {'développement', 'troubles', 'cassation', \"cour d'appel\", 'frelon', 'bisphénol a', 'résidus de pesticides', 'foetus', 'malformations', 'désherbant', 'cour', 'milieu', 'confédération paysanne', 'chlordécone', 'céréalier charentais', 'expositions', 'bisphénol', 'nature environnement'} \n",
      "\n"
     ]
    },
    {
     "data": {
      "text/html": [
       "<mark style=\"background-color:pink\">pesticides</mark> et <mark style=\"background-color:yellow\">santé</mark> : un rapport parlementaire à décharge http://url4.eu/38BKv"
      ],
      "text/plain": [
       "<IPython.core.display.HTML object>"
      ]
     },
     "metadata": {},
     "output_type": "display_data"
    },
    {
     "data": {
      "text/html": [
       "<h2 style='text-align:center;'> Texte 13379011590 (74 sur 286)</h2>"
      ],
      "text/plain": [
       "<IPython.core.display.HTML object>"
      ]
     },
     "metadata": {},
     "output_type": "display_data"
    },
    {
     "data": {
      "text/html": [
       "<strong>Segment :</strong> 0 (2010-02-01 ; 2010-08-31)"
      ],
      "text/plain": [
       "<IPython.core.display.HTML object>"
      ]
     },
     "metadata": {},
     "output_type": "display_data"
    },
    {
     "data": {
      "text/html": [
       "<strong>Date :</strong> 2010-05-04"
      ],
      "text/plain": [
       "<IPython.core.display.HTML object>"
      ]
     },
     "metadata": {},
     "output_type": "display_data"
    },
    {
     "data": {
      "text/html": [
       "<strong>Auteur :</strong> BlogAgency \n"
      ],
      "text/plain": [
       "<IPython.core.display.HTML object>"
      ]
     },
     "metadata": {},
     "output_type": "display_data"
    },
    {
     "name": "stdout",
     "output_type": "stream",
     "text": [
      "Termes indexés : ['parlementaires', 'pesticides'] \n",
      "\n",
      "Termes spécifiques présents : ['parlementaires', 'pesticides'] \n",
      "\n",
      "Termes spécifiques absents : {'développement', 'troubles', 'cassation', \"cour d'appel\", 'frelon', 'bisphénol a', 'résidus de pesticides', 'foetus', 'malformations', 'désherbant', 'cour', 'milieu', 'confédération paysanne', 'chlordécone', 'céréalier charentais', 'expositions', 'bisphénol', 'nature environnement'} \n",
      "\n"
     ]
    },
    {
     "data": {
      "text/html": [
       "RT @ked_: â?» @nicolaspatte: L'invraisemblable rapport parlementaire sur les <mark style=\"background-color:pink\">pesticides</mark> http://2tu.us/22g4"
      ],
      "text/plain": [
       "<IPython.core.display.HTML object>"
      ]
     },
     "metadata": {},
     "output_type": "display_data"
    },
    {
     "data": {
      "text/html": [
       "<h2 style='text-align:center;'> Texte 13377769229 (75 sur 286)</h2>"
      ],
      "text/plain": [
       "<IPython.core.display.HTML object>"
      ]
     },
     "metadata": {},
     "output_type": "display_data"
    },
    {
     "data": {
      "text/html": [
       "<strong>Segment :</strong> 0 (2010-02-01 ; 2010-08-31)"
      ],
      "text/plain": [
       "<IPython.core.display.HTML object>"
      ]
     },
     "metadata": {},
     "output_type": "display_data"
    },
    {
     "data": {
      "text/html": [
       "<strong>Date :</strong> 2010-05-04"
      ],
      "text/plain": [
       "<IPython.core.display.HTML object>"
      ]
     },
     "metadata": {},
     "output_type": "display_data"
    },
    {
     "data": {
      "text/html": [
       "<strong>Auteur :</strong> FRENCH RSS \n"
      ],
      "text/plain": [
       "<IPython.core.display.HTML object>"
      ]
     },
     "metadata": {},
     "output_type": "display_data"
    },
    {
     "name": "stdout",
     "output_type": "stream",
     "text": [
      "Termes indexés : ['parlementaires', 'pesticides'] \n",
      "\n",
      "Termes spécifiques présents : ['parlementaires', 'pesticides'] \n",
      "\n",
      "Termes spécifiques absents : {'développement', 'troubles', 'cassation', \"cour d'appel\", 'frelon', 'bisphénol a', 'résidus de pesticides', 'foetus', 'malformations', 'désherbant', 'cour', 'milieu', 'confédération paysanne', 'chlordécone', 'céréalier charentais', 'expositions', 'bisphénol', 'nature environnement'} \n",
      "\n"
     ]
    },
    {
     "data": {
      "text/html": [
       "L'invraisemblable rapport parlementaire sur les <mark style=\"background-color:pink\">pesticides</mark> | Rue89 http://goo.gl/fb/SDVJM #wullon"
      ],
      "text/plain": [
       "<IPython.core.display.HTML object>"
      ]
     },
     "metadata": {},
     "output_type": "display_data"
    },
    {
     "data": {
      "text/html": [
       "<h2 style='text-align:center;'> Texte 13375126007 (76 sur 286)</h2>"
      ],
      "text/plain": [
       "<IPython.core.display.HTML object>"
      ]
     },
     "metadata": {},
     "output_type": "display_data"
    },
    {
     "data": {
      "text/html": [
       "<strong>Segment :</strong> 0 (2010-02-01 ; 2010-08-31)"
      ],
      "text/plain": [
       "<IPython.core.display.HTML object>"
      ]
     },
     "metadata": {},
     "output_type": "display_data"
    },
    {
     "data": {
      "text/html": [
       "<strong>Date :</strong> 2010-05-04"
      ],
      "text/plain": [
       "<IPython.core.display.HTML object>"
      ]
     },
     "metadata": {},
     "output_type": "display_data"
    },
    {
     "data": {
      "text/html": [
       "<strong>Auteur :</strong> Prise de Terre \n"
      ],
      "text/plain": [
       "<IPython.core.display.HTML object>"
      ]
     },
     "metadata": {},
     "output_type": "display_data"
    },
    {
     "name": "stdout",
     "output_type": "stream",
     "text": [
      "Termes indexés : ['parlementaires', 'pesticides'] \n",
      "\n",
      "Termes spécifiques présents : ['parlementaires', 'pesticides'] \n",
      "\n",
      "Termes spécifiques absents : {'développement', 'troubles', 'cassation', \"cour d'appel\", 'frelon', 'bisphénol a', 'résidus de pesticides', 'foetus', 'malformations', 'désherbant', 'cour', 'milieu', 'confédération paysanne', 'chlordécone', 'céréalier charentais', 'expositions', 'bisphénol', 'nature environnement'} \n",
      "\n"
     ]
    },
    {
     "data": {
      "text/html": [
       "RT @sirchamallow\n",
       "  \n",
       "L'invraisemblable rapport parlementaire sur les <mark style=\"background-color:pink\">pesticides</mark> http://gl.am/c12RTh (rue89)"
      ],
      "text/plain": [
       "<IPython.core.display.HTML object>"
      ]
     },
     "metadata": {},
     "output_type": "display_data"
    },
    {
     "data": {
      "text/html": [
       "<h2 style='text-align:center;'> Texte 13373076469 (77 sur 286)</h2>"
      ],
      "text/plain": [
       "<IPython.core.display.HTML object>"
      ]
     },
     "metadata": {},
     "output_type": "display_data"
    },
    {
     "data": {
      "text/html": [
       "<strong>Segment :</strong> 0 (2010-02-01 ; 2010-08-31)"
      ],
      "text/plain": [
       "<IPython.core.display.HTML object>"
      ]
     },
     "metadata": {},
     "output_type": "display_data"
    },
    {
     "data": {
      "text/html": [
       "<strong>Date :</strong> 2010-05-04"
      ],
      "text/plain": [
       "<IPython.core.display.HTML object>"
      ]
     },
     "metadata": {},
     "output_type": "display_data"
    },
    {
     "data": {
      "text/html": [
       "<strong>Auteur :</strong> Cédric \n"
      ],
      "text/plain": [
       "<IPython.core.display.HTML object>"
      ]
     },
     "metadata": {},
     "output_type": "display_data"
    },
    {
     "name": "stdout",
     "output_type": "stream",
     "text": [
      "Termes indexés : ['parlementaires', 'pesticides'] \n",
      "\n",
      "Termes spécifiques présents : ['parlementaires', 'pesticides'] \n",
      "\n",
      "Termes spécifiques absents : {'développement', 'troubles', 'cassation', \"cour d'appel\", 'frelon', 'bisphénol a', 'résidus de pesticides', 'foetus', 'malformations', 'désherbant', 'cour', 'milieu', 'confédération paysanne', 'chlordécone', 'céréalier charentais', 'expositions', 'bisphénol', 'nature environnement'} \n",
      "\n"
     ]
    },
    {
     "data": {
      "text/html": [
       "♻ @nicolaspatte: L'invraisemblable rapport parlementaire sur les <mark style=\"background-color:pink\">pesticides</mark> http://2tu.us/22g4"
      ],
      "text/plain": [
       "<IPython.core.display.HTML object>"
      ]
     },
     "metadata": {},
     "output_type": "display_data"
    },
    {
     "data": {
      "text/html": [
       "<h2 style='text-align:center;'> Texte 13372655489 (78 sur 286)</h2>"
      ],
      "text/plain": [
       "<IPython.core.display.HTML object>"
      ]
     },
     "metadata": {},
     "output_type": "display_data"
    },
    {
     "data": {
      "text/html": [
       "<strong>Segment :</strong> 0 (2010-02-01 ; 2010-08-31)"
      ],
      "text/plain": [
       "<IPython.core.display.HTML object>"
      ]
     },
     "metadata": {},
     "output_type": "display_data"
    },
    {
     "data": {
      "text/html": [
       "<strong>Date :</strong> 2010-05-04"
      ],
      "text/plain": [
       "<IPython.core.display.HTML object>"
      ]
     },
     "metadata": {},
     "output_type": "display_data"
    },
    {
     "data": {
      "text/html": [
       "<strong>Auteur :</strong> 🇭‌🇪‌🇷‌🇻‌🇪‌́ 🌻 💉💉 \n"
      ],
      "text/plain": [
       "<IPython.core.display.HTML object>"
      ]
     },
     "metadata": {},
     "output_type": "display_data"
    },
    {
     "name": "stdout",
     "output_type": "stream",
     "text": [
      "Termes indexés : ['parlementaires', 'pesticides'] \n",
      "\n",
      "Termes spécifiques présents : ['parlementaires', 'pesticides'] \n",
      "\n",
      "Termes spécifiques absents : {'développement', 'troubles', 'cassation', \"cour d'appel\", 'frelon', 'bisphénol a', 'résidus de pesticides', 'foetus', 'malformations', 'désherbant', 'cour', 'milieu', 'confédération paysanne', 'chlordécone', 'céréalier charentais', 'expositions', 'bisphénol', 'nature environnement'} \n",
      "\n"
     ]
    },
    {
     "data": {
      "text/html": [
       "RT @aprokopiev: RT @Rue89 L'invraisemblable rapport parlementaire sur les #<mark style=\"background-color:pink\">pesticides</mark> http://bit.ly/dcRre9 #Grenelle #lobbying"
      ],
      "text/plain": [
       "<IPython.core.display.HTML object>"
      ]
     },
     "metadata": {},
     "output_type": "display_data"
    },
    {
     "data": {
      "text/html": [
       "<h2 style='text-align:center;'> Texte 13372622749 (79 sur 286)</h2>"
      ],
      "text/plain": [
       "<IPython.core.display.HTML object>"
      ]
     },
     "metadata": {},
     "output_type": "display_data"
    },
    {
     "data": {
      "text/html": [
       "<strong>Segment :</strong> 0 (2010-02-01 ; 2010-08-31)"
      ],
      "text/plain": [
       "<IPython.core.display.HTML object>"
      ]
     },
     "metadata": {},
     "output_type": "display_data"
    },
    {
     "data": {
      "text/html": [
       "<strong>Date :</strong> 2010-05-04"
      ],
      "text/plain": [
       "<IPython.core.display.HTML object>"
      ]
     },
     "metadata": {},
     "output_type": "display_data"
    },
    {
     "data": {
      "text/html": [
       "<strong>Auteur :</strong> Philhadj \n"
      ],
      "text/plain": [
       "<IPython.core.display.HTML object>"
      ]
     },
     "metadata": {},
     "output_type": "display_data"
    },
    {
     "name": "stdout",
     "output_type": "stream",
     "text": [
      "Termes indexés : ['parlementaires', 'pesticides'] \n",
      "\n",
      "Termes spécifiques présents : ['parlementaires', 'pesticides'] \n",
      "\n",
      "Termes spécifiques absents : {'développement', 'troubles', 'cassation', \"cour d'appel\", 'frelon', 'bisphénol a', 'résidus de pesticides', 'foetus', 'malformations', 'désherbant', 'cour', 'milieu', 'confédération paysanne', 'chlordécone', 'céréalier charentais', 'expositions', 'bisphénol', 'nature environnement'} \n",
      "\n"
     ]
    },
    {
     "data": {
      "text/html": [
       "From Philhadj.fr L'invraisemblable rapport parlementaire sur les <mark style=\"background-color:pink\">pesticides</mark> http://is.gd/bTPmc"
      ],
      "text/plain": [
       "<IPython.core.display.HTML object>"
      ]
     },
     "metadata": {},
     "output_type": "display_data"
    },
    {
     "data": {
      "text/html": [
       "<h2 style='text-align:center;'> Texte 13372079915 (80 sur 286)</h2>"
      ],
      "text/plain": [
       "<IPython.core.display.HTML object>"
      ]
     },
     "metadata": {},
     "output_type": "display_data"
    },
    {
     "data": {
      "text/html": [
       "<strong>Segment :</strong> 0 (2010-02-01 ; 2010-08-31)"
      ],
      "text/plain": [
       "<IPython.core.display.HTML object>"
      ]
     },
     "metadata": {},
     "output_type": "display_data"
    },
    {
     "data": {
      "text/html": [
       "<strong>Date :</strong> 2010-05-04"
      ],
      "text/plain": [
       "<IPython.core.display.HTML object>"
      ]
     },
     "metadata": {},
     "output_type": "display_data"
    },
    {
     "data": {
      "text/html": [
       "<strong>Auteur :</strong> Laurence Fischer \n"
      ],
      "text/plain": [
       "<IPython.core.display.HTML object>"
      ]
     },
     "metadata": {},
     "output_type": "display_data"
    },
    {
     "name": "stdout",
     "output_type": "stream",
     "text": [
      "Termes indexés : ['parlementaires', 'pesticides'] \n",
      "\n",
      "Termes spécifiques présents : ['parlementaires', 'pesticides'] \n",
      "\n",
      "Termes spécifiques absents : {'développement', 'troubles', 'cassation', \"cour d'appel\", 'frelon', 'bisphénol a', 'résidus de pesticides', 'foetus', 'malformations', 'désherbant', 'cour', 'milieu', 'confédération paysanne', 'chlordécone', 'céréalier charentais', 'expositions', 'bisphénol', 'nature environnement'} \n",
      "\n"
     ]
    },
    {
     "data": {
      "text/html": [
       "L'invraisemblable rapport parlementaire sur les <mark style=\"background-color:pink\">pesticides</mark> http://www.rue89.com/node/150113"
      ],
      "text/plain": [
       "<IPython.core.display.HTML object>"
      ]
     },
     "metadata": {},
     "output_type": "display_data"
    },
    {
     "data": {
      "text/html": [
       "<h2 style='text-align:center;'> Texte 13381350314 (81 sur 286)</h2>"
      ],
      "text/plain": [
       "<IPython.core.display.HTML object>"
      ]
     },
     "metadata": {},
     "output_type": "display_data"
    },
    {
     "data": {
      "text/html": [
       "<strong>Segment :</strong> 0 (2010-02-01 ; 2010-08-31)"
      ],
      "text/plain": [
       "<IPython.core.display.HTML object>"
      ]
     },
     "metadata": {},
     "output_type": "display_data"
    },
    {
     "data": {
      "text/html": [
       "<strong>Date :</strong> 2010-05-04"
      ],
      "text/plain": [
       "<IPython.core.display.HTML object>"
      ]
     },
     "metadata": {},
     "output_type": "display_data"
    },
    {
     "data": {
      "text/html": [
       "<strong>Auteur :</strong> Caroline Omnes \n"
      ],
      "text/plain": [
       "<IPython.core.display.HTML object>"
      ]
     },
     "metadata": {},
     "output_type": "display_data"
    },
    {
     "name": "stdout",
     "output_type": "stream",
     "text": [
      "Termes indexés : ['parlementaires', 'pesticides'] \n",
      "\n",
      "Termes spécifiques présents : ['parlementaires', 'pesticides'] \n",
      "\n",
      "Termes spécifiques absents : {'développement', 'troubles', 'cassation', \"cour d'appel\", 'frelon', 'bisphénol a', 'résidus de pesticides', 'foetus', 'malformations', 'désherbant', 'cour', 'milieu', 'confédération paysanne', 'chlordécone', 'céréalier charentais', 'expositions', 'bisphénol', 'nature environnement'} \n",
      "\n"
     ]
    },
    {
     "data": {
      "text/html": [
       "L'invraisemblable rapport parlementaire sur les <mark style=\"background-color:pink\">pesticides</mark> http://ow.ly/1GIg4"
      ],
      "text/plain": [
       "<IPython.core.display.HTML object>"
      ]
     },
     "metadata": {},
     "output_type": "display_data"
    },
    {
     "data": {
      "text/html": [
       "<h2 style='text-align:center;'> Texte 13369913775 (82 sur 286)</h2>"
      ],
      "text/plain": [
       "<IPython.core.display.HTML object>"
      ]
     },
     "metadata": {},
     "output_type": "display_data"
    },
    {
     "data": {
      "text/html": [
       "<strong>Segment :</strong> 0 (2010-02-01 ; 2010-08-31)"
      ],
      "text/plain": [
       "<IPython.core.display.HTML object>"
      ]
     },
     "metadata": {},
     "output_type": "display_data"
    },
    {
     "data": {
      "text/html": [
       "<strong>Date :</strong> 2010-05-04"
      ],
      "text/plain": [
       "<IPython.core.display.HTML object>"
      ]
     },
     "metadata": {},
     "output_type": "display_data"
    },
    {
     "data": {
      "text/html": [
       "<strong>Auteur :</strong> Alexandre Lemarié \n"
      ],
      "text/plain": [
       "<IPython.core.display.HTML object>"
      ]
     },
     "metadata": {},
     "output_type": "display_data"
    },
    {
     "name": "stdout",
     "output_type": "stream",
     "text": [
      "Termes indexés : ['pesticides', 'santé', 'parlementaires'] \n",
      "\n",
      "Termes spécifiques présents : ['pesticides', 'parlementaires'] \n",
      "\n",
      "Termes spécifiques absents : {'développement', 'troubles', 'cassation', \"cour d'appel\", 'frelon', 'bisphénol a', 'résidus de pesticides', 'foetus', 'malformations', 'désherbant', 'cour', 'milieu', 'confédération paysanne', 'chlordécone', 'céréalier charentais', 'expositions', 'bisphénol', 'nature environnement'} \n",
      "\n"
     ]
    },
    {
     "data": {
      "text/html": [
       "Les <mark style=\"background-color:pink\">pesticides</mark> sont mauvais pour la <mark style=\"background-color:yellow\">santé</mark> et l'environnement? Les <mark style=\"background-color:pink\">parlementaires</mark> s'en foutent! #mercileslobbies Rue89 > http://bit.ly/d1UfXe"
      ],
      "text/plain": [
       "<IPython.core.display.HTML object>"
      ]
     },
     "metadata": {},
     "output_type": "display_data"
    },
    {
     "data": {
      "text/html": [
       "<h2 style='text-align:center;'> Texte 13356705697 (83 sur 286)</h2>"
      ],
      "text/plain": [
       "<IPython.core.display.HTML object>"
      ]
     },
     "metadata": {},
     "output_type": "display_data"
    },
    {
     "data": {
      "text/html": [
       "<strong>Segment :</strong> 0 (2010-02-01 ; 2010-08-31)"
      ],
      "text/plain": [
       "<IPython.core.display.HTML object>"
      ]
     },
     "metadata": {},
     "output_type": "display_data"
    },
    {
     "data": {
      "text/html": [
       "<strong>Date :</strong> 2010-05-04"
      ],
      "text/plain": [
       "<IPython.core.display.HTML object>"
      ]
     },
     "metadata": {},
     "output_type": "display_data"
    },
    {
     "data": {
      "text/html": [
       "<strong>Auteur :</strong> RFI \n"
      ],
      "text/plain": [
       "<IPython.core.display.HTML object>"
      ]
     },
     "metadata": {},
     "output_type": "display_data"
    },
    {
     "name": "stdout",
     "output_type": "stream",
     "text": [
      "Termes indexés : ['pollution', 'parlementaires', 'pesticides'] \n",
      "\n",
      "Termes spécifiques présents : ['parlementaires', 'pesticides'] \n",
      "\n",
      "Termes spécifiques absents : {'développement', 'troubles', 'cassation', \"cour d'appel\", 'frelon', 'bisphénol a', 'résidus de pesticides', 'foetus', 'malformations', 'désherbant', 'cour', 'milieu', 'confédération paysanne', 'chlordécone', 'céréalier charentais', 'expositions', 'bisphénol', 'nature environnement'} \n",
      "\n"
     ]
    },
    {
     "data": {
      "text/html": [
       "<mark style=\"background-color:yellow\">pollution</mark> - Mise en garde parlementaire contre une réduction trop brutale des <mark style=\"background-color:pink\">pesticides</mark> http://bit.ly/9o4zLp"
      ],
      "text/plain": [
       "<IPython.core.display.HTML object>"
      ]
     },
     "metadata": {},
     "output_type": "display_data"
    },
    {
     "data": {
      "text/html": [
       "<h2 style='text-align:center;'> Texte 13357869274 (84 sur 286)</h2>"
      ],
      "text/plain": [
       "<IPython.core.display.HTML object>"
      ]
     },
     "metadata": {},
     "output_type": "display_data"
    },
    {
     "data": {
      "text/html": [
       "<strong>Segment :</strong> 0 (2010-02-01 ; 2010-08-31)"
      ],
      "text/plain": [
       "<IPython.core.display.HTML object>"
      ]
     },
     "metadata": {},
     "output_type": "display_data"
    },
    {
     "data": {
      "text/html": [
       "<strong>Date :</strong> 2010-05-04"
      ],
      "text/plain": [
       "<IPython.core.display.HTML object>"
      ]
     },
     "metadata": {},
     "output_type": "display_data"
    },
    {
     "data": {
      "text/html": [
       "<strong>Auteur :</strong> I Want! News \n"
      ],
      "text/plain": [
       "<IPython.core.display.HTML object>"
      ]
     },
     "metadata": {},
     "output_type": "display_data"
    },
    {
     "name": "stdout",
     "output_type": "stream",
     "text": [
      "Termes indexés : ['pollution', 'parlementaires', 'pesticides'] \n",
      "\n",
      "Termes spécifiques présents : ['parlementaires', 'pesticides'] \n",
      "\n",
      "Termes spécifiques absents : {'développement', 'troubles', 'cassation', \"cour d'appel\", 'frelon', 'bisphénol a', 'résidus de pesticides', 'foetus', 'malformations', 'désherbant', 'cour', 'milieu', 'confédération paysanne', 'chlordécone', 'céréalier charentais', 'expositions', 'bisphénol', 'nature environnement'} \n",
      "\n"
     ]
    },
    {
     "data": {
      "text/html": [
       "InfosWorld (FR) : <mark style=\"background-color:yellow\">pollution</mark>: Mise en garde parlementaire contre une réduction trop brutale des <mark style=\"background-color:pink\">pesticides</mark> http://bit.ly/br8PbL - #Rfi"
      ],
      "text/plain": [
       "<IPython.core.display.HTML object>"
      ]
     },
     "metadata": {},
     "output_type": "display_data"
    },
    {
     "data": {
      "text/html": [
       "<h2 style='text-align:center;'> Texte 13358529694 (85 sur 286)</h2>"
      ],
      "text/plain": [
       "<IPython.core.display.HTML object>"
      ]
     },
     "metadata": {},
     "output_type": "display_data"
    },
    {
     "data": {
      "text/html": [
       "<strong>Segment :</strong> 0 (2010-02-01 ; 2010-08-31)"
      ],
      "text/plain": [
       "<IPython.core.display.HTML object>"
      ]
     },
     "metadata": {},
     "output_type": "display_data"
    },
    {
     "data": {
      "text/html": [
       "<strong>Date :</strong> 2010-05-04"
      ],
      "text/plain": [
       "<IPython.core.display.HTML object>"
      ]
     },
     "metadata": {},
     "output_type": "display_data"
    },
    {
     "data": {
      "text/html": [
       "<strong>Auteur :</strong> Alberto Corsini \n"
      ],
      "text/plain": [
       "<IPython.core.display.HTML object>"
      ]
     },
     "metadata": {},
     "output_type": "display_data"
    },
    {
     "name": "stdout",
     "output_type": "stream",
     "text": [
      "Termes indexés : ['pollution', 'parlementaires', 'pesticides'] \n",
      "\n",
      "Termes spécifiques présents : ['parlementaires', 'pesticides'] \n",
      "\n",
      "Termes spécifiques absents : {'développement', 'troubles', 'cassation', \"cour d'appel\", 'frelon', 'bisphénol a', 'résidus de pesticides', 'foetus', 'malformations', 'désherbant', 'cour', 'milieu', 'confédération paysanne', 'chlordécone', 'céréalier charentais', 'expositions', 'bisphénol', 'nature environnement'} \n",
      "\n"
     ]
    },
    {
     "data": {
      "text/html": [
       "RFI <mark style=\"background-color:yellow\">pollution</mark>: Mise en garde parlementaire contre une réduction trop brutale des <mark style=\"background-color:pink\">pesticides</mark>: \n",
       "\n",
       "    ... http://bit.ly/9KzYET"
      ],
      "text/plain": [
       "<IPython.core.display.HTML object>"
      ]
     },
     "metadata": {},
     "output_type": "display_data"
    },
    {
     "data": {
      "text/html": [
       "<h2 style='text-align:center;'> Texte 13361053008 (86 sur 286)</h2>"
      ],
      "text/plain": [
       "<IPython.core.display.HTML object>"
      ]
     },
     "metadata": {},
     "output_type": "display_data"
    },
    {
     "data": {
      "text/html": [
       "<strong>Segment :</strong> 0 (2010-02-01 ; 2010-08-31)"
      ],
      "text/plain": [
       "<IPython.core.display.HTML object>"
      ]
     },
     "metadata": {},
     "output_type": "display_data"
    },
    {
     "data": {
      "text/html": [
       "<strong>Date :</strong> 2010-05-04"
      ],
      "text/plain": [
       "<IPython.core.display.HTML object>"
      ]
     },
     "metadata": {},
     "output_type": "display_data"
    },
    {
     "data": {
      "text/html": [
       "<strong>Auteur :</strong> RSS_Rue89 \n"
      ],
      "text/plain": [
       "<IPython.core.display.HTML object>"
      ]
     },
     "metadata": {},
     "output_type": "display_data"
    },
    {
     "name": "stdout",
     "output_type": "stream",
     "text": [
      "Termes indexés : ['parlementaires', 'pesticides'] \n",
      "\n",
      "Termes spécifiques présents : ['parlementaires', 'pesticides'] \n",
      "\n",
      "Termes spécifiques absents : {'développement', 'troubles', 'cassation', \"cour d'appel\", 'frelon', 'bisphénol a', 'résidus de pesticides', 'foetus', 'malformations', 'désherbant', 'cour', 'milieu', 'confédération paysanne', 'chlordécone', 'céréalier charentais', 'expositions', 'bisphénol', 'nature environnement'} \n",
      "\n"
     ]
    },
    {
     "data": {
      "text/html": [
       "L'invraisemblable rapport parlementaire sur les <mark style=\"background-color:pink\">pesticides</mark> http://bit.ly/d4AIxS"
      ],
      "text/plain": [
       "<IPython.core.display.HTML object>"
      ]
     },
     "metadata": {},
     "output_type": "display_data"
    },
    {
     "data": {
      "text/html": [
       "<h2 style='text-align:center;'> Texte 13361160651 (87 sur 286)</h2>"
      ],
      "text/plain": [
       "<IPython.core.display.HTML object>"
      ]
     },
     "metadata": {},
     "output_type": "display_data"
    },
    {
     "data": {
      "text/html": [
       "<strong>Segment :</strong> 0 (2010-02-01 ; 2010-08-31)"
      ],
      "text/plain": [
       "<IPython.core.display.HTML object>"
      ]
     },
     "metadata": {},
     "output_type": "display_data"
    },
    {
     "data": {
      "text/html": [
       "<strong>Date :</strong> 2010-05-04"
      ],
      "text/plain": [
       "<IPython.core.display.HTML object>"
      ]
     },
     "metadata": {},
     "output_type": "display_data"
    },
    {
     "data": {
      "text/html": [
       "<strong>Auteur :</strong> Channel F \n"
      ],
      "text/plain": [
       "<IPython.core.display.HTML object>"
      ]
     },
     "metadata": {},
     "output_type": "display_data"
    },
    {
     "name": "stdout",
     "output_type": "stream",
     "text": [
      "Termes indexés : ['parlementaires', 'pesticides'] \n",
      "\n",
      "Termes spécifiques présents : ['parlementaires', 'pesticides'] \n",
      "\n",
      "Termes spécifiques absents : {'développement', 'troubles', 'cassation', \"cour d'appel\", 'frelon', 'bisphénol a', 'résidus de pesticides', 'foetus', 'malformations', 'désherbant', 'cour', 'milieu', 'confédération paysanne', 'chlordécone', 'céréalier charentais', 'expositions', 'bisphénol', 'nature environnement'} \n",
      "\n"
     ]
    },
    {
     "data": {
      "text/html": [
       "L'invraisemblable rapport parlementaire sur les <mark style=\"background-color:pink\">pesticides</mark> \n",
       "http://snipurl.com/vzaik"
      ],
      "text/plain": [
       "<IPython.core.display.HTML object>"
      ]
     },
     "metadata": {},
     "output_type": "display_data"
    },
    {
     "data": {
      "text/html": [
       "<h2 style='text-align:center;'> Texte 13362647015 (88 sur 286)</h2>"
      ],
      "text/plain": [
       "<IPython.core.display.HTML object>"
      ]
     },
     "metadata": {},
     "output_type": "display_data"
    },
    {
     "data": {
      "text/html": [
       "<strong>Segment :</strong> 0 (2010-02-01 ; 2010-08-31)"
      ],
      "text/plain": [
       "<IPython.core.display.HTML object>"
      ]
     },
     "metadata": {},
     "output_type": "display_data"
    },
    {
     "data": {
      "text/html": [
       "<strong>Date :</strong> 2010-05-04"
      ],
      "text/plain": [
       "<IPython.core.display.HTML object>"
      ]
     },
     "metadata": {},
     "output_type": "display_data"
    },
    {
     "data": {
      "text/html": [
       "<strong>Auteur :</strong> AbriCoCotier \n"
      ],
      "text/plain": [
       "<IPython.core.display.HTML object>"
      ]
     },
     "metadata": {},
     "output_type": "display_data"
    },
    {
     "name": "stdout",
     "output_type": "stream",
     "text": [
      "Termes indexés : ['parlementaires', 'pesticides'] \n",
      "\n",
      "Termes spécifiques présents : ['parlementaires', 'pesticides'] \n",
      "\n",
      "Termes spécifiques absents : {'développement', 'troubles', 'cassation', \"cour d'appel\", 'frelon', 'bisphénol a', 'résidus de pesticides', 'foetus', 'malformations', 'désherbant', 'cour', 'milieu', 'confédération paysanne', 'chlordécone', 'céréalier charentais', 'expositions', 'bisphénol', 'nature environnement'} \n",
      "\n"
     ]
    },
    {
     "data": {
      "text/html": [
       "L'invraisemblable rapport parlementaire sur les <mark style=\"background-color:pink\">pesticides</mark> http://ow.ly/1GI8k"
      ],
      "text/plain": [
       "<IPython.core.display.HTML object>"
      ]
     },
     "metadata": {},
     "output_type": "display_data"
    },
    {
     "data": {
      "text/html": [
       "<h2 style='text-align:center;'> Texte 13362889138 (89 sur 286)</h2>"
      ],
      "text/plain": [
       "<IPython.core.display.HTML object>"
      ]
     },
     "metadata": {},
     "output_type": "display_data"
    },
    {
     "data": {
      "text/html": [
       "<strong>Segment :</strong> 0 (2010-02-01 ; 2010-08-31)"
      ],
      "text/plain": [
       "<IPython.core.display.HTML object>"
      ]
     },
     "metadata": {},
     "output_type": "display_data"
    },
    {
     "data": {
      "text/html": [
       "<strong>Date :</strong> 2010-05-04"
      ],
      "text/plain": [
       "<IPython.core.display.HTML object>"
      ]
     },
     "metadata": {},
     "output_type": "display_data"
    },
    {
     "data": {
      "text/html": [
       "<strong>Auteur :</strong> Thegreenpostbox \n"
      ],
      "text/plain": [
       "<IPython.core.display.HTML object>"
      ]
     },
     "metadata": {},
     "output_type": "display_data"
    },
    {
     "name": "stdout",
     "output_type": "stream",
     "text": [
      "Termes indexés : ['parlementaires', 'pesticides'] \n",
      "\n",
      "Termes spécifiques présents : ['parlementaires', 'pesticides'] \n",
      "\n",
      "Termes spécifiques absents : {'développement', 'troubles', 'cassation', \"cour d'appel\", 'frelon', 'bisphénol a', 'résidus de pesticides', 'foetus', 'malformations', 'désherbant', 'cour', 'milieu', 'confédération paysanne', 'chlordécone', 'céréalier charentais', 'expositions', 'bisphénol', 'nature environnement'} \n",
      "\n"
     ]
    },
    {
     "data": {
      "text/html": [
       "RUE89 - L'invraisemblable rapport parlementaire sur les <mark style=\"background-color:pink\">pesticides</mark> http://bit.ly/aFt3Ea"
      ],
      "text/plain": [
       "<IPython.core.display.HTML object>"
      ]
     },
     "metadata": {},
     "output_type": "display_data"
    },
    {
     "data": {
      "text/html": [
       "<h2 style='text-align:center;'> Texte 13363030166 (90 sur 286)</h2>"
      ],
      "text/plain": [
       "<IPython.core.display.HTML object>"
      ]
     },
     "metadata": {},
     "output_type": "display_data"
    },
    {
     "data": {
      "text/html": [
       "<strong>Segment :</strong> 0 (2010-02-01 ; 2010-08-31)"
      ],
      "text/plain": [
       "<IPython.core.display.HTML object>"
      ]
     },
     "metadata": {},
     "output_type": "display_data"
    },
    {
     "data": {
      "text/html": [
       "<strong>Date :</strong> 2010-05-04"
      ],
      "text/plain": [
       "<IPython.core.display.HTML object>"
      ]
     },
     "metadata": {},
     "output_type": "display_data"
    },
    {
     "data": {
      "text/html": [
       "<strong>Auteur :</strong> Rue89 - A la Une \n"
      ],
      "text/plain": [
       "<IPython.core.display.HTML object>"
      ]
     },
     "metadata": {},
     "output_type": "display_data"
    },
    {
     "name": "stdout",
     "output_type": "stream",
     "text": [
      "Termes indexés : ['parlementaires', 'pesticides'] \n",
      "\n",
      "Termes spécifiques présents : ['parlementaires', 'pesticides'] \n",
      "\n",
      "Termes spécifiques absents : {'développement', 'troubles', 'cassation', \"cour d'appel\", 'frelon', 'bisphénol a', 'résidus de pesticides', 'foetus', 'malformations', 'désherbant', 'cour', 'milieu', 'confédération paysanne', 'chlordécone', 'céréalier charentais', 'expositions', 'bisphénol', 'nature environnement'} \n",
      "\n"
     ]
    },
    {
     "data": {
      "text/html": [
       "L'invraisemblable rapport parlementaire sur les <mark style=\"background-color:pink\">pesticides</mark> http://bit.ly/bu1v0Z"
      ],
      "text/plain": [
       "<IPython.core.display.HTML object>"
      ]
     },
     "metadata": {},
     "output_type": "display_data"
    },
    {
     "data": {
      "text/html": [
       "<h2 style='text-align:center;'> Texte 13363030428 (91 sur 286)</h2>"
      ],
      "text/plain": [
       "<IPython.core.display.HTML object>"
      ]
     },
     "metadata": {},
     "output_type": "display_data"
    },
    {
     "data": {
      "text/html": [
       "<strong>Segment :</strong> 0 (2010-02-01 ; 2010-08-31)"
      ],
      "text/plain": [
       "<IPython.core.display.HTML object>"
      ]
     },
     "metadata": {},
     "output_type": "display_data"
    },
    {
     "data": {
      "text/html": [
       "<strong>Date :</strong> 2010-05-04"
      ],
      "text/plain": [
       "<IPython.core.display.HTML object>"
      ]
     },
     "metadata": {},
     "output_type": "display_data"
    },
    {
     "data": {
      "text/html": [
       "<strong>Auteur :</strong> D W-H \n"
      ],
      "text/plain": [
       "<IPython.core.display.HTML object>"
      ]
     },
     "metadata": {},
     "output_type": "display_data"
    },
    {
     "name": "stdout",
     "output_type": "stream",
     "text": [
      "Termes indexés : ['parlementaires', 'pesticides'] \n",
      "\n",
      "Termes spécifiques présents : ['parlementaires', 'pesticides'] \n",
      "\n",
      "Termes spécifiques absents : {'développement', 'troubles', 'cassation', \"cour d'appel\", 'frelon', 'bisphénol a', 'résidus de pesticides', 'foetus', 'malformations', 'désherbant', 'cour', 'milieu', 'confédération paysanne', 'chlordécone', 'céréalier charentais', 'expositions', 'bisphénol', 'nature environnement'} \n",
      "\n"
     ]
    },
    {
     "data": {
      "text/html": [
       "L'invraisemblable rapport parlementaire sur les <mark style=\"background-color:pink\">pesticides</mark>: \n",
       "L'office parlementaire d'évaluation des choix scienti... http://bit.ly/bu1v0Z"
      ],
      "text/plain": [
       "<IPython.core.display.HTML object>"
      ]
     },
     "metadata": {},
     "output_type": "display_data"
    },
    {
     "data": {
      "text/html": [
       "<h2 style='text-align:center;'> Texte 13363030463 (92 sur 286)</h2>"
      ],
      "text/plain": [
       "<IPython.core.display.HTML object>"
      ]
     },
     "metadata": {},
     "output_type": "display_data"
    },
    {
     "data": {
      "text/html": [
       "<strong>Segment :</strong> 0 (2010-02-01 ; 2010-08-31)"
      ],
      "text/plain": [
       "<IPython.core.display.HTML object>"
      ]
     },
     "metadata": {},
     "output_type": "display_data"
    },
    {
     "data": {
      "text/html": [
       "<strong>Date :</strong> 2010-05-04"
      ],
      "text/plain": [
       "<IPython.core.display.HTML object>"
      ]
     },
     "metadata": {},
     "output_type": "display_data"
    },
    {
     "data": {
      "text/html": [
       "<strong>Auteur :</strong> bonui \n"
      ],
      "text/plain": [
       "<IPython.core.display.HTML object>"
      ]
     },
     "metadata": {},
     "output_type": "display_data"
    },
    {
     "name": "stdout",
     "output_type": "stream",
     "text": [
      "Termes indexés : ['parlementaires', 'pesticides'] \n",
      "\n",
      "Termes spécifiques présents : ['parlementaires', 'pesticides'] \n",
      "\n",
      "Termes spécifiques absents : {'développement', 'troubles', 'cassation', \"cour d'appel\", 'frelon', 'bisphénol a', 'résidus de pesticides', 'foetus', 'malformations', 'désherbant', 'cour', 'milieu', 'confédération paysanne', 'chlordécone', 'céréalier charentais', 'expositions', 'bisphénol', 'nature environnement'} \n",
      "\n"
     ]
    },
    {
     "data": {
      "text/html": [
       "rue89 L'invraisemblable rapport parlementaire sur les <mark style=\"background-color:pink\">pesticides</mark>: \n",
       "L'office parlementaire d'évaluation des choix s... http://bit.ly/bu1v0Z"
      ],
      "text/plain": [
       "<IPython.core.display.HTML object>"
      ]
     },
     "metadata": {},
     "output_type": "display_data"
    },
    {
     "data": {
      "text/html": [
       "<h2 style='text-align:center;'> Texte 13363031520 (93 sur 286)</h2>"
      ],
      "text/plain": [
       "<IPython.core.display.HTML object>"
      ]
     },
     "metadata": {},
     "output_type": "display_data"
    },
    {
     "data": {
      "text/html": [
       "<strong>Segment :</strong> 0 (2010-02-01 ; 2010-08-31)"
      ],
      "text/plain": [
       "<IPython.core.display.HTML object>"
      ]
     },
     "metadata": {},
     "output_type": "display_data"
    },
    {
     "data": {
      "text/html": [
       "<strong>Date :</strong> 2010-05-04"
      ],
      "text/plain": [
       "<IPython.core.display.HTML object>"
      ]
     },
     "metadata": {},
     "output_type": "display_data"
    },
    {
     "data": {
      "text/html": [
       "<strong>Auteur :</strong> NeoSting Feeds \n"
      ],
      "text/plain": [
       "<IPython.core.display.HTML object>"
      ]
     },
     "metadata": {},
     "output_type": "display_data"
    },
    {
     "name": "stdout",
     "output_type": "stream",
     "text": [
      "Termes indexés : ['politique', 'parlementaires', 'pesticides'] \n",
      "\n",
      "Termes spécifiques présents : ['parlementaires', 'pesticides'] \n",
      "\n",
      "Termes spécifiques absents : {'développement', 'troubles', 'cassation', \"cour d'appel\", 'frelon', 'bisphénol a', 'résidus de pesticides', 'foetus', 'malformations', 'désherbant', 'cour', 'milieu', 'confédération paysanne', 'chlordécone', 'céréalier charentais', 'expositions', 'bisphénol', 'nature environnement'} \n",
      "\n"
     ]
    },
    {
     "data": {
      "text/html": [
       "#<mark style=\"background-color:yellow\">politique</mark> L'invraisemblable rapport parlementaire sur les <mark style=\"background-color:pink\">pesticides</mark> http://bit.ly/bUz1LH #Rue89"
      ],
      "text/plain": [
       "<IPython.core.display.HTML object>"
      ]
     },
     "metadata": {},
     "output_type": "display_data"
    },
    {
     "data": {
      "text/html": [
       "<h2 style='text-align:center;'> Texte 13363037999 (94 sur 286)</h2>"
      ],
      "text/plain": [
       "<IPython.core.display.HTML object>"
      ]
     },
     "metadata": {},
     "output_type": "display_data"
    },
    {
     "data": {
      "text/html": [
       "<strong>Segment :</strong> 0 (2010-02-01 ; 2010-08-31)"
      ],
      "text/plain": [
       "<IPython.core.display.HTML object>"
      ]
     },
     "metadata": {},
     "output_type": "display_data"
    },
    {
     "data": {
      "text/html": [
       "<strong>Date :</strong> 2010-05-04"
      ],
      "text/plain": [
       "<IPython.core.display.HTML object>"
      ]
     },
     "metadata": {},
     "output_type": "display_data"
    },
    {
     "data": {
      "text/html": [
       "<strong>Auteur :</strong> Paris2015 (MATRICULE 2709) \n"
      ],
      "text/plain": [
       "<IPython.core.display.HTML object>"
      ]
     },
     "metadata": {},
     "output_type": "display_data"
    },
    {
     "name": "stdout",
     "output_type": "stream",
     "text": [
      "Termes indexés : ['parlementaires', 'pesticides'] \n",
      "\n",
      "Termes spécifiques présents : ['parlementaires', 'pesticides'] \n",
      "\n",
      "Termes spécifiques absents : {'développement', 'troubles', 'cassation', \"cour d'appel\", 'frelon', 'bisphénol a', 'résidus de pesticides', 'foetus', 'malformations', 'désherbant', 'cour', 'milieu', 'confédération paysanne', 'chlordécone', 'céréalier charentais', 'expositions', 'bisphénol', 'nature environnement'} \n",
      "\n"
     ]
    },
    {
     "data": {
      "text/html": [
       "L'invraisemblable rapport parlementaire sur les <mark style=\"background-color:pink\">pesticides</mark> http://bit.ly/b8FqzM"
      ],
      "text/plain": [
       "<IPython.core.display.HTML object>"
      ]
     },
     "metadata": {},
     "output_type": "display_data"
    },
    {
     "data": {
      "text/html": [
       "<h2 style='text-align:center;'> Texte 13363682220 (95 sur 286)</h2>"
      ],
      "text/plain": [
       "<IPython.core.display.HTML object>"
      ]
     },
     "metadata": {},
     "output_type": "display_data"
    },
    {
     "data": {
      "text/html": [
       "<strong>Segment :</strong> 0 (2010-02-01 ; 2010-08-31)"
      ],
      "text/plain": [
       "<IPython.core.display.HTML object>"
      ]
     },
     "metadata": {},
     "output_type": "display_data"
    },
    {
     "data": {
      "text/html": [
       "<strong>Date :</strong> 2010-05-04"
      ],
      "text/plain": [
       "<IPython.core.display.HTML object>"
      ]
     },
     "metadata": {},
     "output_type": "display_data"
    },
    {
     "data": {
      "text/html": [
       "<strong>Auteur :</strong> ꧁ Peggy ꧂ 🌱🌻☀️🌊🐙🐝🦁 \n"
      ],
      "text/plain": [
       "<IPython.core.display.HTML object>"
      ]
     },
     "metadata": {},
     "output_type": "display_data"
    },
    {
     "name": "stdout",
     "output_type": "stream",
     "text": [
      "Termes indexés : ['parlementaires', 'pesticides'] \n",
      "\n",
      "Termes spécifiques présents : ['parlementaires', 'pesticides'] \n",
      "\n",
      "Termes spécifiques absents : {'développement', 'troubles', 'cassation', \"cour d'appel\", 'frelon', 'bisphénol a', 'résidus de pesticides', 'foetus', 'malformations', 'désherbant', 'cour', 'milieu', 'confédération paysanne', 'chlordécone', 'céréalier charentais', 'expositions', 'bisphénol', 'nature environnement'} \n",
      "\n"
     ]
    },
    {
     "data": {
      "text/html": [
       "RT @Rue89_a_la_une: L'invraisemblable rapport parlementaire sur les <mark style=\"background-color:pink\">pesticides</mark> http://bit.ly/bu1v0Z"
      ],
      "text/plain": [
       "<IPython.core.display.HTML object>"
      ]
     },
     "metadata": {},
     "output_type": "display_data"
    },
    {
     "data": {
      "text/html": [
       "<h2 style='text-align:center;'> Texte 13370927164 (96 sur 286)</h2>"
      ],
      "text/plain": [
       "<IPython.core.display.HTML object>"
      ]
     },
     "metadata": {},
     "output_type": "display_data"
    },
    {
     "data": {
      "text/html": [
       "<strong>Segment :</strong> 0 (2010-02-01 ; 2010-08-31)"
      ],
      "text/plain": [
       "<IPython.core.display.HTML object>"
      ]
     },
     "metadata": {},
     "output_type": "display_data"
    },
    {
     "data": {
      "text/html": [
       "<strong>Date :</strong> 2010-05-04"
      ],
      "text/plain": [
       "<IPython.core.display.HTML object>"
      ]
     },
     "metadata": {},
     "output_type": "display_data"
    },
    {
     "data": {
      "text/html": [
       "<strong>Auteur :</strong> Valeur Ecologie \n"
      ],
      "text/plain": [
       "<IPython.core.display.HTML object>"
      ]
     },
     "metadata": {},
     "output_type": "display_data"
    },
    {
     "name": "stdout",
     "output_type": "stream",
     "text": [
      "Termes indexés : ['pesticides', 'santé', 'parlementaires'] \n",
      "\n",
      "Termes spécifiques présents : ['pesticides', 'parlementaires'] \n",
      "\n",
      "Termes spécifiques absents : {'développement', 'troubles', 'cassation', \"cour d'appel\", 'frelon', 'bisphénol a', 'résidus de pesticides', 'foetus', 'malformations', 'désherbant', 'cour', 'milieu', 'confédération paysanne', 'chlordécone', 'céréalier charentais', 'expositions', 'bisphénol', 'nature environnement'} \n",
      "\n"
     ]
    },
    {
     "data": {
      "text/html": [
       "<mark style=\"background-color:pink\">pesticides</mark> et <mark style=\"background-color:yellow\">santé</mark> : un rapport parlementaire à décharge http://bit.ly/9SjZvY"
      ],
      "text/plain": [
       "<IPython.core.display.HTML object>"
      ]
     },
     "metadata": {},
     "output_type": "display_data"
    },
    {
     "data": {
      "text/html": [
       "<h2 style='text-align:center;'> Texte 13371594414 (97 sur 286)</h2>"
      ],
      "text/plain": [
       "<IPython.core.display.HTML object>"
      ]
     },
     "metadata": {},
     "output_type": "display_data"
    },
    {
     "data": {
      "text/html": [
       "<strong>Segment :</strong> 0 (2010-02-01 ; 2010-08-31)"
      ],
      "text/plain": [
       "<IPython.core.display.HTML object>"
      ]
     },
     "metadata": {},
     "output_type": "display_data"
    },
    {
     "data": {
      "text/html": [
       "<strong>Date :</strong> 2010-05-04"
      ],
      "text/plain": [
       "<IPython.core.display.HTML object>"
      ]
     },
     "metadata": {},
     "output_type": "display_data"
    },
    {
     "data": {
      "text/html": [
       "<strong>Auteur :</strong> Pierre LEMASSON \n"
      ],
      "text/plain": [
       "<IPython.core.display.HTML object>"
      ]
     },
     "metadata": {},
     "output_type": "display_data"
    },
    {
     "name": "stdout",
     "output_type": "stream",
     "text": [
      "Termes indexés : ['parlementaires', 'pesticides'] \n",
      "\n",
      "Termes spécifiques présents : ['parlementaires', 'pesticides'] \n",
      "\n",
      "Termes spécifiques absents : {'développement', 'troubles', 'cassation', \"cour d'appel\", 'frelon', 'bisphénol a', 'résidus de pesticides', 'foetus', 'malformations', 'désherbant', 'cour', 'milieu', 'confédération paysanne', 'chlordécone', 'céréalier charentais', 'expositions', 'bisphénol', 'nature environnement'} \n",
      "\n"
     ]
    },
    {
     "data": {
      "text/html": [
       "L'invraisemblable rapport parlementaire sur les <mark style=\"background-color:pink\">pesticides</mark> http://gl.am/c12RTh (rue89)"
      ],
      "text/plain": [
       "<IPython.core.display.HTML object>"
      ]
     },
     "metadata": {},
     "output_type": "display_data"
    },
    {
     "data": {
      "text/html": [
       "<h2 style='text-align:center;'> Texte 13369275296 (98 sur 286)</h2>"
      ],
      "text/plain": [
       "<IPython.core.display.HTML object>"
      ]
     },
     "metadata": {},
     "output_type": "display_data"
    },
    {
     "data": {
      "text/html": [
       "<strong>Segment :</strong> 0 (2010-02-01 ; 2010-08-31)"
      ],
      "text/plain": [
       "<IPython.core.display.HTML object>"
      ]
     },
     "metadata": {},
     "output_type": "display_data"
    },
    {
     "data": {
      "text/html": [
       "<strong>Date :</strong> 2010-05-04"
      ],
      "text/plain": [
       "<IPython.core.display.HTML object>"
      ]
     },
     "metadata": {},
     "output_type": "display_data"
    },
    {
     "data": {
      "text/html": [
       "<strong>Auteur :</strong> Rue89 \n"
      ],
      "text/plain": [
       "<IPython.core.display.HTML object>"
      ]
     },
     "metadata": {},
     "output_type": "display_data"
    },
    {
     "name": "stdout",
     "output_type": "stream",
     "text": [
      "Termes indexés : ['parlementaires', 'pesticides'] \n",
      "\n",
      "Termes spécifiques présents : ['parlementaires', 'pesticides'] \n",
      "\n",
      "Termes spécifiques absents : {'développement', 'troubles', 'cassation', \"cour d'appel\", 'frelon', 'bisphénol a', 'résidus de pesticides', 'foetus', 'malformations', 'désherbant', 'cour', 'milieu', 'confédération paysanne', 'chlordécone', 'céréalier charentais', 'expositions', 'bisphénol', 'nature environnement'} \n",
      "\n"
     ]
    },
    {
     "data": {
      "text/html": [
       "[Tribune] L'invraisemblable rapport parlementaire sur les <mark style=\"background-color:pink\">pesticides</mark> (avec le bon lien) http://bit.ly/dcRre9 #"
      ],
      "text/plain": [
       "<IPython.core.display.HTML object>"
      ]
     },
     "metadata": {},
     "output_type": "display_data"
    },
    {
     "data": {
      "text/html": [
       "<h2 style='text-align:center;'> Texte 13365621643 (99 sur 286)</h2>"
      ],
      "text/plain": [
       "<IPython.core.display.HTML object>"
      ]
     },
     "metadata": {},
     "output_type": "display_data"
    },
    {
     "data": {
      "text/html": [
       "<strong>Segment :</strong> 0 (2010-02-01 ; 2010-08-31)"
      ],
      "text/plain": [
       "<IPython.core.display.HTML object>"
      ]
     },
     "metadata": {},
     "output_type": "display_data"
    },
    {
     "data": {
      "text/html": [
       "<strong>Date :</strong> 2010-05-04"
      ],
      "text/plain": [
       "<IPython.core.display.HTML object>"
      ]
     },
     "metadata": {},
     "output_type": "display_data"
    },
    {
     "data": {
      "text/html": [
       "<strong>Auteur :</strong> Nelson \n"
      ],
      "text/plain": [
       "<IPython.core.display.HTML object>"
      ]
     },
     "metadata": {},
     "output_type": "display_data"
    },
    {
     "name": "stdout",
     "output_type": "stream",
     "text": [
      "Termes indexés : ['parlementaires', 'pesticides'] \n",
      "\n",
      "Termes spécifiques présents : ['parlementaires', 'pesticides'] \n",
      "\n",
      "Termes spécifiques absents : {'développement', 'troubles', 'cassation', \"cour d'appel\", 'frelon', 'bisphénol a', 'résidus de pesticides', 'foetus', 'malformations', 'désherbant', 'cour', 'milieu', 'confédération paysanne', 'chlordécone', 'céréalier charentais', 'expositions', 'bisphénol', 'nature environnement'} \n",
      "\n"
     ]
    },
    {
     "data": {
      "text/html": [
       "Je lis http://www.rue89.com/node/150113 L'invraisemblable rapport parlementaire sur les <mark style=\"background-color:pink\">pesticides</mark>"
      ],
      "text/plain": [
       "<IPython.core.display.HTML object>"
      ]
     },
     "metadata": {},
     "output_type": "display_data"
    },
    {
     "data": {
      "text/html": [
       "<h2 style='text-align:center;'> Texte 13365705290 (100 sur 286)</h2>"
      ],
      "text/plain": [
       "<IPython.core.display.HTML object>"
      ]
     },
     "metadata": {},
     "output_type": "display_data"
    },
    {
     "data": {
      "text/html": [
       "<strong>Segment :</strong> 0 (2010-02-01 ; 2010-08-31)"
      ],
      "text/plain": [
       "<IPython.core.display.HTML object>"
      ]
     },
     "metadata": {},
     "output_type": "display_data"
    },
    {
     "data": {
      "text/html": [
       "<strong>Date :</strong> 2010-05-04"
      ],
      "text/plain": [
       "<IPython.core.display.HTML object>"
      ]
     },
     "metadata": {},
     "output_type": "display_data"
    },
    {
     "data": {
      "text/html": [
       "<strong>Auteur :</strong> Cédric Mondy \n"
      ],
      "text/plain": [
       "<IPython.core.display.HTML object>"
      ]
     },
     "metadata": {},
     "output_type": "display_data"
    },
    {
     "name": "stdout",
     "output_type": "stream",
     "text": [
      "Termes indexés : ['parlementaires', 'pesticides'] \n",
      "\n",
      "Termes spécifiques présents : ['parlementaires', 'pesticides'] \n",
      "\n",
      "Termes spécifiques absents : {'développement', 'troubles', 'cassation', \"cour d'appel\", 'frelon', 'bisphénol a', 'résidus de pesticides', 'foetus', 'malformations', 'désherbant', 'cour', 'milieu', 'confédération paysanne', 'chlordécone', 'céréalier charentais', 'expositions', 'bisphénol', 'nature environnement'} \n",
      "\n"
     ]
    },
    {
     "data": {
      "text/html": [
       "RT @Rue89: [Tribune] L'invraisemblable rapport parlementaire sur les <mark style=\"background-color:pink\">pesticides</mark> http://bit.ly/b8jkLj"
      ],
      "text/plain": [
       "<IPython.core.display.HTML object>"
      ]
     },
     "metadata": {},
     "output_type": "display_data"
    },
    {
     "data": {
      "text/html": [
       "<h2 style='text-align:center;'> Texte 13367526425 (101 sur 286)</h2>"
      ],
      "text/plain": [
       "<IPython.core.display.HTML object>"
      ]
     },
     "metadata": {},
     "output_type": "display_data"
    },
    {
     "data": {
      "text/html": [
       "<strong>Segment :</strong> 0 (2010-02-01 ; 2010-08-31)"
      ],
      "text/plain": [
       "<IPython.core.display.HTML object>"
      ]
     },
     "metadata": {},
     "output_type": "display_data"
    },
    {
     "data": {
      "text/html": [
       "<strong>Date :</strong> 2010-05-04"
      ],
      "text/plain": [
       "<IPython.core.display.HTML object>"
      ]
     },
     "metadata": {},
     "output_type": "display_data"
    },
    {
     "data": {
      "text/html": [
       "<strong>Auteur :</strong> sammyfisherjr \n"
      ],
      "text/plain": [
       "<IPython.core.display.HTML object>"
      ]
     },
     "metadata": {},
     "output_type": "display_data"
    },
    {
     "name": "stdout",
     "output_type": "stream",
     "text": [
      "Termes indexés : ['parlementaires', 'pesticides'] \n",
      "\n",
      "Termes spécifiques présents : ['parlementaires', 'pesticides'] \n",
      "\n",
      "Termes spécifiques absents : {'développement', 'troubles', 'cassation', \"cour d'appel\", 'frelon', 'bisphénol a', 'résidus de pesticides', 'foetus', 'malformations', 'désherbant', 'cour', 'milieu', 'confédération paysanne', 'chlordécone', 'céréalier charentais', 'expositions', 'bisphénol', 'nature environnement'} \n",
      "\n"
     ]
    },
    {
     "data": {
      "text/html": [
       "[Delicious] L'invraisemblable rapport parlementaire sur les <mark style=\"background-color:pink\">pesticides</mark> | Rue89:  http://bit.ly/bu1v0Z"
      ],
      "text/plain": [
       "<IPython.core.display.HTML object>"
      ]
     },
     "metadata": {},
     "output_type": "display_data"
    },
    {
     "data": {
      "text/html": [
       "<h2 style='text-align:center;'> Texte 13368810662 (102 sur 286)</h2>"
      ],
      "text/plain": [
       "<IPython.core.display.HTML object>"
      ]
     },
     "metadata": {},
     "output_type": "display_data"
    },
    {
     "data": {
      "text/html": [
       "<strong>Segment :</strong> 0 (2010-02-01 ; 2010-08-31)"
      ],
      "text/plain": [
       "<IPython.core.display.HTML object>"
      ]
     },
     "metadata": {},
     "output_type": "display_data"
    },
    {
     "data": {
      "text/html": [
       "<strong>Date :</strong> 2010-05-04"
      ],
      "text/plain": [
       "<IPython.core.display.HTML object>"
      ]
     },
     "metadata": {},
     "output_type": "display_data"
    },
    {
     "data": {
      "text/html": [
       "<strong>Auteur :</strong> sarkonneries \n"
      ],
      "text/plain": [
       "<IPython.core.display.HTML object>"
      ]
     },
     "metadata": {},
     "output_type": "display_data"
    },
    {
     "name": "stdout",
     "output_type": "stream",
     "text": [
      "Termes indexés : ['parlementaires', 'pesticides'] \n",
      "\n",
      "Termes spécifiques présents : ['parlementaires', 'pesticides'] \n",
      "\n",
      "Termes spécifiques absents : {'développement', 'troubles', 'cassation', \"cour d'appel\", 'frelon', 'bisphénol a', 'résidus de pesticides', 'foetus', 'malformations', 'désherbant', 'cour', 'milieu', 'confédération paysanne', 'chlordécone', 'céréalier charentais', 'expositions', 'bisphénol', 'nature environnement'} \n",
      "\n"
     ]
    },
    {
     "data": {
      "text/html": [
       "Un rapport parlementaire pro-OGM vante \"les bénéfices de l'usage des <mark style=\"background-color:pink\">pesticides</mark>\" http://bit.ly/b8jkLj #adieugrenelle"
      ],
      "text/plain": [
       "<IPython.core.display.HTML object>"
      ]
     },
     "metadata": {},
     "output_type": "display_data"
    },
    {
     "data": {
      "text/html": [
       "<h2 style='text-align:center;'> Texte 13369158670 (103 sur 286)</h2>"
      ],
      "text/plain": [
       "<IPython.core.display.HTML object>"
      ]
     },
     "metadata": {},
     "output_type": "display_data"
    },
    {
     "data": {
      "text/html": [
       "<strong>Segment :</strong> 0 (2010-02-01 ; 2010-08-31)"
      ],
      "text/plain": [
       "<IPython.core.display.HTML object>"
      ]
     },
     "metadata": {},
     "output_type": "display_data"
    },
    {
     "data": {
      "text/html": [
       "<strong>Date :</strong> 2010-05-04"
      ],
      "text/plain": [
       "<IPython.core.display.HTML object>"
      ]
     },
     "metadata": {},
     "output_type": "display_data"
    },
    {
     "data": {
      "text/html": [
       "<strong>Auteur :</strong> Aurélien Viers \n"
      ],
      "text/plain": [
       "<IPython.core.display.HTML object>"
      ]
     },
     "metadata": {},
     "output_type": "display_data"
    },
    {
     "name": "stdout",
     "output_type": "stream",
     "text": [
      "Termes indexés : ['parlementaires', 'pesticides'] \n",
      "\n",
      "Termes spécifiques présents : ['parlementaires', 'pesticides'] \n",
      "\n",
      "Termes spécifiques absents : {'développement', 'troubles', 'cassation', \"cour d'appel\", 'frelon', 'bisphénol a', 'résidus de pesticides', 'foetus', 'malformations', 'désherbant', 'cour', 'milieu', 'confédération paysanne', 'chlordécone', 'céréalier charentais', 'expositions', 'bisphénol', 'nature environnement'} \n",
      "\n"
     ]
    },
    {
     "data": {
      "text/html": [
       "dingue. L'invraisemblable rapport parlementaire sur les <mark style=\"background-color:pink\">pesticides</mark> par Marie-Christine Blandin http://ow.ly/1GNd4"
      ],
      "text/plain": [
       "<IPython.core.display.HTML object>"
      ]
     },
     "metadata": {},
     "output_type": "display_data"
    },
    {
     "data": {
      "text/html": [
       "<h2 style='text-align:center;'> Texte 13416363047 (104 sur 286)</h2>"
      ],
      "text/plain": [
       "<IPython.core.display.HTML object>"
      ]
     },
     "metadata": {},
     "output_type": "display_data"
    },
    {
     "data": {
      "text/html": [
       "<strong>Segment :</strong> 0 (2010-02-01 ; 2010-08-31)"
      ],
      "text/plain": [
       "<IPython.core.display.HTML object>"
      ]
     },
     "metadata": {},
     "output_type": "display_data"
    },
    {
     "data": {
      "text/html": [
       "<strong>Date :</strong> 2010-05-05"
      ],
      "text/plain": [
       "<IPython.core.display.HTML object>"
      ]
     },
     "metadata": {},
     "output_type": "display_data"
    },
    {
     "data": {
      "text/html": [
       "<strong>Auteur :</strong> Sandrine Valette \n"
      ],
      "text/plain": [
       "<IPython.core.display.HTML object>"
      ]
     },
     "metadata": {},
     "output_type": "display_data"
    },
    {
     "name": "stdout",
     "output_type": "stream",
     "text": [
      "Termes indexés : ['parlementaires', 'pesticides'] \n",
      "\n",
      "Termes spécifiques présents : ['parlementaires', 'pesticides'] \n",
      "\n",
      "Termes spécifiques absents : {'développement', 'troubles', 'cassation', \"cour d'appel\", 'frelon', 'bisphénol a', 'résidus de pesticides', 'foetus', 'malformations', 'désherbant', 'cour', 'milieu', 'confédération paysanne', 'chlordécone', 'céréalier charentais', 'expositions', 'bisphénol', 'nature environnement'} \n",
      "\n"
     ]
    },
    {
     "data": {
      "text/html": [
       "L'invraisemblable rapport parlementaire sur les <mark style=\"background-color:pink\">pesticides</mark> http://bit.ly/dcRre9"
      ],
      "text/plain": [
       "<IPython.core.display.HTML object>"
      ]
     },
     "metadata": {},
     "output_type": "display_data"
    },
    {
     "data": {
      "text/html": [
       "<h2 style='text-align:center;'> Texte 13415427401 (105 sur 286)</h2>"
      ],
      "text/plain": [
       "<IPython.core.display.HTML object>"
      ]
     },
     "metadata": {},
     "output_type": "display_data"
    },
    {
     "data": {
      "text/html": [
       "<strong>Segment :</strong> 0 (2010-02-01 ; 2010-08-31)"
      ],
      "text/plain": [
       "<IPython.core.display.HTML object>"
      ]
     },
     "metadata": {},
     "output_type": "display_data"
    },
    {
     "data": {
      "text/html": [
       "<strong>Date :</strong> 2010-05-05"
      ],
      "text/plain": [
       "<IPython.core.display.HTML object>"
      ]
     },
     "metadata": {},
     "output_type": "display_data"
    },
    {
     "data": {
      "text/html": [
       "<strong>Auteur :</strong> Feed Blogger \n"
      ],
      "text/plain": [
       "<IPython.core.display.HTML object>"
      ]
     },
     "metadata": {},
     "output_type": "display_data"
    },
    {
     "name": "stdout",
     "output_type": "stream",
     "text": [
      "Termes indexés : ['parlementaires', 'pesticides', 'développement'] \n",
      "\n",
      "Termes spécifiques présents : ['parlementaires', 'pesticides', 'développement'] \n",
      "\n",
      "Termes spécifiques absents : {'troubles', 'cassation', \"cour d'appel\", 'frelon', 'bisphénol a', 'résidus de pesticides', 'foetus', 'malformations', 'désherbant', 'cour', 'milieu', 'confédération paysanne', 'chlordécone', 'céréalier charentais', 'expositions', 'bisphénol', 'nature environnement'} \n",
      "\n"
     ]
    },
    {
     "data": {
      "text/html": [
       "[Divers] RUE89 - L'invraisemblable rapport parlementaire sur les <mark style=\"background-color:pink\">pesticides</mark> (The Green Post Box : <mark style=\"background-color:pink\">développement</mark> du... http://bit.ly/czL7GT"
      ],
      "text/plain": [
       "<IPython.core.display.HTML object>"
      ]
     },
     "metadata": {},
     "output_type": "display_data"
    },
    {
     "data": {
      "text/html": [
       "<h2 style='text-align:center;'> Texte 13412505626 (106 sur 286)</h2>"
      ],
      "text/plain": [
       "<IPython.core.display.HTML object>"
      ]
     },
     "metadata": {},
     "output_type": "display_data"
    },
    {
     "data": {
      "text/html": [
       "<strong>Segment :</strong> 0 (2010-02-01 ; 2010-08-31)"
      ],
      "text/plain": [
       "<IPython.core.display.HTML object>"
      ]
     },
     "metadata": {},
     "output_type": "display_data"
    },
    {
     "data": {
      "text/html": [
       "<strong>Date :</strong> 2010-05-05"
      ],
      "text/plain": [
       "<IPython.core.display.HTML object>"
      ]
     },
     "metadata": {},
     "output_type": "display_data"
    },
    {
     "data": {
      "text/html": [
       "<strong>Auteur :</strong> Cédric Mondy \n"
      ],
      "text/plain": [
       "<IPython.core.display.HTML object>"
      ]
     },
     "metadata": {},
     "output_type": "display_data"
    },
    {
     "name": "stdout",
     "output_type": "stream",
     "text": [
      "Termes indexés : ['parlementaires', 'pesticides'] \n",
      "\n",
      "Termes spécifiques présents : ['parlementaires', 'pesticides'] \n",
      "\n",
      "Termes spécifiques absents : {'développement', 'troubles', 'cassation', \"cour d'appel\", 'frelon', 'bisphénol a', 'résidus de pesticides', 'foetus', 'malformations', 'désherbant', 'cour', 'milieu', 'confédération paysanne', 'chlordécone', 'céréalier charentais', 'expositions', 'bisphénol', 'nature environnement'} \n",
      "\n"
     ]
    },
    {
     "data": {
      "text/html": [
       "RT @Rue89: [Tribune] L'invraisemblable rapport parlementaire sur les <mark style=\"background-color:pink\">pesticides</mark> (avec le bon lien) http://bit.ly/dcRre9 #"
      ],
      "text/plain": [
       "<IPython.core.display.HTML object>"
      ]
     },
     "metadata": {},
     "output_type": "display_data"
    },
    {
     "data": {
      "text/html": [
       "<h2 style='text-align:center;'> Texte 13399897551 (107 sur 286)</h2>"
      ],
      "text/plain": [
       "<IPython.core.display.HTML object>"
      ]
     },
     "metadata": {},
     "output_type": "display_data"
    },
    {
     "data": {
      "text/html": [
       "<strong>Segment :</strong> 0 (2010-02-01 ; 2010-08-31)"
      ],
      "text/plain": [
       "<IPython.core.display.HTML object>"
      ]
     },
     "metadata": {},
     "output_type": "display_data"
    },
    {
     "data": {
      "text/html": [
       "<strong>Date :</strong> 2010-05-05"
      ],
      "text/plain": [
       "<IPython.core.display.HTML object>"
      ]
     },
     "metadata": {},
     "output_type": "display_data"
    },
    {
     "data": {
      "text/html": [
       "<strong>Auteur :</strong> al-aide.com \n"
      ],
      "text/plain": [
       "<IPython.core.display.HTML object>"
      ]
     },
     "metadata": {},
     "output_type": "display_data"
    },
    {
     "name": "stdout",
     "output_type": "stream",
     "text": [
      "Termes indexés : ['parlementaires', 'pesticides'] \n",
      "\n",
      "Termes spécifiques présents : ['parlementaires', 'pesticides'] \n",
      "\n",
      "Termes spécifiques absents : {'développement', 'troubles', 'cassation', \"cour d'appel\", 'frelon', 'bisphénol a', 'résidus de pesticides', 'foetus', 'malformations', 'désherbant', 'cour', 'milieu', 'confédération paysanne', 'chlordécone', 'céréalier charentais', 'expositions', 'bisphénol', 'nature environnement'} \n",
      "\n"
     ]
    },
    {
     "data": {
      "text/html": [
       "L'invraisemblable rapport parlementaire sur les <mark style=\"background-color:pink\">pesticides</mark> - http://t-pa.net/669475"
      ],
      "text/plain": [
       "<IPython.core.display.HTML object>"
      ]
     },
     "metadata": {},
     "output_type": "display_data"
    },
    {
     "data": {
      "text/html": [
       "<h2 style='text-align:center;'> Texte 13427575332 (108 sur 286)</h2>"
      ],
      "text/plain": [
       "<IPython.core.display.HTML object>"
      ]
     },
     "metadata": {},
     "output_type": "display_data"
    },
    {
     "data": {
      "text/html": [
       "<strong>Segment :</strong> 0 (2010-02-01 ; 2010-08-31)"
      ],
      "text/plain": [
       "<IPython.core.display.HTML object>"
      ]
     },
     "metadata": {},
     "output_type": "display_data"
    },
    {
     "data": {
      "text/html": [
       "<strong>Date :</strong> 2010-05-05"
      ],
      "text/plain": [
       "<IPython.core.display.HTML object>"
      ]
     },
     "metadata": {},
     "output_type": "display_data"
    },
    {
     "data": {
      "text/html": [
       "<strong>Auteur :</strong> testdecharly \n"
      ],
      "text/plain": [
       "<IPython.core.display.HTML object>"
      ]
     },
     "metadata": {},
     "output_type": "display_data"
    },
    {
     "name": "stdout",
     "output_type": "stream",
     "text": [
      "Termes indexés : ['pesticides', 'santé', 'parlementaires'] \n",
      "\n",
      "Termes spécifiques présents : ['pesticides', 'parlementaires'] \n",
      "\n",
      "Termes spécifiques absents : {'développement', 'troubles', 'cassation', \"cour d'appel\", 'frelon', 'bisphénol a', 'résidus de pesticides', 'foetus', 'malformations', 'désherbant', 'cour', 'milieu', 'confédération paysanne', 'chlordécone', 'céréalier charentais', 'expositions', 'bisphénol', 'nature environnement'} \n",
      "\n"
     ]
    },
    {
     "data": {
      "text/html": [
       "<mark style=\"background-color:pink\">pesticides</mark> et <mark style=\"background-color:yellow\">santé</mark> : un rapport parlementaire à décharge http://url4.eu/3B6WR"
      ],
      "text/plain": [
       "<IPython.core.display.HTML object>"
      ]
     },
     "metadata": {},
     "output_type": "display_data"
    },
    {
     "data": {
      "text/html": [
       "<h2 style='text-align:center;'> Texte 13423184831 (109 sur 286)</h2>"
      ],
      "text/plain": [
       "<IPython.core.display.HTML object>"
      ]
     },
     "metadata": {},
     "output_type": "display_data"
    },
    {
     "data": {
      "text/html": [
       "<strong>Segment :</strong> 0 (2010-02-01 ; 2010-08-31)"
      ],
      "text/plain": [
       "<IPython.core.display.HTML object>"
      ]
     },
     "metadata": {},
     "output_type": "display_data"
    },
    {
     "data": {
      "text/html": [
       "<strong>Date :</strong> 2010-05-05"
      ],
      "text/plain": [
       "<IPython.core.display.HTML object>"
      ]
     },
     "metadata": {},
     "output_type": "display_data"
    },
    {
     "data": {
      "text/html": [
       "<strong>Auteur :</strong> Terre-net.fr \n"
      ],
      "text/plain": [
       "<IPython.core.display.HTML object>"
      ]
     },
     "metadata": {},
     "output_type": "display_data"
    },
    {
     "name": "stdout",
     "output_type": "stream",
     "text": [
      "Termes indexés : ['pesticides', 'santé', 'parlementaires'] \n",
      "\n",
      "Termes spécifiques présents : ['pesticides', 'parlementaires'] \n",
      "\n",
      "Termes spécifiques absents : {'développement', 'troubles', 'cassation', \"cour d'appel\", 'frelon', 'bisphénol a', 'résidus de pesticides', 'foetus', 'malformations', 'désherbant', 'cour', 'milieu', 'confédération paysanne', 'chlordécone', 'céréalier charentais', 'expositions', 'bisphénol', 'nature environnement'} \n",
      "\n"
     ]
    },
    {
     "data": {
      "text/html": [
       "Rapport « <mark style=\"background-color:pink\">pesticides</mark> et <mark style=\"background-color:yellow\">santé</mark> » - Les grandes recommandations des <mark style=\"background-color:pink\">parlementaires</mark>: L’Office parlementaire d’évaluat... http://bit.ly/9UaWWO"
      ],
      "text/plain": [
       "<IPython.core.display.HTML object>"
      ]
     },
     "metadata": {},
     "output_type": "display_data"
    },
    {
     "data": {
      "text/html": [
       "<h2 style='text-align:center;'> Texte 13425465786 (110 sur 286)</h2>"
      ],
      "text/plain": [
       "<IPython.core.display.HTML object>"
      ]
     },
     "metadata": {},
     "output_type": "display_data"
    },
    {
     "data": {
      "text/html": [
       "<strong>Segment :</strong> 0 (2010-02-01 ; 2010-08-31)"
      ],
      "text/plain": [
       "<IPython.core.display.HTML object>"
      ]
     },
     "metadata": {},
     "output_type": "display_data"
    },
    {
     "data": {
      "text/html": [
       "<strong>Date :</strong> 2010-05-05"
      ],
      "text/plain": [
       "<IPython.core.display.HTML object>"
      ]
     },
     "metadata": {},
     "output_type": "display_data"
    },
    {
     "data": {
      "text/html": [
       "<strong>Auteur :</strong> Terre-net.fr \n"
      ],
      "text/plain": [
       "<IPython.core.display.HTML object>"
      ]
     },
     "metadata": {},
     "output_type": "display_data"
    },
    {
     "name": "stdout",
     "output_type": "stream",
     "text": [
      "Termes indexés : ['pesticides', 'santé', 'parlementaires'] \n",
      "\n",
      "Termes spécifiques présents : ['pesticides', 'parlementaires'] \n",
      "\n",
      "Termes spécifiques absents : {'développement', 'troubles', 'cassation', \"cour d'appel\", 'frelon', 'bisphénol a', 'résidus de pesticides', 'foetus', 'malformations', 'désherbant', 'cour', 'milieu', 'confédération paysanne', 'chlordécone', 'céréalier charentais', 'expositions', 'bisphénol', 'nature environnement'} \n",
      "\n"
     ]
    },
    {
     "data": {
      "text/html": [
       "Rapport « <mark style=\"background-color:pink\">pesticides</mark> et <mark style=\"background-color:yellow\">santé</mark> » - Les grandes recommandations des <mark style=\"background-color:pink\">parlementaires</mark>: L’Office parlementaire d’évaluat... http://bit.ly/b1cNuZ"
      ],
      "text/plain": [
       "<IPython.core.display.HTML object>"
      ]
     },
     "metadata": {},
     "output_type": "display_data"
    },
    {
     "data": {
      "text/html": [
       "<h2 style='text-align:center;'> Texte 13513746312 (111 sur 286)</h2>"
      ],
      "text/plain": [
       "<IPython.core.display.HTML object>"
      ]
     },
     "metadata": {},
     "output_type": "display_data"
    },
    {
     "data": {
      "text/html": [
       "<strong>Segment :</strong> 0 (2010-02-01 ; 2010-08-31)"
      ],
      "text/plain": [
       "<IPython.core.display.HTML object>"
      ]
     },
     "metadata": {},
     "output_type": "display_data"
    },
    {
     "data": {
      "text/html": [
       "<strong>Date :</strong> 2010-05-06"
      ],
      "text/plain": [
       "<IPython.core.display.HTML object>"
      ]
     },
     "metadata": {},
     "output_type": "display_data"
    },
    {
     "data": {
      "text/html": [
       "<strong>Auteur :</strong> Docbuzz \n"
      ],
      "text/plain": [
       "<IPython.core.display.HTML object>"
      ]
     },
     "metadata": {},
     "output_type": "display_data"
    },
    {
     "name": "stdout",
     "output_type": "stream",
     "text": [
      "Termes indexés : ['parlementaires', 'pesticides', 'santé'] \n",
      "\n",
      "Termes spécifiques présents : ['parlementaires', 'pesticides'] \n",
      "\n",
      "Termes spécifiques absents : {'développement', 'troubles', 'cassation', \"cour d'appel\", 'frelon', 'bisphénol a', 'résidus de pesticides', 'foetus', 'malformations', 'désherbant', 'cour', 'milieu', 'confédération paysanne', 'chlordécone', 'céréalier charentais', 'expositions', 'bisphénol', 'nature environnement'} \n",
      "\n"
     ]
    },
    {
     "data": {
      "text/html": [
       "Docbuzz: Rapport Parlementaire <mark style=\"background-color:pink\">pesticides</mark> et <mark style=\"background-color:yellow\">santé</mark> (épisode 1) : les \"bénéfices méconnus\" des <mark style=\"background-color:pink\">pesticides</mark>  http://bit.ly/dpgMgW"
      ],
      "text/plain": [
       "<IPython.core.display.HTML object>"
      ]
     },
     "metadata": {},
     "output_type": "display_data"
    },
    {
     "data": {
      "text/html": [
       "<h2 style='text-align:center;'> Texte 13502605442 (112 sur 286)</h2>"
      ],
      "text/plain": [
       "<IPython.core.display.HTML object>"
      ]
     },
     "metadata": {},
     "output_type": "display_data"
    },
    {
     "data": {
      "text/html": [
       "<strong>Segment :</strong> 0 (2010-02-01 ; 2010-08-31)"
      ],
      "text/plain": [
       "<IPython.core.display.HTML object>"
      ]
     },
     "metadata": {},
     "output_type": "display_data"
    },
    {
     "data": {
      "text/html": [
       "<strong>Date :</strong> 2010-05-06"
      ],
      "text/plain": [
       "<IPython.core.display.HTML object>"
      ]
     },
     "metadata": {},
     "output_type": "display_data"
    },
    {
     "data": {
      "text/html": [
       "<strong>Auteur :</strong> Pascal Gibert (Pass La Menace) \n"
      ],
      "text/plain": [
       "<IPython.core.display.HTML object>"
      ]
     },
     "metadata": {},
     "output_type": "display_data"
    },
    {
     "name": "stdout",
     "output_type": "stream",
     "text": [
      "Termes indexés : ['parlementaires', 'pesticides'] \n",
      "\n",
      "Termes spécifiques présents : ['parlementaires', 'pesticides'] \n",
      "\n",
      "Termes spécifiques absents : {'développement', 'troubles', 'cassation', \"cour d'appel\", 'frelon', 'bisphénol a', 'résidus de pesticides', 'foetus', 'malformations', 'désherbant', 'cour', 'milieu', 'confédération paysanne', 'chlordécone', 'céréalier charentais', 'expositions', 'bisphénol', 'nature environnement'} \n",
      "\n"
     ]
    },
    {
     "data": {
      "text/html": [
       "#Environnement: L'invraisemblable rapport parlementaire sur les <mark style=\"background-color:pink\">pesticides</mark> http://bit.ly/bARvZG http://ff.im/jVZd0"
      ],
      "text/plain": [
       "<IPython.core.display.HTML object>"
      ]
     },
     "metadata": {},
     "output_type": "display_data"
    },
    {
     "data": {
      "text/html": [
       "<h2 style='text-align:center;'> Texte 13476901910 (113 sur 286)</h2>"
      ],
      "text/plain": [
       "<IPython.core.display.HTML object>"
      ]
     },
     "metadata": {},
     "output_type": "display_data"
    },
    {
     "data": {
      "text/html": [
       "<strong>Segment :</strong> 0 (2010-02-01 ; 2010-08-31)"
      ],
      "text/plain": [
       "<IPython.core.display.HTML object>"
      ]
     },
     "metadata": {},
     "output_type": "display_data"
    },
    {
     "data": {
      "text/html": [
       "<strong>Date :</strong> 2010-05-06"
      ],
      "text/plain": [
       "<IPython.core.display.HTML object>"
      ]
     },
     "metadata": {},
     "output_type": "display_data"
    },
    {
     "data": {
      "text/html": [
       "<strong>Auteur :</strong> ˗ˏˋ Washaweb ˊˎ˗ \n"
      ],
      "text/plain": [
       "<IPython.core.display.HTML object>"
      ]
     },
     "metadata": {},
     "output_type": "display_data"
    },
    {
     "name": "stdout",
     "output_type": "stream",
     "text": [
      "Termes indexés : ['parlementaires', 'pesticides'] \n",
      "\n",
      "Termes spécifiques présents : ['parlementaires', 'pesticides'] \n",
      "\n",
      "Termes spécifiques absents : {'développement', 'troubles', 'cassation', \"cour d'appel\", 'frelon', 'bisphénol a', 'résidus de pesticides', 'foetus', 'malformations', 'désherbant', 'cour', 'milieu', 'confédération paysanne', 'chlordécone', 'céréalier charentais', 'expositions', 'bisphénol', 'nature environnement'} \n",
      "\n"
     ]
    },
    {
     "data": {
      "text/html": [
       "L'invraisemblable rapport parlementaire sur les <mark style=\"background-color:pink\">pesticides</mark> : http://www.rue89.com/node/150113 via @rathieu"
      ],
      "text/plain": [
       "<IPython.core.display.HTML object>"
      ]
     },
     "metadata": {},
     "output_type": "display_data"
    },
    {
     "data": {
      "text/html": [
       "<h2 style='text-align:center;'> Texte 13499017870 (114 sur 286)</h2>"
      ],
      "text/plain": [
       "<IPython.core.display.HTML object>"
      ]
     },
     "metadata": {},
     "output_type": "display_data"
    },
    {
     "data": {
      "text/html": [
       "<strong>Segment :</strong> 0 (2010-02-01 ; 2010-08-31)"
      ],
      "text/plain": [
       "<IPython.core.display.HTML object>"
      ]
     },
     "metadata": {},
     "output_type": "display_data"
    },
    {
     "data": {
      "text/html": [
       "<strong>Date :</strong> 2010-05-06"
      ],
      "text/plain": [
       "<IPython.core.display.HTML object>"
      ]
     },
     "metadata": {},
     "output_type": "display_data"
    },
    {
     "data": {
      "text/html": [
       "<strong>Auteur :</strong> Goulven CHAMPENOIS 🌈 \n"
      ],
      "text/plain": [
       "<IPython.core.display.HTML object>"
      ]
     },
     "metadata": {},
     "output_type": "display_data"
    },
    {
     "name": "stdout",
     "output_type": "stream",
     "text": [
      "Termes indexés : ['parlementaires', 'pesticides'] \n",
      "\n",
      "Termes spécifiques présents : ['parlementaires', 'pesticides'] \n",
      "\n",
      "Termes spécifiques absents : {'développement', 'troubles', 'cassation', \"cour d'appel\", 'frelon', 'bisphénol a', 'résidus de pesticides', 'foetus', 'malformations', 'désherbant', 'cour', 'milieu', 'confédération paysanne', 'chlordécone', 'céréalier charentais', 'expositions', 'bisphénol', 'nature environnement'} \n",
      "\n"
     ]
    },
    {
     "data": {
      "text/html": [
       "Rapport parlementaire sur les <mark style=\"background-color:pink\">pesticides</mark> : réaction horrifiée de la sénatrice du nord MC Blandin http://www.rue89.com/node/150113"
      ],
      "text/plain": [
       "<IPython.core.display.HTML object>"
      ]
     },
     "metadata": {},
     "output_type": "display_data"
    },
    {
     "data": {
      "text/html": [
       "<h2 style='text-align:center;'> Texte 13492458275 (115 sur 286)</h2>"
      ],
      "text/plain": [
       "<IPython.core.display.HTML object>"
      ]
     },
     "metadata": {},
     "output_type": "display_data"
    },
    {
     "data": {
      "text/html": [
       "<strong>Segment :</strong> 0 (2010-02-01 ; 2010-08-31)"
      ],
      "text/plain": [
       "<IPython.core.display.HTML object>"
      ]
     },
     "metadata": {},
     "output_type": "display_data"
    },
    {
     "data": {
      "text/html": [
       "<strong>Date :</strong> 2010-05-06"
      ],
      "text/plain": [
       "<IPython.core.display.HTML object>"
      ]
     },
     "metadata": {},
     "output_type": "display_data"
    },
    {
     "data": {
      "text/html": [
       "<strong>Auteur :</strong> QualiREG network \n"
      ],
      "text/plain": [
       "<IPython.core.display.HTML object>"
      ]
     },
     "metadata": {},
     "output_type": "display_data"
    },
    {
     "name": "stdout",
     "output_type": "stream",
     "text": [
      "Termes indexés : ['parlementaires', 'pesticides'] \n",
      "\n",
      "Termes spécifiques présents : ['parlementaires', 'pesticides'] \n",
      "\n",
      "Termes spécifiques absents : {'développement', 'troubles', 'cassation', \"cour d'appel\", 'frelon', 'bisphénol a', 'résidus de pesticides', 'foetus', 'malformations', 'désherbant', 'cour', 'milieu', 'confédération paysanne', 'chlordécone', 'céréalier charentais', 'expositions', 'bisphénol', 'nature environnement'} \n",
      "\n"
     ]
    },
    {
     "data": {
      "text/html": [
       "L'invraisemblable rapport parlementaire sur les <mark style=\"background-color:pink\">pesticides</mark>. Je lis http://www.rue89.com/node/150113"
      ],
      "text/plain": [
       "<IPython.core.display.HTML object>"
      ]
     },
     "metadata": {},
     "output_type": "display_data"
    },
    {
     "data": {
      "text/html": [
       "<h2 style='text-align:center;'> Texte 13571153950 (116 sur 286)</h2>"
      ],
      "text/plain": [
       "<IPython.core.display.HTML object>"
      ]
     },
     "metadata": {},
     "output_type": "display_data"
    },
    {
     "data": {
      "text/html": [
       "<strong>Segment :</strong> 0 (2010-02-01 ; 2010-08-31)"
      ],
      "text/plain": [
       "<IPython.core.display.HTML object>"
      ]
     },
     "metadata": {},
     "output_type": "display_data"
    },
    {
     "data": {
      "text/html": [
       "<strong>Date :</strong> 2010-05-07"
      ],
      "text/plain": [
       "<IPython.core.display.HTML object>"
      ]
     },
     "metadata": {},
     "output_type": "display_data"
    },
    {
     "data": {
      "text/html": [
       "<strong>Auteur :</strong> Louis-Gerard Salcede \n"
      ],
      "text/plain": [
       "<IPython.core.display.HTML object>"
      ]
     },
     "metadata": {},
     "output_type": "display_data"
    },
    {
     "name": "stdout",
     "output_type": "stream",
     "text": [
      "Termes indexés : ['martinique', 'pesticides', 'chlordécone'] \n",
      "\n",
      "Termes spécifiques présents : ['pesticides', 'chlordécone'] \n",
      "\n",
      "Termes spécifiques absents : {'développement', 'troubles', 'cassation', \"cour d'appel\", 'frelon', 'bisphénol a', 'parlementaires', 'résidus de pesticides', 'foetus', 'malformations', 'désherbant', 'cour', 'milieu', 'confédération paysanne', 'céréalier charentais', 'expositions', 'bisphénol', 'nature environnement'} \n",
      "\n"
     ]
    },
    {
     "data": {
      "text/html": [
       "L'eau de source impropre à la consommation en <mark style=\"background-color:yellow\">martinique</mark>. En cause la présence de bactéries et du pesticide <mark style=\"background-color:pink\">chlordécone</mark>"
      ],
      "text/plain": [
       "<IPython.core.display.HTML object>"
      ]
     },
     "metadata": {},
     "output_type": "display_data"
    },
    {
     "data": {
      "text/html": [
       "<h2 style='text-align:center;'> Texte 13589007684 (117 sur 286)</h2>"
      ],
      "text/plain": [
       "<IPython.core.display.HTML object>"
      ]
     },
     "metadata": {},
     "output_type": "display_data"
    },
    {
     "data": {
      "text/html": [
       "<strong>Segment :</strong> 0 (2010-02-01 ; 2010-08-31)"
      ],
      "text/plain": [
       "<IPython.core.display.HTML object>"
      ]
     },
     "metadata": {},
     "output_type": "display_data"
    },
    {
     "data": {
      "text/html": [
       "<strong>Date :</strong> 2010-05-08"
      ],
      "text/plain": [
       "<IPython.core.display.HTML object>"
      ]
     },
     "metadata": {},
     "output_type": "display_data"
    },
    {
     "data": {
      "text/html": [
       "<strong>Auteur :</strong> Yuri Jacquet \n"
      ],
      "text/plain": [
       "<IPython.core.display.HTML object>"
      ]
     },
     "metadata": {},
     "output_type": "display_data"
    },
    {
     "name": "stdout",
     "output_type": "stream",
     "text": [
      "Termes indexés : ['martinique', 'pesticides', 'chlordécone'] \n",
      "\n",
      "Termes spécifiques présents : ['pesticides', 'chlordécone'] \n",
      "\n",
      "Termes spécifiques absents : {'développement', 'troubles', 'cassation', \"cour d'appel\", 'frelon', 'bisphénol a', 'parlementaires', 'résidus de pesticides', 'foetus', 'malformations', 'désherbant', 'cour', 'milieu', 'confédération paysanne', 'céréalier charentais', 'expositions', 'bisphénol', 'nature environnement'} \n",
      "\n"
     ]
    },
    {
     "data": {
      "text/html": [
       "RT @rforadioo: L'eau de source impropre à la consommation en <mark style=\"background-color:yellow\">martinique</mark>. En cause la présence de bactéries et du pesticide <mark style=\"background-color:pink\">chlordécone</mark>"
      ],
      "text/plain": [
       "<IPython.core.display.HTML object>"
      ]
     },
     "metadata": {},
     "output_type": "display_data"
    },
    {
     "data": {
      "text/html": [
       "<h2 style='text-align:center;'> Texte 13661762387 (118 sur 286)</h2>"
      ],
      "text/plain": [
       "<IPython.core.display.HTML object>"
      ]
     },
     "metadata": {},
     "output_type": "display_data"
    },
    {
     "data": {
      "text/html": [
       "<strong>Segment :</strong> 0 (2010-02-01 ; 2010-08-31)"
      ],
      "text/plain": [
       "<IPython.core.display.HTML object>"
      ]
     },
     "metadata": {},
     "output_type": "display_data"
    },
    {
     "data": {
      "text/html": [
       "<strong>Date :</strong> 2010-05-09"
      ],
      "text/plain": [
       "<IPython.core.display.HTML object>"
      ]
     },
     "metadata": {},
     "output_type": "display_data"
    },
    {
     "data": {
      "text/html": [
       "<strong>Auteur :</strong> Sidali DE SAINT-JURS \n"
      ],
      "text/plain": [
       "<IPython.core.display.HTML object>"
      ]
     },
     "metadata": {},
     "output_type": "display_data"
    },
    {
     "name": "stdout",
     "output_type": "stream",
     "text": [
      "Termes indexés : ['parlementaires', 'pesticides'] \n",
      "\n",
      "Termes spécifiques présents : ['parlementaires', 'pesticides'] \n",
      "\n",
      "Termes spécifiques absents : {'développement', 'troubles', 'cassation', \"cour d'appel\", 'frelon', 'bisphénol a', 'résidus de pesticides', 'foetus', 'malformations', 'désherbant', 'cour', 'milieu', 'confédération paysanne', 'chlordécone', 'céréalier charentais', 'expositions', 'bisphénol', 'nature environnement'} \n",
      "\n"
     ]
    },
    {
     "data": {
      "text/html": [
       "Rue89 : L'invraisemblable rapport parlementaire sur les <mark style=\"background-color:pink\">pesticides</mark> http://j.mp/9bM3Z4"
      ],
      "text/plain": [
       "<IPython.core.display.HTML object>"
      ]
     },
     "metadata": {},
     "output_type": "display_data"
    },
    {
     "data": {
      "text/html": [
       "<h2 style='text-align:center;'> Texte 13716546639 (119 sur 286)</h2>"
      ],
      "text/plain": [
       "<IPython.core.display.HTML object>"
      ]
     },
     "metadata": {},
     "output_type": "display_data"
    },
    {
     "data": {
      "text/html": [
       "<strong>Segment :</strong> 0 (2010-02-01 ; 2010-08-31)"
      ],
      "text/plain": [
       "<IPython.core.display.HTML object>"
      ]
     },
     "metadata": {},
     "output_type": "display_data"
    },
    {
     "data": {
      "text/html": [
       "<strong>Date :</strong> 2010-05-10"
      ],
      "text/plain": [
       "<IPython.core.display.HTML object>"
      ]
     },
     "metadata": {},
     "output_type": "display_data"
    },
    {
     "data": {
      "text/html": [
       "<strong>Auteur :</strong> Olivia FLour \n"
      ],
      "text/plain": [
       "<IPython.core.display.HTML object>"
      ]
     },
     "metadata": {},
     "output_type": "display_data"
    },
    {
     "name": "stdout",
     "output_type": "stream",
     "text": [
      "Termes indexés : ['pesticides', 'parlementaires'] \n",
      "\n",
      "Termes spécifiques présents : ['pesticides', 'parlementaires'] \n",
      "\n",
      "Termes spécifiques absents : {'développement', 'troubles', 'cassation', \"cour d'appel\", 'frelon', 'bisphénol a', 'résidus de pesticides', 'foetus', 'malformations', 'désherbant', 'cour', 'milieu', 'confédération paysanne', 'chlordécone', 'céréalier charentais', 'expositions', 'bisphénol', 'nature environnement'} \n",
      "\n"
     ]
    },
    {
     "data": {
      "text/html": [
       "<mark style=\"background-color:pink\">pesticides</mark> : les <mark style=\"background-color:pink\">parlementaires</mark> sous influence ?\n",
       "le gouvernement se couvre de honte en défendant des positions... http://bit.ly/9D4NK9"
      ],
      "text/plain": [
       "<IPython.core.display.HTML object>"
      ]
     },
     "metadata": {},
     "output_type": "display_data"
    },
    {
     "data": {
      "text/html": [
       "<h2 style='text-align:center;'> Texte 13811090012 (120 sur 286)</h2>"
      ],
      "text/plain": [
       "<IPython.core.display.HTML object>"
      ]
     },
     "metadata": {},
     "output_type": "display_data"
    },
    {
     "data": {
      "text/html": [
       "<strong>Segment :</strong> 0 (2010-02-01 ; 2010-08-31)"
      ],
      "text/plain": [
       "<IPython.core.display.HTML object>"
      ]
     },
     "metadata": {},
     "output_type": "display_data"
    },
    {
     "data": {
      "text/html": [
       "<strong>Date :</strong> 2010-05-11"
      ],
      "text/plain": [
       "<IPython.core.display.HTML object>"
      ]
     },
     "metadata": {},
     "output_type": "display_data"
    },
    {
     "data": {
      "text/html": [
       "<strong>Auteur :</strong> Club du Vin \n"
      ],
      "text/plain": [
       "<IPython.core.display.HTML object>"
      ]
     },
     "metadata": {},
     "output_type": "display_data"
    },
    {
     "name": "stdout",
     "output_type": "stream",
     "text": [
      "Termes indexés : ['vins', 'pesticides', 'développement'] \n",
      "\n",
      "Termes spécifiques présents : ['pesticides', 'développement'] \n",
      "\n",
      "Termes spécifiques absents : {'troubles', 'cassation', \"cour d'appel\", 'frelon', 'bisphénol a', 'parlementaires', 'résidus de pesticides', 'foetus', 'malformations', 'désherbant', 'cour', 'milieu', 'confédération paysanne', 'chlordécone', 'céréalier charentais', 'expositions', 'bisphénol', 'nature environnement'} \n",
      "\n"
     ]
    },
    {
     "data": {
      "text/html": [
       "Vin et <mark style=\"background-color:pink\">pesticides</mark> - Forum Environnement, <mark style=\"background-color:pink\">développement</mark> durable et ...:  http://url4.eu/3Kmp7"
      ],
      "text/plain": [
       "<IPython.core.display.HTML object>"
      ]
     },
     "metadata": {},
     "output_type": "display_data"
    },
    {
     "data": {
      "text/html": [
       "<h2 style='text-align:center;'> Texte 13804573472 (121 sur 286)</h2>"
      ],
      "text/plain": [
       "<IPython.core.display.HTML object>"
      ]
     },
     "metadata": {},
     "output_type": "display_data"
    },
    {
     "data": {
      "text/html": [
       "<strong>Segment :</strong> 0 (2010-02-01 ; 2010-08-31)"
      ],
      "text/plain": [
       "<IPython.core.display.HTML object>"
      ]
     },
     "metadata": {},
     "output_type": "display_data"
    },
    {
     "data": {
      "text/html": [
       "<strong>Date :</strong> 2010-05-11"
      ],
      "text/plain": [
       "<IPython.core.display.HTML object>"
      ]
     },
     "metadata": {},
     "output_type": "display_data"
    },
    {
     "data": {
      "text/html": [
       "<strong>Auteur :</strong> Club du Vin \n"
      ],
      "text/plain": [
       "<IPython.core.display.HTML object>"
      ]
     },
     "metadata": {},
     "output_type": "display_data"
    },
    {
     "name": "stdout",
     "output_type": "stream",
     "text": [
      "Termes indexés : ['vins', 'pesticides', 'développement'] \n",
      "\n",
      "Termes spécifiques présents : ['pesticides', 'développement'] \n",
      "\n",
      "Termes spécifiques absents : {'troubles', 'cassation', \"cour d'appel\", 'frelon', 'bisphénol a', 'parlementaires', 'résidus de pesticides', 'foetus', 'malformations', 'désherbant', 'cour', 'milieu', 'confédération paysanne', 'chlordécone', 'céréalier charentais', 'expositions', 'bisphénol', 'nature environnement'} \n",
      "\n"
     ]
    },
    {
     "data": {
      "text/html": [
       "Vin et <mark style=\"background-color:pink\">pesticides</mark> - Forum Environnement, <mark style=\"background-color:pink\">développement</mark> durable et ...:  http://url4.eu/3KaPr"
      ],
      "text/plain": [
       "<IPython.core.display.HTML object>"
      ]
     },
     "metadata": {},
     "output_type": "display_data"
    },
    {
     "data": {
      "text/html": [
       "<h2 style='text-align:center;'> Texte 13783449578 (122 sur 286)</h2>"
      ],
      "text/plain": [
       "<IPython.core.display.HTML object>"
      ]
     },
     "metadata": {},
     "output_type": "display_data"
    },
    {
     "data": {
      "text/html": [
       "<strong>Segment :</strong> 0 (2010-02-01 ; 2010-08-31)"
      ],
      "text/plain": [
       "<IPython.core.display.HTML object>"
      ]
     },
     "metadata": {},
     "output_type": "display_data"
    },
    {
     "data": {
      "text/html": [
       "<strong>Date :</strong> 2010-05-11"
      ],
      "text/plain": [
       "<IPython.core.display.HTML object>"
      ]
     },
     "metadata": {},
     "output_type": "display_data"
    },
    {
     "data": {
      "text/html": [
       "<strong>Auteur :</strong> RT SVP \n"
      ],
      "text/plain": [
       "<IPython.core.display.HTML object>"
      ]
     },
     "metadata": {},
     "output_type": "display_data"
    },
    {
     "name": "stdout",
     "output_type": "stream",
     "text": [
      "Termes indexés : ['résidus', 'résidus de pesticides', 'pesticides', 'problème', 'santé'] \n",
      "\n",
      "Termes spécifiques présents : ['résidus de pesticides', 'pesticides'] \n",
      "\n",
      "Termes spécifiques absents : {'développement', 'troubles', 'cassation', \"cour d'appel\", 'frelon', 'bisphénol a', 'parlementaires', 'foetus', 'malformations', 'désherbant', 'cour', 'milieu', 'confédération paysanne', 'chlordécone', 'céréalier charentais', 'expositions', 'bisphénol', 'nature environnement'} \n",
      "\n"
     ]
    },
    {
     "data": {
      "text/html": [
       "RT @testachats Trop de <mark style=\"background-color:yellow\">résidus</mark> de <mark style=\"background-color:pink\">pesticides</mark> dans les fruits http://ow.ly/16QgS0 Mais est ce vraiment un <mark style=\"background-color:yellow\">problème</mark> pour notre <mark style=\"background-color:yellow\">santé</mark>?  R.SVP"
      ],
      "text/plain": [
       "<IPython.core.display.HTML object>"
      ]
     },
     "metadata": {},
     "output_type": "display_data"
    },
    {
     "data": {
      "text/html": [
       "<h2 style='text-align:center;'> Texte 13780032161 (123 sur 286)</h2>"
      ],
      "text/plain": [
       "<IPython.core.display.HTML object>"
      ]
     },
     "metadata": {},
     "output_type": "display_data"
    },
    {
     "data": {
      "text/html": [
       "<strong>Segment :</strong> 0 (2010-02-01 ; 2010-08-31)"
      ],
      "text/plain": [
       "<IPython.core.display.HTML object>"
      ]
     },
     "metadata": {},
     "output_type": "display_data"
    },
    {
     "data": {
      "text/html": [
       "<strong>Date :</strong> 2010-05-11"
      ],
      "text/plain": [
       "<IPython.core.display.HTML object>"
      ]
     },
     "metadata": {},
     "output_type": "display_data"
    },
    {
     "data": {
      "text/html": [
       "<strong>Auteur :</strong> France Nature Environnement \n"
      ],
      "text/plain": [
       "<IPython.core.display.HTML object>"
      ]
     },
     "metadata": {},
     "output_type": "display_data"
    },
    {
     "name": "stdout",
     "output_type": "stream",
     "text": [
      "Termes indexés : ['pesticides', 'cour', \"cour d'appel\"] \n",
      "\n",
      "Termes spécifiques présents : ['pesticides', 'cour', \"cour d'appel\"] \n",
      "\n",
      "Termes spécifiques absents : {'développement', 'troubles', 'cassation', 'frelon', 'bisphénol a', 'parlementaires', 'résidus de pesticides', 'foetus', 'malformations', 'désherbant', 'milieu', 'confédération paysanne', 'chlordécone', 'céréalier charentais', 'expositions', 'bisphénol', 'nature environnement'} \n",
      "\n"
     ]
    },
    {
     "data": {
      "text/html": [
       "Commerce et publicité illicites de <mark style=\"background-color:pink\">pesticides</mark>  La <mark style=\"background-color:pink\">cour</mark> d'appel de Toulouse confirme la culpabilité de 7 prévenus: ... http://bit.ly/bNN1TK"
      ],
      "text/plain": [
       "<IPython.core.display.HTML object>"
      ]
     },
     "metadata": {},
     "output_type": "display_data"
    },
    {
     "data": {
      "text/html": [
       "<h2 style='text-align:center;'> Texte 14022175625 (124 sur 286)</h2>"
      ],
      "text/plain": [
       "<IPython.core.display.HTML object>"
      ]
     },
     "metadata": {},
     "output_type": "display_data"
    },
    {
     "data": {
      "text/html": [
       "<strong>Segment :</strong> 0 (2010-02-01 ; 2010-08-31)"
      ],
      "text/plain": [
       "<IPython.core.display.HTML object>"
      ]
     },
     "metadata": {},
     "output_type": "display_data"
    },
    {
     "data": {
      "text/html": [
       "<strong>Date :</strong> 2010-05-15"
      ],
      "text/plain": [
       "<IPython.core.display.HTML object>"
      ]
     },
     "metadata": {},
     "output_type": "display_data"
    },
    {
     "data": {
      "text/html": [
       "<strong>Auteur :</strong> Laurent GIMALAC \n"
      ],
      "text/plain": [
       "<IPython.core.display.HTML object>"
      ]
     },
     "metadata": {},
     "output_type": "display_data"
    },
    {
     "name": "stdout",
     "output_type": "stream",
     "text": [
      "Termes indexés : ['parlementaires', 'pesticides'] \n",
      "\n",
      "Termes spécifiques présents : ['parlementaires', 'pesticides'] \n",
      "\n",
      "Termes spécifiques absents : {'développement', 'troubles', 'cassation', \"cour d'appel\", 'frelon', 'bisphénol a', 'résidus de pesticides', 'foetus', 'malformations', 'désherbant', 'cour', 'milieu', 'confédération paysanne', 'chlordécone', 'céréalier charentais', 'expositions', 'bisphénol', 'nature environnement'} \n",
      "\n"
     ]
    },
    {
     "data": {
      "text/html": [
       "L'invraisemblable rapport parlementaire sur les <mark style=\"background-color:pink\">pesticides</mark> http://tinyurl.com/2wrh58l"
      ],
      "text/plain": [
       "<IPython.core.display.HTML object>"
      ]
     },
     "metadata": {},
     "output_type": "display_data"
    },
    {
     "data": {
      "text/html": [
       "<h2 style='text-align:center;'> Texte 14186717057 (125 sur 286)</h2>"
      ],
      "text/plain": [
       "<IPython.core.display.HTML object>"
      ]
     },
     "metadata": {},
     "output_type": "display_data"
    },
    {
     "data": {
      "text/html": [
       "<strong>Segment :</strong> 0 (2010-02-01 ; 2010-08-31)"
      ],
      "text/plain": [
       "<IPython.core.display.HTML object>"
      ]
     },
     "metadata": {},
     "output_type": "display_data"
    },
    {
     "data": {
      "text/html": [
       "<strong>Date :</strong> 2010-05-17"
      ],
      "text/plain": [
       "<IPython.core.display.HTML object>"
      ]
     },
     "metadata": {},
     "output_type": "display_data"
    },
    {
     "data": {
      "text/html": [
       "<strong>Auteur :</strong> Radio-Canada Science \n"
      ],
      "text/plain": [
       "<IPython.core.display.HTML object>"
      ]
     },
     "metadata": {},
     "output_type": "display_data"
    },
    {
     "name": "stdout",
     "output_type": "stream",
     "text": [
      "Termes indexés : ['troubles', 'pesticides'] \n",
      "\n",
      "Termes spécifiques présents : ['troubles', 'pesticides'] \n",
      "\n",
      "Termes spécifiques absents : {'développement', 'cassation', \"cour d'appel\", 'frelon', 'bisphénol a', 'parlementaires', 'résidus de pesticides', 'foetus', 'malformations', 'désherbant', 'cour', 'milieu', 'confédération paysanne', 'chlordécone', 'céréalier charentais', 'expositions', 'bisphénol', 'nature environnement'} \n",
      "\n"
     ]
    },
    {
     "data": {
      "text/html": [
       "Trouble d'hyperactivité - Les <mark style=\"background-color:pink\">pesticides</mark> montrés du doigt http://bit.ly/avQovl"
      ],
      "text/plain": [
       "<IPython.core.display.HTML object>"
      ]
     },
     "metadata": {},
     "output_type": "display_data"
    },
    {
     "data": {
      "text/html": [
       "<h2 style='text-align:center;'> Texte 14165113528 (126 sur 286)</h2>"
      ],
      "text/plain": [
       "<IPython.core.display.HTML object>"
      ]
     },
     "metadata": {},
     "output_type": "display_data"
    },
    {
     "data": {
      "text/html": [
       "<strong>Segment :</strong> 0 (2010-02-01 ; 2010-08-31)"
      ],
      "text/plain": [
       "<IPython.core.display.HTML object>"
      ]
     },
     "metadata": {},
     "output_type": "display_data"
    },
    {
     "data": {
      "text/html": [
       "<strong>Date :</strong> 2010-05-17"
      ],
      "text/plain": [
       "<IPython.core.display.HTML object>"
      ]
     },
     "metadata": {},
     "output_type": "display_data"
    },
    {
     "data": {
      "text/html": [
       "<strong>Auteur :</strong> William Reymond \n"
      ],
      "text/plain": [
       "<IPython.core.display.HTML object>"
      ]
     },
     "metadata": {},
     "output_type": "display_data"
    },
    {
     "name": "stdout",
     "output_type": "stream",
     "text": [
      "Termes indexés : ['troubles', 'pesticides'] \n",
      "\n",
      "Termes spécifiques présents : ['troubles', 'pesticides'] \n",
      "\n",
      "Termes spécifiques absents : {'développement', 'cassation', \"cour d'appel\", 'frelon', 'bisphénol a', 'parlementaires', 'résidus de pesticides', 'foetus', 'malformations', 'désherbant', 'cour', 'milieu', 'confédération paysanne', 'chlordécone', 'céréalier charentais', 'expositions', 'bisphénol', 'nature environnement'} \n",
      "\n"
     ]
    },
    {
     "data": {
      "text/html": [
       "<mark style=\"background-color:pink\">troubles</mark> du comportement chez l'enfant liés aux <mark style=\"background-color:pink\">pesticides</mark>. Une raison de plus de dire non à la toxic-food http://tiny.cc/vrg64"
      ],
      "text/plain": [
       "<IPython.core.display.HTML object>"
      ]
     },
     "metadata": {},
     "output_type": "display_data"
    },
    {
     "data": {
      "text/html": [
       "<h2 style='text-align:center;'> Texte 14176309195 (127 sur 286)</h2>"
      ],
      "text/plain": [
       "<IPython.core.display.HTML object>"
      ]
     },
     "metadata": {},
     "output_type": "display_data"
    },
    {
     "data": {
      "text/html": [
       "<strong>Segment :</strong> 0 (2010-02-01 ; 2010-08-31)"
      ],
      "text/plain": [
       "<IPython.core.display.HTML object>"
      ]
     },
     "metadata": {},
     "output_type": "display_data"
    },
    {
     "data": {
      "text/html": [
       "<strong>Date :</strong> 2010-05-17"
      ],
      "text/plain": [
       "<IPython.core.display.HTML object>"
      ]
     },
     "metadata": {},
     "output_type": "display_data"
    },
    {
     "data": {
      "text/html": [
       "<strong>Auteur :</strong> PsychoMedia \n"
      ],
      "text/plain": [
       "<IPython.core.display.HTML object>"
      ]
     },
     "metadata": {},
     "output_type": "display_data"
    },
    {
     "name": "stdout",
     "output_type": "stream",
     "text": [
      "Termes indexés : ['pesticides', 'troubles'] \n",
      "\n",
      "Termes spécifiques présents : ['pesticides', 'troubles'] \n",
      "\n",
      "Termes spécifiques absents : {'développement', 'cassation', \"cour d'appel\", 'frelon', 'bisphénol a', 'parlementaires', 'résidus de pesticides', 'foetus', 'malformations', 'désherbant', 'cour', 'milieu', 'confédération paysanne', 'chlordécone', 'céréalier charentais', 'expositions', 'bisphénol', 'nature environnement'} \n",
      "\n"
     ]
    },
    {
     "data": {
      "text/html": [
       "Les <mark style=\"background-color:pink\">pesticides</mark> liés au trouble déficitaire de l'attention http://ow.ly/17p0Yr"
      ],
      "text/plain": [
       "<IPython.core.display.HTML object>"
      ]
     },
     "metadata": {},
     "output_type": "display_data"
    },
    {
     "data": {
      "text/html": [
       "<h2 style='text-align:center;'> Texte 14176336211 (128 sur 286)</h2>"
      ],
      "text/plain": [
       "<IPython.core.display.HTML object>"
      ]
     },
     "metadata": {},
     "output_type": "display_data"
    },
    {
     "data": {
      "text/html": [
       "<strong>Segment :</strong> 0 (2010-02-01 ; 2010-08-31)"
      ],
      "text/plain": [
       "<IPython.core.display.HTML object>"
      ]
     },
     "metadata": {},
     "output_type": "display_data"
    },
    {
     "data": {
      "text/html": [
       "<strong>Date :</strong> 2010-05-17"
      ],
      "text/plain": [
       "<IPython.core.display.HTML object>"
      ]
     },
     "metadata": {},
     "output_type": "display_data"
    },
    {
     "data": {
      "text/html": [
       "<strong>Auteur :</strong> Genevieve Labadie \n"
      ],
      "text/plain": [
       "<IPython.core.display.HTML object>"
      ]
     },
     "metadata": {},
     "output_type": "display_data"
    },
    {
     "name": "stdout",
     "output_type": "stream",
     "text": [
      "Termes indexés : ['pesticides', 'troubles'] \n",
      "\n",
      "Termes spécifiques présents : ['pesticides', 'troubles'] \n",
      "\n",
      "Termes spécifiques absents : {'développement', 'cassation', \"cour d'appel\", 'frelon', 'bisphénol a', 'parlementaires', 'résidus de pesticides', 'foetus', 'malformations', 'désherbant', 'cour', 'milieu', 'confédération paysanne', 'chlordécone', 'céréalier charentais', 'expositions', 'bisphénol', 'nature environnement'} \n",
      "\n"
     ]
    },
    {
     "data": {
      "text/html": [
       "RT @PsychoMedia: Les <mark style=\"background-color:pink\">pesticides</mark> liés au trouble déficitaire de l'attention http://ow.ly/17p0Yr"
      ],
      "text/plain": [
       "<IPython.core.display.HTML object>"
      ]
     },
     "metadata": {},
     "output_type": "display_data"
    },
    {
     "data": {
      "text/html": [
       "<h2 style='text-align:center;'> Texte 14197840280 (129 sur 286)</h2>"
      ],
      "text/plain": [
       "<IPython.core.display.HTML object>"
      ]
     },
     "metadata": {},
     "output_type": "display_data"
    },
    {
     "data": {
      "text/html": [
       "<strong>Segment :</strong> 0 (2010-02-01 ; 2010-08-31)"
      ],
      "text/plain": [
       "<IPython.core.display.HTML object>"
      ]
     },
     "metadata": {},
     "output_type": "display_data"
    },
    {
     "data": {
      "text/html": [
       "<strong>Date :</strong> 2010-05-18"
      ],
      "text/plain": [
       "<IPython.core.display.HTML object>"
      ]
     },
     "metadata": {},
     "output_type": "display_data"
    },
    {
     "data": {
      "text/html": [
       "<strong>Auteur :</strong> Stephane chamberland \n"
      ],
      "text/plain": [
       "<IPython.core.display.HTML object>"
      ]
     },
     "metadata": {},
     "output_type": "display_data"
    },
    {
     "name": "stdout",
     "output_type": "stream",
     "text": [
      "Termes indexés : ['troubles', 'pesticides'] \n",
      "\n",
      "Termes spécifiques présents : ['troubles', 'pesticides'] \n",
      "\n",
      "Termes spécifiques absents : {'développement', 'cassation', \"cour d'appel\", 'frelon', 'bisphénol a', 'parlementaires', 'résidus de pesticides', 'foetus', 'malformations', 'désherbant', 'cour', 'milieu', 'confédération paysanne', 'chlordécone', 'céréalier charentais', 'expositions', 'bisphénol', 'nature environnement'} \n",
      "\n"
     ]
    },
    {
     "data": {
      "text/html": [
       "Trouble d'hyperactivité - Les <mark style=\"background-color:pink\">pesticides</mark> montrés du doigt http://bit.ly/cWdLyn"
      ],
      "text/plain": [
       "<IPython.core.display.HTML object>"
      ]
     },
     "metadata": {},
     "output_type": "display_data"
    },
    {
     "data": {
      "text/html": [
       "<h2 style='text-align:center;'> Texte 14218172322 (130 sur 286)</h2>"
      ],
      "text/plain": [
       "<IPython.core.display.HTML object>"
      ]
     },
     "metadata": {},
     "output_type": "display_data"
    },
    {
     "data": {
      "text/html": [
       "<strong>Segment :</strong> 0 (2010-02-01 ; 2010-08-31)"
      ],
      "text/plain": [
       "<IPython.core.display.HTML object>"
      ]
     },
     "metadata": {},
     "output_type": "display_data"
    },
    {
     "data": {
      "text/html": [
       "<strong>Date :</strong> 2010-05-18"
      ],
      "text/plain": [
       "<IPython.core.display.HTML object>"
      ]
     },
     "metadata": {},
     "output_type": "display_data"
    },
    {
     "data": {
      "text/html": [
       "<strong>Auteur :</strong> PierreAd 💉 \n"
      ],
      "text/plain": [
       "<IPython.core.display.HTML object>"
      ]
     },
     "metadata": {},
     "output_type": "display_data"
    },
    {
     "name": "stdout",
     "output_type": "stream",
     "text": [
      "Termes indexés : ['troubles', 'pesticides', 'santé'] \n",
      "\n",
      "Termes spécifiques présents : ['troubles', 'pesticides'] \n",
      "\n",
      "Termes spécifiques absents : {'développement', 'cassation', \"cour d'appel\", 'frelon', 'bisphénol a', 'parlementaires', 'résidus de pesticides', 'foetus', 'malformations', 'désherbant', 'cour', 'milieu', 'confédération paysanne', 'chlordécone', 'céréalier charentais', 'expositions', 'bisphénol', 'nature environnement'} \n",
      "\n"
     ]
    },
    {
     "data": {
      "text/html": [
       "Trouble d'hyperactivité : Les <mark style=\"background-color:pink\">pesticides</mark> montrés du doigt | <mark style=\"background-color:yellow\">santé</mark> | Radio-Canada.ca: http://bit.ly/c4ZPZR via @addthis"
      ],
      "text/plain": [
       "<IPython.core.display.HTML object>"
      ]
     },
     "metadata": {},
     "output_type": "display_data"
    },
    {
     "data": {
      "text/html": [
       "<h2 style='text-align:center;'> Texte 14219781535 (131 sur 286)</h2>"
      ],
      "text/plain": [
       "<IPython.core.display.HTML object>"
      ]
     },
     "metadata": {},
     "output_type": "display_data"
    },
    {
     "data": {
      "text/html": [
       "<strong>Segment :</strong> 0 (2010-02-01 ; 2010-08-31)"
      ],
      "text/plain": [
       "<IPython.core.display.HTML object>"
      ]
     },
     "metadata": {},
     "output_type": "display_data"
    },
    {
     "data": {
      "text/html": [
       "<strong>Date :</strong> 2010-05-18"
      ],
      "text/plain": [
       "<IPython.core.display.HTML object>"
      ]
     },
     "metadata": {},
     "output_type": "display_data"
    },
    {
     "data": {
      "text/html": [
       "<strong>Auteur :</strong> Nouvelles \n"
      ],
      "text/plain": [
       "<IPython.core.display.HTML object>"
      ]
     },
     "metadata": {},
     "output_type": "display_data"
    },
    {
     "name": "stdout",
     "output_type": "stream",
     "text": [
      "Termes indexés : ['études', 'pesticides', 'troubles'] \n",
      "\n",
      "Termes spécifiques présents : ['pesticides', 'troubles'] \n",
      "\n",
      "Termes spécifiques absents : {'développement', 'cassation', \"cour d'appel\", 'frelon', 'bisphénol a', 'parlementaires', 'résidus de pesticides', 'foetus', 'malformations', 'désherbant', 'cour', 'milieu', 'confédération paysanne', 'chlordécone', 'céréalier charentais', 'expositions', 'bisphénol', 'nature environnement'} \n",
      "\n"
     ]
    },
    {
     "data": {
      "text/html": [
       "Flash: Une étude établit un lien entre <mark style=\"background-color:pink\">pesticides</mark> et trouble de l ... - nouvelobs.com http://bit.ly/bALsqk"
      ],
      "text/plain": [
       "<IPython.core.display.HTML object>"
      ]
     },
     "metadata": {},
     "output_type": "display_data"
    },
    {
     "data": {
      "text/html": [
       "<h2 style='text-align:center;'> Texte 14233803634 (132 sur 286)</h2>"
      ],
      "text/plain": [
       "<IPython.core.display.HTML object>"
      ]
     },
     "metadata": {},
     "output_type": "display_data"
    },
    {
     "data": {
      "text/html": [
       "<strong>Segment :</strong> 0 (2010-02-01 ; 2010-08-31)"
      ],
      "text/plain": [
       "<IPython.core.display.HTML object>"
      ]
     },
     "metadata": {},
     "output_type": "display_data"
    },
    {
     "data": {
      "text/html": [
       "<strong>Date :</strong> 2010-05-18"
      ],
      "text/plain": [
       "<IPython.core.display.HTML object>"
      ]
     },
     "metadata": {},
     "output_type": "display_data"
    },
    {
     "data": {
      "text/html": [
       "<strong>Auteur :</strong> sebrioux 🤟 \n"
      ],
      "text/plain": [
       "<IPython.core.display.HTML object>"
      ]
     },
     "metadata": {},
     "output_type": "display_data"
    },
    {
     "name": "stdout",
     "output_type": "stream",
     "text": [
      "Termes indexés : ['études', 'troubles', 'pesticides'] \n",
      "\n",
      "Termes spécifiques présents : ['troubles', 'pesticides'] \n",
      "\n",
      "Termes spécifiques absents : {'développement', 'cassation', \"cour d'appel\", 'frelon', 'bisphénol a', 'parlementaires', 'résidus de pesticides', 'foetus', 'malformations', 'désherbant', 'cour', 'milieu', 'confédération paysanne', 'chlordécone', 'céréalier charentais', 'expositions', 'bisphénol', 'nature environnement'} \n",
      "\n"
     ]
    },
    {
     "data": {
      "text/html": [
       "Une étude lie les <mark style=\"background-color:pink\">troubles</mark> de déficits d'attention et d'hyperactivité à\n",
       "l'exposition des enfants aux <mark style=\"background-color:pink\">pesticides</mark>. http://bit.ly/ckNvIb"
      ],
      "text/plain": [
       "<IPython.core.display.HTML object>"
      ]
     },
     "metadata": {},
     "output_type": "display_data"
    },
    {
     "data": {
      "text/html": [
       "<h2 style='text-align:center;'> Texte 14290436642 (133 sur 286)</h2>"
      ],
      "text/plain": [
       "<IPython.core.display.HTML object>"
      ]
     },
     "metadata": {},
     "output_type": "display_data"
    },
    {
     "data": {
      "text/html": [
       "<strong>Segment :</strong> 0 (2010-02-01 ; 2010-08-31)"
      ],
      "text/plain": [
       "<IPython.core.display.HTML object>"
      ]
     },
     "metadata": {},
     "output_type": "display_data"
    },
    {
     "data": {
      "text/html": [
       "<strong>Date :</strong> 2010-05-19"
      ],
      "text/plain": [
       "<IPython.core.display.HTML object>"
      ]
     },
     "metadata": {},
     "output_type": "display_data"
    },
    {
     "data": {
      "text/html": [
       "<strong>Auteur :</strong> Ecologie_FR \n"
      ],
      "text/plain": [
       "<IPython.core.display.HTML object>"
      ]
     },
     "metadata": {},
     "output_type": "display_data"
    },
    {
     "name": "stdout",
     "output_type": "stream",
     "text": [
      "Termes indexés : ['antilles', 'pollution', 'pesticides', 'chlordécone'] \n",
      "\n",
      "Termes spécifiques présents : ['pesticides', 'chlordécone'] \n",
      "\n",
      "Termes spécifiques absents : {'développement', 'troubles', 'cassation', \"cour d'appel\", 'frelon', 'bisphénol a', 'parlementaires', 'résidus de pesticides', 'foetus', 'malformations', 'désherbant', 'cour', 'milieu', 'confédération paysanne', 'céréalier charentais', 'expositions', 'bisphénol', 'nature environnement'} \n",
      "\n"
     ]
    },
    {
     "data": {
      "text/html": [
       "<mark style=\"background-color:yellow\">antilles</mark> FRANçAISES/ <mark style=\"background-color:yellow\">pollution</mark>: Comment remédier à la <mark style=\"background-color:yellow\">pollution</mark> au pesticide <mark style=\"background-color:pink\">chlordécone</mark> ? (RFI): <mark style=\"background-color:yellow\">antilles</mark> françai... http://bit.ly/9yOvHZ"
      ],
      "text/plain": [
       "<IPython.core.display.HTML object>"
      ]
     },
     "metadata": {},
     "output_type": "display_data"
    },
    {
     "data": {
      "text/html": [
       "<h2 style='text-align:center;'> Texte 14263936516 (134 sur 286)</h2>"
      ],
      "text/plain": [
       "<IPython.core.display.HTML object>"
      ]
     },
     "metadata": {},
     "output_type": "display_data"
    },
    {
     "data": {
      "text/html": [
       "<strong>Segment :</strong> 0 (2010-02-01 ; 2010-08-31)"
      ],
      "text/plain": [
       "<IPython.core.display.HTML object>"
      ]
     },
     "metadata": {},
     "output_type": "display_data"
    },
    {
     "data": {
      "text/html": [
       "<strong>Date :</strong> 2010-05-19"
      ],
      "text/plain": [
       "<IPython.core.display.HTML object>"
      ]
     },
     "metadata": {},
     "output_type": "display_data"
    },
    {
     "data": {
      "text/html": [
       "<strong>Auteur :</strong> Découvrir les DomTom \n"
      ],
      "text/plain": [
       "<IPython.core.display.HTML object>"
      ]
     },
     "metadata": {},
     "output_type": "display_data"
    },
    {
     "name": "stdout",
     "output_type": "stream",
     "text": [
      "Termes indexés : ['martinique', 'guadeloupe', 'pesticides', 'chlordécone'] \n",
      "\n",
      "Termes spécifiques présents : ['pesticides', 'chlordécone'] \n",
      "\n",
      "Termes spécifiques absents : {'développement', 'troubles', 'cassation', \"cour d'appel\", 'frelon', 'bisphénol a', 'parlementaires', 'résidus de pesticides', 'foetus', 'malformations', 'désherbant', 'cour', 'milieu', 'confédération paysanne', 'céréalier charentais', 'expositions', 'bisphénol', 'nature environnement'} \n",
      "\n"
     ]
    },
    {
     "data": {
      "text/html": [
       "Séminaire en <mark style=\"background-color:yellow\">martinique</mark> et <mark style=\"background-color:yellow\">guadeloupe</mark> sur le pesticide <mark style=\"background-color:pink\">chlordécone</mark> - Romandie.com: http://shorten.ws/910895"
      ],
      "text/plain": [
       "<IPython.core.display.HTML object>"
      ]
     },
     "metadata": {},
     "output_type": "display_data"
    },
    {
     "data": {
      "text/html": [
       "<h2 style='text-align:center;'> Texte 14263941666 (135 sur 286)</h2>"
      ],
      "text/plain": [
       "<IPython.core.display.HTML object>"
      ]
     },
     "metadata": {},
     "output_type": "display_data"
    },
    {
     "data": {
      "text/html": [
       "<strong>Segment :</strong> 0 (2010-02-01 ; 2010-08-31)"
      ],
      "text/plain": [
       "<IPython.core.display.HTML object>"
      ]
     },
     "metadata": {},
     "output_type": "display_data"
    },
    {
     "data": {
      "text/html": [
       "<strong>Date :</strong> 2010-05-19"
      ],
      "text/plain": [
       "<IPython.core.display.HTML object>"
      ]
     },
     "metadata": {},
     "output_type": "display_data"
    },
    {
     "data": {
      "text/html": [
       "<strong>Auteur :</strong> Découvrir les DomTom \n"
      ],
      "text/plain": [
       "<IPython.core.display.HTML object>"
      ]
     },
     "metadata": {},
     "output_type": "display_data"
    },
    {
     "name": "stdout",
     "output_type": "stream",
     "text": [
      "Termes indexés : ['martinique', 'guadeloupe', 'pesticides', 'chlordécone'] \n",
      "\n",
      "Termes spécifiques présents : ['pesticides', 'chlordécone'] \n",
      "\n",
      "Termes spécifiques absents : {'développement', 'troubles', 'cassation', \"cour d'appel\", 'frelon', 'bisphénol a', 'parlementaires', 'résidus de pesticides', 'foetus', 'malformations', 'désherbant', 'cour', 'milieu', 'confédération paysanne', 'céréalier charentais', 'expositions', 'bisphénol', 'nature environnement'} \n",
      "\n"
     ]
    },
    {
     "data": {
      "text/html": [
       "Séminaire en <mark style=\"background-color:yellow\">martinique</mark> et <mark style=\"background-color:yellow\">guadeloupe</mark> sur le pesticide <mark style=\"background-color:pink\">chlordécone</mark> - Romandie.com: http://shorten.ws/f7b61e"
      ],
      "text/plain": [
       "<IPython.core.display.HTML object>"
      ]
     },
     "metadata": {},
     "output_type": "display_data"
    },
    {
     "data": {
      "text/html": [
       "<h2 style='text-align:center;'> Texte 14263947685 (136 sur 286)</h2>"
      ],
      "text/plain": [
       "<IPython.core.display.HTML object>"
      ]
     },
     "metadata": {},
     "output_type": "display_data"
    },
    {
     "data": {
      "text/html": [
       "<strong>Segment :</strong> 0 (2010-02-01 ; 2010-08-31)"
      ],
      "text/plain": [
       "<IPython.core.display.HTML object>"
      ]
     },
     "metadata": {},
     "output_type": "display_data"
    },
    {
     "data": {
      "text/html": [
       "<strong>Date :</strong> 2010-05-19"
      ],
      "text/plain": [
       "<IPython.core.display.HTML object>"
      ]
     },
     "metadata": {},
     "output_type": "display_data"
    },
    {
     "data": {
      "text/html": [
       "<strong>Auteur :</strong> Découvrir les DomTom \n"
      ],
      "text/plain": [
       "<IPython.core.display.HTML object>"
      ]
     },
     "metadata": {},
     "output_type": "display_data"
    },
    {
     "name": "stdout",
     "output_type": "stream",
     "text": [
      "Termes indexés : ['martinique', 'guadeloupe', 'pesticides', 'chlordécone'] \n",
      "\n",
      "Termes spécifiques présents : ['pesticides', 'chlordécone'] \n",
      "\n",
      "Termes spécifiques absents : {'développement', 'troubles', 'cassation', \"cour d'appel\", 'frelon', 'bisphénol a', 'parlementaires', 'résidus de pesticides', 'foetus', 'malformations', 'désherbant', 'cour', 'milieu', 'confédération paysanne', 'céréalier charentais', 'expositions', 'bisphénol', 'nature environnement'} \n",
      "\n"
     ]
    },
    {
     "data": {
      "text/html": [
       "Séminaire en <mark style=\"background-color:yellow\">martinique</mark> et <mark style=\"background-color:yellow\">guadeloupe</mark> sur le pesticide <mark style=\"background-color:pink\">chlordécone</mark> - Romandie.com: http://shorten.ws/87c4fb"
      ],
      "text/plain": [
       "<IPython.core.display.HTML object>"
      ]
     },
     "metadata": {},
     "output_type": "display_data"
    },
    {
     "data": {
      "text/html": [
       "<h2 style='text-align:center;'> Texte 14289168829 (137 sur 286)</h2>"
      ],
      "text/plain": [
       "<IPython.core.display.HTML object>"
      ]
     },
     "metadata": {},
     "output_type": "display_data"
    },
    {
     "data": {
      "text/html": [
       "<strong>Segment :</strong> 0 (2010-02-01 ; 2010-08-31)"
      ],
      "text/plain": [
       "<IPython.core.display.HTML object>"
      ]
     },
     "metadata": {},
     "output_type": "display_data"
    },
    {
     "data": {
      "text/html": [
       "<strong>Date :</strong> 2010-05-19"
      ],
      "text/plain": [
       "<IPython.core.display.HTML object>"
      ]
     },
     "metadata": {},
     "output_type": "display_data"
    },
    {
     "data": {
      "text/html": [
       "<strong>Auteur :</strong> RFI \n"
      ],
      "text/plain": [
       "<IPython.core.display.HTML object>"
      ]
     },
     "metadata": {},
     "output_type": "display_data"
    },
    {
     "name": "stdout",
     "output_type": "stream",
     "text": [
      "Termes indexés : ['antilles', 'pollution', 'pesticides', 'chlordécone'] \n",
      "\n",
      "Termes spécifiques présents : ['pesticides', 'chlordécone'] \n",
      "\n",
      "Termes spécifiques absents : {'développement', 'troubles', 'cassation', \"cour d'appel\", 'frelon', 'bisphénol a', 'parlementaires', 'résidus de pesticides', 'foetus', 'malformations', 'désherbant', 'cour', 'milieu', 'confédération paysanne', 'céréalier charentais', 'expositions', 'bisphénol', 'nature environnement'} \n",
      "\n"
     ]
    },
    {
     "data": {
      "text/html": [
       "<mark style=\"background-color:yellow\">antilles</mark> françaises/ <mark style=\"background-color:yellow\">pollution</mark> - Comment remédier à la <mark style=\"background-color:yellow\">pollution</mark> au pesticide <mark style=\"background-color:pink\">chlordécone</mark> ? http://www.rfi.fr/node/168977"
      ],
      "text/plain": [
       "<IPython.core.display.HTML object>"
      ]
     },
     "metadata": {},
     "output_type": "display_data"
    },
    {
     "data": {
      "text/html": [
       "<h2 style='text-align:center;'> Texte 14289215654 (138 sur 286)</h2>"
      ],
      "text/plain": [
       "<IPython.core.display.HTML object>"
      ]
     },
     "metadata": {},
     "output_type": "display_data"
    },
    {
     "data": {
      "text/html": [
       "<strong>Segment :</strong> 0 (2010-02-01 ; 2010-08-31)"
      ],
      "text/plain": [
       "<IPython.core.display.HTML object>"
      ]
     },
     "metadata": {},
     "output_type": "display_data"
    },
    {
     "data": {
      "text/html": [
       "<strong>Date :</strong> 2010-05-19"
      ],
      "text/plain": [
       "<IPython.core.display.HTML object>"
      ]
     },
     "metadata": {},
     "output_type": "display_data"
    },
    {
     "data": {
      "text/html": [
       "<strong>Auteur :</strong> Daniel MORGAN \n"
      ],
      "text/plain": [
       "<IPython.core.display.HTML object>"
      ]
     },
     "metadata": {},
     "output_type": "display_data"
    },
    {
     "name": "stdout",
     "output_type": "stream",
     "text": [
      "Termes indexés : ['parlementaires', 'pesticides'] \n",
      "\n",
      "Termes spécifiques présents : ['parlementaires', 'pesticides'] \n",
      "\n",
      "Termes spécifiques absents : {'développement', 'troubles', 'cassation', \"cour d'appel\", 'frelon', 'bisphénol a', 'résidus de pesticides', 'foetus', 'malformations', 'désherbant', 'cour', 'milieu', 'confédération paysanne', 'chlordécone', 'céréalier charentais', 'expositions', 'bisphénol', 'nature environnement'} \n",
      "\n"
     ]
    },
    {
     "data": {
      "text/html": [
       "\"L'invraisemblable rapport parlementaire sur les <mark style=\"background-color:pink\">pesticides</mark> | Rue89\" ( http://bit.ly/dfqIKg )"
      ],
      "text/plain": [
       "<IPython.core.display.HTML object>"
      ]
     },
     "metadata": {},
     "output_type": "display_data"
    },
    {
     "data": {
      "text/html": [
       "<h2 style='text-align:center;'> Texte 14289449486 (139 sur 286)</h2>"
      ],
      "text/plain": [
       "<IPython.core.display.HTML object>"
      ]
     },
     "metadata": {},
     "output_type": "display_data"
    },
    {
     "data": {
      "text/html": [
       "<strong>Segment :</strong> 0 (2010-02-01 ; 2010-08-31)"
      ],
      "text/plain": [
       "<IPython.core.display.HTML object>"
      ]
     },
     "metadata": {},
     "output_type": "display_data"
    },
    {
     "data": {
      "text/html": [
       "<strong>Date :</strong> 2010-05-19"
      ],
      "text/plain": [
       "<IPython.core.display.HTML object>"
      ]
     },
     "metadata": {},
     "output_type": "display_data"
    },
    {
     "data": {
      "text/html": [
       "<strong>Auteur :</strong> I Want! News \n"
      ],
      "text/plain": [
       "<IPython.core.display.HTML object>"
      ]
     },
     "metadata": {},
     "output_type": "display_data"
    },
    {
     "name": "stdout",
     "output_type": "stream",
     "text": [
      "Termes indexés : ['antilles', 'pollution', 'pesticides', 'chlordécone'] \n",
      "\n",
      "Termes spécifiques présents : ['pesticides', 'chlordécone'] \n",
      "\n",
      "Termes spécifiques absents : {'développement', 'troubles', 'cassation', \"cour d'appel\", 'frelon', 'bisphénol a', 'parlementaires', 'résidus de pesticides', 'foetus', 'malformations', 'désherbant', 'cour', 'milieu', 'confédération paysanne', 'céréalier charentais', 'expositions', 'bisphénol', 'nature environnement'} \n",
      "\n"
     ]
    },
    {
     "data": {
      "text/html": [
       "InfosWorld (FR) : <mark style=\"background-color:yellow\">antilles</mark> FRANçAISES/ <mark style=\"background-color:yellow\">pollution</mark>: Comment remédier à la <mark style=\"background-color:yellow\">pollution</mark> au pesticide <mark style=\"background-color:pink\">chlordécone</mark> ? http://bit.ly/dd88gr - #Rfi"
      ],
      "text/plain": [
       "<IPython.core.display.HTML object>"
      ]
     },
     "metadata": {},
     "output_type": "display_data"
    },
    {
     "data": {
      "text/html": [
       "<h2 style='text-align:center;'> Texte 14315378433 (140 sur 286)</h2>"
      ],
      "text/plain": [
       "<IPython.core.display.HTML object>"
      ]
     },
     "metadata": {},
     "output_type": "display_data"
    },
    {
     "data": {
      "text/html": [
       "<strong>Segment :</strong> 0 (2010-02-01 ; 2010-08-31)"
      ],
      "text/plain": [
       "<IPython.core.display.HTML object>"
      ]
     },
     "metadata": {},
     "output_type": "display_data"
    },
    {
     "data": {
      "text/html": [
       "<strong>Date :</strong> 2010-05-19"
      ],
      "text/plain": [
       "<IPython.core.display.HTML object>"
      ]
     },
     "metadata": {},
     "output_type": "display_data"
    },
    {
     "data": {
      "text/html": [
       "<strong>Auteur :</strong> Coach parental \n"
      ],
      "text/plain": [
       "<IPython.core.display.HTML object>"
      ]
     },
     "metadata": {},
     "output_type": "display_data"
    },
    {
     "name": "stdout",
     "output_type": "stream",
     "text": [
      "Termes indexés : ['pesticides', 'troubles'] \n",
      "\n",
      "Termes spécifiques présents : ['pesticides', 'troubles'] \n",
      "\n",
      "Termes spécifiques absents : {'développement', 'cassation', \"cour d'appel\", 'frelon', 'bisphénol a', 'parlementaires', 'résidus de pesticides', 'foetus', 'malformations', 'désherbant', 'cour', 'milieu', 'confédération paysanne', 'chlordécone', 'céréalier charentais', 'expositions', 'bisphénol', 'nature environnement'} \n",
      "\n"
     ]
    },
    {
     "data": {
      "text/html": [
       "RT @Naitreetgrandir: \"Lien possible entre <mark style=\"background-color:pink\">pesticides</mark> et trouble de l'attention chez l'enfant\"http://snipurl.com/wj71r"
      ],
      "text/plain": [
       "<IPython.core.display.HTML object>"
      ]
     },
     "metadata": {},
     "output_type": "display_data"
    },
    {
     "data": {
      "text/html": [
       "<h2 style='text-align:center;'> Texte 14308052339 (141 sur 286)</h2>"
      ],
      "text/plain": [
       "<IPython.core.display.HTML object>"
      ]
     },
     "metadata": {},
     "output_type": "display_data"
    },
    {
     "data": {
      "text/html": [
       "<strong>Segment :</strong> 0 (2010-02-01 ; 2010-08-31)"
      ],
      "text/plain": [
       "<IPython.core.display.HTML object>"
      ]
     },
     "metadata": {},
     "output_type": "display_data"
    },
    {
     "data": {
      "text/html": [
       "<strong>Date :</strong> 2010-05-19"
      ],
      "text/plain": [
       "<IPython.core.display.HTML object>"
      ]
     },
     "metadata": {},
     "output_type": "display_data"
    },
    {
     "data": {
      "text/html": [
       "<strong>Auteur :</strong> Naître et grandir \n"
      ],
      "text/plain": [
       "<IPython.core.display.HTML object>"
      ]
     },
     "metadata": {},
     "output_type": "display_data"
    },
    {
     "name": "stdout",
     "output_type": "stream",
     "text": [
      "Termes indexés : ['pesticides', 'troubles'] \n",
      "\n",
      "Termes spécifiques présents : ['pesticides', 'troubles'] \n",
      "\n",
      "Termes spécifiques absents : {'développement', 'cassation', \"cour d'appel\", 'frelon', 'bisphénol a', 'parlementaires', 'résidus de pesticides', 'foetus', 'malformations', 'désherbant', 'cour', 'milieu', 'confédération paysanne', 'chlordécone', 'céréalier charentais', 'expositions', 'bisphénol', 'nature environnement'} \n",
      "\n"
     ]
    },
    {
     "data": {
      "text/html": [
       "\"Lien possible entre <mark style=\"background-color:pink\">pesticides</mark> et trouble de l'attention chez l'enfant\"\n",
       "http://snipurl.com/wj71r"
      ],
      "text/plain": [
       "<IPython.core.display.HTML object>"
      ]
     },
     "metadata": {},
     "output_type": "display_data"
    },
    {
     "data": {
      "text/html": [
       "<h2 style='text-align:center;'> Texte 14298207919 (142 sur 286)</h2>"
      ],
      "text/plain": [
       "<IPython.core.display.HTML object>"
      ]
     },
     "metadata": {},
     "output_type": "display_data"
    },
    {
     "data": {
      "text/html": [
       "<strong>Segment :</strong> 0 (2010-02-01 ; 2010-08-31)"
      ],
      "text/plain": [
       "<IPython.core.display.HTML object>"
      ]
     },
     "metadata": {},
     "output_type": "display_data"
    },
    {
     "data": {
      "text/html": [
       "<strong>Date :</strong> 2010-05-19"
      ],
      "text/plain": [
       "<IPython.core.display.HTML object>"
      ]
     },
     "metadata": {},
     "output_type": "display_data"
    },
    {
     "data": {
      "text/html": [
       "<strong>Auteur :</strong> PasseportSanté \n"
      ],
      "text/plain": [
       "<IPython.core.display.HTML object>"
      ]
     },
     "metadata": {},
     "output_type": "display_data"
    },
    {
     "name": "stdout",
     "output_type": "stream",
     "text": [
      "Termes indexés : ['pesticides', 'troubles'] \n",
      "\n",
      "Termes spécifiques présents : ['pesticides', 'troubles'] \n",
      "\n",
      "Termes spécifiques absents : {'développement', 'cassation', \"cour d'appel\", 'frelon', 'bisphénol a', 'parlementaires', 'résidus de pesticides', 'foetus', 'malformations', 'désherbant', 'cour', 'milieu', 'confédération paysanne', 'chlordécone', 'céréalier charentais', 'expositions', 'bisphénol', 'nature environnement'} \n",
      "\n"
     ]
    },
    {
     "data": {
      "text/html": [
       "Lien possible entre <mark style=\"background-color:pink\">pesticides</mark> et trouble de l'attention chez l'enfant http://bit.ly/cvUpnk"
      ],
      "text/plain": [
       "<IPython.core.display.HTML object>"
      ]
     },
     "metadata": {},
     "output_type": "display_data"
    },
    {
     "data": {
      "text/html": [
       "<h2 style='text-align:center;'> Texte 14289993922 (143 sur 286)</h2>"
      ],
      "text/plain": [
       "<IPython.core.display.HTML object>"
      ]
     },
     "metadata": {},
     "output_type": "display_data"
    },
    {
     "data": {
      "text/html": [
       "<strong>Segment :</strong> 0 (2010-02-01 ; 2010-08-31)"
      ],
      "text/plain": [
       "<IPython.core.display.HTML object>"
      ]
     },
     "metadata": {},
     "output_type": "display_data"
    },
    {
     "data": {
      "text/html": [
       "<strong>Date :</strong> 2010-05-19"
      ],
      "text/plain": [
       "<IPython.core.display.HTML object>"
      ]
     },
     "metadata": {},
     "output_type": "display_data"
    },
    {
     "data": {
      "text/html": [
       "<strong>Auteur :</strong> Alberto Corsini \n"
      ],
      "text/plain": [
       "<IPython.core.display.HTML object>"
      ]
     },
     "metadata": {},
     "output_type": "display_data"
    },
    {
     "name": "stdout",
     "output_type": "stream",
     "text": [
      "Termes indexés : ['antilles', 'pollution', 'pesticides', 'chlordécone'] \n",
      "\n",
      "Termes spécifiques présents : ['pesticides', 'chlordécone'] \n",
      "\n",
      "Termes spécifiques absents : {'développement', 'troubles', 'cassation', \"cour d'appel\", 'frelon', 'bisphénol a', 'parlementaires', 'résidus de pesticides', 'foetus', 'malformations', 'désherbant', 'cour', 'milieu', 'confédération paysanne', 'céréalier charentais', 'expositions', 'bisphénol', 'nature environnement'} \n",
      "\n"
     ]
    },
    {
     "data": {
      "text/html": [
       "RFI <mark style=\"background-color:yellow\">antilles</mark> FRANçAISES/ <mark style=\"background-color:yellow\">pollution</mark>: Comment remédier à la <mark style=\"background-color:yellow\">pollution</mark> au pesticide <mark style=\"background-color:pink\">chlordécone</mark> ?: \n",
       "\n",
       " ... http://bit.ly/9WtXdz"
      ],
      "text/plain": [
       "<IPython.core.display.HTML object>"
      ]
     },
     "metadata": {},
     "output_type": "display_data"
    },
    {
     "data": {
      "text/html": [
       "<h2 style='text-align:center;'> Texte 14263978550 (144 sur 286)</h2>"
      ],
      "text/plain": [
       "<IPython.core.display.HTML object>"
      ]
     },
     "metadata": {},
     "output_type": "display_data"
    },
    {
     "data": {
      "text/html": [
       "<strong>Segment :</strong> 0 (2010-02-01 ; 2010-08-31)"
      ],
      "text/plain": [
       "<IPython.core.display.HTML object>"
      ]
     },
     "metadata": {},
     "output_type": "display_data"
    },
    {
     "data": {
      "text/html": [
       "<strong>Date :</strong> 2010-05-19"
      ],
      "text/plain": [
       "<IPython.core.display.HTML object>"
      ]
     },
     "metadata": {},
     "output_type": "display_data"
    },
    {
     "data": {
      "text/html": [
       "<strong>Auteur :</strong> Découvrir les DomTom \n"
      ],
      "text/plain": [
       "<IPython.core.display.HTML object>"
      ]
     },
     "metadata": {},
     "output_type": "display_data"
    },
    {
     "name": "stdout",
     "output_type": "stream",
     "text": [
      "Termes indexés : ['martinique', 'guadeloupe', 'pesticides', 'chlordécone'] \n",
      "\n",
      "Termes spécifiques présents : ['pesticides', 'chlordécone'] \n",
      "\n",
      "Termes spécifiques absents : {'développement', 'troubles', 'cassation', \"cour d'appel\", 'frelon', 'bisphénol a', 'parlementaires', 'résidus de pesticides', 'foetus', 'malformations', 'désherbant', 'cour', 'milieu', 'confédération paysanne', 'céréalier charentais', 'expositions', 'bisphénol', 'nature environnement'} \n",
      "\n"
     ]
    },
    {
     "data": {
      "text/html": [
       "Séminaire en <mark style=\"background-color:yellow\">martinique</mark> et <mark style=\"background-color:yellow\">guadeloupe</mark> sur le pesticide <mark style=\"background-color:pink\">chlordécone</mark> - Romandie.com: http://shorten.ws/e51670"
      ],
      "text/plain": [
       "<IPython.core.display.HTML object>"
      ]
     },
     "metadata": {},
     "output_type": "display_data"
    },
    {
     "data": {
      "text/html": [
       "<h2 style='text-align:center;'> Texte 14412789537 (145 sur 286)</h2>"
      ],
      "text/plain": [
       "<IPython.core.display.HTML object>"
      ]
     },
     "metadata": {},
     "output_type": "display_data"
    },
    {
     "data": {
      "text/html": [
       "<strong>Segment :</strong> 0 (2010-02-01 ; 2010-08-31)"
      ],
      "text/plain": [
       "<IPython.core.display.HTML object>"
      ]
     },
     "metadata": {},
     "output_type": "display_data"
    },
    {
     "data": {
      "text/html": [
       "<strong>Date :</strong> 2010-05-21"
      ],
      "text/plain": [
       "<IPython.core.display.HTML object>"
      ]
     },
     "metadata": {},
     "output_type": "display_data"
    },
    {
     "data": {
      "text/html": [
       "<strong>Auteur :</strong> Docu_doc \n"
      ],
      "text/plain": [
       "<IPython.core.display.HTML object>"
      ]
     },
     "metadata": {},
     "output_type": "display_data"
    },
    {
     "name": "stdout",
     "output_type": "stream",
     "text": [
      "Termes indexés : ['expositions', 'pesticides', 'cancers'] \n",
      "\n",
      "Termes spécifiques présents : ['expositions', 'pesticides'] \n",
      "\n",
      "Termes spécifiques absents : {'développement', 'troubles', 'cassation', \"cour d'appel\", 'frelon', 'bisphénol a', 'parlementaires', 'résidus de pesticides', 'foetus', 'malformations', 'désherbant', 'cour', 'milieu', 'confédération paysanne', 'chlordécone', 'céréalier charentais', 'bisphénol', 'nature environnement'} \n",
      "\n"
     ]
    },
    {
     "data": {
      "text/html": [
       "Exposition professionnelle au terbufos (pesticide) et risque de cancer http://is.gd/cizwo"
      ],
      "text/plain": [
       "<IPython.core.display.HTML object>"
      ]
     },
     "metadata": {},
     "output_type": "display_data"
    },
    {
     "data": {
      "text/html": [
       "<h2 style='text-align:center;'> Texte 14565104100 (146 sur 286)</h2>"
      ],
      "text/plain": [
       "<IPython.core.display.HTML object>"
      ]
     },
     "metadata": {},
     "output_type": "display_data"
    },
    {
     "data": {
      "text/html": [
       "<strong>Segment :</strong> 0 (2010-02-01 ; 2010-08-31)"
      ],
      "text/plain": [
       "<IPython.core.display.HTML object>"
      ]
     },
     "metadata": {},
     "output_type": "display_data"
    },
    {
     "data": {
      "text/html": [
       "<strong>Date :</strong> 2010-05-23"
      ],
      "text/plain": [
       "<IPython.core.display.HTML object>"
      ]
     },
     "metadata": {},
     "output_type": "display_data"
    },
    {
     "data": {
      "text/html": [
       "<strong>Auteur :</strong> Ecologie_FR \n"
      ],
      "text/plain": [
       "<IPython.core.display.HTML object>"
      ]
     },
     "metadata": {},
     "output_type": "display_data"
    },
    {
     "name": "stdout",
     "output_type": "stream",
     "text": [
      "Termes indexés : ['pesticides', 'chlordécone', 'guadeloupe'] \n",
      "\n",
      "Termes spécifiques présents : ['pesticides', 'chlordécone'] \n",
      "\n",
      "Termes spécifiques absents : {'développement', 'troubles', 'cassation', \"cour d'appel\", 'frelon', 'bisphénol a', 'parlementaires', 'résidus de pesticides', 'foetus', 'malformations', 'désherbant', 'cour', 'milieu', 'confédération paysanne', 'céréalier charentais', 'expositions', 'bisphénol', 'nature environnement'} \n",
      "\n"
     ]
    },
    {
     "data": {
      "text/html": [
       "Pesticide et empoisonnement : la <mark style=\"background-color:pink\">chlordécone</mark> revient en <mark style=\"background-color:yellow\">guadeloupe</mark> (Le Post): La <mark style=\"background-color:pink\">chlordécone</mark> revient subversivemen... http://bit.ly/aW3XA8"
      ],
      "text/plain": [
       "<IPython.core.display.HTML object>"
      ]
     },
     "metadata": {},
     "output_type": "display_data"
    },
    {
     "data": {
      "text/html": [
       "<h2 style='text-align:center;'> Texte 14637715145 (147 sur 286)</h2>"
      ],
      "text/plain": [
       "<IPython.core.display.HTML object>"
      ]
     },
     "metadata": {},
     "output_type": "display_data"
    },
    {
     "data": {
      "text/html": [
       "<strong>Segment :</strong> 0 (2010-02-01 ; 2010-08-31)"
      ],
      "text/plain": [
       "<IPython.core.display.HTML object>"
      ]
     },
     "metadata": {},
     "output_type": "display_data"
    },
    {
     "data": {
      "text/html": [
       "<strong>Date :</strong> 2010-05-24"
      ],
      "text/plain": [
       "<IPython.core.display.HTML object>"
      ]
     },
     "metadata": {},
     "output_type": "display_data"
    },
    {
     "data": {
      "text/html": [
       "<strong>Auteur :</strong> Yannik Poirier \n"
      ],
      "text/plain": [
       "<IPython.core.display.HTML object>"
      ]
     },
     "metadata": {},
     "output_type": "display_data"
    },
    {
     "name": "stdout",
     "output_type": "stream",
     "text": [
      "Termes indexés : ['pesticides', 'troubles'] \n",
      "\n",
      "Termes spécifiques présents : ['pesticides', 'troubles'] \n",
      "\n",
      "Termes spécifiques absents : {'développement', 'cassation', \"cour d'appel\", 'frelon', 'bisphénol a', 'parlementaires', 'résidus de pesticides', 'foetus', 'malformations', 'désherbant', 'cour', 'milieu', 'confédération paysanne', 'chlordécone', 'céréalier charentais', 'expositions', 'bisphénol', 'nature environnement'} \n",
      "\n"
     ]
    },
    {
     "data": {
      "text/html": [
       "Lien possible entre <mark style=\"background-color:pink\">pesticides</mark> et trouble de l'attention chez l'enfant http://bit.ly/bbmA6A"
      ],
      "text/plain": [
       "<IPython.core.display.HTML object>"
      ]
     },
     "metadata": {},
     "output_type": "display_data"
    },
    {
     "data": {
      "text/html": [
       "<h2 style='text-align:center;'> Texte 14908258514 (148 sur 286)</h2>"
      ],
      "text/plain": [
       "<IPython.core.display.HTML object>"
      ]
     },
     "metadata": {},
     "output_type": "display_data"
    },
    {
     "data": {
      "text/html": [
       "<strong>Segment :</strong> 0 (2010-02-01 ; 2010-08-31)"
      ],
      "text/plain": [
       "<IPython.core.display.HTML object>"
      ]
     },
     "metadata": {},
     "output_type": "display_data"
    },
    {
     "data": {
      "text/html": [
       "<strong>Date :</strong> 2010-05-28"
      ],
      "text/plain": [
       "<IPython.core.display.HTML object>"
      ]
     },
     "metadata": {},
     "output_type": "display_data"
    },
    {
     "data": {
      "text/html": [
       "<strong>Auteur :</strong> tribecura \n"
      ],
      "text/plain": [
       "<IPython.core.display.HTML object>"
      ]
     },
     "metadata": {},
     "output_type": "display_data"
    },
    {
     "name": "stdout",
     "output_type": "stream",
     "text": [
      "Termes indexés : ['pesticides', 'troubles'] \n",
      "\n",
      "Termes spécifiques présents : ['pesticides', 'troubles'] \n",
      "\n",
      "Termes spécifiques absents : {'développement', 'cassation', \"cour d'appel\", 'frelon', 'bisphénol a', 'parlementaires', 'résidus de pesticides', 'foetus', 'malformations', 'désherbant', 'cour', 'milieu', 'confédération paysanne', 'chlordécone', 'céréalier charentais', 'expositions', 'bisphénol', 'nature environnement'} \n",
      "\n"
     ]
    },
    {
     "data": {
      "text/html": [
       "TribeCura: Les <mark style=\"background-color:pink\">pesticides</mark> favoriseraient les <mark style=\"background-color:pink\">troubles</mark> de l'attention chez les enfants - LeMonde.fr http://bit.ly/cxTqh4"
      ],
      "text/plain": [
       "<IPython.core.display.HTML object>"
      ]
     },
     "metadata": {},
     "output_type": "display_data"
    },
    {
     "data": {
      "text/html": [
       "<h2 style='text-align:center;'> Texte 14901960118 (149 sur 286)</h2>"
      ],
      "text/plain": [
       "<IPython.core.display.HTML object>"
      ]
     },
     "metadata": {},
     "output_type": "display_data"
    },
    {
     "data": {
      "text/html": [
       "<strong>Segment :</strong> 0 (2010-02-01 ; 2010-08-31)"
      ],
      "text/plain": [
       "<IPython.core.display.HTML object>"
      ]
     },
     "metadata": {},
     "output_type": "display_data"
    },
    {
     "data": {
      "text/html": [
       "<strong>Date :</strong> 2010-05-28"
      ],
      "text/plain": [
       "<IPython.core.display.HTML object>"
      ]
     },
     "metadata": {},
     "output_type": "display_data"
    },
    {
     "data": {
      "text/html": [
       "<strong>Auteur :</strong> MLTereza \n"
      ],
      "text/plain": [
       "<IPython.core.display.HTML object>"
      ]
     },
     "metadata": {},
     "output_type": "display_data"
    },
    {
     "name": "stdout",
     "output_type": "stream",
     "text": [
      "Termes indexés : ['pesticides', 'troubles'] \n",
      "\n",
      "Termes spécifiques présents : ['pesticides', 'troubles'] \n",
      "\n",
      "Termes spécifiques absents : {'développement', 'cassation', \"cour d'appel\", 'frelon', 'bisphénol a', 'parlementaires', 'résidus de pesticides', 'foetus', 'malformations', 'désherbant', 'cour', 'milieu', 'confédération paysanne', 'chlordécone', 'céréalier charentais', 'expositions', 'bisphénol', 'nature environnement'} \n",
      "\n"
     ]
    },
    {
     "data": {
      "text/html": [
       "Les <mark style=\"background-color:pink\">pesticides</mark> favoriseraient les <mark style=\"background-color:pink\">troubles</mark> de l'attention chez les enfants http://bit.ly/bOLZQf  /cc @feedly"
      ],
      "text/plain": [
       "<IPython.core.display.HTML object>"
      ]
     },
     "metadata": {},
     "output_type": "display_data"
    },
    {
     "data": {
      "text/html": [
       "<h2 style='text-align:center;'> Texte 14912078083 (150 sur 286)</h2>"
      ],
      "text/plain": [
       "<IPython.core.display.HTML object>"
      ]
     },
     "metadata": {},
     "output_type": "display_data"
    },
    {
     "data": {
      "text/html": [
       "<strong>Segment :</strong> 0 (2010-02-01 ; 2010-08-31)"
      ],
      "text/plain": [
       "<IPython.core.display.HTML object>"
      ]
     },
     "metadata": {},
     "output_type": "display_data"
    },
    {
     "data": {
      "text/html": [
       "<strong>Date :</strong> 2010-05-28"
      ],
      "text/plain": [
       "<IPython.core.display.HTML object>"
      ]
     },
     "metadata": {},
     "output_type": "display_data"
    },
    {
     "data": {
      "text/html": [
       "<strong>Auteur :</strong> Girodmedical \n"
      ],
      "text/plain": [
       "<IPython.core.display.HTML object>"
      ]
     },
     "metadata": {},
     "output_type": "display_data"
    },
    {
     "name": "stdout",
     "output_type": "stream",
     "text": [
      "Termes indexés : ['pesticides', 'troubles'] \n",
      "\n",
      "Termes spécifiques présents : ['pesticides', 'troubles'] \n",
      "\n",
      "Termes spécifiques absents : {'développement', 'cassation', \"cour d'appel\", 'frelon', 'bisphénol a', 'parlementaires', 'résidus de pesticides', 'foetus', 'malformations', 'désherbant', 'cour', 'milieu', 'confédération paysanne', 'chlordécone', 'céréalier charentais', 'expositions', 'bisphénol', 'nature environnement'} \n",
      "\n"
     ]
    },
    {
     "data": {
      "text/html": [
       "Les <mark style=\"background-color:pink\">pesticides</mark> favoriseraient les <mark style=\"background-color:pink\">troubles</mark> de l'attention chez les enfants http://bit.ly/9WgvpK  #medical #toc #enfant"
      ],
      "text/plain": [
       "<IPython.core.display.HTML object>"
      ]
     },
     "metadata": {},
     "output_type": "display_data"
    },
    {
     "data": {
      "text/html": [
       "<h2 style='text-align:center;'> Texte 14935542194 (151 sur 286)</h2>"
      ],
      "text/plain": [
       "<IPython.core.display.HTML object>"
      ]
     },
     "metadata": {},
     "output_type": "display_data"
    },
    {
     "data": {
      "text/html": [
       "<strong>Segment :</strong> 0 (2010-02-01 ; 2010-08-31)"
      ],
      "text/plain": [
       "<IPython.core.display.HTML object>"
      ]
     },
     "metadata": {},
     "output_type": "display_data"
    },
    {
     "data": {
      "text/html": [
       "<strong>Date :</strong> 2010-05-28"
      ],
      "text/plain": [
       "<IPython.core.display.HTML object>"
      ]
     },
     "metadata": {},
     "output_type": "display_data"
    },
    {
     "data": {
      "text/html": [
       "<strong>Auteur :</strong> Taches-et-couleurs \n"
      ],
      "text/plain": [
       "<IPython.core.display.HTML object>"
      ]
     },
     "metadata": {},
     "output_type": "display_data"
    },
    {
     "name": "stdout",
     "output_type": "stream",
     "text": [
      "Termes indexés : ['pesticides', 'troubles'] \n",
      "\n",
      "Termes spécifiques présents : ['pesticides', 'troubles'] \n",
      "\n",
      "Termes spécifiques absents : {'développement', 'cassation', \"cour d'appel\", 'frelon', 'bisphénol a', 'parlementaires', 'résidus de pesticides', 'foetus', 'malformations', 'désherbant', 'cour', 'milieu', 'confédération paysanne', 'chlordécone', 'céréalier charentais', 'expositions', 'bisphénol', 'nature environnement'} \n",
      "\n"
     ]
    },
    {
     "data": {
      "text/html": [
       "Les <mark style=\"background-color:pink\">pesticides</mark> favoriseraient les <mark style=\"background-color:pink\">troubles</mark> de l'attention chez les enfants - LeMonde.fr http://bit.ly/bOLZQf"
      ],
      "text/plain": [
       "<IPython.core.display.HTML object>"
      ]
     },
     "metadata": {},
     "output_type": "display_data"
    },
    {
     "data": {
      "text/html": [
       "<h2 style='text-align:center;'> Texte 14898494066 (152 sur 286)</h2>"
      ],
      "text/plain": [
       "<IPython.core.display.HTML object>"
      ]
     },
     "metadata": {},
     "output_type": "display_data"
    },
    {
     "data": {
      "text/html": [
       "<strong>Segment :</strong> 0 (2010-02-01 ; 2010-08-31)"
      ],
      "text/plain": [
       "<IPython.core.display.HTML object>"
      ]
     },
     "metadata": {},
     "output_type": "display_data"
    },
    {
     "data": {
      "text/html": [
       "<strong>Date :</strong> 2010-05-28"
      ],
      "text/plain": [
       "<IPython.core.display.HTML object>"
      ]
     },
     "metadata": {},
     "output_type": "display_data"
    },
    {
     "data": {
      "text/html": [
       "<strong>Auteur :</strong> Arnaud@Thurudev \n"
      ],
      "text/plain": [
       "<IPython.core.display.HTML object>"
      ]
     },
     "metadata": {},
     "output_type": "display_data"
    },
    {
     "name": "stdout",
     "output_type": "stream",
     "text": [
      "Termes indexés : ['pesticides', 'troubles'] \n",
      "\n",
      "Termes spécifiques présents : ['pesticides', 'troubles'] \n",
      "\n",
      "Termes spécifiques absents : {'développement', 'cassation', \"cour d'appel\", 'frelon', 'bisphénol a', 'parlementaires', 'résidus de pesticides', 'foetus', 'malformations', 'désherbant', 'cour', 'milieu', 'confédération paysanne', 'chlordécone', 'céréalier charentais', 'expositions', 'bisphénol', 'nature environnement'} \n",
      "\n"
     ]
    },
    {
     "data": {
      "text/html": [
       "Bon appetit: Les <mark style=\"background-color:pink\">pesticides</mark> favoriseraient les <mark style=\"background-color:pink\">troubles</mark> de l'attention chez les enfants http://bit.ly/9hFuJX"
      ],
      "text/plain": [
       "<IPython.core.display.HTML object>"
      ]
     },
     "metadata": {},
     "output_type": "display_data"
    },
    {
     "data": {
      "text/html": [
       "<h2 style='text-align:center;'> Texte 14900008900 (153 sur 286)</h2>"
      ],
      "text/plain": [
       "<IPython.core.display.HTML object>"
      ]
     },
     "metadata": {},
     "output_type": "display_data"
    },
    {
     "data": {
      "text/html": [
       "<strong>Segment :</strong> 0 (2010-02-01 ; 2010-08-31)"
      ],
      "text/plain": [
       "<IPython.core.display.HTML object>"
      ]
     },
     "metadata": {},
     "output_type": "display_data"
    },
    {
     "data": {
      "text/html": [
       "<strong>Date :</strong> 2010-05-28"
      ],
      "text/plain": [
       "<IPython.core.display.HTML object>"
      ]
     },
     "metadata": {},
     "output_type": "display_data"
    },
    {
     "data": {
      "text/html": [
       "<strong>Auteur :</strong> RSS_LeMonde \n"
      ],
      "text/plain": [
       "<IPython.core.display.HTML object>"
      ]
     },
     "metadata": {},
     "output_type": "display_data"
    },
    {
     "name": "stdout",
     "output_type": "stream",
     "text": [
      "Termes indexés : ['pesticides', 'troubles'] \n",
      "\n",
      "Termes spécifiques présents : ['pesticides', 'troubles'] \n",
      "\n",
      "Termes spécifiques absents : {'développement', 'cassation', \"cour d'appel\", 'frelon', 'bisphénol a', 'parlementaires', 'résidus de pesticides', 'foetus', 'malformations', 'désherbant', 'cour', 'milieu', 'confédération paysanne', 'chlordécone', 'céréalier charentais', 'expositions', 'bisphénol', 'nature environnement'} \n",
      "\n"
     ]
    },
    {
     "data": {
      "text/html": [
       "Les <mark style=\"background-color:pink\">pesticides</mark> favoriseraient les <mark style=\"background-color:pink\">troubles</mark> de l'attention chez les enfants http://bit.ly/bosUpu"
      ],
      "text/plain": [
       "<IPython.core.display.HTML object>"
      ]
     },
     "metadata": {},
     "output_type": "display_data"
    },
    {
     "data": {
      "text/html": [
       "<h2 style='text-align:center;'> Texte 14900390513 (154 sur 286)</h2>"
      ],
      "text/plain": [
       "<IPython.core.display.HTML object>"
      ]
     },
     "metadata": {},
     "output_type": "display_data"
    },
    {
     "data": {
      "text/html": [
       "<strong>Segment :</strong> 0 (2010-02-01 ; 2010-08-31)"
      ],
      "text/plain": [
       "<IPython.core.display.HTML object>"
      ]
     },
     "metadata": {},
     "output_type": "display_data"
    },
    {
     "data": {
      "text/html": [
       "<strong>Date :</strong> 2010-05-28"
      ],
      "text/plain": [
       "<IPython.core.display.HTML object>"
      ]
     },
     "metadata": {},
     "output_type": "display_data"
    },
    {
     "data": {
      "text/html": [
       "<strong>Auteur :</strong> Vélocipédie \n"
      ],
      "text/plain": [
       "<IPython.core.display.HTML object>"
      ]
     },
     "metadata": {},
     "output_type": "display_data"
    },
    {
     "name": "stdout",
     "output_type": "stream",
     "text": [
      "Termes indexés : ['pesticides', 'troubles'] \n",
      "\n",
      "Termes spécifiques présents : ['pesticides', 'troubles'] \n",
      "\n",
      "Termes spécifiques absents : {'développement', 'cassation', \"cour d'appel\", 'frelon', 'bisphénol a', 'parlementaires', 'résidus de pesticides', 'foetus', 'malformations', 'désherbant', 'cour', 'milieu', 'confédération paysanne', 'chlordécone', 'céréalier charentais', 'expositions', 'bisphénol', 'nature environnement'} \n",
      "\n"
     ]
    },
    {
     "data": {
      "text/html": [
       "LeMonde :  Les <mark style=\"background-color:pink\">pesticides</mark> favoriseraient les <mark style=\"background-color:pink\">troubles</mark> de l'attention chez les enfants http://dlvr.it/1GZjp"
      ],
      "text/plain": [
       "<IPython.core.display.HTML object>"
      ]
     },
     "metadata": {},
     "output_type": "display_data"
    },
    {
     "data": {
      "text/html": [
       "<h2 style='text-align:center;'> Texte 14900390664 (155 sur 286)</h2>"
      ],
      "text/plain": [
       "<IPython.core.display.HTML object>"
      ]
     },
     "metadata": {},
     "output_type": "display_data"
    },
    {
     "data": {
      "text/html": [
       "<strong>Segment :</strong> 0 (2010-02-01 ; 2010-08-31)"
      ],
      "text/plain": [
       "<IPython.core.display.HTML object>"
      ]
     },
     "metadata": {},
     "output_type": "display_data"
    },
    {
     "data": {
      "text/html": [
       "<strong>Date :</strong> 2010-05-28"
      ],
      "text/plain": [
       "<IPython.core.display.HTML object>"
      ]
     },
     "metadata": {},
     "output_type": "display_data"
    },
    {
     "data": {
      "text/html": [
       "<strong>Auteur :</strong> MaudBuzzine \n"
      ],
      "text/plain": [
       "<IPython.core.display.HTML object>"
      ]
     },
     "metadata": {},
     "output_type": "display_data"
    },
    {
     "name": "stdout",
     "output_type": "stream",
     "text": [
      "Termes indexés : ['pesticides', 'troubles'] \n",
      "\n",
      "Termes spécifiques présents : ['pesticides', 'troubles'] \n",
      "\n",
      "Termes spécifiques absents : {'développement', 'cassation', \"cour d'appel\", 'frelon', 'bisphénol a', 'parlementaires', 'résidus de pesticides', 'foetus', 'malformations', 'désherbant', 'cour', 'milieu', 'confédération paysanne', 'chlordécone', 'céréalier charentais', 'expositions', 'bisphénol', 'nature environnement'} \n",
      "\n"
     ]
    },
    {
     "data": {
      "text/html": [
       "Les <mark style=\"background-color:pink\">pesticides</mark> favoriseraient les <mark style=\"background-color:pink\">troubles</mark> de l'attention chez les enfants http://tinyurl.com/2wv2ndh"
      ],
      "text/plain": [
       "<IPython.core.display.HTML object>"
      ]
     },
     "metadata": {},
     "output_type": "display_data"
    },
    {
     "data": {
      "text/html": [
       "<h2 style='text-align:center;'> Texte 14900423950 (156 sur 286)</h2>"
      ],
      "text/plain": [
       "<IPython.core.display.HTML object>"
      ]
     },
     "metadata": {},
     "output_type": "display_data"
    },
    {
     "data": {
      "text/html": [
       "<strong>Segment :</strong> 0 (2010-02-01 ; 2010-08-31)"
      ],
      "text/plain": [
       "<IPython.core.display.HTML object>"
      ]
     },
     "metadata": {},
     "output_type": "display_data"
    },
    {
     "data": {
      "text/html": [
       "<strong>Date :</strong> 2010-05-28"
      ],
      "text/plain": [
       "<IPython.core.display.HTML object>"
      ]
     },
     "metadata": {},
     "output_type": "display_data"
    },
    {
     "data": {
      "text/html": [
       "<strong>Auteur :</strong> nadya benyounes \n"
      ],
      "text/plain": [
       "<IPython.core.display.HTML object>"
      ]
     },
     "metadata": {},
     "output_type": "display_data"
    },
    {
     "name": "stdout",
     "output_type": "stream",
     "text": [
      "Termes indexés : ['pesticides', 'troubles'] \n",
      "\n",
      "Termes spécifiques présents : ['pesticides', 'troubles'] \n",
      "\n",
      "Termes spécifiques absents : {'développement', 'cassation', \"cour d'appel\", 'frelon', 'bisphénol a', 'parlementaires', 'résidus de pesticides', 'foetus', 'malformations', 'désherbant', 'cour', 'milieu', 'confédération paysanne', 'chlordécone', 'céréalier charentais', 'expositions', 'bisphénol', 'nature environnement'} \n",
      "\n"
     ]
    },
    {
     "data": {
      "text/html": [
       "RT @MaudBuisine: Les <mark style=\"background-color:pink\">pesticides</mark> favoriseraient les <mark style=\"background-color:pink\">troubles</mark> de l'attention chez les enfants http://tinyurl.com/2wv2ndh"
      ],
      "text/plain": [
       "<IPython.core.display.HTML object>"
      ]
     },
     "metadata": {},
     "output_type": "display_data"
    },
    {
     "data": {
      "text/html": [
       "<h2 style='text-align:center;'> Texte 14912086510 (157 sur 286)</h2>"
      ],
      "text/plain": [
       "<IPython.core.display.HTML object>"
      ]
     },
     "metadata": {},
     "output_type": "display_data"
    },
    {
     "data": {
      "text/html": [
       "<strong>Segment :</strong> 0 (2010-02-01 ; 2010-08-31)"
      ],
      "text/plain": [
       "<IPython.core.display.HTML object>"
      ]
     },
     "metadata": {},
     "output_type": "display_data"
    },
    {
     "data": {
      "text/html": [
       "<strong>Date :</strong> 2010-05-28"
      ],
      "text/plain": [
       "<IPython.core.display.HTML object>"
      ]
     },
     "metadata": {},
     "output_type": "display_data"
    },
    {
     "data": {
      "text/html": [
       "<strong>Auteur :</strong> Raphael Hutcheson \n"
      ],
      "text/plain": [
       "<IPython.core.display.HTML object>"
      ]
     },
     "metadata": {},
     "output_type": "display_data"
    },
    {
     "name": "stdout",
     "output_type": "stream",
     "text": [
      "Termes indexés : ['pesticides', 'troubles', 'monde'] \n",
      "\n",
      "Termes spécifiques présents : ['pesticides', 'troubles'] \n",
      "\n",
      "Termes spécifiques absents : {'développement', 'cassation', \"cour d'appel\", 'frelon', 'bisphénol a', 'parlementaires', 'résidus de pesticides', 'foetus', 'malformations', 'désherbant', 'cour', 'milieu', 'confédération paysanne', 'chlordécone', 'céréalier charentais', 'expositions', 'bisphénol', 'nature environnement'} \n",
      "\n"
     ]
    },
    {
     "data": {
      "text/html": [
       "Les <mark style=\"background-color:pink\">pesticides</mark> favoriseraient les <mark style=\"background-color:pink\">troubles</mark> de l'attention chez les ... - Le <mark style=\"background-color:yellow\">monde</mark> - http://tinyurl.com/3xnfbpb"
      ],
      "text/plain": [
       "<IPython.core.display.HTML object>"
      ]
     },
     "metadata": {},
     "output_type": "display_data"
    },
    {
     "data": {
      "text/html": [
       "<h2 style='text-align:center;'> Texte 14904079869 (158 sur 286)</h2>"
      ],
      "text/plain": [
       "<IPython.core.display.HTML object>"
      ]
     },
     "metadata": {},
     "output_type": "display_data"
    },
    {
     "data": {
      "text/html": [
       "<strong>Segment :</strong> 0 (2010-02-01 ; 2010-08-31)"
      ],
      "text/plain": [
       "<IPython.core.display.HTML object>"
      ]
     },
     "metadata": {},
     "output_type": "display_data"
    },
    {
     "data": {
      "text/html": [
       "<strong>Date :</strong> 2010-05-28"
      ],
      "text/plain": [
       "<IPython.core.display.HTML object>"
      ]
     },
     "metadata": {},
     "output_type": "display_data"
    },
    {
     "data": {
      "text/html": [
       "<strong>Auteur :</strong> Daniel MORGAN \n"
      ],
      "text/plain": [
       "<IPython.core.display.HTML object>"
      ]
     },
     "metadata": {},
     "output_type": "display_data"
    },
    {
     "name": "stdout",
     "output_type": "stream",
     "text": [
      "Termes indexés : ['pesticides', 'troubles'] \n",
      "\n",
      "Termes spécifiques présents : ['pesticides', 'troubles'] \n",
      "\n",
      "Termes spécifiques absents : {'développement', 'cassation', \"cour d'appel\", 'frelon', 'bisphénol a', 'parlementaires', 'résidus de pesticides', 'foetus', 'malformations', 'désherbant', 'cour', 'milieu', 'confédération paysanne', 'chlordécone', 'céréalier charentais', 'expositions', 'bisphénol', 'nature environnement'} \n",
      "\n"
     ]
    },
    {
     "data": {
      "text/html": [
       "\"Les <mark style=\"background-color:pink\">pesticides</mark> favoriseraient les <mark style=\"background-color:pink\">troubles</mark> de l'attention chez les enfants - LeMonde.fr\" ( http://bit.ly/czGOCQ )"
      ],
      "text/plain": [
       "<IPython.core.display.HTML object>"
      ]
     },
     "metadata": {},
     "output_type": "display_data"
    },
    {
     "data": {
      "text/html": [
       "<h2 style='text-align:center;'> Texte 14904988930 (159 sur 286)</h2>"
      ],
      "text/plain": [
       "<IPython.core.display.HTML object>"
      ]
     },
     "metadata": {},
     "output_type": "display_data"
    },
    {
     "data": {
      "text/html": [
       "<strong>Segment :</strong> 0 (2010-02-01 ; 2010-08-31)"
      ],
      "text/plain": [
       "<IPython.core.display.HTML object>"
      ]
     },
     "metadata": {},
     "output_type": "display_data"
    },
    {
     "data": {
      "text/html": [
       "<strong>Date :</strong> 2010-05-28"
      ],
      "text/plain": [
       "<IPython.core.display.HTML object>"
      ]
     },
     "metadata": {},
     "output_type": "display_data"
    },
    {
     "data": {
      "text/html": [
       "<strong>Auteur :</strong> Arnaud Ginions \n"
      ],
      "text/plain": [
       "<IPython.core.display.HTML object>"
      ]
     },
     "metadata": {},
     "output_type": "display_data"
    },
    {
     "name": "stdout",
     "output_type": "stream",
     "text": [
      "Termes indexés : ['pesticides', 'troubles'] \n",
      "\n",
      "Termes spécifiques présents : ['pesticides', 'troubles'] \n",
      "\n",
      "Termes spécifiques absents : {'développement', 'cassation', \"cour d'appel\", 'frelon', 'bisphénol a', 'parlementaires', 'résidus de pesticides', 'foetus', 'malformations', 'désherbant', 'cour', 'milieu', 'confédération paysanne', 'chlordécone', 'céréalier charentais', 'expositions', 'bisphénol', 'nature environnement'} \n",
      "\n"
     ]
    },
    {
     "data": {
      "text/html": [
       "RT @lemondefr : Les <mark style=\"background-color:pink\">pesticides</mark> favoriseraient les <mark style=\"background-color:pink\">troubles</mark> de l'attention chez les enfants http://www.lemonde.fr/tiny/1364251/"
      ],
      "text/plain": [
       "<IPython.core.display.HTML object>"
      ]
     },
     "metadata": {},
     "output_type": "display_data"
    },
    {
     "data": {
      "text/html": [
       "<h2 style='text-align:center;'> Texte 14906062401 (160 sur 286)</h2>"
      ],
      "text/plain": [
       "<IPython.core.display.HTML object>"
      ]
     },
     "metadata": {},
     "output_type": "display_data"
    },
    {
     "data": {
      "text/html": [
       "<strong>Segment :</strong> 0 (2010-02-01 ; 2010-08-31)"
      ],
      "text/plain": [
       "<IPython.core.display.HTML object>"
      ]
     },
     "metadata": {},
     "output_type": "display_data"
    },
    {
     "data": {
      "text/html": [
       "<strong>Date :</strong> 2010-05-28"
      ],
      "text/plain": [
       "<IPython.core.display.HTML object>"
      ]
     },
     "metadata": {},
     "output_type": "display_data"
    },
    {
     "data": {
      "text/html": [
       "<strong>Auteur :</strong> Jean BRECHEMIER \n"
      ],
      "text/plain": [
       "<IPython.core.display.HTML object>"
      ]
     },
     "metadata": {},
     "output_type": "display_data"
    },
    {
     "name": "stdout",
     "output_type": "stream",
     "text": [
      "Termes indexés : ['pesticides', 'troubles'] \n",
      "\n",
      "Termes spécifiques présents : ['pesticides', 'troubles'] \n",
      "\n",
      "Termes spécifiques absents : {'développement', 'cassation', \"cour d'appel\", 'frelon', 'bisphénol a', 'parlementaires', 'résidus de pesticides', 'foetus', 'malformations', 'désherbant', 'cour', 'milieu', 'confédération paysanne', 'chlordécone', 'céréalier charentais', 'expositions', 'bisphénol', 'nature environnement'} \n",
      "\n"
     ]
    },
    {
     "data": {
      "text/html": [
       "Les <mark style=\"background-color:pink\">pesticides</mark> favoriseraient les <mark style=\"background-color:pink\">troubles</mark> de l'attention chez les enfants http://bit.ly/cck0Nj  Manger 5 fruits et légumes par jour ????"
      ],
      "text/plain": [
       "<IPython.core.display.HTML object>"
      ]
     },
     "metadata": {},
     "output_type": "display_data"
    },
    {
     "data": {
      "text/html": [
       "<h2 style='text-align:center;'> Texte 14907003949 (161 sur 286)</h2>"
      ],
      "text/plain": [
       "<IPython.core.display.HTML object>"
      ]
     },
     "metadata": {},
     "output_type": "display_data"
    },
    {
     "data": {
      "text/html": [
       "<strong>Segment :</strong> 0 (2010-02-01 ; 2010-08-31)"
      ],
      "text/plain": [
       "<IPython.core.display.HTML object>"
      ]
     },
     "metadata": {},
     "output_type": "display_data"
    },
    {
     "data": {
      "text/html": [
       "<strong>Date :</strong> 2010-05-28"
      ],
      "text/plain": [
       "<IPython.core.display.HTML object>"
      ]
     },
     "metadata": {},
     "output_type": "display_data"
    },
    {
     "data": {
      "text/html": [
       "<strong>Auteur :</strong> Patrick JJJ \n"
      ],
      "text/plain": [
       "<IPython.core.display.HTML object>"
      ]
     },
     "metadata": {},
     "output_type": "display_data"
    },
    {
     "name": "stdout",
     "output_type": "stream",
     "text": [
      "Termes indexés : ['pesticides', 'troubles'] \n",
      "\n",
      "Termes spécifiques présents : ['pesticides', 'troubles'] \n",
      "\n",
      "Termes spécifiques absents : {'développement', 'cassation', \"cour d'appel\", 'frelon', 'bisphénol a', 'parlementaires', 'résidus de pesticides', 'foetus', 'malformations', 'désherbant', 'cour', 'milieu', 'confédération paysanne', 'chlordécone', 'céréalier charentais', 'expositions', 'bisphénol', 'nature environnement'} \n",
      "\n"
     ]
    },
    {
     "data": {
      "text/html": [
       "Je sens que Maxou va garder ses poux et autres lentes : Les <mark style=\"background-color:pink\">pesticides</mark> favoriseraient les <mark style=\"background-color:pink\">troubles</mark> de l'attention chez les enfants"
      ],
      "text/plain": [
       "<IPython.core.display.HTML object>"
      ]
     },
     "metadata": {},
     "output_type": "display_data"
    },
    {
     "data": {
      "text/html": [
       "<h2 style='text-align:center;'> Texte 14911064965 (162 sur 286)</h2>"
      ],
      "text/plain": [
       "<IPython.core.display.HTML object>"
      ]
     },
     "metadata": {},
     "output_type": "display_data"
    },
    {
     "data": {
      "text/html": [
       "<strong>Segment :</strong> 0 (2010-02-01 ; 2010-08-31)"
      ],
      "text/plain": [
       "<IPython.core.display.HTML object>"
      ]
     },
     "metadata": {},
     "output_type": "display_data"
    },
    {
     "data": {
      "text/html": [
       "<strong>Date :</strong> 2010-05-28"
      ],
      "text/plain": [
       "<IPython.core.display.HTML object>"
      ]
     },
     "metadata": {},
     "output_type": "display_data"
    },
    {
     "data": {
      "text/html": [
       "<strong>Auteur :</strong> Nouvelles \n"
      ],
      "text/plain": [
       "<IPython.core.display.HTML object>"
      ]
     },
     "metadata": {},
     "output_type": "display_data"
    },
    {
     "name": "stdout",
     "output_type": "stream",
     "text": [
      "Termes indexés : ['pesticides', 'troubles', 'monde'] \n",
      "\n",
      "Termes spécifiques présents : ['pesticides', 'troubles'] \n",
      "\n",
      "Termes spécifiques absents : {'développement', 'cassation', \"cour d'appel\", 'frelon', 'bisphénol a', 'parlementaires', 'résidus de pesticides', 'foetus', 'malformations', 'désherbant', 'cour', 'milieu', 'confédération paysanne', 'chlordécone', 'céréalier charentais', 'expositions', 'bisphénol', 'nature environnement'} \n",
      "\n"
     ]
    },
    {
     "data": {
      "text/html": [
       "Flash: Les <mark style=\"background-color:pink\">pesticides</mark> favoriseraient les <mark style=\"background-color:pink\">troubles</mark> de l'attention chez les ... - Le <mark style=\"background-color:yellow\">monde</mark> http://bit.ly/du2aZS"
      ],
      "text/plain": [
       "<IPython.core.display.HTML object>"
      ]
     },
     "metadata": {},
     "output_type": "display_data"
    },
    {
     "data": {
      "text/html": [
       "<h2 style='text-align:center;'> Texte 15031671779 (163 sur 286)</h2>"
      ],
      "text/plain": [
       "<IPython.core.display.HTML object>"
      ]
     },
     "metadata": {},
     "output_type": "display_data"
    },
    {
     "data": {
      "text/html": [
       "<strong>Segment :</strong> 0 (2010-02-01 ; 2010-08-31)"
      ],
      "text/plain": [
       "<IPython.core.display.HTML object>"
      ]
     },
     "metadata": {},
     "output_type": "display_data"
    },
    {
     "data": {
      "text/html": [
       "<strong>Date :</strong> 2010-05-30"
      ],
      "text/plain": [
       "<IPython.core.display.HTML object>"
      ]
     },
     "metadata": {},
     "output_type": "display_data"
    },
    {
     "data": {
      "text/html": [
       "<strong>Auteur :</strong> Le Bouillon \n"
      ],
      "text/plain": [
       "<IPython.core.display.HTML object>"
      ]
     },
     "metadata": {},
     "output_type": "display_data"
    },
    {
     "name": "stdout",
     "output_type": "stream",
     "text": [
      "Termes indexés : ['pesticides', 'troubles'] \n",
      "\n",
      "Termes spécifiques présents : ['pesticides', 'troubles'] \n",
      "\n",
      "Termes spécifiques absents : {'développement', 'cassation', \"cour d'appel\", 'frelon', 'bisphénol a', 'parlementaires', 'résidus de pesticides', 'foetus', 'malformations', 'désherbant', 'cour', 'milieu', 'confédération paysanne', 'chlordécone', 'céréalier charentais', 'expositions', 'bisphénol', 'nature environnement'} \n",
      "\n"
     ]
    },
    {
     "data": {
      "text/html": [
       "Les <mark style=\"background-color:pink\">pesticides</mark> favoriseraient les <mark style=\"background-color:pink\">troubles</mark> de l'attention chez les enfants - LeMonde.fr http://ff.im/-laaP2"
      ],
      "text/plain": [
       "<IPython.core.display.HTML object>"
      ]
     },
     "metadata": {},
     "output_type": "display_data"
    },
    {
     "data": {
      "text/html": [
       "<h2 style='text-align:center;'> Texte 15046410773 (164 sur 286)</h2>"
      ],
      "text/plain": [
       "<IPython.core.display.HTML object>"
      ]
     },
     "metadata": {},
     "output_type": "display_data"
    },
    {
     "data": {
      "text/html": [
       "<strong>Segment :</strong> 0 (2010-02-01 ; 2010-08-31)"
      ],
      "text/plain": [
       "<IPython.core.display.HTML object>"
      ]
     },
     "metadata": {},
     "output_type": "display_data"
    },
    {
     "data": {
      "text/html": [
       "<strong>Date :</strong> 2010-05-30"
      ],
      "text/plain": [
       "<IPython.core.display.HTML object>"
      ]
     },
     "metadata": {},
     "output_type": "display_data"
    },
    {
     "data": {
      "text/html": [
       "<strong>Auteur :</strong> Honesto \n"
      ],
      "text/plain": [
       "<IPython.core.display.HTML object>"
      ]
     },
     "metadata": {},
     "output_type": "display_data"
    },
    {
     "name": "stdout",
     "output_type": "stream",
     "text": [
      "Termes indexés : ['pesticides', 'troubles'] \n",
      "\n",
      "Termes spécifiques présents : ['pesticides', 'troubles'] \n",
      "\n",
      "Termes spécifiques absents : {'développement', 'cassation', \"cour d'appel\", 'frelon', 'bisphénol a', 'parlementaires', 'résidus de pesticides', 'foetus', 'malformations', 'désherbant', 'cour', 'milieu', 'confédération paysanne', 'chlordécone', 'céréalier charentais', 'expositions', 'bisphénol', 'nature environnement'} \n",
      "\n"
     ]
    },
    {
     "data": {
      "text/html": [
       "LES <mark style=\"background-color:pink\">pesticides</mark> FAVORISERAIENT LES <mark style=\"background-color:pink\">troubles</mark> DE L'ATTENTION CHEZ LES ENFANTS|Des fruits et légumes .. http://oohja.com/xemb1"
      ],
      "text/plain": [
       "<IPython.core.display.HTML object>"
      ]
     },
     "metadata": {},
     "output_type": "display_data"
    },
    {
     "data": {
      "text/html": [
       "<h2 style='text-align:center;'> Texte 15028642701 (165 sur 286)</h2>"
      ],
      "text/plain": [
       "<IPython.core.display.HTML object>"
      ]
     },
     "metadata": {},
     "output_type": "display_data"
    },
    {
     "data": {
      "text/html": [
       "<strong>Segment :</strong> 0 (2010-02-01 ; 2010-08-31)"
      ],
      "text/plain": [
       "<IPython.core.display.HTML object>"
      ]
     },
     "metadata": {},
     "output_type": "display_data"
    },
    {
     "data": {
      "text/html": [
       "<strong>Date :</strong> 2010-05-30"
      ],
      "text/plain": [
       "<IPython.core.display.HTML object>"
      ]
     },
     "metadata": {},
     "output_type": "display_data"
    },
    {
     "data": {
      "text/html": [
       "<strong>Auteur :</strong> isaz \n"
      ],
      "text/plain": [
       "<IPython.core.display.HTML object>"
      ]
     },
     "metadata": {},
     "output_type": "display_data"
    },
    {
     "name": "stdout",
     "output_type": "stream",
     "text": [
      "Termes indexés : ['pesticides', 'troubles'] \n",
      "\n",
      "Termes spécifiques présents : ['pesticides', 'troubles'] \n",
      "\n",
      "Termes spécifiques absents : {'développement', 'cassation', \"cour d'appel\", 'frelon', 'bisphénol a', 'parlementaires', 'résidus de pesticides', 'foetus', 'malformations', 'désherbant', 'cour', 'milieu', 'confédération paysanne', 'chlordécone', 'céréalier charentais', 'expositions', 'bisphénol', 'nature environnement'} \n",
      "\n"
     ]
    },
    {
     "data": {
      "text/html": [
       "\"Les <mark style=\"background-color:pink\">pesticides</mark> favoriseraient les <mark style=\"background-color:pink\">troubles</mark> de l'attention chez les enfants\" http://bit.ly/dn5M0K"
      ],
      "text/plain": [
       "<IPython.core.display.HTML object>"
      ]
     },
     "metadata": {},
     "output_type": "display_data"
    },
    {
     "data": {
      "text/html": [
       "<h2 style='text-align:center;'> Texte 15111486898 (166 sur 286)</h2>"
      ],
      "text/plain": [
       "<IPython.core.display.HTML object>"
      ]
     },
     "metadata": {},
     "output_type": "display_data"
    },
    {
     "data": {
      "text/html": [
       "<strong>Segment :</strong> 0 (2010-02-01 ; 2010-08-31)"
      ],
      "text/plain": [
       "<IPython.core.display.HTML object>"
      ]
     },
     "metadata": {},
     "output_type": "display_data"
    },
    {
     "data": {
      "text/html": [
       "<strong>Date :</strong> 2010-05-31"
      ],
      "text/plain": [
       "<IPython.core.display.HTML object>"
      ]
     },
     "metadata": {},
     "output_type": "display_data"
    },
    {
     "data": {
      "text/html": [
       "<strong>Auteur :</strong> I Want! News \n"
      ],
      "text/plain": [
       "<IPython.core.display.HTML object>"
      ]
     },
     "metadata": {},
     "output_type": "display_data"
    },
    {
     "name": "stdout",
     "output_type": "stream",
     "text": [
      "Termes indexés : ['pesticides', 'parlementaires'] \n",
      "\n",
      "Termes spécifiques présents : ['pesticides', 'parlementaires'] \n",
      "\n",
      "Termes spécifiques absents : {'développement', 'troubles', 'cassation', \"cour d'appel\", 'frelon', 'bisphénol a', 'résidus de pesticides', 'foetus', 'malformations', 'désherbant', 'cour', 'milieu', 'confédération paysanne', 'chlordécone', 'céréalier charentais', 'expositions', 'bisphénol', 'nature environnement'} \n",
      "\n"
     ]
    },
    {
     "data": {
      "text/html": [
       "InfosWorld (FR) : Lignes à haute tension et <mark style=\"background-color:pink\">pesticides</mark>: les <mark style=\"background-color:pink\">parlementaires</mark> sous-estiment-ils les ri... http://bit.ly/d7OYYS - #France24News"
      ],
      "text/plain": [
       "<IPython.core.display.HTML object>"
      ]
     },
     "metadata": {},
     "output_type": "display_data"
    },
    {
     "data": {
      "text/html": [
       "<h2 style='text-align:center;'> Texte 15134484141 (167 sur 286)</h2>"
      ],
      "text/plain": [
       "<IPython.core.display.HTML object>"
      ]
     },
     "metadata": {},
     "output_type": "display_data"
    },
    {
     "data": {
      "text/html": [
       "<strong>Segment :</strong> 0 (2010-02-01 ; 2010-08-31)"
      ],
      "text/plain": [
       "<IPython.core.display.HTML object>"
      ]
     },
     "metadata": {},
     "output_type": "display_data"
    },
    {
     "data": {
      "text/html": [
       "<strong>Date :</strong> 2010-05-31"
      ],
      "text/plain": [
       "<IPython.core.display.HTML object>"
      ]
     },
     "metadata": {},
     "output_type": "display_data"
    },
    {
     "data": {
      "text/html": [
       "<strong>Auteur :</strong> Nouvelles \n"
      ],
      "text/plain": [
       "<IPython.core.display.HTML object>"
      ]
     },
     "metadata": {},
     "output_type": "display_data"
    },
    {
     "name": "stdout",
     "output_type": "stream",
     "text": [
      "Termes indexés : ['pesticides', 'parlementaires'] \n",
      "\n",
      "Termes spécifiques présents : ['pesticides', 'parlementaires'] \n",
      "\n",
      "Termes spécifiques absents : {'développement', 'troubles', 'cassation', \"cour d'appel\", 'frelon', 'bisphénol a', 'résidus de pesticides', 'foetus', 'malformations', 'désherbant', 'cour', 'milieu', 'confédération paysanne', 'chlordécone', 'céréalier charentais', 'expositions', 'bisphénol', 'nature environnement'} \n",
      "\n"
     ]
    },
    {
     "data": {
      "text/html": [
       "Flash: Lignes à haute tension et <mark style=\"background-color:pink\">pesticides</mark>: les <mark style=\"background-color:pink\">parlementaires</mark> sous ... - AFP http://bit.ly/d596xX"
      ],
      "text/plain": [
       "<IPython.core.display.HTML object>"
      ]
     },
     "metadata": {},
     "output_type": "display_data"
    },
    {
     "data": {
      "text/html": [
       "<h2 style='text-align:center;'> Texte 15116144397 (168 sur 286)</h2>"
      ],
      "text/plain": [
       "<IPython.core.display.HTML object>"
      ]
     },
     "metadata": {},
     "output_type": "display_data"
    },
    {
     "data": {
      "text/html": [
       "<strong>Segment :</strong> 0 (2010-02-01 ; 2010-08-31)"
      ],
      "text/plain": [
       "<IPython.core.display.HTML object>"
      ]
     },
     "metadata": {},
     "output_type": "display_data"
    },
    {
     "data": {
      "text/html": [
       "<strong>Date :</strong> 2010-05-31"
      ],
      "text/plain": [
       "<IPython.core.display.HTML object>"
      ]
     },
     "metadata": {},
     "output_type": "display_data"
    },
    {
     "data": {
      "text/html": [
       "<strong>Auteur :</strong> Fondation GoodPlanet \n"
      ],
      "text/plain": [
       "<IPython.core.display.HTML object>"
      ]
     },
     "metadata": {},
     "output_type": "display_data"
    },
    {
     "name": "stdout",
     "output_type": "stream",
     "text": [
      "Termes indexés : ['pesticides', 'parlementaires', 'paris'] \n",
      "\n",
      "Termes spécifiques présents : ['pesticides', 'parlementaires'] \n",
      "\n",
      "Termes spécifiques absents : {'développement', 'troubles', 'cassation', \"cour d'appel\", 'frelon', 'bisphénol a', 'résidus de pesticides', 'foetus', 'malformations', 'désherbant', 'cour', 'milieu', 'confédération paysanne', 'chlordécone', 'céréalier charentais', 'expositions', 'bisphénol', 'nature environnement'} \n",
      "\n"
     ]
    },
    {
     "data": {
      "text/html": [
       "#News : Lignes à haute tension et <mark style=\"background-color:pink\">pesticides</mark>: les <mark style=\"background-color:pink\">parlementaires</mark> sous-estiment-ils les risques ?: <mark style=\"background-color:yellow\">paris</mark> - Le résea... http://bit.ly/aiXm9a"
      ],
      "text/plain": [
       "<IPython.core.display.HTML object>"
      ]
     },
     "metadata": {},
     "output_type": "display_data"
    },
    {
     "data": {
      "text/html": [
       "<h2 style='text-align:center;'> Texte 15188806695 (169 sur 286)</h2>"
      ],
      "text/plain": [
       "<IPython.core.display.HTML object>"
      ]
     },
     "metadata": {},
     "output_type": "display_data"
    },
    {
     "data": {
      "text/html": [
       "<strong>Segment :</strong> 0 (2010-02-01 ; 2010-08-31)"
      ],
      "text/plain": [
       "<IPython.core.display.HTML object>"
      ]
     },
     "metadata": {},
     "output_type": "display_data"
    },
    {
     "data": {
      "text/html": [
       "<strong>Date :</strong> 2010-06-01"
      ],
      "text/plain": [
       "<IPython.core.display.HTML object>"
      ]
     },
     "metadata": {},
     "output_type": "display_data"
    },
    {
     "data": {
      "text/html": [
       "<strong>Auteur :</strong> Arnaud@Thurudev \n"
      ],
      "text/plain": [
       "<IPython.core.display.HTML object>"
      ]
     },
     "metadata": {},
     "output_type": "display_data"
    },
    {
     "name": "stdout",
     "output_type": "stream",
     "text": [
      "Termes indexés : ['pesticides', 'troubles'] \n",
      "\n",
      "Termes spécifiques présents : ['pesticides', 'troubles'] \n",
      "\n",
      "Termes spécifiques absents : {'développement', 'cassation', \"cour d'appel\", 'frelon', 'bisphénol a', 'parlementaires', 'résidus de pesticides', 'foetus', 'malformations', 'désherbant', 'cour', 'milieu', 'confédération paysanne', 'chlordécone', 'céréalier charentais', 'expositions', 'bisphénol', 'nature environnement'} \n",
      "\n"
     ]
    },
    {
     "data": {
      "text/html": [
       "Les enfants exposés aux <mark style=\"background-color:pink\">pesticides</mark> risquent de développer des <mark style=\"background-color:pink\">troubles</mark> du comportement http://bit.ly/azvfQ2"
      ],
      "text/plain": [
       "<IPython.core.display.HTML object>"
      ]
     },
     "metadata": {},
     "output_type": "display_data"
    },
    {
     "data": {
      "text/html": [
       "<h2 style='text-align:center;'> Texte 15165760690 (170 sur 286)</h2>"
      ],
      "text/plain": [
       "<IPython.core.display.HTML object>"
      ]
     },
     "metadata": {},
     "output_type": "display_data"
    },
    {
     "data": {
      "text/html": [
       "<strong>Segment :</strong> 0 (2010-02-01 ; 2010-08-31)"
      ],
      "text/plain": [
       "<IPython.core.display.HTML object>"
      ]
     },
     "metadata": {},
     "output_type": "display_data"
    },
    {
     "data": {
      "text/html": [
       "<strong>Date :</strong> 2010-06-01"
      ],
      "text/plain": [
       "<IPython.core.display.HTML object>"
      ]
     },
     "metadata": {},
     "output_type": "display_data"
    },
    {
     "data": {
      "text/html": [
       "<strong>Auteur :</strong> lamaisonducancer.com \n"
      ],
      "text/plain": [
       "<IPython.core.display.HTML object>"
      ]
     },
     "metadata": {},
     "output_type": "display_data"
    },
    {
     "name": "stdout",
     "output_type": "stream",
     "text": [
      "Termes indexés : ['pesticides', 'parlementaires'] \n",
      "\n",
      "Termes spécifiques présents : ['pesticides', 'parlementaires'] \n",
      "\n",
      "Termes spécifiques absents : {'développement', 'troubles', 'cassation', \"cour d'appel\", 'frelon', 'bisphénol a', 'résidus de pesticides', 'foetus', 'malformations', 'désherbant', 'cour', 'milieu', 'confédération paysanne', 'chlordécone', 'céréalier charentais', 'expositions', 'bisphénol', 'nature environnement'} \n",
      "\n"
     ]
    },
    {
     "data": {
      "text/html": [
       "Lignes à haute tension et <mark style=\"background-color:pink\">pesticides</mark>: les <mark style=\"background-color:pink\">parlementaires</mark> sous-estiment-ils les risques ? -  Les Echos.fr http://bit.ly/cgXedE"
      ],
      "text/plain": [
       "<IPython.core.display.HTML object>"
      ]
     },
     "metadata": {},
     "output_type": "display_data"
    },
    {
     "data": {
      "text/html": [
       "<h2 style='text-align:center;'> Texte 15161318091 (171 sur 286)</h2>"
      ],
      "text/plain": [
       "<IPython.core.display.HTML object>"
      ]
     },
     "metadata": {},
     "output_type": "display_data"
    },
    {
     "data": {
      "text/html": [
       "<strong>Segment :</strong> 0 (2010-02-01 ; 2010-08-31)"
      ],
      "text/plain": [
       "<IPython.core.display.HTML object>"
      ]
     },
     "metadata": {},
     "output_type": "display_data"
    },
    {
     "data": {
      "text/html": [
       "<strong>Date :</strong> 2010-06-01"
      ],
      "text/plain": [
       "<IPython.core.display.HTML object>"
      ]
     },
     "metadata": {},
     "output_type": "display_data"
    },
    {
     "data": {
      "text/html": [
       "<strong>Auteur :</strong> Nouvelle en francais \n"
      ],
      "text/plain": [
       "<IPython.core.display.HTML object>"
      ]
     },
     "metadata": {},
     "output_type": "display_data"
    },
    {
     "name": "stdout",
     "output_type": "stream",
     "text": [
      "Termes indexés : ['résidus', 'résidus de pesticides', 'pesticides'] \n",
      "\n",
      "Termes spécifiques présents : ['résidus de pesticides', 'pesticides'] \n",
      "\n",
      "Termes spécifiques absents : {'développement', 'troubles', 'cassation', \"cour d'appel\", 'frelon', 'bisphénol a', 'parlementaires', 'foetus', 'malformations', 'désherbant', 'cour', 'milieu', 'confédération paysanne', 'chlordécone', 'céréalier charentais', 'expositions', 'bisphénol', 'nature environnement'} \n",
      "\n"
     ]
    },
    {
     "data": {
      "text/html": [
       "[@cnnbrk]produire des \"douze salopards\" transporte plus de <mark style=\"background-color:yellow\">résidus</mark> de <mark style=\"background-color:pink\">pesticides</mark>, le groupe dit http://on.cnn.com/aVxzQx"
      ],
      "text/plain": [
       "<IPython.core.display.HTML object>"
      ]
     },
     "metadata": {},
     "output_type": "display_data"
    },
    {
     "data": {
      "text/html": [
       "<h2 style='text-align:center;'> Texte 15273254720 (172 sur 286)</h2>"
      ],
      "text/plain": [
       "<IPython.core.display.HTML object>"
      ]
     },
     "metadata": {},
     "output_type": "display_data"
    },
    {
     "data": {
      "text/html": [
       "<strong>Segment :</strong> 0 (2010-02-01 ; 2010-08-31)"
      ],
      "text/plain": [
       "<IPython.core.display.HTML object>"
      ]
     },
     "metadata": {},
     "output_type": "display_data"
    },
    {
     "data": {
      "text/html": [
       "<strong>Date :</strong> 2010-06-02"
      ],
      "text/plain": [
       "<IPython.core.display.HTML object>"
      ]
     },
     "metadata": {},
     "output_type": "display_data"
    },
    {
     "data": {
      "text/html": [
       "<strong>Auteur :</strong> Pharmacorama \n"
      ],
      "text/plain": [
       "<IPython.core.display.HTML object>"
      ]
     },
     "metadata": {},
     "output_type": "display_data"
    },
    {
     "name": "stdout",
     "output_type": "stream",
     "text": [
      "Termes indexés : ['article', 'expositions', 'pesticides', 'troubles'] \n",
      "\n",
      "Termes spécifiques présents : ['expositions', 'pesticides', 'troubles'] \n",
      "\n",
      "Termes spécifiques absents : {'développement', 'cassation', \"cour d'appel\", 'frelon', 'bisphénol a', 'parlementaires', 'résidus de pesticides', 'foetus', 'malformations', 'désherbant', 'cour', 'milieu', 'confédération paysanne', 'chlordécone', 'céréalier charentais', 'bisphénol', 'nature environnement'} \n",
      "\n"
     ]
    },
    {
     "data": {
      "text/html": [
       "Nouvel <mark style=\"background-color:yellow\">article</mark> :  Exposition aux <mark style=\"background-color:pink\">pesticides</mark> et trouble déficitaire de l'attention avec… http://goo.gl/fb/MOuiI"
      ],
      "text/plain": [
       "<IPython.core.display.HTML object>"
      ]
     },
     "metadata": {},
     "output_type": "display_data"
    },
    {
     "data": {
      "text/html": [
       "<h2 style='text-align:center;'> Texte 15263956307 (173 sur 286)</h2>"
      ],
      "text/plain": [
       "<IPython.core.display.HTML object>"
      ]
     },
     "metadata": {},
     "output_type": "display_data"
    },
    {
     "data": {
      "text/html": [
       "<strong>Segment :</strong> 0 (2010-02-01 ; 2010-08-31)"
      ],
      "text/plain": [
       "<IPython.core.display.HTML object>"
      ]
     },
     "metadata": {},
     "output_type": "display_data"
    },
    {
     "data": {
      "text/html": [
       "<strong>Date :</strong> 2010-06-02"
      ],
      "text/plain": [
       "<IPython.core.display.HTML object>"
      ]
     },
     "metadata": {},
     "output_type": "display_data"
    },
    {
     "data": {
      "text/html": [
       "<strong>Auteur :</strong> Médecins webmasters \n"
      ],
      "text/plain": [
       "<IPython.core.display.HTML object>"
      ]
     },
     "metadata": {},
     "output_type": "display_data"
    },
    {
     "name": "stdout",
     "output_type": "stream",
     "text": [
      "Termes indexés : ['pesticides', 'troubles', 'chercheuse'] \n",
      "\n",
      "Termes spécifiques présents : ['pesticides', 'troubles'] \n",
      "\n",
      "Termes spécifiques absents : {'développement', 'cassation', \"cour d'appel\", 'frelon', 'bisphénol a', 'parlementaires', 'résidus de pesticides', 'foetus', 'malformations', 'désherbant', 'cour', 'milieu', 'confédération paysanne', 'chlordécone', 'céréalier charentais', 'expositions', 'bisphénol', 'nature environnement'} \n",
      "\n"
     ]
    },
    {
     "data": {
      "text/html": [
       "Les enfants exposés aux <mark style=\"background-color:pink\">pesticides</mark> risquent de développer des <mark style=\"background-color:pink\">troubles</mark> du comportement: Des chercheurs de l'Univer... http://bit.ly/bPG58j"
      ],
      "text/plain": [
       "<IPython.core.display.HTML object>"
      ]
     },
     "metadata": {},
     "output_type": "display_data"
    },
    {
     "data": {
      "text/html": [
       "<h2 style='text-align:center;'> Texte 15245605163 (174 sur 286)</h2>"
      ],
      "text/plain": [
       "<IPython.core.display.HTML object>"
      ]
     },
     "metadata": {},
     "output_type": "display_data"
    },
    {
     "data": {
      "text/html": [
       "<strong>Segment :</strong> 0 (2010-02-01 ; 2010-08-31)"
      ],
      "text/plain": [
       "<IPython.core.display.HTML object>"
      ]
     },
     "metadata": {},
     "output_type": "display_data"
    },
    {
     "data": {
      "text/html": [
       "<strong>Date :</strong> 2010-06-02"
      ],
      "text/plain": [
       "<IPython.core.display.HTML object>"
      ]
     },
     "metadata": {},
     "output_type": "display_data"
    },
    {
     "data": {
      "text/html": [
       "<strong>Auteur :</strong> Rayan \n"
      ],
      "text/plain": [
       "<IPython.core.display.HTML object>"
      ]
     },
     "metadata": {},
     "output_type": "display_data"
    },
    {
     "name": "stdout",
     "output_type": "stream",
     "text": [
      "Termes indexés : ['pesticides', 'troubles'] \n",
      "\n",
      "Termes spécifiques présents : ['pesticides', 'troubles'] \n",
      "\n",
      "Termes spécifiques absents : {'développement', 'cassation', \"cour d'appel\", 'frelon', 'bisphénol a', 'parlementaires', 'résidus de pesticides', 'foetus', 'malformations', 'désherbant', 'cour', 'milieu', 'confédération paysanne', 'chlordécone', 'céréalier charentais', 'expositions', 'bisphénol', 'nature environnement'} \n",
      "\n"
     ]
    },
    {
     "data": {
      "text/html": [
       "Les enfants exposés aux <mark style=\"background-color:pink\">pesticides</mark> risquent de développer des <mark style=\"background-color:pink\">troubles</mark> du comportement (Be) http://ow.ly/1SWl0"
      ],
      "text/plain": [
       "<IPython.core.display.HTML object>"
      ]
     },
     "metadata": {},
     "output_type": "display_data"
    },
    {
     "data": {
      "text/html": [
       "<h2 style='text-align:center;'> Texte 15348035014 (175 sur 286)</h2>"
      ],
      "text/plain": [
       "<IPython.core.display.HTML object>"
      ]
     },
     "metadata": {},
     "output_type": "display_data"
    },
    {
     "data": {
      "text/html": [
       "<strong>Segment :</strong> 0 (2010-02-01 ; 2010-08-31)"
      ],
      "text/plain": [
       "<IPython.core.display.HTML object>"
      ]
     },
     "metadata": {},
     "output_type": "display_data"
    },
    {
     "data": {
      "text/html": [
       "<strong>Date :</strong> 2010-06-03"
      ],
      "text/plain": [
       "<IPython.core.display.HTML object>"
      ]
     },
     "metadata": {},
     "output_type": "display_data"
    },
    {
     "data": {
      "text/html": [
       "<strong>Auteur :</strong> urbanbike \n"
      ],
      "text/plain": [
       "<IPython.core.display.HTML object>"
      ]
     },
     "metadata": {},
     "output_type": "display_data"
    },
    {
     "name": "stdout",
     "output_type": "stream",
     "text": [
      "Termes indexés : ['pesticides', 'développement', 'santé'] \n",
      "\n",
      "Termes spécifiques présents : ['pesticides', 'développement'] \n",
      "\n",
      "Termes spécifiques absents : {'troubles', 'cassation', \"cour d'appel\", 'frelon', 'bisphénol a', 'parlementaires', 'résidus de pesticides', 'foetus', 'malformations', 'désherbant', 'cour', 'milieu', 'confédération paysanne', 'chlordécone', 'céréalier charentais', 'expositions', 'bisphénol', 'nature environnement'} \n",
      "\n"
     ]
    },
    {
     "data": {
      "text/html": [
       "Les <mark style=\"background-color:pink\">pesticides</mark>, ennemis du <mark style=\"background-color:pink\">développement</mark> infantile (<mark style=\"background-color:yellow\">santé</mark>) http://tinyurl.com/2a486vr (via @Les_BE) retards cérébraux évidents"
      ],
      "text/plain": [
       "<IPython.core.display.HTML object>"
      ]
     },
     "metadata": {},
     "output_type": "display_data"
    },
    {
     "data": {
      "text/html": [
       "<h2 style='text-align:center;'> Texte 15332992445 (176 sur 286)</h2>"
      ],
      "text/plain": [
       "<IPython.core.display.HTML object>"
      ]
     },
     "metadata": {},
     "output_type": "display_data"
    },
    {
     "data": {
      "text/html": [
       "<strong>Segment :</strong> 0 (2010-02-01 ; 2010-08-31)"
      ],
      "text/plain": [
       "<IPython.core.display.HTML object>"
      ]
     },
     "metadata": {},
     "output_type": "display_data"
    },
    {
     "data": {
      "text/html": [
       "<strong>Date :</strong> 2010-06-03"
      ],
      "text/plain": [
       "<IPython.core.display.HTML object>"
      ]
     },
     "metadata": {},
     "output_type": "display_data"
    },
    {
     "data": {
      "text/html": [
       "<strong>Auteur :</strong> Le Cosmographe \n"
      ],
      "text/plain": [
       "<IPython.core.display.HTML object>"
      ]
     },
     "metadata": {},
     "output_type": "display_data"
    },
    {
     "name": "stdout",
     "output_type": "stream",
     "text": [
      "Termes indexés : ['pesticides', 'développement', 'santé'] \n",
      "\n",
      "Termes spécifiques présents : ['pesticides', 'développement'] \n",
      "\n",
      "Termes spécifiques absents : {'troubles', 'cassation', \"cour d'appel\", 'frelon', 'bisphénol a', 'parlementaires', 'résidus de pesticides', 'foetus', 'malformations', 'désherbant', 'cour', 'milieu', 'confédération paysanne', 'chlordécone', 'céréalier charentais', 'expositions', 'bisphénol', 'nature environnement'} \n",
      "\n"
     ]
    },
    {
     "data": {
      "text/html": [
       "RT @Les_BE: Les <mark style=\"background-color:pink\">pesticides</mark>, ennemis du <mark style=\"background-color:pink\">développement</mark> infantile (<mark style=\"background-color:yellow\">santé</mark>) ... http://tinyurl.com/2a486vr"
      ],
      "text/plain": [
       "<IPython.core.display.HTML object>"
      ]
     },
     "metadata": {},
     "output_type": "display_data"
    },
    {
     "data": {
      "text/html": [
       "<h2 style='text-align:center;'> Texte 15932296033 (177 sur 286)</h2>"
      ],
      "text/plain": [
       "<IPython.core.display.HTML object>"
      ]
     },
     "metadata": {},
     "output_type": "display_data"
    },
    {
     "data": {
      "text/html": [
       "<strong>Segment :</strong> 0 (2010-02-01 ; 2010-08-31)"
      ],
      "text/plain": [
       "<IPython.core.display.HTML object>"
      ]
     },
     "metadata": {},
     "output_type": "display_data"
    },
    {
     "data": {
      "text/html": [
       "<strong>Date :</strong> 2010-06-11"
      ],
      "text/plain": [
       "<IPython.core.display.HTML object>"
      ]
     },
     "metadata": {},
     "output_type": "display_data"
    },
    {
     "data": {
      "text/html": [
       "<strong>Auteur :</strong> Chauveau \n"
      ],
      "text/plain": [
       "<IPython.core.display.HTML object>"
      ]
     },
     "metadata": {},
     "output_type": "display_data"
    },
    {
     "name": "stdout",
     "output_type": "stream",
     "text": [
      "Termes indexés : ['résidus', 'résidus de pesticides', 'pesticides', 'vins'] \n",
      "\n",
      "Termes spécifiques présents : ['résidus de pesticides', 'pesticides'] \n",
      "\n",
      "Termes spécifiques absents : {'développement', 'troubles', 'cassation', \"cour d'appel\", 'frelon', 'bisphénol a', 'parlementaires', 'foetus', 'malformations', 'désherbant', 'cour', 'milieu', 'confédération paysanne', 'chlordécone', 'céréalier charentais', 'expositions', 'bisphénol', 'nature environnement'} \n",
      "\n"
     ]
    },
    {
     "data": {
      "text/html": [
       "Saveurs et Passions | Info : Y a-t-il oui ou non des <mark style=\"background-color:yellow\">résidus</mark> de <mark style=\"background-color:pink\">pesticides</mark> dans le vin ?: Forum orga... | Gil Chauveau http://xfru.it/lm09Vs"
      ],
      "text/plain": [
       "<IPython.core.display.HTML object>"
      ]
     },
     "metadata": {},
     "output_type": "display_data"
    },
    {
     "data": {
      "text/html": [
       "<h2 style='text-align:center;'> Texte 16459720667 (178 sur 286)</h2>"
      ],
      "text/plain": [
       "<IPython.core.display.HTML object>"
      ]
     },
     "metadata": {},
     "output_type": "display_data"
    },
    {
     "data": {
      "text/html": [
       "<strong>Segment :</strong> 0 (2010-02-01 ; 2010-08-31)"
      ],
      "text/plain": [
       "<IPython.core.display.HTML object>"
      ]
     },
     "metadata": {},
     "output_type": "display_data"
    },
    {
     "data": {
      "text/html": [
       "<strong>Date :</strong> 2010-06-18"
      ],
      "text/plain": [
       "<IPython.core.display.HTML object>"
      ]
     },
     "metadata": {},
     "output_type": "display_data"
    },
    {
     "data": {
      "text/html": [
       "<strong>Auteur :</strong> Stéphane Queralt \n"
      ],
      "text/plain": [
       "<IPython.core.display.HTML object>"
      ]
     },
     "metadata": {},
     "output_type": "display_data"
    },
    {
     "name": "stdout",
     "output_type": "stream",
     "text": [
      "Termes indexés : ['résidus', 'résidus de pesticides', 'pesticides', 'vins'] \n",
      "\n",
      "Termes spécifiques présents : ['résidus de pesticides', 'pesticides'] \n",
      "\n",
      "Termes spécifiques absents : {'développement', 'troubles', 'cassation', \"cour d'appel\", 'frelon', 'bisphénol a', 'parlementaires', 'foetus', 'malformations', 'désherbant', 'cour', 'milieu', 'confédération paysanne', 'chlordécone', 'céréalier charentais', 'expositions', 'bisphénol', 'nature environnement'} \n",
      "\n"
     ]
    },
    {
     "data": {
      "text/html": [
       "Y a-t-il oui ou non des <mark style=\"background-color:yellow\">résidus</mark> de <mark style=\"background-color:pink\">pesticides</mark> dans le vin ? Forum Biodynamic Wine Galaxy http://bit.ly/b7uKxb"
      ],
      "text/plain": [
       "<IPython.core.display.HTML object>"
      ]
     },
     "metadata": {},
     "output_type": "display_data"
    },
    {
     "data": {
      "text/html": [
       "<h2 style='text-align:center;'> Texte 16494831385 (179 sur 286)</h2>"
      ],
      "text/plain": [
       "<IPython.core.display.HTML object>"
      ]
     },
     "metadata": {},
     "output_type": "display_data"
    },
    {
     "data": {
      "text/html": [
       "<strong>Segment :</strong> 0 (2010-02-01 ; 2010-08-31)"
      ],
      "text/plain": [
       "<IPython.core.display.HTML object>"
      ]
     },
     "metadata": {},
     "output_type": "display_data"
    },
    {
     "data": {
      "text/html": [
       "<strong>Date :</strong> 2010-06-18"
      ],
      "text/plain": [
       "<IPython.core.display.HTML object>"
      ]
     },
     "metadata": {},
     "output_type": "display_data"
    },
    {
     "data": {
      "text/html": [
       "<strong>Auteur :</strong> Avel Menhir 🇫🇷 \n"
      ],
      "text/plain": [
       "<IPython.core.display.HTML object>"
      ]
     },
     "metadata": {},
     "output_type": "display_data"
    },
    {
     "name": "stdout",
     "output_type": "stream",
     "text": [
      "Termes indexés : ['algue', 'pesticides', 'désherbant'] \n",
      "\n",
      "Termes spécifiques présents : ['pesticides', 'désherbant'] \n",
      "\n",
      "Termes spécifiques absents : {'développement', 'troubles', 'cassation', \"cour d'appel\", 'frelon', 'bisphénol a', 'parlementaires', 'résidus de pesticides', 'foetus', 'malformations', 'cour', 'milieu', 'confédération paysanne', 'chlordécone', 'céréalier charentais', 'expositions', 'bisphénol', 'nature environnement'} \n",
      "\n"
     ]
    },
    {
     "data": {
      "text/html": [
       "@schistrou Les <mark style=\"background-color:yellow\">algue</mark>s vertes: partie visible de l'iceberg mais les rivières et sols empoisonnés par les <mark style=\"background-color:pink\">pesticides</mark> les <mark style=\"background-color:pink\">désherbant</mark>s, drame"
      ],
      "text/plain": [
       "<IPython.core.display.HTML object>"
      ]
     },
     "metadata": {},
     "output_type": "display_data"
    },
    {
     "data": {
      "text/html": [
       "<h2 style='text-align:center;'> Texte 16705063283 (180 sur 286)</h2>"
      ],
      "text/plain": [
       "<IPython.core.display.HTML object>"
      ]
     },
     "metadata": {},
     "output_type": "display_data"
    },
    {
     "data": {
      "text/html": [
       "<strong>Segment :</strong> 0 (2010-02-01 ; 2010-08-31)"
      ],
      "text/plain": [
       "<IPython.core.display.HTML object>"
      ]
     },
     "metadata": {},
     "output_type": "display_data"
    },
    {
     "data": {
      "text/html": [
       "<strong>Date :</strong> 2010-06-21"
      ],
      "text/plain": [
       "<IPython.core.display.HTML object>"
      ]
     },
     "metadata": {},
     "output_type": "display_data"
    },
    {
     "data": {
      "text/html": [
       "<strong>Auteur :</strong> Philippe Maurel \n"
      ],
      "text/plain": [
       "<IPython.core.display.HTML object>"
      ]
     },
     "metadata": {},
     "output_type": "display_data"
    },
    {
     "name": "stdout",
     "output_type": "stream",
     "text": [
      "Termes indexés : ['vins', 'santé', 'résidus', 'résidus de pesticides', 'pesticides'] \n",
      "\n",
      "Termes spécifiques présents : ['résidus de pesticides', 'pesticides'] \n",
      "\n",
      "Termes spécifiques absents : {'développement', 'troubles', 'cassation', \"cour d'appel\", 'frelon', 'bisphénol a', 'parlementaires', 'foetus', 'malformations', 'désherbant', 'cour', 'milieu', 'confédération paysanne', 'chlordécone', 'céréalier charentais', 'expositions', 'bisphénol', 'nature environnement'} \n",
      "\n"
     ]
    },
    {
     "data": {
      "text/html": [
       "Vin et <mark style=\"background-color:yellow\">santé</mark> : Y-a-t il des <mark style=\"background-color:yellow\">résidus</mark> de <mark style=\"background-color:pink\">pesticides</mark> dans nos <mark style=\"background-color:yellow\">vins</mark> français? http://shar.es/mKl8k"
      ],
      "text/plain": [
       "<IPython.core.display.HTML object>"
      ]
     },
     "metadata": {},
     "output_type": "display_data"
    },
    {
     "data": {
      "text/html": [
       "<h2 style='text-align:center;'> Texte 16711554791 (181 sur 286)</h2>"
      ],
      "text/plain": [
       "<IPython.core.display.HTML object>"
      ]
     },
     "metadata": {},
     "output_type": "display_data"
    },
    {
     "data": {
      "text/html": [
       "<strong>Segment :</strong> 0 (2010-02-01 ; 2010-08-31)"
      ],
      "text/plain": [
       "<IPython.core.display.HTML object>"
      ]
     },
     "metadata": {},
     "output_type": "display_data"
    },
    {
     "data": {
      "text/html": [
       "<strong>Date :</strong> 2010-06-21"
      ],
      "text/plain": [
       "<IPython.core.display.HTML object>"
      ]
     },
     "metadata": {},
     "output_type": "display_data"
    },
    {
     "data": {
      "text/html": [
       "<strong>Auteur :</strong> Club du Vin \n"
      ],
      "text/plain": [
       "<IPython.core.display.HTML object>"
      ]
     },
     "metadata": {},
     "output_type": "display_data"
    },
    {
     "name": "stdout",
     "output_type": "stream",
     "text": [
      "Termes indexés : ['vins', 'santé', 'résidus', 'résidus de pesticides', 'pesticides'] \n",
      "\n",
      "Termes spécifiques présents : ['résidus de pesticides', 'pesticides'] \n",
      "\n",
      "Termes spécifiques absents : {'développement', 'troubles', 'cassation', \"cour d'appel\", 'frelon', 'bisphénol a', 'parlementaires', 'foetus', 'malformations', 'désherbant', 'cour', 'milieu', 'confédération paysanne', 'chlordécone', 'céréalier charentais', 'expositions', 'bisphénol', 'nature environnement'} \n",
      "\n"
     ]
    },
    {
     "data": {
      "text/html": [
       "Vin et <mark style=\"background-color:yellow\">santé</mark> : Yat il des <mark style=\"background-color:yellow\">résidus</mark> de <mark style=\"background-color:pink\">pesticides</mark> dans nos <mark style=\"background-color:yellow\">vins</mark> ...:  http://url4.eu/4p8kc"
      ],
      "text/plain": [
       "<IPython.core.display.HTML object>"
      ]
     },
     "metadata": {},
     "output_type": "display_data"
    },
    {
     "data": {
      "text/html": [
       "<h2 style='text-align:center;'> Texte 16719450462 (182 sur 286)</h2>"
      ],
      "text/plain": [
       "<IPython.core.display.HTML object>"
      ]
     },
     "metadata": {},
     "output_type": "display_data"
    },
    {
     "data": {
      "text/html": [
       "<strong>Segment :</strong> 0 (2010-02-01 ; 2010-08-31)"
      ],
      "text/plain": [
       "<IPython.core.display.HTML object>"
      ]
     },
     "metadata": {},
     "output_type": "display_data"
    },
    {
     "data": {
      "text/html": [
       "<strong>Date :</strong> 2010-06-21"
      ],
      "text/plain": [
       "<IPython.core.display.HTML object>"
      ]
     },
     "metadata": {},
     "output_type": "display_data"
    },
    {
     "data": {
      "text/html": [
       "<strong>Auteur :</strong> Djilani \n"
      ],
      "text/plain": [
       "<IPython.core.display.HTML object>"
      ]
     },
     "metadata": {},
     "output_type": "display_data"
    },
    {
     "name": "stdout",
     "output_type": "stream",
     "text": [
      "Termes indexés : ['cancers', 'chlordécone', 'pesticides'] \n",
      "\n",
      "Termes spécifiques présents : ['chlordécone', 'pesticides'] \n",
      "\n",
      "Termes spécifiques absents : {'développement', 'troubles', 'cassation', \"cour d'appel\", 'frelon', 'bisphénol a', 'parlementaires', 'résidus de pesticides', 'foetus', 'malformations', 'désherbant', 'cour', 'milieu', 'confédération paysanne', 'céréalier charentais', 'expositions', 'bisphénol', 'nature environnement'} \n",
      "\n"
     ]
    },
    {
     "data": {
      "text/html": [
       "Cancer/prostate: l'effet du <mark style=\"background-color:pink\">chlordécone</mark>: Les hommes exposés au <mark style=\"background-color:pink\">chlordécone</mark>, un pesticide agricole couramment utili... http://bit.ly/d3Jp2I"
      ],
      "text/plain": [
       "<IPython.core.display.HTML object>"
      ]
     },
     "metadata": {},
     "output_type": "display_data"
    },
    {
     "data": {
      "text/html": [
       "<h2 style='text-align:center;'> Texte 16778376034 (183 sur 286)</h2>"
      ],
      "text/plain": [
       "<IPython.core.display.HTML object>"
      ]
     },
     "metadata": {},
     "output_type": "display_data"
    },
    {
     "data": {
      "text/html": [
       "<strong>Segment :</strong> 0 (2010-02-01 ; 2010-08-31)"
      ],
      "text/plain": [
       "<IPython.core.display.HTML object>"
      ]
     },
     "metadata": {},
     "output_type": "display_data"
    },
    {
     "data": {
      "text/html": [
       "<strong>Date :</strong> 2010-06-22"
      ],
      "text/plain": [
       "<IPython.core.display.HTML object>"
      ]
     },
     "metadata": {},
     "output_type": "display_data"
    },
    {
     "data": {
      "text/html": [
       "<strong>Auteur :</strong> Elise Desaulniers \n"
      ],
      "text/plain": [
       "<IPython.core.display.HTML object>"
      ]
     },
     "metadata": {},
     "output_type": "display_data"
    },
    {
     "name": "stdout",
     "output_type": "stream",
     "text": [
      "Termes indexés : ['pesticides', 'chlordécone', 'population', 'antilles'] \n",
      "\n",
      "Termes spécifiques présents : ['pesticides', 'chlordécone'] \n",
      "\n",
      "Termes spécifiques absents : {'développement', 'troubles', 'cassation', \"cour d'appel\", 'frelon', 'bisphénol a', 'parlementaires', 'résidus de pesticides', 'foetus', 'malformations', 'désherbant', 'cour', 'milieu', 'confédération paysanne', 'céréalier charentais', 'expositions', 'bisphénol', 'nature environnement'} \n",
      "\n"
     ]
    },
    {
     "data": {
      "text/html": [
       "Triste histoire : les conséquences de l'utilisation d'un pesticide, le <mark style=\"background-color:pink\">chlordécone</mark>, sur la <mark style=\"background-color:yellow\">population</mark> des <mark style=\"background-color:yellow\">antilles</mark> http://ow.ly/21JoJ"
      ],
      "text/plain": [
       "<IPython.core.display.HTML object>"
      ]
     },
     "metadata": {},
     "output_type": "display_data"
    },
    {
     "data": {
      "text/html": [
       "<h2 style='text-align:center;'> Texte 16772175329 (184 sur 286)</h2>"
      ],
      "text/plain": [
       "<IPython.core.display.HTML object>"
      ]
     },
     "metadata": {},
     "output_type": "display_data"
    },
    {
     "data": {
      "text/html": [
       "<strong>Segment :</strong> 0 (2010-02-01 ; 2010-08-31)"
      ],
      "text/plain": [
       "<IPython.core.display.HTML object>"
      ]
     },
     "metadata": {},
     "output_type": "display_data"
    },
    {
     "data": {
      "text/html": [
       "<strong>Date :</strong> 2010-06-22"
      ],
      "text/plain": [
       "<IPython.core.display.HTML object>"
      ]
     },
     "metadata": {},
     "output_type": "display_data"
    },
    {
     "data": {
      "text/html": [
       "<strong>Auteur :</strong> 🌍🗽✏ J Y Lucas \n"
      ],
      "text/plain": [
       "<IPython.core.display.HTML object>"
      ]
     },
     "metadata": {},
     "output_type": "display_data"
    },
    {
     "name": "stdout",
     "output_type": "stream",
     "text": [
      "Termes indexés : ['pesticides', 'agriculture biologique', 'chlordécone'] \n",
      "\n",
      "Termes spécifiques présents : ['pesticides', 'chlordécone'] \n",
      "\n",
      "Termes spécifiques absents : {'développement', 'troubles', 'cassation', \"cour d'appel\", 'frelon', 'bisphénol a', 'parlementaires', 'résidus de pesticides', 'foetus', 'malformations', 'désherbant', 'cour', 'milieu', 'confédération paysanne', 'céréalier charentais', 'expositions', 'bisphénol', 'nature environnement'} \n",
      "\n"
     ]
    },
    {
     "data": {
      "text/html": [
       "RT @nessyduloch: Ras-le-bol des #<mark style=\"background-color:pink\">pesticides</mark> : <mark style=\"background-color:yellow\">agriculture biologique</mark> ! #Antilles, le scandale sanitaire du <mark style=\"background-color:pink\">chlordécone</mark> http://ow.ly/21E2S"
      ],
      "text/plain": [
       "<IPython.core.display.HTML object>"
      ]
     },
     "metadata": {},
     "output_type": "display_data"
    },
    {
     "data": {
      "text/html": [
       "<h2 style='text-align:center;'> Texte 16769877894 (185 sur 286)</h2>"
      ],
      "text/plain": [
       "<IPython.core.display.HTML object>"
      ]
     },
     "metadata": {},
     "output_type": "display_data"
    },
    {
     "data": {
      "text/html": [
       "<strong>Segment :</strong> 0 (2010-02-01 ; 2010-08-31)"
      ],
      "text/plain": [
       "<IPython.core.display.HTML object>"
      ]
     },
     "metadata": {},
     "output_type": "display_data"
    },
    {
     "data": {
      "text/html": [
       "<strong>Date :</strong> 2010-06-22"
      ],
      "text/plain": [
       "<IPython.core.display.HTML object>"
      ]
     },
     "metadata": {},
     "output_type": "display_data"
    },
    {
     "data": {
      "text/html": [
       "<strong>Auteur :</strong> Le Cosmographe \n"
      ],
      "text/plain": [
       "<IPython.core.display.HTML object>"
      ]
     },
     "metadata": {},
     "output_type": "display_data"
    },
    {
     "name": "stdout",
     "output_type": "stream",
     "text": [
      "Termes indexés : ['pesticides', 'agriculture biologique', 'chlordécone'] \n",
      "\n",
      "Termes spécifiques présents : ['pesticides', 'chlordécone'] \n",
      "\n",
      "Termes spécifiques absents : {'développement', 'troubles', 'cassation', \"cour d'appel\", 'frelon', 'bisphénol a', 'parlementaires', 'résidus de pesticides', 'foetus', 'malformations', 'désherbant', 'cour', 'milieu', 'confédération paysanne', 'céréalier charentais', 'expositions', 'bisphénol', 'nature environnement'} \n",
      "\n"
     ]
    },
    {
     "data": {
      "text/html": [
       "RT @nessyduloch Ras-le-bol des #<mark style=\"background-color:pink\">pesticides</mark> : <mark style=\"background-color:yellow\">agriculture biologique</mark> ! #Antilles, le scandale sanitaire du <mark style=\"background-color:pink\">chlordécone</mark> http://ow.ly/21E2S"
      ],
      "text/plain": [
       "<IPython.core.display.HTML object>"
      ]
     },
     "metadata": {},
     "output_type": "display_data"
    },
    {
     "data": {
      "text/html": [
       "<h2 style='text-align:center;'> Texte 16860901536 (186 sur 286)</h2>"
      ],
      "text/plain": [
       "<IPython.core.display.HTML object>"
      ]
     },
     "metadata": {},
     "output_type": "display_data"
    },
    {
     "data": {
      "text/html": [
       "<strong>Segment :</strong> 0 (2010-02-01 ; 2010-08-31)"
      ],
      "text/plain": [
       "<IPython.core.display.HTML object>"
      ]
     },
     "metadata": {},
     "output_type": "display_data"
    },
    {
     "data": {
      "text/html": [
       "<strong>Date :</strong> 2010-06-23"
      ],
      "text/plain": [
       "<IPython.core.display.HTML object>"
      ]
     },
     "metadata": {},
     "output_type": "display_data"
    },
    {
     "data": {
      "text/html": [
       "<strong>Auteur :</strong> #ForumEcolo \n"
      ],
      "text/plain": [
       "<IPython.core.display.HTML object>"
      ]
     },
     "metadata": {},
     "output_type": "display_data"
    },
    {
     "name": "stdout",
     "output_type": "stream",
     "text": [
      "Termes indexés : ['expositions', 'chlordécone', 'développement', 'cancers'] \n",
      "\n",
      "Termes spécifiques présents : ['expositions', 'chlordécone', 'développement'] \n",
      "\n",
      "Termes spécifiques absents : {'troubles', 'pesticides', 'cassation', \"cour d'appel\", 'frelon', 'bisphénol a', 'parlementaires', 'résidus de pesticides', 'foetus', 'malformations', 'désherbant', 'cour', 'milieu', 'confédération paysanne', 'céréalier charentais', 'bisphénol', 'nature environnement'} \n",
      "\n"
     ]
    },
    {
     "data": {
      "text/html": [
       "Exposition au <mark style=\"background-color:pink\">chlordécone</mark> et <mark style=\"background-color:pink\">développement</mark> du cancer de la prostate : le lien est significativement établi http://bit.ly/cGHwnF"
      ],
      "text/plain": [
       "<IPython.core.display.HTML object>"
      ]
     },
     "metadata": {},
     "output_type": "display_data"
    },
    {
     "data": {
      "text/html": [
       "<h2 style='text-align:center;'> Texte 16858406793 (187 sur 286)</h2>"
      ],
      "text/plain": [
       "<IPython.core.display.HTML object>"
      ]
     },
     "metadata": {},
     "output_type": "display_data"
    },
    {
     "data": {
      "text/html": [
       "<strong>Segment :</strong> 0 (2010-02-01 ; 2010-08-31)"
      ],
      "text/plain": [
       "<IPython.core.display.HTML object>"
      ]
     },
     "metadata": {},
     "output_type": "display_data"
    },
    {
     "data": {
      "text/html": [
       "<strong>Date :</strong> 2010-06-23"
      ],
      "text/plain": [
       "<IPython.core.display.HTML object>"
      ]
     },
     "metadata": {},
     "output_type": "display_data"
    },
    {
     "data": {
      "text/html": [
       "<strong>Auteur :</strong> testdecharly \n"
      ],
      "text/plain": [
       "<IPython.core.display.HTML object>"
      ]
     },
     "metadata": {},
     "output_type": "display_data"
    },
    {
     "name": "stdout",
     "output_type": "stream",
     "text": [
      "Termes indexés : ['expositions', 'chlordécone', 'développement', 'cancers'] \n",
      "\n",
      "Termes spécifiques présents : ['expositions', 'chlordécone', 'développement'] \n",
      "\n",
      "Termes spécifiques absents : {'troubles', 'pesticides', 'cassation', \"cour d'appel\", 'frelon', 'bisphénol a', 'parlementaires', 'résidus de pesticides', 'foetus', 'malformations', 'désherbant', 'cour', 'milieu', 'confédération paysanne', 'céréalier charentais', 'bisphénol', 'nature environnement'} \n",
      "\n"
     ]
    },
    {
     "data": {
      "text/html": [
       "Exposition au <mark style=\"background-color:pink\">chlordécone</mark> et <mark style=\"background-color:pink\">développement</mark> du cancer de la prostate : le lien est significativement établi http://url4.eu/4uyJK"
      ],
      "text/plain": [
       "<IPython.core.display.HTML object>"
      ]
     },
     "metadata": {},
     "output_type": "display_data"
    },
    {
     "data": {
      "text/html": [
       "<h2 style='text-align:center;'> Texte 16854613241 (188 sur 286)</h2>"
      ],
      "text/plain": [
       "<IPython.core.display.HTML object>"
      ]
     },
     "metadata": {},
     "output_type": "display_data"
    },
    {
     "data": {
      "text/html": [
       "<strong>Segment :</strong> 0 (2010-02-01 ; 2010-08-31)"
      ],
      "text/plain": [
       "<IPython.core.display.HTML object>"
      ]
     },
     "metadata": {},
     "output_type": "display_data"
    },
    {
     "data": {
      "text/html": [
       "<strong>Date :</strong> 2010-06-23"
      ],
      "text/plain": [
       "<IPython.core.display.HTML object>"
      ]
     },
     "metadata": {},
     "output_type": "display_data"
    },
    {
     "data": {
      "text/html": [
       "<strong>Auteur :</strong> Clerpée \n"
      ],
      "text/plain": [
       "<IPython.core.display.HTML object>"
      ]
     },
     "metadata": {},
     "output_type": "display_data"
    },
    {
     "name": "stdout",
     "output_type": "stream",
     "text": [
      "Termes indexés : ['cancers', 'pesticides', 'chlordécone'] \n",
      "\n",
      "Termes spécifiques présents : ['pesticides', 'chlordécone'] \n",
      "\n",
      "Termes spécifiques absents : {'développement', 'troubles', 'cassation', \"cour d'appel\", 'frelon', 'bisphénol a', 'parlementaires', 'résidus de pesticides', 'foetus', 'malformations', 'désherbant', 'cour', 'milieu', 'confédération paysanne', 'céréalier charentais', 'expositions', 'bisphénol', 'nature environnement'} \n",
      "\n"
     ]
    },
    {
     "data": {
      "text/html": [
       "RT @terraeco  Risque de cancer avéré pour le pesticide <mark style=\"background-color:pink\">chlordécone</mark>  http://bit.ly/amvGJ6"
      ],
      "text/plain": [
       "<IPython.core.display.HTML object>"
      ]
     },
     "metadata": {},
     "output_type": "display_data"
    },
    {
     "data": {
      "text/html": [
       "<h2 style='text-align:center;'> Texte 16854213521 (189 sur 286)</h2>"
      ],
      "text/plain": [
       "<IPython.core.display.HTML object>"
      ]
     },
     "metadata": {},
     "output_type": "display_data"
    },
    {
     "data": {
      "text/html": [
       "<strong>Segment :</strong> 0 (2010-02-01 ; 2010-08-31)"
      ],
      "text/plain": [
       "<IPython.core.display.HTML object>"
      ]
     },
     "metadata": {},
     "output_type": "display_data"
    },
    {
     "data": {
      "text/html": [
       "<strong>Date :</strong> 2010-06-23"
      ],
      "text/plain": [
       "<IPython.core.display.HTML object>"
      ]
     },
     "metadata": {},
     "output_type": "display_data"
    },
    {
     "data": {
      "text/html": [
       "<strong>Auteur :</strong> Le Cosmographe \n"
      ],
      "text/plain": [
       "<IPython.core.display.HTML object>"
      ]
     },
     "metadata": {},
     "output_type": "display_data"
    },
    {
     "name": "stdout",
     "output_type": "stream",
     "text": [
      "Termes indexés : ['cancers', 'pesticides', 'chlordécone'] \n",
      "\n",
      "Termes spécifiques présents : ['pesticides', 'chlordécone'] \n",
      "\n",
      "Termes spécifiques absents : {'développement', 'troubles', 'cassation', \"cour d'appel\", 'frelon', 'bisphénol a', 'parlementaires', 'résidus de pesticides', 'foetus', 'malformations', 'désherbant', 'cour', 'milieu', 'confédération paysanne', 'céréalier charentais', 'expositions', 'bisphénol', 'nature environnement'} \n",
      "\n"
     ]
    },
    {
     "data": {
      "text/html": [
       "RT @terraeco: Risque de cancer avéré pour le pesticide <mark style=\"background-color:pink\">chlordécone</mark> http://bit.ly/amvGJ6"
      ],
      "text/plain": [
       "<IPython.core.display.HTML object>"
      ]
     },
     "metadata": {},
     "output_type": "display_data"
    },
    {
     "data": {
      "text/html": [
       "<h2 style='text-align:center;'> Texte 16860890030 (190 sur 286)</h2>"
      ],
      "text/plain": [
       "<IPython.core.display.HTML object>"
      ]
     },
     "metadata": {},
     "output_type": "display_data"
    },
    {
     "data": {
      "text/html": [
       "<strong>Segment :</strong> 0 (2010-02-01 ; 2010-08-31)"
      ],
      "text/plain": [
       "<IPython.core.display.HTML object>"
      ]
     },
     "metadata": {},
     "output_type": "display_data"
    },
    {
     "data": {
      "text/html": [
       "<strong>Date :</strong> 2010-06-23"
      ],
      "text/plain": [
       "<IPython.core.display.HTML object>"
      ]
     },
     "metadata": {},
     "output_type": "display_data"
    },
    {
     "data": {
      "text/html": [
       "<strong>Auteur :</strong> Actu Environnement \n"
      ],
      "text/plain": [
       "<IPython.core.display.HTML object>"
      ]
     },
     "metadata": {},
     "output_type": "display_data"
    },
    {
     "name": "stdout",
     "output_type": "stream",
     "text": [
      "Termes indexés : ['expositions', 'chlordécone', 'développement', 'cancers'] \n",
      "\n",
      "Termes spécifiques présents : ['expositions', 'chlordécone', 'développement'] \n",
      "\n",
      "Termes spécifiques absents : {'troubles', 'pesticides', 'cassation', \"cour d'appel\", 'frelon', 'bisphénol a', 'parlementaires', 'résidus de pesticides', 'foetus', 'malformations', 'désherbant', 'cour', 'milieu', 'confédération paysanne', 'céréalier charentais', 'bisphénol', 'nature environnement'} \n",
      "\n"
     ]
    },
    {
     "data": {
      "text/html": [
       "Exposition au <mark style=\"background-color:pink\">chlordécone</mark> et <mark style=\"background-color:pink\">développement</mark> du cancer de la prostate : le lien est significativement établi http://twurl.nl/zp2vf1"
      ],
      "text/plain": [
       "<IPython.core.display.HTML object>"
      ]
     },
     "metadata": {},
     "output_type": "display_data"
    },
    {
     "data": {
      "text/html": [
       "<h2 style='text-align:center;'> Texte 16853902326 (191 sur 286)</h2>"
      ],
      "text/plain": [
       "<IPython.core.display.HTML object>"
      ]
     },
     "metadata": {},
     "output_type": "display_data"
    },
    {
     "data": {
      "text/html": [
       "<strong>Segment :</strong> 0 (2010-02-01 ; 2010-08-31)"
      ],
      "text/plain": [
       "<IPython.core.display.HTML object>"
      ]
     },
     "metadata": {},
     "output_type": "display_data"
    },
    {
     "data": {
      "text/html": [
       "<strong>Date :</strong> 2010-06-23"
      ],
      "text/plain": [
       "<IPython.core.display.HTML object>"
      ]
     },
     "metadata": {},
     "output_type": "display_data"
    },
    {
     "data": {
      "text/html": [
       "<strong>Auteur :</strong> Terra eco \n"
      ],
      "text/plain": [
       "<IPython.core.display.HTML object>"
      ]
     },
     "metadata": {},
     "output_type": "display_data"
    },
    {
     "name": "stdout",
     "output_type": "stream",
     "text": [
      "Termes indexés : ['cancers', 'pesticides', 'chlordécone'] \n",
      "\n",
      "Termes spécifiques présents : ['pesticides', 'chlordécone'] \n",
      "\n",
      "Termes spécifiques absents : {'développement', 'troubles', 'cassation', \"cour d'appel\", 'frelon', 'bisphénol a', 'parlementaires', 'résidus de pesticides', 'foetus', 'malformations', 'désherbant', 'cour', 'milieu', 'confédération paysanne', 'céréalier charentais', 'expositions', 'bisphénol', 'nature environnement'} \n",
      "\n"
     ]
    },
    {
     "data": {
      "text/html": [
       "Risque de cancer avéré pour le pesticide <mark style=\"background-color:pink\">chlordécone</mark> http://bit.ly/amvGJ6"
      ],
      "text/plain": [
       "<IPython.core.display.HTML object>"
      ]
     },
     "metadata": {},
     "output_type": "display_data"
    },
    {
     "data": {
      "text/html": [
       "<h2 style='text-align:center;'> Texte 16836046532 (192 sur 286)</h2>"
      ],
      "text/plain": [
       "<IPython.core.display.HTML object>"
      ]
     },
     "metadata": {},
     "output_type": "display_data"
    },
    {
     "data": {
      "text/html": [
       "<strong>Segment :</strong> 0 (2010-02-01 ; 2010-08-31)"
      ],
      "text/plain": [
       "<IPython.core.display.HTML object>"
      ]
     },
     "metadata": {},
     "output_type": "display_data"
    },
    {
     "data": {
      "text/html": [
       "<strong>Date :</strong> 2010-06-23"
      ],
      "text/plain": [
       "<IPython.core.display.HTML object>"
      ]
     },
     "metadata": {},
     "output_type": "display_data"
    },
    {
     "data": {
      "text/html": [
       "<strong>Auteur :</strong> Inserm \n"
      ],
      "text/plain": [
       "<IPython.core.display.HTML object>"
      ]
     },
     "metadata": {},
     "output_type": "display_data"
    },
    {
     "name": "stdout",
     "output_type": "stream",
     "text": [
      "Termes indexés : ['expositions', 'chlordécone', 'cancers'] \n",
      "\n",
      "Termes spécifiques présents : ['expositions', 'chlordécone'] \n",
      "\n",
      "Termes spécifiques absents : {'développement', 'troubles', 'pesticides', 'cassation', \"cour d'appel\", 'frelon', 'bisphénol a', 'parlementaires', 'résidus de pesticides', 'foetus', 'malformations', 'désherbant', 'cour', 'milieu', 'confédération paysanne', 'céréalier charentais', 'bisphénol', 'nature environnement'} \n",
      "\n"
     ]
    },
    {
     "data": {
      "text/html": [
       "Consultez les résultats de l'étude \"Exposition au <mark style=\"background-color:pink\">chlordécone</mark> et risque de survenue du cancer de la prostate\" http://bit.ly/dcMkRR"
      ],
      "text/plain": [
       "<IPython.core.display.HTML object>"
      ]
     },
     "metadata": {},
     "output_type": "display_data"
    },
    {
     "data": {
      "text/html": [
       "<h2 style='text-align:center;'> Texte 16835525707 (193 sur 286)</h2>"
      ],
      "text/plain": [
       "<IPython.core.display.HTML object>"
      ]
     },
     "metadata": {},
     "output_type": "display_data"
    },
    {
     "data": {
      "text/html": [
       "<strong>Segment :</strong> 0 (2010-02-01 ; 2010-08-31)"
      ],
      "text/plain": [
       "<IPython.core.display.HTML object>"
      ]
     },
     "metadata": {},
     "output_type": "display_data"
    },
    {
     "data": {
      "text/html": [
       "<strong>Date :</strong> 2010-06-23"
      ],
      "text/plain": [
       "<IPython.core.display.HTML object>"
      ]
     },
     "metadata": {},
     "output_type": "display_data"
    },
    {
     "data": {
      "text/html": [
       "<strong>Auteur :</strong> Jérémy Edouard \n"
      ],
      "text/plain": [
       "<IPython.core.display.HTML object>"
      ]
     },
     "metadata": {},
     "output_type": "display_data"
    },
    {
     "name": "stdout",
     "output_type": "stream",
     "text": [
      "Termes indexés : ['chlordécone', 'cancers', 'pesticides'] \n",
      "\n",
      "Termes spécifiques présents : ['chlordécone', 'pesticides'] \n",
      "\n",
      "Termes spécifiques absents : {'développement', 'troubles', 'cassation', \"cour d'appel\", 'frelon', 'bisphénol a', 'parlementaires', 'résidus de pesticides', 'foetus', 'malformations', 'désherbant', 'cour', 'milieu', 'confédération paysanne', 'céréalier charentais', 'expositions', 'bisphénol', 'nature environnement'} \n",
      "\n"
     ]
    },
    {
     "data": {
      "text/html": [
       "<mark style=\"background-color:pink\">chlordécone</mark> : Le risque de cancer de la prostate augmenterait de 80 % pour les hommes exposés au pesticide http://bit.ly/d0RW9k"
      ],
      "text/plain": [
       "<IPython.core.display.HTML object>"
      ]
     },
     "metadata": {},
     "output_type": "display_data"
    },
    {
     "data": {
      "text/html": [
       "<h2 style='text-align:center;'> Texte 16833372549 (194 sur 286)</h2>"
      ],
      "text/plain": [
       "<IPython.core.display.HTML object>"
      ]
     },
     "metadata": {},
     "output_type": "display_data"
    },
    {
     "data": {
      "text/html": [
       "<strong>Segment :</strong> 0 (2010-02-01 ; 2010-08-31)"
      ],
      "text/plain": [
       "<IPython.core.display.HTML object>"
      ]
     },
     "metadata": {},
     "output_type": "display_data"
    },
    {
     "data": {
      "text/html": [
       "<strong>Date :</strong> 2010-06-23"
      ],
      "text/plain": [
       "<IPython.core.display.HTML object>"
      ]
     },
     "metadata": {},
     "output_type": "display_data"
    },
    {
     "data": {
      "text/html": [
       "<strong>Auteur :</strong> Antoine Blanchard \n"
      ],
      "text/plain": [
       "<IPython.core.display.HTML object>"
      ]
     },
     "metadata": {},
     "output_type": "display_data"
    },
    {
     "name": "stdout",
     "output_type": "stream",
     "text": [
      "Termes indexés : ['résidus', 'résidus de pesticides', 'pesticides', 'santé'] \n",
      "\n",
      "Termes spécifiques présents : ['résidus de pesticides', 'pesticides'] \n",
      "\n",
      "Termes spécifiques absents : {'développement', 'troubles', 'cassation', \"cour d'appel\", 'frelon', 'bisphénol a', 'parlementaires', 'foetus', 'malformations', 'désherbant', 'cour', 'milieu', 'confédération paysanne', 'chlordécone', 'céréalier charentais', 'expositions', 'bisphénol', 'nature environnement'} \n",
      "\n"
     ]
    },
    {
     "data": {
      "text/html": [
       "L'AFSSET recrute 1 spécialiste des indicateurs de risques et d’impacts des <mark style=\"background-color:yellow\">résidus</mark> de <mark style=\"background-color:pink\">pesticides</mark> sur l’env. et la <mark style=\"background-color:yellow\">santé</mark> http://bit.ly/c5nelG"
      ],
      "text/plain": [
       "<IPython.core.display.HTML object>"
      ]
     },
     "metadata": {},
     "output_type": "display_data"
    },
    {
     "data": {
      "text/html": [
       "<h2 style='text-align:center;'> Texte 16859941990 (195 sur 286)</h2>"
      ],
      "text/plain": [
       "<IPython.core.display.HTML object>"
      ]
     },
     "metadata": {},
     "output_type": "display_data"
    },
    {
     "data": {
      "text/html": [
       "<strong>Segment :</strong> 0 (2010-02-01 ; 2010-08-31)"
      ],
      "text/plain": [
       "<IPython.core.display.HTML object>"
      ]
     },
     "metadata": {},
     "output_type": "display_data"
    },
    {
     "data": {
      "text/html": [
       "<strong>Date :</strong> 2010-06-23"
      ],
      "text/plain": [
       "<IPython.core.display.HTML object>"
      ]
     },
     "metadata": {},
     "output_type": "display_data"
    },
    {
     "data": {
      "text/html": [
       "<strong>Auteur :</strong> Raphael Hutcheson \n"
      ],
      "text/plain": [
       "<IPython.core.display.HTML object>"
      ]
     },
     "metadata": {},
     "output_type": "display_data"
    },
    {
     "name": "stdout",
     "output_type": "stream",
     "text": [
      "Termes indexés : ['chlordécone', 'pesticides'] \n",
      "\n",
      "Termes spécifiques présents : ['chlordécone', 'pesticides'] \n",
      "\n",
      "Termes spécifiques absents : {'développement', 'troubles', 'cassation', \"cour d'appel\", 'frelon', 'bisphénol a', 'parlementaires', 'résidus de pesticides', 'foetus', 'malformations', 'désherbant', 'cour', 'milieu', 'confédération paysanne', 'céréalier charentais', 'expositions', 'bisphénol', 'nature environnement'} \n",
      "\n"
     ]
    },
    {
     "data": {
      "text/html": [
       "Le <mark style=\"background-color:pink\">chlordécone</mark>, un pesticide contre les charançons et contre l'homme - L'Express - http://tinyurl.com/28v8ast"
      ],
      "text/plain": [
       "<IPython.core.display.HTML object>"
      ]
     },
     "metadata": {},
     "output_type": "display_data"
    },
    {
     "data": {
      "text/html": [
       "<h2 style='text-align:center;'> Texte 16859699651 (196 sur 286)</h2>"
      ],
      "text/plain": [
       "<IPython.core.display.HTML object>"
      ]
     },
     "metadata": {},
     "output_type": "display_data"
    },
    {
     "data": {
      "text/html": [
       "<strong>Segment :</strong> 0 (2010-02-01 ; 2010-08-31)"
      ],
      "text/plain": [
       "<IPython.core.display.HTML object>"
      ]
     },
     "metadata": {},
     "output_type": "display_data"
    },
    {
     "data": {
      "text/html": [
       "<strong>Date :</strong> 2010-06-23"
      ],
      "text/plain": [
       "<IPython.core.display.HTML object>"
      ]
     },
     "metadata": {},
     "output_type": "display_data"
    },
    {
     "data": {
      "text/html": [
       "<strong>Auteur :</strong> Découvrir les DomTom \n"
      ],
      "text/plain": [
       "<IPython.core.display.HTML object>"
      ]
     },
     "metadata": {},
     "output_type": "display_data"
    },
    {
     "name": "stdout",
     "output_type": "stream",
     "text": [
      "Termes indexés : ['chlordécone', 'pesticides'] \n",
      "\n",
      "Termes spécifiques présents : ['chlordécone', 'pesticides'] \n",
      "\n",
      "Termes spécifiques absents : {'développement', 'troubles', 'cassation', \"cour d'appel\", 'frelon', 'bisphénol a', 'parlementaires', 'résidus de pesticides', 'foetus', 'malformations', 'désherbant', 'cour', 'milieu', 'confédération paysanne', 'céréalier charentais', 'expositions', 'bisphénol', 'nature environnement'} \n",
      "\n"
     ]
    },
    {
     "data": {
      "text/html": [
       "Le <mark style=\"background-color:pink\">chlordécone</mark>, un pesticide contre les charançons et contre l'homme - L'Express: http://shorten.ws/c524e3"
      ],
      "text/plain": [
       "<IPython.core.display.HTML object>"
      ]
     },
     "metadata": {},
     "output_type": "display_data"
    },
    {
     "data": {
      "text/html": [
       "<h2 style='text-align:center;'> Texte 16859613873 (197 sur 286)</h2>"
      ],
      "text/plain": [
       "<IPython.core.display.HTML object>"
      ]
     },
     "metadata": {},
     "output_type": "display_data"
    },
    {
     "data": {
      "text/html": [
       "<strong>Segment :</strong> 0 (2010-02-01 ; 2010-08-31)"
      ],
      "text/plain": [
       "<IPython.core.display.HTML object>"
      ]
     },
     "metadata": {},
     "output_type": "display_data"
    },
    {
     "data": {
      "text/html": [
       "<strong>Date :</strong> 2010-06-23"
      ],
      "text/plain": [
       "<IPython.core.display.HTML object>"
      ]
     },
     "metadata": {},
     "output_type": "display_data"
    },
    {
     "data": {
      "text/html": [
       "<strong>Auteur :</strong> Découvrir les DomTom \n"
      ],
      "text/plain": [
       "<IPython.core.display.HTML object>"
      ]
     },
     "metadata": {},
     "output_type": "display_data"
    },
    {
     "name": "stdout",
     "output_type": "stream",
     "text": [
      "Termes indexés : ['chlordécone', 'pesticides'] \n",
      "\n",
      "Termes spécifiques présents : ['chlordécone', 'pesticides'] \n",
      "\n",
      "Termes spécifiques absents : {'développement', 'troubles', 'cassation', \"cour d'appel\", 'frelon', 'bisphénol a', 'parlementaires', 'résidus de pesticides', 'foetus', 'malformations', 'désherbant', 'cour', 'milieu', 'confédération paysanne', 'céréalier charentais', 'expositions', 'bisphénol', 'nature environnement'} \n",
      "\n"
     ]
    },
    {
     "data": {
      "text/html": [
       "Le <mark style=\"background-color:pink\">chlordécone</mark>, un pesticide contre les charançons et contre l'homme - L'Express: http://shorten.ws/b725"
      ],
      "text/plain": [
       "<IPython.core.display.HTML object>"
      ]
     },
     "metadata": {},
     "output_type": "display_data"
    },
    {
     "data": {
      "text/html": [
       "<h2 style='text-align:center;'> Texte 16948057840 (198 sur 286)</h2>"
      ],
      "text/plain": [
       "<IPython.core.display.HTML object>"
      ]
     },
     "metadata": {},
     "output_type": "display_data"
    },
    {
     "data": {
      "text/html": [
       "<strong>Segment :</strong> 0 (2010-02-01 ; 2010-08-31)"
      ],
      "text/plain": [
       "<IPython.core.display.HTML object>"
      ]
     },
     "metadata": {},
     "output_type": "display_data"
    },
    {
     "data": {
      "text/html": [
       "<strong>Date :</strong> 2010-06-24"
      ],
      "text/plain": [
       "<IPython.core.display.HTML object>"
      ]
     },
     "metadata": {},
     "output_type": "display_data"
    },
    {
     "data": {
      "text/html": [
       "<strong>Auteur :</strong> Laurent GIMALAC \n"
      ],
      "text/plain": [
       "<IPython.core.display.HTML object>"
      ]
     },
     "metadata": {},
     "output_type": "display_data"
    },
    {
     "name": "stdout",
     "output_type": "stream",
     "text": [
      "Termes indexés : ['chlordécone', 'pesticides', 'santé'] \n",
      "\n",
      "Termes spécifiques présents : ['chlordécone', 'pesticides'] \n",
      "\n",
      "Termes spécifiques absents : {'développement', 'troubles', 'cassation', \"cour d'appel\", 'frelon', 'bisphénol a', 'parlementaires', 'résidus de pesticides', 'foetus', 'malformations', 'désherbant', 'cour', 'milieu', 'confédération paysanne', 'céréalier charentais', 'expositions', 'bisphénol', 'nature environnement'} \n",
      "\n"
     ]
    },
    {
     "data": {
      "text/html": [
       "Le <mark style=\"background-color:pink\">chlordécone</mark>, un pesticide qui touche la <mark style=\"background-color:yellow\">santé</mark> des Antillais http://tinyurl.com/34pdmxh"
      ],
      "text/plain": [
       "<IPython.core.display.HTML object>"
      ]
     },
     "metadata": {},
     "output_type": "display_data"
    },
    {
     "data": {
      "text/html": [
       "<h2 style='text-align:center;'> Texte 16942876456 (199 sur 286)</h2>"
      ],
      "text/plain": [
       "<IPython.core.display.HTML object>"
      ]
     },
     "metadata": {},
     "output_type": "display_data"
    },
    {
     "data": {
      "text/html": [
       "<strong>Segment :</strong> 0 (2010-02-01 ; 2010-08-31)"
      ],
      "text/plain": [
       "<IPython.core.display.HTML object>"
      ]
     },
     "metadata": {},
     "output_type": "display_data"
    },
    {
     "data": {
      "text/html": [
       "<strong>Date :</strong> 2010-06-24"
      ],
      "text/plain": [
       "<IPython.core.display.HTML object>"
      ]
     },
     "metadata": {},
     "output_type": "display_data"
    },
    {
     "data": {
      "text/html": [
       "<strong>Auteur :</strong> Laura Zendrini \n"
      ],
      "text/plain": [
       "<IPython.core.display.HTML object>"
      ]
     },
     "metadata": {},
     "output_type": "display_data"
    },
    {
     "name": "stdout",
     "output_type": "stream",
     "text": [
      "Termes indexés : ['chlordécone', 'recherche', 'paris', 'parlementaires'] \n",
      "\n",
      "Termes spécifiques présents : ['chlordécone', 'parlementaires'] \n",
      "\n",
      "Termes spécifiques absents : {'développement', 'troubles', 'pesticides', 'cassation', \"cour d'appel\", 'frelon', 'bisphénol a', 'résidus de pesticides', 'foetus', 'malformations', 'désherbant', 'cour', 'milieu', 'confédération paysanne', 'céréalier charentais', 'expositions', 'bisphénol', 'nature environnement'} \n",
      "\n"
     ]
    },
    {
     "data": {
      "text/html": [
       "<mark style=\"background-color:pink\">chlordécone</mark>: la <mark style=\"background-color:yellow\">recherche</mark> des 1.500 tonnes \"perdues\" devient indispensable: <mark style=\"background-color:yellow\">paris</mark> (France) - Des <mark style=\"background-color:pink\">parlementaires</mark> on... http://bit.ly/d6WuJc"
      ],
      "text/plain": [
       "<IPython.core.display.HTML object>"
      ]
     },
     "metadata": {},
     "output_type": "display_data"
    },
    {
     "data": {
      "text/html": [
       "<h2 style='text-align:center;'> Texte 16927519926 (200 sur 286)</h2>"
      ],
      "text/plain": [
       "<IPython.core.display.HTML object>"
      ]
     },
     "metadata": {},
     "output_type": "display_data"
    },
    {
     "data": {
      "text/html": [
       "<strong>Segment :</strong> 0 (2010-02-01 ; 2010-08-31)"
      ],
      "text/plain": [
       "<IPython.core.display.HTML object>"
      ]
     },
     "metadata": {},
     "output_type": "display_data"
    },
    {
     "data": {
      "text/html": [
       "<strong>Date :</strong> 2010-06-24"
      ],
      "text/plain": [
       "<IPython.core.display.HTML object>"
      ]
     },
     "metadata": {},
     "output_type": "display_data"
    },
    {
     "data": {
      "text/html": [
       "<strong>Auteur :</strong> testdecharly \n"
      ],
      "text/plain": [
       "<IPython.core.display.HTML object>"
      ]
     },
     "metadata": {},
     "output_type": "display_data"
    },
    {
     "name": "stdout",
     "output_type": "stream",
     "text": [
      "Termes indexés : ['expositions', 'chlordécone', 'développement', 'cancers'] \n",
      "\n",
      "Termes spécifiques présents : ['expositions', 'chlordécone', 'développement'] \n",
      "\n",
      "Termes spécifiques absents : {'troubles', 'pesticides', 'cassation', \"cour d'appel\", 'frelon', 'bisphénol a', 'parlementaires', 'résidus de pesticides', 'foetus', 'malformations', 'désherbant', 'cour', 'milieu', 'confédération paysanne', 'céréalier charentais', 'bisphénol', 'nature environnement'} \n",
      "\n"
     ]
    },
    {
     "data": {
      "text/html": [
       "Exposition au <mark style=\"background-color:pink\">chlordécone</mark> et <mark style=\"background-color:pink\">développement</mark> du cancer de la prostate : le lien est significativement établi http://url4.eu/4xtHY"
      ],
      "text/plain": [
       "<IPython.core.display.HTML object>"
      ]
     },
     "metadata": {},
     "output_type": "display_data"
    },
    {
     "data": {
      "text/html": [
       "<h2 style='text-align:center;'> Texte 16920949616 (201 sur 286)</h2>"
      ],
      "text/plain": [
       "<IPython.core.display.HTML object>"
      ]
     },
     "metadata": {},
     "output_type": "display_data"
    },
    {
     "data": {
      "text/html": [
       "<strong>Segment :</strong> 0 (2010-02-01 ; 2010-08-31)"
      ],
      "text/plain": [
       "<IPython.core.display.HTML object>"
      ]
     },
     "metadata": {},
     "output_type": "display_data"
    },
    {
     "data": {
      "text/html": [
       "<strong>Date :</strong> 2010-06-24"
      ],
      "text/plain": [
       "<IPython.core.display.HTML object>"
      ]
     },
     "metadata": {},
     "output_type": "display_data"
    },
    {
     "data": {
      "text/html": [
       "<strong>Auteur :</strong> .: G :. \n"
      ],
      "text/plain": [
       "<IPython.core.display.HTML object>"
      ]
     },
     "metadata": {},
     "output_type": "display_data"
    },
    {
     "name": "stdout",
     "output_type": "stream",
     "text": [
      "Termes indexés : ['pesticides', 'chlordécone', 'antilles', 'cancers'] \n",
      "\n",
      "Termes spécifiques présents : ['pesticides', 'chlordécone'] \n",
      "\n",
      "Termes spécifiques absents : {'développement', 'troubles', 'cassation', \"cour d'appel\", 'frelon', 'bisphénol a', 'parlementaires', 'résidus de pesticides', 'foetus', 'malformations', 'désherbant', 'cour', 'milieu', 'confédération paysanne', 'céréalier charentais', 'expositions', 'bisphénol', 'nature environnement'} \n",
      "\n"
     ]
    },
    {
     "data": {
      "text/html": [
       "Le pesticide <mark style=\"background-color:pink\">chlordécone</mark> massivement utilisé aux <mark style=\"background-color:yellow\">antilles</mark>,est responsable de <mark style=\"background-color:yellow\">cancers</mark> de la prostate (saw in @newsfire) http://bit.ly/c1JVgg"
      ],
      "text/plain": [
       "<IPython.core.display.HTML object>"
      ]
     },
     "metadata": {},
     "output_type": "display_data"
    },
    {
     "data": {
      "text/html": [
       "<h2 style='text-align:center;'> Texte 16919115432 (202 sur 286)</h2>"
      ],
      "text/plain": [
       "<IPython.core.display.HTML object>"
      ]
     },
     "metadata": {},
     "output_type": "display_data"
    },
    {
     "data": {
      "text/html": [
       "<strong>Segment :</strong> 0 (2010-02-01 ; 2010-08-31)"
      ],
      "text/plain": [
       "<IPython.core.display.HTML object>"
      ]
     },
     "metadata": {},
     "output_type": "display_data"
    },
    {
     "data": {
      "text/html": [
       "<strong>Date :</strong> 2010-06-24"
      ],
      "text/plain": [
       "<IPython.core.display.HTML object>"
      ]
     },
     "metadata": {},
     "output_type": "display_data"
    },
    {
     "data": {
      "text/html": [
       "<strong>Auteur :</strong> Découvrir les DomTom \n"
      ],
      "text/plain": [
       "<IPython.core.display.HTML object>"
      ]
     },
     "metadata": {},
     "output_type": "display_data"
    },
    {
     "name": "stdout",
     "output_type": "stream",
     "text": [
      "Termes indexés : ['expositions', 'chlordécone'] \n",
      "\n",
      "Termes spécifiques présents : ['expositions', 'chlordécone'] \n",
      "\n",
      "Termes spécifiques absents : {'développement', 'troubles', 'pesticides', 'cassation', \"cour d'appel\", 'frelon', 'bisphénol a', 'parlementaires', 'résidus de pesticides', 'foetus', 'malformations', 'désherbant', 'cour', 'milieu', 'confédération paysanne', 'céréalier charentais', 'bisphénol', 'nature environnement'} \n",
      "\n"
     ]
    },
    {
     "data": {
      "text/html": [
       "Exposition au <mark style=\"background-color:pink\">chlordécone</mark> : renforcement du plan pour améliorer la ... - Le Parisien: http://shorten.ws/642dec"
      ],
      "text/plain": [
       "<IPython.core.display.HTML object>"
      ]
     },
     "metadata": {},
     "output_type": "display_data"
    },
    {
     "data": {
      "text/html": [
       "<h2 style='text-align:center;'> Texte 16915052465 (203 sur 286)</h2>"
      ],
      "text/plain": [
       "<IPython.core.display.HTML object>"
      ]
     },
     "metadata": {},
     "output_type": "display_data"
    },
    {
     "data": {
      "text/html": [
       "<strong>Segment :</strong> 0 (2010-02-01 ; 2010-08-31)"
      ],
      "text/plain": [
       "<IPython.core.display.HTML object>"
      ]
     },
     "metadata": {},
     "output_type": "display_data"
    },
    {
     "data": {
      "text/html": [
       "<strong>Date :</strong> 2010-06-24"
      ],
      "text/plain": [
       "<IPython.core.display.HTML object>"
      ]
     },
     "metadata": {},
     "output_type": "display_data"
    },
    {
     "data": {
      "text/html": [
       "<strong>Auteur :</strong> #ForumEcolo \n"
      ],
      "text/plain": [
       "<IPython.core.display.HTML object>"
      ]
     },
     "metadata": {},
     "output_type": "display_data"
    },
    {
     "name": "stdout",
     "output_type": "stream",
     "text": [
      "Termes indexés : ['chlordécone', 'pesticides', 'santé'] \n",
      "\n",
      "Termes spécifiques présents : ['chlordécone', 'pesticides'] \n",
      "\n",
      "Termes spécifiques absents : {'développement', 'troubles', 'cassation', \"cour d'appel\", 'frelon', 'bisphénol a', 'parlementaires', 'résidus de pesticides', 'foetus', 'malformations', 'désherbant', 'cour', 'milieu', 'confédération paysanne', 'céréalier charentais', 'expositions', 'bisphénol', 'nature environnement'} \n",
      "\n"
     ]
    },
    {
     "data": {
      "text/html": [
       "Le <mark style=\"background-color:pink\">chlordécone</mark>, un pesticide qui touche la <mark style=\"background-color:yellow\">santé</mark> des Antillais http://bit.ly/aeNJJD"
      ],
      "text/plain": [
       "<IPython.core.display.HTML object>"
      ]
     },
     "metadata": {},
     "output_type": "display_data"
    },
    {
     "data": {
      "text/html": [
       "<h2 style='text-align:center;'> Texte 16913198125 (204 sur 286)</h2>"
      ],
      "text/plain": [
       "<IPython.core.display.HTML object>"
      ]
     },
     "metadata": {},
     "output_type": "display_data"
    },
    {
     "data": {
      "text/html": [
       "<strong>Segment :</strong> 0 (2010-02-01 ; 2010-08-31)"
      ],
      "text/plain": [
       "<IPython.core.display.HTML object>"
      ]
     },
     "metadata": {},
     "output_type": "display_data"
    },
    {
     "data": {
      "text/html": [
       "<strong>Date :</strong> 2010-06-24"
      ],
      "text/plain": [
       "<IPython.core.display.HTML object>"
      ]
     },
     "metadata": {},
     "output_type": "display_data"
    },
    {
     "data": {
      "text/html": [
       "<strong>Auteur :</strong> Autour du Bio \n"
      ],
      "text/plain": [
       "<IPython.core.display.HTML object>"
      ]
     },
     "metadata": {},
     "output_type": "display_data"
    },
    {
     "name": "stdout",
     "output_type": "stream",
     "text": [
      "Termes indexés : ['chlordécone', 'pesticides', 'santé'] \n",
      "\n",
      "Termes spécifiques présents : ['chlordécone', 'pesticides'] \n",
      "\n",
      "Termes spécifiques absents : {'développement', 'troubles', 'cassation', \"cour d'appel\", 'frelon', 'bisphénol a', 'parlementaires', 'résidus de pesticides', 'foetus', 'malformations', 'désherbant', 'cour', 'milieu', 'confédération paysanne', 'céréalier charentais', 'expositions', 'bisphénol', 'nature environnement'} \n",
      "\n"
     ]
    },
    {
     "data": {
      "text/html": [
       "Le <mark style=\"background-color:pink\">chlordécone</mark>, un pesticide qui touche la <mark style=\"background-color:yellow\">santé</mark> des Antillais: Le <mark style=\"background-color:pink\">chlordécone</mark> est un pesticide organochloré coura... http://bit.ly/aWVQVB"
      ],
      "text/plain": [
       "<IPython.core.display.HTML object>"
      ]
     },
     "metadata": {},
     "output_type": "display_data"
    },
    {
     "data": {
      "text/html": [
       "<h2 style='text-align:center;'> Texte 17044529112 (205 sur 286)</h2>"
      ],
      "text/plain": [
       "<IPython.core.display.HTML object>"
      ]
     },
     "metadata": {},
     "output_type": "display_data"
    },
    {
     "data": {
      "text/html": [
       "<strong>Segment :</strong> 0 (2010-02-01 ; 2010-08-31)"
      ],
      "text/plain": [
       "<IPython.core.display.HTML object>"
      ]
     },
     "metadata": {},
     "output_type": "display_data"
    },
    {
     "data": {
      "text/html": [
       "<strong>Date :</strong> 2010-06-25"
      ],
      "text/plain": [
       "<IPython.core.display.HTML object>"
      ]
     },
     "metadata": {},
     "output_type": "display_data"
    },
    {
     "data": {
      "text/html": [
       "<strong>Auteur :</strong> Naturabio69🥕🥕🥕 \n"
      ],
      "text/plain": [
       "<IPython.core.display.HTML object>"
      ]
     },
     "metadata": {},
     "output_type": "display_data"
    },
    {
     "name": "stdout",
     "output_type": "stream",
     "text": [
      "Termes indexés : ['développement', 'pesticides'] \n",
      "\n",
      "Termes spécifiques présents : ['développement', 'pesticides'] \n",
      "\n",
      "Termes spécifiques absents : {'troubles', 'cassation', \"cour d'appel\", 'frelon', 'bisphénol a', 'parlementaires', 'résidus de pesticides', 'foetus', 'malformations', 'désherbant', 'cour', 'milieu', 'confédération paysanne', 'chlordécone', 'céréalier charentais', 'expositions', 'bisphénol', 'nature environnement'} \n",
      "\n"
     ]
    },
    {
     "data": {
      "text/html": [
       "Le Ministère du <mark style=\"background-color:pink\">développement</mark> durable sensibilise les jardiniers vis-à vis des <mark style=\"background-color:pink\">pesticides</mark> http://ow.ly/23qW5"
      ],
      "text/plain": [
       "<IPython.core.display.HTML object>"
      ]
     },
     "metadata": {},
     "output_type": "display_data"
    },
    {
     "data": {
      "text/html": [
       "<h2 style='text-align:center;'> Texte 17037812755 (206 sur 286)</h2>"
      ],
      "text/plain": [
       "<IPython.core.display.HTML object>"
      ]
     },
     "metadata": {},
     "output_type": "display_data"
    },
    {
     "data": {
      "text/html": [
       "<strong>Segment :</strong> 0 (2010-02-01 ; 2010-08-31)"
      ],
      "text/plain": [
       "<IPython.core.display.HTML object>"
      ]
     },
     "metadata": {},
     "output_type": "display_data"
    },
    {
     "data": {
      "text/html": [
       "<strong>Date :</strong> 2010-06-25"
      ],
      "text/plain": [
       "<IPython.core.display.HTML object>"
      ]
     },
     "metadata": {},
     "output_type": "display_data"
    },
    {
     "data": {
      "text/html": [
       "<strong>Auteur :</strong> Club du Vin \n"
      ],
      "text/plain": [
       "<IPython.core.display.HTML object>"
      ]
     },
     "metadata": {},
     "output_type": "display_data"
    },
    {
     "name": "stdout",
     "output_type": "stream",
     "text": [
      "Termes indexés : ['résidus', 'résidus de pesticides', 'pesticides', 'vins'] \n",
      "\n",
      "Termes spécifiques présents : ['résidus de pesticides', 'pesticides'] \n",
      "\n",
      "Termes spécifiques absents : {'développement', 'troubles', 'cassation', \"cour d'appel\", 'frelon', 'bisphénol a', 'parlementaires', 'foetus', 'malformations', 'désherbant', 'cour', 'milieu', 'confédération paysanne', 'chlordécone', 'céréalier charentais', 'expositions', 'bisphénol', 'nature environnement'} \n",
      "\n"
     ]
    },
    {
     "data": {
      "text/html": [
       "Y-a-t-il oui ou non des <mark style=\"background-color:yellow\">résidus</mark> de <mark style=\"background-color:pink\">pesticides</mark> dans le vin ...:  http://url4.eu/5223w"
      ],
      "text/plain": [
       "<IPython.core.display.HTML object>"
      ]
     },
     "metadata": {},
     "output_type": "display_data"
    },
    {
     "data": {
      "text/html": [
       "<h2 style='text-align:center;'> Texte 17024994815 (207 sur 286)</h2>"
      ],
      "text/plain": [
       "<IPython.core.display.HTML object>"
      ]
     },
     "metadata": {},
     "output_type": "display_data"
    },
    {
     "data": {
      "text/html": [
       "<strong>Segment :</strong> 0 (2010-02-01 ; 2010-08-31)"
      ],
      "text/plain": [
       "<IPython.core.display.HTML object>"
      ]
     },
     "metadata": {},
     "output_type": "display_data"
    },
    {
     "data": {
      "text/html": [
       "<strong>Date :</strong> 2010-06-25"
      ],
      "text/plain": [
       "<IPython.core.display.HTML object>"
      ]
     },
     "metadata": {},
     "output_type": "display_data"
    },
    {
     "data": {
      "text/html": [
       "<strong>Auteur :</strong> Découvrir les DomTom \n"
      ],
      "text/plain": [
       "<IPython.core.display.HTML object>"
      ]
     },
     "metadata": {},
     "output_type": "display_data"
    },
    {
     "name": "stdout",
     "output_type": "stream",
     "text": [
      "Termes indexés : ['chlordécone', 'pesticides'] \n",
      "\n",
      "Termes spécifiques présents : ['chlordécone', 'pesticides'] \n",
      "\n",
      "Termes spécifiques absents : {'développement', 'troubles', 'cassation', \"cour d'appel\", 'frelon', 'bisphénol a', 'parlementaires', 'résidus de pesticides', 'foetus', 'malformations', 'désherbant', 'cour', 'milieu', 'confédération paysanne', 'céréalier charentais', 'expositions', 'bisphénol', 'nature environnement'} \n",
      "\n"
     ]
    },
    {
     "data": {
      "text/html": [
       "Le <mark style=\"background-color:pink\">chlordécone</mark>, un pesticide cancérigène utilisé dans les bananeraies - Maxisciences: http://shorten.ws/b0f207"
      ],
      "text/plain": [
       "<IPython.core.display.HTML object>"
      ]
     },
     "metadata": {},
     "output_type": "display_data"
    },
    {
     "data": {
      "text/html": [
       "<h2 style='text-align:center;'> Texte 17022337410 (208 sur 286)</h2>"
      ],
      "text/plain": [
       "<IPython.core.display.HTML object>"
      ]
     },
     "metadata": {},
     "output_type": "display_data"
    },
    {
     "data": {
      "text/html": [
       "<strong>Segment :</strong> 0 (2010-02-01 ; 2010-08-31)"
      ],
      "text/plain": [
       "<IPython.core.display.HTML object>"
      ]
     },
     "metadata": {},
     "output_type": "display_data"
    },
    {
     "data": {
      "text/html": [
       "<strong>Date :</strong> 2010-06-25"
      ],
      "text/plain": [
       "<IPython.core.display.HTML object>"
      ]
     },
     "metadata": {},
     "output_type": "display_data"
    },
    {
     "data": {
      "text/html": [
       "<strong>Auteur :</strong> RFO.fr \n"
      ],
      "text/plain": [
       "<IPython.core.display.HTML object>"
      ]
     },
     "metadata": {},
     "output_type": "display_data"
    },
    {
     "name": "stdout",
     "output_type": "stream",
     "text": [
      "Termes indexés : ['parlementaires', 'chlordécone'] \n",
      "\n",
      "Termes spécifiques présents : ['parlementaires', 'chlordécone'] \n",
      "\n",
      "Termes spécifiques absents : {'développement', 'troubles', 'pesticides', 'cassation', \"cour d'appel\", 'frelon', 'bisphénol a', 'résidus de pesticides', 'foetus', 'malformations', 'désherbant', 'cour', 'milieu', 'confédération paysanne', 'céréalier charentais', 'expositions', 'bisphénol', 'nature environnement'} \n",
      "\n"
     ]
    },
    {
     "data": {
      "text/html": [
       "Des <mark style=\"background-color:pink\">parlementaires</mark> évoquent le \"lien maintenant établi entre la <mark style=\"background-color:pink\">chlordécone</mark> et la recrudescence du risque de... http://fb.me/vBqRkbmL"
      ],
      "text/plain": [
       "<IPython.core.display.HTML object>"
      ]
     },
     "metadata": {},
     "output_type": "display_data"
    },
    {
     "data": {
      "text/html": [
       "<h2 style='text-align:center;'> Texte 17003569058 (209 sur 286)</h2>"
      ],
      "text/plain": [
       "<IPython.core.display.HTML object>"
      ]
     },
     "metadata": {},
     "output_type": "display_data"
    },
    {
     "data": {
      "text/html": [
       "<strong>Segment :</strong> 0 (2010-02-01 ; 2010-08-31)"
      ],
      "text/plain": [
       "<IPython.core.display.HTML object>"
      ]
     },
     "metadata": {},
     "output_type": "display_data"
    },
    {
     "data": {
      "text/html": [
       "<strong>Date :</strong> 2010-06-25"
      ],
      "text/plain": [
       "<IPython.core.display.HTML object>"
      ]
     },
     "metadata": {},
     "output_type": "display_data"
    },
    {
     "data": {
      "text/html": [
       "<strong>Auteur :</strong> News Santé \n"
      ],
      "text/plain": [
       "<IPython.core.display.HTML object>"
      ]
     },
     "metadata": {},
     "output_type": "display_data"
    },
    {
     "name": "stdout",
     "output_type": "stream",
     "text": [
      "Termes indexés : ['expositions', 'chlordécone', 'cancers'] \n",
      "\n",
      "Termes spécifiques présents : ['expositions', 'chlordécone'] \n",
      "\n",
      "Termes spécifiques absents : {'développement', 'troubles', 'pesticides', 'cassation', \"cour d'appel\", 'frelon', 'bisphénol a', 'parlementaires', 'résidus de pesticides', 'foetus', 'malformations', 'désherbant', 'cour', 'milieu', 'confédération paysanne', 'céréalier charentais', 'bisphénol', 'nature environnement'} \n",
      "\n"
     ]
    },
    {
     "data": {
      "text/html": [
       "Exposition au <mark style=\"background-color:pink\">chlordécone</mark> et risque de survenue du cancer de la prostate http://bit.ly/93YE5G"
      ],
      "text/plain": [
       "<IPython.core.display.HTML object>"
      ]
     },
     "metadata": {},
     "output_type": "display_data"
    },
    {
     "data": {
      "text/html": [
       "<h2 style='text-align:center;'> Texte 17044529509 (210 sur 286)</h2>"
      ],
      "text/plain": [
       "<IPython.core.display.HTML object>"
      ]
     },
     "metadata": {},
     "output_type": "display_data"
    },
    {
     "data": {
      "text/html": [
       "<strong>Segment :</strong> 0 (2010-02-01 ; 2010-08-31)"
      ],
      "text/plain": [
       "<IPython.core.display.HTML object>"
      ]
     },
     "metadata": {},
     "output_type": "display_data"
    },
    {
     "data": {
      "text/html": [
       "<strong>Date :</strong> 2010-06-25"
      ],
      "text/plain": [
       "<IPython.core.display.HTML object>"
      ]
     },
     "metadata": {},
     "output_type": "display_data"
    },
    {
     "data": {
      "text/html": [
       "<strong>Auteur :</strong> Koella Kate \n"
      ],
      "text/plain": [
       "<IPython.core.display.HTML object>"
      ]
     },
     "metadata": {},
     "output_type": "display_data"
    },
    {
     "name": "stdout",
     "output_type": "stream",
     "text": [
      "Termes indexés : ['développement', 'pesticides'] \n",
      "\n",
      "Termes spécifiques présents : ['développement', 'pesticides'] \n",
      "\n",
      "Termes spécifiques absents : {'troubles', 'cassation', \"cour d'appel\", 'frelon', 'bisphénol a', 'parlementaires', 'résidus de pesticides', 'foetus', 'malformations', 'désherbant', 'cour', 'milieu', 'confédération paysanne', 'chlordécone', 'céréalier charentais', 'expositions', 'bisphénol', 'nature environnement'} \n",
      "\n"
     ]
    },
    {
     "data": {
      "text/html": [
       "Le Ministère du <mark style=\"background-color:pink\">développement</mark> durable sensibilise les jardiniers vis-à vis des <mark style=\"background-color:pink\">pesticides</mark> http://ow.ly/23qZ3"
      ],
      "text/plain": [
       "<IPython.core.display.HTML object>"
      ]
     },
     "metadata": {},
     "output_type": "display_data"
    },
    {
     "data": {
      "text/html": [
       "<h2 style='text-align:center;'> Texte 17248565438 (211 sur 286)</h2>"
      ],
      "text/plain": [
       "<IPython.core.display.HTML object>"
      ]
     },
     "metadata": {},
     "output_type": "display_data"
    },
    {
     "data": {
      "text/html": [
       "<strong>Segment :</strong> 0 (2010-02-01 ; 2010-08-31)"
      ],
      "text/plain": [
       "<IPython.core.display.HTML object>"
      ]
     },
     "metadata": {},
     "output_type": "display_data"
    },
    {
     "data": {
      "text/html": [
       "<strong>Date :</strong> 2010-06-28"
      ],
      "text/plain": [
       "<IPython.core.display.HTML object>"
      ]
     },
     "metadata": {},
     "output_type": "display_data"
    },
    {
     "data": {
      "text/html": [
       "<strong>Auteur :</strong> Autour du Bio \n"
      ],
      "text/plain": [
       "<IPython.core.display.HTML object>"
      ]
     },
     "metadata": {},
     "output_type": "display_data"
    },
    {
     "name": "stdout",
     "output_type": "stream",
     "text": [
      "Termes indexés : ['pesticides', 'développement'] \n",
      "\n",
      "Termes spécifiques présents : ['pesticides', 'développement'] \n",
      "\n",
      "Termes spécifiques absents : {'troubles', 'cassation', \"cour d'appel\", 'frelon', 'bisphénol a', 'parlementaires', 'résidus de pesticides', 'foetus', 'malformations', 'désherbant', 'cour', 'milieu', 'confédération paysanne', 'chlordécone', 'céréalier charentais', 'expositions', 'bisphénol', 'nature environnement'} \n",
      "\n"
     ]
    },
    {
     "data": {
      "text/html": [
       "Pub contre l'abus de <mark style=\"background-color:pink\">pesticides</mark> chez les jardiniers amateurs: Le Ministère du <mark style=\"background-color:pink\">développement</mark> Durable et l’Office Na... http://bit.ly/bE2Yl0"
      ],
      "text/plain": [
       "<IPython.core.display.HTML object>"
      ]
     },
     "metadata": {},
     "output_type": "display_data"
    },
    {
     "data": {
      "text/html": [
       "<h2 style='text-align:center;'> Texte 17226164208 (212 sur 286)</h2>"
      ],
      "text/plain": [
       "<IPython.core.display.HTML object>"
      ]
     },
     "metadata": {},
     "output_type": "display_data"
    },
    {
     "data": {
      "text/html": [
       "<strong>Segment :</strong> 0 (2010-02-01 ; 2010-08-31)"
      ],
      "text/plain": [
       "<IPython.core.display.HTML object>"
      ]
     },
     "metadata": {},
     "output_type": "display_data"
    },
    {
     "data": {
      "text/html": [
       "<strong>Date :</strong> 2010-06-28"
      ],
      "text/plain": [
       "<IPython.core.display.HTML object>"
      ]
     },
     "metadata": {},
     "output_type": "display_data"
    },
    {
     "data": {
      "text/html": [
       "<strong>Auteur :</strong> ɛnℂo𝓻ɛ ℂℌɛ𝓻ℂℌɛµ𝓻 Sµ𝓻tout ɛn t𝓻ɷvɷiℓ ™ ᵖᵃʳᵒᵈᶦᵉ \n"
      ],
      "text/plain": [
       "<IPython.core.display.HTML object>"
      ]
     },
     "metadata": {},
     "output_type": "display_data"
    },
    {
     "name": "stdout",
     "output_type": "stream",
     "text": [
      "Termes indexés : ['chlordécone', 'pesticides', 'cancers'] \n",
      "\n",
      "Termes spécifiques présents : ['chlordécone', 'pesticides'] \n",
      "\n",
      "Termes spécifiques absents : {'développement', 'troubles', 'cassation', \"cour d'appel\", 'frelon', 'bisphénol a', 'parlementaires', 'résidus de pesticides', 'foetus', 'malformations', 'désherbant', 'cour', 'milieu', 'confédération paysanne', 'céréalier charentais', 'expositions', 'bisphénol', 'nature environnement'} \n",
      "\n"
     ]
    },
    {
     "data": {
      "text/html": [
       "[Revue de Presse] :Polémique autour du <mark style=\"background-color:pink\">chlordécone</mark>, pesticide à l'origine de <mark style=\"background-color:yellow\">cancers</mark> http://ping.fm/EAIZf"
      ],
      "text/plain": [
       "<IPython.core.display.HTML object>"
      ]
     },
     "metadata": {},
     "output_type": "display_data"
    },
    {
     "data": {
      "text/html": [
       "<h2 style='text-align:center;'> Texte 17289827137 (213 sur 286)</h2>"
      ],
      "text/plain": [
       "<IPython.core.display.HTML object>"
      ]
     },
     "metadata": {},
     "output_type": "display_data"
    },
    {
     "data": {
      "text/html": [
       "<strong>Segment :</strong> 0 (2010-02-01 ; 2010-08-31)"
      ],
      "text/plain": [
       "<IPython.core.display.HTML object>"
      ]
     },
     "metadata": {},
     "output_type": "display_data"
    },
    {
     "data": {
      "text/html": [
       "<strong>Date :</strong> 2010-06-29"
      ],
      "text/plain": [
       "<IPython.core.display.HTML object>"
      ]
     },
     "metadata": {},
     "output_type": "display_data"
    },
    {
     "data": {
      "text/html": [
       "<strong>Auteur :</strong> Découvrir les DomTom \n"
      ],
      "text/plain": [
       "<IPython.core.display.HTML object>"
      ]
     },
     "metadata": {},
     "output_type": "display_data"
    },
    {
     "name": "stdout",
     "output_type": "stream",
     "text": [
      "Termes indexés : ['cancers', 'chlordécone', 'développement'] \n",
      "\n",
      "Termes spécifiques présents : ['chlordécone', 'développement'] \n",
      "\n",
      "Termes spécifiques absents : {'troubles', 'pesticides', 'cassation', \"cour d'appel\", 'frelon', 'bisphénol a', 'parlementaires', 'résidus de pesticides', 'foetus', 'malformations', 'désherbant', 'cour', 'milieu', 'confédération paysanne', 'céréalier charentais', 'expositions', 'bisphénol', 'nature environnement'} \n",
      "\n"
     ]
    },
    {
     "data": {
      "text/html": [
       "Cancer de la prostate : Le <mark style=\"background-color:pink\">chlordécone</mark> mis en cause - <mark style=\"background-color:pink\">développement</mark> durable le journal: http://shorten.ws/7b67ee"
      ],
      "text/plain": [
       "<IPython.core.display.HTML object>"
      ]
     },
     "metadata": {},
     "output_type": "display_data"
    },
    {
     "data": {
      "text/html": [
       "<h2 style='text-align:center;'> Texte 17289842320 (214 sur 286)</h2>"
      ],
      "text/plain": [
       "<IPython.core.display.HTML object>"
      ]
     },
     "metadata": {},
     "output_type": "display_data"
    },
    {
     "data": {
      "text/html": [
       "<strong>Segment :</strong> 0 (2010-02-01 ; 2010-08-31)"
      ],
      "text/plain": [
       "<IPython.core.display.HTML object>"
      ]
     },
     "metadata": {},
     "output_type": "display_data"
    },
    {
     "data": {
      "text/html": [
       "<strong>Date :</strong> 2010-06-29"
      ],
      "text/plain": [
       "<IPython.core.display.HTML object>"
      ]
     },
     "metadata": {},
     "output_type": "display_data"
    },
    {
     "data": {
      "text/html": [
       "<strong>Auteur :</strong> Découvrir les DomTom \n"
      ],
      "text/plain": [
       "<IPython.core.display.HTML object>"
      ]
     },
     "metadata": {},
     "output_type": "display_data"
    },
    {
     "name": "stdout",
     "output_type": "stream",
     "text": [
      "Termes indexés : ['cancers', 'chlordécone', 'développement'] \n",
      "\n",
      "Termes spécifiques présents : ['chlordécone', 'développement'] \n",
      "\n",
      "Termes spécifiques absents : {'troubles', 'pesticides', 'cassation', \"cour d'appel\", 'frelon', 'bisphénol a', 'parlementaires', 'résidus de pesticides', 'foetus', 'malformations', 'désherbant', 'cour', 'milieu', 'confédération paysanne', 'céréalier charentais', 'expositions', 'bisphénol', 'nature environnement'} \n",
      "\n"
     ]
    },
    {
     "data": {
      "text/html": [
       "Cancer de la prostate : Le <mark style=\"background-color:pink\">chlordécone</mark> mis en cause - <mark style=\"background-color:pink\">développement</mark> durable le journal: http://shorten.ws/395ec0"
      ],
      "text/plain": [
       "<IPython.core.display.HTML object>"
      ]
     },
     "metadata": {},
     "output_type": "display_data"
    },
    {
     "data": {
      "text/html": [
       "<h2 style='text-align:center;'> Texte 17289878477 (215 sur 286)</h2>"
      ],
      "text/plain": [
       "<IPython.core.display.HTML object>"
      ]
     },
     "metadata": {},
     "output_type": "display_data"
    },
    {
     "data": {
      "text/html": [
       "<strong>Segment :</strong> 0 (2010-02-01 ; 2010-08-31)"
      ],
      "text/plain": [
       "<IPython.core.display.HTML object>"
      ]
     },
     "metadata": {},
     "output_type": "display_data"
    },
    {
     "data": {
      "text/html": [
       "<strong>Date :</strong> 2010-06-29"
      ],
      "text/plain": [
       "<IPython.core.display.HTML object>"
      ]
     },
     "metadata": {},
     "output_type": "display_data"
    },
    {
     "data": {
      "text/html": [
       "<strong>Auteur :</strong> Découvrir les DomTom \n"
      ],
      "text/plain": [
       "<IPython.core.display.HTML object>"
      ]
     },
     "metadata": {},
     "output_type": "display_data"
    },
    {
     "name": "stdout",
     "output_type": "stream",
     "text": [
      "Termes indexés : ['cancers', 'chlordécone', 'développement'] \n",
      "\n",
      "Termes spécifiques présents : ['chlordécone', 'développement'] \n",
      "\n",
      "Termes spécifiques absents : {'troubles', 'pesticides', 'cassation', \"cour d'appel\", 'frelon', 'bisphénol a', 'parlementaires', 'résidus de pesticides', 'foetus', 'malformations', 'désherbant', 'cour', 'milieu', 'confédération paysanne', 'céréalier charentais', 'expositions', 'bisphénol', 'nature environnement'} \n",
      "\n"
     ]
    },
    {
     "data": {
      "text/html": [
       "Cancer de la prostate : Le <mark style=\"background-color:pink\">chlordécone</mark> mis en cause - <mark style=\"background-color:pink\">développement</mark> durable le journal: http://shorten.ws/b68d84"
      ],
      "text/plain": [
       "<IPython.core.display.HTML object>"
      ]
     },
     "metadata": {},
     "output_type": "display_data"
    },
    {
     "data": {
      "text/html": [
       "<h2 style='text-align:center;'> Texte 17397917556 (216 sur 286)</h2>"
      ],
      "text/plain": [
       "<IPython.core.display.HTML object>"
      ]
     },
     "metadata": {},
     "output_type": "display_data"
    },
    {
     "data": {
      "text/html": [
       "<strong>Segment :</strong> 0 (2010-02-01 ; 2010-08-31)"
      ],
      "text/plain": [
       "<IPython.core.display.HTML object>"
      ]
     },
     "metadata": {},
     "output_type": "display_data"
    },
    {
     "data": {
      "text/html": [
       "<strong>Date :</strong> 2010-06-30"
      ],
      "text/plain": [
       "<IPython.core.display.HTML object>"
      ]
     },
     "metadata": {},
     "output_type": "display_data"
    },
    {
     "data": {
      "text/html": [
       "<strong>Auteur :</strong> Koella Kate \n"
      ],
      "text/plain": [
       "<IPython.core.display.HTML object>"
      ]
     },
     "metadata": {},
     "output_type": "display_data"
    },
    {
     "name": "stdout",
     "output_type": "stream",
     "text": [
      "Termes indexés : ['développement', 'pesticides'] \n",
      "\n",
      "Termes spécifiques présents : ['développement', 'pesticides'] \n",
      "\n",
      "Termes spécifiques absents : {'troubles', 'cassation', \"cour d'appel\", 'frelon', 'bisphénol a', 'parlementaires', 'résidus de pesticides', 'foetus', 'malformations', 'désherbant', 'cour', 'milieu', 'confédération paysanne', 'chlordécone', 'céréalier charentais', 'expositions', 'bisphénol', 'nature environnement'} \n",
      "\n"
     ]
    },
    {
     "data": {
      "text/html": [
       "Le Ministère du <mark style=\"background-color:pink\">développement</mark> durable sensibilise les jardiniers vis-à vis des <mark style=\"background-color:pink\">pesticides</mark> http://ow.ly/23r10"
      ],
      "text/plain": [
       "<IPython.core.display.HTML object>"
      ]
     },
     "metadata": {},
     "output_type": "display_data"
    },
    {
     "data": {
      "text/html": [
       "<h2 style='text-align:center;'> Texte 17397917672 (217 sur 286)</h2>"
      ],
      "text/plain": [
       "<IPython.core.display.HTML object>"
      ]
     },
     "metadata": {},
     "output_type": "display_data"
    },
    {
     "data": {
      "text/html": [
       "<strong>Segment :</strong> 0 (2010-02-01 ; 2010-08-31)"
      ],
      "text/plain": [
       "<IPython.core.display.HTML object>"
      ]
     },
     "metadata": {},
     "output_type": "display_data"
    },
    {
     "data": {
      "text/html": [
       "<strong>Date :</strong> 2010-06-30"
      ],
      "text/plain": [
       "<IPython.core.display.HTML object>"
      ]
     },
     "metadata": {},
     "output_type": "display_data"
    },
    {
     "data": {
      "text/html": [
       "<strong>Auteur :</strong> Naturabio69🥕🥕🥕 \n"
      ],
      "text/plain": [
       "<IPython.core.display.HTML object>"
      ]
     },
     "metadata": {},
     "output_type": "display_data"
    },
    {
     "name": "stdout",
     "output_type": "stream",
     "text": [
      "Termes indexés : ['développement', 'pesticides'] \n",
      "\n",
      "Termes spécifiques présents : ['développement', 'pesticides'] \n",
      "\n",
      "Termes spécifiques absents : {'troubles', 'cassation', \"cour d'appel\", 'frelon', 'bisphénol a', 'parlementaires', 'résidus de pesticides', 'foetus', 'malformations', 'désherbant', 'cour', 'milieu', 'confédération paysanne', 'chlordécone', 'céréalier charentais', 'expositions', 'bisphénol', 'nature environnement'} \n",
      "\n"
     ]
    },
    {
     "data": {
      "text/html": [
       "Le Ministère du <mark style=\"background-color:pink\">développement</mark> durable sensibilise les jardiniers vis-à vis des <mark style=\"background-color:pink\">pesticides</mark> http://ow.ly/23r0Z"
      ],
      "text/plain": [
       "<IPython.core.display.HTML object>"
      ]
     },
     "metadata": {},
     "output_type": "display_data"
    },
    {
     "data": {
      "text/html": [
       "<h2 style='text-align:center;'> Texte 17776118172 (218 sur 286)</h2>"
      ],
      "text/plain": [
       "<IPython.core.display.HTML object>"
      ]
     },
     "metadata": {},
     "output_type": "display_data"
    },
    {
     "data": {
      "text/html": [
       "<strong>Segment :</strong> 0 (2010-02-01 ; 2010-08-31)"
      ],
      "text/plain": [
       "<IPython.core.display.HTML object>"
      ]
     },
     "metadata": {},
     "output_type": "display_data"
    },
    {
     "data": {
      "text/html": [
       "<strong>Date :</strong> 2010-07-05"
      ],
      "text/plain": [
       "<IPython.core.display.HTML object>"
      ]
     },
     "metadata": {},
     "output_type": "display_data"
    },
    {
     "data": {
      "text/html": [
       "<strong>Auteur :</strong> camer.be \n"
      ],
      "text/plain": [
       "<IPython.core.display.HTML object>"
      ]
     },
     "metadata": {},
     "output_type": "display_data"
    },
    {
     "name": "stdout",
     "output_type": "stream",
     "text": [
      "Termes indexés : ['pollution', 'chlordécone', 'pesticides'] \n",
      "\n",
      "Termes spécifiques présents : ['chlordécone', 'pesticides'] \n",
      "\n",
      "Termes spécifiques absents : {'développement', 'troubles', 'cassation', \"cour d'appel\", 'frelon', 'bisphénol a', 'parlementaires', 'résidus de pesticides', 'foetus', 'malformations', 'désherbant', 'cour', 'milieu', 'confédération paysanne', 'céréalier charentais', 'expositions', 'bisphénol', 'nature environnement'} \n",
      "\n"
     ]
    },
    {
     "data": {
      "text/html": [
       "\\nCameroun: <mark style=\"background-color:yellow\">pollution</mark> à Njombé Penja au <mark style=\"background-color:pink\">chlordécone</mark>, un pesticide interdit en occident: Dans l’agriculture, certai... http://bit.ly/auiAq2"
      ],
      "text/plain": [
       "<IPython.core.display.HTML object>"
      ]
     },
     "metadata": {},
     "output_type": "display_data"
    },
    {
     "data": {
      "text/html": [
       "<h2 style='text-align:center;'> Texte 17775207154 (219 sur 286)</h2>"
      ],
      "text/plain": [
       "<IPython.core.display.HTML object>"
      ]
     },
     "metadata": {},
     "output_type": "display_data"
    },
    {
     "data": {
      "text/html": [
       "<strong>Segment :</strong> 0 (2010-02-01 ; 2010-08-31)"
      ],
      "text/plain": [
       "<IPython.core.display.HTML object>"
      ]
     },
     "metadata": {},
     "output_type": "display_data"
    },
    {
     "data": {
      "text/html": [
       "<strong>Date :</strong> 2010-07-05"
      ],
      "text/plain": [
       "<IPython.core.display.HTML object>"
      ]
     },
     "metadata": {},
     "output_type": "display_data"
    },
    {
     "data": {
      "text/html": [
       "<strong>Auteur :</strong> Le Coin Bio \n"
      ],
      "text/plain": [
       "<IPython.core.display.HTML object>"
      ]
     },
     "metadata": {},
     "output_type": "display_data"
    },
    {
     "name": "stdout",
     "output_type": "stream",
     "text": [
      "Termes indexés : ['expositions', 'pesticides', 'cancers'] \n",
      "\n",
      "Termes spécifiques présents : ['expositions', 'pesticides'] \n",
      "\n",
      "Termes spécifiques absents : {'développement', 'troubles', 'cassation', \"cour d'appel\", 'frelon', 'bisphénol a', 'parlementaires', 'résidus de pesticides', 'foetus', 'malformations', 'désherbant', 'cour', 'milieu', 'confédération paysanne', 'chlordécone', 'céréalier charentais', 'bisphénol', 'nature environnement'} \n",
      "\n"
     ]
    },
    {
     "data": {
      "text/html": [
       "Une exposition à des <mark style=\"background-color:pink\">pesticides</mark> augmente le risque de cancer chez l’enfant. http://www.lecoinbio.com/"
      ],
      "text/plain": [
       "<IPython.core.display.HTML object>"
      ]
     },
     "metadata": {},
     "output_type": "display_data"
    },
    {
     "data": {
      "text/html": [
       "<h2 style='text-align:center;'> Texte 17900479254 (220 sur 286)</h2>"
      ],
      "text/plain": [
       "<IPython.core.display.HTML object>"
      ]
     },
     "metadata": {},
     "output_type": "display_data"
    },
    {
     "data": {
      "text/html": [
       "<strong>Segment :</strong> 0 (2010-02-01 ; 2010-08-31)"
      ],
      "text/plain": [
       "<IPython.core.display.HTML object>"
      ]
     },
     "metadata": {},
     "output_type": "display_data"
    },
    {
     "data": {
      "text/html": [
       "<strong>Date :</strong> 2010-07-06"
      ],
      "text/plain": [
       "<IPython.core.display.HTML object>"
      ]
     },
     "metadata": {},
     "output_type": "display_data"
    },
    {
     "data": {
      "text/html": [
       "<strong>Auteur :</strong> COULEURS BIO \n"
      ],
      "text/plain": [
       "<IPython.core.display.HTML object>"
      ]
     },
     "metadata": {},
     "output_type": "display_data"
    },
    {
     "name": "stdout",
     "output_type": "stream",
     "text": [
      "Termes indexés : ['pesticides', 'résidus', 'résidus de pesticides', 'ue'] \n",
      "\n",
      "Termes spécifiques présents : ['pesticides', 'résidus de pesticides'] \n",
      "\n",
      "Termes spécifiques absents : {'développement', 'troubles', 'cassation', \"cour d'appel\", 'frelon', 'bisphénol a', 'parlementaires', 'foetus', 'malformations', 'désherbant', 'cour', 'milieu', 'confédération paysanne', 'chlordécone', 'céréalier charentais', 'expositions', 'bisphénol', 'nature environnement'} \n",
      "\n"
     ]
    },
    {
     "data": {
      "text/html": [
       "<mark style=\"background-color:pink\">pesticides</mark>: <mark style=\"background-color:yellow\">résidus</mark> de <mark style=\"background-color:pink\">pesticides</mark> <mark style=\"background-color:yellow\">ue</mark> http://goo.gl/dls8"
      ],
      "text/plain": [
       "<IPython.core.display.HTML object>"
      ]
     },
     "metadata": {},
     "output_type": "display_data"
    },
    {
     "data": {
      "text/html": [
       "<h2 style='text-align:center;'> Texte 18388246302 (221 sur 286)</h2>"
      ],
      "text/plain": [
       "<IPython.core.display.HTML object>"
      ]
     },
     "metadata": {},
     "output_type": "display_data"
    },
    {
     "data": {
      "text/html": [
       "<strong>Segment :</strong> 0 (2010-02-01 ; 2010-08-31)"
      ],
      "text/plain": [
       "<IPython.core.display.HTML object>"
      ]
     },
     "metadata": {},
     "output_type": "display_data"
    },
    {
     "data": {
      "text/html": [
       "<strong>Date :</strong> 2010-07-12"
      ],
      "text/plain": [
       "<IPython.core.display.HTML object>"
      ]
     },
     "metadata": {},
     "output_type": "display_data"
    },
    {
     "data": {
      "text/html": [
       "<strong>Auteur :</strong> Agriavis \n"
      ],
      "text/plain": [
       "<IPython.core.display.HTML object>"
      ]
     },
     "metadata": {},
     "output_type": "display_data"
    },
    {
     "name": "stdout",
     "output_type": "stream",
     "text": [
      "Termes indexés : ['résidus', 'résidus de pesticides', 'pesticides'] \n",
      "\n",
      "Termes spécifiques présents : ['résidus de pesticides', 'pesticides'] \n",
      "\n",
      "Termes spécifiques absents : {'développement', 'troubles', 'cassation', \"cour d'appel\", 'frelon', 'bisphénol a', 'parlementaires', 'foetus', 'malformations', 'désherbant', 'cour', 'milieu', 'confédération paysanne', 'chlordécone', 'céréalier charentais', 'expositions', 'bisphénol', 'nature environnement'} \n",
      "\n"
     ]
    },
    {
     "data": {
      "text/html": [
       "Les fruits et légumes européens contiennent moins de <mark style=\"background-color:yellow\">résidus</mark> de <mark style=\"background-color:pink\">pesticides</mark> que les produits importés http://tinyurl.com/2wvg656"
      ],
      "text/plain": [
       "<IPython.core.display.HTML object>"
      ]
     },
     "metadata": {},
     "output_type": "display_data"
    },
    {
     "data": {
      "text/html": [
       "<h2 style='text-align:center;'> Texte 18418601096 (222 sur 286)</h2>"
      ],
      "text/plain": [
       "<IPython.core.display.HTML object>"
      ]
     },
     "metadata": {},
     "output_type": "display_data"
    },
    {
     "data": {
      "text/html": [
       "<strong>Segment :</strong> 0 (2010-02-01 ; 2010-08-31)"
      ],
      "text/plain": [
       "<IPython.core.display.HTML object>"
      ]
     },
     "metadata": {},
     "output_type": "display_data"
    },
    {
     "data": {
      "text/html": [
       "<strong>Date :</strong> 2010-07-13"
      ],
      "text/plain": [
       "<IPython.core.display.HTML object>"
      ]
     },
     "metadata": {},
     "output_type": "display_data"
    },
    {
     "data": {
      "text/html": [
       "<strong>Auteur :</strong> Karin Kremendahl \n"
      ],
      "text/plain": [
       "<IPython.core.display.HTML object>"
      ]
     },
     "metadata": {},
     "output_type": "display_data"
    },
    {
     "name": "stdout",
     "output_type": "stream",
     "text": [
      "Termes indexés : ['résidus', 'résidus de pesticides', 'pesticides'] \n",
      "\n",
      "Termes spécifiques présents : ['résidus de pesticides', 'pesticides'] \n",
      "\n",
      "Termes spécifiques absents : {'développement', 'troubles', 'cassation', \"cour d'appel\", 'frelon', 'bisphénol a', 'parlementaires', 'foetus', 'malformations', 'désherbant', 'cour', 'milieu', 'confédération paysanne', 'chlordécone', 'céréalier charentais', 'expositions', 'bisphénol', 'nature environnement'} \n",
      "\n"
     ]
    },
    {
     "data": {
      "text/html": [
       "Le rapport annuel sur les <mark style=\"background-color:yellow\">résidus</mark> de <mark style=\"background-color:pink\">pesticides</mark>  http://www.efsa.europa.eu/fr/press/news/praper100712.htm"
      ],
      "text/plain": [
       "<IPython.core.display.HTML object>"
      ]
     },
     "metadata": {},
     "output_type": "display_data"
    },
    {
     "data": {
      "text/html": [
       "<h2 style='text-align:center;'> Texte 18424681917 (223 sur 286)</h2>"
      ],
      "text/plain": [
       "<IPython.core.display.HTML object>"
      ]
     },
     "metadata": {},
     "output_type": "display_data"
    },
    {
     "data": {
      "text/html": [
       "<strong>Segment :</strong> 0 (2010-02-01 ; 2010-08-31)"
      ],
      "text/plain": [
       "<IPython.core.display.HTML object>"
      ]
     },
     "metadata": {},
     "output_type": "display_data"
    },
    {
     "data": {
      "text/html": [
       "<strong>Date :</strong> 2010-07-13"
      ],
      "text/plain": [
       "<IPython.core.display.HTML object>"
      ]
     },
     "metadata": {},
     "output_type": "display_data"
    },
    {
     "data": {
      "text/html": [
       "<strong>Auteur :</strong> Steve12L φ \n"
      ],
      "text/plain": [
       "<IPython.core.display.HTML object>"
      ]
     },
     "metadata": {},
     "output_type": "display_data"
    },
    {
     "name": "stdout",
     "output_type": "stream",
     "text": [
      "Termes indexés : ['résidus', 'résidus de pesticides', 'pesticides', 'aliments'] \n",
      "\n",
      "Termes spécifiques présents : ['résidus de pesticides', 'pesticides'] \n",
      "\n",
      "Termes spécifiques absents : {'développement', 'troubles', 'cassation', \"cour d'appel\", 'frelon', 'bisphénol a', 'parlementaires', 'foetus', 'malformations', 'désherbant', 'cour', 'milieu', 'confédération paysanne', 'chlordécone', 'céréalier charentais', 'expositions', 'bisphénol', 'nature environnement'} \n",
      "\n"
     ]
    },
    {
     "data": {
      "text/html": [
       "Actualité > <mark style=\"background-color:yellow\">résidus</mark> de <mark style=\"background-color:pink\">pesticides</mark> : plus de 96% des <mark style=\"background-color:yellow\">aliments</mark> sont conformes http://bit.ly/ccTstE"
      ],
      "text/plain": [
       "<IPython.core.display.HTML object>"
      ]
     },
     "metadata": {},
     "output_type": "display_data"
    },
    {
     "data": {
      "text/html": [
       "<h2 style='text-align:center;'> Texte 18427162607 (224 sur 286)</h2>"
      ],
      "text/plain": [
       "<IPython.core.display.HTML object>"
      ]
     },
     "metadata": {},
     "output_type": "display_data"
    },
    {
     "data": {
      "text/html": [
       "<strong>Segment :</strong> 0 (2010-02-01 ; 2010-08-31)"
      ],
      "text/plain": [
       "<IPython.core.display.HTML object>"
      ]
     },
     "metadata": {},
     "output_type": "display_data"
    },
    {
     "data": {
      "text/html": [
       "<strong>Date :</strong> 2010-07-13"
      ],
      "text/plain": [
       "<IPython.core.display.HTML object>"
      ]
     },
     "metadata": {},
     "output_type": "display_data"
    },
    {
     "data": {
      "text/html": [
       "<strong>Auteur :</strong> Futura - Explorer le monde \n"
      ],
      "text/plain": [
       "<IPython.core.display.HTML object>"
      ]
     },
     "metadata": {},
     "output_type": "display_data"
    },
    {
     "name": "stdout",
     "output_type": "stream",
     "text": [
      "Termes indexés : ['résidus', 'résidus de pesticides', 'pesticides', 'aliments', 'études'] \n",
      "\n",
      "Termes spécifiques présents : ['résidus de pesticides', 'pesticides'] \n",
      "\n",
      "Termes spécifiques absents : {'développement', 'troubles', 'cassation', \"cour d'appel\", 'frelon', 'bisphénol a', 'parlementaires', 'foetus', 'malformations', 'désherbant', 'cour', 'milieu', 'confédération paysanne', 'chlordécone', 'céréalier charentais', 'expositions', 'bisphénol', 'nature environnement'} \n",
      "\n"
     ]
    },
    {
     "data": {
      "text/html": [
       "[actu] <mark style=\"background-color:yellow\">résidus</mark> de <mark style=\"background-color:pink\">pesticides</mark> : plus de 96% des <mark style=\"background-color:yellow\">aliments</mark> sont conformes: Une étude sur 70.000 échantillons prélevés... http://bit.ly/d8n2gX"
      ],
      "text/plain": [
       "<IPython.core.display.HTML object>"
      ]
     },
     "metadata": {},
     "output_type": "display_data"
    },
    {
     "data": {
      "text/html": [
       "<h2 style='text-align:center;'> Texte 18436952987 (225 sur 286)</h2>"
      ],
      "text/plain": [
       "<IPython.core.display.HTML object>"
      ]
     },
     "metadata": {},
     "output_type": "display_data"
    },
    {
     "data": {
      "text/html": [
       "<strong>Segment :</strong> 0 (2010-02-01 ; 2010-08-31)"
      ],
      "text/plain": [
       "<IPython.core.display.HTML object>"
      ]
     },
     "metadata": {},
     "output_type": "display_data"
    },
    {
     "data": {
      "text/html": [
       "<strong>Date :</strong> 2010-07-13"
      ],
      "text/plain": [
       "<IPython.core.display.HTML object>"
      ]
     },
     "metadata": {},
     "output_type": "display_data"
    },
    {
     "data": {
      "text/html": [
       "<strong>Auteur :</strong> al-aide.com \n"
      ],
      "text/plain": [
       "<IPython.core.display.HTML object>"
      ]
     },
     "metadata": {},
     "output_type": "display_data"
    },
    {
     "name": "stdout",
     "output_type": "stream",
     "text": [
      "Termes indexés : ['résidus', 'résidus de pesticides', 'pesticides', 'aliments'] \n",
      "\n",
      "Termes spécifiques présents : ['résidus de pesticides', 'pesticides'] \n",
      "\n",
      "Termes spécifiques absents : {'développement', 'troubles', 'cassation', \"cour d'appel\", 'frelon', 'bisphénol a', 'parlementaires', 'foetus', 'malformations', 'désherbant', 'cour', 'milieu', 'confédération paysanne', 'chlordécone', 'céréalier charentais', 'expositions', 'bisphénol', 'nature environnement'} \n",
      "\n"
     ]
    },
    {
     "data": {
      "text/html": [
       "<mark style=\"background-color:yellow\">résidus</mark> de <mark style=\"background-color:pink\">pesticides</mark> : plus de 96% des <mark style=\"background-color:yellow\">aliments</mark> sont conformes - http://t-pa.net/746414"
      ],
      "text/plain": [
       "<IPython.core.display.HTML object>"
      ]
     },
     "metadata": {},
     "output_type": "display_data"
    },
    {
     "data": {
      "text/html": [
       "<h2 style='text-align:center;'> Texte 18427632261 (226 sur 286)</h2>"
      ],
      "text/plain": [
       "<IPython.core.display.HTML object>"
      ]
     },
     "metadata": {},
     "output_type": "display_data"
    },
    {
     "data": {
      "text/html": [
       "<strong>Segment :</strong> 0 (2010-02-01 ; 2010-08-31)"
      ],
      "text/plain": [
       "<IPython.core.display.HTML object>"
      ]
     },
     "metadata": {},
     "output_type": "display_data"
    },
    {
     "data": {
      "text/html": [
       "<strong>Date :</strong> 2010-07-13"
      ],
      "text/plain": [
       "<IPython.core.display.HTML object>"
      ]
     },
     "metadata": {},
     "output_type": "display_data"
    },
    {
     "data": {
      "text/html": [
       "<strong>Auteur :</strong> Interobs Internet FR \n"
      ],
      "text/plain": [
       "<IPython.core.display.HTML object>"
      ]
     },
     "metadata": {},
     "output_type": "display_data"
    },
    {
     "name": "stdout",
     "output_type": "stream",
     "text": [
      "Termes indexés : ['résidus', 'résidus de pesticides', 'pesticides', 'aliments'] \n",
      "\n",
      "Termes spécifiques présents : ['résidus de pesticides', 'pesticides'] \n",
      "\n",
      "Termes spécifiques absents : {'développement', 'troubles', 'cassation', \"cour d'appel\", 'frelon', 'bisphénol a', 'parlementaires', 'foetus', 'malformations', 'désherbant', 'cour', 'milieu', 'confédération paysanne', 'chlordécone', 'céréalier charentais', 'expositions', 'bisphénol', 'nature environnement'} \n",
      "\n"
     ]
    },
    {
     "data": {
      "text/html": [
       "<mark style=\"background-color:yellow\">résidus</mark> de <mark style=\"background-color:pink\">pesticides</mark> plus de 96pourcents des <mark style=\"background-color:yellow\">aliments</mark> sont conformes #internet http://bit.ly/cgqZak"
      ],
      "text/plain": [
       "<IPython.core.display.HTML object>"
      ]
     },
     "metadata": {},
     "output_type": "display_data"
    },
    {
     "data": {
      "text/html": [
       "<h2 style='text-align:center;'> Texte 18427350484 (227 sur 286)</h2>"
      ],
      "text/plain": [
       "<IPython.core.display.HTML object>"
      ]
     },
     "metadata": {},
     "output_type": "display_data"
    },
    {
     "data": {
      "text/html": [
       "<strong>Segment :</strong> 0 (2010-02-01 ; 2010-08-31)"
      ],
      "text/plain": [
       "<IPython.core.display.HTML object>"
      ]
     },
     "metadata": {},
     "output_type": "display_data"
    },
    {
     "data": {
      "text/html": [
       "<strong>Date :</strong> 2010-07-13"
      ],
      "text/plain": [
       "<IPython.core.display.HTML object>"
      ]
     },
     "metadata": {},
     "output_type": "display_data"
    },
    {
     "data": {
      "text/html": [
       "<strong>Auteur :</strong> al-aide.com \n"
      ],
      "text/plain": [
       "<IPython.core.display.HTML object>"
      ]
     },
     "metadata": {},
     "output_type": "display_data"
    },
    {
     "name": "stdout",
     "output_type": "stream",
     "text": [
      "Termes indexés : ['résidus', 'résidus de pesticides', 'pesticides', 'aliments'] \n",
      "\n",
      "Termes spécifiques présents : ['résidus de pesticides', 'pesticides'] \n",
      "\n",
      "Termes spécifiques absents : {'développement', 'troubles', 'cassation', \"cour d'appel\", 'frelon', 'bisphénol a', 'parlementaires', 'foetus', 'malformations', 'désherbant', 'cour', 'milieu', 'confédération paysanne', 'chlordécone', 'céréalier charentais', 'expositions', 'bisphénol', 'nature environnement'} \n",
      "\n"
     ]
    },
    {
     "data": {
      "text/html": [
       "<mark style=\"background-color:yellow\">résidus</mark> de <mark style=\"background-color:pink\">pesticides</mark> : plus de 96% des <mark style=\"background-color:yellow\">aliments</mark> sont conformes - http://t-pa.net/746206"
      ],
      "text/plain": [
       "<IPython.core.display.HTML object>"
      ]
     },
     "metadata": {},
     "output_type": "display_data"
    },
    {
     "data": {
      "text/html": [
       "<h2 style='text-align:center;'> Texte 18427590835 (228 sur 286)</h2>"
      ],
      "text/plain": [
       "<IPython.core.display.HTML object>"
      ]
     },
     "metadata": {},
     "output_type": "display_data"
    },
    {
     "data": {
      "text/html": [
       "<strong>Segment :</strong> 0 (2010-02-01 ; 2010-08-31)"
      ],
      "text/plain": [
       "<IPython.core.display.HTML object>"
      ]
     },
     "metadata": {},
     "output_type": "display_data"
    },
    {
     "data": {
      "text/html": [
       "<strong>Date :</strong> 2010-07-13"
      ],
      "text/plain": [
       "<IPython.core.display.HTML object>"
      ]
     },
     "metadata": {},
     "output_type": "display_data"
    },
    {
     "data": {
      "text/html": [
       "<strong>Auteur :</strong> Philhadj \n"
      ],
      "text/plain": [
       "<IPython.core.display.HTML object>"
      ]
     },
     "metadata": {},
     "output_type": "display_data"
    },
    {
     "name": "stdout",
     "output_type": "stream",
     "text": [
      "Termes indexés : ['résidus', 'résidus de pesticides', 'pesticides', 'aliments'] \n",
      "\n",
      "Termes spécifiques présents : ['résidus de pesticides', 'pesticides'] \n",
      "\n",
      "Termes spécifiques absents : {'développement', 'troubles', 'cassation', \"cour d'appel\", 'frelon', 'bisphénol a', 'parlementaires', 'foetus', 'malformations', 'désherbant', 'cour', 'milieu', 'confédération paysanne', 'chlordécone', 'céréalier charentais', 'expositions', 'bisphénol', 'nature environnement'} \n",
      "\n"
     ]
    },
    {
     "data": {
      "text/html": [
       "From Philhadj.fr <mark style=\"background-color:yellow\">résidus</mark> de <mark style=\"background-color:pink\">pesticides</mark> : plus de 96% des <mark style=\"background-color:yellow\">aliments</mark> sont conformes http://is.gd/dqcxL"
      ],
      "text/plain": [
       "<IPython.core.display.HTML object>"
      ]
     },
     "metadata": {},
     "output_type": "display_data"
    },
    {
     "data": {
      "text/html": [
       "<h2 style='text-align:center;'> Texte 18618176797 (229 sur 286)</h2>"
      ],
      "text/plain": [
       "<IPython.core.display.HTML object>"
      ]
     },
     "metadata": {},
     "output_type": "display_data"
    },
    {
     "data": {
      "text/html": [
       "<strong>Segment :</strong> 0 (2010-02-01 ; 2010-08-31)"
      ],
      "text/plain": [
       "<IPython.core.display.HTML object>"
      ]
     },
     "metadata": {},
     "output_type": "display_data"
    },
    {
     "data": {
      "text/html": [
       "<strong>Date :</strong> 2010-07-15"
      ],
      "text/plain": [
       "<IPython.core.display.HTML object>"
      ]
     },
     "metadata": {},
     "output_type": "display_data"
    },
    {
     "data": {
      "text/html": [
       "<strong>Auteur :</strong> #ForumEcolo \n"
      ],
      "text/plain": [
       "<IPython.core.display.HTML object>"
      ]
     },
     "metadata": {},
     "output_type": "display_data"
    },
    {
     "name": "stdout",
     "output_type": "stream",
     "text": [
      "Termes indexés : ['résidus', 'résidus de pesticides', 'pesticides'] \n",
      "\n",
      "Termes spécifiques présents : ['résidus de pesticides', 'pesticides'] \n",
      "\n",
      "Termes spécifiques absents : {'développement', 'troubles', 'cassation', \"cour d'appel\", 'frelon', 'bisphénol a', 'parlementaires', 'foetus', 'malformations', 'désherbant', 'cour', 'milieu', 'confédération paysanne', 'chlordécone', 'céréalier charentais', 'expositions', 'bisphénol', 'nature environnement'} \n",
      "\n"
     ]
    },
    {
     "data": {
      "text/html": [
       "Les <mark style=\"background-color:yellow\">résidus</mark> de <mark style=\"background-color:pink\">pesticides</mark> en baisse dans l'UE ? http://bit.ly/d0lL3r"
      ],
      "text/plain": [
       "<IPython.core.display.HTML object>"
      ]
     },
     "metadata": {},
     "output_type": "display_data"
    },
    {
     "data": {
      "text/html": [
       "<h2 style='text-align:center;'> Texte 18616134080 (230 sur 286)</h2>"
      ],
      "text/plain": [
       "<IPython.core.display.HTML object>"
      ]
     },
     "metadata": {},
     "output_type": "display_data"
    },
    {
     "data": {
      "text/html": [
       "<strong>Segment :</strong> 0 (2010-02-01 ; 2010-08-31)"
      ],
      "text/plain": [
       "<IPython.core.display.HTML object>"
      ]
     },
     "metadata": {},
     "output_type": "display_data"
    },
    {
     "data": {
      "text/html": [
       "<strong>Date :</strong> 2010-07-15"
      ],
      "text/plain": [
       "<IPython.core.display.HTML object>"
      ]
     },
     "metadata": {},
     "output_type": "display_data"
    },
    {
     "data": {
      "text/html": [
       "<strong>Auteur :</strong> testdecharly \n"
      ],
      "text/plain": [
       "<IPython.core.display.HTML object>"
      ]
     },
     "metadata": {},
     "output_type": "display_data"
    },
    {
     "name": "stdout",
     "output_type": "stream",
     "text": [
      "Termes indexés : ['résidus', 'résidus de pesticides', 'pesticides'] \n",
      "\n",
      "Termes spécifiques présents : ['résidus de pesticides', 'pesticides'] \n",
      "\n",
      "Termes spécifiques absents : {'développement', 'troubles', 'cassation', \"cour d'appel\", 'frelon', 'bisphénol a', 'parlementaires', 'foetus', 'malformations', 'désherbant', 'cour', 'milieu', 'confédération paysanne', 'chlordécone', 'céréalier charentais', 'expositions', 'bisphénol', 'nature environnement'} \n",
      "\n"
     ]
    },
    {
     "data": {
      "text/html": [
       "Les <mark style=\"background-color:yellow\">résidus</mark> de <mark style=\"background-color:pink\">pesticides</mark> en baisse dans l'UE ? http://url4.eu/5rcBk"
      ],
      "text/plain": [
       "<IPython.core.display.HTML object>"
      ]
     },
     "metadata": {},
     "output_type": "display_data"
    },
    {
     "data": {
      "text/html": [
       "<h2 style='text-align:center;'> Texte 18616165766 (231 sur 286)</h2>"
      ],
      "text/plain": [
       "<IPython.core.display.HTML object>"
      ]
     },
     "metadata": {},
     "output_type": "display_data"
    },
    {
     "data": {
      "text/html": [
       "<strong>Segment :</strong> 0 (2010-02-01 ; 2010-08-31)"
      ],
      "text/plain": [
       "<IPython.core.display.HTML object>"
      ]
     },
     "metadata": {},
     "output_type": "display_data"
    },
    {
     "data": {
      "text/html": [
       "<strong>Date :</strong> 2010-07-15"
      ],
      "text/plain": [
       "<IPython.core.display.HTML object>"
      ]
     },
     "metadata": {},
     "output_type": "display_data"
    },
    {
     "data": {
      "text/html": [
       "<strong>Auteur :</strong> Actu Environnement \n"
      ],
      "text/plain": [
       "<IPython.core.display.HTML object>"
      ]
     },
     "metadata": {},
     "output_type": "display_data"
    },
    {
     "name": "stdout",
     "output_type": "stream",
     "text": [
      "Termes indexés : ['résidus', 'résidus de pesticides', 'pesticides'] \n",
      "\n",
      "Termes spécifiques présents : ['résidus de pesticides', 'pesticides'] \n",
      "\n",
      "Termes spécifiques absents : {'développement', 'troubles', 'cassation', \"cour d'appel\", 'frelon', 'bisphénol a', 'parlementaires', 'foetus', 'malformations', 'désherbant', 'cour', 'milieu', 'confédération paysanne', 'chlordécone', 'céréalier charentais', 'expositions', 'bisphénol', 'nature environnement'} \n",
      "\n"
     ]
    },
    {
     "data": {
      "text/html": [
       "Les <mark style=\"background-color:yellow\">résidus</mark> de <mark style=\"background-color:pink\">pesticides</mark> en baisse dans l'UE ? http://twurl.nl/g4spdy"
      ],
      "text/plain": [
       "<IPython.core.display.HTML object>"
      ]
     },
     "metadata": {},
     "output_type": "display_data"
    },
    {
     "data": {
      "text/html": [
       "<h2 style='text-align:center;'> Texte 18617285266 (232 sur 286)</h2>"
      ],
      "text/plain": [
       "<IPython.core.display.HTML object>"
      ]
     },
     "metadata": {},
     "output_type": "display_data"
    },
    {
     "data": {
      "text/html": [
       "<strong>Segment :</strong> 0 (2010-02-01 ; 2010-08-31)"
      ],
      "text/plain": [
       "<IPython.core.display.HTML object>"
      ]
     },
     "metadata": {},
     "output_type": "display_data"
    },
    {
     "data": {
      "text/html": [
       "<strong>Date :</strong> 2010-07-15"
      ],
      "text/plain": [
       "<IPython.core.display.HTML object>"
      ]
     },
     "metadata": {},
     "output_type": "display_data"
    },
    {
     "data": {
      "text/html": [
       "<strong>Auteur :</strong> al-aide.com \n"
      ],
      "text/plain": [
       "<IPython.core.display.HTML object>"
      ]
     },
     "metadata": {},
     "output_type": "display_data"
    },
    {
     "name": "stdout",
     "output_type": "stream",
     "text": [
      "Termes indexés : ['résidus', 'résidus de pesticides', 'pesticides'] \n",
      "\n",
      "Termes spécifiques présents : ['résidus de pesticides', 'pesticides'] \n",
      "\n",
      "Termes spécifiques absents : {'développement', 'troubles', 'cassation', \"cour d'appel\", 'frelon', 'bisphénol a', 'parlementaires', 'foetus', 'malformations', 'désherbant', 'cour', 'milieu', 'confédération paysanne', 'chlordécone', 'céréalier charentais', 'expositions', 'bisphénol', 'nature environnement'} \n",
      "\n"
     ]
    },
    {
     "data": {
      "text/html": [
       "Les <mark style=\"background-color:yellow\">résidus</mark> de <mark style=\"background-color:pink\">pesticides</mark> en baisse dans l'UE ? - http://t-pa.net/748344"
      ],
      "text/plain": [
       "<IPython.core.display.HTML object>"
      ]
     },
     "metadata": {},
     "output_type": "display_data"
    },
    {
     "data": {
      "text/html": [
       "<h2 style='text-align:center;'> Texte 18667133906 (233 sur 286)</h2>"
      ],
      "text/plain": [
       "<IPython.core.display.HTML object>"
      ]
     },
     "metadata": {},
     "output_type": "display_data"
    },
    {
     "data": {
      "text/html": [
       "<strong>Segment :</strong> 0 (2010-02-01 ; 2010-08-31)"
      ],
      "text/plain": [
       "<IPython.core.display.HTML object>"
      ]
     },
     "metadata": {},
     "output_type": "display_data"
    },
    {
     "data": {
      "text/html": [
       "<strong>Date :</strong> 2010-07-16"
      ],
      "text/plain": [
       "<IPython.core.display.HTML object>"
      ]
     },
     "metadata": {},
     "output_type": "display_data"
    },
    {
     "data": {
      "text/html": [
       "<strong>Auteur :</strong> Laurent GIMALAC \n"
      ],
      "text/plain": [
       "<IPython.core.display.HTML object>"
      ]
     },
     "metadata": {},
     "output_type": "display_data"
    },
    {
     "name": "stdout",
     "output_type": "stream",
     "text": [
      "Termes indexés : ['résidus', 'résidus de pesticides', 'pesticides'] \n",
      "\n",
      "Termes spécifiques présents : ['résidus de pesticides', 'pesticides'] \n",
      "\n",
      "Termes spécifiques absents : {'développement', 'troubles', 'cassation', \"cour d'appel\", 'frelon', 'bisphénol a', 'parlementaires', 'foetus', 'malformations', 'désherbant', 'cour', 'milieu', 'confédération paysanne', 'chlordécone', 'céréalier charentais', 'expositions', 'bisphénol', 'nature environnement'} \n",
      "\n"
     ]
    },
    {
     "data": {
      "text/html": [
       "Enviro2B - Les <mark style=\"background-color:yellow\">résidus</mark> de <mark style=\"background-color:pink\">pesticides</mark> en baisse dans les fruits et légumes http://bit.ly/9SZmet"
      ],
      "text/plain": [
       "<IPython.core.display.HTML object>"
      ]
     },
     "metadata": {},
     "output_type": "display_data"
    },
    {
     "data": {
      "text/html": [
       "<h2 style='text-align:center;'> Texte 18767264166 (234 sur 286)</h2>"
      ],
      "text/plain": [
       "<IPython.core.display.HTML object>"
      ]
     },
     "metadata": {},
     "output_type": "display_data"
    },
    {
     "data": {
      "text/html": [
       "<strong>Segment :</strong> 0 (2010-02-01 ; 2010-08-31)"
      ],
      "text/plain": [
       "<IPython.core.display.HTML object>"
      ]
     },
     "metadata": {},
     "output_type": "display_data"
    },
    {
     "data": {
      "text/html": [
       "<strong>Date :</strong> 2010-07-17"
      ],
      "text/plain": [
       "<IPython.core.display.HTML object>"
      ]
     },
     "metadata": {},
     "output_type": "display_data"
    },
    {
     "data": {
      "text/html": [
       "<strong>Auteur :</strong> Yann Magis-Chauvel \n"
      ],
      "text/plain": [
       "<IPython.core.display.HTML object>"
      ]
     },
     "metadata": {},
     "output_type": "display_data"
    },
    {
     "name": "stdout",
     "output_type": "stream",
     "text": [
      "Termes indexés : ['campagne', 'désherbant', 'pesticides'] \n",
      "\n",
      "Termes spécifiques présents : ['désherbant', 'pesticides'] \n",
      "\n",
      "Termes spécifiques absents : {'développement', 'troubles', 'cassation', \"cour d'appel\", 'frelon', 'bisphénol a', 'parlementaires', 'résidus de pesticides', 'foetus', 'malformations', 'cour', 'milieu', 'confédération paysanne', 'chlordécone', 'céréalier charentais', 'expositions', 'bisphénol', 'nature environnement'} \n",
      "\n"
     ]
    },
    {
     "data": {
      "text/html": [
       "vivre à la <mark style=\"background-color:yellow\">campagne</mark> et voir ses voisins asperger <mark style=\"background-color:pink\">désherbant</mark>s, <mark style=\"background-color:pink\">pesticides</mark> et engrais chimique me rend triste :'( #sad #naturekiller"
      ],
      "text/plain": [
       "<IPython.core.display.HTML object>"
      ]
     },
     "metadata": {},
     "output_type": "display_data"
    },
    {
     "data": {
      "text/html": [
       "<h2 style='text-align:center;'> Texte 19538713044 (235 sur 286)</h2>"
      ],
      "text/plain": [
       "<IPython.core.display.HTML object>"
      ]
     },
     "metadata": {},
     "output_type": "display_data"
    },
    {
     "data": {
      "text/html": [
       "<strong>Segment :</strong> 0 (2010-02-01 ; 2010-08-31)"
      ],
      "text/plain": [
       "<IPython.core.display.HTML object>"
      ]
     },
     "metadata": {},
     "output_type": "display_data"
    },
    {
     "data": {
      "text/html": [
       "<strong>Date :</strong> 2010-07-26"
      ],
      "text/plain": [
       "<IPython.core.display.HTML object>"
      ]
     },
     "metadata": {},
     "output_type": "display_data"
    },
    {
     "data": {
      "text/html": [
       "<strong>Auteur :</strong> Équipe Yoopa \n"
      ],
      "text/plain": [
       "<IPython.core.display.HTML object>"
      ]
     },
     "metadata": {},
     "output_type": "display_data"
    },
    {
     "name": "stdout",
     "output_type": "stream",
     "text": [
      "Termes indexés : ['expositions', 'pesticides', 'grossesse', 'cancers'] \n",
      "\n",
      "Termes spécifiques présents : ['expositions', 'pesticides'] \n",
      "\n",
      "Termes spécifiques absents : {'développement', 'troubles', 'cassation', \"cour d'appel\", 'frelon', 'bisphénol a', 'parlementaires', 'résidus de pesticides', 'foetus', 'malformations', 'désherbant', 'cour', 'milieu', 'confédération paysanne', 'chlordécone', 'céréalier charentais', 'bisphénol', 'nature environnement'} \n",
      "\n"
     ]
    },
    {
     "data": {
      "text/html": [
       "Exposition aux <mark style=\"background-color:pink\">pesticides</mark> pendant la <mark style=\"background-color:yellow\">grossesse</mark> et risques de cancer chez l'enfant: http://tinyurl.com/3a3kraj"
      ],
      "text/plain": [
       "<IPython.core.display.HTML object>"
      ]
     },
     "metadata": {},
     "output_type": "display_data"
    },
    {
     "data": {
      "text/html": [
       "<h2 style='text-align:center;'> Texte 19646534151 (236 sur 286)</h2>"
      ],
      "text/plain": [
       "<IPython.core.display.HTML object>"
      ]
     },
     "metadata": {},
     "output_type": "display_data"
    },
    {
     "data": {
      "text/html": [
       "<strong>Segment :</strong> 0 (2010-02-01 ; 2010-08-31)"
      ],
      "text/plain": [
       "<IPython.core.display.HTML object>"
      ]
     },
     "metadata": {},
     "output_type": "display_data"
    },
    {
     "data": {
      "text/html": [
       "<strong>Date :</strong> 2010-07-27"
      ],
      "text/plain": [
       "<IPython.core.display.HTML object>"
      ]
     },
     "metadata": {},
     "output_type": "display_data"
    },
    {
     "data": {
      "text/html": [
       "<strong>Auteur :</strong> Terriane \n"
      ],
      "text/plain": [
       "<IPython.core.display.HTML object>"
      ]
     },
     "metadata": {},
     "output_type": "display_data"
    },
    {
     "name": "stdout",
     "output_type": "stream",
     "text": [
      "Termes indexés : ['pesticides', 'milieu'] \n",
      "\n",
      "Termes spécifiques présents : ['pesticides', 'milieu'] \n",
      "\n",
      "Termes spécifiques absents : {'développement', 'troubles', 'cassation', \"cour d'appel\", 'frelon', 'bisphénol a', 'parlementaires', 'résidus de pesticides', 'foetus', 'malformations', 'désherbant', 'cour', 'confédération paysanne', 'chlordécone', 'céréalier charentais', 'expositions', 'bisphénol', 'nature environnement'} \n",
      "\n"
     ]
    },
    {
     "data": {
      "text/html": [
       "Les <mark style=\"background-color:pink\">pesticides</mark> dans les <mark style=\"background-color:pink\">milieu</mark>x aquatiques - Données 2007 http://tinyurl.com/33wsmpy"
      ],
      "text/plain": [
       "<IPython.core.display.HTML object>"
      ]
     },
     "metadata": {},
     "output_type": "display_data"
    },
    {
     "data": {
      "text/html": [
       "<h2 style='text-align:center;'> Texte 19648923367 (237 sur 286)</h2>"
      ],
      "text/plain": [
       "<IPython.core.display.HTML object>"
      ]
     },
     "metadata": {},
     "output_type": "display_data"
    },
    {
     "data": {
      "text/html": [
       "<strong>Segment :</strong> 0 (2010-02-01 ; 2010-08-31)"
      ],
      "text/plain": [
       "<IPython.core.display.HTML object>"
      ]
     },
     "metadata": {},
     "output_type": "display_data"
    },
    {
     "data": {
      "text/html": [
       "<strong>Date :</strong> 2010-07-27"
      ],
      "text/plain": [
       "<IPython.core.display.HTML object>"
      ]
     },
     "metadata": {},
     "output_type": "display_data"
    },
    {
     "data": {
      "text/html": [
       "<strong>Auteur :</strong> Comp Eco \n"
      ],
      "text/plain": [
       "<IPython.core.display.HTML object>"
      ]
     },
     "metadata": {},
     "output_type": "display_data"
    },
    {
     "name": "stdout",
     "output_type": "stream",
     "text": [
      "Termes indexés : ['pesticides', 'milieu'] \n",
      "\n",
      "Termes spécifiques présents : ['pesticides', 'milieu'] \n",
      "\n",
      "Termes spécifiques absents : {'développement', 'troubles', 'cassation', \"cour d'appel\", 'frelon', 'bisphénol a', 'parlementaires', 'résidus de pesticides', 'foetus', 'malformations', 'désherbant', 'cour', 'confédération paysanne', 'chlordécone', 'céréalier charentais', 'expositions', 'bisphénol', 'nature environnement'} \n",
      "\n"
     ]
    },
    {
     "data": {
      "text/html": [
       "Les <mark style=\"background-color:pink\">pesticides</mark> dans les <mark style=\"background-color:pink\">milieu</mark>x aquatiques http://bit.ly/a81a1F"
      ],
      "text/plain": [
       "<IPython.core.display.HTML object>"
      ]
     },
     "metadata": {},
     "output_type": "display_data"
    },
    {
     "data": {
      "text/html": [
       "<h2 style='text-align:center;'> Texte 19681724749 (238 sur 286)</h2>"
      ],
      "text/plain": [
       "<IPython.core.display.HTML object>"
      ]
     },
     "metadata": {},
     "output_type": "display_data"
    },
    {
     "data": {
      "text/html": [
       "<strong>Segment :</strong> 0 (2010-02-01 ; 2010-08-31)"
      ],
      "text/plain": [
       "<IPython.core.display.HTML object>"
      ]
     },
     "metadata": {},
     "output_type": "display_data"
    },
    {
     "data": {
      "text/html": [
       "<strong>Date :</strong> 2010-07-27"
      ],
      "text/plain": [
       "<IPython.core.display.HTML object>"
      ]
     },
     "metadata": {},
     "output_type": "display_data"
    },
    {
     "data": {
      "text/html": [
       "<strong>Auteur :</strong> Laurent GIMALAC \n"
      ],
      "text/plain": [
       "<IPython.core.display.HTML object>"
      ]
     },
     "metadata": {},
     "output_type": "display_data"
    },
    {
     "name": "stdout",
     "output_type": "stream",
     "text": [
      "Termes indexés : ['pesticides', 'bisphénol', 'bisphénol a', 'phtalates'] \n",
      "\n",
      "Termes spécifiques présents : ['pesticides', 'bisphénol', 'bisphénol a'] \n",
      "\n",
      "Termes spécifiques absents : {'développement', 'troubles', 'cassation', \"cour d'appel\", 'frelon', 'parlementaires', 'résidus de pesticides', 'foetus', 'malformations', 'désherbant', 'cour', 'milieu', 'confédération paysanne', 'chlordécone', 'céréalier charentais', 'expositions', 'nature environnement'} \n",
      "\n"
     ]
    },
    {
     "data": {
      "text/html": [
       "Abonéobio : Le blog du bio - Poison notre risque au quotidien, <mark style=\"background-color:pink\">pesticides</mark>, <mark style=\"background-color:pink\">bisphénol</mark> A, <mark style=\"background-color:yellow\">phtalates</mark>, ... http://bit.ly/9NVypi"
      ],
      "text/plain": [
       "<IPython.core.display.HTML object>"
      ]
     },
     "metadata": {},
     "output_type": "display_data"
    },
    {
     "data": {
      "text/html": [
       "<h2 style='text-align:center;'> Texte 19729892465 (239 sur 286)</h2>"
      ],
      "text/plain": [
       "<IPython.core.display.HTML object>"
      ]
     },
     "metadata": {},
     "output_type": "display_data"
    },
    {
     "data": {
      "text/html": [
       "<strong>Segment :</strong> 0 (2010-02-01 ; 2010-08-31)"
      ],
      "text/plain": [
       "<IPython.core.display.HTML object>"
      ]
     },
     "metadata": {},
     "output_type": "display_data"
    },
    {
     "data": {
      "text/html": [
       "<strong>Date :</strong> 2010-07-28"
      ],
      "text/plain": [
       "<IPython.core.display.HTML object>"
      ]
     },
     "metadata": {},
     "output_type": "display_data"
    },
    {
     "data": {
      "text/html": [
       "<strong>Auteur :</strong> Michel MOYSSET \n"
      ],
      "text/plain": [
       "<IPython.core.display.HTML object>"
      ]
     },
     "metadata": {},
     "output_type": "display_data"
    },
    {
     "name": "stdout",
     "output_type": "stream",
     "text": [
      "Termes indexés : ['pesticides', 'parlementaires'] \n",
      "\n",
      "Termes spécifiques présents : ['pesticides', 'parlementaires'] \n",
      "\n",
      "Termes spécifiques absents : {'développement', 'troubles', 'cassation', \"cour d'appel\", 'frelon', 'bisphénol a', 'résidus de pesticides', 'foetus', 'malformations', 'désherbant', 'cour', 'milieu', 'confédération paysanne', 'chlordécone', 'céréalier charentais', 'expositions', 'bisphénol', 'nature environnement'} \n",
      "\n"
     ]
    },
    {
     "data": {
      "text/html": [
       "<mark style=\"background-color:pink\">pesticides</mark>: un rapport parlementaire met en garde contre une diminution trop brutale http://20min.fr/a/400959 (via @20minutes)"
      ],
      "text/plain": [
       "<IPython.core.display.HTML object>"
      ]
     },
     "metadata": {},
     "output_type": "display_data"
    },
    {
     "data": {
      "text/html": [
       "<h2 style='text-align:center;'> Texte 19697077522 (240 sur 286)</h2>"
      ],
      "text/plain": [
       "<IPython.core.display.HTML object>"
      ]
     },
     "metadata": {},
     "output_type": "display_data"
    },
    {
     "data": {
      "text/html": [
       "<strong>Segment :</strong> 0 (2010-02-01 ; 2010-08-31)"
      ],
      "text/plain": [
       "<IPython.core.display.HTML object>"
      ]
     },
     "metadata": {},
     "output_type": "display_data"
    },
    {
     "data": {
      "text/html": [
       "<strong>Date :</strong> 2010-07-28"
      ],
      "text/plain": [
       "<IPython.core.display.HTML object>"
      ]
     },
     "metadata": {},
     "output_type": "display_data"
    },
    {
     "data": {
      "text/html": [
       "<strong>Auteur :</strong> TribeCura-France \n"
      ],
      "text/plain": [
       "<IPython.core.display.HTML object>"
      ]
     },
     "metadata": {},
     "output_type": "display_data"
    },
    {
     "name": "stdout",
     "output_type": "stream",
     "text": [
      "Termes indexés : ['pesticides', 'bisphénol', 'bisphénol a', 'phtalates'] \n",
      "\n",
      "Termes spécifiques présents : ['pesticides', 'bisphénol', 'bisphénol a'] \n",
      "\n",
      "Termes spécifiques absents : {'développement', 'troubles', 'cassation', \"cour d'appel\", 'frelon', 'parlementaires', 'résidus de pesticides', 'foetus', 'malformations', 'désherbant', 'cour', 'milieu', 'confédération paysanne', 'chlordécone', 'céréalier charentais', 'expositions', 'nature environnement'} \n",
      "\n"
     ]
    },
    {
     "data": {
      "text/html": [
       "Actu: Poison notre risque au quotidien, <mark style=\"background-color:pink\">pesticides</mark>, <mark style=\"background-color:pink\">bisphénol</mark> A, <mark style=\"background-color:yellow\">phtalates</mark>, ... - Abonéobio : Le blog du bio http://bit.ly/bDbi5R"
      ],
      "text/plain": [
       "<IPython.core.display.HTML object>"
      ]
     },
     "metadata": {},
     "output_type": "display_data"
    },
    {
     "data": {
      "text/html": [
       "<h2 style='text-align:center;'> Texte 19860879293 (241 sur 286)</h2>"
      ],
      "text/plain": [
       "<IPython.core.display.HTML object>"
      ]
     },
     "metadata": {},
     "output_type": "display_data"
    },
    {
     "data": {
      "text/html": [
       "<strong>Segment :</strong> 0 (2010-02-01 ; 2010-08-31)"
      ],
      "text/plain": [
       "<IPython.core.display.HTML object>"
      ]
     },
     "metadata": {},
     "output_type": "display_data"
    },
    {
     "data": {
      "text/html": [
       "<strong>Date :</strong> 2010-07-29"
      ],
      "text/plain": [
       "<IPython.core.display.HTML object>"
      ]
     },
     "metadata": {},
     "output_type": "display_data"
    },
    {
     "data": {
      "text/html": [
       "<strong>Auteur :</strong> al-aide.com \n"
      ],
      "text/plain": [
       "<IPython.core.display.HTML object>"
      ]
     },
     "metadata": {},
     "output_type": "display_data"
    },
    {
     "name": "stdout",
     "output_type": "stream",
     "text": [
      "Termes indexés : ['pesticides', 'milieu'] \n",
      "\n",
      "Termes spécifiques présents : ['pesticides', 'milieu'] \n",
      "\n",
      "Termes spécifiques absents : {'développement', 'troubles', 'cassation', \"cour d'appel\", 'frelon', 'bisphénol a', 'parlementaires', 'résidus de pesticides', 'foetus', 'malformations', 'désherbant', 'cour', 'confédération paysanne', 'chlordécone', 'céréalier charentais', 'expositions', 'bisphénol', 'nature environnement'} \n",
      "\n"
     ]
    },
    {
     "data": {
      "text/html": [
       "Les <mark style=\"background-color:pink\">pesticides</mark> omniprésents dans les <mark style=\"background-color:pink\">milieu</mark>x aquatiques - http://t-pa.net/762715"
      ],
      "text/plain": [
       "<IPython.core.display.HTML object>"
      ]
     },
     "metadata": {},
     "output_type": "display_data"
    },
    {
     "data": {
      "text/html": [
       "<h2 style='text-align:center;'> Texte 19918475959 (242 sur 286)</h2>"
      ],
      "text/plain": [
       "<IPython.core.display.HTML object>"
      ]
     },
     "metadata": {},
     "output_type": "display_data"
    },
    {
     "data": {
      "text/html": [
       "<strong>Segment :</strong> 0 (2010-02-01 ; 2010-08-31)"
      ],
      "text/plain": [
       "<IPython.core.display.HTML object>"
      ]
     },
     "metadata": {},
     "output_type": "display_data"
    },
    {
     "data": {
      "text/html": [
       "<strong>Date :</strong> 2010-07-30"
      ],
      "text/plain": [
       "<IPython.core.display.HTML object>"
      ]
     },
     "metadata": {},
     "output_type": "display_data"
    },
    {
     "data": {
      "text/html": [
       "<strong>Auteur :</strong> Denis Fruneau \n"
      ],
      "text/plain": [
       "<IPython.core.display.HTML object>"
      ]
     },
     "metadata": {},
     "output_type": "display_data"
    },
    {
     "name": "stdout",
     "output_type": "stream",
     "text": [
      "Termes indexés : ['ecologie', 'eau', 'pesticides', 'milieu', 'études'] \n",
      "\n",
      "Termes spécifiques présents : ['pesticides', 'milieu'] \n",
      "\n",
      "Termes spécifiques absents : {'développement', 'troubles', 'cassation', \"cour d'appel\", 'frelon', 'bisphénol a', 'parlementaires', 'résidus de pesticides', 'foetus', 'malformations', 'désherbant', 'cour', 'confédération paysanne', 'chlordécone', 'céréalier charentais', 'expositions', 'bisphénol', 'nature environnement'} \n",
      "\n"
     ]
    },
    {
     "data": {
      "text/html": [
       "#<mark style=\"background-color:yellow\">ecologie</mark> <mark style=\"background-color:yellow\">eau</mark> : dispersion quasi-généralisée des <mark style=\"background-color:pink\">pesticides</mark> dans les <mark style=\"background-color:pink\">milieu</mark>x aquatiques (étude) (LaFranceAgricole.... http://bit.ly/bvNDoY"
      ],
      "text/plain": [
       "<IPython.core.display.HTML object>"
      ]
     },
     "metadata": {},
     "output_type": "display_data"
    },
    {
     "data": {
      "text/html": [
       "<h2 style='text-align:center;'> Texte 20134709438 (243 sur 286)</h2>"
      ],
      "text/plain": [
       "<IPython.core.display.HTML object>"
      ]
     },
     "metadata": {},
     "output_type": "display_data"
    },
    {
     "data": {
      "text/html": [
       "<strong>Segment :</strong> 0 (2010-02-01 ; 2010-08-31)"
      ],
      "text/plain": [
       "<IPython.core.display.HTML object>"
      ]
     },
     "metadata": {},
     "output_type": "display_data"
    },
    {
     "data": {
      "text/html": [
       "<strong>Date :</strong> 2010-08-02"
      ],
      "text/plain": [
       "<IPython.core.display.HTML object>"
      ]
     },
     "metadata": {},
     "output_type": "display_data"
    },
    {
     "data": {
      "text/html": [
       "<strong>Auteur :</strong> La France Agricole \n"
      ],
      "text/plain": [
       "<IPython.core.display.HTML object>"
      ]
     },
     "metadata": {},
     "output_type": "display_data"
    },
    {
     "name": "stdout",
     "output_type": "stream",
     "text": [
      "Termes indexés : ['pesticides', 'milieu', 'études'] \n",
      "\n",
      "Termes spécifiques présents : ['pesticides', 'milieu'] \n",
      "\n",
      "Termes spécifiques absents : {'développement', 'troubles', 'cassation', \"cour d'appel\", 'frelon', 'bisphénol a', 'parlementaires', 'résidus de pesticides', 'foetus', 'malformations', 'désherbant', 'cour', 'confédération paysanne', 'chlordécone', 'céréalier charentais', 'expositions', 'bisphénol', 'nature environnement'} \n",
      "\n"
     ]
    },
    {
     "data": {
      "text/html": [
       "#<mark style=\"background-color:pink\">pesticides</mark> : dispersion quasi généralisée dans les <mark style=\"background-color:pink\">milieu</mark>x aquatiques (étude) : http://bit.ly/d7fnYH"
      ],
      "text/plain": [
       "<IPython.core.display.HTML object>"
      ]
     },
     "metadata": {},
     "output_type": "display_data"
    },
    {
     "data": {
      "text/html": [
       "<h2 style='text-align:center;'> Texte 20324184500 (244 sur 286)</h2>"
      ],
      "text/plain": [
       "<IPython.core.display.HTML object>"
      ]
     },
     "metadata": {},
     "output_type": "display_data"
    },
    {
     "data": {
      "text/html": [
       "<strong>Segment :</strong> 0 (2010-02-01 ; 2010-08-31)"
      ],
      "text/plain": [
       "<IPython.core.display.HTML object>"
      ]
     },
     "metadata": {},
     "output_type": "display_data"
    },
    {
     "data": {
      "text/html": [
       "<strong>Date :</strong> 2010-08-04"
      ],
      "text/plain": [
       "<IPython.core.display.HTML object>"
      ]
     },
     "metadata": {},
     "output_type": "display_data"
    },
    {
     "data": {
      "text/html": [
       "<strong>Auteur :</strong> edhy lorho \n"
      ],
      "text/plain": [
       "<IPython.core.display.HTML object>"
      ]
     },
     "metadata": {},
     "output_type": "display_data"
    },
    {
     "name": "stdout",
     "output_type": "stream",
     "text": [
      "Termes indexés : ['virus', 'résidus', 'résidus de pesticides', 'pesticides'] \n",
      "\n",
      "Termes spécifiques présents : ['résidus de pesticides', 'pesticides'] \n",
      "\n",
      "Termes spécifiques absents : {'développement', 'troubles', 'cassation', \"cour d'appel\", 'frelon', 'bisphénol a', 'parlementaires', 'foetus', 'malformations', 'désherbant', 'cour', 'milieu', 'confédération paysanne', 'chlordécone', 'céréalier charentais', 'expositions', 'bisphénol', 'nature environnement'} \n",
      "\n"
     ]
    },
    {
     "data": {
      "text/html": [
       "Permet la destruction des <mark style=\"background-color:yellow\">virus</mark>, bactéries, <mark style=\"background-color:yellow\">résidus</mark> de <mark style=\"background-color:pink\">pesticides</mark> et mauvaises odeurs.Garantie contact alimentaire. : http://twitts.fr/~2if"
      ],
      "text/plain": [
       "<IPython.core.display.HTML object>"
      ]
     },
     "metadata": {},
     "output_type": "display_data"
    },
    {
     "data": {
      "text/html": [
       "<h2 style='text-align:center;'> Texte 20409132687 (245 sur 286)</h2>"
      ],
      "text/plain": [
       "<IPython.core.display.HTML object>"
      ]
     },
     "metadata": {},
     "output_type": "display_data"
    },
    {
     "data": {
      "text/html": [
       "<strong>Segment :</strong> 0 (2010-02-01 ; 2010-08-31)"
      ],
      "text/plain": [
       "<IPython.core.display.HTML object>"
      ]
     },
     "metadata": {},
     "output_type": "display_data"
    },
    {
     "data": {
      "text/html": [
       "<strong>Date :</strong> 2010-08-05"
      ],
      "text/plain": [
       "<IPython.core.display.HTML object>"
      ]
     },
     "metadata": {},
     "output_type": "display_data"
    },
    {
     "data": {
      "text/html": [
       "<strong>Auteur :</strong> evariste zephyrin \n"
      ],
      "text/plain": [
       "<IPython.core.display.HTML object>"
      ]
     },
     "metadata": {},
     "output_type": "display_data"
    },
    {
     "name": "stdout",
     "output_type": "stream",
     "text": [
      "Termes indexés : ['chlordécone', 'pesticides'] \n",
      "\n",
      "Termes spécifiques présents : ['chlordécone', 'pesticides'] \n",
      "\n",
      "Termes spécifiques absents : {'développement', 'troubles', 'cassation', \"cour d'appel\", 'frelon', 'bisphénol a', 'parlementaires', 'résidus de pesticides', 'foetus', 'malformations', 'désherbant', 'cour', 'milieu', 'confédération paysanne', 'céréalier charentais', 'expositions', 'bisphénol', 'nature environnement'} \n",
      "\n"
     ]
    },
    {
     "data": {
      "text/html": [
       "Le <mark style=\"background-color:pink\">chlordécone</mark>, un pesticide contre les charançons et contre l'homme: http://bit.ly/dqZQ8u via @addthis"
      ],
      "text/plain": [
       "<IPython.core.display.HTML object>"
      ]
     },
     "metadata": {},
     "output_type": "display_data"
    },
    {
     "data": {
      "text/html": [
       "<h2 style='text-align:center;'> Texte 20705339717 (246 sur 286)</h2>"
      ],
      "text/plain": [
       "<IPython.core.display.HTML object>"
      ]
     },
     "metadata": {},
     "output_type": "display_data"
    },
    {
     "data": {
      "text/html": [
       "<strong>Segment :</strong> 0 (2010-02-01 ; 2010-08-31)"
      ],
      "text/plain": [
       "<IPython.core.display.HTML object>"
      ]
     },
     "metadata": {},
     "output_type": "display_data"
    },
    {
     "data": {
      "text/html": [
       "<strong>Date :</strong> 2010-08-09"
      ],
      "text/plain": [
       "<IPython.core.display.HTML object>"
      ]
     },
     "metadata": {},
     "output_type": "display_data"
    },
    {
     "data": {
      "text/html": [
       "<strong>Auteur :</strong> Zayne \n"
      ],
      "text/plain": [
       "<IPython.core.display.HTML object>"
      ]
     },
     "metadata": {},
     "output_type": "display_data"
    },
    {
     "name": "stdout",
     "output_type": "stream",
     "text": [
      "Termes indexés : ['pesticides', 'bisphénol', 'bisphénol a', 'phtalates'] \n",
      "\n",
      "Termes spécifiques présents : ['pesticides', 'bisphénol', 'bisphénol a'] \n",
      "\n",
      "Termes spécifiques absents : {'développement', 'troubles', 'cassation', \"cour d'appel\", 'frelon', 'parlementaires', 'résidus de pesticides', 'foetus', 'malformations', 'désherbant', 'cour', 'milieu', 'confédération paysanne', 'chlordécone', 'céréalier charentais', 'expositions', 'nature environnement'} \n",
      "\n"
     ]
    },
    {
     "data": {
      "text/html": [
       "@phenixbody Poison notre risque au quotidien, <mark style=\"background-color:pink\">pesticides</mark>, <mark style=\"background-color:pink\">bisphénol</mark> A, <mark style=\"background-color:yellow\">phtalates</mark>, ... - Abonéobi.. http://bit.ly/a1geXr"
      ],
      "text/plain": [
       "<IPython.core.display.HTML object>"
      ]
     },
     "metadata": {},
     "output_type": "display_data"
    },
    {
     "data": {
      "text/html": [
       "<h2 style='text-align:center;'> Texte 20780469571 (247 sur 286)</h2>"
      ],
      "text/plain": [
       "<IPython.core.display.HTML object>"
      ]
     },
     "metadata": {},
     "output_type": "display_data"
    },
    {
     "data": {
      "text/html": [
       "<strong>Segment :</strong> 0 (2010-02-01 ; 2010-08-31)"
      ],
      "text/plain": [
       "<IPython.core.display.HTML object>"
      ]
     },
     "metadata": {},
     "output_type": "display_data"
    },
    {
     "data": {
      "text/html": [
       "<strong>Date :</strong> 2010-08-10"
      ],
      "text/plain": [
       "<IPython.core.display.HTML object>"
      ]
     },
     "metadata": {},
     "output_type": "display_data"
    },
    {
     "data": {
      "text/html": [
       "<strong>Auteur :</strong> Ecologie_FR \n"
      ],
      "text/plain": [
       "<IPython.core.display.HTML object>"
      ]
     },
     "metadata": {},
     "output_type": "display_data"
    },
    {
     "name": "stdout",
     "output_type": "stream",
     "text": [
      "Termes indexés : ['pesticides', 'milieu'] \n",
      "\n",
      "Termes spécifiques présents : ['pesticides', 'milieu'] \n",
      "\n",
      "Termes spécifiques absents : {'développement', 'troubles', 'cassation', \"cour d'appel\", 'frelon', 'bisphénol a', 'parlementaires', 'résidus de pesticides', 'foetus', 'malformations', 'désherbant', 'cour', 'confédération paysanne', 'chlordécone', 'céréalier charentais', 'expositions', 'bisphénol', 'nature environnement'} \n",
      "\n"
     ]
    },
    {
     "data": {
      "text/html": [
       "Les <mark style=\"background-color:pink\">pesticides</mark>, très présents dans les <mark style=\"background-color:pink\">milieu</mark>x aquatiques (Actu environnement): Selon le Commissariat général au d... http://bit.ly/cpD0N6"
      ],
      "text/plain": [
       "<IPython.core.display.HTML object>"
      ]
     },
     "metadata": {},
     "output_type": "display_data"
    },
    {
     "data": {
      "text/html": [
       "<h2 style='text-align:center;'> Texte 20792787868 (248 sur 286)</h2>"
      ],
      "text/plain": [
       "<IPython.core.display.HTML object>"
      ]
     },
     "metadata": {},
     "output_type": "display_data"
    },
    {
     "data": {
      "text/html": [
       "<strong>Segment :</strong> 0 (2010-02-01 ; 2010-08-31)"
      ],
      "text/plain": [
       "<IPython.core.display.HTML object>"
      ]
     },
     "metadata": {},
     "output_type": "display_data"
    },
    {
     "data": {
      "text/html": [
       "<strong>Date :</strong> 2010-08-10"
      ],
      "text/plain": [
       "<IPython.core.display.HTML object>"
      ]
     },
     "metadata": {},
     "output_type": "display_data"
    },
    {
     "data": {
      "text/html": [
       "<strong>Auteur :</strong> Gregor Karje \n"
      ],
      "text/plain": [
       "<IPython.core.display.HTML object>"
      ]
     },
     "metadata": {},
     "output_type": "display_data"
    },
    {
     "name": "stdout",
     "output_type": "stream",
     "text": [
      "Termes indexés : ['pesticides', 'milieu'] \n",
      "\n",
      "Termes spécifiques présents : ['pesticides', 'milieu'] \n",
      "\n",
      "Termes spécifiques absents : {'développement', 'troubles', 'cassation', \"cour d'appel\", 'frelon', 'bisphénol a', 'parlementaires', 'résidus de pesticides', 'foetus', 'malformations', 'désherbant', 'cour', 'confédération paysanne', 'chlordécone', 'céréalier charentais', 'expositions', 'bisphénol', 'nature environnement'} \n",
      "\n"
     ]
    },
    {
     "data": {
      "text/html": [
       "Les <mark style=\"background-color:pink\">pesticides</mark>, très présents dans les <mark style=\"background-color:pink\">milieu</mark>x aquatiques: http://wp.me/pWUT9-gf"
      ],
      "text/plain": [
       "<IPython.core.display.HTML object>"
      ]
     },
     "metadata": {},
     "output_type": "display_data"
    },
    {
     "data": {
      "text/html": [
       "<h2 style='text-align:center;'> Texte 20788166513 (249 sur 286)</h2>"
      ],
      "text/plain": [
       "<IPython.core.display.HTML object>"
      ]
     },
     "metadata": {},
     "output_type": "display_data"
    },
    {
     "data": {
      "text/html": [
       "<strong>Segment :</strong> 0 (2010-02-01 ; 2010-08-31)"
      ],
      "text/plain": [
       "<IPython.core.display.HTML object>"
      ]
     },
     "metadata": {},
     "output_type": "display_data"
    },
    {
     "data": {
      "text/html": [
       "<strong>Date :</strong> 2010-08-10"
      ],
      "text/plain": [
       "<IPython.core.display.HTML object>"
      ]
     },
     "metadata": {},
     "output_type": "display_data"
    },
    {
     "data": {
      "text/html": [
       "<strong>Auteur :</strong> Trésors du Goût \n"
      ],
      "text/plain": [
       "<IPython.core.display.HTML object>"
      ]
     },
     "metadata": {},
     "output_type": "display_data"
    },
    {
     "name": "stdout",
     "output_type": "stream",
     "text": [
      "Termes indexés : ['pesticides', 'milieu'] \n",
      "\n",
      "Termes spécifiques présents : ['pesticides', 'milieu'] \n",
      "\n",
      "Termes spécifiques absents : {'développement', 'troubles', 'cassation', \"cour d'appel\", 'frelon', 'bisphénol a', 'parlementaires', 'résidus de pesticides', 'foetus', 'malformations', 'désherbant', 'cour', 'confédération paysanne', 'chlordécone', 'céréalier charentais', 'expositions', 'bisphénol', 'nature environnement'} \n",
      "\n"
     ]
    },
    {
     "data": {
      "text/html": [
       "Les <mark style=\"background-color:pink\">pesticides</mark>, très présents dans les <mark style=\"background-color:pink\">milieu</mark>x aquatiques: Selon le Commissariat général au dé... http://bit.ly/9jkZCZ #Actu #environnement"
      ],
      "text/plain": [
       "<IPython.core.display.HTML object>"
      ]
     },
     "metadata": {},
     "output_type": "display_data"
    },
    {
     "data": {
      "text/html": [
       "<h2 style='text-align:center;'> Texte 20784308271 (250 sur 286)</h2>"
      ],
      "text/plain": [
       "<IPython.core.display.HTML object>"
      ]
     },
     "metadata": {},
     "output_type": "display_data"
    },
    {
     "data": {
      "text/html": [
       "<strong>Segment :</strong> 0 (2010-02-01 ; 2010-08-31)"
      ],
      "text/plain": [
       "<IPython.core.display.HTML object>"
      ]
     },
     "metadata": {},
     "output_type": "display_data"
    },
    {
     "data": {
      "text/html": [
       "<strong>Date :</strong> 2010-08-10"
      ],
      "text/plain": [
       "<IPython.core.display.HTML object>"
      ]
     },
     "metadata": {},
     "output_type": "display_data"
    },
    {
     "data": {
      "text/html": [
       "<strong>Auteur :</strong> al-aide.com \n"
      ],
      "text/plain": [
       "<IPython.core.display.HTML object>"
      ]
     },
     "metadata": {},
     "output_type": "display_data"
    },
    {
     "name": "stdout",
     "output_type": "stream",
     "text": [
      "Termes indexés : ['pesticides', 'milieu'] \n",
      "\n",
      "Termes spécifiques présents : ['pesticides', 'milieu'] \n",
      "\n",
      "Termes spécifiques absents : {'développement', 'troubles', 'cassation', \"cour d'appel\", 'frelon', 'bisphénol a', 'parlementaires', 'résidus de pesticides', 'foetus', 'malformations', 'désherbant', 'cour', 'confédération paysanne', 'chlordécone', 'céréalier charentais', 'expositions', 'bisphénol', 'nature environnement'} \n",
      "\n"
     ]
    },
    {
     "data": {
      "text/html": [
       "Les <mark style=\"background-color:pink\">pesticides</mark>, très présents dans les <mark style=\"background-color:pink\">milieu</mark>x aquatiques - http://t-pa.net/776082"
      ],
      "text/plain": [
       "<IPython.core.display.HTML object>"
      ]
     },
     "metadata": {},
     "output_type": "display_data"
    },
    {
     "data": {
      "text/html": [
       "<h2 style='text-align:center;'> Texte 20782606154 (251 sur 286)</h2>"
      ],
      "text/plain": [
       "<IPython.core.display.HTML object>"
      ]
     },
     "metadata": {},
     "output_type": "display_data"
    },
    {
     "data": {
      "text/html": [
       "<strong>Segment :</strong> 0 (2010-02-01 ; 2010-08-31)"
      ],
      "text/plain": [
       "<IPython.core.display.HTML object>"
      ]
     },
     "metadata": {},
     "output_type": "display_data"
    },
    {
     "data": {
      "text/html": [
       "<strong>Date :</strong> 2010-08-10"
      ],
      "text/plain": [
       "<IPython.core.display.HTML object>"
      ]
     },
     "metadata": {},
     "output_type": "display_data"
    },
    {
     "data": {
      "text/html": [
       "<strong>Auteur :</strong> Charles Edouard \n"
      ],
      "text/plain": [
       "<IPython.core.display.HTML object>"
      ]
     },
     "metadata": {},
     "output_type": "display_data"
    },
    {
     "name": "stdout",
     "output_type": "stream",
     "text": [
      "Termes indexés : ['pesticides', 'milieu'] \n",
      "\n",
      "Termes spécifiques présents : ['pesticides', 'milieu'] \n",
      "\n",
      "Termes spécifiques absents : {'développement', 'troubles', 'cassation', \"cour d'appel\", 'frelon', 'bisphénol a', 'parlementaires', 'résidus de pesticides', 'foetus', 'malformations', 'désherbant', 'cour', 'confédération paysanne', 'chlordécone', 'céréalier charentais', 'expositions', 'bisphénol', 'nature environnement'} \n",
      "\n"
     ]
    },
    {
     "data": {
      "text/html": [
       "RT @DrHouseEnergie: Les <mark style=\"background-color:pink\">pesticides</mark>, très présents dans les <mark style=\"background-color:pink\">milieu</mark>x aquatiques: Selon Actu - Environnement  http://bit.ly/9jkZCZ"
      ],
      "text/plain": [
       "<IPython.core.display.HTML object>"
      ]
     },
     "metadata": {},
     "output_type": "display_data"
    },
    {
     "data": {
      "text/html": [
       "<h2 style='text-align:center;'> Texte 20782259153 (252 sur 286)</h2>"
      ],
      "text/plain": [
       "<IPython.core.display.HTML object>"
      ]
     },
     "metadata": {},
     "output_type": "display_data"
    },
    {
     "data": {
      "text/html": [
       "<strong>Segment :</strong> 0 (2010-02-01 ; 2010-08-31)"
      ],
      "text/plain": [
       "<IPython.core.display.HTML object>"
      ]
     },
     "metadata": {},
     "output_type": "display_data"
    },
    {
     "data": {
      "text/html": [
       "<strong>Date :</strong> 2010-08-10"
      ],
      "text/plain": [
       "<IPython.core.display.HTML object>"
      ]
     },
     "metadata": {},
     "output_type": "display_data"
    },
    {
     "data": {
      "text/html": [
       "<strong>Auteur :</strong> #ForumEcolo \n"
      ],
      "text/plain": [
       "<IPython.core.display.HTML object>"
      ]
     },
     "metadata": {},
     "output_type": "display_data"
    },
    {
     "name": "stdout",
     "output_type": "stream",
     "text": [
      "Termes indexés : ['pesticides', 'milieu'] \n",
      "\n",
      "Termes spécifiques présents : ['pesticides', 'milieu'] \n",
      "\n",
      "Termes spécifiques absents : {'développement', 'troubles', 'cassation', \"cour d'appel\", 'frelon', 'bisphénol a', 'parlementaires', 'résidus de pesticides', 'foetus', 'malformations', 'désherbant', 'cour', 'confédération paysanne', 'chlordécone', 'céréalier charentais', 'expositions', 'bisphénol', 'nature environnement'} \n",
      "\n"
     ]
    },
    {
     "data": {
      "text/html": [
       "Les <mark style=\"background-color:pink\">pesticides</mark>, très présents dans les <mark style=\"background-color:pink\">milieu</mark>x aquatiques http://bit.ly/9jkZCZ"
      ],
      "text/plain": [
       "<IPython.core.display.HTML object>"
      ]
     },
     "metadata": {},
     "output_type": "display_data"
    },
    {
     "data": {
      "text/html": [
       "<h2 style='text-align:center;'> Texte 20782259135 (253 sur 286)</h2>"
      ],
      "text/plain": [
       "<IPython.core.display.HTML object>"
      ]
     },
     "metadata": {},
     "output_type": "display_data"
    },
    {
     "data": {
      "text/html": [
       "<strong>Segment :</strong> 0 (2010-02-01 ; 2010-08-31)"
      ],
      "text/plain": [
       "<IPython.core.display.HTML object>"
      ]
     },
     "metadata": {},
     "output_type": "display_data"
    },
    {
     "data": {
      "text/html": [
       "<strong>Date :</strong> 2010-08-10"
      ],
      "text/plain": [
       "<IPython.core.display.HTML object>"
      ]
     },
     "metadata": {},
     "output_type": "display_data"
    },
    {
     "data": {
      "text/html": [
       "<strong>Auteur :</strong> Paul Martin \n"
      ],
      "text/plain": [
       "<IPython.core.display.HTML object>"
      ]
     },
     "metadata": {},
     "output_type": "display_data"
    },
    {
     "name": "stdout",
     "output_type": "stream",
     "text": [
      "Termes indexés : ['pesticides', 'milieu', 'développement'] \n",
      "\n",
      "Termes spécifiques présents : ['pesticides', 'milieu', 'développement'] \n",
      "\n",
      "Termes spécifiques absents : {'troubles', 'cassation', \"cour d'appel\", 'frelon', 'bisphénol a', 'parlementaires', 'résidus de pesticides', 'foetus', 'malformations', 'désherbant', 'cour', 'confédération paysanne', 'chlordécone', 'céréalier charentais', 'expositions', 'bisphénol', 'nature environnement'} \n",
      "\n"
     ]
    },
    {
     "data": {
      "text/html": [
       "Les <mark style=\"background-color:pink\">pesticides</mark>, très présents dans les <mark style=\"background-color:pink\">milieu</mark>x aquatiques: Selon le Commissariat général au <mark style=\"background-color:pink\">développement</mark> durable,... http://bit.ly/9jkZCZ"
      ],
      "text/plain": [
       "<IPython.core.display.HTML object>"
      ]
     },
     "metadata": {},
     "output_type": "display_data"
    },
    {
     "data": {
      "text/html": [
       "<h2 style='text-align:center;'> Texte 20780920798 (254 sur 286)</h2>"
      ],
      "text/plain": [
       "<IPython.core.display.HTML object>"
      ]
     },
     "metadata": {},
     "output_type": "display_data"
    },
    {
     "data": {
      "text/html": [
       "<strong>Segment :</strong> 0 (2010-02-01 ; 2010-08-31)"
      ],
      "text/plain": [
       "<IPython.core.display.HTML object>"
      ]
     },
     "metadata": {},
     "output_type": "display_data"
    },
    {
     "data": {
      "text/html": [
       "<strong>Date :</strong> 2010-08-10"
      ],
      "text/plain": [
       "<IPython.core.display.HTML object>"
      ]
     },
     "metadata": {},
     "output_type": "display_data"
    },
    {
     "data": {
      "text/html": [
       "<strong>Auteur :</strong> Actu Environnement \n"
      ],
      "text/plain": [
       "<IPython.core.display.HTML object>"
      ]
     },
     "metadata": {},
     "output_type": "display_data"
    },
    {
     "name": "stdout",
     "output_type": "stream",
     "text": [
      "Termes indexés : ['pesticides', 'milieu'] \n",
      "\n",
      "Termes spécifiques présents : ['pesticides', 'milieu'] \n",
      "\n",
      "Termes spécifiques absents : {'développement', 'troubles', 'cassation', \"cour d'appel\", 'frelon', 'bisphénol a', 'parlementaires', 'résidus de pesticides', 'foetus', 'malformations', 'désherbant', 'cour', 'confédération paysanne', 'chlordécone', 'céréalier charentais', 'expositions', 'bisphénol', 'nature environnement'} \n",
      "\n"
     ]
    },
    {
     "data": {
      "text/html": [
       "Les <mark style=\"background-color:pink\">pesticides</mark>, très présents dans les <mark style=\"background-color:pink\">milieu</mark>x aquatiques http://twurl.nl/5iuwiq"
      ],
      "text/plain": [
       "<IPython.core.display.HTML object>"
      ]
     },
     "metadata": {},
     "output_type": "display_data"
    },
    {
     "data": {
      "text/html": [
       "<h2 style='text-align:center;'> Texte 20780763604 (255 sur 286)</h2>"
      ],
      "text/plain": [
       "<IPython.core.display.HTML object>"
      ]
     },
     "metadata": {},
     "output_type": "display_data"
    },
    {
     "data": {
      "text/html": [
       "<strong>Segment :</strong> 0 (2010-02-01 ; 2010-08-31)"
      ],
      "text/plain": [
       "<IPython.core.display.HTML object>"
      ]
     },
     "metadata": {},
     "output_type": "display_data"
    },
    {
     "data": {
      "text/html": [
       "<strong>Date :</strong> 2010-08-10"
      ],
      "text/plain": [
       "<IPython.core.display.HTML object>"
      ]
     },
     "metadata": {},
     "output_type": "display_data"
    },
    {
     "data": {
      "text/html": [
       "<strong>Auteur :</strong> testdecharly \n"
      ],
      "text/plain": [
       "<IPython.core.display.HTML object>"
      ]
     },
     "metadata": {},
     "output_type": "display_data"
    },
    {
     "name": "stdout",
     "output_type": "stream",
     "text": [
      "Termes indexés : ['pesticides', 'milieu'] \n",
      "\n",
      "Termes spécifiques présents : ['pesticides', 'milieu'] \n",
      "\n",
      "Termes spécifiques absents : {'développement', 'troubles', 'cassation', \"cour d'appel\", 'frelon', 'bisphénol a', 'parlementaires', 'résidus de pesticides', 'foetus', 'malformations', 'désherbant', 'cour', 'confédération paysanne', 'chlordécone', 'céréalier charentais', 'expositions', 'bisphénol', 'nature environnement'} \n",
      "\n"
     ]
    },
    {
     "data": {
      "text/html": [
       "Les <mark style=\"background-color:pink\">pesticides</mark>, très présents dans les <mark style=\"background-color:pink\">milieu</mark>x aquatiques http://url4.eu/6omzR"
      ],
      "text/plain": [
       "<IPython.core.display.HTML object>"
      ]
     },
     "metadata": {},
     "output_type": "display_data"
    },
    {
     "data": {
      "text/html": [
       "<h2 style='text-align:center;'> Texte 20868854342 (256 sur 286)</h2>"
      ],
      "text/plain": [
       "<IPython.core.display.HTML object>"
      ]
     },
     "metadata": {},
     "output_type": "display_data"
    },
    {
     "data": {
      "text/html": [
       "<strong>Segment :</strong> 0 (2010-02-01 ; 2010-08-31)"
      ],
      "text/plain": [
       "<IPython.core.display.HTML object>"
      ]
     },
     "metadata": {},
     "output_type": "display_data"
    },
    {
     "data": {
      "text/html": [
       "<strong>Date :</strong> 2010-08-11"
      ],
      "text/plain": [
       "<IPython.core.display.HTML object>"
      ]
     },
     "metadata": {},
     "output_type": "display_data"
    },
    {
     "data": {
      "text/html": [
       "<strong>Auteur :</strong> Achat immediat \n"
      ],
      "text/plain": [
       "<IPython.core.display.HTML object>"
      ]
     },
     "metadata": {},
     "output_type": "display_data"
    },
    {
     "name": "stdout",
     "output_type": "stream",
     "text": [
      "Termes indexés : ['pesticides', 'milieu'] \n",
      "\n",
      "Termes spécifiques présents : ['pesticides', 'milieu'] \n",
      "\n",
      "Termes spécifiques absents : {'développement', 'troubles', 'cassation', \"cour d'appel\", 'frelon', 'bisphénol a', 'parlementaires', 'résidus de pesticides', 'foetus', 'malformations', 'désherbant', 'cour', 'confédération paysanne', 'chlordécone', 'céréalier charentais', 'expositions', 'bisphénol', 'nature environnement'} \n",
      "\n"
     ]
    },
    {
     "data": {
      "text/html": [
       "Vivre mieux | info de @_Cotyledon_ Les <mark style=\"background-color:pink\">pesticides</mark>, très présents dans les <mark style=\"background-color:pink\">milieu</mark>x aquatiques http://dld.bz/rvvZ"
      ],
      "text/plain": [
       "<IPython.core.display.HTML object>"
      ]
     },
     "metadata": {},
     "output_type": "display_data"
    },
    {
     "data": {
      "text/html": [
       "<h2 style='text-align:center;'> Texte 20867747688 (257 sur 286)</h2>"
      ],
      "text/plain": [
       "<IPython.core.display.HTML object>"
      ]
     },
     "metadata": {},
     "output_type": "display_data"
    },
    {
     "data": {
      "text/html": [
       "<strong>Segment :</strong> 0 (2010-02-01 ; 2010-08-31)"
      ],
      "text/plain": [
       "<IPython.core.display.HTML object>"
      ]
     },
     "metadata": {},
     "output_type": "display_data"
    },
    {
     "data": {
      "text/html": [
       "<strong>Date :</strong> 2010-08-11"
      ],
      "text/plain": [
       "<IPython.core.display.HTML object>"
      ]
     },
     "metadata": {},
     "output_type": "display_data"
    },
    {
     "data": {
      "text/html": [
       "<strong>Auteur :</strong> Dominique Loth \n"
      ],
      "text/plain": [
       "<IPython.core.display.HTML object>"
      ]
     },
     "metadata": {},
     "output_type": "display_data"
    },
    {
     "name": "stdout",
     "output_type": "stream",
     "text": [
      "Termes indexés : ['pollution', 'pesticides', 'milieu'] \n",
      "\n",
      "Termes spécifiques présents : ['pesticides', 'milieu'] \n",
      "\n",
      "Termes spécifiques absents : {'développement', 'troubles', 'cassation', \"cour d'appel\", 'frelon', 'bisphénol a', 'parlementaires', 'résidus de pesticides', 'foetus', 'malformations', 'désherbant', 'cour', 'confédération paysanne', 'chlordécone', 'céréalier charentais', 'expositions', 'bisphénol', 'nature environnement'} \n",
      "\n"
     ]
    },
    {
     "data": {
      "text/html": [
       "#<mark style=\"background-color:yellow\">pollution</mark> @_Cotyledon_ Les <mark style=\"background-color:pink\">pesticides</mark>, très présents dans les <mark style=\"background-color:pink\">milieu</mark>x aquatiques http://dld.bz/rvvZ"
      ],
      "text/plain": [
       "<IPython.core.display.HTML object>"
      ]
     },
     "metadata": {},
     "output_type": "display_data"
    },
    {
     "data": {
      "text/html": [
       "<h2 style='text-align:center;'> Texte 20867414416 (258 sur 286)</h2>"
      ],
      "text/plain": [
       "<IPython.core.display.HTML object>"
      ]
     },
     "metadata": {},
     "output_type": "display_data"
    },
    {
     "data": {
      "text/html": [
       "<strong>Segment :</strong> 0 (2010-02-01 ; 2010-08-31)"
      ],
      "text/plain": [
       "<IPython.core.display.HTML object>"
      ]
     },
     "metadata": {},
     "output_type": "display_data"
    },
    {
     "data": {
      "text/html": [
       "<strong>Date :</strong> 2010-08-11"
      ],
      "text/plain": [
       "<IPython.core.display.HTML object>"
      ]
     },
     "metadata": {},
     "output_type": "display_data"
    },
    {
     "data": {
      "text/html": [
       "<strong>Auteur :</strong> Cotylédon \n"
      ],
      "text/plain": [
       "<IPython.core.display.HTML object>"
      ]
     },
     "metadata": {},
     "output_type": "display_data"
    },
    {
     "name": "stdout",
     "output_type": "stream",
     "text": [
      "Termes indexés : ['pesticides', 'milieu'] \n",
      "\n",
      "Termes spécifiques présents : ['pesticides', 'milieu'] \n",
      "\n",
      "Termes spécifiques absents : {'développement', 'troubles', 'cassation', \"cour d'appel\", 'frelon', 'bisphénol a', 'parlementaires', 'résidus de pesticides', 'foetus', 'malformations', 'désherbant', 'cour', 'confédération paysanne', 'chlordécone', 'céréalier charentais', 'expositions', 'bisphénol', 'nature environnement'} \n",
      "\n"
     ]
    },
    {
     "data": {
      "text/html": [
       "Les <mark style=\"background-color:pink\">pesticides</mark>, très présents dans les <mark style=\"background-color:pink\">milieu</mark>x aquatiques http://dld.bz/rvvZ"
      ],
      "text/plain": [
       "<IPython.core.display.HTML object>"
      ]
     },
     "metadata": {},
     "output_type": "display_data"
    },
    {
     "data": {
      "text/html": [
       "<h2 style='text-align:center;'> Texte 21009871507 (259 sur 286)</h2>"
      ],
      "text/plain": [
       "<IPython.core.display.HTML object>"
      ]
     },
     "metadata": {},
     "output_type": "display_data"
    },
    {
     "data": {
      "text/html": [
       "<strong>Segment :</strong> 0 (2010-02-01 ; 2010-08-31)"
      ],
      "text/plain": [
       "<IPython.core.display.HTML object>"
      ]
     },
     "metadata": {},
     "output_type": "display_data"
    },
    {
     "data": {
      "text/html": [
       "<strong>Date :</strong> 2010-08-12"
      ],
      "text/plain": [
       "<IPython.core.display.HTML object>"
      ]
     },
     "metadata": {},
     "output_type": "display_data"
    },
    {
     "data": {
      "text/html": [
       "<strong>Auteur :</strong> Pauline Giroux \n"
      ],
      "text/plain": [
       "<IPython.core.display.HTML object>"
      ]
     },
     "metadata": {},
     "output_type": "display_data"
    },
    {
     "name": "stdout",
     "output_type": "stream",
     "text": [
      "Termes indexés : ['pesticides', 'milieu'] \n",
      "\n",
      "Termes spécifiques présents : ['pesticides', 'milieu'] \n",
      "\n",
      "Termes spécifiques absents : {'développement', 'troubles', 'cassation', \"cour d'appel\", 'frelon', 'bisphénol a', 'parlementaires', 'résidus de pesticides', 'foetus', 'malformations', 'désherbant', 'cour', 'confédération paysanne', 'chlordécone', 'céréalier charentais', 'expositions', 'bisphénol', 'nature environnement'} \n",
      "\n"
     ]
    },
    {
     "data": {
      "text/html": [
       "Les <mark style=\"background-color:pink\">pesticides</mark>, très présents dans les <mark style=\"background-color:pink\">milieu</mark>x aquatiques http://bit.ly/912sGg"
      ],
      "text/plain": [
       "<IPython.core.display.HTML object>"
      ]
     },
     "metadata": {},
     "output_type": "display_data"
    },
    {
     "data": {
      "text/html": [
       "<h2 style='text-align:center;'> Texte 21032782114 (260 sur 286)</h2>"
      ],
      "text/plain": [
       "<IPython.core.display.HTML object>"
      ]
     },
     "metadata": {},
     "output_type": "display_data"
    },
    {
     "data": {
      "text/html": [
       "<strong>Segment :</strong> 0 (2010-02-01 ; 2010-08-31)"
      ],
      "text/plain": [
       "<IPython.core.display.HTML object>"
      ]
     },
     "metadata": {},
     "output_type": "display_data"
    },
    {
     "data": {
      "text/html": [
       "<strong>Date :</strong> 2010-08-13"
      ],
      "text/plain": [
       "<IPython.core.display.HTML object>"
      ]
     },
     "metadata": {},
     "output_type": "display_data"
    },
    {
     "data": {
      "text/html": [
       "<strong>Auteur :</strong> al-aide.com \n"
      ],
      "text/plain": [
       "<IPython.core.display.HTML object>"
      ]
     },
     "metadata": {},
     "output_type": "display_data"
    },
    {
     "name": "stdout",
     "output_type": "stream",
     "text": [
      "Termes indexés : ['vins', 'résidus', 'résidus de pesticides', 'pesticides'] \n",
      "\n",
      "Termes spécifiques présents : ['résidus de pesticides', 'pesticides'] \n",
      "\n",
      "Termes spécifiques absents : {'développement', 'troubles', 'cassation', \"cour d'appel\", 'frelon', 'bisphénol a', 'parlementaires', 'foetus', 'malformations', 'désherbant', 'cour', 'milieu', 'confédération paysanne', 'chlordécone', 'céréalier charentais', 'expositions', 'bisphénol', 'nature environnement'} \n",
      "\n"
     ]
    },
    {
     "data": {
      "text/html": [
       "le vin est contaminé par des <mark style=\"background-color:yellow\">résidus</mark> de <mark style=\"background-color:pink\">pesticides</mark> à des doses 1000 fois plus élevées que celles tolérées pour l... - http://t-pa.net/779240"
      ],
      "text/plain": [
       "<IPython.core.display.HTML object>"
      ]
     },
     "metadata": {},
     "output_type": "display_data"
    },
    {
     "data": {
      "text/html": [
       "<h2 style='text-align:center;'> Texte 21132953134 (261 sur 286)</h2>"
      ],
      "text/plain": [
       "<IPython.core.display.HTML object>"
      ]
     },
     "metadata": {},
     "output_type": "display_data"
    },
    {
     "data": {
      "text/html": [
       "<strong>Segment :</strong> 0 (2010-02-01 ; 2010-08-31)"
      ],
      "text/plain": [
       "<IPython.core.display.HTML object>"
      ]
     },
     "metadata": {},
     "output_type": "display_data"
    },
    {
     "data": {
      "text/html": [
       "<strong>Date :</strong> 2010-08-14"
      ],
      "text/plain": [
       "<IPython.core.display.HTML object>"
      ]
     },
     "metadata": {},
     "output_type": "display_data"
    },
    {
     "data": {
      "text/html": [
       "<strong>Auteur :</strong> Christophe T. \n"
      ],
      "text/plain": [
       "<IPython.core.display.HTML object>"
      ]
     },
     "metadata": {},
     "output_type": "display_data"
    },
    {
     "name": "stdout",
     "output_type": "stream",
     "text": [
      "Termes indexés : ['pesticides', 'milieu'] \n",
      "\n",
      "Termes spécifiques présents : ['pesticides', 'milieu'] \n",
      "\n",
      "Termes spécifiques absents : {'développement', 'troubles', 'cassation', \"cour d'appel\", 'frelon', 'bisphénol a', 'parlementaires', 'résidus de pesticides', 'foetus', 'malformations', 'désherbant', 'cour', 'confédération paysanne', 'chlordécone', 'céréalier charentais', 'expositions', 'bisphénol', 'nature environnement'} \n",
      "\n"
     ]
    },
    {
     "data": {
      "text/html": [
       "Les <mark style=\"background-color:pink\">pesticides</mark> omniprésents dans les <mark style=\"background-color:pink\">milieu</mark>x aquatiques http://bit.ly/bOE88H"
      ],
      "text/plain": [
       "<IPython.core.display.HTML object>"
      ]
     },
     "metadata": {},
     "output_type": "display_data"
    },
    {
     "data": {
      "text/html": [
       "<h2 style='text-align:center;'> Texte 21387344623 (262 sur 286)</h2>"
      ],
      "text/plain": [
       "<IPython.core.display.HTML object>"
      ]
     },
     "metadata": {},
     "output_type": "display_data"
    },
    {
     "data": {
      "text/html": [
       "<strong>Segment :</strong> 0 (2010-02-01 ; 2010-08-31)"
      ],
      "text/plain": [
       "<IPython.core.display.HTML object>"
      ]
     },
     "metadata": {},
     "output_type": "display_data"
    },
    {
     "data": {
      "text/html": [
       "<strong>Date :</strong> 2010-08-17"
      ],
      "text/plain": [
       "<IPython.core.display.HTML object>"
      ]
     },
     "metadata": {},
     "output_type": "display_data"
    },
    {
     "data": {
      "text/html": [
       "<strong>Auteur :</strong> ISIGE - MINES ParisTech \n"
      ],
      "text/plain": [
       "<IPython.core.display.HTML object>"
      ]
     },
     "metadata": {},
     "output_type": "display_data"
    },
    {
     "name": "stdout",
     "output_type": "stream",
     "text": [
      "Termes indexés : ['pesticides', 'milieu'] \n",
      "\n",
      "Termes spécifiques présents : ['pesticides', 'milieu'] \n",
      "\n",
      "Termes spécifiques absents : {'développement', 'troubles', 'cassation', \"cour d'appel\", 'frelon', 'bisphénol a', 'parlementaires', 'résidus de pesticides', 'foetus', 'malformations', 'désherbant', 'cour', 'confédération paysanne', 'chlordécone', 'céréalier charentais', 'expositions', 'bisphénol', 'nature environnement'} \n",
      "\n"
     ]
    },
    {
     "data": {
      "text/html": [
       "Les <mark style=\"background-color:pink\">pesticides</mark>, très présents dans les <mark style=\"background-color:pink\">milieu</mark>x aquatiques http://fb.me/xNi958xk"
      ],
      "text/plain": [
       "<IPython.core.display.HTML object>"
      ]
     },
     "metadata": {},
     "output_type": "display_data"
    },
    {
     "data": {
      "text/html": [
       "<h2 style='text-align:center;'> Texte 21606747717 (263 sur 286)</h2>"
      ],
      "text/plain": [
       "<IPython.core.display.HTML object>"
      ]
     },
     "metadata": {},
     "output_type": "display_data"
    },
    {
     "data": {
      "text/html": [
       "<strong>Segment :</strong> 0 (2010-02-01 ; 2010-08-31)"
      ],
      "text/plain": [
       "<IPython.core.display.HTML object>"
      ]
     },
     "metadata": {},
     "output_type": "display_data"
    },
    {
     "data": {
      "text/html": [
       "<strong>Date :</strong> 2010-08-19"
      ],
      "text/plain": [
       "<IPython.core.display.HTML object>"
      ]
     },
     "metadata": {},
     "output_type": "display_data"
    },
    {
     "data": {
      "text/html": [
       "<strong>Auteur :</strong> DirectMarseille \n"
      ],
      "text/plain": [
       "<IPython.core.display.HTML object>"
      ]
     },
     "metadata": {},
     "output_type": "display_data"
    },
    {
     "name": "stdout",
     "output_type": "stream",
     "text": [
      "Termes indexés : ['santé', 'expositions', 'pesticides', 'problème'] \n",
      "\n",
      "Termes spécifiques présents : ['expositions', 'pesticides'] \n",
      "\n",
      "Termes spécifiques absents : {'développement', 'troubles', 'cassation', \"cour d'appel\", 'frelon', 'bisphénol a', 'parlementaires', 'résidus de pesticides', 'foetus', 'malformations', 'désherbant', 'cour', 'milieu', 'confédération paysanne', 'chlordécone', 'céréalier charentais', 'bisphénol', 'nature environnement'} \n",
      "\n"
     ]
    },
    {
     "data": {
      "text/html": [
       "<mark style=\"background-color:yellow\">santé</mark> Une exposition élevée aux <mark style=\"background-color:pink\">pesticides</mark> organophosphorés causerait des <mark style=\"background-color:yellow\">problème</mark>s de l'attention chez le jeune enfant\n",
       "http://bit.ly/99ITRs"
      ],
      "text/plain": [
       "<IPython.core.display.HTML object>"
      ]
     },
     "metadata": {},
     "output_type": "display_data"
    },
    {
     "data": {
      "text/html": [
       "<h2 style='text-align:center;'> Texte 21583686321 (264 sur 286)</h2>"
      ],
      "text/plain": [
       "<IPython.core.display.HTML object>"
      ]
     },
     "metadata": {},
     "output_type": "display_data"
    },
    {
     "data": {
      "text/html": [
       "<strong>Segment :</strong> 0 (2010-02-01 ; 2010-08-31)"
      ],
      "text/plain": [
       "<IPython.core.display.HTML object>"
      ]
     },
     "metadata": {},
     "output_type": "display_data"
    },
    {
     "data": {
      "text/html": [
       "<strong>Date :</strong> 2010-08-19"
      ],
      "text/plain": [
       "<IPython.core.display.HTML object>"
      ]
     },
     "metadata": {},
     "output_type": "display_data"
    },
    {
     "data": {
      "text/html": [
       "<strong>Auteur :</strong> umontreal Médias \n"
      ],
      "text/plain": [
       "<IPython.core.display.HTML object>"
      ]
     },
     "metadata": {},
     "output_type": "display_data"
    },
    {
     "name": "stdout",
     "output_type": "stream",
     "text": [
      "Termes indexés : ['études', 'pesticides', 'troubles'] \n",
      "\n",
      "Termes spécifiques présents : ['pesticides', 'troubles'] \n",
      "\n",
      "Termes spécifiques absents : {'développement', 'cassation', \"cour d'appel\", 'frelon', 'bisphénol a', 'parlementaires', 'résidus de pesticides', 'foetus', 'malformations', 'désherbant', 'cour', 'milieu', 'confédération paysanne', 'chlordécone', 'céréalier charentais', 'expositions', 'bisphénol', 'nature environnement'} \n",
      "\n"
     ]
    },
    {
     "data": {
      "text/html": [
       "Une étude de l’UdeM et Harvard, sur les <mark style=\"background-color:pink\">pesticides</mark> et les <mark style=\"background-color:pink\">troubles</mark> de l’attention, intéresse le réseau américain CBS: http://bit.ly/cPR9ax"
      ],
      "text/plain": [
       "<IPython.core.display.HTML object>"
      ]
     },
     "metadata": {},
     "output_type": "display_data"
    },
    {
     "data": {
      "text/html": [
       "<h2 style='text-align:center;'> Texte 21665288753 (265 sur 286)</h2>"
      ],
      "text/plain": [
       "<IPython.core.display.HTML object>"
      ]
     },
     "metadata": {},
     "output_type": "display_data"
    },
    {
     "data": {
      "text/html": [
       "<strong>Segment :</strong> 0 (2010-02-01 ; 2010-08-31)"
      ],
      "text/plain": [
       "<IPython.core.display.HTML object>"
      ]
     },
     "metadata": {},
     "output_type": "display_data"
    },
    {
     "data": {
      "text/html": [
       "<strong>Date :</strong> 2010-08-20"
      ],
      "text/plain": [
       "<IPython.core.display.HTML object>"
      ]
     },
     "metadata": {},
     "output_type": "display_data"
    },
    {
     "data": {
      "text/html": [
       "<strong>Auteur :</strong> Code Bébé \n"
      ],
      "text/plain": [
       "<IPython.core.display.HTML object>"
      ]
     },
     "metadata": {},
     "output_type": "display_data"
    },
    {
     "name": "stdout",
     "output_type": "stream",
     "text": [
      "Termes indexés : ['expositions', 'pesticides'] \n",
      "\n",
      "Termes spécifiques présents : ['expositions', 'pesticides'] \n",
      "\n",
      "Termes spécifiques absents : {'développement', 'troubles', 'cassation', \"cour d'appel\", 'frelon', 'bisphénol a', 'parlementaires', 'résidus de pesticides', 'foetus', 'malformations', 'désherbant', 'cour', 'milieu', 'confédération paysanne', 'chlordécone', 'céréalier charentais', 'bisphénol', 'nature environnement'} \n",
      "\n"
     ]
    },
    {
     "data": {
      "text/html": [
       "Une exposition prénatale aux <mark style=\"background-color:pink\">pesticides</mark> pourrait rendre les enfants moins attentifs http://buzzup.com/17hy6"
      ],
      "text/plain": [
       "<IPython.core.display.HTML object>"
      ]
     },
     "metadata": {},
     "output_type": "display_data"
    },
    {
     "data": {
      "text/html": [
       "<h2 style='text-align:center;'> Texte 21655027259 (266 sur 286)</h2>"
      ],
      "text/plain": [
       "<IPython.core.display.HTML object>"
      ]
     },
     "metadata": {},
     "output_type": "display_data"
    },
    {
     "data": {
      "text/html": [
       "<strong>Segment :</strong> 0 (2010-02-01 ; 2010-08-31)"
      ],
      "text/plain": [
       "<IPython.core.display.HTML object>"
      ]
     },
     "metadata": {},
     "output_type": "display_data"
    },
    {
     "data": {
      "text/html": [
       "<strong>Date :</strong> 2010-08-20"
      ],
      "text/plain": [
       "<IPython.core.display.HTML object>"
      ]
     },
     "metadata": {},
     "output_type": "display_data"
    },
    {
     "data": {
      "text/html": [
       "<strong>Auteur :</strong> Nouvelles \n"
      ],
      "text/plain": [
       "<IPython.core.display.HTML object>"
      ]
     },
     "metadata": {},
     "output_type": "display_data"
    },
    {
     "name": "stdout",
     "output_type": "stream",
     "text": [
      "Termes indexés : ['expositions', 'pesticides'] \n",
      "\n",
      "Termes spécifiques présents : ['expositions', 'pesticides'] \n",
      "\n",
      "Termes spécifiques absents : {'développement', 'troubles', 'cassation', \"cour d'appel\", 'frelon', 'bisphénol a', 'parlementaires', 'résidus de pesticides', 'foetus', 'malformations', 'désherbant', 'cour', 'milieu', 'confédération paysanne', 'chlordécone', 'céréalier charentais', 'bisphénol', 'nature environnement'} \n",
      "\n"
     ]
    },
    {
     "data": {
      "text/html": [
       "Flash: Une exposition prénatale aux <mark style=\"background-color:pink\">pesticides</mark> pourrait rendre les ... - Le Parisien http://bit.ly/daqd6q"
      ],
      "text/plain": [
       "<IPython.core.display.HTML object>"
      ]
     },
     "metadata": {},
     "output_type": "display_data"
    },
    {
     "data": {
      "text/html": [
       "<h2 style='text-align:center;'> Texte 21654455777 (267 sur 286)</h2>"
      ],
      "text/plain": [
       "<IPython.core.display.HTML object>"
      ]
     },
     "metadata": {},
     "output_type": "display_data"
    },
    {
     "data": {
      "text/html": [
       "<strong>Segment :</strong> 0 (2010-02-01 ; 2010-08-31)"
      ],
      "text/plain": [
       "<IPython.core.display.HTML object>"
      ]
     },
     "metadata": {},
     "output_type": "display_data"
    },
    {
     "data": {
      "text/html": [
       "<strong>Date :</strong> 2010-08-20"
      ],
      "text/plain": [
       "<IPython.core.display.HTML object>"
      ]
     },
     "metadata": {},
     "output_type": "display_data"
    },
    {
     "data": {
      "text/html": [
       "<strong>Auteur :</strong> Laurence Magaud \n"
      ],
      "text/plain": [
       "<IPython.core.display.HTML object>"
      ]
     },
     "metadata": {},
     "output_type": "display_data"
    },
    {
     "name": "stdout",
     "output_type": "stream",
     "text": [
      "Termes indexés : ['pesticides', 'troubles', 'études'] \n",
      "\n",
      "Termes spécifiques présents : ['pesticides', 'troubles'] \n",
      "\n",
      "Termes spécifiques absents : {'développement', 'cassation', \"cour d'appel\", 'frelon', 'bisphénol a', 'parlementaires', 'résidus de pesticides', 'foetus', 'malformations', 'désherbant', 'cour', 'milieu', 'confédération paysanne', 'chlordécone', 'céréalier charentais', 'expositions', 'bisphénol', 'nature environnement'} \n",
      "\n"
     ]
    },
    {
     "data": {
      "text/html": [
       "<mark style=\"background-color:pink\">pesticides</mark> et <mark style=\"background-color:pink\">troubles</mark> de l’attention chez les enfants ? Une étude américaine vient de sortir à ce sujet ... avec... http://fb.me/vPn0cvSo"
      ],
      "text/plain": [
       "<IPython.core.display.HTML object>"
      ]
     },
     "metadata": {},
     "output_type": "display_data"
    },
    {
     "data": {
      "text/html": [
       "<h2 style='text-align:center;'> Texte 21653101336 (268 sur 286)</h2>"
      ],
      "text/plain": [
       "<IPython.core.display.HTML object>"
      ]
     },
     "metadata": {},
     "output_type": "display_data"
    },
    {
     "data": {
      "text/html": [
       "<strong>Segment :</strong> 0 (2010-02-01 ; 2010-08-31)"
      ],
      "text/plain": [
       "<IPython.core.display.HTML object>"
      ]
     },
     "metadata": {},
     "output_type": "display_data"
    },
    {
     "data": {
      "text/html": [
       "<strong>Date :</strong> 2010-08-20"
      ],
      "text/plain": [
       "<IPython.core.display.HTML object>"
      ]
     },
     "metadata": {},
     "output_type": "display_data"
    },
    {
     "data": {
      "text/html": [
       "<strong>Auteur :</strong> Laurence Magaud \n"
      ],
      "text/plain": [
       "<IPython.core.display.HTML object>"
      ]
     },
     "metadata": {},
     "output_type": "display_data"
    },
    {
     "name": "stdout",
     "output_type": "stream",
     "text": [
      "Termes indexés : ['expositions', 'pesticides'] \n",
      "\n",
      "Termes spécifiques présents : ['expositions', 'pesticides'] \n",
      "\n",
      "Termes spécifiques absents : {'développement', 'troubles', 'cassation', \"cour d'appel\", 'frelon', 'bisphénol a', 'parlementaires', 'résidus de pesticides', 'foetus', 'malformations', 'désherbant', 'cour', 'milieu', 'confédération paysanne', 'chlordécone', 'céréalier charentais', 'bisphénol', 'nature environnement'} \n",
      "\n"
     ]
    },
    {
     "data": {
      "text/html": [
       "Une exposition prénatale aux <mark style=\"background-color:pink\">pesticides</mark> pourrait rendre les enfants moins attentifs http://bit.ly/bGTxmR"
      ],
      "text/plain": [
       "<IPython.core.display.HTML object>"
      ]
     },
     "metadata": {},
     "output_type": "display_data"
    },
    {
     "data": {
      "text/html": [
       "<h2 style='text-align:center;'> Texte 21712326409 (269 sur 286)</h2>"
      ],
      "text/plain": [
       "<IPython.core.display.HTML object>"
      ]
     },
     "metadata": {},
     "output_type": "display_data"
    },
    {
     "data": {
      "text/html": [
       "<strong>Segment :</strong> 0 (2010-02-01 ; 2010-08-31)"
      ],
      "text/plain": [
       "<IPython.core.display.HTML object>"
      ]
     },
     "metadata": {},
     "output_type": "display_data"
    },
    {
     "data": {
      "text/html": [
       "<strong>Date :</strong> 2010-08-21"
      ],
      "text/plain": [
       "<IPython.core.display.HTML object>"
      ]
     },
     "metadata": {},
     "output_type": "display_data"
    },
    {
     "data": {
      "text/html": [
       "<strong>Auteur :</strong> Annie Dubois \n"
      ],
      "text/plain": [
       "<IPython.core.display.HTML object>"
      ]
     },
     "metadata": {},
     "output_type": "display_data"
    },
    {
     "name": "stdout",
     "output_type": "stream",
     "text": [
      "Termes indexés : ['études', 'pesticides', 'troubles'] \n",
      "\n",
      "Termes spécifiques présents : ['pesticides', 'troubles'] \n",
      "\n",
      "Termes spécifiques absents : {'développement', 'cassation', \"cour d'appel\", 'frelon', 'bisphénol a', 'parlementaires', 'résidus de pesticides', 'foetus', 'malformations', 'désherbant', 'cour', 'milieu', 'confédération paysanne', 'chlordécone', 'céréalier charentais', 'expositions', 'bisphénol', 'nature environnement'} \n",
      "\n"
     ]
    },
    {
     "data": {
      "text/html": [
       "Une étude établirait un lien entre l'exposition prénatale aux <mark style=\"background-color:pink\">pesticides</mark> et <mark style=\"background-color:pink\">troubles</mark> de l'attention http://bit.ly/9UgP4u"
      ],
      "text/plain": [
       "<IPython.core.display.HTML object>"
      ]
     },
     "metadata": {},
     "output_type": "display_data"
    },
    {
     "data": {
      "text/html": [
       "<h2 style='text-align:center;'> Texte 21914622418 (270 sur 286)</h2>"
      ],
      "text/plain": [
       "<IPython.core.display.HTML object>"
      ]
     },
     "metadata": {},
     "output_type": "display_data"
    },
    {
     "data": {
      "text/html": [
       "<strong>Segment :</strong> 0 (2010-02-01 ; 2010-08-31)"
      ],
      "text/plain": [
       "<IPython.core.display.HTML object>"
      ]
     },
     "metadata": {},
     "output_type": "display_data"
    },
    {
     "data": {
      "text/html": [
       "<strong>Date :</strong> 2010-08-23"
      ],
      "text/plain": [
       "<IPython.core.display.HTML object>"
      ]
     },
     "metadata": {},
     "output_type": "display_data"
    },
    {
     "data": {
      "text/html": [
       "<strong>Auteur :</strong> Paul Martin \n"
      ],
      "text/plain": [
       "<IPython.core.display.HTML object>"
      ]
     },
     "metadata": {},
     "output_type": "display_data"
    },
    {
     "name": "stdout",
     "output_type": "stream",
     "text": [
      "Termes indexés : ['pesticides', 'expositions', 'foetus', 'troubles', 'études'] \n",
      "\n",
      "Termes spécifiques présents : ['pesticides', 'expositions', 'foetus', 'troubles'] \n",
      "\n",
      "Termes spécifiques absents : {'développement', 'cassation', \"cour d'appel\", 'frelon', 'bisphénol a', 'parlementaires', 'résidus de pesticides', 'malformations', 'désherbant', 'cour', 'milieu', 'confédération paysanne', 'chlordécone', 'céréalier charentais', 'bisphénol', 'nature environnement'} \n",
      "\n"
     ]
    },
    {
     "data": {
      "text/html": [
       "<mark style=\"background-color:pink\">pesticides</mark> : une exposition du <mark style=\"background-color:pink\">foetus</mark>  entraînerait plus tard des <mark style=\"background-color:pink\">troubles</mark> de l'attention: Selon une étude menée p... http://bit.ly/bRRRU9"
      ],
      "text/plain": [
       "<IPython.core.display.HTML object>"
      ]
     },
     "metadata": {},
     "output_type": "display_data"
    },
    {
     "data": {
      "text/html": [
       "<h2 style='text-align:center;'> Texte 21927249946 (271 sur 286)</h2>"
      ],
      "text/plain": [
       "<IPython.core.display.HTML object>"
      ]
     },
     "metadata": {},
     "output_type": "display_data"
    },
    {
     "data": {
      "text/html": [
       "<strong>Segment :</strong> 0 (2010-02-01 ; 2010-08-31)"
      ],
      "text/plain": [
       "<IPython.core.display.HTML object>"
      ]
     },
     "metadata": {},
     "output_type": "display_data"
    },
    {
     "data": {
      "text/html": [
       "<strong>Date :</strong> 2010-08-23"
      ],
      "text/plain": [
       "<IPython.core.display.HTML object>"
      ]
     },
     "metadata": {},
     "output_type": "display_data"
    },
    {
     "data": {
      "text/html": [
       "<strong>Auteur :</strong> goodplanet \n"
      ],
      "text/plain": [
       "<IPython.core.display.HTML object>"
      ]
     },
     "metadata": {},
     "output_type": "display_data"
    },
    {
     "name": "stdout",
     "output_type": "stream",
     "text": [
      "Termes indexés : ['pesticides', 'troubles'] \n",
      "\n",
      "Termes spécifiques présents : ['pesticides', 'troubles'] \n",
      "\n",
      "Termes spécifiques absents : {'développement', 'cassation', \"cour d'appel\", 'frelon', 'bisphénol a', 'parlementaires', 'résidus de pesticides', 'foetus', 'malformations', 'désherbant', 'cour', 'milieu', 'confédération paysanne', 'chlordécone', 'céréalier charentais', 'expositions', 'bisphénol', 'nature environnement'} \n",
      "\n"
     ]
    },
    {
     "data": {
      "text/html": [
       "#News : L'exposition prénatale aux <mark style=\"background-color:pink\">pesticides</mark> favoriserait les <mark style=\"background-color:pink\">troubles</mark> de l'attention: Les enfants exposés aux pe... http://bit.ly/ciqWxx"
      ],
      "text/plain": [
       "<IPython.core.display.HTML object>"
      ]
     },
     "metadata": {},
     "output_type": "display_data"
    },
    {
     "data": {
      "text/html": [
       "<h2 style='text-align:center;'> Texte 21912208967 (272 sur 286)</h2>"
      ],
      "text/plain": [
       "<IPython.core.display.HTML object>"
      ]
     },
     "metadata": {},
     "output_type": "display_data"
    },
    {
     "data": {
      "text/html": [
       "<strong>Segment :</strong> 0 (2010-02-01 ; 2010-08-31)"
      ],
      "text/plain": [
       "<IPython.core.display.HTML object>"
      ]
     },
     "metadata": {},
     "output_type": "display_data"
    },
    {
     "data": {
      "text/html": [
       "<strong>Date :</strong> 2010-08-23"
      ],
      "text/plain": [
       "<IPython.core.display.HTML object>"
      ]
     },
     "metadata": {},
     "output_type": "display_data"
    },
    {
     "data": {
      "text/html": [
       "<strong>Auteur :</strong> Ecologie_FR \n"
      ],
      "text/plain": [
       "<IPython.core.display.HTML object>"
      ]
     },
     "metadata": {},
     "output_type": "display_data"
    },
    {
     "name": "stdout",
     "output_type": "stream",
     "text": [
      "Termes indexés : ['pesticides', 'expositions', 'foetus', 'troubles'] \n",
      "\n",
      "Termes spécifiques présents : ['pesticides', 'expositions', 'foetus', 'troubles'] \n",
      "\n",
      "Termes spécifiques absents : {'développement', 'cassation', \"cour d'appel\", 'frelon', 'bisphénol a', 'parlementaires', 'résidus de pesticides', 'malformations', 'désherbant', 'cour', 'milieu', 'confédération paysanne', 'chlordécone', 'céréalier charentais', 'bisphénol', 'nature environnement'} \n",
      "\n"
     ]
    },
    {
     "data": {
      "text/html": [
       "<mark style=\"background-color:pink\">pesticides</mark> : une exposition du <mark style=\"background-color:pink\">foetus</mark> entraînerait plus tard des <mark style=\"background-color:pink\">troubles</mark> de l'attention (Actu environnement): Sel... http://bit.ly/bW8uvb"
      ],
      "text/plain": [
       "<IPython.core.display.HTML object>"
      ]
     },
     "metadata": {},
     "output_type": "display_data"
    },
    {
     "data": {
      "text/html": [
       "<h2 style='text-align:center;'> Texte 21912469855 (273 sur 286)</h2>"
      ],
      "text/plain": [
       "<IPython.core.display.HTML object>"
      ]
     },
     "metadata": {},
     "output_type": "display_data"
    },
    {
     "data": {
      "text/html": [
       "<strong>Segment :</strong> 0 (2010-02-01 ; 2010-08-31)"
      ],
      "text/plain": [
       "<IPython.core.display.HTML object>"
      ]
     },
     "metadata": {},
     "output_type": "display_data"
    },
    {
     "data": {
      "text/html": [
       "<strong>Date :</strong> 2010-08-23"
      ],
      "text/plain": [
       "<IPython.core.display.HTML object>"
      ]
     },
     "metadata": {},
     "output_type": "display_data"
    },
    {
     "data": {
      "text/html": [
       "<strong>Auteur :</strong> Actu Environnement \n"
      ],
      "text/plain": [
       "<IPython.core.display.HTML object>"
      ]
     },
     "metadata": {},
     "output_type": "display_data"
    },
    {
     "name": "stdout",
     "output_type": "stream",
     "text": [
      "Termes indexés : ['pesticides', 'expositions', 'foetus', 'troubles'] \n",
      "\n",
      "Termes spécifiques présents : ['pesticides', 'expositions', 'foetus', 'troubles'] \n",
      "\n",
      "Termes spécifiques absents : {'développement', 'cassation', \"cour d'appel\", 'frelon', 'bisphénol a', 'parlementaires', 'résidus de pesticides', 'malformations', 'désherbant', 'cour', 'milieu', 'confédération paysanne', 'chlordécone', 'céréalier charentais', 'bisphénol', 'nature environnement'} \n",
      "\n"
     ]
    },
    {
     "data": {
      "text/html": [
       "<mark style=\"background-color:pink\">pesticides</mark> : une exposition du <mark style=\"background-color:pink\">foetus</mark>  entraînerait plus tard des <mark style=\"background-color:pink\">troubles</mark> de l'attention http://twurl.nl/tb6c3l"
      ],
      "text/plain": [
       "<IPython.core.display.HTML object>"
      ]
     },
     "metadata": {},
     "output_type": "display_data"
    },
    {
     "data": {
      "text/html": [
       "<h2 style='text-align:center;'> Texte 21913027863 (274 sur 286)</h2>"
      ],
      "text/plain": [
       "<IPython.core.display.HTML object>"
      ]
     },
     "metadata": {},
     "output_type": "display_data"
    },
    {
     "data": {
      "text/html": [
       "<strong>Segment :</strong> 0 (2010-02-01 ; 2010-08-31)"
      ],
      "text/plain": [
       "<IPython.core.display.HTML object>"
      ]
     },
     "metadata": {},
     "output_type": "display_data"
    },
    {
     "data": {
      "text/html": [
       "<strong>Date :</strong> 2010-08-23"
      ],
      "text/plain": [
       "<IPython.core.display.HTML object>"
      ]
     },
     "metadata": {},
     "output_type": "display_data"
    },
    {
     "data": {
      "text/html": [
       "<strong>Auteur :</strong> testdecharly \n"
      ],
      "text/plain": [
       "<IPython.core.display.HTML object>"
      ]
     },
     "metadata": {},
     "output_type": "display_data"
    },
    {
     "name": "stdout",
     "output_type": "stream",
     "text": [
      "Termes indexés : ['pesticides', 'expositions', 'foetus', 'troubles'] \n",
      "\n",
      "Termes spécifiques présents : ['pesticides', 'expositions', 'foetus', 'troubles'] \n",
      "\n",
      "Termes spécifiques absents : {'développement', 'cassation', \"cour d'appel\", 'frelon', 'bisphénol a', 'parlementaires', 'résidus de pesticides', 'malformations', 'désherbant', 'cour', 'milieu', 'confédération paysanne', 'chlordécone', 'céréalier charentais', 'bisphénol', 'nature environnement'} \n",
      "\n"
     ]
    },
    {
     "data": {
      "text/html": [
       "<mark style=\"background-color:pink\">pesticides</mark> : une exposition du <mark style=\"background-color:pink\">foetus</mark>  entraînerait plus tard des <mark style=\"background-color:pink\">troubles</mark> de l'attention http://url4.eu/70Y3s"
      ],
      "text/plain": [
       "<IPython.core.display.HTML object>"
      ]
     },
     "metadata": {},
     "output_type": "display_data"
    },
    {
     "data": {
      "text/html": [
       "<h2 style='text-align:center;'> Texte 21914624011 (275 sur 286)</h2>"
      ],
      "text/plain": [
       "<IPython.core.display.HTML object>"
      ]
     },
     "metadata": {},
     "output_type": "display_data"
    },
    {
     "data": {
      "text/html": [
       "<strong>Segment :</strong> 0 (2010-02-01 ; 2010-08-31)"
      ],
      "text/plain": [
       "<IPython.core.display.HTML object>"
      ]
     },
     "metadata": {},
     "output_type": "display_data"
    },
    {
     "data": {
      "text/html": [
       "<strong>Date :</strong> 2010-08-23"
      ],
      "text/plain": [
       "<IPython.core.display.HTML object>"
      ]
     },
     "metadata": {},
     "output_type": "display_data"
    },
    {
     "data": {
      "text/html": [
       "<strong>Auteur :</strong> #ForumEcolo \n"
      ],
      "text/plain": [
       "<IPython.core.display.HTML object>"
      ]
     },
     "metadata": {},
     "output_type": "display_data"
    },
    {
     "name": "stdout",
     "output_type": "stream",
     "text": [
      "Termes indexés : ['pesticides', 'expositions', 'foetus', 'troubles'] \n",
      "\n",
      "Termes spécifiques présents : ['pesticides', 'expositions', 'foetus', 'troubles'] \n",
      "\n",
      "Termes spécifiques absents : {'développement', 'cassation', \"cour d'appel\", 'frelon', 'bisphénol a', 'parlementaires', 'résidus de pesticides', 'malformations', 'désherbant', 'cour', 'milieu', 'confédération paysanne', 'chlordécone', 'céréalier charentais', 'bisphénol', 'nature environnement'} \n",
      "\n"
     ]
    },
    {
     "data": {
      "text/html": [
       "<mark style=\"background-color:pink\">pesticides</mark> : une exposition du <mark style=\"background-color:pink\">foetus</mark>  entraînerait plus tard des <mark style=\"background-color:pink\">troubles</mark> de l'attention http://bit.ly/bRRRU9"
      ],
      "text/plain": [
       "<IPython.core.display.HTML object>"
      ]
     },
     "metadata": {},
     "output_type": "display_data"
    },
    {
     "data": {
      "text/html": [
       "<h2 style='text-align:center;'> Texte 21929840195 (276 sur 286)</h2>"
      ],
      "text/plain": [
       "<IPython.core.display.HTML object>"
      ]
     },
     "metadata": {},
     "output_type": "display_data"
    },
    {
     "data": {
      "text/html": [
       "<strong>Segment :</strong> 0 (2010-02-01 ; 2010-08-31)"
      ],
      "text/plain": [
       "<IPython.core.display.HTML object>"
      ]
     },
     "metadata": {},
     "output_type": "display_data"
    },
    {
     "data": {
      "text/html": [
       "<strong>Date :</strong> 2010-08-23"
      ],
      "text/plain": [
       "<IPython.core.display.HTML object>"
      ]
     },
     "metadata": {},
     "output_type": "display_data"
    },
    {
     "data": {
      "text/html": [
       "<strong>Auteur :</strong> al-aide.com \n"
      ],
      "text/plain": [
       "<IPython.core.display.HTML object>"
      ]
     },
     "metadata": {},
     "output_type": "display_data"
    },
    {
     "name": "stdout",
     "output_type": "stream",
     "text": [
      "Termes indexés : ['pesticides', 'expositions', 'foetus', 'troubles'] \n",
      "\n",
      "Termes spécifiques présents : ['pesticides', 'expositions', 'foetus', 'troubles'] \n",
      "\n",
      "Termes spécifiques absents : {'développement', 'cassation', \"cour d'appel\", 'frelon', 'bisphénol a', 'parlementaires', 'résidus de pesticides', 'malformations', 'désherbant', 'cour', 'milieu', 'confédération paysanne', 'chlordécone', 'céréalier charentais', 'bisphénol', 'nature environnement'} \n",
      "\n"
     ]
    },
    {
     "data": {
      "text/html": [
       "<mark style=\"background-color:pink\">pesticides</mark> : une exposition du <mark style=\"background-color:pink\">foetus</mark> entraînerait plus tard des <mark style=\"background-color:pink\">troubles</mark> de l'attention - http://t-pa.net/791719"
      ],
      "text/plain": [
       "<IPython.core.display.HTML object>"
      ]
     },
     "metadata": {},
     "output_type": "display_data"
    },
    {
     "data": {
      "text/html": [
       "<h2 style='text-align:center;'> Texte 21915561854 (277 sur 286)</h2>"
      ],
      "text/plain": [
       "<IPython.core.display.HTML object>"
      ]
     },
     "metadata": {},
     "output_type": "display_data"
    },
    {
     "data": {
      "text/html": [
       "<strong>Segment :</strong> 0 (2010-02-01 ; 2010-08-31)"
      ],
      "text/plain": [
       "<IPython.core.display.HTML object>"
      ]
     },
     "metadata": {},
     "output_type": "display_data"
    },
    {
     "data": {
      "text/html": [
       "<strong>Date :</strong> 2010-08-23"
      ],
      "text/plain": [
       "<IPython.core.display.HTML object>"
      ]
     },
     "metadata": {},
     "output_type": "display_data"
    },
    {
     "data": {
      "text/html": [
       "<strong>Auteur :</strong> ꧁ Peggy ꧂ 🌱🌻☀️🌊🐙🐝🦁 \n"
      ],
      "text/plain": [
       "<IPython.core.display.HTML object>"
      ]
     },
     "metadata": {},
     "output_type": "display_data"
    },
    {
     "name": "stdout",
     "output_type": "stream",
     "text": [
      "Termes indexés : ['pesticides', 'expositions', 'foetus', 'troubles'] \n",
      "\n",
      "Termes spécifiques présents : ['pesticides', 'expositions', 'foetus', 'troubles'] \n",
      "\n",
      "Termes spécifiques absents : {'développement', 'cassation', \"cour d'appel\", 'frelon', 'bisphénol a', 'parlementaires', 'résidus de pesticides', 'malformations', 'désherbant', 'cour', 'milieu', 'confédération paysanne', 'chlordécone', 'céréalier charentais', 'bisphénol', 'nature environnement'} \n",
      "\n"
     ]
    },
    {
     "data": {
      "text/html": [
       "RT @Forum_Ecolo: <mark style=\"background-color:pink\">pesticides</mark> : une exposition du <mark style=\"background-color:pink\">foetus</mark>  entraînerait plus tard des <mark style=\"background-color:pink\">troubles</mark> de l'attention http://bit.ly/bRRRU9"
      ],
      "text/plain": [
       "<IPython.core.display.HTML object>"
      ]
     },
     "metadata": {},
     "output_type": "display_data"
    },
    {
     "data": {
      "text/html": [
       "<h2 style='text-align:center;'> Texte 21919190943 (278 sur 286)</h2>"
      ],
      "text/plain": [
       "<IPython.core.display.HTML object>"
      ]
     },
     "metadata": {},
     "output_type": "display_data"
    },
    {
     "data": {
      "text/html": [
       "<strong>Segment :</strong> 0 (2010-02-01 ; 2010-08-31)"
      ],
      "text/plain": [
       "<IPython.core.display.HTML object>"
      ]
     },
     "metadata": {},
     "output_type": "display_data"
    },
    {
     "data": {
      "text/html": [
       "<strong>Date :</strong> 2010-08-23"
      ],
      "text/plain": [
       "<IPython.core.display.HTML object>"
      ]
     },
     "metadata": {},
     "output_type": "display_data"
    },
    {
     "data": {
      "text/html": [
       "<strong>Auteur :</strong> Médecins webmasters \n"
      ],
      "text/plain": [
       "<IPython.core.display.HTML object>"
      ]
     },
     "metadata": {},
     "output_type": "display_data"
    },
    {
     "name": "stdout",
     "output_type": "stream",
     "text": [
      "Termes indexés : ['résidus', 'résidus de pesticides', 'pesticides'] \n",
      "\n",
      "Termes spécifiques présents : ['résidus de pesticides', 'pesticides'] \n",
      "\n",
      "Termes spécifiques absents : {'développement', 'troubles', 'cassation', \"cour d'appel\", 'frelon', 'bisphénol a', 'parlementaires', 'foetus', 'malformations', 'désherbant', 'cour', 'milieu', 'confédération paysanne', 'chlordécone', 'céréalier charentais', 'expositions', 'bisphénol', 'nature environnement'} \n",
      "\n"
     ]
    },
    {
     "data": {
      "text/html": [
       "Du chou-fleur, pas du raisin: Présence de <mark style=\"background-color:yellow\">résidus</mark> de <mark style=\"background-color:pink\">pesticides</mark> dans les produits alimentaires Carotte Tomate Bana... http://bit.ly/cEAMXV"
      ],
      "text/plain": [
       "<IPython.core.display.HTML object>"
      ]
     },
     "metadata": {},
     "output_type": "display_data"
    },
    {
     "data": {
      "text/html": [
       "<h2 style='text-align:center;'> Texte 21987004423 (279 sur 286)</h2>"
      ],
      "text/plain": [
       "<IPython.core.display.HTML object>"
      ]
     },
     "metadata": {},
     "output_type": "display_data"
    },
    {
     "data": {
      "text/html": [
       "<strong>Segment :</strong> 0 (2010-02-01 ; 2010-08-31)"
      ],
      "text/plain": [
       "<IPython.core.display.HTML object>"
      ]
     },
     "metadata": {},
     "output_type": "display_data"
    },
    {
     "data": {
      "text/html": [
       "<strong>Date :</strong> 2010-08-24"
      ],
      "text/plain": [
       "<IPython.core.display.HTML object>"
      ]
     },
     "metadata": {},
     "output_type": "display_data"
    },
    {
     "data": {
      "text/html": [
       "<strong>Auteur :</strong> Natiloo \n"
      ],
      "text/plain": [
       "<IPython.core.display.HTML object>"
      ]
     },
     "metadata": {},
     "output_type": "display_data"
    },
    {
     "name": "stdout",
     "output_type": "stream",
     "text": [
      "Termes indexés : ['foetus', 'pesticides', 'troubles'] \n",
      "\n",
      "Termes spécifiques présents : ['foetus', 'pesticides', 'troubles'] \n",
      "\n",
      "Termes spécifiques absents : {'développement', 'cassation', \"cour d'appel\", 'frelon', 'bisphénol a', 'parlementaires', 'résidus de pesticides', 'malformations', 'désherbant', 'cour', 'milieu', 'confédération paysanne', 'chlordécone', 'céréalier charentais', 'expositions', 'bisphénol', 'nature environnement'} \n",
      "\n"
     ]
    },
    {
     "data": {
      "text/html": [
       "Un <mark style=\"background-color:pink\">foetus</mark> exposé aux <mark style=\"background-color:pink\">pesticides</mark> organophosphorés pourrait par la suite développer des <mark style=\"background-color:pink\">troubles</mark> de l'attention. http://fb.me/GcBf1jKq"
      ],
      "text/plain": [
       "<IPython.core.display.HTML object>"
      ]
     },
     "metadata": {},
     "output_type": "display_data"
    },
    {
     "data": {
      "text/html": [
       "<h2 style='text-align:center;'> Texte 22061613931 (280 sur 286)</h2>"
      ],
      "text/plain": [
       "<IPython.core.display.HTML object>"
      ]
     },
     "metadata": {},
     "output_type": "display_data"
    },
    {
     "data": {
      "text/html": [
       "<strong>Segment :</strong> 0 (2010-02-01 ; 2010-08-31)"
      ],
      "text/plain": [
       "<IPython.core.display.HTML object>"
      ]
     },
     "metadata": {},
     "output_type": "display_data"
    },
    {
     "data": {
      "text/html": [
       "<strong>Date :</strong> 2010-08-25"
      ],
      "text/plain": [
       "<IPython.core.display.HTML object>"
      ]
     },
     "metadata": {},
     "output_type": "display_data"
    },
    {
     "data": {
      "text/html": [
       "<strong>Auteur :</strong> Vélocipédie \n"
      ],
      "text/plain": [
       "<IPython.core.display.HTML object>"
      ]
     },
     "metadata": {},
     "output_type": "display_data"
    },
    {
     "name": "stdout",
     "output_type": "stream",
     "text": [
      "Termes indexés : ['pesticides', 'chlordécone'] \n",
      "\n",
      "Termes spécifiques présents : ['pesticides', 'chlordécone'] \n",
      "\n",
      "Termes spécifiques absents : {'développement', 'troubles', 'cassation', \"cour d'appel\", 'frelon', 'bisphénol a', 'parlementaires', 'résidus de pesticides', 'foetus', 'malformations', 'désherbant', 'cour', 'milieu', 'confédération paysanne', 'céréalier charentais', 'expositions', 'bisphénol', 'nature environnement'} \n",
      "\n"
     ]
    },
    {
     "data": {
      "text/html": [
       "LesEchos :  <mark style=\"background-color:pink\">pesticides</mark> : le ministère de l'Agriculture épinglé dans le dossier du <mark style=\"background-color:pink\">chlordécone</mark> http://dlvr.it/4D3jd"
      ],
      "text/plain": [
       "<IPython.core.display.HTML object>"
      ]
     },
     "metadata": {},
     "output_type": "display_data"
    },
    {
     "data": {
      "text/html": [
       "<h2 style='text-align:center;'> Texte 22072013804 (281 sur 286)</h2>"
      ],
      "text/plain": [
       "<IPython.core.display.HTML object>"
      ]
     },
     "metadata": {},
     "output_type": "display_data"
    },
    {
     "data": {
      "text/html": [
       "<strong>Segment :</strong> 0 (2010-02-01 ; 2010-08-31)"
      ],
      "text/plain": [
       "<IPython.core.display.HTML object>"
      ]
     },
     "metadata": {},
     "output_type": "display_data"
    },
    {
     "data": {
      "text/html": [
       "<strong>Date :</strong> 2010-08-25"
      ],
      "text/plain": [
       "<IPython.core.display.HTML object>"
      ]
     },
     "metadata": {},
     "output_type": "display_data"
    },
    {
     "data": {
      "text/html": [
       "<strong>Auteur :</strong> chat_boudant 😾 \n"
      ],
      "text/plain": [
       "<IPython.core.display.HTML object>"
      ]
     },
     "metadata": {},
     "output_type": "display_data"
    },
    {
     "name": "stdout",
     "output_type": "stream",
     "text": [
      "Termes indexés : ['pesticides', 'chlordécone', 'antilles'] \n",
      "\n",
      "Termes spécifiques présents : ['pesticides', 'chlordécone'] \n",
      "\n",
      "Termes spécifiques absents : {'développement', 'troubles', 'cassation', \"cour d'appel\", 'frelon', 'bisphénol a', 'parlementaires', 'résidus de pesticides', 'foetus', 'malformations', 'désherbant', 'cour', 'milieu', 'confédération paysanne', 'céréalier charentais', 'expositions', 'bisphénol', 'nature environnement'} \n",
      "\n"
     ]
    },
    {
     "data": {
      "text/html": [
       "Pesticide cancérigène, le <mark style=\"background-color:pink\">chlordécone</mark> interdit depuis1990 (93 aux <mark style=\"background-color:yellow\">antilles</mark>) aurait été utilisé jusqu'en 2005-07 http://bit.ly/cw1AhK"
      ],
      "text/plain": [
       "<IPython.core.display.HTML object>"
      ]
     },
     "metadata": {},
     "output_type": "display_data"
    },
    {
     "data": {
      "text/html": [
       "<h2 style='text-align:center;'> Texte 22092135452 (282 sur 286)</h2>"
      ],
      "text/plain": [
       "<IPython.core.display.HTML object>"
      ]
     },
     "metadata": {},
     "output_type": "display_data"
    },
    {
     "data": {
      "text/html": [
       "<strong>Segment :</strong> 0 (2010-02-01 ; 2010-08-31)"
      ],
      "text/plain": [
       "<IPython.core.display.HTML object>"
      ]
     },
     "metadata": {},
     "output_type": "display_data"
    },
    {
     "data": {
      "text/html": [
       "<strong>Date :</strong> 2010-08-25"
      ],
      "text/plain": [
       "<IPython.core.display.HTML object>"
      ]
     },
     "metadata": {},
     "output_type": "display_data"
    },
    {
     "data": {
      "text/html": [
       "<strong>Auteur :</strong> Mathieu Bruc \n"
      ],
      "text/plain": [
       "<IPython.core.display.HTML object>"
      ]
     },
     "metadata": {},
     "output_type": "display_data"
    },
    {
     "name": "stdout",
     "output_type": "stream",
     "text": [
      "Termes indexés : ['pesticides', 'développement'] \n",
      "\n",
      "Termes spécifiques présents : ['pesticides', 'développement'] \n",
      "\n",
      "Termes spécifiques absents : {'troubles', 'cassation', \"cour d'appel\", 'frelon', 'bisphénol a', 'parlementaires', 'résidus de pesticides', 'foetus', 'malformations', 'désherbant', 'cour', 'milieu', 'confédération paysanne', 'chlordécone', 'céréalier charentais', 'expositions', 'bisphénol', 'nature environnement'} \n",
      "\n"
     ]
    },
    {
     "data": {
      "text/html": [
       "@touristic Pierre tu es moqueur, c'est une pub CONTRE les <mark style=\"background-color:pink\">pesticides</mark> initiée par le Ministère du <mark style=\"background-color:pink\">développement</mark> Durable ;-)"
      ],
      "text/plain": [
       "<IPython.core.display.HTML object>"
      ]
     },
     "metadata": {},
     "output_type": "display_data"
    },
    {
     "data": {
      "text/html": [
       "<h2 style='text-align:center;'> Texte 22187976059 (283 sur 286)</h2>"
      ],
      "text/plain": [
       "<IPython.core.display.HTML object>"
      ]
     },
     "metadata": {},
     "output_type": "display_data"
    },
    {
     "data": {
      "text/html": [
       "<strong>Segment :</strong> 0 (2010-02-01 ; 2010-08-31)"
      ],
      "text/plain": [
       "<IPython.core.display.HTML object>"
      ]
     },
     "metadata": {},
     "output_type": "display_data"
    },
    {
     "data": {
      "text/html": [
       "<strong>Date :</strong> 2010-08-26"
      ],
      "text/plain": [
       "<IPython.core.display.HTML object>"
      ]
     },
     "metadata": {},
     "output_type": "display_data"
    },
    {
     "data": {
      "text/html": [
       "<strong>Auteur :</strong> TAHITI-INFOS \n"
      ],
      "text/plain": [
       "<IPython.core.display.HTML object>"
      ]
     },
     "metadata": {},
     "output_type": "display_data"
    },
    {
     "name": "stdout",
     "output_type": "stream",
     "text": [
      "Termes indexés : ['pesticides', 'développement'] \n",
      "\n",
      "Termes spécifiques présents : ['pesticides', 'développement'] \n",
      "\n",
      "Termes spécifiques absents : {'troubles', 'cassation', \"cour d'appel\", 'frelon', 'bisphénol a', 'parlementaires', 'résidus de pesticides', 'foetus', 'malformations', 'désherbant', 'cour', 'milieu', 'confédération paysanne', 'chlordécone', 'céréalier charentais', 'expositions', 'bisphénol', 'nature environnement'} \n",
      "\n"
     ]
    },
    {
     "data": {
      "text/html": [
       "De nouveaux produits <mark style=\"background-color:pink\">pesticides</mark> en Polynésie française: Afin de poursuivre sa démarche de <mark style=\"background-color:pink\">développement</mark> d’une agric... http://xfru.it/T3f5rC"
      ],
      "text/plain": [
       "<IPython.core.display.HTML object>"
      ]
     },
     "metadata": {},
     "output_type": "display_data"
    },
    {
     "data": {
      "text/html": [
       "<h2 style='text-align:center;'> Texte 22294278547 (284 sur 286)</h2>"
      ],
      "text/plain": [
       "<IPython.core.display.HTML object>"
      ]
     },
     "metadata": {},
     "output_type": "display_data"
    },
    {
     "data": {
      "text/html": [
       "<strong>Segment :</strong> 0 (2010-02-01 ; 2010-08-31)"
      ],
      "text/plain": [
       "<IPython.core.display.HTML object>"
      ]
     },
     "metadata": {},
     "output_type": "display_data"
    },
    {
     "data": {
      "text/html": [
       "<strong>Date :</strong> 2010-08-27"
      ],
      "text/plain": [
       "<IPython.core.display.HTML object>"
      ]
     },
     "metadata": {},
     "output_type": "display_data"
    },
    {
     "data": {
      "text/html": [
       "<strong>Auteur :</strong> Découvrir les DomTom \n"
      ],
      "text/plain": [
       "<IPython.core.display.HTML object>"
      ]
     },
     "metadata": {},
     "output_type": "display_data"
    },
    {
     "name": "stdout",
     "output_type": "stream",
     "text": [
      "Termes indexés : ['chlordécone', 'développement'] \n",
      "\n",
      "Termes spécifiques présents : ['chlordécone', 'développement'] \n",
      "\n",
      "Termes spécifiques absents : {'troubles', 'pesticides', 'cassation', \"cour d'appel\", 'frelon', 'bisphénol a', 'parlementaires', 'résidus de pesticides', 'foetus', 'malformations', 'désherbant', 'cour', 'milieu', 'confédération paysanne', 'céréalier charentais', 'expositions', 'bisphénol', 'nature environnement'} \n",
      "\n"
     ]
    },
    {
     "data": {
      "text/html": [
       "<mark style=\"background-color:pink\">chlordécone</mark> : un scandale sanitaire éclabousse le ministère de l ... - <mark style=\"background-color:pink\">développement</mark> durable: http://shorten.ws/d1b2bb"
      ],
      "text/plain": [
       "<IPython.core.display.HTML object>"
      ]
     },
     "metadata": {},
     "output_type": "display_data"
    },
    {
     "data": {
      "text/html": [
       "<h2 style='text-align:center;'> Texte 22255639994 (285 sur 286)</h2>"
      ],
      "text/plain": [
       "<IPython.core.display.HTML object>"
      ]
     },
     "metadata": {},
     "output_type": "display_data"
    },
    {
     "data": {
      "text/html": [
       "<strong>Segment :</strong> 0 (2010-02-01 ; 2010-08-31)"
      ],
      "text/plain": [
       "<IPython.core.display.HTML object>"
      ]
     },
     "metadata": {},
     "output_type": "display_data"
    },
    {
     "data": {
      "text/html": [
       "<strong>Date :</strong> 2010-08-27"
      ],
      "text/plain": [
       "<IPython.core.display.HTML object>"
      ]
     },
     "metadata": {},
     "output_type": "display_data"
    },
    {
     "data": {
      "text/html": [
       "<strong>Auteur :</strong> Vie-publique.fr \n"
      ],
      "text/plain": [
       "<IPython.core.display.HTML object>"
      ]
     },
     "metadata": {},
     "output_type": "display_data"
    },
    {
     "name": "stdout",
     "output_type": "stream",
     "text": [
      "Termes indexés : ['pesticides', 'chlordécone'] \n",
      "\n",
      "Termes spécifiques présents : ['pesticides', 'chlordécone'] \n",
      "\n",
      "Termes spécifiques absents : {'développement', 'troubles', 'cassation', \"cour d'appel\", 'frelon', 'bisphénol a', 'parlementaires', 'résidus de pesticides', 'foetus', 'malformations', 'désherbant', 'cour', 'milieu', 'confédération paysanne', 'céréalier charentais', 'expositions', 'bisphénol', 'nature environnement'} \n",
      "\n"
     ]
    },
    {
     "data": {
      "text/html": [
       "<mark style=\"background-color:pink\">pesticides</mark> : retour sur la gestion du <mark style=\"background-color:pink\">chlordécone</mark>:  http://bit.ly/aEHVws"
      ],
      "text/plain": [
       "<IPython.core.display.HTML object>"
      ]
     },
     "metadata": {},
     "output_type": "display_data"
    },
    {
     "data": {
      "text/html": [
       "<h2 style='text-align:center;'> Texte 22294214504 (286 sur 286)</h2>"
      ],
      "text/plain": [
       "<IPython.core.display.HTML object>"
      ]
     },
     "metadata": {},
     "output_type": "display_data"
    },
    {
     "data": {
      "text/html": [
       "<strong>Segment :</strong> 0 (2010-02-01 ; 2010-08-31)"
      ],
      "text/plain": [
       "<IPython.core.display.HTML object>"
      ]
     },
     "metadata": {},
     "output_type": "display_data"
    },
    {
     "data": {
      "text/html": [
       "<strong>Date :</strong> 2010-08-27"
      ],
      "text/plain": [
       "<IPython.core.display.HTML object>"
      ]
     },
     "metadata": {},
     "output_type": "display_data"
    },
    {
     "data": {
      "text/html": [
       "<strong>Auteur :</strong> Découvrir les DomTom \n"
      ],
      "text/plain": [
       "<IPython.core.display.HTML object>"
      ]
     },
     "metadata": {},
     "output_type": "display_data"
    },
    {
     "name": "stdout",
     "output_type": "stream",
     "text": [
      "Termes indexés : ['chlordécone', 'développement'] \n",
      "\n",
      "Termes spécifiques présents : ['chlordécone', 'développement'] \n",
      "\n",
      "Termes spécifiques absents : {'troubles', 'pesticides', 'cassation', \"cour d'appel\", 'frelon', 'bisphénol a', 'parlementaires', 'résidus de pesticides', 'foetus', 'malformations', 'désherbant', 'cour', 'milieu', 'confédération paysanne', 'céréalier charentais', 'expositions', 'bisphénol', 'nature environnement'} \n",
      "\n"
     ]
    },
    {
     "data": {
      "text/html": [
       "<mark style=\"background-color:pink\">chlordécone</mark> : un scandale sanitaire éclabousse le ministère de l ... - <mark style=\"background-color:pink\">développement</mark> durable: http://shorten.ws/c62cda"
      ],
      "text/plain": [
       "<IPython.core.display.HTML object>"
      ]
     },
     "metadata": {},
     "output_type": "display_data"
    }
   ],
   "source": [
    "nombre_texts = len(df3[\"text\"])\n",
    "start_segment = df1[\"start_segment\"].iloc[1].strftime(\"%Y-%m-%d\")\n",
    "end_segment = df1[\"end_segment\"].iloc[1].strftime(\"%Y-%m-%d\")\n",
    "\n",
    "for i, text in enumerate(df3[\"text\"]):\n",
    "    doc_id = df3[\"doc_id\"].iloc[i]\n",
    "    list_term = [x for x in df1[\"term\"].loc[(df1[\"doc_id\"] == doc_id)].unique()]\n",
    "    list_top20_term = [x for x in df1[\"term\"].loc[(df1[\"doc_id\"] == doc_id) & (df1[\"in_top20_term\"] == 1)].unique()]\n",
    "    list_top20_term_absent = set(specific_terms) - set(list_top20_term)\n",
    "    date = df3[\"date\"].iloc[i].strftime(\"%Y-%m-%d\")\n",
    "    auteur = df3[\"source\"].iloc[i]\n",
    "    display(HTML(f\"<h2 style='text-align:center;'> Texte {doc_id} ({i+1} sur {nombre_texts})</h2>\"))\n",
    "    display(HTML(f\"<strong>Segment :</strong> {segment} ({start_segment} ; {end_segment})\"))\n",
    "    display(HTML(f\"<strong>Date :</strong> {date}\"))\n",
    "    display(HTML(f\"<strong>Auteur :</strong> {auteur} \\n\"))\n",
    "    print(f\"Termes indexés : {list_term} \\n\")\n",
    "    print(f\"Termes spécifiques présents : {list_top20_term} \\n\")\n",
    "    print(f\"Termes spécifiques absents : {list_top20_term_absent} \\n\")\n",
    "    try:\n",
    "        for j, term in enumerate(list_term):\n",
    "            if term not in list_top20_term:\n",
    "                text = re.sub(term, f'<mark style=\"background-color:yellow\">{term}</mark>', text, flags=re.I)  \n",
    "            else:\n",
    "                text = re.sub(term, f'<mark style=\"background-color:pink\">{term}</mark>', text, flags=re.I)  \n",
    "        display(HTML(f'{text}'))\n",
    "    except:\n",
    "        print(f\"{text} \\n\")\n",
    "   "
   ]
  },
  {
   "cell_type": "code",
   "execution_count": 45,
   "id": "efc201c2",
   "metadata": {},
   "outputs": [],
   "source": [
    "import scipy\n",
    "import scipy.cluster.hierarchy as sch\n",
    "\n",
    "def cluster_corr(corr_array, inplace=False):\n",
    "    \"\"\"\n",
    "    Rearranges the correlation matrix, corr_array, so that groups of highly \n",
    "    correlated variables are next to eachother \n",
    "    \n",
    "    Parameters\n",
    "    ----------\n",
    "    corr_array : pandas.DataFrame or numpy.ndarray\n",
    "        a NxN correlation matrix \n",
    "        \n",
    "    Returns\n",
    "    -------\n",
    "    pandas.DataFrame or numpy.ndarray\n",
    "        a NxN correlation matrix with the columns and rows rearranged\n",
    "    \"\"\"\n",
    "    pairwise_distances = sch.distance.pdist(corr_array)\n",
    "    linkage = sch.linkage(pairwise_distances, method='complete')\n",
    "    cluster_distance_threshold = pairwise_distances.max()/2\n",
    "    idx_to_cluster_array = sch.fcluster(linkage, cluster_distance_threshold, \n",
    "                                        criterion='distance')\n",
    "    idx = np.argsort(idx_to_cluster_array)\n",
    "    \n",
    "    if not inplace:\n",
    "        corr_array = corr_array.copy()\n",
    "    \n",
    "    if isinstance(corr_array, pd.DataFrame):\n",
    "        return corr_array.iloc[idx, :].T.iloc[idx, :]\n",
    "    return corr_array[idx, :][:, idx]\n"
   ]
  },
  {
   "cell_type": "code",
   "execution_count": 196,
   "id": "ade6feb0",
   "metadata": {},
   "outputs": [
    {
     "data": {
      "image/png": "[encoded data removed]",
      "text/plain": [
       "<Figure size 432x288 with 2 Axes>"
      ]
     },
     "metadata": {
      "needs_background": "light"
     },
     "output_type": "display_data"
    }
   ],
   "source": [
    "df11 = df1.loc[df1[\"in_top20_term\"] ==  1]\n",
    "df11[\"count_term\"] = df11.groupby(['doc_id','term'])[\"in_top20_term\"].transform('sum')\n",
    "#df11[\"count_term2\"] = df11.groupby(['term'])[\"doc_id\"].transform('count')\n",
    "\n",
    "\n",
    "t = pd.pivot_table(df11, index = \"doc_id\", columns = \"term\", values = \"count_term\", fill_value = 0)\n",
    "\n",
    "corrMatrix = t.corr()\n",
    "\n",
    "\n",
    "m = cluster_corr(corrMatrix)\n",
    "\n",
    "mm = m.to_numpy()\n",
    "\n",
    "for i in range(len(mm)):\n",
    "    mm[i,i] = np.nan\n",
    "    for j in range(len(mm)):\n",
    "        if mm[i,j] <= 0:\n",
    "            mm[i,j] = np.nan\n",
    "\n",
    "cmap = sns.cm.rocket_r\n",
    "sns.heatmap(m, cmap = cmap)\n",
    "fig.set_size_inches(18.5, 10.5)\n",
    "\n",
    "plt.savefig(f'segment{segment}_{domain}.png', bbox_inches='tight')"
   ]
  },
  {
   "cell_type": "markdown",
   "id": "3813bd30",
   "metadata": {},
   "source": [
    "## Facebook\n",
    "\n",
    "### 1ère période : 16 novembre 2011 -- 31 janvier 2012:1ère période (Segment 0)\n",
    "\n",
    "<img src=\"segment0_facebook.png\" alt=\"segment0_FB\" style=\"height: 100px; width:100px;\"/>"
   ]
  },
  {
   "cell_type": "markdown",
   "id": "7b3b5973",
   "metadata": {},
   "source": [
    "\n",
    "\n",
    "La première période sur facebook semble être caractérisée par trois thématiques:\n",
    "\n",
    "- La première concerne le procès opposant Paul François (céréalier charantais) à Monsanto. Paul François s'est retrouvé dans le coma après avoir nettoyé une cuve contenant du Lasso (produit commercialisé par Monsanto). Le débat a débuté le 12 décembre 2011.\n",
    "\n",
    "> pesticides : un agriculteur en procès contre monsanto Ce lundi 12 décembre 2011, paul françois, agriculteur victime des pesticides, sera en procès contre monsanto, en première instance, au TGI de Lyon, dans l'espoir de faire reconnaître la faute de la firme et d'engager la responsabilité de cette dernière. bioaddict.fr Nous en appelons à toutes celles et ceux qui le souhaitent à se rendre au TGI de Lyon le 12 décembre à 13h30 pour témoigner de leur soutien à paul françois et, ainsi, à toutes les victimes des pesticides. [Auteur : BIO ADDICT]\n",
    "\n",
    "- Un deuxième ensemble de textes évoque le problème du déclin des pollinisateurs et, plus spécifiquemet, des abeilles. Les \"termes spécifiques\" du segment 0 que l'on retrouve dans ces textes sont par exemple : *'effet', 'pesticides', 'miel', 'parasite'*. **\"Parasites\"** et **\"pesticides\"** font référence à deux des causes supposées de disparition des abeilles (les pesticides à travers les néonicotinoïdes et les parasites avec le Varoa). Une disparition qui se manifesterait notamment par une baisse de production du **miel**.\n",
    "\n",
    "\n",
    "> Fin des abeilles = fin du monde ? Oui bon, c’est peut-être un peu exagéré. Quoique…sans les abeilles, l’équilibre écologique serait gravement menacé. En effet, les abeilles ont un rôle essentiel pour la survie des végétaux depuis 50 millions d’années [...] On a découvert que les abeilles sont toxico-sensibles et donc plus vulnérables que la plupart des autres insectes aux <mark>pesticides</mark>. [...] En France, le Gaucho de Bayer et le Régent de BASF, deux insecticides accusés de ravager les abeilles, ont été interdits en 2006 mais malgré tout l’hécatombe se poursuit dans les ruches. On ne sait pas bien pourquoi et cela est très préoccupant. <mark>Certains apiculteurs soupçonnent que les pesticides</mark> toujours utilisés par l’agriculture sont à l’origine de ce qu’on appelle désormais le « syndrome d’effondrement des colonies », maladie dont on ne sait pas encore grand-chose. [...] Récemment, <mark>d’autres explications</mark> ont été données quant à la disparition des abeilles : \n",
    "> - <mark>Le frelon asiatique</mark> est montré du doigt. Cet insecte venu de l’étranger est un prédateur féroce pour les abeilles puisqu’il se nourrit de leurs larves. \n",
    "> - <mark>Une mouche parasite</mark> est également mise en cause depuis peu. Une étude américaine publiée en janvier 2012 a en effet mis en lumière le rôle néfaste de la mouche Apocephalus borealis. [Auteur: Let's save our Earth - Sauvons notre planète]\n",
    "\n",
    "- Un troisième ensemble de textes porte sur le rapport publié par Génération futures sur les  résidus de pesticides dans l'alimentation\n",
    "\n",
    "> Choisir de manger bio, c'est protéger sa santé L'association générations futures a effectué des tests comparant un menu conventionnel et un menu bio : le résultat est sans appel, le menu bio ne contenant quasiment aucun résidus de pesticides. \"Il y a 223 fois moins de résidus de pesticides en moyenne dans les aliments bio analysés que dans les a... bioaddict.fr Mangez bio, c'est bon pour la santé ! Et ça, c'est vachement bien ! [Auteur : Les 2 vaches, industrie agroalimentaire]\n",
    "\n",
    "- On trouve ensuite les textes qui prennent pour cible \"Monsanto et son monde\" ainsi que les effets sanitaires des produits commercialisés par la firme. Il s'agit probablement d'un ensemble de réactions à la suite de la sortie du film éponyme *Le monde selon Monsanto*.\n",
    "\n",
    "> *Le monde selon Monsanto* : Ce film retrace l'histoire de monsanto, une multinationale américaine, aujourd'hui leader mondial des ogm, et considérée comme l'un des plus grands pollueurs de l'ère industrielle (PCB, agent orange, hormones de croissance, roundup...). Après une enquête de trois ans, en Amérique du nord et du sud, en europe et en Asie, il reconstitue la genèse d'un empire industriel, qui, à grand renfort de rapports mensongers, de collusion avec l'administration nord-américaine, de pressions et tentatives de corruption, est devenu l'un des premiers semenciers de la planète.\n",
    "\n",
    "Il est intéressant de noter que Monsanto (et d'autres firmes comme Syngenta ou Bayer) semble être le lien entre différents \"cluster\": l'affaire Paul François, les débats liés au Roundup.\n",
    "\n",
    "- Enfin, de nombreux posts évoquent les \"pesticides\" de façon générale sans faire de lien à une affaire en particulier."
   ]
  },
  {
   "cell_type": "markdown",
   "id": "60c35c6f",
   "metadata": {},
   "source": [
    "\n",
    "### 2e période :  (Segment 1)\n",
    "\n",
    "<img src=\"segment1_facebook.png\" alt=\"segment0_FB\" style=\"height: 100px; width:100px;\"/>"
   ]
  },
  {
   "cell_type": "markdown",
   "id": "993b0ad7",
   "metadata": {},
   "source": [
    "### 3ème période : (Segment 2)\n",
    "\n",
    "<img src=\"segment2_facebook.png\" alt=\"segment0_FB\" style=\"height: 100px; width:100px;\"/>"
   ]
  },
  {
   "cell_type": "markdown",
   "id": "786f59e7",
   "metadata": {},
   "source": [
    "### 4ème période : (Segment 3)\n",
    "\n",
    "<img src=\"segment3_facebook.png\" alt=\"segment0_FB\" style=\"height: 100px; width:100px;\"/>"
   ]
  },
  {
   "cell_type": "markdown",
   "id": "1ea6ccea",
   "metadata": {},
   "source": [
    "### 5ème période : (Segment 4)\n",
    "\n",
    "<img src=\"segment4_facebook.png\" alt=\"segment0_FB\" style=\"height: 100px; width:100px;\"/>"
   ]
  },
  {
   "cell_type": "markdown",
   "id": "fc5527e2",
   "metadata": {},
   "source": [
    "### 6ème période : (Segment 5)\n",
    "\n",
    "<img src=\"segment5_facebook.png\" alt=\"segment0_FB\" style=\"height: 100px; width:100px;\"/>"
   ]
  },
  {
   "cell_type": "markdown",
   "id": "46724434",
   "metadata": {},
   "source": [
    "### 6ème période : (Segment 5)\n",
    "\n",
    "<img src=\"segment5_facebook.png\" alt=\"segment0_FB\" style=\"height: 100px; width:100px;\"/>"
   ]
  },
  {
   "cell_type": "markdown",
   "id": "930df541",
   "metadata": {},
   "source": [
    "### 7ème période : (Segment 6)\n",
    "\n",
    "<img src=\"segment6_facebook.png\" alt=\"segment0_FB\" style=\"height: 100px; width:100px;\"/>"
   ]
  },
  {
   "cell_type": "markdown",
   "id": "82005154",
   "metadata": {},
   "source": [
    "### 8ème période : (Segment 7)\n",
    "\n",
    "<img src=\"segment7_facebook.png\" alt=\"segment0_FB\" style=\"height: 100px; width:100px;\"/>"
   ]
  },
  {
   "cell_type": "markdown",
   "id": "07fbef56",
   "metadata": {},
   "source": [
    "### 9ème période : (Segment 8)\n",
    "\n",
    "<img src=\"segment8_facebook.png\" alt=\"segment0_FB\" style=\"height: 100px; width:100px;\"/>"
   ]
  },
  {
   "cell_type": "markdown",
   "id": "b29c502e",
   "metadata": {},
   "source": [
    "### 10ème période : (Segment 9)\n",
    "\n",
    "<img src=\"segment9_facebook.png\" alt=\"segment0_FB\" style=\"height: 100px; width:100px;\"/>"
   ]
  },
  {
   "cell_type": "markdown",
   "id": "d8c91958",
   "metadata": {},
   "source": [
    "### 11ème période : (Segment 10)\n",
    "\n",
    "<img src=\"segment10_facebook.png\" alt=\"segment0_FB\" style=\"height: 100px; width:100px;\"/>"
   ]
  },
  {
   "cell_type": "markdown",
   "id": "898d6986",
   "metadata": {},
   "source": [
    "### 12ème période : (Segment 11)\n",
    "\n",
    "<img src=\"segment11_facebook.png\" alt=\"segment0_FB\" style=\"height: 100px; width:100px;\"/>"
   ]
  },
  {
   "cell_type": "markdown",
   "id": "0c3c2d1a",
   "metadata": {},
   "source": [
    "### 13ème période : (Segment 12)\n",
    "\n",
    "<img src=\"segment12_facebook.png\" alt=\"segment0_FB\" style=\"height: 100px; width:100px;\"/>"
   ]
  },
  {
   "cell_type": "markdown",
   "id": "9e22cfed",
   "metadata": {},
   "source": [
    "## Test (annexe)"
   ]
  },
  {
   "cell_type": "code",
   "execution_count": null,
   "id": "33c2d350",
   "metadata": {},
   "outputs": [],
   "source": [
    "text = df2['text'].loc[(df2[\"doc_id\"] == \"413916\")]\n",
    "for x in text :\n",
    "    print(x)"
   ]
  },
  {
   "cell_type": "code",
   "execution_count": null,
   "id": "40ff32f0",
   "metadata": {},
   "outputs": [],
   "source": [
    "text = \"\"\"Santé Canada reçoit l'ordre de réexaminer les effets environnementaux du Roundup | equiterre.org \n",
    "- P La Cour fédérale du Canada a ordonné à Santé Canada de réévaluer sa décision de ne pas examiner les effets \n",
    "d'un herbicide, commercialisé sous le nom de Roundup. Ce pesticide est un des plus populaires sur le marché et \n",
    "il accompagne une proportion importante des plantes modifiées génétiquement utilis... equiterre.org \n",
    "Santé Canada reçoit l'ordre de la Cour fédérale de réexaminer les effets environnementaux du RoundUp!\"\"\""
   ]
  },
  {
   "cell_type": "code",
   "execution_count": null,
   "id": "fe5163c4",
   "metadata": {},
   "outputs": [],
   "source": [
    "list_term = [\"pesticides\", \"roundup\"]"
   ]
  },
  {
   "cell_type": "code",
   "execution_count": null,
   "id": "65e40a45",
   "metadata": {},
   "outputs": [],
   "source": [
    "import re\n",
    "for j, term in enumerate(list_term):\n",
    "    if term[-1]== \"s\":\n",
    "        singular_term = term[0:-1]\n",
    "    else:\n",
    "        singular_term = term\n",
    "    #text = text.replace(term[0:len(term)-1], f'<mark style=\"background-color:yellow\">{term}</mark>')\n",
    "    text = re.sub(term, f'<mark style=\"background-color:yellow\">{term}</mark>', text, flags=re.I)          #\n",
    "\n",
    "display(HTML(f'{text}'))"
   ]
  },
  {
   "cell_type": "code",
   "execution_count": null,
   "id": "dd61d4dc",
   "metadata": {},
   "outputs": [],
   "source": []
  }
 ],
 "metadata": {
  "kernelspec": {
   "display_name": "analyse_tweets",
   "language": "python",
   "name": "analyse_tweets"
  },
  "language_info": {
   "codemirror_mode": {
    "name": "ipython",
    "version": 3
   },
   "file_extension": ".py",
   "mimetype": "text/x-python",
   "name": "python",
   "nbconvert_exporter": "python",
   "pygments_lexer": "ipython3",
   "version": "3.9.7"
  }
 },
 "nbformat": 4,
 "nbformat_minor": 5
}
