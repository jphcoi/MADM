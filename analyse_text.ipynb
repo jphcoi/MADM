{
 "cells": [
  {
   "cell_type": "code",
   "execution_count": 32,
   "id": "aee4af3f",
   "metadata": {},
   "outputs": [],
   "source": [
    "import pandas as pd\n",
    "import bamboolib\n",
    "import os\n",
    "import datetime\n",
    "import numpy as np\n",
    "from matplotlib import pyplot\n",
    "from matplotlib.ticker import MultipleLocator, FixedFormatter, FixedLocator\n",
    "import plotly.express as px\n",
    "import plotly.graph_objects as go\n",
    "import seaborn as sn\n",
    "from scipy.cluster.hierarchy import linkage, dendrogram, fcluster\n",
    "from scipy.spatial.distance import squareform\n",
    "from IPython.core.display import display, HTML"
   ]
  },
  {
   "cell_type": "markdown",
   "id": "4fa7190f",
   "metadata": {},
   "source": [
    "## Analyse des segments"
   ]
  },
  {
   "cell_type": "code",
   "execution_count": 2,
   "id": "61f1ecd4",
   "metadata": {},
   "outputs": [],
   "source": [
    "aymeric =  \"/home/aymeric/python-scripts/anses_medialab/datas/\" #aymeric\n",
    "jp = 'd:/Projects/Medialab/Anses/' # Jean Philippe\n",
    "\n",
    "\n",
    "path_base = aymeric\n",
    "file_segmentation = f\"{path_base}segmentation_common_freq.csv\"\n",
    "\n",
    "index=f\"{path_base}index_alldefault_nameexhaustive_aymeric.csv\"\n",
    "\n",
    "all_corpus = f\"{path_base}all_corpus_seg_with_sdhi_PI.csv\"\n",
    "\n",
    "#twittos = f\"{path_base}tweets_pesticides/500_first_twittos_on_pesticides.csv\"\n",
    "\n",
    "data_file = path_base+'fb_tw_med_data.csv.gz'#,line_terminator='\\n',index=False)\n"
   ]
  },
  {
   "cell_type": "code",
   "execution_count": 3,
   "id": "1628f390",
   "metadata": {},
   "outputs": [],
   "source": [
    "list_base = [\"index\", \"all_corpus\"]\n",
    "which_base = list_base[0]"
   ]
  },
  {
   "cell_type": "code",
   "execution_count": 4,
   "id": "00118b3f",
   "metadata": {},
   "outputs": [],
   "source": [
    "if which_base == \"all_corpus\":\n",
    "    df0 = pd.read_csv(all_corpus, sep = \"\\t\")\n",
    "else:\n",
    "    df_index = pd.read_csv(index, sep = \"\\t\")\n",
    "    dfseg = pd.read_csv(file_segmentation, sep = \"\\t\")\n",
    "\n",
    "    df_index['date'] = pd.to_datetime(df_index['date'], infer_datetime_format=True)\n",
    "    df_index['yearmonth']=(df_index['date'].dt.strftime('%Y-%m'))\n",
    "    df_index['date'] = df_index['date'].dt.date\n",
    "    \n",
    "    segment = dfseg[[\"yearmonth\", \"segm\", \"origin\"]]\n",
    "    df0 = df_index.merge(segment, how = \"inner\", on = [\"origin\", \"yearmonth\"])\n",
    "    df0[\"start_segment\"] = df0.groupby(['origin','segm'])[\"date\"].transform('min')\n",
    "    df0[\"end_segment\"] = df0.groupby(['origin','segm'])[\"date\"].transform('max')"
   ]
  },
  {
   "cell_type": "code",
   "execution_count": 6,
   "id": "4b866741",
   "metadata": {},
   "outputs": [],
   "source": [
    "dft = pd.read_csv(data_file)"
   ]
  },
  {
   "cell_type": "code",
   "execution_count": 7,
   "id": "d51fcb22",
   "metadata": {},
   "outputs": [],
   "source": [
    "# Step: Rename column\n",
    "segment = df0[[\"yearmonth\", \"segm\", \"origin\"]]\n",
    "dft = dft.rename(columns={'id': 'doc_id'})\n",
    "\n",
    "dft['date'] = pd.to_datetime(dft['date'], infer_datetime_format=True)\n",
    "\n",
    "dft['yearmonth']=(dft['date'].dt.strftime('%Y-%m'))\n",
    "dft['date'] = dft['date'].dt.date\n",
    "    \n",
    "segment = dfseg[[\"yearmonth\", \"segm\", \"origin\"]]\n",
    "dft0 = dft.merge(segment, how = \"inner\", on = [\"origin\", \"yearmonth\"])\n",
    "dft0[\"start_segment\"] = dft0.groupby(['origin','segm'])[\"date\"].transform('min')\n",
    "dft0[\"end_segment\"] = dft0.groupby(['origin','segm'])[\"date\"].transform('max')\n",
    "\n"
   ]
  },
  {
   "cell_type": "markdown",
   "id": "4010b9f3",
   "metadata": {},
   "source": [
    "## Facebook"
   ]
  },
  {
   "cell_type": "code",
   "execution_count": 8,
   "id": "8a16abe9",
   "metadata": {},
   "outputs": [],
   "source": [
    "dfseg0 = dfseg.copy()"
   ]
  },
  {
   "cell_type": "code",
   "execution_count": 9,
   "id": "62530b84",
   "metadata": {},
   "outputs": [],
   "source": [
    "def filter_data(data, domain, segment):\n",
    "    dfseg = data[0]\n",
    "    dfseg1 = dfseg.loc[(dfseg[\"origin\"] == domain) & (dfseg[\"segm\"] == segment)]\n",
    "    \n",
    "    df = data[1]\n",
    "    df1 = df.loc[(df[\"origin\"] == domain) & (df[\"segm\"] == segment)]\n",
    "    \n",
    "    dft = data[2]\n",
    "    dft1 = dft.loc[(dft[\"origin\"] == domain) & (dft[\"segm\"] == segment)]\n",
    "    \n",
    "    return dfseg1, df1, dft1"
   ]
  },
  {
   "cell_type": "code",
   "execution_count": 54,
   "id": "488d12cb",
   "metadata": {},
   "outputs": [],
   "source": [
    "domain = [\"facebook\", \"twitter\", \"media\"]\n",
    "segment = 0\n",
    "list_df = [dfseg0, df0, dft0]\n",
    "dfseg1, df1, dft1 = filter_data(list_df, domain = domain[0], segment = 0)"
   ]
  },
  {
   "cell_type": "code",
   "execution_count": 56,
   "id": "8e6cdc75",
   "metadata": {},
   "outputs": [],
   "source": [
    "dft1['doc_id'] = dft1['doc_id'].astype('string')"
   ]
  },
  {
   "cell_type": "code",
   "execution_count": 57,
   "id": "5de47e40",
   "metadata": {},
   "outputs": [
    {
     "name": "stdout",
     "output_type": "stream",
     "text": [
      "['céréalier charentais', 'monde selon monsanto', 'jeune femme', 'paul françois', 'monsanto', 'lasso', 'procès', 'céréaliers', 'parasite', 'pesticides', 'résidus de pesticides', 'victimes de pesticides', 'effet', 'roundup', 'miel', 'générations futures', 'syngenta', 'victimes', 'agriculture biologique', 'autorité européenne']\n"
     ]
    }
   ],
   "source": [
    "specific_terms = [x.strip() for x in dfseg1[\"top20_term_chi2_True\"].iloc[0].split(\",\")]\n",
    "\n",
    "print(specific_terms)\n",
    "\n",
    "df1.loc[df1[\"term\"].isin(specific_terms) == True, \"in_top20_term\"] = 1\n",
    "df1.loc[df1[\"term\"].isin(specific_terms) == False, \"in_top20_term\"] = 0\n",
    "df2 = df1.drop_duplicates(subset = [\"doc_id\", \"term\"]).groupby(['doc_id', 'source', \"date\"]).agg(sum_of_top20_term =('in_top20_term', 'sum')).reset_index()\n",
    "\n",
    "df2 = df2.merge(dft1[[\"doc_id\", \"text\"]], how = \"inner\", on = [\"doc_id\"])"
   ]
  },
  {
   "cell_type": "code",
   "execution_count": 58,
   "id": "a8ca12b7",
   "metadata": {},
   "outputs": [
    {
     "data": {
      "text/plain": [
       "0"
      ]
     },
     "execution_count": 58,
     "metadata": {},
     "output_type": "execute_result"
    }
   ],
   "source": [
    "segment"
   ]
  },
  {
   "cell_type": "code",
   "execution_count": 99,
   "id": "fac4d6d6",
   "metadata": {},
   "outputs": [],
   "source": [
    "moyenne = np.mean(df2[\"sum_of_top20_term\"]) \n",
    "df3 = df2.loc[df2[\"sum_of_top20_term\"] >= 2 ]\n",
    "df3 = df3.sort_values(by=['date'], ascending=[True])"
   ]
  },
  {
   "cell_type": "code",
   "execution_count": 100,
   "id": "6d1707c5",
   "metadata": {},
   "outputs": [
    {
     "data": {
      "text/plain": [
       "2.767741935483871"
      ]
     },
     "execution_count": 100,
     "metadata": {},
     "output_type": "execute_result"
    }
   ],
   "source": [
    "moyenne + (moyenne*0.95)"
   ]
  },
  {
   "cell_type": "code",
   "execution_count": 136,
   "id": "5bd7620f",
   "metadata": {},
   "outputs": [
    {
     "data": {
      "text/html": [
       "<h2 style='text-align:center;'> Texte 414018 (1 sur 84)</h2>"
      ],
      "text/plain": [
       "<IPython.core.display.HTML object>"
      ]
     },
     "metadata": {},
     "output_type": "display_data"
    },
    {
     "data": {
      "text/html": [
       "<strong>Segment :</strong> 0"
      ],
      "text/plain": [
       "<IPython.core.display.HTML object>"
      ]
     },
     "metadata": {},
     "output_type": "display_data"
    },
    {
     "data": {
      "text/html": [
       "<strong>Date :</strong> 2011-11-24"
      ],
      "text/plain": [
       "<IPython.core.display.HTML object>"
      ]
     },
     "metadata": {},
     "output_type": "display_data"
    },
    {
     "data": {
      "text/html": [
       "<strong>Auteur :</strong> Vigilance OGM \n"
      ],
      "text/plain": [
       "<IPython.core.display.HTML object>"
      ]
     },
     "metadata": {},
     "output_type": "display_data"
    },
    {
     "name": "stdout",
     "output_type": "stream",
     "text": [
      "Termes indexés : ['effet', 'roundup', 'tribunal', 'santé', 'décision', 'herbicide', 'culture', 'ogm', 'maïs'] \n",
      "\n",
      "Termes spécifiques présents : ['effet', 'roundup'] \n",
      "\n",
      "Termes spécifiques absents : {'monsanto', 'pesticides', 'victimes de pesticides', 'paul françois', 'céréalier charentais', 'agriculture biologique', 'syngenta', 'autorité européenne', 'monde selon monsanto', 'jeune femme', 'lasso', 'miel', 'générations futures', 'parasite', 'céréaliers', 'résidus de pesticides', 'procès', 'victimes'} \n",
      "\n"
     ]
    },
    {
     "data": {
      "text/html": [
       "Ottawa reçoit l'ordre de réexaminer les <mark style=\"background-color:pink\">effet</mark>s environnementaux du <mark style=\"background-color:pink\">roundup</mark> | Bob Weber | Environneme\n",
       "Un <mark style=\"background-color:yellow\">tribunal</mark> a ordonné à <mark style=\"background-color:yellow\">santé</mark> Canada de réévaluer sa <mark style=\"background-color:yellow\">décision</mark> de ne pas  examiner les <mark style=\"background-color:pink\">effet</mark>s d'un <mark style=\"background-color:yellow\">herbicide</mark> populaire, un jugement qui, affirment  certains,...\n",
       "cyberpresse.ca\n",
       "Le <mark style=\"background-color:pink\">roundup</mark> est abondamment utilisé sur les <mark style=\"background-color:yellow\">culture</mark> <mark style=\"background-color:yellow\">ogm</mark> (<mark style=\"background-color:yellow\">maïs</mark> et soya <mark style=\"background-color:pink\">roundup</mark> Ready). Si vous ne l'avez pas fait, signez la pétition: https://www.assnat.qc.ca/fr/exprimez-votre-opinion/petition/Petition-1969/index.html"
      ],
      "text/plain": [
       "<IPython.core.display.HTML object>"
      ]
     },
     "metadata": {},
     "output_type": "display_data"
    },
    {
     "data": {
      "text/html": [
       "<h2 style='text-align:center;'> Texte 414016 (2 sur 84)</h2>"
      ],
      "text/plain": [
       "<IPython.core.display.HTML object>"
      ]
     },
     "metadata": {},
     "output_type": "display_data"
    },
    {
     "data": {
      "text/html": [
       "<strong>Segment :</strong> 0"
      ],
      "text/plain": [
       "<IPython.core.display.HTML object>"
      ]
     },
     "metadata": {},
     "output_type": "display_data"
    },
    {
     "data": {
      "text/html": [
       "<strong>Date :</strong> 2011-11-24"
      ],
      "text/plain": [
       "<IPython.core.display.HTML object>"
      ]
     },
     "metadata": {},
     "output_type": "display_data"
    },
    {
     "data": {
      "text/html": [
       "<strong>Auteur :</strong> Équiterre \n"
      ],
      "text/plain": [
       "<IPython.core.display.HTML object>"
      ]
     },
     "metadata": {},
     "output_type": "display_data"
    },
    {
     "name": "stdout",
     "output_type": "stream",
     "text": [
      "Termes indexés : ['santé', 'effet', 'roundup', 'cour', 'décision', 'herbicide', 'pesticides', 'plantes'] \n",
      "\n",
      "Termes spécifiques présents : ['effet', 'roundup', 'pesticides'] \n",
      "\n",
      "Termes spécifiques absents : {'monsanto', 'victimes de pesticides', 'paul françois', 'céréalier charentais', 'agriculture biologique', 'syngenta', 'autorité européenne', 'monde selon monsanto', 'jeune femme', 'lasso', 'miel', 'générations futures', 'parasite', 'céréaliers', 'résidus de pesticides', 'procès', 'victimes'} \n",
      "\n"
     ]
    },
    {
     "data": {
      "text/html": [
       "<mark style=\"background-color:yellow\">santé</mark> Canada reçoit l'ordre de réexaminer les <mark style=\"background-color:pink\">effet</mark>s environnementaux du <mark style=\"background-color:pink\">roundup</mark> | equiterre.org - P\n",
       "La <mark style=\"background-color:yellow\">cour</mark> fédérale du Canada a ordonné à <mark style=\"background-color:yellow\">santé</mark> Canada de réévaluer sa <mark style=\"background-color:yellow\">décision</mark> de ne pas examiner les <mark style=\"background-color:pink\">effet</mark>s d'un <mark style=\"background-color:yellow\">herbicide</mark>, commercialisé sous le nom de <mark style=\"background-color:pink\">roundup</mark>. Ce pesticide est un des plus populaires sur le marché et il accompagne une proportion importante des <mark style=\"background-color:yellow\">plantes</mark> modifiées génétiquement utilis...\n",
       "equiterre.org\n",
       "<mark style=\"background-color:yellow\">santé</mark> Canada reçoit l'ordre de la <mark style=\"background-color:yellow\">cour</mark> fédérale de réexaminer les <mark style=\"background-color:pink\">effet</mark>s environnementaux du <mark style=\"background-color:pink\">roundup</mark>!"
      ],
      "text/plain": [
       "<IPython.core.display.HTML object>"
      ]
     },
     "metadata": {},
     "output_type": "display_data"
    },
    {
     "data": {
      "text/html": [
       "<h2 style='text-align:center;'> Texte 414013 (3 sur 84)</h2>"
      ],
      "text/plain": [
       "<IPython.core.display.HTML object>"
      ]
     },
     "metadata": {},
     "output_type": "display_data"
    },
    {
     "data": {
      "text/html": [
       "<strong>Segment :</strong> 0"
      ],
      "text/plain": [
       "<IPython.core.display.HTML object>"
      ]
     },
     "metadata": {},
     "output_type": "display_data"
    },
    {
     "data": {
      "text/html": [
       "<strong>Date :</strong> 2011-11-25"
      ],
      "text/plain": [
       "<IPython.core.display.HTML object>"
      ]
     },
     "metadata": {},
     "output_type": "display_data"
    },
    {
     "data": {
      "text/html": [
       "<strong>Auteur :</strong> Bio en Normandie \n"
      ],
      "text/plain": [
       "<IPython.core.display.HTML object>"
      ]
     },
     "metadata": {},
     "output_type": "display_data"
    },
    {
     "name": "stdout",
     "output_type": "stream",
     "text": [
      "Termes indexés : ['pesticides', 'monsanto'] \n",
      "\n",
      "Termes spécifiques présents : ['pesticides', 'monsanto'] \n",
      "\n",
      "Termes spécifiques absents : {'roundup', 'victimes de pesticides', 'paul françois', 'céréalier charentais', 'agriculture biologique', 'syngenta', 'autorité européenne', 'monde selon monsanto', 'jeune femme', 'lasso', 'miel', 'générations futures', 'parasite', 'céréaliers', 'résidus de pesticides', 'procès', 'victimes', 'effet'} \n",
      "\n"
     ]
    },
    {
     "data": {
      "text/html": [
       "\n",
       "pesticide <mark style=\"background-color:pink\">monsanto</mark> empoisonnement à petit feu ! détoxification\n",
       "dailymotion.com\n",
       "Pesticide l'empoisonnement à petit feu !"
      ],
      "text/plain": [
       "<IPython.core.display.HTML object>"
      ]
     },
     "metadata": {},
     "output_type": "display_data"
    },
    {
     "data": {
      "text/html": [
       "<h2 style='text-align:center;'> Texte 414005 (4 sur 84)</h2>"
      ],
      "text/plain": [
       "<IPython.core.display.HTML object>"
      ]
     },
     "metadata": {},
     "output_type": "display_data"
    },
    {
     "data": {
      "text/html": [
       "<strong>Segment :</strong> 0"
      ],
      "text/plain": [
       "<IPython.core.display.HTML object>"
      ]
     },
     "metadata": {},
     "output_type": "display_data"
    },
    {
     "data": {
      "text/html": [
       "<strong>Date :</strong> 2011-11-29"
      ],
      "text/plain": [
       "<IPython.core.display.HTML object>"
      ]
     },
     "metadata": {},
     "output_type": "display_data"
    },
    {
     "data": {
      "text/html": [
       "<strong>Auteur :</strong> Europe Écologie-Les Verts \n"
      ],
      "text/plain": [
       "<IPython.core.display.HTML object>"
      ]
     },
     "metadata": {},
     "output_type": "display_data"
    },
    {
     "name": "stdout",
     "output_type": "stream",
     "text": [
      "Termes indexés : ['écologiste', 'agriculteur', 'alimentation', 'aliments', 'campagne', 'pesticides', 'problème', 'algue', 'bretagne', 'systèmes', 'victimes', 'planète'] \n",
      "\n",
      "Termes spécifiques présents : ['pesticides', 'victimes'] \n",
      "\n",
      "Termes spécifiques absents : {'roundup', 'monsanto', 'victimes de pesticides', 'paul françois', 'céréalier charentais', 'agriculture biologique', 'syngenta', 'autorité européenne', 'monde selon monsanto', 'jeune femme', 'lasso', 'miel', 'générations futures', 'parasite', 'céréaliers', 'résidus de pesticides', 'procès', 'effet'} \n",
      "\n"
     ]
    },
    {
     "data": {
      "text/html": [
       "\n",
       "\n",
       "\n",
       "Nicolas Sarkozy, en déplacement aujourd’hui dans le Gers, a qualifié de « sectaires » les <mark style=\"background-color:yellow\">écologiste</mark>s. Celui qui déclarait lors d’une précédente visite au Salon de l’agriculture que « l’environnement ça commence à bien faire » considère que les <mark style=\"background-color:yellow\">écologiste</mark>s opposent «l’environnement et les <mark style=\"background-color:yellow\">agriculteur</mark>s ». Parce qu’ils ont été les premiers soucieux de la qualité de notre <mark style=\"background-color:yellow\">alimentation</mark>, les <mark style=\"background-color:yellow\">écologiste</mark>s ont remis très tôt en cause le productivisme agricole. Ce productivisme qui produit des <mark style=\"background-color:yellow\">aliments</mark> de qualité médiocre et a sacrifié l’emploi dans les <mark style=\"background-color:yellow\">campagne</mark>s. Le nombre d’exploitations agricoles a encore baissé de 26 % ces dix dernières années. Qu’a fait la droite contre ce plan social silencieux dans nos <mark style=\"background-color:yellow\">campagne</mark>s ? Qu’a fait la droite contre les <mark style=\"background-color:pink\">pesticides</mark> qui empoisonnent en premier lieu les <mark style=\"background-color:yellow\">agriculteur</mark>s ? Pourquoi a-t-elle aggravé le <mark style=\"background-color:yellow\">problème</mark> des <mark style=\"background-color:yellow\">algue</mark>s vertes en <mark style=\"background-color:yellow\">bretagne</mark>, en ne voulant pas remettre en cause l’élevage intensif des porcs, qui pollue sans pouvoir nourrir les éleveurs ? Notre système agricole est à bout de souffle, et les <mark style=\"background-color:yellow\">agriculteur</mark>s en sont les premières <mark style=\"background-color:pink\">victimes</mark>. La droite a abandonné celles et ceux qui sont pourtant l’avenir de notre <mark style=\"background-color:yellow\">planète</mark>. Nicolas Sarkozy devrait un peu plus penser à nos <mark style=\"background-color:yellow\">campagne</mark>s, un peu moins à la sienne. Il faut une profonde réforme des aides publiques en faveur des petites fermes, de l’emploi et de l’environnement. Nous voulons soutenir l’installation agricole et éviter les sur-concentrations, favorisées depuis années. C’est en soutenant une agriculture de qualité, qu’on la sortira de l’impasse productiviste. Cécile DUFLOT, secrétaire nationale"
      ],
      "text/plain": [
       "<IPython.core.display.HTML object>"
      ]
     },
     "metadata": {},
     "output_type": "display_data"
    },
    {
     "data": {
      "text/html": [
       "<h2 style='text-align:center;'> Texte 414004 (5 sur 84)</h2>"
      ],
      "text/plain": [
       "<IPython.core.display.HTML object>"
      ]
     },
     "metadata": {},
     "output_type": "display_data"
    },
    {
     "data": {
      "text/html": [
       "<strong>Segment :</strong> 0"
      ],
      "text/plain": [
       "<IPython.core.display.HTML object>"
      ]
     },
     "metadata": {},
     "output_type": "display_data"
    },
    {
     "data": {
      "text/html": [
       "<strong>Date :</strong> 2011-11-29"
      ],
      "text/plain": [
       "<IPython.core.display.HTML object>"
      ]
     },
     "metadata": {},
     "output_type": "display_data"
    },
    {
     "data": {
      "text/html": [
       "<strong>Auteur :</strong> Europe Écologie Verts Franche-Comté \n"
      ],
      "text/plain": [
       "<IPython.core.display.HTML object>"
      ]
     },
     "metadata": {},
     "output_type": "display_data"
    },
    {
     "name": "stdout",
     "output_type": "stream",
     "text": [
      "Termes indexés : ['monde', 'europe', 'écologie', 'écologiste', 'campagne', 'pesticides', 'agriculteur', 'problème', 'algue', 'bretagne', 'systèmes', 'victimes', 'planète'] \n",
      "\n",
      "Termes spécifiques présents : ['pesticides', 'victimes'] \n",
      "\n",
      "Termes spécifiques absents : {'roundup', 'monsanto', 'victimes de pesticides', 'paul françois', 'céréalier charentais', 'agriculture biologique', 'syngenta', 'autorité européenne', 'monde selon monsanto', 'jeune femme', 'lasso', 'miel', 'générations futures', 'parasite', 'céréaliers', 'résidus de pesticides', 'procès', 'effet'} \n",
      "\n"
     ]
    },
    {
     "data": {
      "text/html": [
       "Nicolas Sarkozy ferme les yeux sur la réalité du <mark style=\"background-color:yellow\">monde</mark> agricole | <mark style=\"background-color:yellow\">europe</mark> <mark style=\"background-color:yellow\">écologie</mark> Les Verts\n",
       "Nicolas Sarkozy, en déplacement aujourd’hui dans le Gers, a qualifié de « sectaires » les <mark style=\"background-color:yellow\">écologiste</mark>s. Celui qui déclarait lors d’une précédente visite au Salon de l’agriculture que « l’environnement ça commence à bien faire » considère que les <mark style=\"background-color:yellow\">écologiste</mark>s opposent «l’environnement et les agriculteu...\n",
       "eelv.fr\n",
       "Qu’a fait la droite contre ce plan social silencieux dans nos <mark style=\"background-color:yellow\">campagne</mark>s ? Qu’a fait la droite contre les <mark style=\"background-color:pink\">pesticides</mark> qui empoisonnent en premier lieu les <mark style=\"background-color:yellow\">agriculteur</mark>s ? Pourquoi a-t-elle aggravé le <mark style=\"background-color:yellow\">problème</mark> des <mark style=\"background-color:yellow\">algue</mark>s vertes en <mark style=\"background-color:yellow\">bretagne</mark>, en ne voulant pas remettre en cause l’élevage intensif des porcs, qui pollue sans pouvoir nourrir les éleveurs ? Notre système agricole est à bout de souffle, et les <mark style=\"background-color:yellow\">agriculteur</mark>s en sont les premières <mark style=\"background-color:pink\">victimes</mark>. La droite a abandonné celles et ceux qui sont pourtant l’avenir de notre <mark style=\"background-color:yellow\">planète</mark>."
      ],
      "text/plain": [
       "<IPython.core.display.HTML object>"
      ]
     },
     "metadata": {},
     "output_type": "display_data"
    },
    {
     "data": {
      "text/html": [
       "<h2 style='text-align:center;'> Texte 413992 (6 sur 84)</h2>"
      ],
      "text/plain": [
       "<IPython.core.display.HTML object>"
      ]
     },
     "metadata": {},
     "output_type": "display_data"
    },
    {
     "data": {
      "text/html": [
       "<strong>Segment :</strong> 0"
      ],
      "text/plain": [
       "<IPython.core.display.HTML object>"
      ]
     },
     "metadata": {},
     "output_type": "display_data"
    },
    {
     "data": {
      "text/html": [
       "<strong>Date :</strong> 2011-12-03"
      ],
      "text/plain": [
       "<IPython.core.display.HTML object>"
      ]
     },
     "metadata": {},
     "output_type": "display_data"
    },
    {
     "data": {
      "text/html": [
       "<strong>Auteur :</strong> Ornithomedia \n"
      ],
      "text/plain": [
       "<IPython.core.display.HTML object>"
      ]
     },
     "metadata": {},
     "output_type": "display_data"
    },
    {
     "name": "stdout",
     "output_type": "stream",
     "text": [
      "Termes indexés : ['parasite', 'insectes', 'effet', 'fongicide'] \n",
      "\n",
      "Termes spécifiques présents : ['parasite', 'effet'] \n",
      "\n",
      "Termes spécifiques absents : {'roundup', 'monsanto', 'pesticides', 'victimes de pesticides', 'paul françois', 'céréalier charentais', 'agriculture biologique', 'syngenta', 'autorité européenne', 'monde selon monsanto', 'jeune femme', 'lasso', 'miel', 'générations futures', 'céréaliers', 'résidus de pesticides', 'procès', 'victimes'} \n",
      "\n"
     ]
    },
    {
     "data": {
      "text/html": [
       "BlueJay Ant Bath\n",
       "Bluejays and many other species will use ant bytes to rid their bodies of <mark style=\"background-color:pink\">parasite</mark>s. The ants contain formic acid that will kill <mark style=\"background-color:pink\">parasite</mark>s or cause them to a...\n",
       "youtube.com\n",
       "Geai bleu prenant un bain de fourmis ... Plusieurs espèces d'oiseaux, notamment les geais, sont connues pour prendre des \"bains de fourmis\" (comme le Geai bleu de cette vidéo) ou bien pour frotter activement leurs plumes avec ces <mark style=\"background-color:yellow\">insectes</mark>. Ce comportement est appelé formicage. L'acide méthanoïque (appelé aussi acide formique), que les fourmis synthétisent, aurait en <mark style=\"background-color:pink\">effet</mark> des <mark style=\"background-color:pink\">effet</mark>s insecticides, acaricides, <mark style=\"background-color:yellow\">fongicide</mark>s et bactéricides, et servirait aussi à l'entretien des plumes. Le formicage diminuerait aussi l'irritation de la peau liée à la croissance des nouvelles plumes après la mue (sources : Wikipedia, zpag.net)."
      ],
      "text/plain": [
       "<IPython.core.display.HTML object>"
      ]
     },
     "metadata": {},
     "output_type": "display_data"
    },
    {
     "data": {
      "text/html": [
       "<h2 style='text-align:center;'> Texte 413990 (7 sur 84)</h2>"
      ],
      "text/plain": [
       "<IPython.core.display.HTML object>"
      ]
     },
     "metadata": {},
     "output_type": "display_data"
    },
    {
     "data": {
      "text/html": [
       "<strong>Segment :</strong> 0"
      ],
      "text/plain": [
       "<IPython.core.display.HTML object>"
      ]
     },
     "metadata": {},
     "output_type": "display_data"
    },
    {
     "data": {
      "text/html": [
       "<strong>Date :</strong> 2011-12-05"
      ],
      "text/plain": [
       "<IPython.core.display.HTML object>"
      ]
     },
     "metadata": {},
     "output_type": "display_data"
    },
    {
     "data": {
      "text/html": [
       "<strong>Auteur :</strong> Elodie in Paris \n"
      ],
      "text/plain": [
       "<IPython.core.display.HTML object>"
      ]
     },
     "metadata": {},
     "output_type": "display_data"
    },
    {
     "name": "stdout",
     "output_type": "stream",
     "text": [
      "Termes indexés : ['écologique', 'effet', 'pesticides', 'substances', 'régions'] \n",
      "\n",
      "Termes spécifiques présents : ['effet', 'pesticides'] \n",
      "\n",
      "Termes spécifiques absents : {'roundup', 'monsanto', 'victimes de pesticides', 'paul françois', 'céréalier charentais', 'agriculture biologique', 'syngenta', 'autorité européenne', 'monde selon monsanto', 'jeune femme', 'lasso', 'miel', 'générations futures', 'parasite', 'céréaliers', 'résidus de pesticides', 'procès', 'victimes'} \n",
      "\n"
     ]
    },
    {
     "data": {
      "text/html": [
       "A la découverte des sneakers Piola |\n",
       "J’ai eu le plaisir  de découvrir les sneakers Piola, un projet <mark style=\"background-color:yellow\">écologique</mark> respectueux de l’environnement. En <mark style=\"background-color:pink\">effet</mark>, elles sont conçues à partir de coton organique, cultivé sans <mark style=\"background-color:pink\">pesticides</mark> ni tout autre substance chimique. Toutes les Piola sont fabriquées au Pérou, dans les <mark style=\"background-color:yellow\">régions</mark> d’Ica, Madre de di...\n",
       "elodieinparis.com\n",
       "Découvrez le projet Piola ! "
      ],
      "text/plain": [
       "<IPython.core.display.HTML object>"
      ]
     },
     "metadata": {},
     "output_type": "display_data"
    },
    {
     "data": {
      "text/html": [
       "<h2 style='text-align:center;'> Texte 413987 (8 sur 84)</h2>"
      ],
      "text/plain": [
       "<IPython.core.display.HTML object>"
      ]
     },
     "metadata": {},
     "output_type": "display_data"
    },
    {
     "data": {
      "text/html": [
       "<strong>Segment :</strong> 0"
      ],
      "text/plain": [
       "<IPython.core.display.HTML object>"
      ]
     },
     "metadata": {},
     "output_type": "display_data"
    },
    {
     "data": {
      "text/html": [
       "<strong>Date :</strong> 2011-12-05"
      ],
      "text/plain": [
       "<IPython.core.display.HTML object>"
      ]
     },
     "metadata": {},
     "output_type": "display_data"
    },
    {
     "data": {
      "text/html": [
       "<strong>Auteur :</strong> BIO ADDICT \n"
      ],
      "text/plain": [
       "<IPython.core.display.HTML object>"
      ]
     },
     "metadata": {},
     "output_type": "display_data"
    },
    {
     "name": "stdout",
     "output_type": "stream",
     "text": [
      "Termes indexés : ['pesticides', 'agriculteur', 'procès', 'monsanto', 'paul françois', 'victimes', 'firme', 'victimes de pesticides'] \n",
      "\n",
      "Termes spécifiques présents : ['pesticides', 'procès', 'monsanto', 'paul françois', 'victimes', 'victimes de pesticides'] \n",
      "\n",
      "Termes spécifiques absents : {'roundup', 'autorité européenne', 'monde selon monsanto', 'jeune femme', 'lasso', 'miel', 'générations futures', 'parasite', 'céréalier charentais', 'agriculture biologique', 'céréaliers', 'résidus de pesticides', 'syngenta', 'effet'} \n",
      "\n"
     ]
    },
    {
     "data": {
      "text/html": [
       "<mark style=\"background-color:pink\">pesticides</mark> : un <mark style=\"background-color:yellow\">agriculteur</mark> en <mark style=\"background-color:pink\">procès</mark> contre <mark style=\"background-color:pink\">monsanto</mark>\n",
       "Ce lundi 12 décembre 2011, <mark style=\"background-color:pink\">paul françois</mark>, <mark style=\"background-color:yellow\">agriculteur</mark> victime des <mark style=\"background-color:pink\">pesticides</mark>, sera en <mark style=\"background-color:pink\">procès</mark> contre <mark style=\"background-color:pink\">monsanto</mark>, en première instance, au TGI de Lyon, dans l'espoir de faire reconnaître la faute de la <mark style=\"background-color:yellow\">firme</mark> et d'engager la responsabilité de cette dernière.\n",
       "bioaddict.fr\n",
       "Nous en appelons à toutes celles et ceux qui le souhaitent à se rendre au TGI de Lyon le 12 décembre à 13h30 pour témoigner de leur soutien à <mark style=\"background-color:pink\">paul françois</mark> et, ainsi, à toutes les <mark style=\"background-color:pink\">victimes</mark> des <mark style=\"background-color:pink\">pesticides</mark>. "
      ],
      "text/plain": [
       "<IPython.core.display.HTML object>"
      ]
     },
     "metadata": {},
     "output_type": "display_data"
    },
    {
     "data": {
      "text/html": [
       "<h2 style='text-align:center;'> Texte 413983 (9 sur 84)</h2>"
      ],
      "text/plain": [
       "<IPython.core.display.HTML object>"
      ]
     },
     "metadata": {},
     "output_type": "display_data"
    },
    {
     "data": {
      "text/html": [
       "<strong>Segment :</strong> 0"
      ],
      "text/plain": [
       "<IPython.core.display.HTML object>"
      ]
     },
     "metadata": {},
     "output_type": "display_data"
    },
    {
     "data": {
      "text/html": [
       "<strong>Date :</strong> 2011-12-07"
      ],
      "text/plain": [
       "<IPython.core.display.HTML object>"
      ]
     },
     "metadata": {},
     "output_type": "display_data"
    },
    {
     "data": {
      "text/html": [
       "<strong>Auteur :</strong> La Vie \n"
      ],
      "text/plain": [
       "<IPython.core.display.HTML object>"
      ]
     },
     "metadata": {},
     "output_type": "display_data"
    },
    {
     "name": "stdout",
     "output_type": "stream",
     "text": [
      "Termes indexés : ['paul françois', 'pesticides', 'monsanto', 'herbicide', 'plainte', 'firme', 'combat'] \n",
      "\n",
      "Termes spécifiques présents : ['paul françois', 'pesticides', 'monsanto'] \n",
      "\n",
      "Termes spécifiques absents : {'roundup', 'victimes de pesticides', 'céréalier charentais', 'agriculture biologique', 'syngenta', 'autorité européenne', 'monde selon monsanto', 'jeune femme', 'lasso', 'miel', 'générations futures', 'parasite', 'céréaliers', 'résidus de pesticides', 'procès', 'victimes', 'effet'} \n",
      "\n"
     ]
    },
    {
     "data": {
      "text/html": [
       "<mark style=\"background-color:pink\">paul françois</mark>, malade des <mark style=\"background-color:pink\">pesticides</mark>, demande réparation à <mark style=\"background-color:pink\">monsanto</mark>\n",
       "<mark style=\"background-color:pink\">paul françois</mark>, malade des <mark style=\"background-color:pink\">pesticides</mark>, demande réparation à <mark style=\"background-color:pink\">monsanto</mark> - Le 12 décembre prochain, l'agriculteur charentais <mark style=\"background-color:pink\">paul françois</mark> - intoxiqué par un <mark style=\"background-color:yellow\">herbicide</mark> - sera à Lyon pour assister à l'instruction de sa <mark style=\"background-color:yellow\">plainte</mark> contre la <mark style=\"background-color:yellow\">firme</mark> <mark style=\"background-color:pink\">monsanto</mark>. L'aboutissement d'un...\n",
       "lavie.fr\n",
       "Le 12 décembre prochain, l'agriculteur charentais <mark style=\"background-color:pink\">paul françois</mark> - intoxiqué par un <mark style=\"background-color:yellow\">herbicide</mark> - sera à Lyon pour assister à l'instruction de sa <mark style=\"background-color:yellow\">plainte</mark> contre la <mark style=\"background-color:yellow\">firme</mark> <mark style=\"background-color:pink\">monsanto</mark>. L'aboutissement d'un long <mark style=\"background-color:yellow\">combat</mark> judiciaire qui pourrait créer une nouvelle jurisprudence, décisive pour le droit de l'environnement."
      ],
      "text/plain": [
       "<IPython.core.display.HTML object>"
      ]
     },
     "metadata": {},
     "output_type": "display_data"
    },
    {
     "data": {
      "text/html": [
       "<h2 style='text-align:center;'> Texte 413981 (10 sur 84)</h2>"
      ],
      "text/plain": [
       "<IPython.core.display.HTML object>"
      ]
     },
     "metadata": {},
     "output_type": "display_data"
    },
    {
     "data": {
      "text/html": [
       "<strong>Segment :</strong> 0"
      ],
      "text/plain": [
       "<IPython.core.display.HTML object>"
      ]
     },
     "metadata": {},
     "output_type": "display_data"
    },
    {
     "data": {
      "text/html": [
       "<strong>Date :</strong> 2011-12-08"
      ],
      "text/plain": [
       "<IPython.core.display.HTML object>"
      ]
     },
     "metadata": {},
     "output_type": "display_data"
    },
    {
     "data": {
      "text/html": [
       "<strong>Auteur :</strong> Semaine pour les alternatives aux pesticides \n"
      ],
      "text/plain": [
       "<IPython.core.display.HTML object>"
      ]
     },
     "metadata": {},
     "output_type": "display_data"
    },
    {
     "name": "stdout",
     "output_type": "stream",
     "text": [
      "Termes indexés : ['victimes', 'victimes de pesticides', 'pesticides'] \n",
      "\n",
      "Termes spécifiques présents : ['victimes', 'victimes de pesticides', 'pesticides'] \n",
      "\n",
      "Termes spécifiques absents : {'roundup', 'monsanto', 'paul françois', 'céréalier charentais', 'agriculture biologique', 'syngenta', 'autorité européenne', 'monde selon monsanto', 'jeune femme', 'lasso', 'miel', 'générations futures', 'parasite', 'céréaliers', 'résidus de pesticides', 'procès', 'effet'} \n",
      "\n"
     ]
    },
    {
     "data": {
      "text/html": [
       "Témoignages : <mark style=\"background-color:pink\">victimes</mark> des <mark style=\"background-color:pink\">pesticides</mark>\n",
       "témoignages de <mark style=\"background-color:pink\">victimes</mark> des <mark style=\"background-color:pink\">pesticides</mark>\n",
       "<mark style=\"background-color:pink\">victimes</mark><mark style=\"background-color:pink\">pesticides</mark>.weebly.com\n",
       "Des témoignages vidéo choc d'agriculteurs <mark style=\"background-color:pink\">victimes</mark> des <mark style=\"background-color:pink\">pesticides</mark>. Faites connaître ces vidéos à vos contacts ! http://<mark style=\"background-color:pink\">victimes</mark><mark style=\"background-color:pink\">pesticides</mark>.weebly.com/"
      ],
      "text/plain": [
       "<IPython.core.display.HTML object>"
      ]
     },
     "metadata": {},
     "output_type": "display_data"
    },
    {
     "data": {
      "text/html": [
       "<h2 style='text-align:center;'> Texte 413980 (11 sur 84)</h2>"
      ],
      "text/plain": [
       "<IPython.core.display.HTML object>"
      ]
     },
     "metadata": {},
     "output_type": "display_data"
    },
    {
     "data": {
      "text/html": [
       "<strong>Segment :</strong> 0"
      ],
      "text/plain": [
       "<IPython.core.display.HTML object>"
      ]
     },
     "metadata": {},
     "output_type": "display_data"
    },
    {
     "data": {
      "text/html": [
       "<strong>Date :</strong> 2011-12-09"
      ],
      "text/plain": [
       "<IPython.core.display.HTML object>"
      ]
     },
     "metadata": {},
     "output_type": "display_data"
    },
    {
     "data": {
      "text/html": [
       "<strong>Auteur :</strong> Agir Pour l'Environnement \n"
      ],
      "text/plain": [
       "<IPython.core.display.HTML object>"
      ]
     },
     "metadata": {},
     "output_type": "display_data"
    },
    {
     "name": "stdout",
     "output_type": "stream",
     "text": [
      "Termes indexés : ['agriculture biologique', 'alternatives', 'alternatives aux pesticides', 'pesticides', 'pratiques', 'politique', 'paysan'] \n",
      "\n",
      "Termes spécifiques présents : ['agriculture biologique', 'pesticides'] \n",
      "\n",
      "Termes spécifiques absents : {'roundup', 'monsanto', 'victimes de pesticides', 'paul françois', 'céréalier charentais', 'syngenta', 'autorité européenne', 'monde selon monsanto', 'jeune femme', 'lasso', 'miel', 'générations futures', 'parasite', 'céréaliers', 'résidus de pesticides', 'procès', 'victimes', 'effet'} \n",
      "\n"
     ]
    },
    {
     "data": {
      "text/html": [
       "[Trois questions à...] Jacques Caplat spécialiste en <mark style=\"background-color:pink\">agriculture biologique</mark> : Cultivons les alternat\n",
       "« Cultivons les <mark style=\"background-color:yellow\">alternatives</mark> aux <mark style=\"background-color:pink\">pesticides</mark> » est un guide pratique qui s'adresse principalement aux élus, mais pas uniquement!  Son but principal est de démontrer que « sans <mark style=\"background-color:pink\">pesticides</mark>, c'est possible », et que l’utilisation systématique des outils règlementaires et financiers existants pourrait dé...\n",
       "agirpourlenvironnement.org\n",
       "Agronome, Jacques Caplat a été conseiller technique au sein d’une chambre d’agriculture, chargé de l’accompagnement d’agriculteurs en conversion vers l’<mark style=\"background-color:pink\">agriculture biologique</mark>, puis des <mark style=\"background-color:yellow\">politique</mark>s agricoles et environnementales au sein de la Fédération nationale de l’<mark style=\"background-color:pink\">agriculture biologique</mark> (FNAB). Il a participé à la fondation du Réseau Semences <mark style=\"background-color:yellow\">paysan</mark>nes. Il référent agriculture dans l’association Agir pour l’Environnement."
      ],
      "text/plain": [
       "<IPython.core.display.HTML object>"
      ]
     },
     "metadata": {},
     "output_type": "display_data"
    },
    {
     "data": {
      "text/html": [
       "<h2 style='text-align:center;'> Texte 413977 (12 sur 84)</h2>"
      ],
      "text/plain": [
       "<IPython.core.display.HTML object>"
      ]
     },
     "metadata": {},
     "output_type": "display_data"
    },
    {
     "data": {
      "text/html": [
       "<strong>Segment :</strong> 0"
      ],
      "text/plain": [
       "<IPython.core.display.HTML object>"
      ]
     },
     "metadata": {},
     "output_type": "display_data"
    },
    {
     "data": {
      "text/html": [
       "<strong>Date :</strong> 2011-12-09"
      ],
      "text/plain": [
       "<IPython.core.display.HTML object>"
      ]
     },
     "metadata": {},
     "output_type": "display_data"
    },
    {
     "data": {
      "text/html": [
       "<strong>Auteur :</strong> Combat Monsanto (officiel) \n"
      ],
      "text/plain": [
       "<IPython.core.display.HTML object>"
      ]
     },
     "metadata": {},
     "output_type": "display_data"
    },
    {
     "name": "stdout",
     "output_type": "stream",
     "text": [
      "Termes indexés : ['combat', 'monsanto', 'monde', 'tribunal', 'procès', 'paul françois', 'firme', 'céréaliers', 'céréalier charentais', 'pesticides', 'lasso'] \n",
      "\n",
      "Termes spécifiques présents : ['monsanto', 'procès', 'paul françois', 'céréaliers', 'céréalier charentais', 'pesticides', 'lasso'] \n",
      "\n",
      "Termes spécifiques absents : {'roundup', 'autorité européenne', 'monde selon monsanto', 'victimes de pesticides', 'jeune femme', 'miel', 'générations futures', 'parasite', 'victimes', 'agriculture biologique', 'résidus de pesticides', 'syngenta', 'effet'} \n",
      "\n"
     ]
    },
    {
     "data": {
      "text/html": [
       "<mark style=\"background-color:yellow\">combat</mark> <mark style=\"background-color:pink\">monsanto</mark> - Pour que le <mark style=\"background-color:yellow\">monde</mark> de <mark style=\"background-color:pink\">monsanto</mark> ne devienne jamais le nôtre\n",
       "Lundi 12 décembre au <mark style=\"background-color:yellow\">tribunal</mark> de Grande Instance de Lyon, s’ouvre le <mark style=\"background-color:pink\">procès</mark> qui oppose <mark style=\"background-color:pink\">paul françois</mark> à la <mark style=\"background-color:yellow\">firme</mark> <mark style=\"background-color:pink\">monsanto</mark>. Ce <mark style=\"background-color:pink\">céréalier charentais</mark> a été intoxiqué par le puissant pesticide <mark style=\"background-color:pink\">lasso</mark>, en avril 2004. Par ce <mark style=\"background-color:pink\">procès</mark> il tente de faire reconnaître la responsabilité de l’entreprise multinationa...\n",
       "<mark style=\"background-color:yellow\">combat</mark>-<mark style=\"background-color:pink\">monsanto</mark>.org\n",
       "Soutenez l'agriculteur <mark style=\"background-color:pink\">paul françois</mark> dans son <mark style=\"background-color:pink\">procès</mark> contre <mark style=\"background-color:pink\">monsanto</mark>! RDV Lundi 12 décembre 2011 devant le TGI de LYON!"
      ],
      "text/plain": [
       "<IPython.core.display.HTML object>"
      ]
     },
     "metadata": {},
     "output_type": "display_data"
    },
    {
     "data": {
      "text/html": [
       "<h2 style='text-align:center;'> Texte 413973 (13 sur 84)</h2>"
      ],
      "text/plain": [
       "<IPython.core.display.HTML object>"
      ]
     },
     "metadata": {},
     "output_type": "display_data"
    },
    {
     "data": {
      "text/html": [
       "<strong>Segment :</strong> 0"
      ],
      "text/plain": [
       "<IPython.core.display.HTML object>"
      ]
     },
     "metadata": {},
     "output_type": "display_data"
    },
    {
     "data": {
      "text/html": [
       "<strong>Date :</strong> 2011-12-11"
      ],
      "text/plain": [
       "<IPython.core.display.HTML object>"
      ]
     },
     "metadata": {},
     "output_type": "display_data"
    },
    {
     "data": {
      "text/html": [
       "<strong>Auteur :</strong> Protect Nature - Protéger la Nature \n"
      ],
      "text/plain": [
       "<IPython.core.display.HTML object>"
      ]
     },
     "metadata": {},
     "output_type": "display_data"
    },
    {
     "name": "stdout",
     "output_type": "stream",
     "text": [
      "Termes indexés : ['pesticides', 'agriculteur', 'monsanto', 'justice', 'monde', 'paul françois', 'herbicide', 'tribunal'] \n",
      "\n",
      "Termes spécifiques présents : ['pesticides', 'monsanto', 'paul françois'] \n",
      "\n",
      "Termes spécifiques absents : {'roundup', 'victimes de pesticides', 'céréalier charentais', 'agriculture biologique', 'syngenta', 'autorité européenne', 'monde selon monsanto', 'jeune femme', 'lasso', 'miel', 'générations futures', 'parasite', 'céréaliers', 'résidus de pesticides', 'procès', 'victimes', 'effet'} \n",
      "\n"
     ]
    },
    {
     "data": {
      "text/html": [
       "Intoxiqué aux <mark style=\"background-color:pink\">pesticides</mark>, un <mark style=\"background-color:yellow\">agriculteur</mark> assigne <mark style=\"background-color:pink\">monsanto</mark> en <mark style=\"background-color:yellow\">justice</mark>\n",
       "Actualité France - <mark style=\"background-color:yellow\">monde</mark> - <mark style=\"background-color:pink\">paul françois</mark>, un <mark style=\"background-color:yellow\">agriculteur</mark> charentais accuse le géant de l'agrochimie <mark style=\"background-color:pink\">monsanto</mark> d'être responsable de son intoxication en 2004 par un puissant <mark style=\"background-color:yellow\">herbicide</mark>, interdit en France depuis 2007. L'audience se tiendra à partir de demain devant le <mark style=\"background-color:yellow\">tribunal</mark> de grande instance de Lyo...\n",
       "lavoixdunord.fr\n",
       "C'est la première fois qu'un particulier assigne <mark style=\"background-color:pink\">monsanto</mark> devant la <mark style=\"background-color:yellow\">justice</mark> » en France ... :"
      ],
      "text/plain": [
       "<IPython.core.display.HTML object>"
      ]
     },
     "metadata": {},
     "output_type": "display_data"
    },
    {
     "data": {
      "text/html": [
       "<h2 style='text-align:center;'> Texte 413972 (14 sur 84)</h2>"
      ],
      "text/plain": [
       "<IPython.core.display.HTML object>"
      ]
     },
     "metadata": {},
     "output_type": "display_data"
    },
    {
     "data": {
      "text/html": [
       "<strong>Segment :</strong> 0"
      ],
      "text/plain": [
       "<IPython.core.display.HTML object>"
      ]
     },
     "metadata": {},
     "output_type": "display_data"
    },
    {
     "data": {
      "text/html": [
       "<strong>Date :</strong> 2011-12-11"
      ],
      "text/plain": [
       "<IPython.core.display.HTML object>"
      ]
     },
     "metadata": {},
     "output_type": "display_data"
    },
    {
     "data": {
      "text/html": [
       "<strong>Auteur :</strong> Protect Nature - Protéger la Nature \n"
      ],
      "text/plain": [
       "<IPython.core.display.HTML object>"
      ]
     },
     "metadata": {},
     "output_type": "display_data"
    },
    {
     "name": "stdout",
     "output_type": "stream",
     "text": [
      "Termes indexés : ['insectes', 'monde', 'études', 'effet', 'disparition', 'abeilles', 'régions', 'pesticides', 'pollution', 'parasite'] \n",
      "\n",
      "Termes spécifiques présents : ['effet', 'pesticides', 'parasite'] \n",
      "\n",
      "Termes spécifiques absents : {'roundup', 'monsanto', 'victimes de pesticides', 'paul françois', 'céréalier charentais', 'agriculture biologique', 'syngenta', 'autorité européenne', 'monde selon monsanto', 'jeune femme', 'lasso', 'miel', 'générations futures', 'céréaliers', 'résidus de pesticides', 'procès', 'victimes'} \n",
      "\n"
     ]
    },
    {
     "data": {
      "text/html": [
       "Une espèce extrêmement rare de bourdon retrouvée aux Etats-Unis\n",
       "Alors qu’on la pensait définitivement disparue, une des espèces les plus rares de bourdon des...\n",
       "maxisciences.com\n",
       "Une bonne nouvelle au regard du déclin bien réel des <mark style=\"background-color:yellow\">insectes</mark> butineurs dans le <mark style=\"background-color:yellow\">monde</mark> entier. Une étude récente publiée par l’ONU signale en <mark style=\"background-color:pink\">effet</mark> une hausse de 85% de la <mark style=\"background-color:yellow\">disparition</mark> des <mark style=\"background-color:yellow\">abeilles</mark> dans certaines <mark style=\"background-color:yellow\">régions</mark> industrialisées de l'hémisphère nord. Selon les experts, les États-Unis rassemblent environ 50 espèces différentes de bourdons dont la plupart sont au bord de l’extinction. Plusieurs facteurs peuvent être mis en cause comme les <mark style=\"background-color:pink\">pesticides</mark>, la <mark style=\"background-color:yellow\">pollution</mark> ou encore les <mark style=\"background-color:pink\">parasite</mark>s. ... :"
      ],
      "text/plain": [
       "<IPython.core.display.HTML object>"
      ]
     },
     "metadata": {},
     "output_type": "display_data"
    },
    {
     "data": {
      "text/html": [
       "<h2 style='text-align:center;'> Texte 413965 (15 sur 84)</h2>"
      ],
      "text/plain": [
       "<IPython.core.display.HTML object>"
      ]
     },
     "metadata": {},
     "output_type": "display_data"
    },
    {
     "data": {
      "text/html": [
       "<strong>Segment :</strong> 0"
      ],
      "text/plain": [
       "<IPython.core.display.HTML object>"
      ]
     },
     "metadata": {},
     "output_type": "display_data"
    },
    {
     "data": {
      "text/html": [
       "<strong>Date :</strong> 2011-12-12"
      ],
      "text/plain": [
       "<IPython.core.display.HTML object>"
      ]
     },
     "metadata": {},
     "output_type": "display_data"
    },
    {
     "data": {
      "text/html": [
       "<strong>Auteur :</strong> La Dépêche Haute-Garonne \n"
      ],
      "text/plain": [
       "<IPython.core.display.HTML object>"
      ]
     },
     "metadata": {},
     "output_type": "display_data"
    },
    {
     "name": "stdout",
     "output_type": "stream",
     "text": [
      "Termes indexés : ['plainte', 'paris', 'pesticides', 'paysan', 'monsanto'] \n",
      "\n",
      "Termes spécifiques présents : ['pesticides', 'monsanto'] \n",
      "\n",
      "Termes spécifiques absents : {'roundup', 'victimes de pesticides', 'paul françois', 'céréalier charentais', 'agriculture biologique', 'syngenta', 'autorité européenne', 'monde selon monsanto', 'jeune femme', 'lasso', 'miel', 'générations futures', 'parasite', 'céréaliers', 'résidus de pesticides', 'procès', 'victimes', 'effet'} \n",
      "\n"
     ]
    },
    {
     "data": {
      "text/html": [
       "\n",
       "\n",
       "\n",
       "Les titres de La Dépêche du mardi 13 décembre 2011 Evénement Présidentielle : tous en course pour l'Elysée. Panorama des petits et des grands candidats. 24 heures Encyclopédie : 4000 mots nouveaux. <mark style=\"background-color:yellow\">plainte</mark>s sur internet : généralisation début 2012. Actualités La France se prépare à perdre son triple A. Attentat au Liban : <mark style=\"background-color:yellow\">paris</mark> accuse Damas. Faits divers <mark style=\"background-color:pink\">pesticides</mark> : ce <mark style=\"background-color:yellow\">paysan</mark> qui défie <mark style=\"background-color:pink\">monsanto</mark>. Affaire Bettencourt : Banier convoqué. Grand Sud Changement d'horaires à la SNCF : le jour d'après. Bilan. Grotte Chauvet : \"Un patrimoine exceptionnel.\""
      ],
      "text/plain": [
       "<IPython.core.display.HTML object>"
      ]
     },
     "metadata": {},
     "output_type": "display_data"
    },
    {
     "data": {
      "text/html": [
       "<h2 style='text-align:center;'> Texte 413970 (16 sur 84)</h2>"
      ],
      "text/plain": [
       "<IPython.core.display.HTML object>"
      ]
     },
     "metadata": {},
     "output_type": "display_data"
    },
    {
     "data": {
      "text/html": [
       "<strong>Segment :</strong> 0"
      ],
      "text/plain": [
       "<IPython.core.display.HTML object>"
      ]
     },
     "metadata": {},
     "output_type": "display_data"
    },
    {
     "data": {
      "text/html": [
       "<strong>Date :</strong> 2011-12-12"
      ],
      "text/plain": [
       "<IPython.core.display.HTML object>"
      ]
     },
     "metadata": {},
     "output_type": "display_data"
    },
    {
     "data": {
      "text/html": [
       "<strong>Auteur :</strong> Franceinfo \n"
      ],
      "text/plain": [
       "<IPython.core.display.HTML object>"
      ]
     },
     "metadata": {},
     "output_type": "display_data"
    },
    {
     "name": "stdout",
     "output_type": "stream",
     "text": [
      "Termes indexés : ['pesticides', 'agriculteur', 'monsanto', 'justice', 'lasso', 'désherbant', 'maladie', 'tribunal'] \n",
      "\n",
      "Termes spécifiques présents : ['pesticides', 'monsanto', 'lasso'] \n",
      "\n",
      "Termes spécifiques absents : {'roundup', 'victimes de pesticides', 'paul françois', 'céréalier charentais', 'agriculture biologique', 'syngenta', 'autorité européenne', 'monde selon monsanto', 'jeune femme', 'miel', 'générations futures', 'parasite', 'céréaliers', 'résidus de pesticides', 'procès', 'victimes', 'effet'} \n",
      "\n"
     ]
    },
    {
     "data": {
      "text/html": [
       "Intoxiqué par des <mark style=\"background-color:pink\">pesticides</mark>, un <mark style=\"background-color:yellow\">agriculteur</mark> attaque <mark style=\"background-color:pink\">monsanto</mark> en <mark style=\"background-color:yellow\">justice</mark> - <mark style=\"background-color:yellow\">justice</mark> - France Info\n",
       "C'est semble-t-il la première fois qu'un particulier assigne <mark style=\"background-color:pink\">monsanto</mark> en <mark style=\"background-color:yellow\">justice</mark>. Après avoir inhalé du <mark style=\"background-color:pink\">lasso</mark>, un puissant <mark style=\"background-color:yellow\">désherbant</mark>, il est hospitalisé en 2004. Depuis, il a vu son affection reconnue comme <mark style=\"background-color:yellow\">maladie</mark> professionnelle. L'audience s'ouvre aujourd'hui devant le <mark style=\"background-color:yellow\">tribunal</mark> de grande instanc...\n",
       "franceinfo.fr\n",
       "Son affection a été reconnue comme <mark style=\"background-color:yellow\">maladie</mark> professionnelle. Aujourd'hui, il s'en prend directement à <mark style=\"background-color:pink\">monsanto</mark>"
      ],
      "text/plain": [
       "<IPython.core.display.HTML object>"
      ]
     },
     "metadata": {},
     "output_type": "display_data"
    },
    {
     "data": {
      "text/html": [
       "<h2 style='text-align:center;'> Texte 413969 (17 sur 84)</h2>"
      ],
      "text/plain": [
       "<IPython.core.display.HTML object>"
      ]
     },
     "metadata": {},
     "output_type": "display_data"
    },
    {
     "data": {
      "text/html": [
       "<strong>Segment :</strong> 0"
      ],
      "text/plain": [
       "<IPython.core.display.HTML object>"
      ]
     },
     "metadata": {},
     "output_type": "display_data"
    },
    {
     "data": {
      "text/html": [
       "<strong>Date :</strong> 2011-12-12"
      ],
      "text/plain": [
       "<IPython.core.display.HTML object>"
      ]
     },
     "metadata": {},
     "output_type": "display_data"
    },
    {
     "data": {
      "text/html": [
       "<strong>Auteur :</strong> Planète infos \n"
      ],
      "text/plain": [
       "<IPython.core.display.HTML object>"
      ]
     },
     "metadata": {},
     "output_type": "display_data"
    },
    {
     "name": "stdout",
     "output_type": "stream",
     "text": [
      "Termes indexés : ['planète', 'tribunal', 'procès', 'paul françois', 'firme', 'monsanto', 'céréaliers', 'céréalier charentais', 'pesticides', 'lasso'] \n",
      "\n",
      "Termes spécifiques présents : ['procès', 'paul françois', 'monsanto', 'céréaliers', 'céréalier charentais', 'pesticides', 'lasso'] \n",
      "\n",
      "Termes spécifiques absents : {'roundup', 'autorité européenne', 'monde selon monsanto', 'victimes de pesticides', 'jeune femme', 'miel', 'générations futures', 'parasite', 'victimes', 'agriculture biologique', 'résidus de pesticides', 'syngenta', 'effet'} \n",
      "\n"
     ]
    },
    {
     "data": {
      "text/html": [
       "Infos Nationales Internationales Planete infos\n",
       "Infos Nationales Internationales <mark style=\"background-color:yellow\">planète</mark> infos\n",
       "planete-infos.fr\n",
       "Lundi 12 décembre au <mark style=\"background-color:yellow\">tribunal</mark> de Grande Instance de Lyon, s'ouvre le <mark style=\"background-color:pink\">procès</mark> qui oppose <mark style=\"background-color:pink\">paul françois</mark> à la <mark style=\"background-color:yellow\">firme</mark> <mark style=\"background-color:pink\">monsanto</mark>. Ce <mark style=\"background-color:pink\">céréalier charentais</mark> a été intoxiqué par le puissant pesticide <mark style=\"background-color:pink\">lasso</mark>, en avril 2004. Par ce <mark style=\"background-color:pink\">procès</mark> il tente de faire reconnaître la responsabilité de l'entreprise multinationale. "
      ],
      "text/plain": [
       "<IPython.core.display.HTML object>"
      ]
     },
     "metadata": {},
     "output_type": "display_data"
    },
    {
     "data": {
      "text/html": [
       "<h2 style='text-align:center;'> Texte 413968 (18 sur 84)</h2>"
      ],
      "text/plain": [
       "<IPython.core.display.HTML object>"
      ]
     },
     "metadata": {},
     "output_type": "display_data"
    },
    {
     "data": {
      "text/html": [
       "<strong>Segment :</strong> 0"
      ],
      "text/plain": [
       "<IPython.core.display.HTML object>"
      ]
     },
     "metadata": {},
     "output_type": "display_data"
    },
    {
     "data": {
      "text/html": [
       "<strong>Date :</strong> 2011-12-12"
      ],
      "text/plain": [
       "<IPython.core.display.HTML object>"
      ]
     },
     "metadata": {},
     "output_type": "display_data"
    },
    {
     "data": {
      "text/html": [
       "<strong>Auteur :</strong> Greenpeace France / Groupe local de Lyon \n"
      ],
      "text/plain": [
       "<IPython.core.display.HTML object>"
      ]
     },
     "metadata": {},
     "output_type": "display_data"
    },
    {
     "name": "stdout",
     "output_type": "stream",
     "text": [
      "Termes indexés : ['combat', 'monsanto', 'monde', 'tribunal', 'procès', 'paul françois', 'firme', 'céréaliers', 'céréalier charentais', 'pesticides', 'lasso', 'agriculteur'] \n",
      "\n",
      "Termes spécifiques présents : ['monsanto', 'procès', 'paul françois', 'céréaliers', 'céréalier charentais', 'pesticides', 'lasso'] \n",
      "\n",
      "Termes spécifiques absents : {'roundup', 'autorité européenne', 'monde selon monsanto', 'victimes de pesticides', 'jeune femme', 'miel', 'générations futures', 'parasite', 'victimes', 'agriculture biologique', 'résidus de pesticides', 'syngenta', 'effet'} \n",
      "\n"
     ]
    },
    {
     "data": {
      "text/html": [
       "<mark style=\"background-color:yellow\">combat</mark> <mark style=\"background-color:pink\">monsanto</mark> - Pour que le <mark style=\"background-color:yellow\">monde</mark> de <mark style=\"background-color:pink\">monsanto</mark> ne devienne jamais le nôtre\n",
       "Lundi 12 décembre au <mark style=\"background-color:yellow\">tribunal</mark> de Grande Instance de Lyon, s’ouvre le <mark style=\"background-color:pink\">procès</mark> qui oppose <mark style=\"background-color:pink\">paul françois</mark> à la <mark style=\"background-color:yellow\">firme</mark> <mark style=\"background-color:pink\">monsanto</mark>. Ce <mark style=\"background-color:pink\">céréalier charentais</mark> a été intoxiqué par le puissant pesticide <mark style=\"background-color:pink\">lasso</mark>, en avril 2004. Par ce <mark style=\"background-color:pink\">procès</mark> il tente de faire reconnaître la responsabilité de l’entreprise multinationa...\n",
       "<mark style=\"background-color:yellow\">combat</mark>-<mark style=\"background-color:pink\">monsanto</mark>.org\n",
       "N'oubliez pas de venir soutenir cet <mark style=\"background-color:yellow\">agriculteur</mark> qui ose attaquer <mark style=\"background-color:pink\">monsanto</mark> : c'est AUJOURD'HUI (lundi), à 13h30 au TGI de Lyon, arrêt Moncey ! [C+]"
      ],
      "text/plain": [
       "<IPython.core.display.HTML object>"
      ]
     },
     "metadata": {},
     "output_type": "display_data"
    },
    {
     "data": {
      "text/html": [
       "<h2 style='text-align:center;'> Texte 413966 (19 sur 84)</h2>"
      ],
      "text/plain": [
       "<IPython.core.display.HTML object>"
      ]
     },
     "metadata": {},
     "output_type": "display_data"
    },
    {
     "data": {
      "text/html": [
       "<strong>Segment :</strong> 0"
      ],
      "text/plain": [
       "<IPython.core.display.HTML object>"
      ]
     },
     "metadata": {},
     "output_type": "display_data"
    },
    {
     "data": {
      "text/html": [
       "<strong>Date :</strong> 2011-12-12"
      ],
      "text/plain": [
       "<IPython.core.display.HTML object>"
      ]
     },
     "metadata": {},
     "output_type": "display_data"
    },
    {
     "data": {
      "text/html": [
       "<strong>Auteur :</strong> Le Monde \n"
      ],
      "text/plain": [
       "<IPython.core.display.HTML object>"
      ]
     },
     "metadata": {},
     "output_type": "display_data"
    },
    {
     "name": "stdout",
     "output_type": "stream",
     "text": [
      "Termes indexés : ['agriculteur', 'monsanto', 'justice', 'désherbant', 'céréaliers', 'tribunal', 'plainte', 'herbicide', 'problème', 'santé'] \n",
      "\n",
      "Termes spécifiques présents : ['monsanto', 'céréaliers'] \n",
      "\n",
      "Termes spécifiques absents : {'roundup', 'pesticides', 'victimes de pesticides', 'paul françois', 'céréalier charentais', 'agriculture biologique', 'syngenta', 'autorité européenne', 'monde selon monsanto', 'jeune femme', 'lasso', 'miel', 'générations futures', 'parasite', 'résidus de pesticides', 'procès', 'victimes', 'effet'} \n",
      "\n"
     ]
    },
    {
     "data": {
      "text/html": [
       "Un <mark style=\"background-color:yellow\">agriculteur</mark> charentais affronte <mark style=\"background-color:pink\">monsanto</mark> devant la <mark style=\"background-color:yellow\">justice</mark>\n",
       "A la suite de l'inhalation d'un puissant <mark style=\"background-color:yellow\">désherbant</mark> interdit dans plusieurs pays, le céréalier ne travaille plus qu'à mi-temps, en proie à des fatigues chroniques et des maux de tête tenaces. Chez <mark style=\"background-color:pink\">monsanto</mark>, personne ne voulait s'exprimer avant l'audience.\n",
       "lemonde.fr\n",
       "C'est une première. Le <mark style=\"background-color:yellow\">tribunal</mark> de Lyon examine aujourd'hui la <mark style=\"background-color:yellow\">plainte</mark> d'un <mark style=\"background-color:yellow\">agriculteur</mark> contre le géant de l'agrochimie <mark style=\"background-color:pink\">monsanto</mark>. Il accuse un <mark style=\"background-color:yellow\">herbicide</mark> d'être à l'origine de ses graves <mark style=\"background-color:yellow\">problème</mark>s de <mark style=\"background-color:yellow\">santé</mark> : <mark style=\"background-color:pink\">monsanto</mark> a selon lui caché \"les sérieux risques liés à des composants chimiques du produit\"."
      ],
      "text/plain": [
       "<IPython.core.display.HTML object>"
      ]
     },
     "metadata": {},
     "output_type": "display_data"
    },
    {
     "data": {
      "text/html": [
       "<h2 style='text-align:center;'> Texte 413958 (20 sur 84)</h2>"
      ],
      "text/plain": [
       "<IPython.core.display.HTML object>"
      ]
     },
     "metadata": {},
     "output_type": "display_data"
    },
    {
     "data": {
      "text/html": [
       "<strong>Segment :</strong> 0"
      ],
      "text/plain": [
       "<IPython.core.display.HTML object>"
      ]
     },
     "metadata": {},
     "output_type": "display_data"
    },
    {
     "data": {
      "text/html": [
       "<strong>Date :</strong> 2011-12-13"
      ],
      "text/plain": [
       "<IPython.core.display.HTML object>"
      ]
     },
     "metadata": {},
     "output_type": "display_data"
    },
    {
     "data": {
      "text/html": [
       "<strong>Auteur :</strong> Savoir ce que vous mangez et astuces pratiques \n"
      ],
      "text/plain": [
       "<IPython.core.display.HTML object>"
      ]
     },
     "metadata": {},
     "output_type": "display_data"
    },
    {
     "name": "stdout",
     "output_type": "stream",
     "text": [
      "Termes indexés : ['paysan', 'monsanto', 'justice', 'victimes', 'herbicide', 'paul françois', 'firme'] \n",
      "\n",
      "Termes spécifiques présents : ['monsanto', 'victimes', 'paul françois'] \n",
      "\n",
      "Termes spécifiques absents : {'roundup', 'pesticides', 'victimes de pesticides', 'céréalier charentais', 'agriculture biologique', 'syngenta', 'autorité européenne', 'monde selon monsanto', 'jeune femme', 'lasso', 'miel', 'générations futures', 'parasite', 'céréaliers', 'résidus de pesticides', 'procès', 'effet'} \n",
      "\n"
     ]
    },
    {
     "data": {
      "text/html": [
       "Un <mark style=\"background-color:yellow\">paysan</mark> attaque <mark style=\"background-color:pink\">monsanto</mark>\n",
       "<mark style=\"background-color:yellow\">justice</mark> - Victime d'un <mark style=\"background-color:yellow\">herbicide</mark>, <mark style=\"background-color:pink\">paul françois</mark> assure que la <mark style=\"background-color:yellow\">firme</mark> connaissait les dangers du produit...\n",
       "20minutes.fr\n",
       "Pour ceux qui demandent \"quoi faire?\" voici du boulot ! Aller soutenir cet homme courageux !!!"
      ],
      "text/plain": [
       "<IPython.core.display.HTML object>"
      ]
     },
     "metadata": {},
     "output_type": "display_data"
    },
    {
     "data": {
      "text/html": [
       "<h2 style='text-align:center;'> Texte 413961 (21 sur 84)</h2>"
      ],
      "text/plain": [
       "<IPython.core.display.HTML object>"
      ]
     },
     "metadata": {},
     "output_type": "display_data"
    },
    {
     "data": {
      "text/html": [
       "<strong>Segment :</strong> 0"
      ],
      "text/plain": [
       "<IPython.core.display.HTML object>"
      ]
     },
     "metadata": {},
     "output_type": "display_data"
    },
    {
     "data": {
      "text/html": [
       "<strong>Date :</strong> 2011-12-13"
      ],
      "text/plain": [
       "<IPython.core.display.HTML object>"
      ]
     },
     "metadata": {},
     "output_type": "display_data"
    },
    {
     "data": {
      "text/html": [
       "<strong>Auteur :</strong> Rue89Lyon \n"
      ],
      "text/plain": [
       "<IPython.core.display.HTML object>"
      ]
     },
     "metadata": {},
     "output_type": "display_data"
    },
    {
     "name": "stdout",
     "output_type": "stream",
     "text": [
      "Termes indexés : ['procès', 'paul françois', 'monsanto', 'pesticides', 'firme', 'paysan'] \n",
      "\n",
      "Termes spécifiques présents : ['procès', 'paul françois', 'monsanto', 'pesticides'] \n",
      "\n",
      "Termes spécifiques absents : {'roundup', 'victimes de pesticides', 'céréalier charentais', 'agriculture biologique', 'syngenta', 'autorité européenne', 'monde selon monsanto', 'jeune femme', 'lasso', 'miel', 'générations futures', 'parasite', 'céréaliers', 'résidus de pesticides', 'victimes', 'effet'} \n",
      "\n"
     ]
    },
    {
     "data": {
      "text/html": [
       "Le <mark style=\"background-color:pink\">procès</mark> de <mark style=\"background-color:pink\">paul françois</mark> contre <mark style=\"background-color:pink\">monsanto</mark> | Rue89Lyon\n",
       "<mark style=\"background-color:pink\">pesticides</mark> / « Ce n’est pas un petit cultivateur, il a 240 hectares, il est informé des dangers des produits. » Le géant industriel américain <mark style=\"background-color:pink\">monsanto</mark> a tenté de casser son image de <mark style=\"background-color:yellow\">firme</mark> amorale capable d’empoisonner l’agriculteur isolé, devant le TGI de Lyon. Le <mark style=\"background-color:yellow\">paysan</mark> en question, <mark style=\"background-color:pink\">paul françois</mark>, ...\n",
       "rue89lyon.fr\n",
       "<mark style=\"background-color:pink\">procès</mark> : <mark style=\"background-color:pink\">monsanto</mark> a tenté de casser son image de <mark style=\"background-color:yellow\">firme</mark> amorale capable d’empoisonner l’agriculteur isolé."
      ],
      "text/plain": [
       "<IPython.core.display.HTML object>"
      ]
     },
     "metadata": {},
     "output_type": "display_data"
    },
    {
     "data": {
      "text/html": [
       "<h2 style='text-align:center;'> Texte 413959 (22 sur 84)</h2>"
      ],
      "text/plain": [
       "<IPython.core.display.HTML object>"
      ]
     },
     "metadata": {},
     "output_type": "display_data"
    },
    {
     "data": {
      "text/html": [
       "<strong>Segment :</strong> 0"
      ],
      "text/plain": [
       "<IPython.core.display.HTML object>"
      ]
     },
     "metadata": {},
     "output_type": "display_data"
    },
    {
     "data": {
      "text/html": [
       "<strong>Date :</strong> 2011-12-13"
      ],
      "text/plain": [
       "<IPython.core.display.HTML object>"
      ]
     },
     "metadata": {},
     "output_type": "display_data"
    },
    {
     "data": {
      "text/html": [
       "<strong>Auteur :</strong> La Vie \n"
      ],
      "text/plain": [
       "<IPython.core.display.HTML object>"
      ]
     },
     "metadata": {},
     "output_type": "display_data"
    },
    {
     "name": "stdout",
     "output_type": "stream",
     "text": [
      "Termes indexés : ['pesticides', 'cancers', 'procès', 'paul françois', 'monsanto'] \n",
      "\n",
      "Termes spécifiques présents : ['pesticides', 'procès', 'paul françois', 'monsanto'] \n",
      "\n",
      "Termes spécifiques absents : {'roundup', 'victimes de pesticides', 'céréalier charentais', 'agriculture biologique', 'syngenta', 'autorité européenne', 'monde selon monsanto', 'jeune femme', 'lasso', 'miel', 'générations futures', 'parasite', 'céréaliers', 'résidus de pesticides', 'victimes', 'effet'} \n",
      "\n"
     ]
    },
    {
     "data": {
      "text/html": [
       "Frédéric Ferrand, viticulteur mort à cause des <mark style=\"background-color:pink\">pesticides</mark>\n",
       "Frédéric Ferrand, viticulteur mort à cause des <mark style=\"background-color:pink\">pesticides</mark> - La semaine dernière il témoignait dans La Vie à propos des dangers des <mark style=\"background-color:pink\">pesticides</mark>. Atteint d'un cancer. Frédéric Ferrand, viticulteur âgé de 41 ans, père de deux jeunes enfants, est décédé...\n",
       "lavie.fr\n",
       "La semaine dernière il témoignait dans La Vie à propos des dangers des <mark style=\"background-color:pink\">pesticides</mark>. Atteint d'un cancer. Frédéric Ferrand, viticulteur âgé de 41 ans, père de deux jeunes enfants, est décédé dimanche, à la veille du <mark style=\"background-color:pink\">procès</mark> intenté par <mark style=\"background-color:pink\">paul françois</mark> contre <mark style=\"background-color:pink\">monsanto</mark>."
      ],
      "text/plain": [
       "<IPython.core.display.HTML object>"
      ]
     },
     "metadata": {},
     "output_type": "display_data"
    },
    {
     "data": {
      "text/html": [
       "<h2 style='text-align:center;'> Texte 413948 (23 sur 84)</h2>"
      ],
      "text/plain": [
       "<IPython.core.display.HTML object>"
      ]
     },
     "metadata": {},
     "output_type": "display_data"
    },
    {
     "data": {
      "text/html": [
       "<strong>Segment :</strong> 0"
      ],
      "text/plain": [
       "<IPython.core.display.HTML object>"
      ]
     },
     "metadata": {},
     "output_type": "display_data"
    },
    {
     "data": {
      "text/html": [
       "<strong>Date :</strong> 2011-12-14"
      ],
      "text/plain": [
       "<IPython.core.display.HTML object>"
      ]
     },
     "metadata": {},
     "output_type": "display_data"
    },
    {
     "data": {
      "text/html": [
       "<strong>Auteur :</strong> Pays de Normandie \n"
      ],
      "text/plain": [
       "<IPython.core.display.HTML object>"
      ]
     },
     "metadata": {},
     "output_type": "display_data"
    },
    {
     "name": "stdout",
     "output_type": "stream",
     "text": [
      "Termes indexés : ['oiseaux', 'nature', 'victimes', 'campagne', 'disparition', 'utilisation des pesticides', 'pesticides'] \n",
      "\n",
      "Termes spécifiques présents : ['victimes', 'pesticides'] \n",
      "\n",
      "Termes spécifiques absents : {'roundup', 'monsanto', 'victimes de pesticides', 'paul françois', 'céréalier charentais', 'agriculture biologique', 'syngenta', 'autorité européenne', 'monde selon monsanto', 'jeune femme', 'lasso', 'miel', 'générations futures', 'parasite', 'céréaliers', 'résidus de pesticides', 'procès', 'effet'} \n",
      "\n"
     ]
    },
    {
     "data": {
      "text/html": [
       "LPO (Ligue pour la Protection des <mark style=\"background-color:yellow\">oiseaux</mark>) | LPO (Ligue pour la Protection des <mark style=\"background-color:yellow\">oiseaux</mark>)\n",
       "La LPO agit au quotidien depuis sa création (en 1912), pour la sauvegarde de la biodiversité, à partir de sa vocation de protection des <mark style=\"background-color:yellow\">oiseaux</mark>. Avec plus de 45 000 membres, elle figure parmi les premières organisations de protection de la <mark style=\"background-color:yellow\">nature</mark> en France\n",
       "lpo.fr\n",
       "La LPO au secours d'une chouette menacée : \"l'effraie des clochers\" En France, chaque année, une chouette effraie meurt tous les 2 km d’autoroute, victime de collisions avec les véhicules, tandis que ses sites de nidification se raréfient. Malgré le déclin prononcé de la « dame blanche », l'espèce n’avait jamais fait l’objet d’une mobilisation nationale. C’est désormais chose faite : la LPO (Ligue pour la Protection des <mark style=\"background-color:yellow\">oiseaux</mark>) a lancé - sur 5 ans - à l’échelle nationale un plan de sauvegarde ainsi qu’une <mark style=\"background-color:yellow\">campagne</mark> de sensibilisation qui s’organisent autour de 2 actions phares, « Roulez moins vite la nuit » et « Posez des nichoirs ». Une affiche et un autocollant « Roulez moins vite » ont donc été créés, avec le soutien de la Fondation Norauto, pour sensibiliser le grand public et l’inciter à ralentir. La raréfaction des sites de nidification menace également la chouette effraie. Comme elle ne construit pas de nid, elle utilise, en dehors des arbres creux, des lieux aménagés par l’homme (clochers, granges et autres habitations). Or, les vieilles granges disparaissent au profit de bâtiments plus modernes, les combles deviennent habitables et les clochers sont grillagés pour empêcher les pigeons d’y entrer. Une solution reste alors : la pose de nichoirs. Une première opération a été lancée dans ce sens cet automne, avec le soutien de la Fondation <mark style=\"background-color:yellow\">nature</mark> et Découvertes : 150 nichoirs ont été diffusés au réseau national de protection de la <mark style=\"background-color:yellow\">nature</mark>. Enfin, la chouette effraie est aussi fragilisée par les transformations de l'espace rural (<mark style=\"background-color:yellow\">disparition</mark> des prairies <mark style=\"background-color:yellow\">nature</mark>lles, diminution des zones bocagères et utilisation de <mark style=\"background-color:pink\">pesticides</mark> et rodenticides) qui ont considérablement dégradé ses territoires de chasse. Or, elle s’avère être un auxiliaire précieux de l’agriculture. Plus de 95 % de son menu se compose de campagnols, souris, mulots et musaraignes. Plus d'infos : www.lpo.fr"
      ],
      "text/plain": [
       "<IPython.core.display.HTML object>"
      ]
     },
     "metadata": {},
     "output_type": "display_data"
    },
    {
     "data": {
      "text/html": [
       "<h2 style='text-align:center;'> Texte 413944 (24 sur 84)</h2>"
      ],
      "text/plain": [
       "<IPython.core.display.HTML object>"
      ]
     },
     "metadata": {},
     "output_type": "display_data"
    },
    {
     "data": {
      "text/html": [
       "<strong>Segment :</strong> 0"
      ],
      "text/plain": [
       "<IPython.core.display.HTML object>"
      ]
     },
     "metadata": {},
     "output_type": "display_data"
    },
    {
     "data": {
      "text/html": [
       "<strong>Date :</strong> 2011-12-15"
      ],
      "text/plain": [
       "<IPython.core.display.HTML object>"
      ]
     },
     "metadata": {},
     "output_type": "display_data"
    },
    {
     "data": {
      "text/html": [
       "<strong>Auteur :</strong> Rue89Lyon \n"
      ],
      "text/plain": [
       "<IPython.core.display.HTML object>"
      ]
     },
     "metadata": {},
     "output_type": "display_data"
    },
    {
     "name": "stdout",
     "output_type": "stream",
     "text": [
      "Termes indexés : ['pollution', 'militante', 'écolo', 'effet', 'eau', 'pesticides'] \n",
      "\n",
      "Termes spécifiques présents : ['effet', 'pesticides'] \n",
      "\n",
      "Termes spécifiques absents : {'roundup', 'monsanto', 'victimes de pesticides', 'paul françois', 'céréalier charentais', 'agriculture biologique', 'syngenta', 'autorité européenne', 'monde selon monsanto', 'jeune femme', 'lasso', 'miel', 'générations futures', 'parasite', 'céréaliers', 'résidus de pesticides', 'procès', 'victimes'} \n",
      "\n"
     ]
    },
    {
     "data": {
      "text/html": [
       "Round-up et bétonnage, responsables de la <mark style=\"background-color:yellow\">pollution</mark> de l'<mark style=\"background-color:yellow\">eau</mark> du Sud-Est | Rue89Lyon\n",
       "Le dernier rapport de l’Agence de l’<mark style=\"background-color:yellow\">eau</mark> Rhône-Méditerranée et Corse aurait pu être signé des deux mains par un militant <mark style=\"background-color:yellow\">écolo</mark>. Ce service de l’Etat pointe en <mark style=\"background-color:pink\">effet</mark>, comme cause principale de la mauvaise qualité des <mark style=\"background-color:yellow\">eau</mark>x, le pesticide Round-up et le bétonnage des rivières.\n",
       "rue89lyon.fr\n",
       "<mark style=\"background-color:yellow\">pollution</mark> de l'<mark style=\"background-color:yellow\">eau</mark> : Le coupable c'est le Round-Up et le Béton..."
      ],
      "text/plain": [
       "<IPython.core.display.HTML object>"
      ]
     },
     "metadata": {},
     "output_type": "display_data"
    },
    {
     "data": {
      "text/html": [
       "<h2 style='text-align:center;'> Texte 413943 (25 sur 84)</h2>"
      ],
      "text/plain": [
       "<IPython.core.display.HTML object>"
      ]
     },
     "metadata": {},
     "output_type": "display_data"
    },
    {
     "data": {
      "text/html": [
       "<strong>Segment :</strong> 0"
      ],
      "text/plain": [
       "<IPython.core.display.HTML object>"
      ]
     },
     "metadata": {},
     "output_type": "display_data"
    },
    {
     "data": {
      "text/html": [
       "<strong>Date :</strong> 2011-12-15"
      ],
      "text/plain": [
       "<IPython.core.display.HTML object>"
      ]
     },
     "metadata": {},
     "output_type": "display_data"
    },
    {
     "data": {
      "text/html": [
       "<strong>Auteur :</strong> Gresea \n"
      ],
      "text/plain": [
       "<IPython.core.display.HTML object>"
      ]
     },
     "metadata": {},
     "output_type": "display_data"
    },
    {
     "name": "stdout",
     "output_type": "stream",
     "text": [
      "Termes indexés : ['inde', 'victimes', 'pesticides'] \n",
      "\n",
      "Termes spécifiques présents : ['victimes', 'pesticides'] \n",
      "\n",
      "Termes spécifiques absents : {'roundup', 'monsanto', 'victimes de pesticides', 'paul françois', 'céréalier charentais', 'agriculture biologique', 'syngenta', 'autorité européenne', 'monde selon monsanto', 'jeune femme', 'lasso', 'miel', 'générations futures', 'parasite', 'céréaliers', 'résidus de pesticides', 'procès', 'effet'} \n",
      "\n"
     ]
    },
    {
     "data": {
      "text/html": [
       "\n",
       "\n",
       "\n",
       "Bhopal Blues Les survivants de la tragédie de Bhopal (<mark style=\"background-color:yellow\">inde</mark>, 1984, 15.000 <mark style=\"background-color:pink\">victimes</mark>) la jugent saumâtre. Dow Chemicals sera un des sponsors des JO à Londres l’an prochain. L’entreprise de <mark style=\"background-color:pink\">pesticides</mark> a repris Union Carbide en 2001 mais pas son \"passif\" : les sols contaminés et les <mark style=\"background-color:pink\">victimes</mark> du désastre. Story chez IPS :"
      ],
      "text/plain": [
       "<IPython.core.display.HTML object>"
      ]
     },
     "metadata": {},
     "output_type": "display_data"
    },
    {
     "data": {
      "text/html": [
       "<h2 style='text-align:center;'> Texte 413941 (26 sur 84)</h2>"
      ],
      "text/plain": [
       "<IPython.core.display.HTML object>"
      ]
     },
     "metadata": {},
     "output_type": "display_data"
    },
    {
     "data": {
      "text/html": [
       "<strong>Segment :</strong> 0"
      ],
      "text/plain": [
       "<IPython.core.display.HTML object>"
      ]
     },
     "metadata": {},
     "output_type": "display_data"
    },
    {
     "data": {
      "text/html": [
       "<strong>Date :</strong> 2011-12-15"
      ],
      "text/plain": [
       "<IPython.core.display.HTML object>"
      ]
     },
     "metadata": {},
     "output_type": "display_data"
    },
    {
     "data": {
      "text/html": [
       "<strong>Auteur :</strong> LE ROYAUME DES PEUPLES \n"
      ],
      "text/plain": [
       "<IPython.core.display.HTML object>"
      ]
     },
     "metadata": {},
     "output_type": "display_data"
    },
    {
     "name": "stdout",
     "output_type": "stream",
     "text": [
      "Termes indexés : ['fnsea', 'paysan', 'filière', 'ogm', 'brésil', 'confédération paysanne', 'militante', 'loi', 'récolte', 'monsanto', 'commission', 'commission européenne', 'lobbies', 'produits agricoles', 'pesticides', 'planète', 'transition', 'victimes'] \n",
      "\n",
      "Termes spécifiques présents : ['monsanto', 'pesticides', 'victimes'] \n",
      "\n",
      "Termes spécifiques absents : {'roundup', 'victimes de pesticides', 'paul françois', 'céréalier charentais', 'agriculture biologique', 'syngenta', 'autorité européenne', 'monde selon monsanto', 'jeune femme', 'lasso', 'miel', 'générations futures', 'parasite', 'céréaliers', 'résidus de pesticides', 'procès', 'effet'} \n",
      "\n"
     ]
    },
    {
     "data": {
      "text/html": [
       "\n",
       "\n",
       "\n",
       "Message du 14/12/11 18:42 De : \"Solilune MayA : verdier.jeanne@orange.fr Copie à : Objet : appel Salut à tous, Xavier Beulin, le président de la <mark style=\"background-color:yellow\">fnsea</mark>, sera à Labastide-Murat après-demain, le vendredi 16 décembre. En plus d'être président de la <mark style=\"background-color:yellow\">fnsea</mark>, le garenne est également Président de la FDSEA du <mark style=\"background-color:yellow\">loi</mark>ret, petit propriétaire \"<mark style=\"background-color:yellow\">paysan</mark>\" avec 500 hectares et surtout Président de Sofiprotéol, groupe agro-industriel (chiffre d'affaires 5.5 milliards d'euros en 2009) de la <mark style=\"background-color:yellow\">filière</mark> oléagineuse et protéagineuse, qui possède l'entreprise Sanders, semencier, qui importe également les fameux tourteaux de soja <mark style=\"background-color:yellow\">ogm</mark> en provenance du <mark style=\"background-color:yellow\">brésil</mark>, à destination des éleveurs français. La Confédération <mark style=\"background-color:yellow\">paysan</mark>ne, les Faucheurs volontaires et le Lot en Action appellent tous les militants du Lot (et d'ailleurs !) à faire suivre l'information suivante : L'assemblée générale de la FDSEA du Lot aura lieu ce vendredi à Labastide-Murat. Une séance publique aura lieu, à partir de 14h, avec la présence de Xavier Beulin. Au moment où le gouvernement vient de voter une <mark style=\"background-color:yellow\">loi</mark> qui empêche les <mark style=\"background-color:yellow\">paysan</mark>s de ressemer une partie de leur <mark style=\"background-color:yellow\">récolte</mark>, droit pourtant inaliénable, favorisant directement la brevetabilité du vivant, et où les semenciers ainsi que l'industrie des biotechnologies, <mark style=\"background-color:pink\">monsanto</mark> en tête, font plier la <mark style=\"background-color:yellow\">commission</mark> européenne sur les <mark style=\"background-color:yellow\">ogm</mark>, il est urgent de réagir. Venez manifester devant la mairie de Labastide-Murat, le vendredi 16 décembre à 14H. Co-voiturez et venez avec des pancartes, banderoles, dénonçant l'agriculture productivistes, la main mise du lobby de la <mark style=\"background-color:yellow\">fnsea</mark> sur le gouvernement (Comment les <mark style=\"background-color:yellow\">paysan</mark>s du Lot peuvent-ils accepter que le président du plus puissant des syndicats agricoles soit également l'un des acteurs principaux du lobby de l'industrie agro-alimentaire ?). Il faut sortir de cette logique purement libérale qui consiste à produire massivement des <mark style=\"background-color:yellow\">produits agricoles</mark> industriels (semences manipulées (mutagenèse), <mark style=\"background-color:yellow\">ogm</mark>, intrants chimiques, <mark style=\"background-color:pink\">pesticides</mark>), à leur faire faire plusieurs fois le tour de la <mark style=\"background-color:yellow\">planète</mark>, et à détruire l'agriculture respectueuses de l'environnement et de l'être humain. Faites suivre ce message au plus grand nombre. Nous n'avons que très peu de temps pour organiser cette mobilisation. Montrons leur que le Lot s'engage dans la <mark style=\"background-color:yellow\">transition</mark> et envoyons un message fort à destination de tous les <mark style=\"background-color:yellow\">paysan</mark>s productivistes du Lot : \"sortez de cette logique financière qui vous écrase, vous empoisonne, fait de vous des <mark style=\"background-color:pink\">victimes</mark> mais également des criminels\". Contacts : Christian Rossi (Confédération <mark style=\"background-color:yellow\">paysan</mark>ne) : 05 65 40 46 59 Gilbert Costes (Faucheurs volontaires) : 06 37 20 15 48 ou 05 65 27 13 26 Laurent Cougnoux (Lot en Action) : 05 65 34 47 16"
      ],
      "text/plain": [
       "<IPython.core.display.HTML object>"
      ]
     },
     "metadata": {},
     "output_type": "display_data"
    },
    {
     "data": {
      "text/html": [
       "<h2 style='text-align:center;'> Texte 413940 (27 sur 84)</h2>"
      ],
      "text/plain": [
       "<IPython.core.display.HTML object>"
      ]
     },
     "metadata": {},
     "output_type": "display_data"
    },
    {
     "data": {
      "text/html": [
       "<strong>Segment :</strong> 0"
      ],
      "text/plain": [
       "<IPython.core.display.HTML object>"
      ]
     },
     "metadata": {},
     "output_type": "display_data"
    },
    {
     "data": {
      "text/html": [
       "<strong>Date :</strong> 2011-12-15"
      ],
      "text/plain": [
       "<IPython.core.display.HTML object>"
      ]
     },
     "metadata": {},
     "output_type": "display_data"
    },
    {
     "data": {
      "text/html": [
       "<strong>Auteur :</strong> CONSOMMONS LOCAL,ARTISANAL,CONSOMMONS MIEUX \n"
      ],
      "text/plain": [
       "<IPython.core.display.HTML object>"
      ]
     },
     "metadata": {},
     "output_type": "display_data"
    },
    {
     "name": "stdout",
     "output_type": "stream",
     "text": [
      "Termes indexés : ['fnsea', 'paysan', 'filière', 'ogm', 'brésil', 'confédération paysanne', 'militante', 'loi', 'récolte', 'monsanto', 'commission', 'commission européenne', 'lobbies', 'produits agricoles', 'pesticides', 'planète', 'transition', 'victimes'] \n",
      "\n",
      "Termes spécifiques présents : ['monsanto', 'pesticides', 'victimes'] \n",
      "\n",
      "Termes spécifiques absents : {'roundup', 'victimes de pesticides', 'paul françois', 'céréalier charentais', 'agriculture biologique', 'syngenta', 'autorité européenne', 'monde selon monsanto', 'jeune femme', 'lasso', 'miel', 'générations futures', 'parasite', 'céréaliers', 'résidus de pesticides', 'procès', 'effet'} \n",
      "\n"
     ]
    },
    {
     "data": {
      "text/html": [
       "\n",
       "\n",
       "\n",
       "René Chaboy Message du 14/12/11 18:42 De : \"Solilune MayA : verdier.jeanne@orange.fr Copie à : Objet : appel Salut à tous, Xavier Beulin, le président de la <mark style=\"background-color:yellow\">fnsea</mark>, sera à Labastide-Murat après-demain, le vendredi 16 décembre. En plus d'être président de la <mark style=\"background-color:yellow\">fnsea</mark>, le garenne est également Président de la FDSEA du <mark style=\"background-color:yellow\">loi</mark>ret, petit propriétaire \"<mark style=\"background-color:yellow\">paysan</mark>\" avec 500 hectares et surtout Président de Sofiprotéol, groupe agro-industriel (chiffre d'affaires 5.5 milliards d'euros en 2009) de la <mark style=\"background-color:yellow\">filière</mark> oléagineuse et protéagineuse, qui possède l'entreprise Sanders, semencier, qui importe également les fameux tourteaux de soja <mark style=\"background-color:yellow\">ogm</mark> en provenance du <mark style=\"background-color:yellow\">brésil</mark>, à destination des éleveurs français. La Confédération <mark style=\"background-color:yellow\">paysan</mark>ne, les Faucheurs volontaires et le Lot en Action appellent tous les militants du Lot (et d'ailleurs !) à faire suivre l'information suivante : L'assemblée générale de la FDSEA du Lot aura lieu ce vendredi à Labastide-Murat. Une séance publique aura lieu, à partir de 14h, avec la présence de Xavier Beulin. Au moment où le gouvernement vient de voter une <mark style=\"background-color:yellow\">loi</mark> qui empêche les <mark style=\"background-color:yellow\">paysan</mark>s de ressemer une partie de leur <mark style=\"background-color:yellow\">récolte</mark>, droit pourtant inaliénable, favorisant directement la brevetabilité du vivant, et où les semenciers ainsi que l'industrie des biotechnologies, <mark style=\"background-color:pink\">monsanto</mark> en tête, font plier la <mark style=\"background-color:yellow\">commission</mark> européenne sur les <mark style=\"background-color:yellow\">ogm</mark>, il est urgent de réagir. Venez manifester devant la mairie de Labastide-Murat, le vendredi 16 décembre à 14H. Co-voiturez et venez avec des pancartes, banderoles, dénonçant l'agriculture productivistes, la main mise du lobby de la <mark style=\"background-color:yellow\">fnsea</mark> sur le gouvernement (Comment les <mark style=\"background-color:yellow\">paysan</mark>s du Lot peuvent-ils accepter que le président du plus puissant des syndicats agricoles soit également l'un des acteurs principaux du lobby de l'industrie agro-alimentaire ?). Il faut sortir de cette logique purement libérale qui consiste à produire massivement des <mark style=\"background-color:yellow\">produits agricoles</mark> industriels (semences manipulées (mutagenèse), <mark style=\"background-color:yellow\">ogm</mark>, intrants chimiques, <mark style=\"background-color:pink\">pesticides</mark>), à leur faire faire plusieurs fois le tour de la <mark style=\"background-color:yellow\">planète</mark>, et à détruire l'agriculture respectueuses de l'environnement et de l'être humain. Faites suivre ce message au plus grand nombre. Nous n'avons que très peu de temps pour organiser cette mobilisation. Montrons leur que le Lot s'engage dans la <mark style=\"background-color:yellow\">transition</mark> et envoyons un message fort à destination de tous les <mark style=\"background-color:yellow\">paysan</mark>s productivistes du Lot : \"sortez de cette logique financière qui vous écrase, vous empoisonne, fait de vous des <mark style=\"background-color:pink\">victimes</mark> mais également des criminels\". Contacts : Christian Rossi (Confédération <mark style=\"background-color:yellow\">paysan</mark>ne) : 05 65 40 46 59 Gilbert Costes (Faucheurs volontaires) : 06 37 20 15 48 ou 05 65 27 13 26 Laurent Cougnoux (Lot en Action) : 05 65 34 47 16"
      ],
      "text/plain": [
       "<IPython.core.display.HTML object>"
      ]
     },
     "metadata": {},
     "output_type": "display_data"
    },
    {
     "data": {
      "text/html": [
       "<h2 style='text-align:center;'> Texte 413934 (28 sur 84)</h2>"
      ],
      "text/plain": [
       "<IPython.core.display.HTML object>"
      ]
     },
     "metadata": {},
     "output_type": "display_data"
    },
    {
     "data": {
      "text/html": [
       "<strong>Segment :</strong> 0"
      ],
      "text/plain": [
       "<IPython.core.display.HTML object>"
      ]
     },
     "metadata": {},
     "output_type": "display_data"
    },
    {
     "data": {
      "text/html": [
       "<strong>Date :</strong> 2011-12-16"
      ],
      "text/plain": [
       "<IPython.core.display.HTML object>"
      ]
     },
     "metadata": {},
     "output_type": "display_data"
    },
    {
     "data": {
      "text/html": [
       "<strong>Auteur :</strong> Printemps Sans Pesticides \n"
      ],
      "text/plain": [
       "<IPython.core.display.HTML object>"
      ]
     },
     "metadata": {},
     "output_type": "display_data"
    },
    {
     "name": "stdout",
     "output_type": "stream",
     "text": [
      "Termes indexés : ['paysan', 'traitements', 'maïs', 'paul françois', 'agriculteur', 'troubles', 'victimes', 'victimes de pesticides', 'pesticides', 'justice'] \n",
      "\n",
      "Termes spécifiques présents : ['paul françois', 'victimes', 'victimes de pesticides', 'pesticides'] \n",
      "\n",
      "Termes spécifiques absents : {'roundup', 'monsanto', 'céréalier charentais', 'agriculture biologique', 'syngenta', 'autorité européenne', 'monde selon monsanto', 'jeune femme', 'lasso', 'miel', 'générations futures', 'parasite', 'céréaliers', 'résidus de pesticides', 'procès', 'effet'} \n",
      "\n"
     ]
    },
    {
     "data": {
      "text/html": [
       "Inter-Environnement Wallonie | Le <mark style=\"background-color:yellow\">paysan</mark> Paul s’attaque au Seigneur des poisons\n",
       "Le 27 avril 2004, après le traitement de son champ de <mark style=\"background-color:yellow\">maïs</mark>, <mark style=\"background-color:pink\">paul françois</mark>, <mark style=\"background-color:yellow\">agriculteur</mark> charentais a nettoyé une cuve, dont se sont échappées des vapeurs gazeuses. Il est tombé dans le coma et a été frappé d’amnésie. De nombreux <mark style=\"background-color:yellow\">troubles</mark>, notamment neurologique [1], ont persisté et il est aujourd’hui...\n",
       "iewonline.be\n",
       "Les <mark style=\"background-color:yellow\">agriculteur</mark>s <mark style=\"background-color:pink\">victimes</mark> des <mark style=\"background-color:pink\">pesticides</mark> sortent de l'ombre et osent aller en <mark style=\"background-color:yellow\">justice</mark>. Encourageons-les!"
      ],
      "text/plain": [
       "<IPython.core.display.HTML object>"
      ]
     },
     "metadata": {},
     "output_type": "display_data"
    },
    {
     "data": {
      "text/html": [
       "<h2 style='text-align:center;'> Texte 413928 (29 sur 84)</h2>"
      ],
      "text/plain": [
       "<IPython.core.display.HTML object>"
      ]
     },
     "metadata": {},
     "output_type": "display_data"
    },
    {
     "data": {
      "text/html": [
       "<strong>Segment :</strong> 0"
      ],
      "text/plain": [
       "<IPython.core.display.HTML object>"
      ]
     },
     "metadata": {},
     "output_type": "display_data"
    },
    {
     "data": {
      "text/html": [
       "<strong>Date :</strong> 2011-12-17"
      ],
      "text/plain": [
       "<IPython.core.display.HTML object>"
      ]
     },
     "metadata": {},
     "output_type": "display_data"
    },
    {
     "data": {
      "text/html": [
       "<strong>Auteur :</strong> Ce que vous ne voulez pas savoir \n"
      ],
      "text/plain": [
       "<IPython.core.display.HTML object>"
      ]
     },
     "metadata": {},
     "output_type": "display_data"
    },
    {
     "name": "stdout",
     "output_type": "stream",
     "text": [
      "Termes indexés : ['pesticides', 'monsanto', 'syngenta', 'autorité', 'autorité européenne', 'sécurité des aliments', 'aliments', 'efsa', 'recherche'] \n",
      "\n",
      "Termes spécifiques présents : ['pesticides', 'monsanto', 'syngenta', 'autorité européenne'] \n",
      "\n",
      "Termes spécifiques absents : {'roundup', 'victimes de pesticides', 'paul françois', 'céréalier charentais', 'agriculture biologique', 'monde selon monsanto', 'jeune femme', 'lasso', 'miel', 'générations futures', 'parasite', 'céréaliers', 'résidus de pesticides', 'procès', 'victimes', 'effet'} \n",
      "\n"
     ]
    },
    {
     "data": {
      "text/html": [
       "\n",
       "Ce film d’animation de trois minutes vous permet d’en apprendre davantage sur le fonctionnement de l’<mark style=\"background-color:yellow\">efsa</mark> et dans quelle mesure celui-ci bénéficie à l’industrie agro-alimentaire et à des multinationales des <mark style=\"background-color:pink\">pesticides</mark> et des biotech telles que <mark style=\"background-color:pink\">monsanto</mark>, <mark style=\"background-color:pink\">syngenta</mark>, Unilever, Nestlé...\n",
       "vimeo.com\n",
       "-------------------------------<mark style=\"background-color:pink\">monsanto</mark>------------------------------ <mark style=\"background-color:yellow\">autorité</mark> européenne de <mark style=\"background-color:yellow\">sécurité des <mark style=\"background-color:yellow\">aliments</mark></mark> (<mark style=\"background-color:yellow\">efsa</mark>) Ce que vous devez savoir sur l'<mark style=\"background-color:yellow\">efsa</mark> - en 3 minutes. Ce film d'animation de trois minutes vous permet d'en apprendre davantage sur le fonctionnement de l'<mark style=\"background-color:yellow\">efsa</mark> et dans quelle mesure celui-ci bénéficie à l'industrie agro-alimentaire et à des multinationales des <mark style=\"background-color:pink\">pesticides</mark> et des biotech telles que <mark style=\"background-color:pink\">monsanto</mark>, <mark style=\"background-color:pink\">syngenta</mark>, Unilever, Nestlé... Les experts et les responsables de l'<mark style=\"background-color:yellow\">efsa</mark> sont-ils indépendants de l'industrie? Quel rôle l'industrie joue-t-elle dans les tests sanitaires effectués par l'<mark style=\"background-color:yellow\">efsa</mark>? L'<mark style=\"background-color:yellow\">efsa</mark> n'utilise-t-elle pas d'autres <mark style=\"background-color:yellow\">recherche</mark>s indépendantes sur ces produits? Le film est publié en anglais et en français. N'hésitez pas à le faire circuler et à l'utiliser dans vos réseaux! http://vimeo.com/33337250"
      ],
      "text/plain": [
       "<IPython.core.display.HTML object>"
      ]
     },
     "metadata": {},
     "output_type": "display_data"
    },
    {
     "data": {
      "text/html": [
       "<h2 style='text-align:center;'> Texte 413912 (30 sur 84)</h2>"
      ],
      "text/plain": [
       "<IPython.core.display.HTML object>"
      ]
     },
     "metadata": {},
     "output_type": "display_data"
    },
    {
     "data": {
      "text/html": [
       "<strong>Segment :</strong> 0"
      ],
      "text/plain": [
       "<IPython.core.display.HTML object>"
      ]
     },
     "metadata": {},
     "output_type": "display_data"
    },
    {
     "data": {
      "text/html": [
       "<strong>Date :</strong> 2011-12-20"
      ],
      "text/plain": [
       "<IPython.core.display.HTML object>"
      ]
     },
     "metadata": {},
     "output_type": "display_data"
    },
    {
     "data": {
      "text/html": [
       "<strong>Auteur :</strong> Le Parti des oiseaux, des baleines, des enfants de la terre et de l'eau. \n"
      ],
      "text/plain": [
       "<IPython.core.display.HTML object>"
      ]
     },
     "metadata": {},
     "output_type": "display_data"
    },
    {
     "name": "stdout",
     "output_type": "stream",
     "text": [
      "Termes indexés : ['pesticides', 'génération', 'générations futures', 'futures', 'études'] \n",
      "\n",
      "Termes spécifiques présents : ['pesticides', 'générations futures'] \n",
      "\n",
      "Termes spécifiques absents : {'roundup', 'monsanto', 'victimes de pesticides', 'paul françois', 'céréalier charentais', 'agriculture biologique', 'syngenta', 'autorité européenne', 'monde selon monsanto', 'jeune femme', 'lasso', 'miel', 'parasite', 'céréaliers', 'résidus de pesticides', 'procès', 'victimes', 'effet'} \n",
      "\n"
     ]
    },
    {
     "data": {
      "text/html": [
       "Le bio permet bien d'éviter les <mark style=\"background-color:pink\">pesticides</mark> – Metro\n",
       "☮ Informez-vous : \n",
       "http://www.facebook.com/PODBETE\n",
       "metrofrance.com\n",
       " L'association <mark style=\"background-color:yellow\">génération</mark>s <mark style=\"background-color:yellow\">futures</mark> publie ce mardi une étude visant à comparer les teneurs en <mark style=\"background-color:pink\">pesticides</mark> entre quatre repas types (petit-déjeuner, déjeuner, goûter et dîner) \"bio\" et \"non bio\". Le verdit est sans appel...."
      ],
      "text/plain": [
       "<IPython.core.display.HTML object>"
      ]
     },
     "metadata": {},
     "output_type": "display_data"
    },
    {
     "data": {
      "text/html": [
       "<h2 style='text-align:center;'> Texte 413913 (31 sur 84)</h2>"
      ],
      "text/plain": [
       "<IPython.core.display.HTML object>"
      ]
     },
     "metadata": {},
     "output_type": "display_data"
    },
    {
     "data": {
      "text/html": [
       "<strong>Segment :</strong> 0"
      ],
      "text/plain": [
       "<IPython.core.display.HTML object>"
      ]
     },
     "metadata": {},
     "output_type": "display_data"
    },
    {
     "data": {
      "text/html": [
       "<strong>Date :</strong> 2011-12-20"
      ],
      "text/plain": [
       "<IPython.core.display.HTML object>"
      ]
     },
     "metadata": {},
     "output_type": "display_data"
    },
    {
     "data": {
      "text/html": [
       "<strong>Auteur :</strong> Naturalia \n"
      ],
      "text/plain": [
       "<IPython.core.display.HTML object>"
      ]
     },
     "metadata": {},
     "output_type": "display_data"
    },
    {
     "name": "stdout",
     "output_type": "stream",
     "text": [
      "Termes indexés : ['pesticides', 'paris', 'résidus', 'résidus de pesticides', 'aliments', 'molécules', 'perturbateurs', 'perturbateurs endocriniens', 'riz'] \n",
      "\n",
      "Termes spécifiques présents : ['pesticides', 'résidus de pesticides'] \n",
      "\n",
      "Termes spécifiques absents : {'roundup', 'monsanto', 'victimes de pesticides', 'paul françois', 'céréalier charentais', 'agriculture biologique', 'syngenta', 'autorité européenne', 'monde selon monsanto', 'jeune femme', 'lasso', 'miel', 'générations futures', 'parasite', 'céréaliers', 'procès', 'victimes', 'effet'} \n",
      "\n"
     ]
    },
    {
     "data": {
      "text/html": [
       "Le \"bio\" permet bien d'éviter les <mark style=\"background-color:pink\">pesticides</mark> dans son assiette\n",
       "<mark style=\"background-color:yellow\">paris</mark> (AFP) - Les fruits et légumes issus de l'agriculture biologique sont bien exempts de <mark style=\"background-color:yellow\">résidus</mark> de <mark style=\"background-color:pink\">pesticides</mark> alors qu'aucun de ceux produits de façon...\n",
       "liberation.fr\n",
       "Un extrait de l'article: \"Il ressort de la comparaison qu'aucun des 14 <mark style=\"background-color:yellow\">aliments</mark> conventionnels étudiés n'est exempt de <mark style=\"background-color:pink\">pesticides</mark>. Ils comptent au total 37 <mark style=\"background-color:yellow\">résidus</mark> représentant 27 <mark style=\"background-color:yellow\">molécules</mark> différentes, dont 17 sont suspectées d'être cancérigènes ou <mark style=\"background-color:yellow\">perturbateurs</mark> endocriniens. En revanche, les 12 fruits, légumes ou <mark style=\"background-color:yellow\">riz</mark> \"bio\" analysés ne présentent aucun résidu de <mark style=\"background-color:pink\">pesticides</mark>. \" "
      ],
      "text/plain": [
       "<IPython.core.display.HTML object>"
      ]
     },
     "metadata": {},
     "output_type": "display_data"
    },
    {
     "data": {
      "text/html": [
       "<h2 style='text-align:center;'> Texte 413916 (32 sur 84)</h2>"
      ],
      "text/plain": [
       "<IPython.core.display.HTML object>"
      ]
     },
     "metadata": {},
     "output_type": "display_data"
    },
    {
     "data": {
      "text/html": [
       "<strong>Segment :</strong> 0"
      ],
      "text/plain": [
       "<IPython.core.display.HTML object>"
      ]
     },
     "metadata": {},
     "output_type": "display_data"
    },
    {
     "data": {
      "text/html": [
       "<strong>Date :</strong> 2011-12-20"
      ],
      "text/plain": [
       "<IPython.core.display.HTML object>"
      ]
     },
     "metadata": {},
     "output_type": "display_data"
    },
    {
     "data": {
      "text/html": [
       "<strong>Auteur :</strong> Semaine pour les alternatives aux pesticides \n"
      ],
      "text/plain": [
       "<IPython.core.display.HTML object>"
      ]
     },
     "metadata": {},
     "output_type": "display_data"
    },
    {
     "name": "stdout",
     "output_type": "stream",
     "text": [
      "Termes indexés : ['études', 'génération', 'générations futures', 'futures', 'pesticides', 'aliments'] \n",
      "\n",
      "Termes spécifiques présents : ['générations futures', 'pesticides'] \n",
      "\n",
      "Termes spécifiques absents : {'roundup', 'monsanto', 'victimes de pesticides', 'paul françois', 'céréalier charentais', 'agriculture biologique', 'syngenta', 'autorité européenne', 'monde selon monsanto', 'jeune femme', 'lasso', 'miel', 'parasite', 'céréaliers', 'résidus de pesticides', 'procès', 'victimes', 'effet'} \n",
      "\n",
      "http://www.menustoxiques.fr/pdf/doc_menubio_151211.pdf\n",
      "\n",
      "menustoxiques.fr\n",
      "Nouvelle étude comparative de <mark style=\"background-color:yellow\">génération</mark>s <mark style=\"background-color:yellow\">futures</mark> sur les <mark style=\"background-color:pink\">pesticides</mark> dans les <mark style=\"background-color:yellow\">aliments</mark> conventionnels comparés aux mêmes <mark style=\"background-color:yellow\">aliments</mark> Bio ! http://www.menustoxiques.fr/pdf/doc_menubio_151211.pdf \n",
      "\n"
     ]
    },
    {
     "data": {
      "text/html": [
       "<h2 style='text-align:center;'> Texte 413919 (33 sur 84)</h2>"
      ],
      "text/plain": [
       "<IPython.core.display.HTML object>"
      ]
     },
     "metadata": {},
     "output_type": "display_data"
    },
    {
     "data": {
      "text/html": [
       "<strong>Segment :</strong> 0"
      ],
      "text/plain": [
       "<IPython.core.display.HTML object>"
      ]
     },
     "metadata": {},
     "output_type": "display_data"
    },
    {
     "data": {
      "text/html": [
       "<strong>Date :</strong> 2011-12-20"
      ],
      "text/plain": [
       "<IPython.core.display.HTML object>"
      ]
     },
     "metadata": {},
     "output_type": "display_data"
    },
    {
     "data": {
      "text/html": [
       "<strong>Auteur :</strong> AMAP \n"
      ],
      "text/plain": [
       "<IPython.core.display.HTML object>"
      ]
     },
     "metadata": {},
     "output_type": "display_data"
    },
    {
     "name": "stdout",
     "output_type": "stream",
     "text": [
      "Termes indexés : ['cancers', 'traitements', 'combat', 'paul françois', 'agriculteur', 'procès', 'tribunal', 'firme', 'monsanto', 'herbicide'] \n",
      "\n",
      "Termes spécifiques présents : ['paul françois', 'procès', 'monsanto'] \n",
      "\n",
      "Termes spécifiques absents : {'roundup', 'pesticides', 'victimes de pesticides', 'céréalier charentais', 'agriculture biologique', 'syngenta', 'autorité européenne', 'monde selon monsanto', 'jeune femme', 'lasso', 'miel', 'générations futures', 'parasite', 'céréaliers', 'résidus de pesticides', 'victimes', 'effet'} \n",
      "\n"
     ]
    },
    {
     "data": {
      "text/html": [
       "Gondeville (16): un viticulteur décède d'un cancer suspecté d'être lié à des produits de traitement\n",
       "Frédéric Ferrand est décédé ce dimanche matin à l'âge de 41 ans. Il avait rejoint le <mark style=\"background-color:yellow\">combat</mark> de <mark style=\"background-color:pink\">paul françois</mark>, un <mark style=\"background-color:yellow\">agriculteur</mark> de Ruffec, contre la nocivité de certains produits. L'ombre de...\n",
       "sudouest.fr\n",
       "En Charente, un viticulteur est décédé d'un cancer suspecté d'être lié à des produits de traitement. Cet évènement intervient alors que s'est ouvert le <mark style=\"background-color:pink\">procès</mark> opposant, au <mark style=\"background-color:yellow\">tribunal</mark> de Grande Instance de Lyon, d'un côté, <mark style=\"background-color:pink\">paul françois</mark>, un <mark style=\"background-color:yellow\">agriculteur</mark> charentais, et de l'autre la <mark style=\"background-color:yellow\">firme</mark> américaine <mark style=\"background-color:pink\">monsanto</mark>. http://www.sudouest.fr/2011/12/10/justice-un-<mark style=\"background-color:yellow\">agriculteur</mark>-charentais-contre-le-geant-de-la-chimie-577591-835.php Le premier, président de l'association Phyto-victimes http://www.phyto-victimes.fr/, accuse le second d'être responsable de son intoxication en 2004 par un puissant <mark style=\"background-color:yellow\">herbicide</mark>, interdit en France depuis 2007. Le <mark style=\"background-color:yellow\">tribunal</mark> a mis cette dernière affaire en délibéré au 13 février 2012."
      ],
      "text/plain": [
       "<IPython.core.display.HTML object>"
      ]
     },
     "metadata": {},
     "output_type": "display_data"
    },
    {
     "data": {
      "text/html": [
       "<h2 style='text-align:center;'> Texte 413918 (34 sur 84)</h2>"
      ],
      "text/plain": [
       "<IPython.core.display.HTML object>"
      ]
     },
     "metadata": {},
     "output_type": "display_data"
    },
    {
     "data": {
      "text/html": [
       "<strong>Segment :</strong> 0"
      ],
      "text/plain": [
       "<IPython.core.display.HTML object>"
      ]
     },
     "metadata": {},
     "output_type": "display_data"
    },
    {
     "data": {
      "text/html": [
       "<strong>Date :</strong> 2011-12-20"
      ],
      "text/plain": [
       "<IPython.core.display.HTML object>"
      ]
     },
     "metadata": {},
     "output_type": "display_data"
    },
    {
     "data": {
      "text/html": [
       "<strong>Auteur :</strong> Mouvement InterRégional des AMAP - MIRAMAP \n"
      ],
      "text/plain": [
       "<IPython.core.display.HTML object>"
      ]
     },
     "metadata": {},
     "output_type": "display_data"
    },
    {
     "name": "stdout",
     "output_type": "stream",
     "text": [
      "Termes indexés : ['cancers', 'traitements', 'combat', 'paul françois', 'agriculteur', 'procès', 'tribunal', 'firme', 'monsanto', 'herbicide'] \n",
      "\n",
      "Termes spécifiques présents : ['paul françois', 'procès', 'monsanto'] \n",
      "\n",
      "Termes spécifiques absents : {'roundup', 'pesticides', 'victimes de pesticides', 'céréalier charentais', 'agriculture biologique', 'syngenta', 'autorité européenne', 'monde selon monsanto', 'jeune femme', 'lasso', 'miel', 'générations futures', 'parasite', 'céréaliers', 'résidus de pesticides', 'victimes', 'effet'} \n",
      "\n"
     ]
    },
    {
     "data": {
      "text/html": [
       "Gondeville (16): un viticulteur décède d'un cancer suspecté d'être lié à des produits de traitement\n",
       "Frédéric Ferrand est décédé ce dimanche matin à l'âge de 41 ans. Il avait rejoint le <mark style=\"background-color:yellow\">combat</mark> de <mark style=\"background-color:pink\">paul françois</mark>, un <mark style=\"background-color:yellow\">agriculteur</mark> de Ruffec, contre la nocivité de certains produits. L'ombre de...\n",
       "sudouest.fr\n",
       "En Charente, un viticulteur est décédé d'un cancer suspecté d'être lié à des produits de traitement. Cet évènement intervient alors que s'est ouvert le <mark style=\"background-color:pink\">procès</mark> opposant, au <mark style=\"background-color:yellow\">tribunal</mark> de Grande Instance de Lyon, d'un côté, <mark style=\"background-color:pink\">paul françois</mark>, un <mark style=\"background-color:yellow\">agriculteur</mark> charentais, et de l'autre la <mark style=\"background-color:yellow\">firme</mark> américaine <mark style=\"background-color:pink\">monsanto</mark>. http://www.sudouest.fr/2011/12/10/justice-un-<mark style=\"background-color:yellow\">agriculteur</mark>-charentais-contre-le-geant-de-la-chimie-577591-835.php Le premier, président de l'association Phyto-victimes http://www.phyto-victimes.fr/, accuse le second d'être responsable de son intoxication en 2004 par un puissant <mark style=\"background-color:yellow\">herbicide</mark>, interdit en France depuis 2007. Le <mark style=\"background-color:yellow\">tribunal</mark> a mis cette dernière affaire en délibéré au 13 février 2012."
      ],
      "text/plain": [
       "<IPython.core.display.HTML object>"
      ]
     },
     "metadata": {},
     "output_type": "display_data"
    },
    {
     "data": {
      "text/html": [
       "<h2 style='text-align:center;'> Texte 413911 (35 sur 84)</h2>"
      ],
      "text/plain": [
       "<IPython.core.display.HTML object>"
      ]
     },
     "metadata": {},
     "output_type": "display_data"
    },
    {
     "data": {
      "text/html": [
       "<strong>Segment :</strong> 0"
      ],
      "text/plain": [
       "<IPython.core.display.HTML object>"
      ]
     },
     "metadata": {},
     "output_type": "display_data"
    },
    {
     "data": {
      "text/html": [
       "<strong>Date :</strong> 2011-12-21"
      ],
      "text/plain": [
       "<IPython.core.display.HTML object>"
      ]
     },
     "metadata": {},
     "output_type": "display_data"
    },
    {
     "data": {
      "text/html": [
       "<strong>Auteur :</strong> Seine-et-Marne infos et actualites du 77 \n"
      ],
      "text/plain": [
       "<IPython.core.display.HTML object>"
      ]
     },
     "metadata": {},
     "output_type": "display_data"
    },
    {
     "name": "stdout",
     "output_type": "stream",
     "text": [
      "Termes indexés : ['cancers', 'traitements', 'combat', 'paul françois', 'agriculteur', 'monsanto', 'procès', 'tribunal', 'firme', 'herbicide'] \n",
      "\n",
      "Termes spécifiques présents : ['paul françois', 'monsanto', 'procès'] \n",
      "\n",
      "Termes spécifiques absents : {'roundup', 'pesticides', 'victimes de pesticides', 'céréalier charentais', 'agriculture biologique', 'syngenta', 'autorité européenne', 'monde selon monsanto', 'jeune femme', 'lasso', 'miel', 'générations futures', 'parasite', 'céréaliers', 'résidus de pesticides', 'victimes', 'effet'} \n",
      "\n"
     ]
    },
    {
     "data": {
      "text/html": [
       "Gondeville (16): un viticulteur décède d'un cancer suspecté d'être lié à des produits de traitement\n",
       "Frédéric Ferrand est décédé ce dimanche matin à l'âge de 41 ans. Il avait rejoint le <mark style=\"background-color:yellow\">combat</mark> de <mark style=\"background-color:pink\">paul françois</mark>, un <mark style=\"background-color:yellow\">agriculteur</mark> de Ruffec, contre la nocivité de certains produits. L'ombre de...\n",
       "sudouest.fr\n",
       "Agriculture Viticulture - <mark style=\"background-color:pink\">monsanto</mark> : En Charente, un viticulteur est décédé d'un cancer suspecté d'être lié à des produits de traitement. Cet évènement intervient alors que s'est ouvert le <mark style=\"background-color:pink\">procès</mark> opposant, au <mark style=\"background-color:yellow\">tribunal</mark> de Grande Instance de Lyon, d'un côté, <mark style=\"background-color:pink\">paul françois</mark>, un <mark style=\"background-color:yellow\">agriculteur</mark> charentais, et de l'autre la <mark style=\"background-color:yellow\">firme</mark> américaine <mark style=\"background-color:pink\">monsanto</mark>. http://www.sudouest.fr/2011/12/10/justice-un-<mark style=\"background-color:yellow\">agriculteur</mark>-charentais-contre-le-geant-de-la-chimie-577591-835.php Le premier, président de l'association Phyto-victimes http://www.phyto-victimes.fr/, accuse le second d'être responsable de son intoxication en 2004 par un puissant <mark style=\"background-color:yellow\">herbicide</mark>, interdit en France depuis 2007. Le <mark style=\"background-color:yellow\">tribunal</mark> a mis cette dernière affaire en délibéré au 13 février 2012. Affaire à suivre."
      ],
      "text/plain": [
       "<IPython.core.display.HTML object>"
      ]
     },
     "metadata": {},
     "output_type": "display_data"
    },
    {
     "data": {
      "text/html": [
       "<h2 style='text-align:center;'> Texte 413910 (36 sur 84)</h2>"
      ],
      "text/plain": [
       "<IPython.core.display.HTML object>"
      ]
     },
     "metadata": {},
     "output_type": "display_data"
    },
    {
     "data": {
      "text/html": [
       "<strong>Segment :</strong> 0"
      ],
      "text/plain": [
       "<IPython.core.display.HTML object>"
      ]
     },
     "metadata": {},
     "output_type": "display_data"
    },
    {
     "data": {
      "text/html": [
       "<strong>Date :</strong> 2011-12-21"
      ],
      "text/plain": [
       "<IPython.core.display.HTML object>"
      ]
     },
     "metadata": {},
     "output_type": "display_data"
    },
    {
     "data": {
      "text/html": [
       "<strong>Auteur :</strong> M361 \n"
      ],
      "text/plain": [
       "<IPython.core.display.HTML object>"
      ]
     },
     "metadata": {},
     "output_type": "display_data"
    },
    {
     "name": "stdout",
     "output_type": "stream",
     "text": [
      "Termes indexés : ['pesticides', 'aliments', 'article', 'génération', 'générations futures', 'futures'] \n",
      "\n",
      "Termes spécifiques présents : ['pesticides', 'générations futures'] \n",
      "\n",
      "Termes spécifiques absents : {'roundup', 'monsanto', 'victimes de pesticides', 'paul françois', 'céréalier charentais', 'agriculture biologique', 'syngenta', 'autorité européenne', 'monde selon monsanto', 'jeune femme', 'lasso', 'miel', 'parasite', 'céréaliers', 'résidus de pesticides', 'procès', 'victimes', 'effet'} \n",
      "\n"
     ]
    },
    {
     "data": {
      "text/html": [
       "223 fois moins de <mark style=\"background-color:pink\">pesticides</mark> dans les <mark style=\"background-color:yellow\">aliments</mark> bio\n",
       "Trois repas et un en-cas entièrement constitués de produits  alimentaires  bio contiennent 223 fois moins de <mark style=\"background-color:pink\">pesticides</mark> que s'ils  avaient intégrés  des <mark style=\"background-color:yellow\">article</mark>s...\n",
       "cyberpresse.ca\n",
       "Vous pouvez télécharger l'enquête de <mark style=\"background-color:yellow\">génération</mark>s <mark style=\"background-color:yellow\">futures</mark> à cette adresse http://www.mdrgf.org/news/news201211_menus_bio.html"
      ],
      "text/plain": [
       "<IPython.core.display.HTML object>"
      ]
     },
     "metadata": {},
     "output_type": "display_data"
    },
    {
     "data": {
      "text/html": [
       "<h2 style='text-align:center;'> Texte 413908 (37 sur 84)</h2>"
      ],
      "text/plain": [
       "<IPython.core.display.HTML object>"
      ]
     },
     "metadata": {},
     "output_type": "display_data"
    },
    {
     "data": {
      "text/html": [
       "<strong>Segment :</strong> 0"
      ],
      "text/plain": [
       "<IPython.core.display.HTML object>"
      ]
     },
     "metadata": {},
     "output_type": "display_data"
    },
    {
     "data": {
      "text/html": [
       "<strong>Date :</strong> 2011-12-21"
      ],
      "text/plain": [
       "<IPython.core.display.HTML object>"
      ]
     },
     "metadata": {},
     "output_type": "display_data"
    },
    {
     "data": {
      "text/html": [
       "<strong>Auteur :</strong> Ma Planète Mieux \n"
      ],
      "text/plain": [
       "<IPython.core.display.HTML object>"
      ]
     },
     "metadata": {},
     "output_type": "display_data"
    },
    {
     "name": "stdout",
     "output_type": "stream",
     "text": [
      "Termes indexés : ['pesticides', 'aliments', 'génération', 'générations futures', 'futures', 'résidus', 'résidus de pesticides'] \n",
      "\n",
      "Termes spécifiques présents : ['pesticides', 'générations futures', 'résidus de pesticides'] \n",
      "\n",
      "Termes spécifiques absents : {'roundup', 'monsanto', 'victimes de pesticides', 'paul françois', 'céréalier charentais', 'agriculture biologique', 'syngenta', 'autorité européenne', 'monde selon monsanto', 'jeune femme', 'lasso', 'miel', 'parasite', 'céréaliers', 'procès', 'victimes', 'effet'} \n",
      "\n"
     ]
    },
    {
     "data": {
      "text/html": [
       "<mark style=\"background-color:pink\">pesticides</mark> : une différence bien réelle entre les <mark style=\"background-color:yellow\">aliments</mark> bio et non bio\n",
       "<mark style=\"background-color:yellow\">génération</mark>s <mark style=\"background-color:yellow\">futures</mark> a comparé les teneurs en <mark style=\"background-color:yellow\">résidus</mark> de <mark style=\"background-color:pink\">pesticides</mark> des fruits, légumes et céréales provenant de l'alimentation conventionnelle avec ceux issus de l'agriculture biologique. Résultat : 223 fois moins de <mark style=\"background-color:pink\">pesticides</mark> dans le bio !\n",
       "actu-environnement.com\n",
       "N'hésitez plus, arrêtez les fruits et légumes ! ou bien consommez bio !!! "
      ],
      "text/plain": [
       "<IPython.core.display.HTML object>"
      ]
     },
     "metadata": {},
     "output_type": "display_data"
    },
    {
     "data": {
      "text/html": [
       "<h2 style='text-align:center;'> Texte 413906 (38 sur 84)</h2>"
      ],
      "text/plain": [
       "<IPython.core.display.HTML object>"
      ]
     },
     "metadata": {},
     "output_type": "display_data"
    },
    {
     "data": {
      "text/html": [
       "<strong>Segment :</strong> 0"
      ],
      "text/plain": [
       "<IPython.core.display.HTML object>"
      ]
     },
     "metadata": {},
     "output_type": "display_data"
    },
    {
     "data": {
      "text/html": [
       "<strong>Date :</strong> 2011-12-21"
      ],
      "text/plain": [
       "<IPython.core.display.HTML object>"
      ]
     },
     "metadata": {},
     "output_type": "display_data"
    },
    {
     "data": {
      "text/html": [
       "<strong>Auteur :</strong> Quintesens \n"
      ],
      "text/plain": [
       "<IPython.core.display.HTML object>"
      ]
     },
     "metadata": {},
     "output_type": "display_data"
    },
    {
     "name": "stdout",
     "output_type": "stream",
     "text": [
      "Termes indexés : ['pesticides', 'paris', 'résidus', 'résidus de pesticides', 'nature'] \n",
      "\n",
      "Termes spécifiques présents : ['pesticides', 'résidus de pesticides'] \n",
      "\n",
      "Termes spécifiques absents : {'roundup', 'monsanto', 'victimes de pesticides', 'paul françois', 'céréalier charentais', 'agriculture biologique', 'syngenta', 'autorité européenne', 'monde selon monsanto', 'jeune femme', 'lasso', 'miel', 'générations futures', 'parasite', 'céréaliers', 'procès', 'victimes', 'effet'} \n",
      "\n"
     ]
    },
    {
     "data": {
      "text/html": [
       "Le \"bio\" permet bien d'éviter les <mark style=\"background-color:pink\">pesticides</mark> dans son assiette\n",
       "<mark style=\"background-color:yellow\">paris</mark> (AFP) - Les fruits et légumes issus de l'agriculture biologique sont bien exempts de <mark style=\"background-color:yellow\">résidus</mark> de <mark style=\"background-color:pink\">pesticides</mark> alors qu'aucun de ceux produits de façon...\n",
       "liberation.fr\n",
       "Une petite enquête supplémentaire pour aider chacun à faire le choix qui lui semble le plus juste... et au delà de l'assiette, pensons aussi à Dame <mark style=\"background-color:yellow\">nature</mark>... :-)"
      ],
      "text/plain": [
       "<IPython.core.display.HTML object>"
      ]
     },
     "metadata": {},
     "output_type": "display_data"
    },
    {
     "data": {
      "text/html": [
       "<h2 style='text-align:center;'> Texte 413905 (39 sur 84)</h2>"
      ],
      "text/plain": [
       "<IPython.core.display.HTML object>"
      ]
     },
     "metadata": {},
     "output_type": "display_data"
    },
    {
     "data": {
      "text/html": [
       "<strong>Segment :</strong> 0"
      ],
      "text/plain": [
       "<IPython.core.display.HTML object>"
      ]
     },
     "metadata": {},
     "output_type": "display_data"
    },
    {
     "data": {
      "text/html": [
       "<strong>Date :</strong> 2011-12-21"
      ],
      "text/plain": [
       "<IPython.core.display.HTML object>"
      ]
     },
     "metadata": {},
     "output_type": "display_data"
    },
    {
     "data": {
      "text/html": [
       "<strong>Auteur :</strong> Libres de pensées. Contre la banalisation de la misère humaine et animale. \n"
      ],
      "text/plain": [
       "<IPython.core.display.HTML object>"
      ]
     },
     "metadata": {},
     "output_type": "display_data"
    },
    {
     "name": "stdout",
     "output_type": "stream",
     "text": [
      "Termes indexés : ['pesticides', 'monsanto', 'syngenta'] \n",
      "\n",
      "Termes spécifiques présents : ['pesticides', 'monsanto', 'syngenta'] \n",
      "\n",
      "Termes spécifiques absents : {'roundup', 'victimes de pesticides', 'paul françois', 'céréalier charentais', 'agriculture biologique', 'autorité européenne', 'monde selon monsanto', 'jeune femme', 'lasso', 'miel', 'générations futures', 'parasite', 'céréaliers', 'résidus de pesticides', 'procès', 'victimes', 'effet'} \n",
      "\n"
     ]
    },
    {
     "data": {
      "text/html": [
       "\n",
       "Vimeo is a respectful community of creative people who are passionate about sharing the videos they make. Use Vimeo if you want the best tools and highest quality video in the universe.\n",
       "vimeo.com\n",
       "Ce film d’animation de trois minutes vous permet d’en apprendre davantage sur le fonctionnement de l’EFSA et dans quelle mesure celui-ci bénéficie à l’industrie agro-alimentaire et à des multinationales des <mark style=\"background-color:pink\">pesticides</mark> et des biotech telles que <mark style=\"background-color:pink\">monsanto</mark>, <mark style=\"background-color:pink\">syngenta</mark>, Unilever, Nestlé..."
      ],
      "text/plain": [
       "<IPython.core.display.HTML object>"
      ]
     },
     "metadata": {},
     "output_type": "display_data"
    },
    {
     "data": {
      "text/html": [
       "<h2 style='text-align:center;'> Texte 413903 (40 sur 84)</h2>"
      ],
      "text/plain": [
       "<IPython.core.display.HTML object>"
      ]
     },
     "metadata": {},
     "output_type": "display_data"
    },
    {
     "data": {
      "text/html": [
       "<strong>Segment :</strong> 0"
      ],
      "text/plain": [
       "<IPython.core.display.HTML object>"
      ]
     },
     "metadata": {},
     "output_type": "display_data"
    },
    {
     "data": {
      "text/html": [
       "<strong>Date :</strong> 2011-12-21"
      ],
      "text/plain": [
       "<IPython.core.display.HTML object>"
      ]
     },
     "metadata": {},
     "output_type": "display_data"
    },
    {
     "data": {
      "text/html": [
       "<strong>Auteur :</strong> agro_media \n"
      ],
      "text/plain": [
       "<IPython.core.display.HTML object>"
      ]
     },
     "metadata": {},
     "output_type": "display_data"
    },
    {
     "name": "stdout",
     "output_type": "stream",
     "text": [
      "Termes indexés : ['pesticides', 'santé', 'génération', 'générations futures', 'futures'] \n",
      "\n",
      "Termes spécifiques présents : ['pesticides', 'générations futures'] \n",
      "\n",
      "Termes spécifiques absents : {'roundup', 'monsanto', 'victimes de pesticides', 'paul françois', 'céréalier charentais', 'agriculture biologique', 'syngenta', 'autorité européenne', 'monde selon monsanto', 'jeune femme', 'lasso', 'miel', 'parasite', 'céréaliers', 'résidus de pesticides', 'procès', 'victimes', 'effet'} \n",
      "\n"
     ]
    },
    {
     "data": {
      "text/html": [
       "Les produits biologiques véritablement exempts de <mark style=\"background-color:pink\">pesticides</mark>. | agro-media.fr\n",
       "Bien que le bio ait la cote, il n’a jamais été prouvé qu’il était meilleur pour la <mark style=\"background-color:yellow\">santé</mark>. L’association <mark style=\"background-color:yellow\">génération</mark>s <mark style=\"background-color:yellow\">futures</mark> a décidé de se pencher sur la question et a comparé la teneur en <mark style=\"background-color:pink\">pesticides</mark> de quatre repas-type d’une journée, bio et non bio.\n",
       "agro-media.fr\n",
       "Les produits biologiques véritablement exempts de <mark style=\"background-color:pink\">pesticides</mark>. "
      ],
      "text/plain": [
       "<IPython.core.display.HTML object>"
      ]
     },
     "metadata": {},
     "output_type": "display_data"
    },
    {
     "data": {
      "text/html": [
       "<h2 style='text-align:center;'> Texte 413901 (41 sur 84)</h2>"
      ],
      "text/plain": [
       "<IPython.core.display.HTML object>"
      ]
     },
     "metadata": {},
     "output_type": "display_data"
    },
    {
     "data": {
      "text/html": [
       "<strong>Segment :</strong> 0"
      ],
      "text/plain": [
       "<IPython.core.display.HTML object>"
      ]
     },
     "metadata": {},
     "output_type": "display_data"
    },
    {
     "data": {
      "text/html": [
       "<strong>Date :</strong> 2011-12-21"
      ],
      "text/plain": [
       "<IPython.core.display.HTML object>"
      ]
     },
     "metadata": {},
     "output_type": "display_data"
    },
    {
     "data": {
      "text/html": [
       "<strong>Auteur :</strong> Le changement par la consommation \n"
      ],
      "text/plain": [
       "<IPython.core.display.HTML object>"
      ]
     },
     "metadata": {},
     "output_type": "display_data"
    },
    {
     "name": "stdout",
     "output_type": "stream",
     "text": [
      "Termes indexés : ['pesticides', 'aliments', 'génération', 'générations futures', 'futures', 'résidus', 'résidus de pesticides'] \n",
      "\n",
      "Termes spécifiques présents : ['pesticides', 'générations futures', 'résidus de pesticides'] \n",
      "\n",
      "Termes spécifiques absents : {'roundup', 'monsanto', 'victimes de pesticides', 'paul françois', 'céréalier charentais', 'agriculture biologique', 'syngenta', 'autorité européenne', 'monde selon monsanto', 'jeune femme', 'lasso', 'miel', 'parasite', 'céréaliers', 'procès', 'victimes', 'effet'} \n",
      "\n"
     ]
    },
    {
     "data": {
      "text/html": [
       "<mark style=\"background-color:pink\">pesticides</mark> : une différence bien réelle entre les <mark style=\"background-color:yellow\">aliments</mark> bio et non bio\n",
       "<mark style=\"background-color:yellow\">génération</mark>s <mark style=\"background-color:yellow\">futures</mark> a comparé les teneurs en <mark style=\"background-color:yellow\">résidus</mark> de <mark style=\"background-color:pink\">pesticides</mark> des fruits, légumes et céréales provenant de l'alimentation conventionnelle avec ceux issus de l'agriculture biologique. Résultat : 223 fois moins de <mark style=\"background-color:pink\">pesticides</mark> dans le bio !\n",
       "actu-environnement.com\n",
       "Pour ceux qui doutent encore ..."
      ],
      "text/plain": [
       "<IPython.core.display.HTML object>"
      ]
     },
     "metadata": {},
     "output_type": "display_data"
    },
    {
     "data": {
      "text/html": [
       "<h2 style='text-align:center;'> Texte 413900 (42 sur 84)</h2>"
      ],
      "text/plain": [
       "<IPython.core.display.HTML object>"
      ]
     },
     "metadata": {},
     "output_type": "display_data"
    },
    {
     "data": {
      "text/html": [
       "<strong>Segment :</strong> 0"
      ],
      "text/plain": [
       "<IPython.core.display.HTML object>"
      ]
     },
     "metadata": {},
     "output_type": "display_data"
    },
    {
     "data": {
      "text/html": [
       "<strong>Date :</strong> 2011-12-21"
      ],
      "text/plain": [
       "<IPython.core.display.HTML object>"
      ]
     },
     "metadata": {},
     "output_type": "display_data"
    },
    {
     "data": {
      "text/html": [
       "<strong>Auteur :</strong> Consommons de façon responsable et éthique \n"
      ],
      "text/plain": [
       "<IPython.core.display.HTML object>"
      ]
     },
     "metadata": {},
     "output_type": "display_data"
    },
    {
     "name": "stdout",
     "output_type": "stream",
     "text": [
      "Termes indexés : ['pesticides', 'aliments', 'génération', 'générations futures', 'futures', 'résidus', 'résidus de pesticides'] \n",
      "\n",
      "Termes spécifiques présents : ['pesticides', 'générations futures', 'résidus de pesticides'] \n",
      "\n",
      "Termes spécifiques absents : {'roundup', 'monsanto', 'victimes de pesticides', 'paul françois', 'céréalier charentais', 'agriculture biologique', 'syngenta', 'autorité européenne', 'monde selon monsanto', 'jeune femme', 'lasso', 'miel', 'parasite', 'céréaliers', 'procès', 'victimes', 'effet'} \n",
      "\n"
     ]
    },
    {
     "data": {
      "text/html": [
       "<mark style=\"background-color:pink\">pesticides</mark> : une différence bien réelle entre les <mark style=\"background-color:yellow\">aliments</mark> bio et non bio\n",
       "<mark style=\"background-color:yellow\">génération</mark>s <mark style=\"background-color:yellow\">futures</mark> a comparé les teneurs en <mark style=\"background-color:yellow\">résidus</mark> de <mark style=\"background-color:pink\">pesticides</mark> des fruits, légumes et céréales provenant de l'alimentation conventionnelle avec ceux issus de l'agriculture biologique. Résultat : 223 fois moins de <mark style=\"background-color:pink\">pesticides</mark> dans le bio !\n",
       "actu-environnement.com\n",
       "Pour celles et ceux qui doutent encore... :"
      ],
      "text/plain": [
       "<IPython.core.display.HTML object>"
      ]
     },
     "metadata": {},
     "output_type": "display_data"
    },
    {
     "data": {
      "text/html": [
       "<h2 style='text-align:center;'> Texte 413899 (43 sur 84)</h2>"
      ],
      "text/plain": [
       "<IPython.core.display.HTML object>"
      ]
     },
     "metadata": {},
     "output_type": "display_data"
    },
    {
     "data": {
      "text/html": [
       "<strong>Segment :</strong> 0"
      ],
      "text/plain": [
       "<IPython.core.display.HTML object>"
      ]
     },
     "metadata": {},
     "output_type": "display_data"
    },
    {
     "data": {
      "text/html": [
       "<strong>Date :</strong> 2011-12-21"
      ],
      "text/plain": [
       "<IPython.core.display.HTML object>"
      ]
     },
     "metadata": {},
     "output_type": "display_data"
    },
    {
     "data": {
      "text/html": [
       "<strong>Auteur :</strong> Union Française des Consommateurs Musulmans \n"
      ],
      "text/plain": [
       "<IPython.core.display.HTML object>"
      ]
     },
     "metadata": {},
     "output_type": "display_data"
    },
    {
     "name": "stdout",
     "output_type": "stream",
     "text": [
      "Termes indexés : ['pesticides', 'aliments', 'génération', 'générations futures', 'futures', 'résidus', 'résidus de pesticides'] \n",
      "\n",
      "Termes spécifiques présents : ['pesticides', 'générations futures', 'résidus de pesticides'] \n",
      "\n",
      "Termes spécifiques absents : {'roundup', 'monsanto', 'victimes de pesticides', 'paul françois', 'céréalier charentais', 'agriculture biologique', 'syngenta', 'autorité européenne', 'monde selon monsanto', 'jeune femme', 'lasso', 'miel', 'parasite', 'céréaliers', 'procès', 'victimes', 'effet'} \n",
      "\n"
     ]
    },
    {
     "data": {
      "text/html": [
       "<mark style=\"background-color:pink\">pesticides</mark> : une différence bien réelle entre les <mark style=\"background-color:yellow\">aliments</mark> bio et non bio\n",
       "<mark style=\"background-color:yellow\">génération</mark>s <mark style=\"background-color:yellow\">futures</mark> a comparé les teneurs en <mark style=\"background-color:yellow\">résidus</mark> de <mark style=\"background-color:pink\">pesticides</mark> des fruits, légumes et céréales provenant de l'alimentation conventionnelle avec ceux issus de l'agriculture biologique. Résultat : 223 fois moins de <mark style=\"background-color:pink\">pesticides</mark> dans le bio !\n",
       "actu-environnement.com\n",
       "Pour ceux qui doutent encore..."
      ],
      "text/plain": [
       "<IPython.core.display.HTML object>"
      ]
     },
     "metadata": {},
     "output_type": "display_data"
    },
    {
     "data": {
      "text/html": [
       "<h2 style='text-align:center;'> Texte 413897 (44 sur 84)</h2>"
      ],
      "text/plain": [
       "<IPython.core.display.HTML object>"
      ]
     },
     "metadata": {},
     "output_type": "display_data"
    },
    {
     "data": {
      "text/html": [
       "<strong>Segment :</strong> 0"
      ],
      "text/plain": [
       "<IPython.core.display.HTML object>"
      ]
     },
     "metadata": {},
     "output_type": "display_data"
    },
    {
     "data": {
      "text/html": [
       "<strong>Date :</strong> 2011-12-22"
      ],
      "text/plain": [
       "<IPython.core.display.HTML object>"
      ]
     },
     "metadata": {},
     "output_type": "display_data"
    },
    {
     "data": {
      "text/html": [
       "<strong>Auteur :</strong> Oui au Bio dans ma Cantine \n"
      ],
      "text/plain": [
       "<IPython.core.display.HTML object>"
      ]
     },
     "metadata": {},
     "output_type": "display_data"
    },
    {
     "name": "stdout",
     "output_type": "stream",
     "text": [
      "Termes indexés : ['pesticides', 'génération', 'générations futures', 'futures'] \n",
      "\n",
      "Termes spécifiques présents : ['pesticides', 'générations futures'] \n",
      "\n",
      "Termes spécifiques absents : {'roundup', 'monsanto', 'victimes de pesticides', 'paul françois', 'céréalier charentais', 'agriculture biologique', 'syngenta', 'autorité européenne', 'monde selon monsanto', 'jeune femme', 'lasso', 'miel', 'parasite', 'céréaliers', 'résidus de pesticides', 'procès', 'victimes', 'effet'} \n",
      "\n"
     ]
    },
    {
     "data": {
      "text/html": [
       "Cela vaut-il le coup de manger bio pour éviter les <mark style=\"background-color:pink\">pesticides</mark> ? / France Inter\n",
       "Zéro résidu de <mark style=\"background-color:pink\">pesticides</mark> dans les fruits et légumes bio analysés, contre 37 dans les conventionnels : c'est le principal enseignement de l'étude comparée menée par <mark style=\"background-color:yellow\">génération</mark>s <mark style=\"background-color:yellow\">futures</mark>.\n",
       "franceinter.fr\n",
       "A écouter : Manger Bio pour éviter les <mark style=\"background-color:pink\">pesticides</mark> sur France Inter ce matin "
      ],
      "text/plain": [
       "<IPython.core.display.HTML object>"
      ]
     },
     "metadata": {},
     "output_type": "display_data"
    },
    {
     "data": {
      "text/html": [
       "<h2 style='text-align:center;'> Texte 413890 (45 sur 84)</h2>"
      ],
      "text/plain": [
       "<IPython.core.display.HTML object>"
      ]
     },
     "metadata": {},
     "output_type": "display_data"
    },
    {
     "data": {
      "text/html": [
       "<strong>Segment :</strong> 0"
      ],
      "text/plain": [
       "<IPython.core.display.HTML object>"
      ]
     },
     "metadata": {},
     "output_type": "display_data"
    },
    {
     "data": {
      "text/html": [
       "<strong>Date :</strong> 2011-12-22"
      ],
      "text/plain": [
       "<IPython.core.display.HTML object>"
      ]
     },
     "metadata": {},
     "output_type": "display_data"
    },
    {
     "data": {
      "text/html": [
       "<strong>Auteur :</strong> Vigilance OGM \n"
      ],
      "text/plain": [
       "<IPython.core.display.HTML object>"
      ]
     },
     "metadata": {},
     "output_type": "display_data"
    },
    {
     "name": "stdout",
     "output_type": "stream",
     "text": [
      "Termes indexés : ['pesticides', 'aliments', 'génération', 'générations futures', 'futures', 'résidus', 'résidus de pesticides'] \n",
      "\n",
      "Termes spécifiques présents : ['pesticides', 'générations futures', 'résidus de pesticides'] \n",
      "\n",
      "Termes spécifiques absents : {'roundup', 'monsanto', 'victimes de pesticides', 'paul françois', 'céréalier charentais', 'agriculture biologique', 'syngenta', 'autorité européenne', 'monde selon monsanto', 'jeune femme', 'lasso', 'miel', 'parasite', 'céréaliers', 'procès', 'victimes', 'effet'} \n",
      "\n"
     ]
    },
    {
     "data": {
      "text/html": [
       "<mark style=\"background-color:pink\">pesticides</mark> : une différence bien réelle entre les <mark style=\"background-color:yellow\">aliments</mark> bio et non bio\n",
       "<mark style=\"background-color:yellow\">génération</mark>s <mark style=\"background-color:yellow\">futures</mark> a comparé les teneurs en <mark style=\"background-color:yellow\">résidus</mark> de <mark style=\"background-color:pink\">pesticides</mark> des fruits, légumes et céréales provenant de l'alimentation conventionnelle avec ceux issus de l'agriculture biologique. Résultat : 223 fois moins de <mark style=\"background-color:pink\">pesticides</mark> dans le bio !\n",
       "actu-environnement.com\n",
       "Si vous voulez eviter les <mark style=\"background-color:yellow\">résidus</mark> de <mark style=\"background-color:pink\">pesticides</mark> sur vos fruits et légumes, mangez bio "
      ],
      "text/plain": [
       "<IPython.core.display.HTML object>"
      ]
     },
     "metadata": {},
     "output_type": "display_data"
    },
    {
     "data": {
      "text/html": [
       "<h2 style='text-align:center;'> Texte 413898 (46 sur 84)</h2>"
      ],
      "text/plain": [
       "<IPython.core.display.HTML object>"
      ]
     },
     "metadata": {},
     "output_type": "display_data"
    },
    {
     "data": {
      "text/html": [
       "<strong>Segment :</strong> 0"
      ],
      "text/plain": [
       "<IPython.core.display.HTML object>"
      ]
     },
     "metadata": {},
     "output_type": "display_data"
    },
    {
     "data": {
      "text/html": [
       "<strong>Date :</strong> 2011-12-22"
      ],
      "text/plain": [
       "<IPython.core.display.HTML object>"
      ]
     },
     "metadata": {},
     "output_type": "display_data"
    },
    {
     "data": {
      "text/html": [
       "<strong>Auteur :</strong> Libres de pensées. Contre la banalisation de la misère humaine et animale. \n"
      ],
      "text/plain": [
       "<IPython.core.display.HTML object>"
      ]
     },
     "metadata": {},
     "output_type": "display_data"
    },
    {
     "name": "stdout",
     "output_type": "stream",
     "text": [
      "Termes indexés : ['monsanto', 'santé', 'culture', 'roundup', 'herbicide', 'études', 'maïs', 'chercheuse', 'aliments', 'ogm', 'insectes', 'population', 'résistances', 'pulvérisations', 'agriculteur', 'pesticides', 'problème', 'recherche', 'ravageurs', 'roundup de monsanto', 'monde', 'glyphosate', 'brésil', 'europe', 'coûts', 'développement', 'libertés', 'interdiction', 'décision'] \n",
      "\n",
      "Termes spécifiques présents : ['monsanto', 'roundup', 'pesticides'] \n",
      "\n",
      "Termes spécifiques absents : {'victimes de pesticides', 'paul françois', 'céréalier charentais', 'agriculture biologique', 'syngenta', 'autorité européenne', 'monde selon monsanto', 'jeune femme', 'lasso', 'miel', 'générations futures', 'parasite', 'céréaliers', 'résidus de pesticides', 'procès', 'victimes', 'effet'} \n",
      "\n"
     ]
    },
    {
     "data": {
      "text/html": [
       "Consciousness TV |   <mark style=\"background-color:pink\">monsanto</mark> Declared Worst Company of 2011\n",
       "Biotech giant <mark style=\"background-color:pink\">monsanto</mark> has been declared the Worst Company of 2011 by NaturalSociety for threatening both human health and the environment. The leader in  genetically modified seeds and crops, <mark style=\"background-color:pink\">monsanto</mark> is currently responsible for 90 percent of the genetically engineered seed on the United States ma...\n",
       "worldtruth.tv\n",
       "!!! <mark style=\"background-color:pink\">monsanto</mark> déclarée la pire compagnie en 2011 !!! Biotech <mark style=\"background-color:pink\">monsanto</mark>, le géant a été déclaré parmi les pires Compagnies de 2011 par NaturalSociety pour avoir menacé la <mark style=\"background-color:yellow\">santé</mark> humaine et l'environnement. Le leader de semences et de <mark style=\"background-color:yellow\">culture</mark>s génétiquement modifiées, <mark style=\"background-color:pink\">monsanto</mark> est actuellement responsable de 90 pour cent des semences génétiquement modifiées sur le marché des Etats-Unis. En dehors de semences génétiquement modifiées, <mark style=\"background-color:pink\">monsanto</mark> est également le créateur de l'<mark style=\"background-color:yellow\">herbicide</mark> <mark style=\"background-color:pink\">roundup</mark> best-seller, qui a engendré plus de 120 millions d'hectacres super mauvaises herbes résistantes aux <mark style=\"background-color:yellow\">herbicide</mark>s tout en endommageant une grande partie du sol. Malgré les avertissements de preuves solides contre l'utilisation amplifiée des <mark style=\"background-color:yellow\">culture</mark>s génétiquement modifiées, les bio<mark style=\"background-color:pink\">pesticides</mark> et les <mark style=\"background-color:yellow\">herbicide</mark>s, <mark style=\"background-color:pink\">monsanto</mark> continue à ignorer tous les signes d'alerte. Dans une revue de 19 <mark style=\"background-color:yellow\">études</mark> de puissantes analyses des dangers des <mark style=\"background-color:yellow\">culture</mark>s d'<mark style=\"background-color:yellow\">ogm</mark> comme le <mark style=\"background-color:yellow\">maïs</mark> et le soja, les chercheurs ont révélé quelques informations choquantes concernant la sécurité de ces <mark style=\"background-color:yellow\">aliments</mark> de base populaire. Les chercheurs ont constaté que la consommation de <mark style=\"background-color:yellow\">maïs</mark> <mark style=\"background-color:yellow\">ogm</mark> ou le soja peut entraîner des perturbations importantes dans les organes des rats et des souris - en particulier dans le foie et les reins. Ceci est particulièrement sujet en raison du fait que 93 pour cent du soja américain sont connus pour être génétiquement modifiés. Ignorer cette évidence, <mark style=\"background-color:pink\">monsanto</mark> continue à élargir leur manipulation génétique. Manipulation génétique de <mark style=\"background-color:pink\">monsanto</mark> NatureOutside des <mark style=\"background-color:yellow\">culture</mark>s génétiquement modifier, <mark style=\"background-color:pink\">monsanto</mark> a également créé des <mark style=\"background-color:yellow\">culture</mark>s génétiquement modifiées contenant Bt. Bt est une toxine incorporés dans les <mark style=\"background-color:yellow\">culture</mark>s d'<mark style=\"background-color:yellow\">ogm</mark> qui sont destinés à tuer les <mark style=\"background-color:yellow\">insectes</mark> différents, cependant l'utilisation de Bt a par la suite donné naissance à des <mark style=\"background-color:yellow\">population</mark>s d'<mark style=\"background-color:yellow\">insectes</mark> qui sont résistantes à l'bio<mark style=\"background-color:pink\">pesticides</mark>. Après avoir été exposées au Bt, les <mark style=\"background-color:yellow\">population</mark>s d'<mark style=\"background-color:yellow\">insectes</mark> nombreuses réalité muté pour résister aux bio<mark style=\"background-color:pink\">pesticides</mark>. Jusqu'ici au moins 8 des <mark style=\"background-color:yellow\">population</mark>s d'<mark style=\"background-color:yellow\">insectes</mark> ont développé une résistance, avec deux <mark style=\"background-color:yellow\">population</mark>s résistantes aux <mark style=\"background-color:yellow\">pulvérisations</mark> de Bt et au moins 6 espèces résistantes aux <mark style=\"background-color:yellow\">culture</mark>s Bt dans son ensemble. Les <mark style=\"background-color:yellow\">agriculteur</mark>s sont donc contraints d'utiliser des <mark style=\"background-color:pink\">pesticides</mark> pour combattre encore plus résistant à des <mark style=\"background-color:yellow\">insectes</mark>. Quelle est la réponse à ce <mark style=\"background-color:yellow\">problème</mark>, selon <mark style=\"background-color:pink\">monsanto</mark>? Pour mieux modifier génétiquement la <mark style=\"background-color:yellow\">culture</mark> Bt pour en faire un super <mark style=\"background-color:pink\">pesticides</mark>, tuant les <mark style=\"background-color:yellow\">insectes</mark> résistants. Les tests, cependant, ont conclu que d'autres <mark style=\"background-color:yellow\">culture</mark>s modifiées toxine Bt fourni «peu ou pas d'avantage\" dans la lutte contre les <mark style=\"background-color:yellow\">insectes</mark>, en dépit de beaucoup de temps et de financement mis dans la <mark style=\"background-color:yellow\">recherche</mark>. Il semble que la solution de <mark style=\"background-color:pink\">monsanto</mark> à tout est de continuer à le modifier dans l'oubli, même face à des preuves prouvant que cette méthode soit très inefficace. La <mark style=\"background-color:yellow\">recherche</mark> montre que cela mènera sans doute à des <mark style=\"background-color:yellow\">insectes</mark> qui résistent aux formes les plus puissants de Bt et d'autres toxines modifiées, ce qui entraîne l'utilisation de plus, même des quantités excessives de <mark style=\"background-color:pink\">pesticides</mark> afin de lutter contre les <mark style=\"background-color:yellow\">ravageurs</mark>. Super mauvaises herbes infestant plus de 120 millions d'Hectacres FarmlandThanks aux <mark style=\"background-color:yellow\">herbicide</mark>s <mark style=\"background-color:pink\">roundup</mark> de <mark style=\"background-color:pink\">monsanto</mark> best-sellers, les exploitations agricoles à travers le <mark style=\"background-color:yellow\">monde</mark> connaissent l'émergence de super-mauvaises herbes résistantes aux <mark style=\"background-color:yellow\">herbicide</mark>s. Les mauvaises herbes résistantes ont fortement d'une immunité au <mark style=\"background-color:yellow\">glyphosate</mark>, un <mark style=\"background-color:yellow\">herbicide</mark>, le <mark style=\"background-color:pink\">roundup</mark> contient. Ces mauvaises herbes résistantes couvrent actuellement plus de 4,5 millions d'hectares dans les seuls États-Unis, mais les experts estiment la couverture terrestre du <mark style=\"background-color:yellow\">monde</mark> entier à avoir atteint au moins 120 millions d'hectares en 2010. L'apparition de ces super-mauvaises herbes sont de plus en plus documentées en Australie, en Argentine, au <mark style=\"background-color:yellow\">brésil</mark>, au Chili, en <mark style=\"background-color:yellow\">europe</mark> et en Afrique du Sud. Bien sûr, une fois encore, les mauvaises herbes résistantes sont si résistantes au <mark style=\"background-color:pink\">roundup</mark> dont ils ont besoin de quantités excessives d'<mark style=\"background-color:yellow\">herbicide</mark>s. Il n'est pas surprenant que l'entreprise refuse d'accepter la responsabilité de l'escalade des <mark style=\"background-color:yellow\">coûts</mark> de la lutte contre les mauvaises herbes, affirmant que \"les garanties <mark style=\"background-color:pink\">roundup</mark> pour usage agricole ne couvre pas l'échec à contrôler les <mark style=\"background-color:yellow\">population</mark>s de mauvaises herbes résistantes au <mark style=\"background-color:yellow\">glyphosate</mark>». Le <mark style=\"background-color:yellow\">monde</mark> dit non à <mark style=\"background-color:pink\">monsanto</mark>France, la Hongrie et le Pérou sont quelques-uns des pays qui ont décidé de prendre position contre <mark style=\"background-color:pink\">monsanto</mark>. La Hongrie fait allé aussi loin que de détruire de 1000 acres de <mark style=\"background-color:yellow\">maïs</mark> constaté ont été cultivés avec des semences génétiquement modifiées, en fonction de la Hongrie Secrétaire d'État adjoint du Ministère de <mark style=\"background-color:yellow\">développement</mark> Rural Lajos Bognar. Le Pérou a également pris position pour la liberté de la <mark style=\"background-color:yellow\">santé</mark>, en passant d'une <mark style=\"background-color:yellow\">interdiction</mark> monumentale de 10 ans sur les <mark style=\"background-color:yellow\">aliments</mark> génétiquement. Étonnamment, Session plénière du Pérou du Congrès a pris la <mark style=\"background-color:yellow\">décision</mark> en dépit des précédentes gouvernementales pousse pour (truncated)"
      ],
      "text/plain": [
       "<IPython.core.display.HTML object>"
      ]
     },
     "metadata": {},
     "output_type": "display_data"
    },
    {
     "data": {
      "text/html": [
       "<h2 style='text-align:center;'> Texte 413895 (47 sur 84)</h2>"
      ],
      "text/plain": [
       "<IPython.core.display.HTML object>"
      ]
     },
     "metadata": {},
     "output_type": "display_data"
    },
    {
     "data": {
      "text/html": [
       "<strong>Segment :</strong> 0"
      ],
      "text/plain": [
       "<IPython.core.display.HTML object>"
      ]
     },
     "metadata": {},
     "output_type": "display_data"
    },
    {
     "data": {
      "text/html": [
       "<strong>Date :</strong> 2011-12-22"
      ],
      "text/plain": [
       "<IPython.core.display.HTML object>"
      ]
     },
     "metadata": {},
     "output_type": "display_data"
    },
    {
     "data": {
      "text/html": [
       "<strong>Auteur :</strong> Semaine pour les alternatives aux pesticides \n"
      ],
      "text/plain": [
       "<IPython.core.display.HTML object>"
      ]
     },
     "metadata": {},
     "output_type": "display_data"
    },
    {
     "name": "stdout",
     "output_type": "stream",
     "text": [
      "Termes indexés : ['pesticides', 'génération', 'générations futures', 'futures'] \n",
      "\n",
      "Termes spécifiques présents : ['pesticides', 'générations futures'] \n",
      "\n",
      "Termes spécifiques absents : {'roundup', 'monsanto', 'victimes de pesticides', 'paul françois', 'céréalier charentais', 'agriculture biologique', 'syngenta', 'autorité européenne', 'monde selon monsanto', 'jeune femme', 'lasso', 'miel', 'parasite', 'céréaliers', 'résidus de pesticides', 'procès', 'victimes', 'effet'} \n",
      "\n"
     ]
    },
    {
     "data": {
      "text/html": [
       "Cela vaut-il le coup de manger bio pour éviter les <mark style=\"background-color:pink\">pesticides</mark> ? / France Inter\n",
       "Zéro résidu de <mark style=\"background-color:pink\">pesticides</mark> dans les fruits et légumes bio analysés, contre 37 dans les conventionnels : c'est le principal enseignement de l'étude comparée menée par <mark style=\"background-color:yellow\">génération</mark>s <mark style=\"background-color:yellow\">futures</mark>.\n",
       "franceinter.fr\n",
       "http://www.franceinter.fr/emission-cqfd-cela-vaut-il-le-coup-de-manger-bio-pour-eviter-les-<mark style=\"background-color:pink\">pesticides</mark> Cela vaut-il le coup de manger bio pour éviter les <mark style=\"background-color:pink\">pesticides</mark> ? Zéro résidu de <mark style=\"background-color:pink\">pesticides</mark> dans les fruits et légumes bio analysés, contre 37 dans les conventionnels : c'est le principal enseignement de l'étude comparée menée par <mark style=\"background-color:yellow\">génération</mark>s <mark style=\"background-color:yellow\">futures</mark>."
      ],
      "text/plain": [
       "<IPython.core.display.HTML object>"
      ]
     },
     "metadata": {},
     "output_type": "display_data"
    },
    {
     "data": {
      "text/html": [
       "<h2 style='text-align:center;'> Texte 413889 (48 sur 84)</h2>"
      ],
      "text/plain": [
       "<IPython.core.display.HTML object>"
      ]
     },
     "metadata": {},
     "output_type": "display_data"
    },
    {
     "data": {
      "text/html": [
       "<strong>Segment :</strong> 0"
      ],
      "text/plain": [
       "<IPython.core.display.HTML object>"
      ]
     },
     "metadata": {},
     "output_type": "display_data"
    },
    {
     "data": {
      "text/html": [
       "<strong>Date :</strong> 2011-12-23"
      ],
      "text/plain": [
       "<IPython.core.display.HTML object>"
      ]
     },
     "metadata": {},
     "output_type": "display_data"
    },
    {
     "data": {
      "text/html": [
       "<strong>Auteur :</strong> Zététique \n"
      ],
      "text/plain": [
       "<IPython.core.display.HTML object>"
      ]
     },
     "metadata": {},
     "output_type": "display_data"
    },
    {
     "name": "stdout",
     "output_type": "stream",
     "text": [
      "Termes indexés : ['pesticides', 'études', 'résidus', 'résidus de pesticides', 'aliments', 'génération', 'générations futures', 'futures', 'scientifiques', 'travail', 'arguments'] \n",
      "\n",
      "Termes spécifiques présents : ['pesticides', 'résidus de pesticides', 'générations futures'] \n",
      "\n",
      "Termes spécifiques absents : {'roundup', 'monsanto', 'victimes de pesticides', 'paul françois', 'céréalier charentais', 'agriculture biologique', 'syngenta', 'autorité européenne', 'monde selon monsanto', 'jeune femme', 'lasso', 'miel', 'parasite', 'céréaliers', 'procès', 'victimes', 'effet'} \n",
      "\n"
     ]
    },
    {
     "data": {
      "text/html": [
       "Actualité > L'alimentation bio, la garantie du sans <mark style=\"background-color:pink\">pesticides</mark> ?\n",
       "Après une étude l'an dernier qui s'intéressait aux <mark style=\"background-color:yellow\">résidus</mark> de <mark style=\"background-color:pink\">pesticides</mark> dans les <mark style=\"background-color:yellow\">aliments</mark> conventionnels, l'association <mark style=\"background-color:yellow\">génération</mark>s <mark style=\"background-color:yellow\">futures</mark> a commandité une analyse des <mark style=\"background-color:yellow\">aliments</mark> biologiques. La...\n",
       "futura-sciences.com\n",
       "\"Bien sûr, comme l’association l’indique elle-même, il s’agit d’une étude qu’il est difficile de qualifier de scientifique puisqu’elle ne répond pas aux exigences statistiques de cette catégorie de travaux.\"...\"Alors que nombreux sont ceux qui pensent que le bio n’est qu’un argument publicitaire, l’étude de <mark style=\"background-color:yellow\">génération</mark>s <mark style=\"background-color:yellow\">futures</mark> démontre clairement le contraire\" Si ce n'est pas de la rigueur scientifique, ça ! ;)"
      ],
      "text/plain": [
       "<IPython.core.display.HTML object>"
      ]
     },
     "metadata": {},
     "output_type": "display_data"
    },
    {
     "data": {
      "text/html": [
       "<h2 style='text-align:center;'> Texte 413883 (49 sur 84)</h2>"
      ],
      "text/plain": [
       "<IPython.core.display.HTML object>"
      ]
     },
     "metadata": {},
     "output_type": "display_data"
    },
    {
     "data": {
      "text/html": [
       "<strong>Segment :</strong> 0"
      ],
      "text/plain": [
       "<IPython.core.display.HTML object>"
      ]
     },
     "metadata": {},
     "output_type": "display_data"
    },
    {
     "data": {
      "text/html": [
       "<strong>Date :</strong> 2011-12-26"
      ],
      "text/plain": [
       "<IPython.core.display.HTML object>"
      ]
     },
     "metadata": {},
     "output_type": "display_data"
    },
    {
     "data": {
      "text/html": [
       "<strong>Auteur :</strong> Karma Nature \n"
      ],
      "text/plain": [
       "<IPython.core.display.HTML object>"
      ]
     },
     "metadata": {},
     "output_type": "display_data"
    },
    {
     "name": "stdout",
     "output_type": "stream",
     "text": [
      "Termes indexés : ['monde', 'monde selon monsanto', 'monsanto', 'ogm', 'roundup', 'europe', 'planète', 'scientifiques', 'victimes', 'avocat', 'politique', 'écologique'] \n",
      "\n",
      "Termes spécifiques présents : ['monde selon monsanto', 'monsanto', 'roundup', 'victimes'] \n",
      "\n",
      "Termes spécifiques absents : {'pesticides', 'victimes de pesticides', 'paul françois', 'céréalier charentais', 'agriculture biologique', 'syngenta', 'autorité européenne', 'jeune femme', 'lasso', 'miel', 'générations futures', 'parasite', 'céréaliers', 'résidus de pesticides', 'procès', 'effet'} \n",
      "\n"
     ]
    },
    {
     "data": {
      "text/html": [
       "le <mark style=\"background-color:yellow\">monde</mark> selon <mark style=\"background-color:pink\">monsanto</mark> (complet)\n",
       "Ce film retrace l'histoire de <mark style=\"background-color:pink\">monsanto</mark>, une multinationale américaine, aujourd'hui leader mondial des <mark style=\"background-color:yellow\">ogm</mark>, et considérée comme l'un des plus grands pollueurs...\n",
       "youtube.com\n",
       "Ce film retrace l'histoire de <mark style=\"background-color:pink\">monsanto</mark>, une multinationale américaine, aujourd'hui leader mondial des <mark style=\"background-color:yellow\">ogm</mark>, et considérée comme l'un des plus grands pollueurs de l'ère industrielle (PCB, agent orange, hormones de croissance, <mark style=\"background-color:pink\">roundup</mark>...). Après une enquête de trois ans, en Amérique du nord et du sud, en <mark style=\"background-color:yellow\">europe</mark> et en Asie, il reconstitue la genèse d'un empire industriel, qui, à grand renfort de rapports mensongers, de collusion avec l'administration nord-américaine, de pressions et tentatives de corruption, est devenu l'un des premiers semenciers de la <mark style=\"background-color:yellow\">planète</mark>. En s'appuyant sur des documents et des témoignages inédits de <mark style=\"background-color:yellow\">scientifiques</mark>, <mark style=\"background-color:pink\">victimes</mark> de ses activités toxiques, <mark style=\"background-color:yellow\">avocat</mark>s, hommes <mark style=\"background-color:yellow\">politique</mark>s et de représentants de la Food and Drug Administration ou de environnemental Protection Agency des États Unis, le documentaire montre comment, derrière l'image d'une société propre et verte décrit par la propagande publicitaire, se cache un projet hégémonique menaçant la sécurité alimentaire du <mark style=\"background-color:yellow\">monde</mark>, mais aussi l'équilibre <mark style=\"background-color:yellow\">écologique</mark> de la <mark style=\"background-color:yellow\">planète</mark>. Un doc à ne manquer sous aucun prétexte. "
      ],
      "text/plain": [
       "<IPython.core.display.HTML object>"
      ]
     },
     "metadata": {},
     "output_type": "display_data"
    },
    {
     "data": {
      "text/html": [
       "<h2 style='text-align:center;'> Texte 413882 (50 sur 84)</h2>"
      ],
      "text/plain": [
       "<IPython.core.display.HTML object>"
      ]
     },
     "metadata": {},
     "output_type": "display_data"
    },
    {
     "data": {
      "text/html": [
       "<strong>Segment :</strong> 0"
      ],
      "text/plain": [
       "<IPython.core.display.HTML object>"
      ]
     },
     "metadata": {},
     "output_type": "display_data"
    },
    {
     "data": {
      "text/html": [
       "<strong>Date :</strong> 2011-12-26"
      ],
      "text/plain": [
       "<IPython.core.display.HTML object>"
      ]
     },
     "metadata": {},
     "output_type": "display_data"
    },
    {
     "data": {
      "text/html": [
       "<strong>Auteur :</strong> Libres de pensées. Contre la banalisation de la misère humaine et animale. \n"
      ],
      "text/plain": [
       "<IPython.core.display.HTML object>"
      ]
     },
     "metadata": {},
     "output_type": "display_data"
    },
    {
     "name": "stdout",
     "output_type": "stream",
     "text": [
      "Termes indexés : ['monde', 'monde selon monsanto', 'monsanto', 'ogm', 'roundup', 'europe', 'planète', 'scientifiques', 'victimes', 'avocat', 'politique', 'écologique'] \n",
      "\n",
      "Termes spécifiques présents : ['monde selon monsanto', 'monsanto', 'roundup', 'victimes'] \n",
      "\n",
      "Termes spécifiques absents : {'pesticides', 'victimes de pesticides', 'paul françois', 'céréalier charentais', 'agriculture biologique', 'syngenta', 'autorité européenne', 'jeune femme', 'lasso', 'miel', 'générations futures', 'parasite', 'céréaliers', 'résidus de pesticides', 'procès', 'effet'} \n",
      "\n"
     ]
    },
    {
     "data": {
      "text/html": [
       "le <mark style=\"background-color:yellow\">monde</mark> selon <mark style=\"background-color:pink\">monsanto</mark> (complet)\n",
       "Ce film retrace l'histoire de <mark style=\"background-color:pink\">monsanto</mark>, une multinationale américaine, aujourd'hui leader mondial des <mark style=\"background-color:yellow\">ogm</mark>, et considérée comme l'un des plus grands pollueurs...\n",
       "youtube.com\n",
       "Ce film retrace l'histoire de <mark style=\"background-color:pink\">monsanto</mark>, une multinationale américaine, aujourd'hui leader mondial des <mark style=\"background-color:yellow\">ogm</mark>, et considérée comme l'un des plus grands pollueurs de l'ère industrielle (PCB, agent orange, hormones de croissance, <mark style=\"background-color:pink\">roundup</mark>...). Après une enquête de trois ans, en Amérique du nord et du sud, en <mark style=\"background-color:yellow\">europe</mark> et en Asie, il reconstitue la genèse d'un empire industriel, qui, à grand renfort de rapports mensongers, de collusion avec l'administration nord-américaine, de pressions et tentatives de corruption, est devenu l'un des premiers semenciers de la <mark style=\"background-color:yellow\">planète</mark>. En s'appuyant sur des documents et des témoignages inédits de <mark style=\"background-color:yellow\">scientifiques</mark>, <mark style=\"background-color:pink\">victimes</mark> de ses activités toxiques, <mark style=\"background-color:yellow\">avocat</mark>s, hommes <mark style=\"background-color:yellow\">politique</mark>s et de représentants de la Food and Drug Administration ou de environnemental Protection Agency des États Unis, le documentaire montre comment, derrière l'image d'une société propre et verte décrit par la propagande publicitaire, se cache un projet hégémonique menaçant la sécurité alimentaire du <mark style=\"background-color:yellow\">monde</mark>, mais aussi l'équilibre <mark style=\"background-color:yellow\">écologique</mark> de la <mark style=\"background-color:yellow\">planète</mark>. Un doc à ne manquer sous aucun prétexte."
      ],
      "text/plain": [
       "<IPython.core.display.HTML object>"
      ]
     },
     "metadata": {},
     "output_type": "display_data"
    },
    {
     "data": {
      "text/html": [
       "<h2 style='text-align:center;'> Texte 413881 (51 sur 84)</h2>"
      ],
      "text/plain": [
       "<IPython.core.display.HTML object>"
      ]
     },
     "metadata": {},
     "output_type": "display_data"
    },
    {
     "data": {
      "text/html": [
       "<strong>Segment :</strong> 0"
      ],
      "text/plain": [
       "<IPython.core.display.HTML object>"
      ]
     },
     "metadata": {},
     "output_type": "display_data"
    },
    {
     "data": {
      "text/html": [
       "<strong>Date :</strong> 2011-12-27"
      ],
      "text/plain": [
       "<IPython.core.display.HTML object>"
      ]
     },
     "metadata": {},
     "output_type": "display_data"
    },
    {
     "data": {
      "text/html": [
       "<strong>Auteur :</strong> La tribu des écolos du Maroc \n"
      ],
      "text/plain": [
       "<IPython.core.display.HTML object>"
      ]
     },
     "metadata": {},
     "output_type": "display_data"
    },
    {
     "name": "stdout",
     "output_type": "stream",
     "text": [
      "Termes indexés : ['pesticides', 'aliments', 'article', 'études', 'génération', 'générations futures', 'futures'] \n",
      "\n",
      "Termes spécifiques présents : ['pesticides', 'générations futures'] \n",
      "\n",
      "Termes spécifiques absents : {'roundup', 'monsanto', 'victimes de pesticides', 'paul françois', 'céréalier charentais', 'agriculture biologique', 'syngenta', 'autorité européenne', 'monde selon monsanto', 'jeune femme', 'lasso', 'miel', 'parasite', 'céréaliers', 'résidus de pesticides', 'procès', 'victimes', 'effet'} \n",
      "\n"
     ]
    },
    {
     "data": {
      "text/html": [
       "223 fois moins de <mark style=\"background-color:pink\">pesticides</mark> dans les <mark style=\"background-color:yellow\">aliments</mark> bio\n",
       "\n",
       "cyberpresse.ca\n",
       "Trois repas et un en-cas entièrement constitués de produits alimentaires bio contiennent 223 fois moins de <mark style=\"background-color:pink\">pesticides</mark> que s'ils avaient intégrés des <mark style=\"background-color:yellow\">article</mark>s «ordinaires», souligne une étude de <mark style=\"background-color:yellow\">génération</mark>s <mark style=\"background-color:yellow\">futures</mark>, publiée en exclusivité par le quotidien français Le Parisien/Aujourd'hui en France ce mardi 20 décembre."
      ],
      "text/plain": [
       "<IPython.core.display.HTML object>"
      ]
     },
     "metadata": {},
     "output_type": "display_data"
    },
    {
     "data": {
      "text/html": [
       "<h2 style='text-align:center;'> Texte 413880 (52 sur 84)</h2>"
      ],
      "text/plain": [
       "<IPython.core.display.HTML object>"
      ]
     },
     "metadata": {},
     "output_type": "display_data"
    },
    {
     "data": {
      "text/html": [
       "<strong>Segment :</strong> 0"
      ],
      "text/plain": [
       "<IPython.core.display.HTML object>"
      ]
     },
     "metadata": {},
     "output_type": "display_data"
    },
    {
     "data": {
      "text/html": [
       "<strong>Date :</strong> 2011-12-27"
      ],
      "text/plain": [
       "<IPython.core.display.HTML object>"
      ]
     },
     "metadata": {},
     "output_type": "display_data"
    },
    {
     "data": {
      "text/html": [
       "<strong>Auteur :</strong> Libres de pensées. Contre la banalisation de la misère humaine et animale. \n"
      ],
      "text/plain": [
       "<IPython.core.display.HTML object>"
      ]
     },
     "metadata": {},
     "output_type": "display_data"
    },
    {
     "name": "stdout",
     "output_type": "stream",
     "text": [
      "Termes indexés : ['paul françois', 'pesticides', 'monsanto', 'herbicide', 'plainte', 'firme'] \n",
      "\n",
      "Termes spécifiques présents : ['paul françois', 'pesticides', 'monsanto'] \n",
      "\n",
      "Termes spécifiques absents : {'roundup', 'victimes de pesticides', 'céréalier charentais', 'agriculture biologique', 'syngenta', 'autorité européenne', 'monde selon monsanto', 'jeune femme', 'lasso', 'miel', 'générations futures', 'parasite', 'céréaliers', 'résidus de pesticides', 'procès', 'victimes', 'effet'} \n",
      "\n"
     ]
    },
    {
     "data": {
      "text/html": [
       "<mark style=\"background-color:pink\">paul françois</mark>, malade des <mark style=\"background-color:pink\">pesticides</mark>, demande réparation à <mark style=\"background-color:pink\">monsanto</mark>\n",
       "<mark style=\"background-color:pink\">paul françois</mark>, malade des <mark style=\"background-color:pink\">pesticides</mark>, demande réparation à <mark style=\"background-color:pink\">monsanto</mark> - Le 12 décembre, l'agriculteur charentais <mark style=\"background-color:pink\">paul françois</mark> - intoxiqué par un <mark style=\"background-color:yellow\">herbicide</mark> - est à Lyon pour assister à l'instruction de sa <mark style=\"background-color:yellow\">plainte</mark> contre la <mark style=\"background-color:yellow\">firme</mark> <mark style=\"background-color:pink\">monsanto</mark>. L'aboutissement d'un long...\n",
       "lavie.fr\n",
       "la France 3éme utillisateur mondial de <mark style=\"background-color:pink\">pesticides</mark>!!!!!!"
      ],
      "text/plain": [
       "<IPython.core.display.HTML object>"
      ]
     },
     "metadata": {},
     "output_type": "display_data"
    },
    {
     "data": {
      "text/html": [
       "<h2 style='text-align:center;'> Texte 413879 (53 sur 84)</h2>"
      ],
      "text/plain": [
       "<IPython.core.display.HTML object>"
      ]
     },
     "metadata": {},
     "output_type": "display_data"
    },
    {
     "data": {
      "text/html": [
       "<strong>Segment :</strong> 0"
      ],
      "text/plain": [
       "<IPython.core.display.HTML object>"
      ]
     },
     "metadata": {},
     "output_type": "display_data"
    },
    {
     "data": {
      "text/html": [
       "<strong>Date :</strong> 2011-12-28"
      ],
      "text/plain": [
       "<IPython.core.display.HTML object>"
      ]
     },
     "metadata": {},
     "output_type": "display_data"
    },
    {
     "data": {
      "text/html": [
       "<strong>Auteur :</strong> Biocoop Les Halles \n"
      ],
      "text/plain": [
       "<IPython.core.display.HTML object>"
      ]
     },
     "metadata": {},
     "output_type": "display_data"
    },
    {
     "name": "stdout",
     "output_type": "stream",
     "text": [
      "Termes indexés : ['pesticides', 'génération', 'générations futures', 'futures'] \n",
      "\n",
      "Termes spécifiques présents : ['pesticides', 'générations futures'] \n",
      "\n",
      "Termes spécifiques absents : {'roundup', 'monsanto', 'victimes de pesticides', 'paul françois', 'céréalier charentais', 'agriculture biologique', 'syngenta', 'autorité européenne', 'monde selon monsanto', 'jeune femme', 'lasso', 'miel', 'parasite', 'céréaliers', 'résidus de pesticides', 'procès', 'victimes', 'effet'} \n",
      "\n"
     ]
    },
    {
     "data": {
      "text/html": [
       "Cela vaut-il le coup de manger bio pour éviter les <mark style=\"background-color:pink\">pesticides</mark> ? / France Inter\n",
       "Zéro résidu de <mark style=\"background-color:pink\">pesticides</mark> dans les fruits et légumes bio analysés, contre 37 dans les conventionnels : c'est le principal enseignement de l'étude comparée menée par <mark style=\"background-color:yellow\">génération</mark>s <mark style=\"background-color:yellow\">futures</mark>.\n",
       "franceinter.fr\n",
       "et vous , vous mangez aussi des <mark style=\"background-color:pink\">pesticides</mark>? A écouter ou à lire, c'est un reportage très court mais très instructif sur ce que l'on consomme dans l'alimentation \"conventionnelle\" "
      ],
      "text/plain": [
       "<IPython.core.display.HTML object>"
      ]
     },
     "metadata": {},
     "output_type": "display_data"
    },
    {
     "data": {
      "text/html": [
       "<h2 style='text-align:center;'> Texte 413878 (54 sur 84)</h2>"
      ],
      "text/plain": [
       "<IPython.core.display.HTML object>"
      ]
     },
     "metadata": {},
     "output_type": "display_data"
    },
    {
     "data": {
      "text/html": [
       "<strong>Segment :</strong> 0"
      ],
      "text/plain": [
       "<IPython.core.display.HTML object>"
      ]
     },
     "metadata": {},
     "output_type": "display_data"
    },
    {
     "data": {
      "text/html": [
       "<strong>Date :</strong> 2011-12-28"
      ],
      "text/plain": [
       "<IPython.core.display.HTML object>"
      ]
     },
     "metadata": {},
     "output_type": "display_data"
    },
    {
     "data": {
      "text/html": [
       "<strong>Auteur :</strong> Doctissimo \n"
      ],
      "text/plain": [
       "<IPython.core.display.HTML object>"
      ]
     },
     "metadata": {},
     "output_type": "display_data"
    },
    {
     "name": "stdout",
     "output_type": "stream",
     "text": [
      "Termes indexés : ['pesticides', 'aliments', 'résidus', 'résidus chimiques', 'génération', 'générations futures', 'futures', 'effet', 'problème'] \n",
      "\n",
      "Termes spécifiques présents : ['pesticides', 'générations futures', 'effet'] \n",
      "\n",
      "Termes spécifiques absents : {'roundup', 'monsanto', 'victimes de pesticides', 'paul françois', 'céréalier charentais', 'agriculture biologique', 'syngenta', 'autorité européenne', 'monde selon monsanto', 'jeune femme', 'lasso', 'miel', 'parasite', 'céréaliers', 'résidus de pesticides', 'procès', 'victimes'} \n",
      "\n"
     ]
    },
    {
     "data": {
      "text/html": [
       "223 fois moins de <mark style=\"background-color:pink\">pesticides</mark> dans les <mark style=\"background-color:yellow\">aliments</mark> bio\n",
       "Les news Nutrition Des <mark style=\"background-color:yellow\">résidus</mark> chimiques dans les menus destinés aux enfantsEntre juillet et septembre 2010, <mark style=\"background-color:yellow\">génération</mark>s <mark style=\"background-color:yellow\">futures</mark> avait acheté dans divers supermarchés des <mark style=\"background-color:yellow\">aliments</mark> non bio composant...\n",
       "news.doctissimo.fr\n",
       "Veillez-vous à manger bio ? Connaissez-vous les <mark style=\"background-color:pink\">effet</mark>s des <mark style=\"background-color:pink\">pesticides</mark> sur le corps humain ? Ou êtes-vous peu concernés par ce <mark style=\"background-color:yellow\">problème</mark> ?"
      ],
      "text/plain": [
       "<IPython.core.display.HTML object>"
      ]
     },
     "metadata": {},
     "output_type": "display_data"
    },
    {
     "data": {
      "text/html": [
       "<h2 style='text-align:center;'> Texte 413874 (55 sur 84)</h2>"
      ],
      "text/plain": [
       "<IPython.core.display.HTML object>"
      ]
     },
     "metadata": {},
     "output_type": "display_data"
    },
    {
     "data": {
      "text/html": [
       "<strong>Segment :</strong> 0"
      ],
      "text/plain": [
       "<IPython.core.display.HTML object>"
      ]
     },
     "metadata": {},
     "output_type": "display_data"
    },
    {
     "data": {
      "text/html": [
       "<strong>Date :</strong> 2012-01-03"
      ],
      "text/plain": [
       "<IPython.core.display.HTML object>"
      ]
     },
     "metadata": {},
     "output_type": "display_data"
    },
    {
     "data": {
      "text/html": [
       "<strong>Auteur :</strong> Tamelia Beauty Shop \n"
      ],
      "text/plain": [
       "<IPython.core.display.HTML object>"
      ]
     },
     "metadata": {},
     "output_type": "display_data"
    },
    {
     "name": "stdout",
     "output_type": "stream",
     "text": [
      "Termes indexés : ['vignerons', 'miel', 'pesticides'] \n",
      "\n",
      "Termes spécifiques présents : ['miel', 'pesticides'] \n",
      "\n",
      "Termes spécifiques absents : {'roundup', 'monsanto', 'victimes de pesticides', 'paul françois', 'céréalier charentais', 'agriculture biologique', 'syngenta', 'autorité européenne', 'monde selon monsanto', 'jeune femme', 'lasso', 'générations futures', 'parasite', 'céréaliers', 'résidus de pesticides', 'procès', 'victimes', 'effet'} \n",
      "\n"
     ]
    },
    {
     "data": {
      "text/html": [
       "\n",
       "\n",
       "\n",
       "Masque du vigneron Voici un masque facile à faire à la maison fait avec juste quelques ingrédients. Les raisins ont des actif anti age, on retrouve des anti oxydants et d’acides de fruits. Bien sur ici à petite échelle mais cela reste un soin intéressant qui redonnera un peu d’éclat à votre peau pour l’automne ! 5 grains de raisins de taille moyenne (exfoliant, hydratant, anti oxydant) 1 cc d’argile violette (éclat) 1 cc <mark style=\"background-color:pink\">miel</mark> (humectant) 2 gouttes d’huile essentielle adapté à votre peau Difficulté : star greystar3 greystar3greystar3 ––Conservation : non —–Contenance : 20 à 25 ml Mixer les raisins avec leur peau jusqu’à une consistance de purée un peu liquide. Ajouter votre argile, votre <mark style=\"background-color:pink\">miel</mark> et votre huile essentielle. Si la pâte est un peu trop compacte ajoutez y un peu d’eau pure, de lait ou d’hydrolat. Appliquez sur l’ensemble de votre visage, sans oublier le cou puis laissez poser 5 à 10 minutes. Enlevez le masque à l’aide d’un gant de toilette en massant doucement votre visage. ps : Privilégiez les raisins bio pour ne pas avoir de trace de <mark style=\"background-color:pink\">pesticides</mark> et d’engrais chimiques. source: faitesmaison.com"
      ],
      "text/plain": [
       "<IPython.core.display.HTML object>"
      ]
     },
     "metadata": {},
     "output_type": "display_data"
    },
    {
     "data": {
      "text/html": [
       "<h2 style='text-align:center;'> Texte 413869 (56 sur 84)</h2>"
      ],
      "text/plain": [
       "<IPython.core.display.HTML object>"
      ]
     },
     "metadata": {},
     "output_type": "display_data"
    },
    {
     "data": {
      "text/html": [
       "<strong>Segment :</strong> 0"
      ],
      "text/plain": [
       "<IPython.core.display.HTML object>"
      ]
     },
     "metadata": {},
     "output_type": "display_data"
    },
    {
     "data": {
      "text/html": [
       "<strong>Date :</strong> 2012-01-05"
      ],
      "text/plain": [
       "<IPython.core.display.HTML object>"
      ]
     },
     "metadata": {},
     "output_type": "display_data"
    },
    {
     "data": {
      "text/html": [
       "<strong>Auteur :</strong> Cdurable.info \n"
      ],
      "text/plain": [
       "<IPython.core.display.HTML object>"
      ]
     },
     "metadata": {},
     "output_type": "display_data"
    },
    {
     "name": "stdout",
     "output_type": "stream",
     "text": [
      "Termes indexés : ['abeilles', 'victimes', 'parasite', \"colonies d'abeilles\", 'monde', 'chercheuse', 'virus', 'maladie', 'pesticides'] \n",
      "\n",
      "Termes spécifiques présents : ['victimes', 'parasite', 'pesticides'] \n",
      "\n",
      "Termes spécifiques absents : {'roundup', 'monsanto', 'victimes de pesticides', 'paul françois', 'céréalier charentais', 'agriculture biologique', 'syngenta', 'autorité européenne', 'monde selon monsanto', 'jeune femme', 'lasso', 'miel', 'générations futures', 'céréaliers', 'résidus de pesticides', 'procès', 'effet'} \n",
      "\n"
     ]
    },
    {
     "data": {
      "text/html": [
       "Des <mark style=\"background-color:yellow\">abeilles</mark> devenues zombies, <mark style=\"background-color:pink\">victimes</mark> d'un <mark style=\"background-color:pink\">parasite</mark> de mouche - [CDURABLE.info l'essentiel du déve\n",
       "Depuis le lancement de CDURABLE.info, nous vous alertons régulièrement sur l’effondrement massif des colonies d’<mark style=\"background-color:yellow\">abeilles</mark> constaté dans le <mark style=\"background-color:yellow\">monde</mark> entier. Pour beaucoup de chercheurs, c’est la combinaison des pathologies (<mark style=\"background-color:yellow\">virus</mark>, <mark style=\"background-color:yellow\">maladie</mark>s et <mark style=\"background-color:pink\">parasite</mark>s), des <mark style=\"background-color:pink\">pesticides</mark> et de (...)\n",
       "cdurable.info\n",
       "Des <mark style=\"background-color:yellow\">abeilles</mark> devenues zombies, <mark style=\"background-color:pink\">victimes</mark> d'un <mark style=\"background-color:pink\">parasite</mark> de mouche"
      ],
      "text/plain": [
       "<IPython.core.display.HTML object>"
      ]
     },
     "metadata": {},
     "output_type": "display_data"
    },
    {
     "data": {
      "text/html": [
       "<h2 style='text-align:center;'> Texte 413860 (57 sur 84)</h2>"
      ],
      "text/plain": [
       "<IPython.core.display.HTML object>"
      ]
     },
     "metadata": {},
     "output_type": "display_data"
    },
    {
     "data": {
      "text/html": [
       "<strong>Segment :</strong> 0"
      ],
      "text/plain": [
       "<IPython.core.display.HTML object>"
      ]
     },
     "metadata": {},
     "output_type": "display_data"
    },
    {
     "data": {
      "text/html": [
       "<strong>Date :</strong> 2012-01-08"
      ],
      "text/plain": [
       "<IPython.core.display.HTML object>"
      ]
     },
     "metadata": {},
     "output_type": "display_data"
    },
    {
     "data": {
      "text/html": [
       "<strong>Auteur :</strong> Les 2 Vaches \n"
      ],
      "text/plain": [
       "<IPython.core.display.HTML object>"
      ]
     },
     "metadata": {},
     "output_type": "display_data"
    },
    {
     "name": "stdout",
     "output_type": "stream",
     "text": [
      "Termes indexés : ['santé', 'génération', 'générations futures', 'futures', 'résidus', 'résidus de pesticides', 'pesticides', 'aliments'] \n",
      "\n",
      "Termes spécifiques présents : ['générations futures', 'résidus de pesticides', 'pesticides'] \n",
      "\n",
      "Termes spécifiques absents : {'roundup', 'monsanto', 'victimes de pesticides', 'paul françois', 'céréalier charentais', 'agriculture biologique', 'syngenta', 'autorité européenne', 'monde selon monsanto', 'jeune femme', 'lasso', 'miel', 'parasite', 'céréaliers', 'procès', 'victimes', 'effet'} \n",
      "\n"
     ]
    },
    {
     "data": {
      "text/html": [
       "Choisir de manger bio, c'est protéger sa <mark style=\"background-color:yellow\">santé</mark>\n",
       "L'association <mark style=\"background-color:yellow\">génération</mark>s <mark style=\"background-color:yellow\">futures</mark> a effectué des tests comparant un menu conventionnel et un menu bio : le résultat est sans appel, le menu bio ne contenant quasiment aucun <mark style=\"background-color:yellow\">résidus</mark> de <mark style=\"background-color:pink\">pesticides</mark>. \"Il y a 223 fois moins de <mark style=\"background-color:yellow\">résidus</mark> de <mark style=\"background-color:pink\">pesticides</mark> en moyenne dans les <mark style=\"background-color:yellow\">aliments</mark> bio analysés que dans les a...\n",
       "bioaddict.fr\n",
       "Mangez bio, c'est bon pour la <mark style=\"background-color:yellow\">santé</mark> ! Et ça, c'est vachement bien !"
      ],
      "text/plain": [
       "<IPython.core.display.HTML object>"
      ]
     },
     "metadata": {},
     "output_type": "display_data"
    },
    {
     "data": {
      "text/html": [
       "<h2 style='text-align:center;'> Texte 413856 (58 sur 84)</h2>"
      ],
      "text/plain": [
       "<IPython.core.display.HTML object>"
      ]
     },
     "metadata": {},
     "output_type": "display_data"
    },
    {
     "data": {
      "text/html": [
       "<strong>Segment :</strong> 0"
      ],
      "text/plain": [
       "<IPython.core.display.HTML object>"
      ]
     },
     "metadata": {},
     "output_type": "display_data"
    },
    {
     "data": {
      "text/html": [
       "<strong>Date :</strong> 2012-01-09"
      ],
      "text/plain": [
       "<IPython.core.display.HTML object>"
      ]
     },
     "metadata": {},
     "output_type": "display_data"
    },
    {
     "data": {
      "text/html": [
       "<strong>Auteur :</strong> eco-SAPIENS \n"
      ],
      "text/plain": [
       "<IPython.core.display.HTML object>"
      ]
     },
     "metadata": {},
     "output_type": "display_data"
    },
    {
     "name": "stdout",
     "output_type": "stream",
     "text": [
      "Termes indexés : ['pesticides', 'parasite', 'effet'] \n",
      "\n",
      "Termes spécifiques présents : ['pesticides', 'parasite', 'effet'] \n",
      "\n",
      "Termes spécifiques absents : {'roundup', 'monsanto', 'victimes de pesticides', 'paul françois', 'céréalier charentais', 'agriculture biologique', 'syngenta', 'autorité européenne', 'monde selon monsanto', 'jeune femme', 'lasso', 'miel', 'générations futures', 'céréaliers', 'résidus de pesticides', 'procès', 'victimes'} \n",
      "\n"
     ]
    },
    {
     "data": {
      "text/html": [
       "eco-SAPIENS - Les saumons d'élevage, gavés aux <mark style=\"background-color:pink\">pesticides</mark> ?\n",
       "Actualité eco-sapiens Les saumons d'élevage, gavés aux <mark style=\"background-color:pink\">pesticides</mark> ?. Depuis plusieurs mois, le saumon d'élevage norvégien est nourri aux <mark style=\"background-color:pink\">pesticides</mark>. C'est la seule solution qu'auraient trouvée les pisciculteurs pour lutter contre un <mark style=\"background-color:pink\">parasite</mark> naturel. Avec de possibles <mark style=\"background-color:pink\">effet</mark>s cancérogènes pour l'homm...\n",
       "eco-sapiens.com\n",
       "Bons souvenirs de cantine... http://s.coop/7tx7 Où l'on apprend au passage que l'on peut avoir des poux sans avoir de cheveux (à moins que les saumons aient véritablement muté...)"
      ],
      "text/plain": [
       "<IPython.core.display.HTML object>"
      ]
     },
     "metadata": {},
     "output_type": "display_data"
    },
    {
     "data": {
      "text/html": [
       "<h2 style='text-align:center;'> Texte 413854 (59 sur 84)</h2>"
      ],
      "text/plain": [
       "<IPython.core.display.HTML object>"
      ]
     },
     "metadata": {},
     "output_type": "display_data"
    },
    {
     "data": {
      "text/html": [
       "<strong>Segment :</strong> 0"
      ],
      "text/plain": [
       "<IPython.core.display.HTML object>"
      ]
     },
     "metadata": {},
     "output_type": "display_data"
    },
    {
     "data": {
      "text/html": [
       "<strong>Date :</strong> 2012-01-09"
      ],
      "text/plain": [
       "<IPython.core.display.HTML object>"
      ]
     },
     "metadata": {},
     "output_type": "display_data"
    },
    {
     "data": {
      "text/html": [
       "<strong>Auteur :</strong> Générations Futures (ex MDRGF) \n"
      ],
      "text/plain": [
       "<IPython.core.display.HTML object>"
      ]
     },
     "metadata": {},
     "output_type": "display_data"
    },
    {
     "name": "stdout",
     "output_type": "stream",
     "text": [
      "Termes indexés : ['effet', 'roundup', 'ogm', 'scientifiques', 'production', 'avis'] \n",
      "\n",
      "Termes spécifiques présents : ['effet', 'roundup'] \n",
      "\n",
      "Termes spécifiques absents : {'monsanto', 'pesticides', 'victimes de pesticides', 'paul françois', 'céréalier charentais', 'agriculture biologique', 'syngenta', 'autorité européenne', 'monde selon monsanto', 'jeune femme', 'lasso', 'miel', 'générations futures', 'parasite', 'céréaliers', 'résidus de pesticides', 'procès', 'victimes'} \n",
      "\n"
     ]
    },
    {
     "data": {
      "text/html": [
       "\n",
       "\n",
       "\n",
       "Nous avons le plaisir de vous informer que le 19/12/2011 l'évaluation nationale du dossier de candidature du Pr. Gilles-Eric Séralini (expert sur les <mark style=\"background-color:pink\">effet</mark>s de l'herbicide <mark style=\"background-color:pink\">roundup</mark> et sur la question des <mark style=\"background-color:yellow\">ogm</mark>) concernant la prime d'excellence scientifique a permis de lui attribuer la note la plus haute AAAAA aux critères de publications et <mark style=\"background-color:yellow\">production</mark> scientifique, encadrement doctoral et scientifique, rayonnement, responsabilité scientifique et <mark style=\"background-color:yellow\">avis</mark> général du Comité d'évaluation. La France (et Sarko) avec son modeste triple A peut aller se rhabiller !"
      ],
      "text/plain": [
       "<IPython.core.display.HTML object>"
      ]
     },
     "metadata": {},
     "output_type": "display_data"
    },
    {
     "data": {
      "text/html": [
       "<h2 style='text-align:center;'> Texte 413853 (60 sur 84)</h2>"
      ],
      "text/plain": [
       "<IPython.core.display.HTML object>"
      ]
     },
     "metadata": {},
     "output_type": "display_data"
    },
    {
     "data": {
      "text/html": [
       "<strong>Segment :</strong> 0"
      ],
      "text/plain": [
       "<IPython.core.display.HTML object>"
      ]
     },
     "metadata": {},
     "output_type": "display_data"
    },
    {
     "data": {
      "text/html": [
       "<strong>Date :</strong> 2012-01-09"
      ],
      "text/plain": [
       "<IPython.core.display.HTML object>"
      ]
     },
     "metadata": {},
     "output_type": "display_data"
    },
    {
     "data": {
      "text/html": [
       "<strong>Auteur :</strong> Semaine pour les alternatives aux pesticides \n"
      ],
      "text/plain": [
       "<IPython.core.display.HTML object>"
      ]
     },
     "metadata": {},
     "output_type": "display_data"
    },
    {
     "name": "stdout",
     "output_type": "stream",
     "text": [
      "Termes indexés : ['effet', 'roundup', 'ogm', 'scientifiques', 'production', 'avis'] \n",
      "\n",
      "Termes spécifiques présents : ['effet', 'roundup'] \n",
      "\n",
      "Termes spécifiques absents : {'monsanto', 'pesticides', 'victimes de pesticides', 'paul françois', 'céréalier charentais', 'agriculture biologique', 'syngenta', 'autorité européenne', 'monde selon monsanto', 'jeune femme', 'lasso', 'miel', 'générations futures', 'parasite', 'céréaliers', 'résidus de pesticides', 'procès', 'victimes'} \n",
      "\n"
     ]
    },
    {
     "data": {
      "text/html": [
       "\n",
       "\n",
       "\n",
       "Nous avons le plaisir de vous informer que le 19/12/2011 l'évaluation nationale du dossier de candidature du Pr. Gilles-Eric Séralini (expert sur les <mark style=\"background-color:pink\">effet</mark>s de l'herbicide <mark style=\"background-color:pink\">roundup</mark> et sur la question des <mark style=\"background-color:yellow\">ogm</mark>) concernant la prime d'excellence scientifique a permis de lui attribuer la note la plus haute AAAAA aux critères de publications et <mark style=\"background-color:yellow\">production</mark> scientifique, encadrement doctoral et scientifique, rayonnement, responsabilité scientifique et <mark style=\"background-color:yellow\">avis</mark> général du Comité d'évaluation. La France (et Sarko) avec son modeste triple A peut aller se rhabiller !"
      ],
      "text/plain": [
       "<IPython.core.display.HTML object>"
      ]
     },
     "metadata": {},
     "output_type": "display_data"
    },
    {
     "data": {
      "text/html": [
       "<h2 style='text-align:center;'> Texte 413851 (61 sur 84)</h2>"
      ],
      "text/plain": [
       "<IPython.core.display.HTML object>"
      ]
     },
     "metadata": {},
     "output_type": "display_data"
    },
    {
     "data": {
      "text/html": [
       "<strong>Segment :</strong> 0"
      ],
      "text/plain": [
       "<IPython.core.display.HTML object>"
      ]
     },
     "metadata": {},
     "output_type": "display_data"
    },
    {
     "data": {
      "text/html": [
       "<strong>Date :</strong> 2012-01-09"
      ],
      "text/plain": [
       "<IPython.core.display.HTML object>"
      ]
     },
     "metadata": {},
     "output_type": "display_data"
    },
    {
     "data": {
      "text/html": [
       "<strong>Auteur :</strong> Boycottons l'alimentation industrielle / Boycott industrial food \n"
      ],
      "text/plain": [
       "<IPython.core.display.HTML object>"
      ]
     },
     "metadata": {},
     "output_type": "display_data"
    },
    {
     "name": "stdout",
     "output_type": "stream",
     "text": [
      "Termes indexés : ['pesticides', 'alimentation', 'cancers', 'parasite', 'effet'] \n",
      "\n",
      "Termes spécifiques présents : ['pesticides', 'parasite', 'effet'] \n",
      "\n",
      "Termes spécifiques absents : {'roundup', 'monsanto', 'victimes de pesticides', 'paul françois', 'céréalier charentais', 'agriculture biologique', 'syngenta', 'autorité européenne', 'monde selon monsanto', 'jeune femme', 'lasso', 'miel', 'générations futures', 'céréaliers', 'résidus de pesticides', 'procès', 'victimes'} \n",
      "\n"
     ]
    },
    {
     "data": {
      "text/html": [
       "Les saumons d'élevage, gavés aux <mark style=\"background-color:pink\">pesticides</mark> ? - <mark style=\"background-color:yellow\">alimentation</mark> - Basta !\n",
       "On le dit bon pour le cœur, la circulation et la lutte contre certains <mark style=\"background-color:yellow\">cancers</mark>. Le saumon, paré de ses vertus en Oméga-3, cache pourtant une autre (...)\n",
       "bastamag.net\n",
       "On le dit bon pour le cœur, la circulation et la lutte contre certains <mark style=\"background-color:yellow\">cancers</mark>. Le saumon, paré de ses vertus en oméga-3, cache pourtant une autre réalité. Depuis plusieurs mois, le saumon d’élevage norvégien est nourri aux <mark style=\"background-color:pink\">pesticides</mark>. C’est la seule solution qu’auraient trouvée les pisciculteurs pour lutter contre un <mark style=\"background-color:pink\">parasite</mark> naturel. Avec de possibles <mark style=\"background-color:pink\">effet</mark>s cancérogènes pour l’homme. Et une catastrophe environnementale avérée pour la faune aquatique."
      ],
      "text/plain": [
       "<IPython.core.display.HTML object>"
      ]
     },
     "metadata": {},
     "output_type": "display_data"
    },
    {
     "data": {
      "text/html": [
       "<h2 style='text-align:center;'> Texte 413848 (62 sur 84)</h2>"
      ],
      "text/plain": [
       "<IPython.core.display.HTML object>"
      ]
     },
     "metadata": {},
     "output_type": "display_data"
    },
    {
     "data": {
      "text/html": [
       "<strong>Segment :</strong> 0"
      ],
      "text/plain": [
       "<IPython.core.display.HTML object>"
      ]
     },
     "metadata": {},
     "output_type": "display_data"
    },
    {
     "data": {
      "text/html": [
       "<strong>Date :</strong> 2012-01-10"
      ],
      "text/plain": [
       "<IPython.core.display.HTML object>"
      ]
     },
     "metadata": {},
     "output_type": "display_data"
    },
    {
     "data": {
      "text/html": [
       "<strong>Auteur :</strong> PRANA Organic \n"
      ],
      "text/plain": [
       "<IPython.core.display.HTML object>"
      ]
     },
     "metadata": {},
     "output_type": "display_data"
    },
    {
     "name": "stdout",
     "output_type": "stream",
     "text": [
      "Termes indexés : ['pesticides', 'développement', 'foetus', 'effet'] \n",
      "\n",
      "Termes spécifiques présents : ['pesticides', 'effet'] \n",
      "\n",
      "Termes spécifiques absents : {'roundup', 'monsanto', 'victimes de pesticides', 'paul françois', 'céréalier charentais', 'agriculture biologique', 'syngenta', 'autorité européenne', 'monde selon monsanto', 'jeune femme', 'lasso', 'miel', 'générations futures', 'parasite', 'céréaliers', 'résidus de pesticides', 'procès', 'victimes'} \n",
      "\n"
     ]
    },
    {
     "data": {
      "text/html": [
       "<mark style=\"background-color:pink\">pesticides</mark> et <mark style=\"background-color:yellow\">développement</mark> du <mark style=\"background-color:yellow\">foetus</mark>\n",
       "Les <mark style=\"background-color:pink\">pesticides</mark> peuvent perturber le <mark style=\"background-color:yellow\">développement</mark> du <mark style=\"background-color:yellow\">foetus</mark>. Etude du rôle des <mark style=\"background-color:pink\">pesticides</mark>.\n",
       "mdrgf.org\n",
       "Voyez les <mark style=\"background-color:pink\">effet</mark>s dévastateurs que peut avoir les <mark style=\"background-color:pink\">pesticides</mark> sur le <mark style=\"background-color:yellow\">développement</mark> de l'enfant"
      ],
      "text/plain": [
       "<IPython.core.display.HTML object>"
      ]
     },
     "metadata": {},
     "output_type": "display_data"
    },
    {
     "data": {
      "text/html": [
       "<h2 style='text-align:center;'> Texte 413846 (63 sur 84)</h2>"
      ],
      "text/plain": [
       "<IPython.core.display.HTML object>"
      ]
     },
     "metadata": {},
     "output_type": "display_data"
    },
    {
     "data": {
      "text/html": [
       "<strong>Segment :</strong> 0"
      ],
      "text/plain": [
       "<IPython.core.display.HTML object>"
      ]
     },
     "metadata": {},
     "output_type": "display_data"
    },
    {
     "data": {
      "text/html": [
       "<strong>Date :</strong> 2012-01-10"
      ],
      "text/plain": [
       "<IPython.core.display.HTML object>"
      ]
     },
     "metadata": {},
     "output_type": "display_data"
    },
    {
     "data": {
      "text/html": [
       "<strong>Auteur :</strong> Biocoop Casabio \n"
      ],
      "text/plain": [
       "<IPython.core.display.HTML object>"
      ]
     },
     "metadata": {},
     "output_type": "display_data"
    },
    {
     "name": "stdout",
     "output_type": "stream",
     "text": [
      "Termes indexés : ['pesticides', 'génération', 'générations futures', 'futures', 'résidus', 'résidus de pesticides'] \n",
      "\n",
      "Termes spécifiques présents : ['pesticides', 'générations futures', 'résidus de pesticides'] \n",
      "\n",
      "Termes spécifiques absents : {'roundup', 'monsanto', 'victimes de pesticides', 'paul françois', 'céréalier charentais', 'agriculture biologique', 'syngenta', 'autorité européenne', 'monde selon monsanto', 'jeune femme', 'lasso', 'miel', 'parasite', 'céréaliers', 'procès', 'victimes', 'effet'} \n",
      "\n"
     ]
    },
    {
     "data": {
      "text/html": [
       "Cela vaut-il le coup de manger bio pour éviter les <mark style=\"background-color:pink\">pesticides</mark> ? / France Inter\n",
       "Zéro résidu de <mark style=\"background-color:pink\">pesticides</mark> dans les fruits et légumes bio analysés, contre 37 dans les conventionnels : c'est le principal enseignement de l'étude comparée menée par <mark style=\"background-color:yellow\">génération</mark>s <mark style=\"background-color:yellow\">futures</mark>.\n",
       "franceinter.fr\n",
       "Résultat sans appel en faveur du BIO : 233 fois moins de <mark style=\"background-color:yellow\">résidus</mark> de <mark style=\"background-color:pink\">pesticides</mark> que ceux issus de l'agriculture classique."
      ],
      "text/plain": [
       "<IPython.core.display.HTML object>"
      ]
     },
     "metadata": {},
     "output_type": "display_data"
    },
    {
     "data": {
      "text/html": [
       "<h2 style='text-align:center;'> Texte 413845 (64 sur 84)</h2>"
      ],
      "text/plain": [
       "<IPython.core.display.HTML object>"
      ]
     },
     "metadata": {},
     "output_type": "display_data"
    },
    {
     "data": {
      "text/html": [
       "<strong>Segment :</strong> 0"
      ],
      "text/plain": [
       "<IPython.core.display.HTML object>"
      ]
     },
     "metadata": {},
     "output_type": "display_data"
    },
    {
     "data": {
      "text/html": [
       "<strong>Date :</strong> 2012-01-11"
      ],
      "text/plain": [
       "<IPython.core.display.HTML object>"
      ]
     },
     "metadata": {},
     "output_type": "display_data"
    },
    {
     "data": {
      "text/html": [
       "<strong>Auteur :</strong> Cannabis therapeutique... \n"
      ],
      "text/plain": [
       "<IPython.core.display.HTML object>"
      ]
     },
     "metadata": {},
     "output_type": "display_data"
    },
    {
     "name": "stdout",
     "output_type": "stream",
     "text": [
      "Termes indexés : ['graines', 'monde', 'santé', 'aliments', 'écologique', 'protéines', 'production', 'mouvements', 'énergie', 'eau', 'traitements', 'effet', 'systèmes', 'composition', 'viandes', 'œuf', 'pesticides', 'planète'] \n",
      "\n",
      "Termes spécifiques présents : ['effet', 'pesticides'] \n",
      "\n",
      "Termes spécifiques absents : {'roundup', 'monsanto', 'victimes de pesticides', 'paul françois', 'céréalier charentais', 'agriculture biologique', 'syngenta', 'autorité européenne', 'monde selon monsanto', 'jeune femme', 'lasso', 'miel', 'générations futures', 'parasite', 'céréaliers', 'résidus de pesticides', 'procès', 'victimes'} \n",
      "\n"
     ]
    },
    {
     "data": {
      "text/html": [
       "\n",
       "\n",
       "\n",
       "<mark style=\"background-color:yellow\">graines</mark> de Chanvre: la source de nourriture plus nutritionnellement complète au <mark style=\"background-color:yellow\">monde</mark>! Publié dans <mark style=\"background-color:yellow\">santé</mark> & Nutrition , Superfoods Recevez les dernières nouvelles sur la <mark style=\"background-color:yellow\">santé</mark>, la nutrition, les <mark style=\"background-color:yellow\">aliments</mark> biologiques, super<mark style=\"background-color:yellow\">aliments</mark>, mode de vie <mark style=\"background-color:yellow\">écologique</mark>, des remèdes naturels, des critiques de produits et plus encore! Cette information vous permettent de faire des changements positifs dans votre vie. (OrganicJar) <mark style=\"background-color:yellow\">graines</mark> de chanvre, sont la source alimentaire la plus nutritionnellement complet dans le <mark style=\"background-color:yellow\">monde</mark>! Le chanvre a été mangé depuis des milliers d'années dans différentes parties du <mark style=\"background-color:yellow\">monde</mark>. C'est la graine que l'on mange, et il est bénéfique en termes de <mark style=\"background-color:yellow\">protéines</mark> et d'acides gras essentiels. Il ya des preuves qui remonte des milliers d'années qu'il étaitconsommés en Chine et dans différents endroits à travers le <mark style=\"background-color:yellow\">monde</mark> pour les prestations de <mark style=\"background-color:yellow\">santé</mark> là-bas. Les <mark style=\"background-color:yellow\">graines</mark> de chanvre ont une nutritionnelles étonnantes équilibrée maquillage. Elle est l'une des sources les plus concentrées, complète et équilibrée le règne végétal de l'ensemble des 10 acides aminés essentiels (AAE) et des acides gras essentiels (AGE) qui sont nécessaires pour maintenir une saine vie humaine. Vous pouvez le diviser grosso modo en trois composantes. Premièrement : Il ya les acides gras essentiels dans l'huile - oméga-6, oméga-3, oméga-9 - et aussi acides gras mineurs comme l'acide gamma-linolénique (GLA) et l'acide stéaridonique, qui est synthétisé à partir de l'acide alpha-linolénique ( ALA). GLA et ALA ne peut être faite par le corps humain et doit être obtenu par l'alimentation, ils sont donc appelés acides gras essentiels (AGE). GLA et ALA sont les acides gras les plus importants en matière de nutrition humaine et la <mark style=\"background-color:yellow\">santé</mark>. Ils sont impliqués dans la <mark style=\"background-color:yellow\">production</mark> de l'<mark style=\"background-color:yellow\">énergie</mark> vitale de l'alimentation et le mouvement de cette <mark style=\"background-color:yellow\">énergie</mark> dans tout le corps. AGE régissent la croissance, la vitalité et l'état d'esprit. Pourtant, c'est b<mark style=\"background-color:yellow\">eau</mark>coup d'inconnues au sujet de leur fonctionnement dans le corps. Cette huile est composée de 35% du poids total de <mark style=\"background-color:yellow\">graines</mark> et a la plus faible quantité d'acides gras saturés à 8%, et la plus grande quantité d'acides gras polyinsaturés essentiels à 80%. L'huile de lin vient en second avec 72% total combiné des acides gras essentiels. Deuxièmement : 35% se compose essentiellement de fibres, solubles et insolubles. Les fibres insolubles possède passive <mark style=\"background-color:yellow\">eau</mark> attirant des propriétés qui aident à augmenter le volume, ramollir les selles et raccourcir le temps de transit dans le tractus intestinal. Les fibres solubles subit un traitement métabolique par la fermentation, ce qui donne des produits finis avec de larges <mark style=\"background-color:pink\">effet</mark>s sur la <mark style=\"background-color:yellow\">santé</mark> significatifs. Troisièmement : 25% se compose d'une protéine complète et hautement digestible, 65% de <mark style=\"background-color:yellow\">protéines</mark> de haute qualité édestine, la protéine la plus puissante de toute source végétale, 35% de <mark style=\"background-color:yellow\">protéines</mark> d'albumine et d'acide glutamique. Le édestine globuline dans <mark style=\"background-color:yellow\">graines</mark> de chanvre ressemble étroitement la globuline dans le plasma sanguin, et est compatible avec le système digestif humain. Il est vital pour le maintien d'un système immunitaire sain et est également utilisé pour fabriquer des anticorps. L'albumine est une protéine fabriquée par le foie qui est favorable à la <mark style=\"background-color:yellow\">santé</mark> du foie et du rein. Sa <mark style=\"background-color:yellow\">composition</mark> élevée en acide aminé de la qualité est plus proche de «compléter» les sources de <mark style=\"background-color:yellow\">protéines</mark> (viande, lait, <mark style=\"background-color:yellow\">œuf</mark>s) que toutes les autres <mark style=\"background-color:yellow\">graines</mark> oléagineuses, sauf le quinoa et de soja. Les <mark style=\"background-color:yellow\">graines</mark> de chanvre sont également riches en nutriments essentiels, y compris la chlorophylle, le magnésium, le potassium, le soufre, les phytostérols, l'acide ascorbique, le bêta-carotène, calcium, fibres, l'histidine, fer, potassium, phosphore, de riboflavine, de niacine et de thiamine. Oméga 3 et Oméga 6 Ratio: Une variété d'études ont documenté l'importance du ratio d'acides gras oméga 3 et les oméga 6 de la consommation. Huile de graine de chanvre est la plus proche de ce ratio optimal de toutes les huiles d'origine naturelle. L'huile de chanvre a un ratio d'au moins un à trois, Oméga 3 et Oméga 6. Huiles avec des ratios déséquilibrés ont été montré pour avoir des <mark style=\"background-color:pink\">effet</mark>s préjudiciables physiologiques. Mes pensées: J'aime les <mark style=\"background-color:yellow\">graines</mark> de chanvre et de mon produit préféré est « organique <mark style=\"background-color:yellow\">graines</mark> de chanvre décortiquées »de Nutiva . Les <mark style=\"background-color:yellow\">graines</mark> de chanvre ont un goût de noisette avec une grande variété d'utilisations. Nutiva utilise meilleurs ingrédients certifiés biologiques, il semences biologiques sont cultivés sans <mark style=\"background-color:pink\">pesticides</mark> chimiques, d'herbicides ou d'engrais chimique et il n'est pas génétiquement modifiés-sûr pour vous et la <mark style=\"background-color:yellow\">planète</mark>. Il ya des produits certifiés par Quality Assurance International (QAI)-qui est un certificateur agréé USDA organiques. Nutiva chanvre Chart nutrition Semences Une autre excellente façon d'obtenir des avantages pour la <mark style=\"background-color:yellow\">santé</mark> des <mark style=\"background-color:yellow\">graines</mark> de chanvre est d'acheter, \" huile pressée à froid de <mark style=\"background-color:yellow\">graines</mark> de chanvre », qui est une (truncated)"
      ],
      "text/plain": [
       "<IPython.core.display.HTML object>"
      ]
     },
     "metadata": {},
     "output_type": "display_data"
    },
    {
     "data": {
      "text/html": [
       "<h2 style='text-align:center;'> Texte 413834 (65 sur 84)</h2>"
      ],
      "text/plain": [
       "<IPython.core.display.HTML object>"
      ]
     },
     "metadata": {},
     "output_type": "display_data"
    },
    {
     "data": {
      "text/html": [
       "<strong>Segment :</strong> 0"
      ],
      "text/plain": [
       "<IPython.core.display.HTML object>"
      ]
     },
     "metadata": {},
     "output_type": "display_data"
    },
    {
     "data": {
      "text/html": [
       "<strong>Date :</strong> 2012-01-12"
      ],
      "text/plain": [
       "<IPython.core.display.HTML object>"
      ]
     },
     "metadata": {},
     "output_type": "display_data"
    },
    {
     "data": {
      "text/html": [
       "<strong>Auteur :</strong> Région Sud Provence-Alpes-Côte d'Azur \n"
      ],
      "text/plain": [
       "<IPython.core.display.HTML object>"
      ]
     },
     "metadata": {},
     "output_type": "display_data"
    },
    {
     "name": "stdout",
     "output_type": "stream",
     "text": [
      "Termes indexés : ['pesticides', 'effet', 'pollution', 'eau', 'air', 'milieu', 'santé', 'santé publique'] \n",
      "\n",
      "Termes spécifiques présents : ['pesticides', 'effet'] \n",
      "\n",
      "Termes spécifiques absents : {'roundup', 'monsanto', 'victimes de pesticides', 'paul françois', 'céréalier charentais', 'agriculture biologique', 'syngenta', 'autorité européenne', 'monde selon monsanto', 'jeune femme', 'lasso', 'miel', 'générations futures', 'parasite', 'céréaliers', 'résidus de pesticides', 'procès', 'victimes'} \n",
      "\n"
     ]
    },
    {
     "data": {
      "text/html": [
       "Une charte pour réduire l’usage des <mark style=\"background-color:pink\">pesticides</mark> en Provence-Alpes-Côte d’Azur\n",
       "En <mark style=\"background-color:pink\">effet</mark>, l’usage des produits phytosanit<mark style=\"background-color:yellow\">air</mark>es utilisés sur les zones non agricoles par les collectivités locales ou leur groupement ou par des particuliers a des conséquences en termes de <mark style=\"background-color:yellow\">pollution</mark>s des ressources naturelles (<mark style=\"background-color:yellow\">eau</mark>, sols, <mark style=\"background-color:yellow\">air</mark>, <mark style=\"background-color:yellow\">milieu</mark>x naturels et urbains) et de <mark style=\"background-color:yellow\">santé</mark> publique.\n",
       "regionpaca.fr\n",
       "Une charte pour réduire l’usage des <mark style=\"background-color:pink\">pesticides</mark> en Provence-Alpes-Côte d’Azur. Plus d'infos : http://goo.gl/4fniH"
      ],
      "text/plain": [
       "<IPython.core.display.HTML object>"
      ]
     },
     "metadata": {},
     "output_type": "display_data"
    },
    {
     "data": {
      "text/html": [
       "<h2 style='text-align:center;'> Texte 413817 (66 sur 84)</h2>"
      ],
      "text/plain": [
       "<IPython.core.display.HTML object>"
      ]
     },
     "metadata": {},
     "output_type": "display_data"
    },
    {
     "data": {
      "text/html": [
       "<strong>Segment :</strong> 0"
      ],
      "text/plain": [
       "<IPython.core.display.HTML object>"
      ]
     },
     "metadata": {},
     "output_type": "display_data"
    },
    {
     "data": {
      "text/html": [
       "<strong>Date :</strong> 2012-01-14"
      ],
      "text/plain": [
       "<IPython.core.display.HTML object>"
      ]
     },
     "metadata": {},
     "output_type": "display_data"
    },
    {
     "data": {
      "text/html": [
       "<strong>Auteur :</strong> Ingénieur d'Etat en Agronomie 07000 \n"
      ],
      "text/plain": [
       "<IPython.core.display.HTML object>"
      ]
     },
     "metadata": {},
     "output_type": "display_data"
    },
    {
     "name": "stdout",
     "output_type": "stream",
     "text": [
      "Termes indexés : ['parasite', 'effet', 'récolte', 'réglementation', 'pratiques'] \n",
      "\n",
      "Termes spécifiques présents : ['parasite', 'effet'] \n",
      "\n",
      "Termes spécifiques absents : {'roundup', 'monsanto', 'pesticides', 'victimes de pesticides', 'paul françois', 'céréalier charentais', 'agriculture biologique', 'syngenta', 'autorité européenne', 'monde selon monsanto', 'jeune femme', 'lasso', 'miel', 'générations futures', 'céréaliers', 'résidus de pesticides', 'procès', 'victimes'} \n",
      "\n"
     ]
    },
    {
     "data": {
      "text/html": [
       "\n",
       "Je Lutte Contre Tous Les <mark style=\"background-color:pink\">parasite</mark>s\n",
       "De Vecchi | 22/04/2008 | ISBN:2732891924 | 95 pages | PDF | 6 MB\n",
       "\n",
       "Les <mark style=\"background-color:pink\">parasite</mark>s sont la hantise de tous les jardiniers.\n",
       "Outre leurs <mark style=\"background-color:pink\">effet</mark>s inesthétiques, ils causent souvent des dégâts irréversibles qui compromettent la <mark style=\"background-color:yellow\">récolte</mark> des légumes, la cueillette des fruits ou la floraison des rosiers. Dans cet ouvrage abondamment illustré l'auteur vous apprend à reconnaître les <mark style=\"background-color:pink\">parasite</mark>s du jardin et à lutter efficacement contre leur prolifération avec des méthodes qui respectent la <mark style=\"background-color:yellow\">réglementation</mark> phytosanitaire en vigueur.\n",
       "Grâce aux conseils <mark style=\"background-color:yellow\">pratiques</mark> livrés dans ces pages et aux nombreuses astuces pour éloigner les <mark style=\"background-color:pink\">parasite</mark>s de vos plantations et grâce aux nombreuses fiches techniques, vous ferez s'épanouir toutes les beautés de vos parterres tout en respectant scrupuleusement l'écosystème. faune et flore cohabiteront ainsi dans une parfaite harmonie.\n",
       "\n",
       "\n",
       "Téléchargé le Livre\n",
       "http://uploading.com/files/e281am5b/<mark style=\"background-color:pink\">parasite</mark>s.rar/\n",
       "\n",
       "Lutte Contre Tous Les <mark style=\"background-color:pink\">parasite</mark>s"
      ],
      "text/plain": [
       "<IPython.core.display.HTML object>"
      ]
     },
     "metadata": {},
     "output_type": "display_data"
    },
    {
     "data": {
      "text/html": [
       "<h2 style='text-align:center;'> Texte 413818 (67 sur 84)</h2>"
      ],
      "text/plain": [
       "<IPython.core.display.HTML object>"
      ]
     },
     "metadata": {},
     "output_type": "display_data"
    },
    {
     "data": {
      "text/html": [
       "<strong>Segment :</strong> 0"
      ],
      "text/plain": [
       "<IPython.core.display.HTML object>"
      ]
     },
     "metadata": {},
     "output_type": "display_data"
    },
    {
     "data": {
      "text/html": [
       "<strong>Date :</strong> 2012-01-14"
      ],
      "text/plain": [
       "<IPython.core.display.HTML object>"
      ]
     },
     "metadata": {},
     "output_type": "display_data"
    },
    {
     "data": {
      "text/html": [
       "<strong>Auteur :</strong> Let's save our Earth - Sauvons notre planète - 让我们拯救我们的地球。 \n"
      ],
      "text/plain": [
       "<IPython.core.display.HTML object>"
      ]
     },
     "metadata": {},
     "output_type": "display_data"
    },
    {
     "name": "stdout",
     "output_type": "stream",
     "text": [
      "Termes indexés : ['abeilles', 'monde', 'écologique', 'effet', 'plantes', 'production', 'europe', 'apiculteur', 'insectes', 'pesticides', 'chercheuse', 'bayer', 'ruches', 'syndrome', 'maladie', 'population', \"colonies d'abeilles\", 'miel', 'frelon', 'parasite', 'disparition', 'études'] \n",
      "\n",
      "Termes spécifiques présents : ['effet', 'pesticides', 'miel', 'parasite'] \n",
      "\n",
      "Termes spécifiques absents : {'roundup', 'monsanto', 'victimes de pesticides', 'paul françois', 'céréalier charentais', 'agriculture biologique', 'syngenta', 'autorité européenne', 'monde selon monsanto', 'jeune femme', 'lasso', 'générations futures', 'céréaliers', 'résidus de pesticides', 'procès', 'victimes'} \n",
      "\n"
     ]
    },
    {
     "data": {
      "text/html": [
       "\n",
       "\n",
       "\n",
       "Fin des <mark style=\"background-color:yellow\">abeilles</mark> = fin du <mark style=\"background-color:yellow\">monde</mark> ? Oui bon, c’est peut-être un peu exagéré. Quoique…sans les <mark style=\"background-color:yellow\">abeilles</mark>, l’équilibre <mark style=\"background-color:yellow\">écologique</mark> serait gravement menacé. En <mark style=\"background-color:pink\">effet</mark>, les <mark style=\"background-color:yellow\">abeilles</mark> ont un rôle essentiel pour la survie des végétaux depuis 50 millions d’années. Ce sont quelque 20 000 végétaux, dont 40% de <mark style=\"background-color:yellow\">plantes</mark> cultivées comme les fruits, légumes ou oléagineux, qui ne vivent que s’ils sont pollinisés par les <mark style=\"background-color:yellow\">abeilles</mark>. Or, depuis plus de 10 ans, c’est l’hécatombe chez les <mark style=\"background-color:yellow\">abeilles</mark> du <mark style=\"background-color:yellow\">monde</mark> entier. Selon l’INRA, la <mark style=\"background-color:yellow\">production</mark> de 84% des espèces cultivées en <mark style=\"background-color:yellow\">europe</mark> dépend directement des pollinisateurs, qui sont à plus de 90% des <mark style=\"background-color:yellow\">abeilles</mark> domestiques et sauvages! Depuis 10 ans, l’apiculture traverse l’une des crises les plus graves de son histoire. En France, un tiers des colonies disparait chaque année depuis 1995 et 1.500 <mark style=\"background-color:yellow\">apiculteur</mark>s, amateurs et professionnels, cessent leur activité ce qui menacerait au total 5.000 emplois. On a découvert que les <mark style=\"background-color:yellow\">abeilles</mark> sont toxico-sensibles et donc plus vulnérables que la plupart des autres <mark style=\"background-color:yellow\">insectes</mark> aux <mark style=\"background-color:pink\">pesticides</mark>. C’est confirmé par le séquençage complet de leur génome réalisé par une équipe de chercheurs internationaux au Texas. Contrairement à la mouche drosophile qui, par exemple, avec 20 gènes de détoxification résiste plutôt bien aux insecticides, l’abeille, avec son unique gène de détoxification, est très sensible aux polluants chimiques. En France, le Gaucho de <mark style=\"background-color:yellow\">bayer</mark> et le Régent de BASF, deux insecticides accusés de ravager les <mark style=\"background-color:yellow\">abeilles</mark>, ont été interdits en 2006 mais malgré tout l’hécatombe se poursuit dans les <mark style=\"background-color:yellow\">ruches</mark>. On ne sait pas bien pourquoi et cela est très préoccupant. Certains <mark style=\"background-color:yellow\">apiculteur</mark>s soupçonnent que les <mark style=\"background-color:pink\">pesticides</mark> toujours utilisés par l’agriculture sont à l’origine de ce qu’on appelle désormais le « <mark style=\"background-color:yellow\">syndrome</mark> d’effondrement des colonies », <mark style=\"background-color:yellow\">maladie</mark> dont on ne sait pas encore grand-chose. Aux USA, le nombre d’<mark style=\"background-color:yellow\">abeilles</mark> a chuté à ce qu’il était en 1939, première année des statistiques américaines. Des mites exotiques ont dévasté les colonies et les <mark style=\"background-color:yellow\">apiculteur</mark>s n’arrivent pas à augmenter leurs <mark style=\"background-color:yellow\">population</mark>s d’<mark style=\"background-color:yellow\">abeilles</mark>. Pourtant un véritable business s’est développé autour de la location de colonies d’<mark style=\"background-color:yellow\">abeilles</mark>. Chaque hiver, des milliers de <mark style=\"background-color:yellow\">ruches</mark> sont transportées de partout aux Etats-Unis, du Dakota à la Floride, pour la pollinisation des vergers d’amandiers en Californie. Près des ¾ des <mark style=\"background-color:yellow\">abeilles</mark> commerciales américaines sont destinées aux amandiers californiens. Elles servent à recueillir le pollen des fleurs d’un arbre pour le déposer sur les fleurs d’un autre ; ce qu’elles sont seules à pouvoir faire. Chaque hiver, 2200 semi remorques pleines de <mark style=\"background-color:yellow\">ruches</mark> soit 10 milliards d’<mark style=\"background-color:yellow\">abeilles</mark> sont amenées en Californie à un prix d’environ 140 € par ruche et à raison de 4 à 6 <mark style=\"background-color:yellow\">ruches</mark> par hectare. La location pour pollinisation est devenue le premier métier des <mark style=\"background-color:yellow\">apiculteur</mark>s américains devant la <mark style=\"background-color:yellow\">production</mark> de <mark style=\"background-color:pink\">miel</mark>. Et cela ne risque pas de changer car les besoins – et donc les prix – augmentent, favorisés par le fait que les <mark style=\"background-color:yellow\">abeilles</mark>, dont la <mark style=\"background-color:yellow\">population</mark> décline, sont très demandées en hiver, époque à laquelle elles devraient hiberner, serrées les unes contre les autres dans la ruche. Le <mark style=\"background-color:yellow\">frelon</mark> asiatique et une mouche <mark style=\"background-color:pink\">parasite</mark> en cause Récemment, d’autres explications ont été données quant à la <mark style=\"background-color:yellow\">disparition</mark> des <mark style=\"background-color:yellow\">abeilles</mark> : - Le <mark style=\"background-color:yellow\">frelon</mark> asiatique est montré du doigt. Cet insecte venu de l’étranger est un prédateur féroce pour les <mark style=\"background-color:yellow\">abeilles</mark> puisqu’il se nourrit de leurs larves. On estime qu’il suffit de dix <mark style=\"background-color:yellow\">frelon</mark>s asiatiques pour décimer une ruche entière. - Une mouche <mark style=\"background-color:pink\">parasite</mark> est également mise en cause depuis peu. Une étude américaine publiée en janvier 2012 a en <mark style=\"background-color:pink\">effet</mark> mis en lumière le rôle néfaste de la mouche Apocephalus borealis. Cette dernière parviendrait à pondre sur l’abdomen de l’abeille ses oeufs. Une fois cela fait, les chercheurs ont observé que l’abeille « infectée » serait désorientée et sortirait de la ruche la nuit jusqu’à mourir . Des idées?"
      ],
      "text/plain": [
       "<IPython.core.display.HTML object>"
      ]
     },
     "metadata": {},
     "output_type": "display_data"
    },
    {
     "data": {
      "text/html": [
       "<h2 style='text-align:center;'> Texte 413808 (68 sur 84)</h2>"
      ],
      "text/plain": [
       "<IPython.core.display.HTML object>"
      ]
     },
     "metadata": {},
     "output_type": "display_data"
    },
    {
     "data": {
      "text/html": [
       "<strong>Segment :</strong> 0"
      ],
      "text/plain": [
       "<IPython.core.display.HTML object>"
      ]
     },
     "metadata": {},
     "output_type": "display_data"
    },
    {
     "data": {
      "text/html": [
       "<strong>Date :</strong> 2012-01-16"
      ],
      "text/plain": [
       "<IPython.core.display.HTML object>"
      ]
     },
     "metadata": {},
     "output_type": "display_data"
    },
    {
     "data": {
      "text/html": [
       "<strong>Auteur :</strong> ITIRI / RéseauxRI \n"
      ],
      "text/plain": [
       "<IPython.core.display.HTML object>"
      ]
     },
     "metadata": {},
     "output_type": "display_data"
    },
    {
     "name": "stdout",
     "output_type": "stream",
     "text": [
      "Termes indexés : ['systèmes', 'pesticides', 'effet', 'transport'] \n",
      "\n",
      "Termes spécifiques présents : ['pesticides', 'effet'] \n",
      "\n",
      "Termes spécifiques absents : {'roundup', 'monsanto', 'victimes de pesticides', 'paul françois', 'céréalier charentais', 'agriculture biologique', 'syngenta', 'autorité européenne', 'monde selon monsanto', 'jeune femme', 'lasso', 'miel', 'générations futures', 'parasite', 'céréaliers', 'résidus de pesticides', 'procès', 'victimes'} \n",
      "\n"
     ]
    },
    {
     "data": {
      "text/html": [
       "\n",
       "\n",
       "\n",
       "Offre de stage: : Mise en place d’un système de veille Lieu: Ivry-sur-Seine Durée : 3 mois min Descriptif: Stage qui s'inscrit dans la problématique des <mark style=\"background-color:pink\">pesticides</mark> et de leurs <mark style=\"background-color:pink\">effet</mark>s sanitaire (rémunéré et prise en charge des frais de <mark style=\"background-color:yellow\">transport</mark>)"
      ],
      "text/plain": [
       "<IPython.core.display.HTML object>"
      ]
     },
     "metadata": {},
     "output_type": "display_data"
    },
    {
     "data": {
      "text/html": [
       "<h2 style='text-align:center;'> Texte 413787 (69 sur 84)</h2>"
      ],
      "text/plain": [
       "<IPython.core.display.HTML object>"
      ]
     },
     "metadata": {},
     "output_type": "display_data"
    },
    {
     "data": {
      "text/html": [
       "<strong>Segment :</strong> 0"
      ],
      "text/plain": [
       "<IPython.core.display.HTML object>"
      ]
     },
     "metadata": {},
     "output_type": "display_data"
    },
    {
     "data": {
      "text/html": [
       "<strong>Date :</strong> 2012-01-19"
      ],
      "text/plain": [
       "<IPython.core.display.HTML object>"
      ]
     },
     "metadata": {},
     "output_type": "display_data"
    },
    {
     "data": {
      "text/html": [
       "<strong>Auteur :</strong> Green Village Maroc \n"
      ],
      "text/plain": [
       "<IPython.core.display.HTML object>"
      ]
     },
     "metadata": {},
     "output_type": "display_data"
    },
    {
     "name": "stdout",
     "output_type": "stream",
     "text": [
      "Termes indexés : ['miel', 'abeilles', 'agriculture biologique', 'ruches', 'production', 'produits chimiques', 'pesticides', 'résistances', 'maladie', 'substances'] \n",
      "\n",
      "Termes spécifiques présents : ['miel', 'agriculture biologique', 'pesticides'] \n",
      "\n",
      "Termes spécifiques absents : {'roundup', 'monsanto', 'victimes de pesticides', 'paul françois', 'céréalier charentais', 'syngenta', 'autorité européenne', 'monde selon monsanto', 'jeune femme', 'lasso', 'générations futures', 'parasite', 'céréaliers', 'résidus de pesticides', 'procès', 'victimes', 'effet'} \n",
      "\n"
     ]
    },
    {
     "data": {
      "text/html": [
       "\n",
       "\n",
       "\n",
       "Qu'est ce que le <mark style=\"background-color:pink\">miel</mark> bio? Ce que l’on exige d’un <mark style=\"background-color:pink\">miel</mark> bio Pour être reconnu bio, un <mark style=\"background-color:pink\">miel</mark> doit remplir plusieurs critères dont les suivants : Durée imposée de conversion du non bio au bio : 1 an. Les <mark style=\"background-color:yellow\">abeilles</mark> butinent sur des zones sauvages ou en <mark style=\"background-color:pink\">agriculture biologique</mark> sur un rayon d’au moins 3 km. Les <mark style=\"background-color:yellow\">ruches</mark> sont placées à une distance suffisante de toutes sortes de <mark style=\"background-color:yellow\">production</mark> non agricole pouvant entraîner une contamination (autoroutes, zones industrielles, décharges, incinérateur…) Aucun produit chimique, antibiotique, pesticide de synthèse n’est autorisé au cours des différents stades de fabrication du <mark style=\"background-color:pink\">miel</mark> bio. Les <mark style=\"background-color:yellow\">abeilles</mark> sont choisies pour leur capacité d’adaptation et de résistance aux <mark style=\"background-color:yellow\">maladie</mark>s et pour leur vitalité. Les <mark style=\"background-color:yellow\">ruches</mark> sont composées de matériaux naturels sans aucun risque de contamination pour l’environnement. Propolis, cire et huiles végétales sont les <mark style=\"background-color:yellow\">substances</mark> naturelles préconisées. L’extraction du <mark style=\"background-color:pink\">miel</mark> se fait à froid. Il n’est jamais chauffé et conserve ainsi toutes ses propriétés nutritionnelles."
      ],
      "text/plain": [
       "<IPython.core.display.HTML object>"
      ]
     },
     "metadata": {},
     "output_type": "display_data"
    },
    {
     "data": {
      "text/html": [
       "<h2 style='text-align:center;'> Texte 413783 (70 sur 84)</h2>"
      ],
      "text/plain": [
       "<IPython.core.display.HTML object>"
      ]
     },
     "metadata": {},
     "output_type": "display_data"
    },
    {
     "data": {
      "text/html": [
       "<strong>Segment :</strong> 0"
      ],
      "text/plain": [
       "<IPython.core.display.HTML object>"
      ]
     },
     "metadata": {},
     "output_type": "display_data"
    },
    {
     "data": {
      "text/html": [
       "<strong>Date :</strong> 2012-01-19"
      ],
      "text/plain": [
       "<IPython.core.display.HTML object>"
      ]
     },
     "metadata": {},
     "output_type": "display_data"
    },
    {
     "data": {
      "text/html": [
       "<strong>Auteur :</strong> Libres de pensées. Contre la banalisation de la misère humaine et animale. \n"
      ],
      "text/plain": [
       "<IPython.core.display.HTML object>"
      ]
     },
     "metadata": {},
     "output_type": "display_data"
    },
    {
     "name": "stdout",
     "output_type": "stream",
     "text": [
      "Termes indexés : ['progrès', 'combat', 'procès', 'travail', 'décision', 'chercheuse', 'population', 'ami', 'dérogation', 'maladie', 'pesticides', 'autorité', 'santé', 'santé publique', 'député'] \n",
      "\n",
      "Termes spécifiques présents : ['procès', 'pesticides'] \n",
      "\n",
      "Termes spécifiques absents : {'roundup', 'monsanto', 'victimes de pesticides', 'paul françois', 'céréalier charentais', 'agriculture biologique', 'syngenta', 'autorité européenne', 'monde selon monsanto', 'jeune femme', 'lasso', 'miel', 'générations futures', 'parasite', 'céréaliers', 'résidus de pesticides', 'victimes', 'effet'} \n",
      "\n"
     ]
    },
    {
     "data": {
      "text/html": [
       "Accueil :: Pièces et Main d'Oeuvre\n",
       "\n",
       "piecesetmaindoeuvre.com\n",
       "Communiqué Clinatec, le laboratoire de la contrainte, inauguré à Grenoble le 31 janvier 2012 D’abord prévue en août, puis septembre 2011, l’inauguration officielle de Clinatec est annoncée le 31 janvier 2012. D’après Les Echos[1] , l’événement aurait les honneurs d’une visite présidentielle. Nicolas Sarkozy ne peut manquer une telle occasion de réaffirmer son soutien à l’innovation et au <mark style=\"background-color:yellow\">progrès</mark>, et son <mark style=\"background-color:yellow\">combat</mark> contre les « peurs moyenâgeuses » et les « <mark style=\"background-color:pink\">procès</mark> en sorcellerie »[2]. En quoi il rejoint totalement, et sur la question centrale de notre époque, les élus et partisans de la gauche sociale-technocrate. On voit qu’on se proclame bien à tort « dans l’opposition » et qu’on en appelle « au changement » pour la vitrine, quand on partage les mêmes ambitions sur la fuite en avant technologique. Aussi bien Michel Destot, maire PS-CEA de Grenoble et strauss-kahnien reconverti, accueillera-t-il le cas échéant avec son habituelle fierté technopolitaine le président de la République, pour saluer de concert les travaux des nanotechnologues et neurotechnologues qu’ils ont, à la demande de ceux-ci, financés et soutenus sans discussion. Ainsi va le <mark style=\"background-color:yellow\">progrès</mark>. Rappelons que la <mark style=\"background-color:yellow\">décision</mark> de créer Clinatec, clinique expérimentale destinée à « nous mettre des nanos dans le cerveau », a été prise par Jean Therme, directeur du Commissariat à l’énergie atomique Grenoble / Minatec, Alim-Louis Benabid, neurochirurgien grenoblois, et deux hauts responsables nationaux du CEA, lors d’une discrète réunion le 2 juin 2006, jour de l’inauguration de Minatec, dans une ville bouclée par les CRS. Scène fondatrice symbolique de l’opacité avec laquelle se prennent les <mark style=\"background-color:yellow\">décision</mark>s techno-industrielles qui, promettent les ingénieurs, « vont révolutionner nos vies ». A Grenoble comme ailleurs, les chercheurs révolutionnent nos vies, puis informent la <mark style=\"background-color:yellow\">population</mark> des innovations à laquelle elle est priée de s’adapter. Ainsi le professeur Benabid tenait-il réunion publique, le 17 janvier 2012, à l’invitation du Groupe <mark style=\"background-color:yellow\">progrès</mark> Solidarité du Grésivaudan – « ancré à gauche », précisait une responsable en ouverture – pour exposer les bienfaits de ses trouvailles. On a depuis longtemps détaillé les promesses des nano-neurotechnologies, et on ne peut que renvoyer à la lecture de « L’industrie de la contrainte » (Pièces et main d’¦uvre et Frédéric Gaillard, éditions l’Echappée, 2011) pour se faire une idée des avancées de l’homme-machine et du monde-machine. On rapportera simplement ici quelques déclarations de M. Benabid lors de cette soirée promotionnelle, devant un public conquis d’avance, puisqu’aux trois-quarts fait de collègues et <mark style=\"background-color:yellow\">ami</mark>s du conférencier : « Avec les électrodes et les implants cérébraux, on peut changer la personnalité de quelqu’un qui était anormal, pour le remettre dans la normalité. On peut faire passer les gens d’un état suicidaire à un état jovial. Faut-il en conclure qu’on peut manipuler les gens et les faire marcher au pas cadencé ? Certes, mais on les fait tellement marcher au pas cadencé par d’autres moyens ». (Rires dans la salle). « Clinatec a été difficile à monter car de nombreux règlements s’imposent, pour lesquels il a fallu demander des <mark style=\"background-color:yellow\">dérogation</mark>s. » Lesquelles, et pourquoi, on l’ignore. Interpellé sur son silence quant aux causes environnementales de plus en plus documentées[3] de l’épidémie de <mark style=\"background-color:yellow\">maladie</mark>s neurologiques (<mark style=\"background-color:pink\">pesticides</mark>, mercure, métaux lourds, etc) - alors qu’il pourrait, en sa qualité de haute <mark style=\"background-color:yellow\">autorité</mark> médicale, demander des mesures d’interdiction des neurotoxiques - le professeur Benabid se défend : « Aller voir les pouvoirs publics, je ne sais pas bien faire ». On en rirait s’il ne s’agissait de <mark style=\"background-color:yellow\">santé</mark> publique, de milliers de malades de Parkinson, d’Alzheimer, de scléroses, d’autisme. Benabid fut collistier de Michel Destot aux dernières municipales et président du comité de soutien de la <mark style=\"background-color:yellow\">député</mark>e PS Geneviève Fioraso, également présidente de la SEM Minatec. Pour ne parler que des élus locaux. Chacun verra, le 31 janvier prochain, à quel point le professeur Benabid a peu l’occasion de s’entretenir avec « les pouvoirs publics ». A condition bien sûr de passer la barrière de CRS qui ne manquera pas d’accompagner l’inauguration de Clinatec. [1] 08/12/11 [2] Voir son discours au Tricastin, le 25/11/11 [3] Voir notamment « Menace sur nos neurones » (M. Grosman, R. Lenglet, Actes Sud, 2011) Merci de faire circuler, "
      ],
      "text/plain": [
       "<IPython.core.display.HTML object>"
      ]
     },
     "metadata": {},
     "output_type": "display_data"
    },
    {
     "data": {
      "text/html": [
       "<h2 style='text-align:center;'> Texte 413777 (71 sur 84)</h2>"
      ],
      "text/plain": [
       "<IPython.core.display.HTML object>"
      ]
     },
     "metadata": {},
     "output_type": "display_data"
    },
    {
     "data": {
      "text/html": [
       "<strong>Segment :</strong> 0"
      ],
      "text/plain": [
       "<IPython.core.display.HTML object>"
      ]
     },
     "metadata": {},
     "output_type": "display_data"
    },
    {
     "data": {
      "text/html": [
       "<strong>Date :</strong> 2012-01-21"
      ],
      "text/plain": [
       "<IPython.core.display.HTML object>"
      ]
     },
     "metadata": {},
     "output_type": "display_data"
    },
    {
     "data": {
      "text/html": [
       "<strong>Auteur :</strong> LE PARTI DE LA FRANCE VOSGES \n"
      ],
      "text/plain": [
       "<IPython.core.display.HTML object>"
      ]
     },
     "metadata": {},
     "output_type": "display_data"
    },
    {
     "name": "stdout",
     "output_type": "stream",
     "text": [
      "Termes indexés : ['politique', 'travail', 'avocat', 'cour', 'cassation', \"conseil d'état\", 'député', 'transport', 'pesticides', 'désherbant', 'justice', 'tribunal', 'commission', 'citoyens', 'libertés', 'parasite'] \n",
      "\n",
      "Termes spécifiques présents : ['pesticides', 'parasite'] \n",
      "\n",
      "Termes spécifiques absents : {'roundup', 'monsanto', 'victimes de pesticides', 'paul françois', 'céréalier charentais', 'agriculture biologique', 'syngenta', 'autorité européenne', 'monde selon monsanto', 'jeune femme', 'lasso', 'miel', 'générations futures', 'céréaliers', 'résidus de pesticides', 'procès', 'victimes', 'effet'} \n",
      "\n"
     ]
    },
    {
     "data": {
      "text/html": [
       "\n",
       "\n",
       "\n",
       "Pour un véritable changement. Profession de foi. Jacques Azulay Je suis candidat à la présidence. Mon programme. Pour un véritable changement, et remettre la France en état de marche : Il faut relancer l’économie, cela ne peut se faire sans moyens financiers. Dans un pays au bord de la faillite, c’est indispensable ; il faut condamner les responsables de ce gouffre financier, c’est une escroquerie que les <mark style=\"background-color:yellow\">politique</mark>s ont l’intention de faire payer aux Français. J’ai l’intention de mettre en place un groupe de <mark style=\"background-color:yellow\">travail</mark>, afin de connaître l’enrichissement anormal de <mark style=\"background-color:yellow\">politique</mark>s sous le gouvernement Giscard jusqu’à nos jours, ainsi que les magistrats, les <mark style=\"background-color:yellow\">avocat</mark>s, huissiers, préfets, policiers, gendarmes, les fonctionnaires des impôts, les banques, etc... Les coupables seront tenus de rembourser toutes les sommes détournées avec des intérêts, de rembourser leurs salaires, et pensions de retraite. Je mets en place une peine pour ces hauts fonctionnaires, qui ont trahi la France et les Français. Pour faire des économies. • Je supprime le Sénat. • Le Conseil constitutionnel. • La <mark style=\"background-color:yellow\">cour</mark> de <mark style=\"background-color:yellow\">cassation</mark>. • Le Conseil d’État. • Les sous-préfectures. • Les ministères qui n’ont aucune utilité ex : le ministère de la ville, etc… • Je réduis au minimum le nombre des <mark style=\"background-color:yellow\">député</mark>s. • J'aménage les impôts sur le revenu. • La TVA. • La CSG et le RDS. •je supprime Les paradis fiscaux. • Si l’homme est conscient et libre, c’est jeter le joug des impôts perfides. Remettre la France à l’ouvrage en privilégiant les petites et moyennes entreprises, dirigées par leur propriétaire. Ne plus donner d’avantages, aux sociétés où les bénéfices sont distribués à des actionnaires. Je veux privilégier les <mark style=\"background-color:yellow\">transport</mark>s en commun ex : la SNCF, réouvertures de lignes, de gares, et triages. Je remets en place du personnel pour un meilleur fonctionnement, de l’éducation nationale, des hôpitaux, l’EDF, la poste, nationalise les télécoms, un personnel de maintenance permanente dans toutes ces administrations. Pour une France plus saine ne plus faire d’autoroutes , n 'importe-Ou ,et de super aéroports des kilomètre des villes . J’interdis les <mark style=\"background-color:pink\">pesticides</mark>, les <mark style=\"background-color:yellow\">désherbant</mark>s nuisibles à l’environnement. Je privilégie la création de petites exploitations qui œuvre comme par le passé, les fermes avec des vaches qui vont au pré, une basse-<mark style=\"background-color:yellow\">cour</mark>, des vergers, etc... Pour une réforme de la <mark style=\"background-color:yellow\">justice</mark>. Je supprime 90 % des textes de procédure, avec un seul registre des barèmes soit une condamnation de pour la gravité d’un délit, la récidive le tarif double. Réouverture des TGI. Je supprime les postes de hauts magistrats, la création dans chaque <mark style=\"background-color:yellow\">tribunal</mark> un comité de sages. Je mets en place dans chaque département une <mark style=\"background-color:yellow\">commission</mark> indépendante pour statuer sur les dérives des magistrats. Les magistrats seront responsables de leurs actes civilement et pénalement, les irrégularités commises par ces juges seront punies doublement. Je veux une France plus juste, un <mark style=\"background-color:yellow\">travail</mark> pour tous avec un salaire décent, un logement pour tous les <mark style=\"background-color:yellow\">citoyens</mark>. Une liberté de la presse, et d’expression. Je suis le candidat de ces réformes qui me tiennent à cœur, n’ayant pas les moyens de me déplacer dans la France entière et de publier des bulletins de vote, pour ce faire vous prenez une feuille blanche modèle A4, vous la pliez en 4 parties égales, vous coupez à la pliure, cela fait 4 bulletins et vous marquez mon nom Jacques Azulay Je vous promets de dégager tous ces <mark style=\"background-color:pink\">parasite</mark>s qui ont ruiné le pays. Ps je sais que je ne serai jamais président... répondre."
      ],
      "text/plain": [
       "<IPython.core.display.HTML object>"
      ]
     },
     "metadata": {},
     "output_type": "display_data"
    },
    {
     "data": {
      "text/html": [
       "<h2 style='text-align:center;'> Texte 413774 (72 sur 84)</h2>"
      ],
      "text/plain": [
       "<IPython.core.display.HTML object>"
      ]
     },
     "metadata": {},
     "output_type": "display_data"
    },
    {
     "data": {
      "text/html": [
       "<strong>Segment :</strong> 0"
      ],
      "text/plain": [
       "<IPython.core.display.HTML object>"
      ]
     },
     "metadata": {},
     "output_type": "display_data"
    },
    {
     "data": {
      "text/html": [
       "<strong>Date :</strong> 2012-01-22"
      ],
      "text/plain": [
       "<IPython.core.display.HTML object>"
      ]
     },
     "metadata": {},
     "output_type": "display_data"
    },
    {
     "data": {
      "text/html": [
       "<strong>Auteur :</strong> Inf'OGM \n"
      ],
      "text/plain": [
       "<IPython.core.display.HTML object>"
      ]
     },
     "metadata": {},
     "output_type": "display_data"
    },
    {
     "name": "stdout",
     "output_type": "stream",
     "text": [
      "Termes indexés : ['ogm', 'monde', 'monde selon monsanto', 'monsanto', 'roundup'] \n",
      "\n",
      "Termes spécifiques présents : ['monde selon monsanto', 'monsanto', 'roundup'] \n",
      "\n",
      "Termes spécifiques absents : {'pesticides', 'victimes de pesticides', 'paul françois', 'céréalier charentais', 'agriculture biologique', 'syngenta', 'autorité européenne', 'jeune femme', 'lasso', 'miel', 'générations futures', 'parasite', 'céréaliers', 'résidus de pesticides', 'procès', 'victimes', 'effet'} \n",
      "\n"
     ]
    },
    {
     "data": {
      "text/html": [
       "<mark style=\"background-color:yellow\">ogm</mark> Attention danger - Le <mark style=\"background-color:yellow\">monde</mark> selon <mark style=\"background-color:pink\">monsanto</mark> - Vidéos O.G.M.\n",
       "Ce film retrace l’histoire de <mark style=\"background-color:pink\">monsanto</mark>, une multinationale américaine, aujourd’hui leader mondial des <mark style=\"background-color:yellow\">ogm</mark>, et considérée comme l’un des plus grands pollueurs de l’ère industrielle (PCB, agent orange, hormones de croissance, <mark style=\"background-color:pink\">roundup</mark>...). Après une enquête de trois ans, en Amérique du nord et du sud, ...\n",
       "<mark style=\"background-color:yellow\">ogm</mark>.loribel.com\n",
       "merci pour l'ajout!!! je pense que vous connaissez tous ce lien mais je le met quand meme...<mark style=\"background-color:pink\">monsanto</mark> au pilori rien que pour l'agent orange et le probleme du lait trafiqué...."
      ],
      "text/plain": [
       "<IPython.core.display.HTML object>"
      ]
     },
     "metadata": {},
     "output_type": "display_data"
    },
    {
     "data": {
      "text/html": [
       "<h2 style='text-align:center;'> Texte 413773 (73 sur 84)</h2>"
      ],
      "text/plain": [
       "<IPython.core.display.HTML object>"
      ]
     },
     "metadata": {},
     "output_type": "display_data"
    },
    {
     "data": {
      "text/html": [
       "<strong>Segment :</strong> 0"
      ],
      "text/plain": [
       "<IPython.core.display.HTML object>"
      ]
     },
     "metadata": {},
     "output_type": "display_data"
    },
    {
     "data": {
      "text/html": [
       "<strong>Date :</strong> 2012-01-22"
      ],
      "text/plain": [
       "<IPython.core.display.HTML object>"
      ]
     },
     "metadata": {},
     "output_type": "display_data"
    },
    {
     "data": {
      "text/html": [
       "<strong>Auteur :</strong> Mohamed Bazoum \n"
      ],
      "text/plain": [
       "<IPython.core.display.HTML object>"
      ]
     },
     "metadata": {},
     "output_type": "display_data"
    },
    {
     "name": "stdout",
     "output_type": "stream",
     "text": [
      "Termes indexés : ['politique', 'ami', 'campagne', 'effet', 'parlement', 'population', 'eau', 'eau potable', 'santé', 'femmes', 'femmes enceintes', 'pesticides', 'production', 'produits agricoles', 'justice', 'problème', 'libertés', 'citoyens', 'commission', 'travail', 'décision', 'transition', 'vérité'] \n",
      "\n",
      "Termes spécifiques présents : ['effet', 'pesticides'] \n",
      "\n",
      "Termes spécifiques absents : {'roundup', 'monsanto', 'victimes de pesticides', 'paul françois', 'céréalier charentais', 'agriculture biologique', 'syngenta', 'autorité européenne', 'monde selon monsanto', 'jeune femme', 'lasso', 'miel', 'générations futures', 'parasite', 'céréaliers', 'résidus de pesticides', 'procès', 'victimes'} \n",
      "\n"
     ]
    },
    {
     "data": {
      "text/html": [
       "\n",
       "\n",
       "\n",
       "Discours de Monsieur Bazoum Mohamed au meeting de la rentrée <mark style=\"background-color:yellow\">politique</mark> MRN. Chers camarades, chers <mark style=\"background-color:yellow\">ami</mark>s, Depuis la fin de la <mark style=\"background-color:yellow\">campagne</mark> de l'élection présidentielle, c'est pour la première fois que nous nous retrouvons en Meeting des partis de la mouvance présidentielle. Nous avons décidé d'avoir cette grande rencontre pour marquer la rentrée <mark style=\"background-color:yellow\">politique</mark> de l'année 2012 et célébrer la formalisation de notre cadre unitaire qu'est la MRN (Mouvance pour la Renaissance du Niger). Nous voulons ainsi perpétuer les bonnes habitudes de notre démocratie, mais surtout prendre date en vous disant que la MRN existe désormais et sera le cadre de l'unité de toutes les forces <mark style=\"background-color:yellow\">politique</mark>s qui ont porté Mahamadou lss oufou au pouvoir et qui entendent soutenir le gouvernement en vue de promouvoir le programme de la renaissance de notre pays. En <mark style=\"background-color:pink\">effet</mark>, en démocratie un gouvernement n'existe pas par lui-même et pour lui-même, mais il est le reflet d'une volonté qu'incarne une majorité, représentée certes à l'assemblée nationale, mais qui va bien au-delà des partis présents au <mark style=\"background-color:yellow\">parlement</mark>. Le rôle de ces partis vis-à-vis du gouvernement est à la fois de le soutenir <mark style=\"background-color:yellow\">politique</mark>ment pour lui procurer l'environnement social dont il a besoin pour mener son action et de lui indiquer sa direction en lui définissant les règles éthiques de son comportement. Car en démocratie, il ne suffit pas d'avoir le pouvoir, qui est loin d'être une fin en soi, mais de savoir l'exercer en répondant adéquatement aux attentes majeures du peuple souverain. Ces attentes, nous, nous ne les connaissons que trop bien pour avoir été si profondément en contact avec les <mark style=\"background-color:yellow\">population</mark>s qui nous- ont souvent dit et répété leurs besoins en <mark style=\"background-color:yellow\">eau</mark> potable, en soins de <mark style=\"background-color:yellow\">santé</mark>, surtout pour les <mark style=\"background-color:yellow\">femmes</mark> enceintes et les enfants, en engrais et <mark style=\"background-color:pink\">pesticides</mark> pour une <mark style=\"background-color:yellow\">production</mark> agricole plus sûre, en vaccins et médicaments pour le cheptel, en routes pour désenclaver les marchés et assurer un bon écoulement de leurs <mark style=\"background-color:yellow\">produits agricoles</mark>. Nous connaissons les attentes du peuple dans le domaine de la sécurité et nous connaissons aussi ses aspirations à la <mark style=\"background-color:yellow\">justice</mark>. Nous connaissons de très prés les souffrances des <mark style=\"background-color:yellow\">population</mark>s du fait de leur grande pauvreté et leur aspiration au bien-être matériel. Nous connaissons l'impact du chômage sur les jeunes, sur l'état de leur moral et le sentiment de désespérance qui les habite. Nous connaissons leur impatience et leur perception du temps qui n'avance pas tant ils sont pressés de quitter leur état d'infra-humanité. Nous devons répondre à toutes ces attentes, certaines marquées au coin de l'urgence. Nous savons qu'au bout des 9 mois que nous avons passé au pouvoir, nombreuses sont vos attentes qui ne sont pas satisfaites. Mais n'avons-nous jamais été naïfs pour croire qu'il suffit que nous prenions le pouvoir pour que tous les <mark style=\"background-color:yellow\">problème</mark>s soient réglés comme s'il était possible de faire des miracles? Nous comprenons que vous ne soyez pas tout à fait satisfaits, mais il n'y a pas de doute que de belles options ont été prises vers un autre avenir, marquant ainsi une rupture assurément prometteuse. Chers camarades, chers <mark style=\"background-color:yellow\">ami</mark>s, Notre premier souci, le premier souci du Président de la République est d'assurer le renforcement des institutions républicaines par l'approfondissement de la démocratie. Dans ce domaine les choses se passent de façon satisfaisante et notre pays, en plus d'avoir dépénalisé le délit de presse a vu son Président signer la charte de la montagne de la table. Nous sommes fiers d'être un pays pionnier en la matière et nous sommes convaincus que les <mark style=\"background-color:yellow\">libertés</mark> publiques et en particulier la liberté d'expression sont la base de la démocratie. Dans le domaine de la sécurité, malgré une conjoncture défavorable marquée notamment par les <mark style=\"background-color:pink\">effet</mark>s de la guerre civile en Libye et les nombreuses armes en circulation notre situation sécuritaire est parfaitement maitrisée. Grâce à l'engagement personnel du Président de la République, à la pertinence de notre <mark style=\"background-color:yellow\">politique</mark> et à l'abnégation de nos forces de défense et de sécurité nos routes sont plus sûres et les nuits de nos <mark style=\"background-color:yellow\">citoyens</mark> plus tranquilles. Dans le domaine de la lutte contre la corruption nous avons mis en place une <mark style=\"background-color:yellow\">commission</mark> spéciale qui a entamé un bon <mark style=\"background-color:yellow\">travail</mark>. Nous avons institué une ligne verte que des <mark style=\"background-color:yellow\">citoyens</mark> ont commencé à utiliser et dont on verra les résultats sous peu. Nous avons fait rembourser des sommes importantes volées dans les caisses de l'Etat au moyen de fausses factures, lesquelles on se souvient, avaient connu leur printemps il n'y a pas très longtemps. Des commerçants véreux et des cadres soupçonnés de corruption sont en prison. Les poursuites contre tous les délinquants financiers se poursuivront et s'accéléreront bientôt. Sur le plan social, nous avons assumé la <mark style=\"background-color:yellow\">décision</mark> du gouvernement de <mark style=\"background-color:yellow\">transition</mark> d’augmenter le salaire des fonctionnaires, pour certains de près de 30% en <mark style=\"background-color:yellow\">vérité</mark>. Nous sommes en discussion avec les centrales syndicales pour un accord global (truncated)"
      ],
      "text/plain": [
       "<IPython.core.display.HTML object>"
      ]
     },
     "metadata": {},
     "output_type": "display_data"
    },
    {
     "data": {
      "text/html": [
       "<h2 style='text-align:center;'> Texte 413771 (74 sur 84)</h2>"
      ],
      "text/plain": [
       "<IPython.core.display.HTML object>"
      ]
     },
     "metadata": {},
     "output_type": "display_data"
    },
    {
     "data": {
      "text/html": [
       "<strong>Segment :</strong> 0"
      ],
      "text/plain": [
       "<IPython.core.display.HTML object>"
      ]
     },
     "metadata": {},
     "output_type": "display_data"
    },
    {
     "data": {
      "text/html": [
       "<strong>Date :</strong> 2012-01-23"
      ],
      "text/plain": [
       "<IPython.core.display.HTML object>"
      ]
     },
     "metadata": {},
     "output_type": "display_data"
    },
    {
     "data": {
      "text/html": [
       "<strong>Auteur :</strong> Let's save our Earth - Sauvons notre planète - 让我们拯救我们的地球。 \n"
      ],
      "text/plain": [
       "<IPython.core.display.HTML object>"
      ]
     },
     "metadata": {},
     "output_type": "display_data"
    },
    {
     "name": "stdout",
     "output_type": "stream",
     "text": [
      "Termes indexés : ['nature', 'écologique', 'femmes', 'problème', 'écolo', 'pratiques', 'effet', 'produits chimiques', 'composition', 'culture', 'pesticides'] \n",
      "\n",
      "Termes spécifiques présents : ['effet', 'pesticides'] \n",
      "\n",
      "Termes spécifiques absents : {'roundup', 'monsanto', 'victimes de pesticides', 'paul françois', 'céréalier charentais', 'agriculture biologique', 'syngenta', 'autorité européenne', 'monde selon monsanto', 'jeune femme', 'lasso', 'miel', 'générations futures', 'parasite', 'céréaliers', 'résidus de pesticides', 'procès', 'victimes'} \n",
      "\n"
     ]
    },
    {
     "data": {
      "text/html": [
       "Natracare | Plus Sain par <mark style=\"background-color:yellow\">nature</mark>\n",
       "Natracare high quality, organic and natural feminine hygiene products\n",
       "natracare.com\n",
       "Menstruation : les solutions <mark style=\"background-color:yellow\"><mark style=\"background-color:yellow\">écolo</mark>gique</mark>s pendant les règles : Être une femme comporte certains \"avantages\"… Vous pouvez connaître la maternité, attirer la sympathie d’un représentant des forces de l’ordre sur le point de vous verbaliser ou encore céder au shopping compulsif sous prétexte que c’est dans vos gènes… Mais être une femme, c’est aussi pour la plupart d’entre-vous être « indisposée » quelques jours par mois et cela pendant plusieurs années. Comment vivre cette période mensuelle de façon plus <mark style=\"background-color:yellow\"><mark style=\"background-color:yellow\">écolo</mark>gique</mark> ? Des protections périodiques plus vertes : Serviette, tampon, protège-slip… Chaque femme apprend avec le temps la protection qui lui convient le mieux, en fonction de son flux et de son propre cycle. Au supermarché, aucun <mark style=\"background-color:yellow\">problème</mark> pour trouver des protections périodiques classiques, mais quelles solutions s’offrent à celles qui se veulent un peu plus \"<mark style=\"background-color:yellow\">écolo</mark>\"? - La coupelle menstruelle : protection pratique et réutilisable : La coupelle menstruelle, comme la Mooncup, cela vous dit peut-être quelque chose ? Il s’agit d’une petite coupe creuse en silicone récoltant le flux menstruel… Pas très glamour ? Pourtant les coupelles menstruelles sont très <mark style=\"background-color:yellow\">pratiques</mark>, <mark style=\"background-color:yellow\"><mark style=\"background-color:yellow\">écolo</mark>gique</mark>s et économiques ! Saviez-vous qu’une femme utilise en moyenne 11 000 tampons ou serviettes lors de sa vie ? Des objets qui finissent dans les toilettes, dans la poubelle, et qu’il est difficile de recycler, vous comprendrez pourquoi… La Mooncup en silicone hypoallergénique. Confortable, elle est lavable et réutilisable. Peu attrayante pour celles qui ne l’utilisent pas, avec un peu d’habitude, la Mooncup est très facile à utiliser. Elle peut contenir trois fois plus de liquide qu’un tampon hygiénique, et doit être changée toutes les 4 à 8 heures. Souple et flexible, elle s’adapte aux parois de votre vagin sans l’abîmer. La petite tige et la base rainurée vous permettent de retirer la Mooncup sans aucune difficulté.La coupe menstruelle peut être utilisée 10 ans en moyenne et il en existe plusieurs tailles. ( Pour info, nous l'avons vue en vrai à un salon bio ... bon, faut aimer (il y en a assurément des adeptes) et ça doit être comme pas mal d'autres choses : si tu as jamais essayé, ça te semble fou, dingue, débile, ... je reconnais) - Serviette hygiénique : lavable ou pas ? La serviette hygiénique est sans doute la protection menstruelle la plus courante, celle qu’on utilise en premier avant de véritablement choisir. Si vous n’êtes pas prête à passer à la coupelle menstruelle, vous pouvez toujours opter pour les serviettes hygiéniques… <mark style=\"background-color:yellow\">écolo</mark> ! Certaines sont jetables, comme les serviettes classiques, à la différence qu’elles sont en matières <mark style=\"background-color:yellow\">nature</mark>lles (principalement du coton biologique), qu’elles n’utilisent pas de plastique, pas de matière issue de la pétrochimie et n’ont subi aucun blanchiment au chlore. Mieux, ces serviettes jetables sont biodégradables à 95%. D’autres sont lavables. C’est le cas par exemple des serviettes hygiéniques Plim qui ont réussi le tour de force de transformer un objet pas très glamour mais nécessaire, en objet mignon, efficace et personnalisable à souhait. En <mark style=\"background-color:pink\">effet</mark>, sur Plim, vous pouvez choisir au moment de la commande les motifs que vous souhaitez voir figurer sur votre serviette hygiénique (Rayures, couleurs, étoiles, fleurs…). Les serviettes sont fabriquées à 90% à partir de matières <mark style=\"background-color:yellow\">nature</mark>lles comme le coton ou le chanvre certifiés issus de l’agri<mark style=\"background-color:yellow\">culture</mark> biologique. Les dessins sont imprimés avec une encre certifiée Oekotex tandis que le chlore n’est pas utilisé durant la fabrication. De petites pressions vous permettent de \"fixer\" la serviette à votre lingerie et de replier la serviette lorsque vous en changez. Les serviettes hygiéniques lavables peuvent être utilisées pendant 5 à 10 ans. Elles sont donc vite rentabilisées. Les serviettes hygiéniques peuvent être lavées très facilement en machine à 30 ou 40°. Il est possible de les faire tremper au préalable mais cela n’est pas forcément nécessaire. Vous pouvez aussi les nettoyer à la main ou ajouter quelques gouttes d’huile essentielle d’arbre à thé à l’eau de rinçage pour désinfecter. Bien sur, les serviettes hygiéniques et protège-slips existent en différentes tailles et contenances pour s’adapter à toutes les <mark style=\"background-color:yellow\">femmes</mark>. Certaines sont même consacrées à la maternité ou l’incontinence ! - Tampons <mark style=\"background-color:yellow\">écolo</mark>: Si votre choix est de porter des tampons (à chaque femme de choisir avec quelle protection elle est le plus à l’aise…), sachez qu’il en existe des <mark style=\"background-color:yellow\">écolo</mark>, comme ceux de Natracare. Ces tampons hygiéniques sont composés à 100% de coton bio. Aucun produit chimique ou de chlore n’a été utilisé pour blanchir le coton, et aucune matière plastique ou synthétique entre dans la <mark style=\"background-color:yellow\">composition</mark> de cette protection. Ces tampons sont bénéfiques à l’environnement puisque la <mark style=\"background-color:yellow\">culture</mark> du coton ne nécessite pas de pesticide, qu’aucun produit nocif n’est rejeté lors de la fabrication et que le tampon en lui-même est biodégradable. - Hygiène intime féminine : Le (truncated)"
      ],
      "text/plain": [
       "<IPython.core.display.HTML object>"
      ]
     },
     "metadata": {},
     "output_type": "display_data"
    },
    {
     "data": {
      "text/html": [
       "<h2 style='text-align:center;'> Texte 413770 (75 sur 84)</h2>"
      ],
      "text/plain": [
       "<IPython.core.display.HTML object>"
      ]
     },
     "metadata": {},
     "output_type": "display_data"
    },
    {
     "data": {
      "text/html": [
       "<strong>Segment :</strong> 0"
      ],
      "text/plain": [
       "<IPython.core.display.HTML object>"
      ]
     },
     "metadata": {},
     "output_type": "display_data"
    },
    {
     "data": {
      "text/html": [
       "<strong>Date :</strong> 2012-01-23"
      ],
      "text/plain": [
       "<IPython.core.display.HTML object>"
      ]
     },
     "metadata": {},
     "output_type": "display_data"
    },
    {
     "data": {
      "text/html": [
       "<strong>Auteur :</strong> Europe Écologie Les Verts Pays de Montbéliard \n"
      ],
      "text/plain": [
       "<IPython.core.display.HTML object>"
      ]
     },
     "metadata": {},
     "output_type": "display_data"
    },
    {
     "name": "stdout",
     "output_type": "stream",
     "text": [
      "Termes indexés : ['militante', 'monsanto', 'culture', 'cour', 'justice', \"conseil d'etat\", 'roundup', 'molécules', 'glyphosate', 'herbicide', 'épandages', 'agriculteur'] \n",
      "\n",
      "Termes spécifiques présents : ['monsanto', 'roundup'] \n",
      "\n",
      "Termes spécifiques absents : {'pesticides', 'victimes de pesticides', 'paul françois', 'céréalier charentais', 'agriculture biologique', 'syngenta', 'autorité européenne', 'monde selon monsanto', 'jeune femme', 'lasso', 'miel', 'générations futures', 'parasite', 'céréaliers', 'résidus de pesticides', 'procès', 'victimes', 'effet'} \n",
      "\n"
     ]
    },
    {
     "data": {
      "text/html": [
       "Des militants anti-OGM investissent un site de <mark style=\"background-color:pink\">monsanto</mark> dans l'Aube - LeMonde.fr\n",
       "Le Monde.fr - Le moratoire sur les <mark style=\"background-color:yellow\">culture</mark>s d'organismes génétiquement modifiés, lancé par la France en février 2008, a été invalidé par la <mark style=\"background-color:yellow\">cour</mark> européenne de <mark style=\"background-color:yellow\">justice</mark> de Luxembourg et le  <mark style=\"background-color:yellow\">conseil d'etat</mark>.\n",
       "lemonde.fr\n",
       "Attention également au <mark style=\"background-color:pink\">roundup</mark> qui vous peut vous sembler si anodin dans votre jardin : c'est aussi un produit <mark style=\"background-color:pink\">monsanto</mark> et c'est très nocif. \"<mark style=\"background-color:pink\">roundup</mark> est une marque d'<mark style=\"background-color:yellow\">herbicide</mark>s produits par la compagnie américaine <mark style=\"background-color:pink\">monsanto</mark>. La molécule active mentionnée sur le produit est le <mark style=\"background-color:yellow\">glyphosate</mark>. C'est un <mark style=\"background-color:yellow\">herbicide</mark> non-sélectif d'où le qualificatif d’« <mark style=\"background-color:yellow\">herbicide</mark> total », utilisé en épandage notamment. C'est un produit irritant et toxique, commercialisé depuis 1975. Son usage massif par les <mark style=\"background-color:yellow\">agriculteur</mark>s depuis la fin des années 1990 a conduit à l'apparition de mauvaises herbes résistantes au <mark style=\"background-color:yellow\">glyphosate</mark>1.\" cf. wikipédia"
      ],
      "text/plain": [
       "<IPython.core.display.HTML object>"
      ]
     },
     "metadata": {},
     "output_type": "display_data"
    },
    {
     "data": {
      "text/html": [
       "<h2 style='text-align:center;'> Texte 413766 (76 sur 84)</h2>"
      ],
      "text/plain": [
       "<IPython.core.display.HTML object>"
      ]
     },
     "metadata": {},
     "output_type": "display_data"
    },
    {
     "data": {
      "text/html": [
       "<strong>Segment :</strong> 0"
      ],
      "text/plain": [
       "<IPython.core.display.HTML object>"
      ]
     },
     "metadata": {},
     "output_type": "display_data"
    },
    {
     "data": {
      "text/html": [
       "<strong>Date :</strong> 2012-01-24"
      ],
      "text/plain": [
       "<IPython.core.display.HTML object>"
      ]
     },
     "metadata": {},
     "output_type": "display_data"
    },
    {
     "data": {
      "text/html": [
       "<strong>Auteur :</strong> Vigilance OGM \n"
      ],
      "text/plain": [
       "<IPython.core.display.HTML object>"
      ]
     },
     "metadata": {},
     "output_type": "display_data"
    },
    {
     "name": "stdout",
     "output_type": "stream",
     "text": [
      "Termes indexés : ['pesticides', 'santé', 'ogm', 'plantes', 'substances', 'effet', 'scientifiques'] \n",
      "\n",
      "Termes spécifiques présents : ['pesticides', 'effet'] \n",
      "\n",
      "Termes spécifiques absents : {'roundup', 'monsanto', 'victimes de pesticides', 'paul françois', 'céréalier charentais', 'agriculture biologique', 'syngenta', 'autorité européenne', 'monde selon monsanto', 'jeune femme', 'lasso', 'miel', 'générations futures', 'parasite', 'céréaliers', 'résidus de pesticides', 'procès', 'victimes'} \n",
      "\n"
     ]
    },
    {
     "data": {
      "text/html": [
       "Dangers des <mark style=\"background-color:pink\">pesticides</mark> sur la <mark style=\"background-color:yellow\">santé</mark> | Info<mark style=\"background-color:yellow\">ogm</mark>\n",
       "Les <mark style=\"background-color:yellow\">ogm</mark> sont principalement des <mark style=\"background-color:yellow\">plantes</mark> conçues pour résister à l’utilisation massive de certains <mark style=\"background-color:pink\">pesticides</mark>. Il n’est donc pas surprenant que l’introduction des <mark style=\"background-color:yellow\">ogm</mark> en agriculture ait entrainé une augmentation de l’emploi de ces <mark style=\"background-color:yellow\">substances</mark>, particulièrement parce que les compagnies de biotechnologi...\n",
       "info<mark style=\"background-color:yellow\">ogm</mark>.qc.ca\n",
       "Vous vous demandez les <mark style=\"background-color:pink\">effet</mark>s des <mark style=\"background-color:pink\">pesticides</mark> sur <mark style=\"background-color:yellow\">santé</mark> ? Nouvelle section sur notre site web avec références <mark style=\"background-color:yellow\">scientifiques</mark>, grande source d'informations !"
      ],
      "text/plain": [
       "<IPython.core.display.HTML object>"
      ]
     },
     "metadata": {},
     "output_type": "display_data"
    },
    {
     "data": {
      "text/html": [
       "<h2 style='text-align:center;'> Texte 413768 (77 sur 84)</h2>"
      ],
      "text/plain": [
       "<IPython.core.display.HTML object>"
      ]
     },
     "metadata": {},
     "output_type": "display_data"
    },
    {
     "data": {
      "text/html": [
       "<strong>Segment :</strong> 0"
      ],
      "text/plain": [
       "<IPython.core.display.HTML object>"
      ]
     },
     "metadata": {},
     "output_type": "display_data"
    },
    {
     "data": {
      "text/html": [
       "<strong>Date :</strong> 2012-01-24"
      ],
      "text/plain": [
       "<IPython.core.display.HTML object>"
      ]
     },
     "metadata": {},
     "output_type": "display_data"
    },
    {
     "data": {
      "text/html": [
       "<strong>Auteur :</strong> Rustica \n"
      ],
      "text/plain": [
       "<IPython.core.display.HTML object>"
      ]
     },
     "metadata": {},
     "output_type": "display_data"
    },
    {
     "name": "stdout",
     "output_type": "stream",
     "text": [
      "Termes indexés : ['pesticides', 'traitements', 'agriculture biologique', 'fongicide', 'herbicide', 'décision'] \n",
      "\n",
      "Termes spécifiques présents : ['pesticides', 'agriculture biologique'] \n",
      "\n",
      "Termes spécifiques absents : {'roundup', 'monsanto', 'victimes de pesticides', 'paul françois', 'céréalier charentais', 'syngenta', 'autorité européenne', 'monde selon monsanto', 'jeune femme', 'lasso', 'miel', 'générations futures', 'parasite', 'céréaliers', 'résidus de pesticides', 'procès', 'victimes', 'effet'} \n",
      "\n"
     ]
    },
    {
     "data": {
      "text/html": [
       "Hausse de la TVA des <mark style=\"background-color:pink\">pesticides</mark> de 5,5 % à 19,6 %\n",
       "Hausse extraordinaire de la TVA de 5,5 % à 19,6 % des produits de traitement phytosanitaires du jardin : explications et incompréhension.\n",
       "rustica.fr\n",
       "Rustica réagit face à une hausse excessive des produits phytosanitaires effective depuis le 1er janvier. Parce qu'elle ne fait aucune distinction entre produits de <mark style=\"background-color:yellow\">traitements</mark> utilisables en <mark style=\"background-color:pink\">agriculture biologique</mark> (UAB) ou non classés (ni toxicologique, ni danger environnemental) et les <mark style=\"background-color:pink\">pesticides</mark> (<mark style=\"background-color:yellow\">fongicide</mark>s, <mark style=\"background-color:yellow\">herbicide</mark>s, insecticides et molluscicides) dangereux, le bien fondé de cette <mark style=\"background-color:yellow\">décision</mark> nous interroge. Et vous, qu'en pensez-vous ? Participez à notre sondage d'opinion et prenez la parole : http://www.rustica.fr/forum-jardinage/viewtopic.php?t=3503"
      ],
      "text/plain": [
       "<IPython.core.display.HTML object>"
      ]
     },
     "metadata": {},
     "output_type": "display_data"
    },
    {
     "data": {
      "text/html": [
       "<h2 style='text-align:center;'> Texte 413767 (78 sur 84)</h2>"
      ],
      "text/plain": [
       "<IPython.core.display.HTML object>"
      ]
     },
     "metadata": {},
     "output_type": "display_data"
    },
    {
     "data": {
      "text/html": [
       "<strong>Segment :</strong> 0"
      ],
      "text/plain": [
       "<IPython.core.display.HTML object>"
      ]
     },
     "metadata": {},
     "output_type": "display_data"
    },
    {
     "data": {
      "text/html": [
       "<strong>Date :</strong> 2012-01-24"
      ],
      "text/plain": [
       "<IPython.core.display.HTML object>"
      ]
     },
     "metadata": {},
     "output_type": "display_data"
    },
    {
     "data": {
      "text/html": [
       "<strong>Auteur :</strong> Libres de pensées. Contre la banalisation de la misère humaine et animale. \n"
      ],
      "text/plain": [
       "<IPython.core.display.HTML object>"
      ]
     },
     "metadata": {},
     "output_type": "display_data"
    },
    {
     "name": "stdout",
     "output_type": "stream",
     "text": [
      "Termes indexés : ['pesticides', 'santé', 'scientifiques', 'population', 'décision', 'victimes', 'victimes de pesticides'] \n",
      "\n",
      "Termes spécifiques présents : ['pesticides', 'victimes', 'victimes de pesticides'] \n",
      "\n",
      "Termes spécifiques absents : {'roundup', 'monsanto', 'paul françois', 'céréalier charentais', 'agriculture biologique', 'syngenta', 'autorité européenne', 'monde selon monsanto', 'jeune femme', 'lasso', 'miel', 'générations futures', 'parasite', 'céréaliers', 'résidus de pesticides', 'procès', 'effet'} \n",
      "\n"
     ]
    },
    {
     "data": {
      "text/html": [
       "Congrès <mark style=\"background-color:pink\">pesticides</mark> et <mark style=\"background-color:yellow\">santé</mark> : quelles voies d'amélioration possibles ? - [CDURABLE.info l'essentiel.\n",
       "Depuis, quelques années, le sujet des <mark style=\"background-color:pink\">pesticides</mark> est au cœur de nombreux sujets d’actualité et fait l’objet d’une attention particulière de la part des pouvoirs publics, des <mark style=\"background-color:yellow\">scientifiques</mark> mais aussi de la <mark style=\"background-color:yellow\">population</mark> générale. De nombreuses questions émergent qui restent (...)\n",
       "cdurable.info\n",
       "Alors que le Grenelle de l’environnement prévoyait de réduire de 50% l’usage des <mark style=\"background-color:pink\">pesticides</mark>, de retirer du marché les <mark style=\"background-color:pink\">pesticides</mark> les plus dangereux, d’augmenter la Surface Agricoles Utile en bio, force est de constater que 4 ans après il y a eu peu d’avancées (voire même certains reculs cf. l’augmentation de l’IFT <mark style=\"background-color:pink\">pesticides</mark> entre 2008 et 2011) et que, malgré les <mark style=\"background-color:yellow\">décision</mark>s prises, la situation reste critique, notamment pour les personnes exposées à ces toxiques. De même, les personnes <mark style=\"background-color:pink\">victimes</mark> des <mark style=\"background-color:pink\">pesticides</mark> ont aujourd’hui beaucoup de difficultés à faire connaitre et reconnaitre leur situation. Il semblait donc important de rendre visibles et audibles les personnes <mark style=\"background-color:pink\">victimes</mark> des <mark style=\"background-color:pink\">pesticides</mark> et de tenter de leur apporter des éléments de réponses aux questions qu’ils se posent et que nous nous posons tous"
      ],
      "text/plain": [
       "<IPython.core.display.HTML object>"
      ]
     },
     "metadata": {},
     "output_type": "display_data"
    },
    {
     "data": {
      "text/html": [
       "<h2 style='text-align:center;'> Texte 413765 (79 sur 84)</h2>"
      ],
      "text/plain": [
       "<IPython.core.display.HTML object>"
      ]
     },
     "metadata": {},
     "output_type": "display_data"
    },
    {
     "data": {
      "text/html": [
       "<strong>Segment :</strong> 0"
      ],
      "text/plain": [
       "<IPython.core.display.HTML object>"
      ]
     },
     "metadata": {},
     "output_type": "display_data"
    },
    {
     "data": {
      "text/html": [
       "<strong>Date :</strong> 2012-01-25"
      ],
      "text/plain": [
       "<IPython.core.display.HTML object>"
      ]
     },
     "metadata": {},
     "output_type": "display_data"
    },
    {
     "data": {
      "text/html": [
       "<strong>Auteur :</strong> Let's save our Earth - Sauvons notre planète - 让我们拯救我们的地球。 \n"
      ],
      "text/plain": [
       "<IPython.core.display.HTML object>"
      ]
     },
     "metadata": {},
     "output_type": "display_data"
    },
    {
     "name": "stdout",
     "output_type": "stream",
     "text": [
      "Termes indexés : ['parasite', 'traitements', 'écolo', 'efficaces', 'école', 'insectes', 'milieu', 'planète', 'effet', 'citron', 'produits chimiques', 'bicarbonate de soude', 'développement'] \n",
      "\n",
      "Termes spécifiques présents : ['parasite', 'effet'] \n",
      "\n",
      "Termes spécifiques absents : {'roundup', 'monsanto', 'pesticides', 'victimes de pesticides', 'paul françois', 'céréalier charentais', 'agriculture biologique', 'syngenta', 'autorité européenne', 'monde selon monsanto', 'jeune femme', 'lasso', 'miel', 'générations futures', 'céréaliers', 'résidus de pesticides', 'procès', 'victimes'} \n",
      "\n"
     ]
    },
    {
     "data": {
      "text/html": [
       "\n",
       "\n",
       "\n",
       "Comment lutter contre les poux naturellement ? Et oui, voici une période chérie pour ces vilaines bêbêtes :) Ce petit <mark style=\"background-color:pink\">parasite</mark> très répandu et bien connu des parents de jeunes enfants (5 à 11 ans) a refait son apparition il y a plus de 20 ans et est de plus en plus résistant aux <mark style=\"background-color:yellow\">traitements</mark>…Les poux sont peut-être une prise de tête mais des solutions <mark style=\"background-color:yellow\">écolo</mark> et <mark style=\"background-color:yellow\">efficaces</mark> existent pour s’en débarrasser ! Les <mark style=\"background-color:yellow\">école</mark>s et les garderies sont des endroits privilégiés de transmission de ces minuscules <mark style=\"background-color:yellow\">insectes</mark> par contact direct. Si votre enfant se plaint de démangeaisons au niveau de la tête et des oreilles, vous pouvez alors suspecter la présence de poux. Les poux se développent principalement dans un <mark style=\"background-color:yellow\">milieu</mark> sec…et propre ! Vous comprendrez donc qu’il est inutile de laver les cheveux de vos petites têtes blondes chaque jour pour vous débarrasser de ces <mark style=\"background-color:pink\">parasite</mark>s. Par ailleurs, la plupart des anti-poux classiques sont en fait des insecticides qui non seulement sont très chers mais ils agressent le cuir chevelu et ne sont pas toujours <mark style=\"background-color:yellow\">efficaces</mark> à 100%… Pour lutter avec douceur contre les poux tout en faisant des économies et en respectant la <mark style=\"background-color:yellow\">planète</mark>, il existe des solutions très simples à appliquer. - Si les poux commencent à faire leur apparition à l’<mark style=\"background-color:yellow\">école</mark>, pour échapper à l’épidémie, pensez au shampoing à base d’écorce de saule. En <mark style=\"background-color:pink\">effet</mark>, l’écorce de saule aide à prévenir voire éliminer les poux. - Vous pouvez opter aussi pour l’huile essentielle de lavande ou de <mark style=\"background-color:yellow\">citron</mark>. Une goutte derrière chaque oreille, dans la nuque ou sur les vêtements évite la contamination en période d’épidémie. Vous pouvez également ajouter deux gouttes d’HE de lavande à votre shampoing. - Un geste anti-poux tout simple pour les petites filles, pensez à attacher leurs cheveux. Les poux auront beaucoup plus de difficultés à s’y accrocher. - Apprenez à votre enfant à ne pas prêter son bonnet, son écharpe ou ses vêtements à l’<mark style=\"background-color:yellow\">école</mark>. Et si votre enfant attrape des poux et que l’<mark style=\"background-color:yellow\">école</mark> n’a signalé aucun cas, indiquez au chef d’établissement la présence de poux chez vous pour que les autres parents puissent prendre leurs dispositions. Si malgré toutes les précautions, votre enfant ou vous-même avez attrapé des poux, voici quelques solutions <mark style=\"background-color:yellow\">écolo</mark> pour vous en débarrasser, sans utiliser de produit chimique : - Badigeonnez les cheveux de votre enfant avec de l’huile d’olive en massant puis posez un film sans laisser passer d’air! Les poux et les lentes s’asphyxieront. Au bout d’1h, faites un shampoing et peignez les cheveux avec un peigne à dents fines pour éliminer poux et lentes. Vous pouvez également enfiler un bonnet de bain imperméable pendant que l’huile d’olive pose. L’huile de coco est également efficace. - Le vinaigre blanc est une arme redoutable (et oui encore lui :D ) contre les poux. Versez le vinaigre blanc sur les cheveux et massez. Enroulez votre tête dans une serviette chaude et laissez poser pendant quelques minutes. Vous pouvez ensuite rincer et laver vos cheveux normalement pour éliminer l’odeur du vinaigre. Répétez l’opération dès le lendemain. - La deuxième méthode avec du vinaigre blanc est de le chauffer, et de \"laver\" les cheveux avec, ensuite de les peigner avec un peigne \"anti-poux\" (genre de peigne à trimer), c'est quasi radical, sa sent pas trop bon, ça fait un peu mal (je suis passé par là) mais on survit, et plus de poux :) - Pour optimiser l’efficacité de l’huile d’olive, mélangez quatre à cinq cuillères de 4 ou 5 gouttes d’huile essentielle d’arbre à thé, excellent antiseptique. Appliquez sur la chevelure, laissez poser 10 minutes et rincez. Renouvelez toutes les 48h. - Le <mark style=\"background-color:yellow\">bicarbonate de soude</mark> est efficace contre les poux, mais surtout les lentes. Demandez à votre enfant de bien fermer les yeux et répartissez le <mark style=\"background-color:yellow\">bicarbonate de soude</mark> sur son crâne. Massez plusieurs minutes et lavez. Vous pouvez également dissoudre du bicarbonate dans de l’eau chaude et tremper votre peigne anti-poux dans le mélange à chaque geste. Le <mark style=\"background-color:yellow\">bicarbonate de soude</mark> devrait avoir pour <mark style=\"background-color:pink\">effet</mark> de décoller les lentes de la racine. Les trucs en plus : - N’utilisez pas le sèche-cheveux car la chaleur favorise le <mark style=\"background-color:yellow\">développement</mark> des poux ! - Si les poux se sont accaparé du doudou de votre enfant, mettez-le au congélateur pendant 8 heures, les poux et les lentes ne résisteront pas. - Si vous suspectez la présence de poux dans les draps, vêtements, oreillers etc. enfermez-les dans un sac plastique hermétique pendant 10 jours, les poux mourront. Puis lavez le linge à 60°C. Good Luck :)"
      ],
      "text/plain": [
       "<IPython.core.display.HTML object>"
      ]
     },
     "metadata": {},
     "output_type": "display_data"
    },
    {
     "data": {
      "text/html": [
       "<h2 style='text-align:center;'> Texte 413763 (80 sur 84)</h2>"
      ],
      "text/plain": [
       "<IPython.core.display.HTML object>"
      ]
     },
     "metadata": {},
     "output_type": "display_data"
    },
    {
     "data": {
      "text/html": [
       "<strong>Segment :</strong> 0"
      ],
      "text/plain": [
       "<IPython.core.display.HTML object>"
      ]
     },
     "metadata": {},
     "output_type": "display_data"
    },
    {
     "data": {
      "text/html": [
       "<strong>Date :</strong> 2012-01-25"
      ],
      "text/plain": [
       "<IPython.core.display.HTML object>"
      ]
     },
     "metadata": {},
     "output_type": "display_data"
    },
    {
     "data": {
      "text/html": [
       "<strong>Auteur :</strong> La Santé grâce à la Phytothérapie, Aromathérapie, Alimentation,.... \n"
      ],
      "text/plain": [
       "<IPython.core.display.HTML object>"
      ]
     },
     "metadata": {},
     "output_type": "display_data"
    },
    {
     "name": "stdout",
     "output_type": "stream",
     "text": [
      "Termes indexés : ['pesticides', 'aliments', 'résidus', 'résidus de pesticides', 'vitamines'] \n",
      "\n",
      "Termes spécifiques présents : ['pesticides', 'résidus de pesticides'] \n",
      "\n",
      "Termes spécifiques absents : {'roundup', 'monsanto', 'victimes de pesticides', 'paul françois', 'céréalier charentais', 'agriculture biologique', 'syngenta', 'autorité européenne', 'monde selon monsanto', 'jeune femme', 'lasso', 'miel', 'générations futures', 'parasite', 'céréaliers', 'procès', 'victimes', 'effet'} \n",
      "\n"
     ]
    },
    {
     "data": {
      "text/html": [
       "\n",
       "\n",
       "\n",
       "►►Comment éviter les <mark style=\"background-color:pink\">pesticides</mark> ? Depuis 2006, le taux de non-conformité des fruits et légumes issus de l’agriculture biologique a nettement diminué (2% en 2009), les <mark style=\"background-color:yellow\">aliments</mark> bio sont donc moins touchés par les <mark style=\"background-color:yellow\">résidus</mark> de <mark style=\"background-color:pink\">pesticides</mark>. Il est aussi conseillé de laver soigneusement et de peler tous les fruits et légumes qui peuvent l’être, bien qu’une grande partie des <mark style=\"background-color:yellow\">vitamines</mark> soit contenue dans la peau."
      ],
      "text/plain": [
       "<IPython.core.display.HTML object>"
      ]
     },
     "metadata": {},
     "output_type": "display_data"
    },
    {
     "data": {
      "text/html": [
       "<h2 style='text-align:center;'> Texte 413760 (81 sur 84)</h2>"
      ],
      "text/plain": [
       "<IPython.core.display.HTML object>"
      ]
     },
     "metadata": {},
     "output_type": "display_data"
    },
    {
     "data": {
      "text/html": [
       "<strong>Segment :</strong> 0"
      ],
      "text/plain": [
       "<IPython.core.display.HTML object>"
      ]
     },
     "metadata": {},
     "output_type": "display_data"
    },
    {
     "data": {
      "text/html": [
       "<strong>Date :</strong> 2012-01-25"
      ],
      "text/plain": [
       "<IPython.core.display.HTML object>"
      ]
     },
     "metadata": {},
     "output_type": "display_data"
    },
    {
     "data": {
      "text/html": [
       "<strong>Auteur :</strong> Défense animale \n"
      ],
      "text/plain": [
       "<IPython.core.display.HTML object>"
      ]
     },
     "metadata": {},
     "output_type": "display_data"
    },
    {
     "name": "stdout",
     "output_type": "stream",
     "text": [
      "Termes indexés : ['parasite', 'air', 'pollution', 'population', 'pesticides', 'salariés'] \n",
      "\n",
      "Termes spécifiques présents : ['parasite', 'pesticides'] \n",
      "\n",
      "Termes spécifiques absents : {'roundup', 'monsanto', 'victimes de pesticides', 'paul françois', 'céréalier charentais', 'agriculture biologique', 'syngenta', 'autorité européenne', 'monde selon monsanto', 'jeune femme', 'lasso', 'miel', 'générations futures', 'céréaliers', 'résidus de pesticides', 'procès', 'victimes', 'effet'} \n",
      "\n"
     ]
    },
    {
     "data": {
      "text/html": [
       "\n",
       "\n",
       "\n",
       "Une crèche pour bébés phoques échoués aux Pays-Bas. Ils sont de plus en plus nombreux à arriver dans ce centre où ils sont soignés et nourris... Marco, 8 mois, reprend des forces à grand renfort de «porridge de poisson»: il est l'un des 351 bébés phoques recueillis, affamés et transis, par les bénévoles de la «crèche» de Pieterburen, aux Pays-Bas, qui se disent inquiets de l'afflux de ces mammifères marins. «Il y a eu une énorme augmentation, à la suite des récentes tempêtes», raconte à l'AFP Karst van der Meulen qui dirige avec son épouse Lenie t'Hart le plus grand et le plus ancien centre d'accueil pour bébés phoques des Pays-Bas, près de Groningue, tout au nord du pays. La crèche affiche complet Au cours des deux premières semaines de l'année, plus d'une centaine de bébés phoques, âgés de moins d'un an, ont été recueillis sur les plages du nord des Pays-Bas. Avec désormais 351 pensionn<mark style=\"background-color:yellow\">air</mark>es, contre 150 par an en moyenne, le centre est au bord de l'asphyxie, une tente a dû être montée pour accueillir les nouveaux arrivants. «Lorsque Marco est arrivé ici, il ne pesait que 19,3 kilos», soit la moitié à peine de son poids normal, explique Karst van der Meulen. «Il était frigorifié, affamé, déshydraté et ses poumons étaient infestés de <mark style=\"background-color:pink\">parasite</mark>s». Le petit phoque marron a été lavé et nourri. Il prend ses comprimés d'antibiotiques sans s'en apercevoir: au début, ils étaient écrasés dans son «porridge de poisson», du hareng mixé avec de l'eau. Ils sont désormais cachés dans les entrailles des harengs qu'il avale tout rond lors de ses trois ou quatre repas quotidiens. Les bébés phoques sont ramenés au centre, ouvert depuis 1971, par des promeneurs qui les ont découverts échoués sur des plages où ils ne peuvent survivre seuls. A leur arrivée à la crèche, ils sont placés plusieurs jours en quarantaine avant d'être installés dans des cages et des bassins. Les bébés phoques les plus costauds séjournent en plein <mark style=\"background-color:yellow\">air</mark> et paressent sous le soleil d'hiver au bord des bassins. Monique Versloot, 41 ans, une soigneuse d'un zoo d'Amsterdam, fait partie de la soixantaine de bénévoles venus donner un coup de main aux quarante employés, débordés. «Un jour, on a eu dix-sept nouveaux arrivants, on était très occupés», raconte Manon Chauveau, une étudiante française en biologie marine, en montrant la cicatrice sur son doigt, trace laissée par un bébé phoque en colère. <mark style=\"background-color:yellow\">pollution</mark> de l’eau et surpêche de leurs proies menacent les phoques La hausse récente du nombre de bébés phoques poussés sur les plages par les dernières tempêtes est symptomatique des dangers croissants qui menacent les 5.000 mammifères marins vivant dans la mer des Wadden, classée au patrimoine mondial de l'Unesco, selon Karst van der Meulen. «Ces bébés viennent s'échouer sur les côtes parce qu'ils sont affaiblis, parce qu'ils sont moins résistants à cause du manque de nourriture et de la <mark style=\"background-color:yellow\">pollution</mark> croissante de l'eau», explique-t-il. La <mark style=\"background-color:yellow\">population</mark> de petits poissons dont ils se nourrissent exclusivement est décimée par la surpêche, tandis que les affluents de la mer du Nord, le Rhin et le Meuse, déversent toujours plus de produits toxiques, des <mark style=\"background-color:pink\">pesticides</mark> notamment. Marco, qui partage une cage avec Chencho, un autre mâle, et Martijn, une femelle, va bien désormais. Il a été tatoué et retournera à la mer dans deux à trois mois. «Quand il est arrivé, il ne voulait rien manger, il était complètement à plat», se souvient Lise Lotte, 26 ans, une salariée de la crèche, en enfournant un hareng dans le gosier d'un bébé phoque. «Regardez-le maintenant. Il mange tout seul et devient plutôt bagarreur, ça montre qu'il va mieux»."
      ],
      "text/plain": [
       "<IPython.core.display.HTML object>"
      ]
     },
     "metadata": {},
     "output_type": "display_data"
    },
    {
     "data": {
      "text/html": [
       "<h2 style='text-align:center;'> Texte 413759 (82 sur 84)</h2>"
      ],
      "text/plain": [
       "<IPython.core.display.HTML object>"
      ]
     },
     "metadata": {},
     "output_type": "display_data"
    },
    {
     "data": {
      "text/html": [
       "<strong>Segment :</strong> 0"
      ],
      "text/plain": [
       "<IPython.core.display.HTML object>"
      ]
     },
     "metadata": {},
     "output_type": "display_data"
    },
    {
     "data": {
      "text/html": [
       "<strong>Date :</strong> 2012-01-25"
      ],
      "text/plain": [
       "<IPython.core.display.HTML object>"
      ]
     },
     "metadata": {},
     "output_type": "display_data"
    },
    {
     "data": {
      "text/html": [
       "<strong>Auteur :</strong> Libres de pensées. Contre la banalisation de la misère humaine et animale. \n"
      ],
      "text/plain": [
       "<IPython.core.display.HTML object>"
      ]
     },
     "metadata": {},
     "output_type": "display_data"
    },
    {
     "name": "stdout",
     "output_type": "stream",
     "text": [
      "Termes indexés : ['monsanto', 'pesticides', 'recherche', 'abeilles'] \n",
      "\n",
      "Termes spécifiques présents : ['monsanto', 'pesticides'] \n",
      "\n",
      "Termes spécifiques absents : {'roundup', 'victimes de pesticides', 'paul françois', 'céréalier charentais', 'agriculture biologique', 'syngenta', 'autorité européenne', 'monde selon monsanto', 'jeune femme', 'lasso', 'miel', 'générations futures', 'parasite', 'céréaliers', 'résidus de pesticides', 'procès', 'victimes', 'effet'} \n",
      "\n"
     ]
    },
    {
     "data": {
      "text/html": [
       "<mark style=\"background-color:pink\">monsanto</mark> buys bee-friendly pesticide researcher - BusinessWeek\n",
       "<mark style=\"background-color:pink\">monsanto</mark> Co. said Wednesday it bought a smaller biotech research company that is developing a technology to kill crop pests while protecting the health of bees.\n",
       "businessweek.com\n",
       "<mark style=\"background-color:pink\">monsanto</mark> rachète les entreprises qui font de la <mark style=\"background-color:yellow\">recherche</mark> sur les <mark style=\"background-color:yellow\">abeilles</mark> et le lien entre leur disparitin et les <mark style=\"background-color:pink\">pesticides</mark>... Excellente méthode totalitaire de <mark style=\"background-color:pink\">monsanto</mark>.. http://www.businessweek.com/"
      ],
      "text/plain": [
       "<IPython.core.display.HTML object>"
      ]
     },
     "metadata": {},
     "output_type": "display_data"
    },
    {
     "data": {
      "text/html": [
       "<h2 style='text-align:center;'> Texte 413746 (83 sur 84)</h2>"
      ],
      "text/plain": [
       "<IPython.core.display.HTML object>"
      ]
     },
     "metadata": {},
     "output_type": "display_data"
    },
    {
     "data": {
      "text/html": [
       "<strong>Segment :</strong> 0"
      ],
      "text/plain": [
       "<IPython.core.display.HTML object>"
      ]
     },
     "metadata": {},
     "output_type": "display_data"
    },
    {
     "data": {
      "text/html": [
       "<strong>Date :</strong> 2012-01-28"
      ],
      "text/plain": [
       "<IPython.core.display.HTML object>"
      ]
     },
     "metadata": {},
     "output_type": "display_data"
    },
    {
     "data": {
      "text/html": [
       "<strong>Auteur :</strong> Eco Daily \n"
      ],
      "text/plain": [
       "<IPython.core.display.HTML object>"
      ]
     },
     "metadata": {},
     "output_type": "display_data"
    },
    {
     "name": "stdout",
     "output_type": "stream",
     "text": [
      "Termes indexés : ['pesticides', 'effet'] \n",
      "\n",
      "Termes spécifiques présents : ['pesticides', 'effet'] \n",
      "\n",
      "Termes spécifiques absents : {'roundup', 'monsanto', 'victimes de pesticides', 'paul françois', 'céréalier charentais', 'agriculture biologique', 'syngenta', 'autorité européenne', 'monde selon monsanto', 'jeune femme', 'lasso', 'miel', 'générations futures', 'parasite', 'céréaliers', 'résidus de pesticides', 'procès', 'victimes'} \n",
      "\n"
     ]
    },
    {
     "data": {
      "text/html": [
       "Le Danemark projette une taxe sur les <mark style=\"background-color:pink\">pesticides</mark>\n",
       "COPENHAGUE (AFP) - Le Danemark veut instaurer une taxe sur les <mark style=\"background-color:pink\">pesticides</mark> destinée à réduire leur utilisation d'un tiers, a annoncé jeudi le ministère de...\n",
       "liberation.fr\n",
       "Le Danemark un exemple? Le pays veut en <mark style=\"background-color:pink\">effet</mark> instaurer une taxe sur les <mark style=\"background-color:pink\">pesticides</mark> utilisés en agriculture afin de réduire leur utilisation d'un tiers! Un projet définitivement à suivre!"
      ],
      "text/plain": [
       "<IPython.core.display.HTML object>"
      ]
     },
     "metadata": {},
     "output_type": "display_data"
    },
    {
     "data": {
      "text/html": [
       "<h2 style='text-align:center;'> Texte 413742 (84 sur 84)</h2>"
      ],
      "text/plain": [
       "<IPython.core.display.HTML object>"
      ]
     },
     "metadata": {},
     "output_type": "display_data"
    },
    {
     "data": {
      "text/html": [
       "<strong>Segment :</strong> 0"
      ],
      "text/plain": [
       "<IPython.core.display.HTML object>"
      ]
     },
     "metadata": {},
     "output_type": "display_data"
    },
    {
     "data": {
      "text/html": [
       "<strong>Date :</strong> 2012-01-30"
      ],
      "text/plain": [
       "<IPython.core.display.HTML object>"
      ]
     },
     "metadata": {},
     "output_type": "display_data"
    },
    {
     "data": {
      "text/html": [
       "<strong>Auteur :</strong> SmartPlanet.fr \n"
      ],
      "text/plain": [
       "<IPython.core.display.HTML object>"
      ]
     },
     "metadata": {},
     "output_type": "display_data"
    },
    {
     "name": "stdout",
     "output_type": "stream",
     "text": [
      "Termes indexés : ['ogm', 'herbicide', 'roundup', 'roundup de monsanto', 'monsanto', 'betterave', 'culture'] \n",
      "\n",
      "Termes spécifiques présents : ['roundup', 'monsanto'] \n",
      "\n",
      "Termes spécifiques absents : {'pesticides', 'victimes de pesticides', 'paul françois', 'céréalier charentais', 'agriculture biologique', 'syngenta', 'autorité européenne', 'monde selon monsanto', 'jeune femme', 'lasso', 'miel', 'générations futures', 'parasite', 'céréaliers', 'résidus de pesticides', 'procès', 'victimes', 'effet'} \n",
      "\n"
     ]
    },
    {
     "data": {
      "text/html": [
       "Les <mark style=\"background-color:yellow\">ogm</mark> résistants aux <mark style=\"background-color:yellow\">herbicide</mark>s, dépassés et controversés | SmartPlanet.fr\n",
       "Les semences tolérantes à l'<mark style=\"background-color:yellow\">herbicide</mark> <mark style=\"background-color:pink\">roundup</mark> de <mark style=\"background-color:pink\">monsanto</mark> ont engendré de nouvelles mauvaises herbes devenues résistantes à cet <mark style=\"background-color:yellow\">herbicide</mark>, par ailleurs soupçonné d'être potentiellement cancérigène.\n",
       "smartplanet.fr\n",
       "Introduite sur le marché depuis 2007, la <mark style=\"background-color:yellow\">betterave</mark> RR® représente aujourd’hui 95% des <mark style=\"background-color:yellow\">culture</mark>s de <mark style=\"background-color:yellow\">betterave</mark> des États-Unis"
      ],
      "text/plain": [
       "<IPython.core.display.HTML object>"
      ]
     },
     "metadata": {},
     "output_type": "display_data"
    }
   ],
   "source": [
    "nombre_texts = len(df3[\"text\"])\n",
    "\n",
    "for i, text in enumerate(df3[\"text\"]):\n",
    "    doc_id = df3[\"doc_id\"].iloc[i]\n",
    "    list_term = [x for x in df1[\"term\"].loc[(df1[\"doc_id\"] == doc_id)].unique()]\n",
    "    list_top20_term = [x for x in df1[\"term\"].loc[(df1[\"doc_id\"] == doc_id) & (df1[\"in_top20_term\"] == 1)].unique()]\n",
    "    list_top20_term_absent = set(specific_terms) - set(list_top20_term)\n",
    "    date = df3[\"date\"].iloc[i].strftime(\"%Y-%m-%d\")\n",
    "    auteur = df3[\"source\"].iloc[i]\n",
    "    display(HTML(f\"<h2 style='text-align:center;'> Texte {doc_id} ({i+1} sur {nombre_texts})</h2>\"))\n",
    "    display(HTML(f\"<strong>Segment :</strong> {segment}\"))\n",
    "    display(HTML(f\"<strong>Date :</strong> {date}\"))\n",
    "    display(HTML(f\"<strong>Auteur :</strong> {auteur} \\n\"))\n",
    "    print(f\"Termes indexés : {list_term} \\n\")\n",
    "    print(f\"Termes spécifiques présents : {list_top20_term} \\n\")\n",
    "    print(f\"Termes spécifiques absents : {list_top20_term_absent} \\n\")\n",
    "    try:\n",
    "        for j, term in enumerate(list_term):\n",
    "            if term not in list_top20_term:\n",
    "                text = re.sub(term, f'<mark style=\"background-color:yellow\">{term}</mark>', text, flags=re.I)  \n",
    "            else:\n",
    "                text = re.sub(term, f'<mark style=\"background-color:pink\">{term}</mark>', text, flags=re.I)  \n",
    "        display(HTML(f'{text}'))\n",
    "    except:\n",
    "        print(f\"{text} \\n\")\n",
    "   "
   ]
  },
  {
   "cell_type": "code",
   "execution_count": 86,
   "id": "33c2d350",
   "metadata": {},
   "outputs": [
    {
     "name": "stdout",
     "output_type": "stream",
     "text": [
      "http://www.menustoxiques.fr/pdf/doc_menubio_151211.pdf\n",
      "\n",
      "menustoxiques.fr\n",
      "Nouvelle étude comparative de Générations Futures sur les pesticides dans les aliments conventionnels comparés aux mêmes aliments Bio ! http://www.menustoxiques.fr/pdf/doc_menubio_151211.pdf\n"
     ]
    }
   ],
   "source": [
    "text = df2['text'].loc[(df2[\"doc_id\"] == \"413916\")]\n",
    "for x in text :\n",
    "    print(x)"
   ]
  },
  {
   "cell_type": "code",
   "execution_count": 133,
   "id": "40ff32f0",
   "metadata": {},
   "outputs": [],
   "source": [
    "text = \"\"\"Santé Canada reçoit l'ordre de réexaminer les effets environnementaux du Roundup | equiterre.org \n",
    "- P La Cour fédérale du Canada a ordonné à Santé Canada de réévaluer sa décision de ne pas examiner les effets \n",
    "d'un herbicide, commercialisé sous le nom de Roundup. Ce pesticide est un des plus populaires sur le marché et \n",
    "il accompagne une proportion importante des plantes modifiées génétiquement utilis... equiterre.org \n",
    "Santé Canada reçoit l'ordre de la Cour fédérale de réexaminer les effets environnementaux du RoundUp!\"\"\""
   ]
  },
  {
   "cell_type": "code",
   "execution_count": 134,
   "id": "fe5163c4",
   "metadata": {},
   "outputs": [],
   "source": [
    "list_term = [\"pesticides\", \"roundup\"]"
   ]
  },
  {
   "cell_type": "code",
   "execution_count": 135,
   "id": "65e40a45",
   "metadata": {},
   "outputs": [
    {
     "data": {
      "text/html": [
       "Santé Canada reçoit l'ordre de réexaminer les effets environnementaux du <mark style=\"background-color:yellow\">roundup</mark> | equiterre.org \n",
       "- P La Cour fédérale du Canada a ordonné à Santé Canada de réévaluer sa décision de ne pas examiner les effets \n",
       "d'un herbicide, commercialisé sous le nom de <mark style=\"background-color:yellow\">roundup</mark>. Ce pesticide est un des plus populaires sur le marché et \n",
       "il accompagne une proportion importante des plantes modifiées génétiquement utilis... equiterre.org \n",
       "Santé Canada reçoit l'ordre de la Cour fédérale de réexaminer les effets environnementaux du <mark style=\"background-color:yellow\">roundup</mark>!"
      ],
      "text/plain": [
       "<IPython.core.display.HTML object>"
      ]
     },
     "metadata": {},
     "output_type": "display_data"
    }
   ],
   "source": [
    "import re\n",
    "for j, term in enumerate(list_term):\n",
    "    if term[-1]== \"s\":\n",
    "        singular_term = term[0:-1]\n",
    "    else:\n",
    "        singular_term = term\n",
    "    #text = text.replace(term[0:len(term)-1], f'<mark style=\"background-color:yellow\">{term}</mark>')\n",
    "    text = re.sub(term, f'<mark style=\"background-color:yellow\">{term}</mark>', text, flags=re.I)          #\n",
    "\n",
    "display(HTML(f'{text}'))"
   ]
  },
  {
   "cell_type": "code",
   "execution_count": null,
   "id": "dd61d4dc",
   "metadata": {},
   "outputs": [],
   "source": []
  }
 ],
 "metadata": {
  "kernelspec": {
   "display_name": "analyse_tweets",
   "language": "python",
   "name": "analyse_tweets"
  },
  "language_info": {
   "codemirror_mode": {
    "name": "ipython",
    "version": 3
   },
   "file_extension": ".py",
   "mimetype": "text/x-python",
   "name": "python",
   "nbconvert_exporter": "python",
   "pygments_lexer": "ipython3",
   "version": "3.9.7"
  }
 },
 "nbformat": 4,
 "nbformat_minor": 5
}
