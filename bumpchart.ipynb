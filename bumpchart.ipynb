{
 "cells": [
  {
   "cell_type": "code",
   "execution_count": 4,
   "id": "d78428b3",
   "metadata": {},
   "outputs": [],
   "source": [
    "import pandas as pd\n",
    "#import bamboolib\n",
    "import os\n",
    "import datetime\n",
    "import numpy as np\n",
    "from matplotlib import pyplot\n",
    "from matplotlib.ticker import MultipleLocator, FixedFormatter, FixedLocator\n",
    "import plotly.express as px\n",
    "import plotly.graph_objects as go\n",
    "import seaborn as sns\n",
    "from scipy.cluster.hierarchy import linkage, dendrogram, fcluster\n",
    "from scipy.spatial.distance import squareform\n"
   ]
  },
  {
   "cell_type": "markdown",
   "id": "9c8a7379",
   "metadata": {},
   "source": [
    "## Chemins des fichiers"
   ]
  },
  {
   "cell_type": "code",
   "execution_count": 5,
   "id": "7ec160c6",
   "metadata": {},
   "outputs": [],
   "source": [
    "#a changer localement\n",
    "aymeric = \"/home/aymeric/python-scripts/anses_medialab/datas/\" #aymeric\n",
    "jp = 'd:/Projects/Medialab/Anses/' # Jean Philippe\n",
    "\n",
    "\n",
    "path_base = aymeric\n",
    "file_segmentation = f\"{path_base}segmentation_common_freq.csv\"\n",
    "\n",
    "index=f\"{path_base}index_alldefault_nameexhaustive_aymeric.csv\"\n",
    "\n",
    "all_corpus = f\"{path_base}all_corpus_seg_with_sdhi_PI.csv\"\n",
    "\n",
    "#twittos = f\"{path_base}tweets_pesticides/500_first_twittos_on_pesticides.csv\"\n",
    "\n",
    "\n",
    "\n",
    "\n",
    "path_base=''\n",
    "file_segmentation = f\"{path_base}segmentation_common_freq.csv\"\n",
    "\n",
    "index=f\"{path_base}./indexation_results/index_alldefault_nameexhaustive_aymeric.csv\"\n",
    "\n"
   ]
  },
  {
   "cell_type": "markdown",
   "id": "51ea6870",
   "metadata": {},
   "source": [
    "## Chargement des données"
   ]
  },
  {
   "cell_type": "code",
   "execution_count": 6,
   "id": "7cc1b916",
   "metadata": {},
   "outputs": [],
   "source": [
    "#df0 = pd.read_csv(all_corpus, sep = \"\\t\")\n",
    "df_index = pd.read_csv(index, sep = \"\\t\")\n",
    "dfseg = pd.read_csv(file_segmentation, sep = \"\\t\")\n",
    "\n",
    "df_index['date'] = pd.to_datetime(df_index['date'], infer_datetime_format=True)\n",
    "df_index['yearmonth']=(df_index['date'].dt.strftime('%Y-%m'))\n",
    "\n",
    "df_index['date'] = df_index['date'].dt.date"
   ]
  },
  {
   "cell_type": "markdown",
   "id": "da23f7b5",
   "metadata": {},
   "source": [
    "## Fusion segment + indexation"
   ]
  },
  {
   "cell_type": "code",
   "execution_count": 7,
   "id": "4e25ca68",
   "metadata": {},
   "outputs": [],
   "source": [
    "segment = dfseg[[\"yearmonth\", \"segm\", \"origin\"]]\n",
    "\n",
    "\n",
    "df0 = df_index.merge(segment, how = \"inner\", on = [\"origin\", \"yearmonth\"])\n",
    "df0[\"start_segment\"] = df0.groupby(['origin','segm'])[\"date\"].transform('min')\n",
    "df0[\"end_segment\"] = df0.groupby(['origin','segm'])[\"date\"].transform('max')\n"
   ]
  },
  {
   "cell_type": "markdown",
   "id": "5a2f0949",
   "metadata": {},
   "source": [
    "## Bump Chart"
   ]
  },
  {
   "cell_type": "code",
   "execution_count": 8,
   "id": "c431a5c5",
   "metadata": {},
   "outputs": [],
   "source": [
    "def ranked_element(data, which, top_rank):\n",
    "    \"\"\"\n",
    "    data = the dataframe\n",
    "    which = a string ; the variable that we want to rank and display on bump chart\n",
    "    top_rank = an integer ; the rank that values should reach at least one time to be part of bump chart\n",
    "    \"\"\"\n",
    "    \n",
    "    df = (\n",
    "        data\n",
    "          .value_counts([\"origin\", which, 'segm', 'start_segment'])\n",
    "          .groupby([\"origin\", \"segm\"])\n",
    "          .rank(\"first\", ascending=False)\n",
    "          .rename(\"rank\")\n",
    "          .sort_index()\n",
    "          .reset_index()\n",
    "         )\n",
    "    \n",
    "    if top_rank is not None :\n",
    "        df.loc[df[\"rank\"] > top_rank, f\"top_rank_{top_rank}\"] = 0\n",
    "        df.loc[df[\"rank\"] < top_rank, f\"top_rank_{top_rank}\"] = 1\n",
    "        df[\"count_rank\"] = df.groupby([\"origin\",which])[f\"top_rank_{top_rank}\"].transform(\"sum\")\n",
    "        df = df.loc[df[\"count_rank\"] >= 1]\n",
    "    else:\n",
    "        pass\n",
    "    \n",
    "    ## Compute correlation matrix for each origin\n",
    "    \n",
    "    new_df0 = pd.DataFrame(columns=[\"term\", 'cluster', 'origin']) \n",
    "    list_Z = []\n",
    "    for x in df[\"origin\"].unique():\n",
    "        t = pd.pivot_table(df.loc[df[\"origin\"] == x], \n",
    "                           index = \"segm\", columns = \"term\", \n",
    "                           values = \"rank\", fill_value=0)\n",
    "        \n",
    "        dissimilarity = 1 - abs(t.corr())\n",
    "        \n",
    "  \n",
    "        Z = linkage(squareform(dissimilarity), 'complete') \n",
    "        list_Z.append(Z)\n",
    "        threshold = 0.8\n",
    "        labels = fcluster(Z, threshold, criterion='distance')\n",
    "    \n",
    "        name = [x for x in t.columns]\n",
    "        cluster = [y for y in labels]\n",
    "    \n",
    "        new_df = pd.DataFrame(data = {\"term\": name, \"cluster\": cluster})\n",
    "        new_df[\"origin\"] = x\n",
    "        new_df0 = pd.concat([new_df0, new_df], axis=0, ignore_index=True)\n",
    "    \n",
    "    \n",
    "    df = df.merge(new_df0, how = \"left\", on = [\"origin\",which])\n",
    "    \n",
    "    \n",
    "    \n",
    "    \n",
    "    return df, list_Z, new_df0\n",
    "    \n"
   ]
  },
  {
   "cell_type": "code",
   "execution_count": 9,
   "id": "c0c79d4e",
   "metadata": {},
   "outputs": [],
   "source": [
    "def bump_chart(data, which):\n",
    "    \n",
    "    \"\"\"\n",
    "    data = the dataframe\n",
    "    \"\"\"\n",
    "    \n",
    "    list_origin = [\"media\", \"twitter\", \"facebook\"]\n",
    "\n",
    "\n",
    "    for n, x in enumerate(list_origin):\n",
    "    \n",
    "        df = data.loc[data[\"origin\"]== x]\n",
    "        n_top_ranked = 10\n",
    "        top_sources = df[df[\"segm\"] == df[\"segm\"].max()].nsmallest(n_top_ranked, \"rank\")\n",
    "\n",
    "        fig, ax = plt.subplots(figsize=(16, 10), subplot_kw=dict(ylim=(0.5, 0.5 + n_top_ranked)))\n",
    "        \n",
    "        fig.suptitle(x, fontsize=16)\n",
    "\n",
    "\n",
    "        ax.xaxis.set_major_locator(MultipleLocator(1))\n",
    "        ax.yaxis.set_major_locator(MultipleLocator(1))\n",
    "\n",
    "        yax2 = ax.secondary_yaxis(\"right\")\n",
    "        yax2.yaxis.set_major_locator(FixedLocator(top_sources[\"rank\"].to_list()))\n",
    "        yax2.yaxis.set_major_formatter(FixedFormatter(top_sources[which].to_list()))\n",
    "\n",
    "\n",
    "        for i, j in df.groupby([which]):\n",
    "            ax = plt.plot(\"segm\", \"rank\", \"o-\", data=j)\n",
    "            \n",
    "\n",
    "        plt.gca().invert_yaxis()\n",
    "    \n",
    "    return fig"
   ]
  },
  {
   "cell_type": "code",
   "execution_count": 10,
   "id": "0e152a37",
   "metadata": {},
   "outputs": [],
   "source": [
    "def interactive_bump_chart(data, which, cluster):\n",
    "\n",
    "    if cluster is None :\n",
    "        pass\n",
    "    else:\n",
    "        data[\"cluster\"] = pd.to_numeric(data[\"cluster\"])\n",
    "        data = data.loc[data[\"cluster\"] == cluster]\n",
    "        \n",
    "    fig = px.line(data, x=\"start_segment\", y=\"rank\", color = which, facet_row=\"origin\").update_traces(mode='markers+lines')\n",
    "    fig['layout']['yaxis']['autorange'] = \"reversed\"\n",
    "\n",
    "    fig.show()"
   ]
  },
  {
   "cell_type": "code",
   "execution_count": 117,
   "id": "b99d1bb8",
   "metadata": {},
   "outputs": [],
   "source": [
    "df, Z, new_df0 = ranked_element(data = df0, which=\"term\", top_rank= 25)"
   ]
  },
  {
   "cell_type": "code",
   "execution_count": 118,
   "id": "affa1865",
   "metadata": {},
   "outputs": [
    {
     "data": {
      "application/vnd.plotly.v1+json": {
       "config": {
        "plotlyServerURL": "https://plot.ly"
       },
       "data": [
        {
         "hovertemplate": "term=abeilles<br>origin=facebook<br>start_segment=%{x}<br>rank=%{y}<extra></extra>",
         "legendgroup": "abeilles",
         "line": {
          "color": "#636efa",
          "dash": "solid"
         },
         "marker": {
          "symbol": "circle"
         },
         "mode": "markers+lines",
         "name": "abeilles",
         "showlegend": true,
         "type": "scattergl",
         "x": [
          "2011-11-16",
          "2012-02-01",
          "2012-07-01",
          "2012-12-01",
          "2014-03-01",
          "2015-03-01",
          "2015-12-01",
          "2016-10-01",
          "2018-05-01",
          "2019-06-01",
          "2020-08-01",
          "2021-04-01",
          "2021-12-01"
         ],
         "xaxis": "x3",
         "y": [
          14,
          5,
          9,
          3,
          2,
          5,
          7,
          6,
          9,
          13,
          11,
          10,
          42
         ],
         "yaxis": "y3"
        },
        {
         "hovertemplate": "term=abeilles<br>origin=media<br>start_segment=%{x}<br>rank=%{y}<extra></extra>",
         "legendgroup": "abeilles",
         "line": {
          "color": "#636efa",
          "dash": "solid"
         },
         "marker": {
          "symbol": "circle"
         },
         "mode": "markers+lines",
         "name": "abeilles",
         "showlegend": false,
         "type": "scattergl",
         "x": [
          "2011-03-31",
          "2011-11-03",
          "2012-11-14",
          "2013-01-07",
          "2014-07-01",
          "2015-09-01",
          "2018-04-01",
          "2019-08-01",
          "2021-08-01"
         ],
         "xaxis": "x2",
         "y": [
          7,
          27,
          71,
          2,
          5,
          25,
          22,
          39,
          31
         ],
         "yaxis": "y2"
        },
        {
         "hovertemplate": "term=abeilles<br>origin=twitter<br>start_segment=%{x}<br>rank=%{y}<extra></extra>",
         "legendgroup": "abeilles",
         "line": {
          "color": "#636efa",
          "dash": "solid"
         },
         "marker": {
          "symbol": "circle"
         },
         "mode": "markers+lines",
         "name": "abeilles",
         "showlegend": false,
         "type": "scattergl",
         "x": [
          "2010-02-01",
          "2010-09-01",
          "2012-07-01",
          "2013-12-01",
          "2015-10-01",
          "2017-09-01",
          "2019-06-01",
          "2020-08-01"
         ],
         "xaxis": "x",
         "y": [
          10,
          2,
          2,
          3,
          4,
          7,
          6,
          5
         ],
         "yaxis": "y"
        },
        {
         "hovertemplate": "term=agriculteur<br>origin=facebook<br>start_segment=%{x}<br>rank=%{y}<extra></extra>",
         "legendgroup": "agriculteur",
         "line": {
          "color": "#EF553B",
          "dash": "solid"
         },
         "marker": {
          "symbol": "circle"
         },
         "mode": "markers+lines",
         "name": "agriculteur",
         "showlegend": true,
         "type": "scattergl",
         "x": [
          "2011-11-16",
          "2012-02-01",
          "2012-07-01",
          "2012-12-01",
          "2014-03-01",
          "2015-03-01",
          "2015-12-01",
          "2016-10-01",
          "2018-05-01",
          "2019-06-01",
          "2020-08-01",
          "2021-04-01",
          "2021-12-01"
         ],
         "xaxis": "x3",
         "y": [
          5,
          4,
          18,
          13,
          13,
          12,
          15,
          7,
          8,
          5,
          10,
          12,
          17
         ],
         "yaxis": "y3"
        },
        {
         "hovertemplate": "term=agriculteur<br>origin=media<br>start_segment=%{x}<br>rank=%{y}<extra></extra>",
         "legendgroup": "agriculteur",
         "line": {
          "color": "#EF553B",
          "dash": "solid"
         },
         "marker": {
          "symbol": "circle"
         },
         "mode": "markers+lines",
         "name": "agriculteur",
         "showlegend": false,
         "type": "scattergl",
         "x": [
          "2010-09-16",
          "2011-01-19",
          "2011-03-31",
          "2011-09-08",
          "2011-11-03",
          "2013-01-07",
          "2014-07-01",
          "2015-09-01",
          "2018-04-01",
          "2019-08-01",
          "2021-08-01"
         ],
         "xaxis": "x2",
         "y": [
          106,
          38,
          73,
          49,
          13,
          8,
          3,
          4,
          8,
          3,
          24
         ],
         "yaxis": "y2"
        },
        {
         "hovertemplate": "term=agriculteur<br>origin=twitter<br>start_segment=%{x}<br>rank=%{y}<extra></extra>",
         "legendgroup": "agriculteur",
         "line": {
          "color": "#EF553B",
          "dash": "solid"
         },
         "marker": {
          "symbol": "circle"
         },
         "mode": "markers+lines",
         "name": "agriculteur",
         "showlegend": false,
         "type": "scattergl",
         "x": [
          "2010-02-01",
          "2010-09-01",
          "2012-07-01",
          "2013-12-01",
          "2015-10-01",
          "2017-09-01",
          "2019-06-01",
          "2020-08-01"
         ],
         "xaxis": "x",
         "y": [
          12,
          5,
          20,
          16,
          14,
          6,
          3,
          8
         ],
         "yaxis": "y"
        },
        {
         "hovertemplate": "term=aliments<br>origin=facebook<br>start_segment=%{x}<br>rank=%{y}<extra></extra>",
         "legendgroup": "aliments",
         "line": {
          "color": "#00cc96",
          "dash": "solid"
         },
         "marker": {
          "symbol": "circle"
         },
         "mode": "markers+lines",
         "name": "aliments",
         "showlegend": true,
         "type": "scattergl",
         "x": [
          "2011-11-16",
          "2012-02-01",
          "2012-07-01",
          "2012-12-01",
          "2014-03-01",
          "2015-03-01",
          "2015-12-01",
          "2016-10-01",
          "2018-05-01",
          "2019-06-01",
          "2020-08-01",
          "2021-04-01",
          "2021-12-01"
         ],
         "xaxis": "x3",
         "y": [
          9,
          52,
          37,
          20,
          23,
          23,
          18,
          22,
          49,
          46,
          50,
          22,
          16
         ],
         "yaxis": "y3"
        },
        {
         "hovertemplate": "term=aliments<br>origin=media<br>start_segment=%{x}<br>rank=%{y}<extra></extra>",
         "legendgroup": "aliments",
         "line": {
          "color": "#00cc96",
          "dash": "solid"
         },
         "marker": {
          "symbol": "circle"
         },
         "mode": "markers+lines",
         "name": "aliments",
         "showlegend": false,
         "type": "scattergl",
         "x": [
          "2010-09-16",
          "2011-01-19",
          "2011-09-08",
          "2011-11-03",
          "2012-11-14",
          "2013-01-07",
          "2014-07-01",
          "2015-09-01",
          "2018-04-01",
          "2019-08-01",
          "2021-08-01"
         ],
         "xaxis": "x2",
         "y": [
          6,
          54,
          55,
          24,
          22,
          53,
          92,
          67,
          59,
          74,
          77
         ],
         "yaxis": "y2"
        },
        {
         "hovertemplate": "term=aliments<br>origin=twitter<br>start_segment=%{x}<br>rank=%{y}<extra></extra>",
         "legendgroup": "aliments",
         "line": {
          "color": "#00cc96",
          "dash": "solid"
         },
         "marker": {
          "symbol": "circle"
         },
         "mode": "markers+lines",
         "name": "aliments",
         "showlegend": false,
         "type": "scattergl",
         "x": [
          "2010-02-01",
          "2010-09-01",
          "2012-07-01",
          "2013-12-01",
          "2015-10-01",
          "2017-09-01",
          "2019-06-01",
          "2020-08-01"
         ],
         "xaxis": "x",
         "y": [
          33,
          22,
          27,
          29,
          38,
          61,
          85,
          69
         ],
         "yaxis": "y"
        },
        {
         "hovertemplate": "term=alternatives<br>origin=facebook<br>start_segment=%{x}<br>rank=%{y}<extra></extra>",
         "legendgroup": "alternatives",
         "line": {
          "color": "#ab63fa",
          "dash": "solid"
         },
         "marker": {
          "symbol": "circle"
         },
         "mode": "markers+lines",
         "name": "alternatives",
         "showlegend": true,
         "type": "scattergl",
         "x": [
          "2011-11-16",
          "2012-02-01",
          "2012-07-01",
          "2012-12-01",
          "2014-03-01",
          "2015-03-01",
          "2015-12-01",
          "2016-10-01",
          "2018-05-01",
          "2019-06-01",
          "2020-08-01",
          "2021-04-01",
          "2021-12-01"
         ],
         "xaxis": "x3",
         "y": [
          72,
          29,
          44,
          17,
          20,
          24,
          19,
          9,
          32,
          57,
          23,
          68,
          55
         ],
         "yaxis": "y3"
        },
        {
         "hovertemplate": "term=alternatives<br>origin=twitter<br>start_segment=%{x}<br>rank=%{y}<extra></extra>",
         "legendgroup": "alternatives",
         "line": {
          "color": "#ab63fa",
          "dash": "solid"
         },
         "marker": {
          "symbol": "circle"
         },
         "mode": "markers+lines",
         "name": "alternatives",
         "showlegend": false,
         "type": "scattergl",
         "x": [
          "2010-02-01",
          "2010-09-01",
          "2012-07-01",
          "2013-12-01",
          "2015-10-01",
          "2017-09-01",
          "2019-06-01",
          "2020-08-01"
         ],
         "xaxis": "x",
         "y": [
          18,
          15,
          14,
          17,
          21,
          19,
          46,
          19
         ],
         "yaxis": "y"
        },
        {
         "hovertemplate": "term=animal<br>origin=facebook<br>start_segment=%{x}<br>rank=%{y}<extra></extra>",
         "legendgroup": "animal",
         "line": {
          "color": "#FFA15A",
          "dash": "solid"
         },
         "marker": {
          "symbol": "circle"
         },
         "mode": "markers+lines",
         "name": "animal",
         "showlegend": true,
         "type": "scattergl",
         "x": [
          "2011-11-16",
          "2012-02-01",
          "2012-07-01",
          "2012-12-01",
          "2014-03-01",
          "2015-03-01",
          "2015-12-01",
          "2016-10-01",
          "2018-05-01",
          "2019-06-01",
          "2020-08-01",
          "2021-04-01",
          "2021-12-01"
         ],
         "xaxis": "x3",
         "y": [
          194,
          44,
          49,
          57,
          30,
          40,
          36,
          40,
          41,
          20,
          27,
          24,
          18
         ],
         "yaxis": "y3"
        },
        {
         "hovertemplate": "term=animal<br>origin=media<br>start_segment=%{x}<br>rank=%{y}<extra></extra>",
         "legendgroup": "animal",
         "line": {
          "color": "#FFA15A",
          "dash": "solid"
         },
         "marker": {
          "symbol": "circle"
         },
         "mode": "markers+lines",
         "name": "animal",
         "showlegend": false,
         "type": "scattergl",
         "x": [
          "2010-09-16",
          "2011-01-19",
          "2011-03-31",
          "2011-09-08",
          "2011-11-03",
          "2012-11-14",
          "2013-01-07",
          "2014-07-01",
          "2015-09-01",
          "2018-04-01",
          "2019-08-01",
          "2021-08-01"
         ],
         "xaxis": "x2",
         "y": [
          61,
          5,
          28,
          14,
          15,
          23,
          42,
          32,
          38,
          49,
          29,
          33
         ],
         "yaxis": "y2"
        },
        {
         "hovertemplate": "term=arrêté<br>origin=facebook<br>start_segment=%{x}<br>rank=%{y}<extra></extra>",
         "legendgroup": "arrêté",
         "line": {
          "color": "#19d3f3",
          "dash": "solid"
         },
         "marker": {
          "symbol": "circle"
         },
         "mode": "markers+lines",
         "name": "arrêté",
         "showlegend": true,
         "type": "scattergl",
         "x": [
          "2011-11-16",
          "2012-02-01",
          "2012-07-01",
          "2012-12-01",
          "2014-03-01",
          "2015-03-01",
          "2015-12-01",
          "2016-10-01",
          "2018-05-01",
          "2019-06-01",
          "2020-08-01",
          "2021-04-01",
          "2021-12-01"
         ],
         "xaxis": "x3",
         "y": [
          189,
          157,
          69,
          138,
          141,
          130,
          150,
          147,
          187,
          6,
          88,
          162,
          186
         ],
         "yaxis": "y3"
        },
        {
         "hovertemplate": "term=arrêté<br>origin=twitter<br>start_segment=%{x}<br>rank=%{y}<extra></extra>",
         "legendgroup": "arrêté",
         "line": {
          "color": "#19d3f3",
          "dash": "solid"
         },
         "marker": {
          "symbol": "circle"
         },
         "mode": "markers+lines",
         "name": "arrêté",
         "showlegend": false,
         "type": "scattergl",
         "x": [
          "2010-09-01",
          "2012-07-01",
          "2013-12-01",
          "2015-10-01",
          "2017-09-01",
          "2019-06-01",
          "2020-08-01"
         ],
         "xaxis": "x",
         "y": [
          242,
          149,
          135,
          79,
          165,
          5,
          93
         ],
         "yaxis": "y"
        },
        {
         "hovertemplate": "term=associations<br>origin=facebook<br>start_segment=%{x}<br>rank=%{y}<extra></extra>",
         "legendgroup": "associations",
         "line": {
          "color": "#FF6692",
          "dash": "solid"
         },
         "marker": {
          "symbol": "circle"
         },
         "mode": "markers+lines",
         "name": "associations",
         "showlegend": true,
         "type": "scattergl",
         "x": [
          "2011-11-16",
          "2012-02-01",
          "2012-07-01",
          "2012-12-01",
          "2014-03-01",
          "2015-03-01",
          "2015-12-01",
          "2016-10-01",
          "2018-05-01",
          "2019-06-01",
          "2020-08-01",
          "2021-04-01",
          "2021-12-01"
         ],
         "xaxis": "x3",
         "y": [
          42,
          24,
          47,
          44,
          55,
          51,
          65,
          35,
          60,
          38,
          39,
          54,
          36
         ],
         "yaxis": "y3"
        },
        {
         "hovertemplate": "term=betterave<br>origin=facebook<br>start_segment=%{x}<br>rank=%{y}<extra></extra>",
         "legendgroup": "betterave",
         "line": {
          "color": "#B6E880",
          "dash": "solid"
         },
         "marker": {
          "symbol": "circle"
         },
         "mode": "markers+lines",
         "name": "betterave",
         "showlegend": true,
         "type": "scattergl",
         "x": [
          "2011-11-16",
          "2012-02-01",
          "2012-07-01",
          "2012-12-01",
          "2014-03-01",
          "2015-03-01",
          "2015-12-01",
          "2016-10-01",
          "2018-05-01",
          "2019-06-01",
          "2020-08-01",
          "2021-04-01",
          "2021-12-01"
         ],
         "xaxis": "x3",
         "y": [
          164,
          253,
          271,
          243,
          271,
          257,
          227,
          267,
          237,
          220,
          8,
          151,
          56
         ],
         "yaxis": "y3"
        },
        {
         "hovertemplate": "term=betterave<br>origin=twitter<br>start_segment=%{x}<br>rank=%{y}<extra></extra>",
         "legendgroup": "betterave",
         "line": {
          "color": "#B6E880",
          "dash": "solid"
         },
         "marker": {
          "symbol": "circle"
         },
         "mode": "markers+lines",
         "name": "betterave",
         "showlegend": false,
         "type": "scattergl",
         "x": [
          "2010-09-01",
          "2012-07-01",
          "2013-12-01",
          "2015-10-01",
          "2017-09-01",
          "2019-06-01",
          "2020-08-01"
         ],
         "xaxis": "x",
         "y": [
          180,
          287,
          264,
          242,
          180,
          139,
          4
         ],
         "yaxis": "y"
        },
        {
         "hovertemplate": "term=campagne<br>origin=facebook<br>start_segment=%{x}<br>rank=%{y}<extra></extra>",
         "legendgroup": "campagne",
         "line": {
          "color": "#FF97FF",
          "dash": "solid"
         },
         "marker": {
          "symbol": "circle"
         },
         "mode": "markers+lines",
         "name": "campagne",
         "showlegend": true,
         "type": "scattergl",
         "x": [
          "2011-11-16",
          "2012-02-01",
          "2012-07-01",
          "2012-12-01",
          "2014-03-01",
          "2015-03-01",
          "2015-12-01",
          "2016-10-01",
          "2018-05-01",
          "2019-06-01",
          "2020-08-01",
          "2021-04-01",
          "2021-12-01"
         ],
         "xaxis": "x3",
         "y": [
          21,
          35,
          41,
          56,
          49,
          66,
          55,
          45,
          14,
          32,
          46,
          39,
          41
         ],
         "yaxis": "y3"
        },
        {
         "hovertemplate": "term=campagne<br>origin=media<br>start_segment=%{x}<br>rank=%{y}<extra></extra>",
         "legendgroup": "campagne",
         "line": {
          "color": "#FF97FF",
          "dash": "solid"
         },
         "marker": {
          "symbol": "circle"
         },
         "mode": "markers+lines",
         "name": "campagne",
         "showlegend": false,
         "type": "scattergl",
         "x": [
          "2010-09-16",
          "2011-01-19",
          "2011-03-31",
          "2011-11-03",
          "2012-11-14",
          "2013-01-07",
          "2014-07-01",
          "2015-09-01",
          "2018-04-01",
          "2019-08-01",
          "2021-08-01"
         ],
         "xaxis": "x2",
         "y": [
          103,
          17,
          49,
          132,
          65,
          47,
          47,
          51,
          41,
          46,
          49
         ],
         "yaxis": "y2"
        },
        {
         "hovertemplate": "term=cancers<br>origin=facebook<br>start_segment=%{x}<br>rank=%{y}<extra></extra>",
         "legendgroup": "cancers",
         "line": {
          "color": "#FECB52",
          "dash": "solid"
         },
         "marker": {
          "symbol": "circle"
         },
         "mode": "markers+lines",
         "name": "cancers",
         "showlegend": true,
         "type": "scattergl",
         "x": [
          "2011-11-16",
          "2012-02-01",
          "2012-07-01",
          "2012-12-01",
          "2014-03-01",
          "2015-03-01",
          "2015-12-01",
          "2016-10-01",
          "2018-05-01",
          "2019-06-01",
          "2020-08-01",
          "2021-04-01",
          "2021-12-01"
         ],
         "xaxis": "x3",
         "y": [
          25,
          16,
          21,
          15,
          24,
          9,
          29,
          26,
          13,
          33,
          31,
          33,
          22
         ],
         "yaxis": "y3"
        },
        {
         "hovertemplate": "term=cancers<br>origin=media<br>start_segment=%{x}<br>rank=%{y}<extra></extra>",
         "legendgroup": "cancers",
         "line": {
          "color": "#FECB52",
          "dash": "solid"
         },
         "marker": {
          "symbol": "circle"
         },
         "mode": "markers+lines",
         "name": "cancers",
         "showlegend": false,
         "type": "scattergl",
         "x": [
          "2010-09-16",
          "2011-01-19",
          "2011-03-31",
          "2011-09-08",
          "2011-11-03",
          "2012-11-14",
          "2013-01-07",
          "2014-07-01",
          "2015-09-01",
          "2018-04-01",
          "2019-08-01",
          "2021-08-01"
         ],
         "xaxis": "x2",
         "y": [
          5,
          76,
          19,
          5,
          25,
          61,
          38,
          12,
          15,
          12,
          52,
          22
         ],
         "yaxis": "y2"
        },
        {
         "hovertemplate": "term=cancers<br>origin=twitter<br>start_segment=%{x}<br>rank=%{y}<extra></extra>",
         "legendgroup": "cancers",
         "line": {
          "color": "#FECB52",
          "dash": "solid"
         },
         "marker": {
          "symbol": "circle"
         },
         "mode": "markers+lines",
         "name": "cancers",
         "showlegend": false,
         "type": "scattergl",
         "x": [
          "2010-02-01",
          "2010-09-01",
          "2012-07-01",
          "2013-12-01",
          "2015-10-01",
          "2017-09-01",
          "2019-06-01",
          "2020-08-01"
         ],
         "xaxis": "x",
         "y": [
          4,
          21,
          24,
          7,
          17,
          9,
          14,
          12
         ],
         "yaxis": "y"
        },
        {
         "hovertemplate": "term=chlordécone<br>origin=facebook<br>start_segment=%{x}<br>rank=%{y}<extra></extra>",
         "legendgroup": "chlordécone",
         "line": {
          "color": "#636efa",
          "dash": "solid"
         },
         "marker": {
          "symbol": "circle"
         },
         "mode": "markers+lines",
         "name": "chlordécone",
         "showlegend": true,
         "type": "scattergl",
         "x": [
          "2011-11-16",
          "2012-02-01",
          "2012-07-01",
          "2012-12-01",
          "2014-03-01",
          "2015-03-01",
          "2015-12-01",
          "2016-10-01",
          "2018-05-01",
          "2019-06-01",
          "2020-08-01",
          "2021-04-01",
          "2021-12-01"
         ],
         "xaxis": "x3",
         "y": [
          146,
          103,
          50,
          71,
          143,
          167,
          202,
          103,
          37,
          35,
          24,
          35,
          31
         ],
         "yaxis": "y3"
        },
        {
         "hovertemplate": "term=chlordécone<br>origin=media<br>start_segment=%{x}<br>rank=%{y}<extra></extra>",
         "legendgroup": "chlordécone",
         "line": {
          "color": "#636efa",
          "dash": "solid"
         },
         "marker": {
          "symbol": "circle"
         },
         "mode": "markers+lines",
         "name": "chlordécone",
         "showlegend": false,
         "type": "scattergl",
         "x": [
          "2011-11-03",
          "2013-01-07",
          "2014-07-01",
          "2015-09-01",
          "2018-04-01",
          "2019-08-01",
          "2021-08-01"
         ],
         "xaxis": "x2",
         "y": [
          37,
          217,
          253,
          228,
          78,
          96,
          18
         ],
         "yaxis": "y2"
        },
        {
         "hovertemplate": "term=chlordécone<br>origin=twitter<br>start_segment=%{x}<br>rank=%{y}<extra></extra>",
         "legendgroup": "chlordécone",
         "line": {
          "color": "#636efa",
          "dash": "solid"
         },
         "marker": {
          "symbol": "circle"
         },
         "mode": "markers+lines",
         "name": "chlordécone",
         "showlegend": false,
         "type": "scattergl",
         "x": [
          "2010-02-01",
          "2010-09-01",
          "2012-07-01",
          "2013-12-01",
          "2015-10-01",
          "2017-09-01",
          "2019-06-01",
          "2020-08-01"
         ],
         "xaxis": "x",
         "y": [
          2,
          23,
          12,
          38,
          104,
          15,
          7,
          7
         ],
         "yaxis": "y"
        },
        {
         "hovertemplate": "term=citoyens<br>origin=facebook<br>start_segment=%{x}<br>rank=%{y}<extra></extra>",
         "legendgroup": "citoyens",
         "line": {
          "color": "#EF553B",
          "dash": "solid"
         },
         "marker": {
          "symbol": "circle"
         },
         "mode": "markers+lines",
         "name": "citoyens",
         "showlegend": true,
         "type": "scattergl",
         "x": [
          "2011-11-16",
          "2012-02-01",
          "2012-07-01",
          "2012-12-01",
          "2014-03-01",
          "2015-03-01",
          "2015-12-01",
          "2016-10-01",
          "2018-05-01",
          "2019-06-01",
          "2020-08-01",
          "2021-04-01",
          "2021-12-01"
         ],
         "xaxis": "x3",
         "y": [
          106,
          21,
          35,
          14,
          38,
          29,
          33,
          43,
          18,
          42,
          59,
          63,
          67
         ],
         "yaxis": "y3"
        },
        {
         "hovertemplate": "term=citoyens<br>origin=media<br>start_segment=%{x}<br>rank=%{y}<extra></extra>",
         "legendgroup": "citoyens",
         "line": {
          "color": "#EF553B",
          "dash": "solid"
         },
         "marker": {
          "symbol": "circle"
         },
         "mode": "markers+lines",
         "name": "citoyens",
         "showlegend": false,
         "type": "scattergl",
         "x": [
          "2010-09-16",
          "2011-01-19",
          "2011-11-03",
          "2012-11-14",
          "2013-01-07",
          "2014-07-01",
          "2015-09-01",
          "2018-04-01",
          "2019-08-01",
          "2021-08-01"
         ],
         "xaxis": "x2",
         "y": [
          111,
          16,
          166,
          60,
          104,
          116,
          83,
          52,
          54,
          90
         ],
         "yaxis": "y2"
        },
        {
         "hovertemplate": "term=citoyens<br>origin=twitter<br>start_segment=%{x}<br>rank=%{y}<extra></extra>",
         "legendgroup": "citoyens",
         "line": {
          "color": "#EF553B",
          "dash": "solid"
         },
         "marker": {
          "symbol": "circle"
         },
         "mode": "markers+lines",
         "name": "citoyens",
         "showlegend": false,
         "type": "scattergl",
         "x": [
          "2010-02-01",
          "2010-09-01",
          "2012-07-01",
          "2013-12-01",
          "2015-10-01",
          "2017-09-01",
          "2019-06-01",
          "2020-08-01"
         ],
         "xaxis": "x",
         "y": [
          197,
          136,
          18,
          143,
          41,
          54,
          86,
          111
         ],
         "yaxis": "y"
        },
        {
         "hovertemplate": "term=commission<br>origin=facebook<br>start_segment=%{x}<br>rank=%{y}<extra></extra>",
         "legendgroup": "commission",
         "line": {
          "color": "#00cc96",
          "dash": "solid"
         },
         "marker": {
          "symbol": "circle"
         },
         "mode": "markers+lines",
         "name": "commission",
         "showlegend": true,
         "type": "scattergl",
         "x": [
          "2011-11-16",
          "2012-02-01",
          "2012-07-01",
          "2012-12-01",
          "2014-03-01",
          "2015-03-01",
          "2015-12-01",
          "2016-10-01",
          "2018-05-01",
          "2019-06-01",
          "2020-08-01",
          "2021-04-01",
          "2021-12-01"
         ],
         "xaxis": "x3",
         "y": [
          68,
          59,
          68,
          27,
          68,
          42,
          9,
          12,
          58,
          43,
          79,
          81,
          92
         ],
         "yaxis": "y3"
        },
        {
         "hovertemplate": "term=commission<br>origin=media<br>start_segment=%{x}<br>rank=%{y}<extra></extra>",
         "legendgroup": "commission",
         "line": {
          "color": "#00cc96",
          "dash": "solid"
         },
         "marker": {
          "symbol": "circle"
         },
         "mode": "markers+lines",
         "name": "commission",
         "showlegend": false,
         "type": "scattergl",
         "x": [
          "2010-09-16",
          "2011-01-19",
          "2011-09-08",
          "2011-11-03",
          "2012-11-14",
          "2013-01-07",
          "2014-07-01",
          "2015-09-01",
          "2018-04-01",
          "2019-08-01",
          "2021-08-01"
         ],
         "xaxis": "x2",
         "y": [
          10,
          75,
          28,
          23,
          58,
          29,
          72,
          7,
          42,
          50,
          99
         ],
         "yaxis": "y2"
        },
        {
         "hovertemplate": "term=commission<br>origin=twitter<br>start_segment=%{x}<br>rank=%{y}<extra></extra>",
         "legendgroup": "commission",
         "line": {
          "color": "#00cc96",
          "dash": "solid"
         },
         "marker": {
          "symbol": "circle"
         },
         "mode": "markers+lines",
         "name": "commission",
         "showlegend": false,
         "type": "scattergl",
         "x": [
          "2010-02-01",
          "2010-09-01",
          "2012-07-01",
          "2013-12-01",
          "2015-10-01",
          "2017-09-01",
          "2019-06-01",
          "2020-08-01"
         ],
         "xaxis": "x",
         "y": [
          146,
          108,
          32,
          104,
          13,
          35,
          44,
          127
         ],
         "yaxis": "y"
        },
        {
         "hovertemplate": "term=commission européenne<br>origin=facebook<br>start_segment=%{x}<br>rank=%{y}<extra></extra>",
         "legendgroup": "commission européenne",
         "line": {
          "color": "#ab63fa",
          "dash": "solid"
         },
         "marker": {
          "symbol": "circle"
         },
         "mode": "markers+lines",
         "name": "commission européenne",
         "showlegend": true,
         "type": "scattergl",
         "x": [
          "2011-11-16",
          "2012-02-01",
          "2012-07-01",
          "2012-12-01",
          "2014-03-01",
          "2015-03-01",
          "2015-12-01",
          "2016-10-01",
          "2018-05-01",
          "2019-06-01",
          "2020-08-01",
          "2021-04-01",
          "2021-12-01"
         ],
         "xaxis": "x3",
         "y": [
          137,
          165,
          151,
          51,
          114,
          82,
          23,
          50,
          143,
          138,
          185,
          129,
          177
         ],
         "yaxis": "y3"
        },
        {
         "hovertemplate": "term=consommateurs<br>origin=facebook<br>start_segment=%{x}<br>rank=%{y}<extra></extra>",
         "legendgroup": "consommateurs",
         "line": {
          "color": "#FFA15A",
          "dash": "solid"
         },
         "marker": {
          "symbol": "circle"
         },
         "mode": "markers+lines",
         "name": "consommateurs",
         "showlegend": true,
         "type": "scattergl",
         "x": [
          "2011-11-16",
          "2012-02-01",
          "2012-07-01",
          "2012-12-01",
          "2014-03-01",
          "2015-03-01",
          "2015-12-01",
          "2016-10-01",
          "2018-05-01",
          "2019-06-01",
          "2020-08-01",
          "2021-04-01",
          "2021-12-01"
         ],
         "xaxis": "x3",
         "y": [
          46,
          19,
          30,
          32,
          56,
          46,
          34,
          37,
          43,
          62,
          62,
          47,
          73
         ],
         "yaxis": "y3"
        },
        {
         "hovertemplate": "term=consommateurs<br>origin=media<br>start_segment=%{x}<br>rank=%{y}<extra></extra>",
         "legendgroup": "consommateurs",
         "line": {
          "color": "#FFA15A",
          "dash": "solid"
         },
         "marker": {
          "symbol": "circle"
         },
         "mode": "markers+lines",
         "name": "consommateurs",
         "showlegend": false,
         "type": "scattergl",
         "x": [
          "2010-09-16",
          "2011-11-03",
          "2012-11-14",
          "2013-01-07",
          "2014-07-01",
          "2015-09-01",
          "2018-04-01",
          "2019-08-01",
          "2021-08-01"
         ],
         "xaxis": "x2",
         "y": [
          40,
          61,
          24,
          37,
          37,
          19,
          32,
          43,
          39
         ],
         "yaxis": "y2"
        },
        {
         "hovertemplate": "term=coquelicots<br>origin=facebook<br>start_segment=%{x}<br>rank=%{y}<extra></extra>",
         "legendgroup": "coquelicots",
         "line": {
          "color": "#19d3f3",
          "dash": "solid"
         },
         "marker": {
          "symbol": "circle"
         },
         "mode": "markers+lines",
         "name": "coquelicots",
         "showlegend": true,
         "type": "scattergl",
         "x": [
          "2012-12-01",
          "2014-03-01",
          "2015-03-01",
          "2015-12-01",
          "2016-10-01",
          "2018-05-01",
          "2019-06-01",
          "2020-08-01",
          "2021-04-01",
          "2021-12-01"
         ],
         "xaxis": "x3",
         "y": [
          378,
          388,
          358,
          368,
          347,
          12,
          27,
          122,
          171,
          269
         ],
         "yaxis": "y3"
        },
        {
         "hovertemplate": "term=coûts<br>origin=facebook<br>start_segment=%{x}<br>rank=%{y}<extra></extra>",
         "legendgroup": "coûts",
         "line": {
          "color": "#FF6692",
          "dash": "solid"
         },
         "marker": {
          "symbol": "circle"
         },
         "mode": "markers+lines",
         "name": "coûts",
         "showlegend": true,
         "type": "scattergl",
         "x": [
          "2011-11-16",
          "2012-02-01",
          "2012-07-01",
          "2012-12-01",
          "2014-03-01",
          "2015-03-01",
          "2015-12-01",
          "2016-10-01",
          "2018-05-01",
          "2019-06-01",
          "2020-08-01",
          "2021-04-01",
          "2021-12-01"
         ],
         "xaxis": "x3",
         "y": [
          65,
          142,
          99,
          142,
          127,
          112,
          111,
          117,
          136,
          102,
          104,
          50,
          3
         ],
         "yaxis": "y3"
        },
        {
         "hovertemplate": "term=coûts<br>origin=media<br>start_segment=%{x}<br>rank=%{y}<extra></extra>",
         "legendgroup": "coûts",
         "line": {
          "color": "#FF6692",
          "dash": "solid"
         },
         "marker": {
          "symbol": "circle"
         },
         "mode": "markers+lines",
         "name": "coûts",
         "showlegend": false,
         "type": "scattergl",
         "x": [
          "2010-09-16",
          "2011-01-19",
          "2011-03-31",
          "2011-11-03",
          "2013-01-07",
          "2014-07-01",
          "2015-09-01",
          "2018-04-01",
          "2019-08-01",
          "2021-08-01"
         ],
         "xaxis": "x2",
         "y": [
          30,
          8,
          59,
          153,
          78,
          61,
          84,
          85,
          89,
          76
         ],
         "yaxis": "y2"
        },
        {
         "hovertemplate": "term=culture<br>origin=facebook<br>start_segment=%{x}<br>rank=%{y}<extra></extra>",
         "legendgroup": "culture",
         "line": {
          "color": "#B6E880",
          "dash": "solid"
         },
         "marker": {
          "symbol": "circle"
         },
         "mode": "markers+lines",
         "name": "culture",
         "showlegend": true,
         "type": "scattergl",
         "x": [
          "2011-11-16",
          "2012-02-01",
          "2012-07-01",
          "2012-12-01",
          "2014-03-01",
          "2015-03-01",
          "2015-12-01",
          "2016-10-01",
          "2018-05-01",
          "2019-06-01",
          "2020-08-01",
          "2021-04-01",
          "2021-12-01"
         ],
         "xaxis": "x3",
         "y": [
          12,
          15,
          15,
          10,
          9,
          15,
          13,
          13,
          17,
          7,
          3,
          1,
          2
         ],
         "yaxis": "y3"
        },
        {
         "hovertemplate": "term=culture<br>origin=media<br>start_segment=%{x}<br>rank=%{y}<extra></extra>",
         "legendgroup": "culture",
         "line": {
          "color": "#B6E880",
          "dash": "solid"
         },
         "marker": {
          "symbol": "circle"
         },
         "mode": "markers+lines",
         "name": "culture",
         "showlegend": false,
         "type": "scattergl",
         "x": [
          "2010-09-16",
          "2011-01-19",
          "2011-03-31",
          "2011-09-08",
          "2011-11-03",
          "2013-01-07",
          "2014-07-01",
          "2015-09-01",
          "2018-04-01",
          "2019-08-01",
          "2021-08-01"
         ],
         "xaxis": "x2",
         "y": [
          35,
          27,
          58,
          8,
          19,
          4,
          10,
          16,
          24,
          10,
          14
         ],
         "yaxis": "y2"
        },
        {
         "hovertemplate": "term=culture<br>origin=twitter<br>start_segment=%{x}<br>rank=%{y}<extra></extra>",
         "legendgroup": "culture",
         "line": {
          "color": "#B6E880",
          "dash": "solid"
         },
         "marker": {
          "symbol": "circle"
         },
         "mode": "markers+lines",
         "name": "culture",
         "showlegend": false,
         "type": "scattergl",
         "x": [
          "2010-02-01",
          "2010-09-01",
          "2012-07-01",
          "2013-12-01",
          "2015-10-01",
          "2017-09-01",
          "2019-06-01",
          "2020-08-01"
         ],
         "xaxis": "x",
         "y": [
          44,
          29,
          37,
          53,
          43,
          27,
          17,
          10
         ],
         "yaxis": "y"
        },
        {
         "hovertemplate": "term=député<br>origin=facebook<br>start_segment=%{x}<br>rank=%{y}<extra></extra>",
         "legendgroup": "député",
         "line": {
          "color": "#FF97FF",
          "dash": "solid"
         },
         "marker": {
          "symbol": "circle"
         },
         "mode": "markers+lines",
         "name": "député",
         "showlegend": true,
         "type": "scattergl",
         "x": [
          "2011-11-16",
          "2012-02-01",
          "2012-07-01",
          "2012-12-01",
          "2014-03-01",
          "2015-03-01",
          "2015-12-01",
          "2016-10-01",
          "2018-05-01",
          "2019-06-01",
          "2020-08-01",
          "2021-04-01",
          "2021-12-01"
         ],
         "xaxis": "x3",
         "y": [
          184,
          208,
          86,
          62,
          95,
          103,
          26,
          76,
          7,
          55,
          17,
          152,
          121
         ],
         "yaxis": "y3"
        },
        {
         "hovertemplate": "term=député<br>origin=media<br>start_segment=%{x}<br>rank=%{y}<extra></extra>",
         "legendgroup": "député",
         "line": {
          "color": "#FF97FF",
          "dash": "solid"
         },
         "marker": {
          "symbol": "circle"
         },
         "mode": "markers+lines",
         "name": "député",
         "showlegend": false,
         "type": "scattergl",
         "x": [
          "2010-09-16",
          "2011-01-19",
          "2011-03-31",
          "2011-11-03",
          "2013-01-07",
          "2014-07-01",
          "2015-09-01",
          "2018-04-01",
          "2019-08-01",
          "2021-08-01"
         ],
         "xaxis": "x2",
         "y": [
          54,
          44,
          62,
          79,
          67,
          87,
          48,
          15,
          27,
          106
         ],
         "yaxis": "y2"
        },
        {
         "hovertemplate": "term=député<br>origin=twitter<br>start_segment=%{x}<br>rank=%{y}<extra></extra>",
         "legendgroup": "député",
         "line": {
          "color": "#FF97FF",
          "dash": "solid"
         },
         "marker": {
          "symbol": "circle"
         },
         "mode": "markers+lines",
         "name": "député",
         "showlegend": false,
         "type": "scattergl",
         "x": [
          "2010-02-01",
          "2010-09-01",
          "2012-07-01",
          "2013-12-01",
          "2015-10-01",
          "2017-09-01",
          "2019-06-01",
          "2020-08-01"
         ],
         "xaxis": "x",
         "y": [
          184,
          213,
          81,
          90,
          16,
          14,
          73,
          17
         ],
         "yaxis": "y"
        },
        {
         "hovertemplate": "term=développement<br>origin=facebook<br>start_segment=%{x}<br>rank=%{y}<extra></extra>",
         "legendgroup": "développement",
         "line": {
          "color": "#FECB52",
          "dash": "solid"
         },
         "marker": {
          "symbol": "circle"
         },
         "mode": "markers+lines",
         "name": "développement",
         "showlegend": true,
         "type": "scattergl",
         "x": [
          "2011-11-16",
          "2012-02-01",
          "2012-07-01",
          "2012-12-01",
          "2014-03-01",
          "2015-03-01",
          "2015-12-01",
          "2016-10-01",
          "2018-05-01",
          "2019-06-01",
          "2020-08-01",
          "2021-04-01",
          "2021-12-01"
         ],
         "xaxis": "x3",
         "y": [
          22,
          13,
          17,
          19,
          21,
          26,
          35,
          34,
          55,
          45,
          40,
          38,
          43
         ],
         "yaxis": "y3"
        },
        {
         "hovertemplate": "term=développement<br>origin=media<br>start_segment=%{x}<br>rank=%{y}<extra></extra>",
         "legendgroup": "développement",
         "line": {
          "color": "#FECB52",
          "dash": "solid"
         },
         "marker": {
          "symbol": "circle"
         },
         "mode": "markers+lines",
         "name": "développement",
         "showlegend": false,
         "type": "scattergl",
         "x": [
          "2010-09-16",
          "2011-01-19",
          "2011-03-31",
          "2011-11-03",
          "2012-11-14",
          "2013-01-07",
          "2014-07-01",
          "2015-09-01",
          "2018-04-01",
          "2019-08-01",
          "2021-08-01"
         ],
         "xaxis": "x2",
         "y": [
          2,
          15,
          37,
          22,
          55,
          23,
          25,
          29,
          43,
          33,
          35
         ],
         "yaxis": "y2"
        },
        {
         "hovertemplate": "term=eau<br>origin=facebook<br>start_segment=%{x}<br>rank=%{y}<extra></extra>",
         "legendgroup": "eau",
         "line": {
          "color": "#636efa",
          "dash": "solid"
         },
         "marker": {
          "symbol": "circle"
         },
         "mode": "markers+lines",
         "name": "eau",
         "showlegend": true,
         "type": "scattergl",
         "x": [
          "2011-11-16",
          "2012-02-01",
          "2012-07-01",
          "2012-12-01",
          "2014-03-01",
          "2015-03-01",
          "2015-12-01",
          "2016-10-01",
          "2018-05-01",
          "2019-06-01",
          "2020-08-01",
          "2021-04-01",
          "2021-12-01"
         ],
         "xaxis": "x3",
         "y": [
          11,
          17,
          56,
          41,
          27,
          25,
          40,
          44,
          54,
          21,
          25,
          17,
          26
         ],
         "yaxis": "y3"
        },
        {
         "hovertemplate": "term=eau<br>origin=media<br>start_segment=%{x}<br>rank=%{y}<extra></extra>",
         "legendgroup": "eau",
         "line": {
          "color": "#636efa",
          "dash": "solid"
         },
         "marker": {
          "symbol": "circle"
         },
         "mode": "markers+lines",
         "name": "eau",
         "showlegend": false,
         "type": "scattergl",
         "x": [
          "2010-09-16",
          "2011-01-19",
          "2011-03-31",
          "2011-11-03",
          "2012-11-14",
          "2013-01-07",
          "2014-07-01",
          "2015-09-01",
          "2018-04-01",
          "2019-08-01",
          "2021-08-01"
         ],
         "xaxis": "x2",
         "y": [
          22,
          46,
          36,
          210,
          54,
          26,
          22,
          58,
          53,
          41,
          61
         ],
         "yaxis": "y2"
        },
        {
         "hovertemplate": "term=eau<br>origin=twitter<br>start_segment=%{x}<br>rank=%{y}<extra></extra>",
         "legendgroup": "eau",
         "line": {
          "color": "#636efa",
          "dash": "solid"
         },
         "marker": {
          "symbol": "circle"
         },
         "mode": "markers+lines",
         "name": "eau",
         "showlegend": false,
         "type": "scattergl",
         "x": [
          "2010-02-01",
          "2010-09-01",
          "2012-07-01",
          "2013-12-01",
          "2015-10-01",
          "2017-09-01",
          "2019-06-01",
          "2020-08-01"
         ],
         "xaxis": "x",
         "y": [
          36,
          16,
          7,
          13,
          51,
          72,
          49,
          44
         ],
         "yaxis": "y"
        },
        {
         "hovertemplate": "term=effet<br>origin=facebook<br>start_segment=%{x}<br>rank=%{y}<extra></extra>",
         "legendgroup": "effet",
         "line": {
          "color": "#EF553B",
          "dash": "solid"
         },
         "marker": {
          "symbol": "circle"
         },
         "mode": "markers+lines",
         "name": "effet",
         "showlegend": true,
         "type": "scattergl",
         "x": [
          "2011-11-16",
          "2012-02-01",
          "2012-07-01",
          "2012-12-01",
          "2014-03-01",
          "2015-03-01",
          "2015-12-01",
          "2016-10-01",
          "2018-05-01",
          "2019-06-01",
          "2020-08-01",
          "2021-04-01",
          "2021-12-01"
         ],
         "xaxis": "x3",
         "y": [
          13,
          26,
          13,
          9,
          10,
          13,
          14,
          15,
          25,
          11,
          14,
          14,
          12
         ],
         "yaxis": "y3"
        },
        {
         "hovertemplate": "term=effet<br>origin=media<br>start_segment=%{x}<br>rank=%{y}<extra></extra>",
         "legendgroup": "effet",
         "line": {
          "color": "#EF553B",
          "dash": "solid"
         },
         "marker": {
          "symbol": "circle"
         },
         "mode": "markers+lines",
         "name": "effet",
         "showlegend": false,
         "type": "scattergl",
         "x": [
          "2010-09-16",
          "2011-01-19",
          "2011-03-31",
          "2011-09-08",
          "2011-11-03",
          "2012-11-14",
          "2013-01-07",
          "2014-07-01",
          "2015-09-01",
          "2018-04-01",
          "2019-08-01",
          "2021-08-01"
         ],
         "xaxis": "x2",
         "y": [
          23,
          4,
          27,
          15,
          12,
          8,
          9,
          8,
          13,
          11,
          6,
          5
         ],
         "yaxis": "y2"
        },
        {
         "hovertemplate": "term=effet<br>origin=twitter<br>start_segment=%{x}<br>rank=%{y}<extra></extra>",
         "legendgroup": "effet",
         "line": {
          "color": "#EF553B",
          "dash": "solid"
         },
         "marker": {
          "symbol": "circle"
         },
         "mode": "markers+lines",
         "name": "effet",
         "showlegend": false,
         "type": "scattergl",
         "x": [
          "2010-02-01",
          "2010-09-01",
          "2012-07-01",
          "2013-12-01",
          "2015-10-01",
          "2017-09-01",
          "2019-06-01",
          "2020-08-01"
         ],
         "xaxis": "x",
         "y": [
          30,
          31,
          17,
          42,
          54,
          29,
          22,
          21
         ],
         "yaxis": "y"
        },
        {
         "hovertemplate": "term=glyphosate<br>origin=facebook<br>start_segment=%{x}<br>rank=%{y}<extra></extra>",
         "legendgroup": "glyphosate",
         "line": {
          "color": "#00cc96",
          "dash": "solid"
         },
         "marker": {
          "symbol": "circle"
         },
         "mode": "markers+lines",
         "name": "glyphosate",
         "showlegend": true,
         "type": "scattergl",
         "x": [
          "2011-11-16",
          "2012-02-01",
          "2012-07-01",
          "2012-12-01",
          "2014-03-01",
          "2015-03-01",
          "2015-12-01",
          "2016-10-01",
          "2018-05-01",
          "2019-06-01",
          "2020-08-01",
          "2021-04-01",
          "2021-12-01"
         ],
         "xaxis": "x3",
         "y": [
          89,
          136,
          95,
          86,
          69,
          7,
          3,
          2,
          2,
          2,
          5,
          9,
          9
         ],
         "yaxis": "y3"
        },
        {
         "hovertemplate": "term=glyphosate<br>origin=media<br>start_segment=%{x}<br>rank=%{y}<extra></extra>",
         "legendgroup": "glyphosate",
         "line": {
          "color": "#00cc96",
          "dash": "solid"
         },
         "marker": {
          "symbol": "circle"
         },
         "mode": "markers+lines",
         "name": "glyphosate",
         "showlegend": false,
         "type": "scattergl",
         "x": [
          "2011-03-31",
          "2011-09-08",
          "2011-11-03",
          "2012-11-14",
          "2013-01-07",
          "2014-07-01",
          "2015-09-01",
          "2018-04-01",
          "2019-08-01",
          "2021-08-01"
         ],
         "xaxis": "x2",
         "y": [
          13,
          1,
          8,
          10,
          150,
          28,
          2,
          2,
          11,
          25
         ],
         "yaxis": "y2"
        },
        {
         "hovertemplate": "term=glyphosate<br>origin=twitter<br>start_segment=%{x}<br>rank=%{y}<extra></extra>",
         "legendgroup": "glyphosate",
         "line": {
          "color": "#00cc96",
          "dash": "solid"
         },
         "marker": {
          "symbol": "circle"
         },
         "mode": "markers+lines",
         "name": "glyphosate",
         "showlegend": false,
         "type": "scattergl",
         "x": [
          "2010-02-01",
          "2010-09-01",
          "2012-07-01",
          "2013-12-01",
          "2015-10-01",
          "2017-09-01",
          "2019-06-01",
          "2020-08-01"
         ],
         "xaxis": "x",
         "y": [
          38,
          47,
          57,
          11,
          2,
          1,
          2,
          2
         ],
         "yaxis": "y"
        },
        {
         "hovertemplate": "term=herbicide<br>origin=facebook<br>start_segment=%{x}<br>rank=%{y}<extra></extra>",
         "legendgroup": "herbicide",
         "line": {
          "color": "#ab63fa",
          "dash": "solid"
         },
         "marker": {
          "symbol": "circle"
         },
         "mode": "markers+lines",
         "name": "herbicide",
         "showlegend": true,
         "type": "scattergl",
         "x": [
          "2011-11-16",
          "2012-02-01",
          "2012-07-01",
          "2012-12-01",
          "2014-03-01",
          "2015-03-01",
          "2015-12-01",
          "2016-10-01",
          "2018-05-01",
          "2019-06-01",
          "2020-08-01",
          "2021-04-01",
          "2021-12-01"
         ],
         "xaxis": "x3",
         "y": [
          7,
          25,
          16,
          26,
          33,
          16,
          22,
          10,
          21,
          26,
          33,
          27,
          15
         ],
         "yaxis": "y3"
        },
        {
         "hovertemplate": "term=herbicide<br>origin=media<br>start_segment=%{x}<br>rank=%{y}<extra></extra>",
         "legendgroup": "herbicide",
         "line": {
          "color": "#ab63fa",
          "dash": "solid"
         },
         "marker": {
          "symbol": "circle"
         },
         "mode": "markers+lines",
         "name": "herbicide",
         "showlegend": false,
         "type": "scattergl",
         "x": [
          "2010-09-16",
          "2011-01-19",
          "2011-09-08",
          "2011-11-03",
          "2012-11-14",
          "2013-01-07",
          "2014-07-01",
          "2015-09-01",
          "2018-04-01",
          "2019-08-01",
          "2021-08-01"
         ],
         "xaxis": "x2",
         "y": [
          63,
          80,
          3,
          17,
          29,
          56,
          55,
          50,
          55,
          97,
          91
         ],
         "yaxis": "y2"
        },
        {
         "hovertemplate": "term=herbicide<br>origin=twitter<br>start_segment=%{x}<br>rank=%{y}<extra></extra>",
         "legendgroup": "herbicide",
         "line": {
          "color": "#ab63fa",
          "dash": "solid"
         },
         "marker": {
          "symbol": "circle"
         },
         "mode": "markers+lines",
         "name": "herbicide",
         "showlegend": false,
         "type": "scattergl",
         "x": [
          "2010-02-01",
          "2010-09-01",
          "2012-07-01",
          "2013-12-01",
          "2015-10-01",
          "2017-09-01",
          "2019-06-01",
          "2020-08-01"
         ],
         "xaxis": "x",
         "y": [
          5,
          10,
          9,
          6,
          15,
          17,
          13,
          16
         ],
         "yaxis": "y"
        },
        {
         "hovertemplate": "term=insectes<br>origin=facebook<br>start_segment=%{x}<br>rank=%{y}<extra></extra>",
         "legendgroup": "insectes",
         "line": {
          "color": "#FFA15A",
          "dash": "solid"
         },
         "marker": {
          "symbol": "circle"
         },
         "mode": "markers+lines",
         "name": "insectes",
         "showlegend": true,
         "type": "scattergl",
         "x": [
          "2011-11-16",
          "2012-02-01",
          "2012-07-01",
          "2012-12-01",
          "2014-03-01",
          "2015-03-01",
          "2015-12-01",
          "2016-10-01",
          "2018-05-01",
          "2019-06-01",
          "2020-08-01",
          "2021-04-01",
          "2021-12-01"
         ],
         "xaxis": "x3",
         "y": [
          45,
          56,
          53,
          46,
          29,
          34,
          45,
          52,
          31,
          25,
          20,
          15,
          28
         ],
         "yaxis": "y3"
        },
        {
         "hovertemplate": "term=insectes<br>origin=twitter<br>start_segment=%{x}<br>rank=%{y}<extra></extra>",
         "legendgroup": "insectes",
         "line": {
          "color": "#FFA15A",
          "dash": "solid"
         },
         "marker": {
          "symbol": "circle"
         },
         "mode": "markers+lines",
         "name": "insectes",
         "showlegend": false,
         "type": "scattergl",
         "x": [
          "2010-02-01",
          "2010-09-01",
          "2012-07-01",
          "2013-12-01",
          "2015-10-01",
          "2017-09-01",
          "2019-06-01",
          "2020-08-01"
         ],
         "xaxis": "x",
         "y": [
          20,
          30,
          51,
          55,
          61,
          41,
          32,
          25
         ],
         "yaxis": "y"
        },
        {
         "hovertemplate": "term=loi<br>origin=facebook<br>start_segment=%{x}<br>rank=%{y}<extra></extra>",
         "legendgroup": "loi",
         "line": {
          "color": "#19d3f3",
          "dash": "solid"
         },
         "marker": {
          "symbol": "circle"
         },
         "mode": "markers+lines",
         "name": "loi",
         "showlegend": true,
         "type": "scattergl",
         "x": [
          "2011-11-16",
          "2012-02-01",
          "2012-07-01",
          "2012-12-01",
          "2014-03-01",
          "2015-03-01",
          "2015-12-01",
          "2016-10-01",
          "2018-05-01",
          "2019-06-01",
          "2020-08-01",
          "2021-04-01",
          "2021-12-01"
         ],
         "xaxis": "x3",
         "y": [
          103,
          50,
          31,
          30,
          36,
          50,
          8,
          32,
          6,
          34,
          7,
          37,
          40
         ],
         "yaxis": "y3"
        },
        {
         "hovertemplate": "term=loi<br>origin=media<br>start_segment=%{x}<br>rank=%{y}<extra></extra>",
         "legendgroup": "loi",
         "line": {
          "color": "#19d3f3",
          "dash": "solid"
         },
         "marker": {
          "symbol": "circle"
         },
         "mode": "markers+lines",
         "name": "loi",
         "showlegend": false,
         "type": "scattergl",
         "x": [
          "2011-01-19",
          "2011-11-03",
          "2013-01-07",
          "2014-07-01",
          "2015-09-01",
          "2018-04-01",
          "2019-08-01",
          "2021-08-01"
         ],
         "xaxis": "x2",
         "y": [
          37,
          68,
          30,
          23,
          18,
          9,
          7,
          34
         ],
         "yaxis": "y2"
        },
        {
         "hovertemplate": "term=loi<br>origin=twitter<br>start_segment=%{x}<br>rank=%{y}<extra></extra>",
         "legendgroup": "loi",
         "line": {
          "color": "#19d3f3",
          "dash": "solid"
         },
         "marker": {
          "symbol": "circle"
         },
         "mode": "markers+lines",
         "name": "loi",
         "showlegend": false,
         "type": "scattergl",
         "x": [
          "2010-02-01",
          "2010-09-01",
          "2012-07-01",
          "2013-12-01",
          "2015-10-01",
          "2017-09-01",
          "2019-06-01",
          "2020-08-01"
         ],
         "xaxis": "x",
         "y": [
          66,
          114,
          61,
          39,
          23,
          11,
          41,
          13
         ],
         "yaxis": "y"
        },
        {
         "hovertemplate": "term=macron<br>origin=facebook<br>start_segment=%{x}<br>rank=%{y}<extra></extra>",
         "legendgroup": "macron",
         "line": {
          "color": "#FF6692",
          "dash": "solid"
         },
         "marker": {
          "symbol": "circle"
         },
         "mode": "markers+lines",
         "name": "macron",
         "showlegend": true,
         "type": "scattergl",
         "x": [
          "2015-03-01",
          "2015-12-01",
          "2016-10-01",
          "2018-05-01",
          "2019-06-01",
          "2020-08-01",
          "2021-04-01",
          "2021-12-01"
         ],
         "xaxis": "x3",
         "y": [
          337,
          361,
          88,
          10,
          64,
          51,
          88,
          53
         ],
         "yaxis": "y3"
        },
        {
         "hovertemplate": "term=macron<br>origin=media<br>start_segment=%{x}<br>rank=%{y}<extra></extra>",
         "legendgroup": "macron",
         "line": {
          "color": "#FF6692",
          "dash": "solid"
         },
         "marker": {
          "symbol": "circle"
         },
         "mode": "markers+lines",
         "name": "macron",
         "showlegend": false,
         "type": "scattergl",
         "x": [
          "2011-11-03",
          "2012-11-14",
          "2013-01-07",
          "2014-07-01",
          "2015-09-01",
          "2018-04-01",
          "2019-08-01",
          "2021-08-01"
         ],
         "xaxis": "x2",
         "y": [
          124,
          18,
          259,
          234,
          21,
          7,
          23,
          16
         ],
         "yaxis": "y2"
        },
        {
         "hovertemplate": "term=macron<br>origin=twitter<br>start_segment=%{x}<br>rank=%{y}<extra></extra>",
         "legendgroup": "macron",
         "line": {
          "color": "#FF6692",
          "dash": "solid"
         },
         "marker": {
          "symbol": "circle"
         },
         "mode": "markers+lines",
         "name": "macron",
         "showlegend": false,
         "type": "scattergl",
         "x": [
          "2013-12-01",
          "2015-10-01",
          "2017-09-01",
          "2019-06-01",
          "2020-08-01"
         ],
         "xaxis": "x",
         "y": [
          308,
          86,
          8,
          26,
          29
         ],
         "yaxis": "y"
        },
        {
         "hovertemplate": "term=maladie<br>origin=facebook<br>start_segment=%{x}<br>rank=%{y}<extra></extra>",
         "legendgroup": "maladie",
         "line": {
          "color": "#B6E880",
          "dash": "solid"
         },
         "marker": {
          "symbol": "circle"
         },
         "mode": "markers+lines",
         "name": "maladie",
         "showlegend": true,
         "type": "scattergl",
         "x": [
          "2011-11-16",
          "2012-02-01",
          "2012-07-01",
          "2012-12-01",
          "2014-03-01",
          "2015-03-01",
          "2015-12-01",
          "2016-10-01",
          "2018-05-01",
          "2019-06-01",
          "2020-08-01",
          "2021-04-01",
          "2021-12-01"
         ],
         "xaxis": "x3",
         "y": [
          17,
          7,
          14,
          12,
          12,
          14,
          16,
          11,
          23,
          12,
          12,
          5,
          7
         ],
         "yaxis": "y3"
        },
        {
         "hovertemplate": "term=maladie<br>origin=media<br>start_segment=%{x}<br>rank=%{y}<extra></extra>",
         "legendgroup": "maladie",
         "line": {
          "color": "#B6E880",
          "dash": "solid"
         },
         "marker": {
          "symbol": "circle"
         },
         "mode": "markers+lines",
         "name": "maladie",
         "showlegend": false,
         "type": "scattergl",
         "x": [
          "2010-09-16",
          "2011-03-31",
          "2011-11-03",
          "2012-11-14",
          "2013-01-07",
          "2014-07-01",
          "2015-09-01",
          "2018-04-01",
          "2019-08-01",
          "2021-08-01"
         ],
         "xaxis": "x2",
         "y": [
          36,
          2,
          4,
          9,
          5,
          11,
          20,
          26,
          16,
          7
         ],
         "yaxis": "y2"
        },
        {
         "hovertemplate": "term=maladie<br>origin=twitter<br>start_segment=%{x}<br>rank=%{y}<extra></extra>",
         "legendgroup": "maladie",
         "line": {
          "color": "#B6E880",
          "dash": "solid"
         },
         "marker": {
          "symbol": "circle"
         },
         "mode": "markers+lines",
         "name": "maladie",
         "showlegend": false,
         "type": "scattergl",
         "x": [
          "2010-02-01",
          "2010-09-01",
          "2012-07-01",
          "2013-12-01",
          "2015-10-01",
          "2017-09-01",
          "2019-06-01",
          "2020-08-01"
         ],
         "xaxis": "x",
         "y": [
          23,
          8,
          19,
          18,
          39,
          39,
          33,
          26
         ],
         "yaxis": "y"
        },
        {
         "hovertemplate": "term=maïs<br>origin=facebook<br>start_segment=%{x}<br>rank=%{y}<extra></extra>",
         "legendgroup": "maïs",
         "line": {
          "color": "#FF97FF",
          "dash": "solid"
         },
         "marker": {
          "symbol": "circle"
         },
         "mode": "markers+lines",
         "name": "maïs",
         "showlegend": true,
         "type": "scattergl",
         "x": [
          "2011-11-16",
          "2012-02-01",
          "2012-07-01",
          "2012-12-01",
          "2014-03-01",
          "2015-03-01",
          "2015-12-01",
          "2016-10-01",
          "2018-05-01",
          "2019-06-01",
          "2020-08-01",
          "2021-04-01",
          "2021-12-01"
         ],
         "xaxis": "x3",
         "y": [
          44,
          41,
          8,
          40,
          41,
          93,
          92,
          115,
          146,
          116,
          55,
          13,
          35
         ],
         "yaxis": "y3"
        },
        {
         "hovertemplate": "term=maïs<br>origin=media<br>start_segment=%{x}<br>rank=%{y}<extra></extra>",
         "legendgroup": "maïs",
         "line": {
          "color": "#FF97FF",
          "dash": "solid"
         },
         "marker": {
          "symbol": "circle"
         },
         "mode": "markers+lines",
         "name": "maïs",
         "showlegend": false,
         "type": "scattergl",
         "x": [
          "2010-09-16",
          "2011-03-31",
          "2011-09-08",
          "2011-11-03",
          "2012-11-14",
          "2013-01-07",
          "2014-07-01",
          "2015-09-01",
          "2018-04-01",
          "2019-08-01",
          "2021-08-01"
         ],
         "xaxis": "x2",
         "y": [
          85,
          56,
          37,
          16,
          26,
          7,
          122,
          121,
          125,
          134,
          178
         ],
         "yaxis": "y2"
        },
        {
         "hovertemplate": "term=monde<br>origin=facebook<br>start_segment=%{x}<br>rank=%{y}<extra></extra>",
         "legendgroup": "monde",
         "line": {
          "color": "#FECB52",
          "dash": "solid"
         },
         "marker": {
          "symbol": "circle"
         },
         "mode": "markers+lines",
         "name": "monde",
         "showlegend": true,
         "type": "scattergl",
         "x": [
          "2011-11-16",
          "2012-02-01",
          "2012-07-01",
          "2012-12-01",
          "2014-03-01",
          "2015-03-01",
          "2015-12-01",
          "2016-10-01",
          "2018-05-01",
          "2019-06-01",
          "2020-08-01",
          "2021-04-01",
          "2021-12-01"
         ],
         "xaxis": "x3",
         "y": [
          8,
          6,
          6,
          6,
          5,
          6,
          5,
          5,
          5,
          4,
          9,
          8,
          10
         ],
         "yaxis": "y3"
        },
        {
         "hovertemplate": "term=monde<br>origin=media<br>start_segment=%{x}<br>rank=%{y}<extra></extra>",
         "legendgroup": "monde",
         "line": {
          "color": "#FECB52",
          "dash": "solid"
         },
         "marker": {
          "symbol": "circle"
         },
         "mode": "markers+lines",
         "name": "monde",
         "showlegend": false,
         "type": "scattergl",
         "x": [
          "2010-09-16",
          "2011-01-19",
          "2011-03-31",
          "2011-09-08",
          "2011-11-03",
          "2012-11-14",
          "2013-01-07",
          "2014-07-01",
          "2015-09-01",
          "2018-04-01",
          "2019-08-01",
          "2021-08-01"
         ],
         "xaxis": "x2",
         "y": [
          13,
          2,
          23,
          12,
          6,
          13,
          15,
          4,
          5,
          6,
          2,
          8
         ],
         "yaxis": "y2"
        },
        {
         "hovertemplate": "term=monde<br>origin=twitter<br>start_segment=%{x}<br>rank=%{y}<extra></extra>",
         "legendgroup": "monde",
         "line": {
          "color": "#FECB52",
          "dash": "solid"
         },
         "marker": {
          "symbol": "circle"
         },
         "mode": "markers+lines",
         "name": "monde",
         "showlegend": false,
         "type": "scattergl",
         "x": [
          "2010-02-01",
          "2010-09-01",
          "2012-07-01",
          "2013-12-01",
          "2015-10-01",
          "2017-09-01",
          "2019-06-01",
          "2020-08-01"
         ],
         "xaxis": "x",
         "y": [
          28,
          17,
          15,
          20,
          27,
          16,
          10,
          14
         ],
         "yaxis": "y"
        },
        {
         "hovertemplate": "term=monsanto<br>origin=facebook<br>start_segment=%{x}<br>rank=%{y}<extra></extra>",
         "legendgroup": "monsanto",
         "line": {
          "color": "#636efa",
          "dash": "solid"
         },
         "marker": {
          "symbol": "circle"
         },
         "mode": "markers+lines",
         "name": "monsanto",
         "showlegend": true,
         "type": "scattergl",
         "x": [
          "2011-11-16",
          "2012-02-01",
          "2012-07-01",
          "2012-12-01",
          "2014-03-01",
          "2015-03-01",
          "2015-12-01",
          "2016-10-01",
          "2018-05-01",
          "2019-06-01",
          "2020-08-01",
          "2021-04-01",
          "2021-12-01"
         ],
         "xaxis": "x3",
         "y": [
          3,
          3,
          5,
          2,
          6,
          2,
          4,
          4,
          3,
          37,
          64,
          82,
          149
         ],
         "yaxis": "y3"
        },
        {
         "hovertemplate": "term=monsanto<br>origin=media<br>start_segment=%{x}<br>rank=%{y}<extra></extra>",
         "legendgroup": "monsanto",
         "line": {
          "color": "#636efa",
          "dash": "solid"
         },
         "marker": {
          "symbol": "circle"
         },
         "mode": "markers+lines",
         "name": "monsanto",
         "showlegend": false,
         "type": "scattergl",
         "x": [
          "2010-09-16",
          "2011-01-19",
          "2011-09-08",
          "2011-11-03",
          "2013-01-07",
          "2014-07-01",
          "2015-09-01",
          "2018-04-01",
          "2019-08-01",
          "2021-08-01"
         ],
         "xaxis": "x2",
         "y": [
          52,
          43,
          10,
          3,
          22,
          13,
          8,
          3,
          83,
          117
         ],
         "yaxis": "y2"
        },
        {
         "hovertemplate": "term=monsanto<br>origin=twitter<br>start_segment=%{x}<br>rank=%{y}<extra></extra>",
         "legendgroup": "monsanto",
         "line": {
          "color": "#636efa",
          "dash": "solid"
         },
         "marker": {
          "symbol": "circle"
         },
         "mode": "markers+lines",
         "name": "monsanto",
         "showlegend": false,
         "type": "scattergl",
         "x": [
          "2010-02-01",
          "2010-09-01",
          "2012-07-01",
          "2013-12-01",
          "2015-10-01",
          "2017-09-01",
          "2019-06-01",
          "2020-08-01"
         ],
         "xaxis": "x",
         "y": [
          16,
          6,
          8,
          4,
          6,
          3,
          16,
          34
         ],
         "yaxis": "y"
        },
        {
         "hovertemplate": "term=nature<br>origin=facebook<br>start_segment=%{x}<br>rank=%{y}<extra></extra>",
         "legendgroup": "nature",
         "line": {
          "color": "#EF553B",
          "dash": "solid"
         },
         "marker": {
          "symbol": "circle"
         },
         "mode": "markers+lines",
         "name": "nature",
         "showlegend": true,
         "type": "scattergl",
         "x": [
          "2011-11-16",
          "2012-02-01",
          "2012-07-01",
          "2012-12-01",
          "2014-03-01",
          "2015-03-01",
          "2015-12-01",
          "2016-10-01",
          "2018-05-01",
          "2019-06-01",
          "2020-08-01",
          "2021-04-01",
          "2021-12-01"
         ],
         "xaxis": "x3",
         "y": [
          20,
          18,
          27,
          24,
          28,
          20,
          17,
          14,
          22,
          10,
          19,
          18,
          23
         ],
         "yaxis": "y3"
        },
        {
         "hovertemplate": "term=nature<br>origin=media<br>start_segment=%{x}<br>rank=%{y}<extra></extra>",
         "legendgroup": "nature",
         "line": {
          "color": "#EF553B",
          "dash": "solid"
         },
         "marker": {
          "symbol": "circle"
         },
         "mode": "markers+lines",
         "name": "nature",
         "showlegend": false,
         "type": "scattergl",
         "x": [
          "2011-01-19",
          "2011-03-31",
          "2011-11-03",
          "2012-11-14",
          "2013-01-07",
          "2014-07-01",
          "2015-09-01",
          "2018-04-01",
          "2019-08-01",
          "2021-08-01"
         ],
         "xaxis": "x2",
         "y": [
          47,
          24,
          92,
          50,
          19,
          9,
          35,
          29,
          19,
          9
         ],
         "yaxis": "y2"
        },
        {
         "hovertemplate": "term=néonicotinoïdes<br>origin=facebook<br>start_segment=%{x}<br>rank=%{y}<extra></extra>",
         "legendgroup": "néonicotinoïdes",
         "line": {
          "color": "#00cc96",
          "dash": "solid"
         },
         "marker": {
          "symbol": "circle"
         },
         "mode": "markers+lines",
         "name": "néonicotinoïdes",
         "showlegend": true,
         "type": "scattergl",
         "x": [
          "2012-02-01",
          "2012-07-01",
          "2012-12-01",
          "2014-03-01",
          "2015-03-01",
          "2015-12-01",
          "2016-10-01",
          "2018-05-01",
          "2019-06-01",
          "2020-08-01",
          "2021-04-01",
          "2021-12-01"
         ],
         "xaxis": "x3",
         "y": [
          101,
          106,
          49,
          17,
          18,
          6,
          18,
          63,
          119,
          2,
          70,
          27
         ],
         "yaxis": "y3"
        },
        {
         "hovertemplate": "term=néonicotinoïdes<br>origin=media<br>start_segment=%{x}<br>rank=%{y}<extra></extra>",
         "legendgroup": "néonicotinoïdes",
         "line": {
          "color": "#00cc96",
          "dash": "solid"
         },
         "marker": {
          "symbol": "circle"
         },
         "mode": "markers+lines",
         "name": "néonicotinoïdes",
         "showlegend": false,
         "type": "scattergl",
         "x": [
          "2011-11-03",
          "2013-01-07",
          "2014-07-01",
          "2015-09-01",
          "2018-04-01",
          "2019-08-01",
          "2021-08-01"
         ],
         "xaxis": "x2",
         "y": [
          231,
          71,
          68,
          46,
          83,
          14,
          154
         ],
         "yaxis": "y2"
        },
        {
         "hovertemplate": "term=néonicotinoïdes<br>origin=twitter<br>start_segment=%{x}<br>rank=%{y}<extra></extra>",
         "legendgroup": "néonicotinoïdes",
         "line": {
          "color": "#00cc96",
          "dash": "solid"
         },
         "marker": {
          "symbol": "circle"
         },
         "mode": "markers+lines",
         "name": "néonicotinoïdes",
         "showlegend": false,
         "type": "scattergl",
         "x": [
          "2010-09-01",
          "2012-07-01",
          "2013-12-01",
          "2015-10-01",
          "2017-09-01",
          "2019-06-01",
          "2020-08-01"
         ],
         "xaxis": "x",
         "y": [
          82,
          6,
          5,
          3,
          10,
          39,
          3
         ],
         "yaxis": "y"
        },
        {
         "hovertemplate": "term=ogm<br>origin=facebook<br>start_segment=%{x}<br>rank=%{y}<extra></extra>",
         "legendgroup": "ogm",
         "line": {
          "color": "#ab63fa",
          "dash": "solid"
         },
         "marker": {
          "symbol": "circle"
         },
         "mode": "markers+lines",
         "name": "ogm",
         "showlegend": true,
         "type": "scattergl",
         "x": [
          "2011-11-16",
          "2012-02-01",
          "2012-07-01",
          "2012-12-01",
          "2014-03-01",
          "2015-03-01",
          "2015-12-01",
          "2016-10-01",
          "2018-05-01",
          "2019-06-01",
          "2020-08-01",
          "2021-04-01",
          "2021-12-01"
         ],
         "xaxis": "x3",
         "y": [
          15,
          8,
          2,
          5,
          4,
          8,
          10,
          20,
          48,
          50,
          49,
          41,
          57
         ],
         "yaxis": "y3"
        },
        {
         "hovertemplate": "term=ogm<br>origin=media<br>start_segment=%{x}<br>rank=%{y}<extra></extra>",
         "legendgroup": "ogm",
         "line": {
          "color": "#ab63fa",
          "dash": "solid"
         },
         "marker": {
          "symbol": "circle"
         },
         "mode": "markers+lines",
         "name": "ogm",
         "showlegend": false,
         "type": "scattergl",
         "x": [
          "2010-09-16",
          "2011-01-19",
          "2011-11-03",
          "2012-11-14",
          "2013-01-07",
          "2014-07-01",
          "2015-09-01",
          "2018-04-01",
          "2019-08-01",
          "2021-08-01"
         ],
         "xaxis": "x2",
         "y": [
          8,
          65,
          2,
          1,
          6,
          56,
          72,
          81,
          92,
          139
         ],
         "yaxis": "y2"
        },
        {
         "hovertemplate": "term=ogm<br>origin=twitter<br>start_segment=%{x}<br>rank=%{y}<extra></extra>",
         "legendgroup": "ogm",
         "line": {
          "color": "#ab63fa",
          "dash": "solid"
         },
         "marker": {
          "symbol": "circle"
         },
         "mode": "markers+lines",
         "name": "ogm",
         "showlegend": false,
         "type": "scattergl",
         "x": [
          "2010-02-01",
          "2010-09-01",
          "2012-07-01",
          "2013-12-01",
          "2015-10-01",
          "2017-09-01",
          "2019-06-01",
          "2020-08-01"
         ],
         "xaxis": "x",
         "y": [
          9,
          9,
          4,
          8,
          11,
          22,
          8,
          9
         ],
         "yaxis": "y"
        },
        {
         "hovertemplate": "term=paysan<br>origin=facebook<br>start_segment=%{x}<br>rank=%{y}<extra></extra>",
         "legendgroup": "paysan",
         "line": {
          "color": "#FFA15A",
          "dash": "solid"
         },
         "marker": {
          "symbol": "circle"
         },
         "mode": "markers+lines",
         "name": "paysan",
         "showlegend": true,
         "type": "scattergl",
         "x": [
          "2011-11-16",
          "2012-02-01",
          "2012-07-01",
          "2012-12-01",
          "2014-03-01",
          "2015-03-01",
          "2015-12-01",
          "2016-10-01",
          "2018-05-01",
          "2019-06-01",
          "2020-08-01",
          "2021-04-01",
          "2021-12-01"
         ],
         "xaxis": "x3",
         "y": [
          50,
          11,
          20,
          47,
          58,
          48,
          57,
          62,
          68,
          63,
          67,
          52,
          52
         ],
         "yaxis": "y3"
        },
        {
         "hovertemplate": "term=perte<br>origin=facebook<br>start_segment=%{x}<br>rank=%{y}<extra></extra>",
         "legendgroup": "perte",
         "line": {
          "color": "#19d3f3",
          "dash": "solid"
         },
         "marker": {
          "symbol": "circle"
         },
         "mode": "markers+lines",
         "name": "perte",
         "showlegend": true,
         "type": "scattergl",
         "x": [
          "2011-11-16",
          "2012-02-01",
          "2012-07-01",
          "2012-12-01",
          "2014-03-01",
          "2015-03-01",
          "2015-12-01",
          "2016-10-01",
          "2018-05-01",
          "2019-06-01",
          "2020-08-01",
          "2021-04-01",
          "2021-12-01"
         ],
         "xaxis": "x3",
         "y": [
          150,
          125,
          124,
          140,
          71,
          100,
          131,
          124,
          107,
          104,
          80,
          92,
          11
         ],
         "yaxis": "y3"
        },
        {
         "hovertemplate": "term=pesticides<br>origin=facebook<br>start_segment=%{x}<br>rank=%{y}<extra></extra>",
         "legendgroup": "pesticides",
         "line": {
          "color": "#FF6692",
          "dash": "solid"
         },
         "marker": {
          "symbol": "circle"
         },
         "mode": "markers+lines",
         "name": "pesticides",
         "showlegend": true,
         "type": "scattergl",
         "x": [
          "2011-11-16",
          "2012-02-01",
          "2012-07-01",
          "2012-12-01",
          "2014-03-01",
          "2015-03-01",
          "2015-12-01",
          "2016-10-01",
          "2018-05-01",
          "2019-06-01",
          "2020-08-01",
          "2021-04-01",
          "2021-12-01"
         ],
         "xaxis": "x3",
         "y": [
          1,
          1,
          1,
          1,
          1,
          1,
          1,
          1,
          1,
          1,
          1,
          2,
          1
         ],
         "yaxis": "y3"
        },
        {
         "hovertemplate": "term=pesticides<br>origin=media<br>start_segment=%{x}<br>rank=%{y}<extra></extra>",
         "legendgroup": "pesticides",
         "line": {
          "color": "#FF6692",
          "dash": "solid"
         },
         "marker": {
          "symbol": "circle"
         },
         "mode": "markers+lines",
         "name": "pesticides",
         "showlegend": false,
         "type": "scattergl",
         "x": [
          "2010-09-16",
          "2011-01-19",
          "2011-03-31",
          "2011-09-08",
          "2011-11-03",
          "2012-11-14",
          "2013-01-07",
          "2014-07-01",
          "2015-09-01",
          "2018-04-01",
          "2019-08-01",
          "2021-08-01"
         ],
         "xaxis": "x2",
         "y": [
          1,
          13,
          4,
          2,
          1,
          3,
          1,
          1,
          1,
          1,
          1,
          1
         ],
         "yaxis": "y2"
        },
        {
         "hovertemplate": "term=pesticides<br>origin=twitter<br>start_segment=%{x}<br>rank=%{y}<extra></extra>",
         "legendgroup": "pesticides",
         "line": {
          "color": "#FF6692",
          "dash": "solid"
         },
         "marker": {
          "symbol": "circle"
         },
         "mode": "markers+lines",
         "name": "pesticides",
         "showlegend": false,
         "type": "scattergl",
         "x": [
          "2010-02-01",
          "2010-09-01",
          "2012-07-01",
          "2013-12-01",
          "2015-10-01",
          "2017-09-01",
          "2019-06-01",
          "2020-08-01"
         ],
         "xaxis": "x",
         "y": [
          1,
          1,
          1,
          1,
          1,
          2,
          1,
          1
         ],
         "yaxis": "y"
        },
        {
         "hovertemplate": "term=plantes<br>origin=facebook<br>start_segment=%{x}<br>rank=%{y}<extra></extra>",
         "legendgroup": "plantes",
         "line": {
          "color": "#B6E880",
          "dash": "solid"
         },
         "marker": {
          "symbol": "circle"
         },
         "mode": "markers+lines",
         "name": "plantes",
         "showlegend": true,
         "type": "scattergl",
         "x": [
          "2011-11-16",
          "2012-02-01",
          "2012-07-01",
          "2012-12-01",
          "2014-03-01",
          "2015-03-01",
          "2015-12-01",
          "2016-10-01",
          "2018-05-01",
          "2019-06-01",
          "2020-08-01",
          "2021-04-01",
          "2021-12-01"
         ],
         "xaxis": "x3",
         "y": [
          10,
          10,
          7,
          11,
          7,
          10,
          11,
          8,
          15,
          8,
          6,
          4,
          6
         ],
         "yaxis": "y3"
        },
        {
         "hovertemplate": "term=plantes<br>origin=media<br>start_segment=%{x}<br>rank=%{y}<extra></extra>",
         "legendgroup": "plantes",
         "line": {
          "color": "#B6E880",
          "dash": "solid"
         },
         "marker": {
          "symbol": "circle"
         },
         "mode": "markers+lines",
         "name": "plantes",
         "showlegend": false,
         "type": "scattergl",
         "x": [
          "2010-09-16",
          "2011-01-19",
          "2011-03-31",
          "2011-09-08",
          "2011-11-03",
          "2012-11-14",
          "2013-01-07",
          "2014-07-01",
          "2015-09-01",
          "2018-04-01",
          "2019-08-01",
          "2021-08-01"
         ],
         "xaxis": "x2",
         "y": [
          34,
          96,
          84,
          27,
          18,
          17,
          13,
          17,
          26,
          37,
          18,
          20
         ],
         "yaxis": "y2"
        },
        {
         "hovertemplate": "term=planète<br>origin=facebook<br>start_segment=%{x}<br>rank=%{y}<extra></extra>",
         "legendgroup": "planète",
         "line": {
          "color": "#FF97FF",
          "dash": "solid"
         },
         "marker": {
          "symbol": "circle"
         },
         "mode": "markers+lines",
         "name": "planète",
         "showlegend": true,
         "type": "scattergl",
         "x": [
          "2011-11-16",
          "2012-02-01",
          "2012-07-01",
          "2012-12-01",
          "2014-03-01",
          "2015-03-01",
          "2015-12-01",
          "2016-10-01",
          "2018-05-01",
          "2019-06-01",
          "2020-08-01",
          "2021-04-01",
          "2021-12-01"
         ],
         "xaxis": "x3",
         "y": [
          19,
          53,
          65,
          101,
          62,
          72,
          68,
          70,
          40,
          48,
          78,
          76,
          46
         ],
         "yaxis": "y3"
        },
        {
         "hovertemplate": "term=politique<br>origin=facebook<br>start_segment=%{x}<br>rank=%{y}<extra></extra>",
         "legendgroup": "politique",
         "line": {
          "color": "#FECB52",
          "dash": "solid"
         },
         "marker": {
          "symbol": "circle"
         },
         "mode": "markers+lines",
         "name": "politique",
         "showlegend": true,
         "type": "scattergl",
         "x": [
          "2011-11-16",
          "2012-02-01",
          "2012-07-01",
          "2012-12-01",
          "2014-03-01",
          "2015-03-01",
          "2015-12-01",
          "2016-10-01",
          "2018-05-01",
          "2019-06-01",
          "2020-08-01",
          "2021-04-01",
          "2021-12-01"
         ],
         "xaxis": "x3",
         "y": [
          54,
          12,
          28,
          16,
          37,
          44,
          30,
          24,
          11,
          14,
          16,
          21,
          19
         ],
         "yaxis": "y3"
        },
        {
         "hovertemplate": "term=politique<br>origin=media<br>start_segment=%{x}<br>rank=%{y}<extra></extra>",
         "legendgroup": "politique",
         "line": {
          "color": "#FECB52",
          "dash": "solid"
         },
         "marker": {
          "symbol": "circle"
         },
         "mode": "markers+lines",
         "name": "politique",
         "showlegend": false,
         "type": "scattergl",
         "x": [
          "2010-09-16",
          "2011-01-19",
          "2011-03-31",
          "2011-11-03",
          "2012-11-14",
          "2013-01-07",
          "2014-07-01",
          "2015-09-01",
          "2018-04-01",
          "2019-08-01",
          "2021-08-01"
         ],
         "xaxis": "x2",
         "y": [
          16,
          6,
          82,
          28,
          91,
          21,
          29,
          9,
          5,
          5,
          4
         ],
         "yaxis": "y2"
        },
        {
         "hovertemplate": "term=politique<br>origin=twitter<br>start_segment=%{x}<br>rank=%{y}<extra></extra>",
         "legendgroup": "politique",
         "line": {
          "color": "#FECB52",
          "dash": "solid"
         },
         "marker": {
          "symbol": "circle"
         },
         "mode": "markers+lines",
         "name": "politique",
         "showlegend": false,
         "type": "scattergl",
         "x": [
          "2010-02-01",
          "2010-09-01",
          "2012-07-01",
          "2013-12-01",
          "2015-10-01",
          "2017-09-01",
          "2019-06-01",
          "2020-08-01"
         ],
         "xaxis": "x",
         "y": [
          48,
          102,
          122,
          83,
          67,
          23,
          23,
          24
         ],
         "yaxis": "y"
        },
        {
         "hovertemplate": "term=pollution<br>origin=facebook<br>start_segment=%{x}<br>rank=%{y}<extra></extra>",
         "legendgroup": "pollution",
         "line": {
          "color": "#636efa",
          "dash": "solid"
         },
         "marker": {
          "symbol": "circle"
         },
         "mode": "markers+lines",
         "name": "pollution",
         "showlegend": true,
         "type": "scattergl",
         "x": [
          "2011-11-16",
          "2012-02-01",
          "2012-07-01",
          "2012-12-01",
          "2014-03-01",
          "2015-03-01",
          "2015-12-01",
          "2016-10-01",
          "2018-05-01",
          "2019-06-01",
          "2020-08-01",
          "2021-04-01",
          "2021-12-01"
         ],
         "xaxis": "x3",
         "y": [
          16,
          20,
          55,
          29,
          31,
          52,
          54,
          58,
          52,
          28,
          45,
          36,
          49
         ],
         "yaxis": "y3"
        },
        {
         "hovertemplate": "term=pollution<br>origin=media<br>start_segment=%{x}<br>rank=%{y}<extra></extra>",
         "legendgroup": "pollution",
         "line": {
          "color": "#636efa",
          "dash": "solid"
         },
         "marker": {
          "symbol": "circle"
         },
         "mode": "markers+lines",
         "name": "pollution",
         "showlegend": false,
         "type": "scattergl",
         "x": [
          "2010-09-16",
          "2011-01-19",
          "2011-11-03",
          "2013-01-07",
          "2014-07-01",
          "2015-09-01",
          "2018-04-01",
          "2019-08-01",
          "2021-08-01"
         ],
         "xaxis": "x2",
         "y": [
          33,
          60,
          140,
          35,
          20,
          52,
          44,
          32,
          42
         ],
         "yaxis": "y2"
        },
        {
         "hovertemplate": "term=pollution<br>origin=twitter<br>start_segment=%{x}<br>rank=%{y}<extra></extra>",
         "legendgroup": "pollution",
         "line": {
          "color": "#636efa",
          "dash": "solid"
         },
         "marker": {
          "symbol": "circle"
         },
         "mode": "markers+lines",
         "name": "pollution",
         "showlegend": false,
         "type": "scattergl",
         "x": [
          "2010-02-01",
          "2010-09-01",
          "2012-07-01",
          "2013-12-01",
          "2015-10-01",
          "2017-09-01",
          "2019-06-01",
          "2020-08-01"
         ],
         "xaxis": "x",
         "y": [
          25,
          19,
          30,
          31,
          34,
          37,
          24,
          22
         ],
         "yaxis": "y"
        },
        {
         "hovertemplate": "term=population<br>origin=facebook<br>start_segment=%{x}<br>rank=%{y}<extra></extra>",
         "legendgroup": "population",
         "line": {
          "color": "#EF553B",
          "dash": "solid"
         },
         "marker": {
          "symbol": "circle"
         },
         "mode": "markers+lines",
         "name": "population",
         "showlegend": true,
         "type": "scattergl",
         "x": [
          "2011-11-16",
          "2012-02-01",
          "2012-07-01",
          "2012-12-01",
          "2014-03-01",
          "2015-03-01",
          "2015-12-01",
          "2016-10-01",
          "2018-05-01",
          "2019-06-01",
          "2020-08-01",
          "2021-04-01",
          "2021-12-01"
         ],
         "xaxis": "x3",
         "y": [
          24,
          33,
          24,
          23,
          25,
          35,
          44,
          38,
          36,
          17,
          21,
          20,
          29
         ],
         "yaxis": "y3"
        },
        {
         "hovertemplate": "term=population<br>origin=media<br>start_segment=%{x}<br>rank=%{y}<extra></extra>",
         "legendgroup": "population",
         "line": {
          "color": "#EF553B",
          "dash": "solid"
         },
         "marker": {
          "symbol": "circle"
         },
         "mode": "markers+lines",
         "name": "population",
         "showlegend": false,
         "type": "scattergl",
         "x": [
          "2011-01-19",
          "2011-03-31",
          "2011-09-08",
          "2011-11-03",
          "2012-11-14",
          "2013-01-07",
          "2014-07-01",
          "2015-09-01",
          "2018-04-01",
          "2019-08-01",
          "2021-08-01"
         ],
         "xaxis": "x2",
         "y": [
          59,
          46,
          16,
          34,
          90,
          27,
          15,
          24,
          35,
          13,
          6
         ],
         "yaxis": "y2"
        },
        {
         "hovertemplate": "term=pratiques<br>origin=facebook<br>start_segment=%{x}<br>rank=%{y}<extra></extra>",
         "legendgroup": "pratiques",
         "line": {
          "color": "#00cc96",
          "dash": "solid"
         },
         "marker": {
          "symbol": "circle"
         },
         "mode": "markers+lines",
         "name": "pratiques",
         "showlegend": true,
         "type": "scattergl",
         "x": [
          "2011-11-16",
          "2012-02-01",
          "2012-07-01",
          "2012-12-01",
          "2014-03-01",
          "2015-03-01",
          "2015-12-01",
          "2016-10-01",
          "2018-05-01",
          "2019-06-01",
          "2020-08-01",
          "2021-04-01",
          "2021-12-01"
         ],
         "xaxis": "x3",
         "y": [
          39,
          45,
          45,
          36,
          43,
          43,
          60,
          25,
          38,
          31,
          34,
          7,
          21
         ],
         "yaxis": "y3"
        },
        {
         "hovertemplate": "term=pratiques<br>origin=media<br>start_segment=%{x}<br>rank=%{y}<extra></extra>",
         "legendgroup": "pratiques",
         "line": {
          "color": "#00cc96",
          "dash": "solid"
         },
         "marker": {
          "symbol": "circle"
         },
         "mode": "markers+lines",
         "name": "pratiques",
         "showlegend": false,
         "type": "scattergl",
         "x": [
          "2010-09-16",
          "2011-01-19",
          "2011-03-31",
          "2011-11-03",
          "2012-11-14",
          "2013-01-07",
          "2014-07-01",
          "2015-09-01",
          "2018-04-01",
          "2019-08-01",
          "2021-08-01"
         ],
         "xaxis": "x2",
         "y": [
          17,
          22,
          83,
          63,
          89,
          33,
          39,
          43,
          48,
          36,
          55
         ],
         "yaxis": "y2"
        },
        {
         "hovertemplate": "term=problème<br>origin=facebook<br>start_segment=%{x}<br>rank=%{y}<extra></extra>",
         "legendgroup": "problème",
         "line": {
          "color": "#ab63fa",
          "dash": "solid"
         },
         "marker": {
          "symbol": "circle"
         },
         "mode": "markers+lines",
         "name": "problème",
         "showlegend": true,
         "type": "scattergl",
         "x": [
          "2011-11-16",
          "2012-02-01",
          "2012-07-01",
          "2012-12-01",
          "2014-03-01",
          "2015-03-01",
          "2015-12-01",
          "2016-10-01",
          "2018-05-01",
          "2019-06-01",
          "2020-08-01",
          "2021-04-01",
          "2021-12-01"
         ],
         "xaxis": "x3",
         "y": [
          35,
          37,
          40,
          21,
          26,
          39,
          37,
          46,
          47,
          29,
          35,
          30,
          34
         ],
         "yaxis": "y3"
        },
        {
         "hovertemplate": "term=problème<br>origin=media<br>start_segment=%{x}<br>rank=%{y}<extra></extra>",
         "legendgroup": "problème",
         "line": {
          "color": "#ab63fa",
          "dash": "solid"
         },
         "marker": {
          "symbol": "circle"
         },
         "mode": "markers+lines",
         "name": "problème",
         "showlegend": false,
         "type": "scattergl",
         "x": [
          "2010-09-16",
          "2011-01-19",
          "2011-03-31",
          "2011-11-03",
          "2012-11-14",
          "2013-01-07",
          "2014-07-01",
          "2015-09-01",
          "2018-04-01",
          "2019-08-01",
          "2021-08-01"
         ],
         "xaxis": "x2",
         "y": [
          67,
          24,
          48,
          21,
          21,
          25,
          26,
          32,
          33,
          24,
          21
         ],
         "yaxis": "y2"
        },
        {
         "hovertemplate": "term=problème<br>origin=twitter<br>start_segment=%{x}<br>rank=%{y}<extra></extra>",
         "legendgroup": "problème",
         "line": {
          "color": "#ab63fa",
          "dash": "solid"
         },
         "marker": {
          "symbol": "circle"
         },
         "mode": "markers+lines",
         "name": "problème",
         "showlegend": false,
         "type": "scattergl",
         "x": [
          "2010-02-01",
          "2010-09-01",
          "2012-07-01",
          "2013-12-01",
          "2015-10-01",
          "2017-09-01",
          "2019-06-01",
          "2020-08-01"
         ],
         "xaxis": "x",
         "y": [
          72,
          88,
          60,
          97,
          72,
          25,
          19,
          20
         ],
         "yaxis": "y"
        },
        {
         "hovertemplate": "term=production<br>origin=facebook<br>start_segment=%{x}<br>rank=%{y}<extra></extra>",
         "legendgroup": "production",
         "line": {
          "color": "#FFA15A",
          "dash": "solid"
         },
         "marker": {
          "symbol": "circle"
         },
         "mode": "markers+lines",
         "name": "production",
         "showlegend": true,
         "type": "scattergl",
         "x": [
          "2011-11-16",
          "2012-02-01",
          "2012-07-01",
          "2012-12-01",
          "2014-03-01",
          "2015-03-01",
          "2015-12-01",
          "2016-10-01",
          "2018-05-01",
          "2019-06-01",
          "2020-08-01",
          "2021-04-01",
          "2021-12-01"
         ],
         "xaxis": "x3",
         "y": [
          4,
          9,
          12,
          18,
          14,
          19,
          20,
          17,
          26,
          9,
          13,
          6,
          8
         ],
         "yaxis": "y3"
        },
        {
         "hovertemplate": "term=production<br>origin=media<br>start_segment=%{x}<br>rank=%{y}<extra></extra>",
         "legendgroup": "production",
         "line": {
          "color": "#FFA15A",
          "dash": "solid"
         },
         "marker": {
          "symbol": "circle"
         },
         "mode": "markers+lines",
         "name": "production",
         "showlegend": false,
         "type": "scattergl",
         "x": [
          "2010-09-16",
          "2011-01-19",
          "2011-03-31",
          "2011-09-08",
          "2011-11-03",
          "2012-11-14",
          "2013-01-07",
          "2014-07-01",
          "2015-09-01",
          "2018-04-01",
          "2019-08-01",
          "2021-08-01"
         ],
         "xaxis": "x2",
         "y": [
          77,
          3,
          18,
          62,
          29,
          96,
          12,
          7,
          12,
          18,
          9,
          19
         ],
         "yaxis": "y2"
        },
        {
         "hovertemplate": "term=recherche<br>origin=facebook<br>start_segment=%{x}<br>rank=%{y}<extra></extra>",
         "legendgroup": "recherche",
         "line": {
          "color": "#19d3f3",
          "dash": "solid"
         },
         "marker": {
          "symbol": "circle"
         },
         "mode": "markers+lines",
         "name": "recherche",
         "showlegend": true,
         "type": "scattergl",
         "x": [
          "2011-11-16",
          "2012-02-01",
          "2012-07-01",
          "2012-12-01",
          "2014-03-01",
          "2015-03-01",
          "2015-12-01",
          "2016-10-01",
          "2018-05-01",
          "2019-06-01",
          "2020-08-01",
          "2021-04-01",
          "2021-12-01"
         ],
         "xaxis": "x3",
         "y": [
          33,
          47,
          23,
          35,
          18,
          32,
          49,
          33,
          39,
          36,
          41,
          32,
          39
         ],
         "yaxis": "y3"
        },
        {
         "hovertemplate": "term=recherche<br>origin=media<br>start_segment=%{x}<br>rank=%{y}<extra></extra>",
         "legendgroup": "recherche",
         "line": {
          "color": "#19d3f3",
          "dash": "solid"
         },
         "marker": {
          "symbol": "circle"
         },
         "mode": "markers+lines",
         "name": "recherche",
         "showlegend": false,
         "type": "scattergl",
         "x": [
          "2010-09-16",
          "2011-01-19",
          "2011-03-31",
          "2011-09-08",
          "2011-11-03",
          "2012-11-14",
          "2013-01-07",
          "2014-07-01",
          "2015-09-01",
          "2018-04-01",
          "2019-08-01",
          "2021-08-01"
         ],
         "xaxis": "x2",
         "y": [
          19,
          92,
          8,
          58,
          20,
          19,
          20,
          14,
          17,
          28,
          15,
          26
         ],
         "yaxis": "y2"
        },
        {
         "hovertemplate": "term=roundup<br>origin=facebook<br>start_segment=%{x}<br>rank=%{y}<extra></extra>",
         "legendgroup": "roundup",
         "line": {
          "color": "#FF6692",
          "dash": "solid"
         },
         "marker": {
          "symbol": "circle"
         },
         "mode": "markers+lines",
         "name": "roundup",
         "showlegend": true,
         "type": "scattergl",
         "x": [
          "2011-11-16",
          "2012-02-01",
          "2012-07-01",
          "2012-12-01",
          "2014-03-01",
          "2015-03-01",
          "2015-12-01",
          "2016-10-01",
          "2018-05-01",
          "2019-06-01",
          "2020-08-01",
          "2021-04-01",
          "2021-12-01"
         ],
         "xaxis": "x3",
         "y": [
          18,
          34,
          10,
          7,
          11,
          4,
          12,
          21,
          16,
          75,
          133,
          94,
          150
         ],
         "yaxis": "y3"
        },
        {
         "hovertemplate": "term=roundup<br>origin=media<br>start_segment=%{x}<br>rank=%{y}<extra></extra>",
         "legendgroup": "roundup",
         "line": {
          "color": "#FF6692",
          "dash": "solid"
         },
         "marker": {
          "symbol": "circle"
         },
         "mode": "markers+lines",
         "name": "roundup",
         "showlegend": false,
         "type": "scattergl",
         "x": [
          "2011-09-08",
          "2011-11-03",
          "2013-01-07",
          "2014-07-01",
          "2015-09-01",
          "2018-04-01",
          "2019-08-01",
          "2021-08-01"
         ],
         "xaxis": "x2",
         "y": [
          4,
          35,
          128,
          31,
          62,
          34,
          143,
          58
         ],
         "yaxis": "y2"
        },
        {
         "hovertemplate": "term=roundup<br>origin=twitter<br>start_segment=%{x}<br>rank=%{y}<extra></extra>",
         "legendgroup": "roundup",
         "line": {
          "color": "#FF6692",
          "dash": "solid"
         },
         "marker": {
          "symbol": "circle"
         },
         "mode": "markers+lines",
         "name": "roundup",
         "showlegend": false,
         "type": "scattergl",
         "x": [
          "2010-02-01",
          "2010-09-01",
          "2012-07-01",
          "2013-12-01",
          "2015-10-01",
          "2017-09-01",
          "2019-06-01",
          "2020-08-01"
         ],
         "xaxis": "x",
         "y": [
          3,
          3,
          3,
          2,
          5,
          5,
          18,
          23
         ],
         "yaxis": "y"
        },
        {
         "hovertemplate": "term=santé<br>origin=facebook<br>start_segment=%{x}<br>rank=%{y}<extra></extra>",
         "legendgroup": "santé",
         "line": {
          "color": "#B6E880",
          "dash": "solid"
         },
         "marker": {
          "symbol": "circle"
         },
         "mode": "markers+lines",
         "name": "santé",
         "showlegend": true,
         "type": "scattergl",
         "x": [
          "2011-11-16",
          "2012-02-01",
          "2012-07-01",
          "2012-12-01",
          "2014-03-01",
          "2015-03-01",
          "2015-12-01",
          "2016-10-01",
          "2018-05-01",
          "2019-06-01",
          "2020-08-01",
          "2021-04-01",
          "2021-12-01"
         ],
         "xaxis": "x3",
         "y": [
          2,
          2,
          3,
          4,
          3,
          3,
          2,
          3,
          4,
          3,
          4,
          3,
          5
         ],
         "yaxis": "y3"
        },
        {
         "hovertemplate": "term=santé<br>origin=media<br>start_segment=%{x}<br>rank=%{y}<extra></extra>",
         "legendgroup": "santé",
         "line": {
          "color": "#B6E880",
          "dash": "solid"
         },
         "marker": {
          "symbol": "circle"
         },
         "mode": "markers+lines",
         "name": "santé",
         "showlegend": false,
         "type": "scattergl",
         "x": [
          "2010-09-16",
          "2011-01-19",
          "2011-03-31",
          "2011-09-08",
          "2011-11-03",
          "2012-11-14",
          "2013-01-07",
          "2014-07-01",
          "2015-09-01",
          "2018-04-01",
          "2019-08-01",
          "2021-08-01"
         ],
         "xaxis": "x2",
         "y": [
          11,
          95,
          17,
          60,
          9,
          5,
          3,
          2,
          3,
          4,
          4,
          2
         ],
         "yaxis": "y2"
        },
        {
         "hovertemplate": "term=santé<br>origin=twitter<br>start_segment=%{x}<br>rank=%{y}<extra></extra>",
         "legendgroup": "santé",
         "line": {
          "color": "#B6E880",
          "dash": "solid"
         },
         "marker": {
          "symbol": "circle"
         },
         "mode": "markers+lines",
         "name": "santé",
         "showlegend": false,
         "type": "scattergl",
         "x": [
          "2010-02-01",
          "2010-09-01",
          "2012-07-01",
          "2013-12-01",
          "2015-10-01",
          "2017-09-01",
          "2019-06-01",
          "2020-08-01"
         ],
         "xaxis": "x",
         "y": [
          11,
          7,
          5,
          9,
          7,
          4,
          4,
          6
         ],
         "yaxis": "y"
        },
        {
         "hovertemplate": "term=scientifiques<br>origin=facebook<br>start_segment=%{x}<br>rank=%{y}<extra></extra>",
         "legendgroup": "scientifiques",
         "line": {
          "color": "#FF97FF",
          "dash": "solid"
         },
         "marker": {
          "symbol": "circle"
         },
         "mode": "markers+lines",
         "name": "scientifiques",
         "showlegend": true,
         "type": "scattergl",
         "x": [
          "2011-11-16",
          "2012-02-01",
          "2012-07-01",
          "2012-12-01",
          "2014-03-01",
          "2015-03-01",
          "2015-12-01",
          "2016-10-01",
          "2018-05-01",
          "2019-06-01",
          "2020-08-01",
          "2021-04-01",
          "2021-12-01"
         ],
         "xaxis": "x3",
         "y": [
          29,
          36,
          11,
          22,
          16,
          17,
          38,
          30,
          29,
          22,
          38,
          49,
          47
         ],
         "yaxis": "y3"
        },
        {
         "hovertemplate": "term=scientifiques<br>origin=media<br>start_segment=%{x}<br>rank=%{y}<extra></extra>",
         "legendgroup": "scientifiques",
         "line": {
          "color": "#FF97FF",
          "dash": "solid"
         },
         "marker": {
          "symbol": "circle"
         },
         "mode": "markers+lines",
         "name": "scientifiques",
         "showlegend": false,
         "type": "scattergl",
         "x": [
          "2010-09-16",
          "2011-01-19",
          "2011-03-31",
          "2011-11-03",
          "2012-11-14",
          "2013-01-07",
          "2014-07-01",
          "2015-09-01",
          "2018-04-01",
          "2019-08-01",
          "2021-08-01"
         ],
         "xaxis": "x2",
         "y": [
          9,
          93,
          5,
          11,
          7,
          24,
          34,
          14,
          17,
          17,
          17
         ],
         "yaxis": "y2"
        },
        {
         "hovertemplate": "term=scientifiques<br>origin=twitter<br>start_segment=%{x}<br>rank=%{y}<extra></extra>",
         "legendgroup": "scientifiques",
         "line": {
          "color": "#FF97FF",
          "dash": "solid"
         },
         "marker": {
          "symbol": "circle"
         },
         "mode": "markers+lines",
         "name": "scientifiques",
         "showlegend": false,
         "type": "scattergl",
         "x": [
          "2010-02-01",
          "2010-09-01",
          "2012-07-01",
          "2013-12-01",
          "2015-10-01",
          "2017-09-01",
          "2019-06-01",
          "2020-08-01"
         ],
         "xaxis": "x",
         "y": [
          77,
          58,
          72,
          41,
          60,
          12,
          9,
          18
         ],
         "yaxis": "y"
        },
        {
         "hovertemplate": "term=systèmes<br>origin=facebook<br>start_segment=%{x}<br>rank=%{y}<extra></extra>",
         "legendgroup": "systèmes",
         "line": {
          "color": "#FECB52",
          "dash": "solid"
         },
         "marker": {
          "symbol": "circle"
         },
         "mode": "markers+lines",
         "name": "systèmes",
         "showlegend": true,
         "type": "scattergl",
         "x": [
          "2011-11-16",
          "2012-02-01",
          "2012-07-01",
          "2012-12-01",
          "2014-03-01",
          "2015-03-01",
          "2015-12-01",
          "2016-10-01",
          "2018-05-01",
          "2019-06-01",
          "2020-08-01",
          "2021-04-01",
          "2021-12-01"
         ],
         "xaxis": "x3",
         "y": [
          6,
          27,
          25,
          37,
          19,
          22,
          31,
          28,
          30,
          16,
          22,
          16,
          14
         ],
         "yaxis": "y3"
        },
        {
         "hovertemplate": "term=systèmes<br>origin=media<br>start_segment=%{x}<br>rank=%{y}<extra></extra>",
         "legendgroup": "systèmes",
         "line": {
          "color": "#FECB52",
          "dash": "solid"
         },
         "marker": {
          "symbol": "circle"
         },
         "mode": "markers+lines",
         "name": "systèmes",
         "showlegend": false,
         "type": "scattergl",
         "x": [
          "2010-09-16",
          "2011-01-19",
          "2011-11-03",
          "2012-11-14",
          "2013-01-07",
          "2014-07-01",
          "2015-09-01",
          "2018-04-01",
          "2019-08-01",
          "2021-08-01"
         ],
         "xaxis": "x2",
         "y": [
          24,
          10,
          10,
          42,
          50,
          41,
          34,
          38,
          21,
          13
         ],
         "yaxis": "y2"
        },
        {
         "hovertemplate": "term=traitements<br>origin=facebook<br>start_segment=%{x}<br>rank=%{y}<extra></extra>",
         "legendgroup": "traitements",
         "line": {
          "color": "#636efa",
          "dash": "solid"
         },
         "marker": {
          "symbol": "circle"
         },
         "mode": "markers+lines",
         "name": "traitements",
         "showlegend": true,
         "type": "scattergl",
         "x": [
          "2011-11-16",
          "2012-02-01",
          "2012-07-01",
          "2012-12-01",
          "2014-03-01",
          "2015-03-01",
          "2015-12-01",
          "2016-10-01",
          "2018-05-01",
          "2019-06-01",
          "2020-08-01",
          "2021-04-01",
          "2021-12-01"
         ],
         "xaxis": "x3",
         "y": [
          38,
          23,
          22,
          33,
          15,
          27,
          24,
          29,
          51,
          18,
          26,
          11,
          4
         ],
         "yaxis": "y3"
        },
        {
         "hovertemplate": "term=traitements<br>origin=media<br>start_segment=%{x}<br>rank=%{y}<extra></extra>",
         "legendgroup": "traitements",
         "line": {
          "color": "#636efa",
          "dash": "solid"
         },
         "marker": {
          "symbol": "circle"
         },
         "mode": "markers+lines",
         "name": "traitements",
         "showlegend": false,
         "type": "scattergl",
         "x": [
          "2010-09-16",
          "2011-03-31",
          "2011-11-03",
          "2012-11-14",
          "2013-01-07",
          "2014-07-01",
          "2015-09-01",
          "2018-04-01",
          "2019-08-01",
          "2021-08-01"
         ],
         "xaxis": "x2",
         "y": [
          29,
          91,
          50,
          15,
          14,
          18,
          41,
          62,
          34,
          32
         ],
         "yaxis": "y2"
        },
        {
         "hovertemplate": "term=transport<br>origin=facebook<br>start_segment=%{x}<br>rank=%{y}<extra></extra>",
         "legendgroup": "transport",
         "line": {
          "color": "#EF553B",
          "dash": "solid"
         },
         "marker": {
          "symbol": "circle"
         },
         "mode": "markers+lines",
         "name": "transport",
         "showlegend": true,
         "type": "scattergl",
         "x": [
          "2011-11-16",
          "2012-02-01",
          "2012-07-01",
          "2012-12-01",
          "2014-03-01",
          "2015-03-01",
          "2015-12-01",
          "2016-10-01",
          "2018-05-01",
          "2019-06-01",
          "2020-08-01",
          "2021-04-01",
          "2021-12-01"
         ],
         "xaxis": "x3",
         "y": [
          59,
          100,
          108,
          155,
          128,
          182,
          159,
          171,
          113,
          101,
          141,
          106,
          24
         ],
         "yaxis": "y3"
        },
        {
         "hovertemplate": "term=travail<br>origin=facebook<br>start_segment=%{x}<br>rank=%{y}<extra></extra>",
         "legendgroup": "travail",
         "line": {
          "color": "#00cc96",
          "dash": "solid"
         },
         "marker": {
          "symbol": "circle"
         },
         "mode": "markers+lines",
         "name": "travail",
         "showlegend": true,
         "type": "scattergl",
         "x": [
          "2011-11-16",
          "2012-02-01",
          "2012-07-01",
          "2012-12-01",
          "2014-03-01",
          "2015-03-01",
          "2015-12-01",
          "2016-10-01",
          "2018-05-01",
          "2019-06-01",
          "2020-08-01",
          "2021-04-01",
          "2021-12-01"
         ],
         "xaxis": "x3",
         "y": [
          30,
          14,
          19,
          34,
          22,
          21,
          21,
          19,
          20,
          15,
          18,
          19,
          13
         ],
         "yaxis": "y3"
        },
        {
         "hovertemplate": "term=travail<br>origin=media<br>start_segment=%{x}<br>rank=%{y}<extra></extra>",
         "legendgroup": "travail",
         "line": {
          "color": "#00cc96",
          "dash": "solid"
         },
         "marker": {
          "symbol": "circle"
         },
         "mode": "markers+lines",
         "name": "travail",
         "showlegend": false,
         "type": "scattergl",
         "x": [
          "2010-09-16",
          "2011-01-19",
          "2011-03-31",
          "2011-11-03",
          "2012-11-14",
          "2013-01-07",
          "2014-07-01",
          "2015-09-01",
          "2018-04-01",
          "2019-08-01",
          "2021-08-01"
         ],
         "xaxis": "x2",
         "y": [
          69,
          30,
          9,
          14,
          12,
          10,
          6,
          6,
          13,
          8,
          15
         ],
         "yaxis": "y2"
        },
        {
         "hovertemplate": "term=tribunal<br>origin=facebook<br>start_segment=%{x}<br>rank=%{y}<extra></extra>",
         "legendgroup": "tribunal",
         "line": {
          "color": "#ab63fa",
          "dash": "solid"
         },
         "marker": {
          "symbol": "circle"
         },
         "mode": "markers+lines",
         "name": "tribunal",
         "showlegend": true,
         "type": "scattergl",
         "x": [
          "2011-11-16",
          "2012-02-01",
          "2012-07-01",
          "2012-12-01",
          "2014-03-01",
          "2015-03-01",
          "2015-12-01",
          "2016-10-01",
          "2018-05-01",
          "2019-06-01",
          "2020-08-01",
          "2021-04-01",
          "2021-12-01"
         ],
         "xaxis": "x3",
         "y": [
          47,
          144,
          104,
          73,
          118,
          105,
          121,
          79,
          88,
          24,
          85,
          125,
          125
         ],
         "yaxis": "y3"
        },
        {
         "hovertemplate": "term=victimes<br>origin=facebook<br>start_segment=%{x}<br>rank=%{y}<extra></extra>",
         "legendgroup": "victimes",
         "line": {
          "color": "#FFA15A",
          "dash": "solid"
         },
         "marker": {
          "symbol": "circle"
         },
         "mode": "markers+lines",
         "name": "victimes",
         "showlegend": true,
         "type": "scattergl",
         "x": [
          "2011-11-16",
          "2012-02-01",
          "2012-07-01",
          "2012-12-01",
          "2014-03-01",
          "2015-03-01",
          "2015-12-01",
          "2016-10-01",
          "2018-05-01",
          "2019-06-01",
          "2020-08-01",
          "2021-04-01",
          "2021-12-01"
         ],
         "xaxis": "x3",
         "y": [
          32,
          22,
          61,
          77,
          74,
          63,
          50,
          60,
          62,
          54,
          28,
          62,
          65
         ],
         "yaxis": "y3"
        },
        {
         "hovertemplate": "term=victimes<br>origin=twitter<br>start_segment=%{x}<br>rank=%{y}<extra></extra>",
         "legendgroup": "victimes",
         "line": {
          "color": "#FFA15A",
          "dash": "solid"
         },
         "marker": {
          "symbol": "circle"
         },
         "mode": "markers+lines",
         "name": "victimes",
         "showlegend": false,
         "type": "scattergl",
         "x": [
          "2010-02-01",
          "2010-09-01",
          "2012-07-01",
          "2013-12-01",
          "2015-10-01",
          "2017-09-01",
          "2019-06-01",
          "2020-08-01"
         ],
         "xaxis": "x",
         "y": [
          37,
          11,
          71,
          36,
          24,
          44,
          56,
          59
         ],
         "yaxis": "y"
        },
        {
         "hovertemplate": "term=écologique<br>origin=facebook<br>start_segment=%{x}<br>rank=%{y}<extra></extra>",
         "legendgroup": "écologique",
         "line": {
          "color": "#19d3f3",
          "dash": "solid"
         },
         "marker": {
          "symbol": "circle"
         },
         "mode": "markers+lines",
         "name": "écologique",
         "showlegend": true,
         "type": "scattergl",
         "x": [
          "2011-11-16",
          "2012-02-01",
          "2012-07-01",
          "2012-12-01",
          "2014-03-01",
          "2015-03-01",
          "2015-12-01",
          "2016-10-01",
          "2018-05-01",
          "2019-06-01",
          "2020-08-01",
          "2021-04-01",
          "2021-12-01"
         ],
         "xaxis": "x3",
         "y": [
          60,
          38,
          66,
          43,
          32,
          36,
          41,
          23,
          24,
          19,
          15,
          25,
          48
         ],
         "yaxis": "y3"
        },
        {
         "hovertemplate": "term=écologique<br>origin=media<br>start_segment=%{x}<br>rank=%{y}<extra></extra>",
         "legendgroup": "écologique",
         "line": {
          "color": "#19d3f3",
          "dash": "solid"
         },
         "marker": {
          "symbol": "circle"
         },
         "mode": "markers+lines",
         "name": "écologique",
         "showlegend": false,
         "type": "scattergl",
         "x": [
          "2010-09-16",
          "2011-01-19",
          "2011-03-31",
          "2011-09-08",
          "2011-11-03",
          "2013-01-07",
          "2014-07-01",
          "2015-09-01",
          "2018-04-01",
          "2019-08-01",
          "2021-08-01"
         ],
         "xaxis": "x2",
         "y": [
          38,
          35,
          87,
          64,
          112,
          52,
          42,
          28,
          14,
          12,
          29
         ],
         "yaxis": "y2"
        },
        {
         "hovertemplate": "term=élevage<br>origin=facebook<br>start_segment=%{x}<br>rank=%{y}<extra></extra>",
         "legendgroup": "élevage",
         "line": {
          "color": "#FF6692",
          "dash": "solid"
         },
         "marker": {
          "symbol": "circle"
         },
         "mode": "markers+lines",
         "name": "élevage",
         "showlegend": true,
         "type": "scattergl",
         "x": [
          "2012-02-01",
          "2012-07-01",
          "2012-12-01",
          "2014-03-01",
          "2015-03-01",
          "2015-12-01",
          "2016-10-01",
          "2018-05-01",
          "2019-06-01",
          "2020-08-01",
          "2021-04-01",
          "2021-12-01"
         ],
         "xaxis": "x3",
         "y": [
          156,
          181,
          178,
          169,
          166,
          190,
          167,
          161,
          155,
          124,
          23,
          37
         ],
         "yaxis": "y3"
        },
        {
         "hovertemplate": "term=études<br>origin=facebook<br>start_segment=%{x}<br>rank=%{y}<extra></extra>",
         "legendgroup": "études",
         "line": {
          "color": "#B6E880",
          "dash": "solid"
         },
         "marker": {
          "symbol": "circle"
         },
         "mode": "markers+lines",
         "name": "études",
         "showlegend": true,
         "type": "scattergl",
         "x": [
          "2011-11-16",
          "2012-02-01",
          "2012-07-01",
          "2012-12-01",
          "2014-03-01",
          "2015-03-01",
          "2015-12-01",
          "2016-10-01",
          "2018-05-01",
          "2019-06-01",
          "2020-08-01",
          "2021-04-01",
          "2021-12-01"
         ],
         "xaxis": "x3",
         "y": [
          23,
          30,
          4,
          8,
          8,
          11,
          25,
          16,
          19,
          23,
          30,
          26,
          20
         ],
         "yaxis": "y3"
        },
        {
         "hovertemplate": "term=études<br>origin=media<br>start_segment=%{x}<br>rank=%{y}<extra></extra>",
         "legendgroup": "études",
         "line": {
          "color": "#B6E880",
          "dash": "solid"
         },
         "marker": {
          "symbol": "circle"
         },
         "mode": "markers+lines",
         "name": "études",
         "showlegend": false,
         "type": "scattergl",
         "x": [
          "2010-09-16",
          "2011-03-31",
          "2011-09-08",
          "2011-11-03",
          "2012-11-14",
          "2013-01-07",
          "2014-07-01",
          "2015-09-01",
          "2018-04-01",
          "2019-08-01",
          "2021-08-01"
         ],
         "xaxis": "x2",
         "y": [
          3,
          1,
          9,
          5,
          4,
          11,
          19,
          10,
          19,
          22,
          12
         ],
         "yaxis": "y2"
        },
        {
         "hovertemplate": "term=études<br>origin=twitter<br>start_segment=%{x}<br>rank=%{y}<extra></extra>",
         "legendgroup": "études",
         "line": {
          "color": "#B6E880",
          "dash": "solid"
         },
         "marker": {
          "symbol": "circle"
         },
         "mode": "markers+lines",
         "name": "études",
         "showlegend": false,
         "type": "scattergl",
         "x": [
          "2010-02-01",
          "2010-09-01",
          "2012-07-01",
          "2013-12-01",
          "2015-10-01",
          "2017-09-01",
          "2019-06-01",
          "2020-08-01"
         ],
         "xaxis": "x",
         "y": [
          13,
          14,
          23,
          15,
          19,
          13,
          11,
          15
         ],
         "yaxis": "y"
        },
        {
         "hovertemplate": "term=ademe<br>origin=media<br>start_segment=%{x}<br>rank=%{y}<extra></extra>",
         "legendgroup": "ademe",
         "line": {
          "color": "#FF97FF",
          "dash": "solid"
         },
         "marker": {
          "symbol": "circle"
         },
         "mode": "markers+lines",
         "name": "ademe",
         "showlegend": true,
         "type": "scattergl",
         "x": [
          "2010-09-16",
          "2013-01-07",
          "2014-07-01",
          "2015-09-01",
          "2018-04-01",
          "2019-08-01",
          "2021-08-01"
         ],
         "xaxis": "x2",
         "y": [
          18,
          369,
          339,
          400,
          371,
          355,
          315
         ],
         "yaxis": "y2"
        },
        {
         "hovertemplate": "term=agence<br>origin=media<br>start_segment=%{x}<br>rank=%{y}<extra></extra>",
         "legendgroup": "agence",
         "line": {
          "color": "#FECB52",
          "dash": "solid"
         },
         "marker": {
          "symbol": "circle"
         },
         "mode": "markers+lines",
         "name": "agence",
         "showlegend": true,
         "type": "scattergl",
         "x": [
          "2010-09-16",
          "2011-01-19",
          "2011-03-31",
          "2011-09-08",
          "2011-11-03",
          "2012-11-14",
          "2013-01-07",
          "2014-07-01",
          "2015-09-01",
          "2018-04-01",
          "2019-08-01",
          "2021-08-01"
         ],
         "xaxis": "x2",
         "y": [
          104,
          82,
          71,
          22,
          108,
          67,
          123,
          108,
          77,
          87,
          139,
          134
         ],
         "yaxis": "y2"
        },
        {
         "hovertemplate": "term=antilles<br>origin=media<br>start_segment=%{x}<br>rank=%{y}<extra></extra>",
         "legendgroup": "antilles",
         "line": {
          "color": "#636efa",
          "dash": "solid"
         },
         "marker": {
          "symbol": "circle"
         },
         "mode": "markers+lines",
         "name": "antilles",
         "showlegend": true,
         "type": "scattergl",
         "x": [
          "2011-11-03",
          "2013-01-07",
          "2014-07-01",
          "2015-09-01",
          "2018-04-01",
          "2019-08-01",
          "2021-08-01"
         ],
         "xaxis": "x2",
         "y": [
          155,
          222,
          226,
          290,
          146,
          175,
          23
         ],
         "yaxis": "y2"
        },
        {
         "hovertemplate": "term=antilles<br>origin=twitter<br>start_segment=%{x}<br>rank=%{y}<extra></extra>",
         "legendgroup": "antilles",
         "line": {
          "color": "#636efa",
          "dash": "solid"
         },
         "marker": {
          "symbol": "circle"
         },
         "mode": "markers+lines",
         "name": "antilles",
         "showlegend": false,
         "type": "scattergl",
         "x": [
          "2010-02-01",
          "2010-09-01",
          "2012-07-01",
          "2013-12-01",
          "2015-10-01",
          "2017-09-01",
          "2019-06-01",
          "2020-08-01"
         ],
         "xaxis": "x",
         "y": [
          6,
          73,
          63,
          89,
          221,
          79,
          74,
          64
         ],
         "yaxis": "y"
        },
        {
         "hovertemplate": "term=article<br>origin=media<br>start_segment=%{x}<br>rank=%{y}<extra></extra>",
         "legendgroup": "article",
         "line": {
          "color": "#EF553B",
          "dash": "solid"
         },
         "marker": {
          "symbol": "circle"
         },
         "mode": "markers+lines",
         "name": "article",
         "showlegend": true,
         "type": "scattergl",
         "x": [
          "2010-09-16",
          "2011-01-19",
          "2011-03-31",
          "2011-11-03",
          "2012-11-14",
          "2013-01-07",
          "2014-07-01",
          "2015-09-01",
          "2018-04-01",
          "2019-08-01",
          "2021-08-01"
         ],
         "xaxis": "x2",
         "y": [
          12,
          23,
          15,
          49,
          53,
          73,
          35,
          45,
          36,
          20,
          27
         ],
         "yaxis": "y2"
        },
        {
         "hovertemplate": "term=autorisation<br>origin=media<br>start_segment=%{x}<br>rank=%{y}<extra></extra>",
         "legendgroup": "autorisation",
         "line": {
          "color": "#00cc96",
          "dash": "solid"
         },
         "marker": {
          "symbol": "circle"
         },
         "mode": "markers+lines",
         "name": "autorisation",
         "showlegend": true,
         "type": "scattergl",
         "x": [
          "2010-09-16",
          "2011-03-31",
          "2011-11-03",
          "2012-11-14",
          "2013-01-07",
          "2014-07-01",
          "2015-09-01",
          "2018-04-01",
          "2019-08-01",
          "2021-08-01"
         ],
         "xaxis": "x2",
         "y": [
          95,
          20,
          87,
          34,
          148,
          177,
          137,
          174,
          164,
          181
         ],
         "yaxis": "y2"
        },
        {
         "hovertemplate": "term=bayer<br>origin=media<br>start_segment=%{x}<br>rank=%{y}<extra></extra>",
         "legendgroup": "bayer",
         "line": {
          "color": "#ab63fa",
          "dash": "solid"
         },
         "marker": {
          "symbol": "circle"
         },
         "mode": "markers+lines",
         "name": "bayer",
         "showlegend": true,
         "type": "scattergl",
         "x": [
          "2010-09-16",
          "2011-11-03",
          "2013-01-07",
          "2014-07-01",
          "2015-09-01",
          "2018-04-01",
          "2019-08-01",
          "2021-08-01"
         ],
         "xaxis": "x2",
         "y": [
          98,
          180,
          77,
          194,
          64,
          23,
          99,
          79
         ],
         "yaxis": "y2"
        },
        {
         "hovertemplate": "term=bayer<br>origin=twitter<br>start_segment=%{x}<br>rank=%{y}<extra></extra>",
         "legendgroup": "bayer",
         "line": {
          "color": "#ab63fa",
          "dash": "solid"
         },
         "marker": {
          "symbol": "circle"
         },
         "mode": "markers+lines",
         "name": "bayer",
         "showlegend": false,
         "type": "scattergl",
         "x": [
          "2010-02-01",
          "2010-09-01",
          "2012-07-01",
          "2013-12-01",
          "2015-10-01",
          "2017-09-01",
          "2019-06-01",
          "2020-08-01"
         ],
         "xaxis": "x",
         "y": [
          62,
          32,
          47,
          69,
          29,
          20,
          27,
          48
         ],
         "yaxis": "y"
        },
        {
         "hovertemplate": "term=cancérogène<br>origin=media<br>start_segment=%{x}<br>rank=%{y}<extra></extra>",
         "legendgroup": "cancérogène",
         "line": {
          "color": "#FFA15A",
          "dash": "solid"
         },
         "marker": {
          "symbol": "circle"
         },
         "mode": "markers+lines",
         "name": "cancérogène",
         "showlegend": true,
         "type": "scattergl",
         "x": [
          "2011-03-31",
          "2011-09-08",
          "2011-11-03",
          "2013-01-07",
          "2014-07-01",
          "2015-09-01",
          "2018-04-01",
          "2019-08-01",
          "2021-08-01"
         ],
         "xaxis": "x2",
         "y": [
          45,
          11,
          71,
          308,
          112,
          70,
          108,
          183,
          128
         ],
         "yaxis": "y2"
        },
        {
         "hovertemplate": "term=chauves-souris<br>origin=media<br>start_segment=%{x}<br>rank=%{y}<extra></extra>",
         "legendgroup": "chauves-souris",
         "line": {
          "color": "#19d3f3",
          "dash": "solid"
         },
         "marker": {
          "symbol": "circle"
         },
         "mode": "markers+lines",
         "name": "chauves-souris",
         "showlegend": true,
         "type": "scattergl",
         "x": [
          "2011-03-31",
          "2013-01-07",
          "2014-07-01",
          "2015-09-01",
          "2018-04-01",
          "2019-08-01",
          "2021-08-01"
         ],
         "xaxis": "x2",
         "y": [
          10,
          253,
          295,
          268,
          276,
          230,
          169
         ],
         "yaxis": "y2"
        },
        {
         "hovertemplate": "term=chercheuse<br>origin=media<br>start_segment=%{x}<br>rank=%{y}<extra></extra>",
         "legendgroup": "chercheuse",
         "line": {
          "color": "#FF6692",
          "dash": "solid"
         },
         "marker": {
          "symbol": "circle"
         },
         "mode": "markers+lines",
         "name": "chercheuse",
         "showlegend": true,
         "type": "scattergl",
         "x": [
          "2010-09-16",
          "2011-01-19",
          "2011-03-31",
          "2011-11-03",
          "2012-11-14",
          "2013-01-07",
          "2014-07-01",
          "2015-09-01",
          "2018-04-01",
          "2019-08-01",
          "2021-08-01"
         ],
         "xaxis": "x2",
         "y": [
          37,
          77,
          12,
          7,
          11,
          32,
          45,
          57,
          60,
          56,
          48
         ],
         "yaxis": "y2"
        },
        {
         "hovertemplate": "term=conflit<br>origin=media<br>start_segment=%{x}<br>rank=%{y}<extra></extra>",
         "legendgroup": "conflit",
         "line": {
          "color": "#B6E880",
          "dash": "solid"
         },
         "marker": {
          "symbol": "circle"
         },
         "mode": "markers+lines",
         "name": "conflit",
         "showlegend": true,
         "type": "scattergl",
         "x": [
          "2010-09-16",
          "2011-01-19",
          "2011-03-31",
          "2011-09-08",
          "2011-11-03",
          "2012-11-14",
          "2013-01-07",
          "2014-07-01",
          "2015-09-01",
          "2018-04-01",
          "2019-08-01",
          "2021-08-01"
         ],
         "xaxis": "x2",
         "y": [
          68,
          36,
          70,
          24,
          48,
          40,
          186,
          192,
          183,
          188,
          145,
          167
         ],
         "yaxis": "y2"
        },
        {
         "hovertemplate": "term=docteur<br>origin=media<br>start_segment=%{x}<br>rank=%{y}<extra></extra>",
         "legendgroup": "docteur",
         "line": {
          "color": "#FF97FF",
          "dash": "solid"
         },
         "marker": {
          "symbol": "circle"
         },
         "mode": "markers+lines",
         "name": "docteur",
         "showlegend": true,
         "type": "scattergl",
         "x": [
          "2011-03-31",
          "2011-11-03",
          "2013-01-07",
          "2014-07-01",
          "2015-09-01",
          "2018-04-01",
          "2019-08-01",
          "2021-08-01"
         ],
         "xaxis": "x2",
         "y": [
          6,
          157,
          200,
          181,
          241,
          223,
          211,
          38
         ],
         "yaxis": "y2"
        },
        {
         "hovertemplate": "term=débat<br>origin=media<br>start_segment=%{x}<br>rank=%{y}<extra></extra>",
         "legendgroup": "débat",
         "line": {
          "color": "#FECB52",
          "dash": "solid"
         },
         "marker": {
          "symbol": "circle"
         },
         "mode": "markers+lines",
         "name": "débat",
         "showlegend": true,
         "type": "scattergl",
         "x": [
          "2010-09-16",
          "2011-01-19",
          "2011-09-08",
          "2011-11-03",
          "2012-11-14",
          "2013-01-07",
          "2014-07-01",
          "2015-09-01",
          "2018-04-01",
          "2019-08-01",
          "2021-08-01"
         ],
         "xaxis": "x2",
         "y": [
          75,
          14,
          41,
          44,
          41,
          57,
          75,
          55,
          20,
          49,
          60
         ],
         "yaxis": "y2"
        },
        {
         "hovertemplate": "term=déchets<br>origin=media<br>start_segment=%{x}<br>rank=%{y}<extra></extra>",
         "legendgroup": "déchets",
         "line": {
          "color": "#636efa",
          "dash": "solid"
         },
         "marker": {
          "symbol": "circle"
         },
         "mode": "markers+lines",
         "name": "déchets",
         "showlegend": true,
         "type": "scattergl",
         "x": [
          "2010-09-16",
          "2011-03-31",
          "2011-11-03",
          "2013-01-07",
          "2014-07-01",
          "2015-09-01",
          "2018-04-01",
          "2019-08-01",
          "2021-08-01"
         ],
         "xaxis": "x2",
         "y": [
          47,
          11,
          76,
          102,
          62,
          117,
          105,
          87,
          115
         ],
         "yaxis": "y2"
        },
        {
         "hovertemplate": "term=décision<br>origin=media<br>start_segment=%{x}<br>rank=%{y}<extra></extra>",
         "legendgroup": "décision",
         "line": {
          "color": "#EF553B",
          "dash": "solid"
         },
         "marker": {
          "symbol": "circle"
         },
         "mode": "markers+lines",
         "name": "décision",
         "showlegend": true,
         "type": "scattergl",
         "x": [
          "2010-09-16",
          "2011-01-19",
          "2011-03-31",
          "2011-11-03",
          "2013-01-07",
          "2014-07-01",
          "2015-09-01",
          "2018-04-01",
          "2019-08-01",
          "2021-08-01"
         ],
         "xaxis": "x2",
         "y": [
          66,
          18,
          14,
          38,
          34,
          86,
          33,
          25,
          28,
          41
         ],
         "yaxis": "y2"
        },
        {
         "hovertemplate": "term=désherbant<br>origin=media<br>start_segment=%{x}<br>rank=%{y}<extra></extra>",
         "legendgroup": "désherbant",
         "line": {
          "color": "#00cc96",
          "dash": "solid"
         },
         "marker": {
          "symbol": "circle"
         },
         "mode": "markers+lines",
         "name": "désherbant",
         "showlegend": true,
         "type": "scattergl",
         "x": [
          "2011-09-08",
          "2011-11-03",
          "2013-01-07",
          "2014-07-01",
          "2015-09-01",
          "2018-04-01",
          "2019-08-01",
          "2021-08-01"
         ],
         "xaxis": "x2",
         "y": [
          17,
          148,
          125,
          65,
          127,
          129,
          198,
          143
         ],
         "yaxis": "y2"
        },
        {
         "hovertemplate": "term=désherbant<br>origin=twitter<br>start_segment=%{x}<br>rank=%{y}<extra></extra>",
         "legendgroup": "désherbant",
         "line": {
          "color": "#00cc96",
          "dash": "solid"
         },
         "marker": {
          "symbol": "circle"
         },
         "mode": "markers+lines",
         "name": "désherbant",
         "showlegend": false,
         "type": "scattergl",
         "x": [
          "2010-02-01",
          "2010-09-01",
          "2012-07-01",
          "2013-12-01",
          "2015-10-01",
          "2017-09-01",
          "2019-06-01",
          "2020-08-01"
         ],
         "xaxis": "x",
         "y": [
          7,
          12,
          13,
          10,
          20,
          34,
          42,
          40
         ],
         "yaxis": "y"
        },
        {
         "hovertemplate": "term=espace<br>origin=media<br>start_segment=%{x}<br>rank=%{y}<extra></extra>",
         "legendgroup": "espace",
         "line": {
          "color": "#ab63fa",
          "dash": "solid"
         },
         "marker": {
          "symbol": "circle"
         },
         "mode": "markers+lines",
         "name": "espace",
         "showlegend": true,
         "type": "scattergl",
         "x": [
          "2010-09-16",
          "2011-09-08",
          "2011-11-03",
          "2013-01-07",
          "2014-07-01",
          "2015-09-01",
          "2018-04-01",
          "2019-08-01",
          "2021-08-01"
         ],
         "xaxis": "x2",
         "y": [
          20,
          53,
          174,
          28,
          21,
          53,
          96,
          63,
          50
         ],
         "yaxis": "y2"
        },
        {
         "hovertemplate": "term=essaims<br>origin=media<br>start_segment=%{x}<br>rank=%{y}<extra></extra>",
         "legendgroup": "essaims",
         "line": {
          "color": "#FFA15A",
          "dash": "solid"
         },
         "marker": {
          "symbol": "circle"
         },
         "mode": "markers+lines",
         "name": "essaims",
         "showlegend": true,
         "type": "scattergl",
         "x": [
          "2011-09-08",
          "2013-01-07",
          "2014-07-01",
          "2015-09-01",
          "2018-04-01",
          "2019-08-01",
          "2021-08-01"
         ],
         "xaxis": "x2",
         "y": [
          23,
          240,
          201,
          321,
          292,
          227,
          355
         ],
         "yaxis": "y2"
        },
        {
         "hovertemplate": "term=europe<br>origin=media<br>start_segment=%{x}<br>rank=%{y}<extra></extra>",
         "legendgroup": "europe",
         "line": {
          "color": "#19d3f3",
          "dash": "solid"
         },
         "marker": {
          "symbol": "circle"
         },
         "mode": "markers+lines",
         "name": "europe",
         "showlegend": true,
         "type": "scattergl",
         "x": [
          "2010-09-16",
          "2011-03-31",
          "2011-11-03",
          "2012-11-14",
          "2013-01-07",
          "2014-07-01",
          "2015-09-01",
          "2018-04-01",
          "2019-08-01",
          "2021-08-01"
         ],
         "xaxis": "x2",
         "y": [
          21,
          80,
          56,
          30,
          44,
          40,
          36,
          39,
          57,
          66
         ],
         "yaxis": "y2"
        },
        {
         "hovertemplate": "term=europe<br>origin=twitter<br>start_segment=%{x}<br>rank=%{y}<extra></extra>",
         "legendgroup": "europe",
         "line": {
          "color": "#19d3f3",
          "dash": "solid"
         },
         "marker": {
          "symbol": "circle"
         },
         "mode": "markers+lines",
         "name": "europe",
         "showlegend": false,
         "type": "scattergl",
         "x": [
          "2010-02-01",
          "2010-09-01",
          "2012-07-01",
          "2013-12-01",
          "2015-10-01",
          "2017-09-01",
          "2019-06-01",
          "2020-08-01"
         ],
         "xaxis": "x",
         "y": [
          21,
          46,
          29,
          45,
          12,
          26,
          30,
          54
         ],
         "yaxis": "y"
        },
        {
         "hovertemplate": "term=femmes<br>origin=media<br>start_segment=%{x}<br>rank=%{y}<extra></extra>",
         "legendgroup": "femmes",
         "line": {
          "color": "#FF6692",
          "dash": "solid"
         },
         "marker": {
          "symbol": "circle"
         },
         "mode": "markers+lines",
         "name": "femmes",
         "showlegend": true,
         "type": "scattergl",
         "x": [
          "2010-09-16",
          "2011-03-31",
          "2011-11-03",
          "2012-11-14",
          "2013-01-07",
          "2014-07-01",
          "2015-09-01",
          "2018-04-01",
          "2019-08-01",
          "2021-08-01"
         ],
         "xaxis": "x2",
         "y": [
          64,
          78,
          82,
          38,
          43,
          24,
          44,
          46,
          45,
          44
         ],
         "yaxis": "y2"
        },
        {
         "hovertemplate": "term=fongicide<br>origin=media<br>start_segment=%{x}<br>rank=%{y}<extra></extra>",
         "legendgroup": "fongicide",
         "line": {
          "color": "#B6E880",
          "dash": "solid"
         },
         "marker": {
          "symbol": "circle"
         },
         "mode": "markers+lines",
         "name": "fongicide",
         "showlegend": true,
         "type": "scattergl",
         "x": [
          "2010-09-16",
          "2011-03-31",
          "2011-11-03",
          "2013-01-07",
          "2014-07-01",
          "2015-09-01",
          "2018-04-01",
          "2019-08-01",
          "2021-08-01"
         ],
         "xaxis": "x2",
         "y": [
          110,
          22,
          135,
          116,
          125,
          168,
          177,
          146,
          150
         ],
         "yaxis": "y2"
        },
        {
         "hovertemplate": "term=fongicide<br>origin=twitter<br>start_segment=%{x}<br>rank=%{y}<extra></extra>",
         "legendgroup": "fongicide",
         "line": {
          "color": "#B6E880",
          "dash": "solid"
         },
         "marker": {
          "symbol": "circle"
         },
         "mode": "markers+lines",
         "name": "fongicide",
         "showlegend": false,
         "type": "scattergl",
         "x": [
          "2010-02-01",
          "2010-09-01",
          "2012-07-01",
          "2013-12-01",
          "2015-10-01",
          "2017-09-01",
          "2019-06-01",
          "2020-08-01"
         ],
         "xaxis": "x",
         "y": [
          19,
          18,
          33,
          27,
          44,
          40,
          12,
          36
         ],
         "yaxis": "y"
        },
        {
         "hovertemplate": "term=guadeloupe<br>origin=media<br>start_segment=%{x}<br>rank=%{y}<extra></extra>",
         "legendgroup": "guadeloupe",
         "line": {
          "color": "#FF97FF",
          "dash": "solid"
         },
         "marker": {
          "symbol": "circle"
         },
         "mode": "markers+lines",
         "name": "guadeloupe",
         "showlegend": true,
         "type": "scattergl",
         "x": [
          "2011-11-03",
          "2013-01-07",
          "2014-07-01",
          "2015-09-01",
          "2018-04-01",
          "2019-08-01",
          "2021-08-01"
         ],
         "xaxis": "x2",
         "y": [
          194,
          151,
          175,
          245,
          151,
          149,
          3
         ],
         "yaxis": "y2"
        },
        {
         "hovertemplate": "term=hulot<br>origin=media<br>start_segment=%{x}<br>rank=%{y}<extra></extra>",
         "legendgroup": "hulot",
         "line": {
          "color": "#FECB52",
          "dash": "solid"
         },
         "marker": {
          "symbol": "circle"
         },
         "mode": "markers+lines",
         "name": "hulot",
         "showlegend": true,
         "type": "scattergl",
         "x": [
          "2010-09-16",
          "2011-09-08",
          "2011-11-03",
          "2013-01-07",
          "2014-07-01",
          "2015-09-01",
          "2018-04-01",
          "2019-08-01",
          "2021-08-01"
         ],
         "xaxis": "x2",
         "y": [
          105,
          19,
          26,
          289,
          195,
          22,
          10,
          174,
          88
         ],
         "yaxis": "y2"
        },
        {
         "hovertemplate": "term=hulot<br>origin=twitter<br>start_segment=%{x}<br>rank=%{y}<extra></extra>",
         "legendgroup": "hulot",
         "line": {
          "color": "#FECB52",
          "dash": "solid"
         },
         "marker": {
          "symbol": "circle"
         },
         "mode": "markers+lines",
         "name": "hulot",
         "showlegend": false,
         "type": "scattergl",
         "x": [
          "2010-02-01",
          "2013-12-01",
          "2015-10-01",
          "2017-09-01",
          "2019-06-01",
          "2020-08-01"
         ],
         "xaxis": "x",
         "y": [
          166,
          139,
          36,
          24,
          207,
          179
         ],
         "yaxis": "y"
        },
        {
         "hovertemplate": "term=journaliste<br>origin=media<br>start_segment=%{x}<br>rank=%{y}<extra></extra>",
         "legendgroup": "journaliste",
         "line": {
          "color": "#636efa",
          "dash": "solid"
         },
         "marker": {
          "symbol": "circle"
         },
         "mode": "markers+lines",
         "name": "journaliste",
         "showlegend": true,
         "type": "scattergl",
         "x": [
          "2011-01-19",
          "2011-11-03",
          "2013-01-07",
          "2014-07-01",
          "2015-09-01",
          "2018-04-01",
          "2019-08-01",
          "2021-08-01"
         ],
         "xaxis": "x2",
         "y": [
          12,
          113,
          107,
          78,
          92,
          68,
          85,
          59
         ],
         "yaxis": "y2"
        },
        {
         "hovertemplate": "term=limite<br>origin=media<br>start_segment=%{x}<br>rank=%{y}<extra></extra>",
         "legendgroup": "limite",
         "line": {
          "color": "#EF553B",
          "dash": "solid"
         },
         "marker": {
          "symbol": "circle"
         },
         "mode": "markers+lines",
         "name": "limite",
         "showlegend": true,
         "type": "scattergl",
         "x": [
          "2010-09-16",
          "2011-03-31",
          "2011-09-08",
          "2011-11-03",
          "2013-01-07",
          "2014-07-01",
          "2015-09-01",
          "2018-04-01",
          "2019-08-01",
          "2021-08-01"
         ],
         "xaxis": "x2",
         "y": [
          78,
          54,
          18,
          91,
          101,
          93,
          87,
          114,
          93,
          86
         ],
         "yaxis": "y2"
        },
        {
         "hovertemplate": "term=martinique<br>origin=media<br>start_segment=%{x}<br>rank=%{y}<extra></extra>",
         "legendgroup": "martinique",
         "line": {
          "color": "#00cc96",
          "dash": "solid"
         },
         "marker": {
          "symbol": "circle"
         },
         "mode": "markers+lines",
         "name": "martinique",
         "showlegend": true,
         "type": "scattergl",
         "x": [
          "2011-11-03",
          "2013-01-07",
          "2014-07-01",
          "2015-09-01",
          "2018-04-01",
          "2019-08-01",
          "2021-08-01"
         ],
         "xaxis": "x2",
         "y": [
          242,
          174,
          196,
          251,
          145,
          141,
          10
         ],
         "yaxis": "y2"
        },
        {
         "hovertemplate": "term=molécules<br>origin=media<br>start_segment=%{x}<br>rank=%{y}<extra></extra>",
         "legendgroup": "molécules",
         "line": {
          "color": "#ab63fa",
          "dash": "solid"
         },
         "marker": {
          "symbol": "circle"
         },
         "mode": "markers+lines",
         "name": "molécules",
         "showlegend": true,
         "type": "scattergl",
         "x": [
          "2010-09-16",
          "2011-03-31",
          "2011-09-08",
          "2011-11-03",
          "2012-11-14",
          "2013-01-07",
          "2014-07-01",
          "2015-09-01",
          "2018-04-01",
          "2019-08-01",
          "2021-08-01"
         ],
         "xaxis": "x2",
         "y": [
          90,
          57,
          38,
          106,
          14,
          65,
          84,
          63,
          103,
          91,
          70
         ],
         "yaxis": "y2"
        },
        {
         "hovertemplate": "term=moustique<br>origin=media<br>start_segment=%{x}<br>rank=%{y}<extra></extra>",
         "legendgroup": "moustique",
         "line": {
          "color": "#FFA15A",
          "dash": "solid"
         },
         "marker": {
          "symbol": "circle"
         },
         "mode": "markers+lines",
         "name": "moustique",
         "showlegend": true,
         "type": "scattergl",
         "x": [
          "2011-03-31",
          "2011-11-03",
          "2012-11-14",
          "2013-01-07",
          "2014-07-01",
          "2015-09-01",
          "2018-04-01",
          "2019-08-01",
          "2021-08-01"
         ],
         "xaxis": "x2",
         "y": [
          16,
          244,
          6,
          61,
          36,
          96,
          100,
          86,
          52
         ],
         "yaxis": "y2"
        },
        {
         "hovertemplate": "term=nicolas hulot<br>origin=media<br>start_segment=%{x}<br>rank=%{y}<extra></extra>",
         "legendgroup": "nicolas hulot",
         "line": {
          "color": "#19d3f3",
          "dash": "solid"
         },
         "marker": {
          "symbol": "circle"
         },
         "mode": "markers+lines",
         "name": "nicolas hulot",
         "showlegend": true,
         "type": "scattergl",
         "x": [
          "2011-09-08",
          "2011-11-03",
          "2013-01-07",
          "2014-07-01",
          "2015-09-01",
          "2018-04-01",
          "2019-08-01",
          "2021-08-01"
         ],
         "xaxis": "x2",
         "y": [
          20,
          32,
          337,
          215,
          37,
          16,
          186,
          102
         ],
         "yaxis": "y2"
        },
        {
         "hovertemplate": "term=parasite<br>origin=media<br>start_segment=%{x}<br>rank=%{y}<extra></extra>",
         "legendgroup": "parasite",
         "line": {
          "color": "#FF6692",
          "dash": "solid"
         },
         "marker": {
          "symbol": "circle"
         },
         "mode": "markers+lines",
         "name": "parasite",
         "showlegend": true,
         "type": "scattergl",
         "x": [
          "2011-03-31",
          "2011-11-03",
          "2012-11-14",
          "2013-01-07",
          "2014-07-01",
          "2015-09-01",
          "2018-04-01",
          "2019-08-01",
          "2021-08-01"
         ],
         "xaxis": "x2",
         "y": [
          3,
          146,
          2,
          92,
          81,
          163,
          193,
          197,
          103
         ],
         "yaxis": "y2"
        },
        {
         "hovertemplate": "term=paris<br>origin=media<br>start_segment=%{x}<br>rank=%{y}<extra></extra>",
         "legendgroup": "paris",
         "line": {
          "color": "#B6E880",
          "dash": "solid"
         },
         "marker": {
          "symbol": "circle"
         },
         "mode": "markers+lines",
         "name": "paris",
         "showlegend": true,
         "type": "scattergl",
         "x": [
          "2010-09-16",
          "2011-01-19",
          "2011-09-08",
          "2011-11-03",
          "2013-01-07",
          "2014-07-01",
          "2015-09-01",
          "2018-04-01",
          "2019-08-01",
          "2021-08-01"
         ],
         "xaxis": "x2",
         "y": [
          32,
          19,
          7,
          84,
          36,
          27,
          23,
          27,
          26,
          43
         ],
         "yaxis": "y2"
        },
        {
         "hovertemplate": "term=paris<br>origin=twitter<br>start_segment=%{x}<br>rank=%{y}<extra></extra>",
         "legendgroup": "paris",
         "line": {
          "color": "#B6E880",
          "dash": "solid"
         },
         "marker": {
          "symbol": "circle"
         },
         "mode": "markers+lines",
         "name": "paris",
         "showlegend": false,
         "type": "scattergl",
         "x": [
          "2010-02-01",
          "2010-09-01",
          "2012-07-01",
          "2013-12-01",
          "2015-10-01",
          "2017-09-01",
          "2019-06-01",
          "2020-08-01"
         ],
         "xaxis": "x",
         "y": [
          24,
          24,
          87,
          85,
          46,
          95,
          65,
          101
         ],
         "yaxis": "y"
        },
        {
         "hovertemplate": "term=premier ministre<br>origin=media<br>start_segment=%{x}<br>rank=%{y}<extra></extra>",
         "legendgroup": "premier ministre",
         "line": {
          "color": "#FF97FF",
          "dash": "solid"
         },
         "marker": {
          "symbol": "circle"
         },
         "mode": "markers+lines",
         "name": "premier ministre",
         "showlegend": true,
         "type": "scattergl",
         "x": [
          "2011-01-19",
          "2011-11-03",
          "2013-01-07",
          "2014-07-01",
          "2015-09-01",
          "2018-04-01",
          "2019-08-01",
          "2021-08-01"
         ],
         "xaxis": "x2",
         "y": [
          20,
          198,
          227,
          182,
          115,
          132,
          157,
          180
         ],
         "yaxis": "y2"
        },
        {
         "hovertemplate": "term=renouvellement<br>origin=media<br>start_segment=%{x}<br>rank=%{y}<extra></extra>",
         "legendgroup": "renouvellement",
         "line": {
          "color": "#FECB52",
          "dash": "solid"
         },
         "marker": {
          "symbol": "circle"
         },
         "mode": "markers+lines",
         "name": "renouvellement",
         "showlegend": true,
         "type": "scattergl",
         "x": [
          "2011-09-08",
          "2011-11-03",
          "2012-11-14",
          "2013-01-07",
          "2014-07-01",
          "2015-09-01",
          "2018-04-01",
          "2019-08-01",
          "2021-08-01"
         ],
         "xaxis": "x2",
         "y": [
          13,
          46,
          86,
          238,
          220,
          74,
          219,
          255,
          257
         ],
         "yaxis": "y2"
        },
        {
         "hovertemplate": "term=régions<br>origin=media<br>start_segment=%{x}<br>rank=%{y}<extra></extra>",
         "legendgroup": "régions",
         "line": {
          "color": "#636efa",
          "dash": "solid"
         },
         "marker": {
          "symbol": "circle"
         },
         "mode": "markers+lines",
         "name": "régions",
         "showlegend": true,
         "type": "scattergl",
         "x": [
          "2010-09-16",
          "2011-01-19",
          "2011-03-31",
          "2011-11-03",
          "2012-11-14",
          "2013-01-07",
          "2014-07-01",
          "2015-09-01",
          "2018-04-01",
          "2019-08-01",
          "2021-08-01"
         ],
         "xaxis": "x2",
         "y": [
          15,
          94,
          34,
          104,
          33,
          16,
          16,
          31,
          40,
          25,
          40
         ],
         "yaxis": "y2"
        },
        {
         "hovertemplate": "term=résidus<br>origin=media<br>start_segment=%{x}<br>rank=%{y}<extra></extra>",
         "legendgroup": "résidus",
         "line": {
          "color": "#EF553B",
          "dash": "solid"
         },
         "marker": {
          "symbol": "circle"
         },
         "mode": "markers+lines",
         "name": "résidus",
         "showlegend": true,
         "type": "scattergl",
         "x": [
          "2010-09-16",
          "2011-11-03",
          "2013-01-07",
          "2014-07-01",
          "2015-09-01",
          "2018-04-01",
          "2019-08-01",
          "2021-08-01"
         ],
         "xaxis": "x2",
         "y": [
          14,
          200,
          115,
          90,
          85,
          101,
          127,
          95
         ],
         "yaxis": "y2"
        },
        {
         "hovertemplate": "term=résidus<br>origin=twitter<br>start_segment=%{x}<br>rank=%{y}<extra></extra>",
         "legendgroup": "résidus",
         "line": {
          "color": "#EF553B",
          "dash": "solid"
         },
         "marker": {
          "symbol": "circle"
         },
         "mode": "markers+lines",
         "name": "résidus",
         "showlegend": false,
         "type": "scattergl",
         "x": [
          "2010-02-01",
          "2010-09-01",
          "2012-07-01",
          "2013-12-01",
          "2015-10-01",
          "2017-09-01",
          "2019-06-01",
          "2020-08-01"
         ],
         "xaxis": "x",
         "y": [
          14,
          26,
          22,
          19,
          49,
          58,
          40,
          55
         ],
         "yaxis": "y"
        },
        {
         "hovertemplate": "term=résistances<br>origin=media<br>start_segment=%{x}<br>rank=%{y}<extra></extra>",
         "legendgroup": "résistances",
         "line": {
          "color": "#00cc96",
          "dash": "solid"
         },
         "marker": {
          "symbol": "circle"
         },
         "mode": "markers+lines",
         "name": "résistances",
         "showlegend": true,
         "type": "scattergl",
         "x": [
          "2011-01-19",
          "2011-03-31",
          "2011-11-03",
          "2012-11-14",
          "2013-01-07",
          "2014-07-01",
          "2015-09-01",
          "2018-04-01",
          "2019-08-01",
          "2021-08-01"
         ],
         "xaxis": "x2",
         "y": [
          55,
          21,
          116,
          20,
          132,
          123,
          160,
          178,
          162,
          118
         ],
         "yaxis": "y2"
        },
        {
         "hovertemplate": "term=serres<br>origin=media<br>start_segment=%{x}<br>rank=%{y}<extra></extra>",
         "legendgroup": "serres",
         "line": {
          "color": "#ab63fa",
          "dash": "solid"
         },
         "marker": {
          "symbol": "circle"
         },
         "mode": "markers+lines",
         "name": "serres",
         "showlegend": true,
         "type": "scattergl",
         "x": [
          "2011-01-19",
          "2011-11-03",
          "2013-01-07",
          "2014-07-01",
          "2015-09-01",
          "2018-04-01",
          "2019-08-01",
          "2021-08-01"
         ],
         "xaxis": "x2",
         "y": [
          7,
          218,
          98,
          102,
          120,
          116,
          88,
          80
         ],
         "yaxis": "y2"
        },
        {
         "hovertemplate": "term=substances<br>origin=media<br>start_segment=%{x}<br>rank=%{y}<extra></extra>",
         "legendgroup": "substances",
         "line": {
          "color": "#FFA15A",
          "dash": "solid"
         },
         "marker": {
          "symbol": "circle"
         },
         "mode": "markers+lines",
         "name": "substances",
         "showlegend": true,
         "type": "scattergl",
         "x": [
          "2010-09-16",
          "2011-03-31",
          "2011-09-08",
          "2011-11-03",
          "2012-11-14",
          "2013-01-07",
          "2014-07-01",
          "2015-09-01",
          "2018-04-01",
          "2019-08-01",
          "2021-08-01"
         ],
         "xaxis": "x2",
         "y": [
          7,
          90,
          6,
          36,
          25,
          48,
          38,
          11,
          21,
          38,
          28
         ],
         "yaxis": "y2"
        },
        {
         "hovertemplate": "term=sucre<br>origin=media<br>start_segment=%{x}<br>rank=%{y}<extra></extra>",
         "legendgroup": "sucre",
         "line": {
          "color": "#19d3f3",
          "dash": "solid"
         },
         "marker": {
          "symbol": "circle"
         },
         "mode": "markers+lines",
         "name": "sucre",
         "showlegend": true,
         "type": "scattergl",
         "x": [
          "2010-09-16",
          "2011-11-03",
          "2012-11-14",
          "2013-01-07",
          "2014-07-01",
          "2015-09-01",
          "2018-04-01",
          "2019-08-01",
          "2021-08-01"
         ],
         "xaxis": "x2",
         "y": [
          124,
          97,
          16,
          155,
          199,
          175,
          112,
          69,
          104
         ],
         "yaxis": "y2"
        },
        {
         "hovertemplate": "term=transition<br>origin=media<br>start_segment=%{x}<br>rank=%{y}<extra></extra>",
         "legendgroup": "transition",
         "line": {
          "color": "#FF6692",
          "dash": "solid"
         },
         "marker": {
          "symbol": "circle"
         },
         "mode": "markers+lines",
         "name": "transition",
         "showlegend": true,
         "type": "scattergl",
         "x": [
          "2011-01-19",
          "2011-03-31",
          "2011-09-08",
          "2011-11-03",
          "2013-01-07",
          "2014-07-01",
          "2015-09-01",
          "2018-04-01",
          "2019-08-01",
          "2021-08-01"
         ],
         "xaxis": "x2",
         "y": [
          62,
          93,
          21,
          73,
          163,
          114,
          42,
          31,
          40,
          64
         ],
         "yaxis": "y2"
        },
        {
         "hovertemplate": "term=viandes<br>origin=media<br>start_segment=%{x}<br>rank=%{y}<extra></extra>",
         "legendgroup": "viandes",
         "line": {
          "color": "#B6E880",
          "dash": "solid"
         },
         "marker": {
          "symbol": "circle"
         },
         "mode": "markers+lines",
         "name": "viandes",
         "showlegend": true,
         "type": "scattergl",
         "x": [
          "2010-09-16",
          "2011-01-19",
          "2011-11-03",
          "2013-01-07",
          "2014-07-01",
          "2015-09-01",
          "2018-04-01",
          "2019-08-01",
          "2021-08-01"
         ],
         "xaxis": "x2",
         "y": [
          126,
          1,
          160,
          54,
          82,
          79,
          74,
          77,
          129
         ],
         "yaxis": "y2"
        },
        {
         "hovertemplate": "term=vignes<br>origin=media<br>start_segment=%{x}<br>rank=%{y}<extra></extra>",
         "legendgroup": "vignes",
         "line": {
          "color": "#FF97FF",
          "dash": "solid"
         },
         "marker": {
          "symbol": "circle"
         },
         "mode": "markers+lines",
         "name": "vignes",
         "showlegend": true,
         "type": "scattergl",
         "x": [
          "2011-11-03",
          "2013-01-07",
          "2014-07-01",
          "2015-09-01",
          "2018-04-01",
          "2019-08-01",
          "2021-08-01"
         ],
         "xaxis": "x2",
         "y": [
          167,
          18,
          49,
          86,
          121,
          94,
          94
         ],
         "yaxis": "y2"
        },
        {
         "hovertemplate": "term=vins<br>origin=media<br>start_segment=%{x}<br>rank=%{y}<extra></extra>",
         "legendgroup": "vins",
         "line": {
          "color": "#FECB52",
          "dash": "solid"
         },
         "marker": {
          "symbol": "circle"
         },
         "mode": "markers+lines",
         "name": "vins",
         "showlegend": true,
         "type": "scattergl",
         "x": [
          "2011-11-03",
          "2013-01-07",
          "2014-07-01",
          "2015-09-01",
          "2018-04-01",
          "2019-08-01",
          "2021-08-01"
         ],
         "xaxis": "x2",
         "y": [
          186,
          17,
          53,
          39,
          58,
          64,
          145
         ],
         "yaxis": "y2"
        },
        {
         "hovertemplate": "term=vins<br>origin=twitter<br>start_segment=%{x}<br>rank=%{y}<extra></extra>",
         "legendgroup": "vins",
         "line": {
          "color": "#FECB52",
          "dash": "solid"
         },
         "marker": {
          "symbol": "circle"
         },
         "mode": "markers+lines",
         "name": "vins",
         "showlegend": false,
         "type": "scattergl",
         "x": [
          "2010-02-01",
          "2010-09-01",
          "2012-07-01",
          "2013-12-01",
          "2015-10-01",
          "2017-09-01",
          "2019-06-01",
          "2020-08-01"
         ],
         "xaxis": "x",
         "y": [
          27,
          28,
          11,
          23,
          28,
          45,
          98,
          68
         ],
         "yaxis": "y"
        },
        {
         "hovertemplate": "term=virus<br>origin=media<br>start_segment=%{x}<br>rank=%{y}<extra></extra>",
         "legendgroup": "virus",
         "line": {
          "color": "#636efa",
          "dash": "solid"
         },
         "marker": {
          "symbol": "circle"
         },
         "mode": "markers+lines",
         "name": "virus",
         "showlegend": true,
         "type": "scattergl",
         "x": [
          "2011-11-03",
          "2013-01-07",
          "2014-07-01",
          "2015-09-01",
          "2018-04-01",
          "2019-08-01",
          "2021-08-01"
         ],
         "xaxis": "x2",
         "y": [
          30,
          141,
          58,
          105,
          164,
          51,
          11
         ],
         "yaxis": "y2"
        },
        {
         "hovertemplate": "term=vitamines<br>origin=media<br>start_segment=%{x}<br>rank=%{y}<extra></extra>",
         "legendgroup": "vitamines",
         "line": {
          "color": "#EF553B",
          "dash": "solid"
         },
         "marker": {
          "symbol": "circle"
         },
         "mode": "markers+lines",
         "name": "vitamines",
         "showlegend": true,
         "type": "scattergl",
         "x": [
          "2010-09-16",
          "2011-11-03",
          "2013-01-07",
          "2014-07-01",
          "2015-09-01",
          "2018-04-01",
          "2019-08-01",
          "2021-08-01"
         ],
         "xaxis": "x2",
         "y": [
          4,
          208,
          171,
          191,
          193,
          170,
          160,
          141
         ],
         "yaxis": "y2"
        },
        {
         "hovertemplate": "term=écologiste<br>origin=media<br>start_segment=%{x}<br>rank=%{y}<extra></extra>",
         "legendgroup": "écologiste",
         "line": {
          "color": "#00cc96",
          "dash": "solid"
         },
         "marker": {
          "symbol": "circle"
         },
         "mode": "markers+lines",
         "name": "écologiste",
         "showlegend": true,
         "type": "scattergl",
         "x": [
          "2010-09-16",
          "2011-01-19",
          "2011-03-31",
          "2011-11-03",
          "2013-01-07",
          "2014-07-01",
          "2015-09-01",
          "2018-04-01",
          "2019-08-01",
          "2021-08-01"
         ],
         "xaxis": "x2",
         "y": [
          121,
          11,
          43,
          54,
          75,
          64,
          101,
          64,
          47,
          45
         ],
         "yaxis": "y2"
        },
        {
         "hovertemplate": "term=émission<br>origin=media<br>start_segment=%{x}<br>rank=%{y}<extra></extra>",
         "legendgroup": "émission",
         "line": {
          "color": "#ab63fa",
          "dash": "solid"
         },
         "marker": {
          "symbol": "circle"
         },
         "mode": "markers+lines",
         "name": "émission",
         "showlegend": true,
         "type": "scattergl",
         "x": [
          "2010-09-16",
          "2011-01-19",
          "2013-01-07",
          "2014-07-01",
          "2015-09-01",
          "2018-04-01",
          "2019-08-01",
          "2021-08-01"
         ],
         "xaxis": "x2",
         "y": [
          60,
          9,
          165,
          106,
          154,
          133,
          100,
          85
         ],
         "yaxis": "y2"
        },
        {
         "hovertemplate": "term=émissions de gaz<br>origin=media<br>start_segment=%{x}<br>rank=%{y}<extra></extra>",
         "legendgroup": "émissions de gaz",
         "line": {
          "color": "#FFA15A",
          "dash": "solid"
         },
         "marker": {
          "symbol": "circle"
         },
         "mode": "markers+lines",
         "name": "émissions de gaz",
         "showlegend": true,
         "type": "scattergl",
         "x": [
          "2010-09-16",
          "2011-01-19",
          "2013-01-07",
          "2014-07-01",
          "2015-09-01",
          "2018-04-01",
          "2019-08-01",
          "2021-08-01"
         ],
         "xaxis": "x2",
         "y": [
          120,
          21,
          325,
          241,
          274,
          231,
          213,
          198
         ],
         "yaxis": "y2"
        },
        {
         "hovertemplate": "term=alternatives aux pesticides<br>origin=twitter<br>start_segment=%{x}<br>rank=%{y}<extra></extra>",
         "legendgroup": "alternatives aux pesticides",
         "line": {
          "color": "#19d3f3",
          "dash": "solid"
         },
         "marker": {
          "symbol": "circle"
         },
         "mode": "markers+lines",
         "name": "alternatives aux pesticides",
         "showlegend": true,
         "type": "scattergl",
         "x": [
          "2010-02-01",
          "2010-09-01",
          "2012-07-01",
          "2013-12-01",
          "2015-10-01",
          "2017-09-01",
          "2019-06-01",
          "2020-08-01"
         ],
         "xaxis": "x",
         "y": [
          22,
          20,
          26,
          28,
          48,
          117,
          180,
          169
         ],
         "yaxis": "y"
        },
        {
         "hovertemplate": "term=apiculteur<br>origin=twitter<br>start_segment=%{x}<br>rank=%{y}<extra></extra>",
         "legendgroup": "apiculteur",
         "line": {
          "color": "#FF6692",
          "dash": "solid"
         },
         "marker": {
          "symbol": "circle"
         },
         "mode": "markers+lines",
         "name": "apiculteur",
         "showlegend": true,
         "type": "scattergl",
         "x": [
          "2010-02-01",
          "2010-09-01",
          "2012-07-01",
          "2013-12-01",
          "2015-10-01",
          "2017-09-01",
          "2019-06-01",
          "2020-08-01"
         ],
         "xaxis": "x",
         "y": [
          49,
          13,
          39,
          73,
          136,
          84,
          150,
          107
         ],
         "yaxis": "y"
        },
        {
         "hovertemplate": "term=bruxelles<br>origin=twitter<br>start_segment=%{x}<br>rank=%{y}<extra></extra>",
         "legendgroup": "bruxelles",
         "line": {
          "color": "#B6E880",
          "dash": "solid"
         },
         "marker": {
          "symbol": "circle"
         },
         "mode": "markers+lines",
         "name": "bruxelles",
         "showlegend": true,
         "type": "scattergl",
         "x": [
          "2010-02-01",
          "2010-09-01",
          "2012-07-01",
          "2013-12-01",
          "2015-10-01",
          "2017-09-01",
          "2019-06-01",
          "2020-08-01"
         ],
         "xaxis": "x",
         "y": [
          202,
          94,
          28,
          162,
          22,
          110,
          232,
          227
         ],
         "yaxis": "y"
        },
        {
         "hovertemplate": "term=cours d'eau<br>origin=twitter<br>start_segment=%{x}<br>rank=%{y}<extra></extra>",
         "legendgroup": "cours d'eau",
         "line": {
          "color": "#FF97FF",
          "dash": "solid"
         },
         "marker": {
          "symbol": "circle"
         },
         "mode": "markers+lines",
         "name": "cours d'eau",
         "showlegend": true,
         "type": "scattergl",
         "x": [
          "2010-02-01",
          "2010-09-01",
          "2012-07-01",
          "2013-12-01",
          "2015-10-01",
          "2017-09-01",
          "2019-06-01",
          "2020-08-01"
         ],
         "xaxis": "x",
         "y": [
          149,
          115,
          21,
          123,
          122,
          134,
          123,
          166
         ],
         "yaxis": "y"
        },
        {
         "hovertemplate": "term=dérogation<br>origin=twitter<br>start_segment=%{x}<br>rank=%{y}<extra></extra>",
         "legendgroup": "dérogation",
         "line": {
          "color": "#FECB52",
          "dash": "solid"
         },
         "marker": {
          "symbol": "circle"
         },
         "mode": "markers+lines",
         "name": "dérogation",
         "showlegend": true,
         "type": "scattergl",
         "x": [
          "2010-02-01",
          "2010-09-01",
          "2012-07-01",
          "2013-12-01",
          "2015-10-01",
          "2017-09-01",
          "2019-06-01",
          "2020-08-01"
         ],
         "xaxis": "x",
         "y": [
          112,
          54,
          117,
          182,
          108,
          104,
          174,
          11
         ],
         "yaxis": "y"
        },
        {
         "hovertemplate": "term=ecologie<br>origin=twitter<br>start_segment=%{x}<br>rank=%{y}<extra></extra>",
         "legendgroup": "ecologie",
         "line": {
          "color": "#636efa",
          "dash": "solid"
         },
         "marker": {
          "symbol": "circle"
         },
         "mode": "markers+lines",
         "name": "ecologie",
         "showlegend": true,
         "type": "scattergl",
         "x": [
          "2010-02-01",
          "2010-09-01",
          "2012-07-01",
          "2013-12-01",
          "2015-10-01",
          "2017-09-01",
          "2019-06-01",
          "2020-08-01"
         ],
         "xaxis": "x",
         "y": [
          50,
          4,
          48,
          63,
          76,
          96,
          95,
          97
         ],
         "yaxis": "y"
        },
        {
         "hovertemplate": "term=greenpeace<br>origin=twitter<br>start_segment=%{x}<br>rank=%{y}<extra></extra>",
         "legendgroup": "greenpeace",
         "line": {
          "color": "#EF553B",
          "dash": "solid"
         },
         "marker": {
          "symbol": "circle"
         },
         "mode": "markers+lines",
         "name": "greenpeace",
         "showlegend": true,
         "type": "scattergl",
         "x": [
          "2010-02-01",
          "2010-09-01",
          "2012-07-01",
          "2013-12-01",
          "2015-10-01",
          "2017-09-01",
          "2019-06-01",
          "2020-08-01"
         ],
         "xaxis": "x",
         "y": [
          165,
          50,
          34,
          22,
          26,
          168,
          204,
          198
         ],
         "yaxis": "y"
        },
        {
         "hovertemplate": "term=interdiction<br>origin=twitter<br>start_segment=%{x}<br>rank=%{y}<extra></extra>",
         "legendgroup": "interdiction",
         "line": {
          "color": "#00cc96",
          "dash": "solid"
         },
         "marker": {
          "symbol": "circle"
         },
         "mode": "markers+lines",
         "name": "interdiction",
         "showlegend": true,
         "type": "scattergl",
         "x": [
          "2010-02-01",
          "2010-09-01",
          "2012-07-01",
          "2013-12-01",
          "2015-10-01",
          "2017-09-01",
          "2019-06-01",
          "2020-08-01"
         ],
         "xaxis": "x",
         "y": [
          163,
          49,
          36,
          35,
          18,
          21,
          48,
          32
         ],
         "yaxis": "y"
        },
        {
         "hovertemplate": "term=justice<br>origin=twitter<br>start_segment=%{x}<br>rank=%{y}<extra></extra>",
         "legendgroup": "justice",
         "line": {
          "color": "#ab63fa",
          "dash": "solid"
         },
         "marker": {
          "symbol": "circle"
         },
         "mode": "markers+lines",
         "name": "justice",
         "showlegend": true,
         "type": "scattergl",
         "x": [
          "2010-02-01",
          "2010-09-01",
          "2012-07-01",
          "2013-12-01",
          "2015-10-01",
          "2017-09-01",
          "2019-06-01",
          "2020-08-01"
         ],
         "xaxis": "x",
         "y": [
          47,
          61,
          42,
          50,
          45,
          30,
          21,
          41
         ],
         "yaxis": "y"
        },
        {
         "hovertemplate": "term=lobbies<br>origin=twitter<br>start_segment=%{x}<br>rank=%{y}<extra></extra>",
         "legendgroup": "lobbies",
         "line": {
          "color": "#FFA15A",
          "dash": "solid"
         },
         "marker": {
          "symbol": "circle"
         },
         "mode": "markers+lines",
         "name": "lobbies",
         "showlegend": true,
         "type": "scattergl",
         "x": [
          "2010-02-01",
          "2010-09-01",
          "2012-07-01",
          "2013-12-01",
          "2015-10-01",
          "2017-09-01",
          "2019-06-01",
          "2020-08-01"
         ],
         "xaxis": "x",
         "y": [
          39,
          89,
          93,
          64,
          8,
          18,
          15,
          28
         ],
         "yaxis": "y"
        },
        {
         "hovertemplate": "term=parlementaires<br>origin=twitter<br>start_segment=%{x}<br>rank=%{y}<extra></extra>",
         "legendgroup": "parlementaires",
         "line": {
          "color": "#19d3f3",
          "dash": "solid"
         },
         "marker": {
          "symbol": "circle"
         },
         "mode": "markers+lines",
         "name": "parlementaires",
         "showlegend": true,
         "type": "scattergl",
         "x": [
          "2010-02-01",
          "2010-09-01",
          "2012-07-01",
          "2013-12-01",
          "2015-10-01",
          "2017-09-01",
          "2019-06-01",
          "2020-08-01"
         ],
         "xaxis": "x",
         "y": [
          8,
          219,
          140,
          153,
          95,
          92,
          96,
          114
         ],
         "yaxis": "y"
        },
        {
         "hovertemplate": "term=produits chimiques<br>origin=twitter<br>start_segment=%{x}<br>rank=%{y}<extra></extra>",
         "legendgroup": "produits chimiques",
         "line": {
          "color": "#FF6692",
          "dash": "solid"
         },
         "marker": {
          "symbol": "circle"
         },
         "mode": "markers+lines",
         "name": "produits chimiques",
         "showlegend": true,
         "type": "scattergl",
         "x": [
          "2010-02-01",
          "2010-09-01",
          "2012-07-01",
          "2013-12-01",
          "2015-10-01",
          "2017-09-01",
          "2019-06-01",
          "2020-08-01"
         ],
         "xaxis": "x",
         "y": [
          95,
          74,
          133,
          111,
          9,
          115,
          115,
          110
         ],
         "yaxis": "y"
        },
        {
         "hovertemplate": "term=pulvérisations<br>origin=twitter<br>start_segment=%{x}<br>rank=%{y}<extra></extra>",
         "legendgroup": "pulvérisations",
         "line": {
          "color": "#B6E880",
          "dash": "solid"
         },
         "marker": {
          "symbol": "circle"
         },
         "mode": "markers+lines",
         "name": "pulvérisations",
         "showlegend": true,
         "type": "scattergl",
         "x": [
          "2010-02-01",
          "2010-09-01",
          "2012-07-01",
          "2013-12-01",
          "2015-10-01",
          "2017-09-01",
          "2019-06-01",
          "2020-08-01"
         ],
         "xaxis": "x",
         "y": [
          198,
          62,
          78,
          12,
          158,
          206,
          116,
          138
         ],
         "yaxis": "y"
        },
        {
         "hovertemplate": "term=roundup de monsanto<br>origin=twitter<br>start_segment=%{x}<br>rank=%{y}<extra></extra>",
         "legendgroup": "roundup de monsanto",
         "line": {
          "color": "#FF97FF",
          "dash": "solid"
         },
         "marker": {
          "symbol": "circle"
         },
         "mode": "markers+lines",
         "name": "roundup de monsanto",
         "showlegend": true,
         "type": "scattergl",
         "x": [
          "2010-02-01",
          "2010-09-01",
          "2012-07-01",
          "2013-12-01",
          "2015-10-01",
          "2017-09-01",
          "2019-06-01",
          "2020-08-01"
         ],
         "xaxis": "x",
         "y": [
          223,
          64,
          129,
          14,
          74,
          153,
          193,
          342
         ],
         "yaxis": "y"
        },
        {
         "hovertemplate": "term=récolte<br>origin=twitter<br>start_segment=%{x}<br>rank=%{y}<extra></extra>",
         "legendgroup": "récolte",
         "line": {
          "color": "#FECB52",
          "dash": "solid"
         },
         "marker": {
          "symbol": "circle"
         },
         "mode": "markers+lines",
         "name": "récolte",
         "showlegend": true,
         "type": "scattergl",
         "x": [
          "2010-02-01",
          "2010-09-01",
          "2012-07-01",
          "2013-12-01",
          "2015-10-01",
          "2017-09-01",
          "2019-06-01",
          "2020-08-01"
         ],
         "xaxis": "x",
         "y": [
          101,
          220,
          124,
          24,
          63,
          107,
          92,
          81
         ],
         "yaxis": "y"
        },
        {
         "hovertemplate": "term=résidus de pesticides<br>origin=twitter<br>start_segment=%{x}<br>rank=%{y}<extra></extra>",
         "legendgroup": "résidus de pesticides",
         "line": {
          "color": "#636efa",
          "dash": "solid"
         },
         "marker": {
          "symbol": "circle"
         },
         "mode": "markers+lines",
         "name": "résidus de pesticides",
         "showlegend": true,
         "type": "scattergl",
         "x": [
          "2010-02-01",
          "2010-09-01",
          "2012-07-01",
          "2013-12-01",
          "2015-10-01",
          "2017-09-01",
          "2019-06-01",
          "2020-08-01"
         ],
         "xaxis": "x",
         "y": [
          15,
          42,
          31,
          32,
          93,
          108,
          88,
          109
         ],
         "yaxis": "y"
        },
        {
         "hovertemplate": "term=sdhi<br>origin=twitter<br>start_segment=%{x}<br>rank=%{y}<extra></extra>",
         "legendgroup": "sdhi",
         "line": {
          "color": "#EF553B",
          "dash": "solid"
         },
         "marker": {
          "symbol": "circle"
         },
         "mode": "markers+lines",
         "name": "sdhi",
         "showlegend": true,
         "type": "scattergl",
         "x": [
          "2010-09-01",
          "2012-07-01",
          "2013-12-01",
          "2015-10-01",
          "2017-09-01",
          "2019-06-01",
          "2020-08-01"
         ],
         "xaxis": "x",
         "y": [
          119,
          251,
          263,
          302,
          184,
          20,
          99
         ],
         "yaxis": "y"
        },
        {
         "hovertemplate": "term=suspension<br>origin=twitter<br>start_segment=%{x}<br>rank=%{y}<extra></extra>",
         "legendgroup": "suspension",
         "line": {
          "color": "#00cc96",
          "dash": "solid"
         },
         "marker": {
          "symbol": "circle"
         },
         "mode": "markers+lines",
         "name": "suspension",
         "showlegend": true,
         "type": "scattergl",
         "x": [
          "2010-09-01",
          "2012-07-01",
          "2013-12-01",
          "2015-10-01",
          "2017-09-01",
          "2019-06-01",
          "2020-08-01"
         ],
         "xaxis": "x",
         "y": [
          209,
          53,
          21,
          10,
          191,
          185,
          235
         ],
         "yaxis": "y"
        },
        {
         "hovertemplate": "term=traces<br>origin=twitter<br>start_segment=%{x}<br>rank=%{y}<extra></extra>",
         "legendgroup": "traces",
         "line": {
          "color": "#ab63fa",
          "dash": "solid"
         },
         "marker": {
          "symbol": "circle"
         },
         "mode": "markers+lines",
         "name": "traces",
         "showlegend": true,
         "type": "scattergl",
         "x": [
          "2010-02-01",
          "2010-09-01",
          "2012-07-01",
          "2013-12-01",
          "2015-10-01",
          "2017-09-01",
          "2019-06-01",
          "2020-08-01"
         ],
         "xaxis": "x",
         "y": [
          26,
          65,
          10,
          70,
          107,
          67,
          107,
          80
         ],
         "yaxis": "y"
        },
        {
         "hovertemplate": "term=troubles<br>origin=twitter<br>start_segment=%{x}<br>rank=%{y}<extra></extra>",
         "legendgroup": "troubles",
         "line": {
          "color": "#FFA15A",
          "dash": "solid"
         },
         "marker": {
          "symbol": "circle"
         },
         "mode": "markers+lines",
         "name": "troubles",
         "showlegend": true,
         "type": "scattergl",
         "x": [
          "2010-02-01",
          "2010-09-01",
          "2012-07-01",
          "2013-12-01",
          "2015-10-01",
          "2017-09-01",
          "2019-06-01",
          "2020-08-01"
         ],
         "xaxis": "x",
         "y": [
          17,
          121,
          167,
          214,
          111,
          209,
          221,
          199
         ],
         "yaxis": "y"
        },
        {
         "hovertemplate": "term=ue<br>origin=twitter<br>start_segment=%{x}<br>rank=%{y}<extra></extra>",
         "legendgroup": "ue",
         "line": {
          "color": "#19d3f3",
          "dash": "solid"
         },
         "marker": {
          "symbol": "circle"
         },
         "mode": "markers+lines",
         "name": "ue",
         "showlegend": true,
         "type": "scattergl",
         "x": [
          "2010-02-01",
          "2010-09-01",
          "2012-07-01",
          "2013-12-01",
          "2015-10-01",
          "2017-09-01",
          "2019-06-01",
          "2020-08-01"
         ],
         "xaxis": "x",
         "y": [
          175,
          110,
          16,
          121,
          75,
          100,
          154,
          163
         ],
         "yaxis": "y"
        }
       ],
       "layout": {
        "annotations": [
         {
          "font": {},
          "showarrow": false,
          "text": "origin=twitter",
          "textangle": 90,
          "x": 0.98,
          "xanchor": "left",
          "xref": "paper",
          "y": 0.15666666666666665,
          "yanchor": "middle",
          "yref": "paper"
         },
         {
          "font": {},
          "showarrow": false,
          "text": "origin=media",
          "textangle": 90,
          "x": 0.98,
          "xanchor": "left",
          "xref": "paper",
          "y": 0.4999999999999999,
          "yanchor": "middle",
          "yref": "paper"
         },
         {
          "font": {},
          "showarrow": false,
          "text": "origin=facebook",
          "textangle": 90,
          "x": 0.98,
          "xanchor": "left",
          "xref": "paper",
          "y": 0.8433333333333332,
          "yanchor": "middle",
          "yref": "paper"
         }
        ],
        "legend": {
         "title": {
          "text": "term"
         },
         "tracegroupgap": 0
        },
        "margin": {
         "t": 60
        },
        "template": {
         "data": {
          "bar": [
           {
            "error_x": {
             "color": "#2a3f5f"
            },
            "error_y": {
             "color": "#2a3f5f"
            },
            "marker": {
             "line": {
              "color": "#E5ECF6",
              "width": 0.5
             },
             "pattern": {
              "fillmode": "overlay",
              "size": 10,
              "solidity": 0.2
             }
            },
            "type": "bar"
           }
          ],
          "barpolar": [
           {
            "marker": {
             "line": {
              "color": "#E5ECF6",
              "width": 0.5
             },
             "pattern": {
              "fillmode": "overlay",
              "size": 10,
              "solidity": 0.2
             }
            },
            "type": "barpolar"
           }
          ],
          "carpet": [
           {
            "aaxis": {
             "endlinecolor": "#2a3f5f",
             "gridcolor": "white",
             "linecolor": "white",
             "minorgridcolor": "white",
             "startlinecolor": "#2a3f5f"
            },
            "baxis": {
             "endlinecolor": "#2a3f5f",
             "gridcolor": "white",
             "linecolor": "white",
             "minorgridcolor": "white",
             "startlinecolor": "#2a3f5f"
            },
            "type": "carpet"
           }
          ],
          "choropleth": [
           {
            "colorbar": {
             "outlinewidth": 0,
             "ticks": ""
            },
            "type": "choropleth"
           }
          ],
          "contour": [
           {
            "colorbar": {
             "outlinewidth": 0,
             "ticks": ""
            },
            "colorscale": [
             [
              0,
              "#0d0887"
             ],
             [
              0.1111111111111111,
              "#46039f"
             ],
             [
              0.2222222222222222,
              "#7201a8"
             ],
             [
              0.3333333333333333,
              "#9c179e"
             ],
             [
              0.4444444444444444,
              "#bd3786"
             ],
             [
              0.5555555555555556,
              "#d8576b"
             ],
             [
              0.6666666666666666,
              "#ed7953"
             ],
             [
              0.7777777777777778,
              "#fb9f3a"
             ],
             [
              0.8888888888888888,
              "#fdca26"
             ],
             [
              1,
              "#f0f921"
             ]
            ],
            "type": "contour"
           }
          ],
          "contourcarpet": [
           {
            "colorbar": {
             "outlinewidth": 0,
             "ticks": ""
            },
            "type": "contourcarpet"
           }
          ],
          "heatmap": [
           {
            "colorbar": {
             "outlinewidth": 0,
             "ticks": ""
            },
            "colorscale": [
             [
              0,
              "#0d0887"
             ],
             [
              0.1111111111111111,
              "#46039f"
             ],
             [
              0.2222222222222222,
              "#7201a8"
             ],
             [
              0.3333333333333333,
              "#9c179e"
             ],
             [
              0.4444444444444444,
              "#bd3786"
             ],
             [
              0.5555555555555556,
              "#d8576b"
             ],
             [
              0.6666666666666666,
              "#ed7953"
             ],
             [
              0.7777777777777778,
              "#fb9f3a"
             ],
             [
              0.8888888888888888,
              "#fdca26"
             ],
             [
              1,
              "#f0f921"
             ]
            ],
            "type": "heatmap"
           }
          ],
          "heatmapgl": [
           {
            "colorbar": {
             "outlinewidth": 0,
             "ticks": ""
            },
            "colorscale": [
             [
              0,
              "#0d0887"
             ],
             [
              0.1111111111111111,
              "#46039f"
             ],
             [
              0.2222222222222222,
              "#7201a8"
             ],
             [
              0.3333333333333333,
              "#9c179e"
             ],
             [
              0.4444444444444444,
              "#bd3786"
             ],
             [
              0.5555555555555556,
              "#d8576b"
             ],
             [
              0.6666666666666666,
              "#ed7953"
             ],
             [
              0.7777777777777778,
              "#fb9f3a"
             ],
             [
              0.8888888888888888,
              "#fdca26"
             ],
             [
              1,
              "#f0f921"
             ]
            ],
            "type": "heatmapgl"
           }
          ],
          "histogram": [
           {
            "marker": {
             "pattern": {
              "fillmode": "overlay",
              "size": 10,
              "solidity": 0.2
             }
            },
            "type": "histogram"
           }
          ],
          "histogram2d": [
           {
            "colorbar": {
             "outlinewidth": 0,
             "ticks": ""
            },
            "colorscale": [
             [
              0,
              "#0d0887"
             ],
             [
              0.1111111111111111,
              "#46039f"
             ],
             [
              0.2222222222222222,
              "#7201a8"
             ],
             [
              0.3333333333333333,
              "#9c179e"
             ],
             [
              0.4444444444444444,
              "#bd3786"
             ],
             [
              0.5555555555555556,
              "#d8576b"
             ],
             [
              0.6666666666666666,
              "#ed7953"
             ],
             [
              0.7777777777777778,
              "#fb9f3a"
             ],
             [
              0.8888888888888888,
              "#fdca26"
             ],
             [
              1,
              "#f0f921"
             ]
            ],
            "type": "histogram2d"
           }
          ],
          "histogram2dcontour": [
           {
            "colorbar": {
             "outlinewidth": 0,
             "ticks": ""
            },
            "colorscale": [
             [
              0,
              "#0d0887"
             ],
             [
              0.1111111111111111,
              "#46039f"
             ],
             [
              0.2222222222222222,
              "#7201a8"
             ],
             [
              0.3333333333333333,
              "#9c179e"
             ],
             [
              0.4444444444444444,
              "#bd3786"
             ],
             [
              0.5555555555555556,
              "#d8576b"
             ],
             [
              0.6666666666666666,
              "#ed7953"
             ],
             [
              0.7777777777777778,
              "#fb9f3a"
             ],
             [
              0.8888888888888888,
              "#fdca26"
             ],
             [
              1,
              "#f0f921"
             ]
            ],
            "type": "histogram2dcontour"
           }
          ],
          "mesh3d": [
           {
            "colorbar": {
             "outlinewidth": 0,
             "ticks": ""
            },
            "type": "mesh3d"
           }
          ],
          "parcoords": [
           {
            "line": {
             "colorbar": {
              "outlinewidth": 0,
              "ticks": ""
             }
            },
            "type": "parcoords"
           }
          ],
          "pie": [
           {
            "automargin": true,
            "type": "pie"
           }
          ],
          "scatter": [
           {
            "marker": {
             "colorbar": {
              "outlinewidth": 0,
              "ticks": ""
             }
            },
            "type": "scatter"
           }
          ],
          "scatter3d": [
           {
            "line": {
             "colorbar": {
              "outlinewidth": 0,
              "ticks": ""
             }
            },
            "marker": {
             "colorbar": {
              "outlinewidth": 0,
              "ticks": ""
             }
            },
            "type": "scatter3d"
           }
          ],
          "scattercarpet": [
           {
            "marker": {
             "colorbar": {
              "outlinewidth": 0,
              "ticks": ""
             }
            },
            "type": "scattercarpet"
           }
          ],
          "scattergeo": [
           {
            "marker": {
             "colorbar": {
              "outlinewidth": 0,
              "ticks": ""
             }
            },
            "type": "scattergeo"
           }
          ],
          "scattergl": [
           {
            "marker": {
             "colorbar": {
              "outlinewidth": 0,
              "ticks": ""
             }
            },
            "type": "scattergl"
           }
          ],
          "scattermapbox": [
           {
            "marker": {
             "colorbar": {
              "outlinewidth": 0,
              "ticks": ""
             }
            },
            "type": "scattermapbox"
           }
          ],
          "scatterpolar": [
           {
            "marker": {
             "colorbar": {
              "outlinewidth": 0,
              "ticks": ""
             }
            },
            "type": "scatterpolar"
           }
          ],
          "scatterpolargl": [
           {
            "marker": {
             "colorbar": {
              "outlinewidth": 0,
              "ticks": ""
             }
            },
            "type": "scatterpolargl"
           }
          ],
          "scatterternary": [
           {
            "marker": {
             "colorbar": {
              "outlinewidth": 0,
              "ticks": ""
             }
            },
            "type": "scatterternary"
           }
          ],
          "surface": [
           {
            "colorbar": {
             "outlinewidth": 0,
             "ticks": ""
            },
            "colorscale": [
             [
              0,
              "#0d0887"
             ],
             [
              0.1111111111111111,
              "#46039f"
             ],
             [
              0.2222222222222222,
              "#7201a8"
             ],
             [
              0.3333333333333333,
              "#9c179e"
             ],
             [
              0.4444444444444444,
              "#bd3786"
             ],
             [
              0.5555555555555556,
              "#d8576b"
             ],
             [
              0.6666666666666666,
              "#ed7953"
             ],
             [
              0.7777777777777778,
              "#fb9f3a"
             ],
             [
              0.8888888888888888,
              "#fdca26"
             ],
             [
              1,
              "#f0f921"
             ]
            ],
            "type": "surface"
           }
          ],
          "table": [
           {
            "cells": {
             "fill": {
              "color": "#EBF0F8"
             },
             "line": {
              "color": "white"
             }
            },
            "header": {
             "fill": {
              "color": "#C8D4E3"
             },
             "line": {
              "color": "white"
             }
            },
            "type": "table"
           }
          ]
         },
         "layout": {
          "annotationdefaults": {
           "arrowcolor": "#2a3f5f",
           "arrowhead": 0,
           "arrowwidth": 1
          },
          "autotypenumbers": "strict",
          "coloraxis": {
           "colorbar": {
            "outlinewidth": 0,
            "ticks": ""
           }
          },
          "colorscale": {
           "diverging": [
            [
             0,
             "#8e0152"
            ],
            [
             0.1,
             "#c51b7d"
            ],
            [
             0.2,
             "#de77ae"
            ],
            [
             0.3,
             "#f1b6da"
            ],
            [
             0.4,
             "#fde0ef"
            ],
            [
             0.5,
             "#f7f7f7"
            ],
            [
             0.6,
             "#e6f5d0"
            ],
            [
             0.7,
             "#b8e186"
            ],
            [
             0.8,
             "#7fbc41"
            ],
            [
             0.9,
             "#4d9221"
            ],
            [
             1,
             "#276419"
            ]
           ],
           "sequential": [
            [
             0,
             "#0d0887"
            ],
            [
             0.1111111111111111,
             "#46039f"
            ],
            [
             0.2222222222222222,
             "#7201a8"
            ],
            [
             0.3333333333333333,
             "#9c179e"
            ],
            [
             0.4444444444444444,
             "#bd3786"
            ],
            [
             0.5555555555555556,
             "#d8576b"
            ],
            [
             0.6666666666666666,
             "#ed7953"
            ],
            [
             0.7777777777777778,
             "#fb9f3a"
            ],
            [
             0.8888888888888888,
             "#fdca26"
            ],
            [
             1,
             "#f0f921"
            ]
           ],
           "sequentialminus": [
            [
             0,
             "#0d0887"
            ],
            [
             0.1111111111111111,
             "#46039f"
            ],
            [
             0.2222222222222222,
             "#7201a8"
            ],
            [
             0.3333333333333333,
             "#9c179e"
            ],
            [
             0.4444444444444444,
             "#bd3786"
            ],
            [
             0.5555555555555556,
             "#d8576b"
            ],
            [
             0.6666666666666666,
             "#ed7953"
            ],
            [
             0.7777777777777778,
             "#fb9f3a"
            ],
            [
             0.8888888888888888,
             "#fdca26"
            ],
            [
             1,
             "#f0f921"
            ]
           ]
          },
          "colorway": [
           "#636efa",
           "#EF553B",
           "#00cc96",
           "#ab63fa",
           "#FFA15A",
           "#19d3f3",
           "#FF6692",
           "#B6E880",
           "#FF97FF",
           "#FECB52"
          ],
          "font": {
           "color": "#2a3f5f"
          },
          "geo": {
           "bgcolor": "white",
           "lakecolor": "white",
           "landcolor": "#E5ECF6",
           "showlakes": true,
           "showland": true,
           "subunitcolor": "white"
          },
          "hoverlabel": {
           "align": "left"
          },
          "hovermode": "closest",
          "mapbox": {
           "style": "light"
          },
          "paper_bgcolor": "white",
          "plot_bgcolor": "#E5ECF6",
          "polar": {
           "angularaxis": {
            "gridcolor": "white",
            "linecolor": "white",
            "ticks": ""
           },
           "bgcolor": "#E5ECF6",
           "radialaxis": {
            "gridcolor": "white",
            "linecolor": "white",
            "ticks": ""
           }
          },
          "scene": {
           "xaxis": {
            "backgroundcolor": "#E5ECF6",
            "gridcolor": "white",
            "gridwidth": 2,
            "linecolor": "white",
            "showbackground": true,
            "ticks": "",
            "zerolinecolor": "white"
           },
           "yaxis": {
            "backgroundcolor": "#E5ECF6",
            "gridcolor": "white",
            "gridwidth": 2,
            "linecolor": "white",
            "showbackground": true,
            "ticks": "",
            "zerolinecolor": "white"
           },
           "zaxis": {
            "backgroundcolor": "#E5ECF6",
            "gridcolor": "white",
            "gridwidth": 2,
            "linecolor": "white",
            "showbackground": true,
            "ticks": "",
            "zerolinecolor": "white"
           }
          },
          "shapedefaults": {
           "line": {
            "color": "#2a3f5f"
           }
          },
          "ternary": {
           "aaxis": {
            "gridcolor": "white",
            "linecolor": "white",
            "ticks": ""
           },
           "baxis": {
            "gridcolor": "white",
            "linecolor": "white",
            "ticks": ""
           },
           "bgcolor": "#E5ECF6",
           "caxis": {
            "gridcolor": "white",
            "linecolor": "white",
            "ticks": ""
           }
          },
          "title": {
           "x": 0.05
          },
          "xaxis": {
           "automargin": true,
           "gridcolor": "white",
           "linecolor": "white",
           "ticks": "",
           "title": {
            "standoff": 15
           },
           "zerolinecolor": "white",
           "zerolinewidth": 2
          },
          "yaxis": {
           "automargin": true,
           "gridcolor": "white",
           "linecolor": "white",
           "ticks": "",
           "title": {
            "standoff": 15
           },
           "zerolinecolor": "white",
           "zerolinewidth": 2
          }
         }
        },
        "xaxis": {
         "anchor": "y",
         "domain": [
          0,
          0.98
         ],
         "title": {
          "text": "start_segment"
         }
        },
        "xaxis2": {
         "anchor": "y2",
         "domain": [
          0,
          0.98
         ],
         "matches": "x",
         "showticklabels": false
        },
        "xaxis3": {
         "anchor": "y3",
         "domain": [
          0,
          0.98
         ],
         "matches": "x",
         "showticklabels": false
        },
        "yaxis": {
         "anchor": "x",
         "autorange": "reversed",
         "domain": [
          0,
          0.3133333333333333
         ],
         "title": {
          "text": "rank"
         }
        },
        "yaxis2": {
         "anchor": "x2",
         "domain": [
          0.34333333333333327,
          0.6566666666666665
         ],
         "matches": "y",
         "title": {
          "text": "rank"
         }
        },
        "yaxis3": {
         "anchor": "x3",
         "domain": [
          0.6866666666666665,
          0.9999999999999998
         ],
         "matches": "y",
         "title": {
          "text": "rank"
         }
        }
       }
      },
      "text/html": [
       "<div>                            <div id=\"2e1477d7-307a-4089-8555-2ba4b86a46bb\" class=\"plotly-graph-div\" style=\"height:525px; width:100%;\"></div>            <script type=\"text/javascript\">                require([\"plotly\"], function(Plotly) {                    window.PLOTLYENV=window.PLOTLYENV || {};                                    if (document.getElementById(\"2e1477d7-307a-4089-8555-2ba4b86a46bb\")) {                    Plotly.newPlot(                        \"2e1477d7-307a-4089-8555-2ba4b86a46bb\",                        [{\"hovertemplate\":\"term=abeilles<br>origin=facebook<br>start_segment=%{x}<br>rank=%{y}<extra></extra>\",\"legendgroup\":\"abeilles\",\"line\":{\"color\":\"#636efa\",\"dash\":\"solid\"},\"marker\":{\"symbol\":\"circle\"},\"mode\":\"markers+lines\",\"name\":\"abeilles\",\"showlegend\":true,\"x\":[\"2011-11-16\",\"2012-02-01\",\"2012-07-01\",\"2012-12-01\",\"2014-03-01\",\"2015-03-01\",\"2015-12-01\",\"2016-10-01\",\"2018-05-01\",\"2019-06-01\",\"2020-08-01\",\"2021-04-01\",\"2021-12-01\"],\"xaxis\":\"x3\",\"y\":[14.0,5.0,9.0,3.0,2.0,5.0,7.0,6.0,9.0,13.0,11.0,10.0,42.0],\"yaxis\":\"y3\",\"type\":\"scattergl\"},{\"hovertemplate\":\"term=abeilles<br>origin=media<br>start_segment=%{x}<br>rank=%{y}<extra></extra>\",\"legendgroup\":\"abeilles\",\"line\":{\"color\":\"#636efa\",\"dash\":\"solid\"},\"marker\":{\"symbol\":\"circle\"},\"mode\":\"markers+lines\",\"name\":\"abeilles\",\"showlegend\":false,\"x\":[\"2011-03-31\",\"2011-11-03\",\"2012-11-14\",\"2013-01-07\",\"2014-07-01\",\"2015-09-01\",\"2018-04-01\",\"2019-08-01\",\"2021-08-01\"],\"xaxis\":\"x2\",\"y\":[7.0,27.0,71.0,2.0,5.0,25.0,22.0,39.0,31.0],\"yaxis\":\"y2\",\"type\":\"scattergl\"},{\"hovertemplate\":\"term=abeilles<br>origin=twitter<br>start_segment=%{x}<br>rank=%{y}<extra></extra>\",\"legendgroup\":\"abeilles\",\"line\":{\"color\":\"#636efa\",\"dash\":\"solid\"},\"marker\":{\"symbol\":\"circle\"},\"mode\":\"markers+lines\",\"name\":\"abeilles\",\"showlegend\":false,\"x\":[\"2010-02-01\",\"2010-09-01\",\"2012-07-01\",\"2013-12-01\",\"2015-10-01\",\"2017-09-01\",\"2019-06-01\",\"2020-08-01\"],\"xaxis\":\"x\",\"y\":[10.0,2.0,2.0,3.0,4.0,7.0,6.0,5.0],\"yaxis\":\"y\",\"type\":\"scattergl\"},{\"hovertemplate\":\"term=agriculteur<br>origin=facebook<br>start_segment=%{x}<br>rank=%{y}<extra></extra>\",\"legendgroup\":\"agriculteur\",\"line\":{\"color\":\"#EF553B\",\"dash\":\"solid\"},\"marker\":{\"symbol\":\"circle\"},\"mode\":\"markers+lines\",\"name\":\"agriculteur\",\"showlegend\":true,\"x\":[\"2011-11-16\",\"2012-02-01\",\"2012-07-01\",\"2012-12-01\",\"2014-03-01\",\"2015-03-01\",\"2015-12-01\",\"2016-10-01\",\"2018-05-01\",\"2019-06-01\",\"2020-08-01\",\"2021-04-01\",\"2021-12-01\"],\"xaxis\":\"x3\",\"y\":[5.0,4.0,18.0,13.0,13.0,12.0,15.0,7.0,8.0,5.0,10.0,12.0,17.0],\"yaxis\":\"y3\",\"type\":\"scattergl\"},{\"hovertemplate\":\"term=agriculteur<br>origin=media<br>start_segment=%{x}<br>rank=%{y}<extra></extra>\",\"legendgroup\":\"agriculteur\",\"line\":{\"color\":\"#EF553B\",\"dash\":\"solid\"},\"marker\":{\"symbol\":\"circle\"},\"mode\":\"markers+lines\",\"name\":\"agriculteur\",\"showlegend\":false,\"x\":[\"2010-09-16\",\"2011-01-19\",\"2011-03-31\",\"2011-09-08\",\"2011-11-03\",\"2013-01-07\",\"2014-07-01\",\"2015-09-01\",\"2018-04-01\",\"2019-08-01\",\"2021-08-01\"],\"xaxis\":\"x2\",\"y\":[106.0,38.0,73.0,49.0,13.0,8.0,3.0,4.0,8.0,3.0,24.0],\"yaxis\":\"y2\",\"type\":\"scattergl\"},{\"hovertemplate\":\"term=agriculteur<br>origin=twitter<br>start_segment=%{x}<br>rank=%{y}<extra></extra>\",\"legendgroup\":\"agriculteur\",\"line\":{\"color\":\"#EF553B\",\"dash\":\"solid\"},\"marker\":{\"symbol\":\"circle\"},\"mode\":\"markers+lines\",\"name\":\"agriculteur\",\"showlegend\":false,\"x\":[\"2010-02-01\",\"2010-09-01\",\"2012-07-01\",\"2013-12-01\",\"2015-10-01\",\"2017-09-01\",\"2019-06-01\",\"2020-08-01\"],\"xaxis\":\"x\",\"y\":[12.0,5.0,20.0,16.0,14.0,6.0,3.0,8.0],\"yaxis\":\"y\",\"type\":\"scattergl\"},{\"hovertemplate\":\"term=aliments<br>origin=facebook<br>start_segment=%{x}<br>rank=%{y}<extra></extra>\",\"legendgroup\":\"aliments\",\"line\":{\"color\":\"#00cc96\",\"dash\":\"solid\"},\"marker\":{\"symbol\":\"circle\"},\"mode\":\"markers+lines\",\"name\":\"aliments\",\"showlegend\":true,\"x\":[\"2011-11-16\",\"2012-02-01\",\"2012-07-01\",\"2012-12-01\",\"2014-03-01\",\"2015-03-01\",\"2015-12-01\",\"2016-10-01\",\"2018-05-01\",\"2019-06-01\",\"2020-08-01\",\"2021-04-01\",\"2021-12-01\"],\"xaxis\":\"x3\",\"y\":[9.0,52.0,37.0,20.0,23.0,23.0,18.0,22.0,49.0,46.0,50.0,22.0,16.0],\"yaxis\":\"y3\",\"type\":\"scattergl\"},{\"hovertemplate\":\"term=aliments<br>origin=media<br>start_segment=%{x}<br>rank=%{y}<extra></extra>\",\"legendgroup\":\"aliments\",\"line\":{\"color\":\"#00cc96\",\"dash\":\"solid\"},\"marker\":{\"symbol\":\"circle\"},\"mode\":\"markers+lines\",\"name\":\"aliments\",\"showlegend\":false,\"x\":[\"2010-09-16\",\"2011-01-19\",\"2011-09-08\",\"2011-11-03\",\"2012-11-14\",\"2013-01-07\",\"2014-07-01\",\"2015-09-01\",\"2018-04-01\",\"2019-08-01\",\"2021-08-01\"],\"xaxis\":\"x2\",\"y\":[6.0,54.0,55.0,24.0,22.0,53.0,92.0,67.0,59.0,74.0,77.0],\"yaxis\":\"y2\",\"type\":\"scattergl\"},{\"hovertemplate\":\"term=aliments<br>origin=twitter<br>start_segment=%{x}<br>rank=%{y}<extra></extra>\",\"legendgroup\":\"aliments\",\"line\":{\"color\":\"#00cc96\",\"dash\":\"solid\"},\"marker\":{\"symbol\":\"circle\"},\"mode\":\"markers+lines\",\"name\":\"aliments\",\"showlegend\":false,\"x\":[\"2010-02-01\",\"2010-09-01\",\"2012-07-01\",\"2013-12-01\",\"2015-10-01\",\"2017-09-01\",\"2019-06-01\",\"2020-08-01\"],\"xaxis\":\"x\",\"y\":[33.0,22.0,27.0,29.0,38.0,61.0,85.0,69.0],\"yaxis\":\"y\",\"type\":\"scattergl\"},{\"hovertemplate\":\"term=alternatives<br>origin=facebook<br>start_segment=%{x}<br>rank=%{y}<extra></extra>\",\"legendgroup\":\"alternatives\",\"line\":{\"color\":\"#ab63fa\",\"dash\":\"solid\"},\"marker\":{\"symbol\":\"circle\"},\"mode\":\"markers+lines\",\"name\":\"alternatives\",\"showlegend\":true,\"x\":[\"2011-11-16\",\"2012-02-01\",\"2012-07-01\",\"2012-12-01\",\"2014-03-01\",\"2015-03-01\",\"2015-12-01\",\"2016-10-01\",\"2018-05-01\",\"2019-06-01\",\"2020-08-01\",\"2021-04-01\",\"2021-12-01\"],\"xaxis\":\"x3\",\"y\":[72.0,29.0,44.0,17.0,20.0,24.0,19.0,9.0,32.0,57.0,23.0,68.0,55.0],\"yaxis\":\"y3\",\"type\":\"scattergl\"},{\"hovertemplate\":\"term=alternatives<br>origin=twitter<br>start_segment=%{x}<br>rank=%{y}<extra></extra>\",\"legendgroup\":\"alternatives\",\"line\":{\"color\":\"#ab63fa\",\"dash\":\"solid\"},\"marker\":{\"symbol\":\"circle\"},\"mode\":\"markers+lines\",\"name\":\"alternatives\",\"showlegend\":false,\"x\":[\"2010-02-01\",\"2010-09-01\",\"2012-07-01\",\"2013-12-01\",\"2015-10-01\",\"2017-09-01\",\"2019-06-01\",\"2020-08-01\"],\"xaxis\":\"x\",\"y\":[18.0,15.0,14.0,17.0,21.0,19.0,46.0,19.0],\"yaxis\":\"y\",\"type\":\"scattergl\"},{\"hovertemplate\":\"term=animal<br>origin=facebook<br>start_segment=%{x}<br>rank=%{y}<extra></extra>\",\"legendgroup\":\"animal\",\"line\":{\"color\":\"#FFA15A\",\"dash\":\"solid\"},\"marker\":{\"symbol\":\"circle\"},\"mode\":\"markers+lines\",\"name\":\"animal\",\"showlegend\":true,\"x\":[\"2011-11-16\",\"2012-02-01\",\"2012-07-01\",\"2012-12-01\",\"2014-03-01\",\"2015-03-01\",\"2015-12-01\",\"2016-10-01\",\"2018-05-01\",\"2019-06-01\",\"2020-08-01\",\"2021-04-01\",\"2021-12-01\"],\"xaxis\":\"x3\",\"y\":[194.0,44.0,49.0,57.0,30.0,40.0,36.0,40.0,41.0,20.0,27.0,24.0,18.0],\"yaxis\":\"y3\",\"type\":\"scattergl\"},{\"hovertemplate\":\"term=animal<br>origin=media<br>start_segment=%{x}<br>rank=%{y}<extra></extra>\",\"legendgroup\":\"animal\",\"line\":{\"color\":\"#FFA15A\",\"dash\":\"solid\"},\"marker\":{\"symbol\":\"circle\"},\"mode\":\"markers+lines\",\"name\":\"animal\",\"showlegend\":false,\"x\":[\"2010-09-16\",\"2011-01-19\",\"2011-03-31\",\"2011-09-08\",\"2011-11-03\",\"2012-11-14\",\"2013-01-07\",\"2014-07-01\",\"2015-09-01\",\"2018-04-01\",\"2019-08-01\",\"2021-08-01\"],\"xaxis\":\"x2\",\"y\":[61.0,5.0,28.0,14.0,15.0,23.0,42.0,32.0,38.0,49.0,29.0,33.0],\"yaxis\":\"y2\",\"type\":\"scattergl\"},{\"hovertemplate\":\"term=arr\\u00eat\\u00e9<br>origin=facebook<br>start_segment=%{x}<br>rank=%{y}<extra></extra>\",\"legendgroup\":\"arr\\u00eat\\u00e9\",\"line\":{\"color\":\"#19d3f3\",\"dash\":\"solid\"},\"marker\":{\"symbol\":\"circle\"},\"mode\":\"markers+lines\",\"name\":\"arr\\u00eat\\u00e9\",\"showlegend\":true,\"x\":[\"2011-11-16\",\"2012-02-01\",\"2012-07-01\",\"2012-12-01\",\"2014-03-01\",\"2015-03-01\",\"2015-12-01\",\"2016-10-01\",\"2018-05-01\",\"2019-06-01\",\"2020-08-01\",\"2021-04-01\",\"2021-12-01\"],\"xaxis\":\"x3\",\"y\":[189.0,157.0,69.0,138.0,141.0,130.0,150.0,147.0,187.0,6.0,88.0,162.0,186.0],\"yaxis\":\"y3\",\"type\":\"scattergl\"},{\"hovertemplate\":\"term=arr\\u00eat\\u00e9<br>origin=twitter<br>start_segment=%{x}<br>rank=%{y}<extra></extra>\",\"legendgroup\":\"arr\\u00eat\\u00e9\",\"line\":{\"color\":\"#19d3f3\",\"dash\":\"solid\"},\"marker\":{\"symbol\":\"circle\"},\"mode\":\"markers+lines\",\"name\":\"arr\\u00eat\\u00e9\",\"showlegend\":false,\"x\":[\"2010-09-01\",\"2012-07-01\",\"2013-12-01\",\"2015-10-01\",\"2017-09-01\",\"2019-06-01\",\"2020-08-01\"],\"xaxis\":\"x\",\"y\":[242.0,149.0,135.0,79.0,165.0,5.0,93.0],\"yaxis\":\"y\",\"type\":\"scattergl\"},{\"hovertemplate\":\"term=associations<br>origin=facebook<br>start_segment=%{x}<br>rank=%{y}<extra></extra>\",\"legendgroup\":\"associations\",\"line\":{\"color\":\"#FF6692\",\"dash\":\"solid\"},\"marker\":{\"symbol\":\"circle\"},\"mode\":\"markers+lines\",\"name\":\"associations\",\"showlegend\":true,\"x\":[\"2011-11-16\",\"2012-02-01\",\"2012-07-01\",\"2012-12-01\",\"2014-03-01\",\"2015-03-01\",\"2015-12-01\",\"2016-10-01\",\"2018-05-01\",\"2019-06-01\",\"2020-08-01\",\"2021-04-01\",\"2021-12-01\"],\"xaxis\":\"x3\",\"y\":[42.0,24.0,47.0,44.0,55.0,51.0,65.0,35.0,60.0,38.0,39.0,54.0,36.0],\"yaxis\":\"y3\",\"type\":\"scattergl\"},{\"hovertemplate\":\"term=betterave<br>origin=facebook<br>start_segment=%{x}<br>rank=%{y}<extra></extra>\",\"legendgroup\":\"betterave\",\"line\":{\"color\":\"#B6E880\",\"dash\":\"solid\"},\"marker\":{\"symbol\":\"circle\"},\"mode\":\"markers+lines\",\"name\":\"betterave\",\"showlegend\":true,\"x\":[\"2011-11-16\",\"2012-02-01\",\"2012-07-01\",\"2012-12-01\",\"2014-03-01\",\"2015-03-01\",\"2015-12-01\",\"2016-10-01\",\"2018-05-01\",\"2019-06-01\",\"2020-08-01\",\"2021-04-01\",\"2021-12-01\"],\"xaxis\":\"x3\",\"y\":[164.0,253.0,271.0,243.0,271.0,257.0,227.0,267.0,237.0,220.0,8.0,151.0,56.0],\"yaxis\":\"y3\",\"type\":\"scattergl\"},{\"hovertemplate\":\"term=betterave<br>origin=twitter<br>start_segment=%{x}<br>rank=%{y}<extra></extra>\",\"legendgroup\":\"betterave\",\"line\":{\"color\":\"#B6E880\",\"dash\":\"solid\"},\"marker\":{\"symbol\":\"circle\"},\"mode\":\"markers+lines\",\"name\":\"betterave\",\"showlegend\":false,\"x\":[\"2010-09-01\",\"2012-07-01\",\"2013-12-01\",\"2015-10-01\",\"2017-09-01\",\"2019-06-01\",\"2020-08-01\"],\"xaxis\":\"x\",\"y\":[180.0,287.0,264.0,242.0,180.0,139.0,4.0],\"yaxis\":\"y\",\"type\":\"scattergl\"},{\"hovertemplate\":\"term=campagne<br>origin=facebook<br>start_segment=%{x}<br>rank=%{y}<extra></extra>\",\"legendgroup\":\"campagne\",\"line\":{\"color\":\"#FF97FF\",\"dash\":\"solid\"},\"marker\":{\"symbol\":\"circle\"},\"mode\":\"markers+lines\",\"name\":\"campagne\",\"showlegend\":true,\"x\":[\"2011-11-16\",\"2012-02-01\",\"2012-07-01\",\"2012-12-01\",\"2014-03-01\",\"2015-03-01\",\"2015-12-01\",\"2016-10-01\",\"2018-05-01\",\"2019-06-01\",\"2020-08-01\",\"2021-04-01\",\"2021-12-01\"],\"xaxis\":\"x3\",\"y\":[21.0,35.0,41.0,56.0,49.0,66.0,55.0,45.0,14.0,32.0,46.0,39.0,41.0],\"yaxis\":\"y3\",\"type\":\"scattergl\"},{\"hovertemplate\":\"term=campagne<br>origin=media<br>start_segment=%{x}<br>rank=%{y}<extra></extra>\",\"legendgroup\":\"campagne\",\"line\":{\"color\":\"#FF97FF\",\"dash\":\"solid\"},\"marker\":{\"symbol\":\"circle\"},\"mode\":\"markers+lines\",\"name\":\"campagne\",\"showlegend\":false,\"x\":[\"2010-09-16\",\"2011-01-19\",\"2011-03-31\",\"2011-11-03\",\"2012-11-14\",\"2013-01-07\",\"2014-07-01\",\"2015-09-01\",\"2018-04-01\",\"2019-08-01\",\"2021-08-01\"],\"xaxis\":\"x2\",\"y\":[103.0,17.0,49.0,132.0,65.0,47.0,47.0,51.0,41.0,46.0,49.0],\"yaxis\":\"y2\",\"type\":\"scattergl\"},{\"hovertemplate\":\"term=cancers<br>origin=facebook<br>start_segment=%{x}<br>rank=%{y}<extra></extra>\",\"legendgroup\":\"cancers\",\"line\":{\"color\":\"#FECB52\",\"dash\":\"solid\"},\"marker\":{\"symbol\":\"circle\"},\"mode\":\"markers+lines\",\"name\":\"cancers\",\"showlegend\":true,\"x\":[\"2011-11-16\",\"2012-02-01\",\"2012-07-01\",\"2012-12-01\",\"2014-03-01\",\"2015-03-01\",\"2015-12-01\",\"2016-10-01\",\"2018-05-01\",\"2019-06-01\",\"2020-08-01\",\"2021-04-01\",\"2021-12-01\"],\"xaxis\":\"x3\",\"y\":[25.0,16.0,21.0,15.0,24.0,9.0,29.0,26.0,13.0,33.0,31.0,33.0,22.0],\"yaxis\":\"y3\",\"type\":\"scattergl\"},{\"hovertemplate\":\"term=cancers<br>origin=media<br>start_segment=%{x}<br>rank=%{y}<extra></extra>\",\"legendgroup\":\"cancers\",\"line\":{\"color\":\"#FECB52\",\"dash\":\"solid\"},\"marker\":{\"symbol\":\"circle\"},\"mode\":\"markers+lines\",\"name\":\"cancers\",\"showlegend\":false,\"x\":[\"2010-09-16\",\"2011-01-19\",\"2011-03-31\",\"2011-09-08\",\"2011-11-03\",\"2012-11-14\",\"2013-01-07\",\"2014-07-01\",\"2015-09-01\",\"2018-04-01\",\"2019-08-01\",\"2021-08-01\"],\"xaxis\":\"x2\",\"y\":[5.0,76.0,19.0,5.0,25.0,61.0,38.0,12.0,15.0,12.0,52.0,22.0],\"yaxis\":\"y2\",\"type\":\"scattergl\"},{\"hovertemplate\":\"term=cancers<br>origin=twitter<br>start_segment=%{x}<br>rank=%{y}<extra></extra>\",\"legendgroup\":\"cancers\",\"line\":{\"color\":\"#FECB52\",\"dash\":\"solid\"},\"marker\":{\"symbol\":\"circle\"},\"mode\":\"markers+lines\",\"name\":\"cancers\",\"showlegend\":false,\"x\":[\"2010-02-01\",\"2010-09-01\",\"2012-07-01\",\"2013-12-01\",\"2015-10-01\",\"2017-09-01\",\"2019-06-01\",\"2020-08-01\"],\"xaxis\":\"x\",\"y\":[4.0,21.0,24.0,7.0,17.0,9.0,14.0,12.0],\"yaxis\":\"y\",\"type\":\"scattergl\"},{\"hovertemplate\":\"term=chlord\\u00e9cone<br>origin=facebook<br>start_segment=%{x}<br>rank=%{y}<extra></extra>\",\"legendgroup\":\"chlord\\u00e9cone\",\"line\":{\"color\":\"#636efa\",\"dash\":\"solid\"},\"marker\":{\"symbol\":\"circle\"},\"mode\":\"markers+lines\",\"name\":\"chlord\\u00e9cone\",\"showlegend\":true,\"x\":[\"2011-11-16\",\"2012-02-01\",\"2012-07-01\",\"2012-12-01\",\"2014-03-01\",\"2015-03-01\",\"2015-12-01\",\"2016-10-01\",\"2018-05-01\",\"2019-06-01\",\"2020-08-01\",\"2021-04-01\",\"2021-12-01\"],\"xaxis\":\"x3\",\"y\":[146.0,103.0,50.0,71.0,143.0,167.0,202.0,103.0,37.0,35.0,24.0,35.0,31.0],\"yaxis\":\"y3\",\"type\":\"scattergl\"},{\"hovertemplate\":\"term=chlord\\u00e9cone<br>origin=media<br>start_segment=%{x}<br>rank=%{y}<extra></extra>\",\"legendgroup\":\"chlord\\u00e9cone\",\"line\":{\"color\":\"#636efa\",\"dash\":\"solid\"},\"marker\":{\"symbol\":\"circle\"},\"mode\":\"markers+lines\",\"name\":\"chlord\\u00e9cone\",\"showlegend\":false,\"x\":[\"2011-11-03\",\"2013-01-07\",\"2014-07-01\",\"2015-09-01\",\"2018-04-01\",\"2019-08-01\",\"2021-08-01\"],\"xaxis\":\"x2\",\"y\":[37.0,217.0,253.0,228.0,78.0,96.0,18.0],\"yaxis\":\"y2\",\"type\":\"scattergl\"},{\"hovertemplate\":\"term=chlord\\u00e9cone<br>origin=twitter<br>start_segment=%{x}<br>rank=%{y}<extra></extra>\",\"legendgroup\":\"chlord\\u00e9cone\",\"line\":{\"color\":\"#636efa\",\"dash\":\"solid\"},\"marker\":{\"symbol\":\"circle\"},\"mode\":\"markers+lines\",\"name\":\"chlord\\u00e9cone\",\"showlegend\":false,\"x\":[\"2010-02-01\",\"2010-09-01\",\"2012-07-01\",\"2013-12-01\",\"2015-10-01\",\"2017-09-01\",\"2019-06-01\",\"2020-08-01\"],\"xaxis\":\"x\",\"y\":[2.0,23.0,12.0,38.0,104.0,15.0,7.0,7.0],\"yaxis\":\"y\",\"type\":\"scattergl\"},{\"hovertemplate\":\"term=citoyens<br>origin=facebook<br>start_segment=%{x}<br>rank=%{y}<extra></extra>\",\"legendgroup\":\"citoyens\",\"line\":{\"color\":\"#EF553B\",\"dash\":\"solid\"},\"marker\":{\"symbol\":\"circle\"},\"mode\":\"markers+lines\",\"name\":\"citoyens\",\"showlegend\":true,\"x\":[\"2011-11-16\",\"2012-02-01\",\"2012-07-01\",\"2012-12-01\",\"2014-03-01\",\"2015-03-01\",\"2015-12-01\",\"2016-10-01\",\"2018-05-01\",\"2019-06-01\",\"2020-08-01\",\"2021-04-01\",\"2021-12-01\"],\"xaxis\":\"x3\",\"y\":[106.0,21.0,35.0,14.0,38.0,29.0,33.0,43.0,18.0,42.0,59.0,63.0,67.0],\"yaxis\":\"y3\",\"type\":\"scattergl\"},{\"hovertemplate\":\"term=citoyens<br>origin=media<br>start_segment=%{x}<br>rank=%{y}<extra></extra>\",\"legendgroup\":\"citoyens\",\"line\":{\"color\":\"#EF553B\",\"dash\":\"solid\"},\"marker\":{\"symbol\":\"circle\"},\"mode\":\"markers+lines\",\"name\":\"citoyens\",\"showlegend\":false,\"x\":[\"2010-09-16\",\"2011-01-19\",\"2011-11-03\",\"2012-11-14\",\"2013-01-07\",\"2014-07-01\",\"2015-09-01\",\"2018-04-01\",\"2019-08-01\",\"2021-08-01\"],\"xaxis\":\"x2\",\"y\":[111.0,16.0,166.0,60.0,104.0,116.0,83.0,52.0,54.0,90.0],\"yaxis\":\"y2\",\"type\":\"scattergl\"},{\"hovertemplate\":\"term=citoyens<br>origin=twitter<br>start_segment=%{x}<br>rank=%{y}<extra></extra>\",\"legendgroup\":\"citoyens\",\"line\":{\"color\":\"#EF553B\",\"dash\":\"solid\"},\"marker\":{\"symbol\":\"circle\"},\"mode\":\"markers+lines\",\"name\":\"citoyens\",\"showlegend\":false,\"x\":[\"2010-02-01\",\"2010-09-01\",\"2012-07-01\",\"2013-12-01\",\"2015-10-01\",\"2017-09-01\",\"2019-06-01\",\"2020-08-01\"],\"xaxis\":\"x\",\"y\":[197.0,136.0,18.0,143.0,41.0,54.0,86.0,111.0],\"yaxis\":\"y\",\"type\":\"scattergl\"},{\"hovertemplate\":\"term=commission<br>origin=facebook<br>start_segment=%{x}<br>rank=%{y}<extra></extra>\",\"legendgroup\":\"commission\",\"line\":{\"color\":\"#00cc96\",\"dash\":\"solid\"},\"marker\":{\"symbol\":\"circle\"},\"mode\":\"markers+lines\",\"name\":\"commission\",\"showlegend\":true,\"x\":[\"2011-11-16\",\"2012-02-01\",\"2012-07-01\",\"2012-12-01\",\"2014-03-01\",\"2015-03-01\",\"2015-12-01\",\"2016-10-01\",\"2018-05-01\",\"2019-06-01\",\"2020-08-01\",\"2021-04-01\",\"2021-12-01\"],\"xaxis\":\"x3\",\"y\":[68.0,59.0,68.0,27.0,68.0,42.0,9.0,12.0,58.0,43.0,79.0,81.0,92.0],\"yaxis\":\"y3\",\"type\":\"scattergl\"},{\"hovertemplate\":\"term=commission<br>origin=media<br>start_segment=%{x}<br>rank=%{y}<extra></extra>\",\"legendgroup\":\"commission\",\"line\":{\"color\":\"#00cc96\",\"dash\":\"solid\"},\"marker\":{\"symbol\":\"circle\"},\"mode\":\"markers+lines\",\"name\":\"commission\",\"showlegend\":false,\"x\":[\"2010-09-16\",\"2011-01-19\",\"2011-09-08\",\"2011-11-03\",\"2012-11-14\",\"2013-01-07\",\"2014-07-01\",\"2015-09-01\",\"2018-04-01\",\"2019-08-01\",\"2021-08-01\"],\"xaxis\":\"x2\",\"y\":[10.0,75.0,28.0,23.0,58.0,29.0,72.0,7.0,42.0,50.0,99.0],\"yaxis\":\"y2\",\"type\":\"scattergl\"},{\"hovertemplate\":\"term=commission<br>origin=twitter<br>start_segment=%{x}<br>rank=%{y}<extra></extra>\",\"legendgroup\":\"commission\",\"line\":{\"color\":\"#00cc96\",\"dash\":\"solid\"},\"marker\":{\"symbol\":\"circle\"},\"mode\":\"markers+lines\",\"name\":\"commission\",\"showlegend\":false,\"x\":[\"2010-02-01\",\"2010-09-01\",\"2012-07-01\",\"2013-12-01\",\"2015-10-01\",\"2017-09-01\",\"2019-06-01\",\"2020-08-01\"],\"xaxis\":\"x\",\"y\":[146.0,108.0,32.0,104.0,13.0,35.0,44.0,127.0],\"yaxis\":\"y\",\"type\":\"scattergl\"},{\"hovertemplate\":\"term=commission europ\\u00e9enne<br>origin=facebook<br>start_segment=%{x}<br>rank=%{y}<extra></extra>\",\"legendgroup\":\"commission europ\\u00e9enne\",\"line\":{\"color\":\"#ab63fa\",\"dash\":\"solid\"},\"marker\":{\"symbol\":\"circle\"},\"mode\":\"markers+lines\",\"name\":\"commission europ\\u00e9enne\",\"showlegend\":true,\"x\":[\"2011-11-16\",\"2012-02-01\",\"2012-07-01\",\"2012-12-01\",\"2014-03-01\",\"2015-03-01\",\"2015-12-01\",\"2016-10-01\",\"2018-05-01\",\"2019-06-01\",\"2020-08-01\",\"2021-04-01\",\"2021-12-01\"],\"xaxis\":\"x3\",\"y\":[137.0,165.0,151.0,51.0,114.0,82.0,23.0,50.0,143.0,138.0,185.0,129.0,177.0],\"yaxis\":\"y3\",\"type\":\"scattergl\"},{\"hovertemplate\":\"term=consommateurs<br>origin=facebook<br>start_segment=%{x}<br>rank=%{y}<extra></extra>\",\"legendgroup\":\"consommateurs\",\"line\":{\"color\":\"#FFA15A\",\"dash\":\"solid\"},\"marker\":{\"symbol\":\"circle\"},\"mode\":\"markers+lines\",\"name\":\"consommateurs\",\"showlegend\":true,\"x\":[\"2011-11-16\",\"2012-02-01\",\"2012-07-01\",\"2012-12-01\",\"2014-03-01\",\"2015-03-01\",\"2015-12-01\",\"2016-10-01\",\"2018-05-01\",\"2019-06-01\",\"2020-08-01\",\"2021-04-01\",\"2021-12-01\"],\"xaxis\":\"x3\",\"y\":[46.0,19.0,30.0,32.0,56.0,46.0,34.0,37.0,43.0,62.0,62.0,47.0,73.0],\"yaxis\":\"y3\",\"type\":\"scattergl\"},{\"hovertemplate\":\"term=consommateurs<br>origin=media<br>start_segment=%{x}<br>rank=%{y}<extra></extra>\",\"legendgroup\":\"consommateurs\",\"line\":{\"color\":\"#FFA15A\",\"dash\":\"solid\"},\"marker\":{\"symbol\":\"circle\"},\"mode\":\"markers+lines\",\"name\":\"consommateurs\",\"showlegend\":false,\"x\":[\"2010-09-16\",\"2011-11-03\",\"2012-11-14\",\"2013-01-07\",\"2014-07-01\",\"2015-09-01\",\"2018-04-01\",\"2019-08-01\",\"2021-08-01\"],\"xaxis\":\"x2\",\"y\":[40.0,61.0,24.0,37.0,37.0,19.0,32.0,43.0,39.0],\"yaxis\":\"y2\",\"type\":\"scattergl\"},{\"hovertemplate\":\"term=coquelicots<br>origin=facebook<br>start_segment=%{x}<br>rank=%{y}<extra></extra>\",\"legendgroup\":\"coquelicots\",\"line\":{\"color\":\"#19d3f3\",\"dash\":\"solid\"},\"marker\":{\"symbol\":\"circle\"},\"mode\":\"markers+lines\",\"name\":\"coquelicots\",\"showlegend\":true,\"x\":[\"2012-12-01\",\"2014-03-01\",\"2015-03-01\",\"2015-12-01\",\"2016-10-01\",\"2018-05-01\",\"2019-06-01\",\"2020-08-01\",\"2021-04-01\",\"2021-12-01\"],\"xaxis\":\"x3\",\"y\":[378.0,388.0,358.0,368.0,347.0,12.0,27.0,122.0,171.0,269.0],\"yaxis\":\"y3\",\"type\":\"scattergl\"},{\"hovertemplate\":\"term=co\\u00fbts<br>origin=facebook<br>start_segment=%{x}<br>rank=%{y}<extra></extra>\",\"legendgroup\":\"co\\u00fbts\",\"line\":{\"color\":\"#FF6692\",\"dash\":\"solid\"},\"marker\":{\"symbol\":\"circle\"},\"mode\":\"markers+lines\",\"name\":\"co\\u00fbts\",\"showlegend\":true,\"x\":[\"2011-11-16\",\"2012-02-01\",\"2012-07-01\",\"2012-12-01\",\"2014-03-01\",\"2015-03-01\",\"2015-12-01\",\"2016-10-01\",\"2018-05-01\",\"2019-06-01\",\"2020-08-01\",\"2021-04-01\",\"2021-12-01\"],\"xaxis\":\"x3\",\"y\":[65.0,142.0,99.0,142.0,127.0,112.0,111.0,117.0,136.0,102.0,104.0,50.0,3.0],\"yaxis\":\"y3\",\"type\":\"scattergl\"},{\"hovertemplate\":\"term=co\\u00fbts<br>origin=media<br>start_segment=%{x}<br>rank=%{y}<extra></extra>\",\"legendgroup\":\"co\\u00fbts\",\"line\":{\"color\":\"#FF6692\",\"dash\":\"solid\"},\"marker\":{\"symbol\":\"circle\"},\"mode\":\"markers+lines\",\"name\":\"co\\u00fbts\",\"showlegend\":false,\"x\":[\"2010-09-16\",\"2011-01-19\",\"2011-03-31\",\"2011-11-03\",\"2013-01-07\",\"2014-07-01\",\"2015-09-01\",\"2018-04-01\",\"2019-08-01\",\"2021-08-01\"],\"xaxis\":\"x2\",\"y\":[30.0,8.0,59.0,153.0,78.0,61.0,84.0,85.0,89.0,76.0],\"yaxis\":\"y2\",\"type\":\"scattergl\"},{\"hovertemplate\":\"term=culture<br>origin=facebook<br>start_segment=%{x}<br>rank=%{y}<extra></extra>\",\"legendgroup\":\"culture\",\"line\":{\"color\":\"#B6E880\",\"dash\":\"solid\"},\"marker\":{\"symbol\":\"circle\"},\"mode\":\"markers+lines\",\"name\":\"culture\",\"showlegend\":true,\"x\":[\"2011-11-16\",\"2012-02-01\",\"2012-07-01\",\"2012-12-01\",\"2014-03-01\",\"2015-03-01\",\"2015-12-01\",\"2016-10-01\",\"2018-05-01\",\"2019-06-01\",\"2020-08-01\",\"2021-04-01\",\"2021-12-01\"],\"xaxis\":\"x3\",\"y\":[12.0,15.0,15.0,10.0,9.0,15.0,13.0,13.0,17.0,7.0,3.0,1.0,2.0],\"yaxis\":\"y3\",\"type\":\"scattergl\"},{\"hovertemplate\":\"term=culture<br>origin=media<br>start_segment=%{x}<br>rank=%{y}<extra></extra>\",\"legendgroup\":\"culture\",\"line\":{\"color\":\"#B6E880\",\"dash\":\"solid\"},\"marker\":{\"symbol\":\"circle\"},\"mode\":\"markers+lines\",\"name\":\"culture\",\"showlegend\":false,\"x\":[\"2010-09-16\",\"2011-01-19\",\"2011-03-31\",\"2011-09-08\",\"2011-11-03\",\"2013-01-07\",\"2014-07-01\",\"2015-09-01\",\"2018-04-01\",\"2019-08-01\",\"2021-08-01\"],\"xaxis\":\"x2\",\"y\":[35.0,27.0,58.0,8.0,19.0,4.0,10.0,16.0,24.0,10.0,14.0],\"yaxis\":\"y2\",\"type\":\"scattergl\"},{\"hovertemplate\":\"term=culture<br>origin=twitter<br>start_segment=%{x}<br>rank=%{y}<extra></extra>\",\"legendgroup\":\"culture\",\"line\":{\"color\":\"#B6E880\",\"dash\":\"solid\"},\"marker\":{\"symbol\":\"circle\"},\"mode\":\"markers+lines\",\"name\":\"culture\",\"showlegend\":false,\"x\":[\"2010-02-01\",\"2010-09-01\",\"2012-07-01\",\"2013-12-01\",\"2015-10-01\",\"2017-09-01\",\"2019-06-01\",\"2020-08-01\"],\"xaxis\":\"x\",\"y\":[44.0,29.0,37.0,53.0,43.0,27.0,17.0,10.0],\"yaxis\":\"y\",\"type\":\"scattergl\"},{\"hovertemplate\":\"term=d\\u00e9put\\u00e9<br>origin=facebook<br>start_segment=%{x}<br>rank=%{y}<extra></extra>\",\"legendgroup\":\"d\\u00e9put\\u00e9\",\"line\":{\"color\":\"#FF97FF\",\"dash\":\"solid\"},\"marker\":{\"symbol\":\"circle\"},\"mode\":\"markers+lines\",\"name\":\"d\\u00e9put\\u00e9\",\"showlegend\":true,\"x\":[\"2011-11-16\",\"2012-02-01\",\"2012-07-01\",\"2012-12-01\",\"2014-03-01\",\"2015-03-01\",\"2015-12-01\",\"2016-10-01\",\"2018-05-01\",\"2019-06-01\",\"2020-08-01\",\"2021-04-01\",\"2021-12-01\"],\"xaxis\":\"x3\",\"y\":[184.0,208.0,86.0,62.0,95.0,103.0,26.0,76.0,7.0,55.0,17.0,152.0,121.0],\"yaxis\":\"y3\",\"type\":\"scattergl\"},{\"hovertemplate\":\"term=d\\u00e9put\\u00e9<br>origin=media<br>start_segment=%{x}<br>rank=%{y}<extra></extra>\",\"legendgroup\":\"d\\u00e9put\\u00e9\",\"line\":{\"color\":\"#FF97FF\",\"dash\":\"solid\"},\"marker\":{\"symbol\":\"circle\"},\"mode\":\"markers+lines\",\"name\":\"d\\u00e9put\\u00e9\",\"showlegend\":false,\"x\":[\"2010-09-16\",\"2011-01-19\",\"2011-03-31\",\"2011-11-03\",\"2013-01-07\",\"2014-07-01\",\"2015-09-01\",\"2018-04-01\",\"2019-08-01\",\"2021-08-01\"],\"xaxis\":\"x2\",\"y\":[54.0,44.0,62.0,79.0,67.0,87.0,48.0,15.0,27.0,106.0],\"yaxis\":\"y2\",\"type\":\"scattergl\"},{\"hovertemplate\":\"term=d\\u00e9put\\u00e9<br>origin=twitter<br>start_segment=%{x}<br>rank=%{y}<extra></extra>\",\"legendgroup\":\"d\\u00e9put\\u00e9\",\"line\":{\"color\":\"#FF97FF\",\"dash\":\"solid\"},\"marker\":{\"symbol\":\"circle\"},\"mode\":\"markers+lines\",\"name\":\"d\\u00e9put\\u00e9\",\"showlegend\":false,\"x\":[\"2010-02-01\",\"2010-09-01\",\"2012-07-01\",\"2013-12-01\",\"2015-10-01\",\"2017-09-01\",\"2019-06-01\",\"2020-08-01\"],\"xaxis\":\"x\",\"y\":[184.0,213.0,81.0,90.0,16.0,14.0,73.0,17.0],\"yaxis\":\"y\",\"type\":\"scattergl\"},{\"hovertemplate\":\"term=d\\u00e9veloppement<br>origin=facebook<br>start_segment=%{x}<br>rank=%{y}<extra></extra>\",\"legendgroup\":\"d\\u00e9veloppement\",\"line\":{\"color\":\"#FECB52\",\"dash\":\"solid\"},\"marker\":{\"symbol\":\"circle\"},\"mode\":\"markers+lines\",\"name\":\"d\\u00e9veloppement\",\"showlegend\":true,\"x\":[\"2011-11-16\",\"2012-02-01\",\"2012-07-01\",\"2012-12-01\",\"2014-03-01\",\"2015-03-01\",\"2015-12-01\",\"2016-10-01\",\"2018-05-01\",\"2019-06-01\",\"2020-08-01\",\"2021-04-01\",\"2021-12-01\"],\"xaxis\":\"x3\",\"y\":[22.0,13.0,17.0,19.0,21.0,26.0,35.0,34.0,55.0,45.0,40.0,38.0,43.0],\"yaxis\":\"y3\",\"type\":\"scattergl\"},{\"hovertemplate\":\"term=d\\u00e9veloppement<br>origin=media<br>start_segment=%{x}<br>rank=%{y}<extra></extra>\",\"legendgroup\":\"d\\u00e9veloppement\",\"line\":{\"color\":\"#FECB52\",\"dash\":\"solid\"},\"marker\":{\"symbol\":\"circle\"},\"mode\":\"markers+lines\",\"name\":\"d\\u00e9veloppement\",\"showlegend\":false,\"x\":[\"2010-09-16\",\"2011-01-19\",\"2011-03-31\",\"2011-11-03\",\"2012-11-14\",\"2013-01-07\",\"2014-07-01\",\"2015-09-01\",\"2018-04-01\",\"2019-08-01\",\"2021-08-01\"],\"xaxis\":\"x2\",\"y\":[2.0,15.0,37.0,22.0,55.0,23.0,25.0,29.0,43.0,33.0,35.0],\"yaxis\":\"y2\",\"type\":\"scattergl\"},{\"hovertemplate\":\"term=eau<br>origin=facebook<br>start_segment=%{x}<br>rank=%{y}<extra></extra>\",\"legendgroup\":\"eau\",\"line\":{\"color\":\"#636efa\",\"dash\":\"solid\"},\"marker\":{\"symbol\":\"circle\"},\"mode\":\"markers+lines\",\"name\":\"eau\",\"showlegend\":true,\"x\":[\"2011-11-16\",\"2012-02-01\",\"2012-07-01\",\"2012-12-01\",\"2014-03-01\",\"2015-03-01\",\"2015-12-01\",\"2016-10-01\",\"2018-05-01\",\"2019-06-01\",\"2020-08-01\",\"2021-04-01\",\"2021-12-01\"],\"xaxis\":\"x3\",\"y\":[11.0,17.0,56.0,41.0,27.0,25.0,40.0,44.0,54.0,21.0,25.0,17.0,26.0],\"yaxis\":\"y3\",\"type\":\"scattergl\"},{\"hovertemplate\":\"term=eau<br>origin=media<br>start_segment=%{x}<br>rank=%{y}<extra></extra>\",\"legendgroup\":\"eau\",\"line\":{\"color\":\"#636efa\",\"dash\":\"solid\"},\"marker\":{\"symbol\":\"circle\"},\"mode\":\"markers+lines\",\"name\":\"eau\",\"showlegend\":false,\"x\":[\"2010-09-16\",\"2011-01-19\",\"2011-03-31\",\"2011-11-03\",\"2012-11-14\",\"2013-01-07\",\"2014-07-01\",\"2015-09-01\",\"2018-04-01\",\"2019-08-01\",\"2021-08-01\"],\"xaxis\":\"x2\",\"y\":[22.0,46.0,36.0,210.0,54.0,26.0,22.0,58.0,53.0,41.0,61.0],\"yaxis\":\"y2\",\"type\":\"scattergl\"},{\"hovertemplate\":\"term=eau<br>origin=twitter<br>start_segment=%{x}<br>rank=%{y}<extra></extra>\",\"legendgroup\":\"eau\",\"line\":{\"color\":\"#636efa\",\"dash\":\"solid\"},\"marker\":{\"symbol\":\"circle\"},\"mode\":\"markers+lines\",\"name\":\"eau\",\"showlegend\":false,\"x\":[\"2010-02-01\",\"2010-09-01\",\"2012-07-01\",\"2013-12-01\",\"2015-10-01\",\"2017-09-01\",\"2019-06-01\",\"2020-08-01\"],\"xaxis\":\"x\",\"y\":[36.0,16.0,7.0,13.0,51.0,72.0,49.0,44.0],\"yaxis\":\"y\",\"type\":\"scattergl\"},{\"hovertemplate\":\"term=effet<br>origin=facebook<br>start_segment=%{x}<br>rank=%{y}<extra></extra>\",\"legendgroup\":\"effet\",\"line\":{\"color\":\"#EF553B\",\"dash\":\"solid\"},\"marker\":{\"symbol\":\"circle\"},\"mode\":\"markers+lines\",\"name\":\"effet\",\"showlegend\":true,\"x\":[\"2011-11-16\",\"2012-02-01\",\"2012-07-01\",\"2012-12-01\",\"2014-03-01\",\"2015-03-01\",\"2015-12-01\",\"2016-10-01\",\"2018-05-01\",\"2019-06-01\",\"2020-08-01\",\"2021-04-01\",\"2021-12-01\"],\"xaxis\":\"x3\",\"y\":[13.0,26.0,13.0,9.0,10.0,13.0,14.0,15.0,25.0,11.0,14.0,14.0,12.0],\"yaxis\":\"y3\",\"type\":\"scattergl\"},{\"hovertemplate\":\"term=effet<br>origin=media<br>start_segment=%{x}<br>rank=%{y}<extra></extra>\",\"legendgroup\":\"effet\",\"line\":{\"color\":\"#EF553B\",\"dash\":\"solid\"},\"marker\":{\"symbol\":\"circle\"},\"mode\":\"markers+lines\",\"name\":\"effet\",\"showlegend\":false,\"x\":[\"2010-09-16\",\"2011-01-19\",\"2011-03-31\",\"2011-09-08\",\"2011-11-03\",\"2012-11-14\",\"2013-01-07\",\"2014-07-01\",\"2015-09-01\",\"2018-04-01\",\"2019-08-01\",\"2021-08-01\"],\"xaxis\":\"x2\",\"y\":[23.0,4.0,27.0,15.0,12.0,8.0,9.0,8.0,13.0,11.0,6.0,5.0],\"yaxis\":\"y2\",\"type\":\"scattergl\"},{\"hovertemplate\":\"term=effet<br>origin=twitter<br>start_segment=%{x}<br>rank=%{y}<extra></extra>\",\"legendgroup\":\"effet\",\"line\":{\"color\":\"#EF553B\",\"dash\":\"solid\"},\"marker\":{\"symbol\":\"circle\"},\"mode\":\"markers+lines\",\"name\":\"effet\",\"showlegend\":false,\"x\":[\"2010-02-01\",\"2010-09-01\",\"2012-07-01\",\"2013-12-01\",\"2015-10-01\",\"2017-09-01\",\"2019-06-01\",\"2020-08-01\"],\"xaxis\":\"x\",\"y\":[30.0,31.0,17.0,42.0,54.0,29.0,22.0,21.0],\"yaxis\":\"y\",\"type\":\"scattergl\"},{\"hovertemplate\":\"term=glyphosate<br>origin=facebook<br>start_segment=%{x}<br>rank=%{y}<extra></extra>\",\"legendgroup\":\"glyphosate\",\"line\":{\"color\":\"#00cc96\",\"dash\":\"solid\"},\"marker\":{\"symbol\":\"circle\"},\"mode\":\"markers+lines\",\"name\":\"glyphosate\",\"showlegend\":true,\"x\":[\"2011-11-16\",\"2012-02-01\",\"2012-07-01\",\"2012-12-01\",\"2014-03-01\",\"2015-03-01\",\"2015-12-01\",\"2016-10-01\",\"2018-05-01\",\"2019-06-01\",\"2020-08-01\",\"2021-04-01\",\"2021-12-01\"],\"xaxis\":\"x3\",\"y\":[89.0,136.0,95.0,86.0,69.0,7.0,3.0,2.0,2.0,2.0,5.0,9.0,9.0],\"yaxis\":\"y3\",\"type\":\"scattergl\"},{\"hovertemplate\":\"term=glyphosate<br>origin=media<br>start_segment=%{x}<br>rank=%{y}<extra></extra>\",\"legendgroup\":\"glyphosate\",\"line\":{\"color\":\"#00cc96\",\"dash\":\"solid\"},\"marker\":{\"symbol\":\"circle\"},\"mode\":\"markers+lines\",\"name\":\"glyphosate\",\"showlegend\":false,\"x\":[\"2011-03-31\",\"2011-09-08\",\"2011-11-03\",\"2012-11-14\",\"2013-01-07\",\"2014-07-01\",\"2015-09-01\",\"2018-04-01\",\"2019-08-01\",\"2021-08-01\"],\"xaxis\":\"x2\",\"y\":[13.0,1.0,8.0,10.0,150.0,28.0,2.0,2.0,11.0,25.0],\"yaxis\":\"y2\",\"type\":\"scattergl\"},{\"hovertemplate\":\"term=glyphosate<br>origin=twitter<br>start_segment=%{x}<br>rank=%{y}<extra></extra>\",\"legendgroup\":\"glyphosate\",\"line\":{\"color\":\"#00cc96\",\"dash\":\"solid\"},\"marker\":{\"symbol\":\"circle\"},\"mode\":\"markers+lines\",\"name\":\"glyphosate\",\"showlegend\":false,\"x\":[\"2010-02-01\",\"2010-09-01\",\"2012-07-01\",\"2013-12-01\",\"2015-10-01\",\"2017-09-01\",\"2019-06-01\",\"2020-08-01\"],\"xaxis\":\"x\",\"y\":[38.0,47.0,57.0,11.0,2.0,1.0,2.0,2.0],\"yaxis\":\"y\",\"type\":\"scattergl\"},{\"hovertemplate\":\"term=herbicide<br>origin=facebook<br>start_segment=%{x}<br>rank=%{y}<extra></extra>\",\"legendgroup\":\"herbicide\",\"line\":{\"color\":\"#ab63fa\",\"dash\":\"solid\"},\"marker\":{\"symbol\":\"circle\"},\"mode\":\"markers+lines\",\"name\":\"herbicide\",\"showlegend\":true,\"x\":[\"2011-11-16\",\"2012-02-01\",\"2012-07-01\",\"2012-12-01\",\"2014-03-01\",\"2015-03-01\",\"2015-12-01\",\"2016-10-01\",\"2018-05-01\",\"2019-06-01\",\"2020-08-01\",\"2021-04-01\",\"2021-12-01\"],\"xaxis\":\"x3\",\"y\":[7.0,25.0,16.0,26.0,33.0,16.0,22.0,10.0,21.0,26.0,33.0,27.0,15.0],\"yaxis\":\"y3\",\"type\":\"scattergl\"},{\"hovertemplate\":\"term=herbicide<br>origin=media<br>start_segment=%{x}<br>rank=%{y}<extra></extra>\",\"legendgroup\":\"herbicide\",\"line\":{\"color\":\"#ab63fa\",\"dash\":\"solid\"},\"marker\":{\"symbol\":\"circle\"},\"mode\":\"markers+lines\",\"name\":\"herbicide\",\"showlegend\":false,\"x\":[\"2010-09-16\",\"2011-01-19\",\"2011-09-08\",\"2011-11-03\",\"2012-11-14\",\"2013-01-07\",\"2014-07-01\",\"2015-09-01\",\"2018-04-01\",\"2019-08-01\",\"2021-08-01\"],\"xaxis\":\"x2\",\"y\":[63.0,80.0,3.0,17.0,29.0,56.0,55.0,50.0,55.0,97.0,91.0],\"yaxis\":\"y2\",\"type\":\"scattergl\"},{\"hovertemplate\":\"term=herbicide<br>origin=twitter<br>start_segment=%{x}<br>rank=%{y}<extra></extra>\",\"legendgroup\":\"herbicide\",\"line\":{\"color\":\"#ab63fa\",\"dash\":\"solid\"},\"marker\":{\"symbol\":\"circle\"},\"mode\":\"markers+lines\",\"name\":\"herbicide\",\"showlegend\":false,\"x\":[\"2010-02-01\",\"2010-09-01\",\"2012-07-01\",\"2013-12-01\",\"2015-10-01\",\"2017-09-01\",\"2019-06-01\",\"2020-08-01\"],\"xaxis\":\"x\",\"y\":[5.0,10.0,9.0,6.0,15.0,17.0,13.0,16.0],\"yaxis\":\"y\",\"type\":\"scattergl\"},{\"hovertemplate\":\"term=insectes<br>origin=facebook<br>start_segment=%{x}<br>rank=%{y}<extra></extra>\",\"legendgroup\":\"insectes\",\"line\":{\"color\":\"#FFA15A\",\"dash\":\"solid\"},\"marker\":{\"symbol\":\"circle\"},\"mode\":\"markers+lines\",\"name\":\"insectes\",\"showlegend\":true,\"x\":[\"2011-11-16\",\"2012-02-01\",\"2012-07-01\",\"2012-12-01\",\"2014-03-01\",\"2015-03-01\",\"2015-12-01\",\"2016-10-01\",\"2018-05-01\",\"2019-06-01\",\"2020-08-01\",\"2021-04-01\",\"2021-12-01\"],\"xaxis\":\"x3\",\"y\":[45.0,56.0,53.0,46.0,29.0,34.0,45.0,52.0,31.0,25.0,20.0,15.0,28.0],\"yaxis\":\"y3\",\"type\":\"scattergl\"},{\"hovertemplate\":\"term=insectes<br>origin=twitter<br>start_segment=%{x}<br>rank=%{y}<extra></extra>\",\"legendgroup\":\"insectes\",\"line\":{\"color\":\"#FFA15A\",\"dash\":\"solid\"},\"marker\":{\"symbol\":\"circle\"},\"mode\":\"markers+lines\",\"name\":\"insectes\",\"showlegend\":false,\"x\":[\"2010-02-01\",\"2010-09-01\",\"2012-07-01\",\"2013-12-01\",\"2015-10-01\",\"2017-09-01\",\"2019-06-01\",\"2020-08-01\"],\"xaxis\":\"x\",\"y\":[20.0,30.0,51.0,55.0,61.0,41.0,32.0,25.0],\"yaxis\":\"y\",\"type\":\"scattergl\"},{\"hovertemplate\":\"term=loi<br>origin=facebook<br>start_segment=%{x}<br>rank=%{y}<extra></extra>\",\"legendgroup\":\"loi\",\"line\":{\"color\":\"#19d3f3\",\"dash\":\"solid\"},\"marker\":{\"symbol\":\"circle\"},\"mode\":\"markers+lines\",\"name\":\"loi\",\"showlegend\":true,\"x\":[\"2011-11-16\",\"2012-02-01\",\"2012-07-01\",\"2012-12-01\",\"2014-03-01\",\"2015-03-01\",\"2015-12-01\",\"2016-10-01\",\"2018-05-01\",\"2019-06-01\",\"2020-08-01\",\"2021-04-01\",\"2021-12-01\"],\"xaxis\":\"x3\",\"y\":[103.0,50.0,31.0,30.0,36.0,50.0,8.0,32.0,6.0,34.0,7.0,37.0,40.0],\"yaxis\":\"y3\",\"type\":\"scattergl\"},{\"hovertemplate\":\"term=loi<br>origin=media<br>start_segment=%{x}<br>rank=%{y}<extra></extra>\",\"legendgroup\":\"loi\",\"line\":{\"color\":\"#19d3f3\",\"dash\":\"solid\"},\"marker\":{\"symbol\":\"circle\"},\"mode\":\"markers+lines\",\"name\":\"loi\",\"showlegend\":false,\"x\":[\"2011-01-19\",\"2011-11-03\",\"2013-01-07\",\"2014-07-01\",\"2015-09-01\",\"2018-04-01\",\"2019-08-01\",\"2021-08-01\"],\"xaxis\":\"x2\",\"y\":[37.0,68.0,30.0,23.0,18.0,9.0,7.0,34.0],\"yaxis\":\"y2\",\"type\":\"scattergl\"},{\"hovertemplate\":\"term=loi<br>origin=twitter<br>start_segment=%{x}<br>rank=%{y}<extra></extra>\",\"legendgroup\":\"loi\",\"line\":{\"color\":\"#19d3f3\",\"dash\":\"solid\"},\"marker\":{\"symbol\":\"circle\"},\"mode\":\"markers+lines\",\"name\":\"loi\",\"showlegend\":false,\"x\":[\"2010-02-01\",\"2010-09-01\",\"2012-07-01\",\"2013-12-01\",\"2015-10-01\",\"2017-09-01\",\"2019-06-01\",\"2020-08-01\"],\"xaxis\":\"x\",\"y\":[66.0,114.0,61.0,39.0,23.0,11.0,41.0,13.0],\"yaxis\":\"y\",\"type\":\"scattergl\"},{\"hovertemplate\":\"term=macron<br>origin=facebook<br>start_segment=%{x}<br>rank=%{y}<extra></extra>\",\"legendgroup\":\"macron\",\"line\":{\"color\":\"#FF6692\",\"dash\":\"solid\"},\"marker\":{\"symbol\":\"circle\"},\"mode\":\"markers+lines\",\"name\":\"macron\",\"showlegend\":true,\"x\":[\"2015-03-01\",\"2015-12-01\",\"2016-10-01\",\"2018-05-01\",\"2019-06-01\",\"2020-08-01\",\"2021-04-01\",\"2021-12-01\"],\"xaxis\":\"x3\",\"y\":[337.0,361.0,88.0,10.0,64.0,51.0,88.0,53.0],\"yaxis\":\"y3\",\"type\":\"scattergl\"},{\"hovertemplate\":\"term=macron<br>origin=media<br>start_segment=%{x}<br>rank=%{y}<extra></extra>\",\"legendgroup\":\"macron\",\"line\":{\"color\":\"#FF6692\",\"dash\":\"solid\"},\"marker\":{\"symbol\":\"circle\"},\"mode\":\"markers+lines\",\"name\":\"macron\",\"showlegend\":false,\"x\":[\"2011-11-03\",\"2012-11-14\",\"2013-01-07\",\"2014-07-01\",\"2015-09-01\",\"2018-04-01\",\"2019-08-01\",\"2021-08-01\"],\"xaxis\":\"x2\",\"y\":[124.0,18.0,259.0,234.0,21.0,7.0,23.0,16.0],\"yaxis\":\"y2\",\"type\":\"scattergl\"},{\"hovertemplate\":\"term=macron<br>origin=twitter<br>start_segment=%{x}<br>rank=%{y}<extra></extra>\",\"legendgroup\":\"macron\",\"line\":{\"color\":\"#FF6692\",\"dash\":\"solid\"},\"marker\":{\"symbol\":\"circle\"},\"mode\":\"markers+lines\",\"name\":\"macron\",\"showlegend\":false,\"x\":[\"2013-12-01\",\"2015-10-01\",\"2017-09-01\",\"2019-06-01\",\"2020-08-01\"],\"xaxis\":\"x\",\"y\":[308.0,86.0,8.0,26.0,29.0],\"yaxis\":\"y\",\"type\":\"scattergl\"},{\"hovertemplate\":\"term=maladie<br>origin=facebook<br>start_segment=%{x}<br>rank=%{y}<extra></extra>\",\"legendgroup\":\"maladie\",\"line\":{\"color\":\"#B6E880\",\"dash\":\"solid\"},\"marker\":{\"symbol\":\"circle\"},\"mode\":\"markers+lines\",\"name\":\"maladie\",\"showlegend\":true,\"x\":[\"2011-11-16\",\"2012-02-01\",\"2012-07-01\",\"2012-12-01\",\"2014-03-01\",\"2015-03-01\",\"2015-12-01\",\"2016-10-01\",\"2018-05-01\",\"2019-06-01\",\"2020-08-01\",\"2021-04-01\",\"2021-12-01\"],\"xaxis\":\"x3\",\"y\":[17.0,7.0,14.0,12.0,12.0,14.0,16.0,11.0,23.0,12.0,12.0,5.0,7.0],\"yaxis\":\"y3\",\"type\":\"scattergl\"},{\"hovertemplate\":\"term=maladie<br>origin=media<br>start_segment=%{x}<br>rank=%{y}<extra></extra>\",\"legendgroup\":\"maladie\",\"line\":{\"color\":\"#B6E880\",\"dash\":\"solid\"},\"marker\":{\"symbol\":\"circle\"},\"mode\":\"markers+lines\",\"name\":\"maladie\",\"showlegend\":false,\"x\":[\"2010-09-16\",\"2011-03-31\",\"2011-11-03\",\"2012-11-14\",\"2013-01-07\",\"2014-07-01\",\"2015-09-01\",\"2018-04-01\",\"2019-08-01\",\"2021-08-01\"],\"xaxis\":\"x2\",\"y\":[36.0,2.0,4.0,9.0,5.0,11.0,20.0,26.0,16.0,7.0],\"yaxis\":\"y2\",\"type\":\"scattergl\"},{\"hovertemplate\":\"term=maladie<br>origin=twitter<br>start_segment=%{x}<br>rank=%{y}<extra></extra>\",\"legendgroup\":\"maladie\",\"line\":{\"color\":\"#B6E880\",\"dash\":\"solid\"},\"marker\":{\"symbol\":\"circle\"},\"mode\":\"markers+lines\",\"name\":\"maladie\",\"showlegend\":false,\"x\":[\"2010-02-01\",\"2010-09-01\",\"2012-07-01\",\"2013-12-01\",\"2015-10-01\",\"2017-09-01\",\"2019-06-01\",\"2020-08-01\"],\"xaxis\":\"x\",\"y\":[23.0,8.0,19.0,18.0,39.0,39.0,33.0,26.0],\"yaxis\":\"y\",\"type\":\"scattergl\"},{\"hovertemplate\":\"term=ma\\u00efs<br>origin=facebook<br>start_segment=%{x}<br>rank=%{y}<extra></extra>\",\"legendgroup\":\"ma\\u00efs\",\"line\":{\"color\":\"#FF97FF\",\"dash\":\"solid\"},\"marker\":{\"symbol\":\"circle\"},\"mode\":\"markers+lines\",\"name\":\"ma\\u00efs\",\"showlegend\":true,\"x\":[\"2011-11-16\",\"2012-02-01\",\"2012-07-01\",\"2012-12-01\",\"2014-03-01\",\"2015-03-01\",\"2015-12-01\",\"2016-10-01\",\"2018-05-01\",\"2019-06-01\",\"2020-08-01\",\"2021-04-01\",\"2021-12-01\"],\"xaxis\":\"x3\",\"y\":[44.0,41.0,8.0,40.0,41.0,93.0,92.0,115.0,146.0,116.0,55.0,13.0,35.0],\"yaxis\":\"y3\",\"type\":\"scattergl\"},{\"hovertemplate\":\"term=ma\\u00efs<br>origin=media<br>start_segment=%{x}<br>rank=%{y}<extra></extra>\",\"legendgroup\":\"ma\\u00efs\",\"line\":{\"color\":\"#FF97FF\",\"dash\":\"solid\"},\"marker\":{\"symbol\":\"circle\"},\"mode\":\"markers+lines\",\"name\":\"ma\\u00efs\",\"showlegend\":false,\"x\":[\"2010-09-16\",\"2011-03-31\",\"2011-09-08\",\"2011-11-03\",\"2012-11-14\",\"2013-01-07\",\"2014-07-01\",\"2015-09-01\",\"2018-04-01\",\"2019-08-01\",\"2021-08-01\"],\"xaxis\":\"x2\",\"y\":[85.0,56.0,37.0,16.0,26.0,7.0,122.0,121.0,125.0,134.0,178.0],\"yaxis\":\"y2\",\"type\":\"scattergl\"},{\"hovertemplate\":\"term=monde<br>origin=facebook<br>start_segment=%{x}<br>rank=%{y}<extra></extra>\",\"legendgroup\":\"monde\",\"line\":{\"color\":\"#FECB52\",\"dash\":\"solid\"},\"marker\":{\"symbol\":\"circle\"},\"mode\":\"markers+lines\",\"name\":\"monde\",\"showlegend\":true,\"x\":[\"2011-11-16\",\"2012-02-01\",\"2012-07-01\",\"2012-12-01\",\"2014-03-01\",\"2015-03-01\",\"2015-12-01\",\"2016-10-01\",\"2018-05-01\",\"2019-06-01\",\"2020-08-01\",\"2021-04-01\",\"2021-12-01\"],\"xaxis\":\"x3\",\"y\":[8.0,6.0,6.0,6.0,5.0,6.0,5.0,5.0,5.0,4.0,9.0,8.0,10.0],\"yaxis\":\"y3\",\"type\":\"scattergl\"},{\"hovertemplate\":\"term=monde<br>origin=media<br>start_segment=%{x}<br>rank=%{y}<extra></extra>\",\"legendgroup\":\"monde\",\"line\":{\"color\":\"#FECB52\",\"dash\":\"solid\"},\"marker\":{\"symbol\":\"circle\"},\"mode\":\"markers+lines\",\"name\":\"monde\",\"showlegend\":false,\"x\":[\"2010-09-16\",\"2011-01-19\",\"2011-03-31\",\"2011-09-08\",\"2011-11-03\",\"2012-11-14\",\"2013-01-07\",\"2014-07-01\",\"2015-09-01\",\"2018-04-01\",\"2019-08-01\",\"2021-08-01\"],\"xaxis\":\"x2\",\"y\":[13.0,2.0,23.0,12.0,6.0,13.0,15.0,4.0,5.0,6.0,2.0,8.0],\"yaxis\":\"y2\",\"type\":\"scattergl\"},{\"hovertemplate\":\"term=monde<br>origin=twitter<br>start_segment=%{x}<br>rank=%{y}<extra></extra>\",\"legendgroup\":\"monde\",\"line\":{\"color\":\"#FECB52\",\"dash\":\"solid\"},\"marker\":{\"symbol\":\"circle\"},\"mode\":\"markers+lines\",\"name\":\"monde\",\"showlegend\":false,\"x\":[\"2010-02-01\",\"2010-09-01\",\"2012-07-01\",\"2013-12-01\",\"2015-10-01\",\"2017-09-01\",\"2019-06-01\",\"2020-08-01\"],\"xaxis\":\"x\",\"y\":[28.0,17.0,15.0,20.0,27.0,16.0,10.0,14.0],\"yaxis\":\"y\",\"type\":\"scattergl\"},{\"hovertemplate\":\"term=monsanto<br>origin=facebook<br>start_segment=%{x}<br>rank=%{y}<extra></extra>\",\"legendgroup\":\"monsanto\",\"line\":{\"color\":\"#636efa\",\"dash\":\"solid\"},\"marker\":{\"symbol\":\"circle\"},\"mode\":\"markers+lines\",\"name\":\"monsanto\",\"showlegend\":true,\"x\":[\"2011-11-16\",\"2012-02-01\",\"2012-07-01\",\"2012-12-01\",\"2014-03-01\",\"2015-03-01\",\"2015-12-01\",\"2016-10-01\",\"2018-05-01\",\"2019-06-01\",\"2020-08-01\",\"2021-04-01\",\"2021-12-01\"],\"xaxis\":\"x3\",\"y\":[3.0,3.0,5.0,2.0,6.0,2.0,4.0,4.0,3.0,37.0,64.0,82.0,149.0],\"yaxis\":\"y3\",\"type\":\"scattergl\"},{\"hovertemplate\":\"term=monsanto<br>origin=media<br>start_segment=%{x}<br>rank=%{y}<extra></extra>\",\"legendgroup\":\"monsanto\",\"line\":{\"color\":\"#636efa\",\"dash\":\"solid\"},\"marker\":{\"symbol\":\"circle\"},\"mode\":\"markers+lines\",\"name\":\"monsanto\",\"showlegend\":false,\"x\":[\"2010-09-16\",\"2011-01-19\",\"2011-09-08\",\"2011-11-03\",\"2013-01-07\",\"2014-07-01\",\"2015-09-01\",\"2018-04-01\",\"2019-08-01\",\"2021-08-01\"],\"xaxis\":\"x2\",\"y\":[52.0,43.0,10.0,3.0,22.0,13.0,8.0,3.0,83.0,117.0],\"yaxis\":\"y2\",\"type\":\"scattergl\"},{\"hovertemplate\":\"term=monsanto<br>origin=twitter<br>start_segment=%{x}<br>rank=%{y}<extra></extra>\",\"legendgroup\":\"monsanto\",\"line\":{\"color\":\"#636efa\",\"dash\":\"solid\"},\"marker\":{\"symbol\":\"circle\"},\"mode\":\"markers+lines\",\"name\":\"monsanto\",\"showlegend\":false,\"x\":[\"2010-02-01\",\"2010-09-01\",\"2012-07-01\",\"2013-12-01\",\"2015-10-01\",\"2017-09-01\",\"2019-06-01\",\"2020-08-01\"],\"xaxis\":\"x\",\"y\":[16.0,6.0,8.0,4.0,6.0,3.0,16.0,34.0],\"yaxis\":\"y\",\"type\":\"scattergl\"},{\"hovertemplate\":\"term=nature<br>origin=facebook<br>start_segment=%{x}<br>rank=%{y}<extra></extra>\",\"legendgroup\":\"nature\",\"line\":{\"color\":\"#EF553B\",\"dash\":\"solid\"},\"marker\":{\"symbol\":\"circle\"},\"mode\":\"markers+lines\",\"name\":\"nature\",\"showlegend\":true,\"x\":[\"2011-11-16\",\"2012-02-01\",\"2012-07-01\",\"2012-12-01\",\"2014-03-01\",\"2015-03-01\",\"2015-12-01\",\"2016-10-01\",\"2018-05-01\",\"2019-06-01\",\"2020-08-01\",\"2021-04-01\",\"2021-12-01\"],\"xaxis\":\"x3\",\"y\":[20.0,18.0,27.0,24.0,28.0,20.0,17.0,14.0,22.0,10.0,19.0,18.0,23.0],\"yaxis\":\"y3\",\"type\":\"scattergl\"},{\"hovertemplate\":\"term=nature<br>origin=media<br>start_segment=%{x}<br>rank=%{y}<extra></extra>\",\"legendgroup\":\"nature\",\"line\":{\"color\":\"#EF553B\",\"dash\":\"solid\"},\"marker\":{\"symbol\":\"circle\"},\"mode\":\"markers+lines\",\"name\":\"nature\",\"showlegend\":false,\"x\":[\"2011-01-19\",\"2011-03-31\",\"2011-11-03\",\"2012-11-14\",\"2013-01-07\",\"2014-07-01\",\"2015-09-01\",\"2018-04-01\",\"2019-08-01\",\"2021-08-01\"],\"xaxis\":\"x2\",\"y\":[47.0,24.0,92.0,50.0,19.0,9.0,35.0,29.0,19.0,9.0],\"yaxis\":\"y2\",\"type\":\"scattergl\"},{\"hovertemplate\":\"term=n\\u00e9onicotino\\u00efdes<br>origin=facebook<br>start_segment=%{x}<br>rank=%{y}<extra></extra>\",\"legendgroup\":\"n\\u00e9onicotino\\u00efdes\",\"line\":{\"color\":\"#00cc96\",\"dash\":\"solid\"},\"marker\":{\"symbol\":\"circle\"},\"mode\":\"markers+lines\",\"name\":\"n\\u00e9onicotino\\u00efdes\",\"showlegend\":true,\"x\":[\"2012-02-01\",\"2012-07-01\",\"2012-12-01\",\"2014-03-01\",\"2015-03-01\",\"2015-12-01\",\"2016-10-01\",\"2018-05-01\",\"2019-06-01\",\"2020-08-01\",\"2021-04-01\",\"2021-12-01\"],\"xaxis\":\"x3\",\"y\":[101.0,106.0,49.0,17.0,18.0,6.0,18.0,63.0,119.0,2.0,70.0,27.0],\"yaxis\":\"y3\",\"type\":\"scattergl\"},{\"hovertemplate\":\"term=n\\u00e9onicotino\\u00efdes<br>origin=media<br>start_segment=%{x}<br>rank=%{y}<extra></extra>\",\"legendgroup\":\"n\\u00e9onicotino\\u00efdes\",\"line\":{\"color\":\"#00cc96\",\"dash\":\"solid\"},\"marker\":{\"symbol\":\"circle\"},\"mode\":\"markers+lines\",\"name\":\"n\\u00e9onicotino\\u00efdes\",\"showlegend\":false,\"x\":[\"2011-11-03\",\"2013-01-07\",\"2014-07-01\",\"2015-09-01\",\"2018-04-01\",\"2019-08-01\",\"2021-08-01\"],\"xaxis\":\"x2\",\"y\":[231.0,71.0,68.0,46.0,83.0,14.0,154.0],\"yaxis\":\"y2\",\"type\":\"scattergl\"},{\"hovertemplate\":\"term=n\\u00e9onicotino\\u00efdes<br>origin=twitter<br>start_segment=%{x}<br>rank=%{y}<extra></extra>\",\"legendgroup\":\"n\\u00e9onicotino\\u00efdes\",\"line\":{\"color\":\"#00cc96\",\"dash\":\"solid\"},\"marker\":{\"symbol\":\"circle\"},\"mode\":\"markers+lines\",\"name\":\"n\\u00e9onicotino\\u00efdes\",\"showlegend\":false,\"x\":[\"2010-09-01\",\"2012-07-01\",\"2013-12-01\",\"2015-10-01\",\"2017-09-01\",\"2019-06-01\",\"2020-08-01\"],\"xaxis\":\"x\",\"y\":[82.0,6.0,5.0,3.0,10.0,39.0,3.0],\"yaxis\":\"y\",\"type\":\"scattergl\"},{\"hovertemplate\":\"term=ogm<br>origin=facebook<br>start_segment=%{x}<br>rank=%{y}<extra></extra>\",\"legendgroup\":\"ogm\",\"line\":{\"color\":\"#ab63fa\",\"dash\":\"solid\"},\"marker\":{\"symbol\":\"circle\"},\"mode\":\"markers+lines\",\"name\":\"ogm\",\"showlegend\":true,\"x\":[\"2011-11-16\",\"2012-02-01\",\"2012-07-01\",\"2012-12-01\",\"2014-03-01\",\"2015-03-01\",\"2015-12-01\",\"2016-10-01\",\"2018-05-01\",\"2019-06-01\",\"2020-08-01\",\"2021-04-01\",\"2021-12-01\"],\"xaxis\":\"x3\",\"y\":[15.0,8.0,2.0,5.0,4.0,8.0,10.0,20.0,48.0,50.0,49.0,41.0,57.0],\"yaxis\":\"y3\",\"type\":\"scattergl\"},{\"hovertemplate\":\"term=ogm<br>origin=media<br>start_segment=%{x}<br>rank=%{y}<extra></extra>\",\"legendgroup\":\"ogm\",\"line\":{\"color\":\"#ab63fa\",\"dash\":\"solid\"},\"marker\":{\"symbol\":\"circle\"},\"mode\":\"markers+lines\",\"name\":\"ogm\",\"showlegend\":false,\"x\":[\"2010-09-16\",\"2011-01-19\",\"2011-11-03\",\"2012-11-14\",\"2013-01-07\",\"2014-07-01\",\"2015-09-01\",\"2018-04-01\",\"2019-08-01\",\"2021-08-01\"],\"xaxis\":\"x2\",\"y\":[8.0,65.0,2.0,1.0,6.0,56.0,72.0,81.0,92.0,139.0],\"yaxis\":\"y2\",\"type\":\"scattergl\"},{\"hovertemplate\":\"term=ogm<br>origin=twitter<br>start_segment=%{x}<br>rank=%{y}<extra></extra>\",\"legendgroup\":\"ogm\",\"line\":{\"color\":\"#ab63fa\",\"dash\":\"solid\"},\"marker\":{\"symbol\":\"circle\"},\"mode\":\"markers+lines\",\"name\":\"ogm\",\"showlegend\":false,\"x\":[\"2010-02-01\",\"2010-09-01\",\"2012-07-01\",\"2013-12-01\",\"2015-10-01\",\"2017-09-01\",\"2019-06-01\",\"2020-08-01\"],\"xaxis\":\"x\",\"y\":[9.0,9.0,4.0,8.0,11.0,22.0,8.0,9.0],\"yaxis\":\"y\",\"type\":\"scattergl\"},{\"hovertemplate\":\"term=paysan<br>origin=facebook<br>start_segment=%{x}<br>rank=%{y}<extra></extra>\",\"legendgroup\":\"paysan\",\"line\":{\"color\":\"#FFA15A\",\"dash\":\"solid\"},\"marker\":{\"symbol\":\"circle\"},\"mode\":\"markers+lines\",\"name\":\"paysan\",\"showlegend\":true,\"x\":[\"2011-11-16\",\"2012-02-01\",\"2012-07-01\",\"2012-12-01\",\"2014-03-01\",\"2015-03-01\",\"2015-12-01\",\"2016-10-01\",\"2018-05-01\",\"2019-06-01\",\"2020-08-01\",\"2021-04-01\",\"2021-12-01\"],\"xaxis\":\"x3\",\"y\":[50.0,11.0,20.0,47.0,58.0,48.0,57.0,62.0,68.0,63.0,67.0,52.0,52.0],\"yaxis\":\"y3\",\"type\":\"scattergl\"},{\"hovertemplate\":\"term=perte<br>origin=facebook<br>start_segment=%{x}<br>rank=%{y}<extra></extra>\",\"legendgroup\":\"perte\",\"line\":{\"color\":\"#19d3f3\",\"dash\":\"solid\"},\"marker\":{\"symbol\":\"circle\"},\"mode\":\"markers+lines\",\"name\":\"perte\",\"showlegend\":true,\"x\":[\"2011-11-16\",\"2012-02-01\",\"2012-07-01\",\"2012-12-01\",\"2014-03-01\",\"2015-03-01\",\"2015-12-01\",\"2016-10-01\",\"2018-05-01\",\"2019-06-01\",\"2020-08-01\",\"2021-04-01\",\"2021-12-01\"],\"xaxis\":\"x3\",\"y\":[150.0,125.0,124.0,140.0,71.0,100.0,131.0,124.0,107.0,104.0,80.0,92.0,11.0],\"yaxis\":\"y3\",\"type\":\"scattergl\"},{\"hovertemplate\":\"term=pesticides<br>origin=facebook<br>start_segment=%{x}<br>rank=%{y}<extra></extra>\",\"legendgroup\":\"pesticides\",\"line\":{\"color\":\"#FF6692\",\"dash\":\"solid\"},\"marker\":{\"symbol\":\"circle\"},\"mode\":\"markers+lines\",\"name\":\"pesticides\",\"showlegend\":true,\"x\":[\"2011-11-16\",\"2012-02-01\",\"2012-07-01\",\"2012-12-01\",\"2014-03-01\",\"2015-03-01\",\"2015-12-01\",\"2016-10-01\",\"2018-05-01\",\"2019-06-01\",\"2020-08-01\",\"2021-04-01\",\"2021-12-01\"],\"xaxis\":\"x3\",\"y\":[1.0,1.0,1.0,1.0,1.0,1.0,1.0,1.0,1.0,1.0,1.0,2.0,1.0],\"yaxis\":\"y3\",\"type\":\"scattergl\"},{\"hovertemplate\":\"term=pesticides<br>origin=media<br>start_segment=%{x}<br>rank=%{y}<extra></extra>\",\"legendgroup\":\"pesticides\",\"line\":{\"color\":\"#FF6692\",\"dash\":\"solid\"},\"marker\":{\"symbol\":\"circle\"},\"mode\":\"markers+lines\",\"name\":\"pesticides\",\"showlegend\":false,\"x\":[\"2010-09-16\",\"2011-01-19\",\"2011-03-31\",\"2011-09-08\",\"2011-11-03\",\"2012-11-14\",\"2013-01-07\",\"2014-07-01\",\"2015-09-01\",\"2018-04-01\",\"2019-08-01\",\"2021-08-01\"],\"xaxis\":\"x2\",\"y\":[1.0,13.0,4.0,2.0,1.0,3.0,1.0,1.0,1.0,1.0,1.0,1.0],\"yaxis\":\"y2\",\"type\":\"scattergl\"},{\"hovertemplate\":\"term=pesticides<br>origin=twitter<br>start_segment=%{x}<br>rank=%{y}<extra></extra>\",\"legendgroup\":\"pesticides\",\"line\":{\"color\":\"#FF6692\",\"dash\":\"solid\"},\"marker\":{\"symbol\":\"circle\"},\"mode\":\"markers+lines\",\"name\":\"pesticides\",\"showlegend\":false,\"x\":[\"2010-02-01\",\"2010-09-01\",\"2012-07-01\",\"2013-12-01\",\"2015-10-01\",\"2017-09-01\",\"2019-06-01\",\"2020-08-01\"],\"xaxis\":\"x\",\"y\":[1.0,1.0,1.0,1.0,1.0,2.0,1.0,1.0],\"yaxis\":\"y\",\"type\":\"scattergl\"},{\"hovertemplate\":\"term=plantes<br>origin=facebook<br>start_segment=%{x}<br>rank=%{y}<extra></extra>\",\"legendgroup\":\"plantes\",\"line\":{\"color\":\"#B6E880\",\"dash\":\"solid\"},\"marker\":{\"symbol\":\"circle\"},\"mode\":\"markers+lines\",\"name\":\"plantes\",\"showlegend\":true,\"x\":[\"2011-11-16\",\"2012-02-01\",\"2012-07-01\",\"2012-12-01\",\"2014-03-01\",\"2015-03-01\",\"2015-12-01\",\"2016-10-01\",\"2018-05-01\",\"2019-06-01\",\"2020-08-01\",\"2021-04-01\",\"2021-12-01\"],\"xaxis\":\"x3\",\"y\":[10.0,10.0,7.0,11.0,7.0,10.0,11.0,8.0,15.0,8.0,6.0,4.0,6.0],\"yaxis\":\"y3\",\"type\":\"scattergl\"},{\"hovertemplate\":\"term=plantes<br>origin=media<br>start_segment=%{x}<br>rank=%{y}<extra></extra>\",\"legendgroup\":\"plantes\",\"line\":{\"color\":\"#B6E880\",\"dash\":\"solid\"},\"marker\":{\"symbol\":\"circle\"},\"mode\":\"markers+lines\",\"name\":\"plantes\",\"showlegend\":false,\"x\":[\"2010-09-16\",\"2011-01-19\",\"2011-03-31\",\"2011-09-08\",\"2011-11-03\",\"2012-11-14\",\"2013-01-07\",\"2014-07-01\",\"2015-09-01\",\"2018-04-01\",\"2019-08-01\",\"2021-08-01\"],\"xaxis\":\"x2\",\"y\":[34.0,96.0,84.0,27.0,18.0,17.0,13.0,17.0,26.0,37.0,18.0,20.0],\"yaxis\":\"y2\",\"type\":\"scattergl\"},{\"hovertemplate\":\"term=plan\\u00e8te<br>origin=facebook<br>start_segment=%{x}<br>rank=%{y}<extra></extra>\",\"legendgroup\":\"plan\\u00e8te\",\"line\":{\"color\":\"#FF97FF\",\"dash\":\"solid\"},\"marker\":{\"symbol\":\"circle\"},\"mode\":\"markers+lines\",\"name\":\"plan\\u00e8te\",\"showlegend\":true,\"x\":[\"2011-11-16\",\"2012-02-01\",\"2012-07-01\",\"2012-12-01\",\"2014-03-01\",\"2015-03-01\",\"2015-12-01\",\"2016-10-01\",\"2018-05-01\",\"2019-06-01\",\"2020-08-01\",\"2021-04-01\",\"2021-12-01\"],\"xaxis\":\"x3\",\"y\":[19.0,53.0,65.0,101.0,62.0,72.0,68.0,70.0,40.0,48.0,78.0,76.0,46.0],\"yaxis\":\"y3\",\"type\":\"scattergl\"},{\"hovertemplate\":\"term=politique<br>origin=facebook<br>start_segment=%{x}<br>rank=%{y}<extra></extra>\",\"legendgroup\":\"politique\",\"line\":{\"color\":\"#FECB52\",\"dash\":\"solid\"},\"marker\":{\"symbol\":\"circle\"},\"mode\":\"markers+lines\",\"name\":\"politique\",\"showlegend\":true,\"x\":[\"2011-11-16\",\"2012-02-01\",\"2012-07-01\",\"2012-12-01\",\"2014-03-01\",\"2015-03-01\",\"2015-12-01\",\"2016-10-01\",\"2018-05-01\",\"2019-06-01\",\"2020-08-01\",\"2021-04-01\",\"2021-12-01\"],\"xaxis\":\"x3\",\"y\":[54.0,12.0,28.0,16.0,37.0,44.0,30.0,24.0,11.0,14.0,16.0,21.0,19.0],\"yaxis\":\"y3\",\"type\":\"scattergl\"},{\"hovertemplate\":\"term=politique<br>origin=media<br>start_segment=%{x}<br>rank=%{y}<extra></extra>\",\"legendgroup\":\"politique\",\"line\":{\"color\":\"#FECB52\",\"dash\":\"solid\"},\"marker\":{\"symbol\":\"circle\"},\"mode\":\"markers+lines\",\"name\":\"politique\",\"showlegend\":false,\"x\":[\"2010-09-16\",\"2011-01-19\",\"2011-03-31\",\"2011-11-03\",\"2012-11-14\",\"2013-01-07\",\"2014-07-01\",\"2015-09-01\",\"2018-04-01\",\"2019-08-01\",\"2021-08-01\"],\"xaxis\":\"x2\",\"y\":[16.0,6.0,82.0,28.0,91.0,21.0,29.0,9.0,5.0,5.0,4.0],\"yaxis\":\"y2\",\"type\":\"scattergl\"},{\"hovertemplate\":\"term=politique<br>origin=twitter<br>start_segment=%{x}<br>rank=%{y}<extra></extra>\",\"legendgroup\":\"politique\",\"line\":{\"color\":\"#FECB52\",\"dash\":\"solid\"},\"marker\":{\"symbol\":\"circle\"},\"mode\":\"markers+lines\",\"name\":\"politique\",\"showlegend\":false,\"x\":[\"2010-02-01\",\"2010-09-01\",\"2012-07-01\",\"2013-12-01\",\"2015-10-01\",\"2017-09-01\",\"2019-06-01\",\"2020-08-01\"],\"xaxis\":\"x\",\"y\":[48.0,102.0,122.0,83.0,67.0,23.0,23.0,24.0],\"yaxis\":\"y\",\"type\":\"scattergl\"},{\"hovertemplate\":\"term=pollution<br>origin=facebook<br>start_segment=%{x}<br>rank=%{y}<extra></extra>\",\"legendgroup\":\"pollution\",\"line\":{\"color\":\"#636efa\",\"dash\":\"solid\"},\"marker\":{\"symbol\":\"circle\"},\"mode\":\"markers+lines\",\"name\":\"pollution\",\"showlegend\":true,\"x\":[\"2011-11-16\",\"2012-02-01\",\"2012-07-01\",\"2012-12-01\",\"2014-03-01\",\"2015-03-01\",\"2015-12-01\",\"2016-10-01\",\"2018-05-01\",\"2019-06-01\",\"2020-08-01\",\"2021-04-01\",\"2021-12-01\"],\"xaxis\":\"x3\",\"y\":[16.0,20.0,55.0,29.0,31.0,52.0,54.0,58.0,52.0,28.0,45.0,36.0,49.0],\"yaxis\":\"y3\",\"type\":\"scattergl\"},{\"hovertemplate\":\"term=pollution<br>origin=media<br>start_segment=%{x}<br>rank=%{y}<extra></extra>\",\"legendgroup\":\"pollution\",\"line\":{\"color\":\"#636efa\",\"dash\":\"solid\"},\"marker\":{\"symbol\":\"circle\"},\"mode\":\"markers+lines\",\"name\":\"pollution\",\"showlegend\":false,\"x\":[\"2010-09-16\",\"2011-01-19\",\"2011-11-03\",\"2013-01-07\",\"2014-07-01\",\"2015-09-01\",\"2018-04-01\",\"2019-08-01\",\"2021-08-01\"],\"xaxis\":\"x2\",\"y\":[33.0,60.0,140.0,35.0,20.0,52.0,44.0,32.0,42.0],\"yaxis\":\"y2\",\"type\":\"scattergl\"},{\"hovertemplate\":\"term=pollution<br>origin=twitter<br>start_segment=%{x}<br>rank=%{y}<extra></extra>\",\"legendgroup\":\"pollution\",\"line\":{\"color\":\"#636efa\",\"dash\":\"solid\"},\"marker\":{\"symbol\":\"circle\"},\"mode\":\"markers+lines\",\"name\":\"pollution\",\"showlegend\":false,\"x\":[\"2010-02-01\",\"2010-09-01\",\"2012-07-01\",\"2013-12-01\",\"2015-10-01\",\"2017-09-01\",\"2019-06-01\",\"2020-08-01\"],\"xaxis\":\"x\",\"y\":[25.0,19.0,30.0,31.0,34.0,37.0,24.0,22.0],\"yaxis\":\"y\",\"type\":\"scattergl\"},{\"hovertemplate\":\"term=population<br>origin=facebook<br>start_segment=%{x}<br>rank=%{y}<extra></extra>\",\"legendgroup\":\"population\",\"line\":{\"color\":\"#EF553B\",\"dash\":\"solid\"},\"marker\":{\"symbol\":\"circle\"},\"mode\":\"markers+lines\",\"name\":\"population\",\"showlegend\":true,\"x\":[\"2011-11-16\",\"2012-02-01\",\"2012-07-01\",\"2012-12-01\",\"2014-03-01\",\"2015-03-01\",\"2015-12-01\",\"2016-10-01\",\"2018-05-01\",\"2019-06-01\",\"2020-08-01\",\"2021-04-01\",\"2021-12-01\"],\"xaxis\":\"x3\",\"y\":[24.0,33.0,24.0,23.0,25.0,35.0,44.0,38.0,36.0,17.0,21.0,20.0,29.0],\"yaxis\":\"y3\",\"type\":\"scattergl\"},{\"hovertemplate\":\"term=population<br>origin=media<br>start_segment=%{x}<br>rank=%{y}<extra></extra>\",\"legendgroup\":\"population\",\"line\":{\"color\":\"#EF553B\",\"dash\":\"solid\"},\"marker\":{\"symbol\":\"circle\"},\"mode\":\"markers+lines\",\"name\":\"population\",\"showlegend\":false,\"x\":[\"2011-01-19\",\"2011-03-31\",\"2011-09-08\",\"2011-11-03\",\"2012-11-14\",\"2013-01-07\",\"2014-07-01\",\"2015-09-01\",\"2018-04-01\",\"2019-08-01\",\"2021-08-01\"],\"xaxis\":\"x2\",\"y\":[59.0,46.0,16.0,34.0,90.0,27.0,15.0,24.0,35.0,13.0,6.0],\"yaxis\":\"y2\",\"type\":\"scattergl\"},{\"hovertemplate\":\"term=pratiques<br>origin=facebook<br>start_segment=%{x}<br>rank=%{y}<extra></extra>\",\"legendgroup\":\"pratiques\",\"line\":{\"color\":\"#00cc96\",\"dash\":\"solid\"},\"marker\":{\"symbol\":\"circle\"},\"mode\":\"markers+lines\",\"name\":\"pratiques\",\"showlegend\":true,\"x\":[\"2011-11-16\",\"2012-02-01\",\"2012-07-01\",\"2012-12-01\",\"2014-03-01\",\"2015-03-01\",\"2015-12-01\",\"2016-10-01\",\"2018-05-01\",\"2019-06-01\",\"2020-08-01\",\"2021-04-01\",\"2021-12-01\"],\"xaxis\":\"x3\",\"y\":[39.0,45.0,45.0,36.0,43.0,43.0,60.0,25.0,38.0,31.0,34.0,7.0,21.0],\"yaxis\":\"y3\",\"type\":\"scattergl\"},{\"hovertemplate\":\"term=pratiques<br>origin=media<br>start_segment=%{x}<br>rank=%{y}<extra></extra>\",\"legendgroup\":\"pratiques\",\"line\":{\"color\":\"#00cc96\",\"dash\":\"solid\"},\"marker\":{\"symbol\":\"circle\"},\"mode\":\"markers+lines\",\"name\":\"pratiques\",\"showlegend\":false,\"x\":[\"2010-09-16\",\"2011-01-19\",\"2011-03-31\",\"2011-11-03\",\"2012-11-14\",\"2013-01-07\",\"2014-07-01\",\"2015-09-01\",\"2018-04-01\",\"2019-08-01\",\"2021-08-01\"],\"xaxis\":\"x2\",\"y\":[17.0,22.0,83.0,63.0,89.0,33.0,39.0,43.0,48.0,36.0,55.0],\"yaxis\":\"y2\",\"type\":\"scattergl\"},{\"hovertemplate\":\"term=probl\\u00e8me<br>origin=facebook<br>start_segment=%{x}<br>rank=%{y}<extra></extra>\",\"legendgroup\":\"probl\\u00e8me\",\"line\":{\"color\":\"#ab63fa\",\"dash\":\"solid\"},\"marker\":{\"symbol\":\"circle\"},\"mode\":\"markers+lines\",\"name\":\"probl\\u00e8me\",\"showlegend\":true,\"x\":[\"2011-11-16\",\"2012-02-01\",\"2012-07-01\",\"2012-12-01\",\"2014-03-01\",\"2015-03-01\",\"2015-12-01\",\"2016-10-01\",\"2018-05-01\",\"2019-06-01\",\"2020-08-01\",\"2021-04-01\",\"2021-12-01\"],\"xaxis\":\"x3\",\"y\":[35.0,37.0,40.0,21.0,26.0,39.0,37.0,46.0,47.0,29.0,35.0,30.0,34.0],\"yaxis\":\"y3\",\"type\":\"scattergl\"},{\"hovertemplate\":\"term=probl\\u00e8me<br>origin=media<br>start_segment=%{x}<br>rank=%{y}<extra></extra>\",\"legendgroup\":\"probl\\u00e8me\",\"line\":{\"color\":\"#ab63fa\",\"dash\":\"solid\"},\"marker\":{\"symbol\":\"circle\"},\"mode\":\"markers+lines\",\"name\":\"probl\\u00e8me\",\"showlegend\":false,\"x\":[\"2010-09-16\",\"2011-01-19\",\"2011-03-31\",\"2011-11-03\",\"2012-11-14\",\"2013-01-07\",\"2014-07-01\",\"2015-09-01\",\"2018-04-01\",\"2019-08-01\",\"2021-08-01\"],\"xaxis\":\"x2\",\"y\":[67.0,24.0,48.0,21.0,21.0,25.0,26.0,32.0,33.0,24.0,21.0],\"yaxis\":\"y2\",\"type\":\"scattergl\"},{\"hovertemplate\":\"term=probl\\u00e8me<br>origin=twitter<br>start_segment=%{x}<br>rank=%{y}<extra></extra>\",\"legendgroup\":\"probl\\u00e8me\",\"line\":{\"color\":\"#ab63fa\",\"dash\":\"solid\"},\"marker\":{\"symbol\":\"circle\"},\"mode\":\"markers+lines\",\"name\":\"probl\\u00e8me\",\"showlegend\":false,\"x\":[\"2010-02-01\",\"2010-09-01\",\"2012-07-01\",\"2013-12-01\",\"2015-10-01\",\"2017-09-01\",\"2019-06-01\",\"2020-08-01\"],\"xaxis\":\"x\",\"y\":[72.0,88.0,60.0,97.0,72.0,25.0,19.0,20.0],\"yaxis\":\"y\",\"type\":\"scattergl\"},{\"hovertemplate\":\"term=production<br>origin=facebook<br>start_segment=%{x}<br>rank=%{y}<extra></extra>\",\"legendgroup\":\"production\",\"line\":{\"color\":\"#FFA15A\",\"dash\":\"solid\"},\"marker\":{\"symbol\":\"circle\"},\"mode\":\"markers+lines\",\"name\":\"production\",\"showlegend\":true,\"x\":[\"2011-11-16\",\"2012-02-01\",\"2012-07-01\",\"2012-12-01\",\"2014-03-01\",\"2015-03-01\",\"2015-12-01\",\"2016-10-01\",\"2018-05-01\",\"2019-06-01\",\"2020-08-01\",\"2021-04-01\",\"2021-12-01\"],\"xaxis\":\"x3\",\"y\":[4.0,9.0,12.0,18.0,14.0,19.0,20.0,17.0,26.0,9.0,13.0,6.0,8.0],\"yaxis\":\"y3\",\"type\":\"scattergl\"},{\"hovertemplate\":\"term=production<br>origin=media<br>start_segment=%{x}<br>rank=%{y}<extra></extra>\",\"legendgroup\":\"production\",\"line\":{\"color\":\"#FFA15A\",\"dash\":\"solid\"},\"marker\":{\"symbol\":\"circle\"},\"mode\":\"markers+lines\",\"name\":\"production\",\"showlegend\":false,\"x\":[\"2010-09-16\",\"2011-01-19\",\"2011-03-31\",\"2011-09-08\",\"2011-11-03\",\"2012-11-14\",\"2013-01-07\",\"2014-07-01\",\"2015-09-01\",\"2018-04-01\",\"2019-08-01\",\"2021-08-01\"],\"xaxis\":\"x2\",\"y\":[77.0,3.0,18.0,62.0,29.0,96.0,12.0,7.0,12.0,18.0,9.0,19.0],\"yaxis\":\"y2\",\"type\":\"scattergl\"},{\"hovertemplate\":\"term=recherche<br>origin=facebook<br>start_segment=%{x}<br>rank=%{y}<extra></extra>\",\"legendgroup\":\"recherche\",\"line\":{\"color\":\"#19d3f3\",\"dash\":\"solid\"},\"marker\":{\"symbol\":\"circle\"},\"mode\":\"markers+lines\",\"name\":\"recherche\",\"showlegend\":true,\"x\":[\"2011-11-16\",\"2012-02-01\",\"2012-07-01\",\"2012-12-01\",\"2014-03-01\",\"2015-03-01\",\"2015-12-01\",\"2016-10-01\",\"2018-05-01\",\"2019-06-01\",\"2020-08-01\",\"2021-04-01\",\"2021-12-01\"],\"xaxis\":\"x3\",\"y\":[33.0,47.0,23.0,35.0,18.0,32.0,49.0,33.0,39.0,36.0,41.0,32.0,39.0],\"yaxis\":\"y3\",\"type\":\"scattergl\"},{\"hovertemplate\":\"term=recherche<br>origin=media<br>start_segment=%{x}<br>rank=%{y}<extra></extra>\",\"legendgroup\":\"recherche\",\"line\":{\"color\":\"#19d3f3\",\"dash\":\"solid\"},\"marker\":{\"symbol\":\"circle\"},\"mode\":\"markers+lines\",\"name\":\"recherche\",\"showlegend\":false,\"x\":[\"2010-09-16\",\"2011-01-19\",\"2011-03-31\",\"2011-09-08\",\"2011-11-03\",\"2012-11-14\",\"2013-01-07\",\"2014-07-01\",\"2015-09-01\",\"2018-04-01\",\"2019-08-01\",\"2021-08-01\"],\"xaxis\":\"x2\",\"y\":[19.0,92.0,8.0,58.0,20.0,19.0,20.0,14.0,17.0,28.0,15.0,26.0],\"yaxis\":\"y2\",\"type\":\"scattergl\"},{\"hovertemplate\":\"term=roundup<br>origin=facebook<br>start_segment=%{x}<br>rank=%{y}<extra></extra>\",\"legendgroup\":\"roundup\",\"line\":{\"color\":\"#FF6692\",\"dash\":\"solid\"},\"marker\":{\"symbol\":\"circle\"},\"mode\":\"markers+lines\",\"name\":\"roundup\",\"showlegend\":true,\"x\":[\"2011-11-16\",\"2012-02-01\",\"2012-07-01\",\"2012-12-01\",\"2014-03-01\",\"2015-03-01\",\"2015-12-01\",\"2016-10-01\",\"2018-05-01\",\"2019-06-01\",\"2020-08-01\",\"2021-04-01\",\"2021-12-01\"],\"xaxis\":\"x3\",\"y\":[18.0,34.0,10.0,7.0,11.0,4.0,12.0,21.0,16.0,75.0,133.0,94.0,150.0],\"yaxis\":\"y3\",\"type\":\"scattergl\"},{\"hovertemplate\":\"term=roundup<br>origin=media<br>start_segment=%{x}<br>rank=%{y}<extra></extra>\",\"legendgroup\":\"roundup\",\"line\":{\"color\":\"#FF6692\",\"dash\":\"solid\"},\"marker\":{\"symbol\":\"circle\"},\"mode\":\"markers+lines\",\"name\":\"roundup\",\"showlegend\":false,\"x\":[\"2011-09-08\",\"2011-11-03\",\"2013-01-07\",\"2014-07-01\",\"2015-09-01\",\"2018-04-01\",\"2019-08-01\",\"2021-08-01\"],\"xaxis\":\"x2\",\"y\":[4.0,35.0,128.0,31.0,62.0,34.0,143.0,58.0],\"yaxis\":\"y2\",\"type\":\"scattergl\"},{\"hovertemplate\":\"term=roundup<br>origin=twitter<br>start_segment=%{x}<br>rank=%{y}<extra></extra>\",\"legendgroup\":\"roundup\",\"line\":{\"color\":\"#FF6692\",\"dash\":\"solid\"},\"marker\":{\"symbol\":\"circle\"},\"mode\":\"markers+lines\",\"name\":\"roundup\",\"showlegend\":false,\"x\":[\"2010-02-01\",\"2010-09-01\",\"2012-07-01\",\"2013-12-01\",\"2015-10-01\",\"2017-09-01\",\"2019-06-01\",\"2020-08-01\"],\"xaxis\":\"x\",\"y\":[3.0,3.0,3.0,2.0,5.0,5.0,18.0,23.0],\"yaxis\":\"y\",\"type\":\"scattergl\"},{\"hovertemplate\":\"term=sant\\u00e9<br>origin=facebook<br>start_segment=%{x}<br>rank=%{y}<extra></extra>\",\"legendgroup\":\"sant\\u00e9\",\"line\":{\"color\":\"#B6E880\",\"dash\":\"solid\"},\"marker\":{\"symbol\":\"circle\"},\"mode\":\"markers+lines\",\"name\":\"sant\\u00e9\",\"showlegend\":true,\"x\":[\"2011-11-16\",\"2012-02-01\",\"2012-07-01\",\"2012-12-01\",\"2014-03-01\",\"2015-03-01\",\"2015-12-01\",\"2016-10-01\",\"2018-05-01\",\"2019-06-01\",\"2020-08-01\",\"2021-04-01\",\"2021-12-01\"],\"xaxis\":\"x3\",\"y\":[2.0,2.0,3.0,4.0,3.0,3.0,2.0,3.0,4.0,3.0,4.0,3.0,5.0],\"yaxis\":\"y3\",\"type\":\"scattergl\"},{\"hovertemplate\":\"term=sant\\u00e9<br>origin=media<br>start_segment=%{x}<br>rank=%{y}<extra></extra>\",\"legendgroup\":\"sant\\u00e9\",\"line\":{\"color\":\"#B6E880\",\"dash\":\"solid\"},\"marker\":{\"symbol\":\"circle\"},\"mode\":\"markers+lines\",\"name\":\"sant\\u00e9\",\"showlegend\":false,\"x\":[\"2010-09-16\",\"2011-01-19\",\"2011-03-31\",\"2011-09-08\",\"2011-11-03\",\"2012-11-14\",\"2013-01-07\",\"2014-07-01\",\"2015-09-01\",\"2018-04-01\",\"2019-08-01\",\"2021-08-01\"],\"xaxis\":\"x2\",\"y\":[11.0,95.0,17.0,60.0,9.0,5.0,3.0,2.0,3.0,4.0,4.0,2.0],\"yaxis\":\"y2\",\"type\":\"scattergl\"},{\"hovertemplate\":\"term=sant\\u00e9<br>origin=twitter<br>start_segment=%{x}<br>rank=%{y}<extra></extra>\",\"legendgroup\":\"sant\\u00e9\",\"line\":{\"color\":\"#B6E880\",\"dash\":\"solid\"},\"marker\":{\"symbol\":\"circle\"},\"mode\":\"markers+lines\",\"name\":\"sant\\u00e9\",\"showlegend\":false,\"x\":[\"2010-02-01\",\"2010-09-01\",\"2012-07-01\",\"2013-12-01\",\"2015-10-01\",\"2017-09-01\",\"2019-06-01\",\"2020-08-01\"],\"xaxis\":\"x\",\"y\":[11.0,7.0,5.0,9.0,7.0,4.0,4.0,6.0],\"yaxis\":\"y\",\"type\":\"scattergl\"},{\"hovertemplate\":\"term=scientifiques<br>origin=facebook<br>start_segment=%{x}<br>rank=%{y}<extra></extra>\",\"legendgroup\":\"scientifiques\",\"line\":{\"color\":\"#FF97FF\",\"dash\":\"solid\"},\"marker\":{\"symbol\":\"circle\"},\"mode\":\"markers+lines\",\"name\":\"scientifiques\",\"showlegend\":true,\"x\":[\"2011-11-16\",\"2012-02-01\",\"2012-07-01\",\"2012-12-01\",\"2014-03-01\",\"2015-03-01\",\"2015-12-01\",\"2016-10-01\",\"2018-05-01\",\"2019-06-01\",\"2020-08-01\",\"2021-04-01\",\"2021-12-01\"],\"xaxis\":\"x3\",\"y\":[29.0,36.0,11.0,22.0,16.0,17.0,38.0,30.0,29.0,22.0,38.0,49.0,47.0],\"yaxis\":\"y3\",\"type\":\"scattergl\"},{\"hovertemplate\":\"term=scientifiques<br>origin=media<br>start_segment=%{x}<br>rank=%{y}<extra></extra>\",\"legendgroup\":\"scientifiques\",\"line\":{\"color\":\"#FF97FF\",\"dash\":\"solid\"},\"marker\":{\"symbol\":\"circle\"},\"mode\":\"markers+lines\",\"name\":\"scientifiques\",\"showlegend\":false,\"x\":[\"2010-09-16\",\"2011-01-19\",\"2011-03-31\",\"2011-11-03\",\"2012-11-14\",\"2013-01-07\",\"2014-07-01\",\"2015-09-01\",\"2018-04-01\",\"2019-08-01\",\"2021-08-01\"],\"xaxis\":\"x2\",\"y\":[9.0,93.0,5.0,11.0,7.0,24.0,34.0,14.0,17.0,17.0,17.0],\"yaxis\":\"y2\",\"type\":\"scattergl\"},{\"hovertemplate\":\"term=scientifiques<br>origin=twitter<br>start_segment=%{x}<br>rank=%{y}<extra></extra>\",\"legendgroup\":\"scientifiques\",\"line\":{\"color\":\"#FF97FF\",\"dash\":\"solid\"},\"marker\":{\"symbol\":\"circle\"},\"mode\":\"markers+lines\",\"name\":\"scientifiques\",\"showlegend\":false,\"x\":[\"2010-02-01\",\"2010-09-01\",\"2012-07-01\",\"2013-12-01\",\"2015-10-01\",\"2017-09-01\",\"2019-06-01\",\"2020-08-01\"],\"xaxis\":\"x\",\"y\":[77.0,58.0,72.0,41.0,60.0,12.0,9.0,18.0],\"yaxis\":\"y\",\"type\":\"scattergl\"},{\"hovertemplate\":\"term=syst\\u00e8mes<br>origin=facebook<br>start_segment=%{x}<br>rank=%{y}<extra></extra>\",\"legendgroup\":\"syst\\u00e8mes\",\"line\":{\"color\":\"#FECB52\",\"dash\":\"solid\"},\"marker\":{\"symbol\":\"circle\"},\"mode\":\"markers+lines\",\"name\":\"syst\\u00e8mes\",\"showlegend\":true,\"x\":[\"2011-11-16\",\"2012-02-01\",\"2012-07-01\",\"2012-12-01\",\"2014-03-01\",\"2015-03-01\",\"2015-12-01\",\"2016-10-01\",\"2018-05-01\",\"2019-06-01\",\"2020-08-01\",\"2021-04-01\",\"2021-12-01\"],\"xaxis\":\"x3\",\"y\":[6.0,27.0,25.0,37.0,19.0,22.0,31.0,28.0,30.0,16.0,22.0,16.0,14.0],\"yaxis\":\"y3\",\"type\":\"scattergl\"},{\"hovertemplate\":\"term=syst\\u00e8mes<br>origin=media<br>start_segment=%{x}<br>rank=%{y}<extra></extra>\",\"legendgroup\":\"syst\\u00e8mes\",\"line\":{\"color\":\"#FECB52\",\"dash\":\"solid\"},\"marker\":{\"symbol\":\"circle\"},\"mode\":\"markers+lines\",\"name\":\"syst\\u00e8mes\",\"showlegend\":false,\"x\":[\"2010-09-16\",\"2011-01-19\",\"2011-11-03\",\"2012-11-14\",\"2013-01-07\",\"2014-07-01\",\"2015-09-01\",\"2018-04-01\",\"2019-08-01\",\"2021-08-01\"],\"xaxis\":\"x2\",\"y\":[24.0,10.0,10.0,42.0,50.0,41.0,34.0,38.0,21.0,13.0],\"yaxis\":\"y2\",\"type\":\"scattergl\"},{\"hovertemplate\":\"term=traitements<br>origin=facebook<br>start_segment=%{x}<br>rank=%{y}<extra></extra>\",\"legendgroup\":\"traitements\",\"line\":{\"color\":\"#636efa\",\"dash\":\"solid\"},\"marker\":{\"symbol\":\"circle\"},\"mode\":\"markers+lines\",\"name\":\"traitements\",\"showlegend\":true,\"x\":[\"2011-11-16\",\"2012-02-01\",\"2012-07-01\",\"2012-12-01\",\"2014-03-01\",\"2015-03-01\",\"2015-12-01\",\"2016-10-01\",\"2018-05-01\",\"2019-06-01\",\"2020-08-01\",\"2021-04-01\",\"2021-12-01\"],\"xaxis\":\"x3\",\"y\":[38.0,23.0,22.0,33.0,15.0,27.0,24.0,29.0,51.0,18.0,26.0,11.0,4.0],\"yaxis\":\"y3\",\"type\":\"scattergl\"},{\"hovertemplate\":\"term=traitements<br>origin=media<br>start_segment=%{x}<br>rank=%{y}<extra></extra>\",\"legendgroup\":\"traitements\",\"line\":{\"color\":\"#636efa\",\"dash\":\"solid\"},\"marker\":{\"symbol\":\"circle\"},\"mode\":\"markers+lines\",\"name\":\"traitements\",\"showlegend\":false,\"x\":[\"2010-09-16\",\"2011-03-31\",\"2011-11-03\",\"2012-11-14\",\"2013-01-07\",\"2014-07-01\",\"2015-09-01\",\"2018-04-01\",\"2019-08-01\",\"2021-08-01\"],\"xaxis\":\"x2\",\"y\":[29.0,91.0,50.0,15.0,14.0,18.0,41.0,62.0,34.0,32.0],\"yaxis\":\"y2\",\"type\":\"scattergl\"},{\"hovertemplate\":\"term=transport<br>origin=facebook<br>start_segment=%{x}<br>rank=%{y}<extra></extra>\",\"legendgroup\":\"transport\",\"line\":{\"color\":\"#EF553B\",\"dash\":\"solid\"},\"marker\":{\"symbol\":\"circle\"},\"mode\":\"markers+lines\",\"name\":\"transport\",\"showlegend\":true,\"x\":[\"2011-11-16\",\"2012-02-01\",\"2012-07-01\",\"2012-12-01\",\"2014-03-01\",\"2015-03-01\",\"2015-12-01\",\"2016-10-01\",\"2018-05-01\",\"2019-06-01\",\"2020-08-01\",\"2021-04-01\",\"2021-12-01\"],\"xaxis\":\"x3\",\"y\":[59.0,100.0,108.0,155.0,128.0,182.0,159.0,171.0,113.0,101.0,141.0,106.0,24.0],\"yaxis\":\"y3\",\"type\":\"scattergl\"},{\"hovertemplate\":\"term=travail<br>origin=facebook<br>start_segment=%{x}<br>rank=%{y}<extra></extra>\",\"legendgroup\":\"travail\",\"line\":{\"color\":\"#00cc96\",\"dash\":\"solid\"},\"marker\":{\"symbol\":\"circle\"},\"mode\":\"markers+lines\",\"name\":\"travail\",\"showlegend\":true,\"x\":[\"2011-11-16\",\"2012-02-01\",\"2012-07-01\",\"2012-12-01\",\"2014-03-01\",\"2015-03-01\",\"2015-12-01\",\"2016-10-01\",\"2018-05-01\",\"2019-06-01\",\"2020-08-01\",\"2021-04-01\",\"2021-12-01\"],\"xaxis\":\"x3\",\"y\":[30.0,14.0,19.0,34.0,22.0,21.0,21.0,19.0,20.0,15.0,18.0,19.0,13.0],\"yaxis\":\"y3\",\"type\":\"scattergl\"},{\"hovertemplate\":\"term=travail<br>origin=media<br>start_segment=%{x}<br>rank=%{y}<extra></extra>\",\"legendgroup\":\"travail\",\"line\":{\"color\":\"#00cc96\",\"dash\":\"solid\"},\"marker\":{\"symbol\":\"circle\"},\"mode\":\"markers+lines\",\"name\":\"travail\",\"showlegend\":false,\"x\":[\"2010-09-16\",\"2011-01-19\",\"2011-03-31\",\"2011-11-03\",\"2012-11-14\",\"2013-01-07\",\"2014-07-01\",\"2015-09-01\",\"2018-04-01\",\"2019-08-01\",\"2021-08-01\"],\"xaxis\":\"x2\",\"y\":[69.0,30.0,9.0,14.0,12.0,10.0,6.0,6.0,13.0,8.0,15.0],\"yaxis\":\"y2\",\"type\":\"scattergl\"},{\"hovertemplate\":\"term=tribunal<br>origin=facebook<br>start_segment=%{x}<br>rank=%{y}<extra></extra>\",\"legendgroup\":\"tribunal\",\"line\":{\"color\":\"#ab63fa\",\"dash\":\"solid\"},\"marker\":{\"symbol\":\"circle\"},\"mode\":\"markers+lines\",\"name\":\"tribunal\",\"showlegend\":true,\"x\":[\"2011-11-16\",\"2012-02-01\",\"2012-07-01\",\"2012-12-01\",\"2014-03-01\",\"2015-03-01\",\"2015-12-01\",\"2016-10-01\",\"2018-05-01\",\"2019-06-01\",\"2020-08-01\",\"2021-04-01\",\"2021-12-01\"],\"xaxis\":\"x3\",\"y\":[47.0,144.0,104.0,73.0,118.0,105.0,121.0,79.0,88.0,24.0,85.0,125.0,125.0],\"yaxis\":\"y3\",\"type\":\"scattergl\"},{\"hovertemplate\":\"term=victimes<br>origin=facebook<br>start_segment=%{x}<br>rank=%{y}<extra></extra>\",\"legendgroup\":\"victimes\",\"line\":{\"color\":\"#FFA15A\",\"dash\":\"solid\"},\"marker\":{\"symbol\":\"circle\"},\"mode\":\"markers+lines\",\"name\":\"victimes\",\"showlegend\":true,\"x\":[\"2011-11-16\",\"2012-02-01\",\"2012-07-01\",\"2012-12-01\",\"2014-03-01\",\"2015-03-01\",\"2015-12-01\",\"2016-10-01\",\"2018-05-01\",\"2019-06-01\",\"2020-08-01\",\"2021-04-01\",\"2021-12-01\"],\"xaxis\":\"x3\",\"y\":[32.0,22.0,61.0,77.0,74.0,63.0,50.0,60.0,62.0,54.0,28.0,62.0,65.0],\"yaxis\":\"y3\",\"type\":\"scattergl\"},{\"hovertemplate\":\"term=victimes<br>origin=twitter<br>start_segment=%{x}<br>rank=%{y}<extra></extra>\",\"legendgroup\":\"victimes\",\"line\":{\"color\":\"#FFA15A\",\"dash\":\"solid\"},\"marker\":{\"symbol\":\"circle\"},\"mode\":\"markers+lines\",\"name\":\"victimes\",\"showlegend\":false,\"x\":[\"2010-02-01\",\"2010-09-01\",\"2012-07-01\",\"2013-12-01\",\"2015-10-01\",\"2017-09-01\",\"2019-06-01\",\"2020-08-01\"],\"xaxis\":\"x\",\"y\":[37.0,11.0,71.0,36.0,24.0,44.0,56.0,59.0],\"yaxis\":\"y\",\"type\":\"scattergl\"},{\"hovertemplate\":\"term=\\u00e9cologique<br>origin=facebook<br>start_segment=%{x}<br>rank=%{y}<extra></extra>\",\"legendgroup\":\"\\u00e9cologique\",\"line\":{\"color\":\"#19d3f3\",\"dash\":\"solid\"},\"marker\":{\"symbol\":\"circle\"},\"mode\":\"markers+lines\",\"name\":\"\\u00e9cologique\",\"showlegend\":true,\"x\":[\"2011-11-16\",\"2012-02-01\",\"2012-07-01\",\"2012-12-01\",\"2014-03-01\",\"2015-03-01\",\"2015-12-01\",\"2016-10-01\",\"2018-05-01\",\"2019-06-01\",\"2020-08-01\",\"2021-04-01\",\"2021-12-01\"],\"xaxis\":\"x3\",\"y\":[60.0,38.0,66.0,43.0,32.0,36.0,41.0,23.0,24.0,19.0,15.0,25.0,48.0],\"yaxis\":\"y3\",\"type\":\"scattergl\"},{\"hovertemplate\":\"term=\\u00e9cologique<br>origin=media<br>start_segment=%{x}<br>rank=%{y}<extra></extra>\",\"legendgroup\":\"\\u00e9cologique\",\"line\":{\"color\":\"#19d3f3\",\"dash\":\"solid\"},\"marker\":{\"symbol\":\"circle\"},\"mode\":\"markers+lines\",\"name\":\"\\u00e9cologique\",\"showlegend\":false,\"x\":[\"2010-09-16\",\"2011-01-19\",\"2011-03-31\",\"2011-09-08\",\"2011-11-03\",\"2013-01-07\",\"2014-07-01\",\"2015-09-01\",\"2018-04-01\",\"2019-08-01\",\"2021-08-01\"],\"xaxis\":\"x2\",\"y\":[38.0,35.0,87.0,64.0,112.0,52.0,42.0,28.0,14.0,12.0,29.0],\"yaxis\":\"y2\",\"type\":\"scattergl\"},{\"hovertemplate\":\"term=\\u00e9levage<br>origin=facebook<br>start_segment=%{x}<br>rank=%{y}<extra></extra>\",\"legendgroup\":\"\\u00e9levage\",\"line\":{\"color\":\"#FF6692\",\"dash\":\"solid\"},\"marker\":{\"symbol\":\"circle\"},\"mode\":\"markers+lines\",\"name\":\"\\u00e9levage\",\"showlegend\":true,\"x\":[\"2012-02-01\",\"2012-07-01\",\"2012-12-01\",\"2014-03-01\",\"2015-03-01\",\"2015-12-01\",\"2016-10-01\",\"2018-05-01\",\"2019-06-01\",\"2020-08-01\",\"2021-04-01\",\"2021-12-01\"],\"xaxis\":\"x3\",\"y\":[156.0,181.0,178.0,169.0,166.0,190.0,167.0,161.0,155.0,124.0,23.0,37.0],\"yaxis\":\"y3\",\"type\":\"scattergl\"},{\"hovertemplate\":\"term=\\u00e9tudes<br>origin=facebook<br>start_segment=%{x}<br>rank=%{y}<extra></extra>\",\"legendgroup\":\"\\u00e9tudes\",\"line\":{\"color\":\"#B6E880\",\"dash\":\"solid\"},\"marker\":{\"symbol\":\"circle\"},\"mode\":\"markers+lines\",\"name\":\"\\u00e9tudes\",\"showlegend\":true,\"x\":[\"2011-11-16\",\"2012-02-01\",\"2012-07-01\",\"2012-12-01\",\"2014-03-01\",\"2015-03-01\",\"2015-12-01\",\"2016-10-01\",\"2018-05-01\",\"2019-06-01\",\"2020-08-01\",\"2021-04-01\",\"2021-12-01\"],\"xaxis\":\"x3\",\"y\":[23.0,30.0,4.0,8.0,8.0,11.0,25.0,16.0,19.0,23.0,30.0,26.0,20.0],\"yaxis\":\"y3\",\"type\":\"scattergl\"},{\"hovertemplate\":\"term=\\u00e9tudes<br>origin=media<br>start_segment=%{x}<br>rank=%{y}<extra></extra>\",\"legendgroup\":\"\\u00e9tudes\",\"line\":{\"color\":\"#B6E880\",\"dash\":\"solid\"},\"marker\":{\"symbol\":\"circle\"},\"mode\":\"markers+lines\",\"name\":\"\\u00e9tudes\",\"showlegend\":false,\"x\":[\"2010-09-16\",\"2011-03-31\",\"2011-09-08\",\"2011-11-03\",\"2012-11-14\",\"2013-01-07\",\"2014-07-01\",\"2015-09-01\",\"2018-04-01\",\"2019-08-01\",\"2021-08-01\"],\"xaxis\":\"x2\",\"y\":[3.0,1.0,9.0,5.0,4.0,11.0,19.0,10.0,19.0,22.0,12.0],\"yaxis\":\"y2\",\"type\":\"scattergl\"},{\"hovertemplate\":\"term=\\u00e9tudes<br>origin=twitter<br>start_segment=%{x}<br>rank=%{y}<extra></extra>\",\"legendgroup\":\"\\u00e9tudes\",\"line\":{\"color\":\"#B6E880\",\"dash\":\"solid\"},\"marker\":{\"symbol\":\"circle\"},\"mode\":\"markers+lines\",\"name\":\"\\u00e9tudes\",\"showlegend\":false,\"x\":[\"2010-02-01\",\"2010-09-01\",\"2012-07-01\",\"2013-12-01\",\"2015-10-01\",\"2017-09-01\",\"2019-06-01\",\"2020-08-01\"],\"xaxis\":\"x\",\"y\":[13.0,14.0,23.0,15.0,19.0,13.0,11.0,15.0],\"yaxis\":\"y\",\"type\":\"scattergl\"},{\"hovertemplate\":\"term=ademe<br>origin=media<br>start_segment=%{x}<br>rank=%{y}<extra></extra>\",\"legendgroup\":\"ademe\",\"line\":{\"color\":\"#FF97FF\",\"dash\":\"solid\"},\"marker\":{\"symbol\":\"circle\"},\"mode\":\"markers+lines\",\"name\":\"ademe\",\"showlegend\":true,\"x\":[\"2010-09-16\",\"2013-01-07\",\"2014-07-01\",\"2015-09-01\",\"2018-04-01\",\"2019-08-01\",\"2021-08-01\"],\"xaxis\":\"x2\",\"y\":[18.0,369.0,339.0,400.0,371.0,355.0,315.0],\"yaxis\":\"y2\",\"type\":\"scattergl\"},{\"hovertemplate\":\"term=agence<br>origin=media<br>start_segment=%{x}<br>rank=%{y}<extra></extra>\",\"legendgroup\":\"agence\",\"line\":{\"color\":\"#FECB52\",\"dash\":\"solid\"},\"marker\":{\"symbol\":\"circle\"},\"mode\":\"markers+lines\",\"name\":\"agence\",\"showlegend\":true,\"x\":[\"2010-09-16\",\"2011-01-19\",\"2011-03-31\",\"2011-09-08\",\"2011-11-03\",\"2012-11-14\",\"2013-01-07\",\"2014-07-01\",\"2015-09-01\",\"2018-04-01\",\"2019-08-01\",\"2021-08-01\"],\"xaxis\":\"x2\",\"y\":[104.0,82.0,71.0,22.0,108.0,67.0,123.0,108.0,77.0,87.0,139.0,134.0],\"yaxis\":\"y2\",\"type\":\"scattergl\"},{\"hovertemplate\":\"term=antilles<br>origin=media<br>start_segment=%{x}<br>rank=%{y}<extra></extra>\",\"legendgroup\":\"antilles\",\"line\":{\"color\":\"#636efa\",\"dash\":\"solid\"},\"marker\":{\"symbol\":\"circle\"},\"mode\":\"markers+lines\",\"name\":\"antilles\",\"showlegend\":true,\"x\":[\"2011-11-03\",\"2013-01-07\",\"2014-07-01\",\"2015-09-01\",\"2018-04-01\",\"2019-08-01\",\"2021-08-01\"],\"xaxis\":\"x2\",\"y\":[155.0,222.0,226.0,290.0,146.0,175.0,23.0],\"yaxis\":\"y2\",\"type\":\"scattergl\"},{\"hovertemplate\":\"term=antilles<br>origin=twitter<br>start_segment=%{x}<br>rank=%{y}<extra></extra>\",\"legendgroup\":\"antilles\",\"line\":{\"color\":\"#636efa\",\"dash\":\"solid\"},\"marker\":{\"symbol\":\"circle\"},\"mode\":\"markers+lines\",\"name\":\"antilles\",\"showlegend\":false,\"x\":[\"2010-02-01\",\"2010-09-01\",\"2012-07-01\",\"2013-12-01\",\"2015-10-01\",\"2017-09-01\",\"2019-06-01\",\"2020-08-01\"],\"xaxis\":\"x\",\"y\":[6.0,73.0,63.0,89.0,221.0,79.0,74.0,64.0],\"yaxis\":\"y\",\"type\":\"scattergl\"},{\"hovertemplate\":\"term=article<br>origin=media<br>start_segment=%{x}<br>rank=%{y}<extra></extra>\",\"legendgroup\":\"article\",\"line\":{\"color\":\"#EF553B\",\"dash\":\"solid\"},\"marker\":{\"symbol\":\"circle\"},\"mode\":\"markers+lines\",\"name\":\"article\",\"showlegend\":true,\"x\":[\"2010-09-16\",\"2011-01-19\",\"2011-03-31\",\"2011-11-03\",\"2012-11-14\",\"2013-01-07\",\"2014-07-01\",\"2015-09-01\",\"2018-04-01\",\"2019-08-01\",\"2021-08-01\"],\"xaxis\":\"x2\",\"y\":[12.0,23.0,15.0,49.0,53.0,73.0,35.0,45.0,36.0,20.0,27.0],\"yaxis\":\"y2\",\"type\":\"scattergl\"},{\"hovertemplate\":\"term=autorisation<br>origin=media<br>start_segment=%{x}<br>rank=%{y}<extra></extra>\",\"legendgroup\":\"autorisation\",\"line\":{\"color\":\"#00cc96\",\"dash\":\"solid\"},\"marker\":{\"symbol\":\"circle\"},\"mode\":\"markers+lines\",\"name\":\"autorisation\",\"showlegend\":true,\"x\":[\"2010-09-16\",\"2011-03-31\",\"2011-11-03\",\"2012-11-14\",\"2013-01-07\",\"2014-07-01\",\"2015-09-01\",\"2018-04-01\",\"2019-08-01\",\"2021-08-01\"],\"xaxis\":\"x2\",\"y\":[95.0,20.0,87.0,34.0,148.0,177.0,137.0,174.0,164.0,181.0],\"yaxis\":\"y2\",\"type\":\"scattergl\"},{\"hovertemplate\":\"term=bayer<br>origin=media<br>start_segment=%{x}<br>rank=%{y}<extra></extra>\",\"legendgroup\":\"bayer\",\"line\":{\"color\":\"#ab63fa\",\"dash\":\"solid\"},\"marker\":{\"symbol\":\"circle\"},\"mode\":\"markers+lines\",\"name\":\"bayer\",\"showlegend\":true,\"x\":[\"2010-09-16\",\"2011-11-03\",\"2013-01-07\",\"2014-07-01\",\"2015-09-01\",\"2018-04-01\",\"2019-08-01\",\"2021-08-01\"],\"xaxis\":\"x2\",\"y\":[98.0,180.0,77.0,194.0,64.0,23.0,99.0,79.0],\"yaxis\":\"y2\",\"type\":\"scattergl\"},{\"hovertemplate\":\"term=bayer<br>origin=twitter<br>start_segment=%{x}<br>rank=%{y}<extra></extra>\",\"legendgroup\":\"bayer\",\"line\":{\"color\":\"#ab63fa\",\"dash\":\"solid\"},\"marker\":{\"symbol\":\"circle\"},\"mode\":\"markers+lines\",\"name\":\"bayer\",\"showlegend\":false,\"x\":[\"2010-02-01\",\"2010-09-01\",\"2012-07-01\",\"2013-12-01\",\"2015-10-01\",\"2017-09-01\",\"2019-06-01\",\"2020-08-01\"],\"xaxis\":\"x\",\"y\":[62.0,32.0,47.0,69.0,29.0,20.0,27.0,48.0],\"yaxis\":\"y\",\"type\":\"scattergl\"},{\"hovertemplate\":\"term=canc\\u00e9rog\\u00e8ne<br>origin=media<br>start_segment=%{x}<br>rank=%{y}<extra></extra>\",\"legendgroup\":\"canc\\u00e9rog\\u00e8ne\",\"line\":{\"color\":\"#FFA15A\",\"dash\":\"solid\"},\"marker\":{\"symbol\":\"circle\"},\"mode\":\"markers+lines\",\"name\":\"canc\\u00e9rog\\u00e8ne\",\"showlegend\":true,\"x\":[\"2011-03-31\",\"2011-09-08\",\"2011-11-03\",\"2013-01-07\",\"2014-07-01\",\"2015-09-01\",\"2018-04-01\",\"2019-08-01\",\"2021-08-01\"],\"xaxis\":\"x2\",\"y\":[45.0,11.0,71.0,308.0,112.0,70.0,108.0,183.0,128.0],\"yaxis\":\"y2\",\"type\":\"scattergl\"},{\"hovertemplate\":\"term=chauves-souris<br>origin=media<br>start_segment=%{x}<br>rank=%{y}<extra></extra>\",\"legendgroup\":\"chauves-souris\",\"line\":{\"color\":\"#19d3f3\",\"dash\":\"solid\"},\"marker\":{\"symbol\":\"circle\"},\"mode\":\"markers+lines\",\"name\":\"chauves-souris\",\"showlegend\":true,\"x\":[\"2011-03-31\",\"2013-01-07\",\"2014-07-01\",\"2015-09-01\",\"2018-04-01\",\"2019-08-01\",\"2021-08-01\"],\"xaxis\":\"x2\",\"y\":[10.0,253.0,295.0,268.0,276.0,230.0,169.0],\"yaxis\":\"y2\",\"type\":\"scattergl\"},{\"hovertemplate\":\"term=chercheuse<br>origin=media<br>start_segment=%{x}<br>rank=%{y}<extra></extra>\",\"legendgroup\":\"chercheuse\",\"line\":{\"color\":\"#FF6692\",\"dash\":\"solid\"},\"marker\":{\"symbol\":\"circle\"},\"mode\":\"markers+lines\",\"name\":\"chercheuse\",\"showlegend\":true,\"x\":[\"2010-09-16\",\"2011-01-19\",\"2011-03-31\",\"2011-11-03\",\"2012-11-14\",\"2013-01-07\",\"2014-07-01\",\"2015-09-01\",\"2018-04-01\",\"2019-08-01\",\"2021-08-01\"],\"xaxis\":\"x2\",\"y\":[37.0,77.0,12.0,7.0,11.0,32.0,45.0,57.0,60.0,56.0,48.0],\"yaxis\":\"y2\",\"type\":\"scattergl\"},{\"hovertemplate\":\"term=conflit<br>origin=media<br>start_segment=%{x}<br>rank=%{y}<extra></extra>\",\"legendgroup\":\"conflit\",\"line\":{\"color\":\"#B6E880\",\"dash\":\"solid\"},\"marker\":{\"symbol\":\"circle\"},\"mode\":\"markers+lines\",\"name\":\"conflit\",\"showlegend\":true,\"x\":[\"2010-09-16\",\"2011-01-19\",\"2011-03-31\",\"2011-09-08\",\"2011-11-03\",\"2012-11-14\",\"2013-01-07\",\"2014-07-01\",\"2015-09-01\",\"2018-04-01\",\"2019-08-01\",\"2021-08-01\"],\"xaxis\":\"x2\",\"y\":[68.0,36.0,70.0,24.0,48.0,40.0,186.0,192.0,183.0,188.0,145.0,167.0],\"yaxis\":\"y2\",\"type\":\"scattergl\"},{\"hovertemplate\":\"term=docteur<br>origin=media<br>start_segment=%{x}<br>rank=%{y}<extra></extra>\",\"legendgroup\":\"docteur\",\"line\":{\"color\":\"#FF97FF\",\"dash\":\"solid\"},\"marker\":{\"symbol\":\"circle\"},\"mode\":\"markers+lines\",\"name\":\"docteur\",\"showlegend\":true,\"x\":[\"2011-03-31\",\"2011-11-03\",\"2013-01-07\",\"2014-07-01\",\"2015-09-01\",\"2018-04-01\",\"2019-08-01\",\"2021-08-01\"],\"xaxis\":\"x2\",\"y\":[6.0,157.0,200.0,181.0,241.0,223.0,211.0,38.0],\"yaxis\":\"y2\",\"type\":\"scattergl\"},{\"hovertemplate\":\"term=d\\u00e9bat<br>origin=media<br>start_segment=%{x}<br>rank=%{y}<extra></extra>\",\"legendgroup\":\"d\\u00e9bat\",\"line\":{\"color\":\"#FECB52\",\"dash\":\"solid\"},\"marker\":{\"symbol\":\"circle\"},\"mode\":\"markers+lines\",\"name\":\"d\\u00e9bat\",\"showlegend\":true,\"x\":[\"2010-09-16\",\"2011-01-19\",\"2011-09-08\",\"2011-11-03\",\"2012-11-14\",\"2013-01-07\",\"2014-07-01\",\"2015-09-01\",\"2018-04-01\",\"2019-08-01\",\"2021-08-01\"],\"xaxis\":\"x2\",\"y\":[75.0,14.0,41.0,44.0,41.0,57.0,75.0,55.0,20.0,49.0,60.0],\"yaxis\":\"y2\",\"type\":\"scattergl\"},{\"hovertemplate\":\"term=d\\u00e9chets<br>origin=media<br>start_segment=%{x}<br>rank=%{y}<extra></extra>\",\"legendgroup\":\"d\\u00e9chets\",\"line\":{\"color\":\"#636efa\",\"dash\":\"solid\"},\"marker\":{\"symbol\":\"circle\"},\"mode\":\"markers+lines\",\"name\":\"d\\u00e9chets\",\"showlegend\":true,\"x\":[\"2010-09-16\",\"2011-03-31\",\"2011-11-03\",\"2013-01-07\",\"2014-07-01\",\"2015-09-01\",\"2018-04-01\",\"2019-08-01\",\"2021-08-01\"],\"xaxis\":\"x2\",\"y\":[47.0,11.0,76.0,102.0,62.0,117.0,105.0,87.0,115.0],\"yaxis\":\"y2\",\"type\":\"scattergl\"},{\"hovertemplate\":\"term=d\\u00e9cision<br>origin=media<br>start_segment=%{x}<br>rank=%{y}<extra></extra>\",\"legendgroup\":\"d\\u00e9cision\",\"line\":{\"color\":\"#EF553B\",\"dash\":\"solid\"},\"marker\":{\"symbol\":\"circle\"},\"mode\":\"markers+lines\",\"name\":\"d\\u00e9cision\",\"showlegend\":true,\"x\":[\"2010-09-16\",\"2011-01-19\",\"2011-03-31\",\"2011-11-03\",\"2013-01-07\",\"2014-07-01\",\"2015-09-01\",\"2018-04-01\",\"2019-08-01\",\"2021-08-01\"],\"xaxis\":\"x2\",\"y\":[66.0,18.0,14.0,38.0,34.0,86.0,33.0,25.0,28.0,41.0],\"yaxis\":\"y2\",\"type\":\"scattergl\"},{\"hovertemplate\":\"term=d\\u00e9sherbant<br>origin=media<br>start_segment=%{x}<br>rank=%{y}<extra></extra>\",\"legendgroup\":\"d\\u00e9sherbant\",\"line\":{\"color\":\"#00cc96\",\"dash\":\"solid\"},\"marker\":{\"symbol\":\"circle\"},\"mode\":\"markers+lines\",\"name\":\"d\\u00e9sherbant\",\"showlegend\":true,\"x\":[\"2011-09-08\",\"2011-11-03\",\"2013-01-07\",\"2014-07-01\",\"2015-09-01\",\"2018-04-01\",\"2019-08-01\",\"2021-08-01\"],\"xaxis\":\"x2\",\"y\":[17.0,148.0,125.0,65.0,127.0,129.0,198.0,143.0],\"yaxis\":\"y2\",\"type\":\"scattergl\"},{\"hovertemplate\":\"term=d\\u00e9sherbant<br>origin=twitter<br>start_segment=%{x}<br>rank=%{y}<extra></extra>\",\"legendgroup\":\"d\\u00e9sherbant\",\"line\":{\"color\":\"#00cc96\",\"dash\":\"solid\"},\"marker\":{\"symbol\":\"circle\"},\"mode\":\"markers+lines\",\"name\":\"d\\u00e9sherbant\",\"showlegend\":false,\"x\":[\"2010-02-01\",\"2010-09-01\",\"2012-07-01\",\"2013-12-01\",\"2015-10-01\",\"2017-09-01\",\"2019-06-01\",\"2020-08-01\"],\"xaxis\":\"x\",\"y\":[7.0,12.0,13.0,10.0,20.0,34.0,42.0,40.0],\"yaxis\":\"y\",\"type\":\"scattergl\"},{\"hovertemplate\":\"term=espace<br>origin=media<br>start_segment=%{x}<br>rank=%{y}<extra></extra>\",\"legendgroup\":\"espace\",\"line\":{\"color\":\"#ab63fa\",\"dash\":\"solid\"},\"marker\":{\"symbol\":\"circle\"},\"mode\":\"markers+lines\",\"name\":\"espace\",\"showlegend\":true,\"x\":[\"2010-09-16\",\"2011-09-08\",\"2011-11-03\",\"2013-01-07\",\"2014-07-01\",\"2015-09-01\",\"2018-04-01\",\"2019-08-01\",\"2021-08-01\"],\"xaxis\":\"x2\",\"y\":[20.0,53.0,174.0,28.0,21.0,53.0,96.0,63.0,50.0],\"yaxis\":\"y2\",\"type\":\"scattergl\"},{\"hovertemplate\":\"term=essaims<br>origin=media<br>start_segment=%{x}<br>rank=%{y}<extra></extra>\",\"legendgroup\":\"essaims\",\"line\":{\"color\":\"#FFA15A\",\"dash\":\"solid\"},\"marker\":{\"symbol\":\"circle\"},\"mode\":\"markers+lines\",\"name\":\"essaims\",\"showlegend\":true,\"x\":[\"2011-09-08\",\"2013-01-07\",\"2014-07-01\",\"2015-09-01\",\"2018-04-01\",\"2019-08-01\",\"2021-08-01\"],\"xaxis\":\"x2\",\"y\":[23.0,240.0,201.0,321.0,292.0,227.0,355.0],\"yaxis\":\"y2\",\"type\":\"scattergl\"},{\"hovertemplate\":\"term=europe<br>origin=media<br>start_segment=%{x}<br>rank=%{y}<extra></extra>\",\"legendgroup\":\"europe\",\"line\":{\"color\":\"#19d3f3\",\"dash\":\"solid\"},\"marker\":{\"symbol\":\"circle\"},\"mode\":\"markers+lines\",\"name\":\"europe\",\"showlegend\":true,\"x\":[\"2010-09-16\",\"2011-03-31\",\"2011-11-03\",\"2012-11-14\",\"2013-01-07\",\"2014-07-01\",\"2015-09-01\",\"2018-04-01\",\"2019-08-01\",\"2021-08-01\"],\"xaxis\":\"x2\",\"y\":[21.0,80.0,56.0,30.0,44.0,40.0,36.0,39.0,57.0,66.0],\"yaxis\":\"y2\",\"type\":\"scattergl\"},{\"hovertemplate\":\"term=europe<br>origin=twitter<br>start_segment=%{x}<br>rank=%{y}<extra></extra>\",\"legendgroup\":\"europe\",\"line\":{\"color\":\"#19d3f3\",\"dash\":\"solid\"},\"marker\":{\"symbol\":\"circle\"},\"mode\":\"markers+lines\",\"name\":\"europe\",\"showlegend\":false,\"x\":[\"2010-02-01\",\"2010-09-01\",\"2012-07-01\",\"2013-12-01\",\"2015-10-01\",\"2017-09-01\",\"2019-06-01\",\"2020-08-01\"],\"xaxis\":\"x\",\"y\":[21.0,46.0,29.0,45.0,12.0,26.0,30.0,54.0],\"yaxis\":\"y\",\"type\":\"scattergl\"},{\"hovertemplate\":\"term=femmes<br>origin=media<br>start_segment=%{x}<br>rank=%{y}<extra></extra>\",\"legendgroup\":\"femmes\",\"line\":{\"color\":\"#FF6692\",\"dash\":\"solid\"},\"marker\":{\"symbol\":\"circle\"},\"mode\":\"markers+lines\",\"name\":\"femmes\",\"showlegend\":true,\"x\":[\"2010-09-16\",\"2011-03-31\",\"2011-11-03\",\"2012-11-14\",\"2013-01-07\",\"2014-07-01\",\"2015-09-01\",\"2018-04-01\",\"2019-08-01\",\"2021-08-01\"],\"xaxis\":\"x2\",\"y\":[64.0,78.0,82.0,38.0,43.0,24.0,44.0,46.0,45.0,44.0],\"yaxis\":\"y2\",\"type\":\"scattergl\"},{\"hovertemplate\":\"term=fongicide<br>origin=media<br>start_segment=%{x}<br>rank=%{y}<extra></extra>\",\"legendgroup\":\"fongicide\",\"line\":{\"color\":\"#B6E880\",\"dash\":\"solid\"},\"marker\":{\"symbol\":\"circle\"},\"mode\":\"markers+lines\",\"name\":\"fongicide\",\"showlegend\":true,\"x\":[\"2010-09-16\",\"2011-03-31\",\"2011-11-03\",\"2013-01-07\",\"2014-07-01\",\"2015-09-01\",\"2018-04-01\",\"2019-08-01\",\"2021-08-01\"],\"xaxis\":\"x2\",\"y\":[110.0,22.0,135.0,116.0,125.0,168.0,177.0,146.0,150.0],\"yaxis\":\"y2\",\"type\":\"scattergl\"},{\"hovertemplate\":\"term=fongicide<br>origin=twitter<br>start_segment=%{x}<br>rank=%{y}<extra></extra>\",\"legendgroup\":\"fongicide\",\"line\":{\"color\":\"#B6E880\",\"dash\":\"solid\"},\"marker\":{\"symbol\":\"circle\"},\"mode\":\"markers+lines\",\"name\":\"fongicide\",\"showlegend\":false,\"x\":[\"2010-02-01\",\"2010-09-01\",\"2012-07-01\",\"2013-12-01\",\"2015-10-01\",\"2017-09-01\",\"2019-06-01\",\"2020-08-01\"],\"xaxis\":\"x\",\"y\":[19.0,18.0,33.0,27.0,44.0,40.0,12.0,36.0],\"yaxis\":\"y\",\"type\":\"scattergl\"},{\"hovertemplate\":\"term=guadeloupe<br>origin=media<br>start_segment=%{x}<br>rank=%{y}<extra></extra>\",\"legendgroup\":\"guadeloupe\",\"line\":{\"color\":\"#FF97FF\",\"dash\":\"solid\"},\"marker\":{\"symbol\":\"circle\"},\"mode\":\"markers+lines\",\"name\":\"guadeloupe\",\"showlegend\":true,\"x\":[\"2011-11-03\",\"2013-01-07\",\"2014-07-01\",\"2015-09-01\",\"2018-04-01\",\"2019-08-01\",\"2021-08-01\"],\"xaxis\":\"x2\",\"y\":[194.0,151.0,175.0,245.0,151.0,149.0,3.0],\"yaxis\":\"y2\",\"type\":\"scattergl\"},{\"hovertemplate\":\"term=hulot<br>origin=media<br>start_segment=%{x}<br>rank=%{y}<extra></extra>\",\"legendgroup\":\"hulot\",\"line\":{\"color\":\"#FECB52\",\"dash\":\"solid\"},\"marker\":{\"symbol\":\"circle\"},\"mode\":\"markers+lines\",\"name\":\"hulot\",\"showlegend\":true,\"x\":[\"2010-09-16\",\"2011-09-08\",\"2011-11-03\",\"2013-01-07\",\"2014-07-01\",\"2015-09-01\",\"2018-04-01\",\"2019-08-01\",\"2021-08-01\"],\"xaxis\":\"x2\",\"y\":[105.0,19.0,26.0,289.0,195.0,22.0,10.0,174.0,88.0],\"yaxis\":\"y2\",\"type\":\"scattergl\"},{\"hovertemplate\":\"term=hulot<br>origin=twitter<br>start_segment=%{x}<br>rank=%{y}<extra></extra>\",\"legendgroup\":\"hulot\",\"line\":{\"color\":\"#FECB52\",\"dash\":\"solid\"},\"marker\":{\"symbol\":\"circle\"},\"mode\":\"markers+lines\",\"name\":\"hulot\",\"showlegend\":false,\"x\":[\"2010-02-01\",\"2013-12-01\",\"2015-10-01\",\"2017-09-01\",\"2019-06-01\",\"2020-08-01\"],\"xaxis\":\"x\",\"y\":[166.0,139.0,36.0,24.0,207.0,179.0],\"yaxis\":\"y\",\"type\":\"scattergl\"},{\"hovertemplate\":\"term=journaliste<br>origin=media<br>start_segment=%{x}<br>rank=%{y}<extra></extra>\",\"legendgroup\":\"journaliste\",\"line\":{\"color\":\"#636efa\",\"dash\":\"solid\"},\"marker\":{\"symbol\":\"circle\"},\"mode\":\"markers+lines\",\"name\":\"journaliste\",\"showlegend\":true,\"x\":[\"2011-01-19\",\"2011-11-03\",\"2013-01-07\",\"2014-07-01\",\"2015-09-01\",\"2018-04-01\",\"2019-08-01\",\"2021-08-01\"],\"xaxis\":\"x2\",\"y\":[12.0,113.0,107.0,78.0,92.0,68.0,85.0,59.0],\"yaxis\":\"y2\",\"type\":\"scattergl\"},{\"hovertemplate\":\"term=limite<br>origin=media<br>start_segment=%{x}<br>rank=%{y}<extra></extra>\",\"legendgroup\":\"limite\",\"line\":{\"color\":\"#EF553B\",\"dash\":\"solid\"},\"marker\":{\"symbol\":\"circle\"},\"mode\":\"markers+lines\",\"name\":\"limite\",\"showlegend\":true,\"x\":[\"2010-09-16\",\"2011-03-31\",\"2011-09-08\",\"2011-11-03\",\"2013-01-07\",\"2014-07-01\",\"2015-09-01\",\"2018-04-01\",\"2019-08-01\",\"2021-08-01\"],\"xaxis\":\"x2\",\"y\":[78.0,54.0,18.0,91.0,101.0,93.0,87.0,114.0,93.0,86.0],\"yaxis\":\"y2\",\"type\":\"scattergl\"},{\"hovertemplate\":\"term=martinique<br>origin=media<br>start_segment=%{x}<br>rank=%{y}<extra></extra>\",\"legendgroup\":\"martinique\",\"line\":{\"color\":\"#00cc96\",\"dash\":\"solid\"},\"marker\":{\"symbol\":\"circle\"},\"mode\":\"markers+lines\",\"name\":\"martinique\",\"showlegend\":true,\"x\":[\"2011-11-03\",\"2013-01-07\",\"2014-07-01\",\"2015-09-01\",\"2018-04-01\",\"2019-08-01\",\"2021-08-01\"],\"xaxis\":\"x2\",\"y\":[242.0,174.0,196.0,251.0,145.0,141.0,10.0],\"yaxis\":\"y2\",\"type\":\"scattergl\"},{\"hovertemplate\":\"term=mol\\u00e9cules<br>origin=media<br>start_segment=%{x}<br>rank=%{y}<extra></extra>\",\"legendgroup\":\"mol\\u00e9cules\",\"line\":{\"color\":\"#ab63fa\",\"dash\":\"solid\"},\"marker\":{\"symbol\":\"circle\"},\"mode\":\"markers+lines\",\"name\":\"mol\\u00e9cules\",\"showlegend\":true,\"x\":[\"2010-09-16\",\"2011-03-31\",\"2011-09-08\",\"2011-11-03\",\"2012-11-14\",\"2013-01-07\",\"2014-07-01\",\"2015-09-01\",\"2018-04-01\",\"2019-08-01\",\"2021-08-01\"],\"xaxis\":\"x2\",\"y\":[90.0,57.0,38.0,106.0,14.0,65.0,84.0,63.0,103.0,91.0,70.0],\"yaxis\":\"y2\",\"type\":\"scattergl\"},{\"hovertemplate\":\"term=moustique<br>origin=media<br>start_segment=%{x}<br>rank=%{y}<extra></extra>\",\"legendgroup\":\"moustique\",\"line\":{\"color\":\"#FFA15A\",\"dash\":\"solid\"},\"marker\":{\"symbol\":\"circle\"},\"mode\":\"markers+lines\",\"name\":\"moustique\",\"showlegend\":true,\"x\":[\"2011-03-31\",\"2011-11-03\",\"2012-11-14\",\"2013-01-07\",\"2014-07-01\",\"2015-09-01\",\"2018-04-01\",\"2019-08-01\",\"2021-08-01\"],\"xaxis\":\"x2\",\"y\":[16.0,244.0,6.0,61.0,36.0,96.0,100.0,86.0,52.0],\"yaxis\":\"y2\",\"type\":\"scattergl\"},{\"hovertemplate\":\"term=nicolas hulot<br>origin=media<br>start_segment=%{x}<br>rank=%{y}<extra></extra>\",\"legendgroup\":\"nicolas hulot\",\"line\":{\"color\":\"#19d3f3\",\"dash\":\"solid\"},\"marker\":{\"symbol\":\"circle\"},\"mode\":\"markers+lines\",\"name\":\"nicolas hulot\",\"showlegend\":true,\"x\":[\"2011-09-08\",\"2011-11-03\",\"2013-01-07\",\"2014-07-01\",\"2015-09-01\",\"2018-04-01\",\"2019-08-01\",\"2021-08-01\"],\"xaxis\":\"x2\",\"y\":[20.0,32.0,337.0,215.0,37.0,16.0,186.0,102.0],\"yaxis\":\"y2\",\"type\":\"scattergl\"},{\"hovertemplate\":\"term=parasite<br>origin=media<br>start_segment=%{x}<br>rank=%{y}<extra></extra>\",\"legendgroup\":\"parasite\",\"line\":{\"color\":\"#FF6692\",\"dash\":\"solid\"},\"marker\":{\"symbol\":\"circle\"},\"mode\":\"markers+lines\",\"name\":\"parasite\",\"showlegend\":true,\"x\":[\"2011-03-31\",\"2011-11-03\",\"2012-11-14\",\"2013-01-07\",\"2014-07-01\",\"2015-09-01\",\"2018-04-01\",\"2019-08-01\",\"2021-08-01\"],\"xaxis\":\"x2\",\"y\":[3.0,146.0,2.0,92.0,81.0,163.0,193.0,197.0,103.0],\"yaxis\":\"y2\",\"type\":\"scattergl\"},{\"hovertemplate\":\"term=paris<br>origin=media<br>start_segment=%{x}<br>rank=%{y}<extra></extra>\",\"legendgroup\":\"paris\",\"line\":{\"color\":\"#B6E880\",\"dash\":\"solid\"},\"marker\":{\"symbol\":\"circle\"},\"mode\":\"markers+lines\",\"name\":\"paris\",\"showlegend\":true,\"x\":[\"2010-09-16\",\"2011-01-19\",\"2011-09-08\",\"2011-11-03\",\"2013-01-07\",\"2014-07-01\",\"2015-09-01\",\"2018-04-01\",\"2019-08-01\",\"2021-08-01\"],\"xaxis\":\"x2\",\"y\":[32.0,19.0,7.0,84.0,36.0,27.0,23.0,27.0,26.0,43.0],\"yaxis\":\"y2\",\"type\":\"scattergl\"},{\"hovertemplate\":\"term=paris<br>origin=twitter<br>start_segment=%{x}<br>rank=%{y}<extra></extra>\",\"legendgroup\":\"paris\",\"line\":{\"color\":\"#B6E880\",\"dash\":\"solid\"},\"marker\":{\"symbol\":\"circle\"},\"mode\":\"markers+lines\",\"name\":\"paris\",\"showlegend\":false,\"x\":[\"2010-02-01\",\"2010-09-01\",\"2012-07-01\",\"2013-12-01\",\"2015-10-01\",\"2017-09-01\",\"2019-06-01\",\"2020-08-01\"],\"xaxis\":\"x\",\"y\":[24.0,24.0,87.0,85.0,46.0,95.0,65.0,101.0],\"yaxis\":\"y\",\"type\":\"scattergl\"},{\"hovertemplate\":\"term=premier ministre<br>origin=media<br>start_segment=%{x}<br>rank=%{y}<extra></extra>\",\"legendgroup\":\"premier ministre\",\"line\":{\"color\":\"#FF97FF\",\"dash\":\"solid\"},\"marker\":{\"symbol\":\"circle\"},\"mode\":\"markers+lines\",\"name\":\"premier ministre\",\"showlegend\":true,\"x\":[\"2011-01-19\",\"2011-11-03\",\"2013-01-07\",\"2014-07-01\",\"2015-09-01\",\"2018-04-01\",\"2019-08-01\",\"2021-08-01\"],\"xaxis\":\"x2\",\"y\":[20.0,198.0,227.0,182.0,115.0,132.0,157.0,180.0],\"yaxis\":\"y2\",\"type\":\"scattergl\"},{\"hovertemplate\":\"term=renouvellement<br>origin=media<br>start_segment=%{x}<br>rank=%{y}<extra></extra>\",\"legendgroup\":\"renouvellement\",\"line\":{\"color\":\"#FECB52\",\"dash\":\"solid\"},\"marker\":{\"symbol\":\"circle\"},\"mode\":\"markers+lines\",\"name\":\"renouvellement\",\"showlegend\":true,\"x\":[\"2011-09-08\",\"2011-11-03\",\"2012-11-14\",\"2013-01-07\",\"2014-07-01\",\"2015-09-01\",\"2018-04-01\",\"2019-08-01\",\"2021-08-01\"],\"xaxis\":\"x2\",\"y\":[13.0,46.0,86.0,238.0,220.0,74.0,219.0,255.0,257.0],\"yaxis\":\"y2\",\"type\":\"scattergl\"},{\"hovertemplate\":\"term=r\\u00e9gions<br>origin=media<br>start_segment=%{x}<br>rank=%{y}<extra></extra>\",\"legendgroup\":\"r\\u00e9gions\",\"line\":{\"color\":\"#636efa\",\"dash\":\"solid\"},\"marker\":{\"symbol\":\"circle\"},\"mode\":\"markers+lines\",\"name\":\"r\\u00e9gions\",\"showlegend\":true,\"x\":[\"2010-09-16\",\"2011-01-19\",\"2011-03-31\",\"2011-11-03\",\"2012-11-14\",\"2013-01-07\",\"2014-07-01\",\"2015-09-01\",\"2018-04-01\",\"2019-08-01\",\"2021-08-01\"],\"xaxis\":\"x2\",\"y\":[15.0,94.0,34.0,104.0,33.0,16.0,16.0,31.0,40.0,25.0,40.0],\"yaxis\":\"y2\",\"type\":\"scattergl\"},{\"hovertemplate\":\"term=r\\u00e9sidus<br>origin=media<br>start_segment=%{x}<br>rank=%{y}<extra></extra>\",\"legendgroup\":\"r\\u00e9sidus\",\"line\":{\"color\":\"#EF553B\",\"dash\":\"solid\"},\"marker\":{\"symbol\":\"circle\"},\"mode\":\"markers+lines\",\"name\":\"r\\u00e9sidus\",\"showlegend\":true,\"x\":[\"2010-09-16\",\"2011-11-03\",\"2013-01-07\",\"2014-07-01\",\"2015-09-01\",\"2018-04-01\",\"2019-08-01\",\"2021-08-01\"],\"xaxis\":\"x2\",\"y\":[14.0,200.0,115.0,90.0,85.0,101.0,127.0,95.0],\"yaxis\":\"y2\",\"type\":\"scattergl\"},{\"hovertemplate\":\"term=r\\u00e9sidus<br>origin=twitter<br>start_segment=%{x}<br>rank=%{y}<extra></extra>\",\"legendgroup\":\"r\\u00e9sidus\",\"line\":{\"color\":\"#EF553B\",\"dash\":\"solid\"},\"marker\":{\"symbol\":\"circle\"},\"mode\":\"markers+lines\",\"name\":\"r\\u00e9sidus\",\"showlegend\":false,\"x\":[\"2010-02-01\",\"2010-09-01\",\"2012-07-01\",\"2013-12-01\",\"2015-10-01\",\"2017-09-01\",\"2019-06-01\",\"2020-08-01\"],\"xaxis\":\"x\",\"y\":[14.0,26.0,22.0,19.0,49.0,58.0,40.0,55.0],\"yaxis\":\"y\",\"type\":\"scattergl\"},{\"hovertemplate\":\"term=r\\u00e9sistances<br>origin=media<br>start_segment=%{x}<br>rank=%{y}<extra></extra>\",\"legendgroup\":\"r\\u00e9sistances\",\"line\":{\"color\":\"#00cc96\",\"dash\":\"solid\"},\"marker\":{\"symbol\":\"circle\"},\"mode\":\"markers+lines\",\"name\":\"r\\u00e9sistances\",\"showlegend\":true,\"x\":[\"2011-01-19\",\"2011-03-31\",\"2011-11-03\",\"2012-11-14\",\"2013-01-07\",\"2014-07-01\",\"2015-09-01\",\"2018-04-01\",\"2019-08-01\",\"2021-08-01\"],\"xaxis\":\"x2\",\"y\":[55.0,21.0,116.0,20.0,132.0,123.0,160.0,178.0,162.0,118.0],\"yaxis\":\"y2\",\"type\":\"scattergl\"},{\"hovertemplate\":\"term=serres<br>origin=media<br>start_segment=%{x}<br>rank=%{y}<extra></extra>\",\"legendgroup\":\"serres\",\"line\":{\"color\":\"#ab63fa\",\"dash\":\"solid\"},\"marker\":{\"symbol\":\"circle\"},\"mode\":\"markers+lines\",\"name\":\"serres\",\"showlegend\":true,\"x\":[\"2011-01-19\",\"2011-11-03\",\"2013-01-07\",\"2014-07-01\",\"2015-09-01\",\"2018-04-01\",\"2019-08-01\",\"2021-08-01\"],\"xaxis\":\"x2\",\"y\":[7.0,218.0,98.0,102.0,120.0,116.0,88.0,80.0],\"yaxis\":\"y2\",\"type\":\"scattergl\"},{\"hovertemplate\":\"term=substances<br>origin=media<br>start_segment=%{x}<br>rank=%{y}<extra></extra>\",\"legendgroup\":\"substances\",\"line\":{\"color\":\"#FFA15A\",\"dash\":\"solid\"},\"marker\":{\"symbol\":\"circle\"},\"mode\":\"markers+lines\",\"name\":\"substances\",\"showlegend\":true,\"x\":[\"2010-09-16\",\"2011-03-31\",\"2011-09-08\",\"2011-11-03\",\"2012-11-14\",\"2013-01-07\",\"2014-07-01\",\"2015-09-01\",\"2018-04-01\",\"2019-08-01\",\"2021-08-01\"],\"xaxis\":\"x2\",\"y\":[7.0,90.0,6.0,36.0,25.0,48.0,38.0,11.0,21.0,38.0,28.0],\"yaxis\":\"y2\",\"type\":\"scattergl\"},{\"hovertemplate\":\"term=sucre<br>origin=media<br>start_segment=%{x}<br>rank=%{y}<extra></extra>\",\"legendgroup\":\"sucre\",\"line\":{\"color\":\"#19d3f3\",\"dash\":\"solid\"},\"marker\":{\"symbol\":\"circle\"},\"mode\":\"markers+lines\",\"name\":\"sucre\",\"showlegend\":true,\"x\":[\"2010-09-16\",\"2011-11-03\",\"2012-11-14\",\"2013-01-07\",\"2014-07-01\",\"2015-09-01\",\"2018-04-01\",\"2019-08-01\",\"2021-08-01\"],\"xaxis\":\"x2\",\"y\":[124.0,97.0,16.0,155.0,199.0,175.0,112.0,69.0,104.0],\"yaxis\":\"y2\",\"type\":\"scattergl\"},{\"hovertemplate\":\"term=transition<br>origin=media<br>start_segment=%{x}<br>rank=%{y}<extra></extra>\",\"legendgroup\":\"transition\",\"line\":{\"color\":\"#FF6692\",\"dash\":\"solid\"},\"marker\":{\"symbol\":\"circle\"},\"mode\":\"markers+lines\",\"name\":\"transition\",\"showlegend\":true,\"x\":[\"2011-01-19\",\"2011-03-31\",\"2011-09-08\",\"2011-11-03\",\"2013-01-07\",\"2014-07-01\",\"2015-09-01\",\"2018-04-01\",\"2019-08-01\",\"2021-08-01\"],\"xaxis\":\"x2\",\"y\":[62.0,93.0,21.0,73.0,163.0,114.0,42.0,31.0,40.0,64.0],\"yaxis\":\"y2\",\"type\":\"scattergl\"},{\"hovertemplate\":\"term=viandes<br>origin=media<br>start_segment=%{x}<br>rank=%{y}<extra></extra>\",\"legendgroup\":\"viandes\",\"line\":{\"color\":\"#B6E880\",\"dash\":\"solid\"},\"marker\":{\"symbol\":\"circle\"},\"mode\":\"markers+lines\",\"name\":\"viandes\",\"showlegend\":true,\"x\":[\"2010-09-16\",\"2011-01-19\",\"2011-11-03\",\"2013-01-07\",\"2014-07-01\",\"2015-09-01\",\"2018-04-01\",\"2019-08-01\",\"2021-08-01\"],\"xaxis\":\"x2\",\"y\":[126.0,1.0,160.0,54.0,82.0,79.0,74.0,77.0,129.0],\"yaxis\":\"y2\",\"type\":\"scattergl\"},{\"hovertemplate\":\"term=vignes<br>origin=media<br>start_segment=%{x}<br>rank=%{y}<extra></extra>\",\"legendgroup\":\"vignes\",\"line\":{\"color\":\"#FF97FF\",\"dash\":\"solid\"},\"marker\":{\"symbol\":\"circle\"},\"mode\":\"markers+lines\",\"name\":\"vignes\",\"showlegend\":true,\"x\":[\"2011-11-03\",\"2013-01-07\",\"2014-07-01\",\"2015-09-01\",\"2018-04-01\",\"2019-08-01\",\"2021-08-01\"],\"xaxis\":\"x2\",\"y\":[167.0,18.0,49.0,86.0,121.0,94.0,94.0],\"yaxis\":\"y2\",\"type\":\"scattergl\"},{\"hovertemplate\":\"term=vins<br>origin=media<br>start_segment=%{x}<br>rank=%{y}<extra></extra>\",\"legendgroup\":\"vins\",\"line\":{\"color\":\"#FECB52\",\"dash\":\"solid\"},\"marker\":{\"symbol\":\"circle\"},\"mode\":\"markers+lines\",\"name\":\"vins\",\"showlegend\":true,\"x\":[\"2011-11-03\",\"2013-01-07\",\"2014-07-01\",\"2015-09-01\",\"2018-04-01\",\"2019-08-01\",\"2021-08-01\"],\"xaxis\":\"x2\",\"y\":[186.0,17.0,53.0,39.0,58.0,64.0,145.0],\"yaxis\":\"y2\",\"type\":\"scattergl\"},{\"hovertemplate\":\"term=vins<br>origin=twitter<br>start_segment=%{x}<br>rank=%{y}<extra></extra>\",\"legendgroup\":\"vins\",\"line\":{\"color\":\"#FECB52\",\"dash\":\"solid\"},\"marker\":{\"symbol\":\"circle\"},\"mode\":\"markers+lines\",\"name\":\"vins\",\"showlegend\":false,\"x\":[\"2010-02-01\",\"2010-09-01\",\"2012-07-01\",\"2013-12-01\",\"2015-10-01\",\"2017-09-01\",\"2019-06-01\",\"2020-08-01\"],\"xaxis\":\"x\",\"y\":[27.0,28.0,11.0,23.0,28.0,45.0,98.0,68.0],\"yaxis\":\"y\",\"type\":\"scattergl\"},{\"hovertemplate\":\"term=virus<br>origin=media<br>start_segment=%{x}<br>rank=%{y}<extra></extra>\",\"legendgroup\":\"virus\",\"line\":{\"color\":\"#636efa\",\"dash\":\"solid\"},\"marker\":{\"symbol\":\"circle\"},\"mode\":\"markers+lines\",\"name\":\"virus\",\"showlegend\":true,\"x\":[\"2011-11-03\",\"2013-01-07\",\"2014-07-01\",\"2015-09-01\",\"2018-04-01\",\"2019-08-01\",\"2021-08-01\"],\"xaxis\":\"x2\",\"y\":[30.0,141.0,58.0,105.0,164.0,51.0,11.0],\"yaxis\":\"y2\",\"type\":\"scattergl\"},{\"hovertemplate\":\"term=vitamines<br>origin=media<br>start_segment=%{x}<br>rank=%{y}<extra></extra>\",\"legendgroup\":\"vitamines\",\"line\":{\"color\":\"#EF553B\",\"dash\":\"solid\"},\"marker\":{\"symbol\":\"circle\"},\"mode\":\"markers+lines\",\"name\":\"vitamines\",\"showlegend\":true,\"x\":[\"2010-09-16\",\"2011-11-03\",\"2013-01-07\",\"2014-07-01\",\"2015-09-01\",\"2018-04-01\",\"2019-08-01\",\"2021-08-01\"],\"xaxis\":\"x2\",\"y\":[4.0,208.0,171.0,191.0,193.0,170.0,160.0,141.0],\"yaxis\":\"y2\",\"type\":\"scattergl\"},{\"hovertemplate\":\"term=\\u00e9cologiste<br>origin=media<br>start_segment=%{x}<br>rank=%{y}<extra></extra>\",\"legendgroup\":\"\\u00e9cologiste\",\"line\":{\"color\":\"#00cc96\",\"dash\":\"solid\"},\"marker\":{\"symbol\":\"circle\"},\"mode\":\"markers+lines\",\"name\":\"\\u00e9cologiste\",\"showlegend\":true,\"x\":[\"2010-09-16\",\"2011-01-19\",\"2011-03-31\",\"2011-11-03\",\"2013-01-07\",\"2014-07-01\",\"2015-09-01\",\"2018-04-01\",\"2019-08-01\",\"2021-08-01\"],\"xaxis\":\"x2\",\"y\":[121.0,11.0,43.0,54.0,75.0,64.0,101.0,64.0,47.0,45.0],\"yaxis\":\"y2\",\"type\":\"scattergl\"},{\"hovertemplate\":\"term=\\u00e9mission<br>origin=media<br>start_segment=%{x}<br>rank=%{y}<extra></extra>\",\"legendgroup\":\"\\u00e9mission\",\"line\":{\"color\":\"#ab63fa\",\"dash\":\"solid\"},\"marker\":{\"symbol\":\"circle\"},\"mode\":\"markers+lines\",\"name\":\"\\u00e9mission\",\"showlegend\":true,\"x\":[\"2010-09-16\",\"2011-01-19\",\"2013-01-07\",\"2014-07-01\",\"2015-09-01\",\"2018-04-01\",\"2019-08-01\",\"2021-08-01\"],\"xaxis\":\"x2\",\"y\":[60.0,9.0,165.0,106.0,154.0,133.0,100.0,85.0],\"yaxis\":\"y2\",\"type\":\"scattergl\"},{\"hovertemplate\":\"term=\\u00e9missions de gaz<br>origin=media<br>start_segment=%{x}<br>rank=%{y}<extra></extra>\",\"legendgroup\":\"\\u00e9missions de gaz\",\"line\":{\"color\":\"#FFA15A\",\"dash\":\"solid\"},\"marker\":{\"symbol\":\"circle\"},\"mode\":\"markers+lines\",\"name\":\"\\u00e9missions de gaz\",\"showlegend\":true,\"x\":[\"2010-09-16\",\"2011-01-19\",\"2013-01-07\",\"2014-07-01\",\"2015-09-01\",\"2018-04-01\",\"2019-08-01\",\"2021-08-01\"],\"xaxis\":\"x2\",\"y\":[120.0,21.0,325.0,241.0,274.0,231.0,213.0,198.0],\"yaxis\":\"y2\",\"type\":\"scattergl\"},{\"hovertemplate\":\"term=alternatives aux pesticides<br>origin=twitter<br>start_segment=%{x}<br>rank=%{y}<extra></extra>\",\"legendgroup\":\"alternatives aux pesticides\",\"line\":{\"color\":\"#19d3f3\",\"dash\":\"solid\"},\"marker\":{\"symbol\":\"circle\"},\"mode\":\"markers+lines\",\"name\":\"alternatives aux pesticides\",\"showlegend\":true,\"x\":[\"2010-02-01\",\"2010-09-01\",\"2012-07-01\",\"2013-12-01\",\"2015-10-01\",\"2017-09-01\",\"2019-06-01\",\"2020-08-01\"],\"xaxis\":\"x\",\"y\":[22.0,20.0,26.0,28.0,48.0,117.0,180.0,169.0],\"yaxis\":\"y\",\"type\":\"scattergl\"},{\"hovertemplate\":\"term=apiculteur<br>origin=twitter<br>start_segment=%{x}<br>rank=%{y}<extra></extra>\",\"legendgroup\":\"apiculteur\",\"line\":{\"color\":\"#FF6692\",\"dash\":\"solid\"},\"marker\":{\"symbol\":\"circle\"},\"mode\":\"markers+lines\",\"name\":\"apiculteur\",\"showlegend\":true,\"x\":[\"2010-02-01\",\"2010-09-01\",\"2012-07-01\",\"2013-12-01\",\"2015-10-01\",\"2017-09-01\",\"2019-06-01\",\"2020-08-01\"],\"xaxis\":\"x\",\"y\":[49.0,13.0,39.0,73.0,136.0,84.0,150.0,107.0],\"yaxis\":\"y\",\"type\":\"scattergl\"},{\"hovertemplate\":\"term=bruxelles<br>origin=twitter<br>start_segment=%{x}<br>rank=%{y}<extra></extra>\",\"legendgroup\":\"bruxelles\",\"line\":{\"color\":\"#B6E880\",\"dash\":\"solid\"},\"marker\":{\"symbol\":\"circle\"},\"mode\":\"markers+lines\",\"name\":\"bruxelles\",\"showlegend\":true,\"x\":[\"2010-02-01\",\"2010-09-01\",\"2012-07-01\",\"2013-12-01\",\"2015-10-01\",\"2017-09-01\",\"2019-06-01\",\"2020-08-01\"],\"xaxis\":\"x\",\"y\":[202.0,94.0,28.0,162.0,22.0,110.0,232.0,227.0],\"yaxis\":\"y\",\"type\":\"scattergl\"},{\"hovertemplate\":\"term=cours d'eau<br>origin=twitter<br>start_segment=%{x}<br>rank=%{y}<extra></extra>\",\"legendgroup\":\"cours d'eau\",\"line\":{\"color\":\"#FF97FF\",\"dash\":\"solid\"},\"marker\":{\"symbol\":\"circle\"},\"mode\":\"markers+lines\",\"name\":\"cours d'eau\",\"showlegend\":true,\"x\":[\"2010-02-01\",\"2010-09-01\",\"2012-07-01\",\"2013-12-01\",\"2015-10-01\",\"2017-09-01\",\"2019-06-01\",\"2020-08-01\"],\"xaxis\":\"x\",\"y\":[149.0,115.0,21.0,123.0,122.0,134.0,123.0,166.0],\"yaxis\":\"y\",\"type\":\"scattergl\"},{\"hovertemplate\":\"term=d\\u00e9rogation<br>origin=twitter<br>start_segment=%{x}<br>rank=%{y}<extra></extra>\",\"legendgroup\":\"d\\u00e9rogation\",\"line\":{\"color\":\"#FECB52\",\"dash\":\"solid\"},\"marker\":{\"symbol\":\"circle\"},\"mode\":\"markers+lines\",\"name\":\"d\\u00e9rogation\",\"showlegend\":true,\"x\":[\"2010-02-01\",\"2010-09-01\",\"2012-07-01\",\"2013-12-01\",\"2015-10-01\",\"2017-09-01\",\"2019-06-01\",\"2020-08-01\"],\"xaxis\":\"x\",\"y\":[112.0,54.0,117.0,182.0,108.0,104.0,174.0,11.0],\"yaxis\":\"y\",\"type\":\"scattergl\"},{\"hovertemplate\":\"term=ecologie<br>origin=twitter<br>start_segment=%{x}<br>rank=%{y}<extra></extra>\",\"legendgroup\":\"ecologie\",\"line\":{\"color\":\"#636efa\",\"dash\":\"solid\"},\"marker\":{\"symbol\":\"circle\"},\"mode\":\"markers+lines\",\"name\":\"ecologie\",\"showlegend\":true,\"x\":[\"2010-02-01\",\"2010-09-01\",\"2012-07-01\",\"2013-12-01\",\"2015-10-01\",\"2017-09-01\",\"2019-06-01\",\"2020-08-01\"],\"xaxis\":\"x\",\"y\":[50.0,4.0,48.0,63.0,76.0,96.0,95.0,97.0],\"yaxis\":\"y\",\"type\":\"scattergl\"},{\"hovertemplate\":\"term=greenpeace<br>origin=twitter<br>start_segment=%{x}<br>rank=%{y}<extra></extra>\",\"legendgroup\":\"greenpeace\",\"line\":{\"color\":\"#EF553B\",\"dash\":\"solid\"},\"marker\":{\"symbol\":\"circle\"},\"mode\":\"markers+lines\",\"name\":\"greenpeace\",\"showlegend\":true,\"x\":[\"2010-02-01\",\"2010-09-01\",\"2012-07-01\",\"2013-12-01\",\"2015-10-01\",\"2017-09-01\",\"2019-06-01\",\"2020-08-01\"],\"xaxis\":\"x\",\"y\":[165.0,50.0,34.0,22.0,26.0,168.0,204.0,198.0],\"yaxis\":\"y\",\"type\":\"scattergl\"},{\"hovertemplate\":\"term=interdiction<br>origin=twitter<br>start_segment=%{x}<br>rank=%{y}<extra></extra>\",\"legendgroup\":\"interdiction\",\"line\":{\"color\":\"#00cc96\",\"dash\":\"solid\"},\"marker\":{\"symbol\":\"circle\"},\"mode\":\"markers+lines\",\"name\":\"interdiction\",\"showlegend\":true,\"x\":[\"2010-02-01\",\"2010-09-01\",\"2012-07-01\",\"2013-12-01\",\"2015-10-01\",\"2017-09-01\",\"2019-06-01\",\"2020-08-01\"],\"xaxis\":\"x\",\"y\":[163.0,49.0,36.0,35.0,18.0,21.0,48.0,32.0],\"yaxis\":\"y\",\"type\":\"scattergl\"},{\"hovertemplate\":\"term=justice<br>origin=twitter<br>start_segment=%{x}<br>rank=%{y}<extra></extra>\",\"legendgroup\":\"justice\",\"line\":{\"color\":\"#ab63fa\",\"dash\":\"solid\"},\"marker\":{\"symbol\":\"circle\"},\"mode\":\"markers+lines\",\"name\":\"justice\",\"showlegend\":true,\"x\":[\"2010-02-01\",\"2010-09-01\",\"2012-07-01\",\"2013-12-01\",\"2015-10-01\",\"2017-09-01\",\"2019-06-01\",\"2020-08-01\"],\"xaxis\":\"x\",\"y\":[47.0,61.0,42.0,50.0,45.0,30.0,21.0,41.0],\"yaxis\":\"y\",\"type\":\"scattergl\"},{\"hovertemplate\":\"term=lobbies<br>origin=twitter<br>start_segment=%{x}<br>rank=%{y}<extra></extra>\",\"legendgroup\":\"lobbies\",\"line\":{\"color\":\"#FFA15A\",\"dash\":\"solid\"},\"marker\":{\"symbol\":\"circle\"},\"mode\":\"markers+lines\",\"name\":\"lobbies\",\"showlegend\":true,\"x\":[\"2010-02-01\",\"2010-09-01\",\"2012-07-01\",\"2013-12-01\",\"2015-10-01\",\"2017-09-01\",\"2019-06-01\",\"2020-08-01\"],\"xaxis\":\"x\",\"y\":[39.0,89.0,93.0,64.0,8.0,18.0,15.0,28.0],\"yaxis\":\"y\",\"type\":\"scattergl\"},{\"hovertemplate\":\"term=parlementaires<br>origin=twitter<br>start_segment=%{x}<br>rank=%{y}<extra></extra>\",\"legendgroup\":\"parlementaires\",\"line\":{\"color\":\"#19d3f3\",\"dash\":\"solid\"},\"marker\":{\"symbol\":\"circle\"},\"mode\":\"markers+lines\",\"name\":\"parlementaires\",\"showlegend\":true,\"x\":[\"2010-02-01\",\"2010-09-01\",\"2012-07-01\",\"2013-12-01\",\"2015-10-01\",\"2017-09-01\",\"2019-06-01\",\"2020-08-01\"],\"xaxis\":\"x\",\"y\":[8.0,219.0,140.0,153.0,95.0,92.0,96.0,114.0],\"yaxis\":\"y\",\"type\":\"scattergl\"},{\"hovertemplate\":\"term=produits chimiques<br>origin=twitter<br>start_segment=%{x}<br>rank=%{y}<extra></extra>\",\"legendgroup\":\"produits chimiques\",\"line\":{\"color\":\"#FF6692\",\"dash\":\"solid\"},\"marker\":{\"symbol\":\"circle\"},\"mode\":\"markers+lines\",\"name\":\"produits chimiques\",\"showlegend\":true,\"x\":[\"2010-02-01\",\"2010-09-01\",\"2012-07-01\",\"2013-12-01\",\"2015-10-01\",\"2017-09-01\",\"2019-06-01\",\"2020-08-01\"],\"xaxis\":\"x\",\"y\":[95.0,74.0,133.0,111.0,9.0,115.0,115.0,110.0],\"yaxis\":\"y\",\"type\":\"scattergl\"},{\"hovertemplate\":\"term=pulv\\u00e9risations<br>origin=twitter<br>start_segment=%{x}<br>rank=%{y}<extra></extra>\",\"legendgroup\":\"pulv\\u00e9risations\",\"line\":{\"color\":\"#B6E880\",\"dash\":\"solid\"},\"marker\":{\"symbol\":\"circle\"},\"mode\":\"markers+lines\",\"name\":\"pulv\\u00e9risations\",\"showlegend\":true,\"x\":[\"2010-02-01\",\"2010-09-01\",\"2012-07-01\",\"2013-12-01\",\"2015-10-01\",\"2017-09-01\",\"2019-06-01\",\"2020-08-01\"],\"xaxis\":\"x\",\"y\":[198.0,62.0,78.0,12.0,158.0,206.0,116.0,138.0],\"yaxis\":\"y\",\"type\":\"scattergl\"},{\"hovertemplate\":\"term=roundup de monsanto<br>origin=twitter<br>start_segment=%{x}<br>rank=%{y}<extra></extra>\",\"legendgroup\":\"roundup de monsanto\",\"line\":{\"color\":\"#FF97FF\",\"dash\":\"solid\"},\"marker\":{\"symbol\":\"circle\"},\"mode\":\"markers+lines\",\"name\":\"roundup de monsanto\",\"showlegend\":true,\"x\":[\"2010-02-01\",\"2010-09-01\",\"2012-07-01\",\"2013-12-01\",\"2015-10-01\",\"2017-09-01\",\"2019-06-01\",\"2020-08-01\"],\"xaxis\":\"x\",\"y\":[223.0,64.0,129.0,14.0,74.0,153.0,193.0,342.0],\"yaxis\":\"y\",\"type\":\"scattergl\"},{\"hovertemplate\":\"term=r\\u00e9colte<br>origin=twitter<br>start_segment=%{x}<br>rank=%{y}<extra></extra>\",\"legendgroup\":\"r\\u00e9colte\",\"line\":{\"color\":\"#FECB52\",\"dash\":\"solid\"},\"marker\":{\"symbol\":\"circle\"},\"mode\":\"markers+lines\",\"name\":\"r\\u00e9colte\",\"showlegend\":true,\"x\":[\"2010-02-01\",\"2010-09-01\",\"2012-07-01\",\"2013-12-01\",\"2015-10-01\",\"2017-09-01\",\"2019-06-01\",\"2020-08-01\"],\"xaxis\":\"x\",\"y\":[101.0,220.0,124.0,24.0,63.0,107.0,92.0,81.0],\"yaxis\":\"y\",\"type\":\"scattergl\"},{\"hovertemplate\":\"term=r\\u00e9sidus de pesticides<br>origin=twitter<br>start_segment=%{x}<br>rank=%{y}<extra></extra>\",\"legendgroup\":\"r\\u00e9sidus de pesticides\",\"line\":{\"color\":\"#636efa\",\"dash\":\"solid\"},\"marker\":{\"symbol\":\"circle\"},\"mode\":\"markers+lines\",\"name\":\"r\\u00e9sidus de pesticides\",\"showlegend\":true,\"x\":[\"2010-02-01\",\"2010-09-01\",\"2012-07-01\",\"2013-12-01\",\"2015-10-01\",\"2017-09-01\",\"2019-06-01\",\"2020-08-01\"],\"xaxis\":\"x\",\"y\":[15.0,42.0,31.0,32.0,93.0,108.0,88.0,109.0],\"yaxis\":\"y\",\"type\":\"scattergl\"},{\"hovertemplate\":\"term=sdhi<br>origin=twitter<br>start_segment=%{x}<br>rank=%{y}<extra></extra>\",\"legendgroup\":\"sdhi\",\"line\":{\"color\":\"#EF553B\",\"dash\":\"solid\"},\"marker\":{\"symbol\":\"circle\"},\"mode\":\"markers+lines\",\"name\":\"sdhi\",\"showlegend\":true,\"x\":[\"2010-09-01\",\"2012-07-01\",\"2013-12-01\",\"2015-10-01\",\"2017-09-01\",\"2019-06-01\",\"2020-08-01\"],\"xaxis\":\"x\",\"y\":[119.0,251.0,263.0,302.0,184.0,20.0,99.0],\"yaxis\":\"y\",\"type\":\"scattergl\"},{\"hovertemplate\":\"term=suspension<br>origin=twitter<br>start_segment=%{x}<br>rank=%{y}<extra></extra>\",\"legendgroup\":\"suspension\",\"line\":{\"color\":\"#00cc96\",\"dash\":\"solid\"},\"marker\":{\"symbol\":\"circle\"},\"mode\":\"markers+lines\",\"name\":\"suspension\",\"showlegend\":true,\"x\":[\"2010-09-01\",\"2012-07-01\",\"2013-12-01\",\"2015-10-01\",\"2017-09-01\",\"2019-06-01\",\"2020-08-01\"],\"xaxis\":\"x\",\"y\":[209.0,53.0,21.0,10.0,191.0,185.0,235.0],\"yaxis\":\"y\",\"type\":\"scattergl\"},{\"hovertemplate\":\"term=traces<br>origin=twitter<br>start_segment=%{x}<br>rank=%{y}<extra></extra>\",\"legendgroup\":\"traces\",\"line\":{\"color\":\"#ab63fa\",\"dash\":\"solid\"},\"marker\":{\"symbol\":\"circle\"},\"mode\":\"markers+lines\",\"name\":\"traces\",\"showlegend\":true,\"x\":[\"2010-02-01\",\"2010-09-01\",\"2012-07-01\",\"2013-12-01\",\"2015-10-01\",\"2017-09-01\",\"2019-06-01\",\"2020-08-01\"],\"xaxis\":\"x\",\"y\":[26.0,65.0,10.0,70.0,107.0,67.0,107.0,80.0],\"yaxis\":\"y\",\"type\":\"scattergl\"},{\"hovertemplate\":\"term=troubles<br>origin=twitter<br>start_segment=%{x}<br>rank=%{y}<extra></extra>\",\"legendgroup\":\"troubles\",\"line\":{\"color\":\"#FFA15A\",\"dash\":\"solid\"},\"marker\":{\"symbol\":\"circle\"},\"mode\":\"markers+lines\",\"name\":\"troubles\",\"showlegend\":true,\"x\":[\"2010-02-01\",\"2010-09-01\",\"2012-07-01\",\"2013-12-01\",\"2015-10-01\",\"2017-09-01\",\"2019-06-01\",\"2020-08-01\"],\"xaxis\":\"x\",\"y\":[17.0,121.0,167.0,214.0,111.0,209.0,221.0,199.0],\"yaxis\":\"y\",\"type\":\"scattergl\"},{\"hovertemplate\":\"term=ue<br>origin=twitter<br>start_segment=%{x}<br>rank=%{y}<extra></extra>\",\"legendgroup\":\"ue\",\"line\":{\"color\":\"#19d3f3\",\"dash\":\"solid\"},\"marker\":{\"symbol\":\"circle\"},\"mode\":\"markers+lines\",\"name\":\"ue\",\"showlegend\":true,\"x\":[\"2010-02-01\",\"2010-09-01\",\"2012-07-01\",\"2013-12-01\",\"2015-10-01\",\"2017-09-01\",\"2019-06-01\",\"2020-08-01\"],\"xaxis\":\"x\",\"y\":[175.0,110.0,16.0,121.0,75.0,100.0,154.0,163.0],\"yaxis\":\"y\",\"type\":\"scattergl\"}],                        {\"template\":{\"data\":{\"bar\":[{\"error_x\":{\"color\":\"#2a3f5f\"},\"error_y\":{\"color\":\"#2a3f5f\"},\"marker\":{\"line\":{\"color\":\"#E5ECF6\",\"width\":0.5},\"pattern\":{\"fillmode\":\"overlay\",\"size\":10,\"solidity\":0.2}},\"type\":\"bar\"}],\"barpolar\":[{\"marker\":{\"line\":{\"color\":\"#E5ECF6\",\"width\":0.5},\"pattern\":{\"fillmode\":\"overlay\",\"size\":10,\"solidity\":0.2}},\"type\":\"barpolar\"}],\"carpet\":[{\"aaxis\":{\"endlinecolor\":\"#2a3f5f\",\"gridcolor\":\"white\",\"linecolor\":\"white\",\"minorgridcolor\":\"white\",\"startlinecolor\":\"#2a3f5f\"},\"baxis\":{\"endlinecolor\":\"#2a3f5f\",\"gridcolor\":\"white\",\"linecolor\":\"white\",\"minorgridcolor\":\"white\",\"startlinecolor\":\"#2a3f5f\"},\"type\":\"carpet\"}],\"choropleth\":[{\"colorbar\":{\"outlinewidth\":0,\"ticks\":\"\"},\"type\":\"choropleth\"}],\"contour\":[{\"colorbar\":{\"outlinewidth\":0,\"ticks\":\"\"},\"colorscale\":[[0.0,\"#0d0887\"],[0.1111111111111111,\"#46039f\"],[0.2222222222222222,\"#7201a8\"],[0.3333333333333333,\"#9c179e\"],[0.4444444444444444,\"#bd3786\"],[0.5555555555555556,\"#d8576b\"],[0.6666666666666666,\"#ed7953\"],[0.7777777777777778,\"#fb9f3a\"],[0.8888888888888888,\"#fdca26\"],[1.0,\"#f0f921\"]],\"type\":\"contour\"}],\"contourcarpet\":[{\"colorbar\":{\"outlinewidth\":0,\"ticks\":\"\"},\"type\":\"contourcarpet\"}],\"heatmap\":[{\"colorbar\":{\"outlinewidth\":0,\"ticks\":\"\"},\"colorscale\":[[0.0,\"#0d0887\"],[0.1111111111111111,\"#46039f\"],[0.2222222222222222,\"#7201a8\"],[0.3333333333333333,\"#9c179e\"],[0.4444444444444444,\"#bd3786\"],[0.5555555555555556,\"#d8576b\"],[0.6666666666666666,\"#ed7953\"],[0.7777777777777778,\"#fb9f3a\"],[0.8888888888888888,\"#fdca26\"],[1.0,\"#f0f921\"]],\"type\":\"heatmap\"}],\"heatmapgl\":[{\"colorbar\":{\"outlinewidth\":0,\"ticks\":\"\"},\"colorscale\":[[0.0,\"#0d0887\"],[0.1111111111111111,\"#46039f\"],[0.2222222222222222,\"#7201a8\"],[0.3333333333333333,\"#9c179e\"],[0.4444444444444444,\"#bd3786\"],[0.5555555555555556,\"#d8576b\"],[0.6666666666666666,\"#ed7953\"],[0.7777777777777778,\"#fb9f3a\"],[0.8888888888888888,\"#fdca26\"],[1.0,\"#f0f921\"]],\"type\":\"heatmapgl\"}],\"histogram\":[{\"marker\":{\"pattern\":{\"fillmode\":\"overlay\",\"size\":10,\"solidity\":0.2}},\"type\":\"histogram\"}],\"histogram2d\":[{\"colorbar\":{\"outlinewidth\":0,\"ticks\":\"\"},\"colorscale\":[[0.0,\"#0d0887\"],[0.1111111111111111,\"#46039f\"],[0.2222222222222222,\"#7201a8\"],[0.3333333333333333,\"#9c179e\"],[0.4444444444444444,\"#bd3786\"],[0.5555555555555556,\"#d8576b\"],[0.6666666666666666,\"#ed7953\"],[0.7777777777777778,\"#fb9f3a\"],[0.8888888888888888,\"#fdca26\"],[1.0,\"#f0f921\"]],\"type\":\"histogram2d\"}],\"histogram2dcontour\":[{\"colorbar\":{\"outlinewidth\":0,\"ticks\":\"\"},\"colorscale\":[[0.0,\"#0d0887\"],[0.1111111111111111,\"#46039f\"],[0.2222222222222222,\"#7201a8\"],[0.3333333333333333,\"#9c179e\"],[0.4444444444444444,\"#bd3786\"],[0.5555555555555556,\"#d8576b\"],[0.6666666666666666,\"#ed7953\"],[0.7777777777777778,\"#fb9f3a\"],[0.8888888888888888,\"#fdca26\"],[1.0,\"#f0f921\"]],\"type\":\"histogram2dcontour\"}],\"mesh3d\":[{\"colorbar\":{\"outlinewidth\":0,\"ticks\":\"\"},\"type\":\"mesh3d\"}],\"parcoords\":[{\"line\":{\"colorbar\":{\"outlinewidth\":0,\"ticks\":\"\"}},\"type\":\"parcoords\"}],\"pie\":[{\"automargin\":true,\"type\":\"pie\"}],\"scatter\":[{\"marker\":{\"colorbar\":{\"outlinewidth\":0,\"ticks\":\"\"}},\"type\":\"scatter\"}],\"scatter3d\":[{\"line\":{\"colorbar\":{\"outlinewidth\":0,\"ticks\":\"\"}},\"marker\":{\"colorbar\":{\"outlinewidth\":0,\"ticks\":\"\"}},\"type\":\"scatter3d\"}],\"scattercarpet\":[{\"marker\":{\"colorbar\":{\"outlinewidth\":0,\"ticks\":\"\"}},\"type\":\"scattercarpet\"}],\"scattergeo\":[{\"marker\":{\"colorbar\":{\"outlinewidth\":0,\"ticks\":\"\"}},\"type\":\"scattergeo\"}],\"scattergl\":[{\"marker\":{\"colorbar\":{\"outlinewidth\":0,\"ticks\":\"\"}},\"type\":\"scattergl\"}],\"scattermapbox\":[{\"marker\":{\"colorbar\":{\"outlinewidth\":0,\"ticks\":\"\"}},\"type\":\"scattermapbox\"}],\"scatterpolar\":[{\"marker\":{\"colorbar\":{\"outlinewidth\":0,\"ticks\":\"\"}},\"type\":\"scatterpolar\"}],\"scatterpolargl\":[{\"marker\":{\"colorbar\":{\"outlinewidth\":0,\"ticks\":\"\"}},\"type\":\"scatterpolargl\"}],\"scatterternary\":[{\"marker\":{\"colorbar\":{\"outlinewidth\":0,\"ticks\":\"\"}},\"type\":\"scatterternary\"}],\"surface\":[{\"colorbar\":{\"outlinewidth\":0,\"ticks\":\"\"},\"colorscale\":[[0.0,\"#0d0887\"],[0.1111111111111111,\"#46039f\"],[0.2222222222222222,\"#7201a8\"],[0.3333333333333333,\"#9c179e\"],[0.4444444444444444,\"#bd3786\"],[0.5555555555555556,\"#d8576b\"],[0.6666666666666666,\"#ed7953\"],[0.7777777777777778,\"#fb9f3a\"],[0.8888888888888888,\"#fdca26\"],[1.0,\"#f0f921\"]],\"type\":\"surface\"}],\"table\":[{\"cells\":{\"fill\":{\"color\":\"#EBF0F8\"},\"line\":{\"color\":\"white\"}},\"header\":{\"fill\":{\"color\":\"#C8D4E3\"},\"line\":{\"color\":\"white\"}},\"type\":\"table\"}]},\"layout\":{\"annotationdefaults\":{\"arrowcolor\":\"#2a3f5f\",\"arrowhead\":0,\"arrowwidth\":1},\"autotypenumbers\":\"strict\",\"coloraxis\":{\"colorbar\":{\"outlinewidth\":0,\"ticks\":\"\"}},\"colorscale\":{\"diverging\":[[0,\"#8e0152\"],[0.1,\"#c51b7d\"],[0.2,\"#de77ae\"],[0.3,\"#f1b6da\"],[0.4,\"#fde0ef\"],[0.5,\"#f7f7f7\"],[0.6,\"#e6f5d0\"],[0.7,\"#b8e186\"],[0.8,\"#7fbc41\"],[0.9,\"#4d9221\"],[1,\"#276419\"]],\"sequential\":[[0.0,\"#0d0887\"],[0.1111111111111111,\"#46039f\"],[0.2222222222222222,\"#7201a8\"],[0.3333333333333333,\"#9c179e\"],[0.4444444444444444,\"#bd3786\"],[0.5555555555555556,\"#d8576b\"],[0.6666666666666666,\"#ed7953\"],[0.7777777777777778,\"#fb9f3a\"],[0.8888888888888888,\"#fdca26\"],[1.0,\"#f0f921\"]],\"sequentialminus\":[[0.0,\"#0d0887\"],[0.1111111111111111,\"#46039f\"],[0.2222222222222222,\"#7201a8\"],[0.3333333333333333,\"#9c179e\"],[0.4444444444444444,\"#bd3786\"],[0.5555555555555556,\"#d8576b\"],[0.6666666666666666,\"#ed7953\"],[0.7777777777777778,\"#fb9f3a\"],[0.8888888888888888,\"#fdca26\"],[1.0,\"#f0f921\"]]},\"colorway\":[\"#636efa\",\"#EF553B\",\"#00cc96\",\"#ab63fa\",\"#FFA15A\",\"#19d3f3\",\"#FF6692\",\"#B6E880\",\"#FF97FF\",\"#FECB52\"],\"font\":{\"color\":\"#2a3f5f\"},\"geo\":{\"bgcolor\":\"white\",\"lakecolor\":\"white\",\"landcolor\":\"#E5ECF6\",\"showlakes\":true,\"showland\":true,\"subunitcolor\":\"white\"},\"hoverlabel\":{\"align\":\"left\"},\"hovermode\":\"closest\",\"mapbox\":{\"style\":\"light\"},\"paper_bgcolor\":\"white\",\"plot_bgcolor\":\"#E5ECF6\",\"polar\":{\"angularaxis\":{\"gridcolor\":\"white\",\"linecolor\":\"white\",\"ticks\":\"\"},\"bgcolor\":\"#E5ECF6\",\"radialaxis\":{\"gridcolor\":\"white\",\"linecolor\":\"white\",\"ticks\":\"\"}},\"scene\":{\"xaxis\":{\"backgroundcolor\":\"#E5ECF6\",\"gridcolor\":\"white\",\"gridwidth\":2,\"linecolor\":\"white\",\"showbackground\":true,\"ticks\":\"\",\"zerolinecolor\":\"white\"},\"yaxis\":{\"backgroundcolor\":\"#E5ECF6\",\"gridcolor\":\"white\",\"gridwidth\":2,\"linecolor\":\"white\",\"showbackground\":true,\"ticks\":\"\",\"zerolinecolor\":\"white\"},\"zaxis\":{\"backgroundcolor\":\"#E5ECF6\",\"gridcolor\":\"white\",\"gridwidth\":2,\"linecolor\":\"white\",\"showbackground\":true,\"ticks\":\"\",\"zerolinecolor\":\"white\"}},\"shapedefaults\":{\"line\":{\"color\":\"#2a3f5f\"}},\"ternary\":{\"aaxis\":{\"gridcolor\":\"white\",\"linecolor\":\"white\",\"ticks\":\"\"},\"baxis\":{\"gridcolor\":\"white\",\"linecolor\":\"white\",\"ticks\":\"\"},\"bgcolor\":\"#E5ECF6\",\"caxis\":{\"gridcolor\":\"white\",\"linecolor\":\"white\",\"ticks\":\"\"}},\"title\":{\"x\":0.05},\"xaxis\":{\"automargin\":true,\"gridcolor\":\"white\",\"linecolor\":\"white\",\"ticks\":\"\",\"title\":{\"standoff\":15},\"zerolinecolor\":\"white\",\"zerolinewidth\":2},\"yaxis\":{\"automargin\":true,\"gridcolor\":\"white\",\"linecolor\":\"white\",\"ticks\":\"\",\"title\":{\"standoff\":15},\"zerolinecolor\":\"white\",\"zerolinewidth\":2}}},\"xaxis\":{\"anchor\":\"y\",\"domain\":[0.0,0.98],\"title\":{\"text\":\"start_segment\"}},\"yaxis\":{\"anchor\":\"x\",\"domain\":[0.0,0.3133333333333333],\"title\":{\"text\":\"rank\"},\"autorange\":\"reversed\"},\"xaxis2\":{\"anchor\":\"y2\",\"domain\":[0.0,0.98],\"matches\":\"x\",\"showticklabels\":false},\"yaxis2\":{\"anchor\":\"x2\",\"domain\":[0.34333333333333327,0.6566666666666665],\"matches\":\"y\",\"title\":{\"text\":\"rank\"}},\"xaxis3\":{\"anchor\":\"y3\",\"domain\":[0.0,0.98],\"matches\":\"x\",\"showticklabels\":false},\"yaxis3\":{\"anchor\":\"x3\",\"domain\":[0.6866666666666665,0.9999999999999998],\"matches\":\"y\",\"title\":{\"text\":\"rank\"}},\"annotations\":[{\"font\":{},\"showarrow\":false,\"text\":\"origin=twitter\",\"textangle\":90,\"x\":0.98,\"xanchor\":\"left\",\"xref\":\"paper\",\"y\":0.15666666666666665,\"yanchor\":\"middle\",\"yref\":\"paper\"},{\"font\":{},\"showarrow\":false,\"text\":\"origin=media\",\"textangle\":90,\"x\":0.98,\"xanchor\":\"left\",\"xref\":\"paper\",\"y\":0.4999999999999999,\"yanchor\":\"middle\",\"yref\":\"paper\"},{\"font\":{},\"showarrow\":false,\"text\":\"origin=facebook\",\"textangle\":90,\"x\":0.98,\"xanchor\":\"left\",\"xref\":\"paper\",\"y\":0.8433333333333332,\"yanchor\":\"middle\",\"yref\":\"paper\"}],\"legend\":{\"title\":{\"text\":\"term\"},\"tracegroupgap\":0},\"margin\":{\"t\":60}},                        {\"responsive\": true}                    ).then(function(){\n",
       "                            \n",
       "var gd = document.getElementById('2e1477d7-307a-4089-8555-2ba4b86a46bb');\n",
       "var x = new MutationObserver(function (mutations, observer) {{\n",
       "        var display = window.getComputedStyle(gd).display;\n",
       "        if (!display || display === 'none') {{\n",
       "            console.log([gd, 'removed!']);\n",
       "            Plotly.purge(gd);\n",
       "            observer.disconnect();\n",
       "        }}\n",
       "}});\n",
       "\n",
       "// Listen for the removal of the full notebook cells\n",
       "var notebookContainer = gd.closest('#notebook-container');\n",
       "if (notebookContainer) {{\n",
       "    x.observe(notebookContainer, {childList: true});\n",
       "}}\n",
       "\n",
       "// Listen for the clearing of the current output cell\n",
       "var outputEl = gd.closest('.output');\n",
       "if (outputEl) {{\n",
       "    x.observe(outputEl, {childList: true});\n",
       "}}\n",
       "\n",
       "                        })                };                });            </script>        </div>"
      ]
     },
     "metadata": {},
     "output_type": "display_data"
    }
   ],
   "source": [
    "bump = interactive_bump_chart(data = df, which = \"term\", cluster = None)"
   ]
  },
  {
   "cell_type": "code",
   "execution_count": 119,
   "id": "071b126a",
   "metadata": {},
   "outputs": [
    {
     "data": {
      "image/png": "[encoded data removed]",
      "text/plain": [
       "<Figure size 432x288 with 1 Axes>"
      ]
     },
     "metadata": {
      "needs_background": "light"
     },
     "output_type": "display_data"
    }
   ],
   "source": [
    "z = Z[1]\n",
    "dendrogram(z, orientation='top');"
   ]
  },
  {
   "cell_type": "markdown",
   "id": "ed585c3b",
   "metadata": {},
   "source": [
    "## Matrice de corrélation"
   ]
  },
  {
   "cell_type": "code",
   "execution_count": 120,
   "id": "9d4f7499",
   "metadata": {},
   "outputs": [
    {
     "name": "stderr",
     "output_type": "stream",
     "text": [
      "/var/folders/bx/gl47n30d0zbbbqzp9zh3kcrr0000gn/T/ipykernel_15071/3407956100.py:2: SettingWithCopyWarning:\n",
      "\n",
      "\n",
      "A value is trying to be set on a copy of a slice from a DataFrame.\n",
      "Try using .loc[row_indexer,col_indexer] = value instead\n",
      "\n",
      "See the caveats in the documentation: https://pandas.pydata.org/pandas-docs/stable/user_guide/indexing.html#returning-a-view-versus-a-copy\n",
      "\n"
     ]
    }
   ],
   "source": [
    "df3 = df.loc[df[\"origin\"] == \"facebook\"]\n",
    "df3['log-rank']=np.log(df3['rank'])\n",
    "t = pd.pivot_table(df3, index = \"segm\", columns = \"term\", values = \"rank\", fill_value=0)"
   ]
  },
  {
   "cell_type": "code",
   "execution_count": 121,
   "id": "f5a0163a",
   "metadata": {},
   "outputs": [],
   "source": [
    "#tl = pd.pivot_table(df3, index = \"segm\", columns = \"term\", values = \"log-rank\", fill_value=0)\n",
    "#sns.clustermap(tl)"
   ]
  },
  {
   "cell_type": "code",
   "execution_count": 122,
   "id": "8c0d8cc7",
   "metadata": {},
   "outputs": [],
   "source": [
    "import scipy\n",
    "rho_segment, pval_segment = scipy.stats.spearmanr(t,axis=1)\n",
    "rho_terms, pval_terms = scipy.stats.spearmanr(t,axis=0)\n",
    "\n"
   ]
  },
  {
   "cell_type": "code",
   "execution_count": null,
   "id": "245c27d8",
   "metadata": {},
   "outputs": [],
   "source": []
  },
  {
   "cell_type": "code",
   "execution_count": 129,
   "id": "104ec8d6",
   "metadata": {},
   "outputs": [
    {
     "data": {
      "image/png": "[encoded data removed]",
      "text/plain": [
       "<Figure size 1080x1080 with 4 Axes>"
      ]
     },
     "metadata": {
      "needs_background": "light"
     },
     "output_type": "display_data"
    }
   ],
   "source": [
    "from matplotlib import pyplot as plt\n",
    "#sns.clustermap(rho_terms)\n",
    "ax=sns.clustermap(rho_terms,figsize=(15,15))#,labels=range(14))\n",
    "new_labels=[]\n",
    "labels_list=list(t.columns)\n",
    "for l in ax.ax_heatmap.axes.get_xticklabels():\n",
    "    l.set_text(labels_list[int(l.get_text())])\n",
    "    new_labels.append(l)\n",
    "ax.ax_heatmap.axes.set_yticklabels(new_labels,rotation=0)\n",
    "ax.ax_heatmap.axes.set_xticklabels(new_labels,rotation = 90)\n",
    "#ax.setp(g.ax_heatmap.get_yticklabels(), rotation=0)\n",
    "#ax.set_xticklabels(ax.get_xticklabels(),rotation = 30)\n",
    "plt.tight_layout()\n",
    "plt.savefig('../images/clustermap_terms_pesticides.pdf')"
   ]
  },
  {
   "cell_type": "code",
   "execution_count": 124,
   "id": "df6650df",
   "metadata": {},
   "outputs": [
    {
     "data": {
      "text/plain": [
       "{'icoord': [[15.0, 15.0, 25.0, 25.0],\n",
       "  [5.0, 5.0, 20.0, 20.0],\n",
       "  [45.0, 45.0, 55.0, 55.0],\n",
       "  [35.0, 35.0, 50.0, 50.0],\n",
       "  [75.0, 75.0, 85.0, 85.0],\n",
       "  [65.0, 65.0, 80.0, 80.0],\n",
       "  [42.5, 42.5, 72.5, 72.5],\n",
       "  [12.5, 12.5, 57.5, 57.5],\n",
       "  [95.0, 95.0, 105.0, 105.0],\n",
       "  [115.0, 115.0, 125.0, 125.0],\n",
       "  [135.0, 135.0, 145.0, 145.0],\n",
       "  [155.0, 155.0, 165.0, 165.0],\n",
       "  [140.0, 140.0, 160.0, 160.0],\n",
       "  [120.0, 120.0, 150.0, 150.0],\n",
       "  [100.0, 100.0, 135.0, 135.0],\n",
       "  [175.0, 175.0, 185.0, 185.0],\n",
       "  [205.0, 205.0, 215.0, 215.0],\n",
       "  [195.0, 195.0, 210.0, 210.0],\n",
       "  [225.0, 225.0, 235.0, 235.0],\n",
       "  [265.0, 265.0, 275.0, 275.0],\n",
       "  [255.0, 255.0, 270.0, 270.0],\n",
       "  [245.0, 245.0, 262.5, 262.5],\n",
       "  [230.0, 230.0, 253.75, 253.75],\n",
       "  [202.5, 202.5, 241.875, 241.875],\n",
       "  [180.0, 180.0, 222.1875, 222.1875],\n",
       "  [117.5, 117.5, 201.09375, 201.09375],\n",
       "  [35.0, 35.0, 159.296875, 159.296875],\n",
       "  [285.0, 285.0, 295.0, 295.0],\n",
       "  [305.0, 305.0, 315.0, 315.0],\n",
       "  [290.0, 290.0, 310.0, 310.0],\n",
       "  [325.0, 325.0, 335.0, 335.0],\n",
       "  [300.0, 300.0, 330.0, 330.0],\n",
       "  [355.0, 355.0, 365.0, 365.0],\n",
       "  [345.0, 345.0, 360.0, 360.0],\n",
       "  [385.0, 385.0, 395.0, 395.0],\n",
       "  [375.0, 375.0, 390.0, 390.0],\n",
       "  [352.5, 352.5, 382.5, 382.5],\n",
       "  [405.0, 405.0, 415.0, 415.0],\n",
       "  [425.0, 425.0, 435.0, 435.0],\n",
       "  [410.0, 410.0, 430.0, 430.0],\n",
       "  [465.0, 465.0, 475.0, 475.0],\n",
       "  [455.0, 455.0, 470.0, 470.0],\n",
       "  [445.0, 445.0, 462.5, 462.5],\n",
       "  [420.0, 420.0, 453.75, 453.75],\n",
       "  [367.5, 367.5, 436.875, 436.875],\n",
       "  [485.0, 485.0, 495.0, 495.0],\n",
       "  [505.0, 505.0, 515.0, 515.0],\n",
       "  [490.0, 490.0, 510.0, 510.0],\n",
       "  [535.0, 535.0, 545.0, 545.0],\n",
       "  [525.0, 525.0, 540.0, 540.0],\n",
       "  [565.0, 565.0, 575.0, 575.0],\n",
       "  [555.0, 555.0, 570.0, 570.0],\n",
       "  [532.5, 532.5, 562.5, 562.5],\n",
       "  [500.0, 500.0, 547.5, 547.5],\n",
       "  [402.1875, 402.1875, 523.75, 523.75],\n",
       "  [315.0, 315.0, 462.96875, 462.96875],\n",
       "  [97.1484375, 97.1484375, 388.984375, 388.984375]],\n",
       " 'dcoord': [[0.0, 2.000548454885251, 2.000548454885251, 0.0],\n",
       "  [0.0, 2.421270537887633, 2.421270537887633, 2.000548454885251],\n",
       "  [0.0, 1.206871084399228, 1.206871084399228, 0.0],\n",
       "  [0.0, 1.652657144063714, 1.652657144063714, 1.206871084399228],\n",
       "  [0.0, 1.4800540816808718, 1.4800540816808718, 0.0],\n",
       "  [0.0, 1.8844471425160718, 1.8844471425160718, 1.4800540816808718],\n",
       "  [1.652657144063714,\n",
       "   2.470777625312827,\n",
       "   2.470777625312827,\n",
       "   1.8844471425160718],\n",
       "  [2.421270537887633, 2.604177902757822, 2.604177902757822, 2.470777625312827],\n",
       "  [0.0, 1.6366770316419723, 1.6366770316419723, 0.0],\n",
       "  [0.0, 1.5408188258344016, 1.5408188258344016, 0.0],\n",
       "  [0.0, 1.2555224758244214, 1.2555224758244214, 0.0],\n",
       "  [0.0, 1.2826602678668853, 1.2826602678668853, 0.0],\n",
       "  [1.2555224758244214,\n",
       "   1.8029051761619221,\n",
       "   1.8029051761619221,\n",
       "   1.2826602678668853],\n",
       "  [1.5408188258344016,\n",
       "   2.0679442748502437,\n",
       "   2.0679442748502437,\n",
       "   1.8029051761619221],\n",
       "  [1.6366770316419723,\n",
       "   2.3185533852363283,\n",
       "   2.3185533852363283,\n",
       "   2.0679442748502437],\n",
       "  [0.0, 1.6167656279479976, 1.6167656279479976, 0.0],\n",
       "  [0.0, 1.2074174954596888, 1.2074174954596888, 0.0],\n",
       "  [0.0, 1.5857243841896134, 1.5857243841896134, 1.2074174954596888],\n",
       "  [0.0, 1.5209585425857772, 1.5209585425857772, 0.0],\n",
       "  [0.0, 1.1664766013266903, 1.1664766013266903, 0.0],\n",
       "  [0.0, 1.41096845342017, 1.41096845342017, 1.1664766013266903],\n",
       "  [0.0, 1.7606923625200885, 1.7606923625200885, 1.41096845342017],\n",
       "  [1.5209585425857772,\n",
       "   1.8053594091614453,\n",
       "   1.8053594091614453,\n",
       "   1.7606923625200885],\n",
       "  [1.5857243841896134,\n",
       "   2.121856363580983,\n",
       "   2.121856363580983,\n",
       "   1.8053594091614453],\n",
       "  [1.6167656279479976,\n",
       "   2.375943878712844,\n",
       "   2.375943878712844,\n",
       "   2.121856363580983],\n",
       "  [2.3185533852363283,\n",
       "   2.714826348626221,\n",
       "   2.714826348626221,\n",
       "   2.375943878712844],\n",
       "  [2.604177902757822, 3.301505864342552, 3.301505864342552, 2.714826348626221],\n",
       "  [0.0, 0.7493760829119158, 0.7493760829119158, 0.0],\n",
       "  [0.0, 1.584489709726694, 1.584489709726694, 0.0],\n",
       "  [0.7493760829119158,\n",
       "   2.3630736267347086,\n",
       "   2.3630736267347086,\n",
       "   1.584489709726694],\n",
       "  [0.0, 2.4188333725088427, 2.4188333725088427, 0.0],\n",
       "  [2.3630736267347086,\n",
       "   2.762639424234787,\n",
       "   2.762639424234787,\n",
       "   2.4188333725088427],\n",
       "  [0.0, 1.509947295678744, 1.509947295678744, 0.0],\n",
       "  [0.0, 1.8101118602807884, 1.8101118602807884, 1.509947295678744],\n",
       "  [0.0, 1.5745232781320386, 1.5745232781320386, 0.0],\n",
       "  [0.0, 1.9844383659855744, 1.9844383659855744, 1.5745232781320386],\n",
       "  [1.8101118602807884,\n",
       "   2.1301695307019215,\n",
       "   2.1301695307019215,\n",
       "   1.9844383659855744],\n",
       "  [0.0, 1.3318212277354466, 1.3318212277354466, 0.0],\n",
       "  [0.0, 1.4538467888650954, 1.4538467888650954, 0.0],\n",
       "  [1.3318212277354466,\n",
       "   1.8706467652867107,\n",
       "   1.8706467652867107,\n",
       "   1.4538467888650954],\n",
       "  [0.0, 1.476192553804147, 1.476192553804147, 0.0],\n",
       "  [0.0, 1.8318350658640679, 1.8318350658640679, 1.476192553804147],\n",
       "  [0.0, 2.2272083571285703, 2.2272083571285703, 1.8318350658640679],\n",
       "  [1.8706467652867107,\n",
       "   2.316742499602375,\n",
       "   2.316742499602375,\n",
       "   2.2272083571285703],\n",
       "  [2.1301695307019215,\n",
       "   2.515295801309807,\n",
       "   2.515295801309807,\n",
       "   2.316742499602375],\n",
       "  [0.0, 1.8623257306482086, 1.8623257306482086, 0.0],\n",
       "  [0.0, 2.3792103339564905, 2.3792103339564905, 0.0],\n",
       "  [1.8623257306482086,\n",
       "   2.699796038526637,\n",
       "   2.699796038526637,\n",
       "   2.3792103339564905],\n",
       "  [0.0, 1.317997196726019, 1.317997196726019, 0.0],\n",
       "  [0.0, 2.2444716255175354, 2.2444716255175354, 1.317997196726019],\n",
       "  [0.0, 1.7198238350334654, 1.7198238350334654, 0.0],\n",
       "  [0.0, 2.5378645258634185, 2.5378645258634185, 1.7198238350334654],\n",
       "  [2.2444716255175354,\n",
       "   2.9050439939722104,\n",
       "   2.9050439939722104,\n",
       "   2.5378645258634185],\n",
       "  [2.699796038526637,\n",
       "   3.1760535487253634,\n",
       "   3.1760535487253634,\n",
       "   2.9050439939722104],\n",
       "  [2.515295801309807,\n",
       "   3.584255175658916,\n",
       "   3.584255175658916,\n",
       "   3.1760535487253634],\n",
       "  [2.762639424234787,\n",
       "   3.8848513597542045,\n",
       "   3.8848513597542045,\n",
       "   3.584255175658916],\n",
       "  [3.301505864342552,\n",
       "   4.739731455459946,\n",
       "   4.739731455459946,\n",
       "   3.8848513597542045]],\n",
       " 'ivl': ['39',\n",
       "  '6',\n",
       "  '52',\n",
       "  '38',\n",
       "  '8',\n",
       "  '15',\n",
       "  '31',\n",
       "  '1',\n",
       "  '54',\n",
       "  '20',\n",
       "  '40',\n",
       "  '7',\n",
       "  '56',\n",
       "  '44',\n",
       "  '51',\n",
       "  '16',\n",
       "  '49',\n",
       "  '41',\n",
       "  '43',\n",
       "  '27',\n",
       "  '37',\n",
       "  '50',\n",
       "  '10',\n",
       "  '42',\n",
       "  '17',\n",
       "  '35',\n",
       "  '4',\n",
       "  '24',\n",
       "  '18',\n",
       "  '25',\n",
       "  '22',\n",
       "  '55',\n",
       "  '5',\n",
       "  '53',\n",
       "  '3',\n",
       "  '0',\n",
       "  '11',\n",
       "  '13',\n",
       "  '12',\n",
       "  '29',\n",
       "  '48',\n",
       "  '57',\n",
       "  '33',\n",
       "  '46',\n",
       "  '36',\n",
       "  '9',\n",
       "  '14',\n",
       "  '30',\n",
       "  '2',\n",
       "  '32',\n",
       "  '23',\n",
       "  '47',\n",
       "  '26',\n",
       "  '19',\n",
       "  '34',\n",
       "  '28',\n",
       "  '21',\n",
       "  '45'],\n",
       " 'leaves': [39,\n",
       "  6,\n",
       "  52,\n",
       "  38,\n",
       "  8,\n",
       "  15,\n",
       "  31,\n",
       "  1,\n",
       "  54,\n",
       "  20,\n",
       "  40,\n",
       "  7,\n",
       "  56,\n",
       "  44,\n",
       "  51,\n",
       "  16,\n",
       "  49,\n",
       "  41,\n",
       "  43,\n",
       "  27,\n",
       "  37,\n",
       "  50,\n",
       "  10,\n",
       "  42,\n",
       "  17,\n",
       "  35,\n",
       "  4,\n",
       "  24,\n",
       "  18,\n",
       "  25,\n",
       "  22,\n",
       "  55,\n",
       "  5,\n",
       "  53,\n",
       "  3,\n",
       "  0,\n",
       "  11,\n",
       "  13,\n",
       "  12,\n",
       "  29,\n",
       "  48,\n",
       "  57,\n",
       "  33,\n",
       "  46,\n",
       "  36,\n",
       "  9,\n",
       "  14,\n",
       "  30,\n",
       "  2,\n",
       "  32,\n",
       "  23,\n",
       "  47,\n",
       "  26,\n",
       "  19,\n",
       "  34,\n",
       "  28,\n",
       "  21,\n",
       "  45],\n",
       " 'color_list': ['C1',\n",
       "  'C1',\n",
       "  'C1',\n",
       "  'C1',\n",
       "  'C1',\n",
       "  'C1',\n",
       "  'C1',\n",
       "  'C1',\n",
       "  'C1',\n",
       "  'C1',\n",
       "  'C1',\n",
       "  'C1',\n",
       "  'C1',\n",
       "  'C1',\n",
       "  'C1',\n",
       "  'C1',\n",
       "  'C1',\n",
       "  'C1',\n",
       "  'C1',\n",
       "  'C1',\n",
       "  'C1',\n",
       "  'C1',\n",
       "  'C1',\n",
       "  'C1',\n",
       "  'C1',\n",
       "  'C1',\n",
       "  'C1',\n",
       "  'C2',\n",
       "  'C2',\n",
       "  'C2',\n",
       "  'C2',\n",
       "  'C2',\n",
       "  'C3',\n",
       "  'C3',\n",
       "  'C3',\n",
       "  'C3',\n",
       "  'C3',\n",
       "  'C3',\n",
       "  'C3',\n",
       "  'C3',\n",
       "  'C3',\n",
       "  'C3',\n",
       "  'C3',\n",
       "  'C3',\n",
       "  'C3',\n",
       "  'C4',\n",
       "  'C4',\n",
       "  'C4',\n",
       "  'C4',\n",
       "  'C4',\n",
       "  'C4',\n",
       "  'C4',\n",
       "  'C4',\n",
       "  'C4',\n",
       "  'C0',\n",
       "  'C0',\n",
       "  'C0'],\n",
       " 'leaves_color_list': ['C1',\n",
       "  'C1',\n",
       "  'C1',\n",
       "  'C1',\n",
       "  'C1',\n",
       "  'C1',\n",
       "  'C1',\n",
       "  'C1',\n",
       "  'C1',\n",
       "  'C1',\n",
       "  'C1',\n",
       "  'C1',\n",
       "  'C1',\n",
       "  'C1',\n",
       "  'C1',\n",
       "  'C1',\n",
       "  'C1',\n",
       "  'C1',\n",
       "  'C1',\n",
       "  'C1',\n",
       "  'C1',\n",
       "  'C1',\n",
       "  'C1',\n",
       "  'C1',\n",
       "  'C1',\n",
       "  'C1',\n",
       "  'C1',\n",
       "  'C1',\n",
       "  'C2',\n",
       "  'C2',\n",
       "  'C2',\n",
       "  'C2',\n",
       "  'C2',\n",
       "  'C2',\n",
       "  'C3',\n",
       "  'C3',\n",
       "  'C3',\n",
       "  'C3',\n",
       "  'C3',\n",
       "  'C3',\n",
       "  'C3',\n",
       "  'C3',\n",
       "  'C3',\n",
       "  'C3',\n",
       "  'C3',\n",
       "  'C3',\n",
       "  'C3',\n",
       "  'C3',\n",
       "  'C4',\n",
       "  'C4',\n",
       "  'C4',\n",
       "  'C4',\n",
       "  'C4',\n",
       "  'C4',\n",
       "  'C4',\n",
       "  'C4',\n",
       "  'C4',\n",
       "  'C4']}"
      ]
     },
     "execution_count": 124,
     "metadata": {},
     "output_type": "execute_result"
    },
    {
     "data": {
      "image/png": "[encoded data removed]",
      "text/plain": [
       "<Figure size 432x288 with 1 Axes>"
      ]
     },
     "metadata": {
      "needs_background": "light"
     },
     "output_type": "display_data"
    }
   ],
   "source": [
    "import scipy.spatial as sp, scipy.cluster.hierarchy as hc\n",
    "row_linkage = (hc.linkage(sp.distance.pdist(rho_terms), method='average'))# for x in (t.values, rho_terms.values.T))\n",
    "dendrogram(row_linkage)#, leaf_label_func=llf, leaf_rotation=90)\n"
   ]
  },
  {
   "cell_type": "code",
   "execution_count": 125,
   "id": "da98f563",
   "metadata": {},
   "outputs": [
    {
     "data": {
      "text/plain": [
       "array([2, 1, 2, 2, 1, 2, 1, 1, 1, 2, 1, 2, 2, 2, 2, 1, 1, 1, 2, 2, 1, 2,\n",
       "       2, 2, 1, 2, 2, 1, 2, 2, 2, 1, 2, 2, 2, 1, 2, 1, 1, 1, 1, 1, 1, 1,\n",
       "       1, 2, 2, 2, 2, 1, 1, 1, 1, 2, 1, 2, 1, 2], dtype=int32)"
      ]
     },
     "execution_count": 125,
     "metadata": {},
     "output_type": "execute_result"
    }
   ],
   "source": [
    "scipy.cluster.hierarchy.fcluster(row_linkage,t=4,criterion=\"distance\")#,method='average')\n",
    "#MR = maxRstat(Z, R, 3)\n",
    "#scipy.cluster.hierarchy.fcluster(row_linkage,t=4,criterion=\"monocrit\")#,method='average')\n",
    "#fcluster(Z, t=0.8, criterion='monocrit', monocrit=MR)\n"
   ]
  },
  {
   "cell_type": "code",
   "execution_count": 126,
   "id": "14950cfa",
   "metadata": {},
   "outputs": [],
   "source": [
    "import scipy\n",
    "import scipy.cluster.hierarchy as sch\n",
    "\n",
    "def cluster_corr(corr_array, inplace=False):\n",
    "    \"\"\"\n",
    "    Rearranges the correlation matrix, corr_array, so that groups of highly \n",
    "    correlated variables are next to eachother \n",
    "    \n",
    "    Parameters\n",
    "    ----------\n",
    "    corr_array : pandas.DataFrame or numpy.ndarray\n",
    "        a NxN correlation matrix \n",
    "        \n",
    "    Returns\n",
    "    -------\n",
    "    pandas.DataFrame or numpy.ndarray\n",
    "        a NxN correlation matrix with the columns and rows rearranged\n",
    "    \"\"\"\n",
    "    pairwise_distances = sch.distance.pdist(corr_array)\n",
    "    linkage = sch.linkage(pairwise_distances, method='complete')\n",
    "    cluster_distance_threshold = pairwise_distances.max()/2\n",
    "    idx_to_cluster_array = sch.fcluster(linkage, cluster_distance_threshold, \n",
    "                                        criterion='distance')\n",
    "    idx = np.argsort(idx_to_cluster_array)\n",
    "    \n",
    "    if not inplace:\n",
    "        corr_array = corr_array.copy()\n",
    "    \n",
    "    if isinstance(corr_array, pd.DataFrame):\n",
    "        return corr_array.iloc[idx, :].T.iloc[idx, :]\n",
    "    return corr_array[idx, :][:, idx]\n"
   ]
  },
  {
   "cell_type": "code",
   "execution_count": 127,
   "id": "c249d98d",
   "metadata": {},
   "outputs": [
    {
     "ename": "NameError",
     "evalue": "name 'corrMatrix' is not defined",
     "output_type": "error",
     "traceback": [
      "\u001b[0;31m---------------------------------------------------------------------------\u001b[0m",
      "\u001b[0;31mNameError\u001b[0m                                 Traceback (most recent call last)",
      "Input \u001b[0;32mIn [127]\u001b[0m, in \u001b[0;36m<cell line: 2>\u001b[0;34m()\u001b[0m\n\u001b[1;32m      1\u001b[0m cmap \u001b[38;5;241m=\u001b[39m sns\u001b[38;5;241m.\u001b[39mcm\u001b[38;5;241m.\u001b[39mrocket_r\n\u001b[0;32m----> 2\u001b[0m sns\u001b[38;5;241m.\u001b[39mheatmap(cluster_corr(\u001b[43mcorrMatrix\u001b[49m), cmap \u001b[38;5;241m=\u001b[39m cmap)\n",
      "\u001b[0;31mNameError\u001b[0m: name 'corrMatrix' is not defined"
     ]
    }
   ],
   "source": [
    "cmap = sns.cm.rocket_r\n",
    "sns.heatmap(cluster_corr(corrMatrix), cmap = cmap)"
   ]
  },
  {
   "cell_type": "code",
   "execution_count": null,
   "id": "7546b68c",
   "metadata": {},
   "outputs": [],
   "source": [
    "from scipy.cluster.hierarchy import linkage, dendrogram, fcluster\n",
    "from scipy.spatial.distance import squareform\n",
    "\n",
    "plt.figure(figsize=(24,10))\n",
    "dissimilarity = 1 - abs(corrMatrix)\n",
    "Z = linkage(squareform(dissimilarity), 'complete')\n",
    "\n",
    "dendrogram(Z, labels=t.columns, orientation='top');\n"
   ]
  },
  {
   "cell_type": "code",
   "execution_count": null,
   "id": "e3d6567d",
   "metadata": {},
   "outputs": [],
   "source": []
  }
 ],
 "metadata": {
  "kernelspec": {
   "display_name": "Python 3 (ipykernel)",
   "language": "python",
   "name": "python3"
  },
  "language_info": {
   "codemirror_mode": {
    "name": "ipython",
    "version": 3
   },
   "file_extension": ".py",
   "mimetype": "text/x-python",
   "name": "python",
   "nbconvert_exporter": "python",
   "pygments_lexer": "ipython3",
   "version": "3.8.13"
  }
 },
 "nbformat": 4,
 "nbformat_minor": 5
}
