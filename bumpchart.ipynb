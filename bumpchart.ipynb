{
 "cells": [
  {
   "cell_type": "code",
   "execution_count": 276,
   "id": "d78428b3",
   "metadata": {},
   "outputs": [],
   "source": [
    "import pandas as pd\n",
    "import bamboolib\n",
    "import os\n",
    "import datetime\n",
    "import numpy as np\n",
    "from matplotlib import pyplot\n",
    "from matplotlib.ticker import MultipleLocator, FixedFormatter, FixedLocator\n",
    "import plotly.express as px\n",
    "import plotly.graph_objects as go\n"
   ]
  },
  {
   "cell_type": "markdown",
   "id": "5366baa9",
   "metadata": {},
   "source": [
    "## Chemins des fichiers"
   ]
  },
  {
   "cell_type": "code",
   "execution_count": 2,
   "id": "7ec160c6",
   "metadata": {},
   "outputs": [],
   "source": [
    "#a changer localement\n",
    "path_base=\"/home/aymeric/python-scripts/anses_medialab/datas/\" #aymeric\n",
    "\n",
    "file_segmentation = f\"{path_base}segmentation_common_freq.csv\"\n",
    "\n",
    "index=f\"{path_base}index_alldefault_nameexhaustive_aymeric.csv\"\n",
    "\n",
    "#all_corpus = f\"{path_base}all_corpus_seg_with_sdhi_PI.csv\"\n",
    "\n",
    "#twittos = f\"{path_base}tweets_pesticides/500_first_twittos_on_pesticides.csv\"\n",
    "\n"
   ]
  },
  {
   "cell_type": "markdown",
   "id": "93ff02d8",
   "metadata": {},
   "source": [
    "## Chargement des données"
   ]
  },
  {
   "cell_type": "code",
   "execution_count": 253,
   "id": "7cc1b916",
   "metadata": {},
   "outputs": [],
   "source": [
    "#df0 = pd.read_csv(all_corpus, sep = \"\\t\")\n",
    "df_index = pd.read_csv(index, sep = \"\\t\")\n",
    "dfseg = pd.read_csv(file_segmentation, sep = \"\\t\")\n",
    "\n",
    "df_index['date'] = pd.to_datetime(df_index['date'], infer_datetime_format=True)\n",
    "df_index['yearmonth']=(df_index['date'].dt.strftime('%Y-%m'))\n",
    "\n",
    "df_index['date'] = df_index['date'].dt.date"
   ]
  },
  {
   "cell_type": "markdown",
   "id": "6006ddfa",
   "metadata": {},
   "source": [
    "## Fusion segment + indexation"
   ]
  },
  {
   "cell_type": "code",
   "execution_count": null,
   "id": "f6b1cbf7",
   "metadata": {},
   "outputs": [],
   "source": [
    "segment = dfseg[[\"yearmonth\", \"segm\", \"origin\"]]\n",
    "\n",
    "\n",
    "df0 = df_index.merge(segment, how = \"inner\", on = [\"origin\", \"yearmonth\"])\n",
    "df0[\"start_segment\"] = df0.groupby(['origin','segm'])[\"date\"].transform('min')\n",
    "df0[\"end_segment\"] = df0.groupby(['origin','segm'])[\"date\"].transform('max')\n"
   ]
  },
  {
   "cell_type": "markdown",
   "id": "3895abf5",
   "metadata": {},
   "source": [
    "## Bump Chart"
   ]
  },
  {
   "cell_type": "code",
   "execution_count": 295,
   "id": "c431a5c5",
   "metadata": {},
   "outputs": [],
   "source": [
    "def ranked_element(data, which, top_rank):\n",
    "    \"\"\"\n",
    "    data = the dataframe\n",
    "    which = a string ; the variable that we want to rank and display on bump chart\n",
    "    top_rank = an integer ; he rank that values should reach at least one time to be part of bump chart\n",
    "    \"\"\"\n",
    "    \n",
    "    df = (\n",
    "        data\n",
    "          .value_counts([\"origin\", which, 'segm', 'start_segment'])\n",
    "          .groupby([\"origin\", \"segm\"])\n",
    "          .rank(\"first\", ascending=False)\n",
    "          .rename(\"rank\")\n",
    "          .sort_index()\n",
    "          .reset_index()\n",
    "         )\n",
    "    \n",
    "    df.loc[df[\"rank\"] > top_rank, f\"top_rank_{top_rank}\"] = 0\n",
    "    df.loc[df[\"rank\"] < top_rank, f\"top_rank_{top_rank}\"] = 1\n",
    "    df[\"count_rank\"] = df.groupby([\"origin\",which])[f\"top_rank_{top_rank}\"].transform(\"sum\")\n",
    "    df = df.loc[df[\"count_rank\"] >= 1]\n",
    "    \n",
    "    return df\n",
    "    \n"
   ]
  },
  {
   "cell_type": "code",
   "execution_count": 296,
   "id": "c0c79d4e",
   "metadata": {},
   "outputs": [],
   "source": [
    "def bump_chart(data, which):\n",
    "    \n",
    "    \"\"\"\n",
    "    data = the dataframe\n",
    "    \"\"\"\n",
    "    \n",
    "    list_origin = [\"media\", \"twitter\", \"facebook\"]\n",
    "\n",
    "\n",
    "    for n, x in enumerate(list_origin):\n",
    "    \n",
    "        df = data.loc[data[\"origin\"]== x]\n",
    "        n_top_ranked = 10\n",
    "        top_sources = df[df[\"segm\"] == df[\"segm\"].max()].nsmallest(n_top_ranked, \"rank\")\n",
    "\n",
    "        fig, ax = plt.subplots(figsize=(16, 10), subplot_kw=dict(ylim=(0.5, 0.5 + n_top_ranked)))\n",
    "        \n",
    "        fig.suptitle(x, fontsize=16)\n",
    "\n",
    "\n",
    "        ax.xaxis.set_major_locator(MultipleLocator(1))\n",
    "        ax.yaxis.set_major_locator(MultipleLocator(1))\n",
    "\n",
    "        yax2 = ax.secondary_yaxis(\"right\")\n",
    "        yax2.yaxis.set_major_locator(FixedLocator(top_sources[\"rank\"].to_list()))\n",
    "        yax2.yaxis.set_major_formatter(FixedFormatter(top_sources[which].to_list()))\n",
    "\n",
    "\n",
    "        for i, j in df.groupby([which]):\n",
    "            ax = plt.plot(\"segm\", \"rank\", \"o-\", data=j)\n",
    "            \n",
    "\n",
    "        plt.gca().invert_yaxis()\n",
    "    \n",
    "    return fig"
   ]
  },
  {
   "cell_type": "code",
   "execution_count": 305,
   "id": "f68fe152",
   "metadata": {},
   "outputs": [],
   "source": [
    "def interactive_bump_chart(data, which):\n",
    "\n",
    "    fig = px.line(df, x=\"start_segment\", y=\"rank\", color = which, facet_row=\"origin\").update_traces(mode='markers+lines')\n",
    "    fig['layout']['yaxis']['autorange'] = \"reversed\"\n",
    "\n",
    "    fig.show()"
   ]
  },
  {
   "cell_type": "code",
   "execution_count": 309,
   "id": "247c76c5",
   "metadata": {},
   "outputs": [],
   "source": [
    "df = ranked_element(data = df0, which=\"term\", top_rank= 10)"
   ]
  },
  {
   "cell_type": "code",
   "execution_count": 310,
   "id": "a983d1ed",
   "metadata": {},
   "outputs": [
    {
     "data": {
      "application/vnd.plotly.v1+json": {
       "config": {
        "plotlyServerURL": "https://plot.ly"
       },
       "data": [
        {
         "hovertemplate": "term=abeilles<br>origin=facebook<br>start_segment=%{x}<br>rank=%{y}<extra></extra>",
         "legendgroup": "abeilles",
         "line": {
          "color": "#636efa",
          "dash": "solid"
         },
         "mode": "markers+lines",
         "name": "abeilles",
         "orientation": "v",
         "showlegend": true,
         "type": "scatter",
         "x": [
          "2011-11-16",
          "2012-02-01",
          "2012-07-01",
          "2012-12-01",
          "2014-03-01",
          "2015-03-01",
          "2015-12-01",
          "2016-10-01",
          "2018-05-01",
          "2019-06-01",
          "2020-08-01",
          "2021-04-01",
          "2021-12-01"
         ],
         "xaxis": "x3",
         "y": [
          14,
          5,
          9,
          3,
          2,
          5,
          7,
          6,
          9,
          13,
          11,
          10,
          42
         ],
         "yaxis": "y3"
        },
        {
         "hovertemplate": "term=abeilles<br>origin=media<br>start_segment=%{x}<br>rank=%{y}<extra></extra>",
         "legendgroup": "abeilles",
         "line": {
          "color": "#636efa",
          "dash": "solid"
         },
         "mode": "markers+lines",
         "name": "abeilles",
         "orientation": "v",
         "showlegend": false,
         "type": "scatter",
         "x": [
          "2011-03-31",
          "2011-11-03",
          "2012-11-14",
          "2013-01-07",
          "2014-07-01",
          "2015-09-01",
          "2018-04-01",
          "2019-08-01",
          "2021-08-01"
         ],
         "xaxis": "x2",
         "y": [
          7,
          27,
          71,
          2,
          5,
          25,
          22,
          39,
          31
         ],
         "yaxis": "y2"
        },
        {
         "hovertemplate": "term=abeilles<br>origin=twitter<br>start_segment=%{x}<br>rank=%{y}<extra></extra>",
         "legendgroup": "abeilles",
         "line": {
          "color": "#636efa",
          "dash": "solid"
         },
         "mode": "markers+lines",
         "name": "abeilles",
         "orientation": "v",
         "showlegend": false,
         "type": "scatter",
         "x": [
          "2010-02-01",
          "2010-09-01",
          "2012-07-01",
          "2013-12-01",
          "2015-10-01",
          "2017-09-01",
          "2019-06-01",
          "2020-08-01"
         ],
         "xaxis": "x",
         "y": [
          10,
          2,
          2,
          3,
          4,
          7,
          6,
          5
         ],
         "yaxis": "y"
        },
        {
         "hovertemplate": "term=agriculteur<br>origin=facebook<br>start_segment=%{x}<br>rank=%{y}<extra></extra>",
         "legendgroup": "agriculteur",
         "line": {
          "color": "#EF553B",
          "dash": "solid"
         },
         "mode": "markers+lines",
         "name": "agriculteur",
         "orientation": "v",
         "showlegend": true,
         "type": "scatter",
         "x": [
          "2011-11-16",
          "2012-02-01",
          "2012-07-01",
          "2012-12-01",
          "2014-03-01",
          "2015-03-01",
          "2015-12-01",
          "2016-10-01",
          "2018-05-01",
          "2019-06-01",
          "2020-08-01",
          "2021-04-01",
          "2021-12-01"
         ],
         "xaxis": "x3",
         "y": [
          5,
          4,
          18,
          13,
          13,
          12,
          15,
          7,
          8,
          5,
          10,
          12,
          17
         ],
         "yaxis": "y3"
        },
        {
         "hovertemplate": "term=agriculteur<br>origin=media<br>start_segment=%{x}<br>rank=%{y}<extra></extra>",
         "legendgroup": "agriculteur",
         "line": {
          "color": "#EF553B",
          "dash": "solid"
         },
         "mode": "markers+lines",
         "name": "agriculteur",
         "orientation": "v",
         "showlegend": false,
         "type": "scatter",
         "x": [
          "2010-09-16",
          "2011-01-19",
          "2011-03-31",
          "2011-09-08",
          "2011-11-03",
          "2013-01-07",
          "2014-07-01",
          "2015-09-01",
          "2018-04-01",
          "2019-08-01",
          "2021-08-01"
         ],
         "xaxis": "x2",
         "y": [
          106,
          38,
          73,
          49,
          13,
          8,
          3,
          4,
          8,
          3,
          24
         ],
         "yaxis": "y2"
        },
        {
         "hovertemplate": "term=agriculteur<br>origin=twitter<br>start_segment=%{x}<br>rank=%{y}<extra></extra>",
         "legendgroup": "agriculteur",
         "line": {
          "color": "#EF553B",
          "dash": "solid"
         },
         "mode": "markers+lines",
         "name": "agriculteur",
         "orientation": "v",
         "showlegend": false,
         "type": "scatter",
         "x": [
          "2010-02-01",
          "2010-09-01",
          "2012-07-01",
          "2013-12-01",
          "2015-10-01",
          "2017-09-01",
          "2019-06-01",
          "2020-08-01"
         ],
         "xaxis": "x",
         "y": [
          12,
          5,
          20,
          16,
          14,
          6,
          3,
          8
         ],
         "yaxis": "y"
        },
        {
         "hovertemplate": "term=coûts<br>origin=facebook<br>start_segment=%{x}<br>rank=%{y}<extra></extra>",
         "legendgroup": "coûts",
         "line": {
          "color": "#00cc96",
          "dash": "solid"
         },
         "mode": "markers+lines",
         "name": "coûts",
         "orientation": "v",
         "showlegend": true,
         "type": "scatter",
         "x": [
          "2011-11-16",
          "2012-02-01",
          "2012-07-01",
          "2012-12-01",
          "2014-03-01",
          "2015-03-01",
          "2015-12-01",
          "2016-10-01",
          "2018-05-01",
          "2019-06-01",
          "2020-08-01",
          "2021-04-01",
          "2021-12-01"
         ],
         "xaxis": "x3",
         "y": [
          65,
          142,
          99,
          142,
          127,
          112,
          111,
          117,
          136,
          102,
          104,
          50,
          3
         ],
         "yaxis": "y3"
        },
        {
         "hovertemplate": "term=culture<br>origin=facebook<br>start_segment=%{x}<br>rank=%{y}<extra></extra>",
         "legendgroup": "culture",
         "line": {
          "color": "#ab63fa",
          "dash": "solid"
         },
         "mode": "markers+lines",
         "name": "culture",
         "orientation": "v",
         "showlegend": true,
         "type": "scatter",
         "x": [
          "2011-11-16",
          "2012-02-01",
          "2012-07-01",
          "2012-12-01",
          "2014-03-01",
          "2015-03-01",
          "2015-12-01",
          "2016-10-01",
          "2018-05-01",
          "2019-06-01",
          "2020-08-01",
          "2021-04-01",
          "2021-12-01"
         ],
         "xaxis": "x3",
         "y": [
          12,
          15,
          15,
          10,
          9,
          15,
          13,
          13,
          17,
          7,
          3,
          1,
          2
         ],
         "yaxis": "y3"
        },
        {
         "hovertemplate": "term=culture<br>origin=media<br>start_segment=%{x}<br>rank=%{y}<extra></extra>",
         "legendgroup": "culture",
         "line": {
          "color": "#ab63fa",
          "dash": "solid"
         },
         "mode": "markers+lines",
         "name": "culture",
         "orientation": "v",
         "showlegend": false,
         "type": "scatter",
         "x": [
          "2010-09-16",
          "2011-01-19",
          "2011-03-31",
          "2011-09-08",
          "2011-11-03",
          "2013-01-07",
          "2014-07-01",
          "2015-09-01",
          "2018-04-01",
          "2019-08-01",
          "2021-08-01"
         ],
         "xaxis": "x2",
         "y": [
          35,
          27,
          58,
          8,
          19,
          4,
          10,
          16,
          24,
          10,
          14
         ],
         "yaxis": "y2"
        },
        {
         "hovertemplate": "term=glyphosate<br>origin=facebook<br>start_segment=%{x}<br>rank=%{y}<extra></extra>",
         "legendgroup": "glyphosate",
         "line": {
          "color": "#FFA15A",
          "dash": "solid"
         },
         "mode": "markers+lines",
         "name": "glyphosate",
         "orientation": "v",
         "showlegend": true,
         "type": "scatter",
         "x": [
          "2011-11-16",
          "2012-02-01",
          "2012-07-01",
          "2012-12-01",
          "2014-03-01",
          "2015-03-01",
          "2015-12-01",
          "2016-10-01",
          "2018-05-01",
          "2019-06-01",
          "2020-08-01",
          "2021-04-01",
          "2021-12-01"
         ],
         "xaxis": "x3",
         "y": [
          89,
          136,
          95,
          86,
          69,
          7,
          3,
          2,
          2,
          2,
          5,
          9,
          9
         ],
         "yaxis": "y3"
        },
        {
         "hovertemplate": "term=glyphosate<br>origin=media<br>start_segment=%{x}<br>rank=%{y}<extra></extra>",
         "legendgroup": "glyphosate",
         "line": {
          "color": "#FFA15A",
          "dash": "solid"
         },
         "mode": "markers+lines",
         "name": "glyphosate",
         "orientation": "v",
         "showlegend": false,
         "type": "scatter",
         "x": [
          "2011-03-31",
          "2011-09-08",
          "2011-11-03",
          "2012-11-14",
          "2013-01-07",
          "2014-07-01",
          "2015-09-01",
          "2018-04-01",
          "2019-08-01",
          "2021-08-01"
         ],
         "xaxis": "x2",
         "y": [
          13,
          1,
          8,
          10,
          150,
          28,
          2,
          2,
          11,
          25
         ],
         "yaxis": "y2"
        },
        {
         "hovertemplate": "term=glyphosate<br>origin=twitter<br>start_segment=%{x}<br>rank=%{y}<extra></extra>",
         "legendgroup": "glyphosate",
         "line": {
          "color": "#FFA15A",
          "dash": "solid"
         },
         "mode": "markers+lines",
         "name": "glyphosate",
         "orientation": "v",
         "showlegend": false,
         "type": "scatter",
         "x": [
          "2010-02-01",
          "2010-09-01",
          "2012-07-01",
          "2013-12-01",
          "2015-10-01",
          "2017-09-01",
          "2019-06-01",
          "2020-08-01"
         ],
         "xaxis": "x",
         "y": [
          38,
          47,
          57,
          11,
          2,
          1,
          2,
          2
         ],
         "yaxis": "y"
        },
        {
         "hovertemplate": "term=monde<br>origin=facebook<br>start_segment=%{x}<br>rank=%{y}<extra></extra>",
         "legendgroup": "monde",
         "line": {
          "color": "#19d3f3",
          "dash": "solid"
         },
         "mode": "markers+lines",
         "name": "monde",
         "orientation": "v",
         "showlegend": true,
         "type": "scatter",
         "x": [
          "2011-11-16",
          "2012-02-01",
          "2012-07-01",
          "2012-12-01",
          "2014-03-01",
          "2015-03-01",
          "2015-12-01",
          "2016-10-01",
          "2018-05-01",
          "2019-06-01",
          "2020-08-01",
          "2021-04-01",
          "2021-12-01"
         ],
         "xaxis": "x3",
         "y": [
          8,
          6,
          6,
          6,
          5,
          6,
          5,
          5,
          5,
          4,
          9,
          8,
          10
         ],
         "yaxis": "y3"
        },
        {
         "hovertemplate": "term=monde<br>origin=media<br>start_segment=%{x}<br>rank=%{y}<extra></extra>",
         "legendgroup": "monde",
         "line": {
          "color": "#19d3f3",
          "dash": "solid"
         },
         "mode": "markers+lines",
         "name": "monde",
         "orientation": "v",
         "showlegend": false,
         "type": "scatter",
         "x": [
          "2010-09-16",
          "2011-01-19",
          "2011-03-31",
          "2011-09-08",
          "2011-11-03",
          "2012-11-14",
          "2013-01-07",
          "2014-07-01",
          "2015-09-01",
          "2018-04-01",
          "2019-08-01",
          "2021-08-01"
         ],
         "xaxis": "x2",
         "y": [
          13,
          2,
          23,
          12,
          6,
          13,
          15,
          4,
          5,
          6,
          2,
          8
         ],
         "yaxis": "y2"
        },
        {
         "hovertemplate": "term=monsanto<br>origin=facebook<br>start_segment=%{x}<br>rank=%{y}<extra></extra>",
         "legendgroup": "monsanto",
         "line": {
          "color": "#FF6692",
          "dash": "solid"
         },
         "mode": "markers+lines",
         "name": "monsanto",
         "orientation": "v",
         "showlegend": true,
         "type": "scatter",
         "x": [
          "2011-11-16",
          "2012-02-01",
          "2012-07-01",
          "2012-12-01",
          "2014-03-01",
          "2015-03-01",
          "2015-12-01",
          "2016-10-01",
          "2018-05-01",
          "2019-06-01",
          "2020-08-01",
          "2021-04-01",
          "2021-12-01"
         ],
         "xaxis": "x3",
         "y": [
          3,
          3,
          5,
          2,
          6,
          2,
          4,
          4,
          3,
          37,
          64,
          82,
          149
         ],
         "yaxis": "y3"
        },
        {
         "hovertemplate": "term=monsanto<br>origin=media<br>start_segment=%{x}<br>rank=%{y}<extra></extra>",
         "legendgroup": "monsanto",
         "line": {
          "color": "#FF6692",
          "dash": "solid"
         },
         "mode": "markers+lines",
         "name": "monsanto",
         "orientation": "v",
         "showlegend": false,
         "type": "scatter",
         "x": [
          "2010-09-16",
          "2011-01-19",
          "2011-09-08",
          "2011-11-03",
          "2013-01-07",
          "2014-07-01",
          "2015-09-01",
          "2018-04-01",
          "2019-08-01",
          "2021-08-01"
         ],
         "xaxis": "x2",
         "y": [
          52,
          43,
          10,
          3,
          22,
          13,
          8,
          3,
          83,
          117
         ],
         "yaxis": "y2"
        },
        {
         "hovertemplate": "term=monsanto<br>origin=twitter<br>start_segment=%{x}<br>rank=%{y}<extra></extra>",
         "legendgroup": "monsanto",
         "line": {
          "color": "#FF6692",
          "dash": "solid"
         },
         "mode": "markers+lines",
         "name": "monsanto",
         "orientation": "v",
         "showlegend": false,
         "type": "scatter",
         "x": [
          "2010-02-01",
          "2010-09-01",
          "2012-07-01",
          "2013-12-01",
          "2015-10-01",
          "2017-09-01",
          "2019-06-01",
          "2020-08-01"
         ],
         "xaxis": "x",
         "y": [
          16,
          6,
          8,
          4,
          6,
          3,
          16,
          34
         ],
         "yaxis": "y"
        },
        {
         "hovertemplate": "term=néonicotinoïdes<br>origin=facebook<br>start_segment=%{x}<br>rank=%{y}<extra></extra>",
         "legendgroup": "néonicotinoïdes",
         "line": {
          "color": "#B6E880",
          "dash": "solid"
         },
         "mode": "markers+lines",
         "name": "néonicotinoïdes",
         "orientation": "v",
         "showlegend": true,
         "type": "scatter",
         "x": [
          "2012-02-01",
          "2012-07-01",
          "2012-12-01",
          "2014-03-01",
          "2015-03-01",
          "2015-12-01",
          "2016-10-01",
          "2018-05-01",
          "2019-06-01",
          "2020-08-01",
          "2021-04-01",
          "2021-12-01"
         ],
         "xaxis": "x3",
         "y": [
          101,
          106,
          49,
          17,
          18,
          6,
          18,
          63,
          119,
          2,
          70,
          27
         ],
         "yaxis": "y3"
        },
        {
         "hovertemplate": "term=néonicotinoïdes<br>origin=twitter<br>start_segment=%{x}<br>rank=%{y}<extra></extra>",
         "legendgroup": "néonicotinoïdes",
         "line": {
          "color": "#B6E880",
          "dash": "solid"
         },
         "mode": "markers+lines",
         "name": "néonicotinoïdes",
         "orientation": "v",
         "showlegend": false,
         "type": "scatter",
         "x": [
          "2010-09-01",
          "2012-07-01",
          "2013-12-01",
          "2015-10-01",
          "2017-09-01",
          "2019-06-01",
          "2020-08-01"
         ],
         "xaxis": "x",
         "y": [
          82,
          6,
          5,
          3,
          10,
          39,
          3
         ],
         "yaxis": "y"
        },
        {
         "hovertemplate": "term=ogm<br>origin=facebook<br>start_segment=%{x}<br>rank=%{y}<extra></extra>",
         "legendgroup": "ogm",
         "line": {
          "color": "#FF97FF",
          "dash": "solid"
         },
         "mode": "markers+lines",
         "name": "ogm",
         "orientation": "v",
         "showlegend": true,
         "type": "scatter",
         "x": [
          "2011-11-16",
          "2012-02-01",
          "2012-07-01",
          "2012-12-01",
          "2014-03-01",
          "2015-03-01",
          "2015-12-01",
          "2016-10-01",
          "2018-05-01",
          "2019-06-01",
          "2020-08-01",
          "2021-04-01",
          "2021-12-01"
         ],
         "xaxis": "x3",
         "y": [
          15,
          8,
          2,
          5,
          4,
          8,
          10,
          20,
          48,
          50,
          49,
          41,
          57
         ],
         "yaxis": "y3"
        },
        {
         "hovertemplate": "term=ogm<br>origin=media<br>start_segment=%{x}<br>rank=%{y}<extra></extra>",
         "legendgroup": "ogm",
         "line": {
          "color": "#FF97FF",
          "dash": "solid"
         },
         "mode": "markers+lines",
         "name": "ogm",
         "orientation": "v",
         "showlegend": false,
         "type": "scatter",
         "x": [
          "2010-09-16",
          "2011-01-19",
          "2011-11-03",
          "2012-11-14",
          "2013-01-07",
          "2014-07-01",
          "2015-09-01",
          "2018-04-01",
          "2019-08-01",
          "2021-08-01"
         ],
         "xaxis": "x2",
         "y": [
          8,
          65,
          2,
          1,
          6,
          56,
          72,
          81,
          92,
          139
         ],
         "yaxis": "y2"
        },
        {
         "hovertemplate": "term=ogm<br>origin=twitter<br>start_segment=%{x}<br>rank=%{y}<extra></extra>",
         "legendgroup": "ogm",
         "line": {
          "color": "#FF97FF",
          "dash": "solid"
         },
         "mode": "markers+lines",
         "name": "ogm",
         "orientation": "v",
         "showlegend": false,
         "type": "scatter",
         "x": [
          "2010-02-01",
          "2010-09-01",
          "2012-07-01",
          "2013-12-01",
          "2015-10-01",
          "2017-09-01",
          "2019-06-01",
          "2020-08-01"
         ],
         "xaxis": "x",
         "y": [
          9,
          9,
          4,
          8,
          11,
          22,
          8,
          9
         ],
         "yaxis": "y"
        },
        {
         "hovertemplate": "term=pesticides<br>origin=facebook<br>start_segment=%{x}<br>rank=%{y}<extra></extra>",
         "legendgroup": "pesticides",
         "line": {
          "color": "#FECB52",
          "dash": "solid"
         },
         "mode": "markers+lines",
         "name": "pesticides",
         "orientation": "v",
         "showlegend": true,
         "type": "scatter",
         "x": [
          "2011-11-16",
          "2012-02-01",
          "2012-07-01",
          "2012-12-01",
          "2014-03-01",
          "2015-03-01",
          "2015-12-01",
          "2016-10-01",
          "2018-05-01",
          "2019-06-01",
          "2020-08-01",
          "2021-04-01",
          "2021-12-01"
         ],
         "xaxis": "x3",
         "y": [
          1,
          1,
          1,
          1,
          1,
          1,
          1,
          1,
          1,
          1,
          1,
          2,
          1
         ],
         "yaxis": "y3"
        },
        {
         "hovertemplate": "term=pesticides<br>origin=media<br>start_segment=%{x}<br>rank=%{y}<extra></extra>",
         "legendgroup": "pesticides",
         "line": {
          "color": "#FECB52",
          "dash": "solid"
         },
         "mode": "markers+lines",
         "name": "pesticides",
         "orientation": "v",
         "showlegend": false,
         "type": "scatter",
         "x": [
          "2010-09-16",
          "2011-01-19",
          "2011-03-31",
          "2011-09-08",
          "2011-11-03",
          "2012-11-14",
          "2013-01-07",
          "2014-07-01",
          "2015-09-01",
          "2018-04-01",
          "2019-08-01",
          "2021-08-01"
         ],
         "xaxis": "x2",
         "y": [
          1,
          13,
          4,
          2,
          1,
          3,
          1,
          1,
          1,
          1,
          1,
          1
         ],
         "yaxis": "y2"
        },
        {
         "hovertemplate": "term=pesticides<br>origin=twitter<br>start_segment=%{x}<br>rank=%{y}<extra></extra>",
         "legendgroup": "pesticides",
         "line": {
          "color": "#FECB52",
          "dash": "solid"
         },
         "mode": "markers+lines",
         "name": "pesticides",
         "orientation": "v",
         "showlegend": false,
         "type": "scatter",
         "x": [
          "2010-02-01",
          "2010-09-01",
          "2012-07-01",
          "2013-12-01",
          "2015-10-01",
          "2017-09-01",
          "2019-06-01",
          "2020-08-01"
         ],
         "xaxis": "x",
         "y": [
          1,
          1,
          1,
          1,
          1,
          2,
          1,
          1
         ],
         "yaxis": "y"
        },
        {
         "hovertemplate": "term=plantes<br>origin=facebook<br>start_segment=%{x}<br>rank=%{y}<extra></extra>",
         "legendgroup": "plantes",
         "line": {
          "color": "#636efa",
          "dash": "solid"
         },
         "mode": "markers+lines",
         "name": "plantes",
         "orientation": "v",
         "showlegend": true,
         "type": "scatter",
         "x": [
          "2011-11-16",
          "2012-02-01",
          "2012-07-01",
          "2012-12-01",
          "2014-03-01",
          "2015-03-01",
          "2015-12-01",
          "2016-10-01",
          "2018-05-01",
          "2019-06-01",
          "2020-08-01",
          "2021-04-01",
          "2021-12-01"
         ],
         "xaxis": "x3",
         "y": [
          10,
          10,
          7,
          11,
          7,
          10,
          11,
          8,
          15,
          8,
          6,
          4,
          6
         ],
         "yaxis": "y3"
        },
        {
         "hovertemplate": "term=production<br>origin=facebook<br>start_segment=%{x}<br>rank=%{y}<extra></extra>",
         "legendgroup": "production",
         "line": {
          "color": "#EF553B",
          "dash": "solid"
         },
         "mode": "markers+lines",
         "name": "production",
         "orientation": "v",
         "showlegend": true,
         "type": "scatter",
         "x": [
          "2011-11-16",
          "2012-02-01",
          "2012-07-01",
          "2012-12-01",
          "2014-03-01",
          "2015-03-01",
          "2015-12-01",
          "2016-10-01",
          "2018-05-01",
          "2019-06-01",
          "2020-08-01",
          "2021-04-01",
          "2021-12-01"
         ],
         "xaxis": "x3",
         "y": [
          4,
          9,
          12,
          18,
          14,
          19,
          20,
          17,
          26,
          9,
          13,
          6,
          8
         ],
         "yaxis": "y3"
        },
        {
         "hovertemplate": "term=production<br>origin=media<br>start_segment=%{x}<br>rank=%{y}<extra></extra>",
         "legendgroup": "production",
         "line": {
          "color": "#EF553B",
          "dash": "solid"
         },
         "mode": "markers+lines",
         "name": "production",
         "orientation": "v",
         "showlegend": false,
         "type": "scatter",
         "x": [
          "2010-09-16",
          "2011-01-19",
          "2011-03-31",
          "2011-09-08",
          "2011-11-03",
          "2012-11-14",
          "2013-01-07",
          "2014-07-01",
          "2015-09-01",
          "2018-04-01",
          "2019-08-01",
          "2021-08-01"
         ],
         "xaxis": "x2",
         "y": [
          77,
          3,
          18,
          62,
          29,
          96,
          12,
          7,
          12,
          18,
          9,
          19
         ],
         "yaxis": "y2"
        },
        {
         "hovertemplate": "term=roundup<br>origin=facebook<br>start_segment=%{x}<br>rank=%{y}<extra></extra>",
         "legendgroup": "roundup",
         "line": {
          "color": "#00cc96",
          "dash": "solid"
         },
         "mode": "markers+lines",
         "name": "roundup",
         "orientation": "v",
         "showlegend": true,
         "type": "scatter",
         "x": [
          "2011-11-16",
          "2012-02-01",
          "2012-07-01",
          "2012-12-01",
          "2014-03-01",
          "2015-03-01",
          "2015-12-01",
          "2016-10-01",
          "2018-05-01",
          "2019-06-01",
          "2020-08-01",
          "2021-04-01",
          "2021-12-01"
         ],
         "xaxis": "x3",
         "y": [
          18,
          34,
          10,
          7,
          11,
          4,
          12,
          21,
          16,
          75,
          133,
          94,
          150
         ],
         "yaxis": "y3"
        },
        {
         "hovertemplate": "term=roundup<br>origin=media<br>start_segment=%{x}<br>rank=%{y}<extra></extra>",
         "legendgroup": "roundup",
         "line": {
          "color": "#00cc96",
          "dash": "solid"
         },
         "mode": "markers+lines",
         "name": "roundup",
         "orientation": "v",
         "showlegend": false,
         "type": "scatter",
         "x": [
          "2011-09-08",
          "2011-11-03",
          "2013-01-07",
          "2014-07-01",
          "2015-09-01",
          "2018-04-01",
          "2019-08-01",
          "2021-08-01"
         ],
         "xaxis": "x2",
         "y": [
          4,
          35,
          128,
          31,
          62,
          34,
          143,
          58
         ],
         "yaxis": "y2"
        },
        {
         "hovertemplate": "term=roundup<br>origin=twitter<br>start_segment=%{x}<br>rank=%{y}<extra></extra>",
         "legendgroup": "roundup",
         "line": {
          "color": "#00cc96",
          "dash": "solid"
         },
         "mode": "markers+lines",
         "name": "roundup",
         "orientation": "v",
         "showlegend": false,
         "type": "scatter",
         "x": [
          "2010-02-01",
          "2010-09-01",
          "2012-07-01",
          "2013-12-01",
          "2015-10-01",
          "2017-09-01",
          "2019-06-01",
          "2020-08-01"
         ],
         "xaxis": "x",
         "y": [
          3,
          3,
          3,
          2,
          5,
          5,
          18,
          23
         ],
         "yaxis": "y"
        },
        {
         "hovertemplate": "term=santé<br>origin=facebook<br>start_segment=%{x}<br>rank=%{y}<extra></extra>",
         "legendgroup": "santé",
         "line": {
          "color": "#ab63fa",
          "dash": "solid"
         },
         "mode": "markers+lines",
         "name": "santé",
         "orientation": "v",
         "showlegend": true,
         "type": "scatter",
         "x": [
          "2011-11-16",
          "2012-02-01",
          "2012-07-01",
          "2012-12-01",
          "2014-03-01",
          "2015-03-01",
          "2015-12-01",
          "2016-10-01",
          "2018-05-01",
          "2019-06-01",
          "2020-08-01",
          "2021-04-01",
          "2021-12-01"
         ],
         "xaxis": "x3",
         "y": [
          2,
          2,
          3,
          4,
          3,
          3,
          2,
          3,
          4,
          3,
          4,
          3,
          5
         ],
         "yaxis": "y3"
        },
        {
         "hovertemplate": "term=santé<br>origin=media<br>start_segment=%{x}<br>rank=%{y}<extra></extra>",
         "legendgroup": "santé",
         "line": {
          "color": "#ab63fa",
          "dash": "solid"
         },
         "mode": "markers+lines",
         "name": "santé",
         "orientation": "v",
         "showlegend": false,
         "type": "scatter",
         "x": [
          "2010-09-16",
          "2011-01-19",
          "2011-03-31",
          "2011-09-08",
          "2011-11-03",
          "2012-11-14",
          "2013-01-07",
          "2014-07-01",
          "2015-09-01",
          "2018-04-01",
          "2019-08-01",
          "2021-08-01"
         ],
         "xaxis": "x2",
         "y": [
          11,
          95,
          17,
          60,
          9,
          5,
          3,
          2,
          3,
          4,
          4,
          2
         ],
         "yaxis": "y2"
        },
        {
         "hovertemplate": "term=santé<br>origin=twitter<br>start_segment=%{x}<br>rank=%{y}<extra></extra>",
         "legendgroup": "santé",
         "line": {
          "color": "#ab63fa",
          "dash": "solid"
         },
         "mode": "markers+lines",
         "name": "santé",
         "orientation": "v",
         "showlegend": false,
         "type": "scatter",
         "x": [
          "2010-02-01",
          "2010-09-01",
          "2012-07-01",
          "2013-12-01",
          "2015-10-01",
          "2017-09-01",
          "2019-06-01",
          "2020-08-01"
         ],
         "xaxis": "x",
         "y": [
          11,
          7,
          5,
          9,
          7,
          4,
          4,
          6
         ],
         "yaxis": "y"
        },
        {
         "hovertemplate": "term=traitements<br>origin=facebook<br>start_segment=%{x}<br>rank=%{y}<extra></extra>",
         "legendgroup": "traitements",
         "line": {
          "color": "#FFA15A",
          "dash": "solid"
         },
         "mode": "markers+lines",
         "name": "traitements",
         "orientation": "v",
         "showlegend": true,
         "type": "scatter",
         "x": [
          "2011-11-16",
          "2012-02-01",
          "2012-07-01",
          "2012-12-01",
          "2014-03-01",
          "2015-03-01",
          "2015-12-01",
          "2016-10-01",
          "2018-05-01",
          "2019-06-01",
          "2020-08-01",
          "2021-04-01",
          "2021-12-01"
         ],
         "xaxis": "x3",
         "y": [
          38,
          23,
          22,
          33,
          15,
          27,
          24,
          29,
          51,
          18,
          26,
          11,
          4
         ],
         "yaxis": "y3"
        },
        {
         "hovertemplate": "term=études<br>origin=facebook<br>start_segment=%{x}<br>rank=%{y}<extra></extra>",
         "legendgroup": "études",
         "line": {
          "color": "#19d3f3",
          "dash": "solid"
         },
         "mode": "markers+lines",
         "name": "études",
         "orientation": "v",
         "showlegend": true,
         "type": "scatter",
         "x": [
          "2011-11-16",
          "2012-02-01",
          "2012-07-01",
          "2012-12-01",
          "2014-03-01",
          "2015-03-01",
          "2015-12-01",
          "2016-10-01",
          "2018-05-01",
          "2019-06-01",
          "2020-08-01",
          "2021-04-01",
          "2021-12-01"
         ],
         "xaxis": "x3",
         "y": [
          23,
          30,
          4,
          8,
          8,
          11,
          25,
          16,
          19,
          23,
          30,
          26,
          20
         ],
         "yaxis": "y3"
        },
        {
         "hovertemplate": "term=études<br>origin=media<br>start_segment=%{x}<br>rank=%{y}<extra></extra>",
         "legendgroup": "études",
         "line": {
          "color": "#19d3f3",
          "dash": "solid"
         },
         "mode": "markers+lines",
         "name": "études",
         "orientation": "v",
         "showlegend": false,
         "type": "scatter",
         "x": [
          "2010-09-16",
          "2011-03-31",
          "2011-09-08",
          "2011-11-03",
          "2012-11-14",
          "2013-01-07",
          "2014-07-01",
          "2015-09-01",
          "2018-04-01",
          "2019-08-01",
          "2021-08-01"
         ],
         "xaxis": "x2",
         "y": [
          3,
          1,
          9,
          5,
          4,
          11,
          19,
          10,
          19,
          22,
          12
         ],
         "yaxis": "y2"
        },
        {
         "hovertemplate": "term=développement<br>origin=media<br>start_segment=%{x}<br>rank=%{y}<extra></extra>",
         "legendgroup": "développement",
         "line": {
          "color": "#FF6692",
          "dash": "solid"
         },
         "mode": "markers+lines",
         "name": "développement",
         "orientation": "v",
         "showlegend": true,
         "type": "scatter",
         "x": [
          "2010-09-16",
          "2011-01-19",
          "2011-03-31",
          "2011-11-03",
          "2012-11-14",
          "2013-01-07",
          "2014-07-01",
          "2015-09-01",
          "2018-04-01",
          "2019-08-01",
          "2021-08-01"
         ],
         "xaxis": "x2",
         "y": [
          2,
          15,
          37,
          22,
          55,
          23,
          25,
          29,
          43,
          33,
          35
         ],
         "yaxis": "y2"
        },
        {
         "hovertemplate": "term=effet<br>origin=media<br>start_segment=%{x}<br>rank=%{y}<extra></extra>",
         "legendgroup": "effet",
         "line": {
          "color": "#B6E880",
          "dash": "solid"
         },
         "mode": "markers+lines",
         "name": "effet",
         "orientation": "v",
         "showlegend": true,
         "type": "scatter",
         "x": [
          "2010-09-16",
          "2011-01-19",
          "2011-03-31",
          "2011-09-08",
          "2011-11-03",
          "2012-11-14",
          "2013-01-07",
          "2014-07-01",
          "2015-09-01",
          "2018-04-01",
          "2019-08-01",
          "2021-08-01"
         ],
         "xaxis": "x2",
         "y": [
          23,
          4,
          27,
          15,
          12,
          8,
          9,
          8,
          13,
          11,
          6,
          5
         ],
         "yaxis": "y2"
        },
        {
         "hovertemplate": "term=guadeloupe<br>origin=media<br>start_segment=%{x}<br>rank=%{y}<extra></extra>",
         "legendgroup": "guadeloupe",
         "line": {
          "color": "#FF97FF",
          "dash": "solid"
         },
         "mode": "markers+lines",
         "name": "guadeloupe",
         "orientation": "v",
         "showlegend": true,
         "type": "scatter",
         "x": [
          "2011-11-03",
          "2013-01-07",
          "2014-07-01",
          "2015-09-01",
          "2018-04-01",
          "2019-08-01",
          "2021-08-01"
         ],
         "xaxis": "x2",
         "y": [
          194,
          151,
          175,
          245,
          151,
          149,
          3
         ],
         "yaxis": "y2"
        },
        {
         "hovertemplate": "term=herbicide<br>origin=media<br>start_segment=%{x}<br>rank=%{y}<extra></extra>",
         "legendgroup": "herbicide",
         "line": {
          "color": "#FECB52",
          "dash": "solid"
         },
         "mode": "markers+lines",
         "name": "herbicide",
         "orientation": "v",
         "showlegend": true,
         "type": "scatter",
         "x": [
          "2010-09-16",
          "2011-01-19",
          "2011-09-08",
          "2011-11-03",
          "2012-11-14",
          "2013-01-07",
          "2014-07-01",
          "2015-09-01",
          "2018-04-01",
          "2019-08-01",
          "2021-08-01"
         ],
         "xaxis": "x2",
         "y": [
          63,
          80,
          3,
          17,
          29,
          56,
          55,
          50,
          55,
          97,
          91
         ],
         "yaxis": "y2"
        },
        {
         "hovertemplate": "term=maladie<br>origin=media<br>start_segment=%{x}<br>rank=%{y}<extra></extra>",
         "legendgroup": "maladie",
         "line": {
          "color": "#636efa",
          "dash": "solid"
         },
         "mode": "markers+lines",
         "name": "maladie",
         "orientation": "v",
         "showlegend": true,
         "type": "scatter",
         "x": [
          "2010-09-16",
          "2011-03-31",
          "2011-11-03",
          "2012-11-14",
          "2013-01-07",
          "2014-07-01",
          "2015-09-01",
          "2018-04-01",
          "2019-08-01",
          "2021-08-01"
         ],
         "xaxis": "x2",
         "y": [
          36,
          2,
          4,
          9,
          5,
          11,
          20,
          26,
          16,
          7
         ],
         "yaxis": "y2"
        },
        {
         "hovertemplate": "term=parasite<br>origin=media<br>start_segment=%{x}<br>rank=%{y}<extra></extra>",
         "legendgroup": "parasite",
         "line": {
          "color": "#EF553B",
          "dash": "solid"
         },
         "mode": "markers+lines",
         "name": "parasite",
         "orientation": "v",
         "showlegend": true,
         "type": "scatter",
         "x": [
          "2011-03-31",
          "2011-11-03",
          "2012-11-14",
          "2013-01-07",
          "2014-07-01",
          "2015-09-01",
          "2018-04-01",
          "2019-08-01",
          "2021-08-01"
         ],
         "xaxis": "x2",
         "y": [
          3,
          146,
          2,
          92,
          81,
          163,
          193,
          197,
          103
         ],
         "yaxis": "y2"
        },
        {
         "hovertemplate": "term=politique<br>origin=media<br>start_segment=%{x}<br>rank=%{y}<extra></extra>",
         "legendgroup": "politique",
         "line": {
          "color": "#00cc96",
          "dash": "solid"
         },
         "mode": "markers+lines",
         "name": "politique",
         "orientation": "v",
         "showlegend": true,
         "type": "scatter",
         "x": [
          "2010-09-16",
          "2011-01-19",
          "2011-03-31",
          "2011-11-03",
          "2012-11-14",
          "2013-01-07",
          "2014-07-01",
          "2015-09-01",
          "2018-04-01",
          "2019-08-01",
          "2021-08-01"
         ],
         "xaxis": "x2",
         "y": [
          16,
          6,
          82,
          28,
          91,
          21,
          29,
          9,
          5,
          5,
          4
         ],
         "yaxis": "y2"
        },
        {
         "hovertemplate": "term=viandes<br>origin=media<br>start_segment=%{x}<br>rank=%{y}<extra></extra>",
         "legendgroup": "viandes",
         "line": {
          "color": "#ab63fa",
          "dash": "solid"
         },
         "mode": "markers+lines",
         "name": "viandes",
         "orientation": "v",
         "showlegend": true,
         "type": "scatter",
         "x": [
          "2010-09-16",
          "2011-01-19",
          "2011-11-03",
          "2013-01-07",
          "2014-07-01",
          "2015-09-01",
          "2018-04-01",
          "2019-08-01",
          "2021-08-01"
         ],
         "xaxis": "x2",
         "y": [
          126,
          1,
          160,
          54,
          82,
          79,
          74,
          77,
          129
         ],
         "yaxis": "y2"
        },
        {
         "hovertemplate": "term=vitamines<br>origin=media<br>start_segment=%{x}<br>rank=%{y}<extra></extra>",
         "legendgroup": "vitamines",
         "line": {
          "color": "#FFA15A",
          "dash": "solid"
         },
         "mode": "markers+lines",
         "name": "vitamines",
         "orientation": "v",
         "showlegend": true,
         "type": "scatter",
         "x": [
          "2010-09-16",
          "2011-11-03",
          "2013-01-07",
          "2014-07-01",
          "2015-09-01",
          "2018-04-01",
          "2019-08-01",
          "2021-08-01"
         ],
         "xaxis": "x2",
         "y": [
          4,
          208,
          171,
          191,
          193,
          170,
          160,
          141
         ],
         "yaxis": "y2"
        },
        {
         "hovertemplate": "term=betterave<br>origin=twitter<br>start_segment=%{x}<br>rank=%{y}<extra></extra>",
         "legendgroup": "betterave",
         "line": {
          "color": "#19d3f3",
          "dash": "solid"
         },
         "mode": "markers+lines",
         "name": "betterave",
         "orientation": "v",
         "showlegend": true,
         "type": "scatter",
         "x": [
          "2010-09-01",
          "2012-07-01",
          "2013-12-01",
          "2015-10-01",
          "2017-09-01",
          "2019-06-01",
          "2020-08-01"
         ],
         "xaxis": "x",
         "y": [
          180,
          287,
          264,
          242,
          180,
          139,
          4
         ],
         "yaxis": "y"
        },
        {
         "hovertemplate": "term=cancers<br>origin=twitter<br>start_segment=%{x}<br>rank=%{y}<extra></extra>",
         "legendgroup": "cancers",
         "line": {
          "color": "#FF6692",
          "dash": "solid"
         },
         "mode": "markers+lines",
         "name": "cancers",
         "orientation": "v",
         "showlegend": true,
         "type": "scatter",
         "x": [
          "2010-02-01",
          "2010-09-01",
          "2012-07-01",
          "2013-12-01",
          "2015-10-01",
          "2017-09-01",
          "2019-06-01",
          "2020-08-01"
         ],
         "xaxis": "x",
         "y": [
          4,
          21,
          24,
          7,
          17,
          9,
          14,
          12
         ],
         "yaxis": "y"
        },
        {
         "hovertemplate": "term=chlordécone<br>origin=twitter<br>start_segment=%{x}<br>rank=%{y}<extra></extra>",
         "legendgroup": "chlordécone",
         "line": {
          "color": "#B6E880",
          "dash": "solid"
         },
         "mode": "markers+lines",
         "name": "chlordécone",
         "orientation": "v",
         "showlegend": true,
         "type": "scatter",
         "x": [
          "2010-02-01",
          "2010-09-01",
          "2012-07-01",
          "2013-12-01",
          "2015-10-01",
          "2017-09-01",
          "2019-06-01",
          "2020-08-01"
         ],
         "xaxis": "x",
         "y": [
          2,
          23,
          12,
          38,
          104,
          15,
          7,
          7
         ],
         "yaxis": "y"
        },
        {
         "hovertemplate": "term=ecologie<br>origin=twitter<br>start_segment=%{x}<br>rank=%{y}<extra></extra>",
         "legendgroup": "ecologie",
         "line": {
          "color": "#FF97FF",
          "dash": "solid"
         },
         "mode": "markers+lines",
         "name": "ecologie",
         "orientation": "v",
         "showlegend": true,
         "type": "scatter",
         "x": [
          "2010-02-01",
          "2010-09-01",
          "2012-07-01",
          "2013-12-01",
          "2015-10-01",
          "2017-09-01",
          "2019-06-01",
          "2020-08-01"
         ],
         "xaxis": "x",
         "y": [
          50,
          4,
          48,
          63,
          76,
          96,
          95,
          97
         ],
         "yaxis": "y"
        }
       ],
       "layout": {
        "annotations": [
         {
          "font": {},
          "showarrow": false,
          "text": "origin=twitter",
          "textangle": 90,
          "x": 0.98,
          "xanchor": "left",
          "xref": "paper",
          "y": 0.15666666666666665,
          "yanchor": "middle",
          "yref": "paper"
         },
         {
          "font": {},
          "showarrow": false,
          "text": "origin=media",
          "textangle": 90,
          "x": 0.98,
          "xanchor": "left",
          "xref": "paper",
          "y": 0.4999999999999999,
          "yanchor": "middle",
          "yref": "paper"
         },
         {
          "font": {},
          "showarrow": false,
          "text": "origin=facebook",
          "textangle": 90,
          "x": 0.98,
          "xanchor": "left",
          "xref": "paper",
          "y": 0.8433333333333332,
          "yanchor": "middle",
          "yref": "paper"
         }
        ],
        "legend": {
         "title": {
          "text": "term"
         },
         "tracegroupgap": 0
        },
        "margin": {
         "t": 60
        },
        "template": {
         "data": {
          "bar": [
           {
            "error_x": {
             "color": "#2a3f5f"
            },
            "error_y": {
             "color": "#2a3f5f"
            },
            "marker": {
             "line": {
              "color": "#E5ECF6",
              "width": 0.5
             }
            },
            "type": "bar"
           }
          ],
          "barpolar": [
           {
            "marker": {
             "line": {
              "color": "#E5ECF6",
              "width": 0.5
             }
            },
            "type": "barpolar"
           }
          ],
          "carpet": [
           {
            "aaxis": {
             "endlinecolor": "#2a3f5f",
             "gridcolor": "white",
             "linecolor": "white",
             "minorgridcolor": "white",
             "startlinecolor": "#2a3f5f"
            },
            "baxis": {
             "endlinecolor": "#2a3f5f",
             "gridcolor": "white",
             "linecolor": "white",
             "minorgridcolor": "white",
             "startlinecolor": "#2a3f5f"
            },
            "type": "carpet"
           }
          ],
          "choropleth": [
           {
            "colorbar": {
             "outlinewidth": 0,
             "ticks": ""
            },
            "type": "choropleth"
           }
          ],
          "contour": [
           {
            "colorbar": {
             "outlinewidth": 0,
             "ticks": ""
            },
            "colorscale": [
             [
              0,
              "#0d0887"
             ],
             [
              0.1111111111111111,
              "#46039f"
             ],
             [
              0.2222222222222222,
              "#7201a8"
             ],
             [
              0.3333333333333333,
              "#9c179e"
             ],
             [
              0.4444444444444444,
              "#bd3786"
             ],
             [
              0.5555555555555556,
              "#d8576b"
             ],
             [
              0.6666666666666666,
              "#ed7953"
             ],
             [
              0.7777777777777778,
              "#fb9f3a"
             ],
             [
              0.8888888888888888,
              "#fdca26"
             ],
             [
              1,
              "#f0f921"
             ]
            ],
            "type": "contour"
           }
          ],
          "contourcarpet": [
           {
            "colorbar": {
             "outlinewidth": 0,
             "ticks": ""
            },
            "type": "contourcarpet"
           }
          ],
          "heatmap": [
           {
            "colorbar": {
             "outlinewidth": 0,
             "ticks": ""
            },
            "colorscale": [
             [
              0,
              "#0d0887"
             ],
             [
              0.1111111111111111,
              "#46039f"
             ],
             [
              0.2222222222222222,
              "#7201a8"
             ],
             [
              0.3333333333333333,
              "#9c179e"
             ],
             [
              0.4444444444444444,
              "#bd3786"
             ],
             [
              0.5555555555555556,
              "#d8576b"
             ],
             [
              0.6666666666666666,
              "#ed7953"
             ],
             [
              0.7777777777777778,
              "#fb9f3a"
             ],
             [
              0.8888888888888888,
              "#fdca26"
             ],
             [
              1,
              "#f0f921"
             ]
            ],
            "type": "heatmap"
           }
          ],
          "heatmapgl": [
           {
            "colorbar": {
             "outlinewidth": 0,
             "ticks": ""
            },
            "colorscale": [
             [
              0,
              "#0d0887"
             ],
             [
              0.1111111111111111,
              "#46039f"
             ],
             [
              0.2222222222222222,
              "#7201a8"
             ],
             [
              0.3333333333333333,
              "#9c179e"
             ],
             [
              0.4444444444444444,
              "#bd3786"
             ],
             [
              0.5555555555555556,
              "#d8576b"
             ],
             [
              0.6666666666666666,
              "#ed7953"
             ],
             [
              0.7777777777777778,
              "#fb9f3a"
             ],
             [
              0.8888888888888888,
              "#fdca26"
             ],
             [
              1,
              "#f0f921"
             ]
            ],
            "type": "heatmapgl"
           }
          ],
          "histogram": [
           {
            "marker": {
             "colorbar": {
              "outlinewidth": 0,
              "ticks": ""
             }
            },
            "type": "histogram"
           }
          ],
          "histogram2d": [
           {
            "colorbar": {
             "outlinewidth": 0,
             "ticks": ""
            },
            "colorscale": [
             [
              0,
              "#0d0887"
             ],
             [
              0.1111111111111111,
              "#46039f"
             ],
             [
              0.2222222222222222,
              "#7201a8"
             ],
             [
              0.3333333333333333,
              "#9c179e"
             ],
             [
              0.4444444444444444,
              "#bd3786"
             ],
             [
              0.5555555555555556,
              "#d8576b"
             ],
             [
              0.6666666666666666,
              "#ed7953"
             ],
             [
              0.7777777777777778,
              "#fb9f3a"
             ],
             [
              0.8888888888888888,
              "#fdca26"
             ],
             [
              1,
              "#f0f921"
             ]
            ],
            "type": "histogram2d"
           }
          ],
          "histogram2dcontour": [
           {
            "colorbar": {
             "outlinewidth": 0,
             "ticks": ""
            },
            "colorscale": [
             [
              0,
              "#0d0887"
             ],
             [
              0.1111111111111111,
              "#46039f"
             ],
             [
              0.2222222222222222,
              "#7201a8"
             ],
             [
              0.3333333333333333,
              "#9c179e"
             ],
             [
              0.4444444444444444,
              "#bd3786"
             ],
             [
              0.5555555555555556,
              "#d8576b"
             ],
             [
              0.6666666666666666,
              "#ed7953"
             ],
             [
              0.7777777777777778,
              "#fb9f3a"
             ],
             [
              0.8888888888888888,
              "#fdca26"
             ],
             [
              1,
              "#f0f921"
             ]
            ],
            "type": "histogram2dcontour"
           }
          ],
          "mesh3d": [
           {
            "colorbar": {
             "outlinewidth": 0,
             "ticks": ""
            },
            "type": "mesh3d"
           }
          ],
          "parcoords": [
           {
            "line": {
             "colorbar": {
              "outlinewidth": 0,
              "ticks": ""
             }
            },
            "type": "parcoords"
           }
          ],
          "pie": [
           {
            "automargin": true,
            "type": "pie"
           }
          ],
          "scatter": [
           {
            "marker": {
             "colorbar": {
              "outlinewidth": 0,
              "ticks": ""
             }
            },
            "type": "scatter"
           }
          ],
          "scatter3d": [
           {
            "line": {
             "colorbar": {
              "outlinewidth": 0,
              "ticks": ""
             }
            },
            "marker": {
             "colorbar": {
              "outlinewidth": 0,
              "ticks": ""
             }
            },
            "type": "scatter3d"
           }
          ],
          "scattercarpet": [
           {
            "marker": {
             "colorbar": {
              "outlinewidth": 0,
              "ticks": ""
             }
            },
            "type": "scattercarpet"
           }
          ],
          "scattergeo": [
           {
            "marker": {
             "colorbar": {
              "outlinewidth": 0,
              "ticks": ""
             }
            },
            "type": "scattergeo"
           }
          ],
          "scattergl": [
           {
            "marker": {
             "colorbar": {
              "outlinewidth": 0,
              "ticks": ""
             }
            },
            "type": "scattergl"
           }
          ],
          "scattermapbox": [
           {
            "marker": {
             "colorbar": {
              "outlinewidth": 0,
              "ticks": ""
             }
            },
            "type": "scattermapbox"
           }
          ],
          "scatterpolar": [
           {
            "marker": {
             "colorbar": {
              "outlinewidth": 0,
              "ticks": ""
             }
            },
            "type": "scatterpolar"
           }
          ],
          "scatterpolargl": [
           {
            "marker": {
             "colorbar": {
              "outlinewidth": 0,
              "ticks": ""
             }
            },
            "type": "scatterpolargl"
           }
          ],
          "scatterternary": [
           {
            "marker": {
             "colorbar": {
              "outlinewidth": 0,
              "ticks": ""
             }
            },
            "type": "scatterternary"
           }
          ],
          "surface": [
           {
            "colorbar": {
             "outlinewidth": 0,
             "ticks": ""
            },
            "colorscale": [
             [
              0,
              "#0d0887"
             ],
             [
              0.1111111111111111,
              "#46039f"
             ],
             [
              0.2222222222222222,
              "#7201a8"
             ],
             [
              0.3333333333333333,
              "#9c179e"
             ],
             [
              0.4444444444444444,
              "#bd3786"
             ],
             [
              0.5555555555555556,
              "#d8576b"
             ],
             [
              0.6666666666666666,
              "#ed7953"
             ],
             [
              0.7777777777777778,
              "#fb9f3a"
             ],
             [
              0.8888888888888888,
              "#fdca26"
             ],
             [
              1,
              "#f0f921"
             ]
            ],
            "type": "surface"
           }
          ],
          "table": [
           {
            "cells": {
             "fill": {
              "color": "#EBF0F8"
             },
             "line": {
              "color": "white"
             }
            },
            "header": {
             "fill": {
              "color": "#C8D4E3"
             },
             "line": {
              "color": "white"
             }
            },
            "type": "table"
           }
          ]
         },
         "layout": {
          "annotationdefaults": {
           "arrowcolor": "#2a3f5f",
           "arrowhead": 0,
           "arrowwidth": 1
          },
          "autotypenumbers": "strict",
          "coloraxis": {
           "colorbar": {
            "outlinewidth": 0,
            "ticks": ""
           }
          },
          "colorscale": {
           "diverging": [
            [
             0,
             "#8e0152"
            ],
            [
             0.1,
             "#c51b7d"
            ],
            [
             0.2,
             "#de77ae"
            ],
            [
             0.3,
             "#f1b6da"
            ],
            [
             0.4,
             "#fde0ef"
            ],
            [
             0.5,
             "#f7f7f7"
            ],
            [
             0.6,
             "#e6f5d0"
            ],
            [
             0.7,
             "#b8e186"
            ],
            [
             0.8,
             "#7fbc41"
            ],
            [
             0.9,
             "#4d9221"
            ],
            [
             1,
             "#276419"
            ]
           ],
           "sequential": [
            [
             0,
             "#0d0887"
            ],
            [
             0.1111111111111111,
             "#46039f"
            ],
            [
             0.2222222222222222,
             "#7201a8"
            ],
            [
             0.3333333333333333,
             "#9c179e"
            ],
            [
             0.4444444444444444,
             "#bd3786"
            ],
            [
             0.5555555555555556,
             "#d8576b"
            ],
            [
             0.6666666666666666,
             "#ed7953"
            ],
            [
             0.7777777777777778,
             "#fb9f3a"
            ],
            [
             0.8888888888888888,
             "#fdca26"
            ],
            [
             1,
             "#f0f921"
            ]
           ],
           "sequentialminus": [
            [
             0,
             "#0d0887"
            ],
            [
             0.1111111111111111,
             "#46039f"
            ],
            [
             0.2222222222222222,
             "#7201a8"
            ],
            [
             0.3333333333333333,
             "#9c179e"
            ],
            [
             0.4444444444444444,
             "#bd3786"
            ],
            [
             0.5555555555555556,
             "#d8576b"
            ],
            [
             0.6666666666666666,
             "#ed7953"
            ],
            [
             0.7777777777777778,
             "#fb9f3a"
            ],
            [
             0.8888888888888888,
             "#fdca26"
            ],
            [
             1,
             "#f0f921"
            ]
           ]
          },
          "colorway": [
           "#636efa",
           "#EF553B",
           "#00cc96",
           "#ab63fa",
           "#FFA15A",
           "#19d3f3",
           "#FF6692",
           "#B6E880",
           "#FF97FF",
           "#FECB52"
          ],
          "font": {
           "color": "#2a3f5f"
          },
          "geo": {
           "bgcolor": "white",
           "lakecolor": "white",
           "landcolor": "#E5ECF6",
           "showlakes": true,
           "showland": true,
           "subunitcolor": "white"
          },
          "hoverlabel": {
           "align": "left"
          },
          "hovermode": "closest",
          "mapbox": {
           "style": "light"
          },
          "paper_bgcolor": "white",
          "plot_bgcolor": "#E5ECF6",
          "polar": {
           "angularaxis": {
            "gridcolor": "white",
            "linecolor": "white",
            "ticks": ""
           },
           "bgcolor": "#E5ECF6",
           "radialaxis": {
            "gridcolor": "white",
            "linecolor": "white",
            "ticks": ""
           }
          },
          "scene": {
           "xaxis": {
            "backgroundcolor": "#E5ECF6",
            "gridcolor": "white",
            "gridwidth": 2,
            "linecolor": "white",
            "showbackground": true,
            "ticks": "",
            "zerolinecolor": "white"
           },
           "yaxis": {
            "backgroundcolor": "#E5ECF6",
            "gridcolor": "white",
            "gridwidth": 2,
            "linecolor": "white",
            "showbackground": true,
            "ticks": "",
            "zerolinecolor": "white"
           },
           "zaxis": {
            "backgroundcolor": "#E5ECF6",
            "gridcolor": "white",
            "gridwidth": 2,
            "linecolor": "white",
            "showbackground": true,
            "ticks": "",
            "zerolinecolor": "white"
           }
          },
          "shapedefaults": {
           "line": {
            "color": "#2a3f5f"
           }
          },
          "ternary": {
           "aaxis": {
            "gridcolor": "white",
            "linecolor": "white",
            "ticks": ""
           },
           "baxis": {
            "gridcolor": "white",
            "linecolor": "white",
            "ticks": ""
           },
           "bgcolor": "#E5ECF6",
           "caxis": {
            "gridcolor": "white",
            "linecolor": "white",
            "ticks": ""
           }
          },
          "title": {
           "x": 0.05
          },
          "xaxis": {
           "automargin": true,
           "gridcolor": "white",
           "linecolor": "white",
           "ticks": "",
           "title": {
            "standoff": 15
           },
           "zerolinecolor": "white",
           "zerolinewidth": 2
          },
          "yaxis": {
           "automargin": true,
           "gridcolor": "white",
           "linecolor": "white",
           "ticks": "",
           "title": {
            "standoff": 15
           },
           "zerolinecolor": "white",
           "zerolinewidth": 2
          }
         }
        },
        "xaxis": {
         "anchor": "y",
         "domain": [
          0,
          0.98
         ],
         "title": {
          "text": "start_segment"
         }
        },
        "xaxis2": {
         "anchor": "y2",
         "domain": [
          0,
          0.98
         ],
         "matches": "x",
         "showticklabels": false
        },
        "xaxis3": {
         "anchor": "y3",
         "domain": [
          0,
          0.98
         ],
         "matches": "x",
         "showticklabels": false
        },
        "yaxis": {
         "anchor": "x",
         "autorange": "reversed",
         "domain": [
          0,
          0.3133333333333333
         ],
         "title": {
          "text": "rank"
         }
        },
        "yaxis2": {
         "anchor": "x2",
         "domain": [
          0.34333333333333327,
          0.6566666666666665
         ],
         "matches": "y",
         "title": {
          "text": "rank"
         }
        },
        "yaxis3": {
         "anchor": "x3",
         "domain": [
          0.6866666666666665,
          0.9999999999999998
         ],
         "matches": "y",
         "title": {
          "text": "rank"
         }
        }
       }
      },
      "text/html": [
       "<div>                            <div id=\"1089bd2f-34e7-475c-88c8-4055dfa7c5da\" class=\"plotly-graph-div\" style=\"height:525px; width:100%;\"></div>            <script type=\"text/javascript\">                require([\"plotly\"], function(Plotly) {                    window.PLOTLYENV=window.PLOTLYENV || {};                                    if (document.getElementById(\"1089bd2f-34e7-475c-88c8-4055dfa7c5da\")) {                    Plotly.newPlot(                        \"1089bd2f-34e7-475c-88c8-4055dfa7c5da\",                        [{\"hovertemplate\": \"term=abeilles<br>origin=facebook<br>start_segment=%{x}<br>rank=%{y}<extra></extra>\", \"legendgroup\": \"abeilles\", \"line\": {\"color\": \"#636efa\", \"dash\": \"solid\"}, \"mode\": \"markers+lines\", \"name\": \"abeilles\", \"orientation\": \"v\", \"showlegend\": true, \"type\": \"scatter\", \"x\": [\"2011-11-16\", \"2012-02-01\", \"2012-07-01\", \"2012-12-01\", \"2014-03-01\", \"2015-03-01\", \"2015-12-01\", \"2016-10-01\", \"2018-05-01\", \"2019-06-01\", \"2020-08-01\", \"2021-04-01\", \"2021-12-01\"], \"xaxis\": \"x3\", \"y\": [14.0, 5.0, 9.0, 3.0, 2.0, 5.0, 7.0, 6.0, 9.0, 13.0, 11.0, 10.0, 42.0], \"yaxis\": \"y3\"}, {\"hovertemplate\": \"term=abeilles<br>origin=media<br>start_segment=%{x}<br>rank=%{y}<extra></extra>\", \"legendgroup\": \"abeilles\", \"line\": {\"color\": \"#636efa\", \"dash\": \"solid\"}, \"mode\": \"markers+lines\", \"name\": \"abeilles\", \"orientation\": \"v\", \"showlegend\": false, \"type\": \"scatter\", \"x\": [\"2011-03-31\", \"2011-11-03\", \"2012-11-14\", \"2013-01-07\", \"2014-07-01\", \"2015-09-01\", \"2018-04-01\", \"2019-08-01\", \"2021-08-01\"], \"xaxis\": \"x2\", \"y\": [7.0, 27.0, 71.0, 2.0, 5.0, 25.0, 22.0, 39.0, 31.0], \"yaxis\": \"y2\"}, {\"hovertemplate\": \"term=abeilles<br>origin=twitter<br>start_segment=%{x}<br>rank=%{y}<extra></extra>\", \"legendgroup\": \"abeilles\", \"line\": {\"color\": \"#636efa\", \"dash\": \"solid\"}, \"mode\": \"markers+lines\", \"name\": \"abeilles\", \"orientation\": \"v\", \"showlegend\": false, \"type\": \"scatter\", \"x\": [\"2010-02-01\", \"2010-09-01\", \"2012-07-01\", \"2013-12-01\", \"2015-10-01\", \"2017-09-01\", \"2019-06-01\", \"2020-08-01\"], \"xaxis\": \"x\", \"y\": [10.0, 2.0, 2.0, 3.0, 4.0, 7.0, 6.0, 5.0], \"yaxis\": \"y\"}, {\"hovertemplate\": \"term=agriculteur<br>origin=facebook<br>start_segment=%{x}<br>rank=%{y}<extra></extra>\", \"legendgroup\": \"agriculteur\", \"line\": {\"color\": \"#EF553B\", \"dash\": \"solid\"}, \"mode\": \"markers+lines\", \"name\": \"agriculteur\", \"orientation\": \"v\", \"showlegend\": true, \"type\": \"scatter\", \"x\": [\"2011-11-16\", \"2012-02-01\", \"2012-07-01\", \"2012-12-01\", \"2014-03-01\", \"2015-03-01\", \"2015-12-01\", \"2016-10-01\", \"2018-05-01\", \"2019-06-01\", \"2020-08-01\", \"2021-04-01\", \"2021-12-01\"], \"xaxis\": \"x3\", \"y\": [5.0, 4.0, 18.0, 13.0, 13.0, 12.0, 15.0, 7.0, 8.0, 5.0, 10.0, 12.0, 17.0], \"yaxis\": \"y3\"}, {\"hovertemplate\": \"term=agriculteur<br>origin=media<br>start_segment=%{x}<br>rank=%{y}<extra></extra>\", \"legendgroup\": \"agriculteur\", \"line\": {\"color\": \"#EF553B\", \"dash\": \"solid\"}, \"mode\": \"markers+lines\", \"name\": \"agriculteur\", \"orientation\": \"v\", \"showlegend\": false, \"type\": \"scatter\", \"x\": [\"2010-09-16\", \"2011-01-19\", \"2011-03-31\", \"2011-09-08\", \"2011-11-03\", \"2013-01-07\", \"2014-07-01\", \"2015-09-01\", \"2018-04-01\", \"2019-08-01\", \"2021-08-01\"], \"xaxis\": \"x2\", \"y\": [106.0, 38.0, 73.0, 49.0, 13.0, 8.0, 3.0, 4.0, 8.0, 3.0, 24.0], \"yaxis\": \"y2\"}, {\"hovertemplate\": \"term=agriculteur<br>origin=twitter<br>start_segment=%{x}<br>rank=%{y}<extra></extra>\", \"legendgroup\": \"agriculteur\", \"line\": {\"color\": \"#EF553B\", \"dash\": \"solid\"}, \"mode\": \"markers+lines\", \"name\": \"agriculteur\", \"orientation\": \"v\", \"showlegend\": false, \"type\": \"scatter\", \"x\": [\"2010-02-01\", \"2010-09-01\", \"2012-07-01\", \"2013-12-01\", \"2015-10-01\", \"2017-09-01\", \"2019-06-01\", \"2020-08-01\"], \"xaxis\": \"x\", \"y\": [12.0, 5.0, 20.0, 16.0, 14.0, 6.0, 3.0, 8.0], \"yaxis\": \"y\"}, {\"hovertemplate\": \"term=co\\u00fbts<br>origin=facebook<br>start_segment=%{x}<br>rank=%{y}<extra></extra>\", \"legendgroup\": \"co\\u00fbts\", \"line\": {\"color\": \"#00cc96\", \"dash\": \"solid\"}, \"mode\": \"markers+lines\", \"name\": \"co\\u00fbts\", \"orientation\": \"v\", \"showlegend\": true, \"type\": \"scatter\", \"x\": [\"2011-11-16\", \"2012-02-01\", \"2012-07-01\", \"2012-12-01\", \"2014-03-01\", \"2015-03-01\", \"2015-12-01\", \"2016-10-01\", \"2018-05-01\", \"2019-06-01\", \"2020-08-01\", \"2021-04-01\", \"2021-12-01\"], \"xaxis\": \"x3\", \"y\": [65.0, 142.0, 99.0, 142.0, 127.0, 112.0, 111.0, 117.0, 136.0, 102.0, 104.0, 50.0, 3.0], \"yaxis\": \"y3\"}, {\"hovertemplate\": \"term=culture<br>origin=facebook<br>start_segment=%{x}<br>rank=%{y}<extra></extra>\", \"legendgroup\": \"culture\", \"line\": {\"color\": \"#ab63fa\", \"dash\": \"solid\"}, \"mode\": \"markers+lines\", \"name\": \"culture\", \"orientation\": \"v\", \"showlegend\": true, \"type\": \"scatter\", \"x\": [\"2011-11-16\", \"2012-02-01\", \"2012-07-01\", \"2012-12-01\", \"2014-03-01\", \"2015-03-01\", \"2015-12-01\", \"2016-10-01\", \"2018-05-01\", \"2019-06-01\", \"2020-08-01\", \"2021-04-01\", \"2021-12-01\"], \"xaxis\": \"x3\", \"y\": [12.0, 15.0, 15.0, 10.0, 9.0, 15.0, 13.0, 13.0, 17.0, 7.0, 3.0, 1.0, 2.0], \"yaxis\": \"y3\"}, {\"hovertemplate\": \"term=culture<br>origin=media<br>start_segment=%{x}<br>rank=%{y}<extra></extra>\", \"legendgroup\": \"culture\", \"line\": {\"color\": \"#ab63fa\", \"dash\": \"solid\"}, \"mode\": \"markers+lines\", \"name\": \"culture\", \"orientation\": \"v\", \"showlegend\": false, \"type\": \"scatter\", \"x\": [\"2010-09-16\", \"2011-01-19\", \"2011-03-31\", \"2011-09-08\", \"2011-11-03\", \"2013-01-07\", \"2014-07-01\", \"2015-09-01\", \"2018-04-01\", \"2019-08-01\", \"2021-08-01\"], \"xaxis\": \"x2\", \"y\": [35.0, 27.0, 58.0, 8.0, 19.0, 4.0, 10.0, 16.0, 24.0, 10.0, 14.0], \"yaxis\": \"y2\"}, {\"hovertemplate\": \"term=glyphosate<br>origin=facebook<br>start_segment=%{x}<br>rank=%{y}<extra></extra>\", \"legendgroup\": \"glyphosate\", \"line\": {\"color\": \"#FFA15A\", \"dash\": \"solid\"}, \"mode\": \"markers+lines\", \"name\": \"glyphosate\", \"orientation\": \"v\", \"showlegend\": true, \"type\": \"scatter\", \"x\": [\"2011-11-16\", \"2012-02-01\", \"2012-07-01\", \"2012-12-01\", \"2014-03-01\", \"2015-03-01\", \"2015-12-01\", \"2016-10-01\", \"2018-05-01\", \"2019-06-01\", \"2020-08-01\", \"2021-04-01\", \"2021-12-01\"], \"xaxis\": \"x3\", \"y\": [89.0, 136.0, 95.0, 86.0, 69.0, 7.0, 3.0, 2.0, 2.0, 2.0, 5.0, 9.0, 9.0], \"yaxis\": \"y3\"}, {\"hovertemplate\": \"term=glyphosate<br>origin=media<br>start_segment=%{x}<br>rank=%{y}<extra></extra>\", \"legendgroup\": \"glyphosate\", \"line\": {\"color\": \"#FFA15A\", \"dash\": \"solid\"}, \"mode\": \"markers+lines\", \"name\": \"glyphosate\", \"orientation\": \"v\", \"showlegend\": false, \"type\": \"scatter\", \"x\": [\"2011-03-31\", \"2011-09-08\", \"2011-11-03\", \"2012-11-14\", \"2013-01-07\", \"2014-07-01\", \"2015-09-01\", \"2018-04-01\", \"2019-08-01\", \"2021-08-01\"], \"xaxis\": \"x2\", \"y\": [13.0, 1.0, 8.0, 10.0, 150.0, 28.0, 2.0, 2.0, 11.0, 25.0], \"yaxis\": \"y2\"}, {\"hovertemplate\": \"term=glyphosate<br>origin=twitter<br>start_segment=%{x}<br>rank=%{y}<extra></extra>\", \"legendgroup\": \"glyphosate\", \"line\": {\"color\": \"#FFA15A\", \"dash\": \"solid\"}, \"mode\": \"markers+lines\", \"name\": \"glyphosate\", \"orientation\": \"v\", \"showlegend\": false, \"type\": \"scatter\", \"x\": [\"2010-02-01\", \"2010-09-01\", \"2012-07-01\", \"2013-12-01\", \"2015-10-01\", \"2017-09-01\", \"2019-06-01\", \"2020-08-01\"], \"xaxis\": \"x\", \"y\": [38.0, 47.0, 57.0, 11.0, 2.0, 1.0, 2.0, 2.0], \"yaxis\": \"y\"}, {\"hovertemplate\": \"term=monde<br>origin=facebook<br>start_segment=%{x}<br>rank=%{y}<extra></extra>\", \"legendgroup\": \"monde\", \"line\": {\"color\": \"#19d3f3\", \"dash\": \"solid\"}, \"mode\": \"markers+lines\", \"name\": \"monde\", \"orientation\": \"v\", \"showlegend\": true, \"type\": \"scatter\", \"x\": [\"2011-11-16\", \"2012-02-01\", \"2012-07-01\", \"2012-12-01\", \"2014-03-01\", \"2015-03-01\", \"2015-12-01\", \"2016-10-01\", \"2018-05-01\", \"2019-06-01\", \"2020-08-01\", \"2021-04-01\", \"2021-12-01\"], \"xaxis\": \"x3\", \"y\": [8.0, 6.0, 6.0, 6.0, 5.0, 6.0, 5.0, 5.0, 5.0, 4.0, 9.0, 8.0, 10.0], \"yaxis\": \"y3\"}, {\"hovertemplate\": \"term=monde<br>origin=media<br>start_segment=%{x}<br>rank=%{y}<extra></extra>\", \"legendgroup\": \"monde\", \"line\": {\"color\": \"#19d3f3\", \"dash\": \"solid\"}, \"mode\": \"markers+lines\", \"name\": \"monde\", \"orientation\": \"v\", \"showlegend\": false, \"type\": \"scatter\", \"x\": [\"2010-09-16\", \"2011-01-19\", \"2011-03-31\", \"2011-09-08\", \"2011-11-03\", \"2012-11-14\", \"2013-01-07\", \"2014-07-01\", \"2015-09-01\", \"2018-04-01\", \"2019-08-01\", \"2021-08-01\"], \"xaxis\": \"x2\", \"y\": [13.0, 2.0, 23.0, 12.0, 6.0, 13.0, 15.0, 4.0, 5.0, 6.0, 2.0, 8.0], \"yaxis\": \"y2\"}, {\"hovertemplate\": \"term=monsanto<br>origin=facebook<br>start_segment=%{x}<br>rank=%{y}<extra></extra>\", \"legendgroup\": \"monsanto\", \"line\": {\"color\": \"#FF6692\", \"dash\": \"solid\"}, \"mode\": \"markers+lines\", \"name\": \"monsanto\", \"orientation\": \"v\", \"showlegend\": true, \"type\": \"scatter\", \"x\": [\"2011-11-16\", \"2012-02-01\", \"2012-07-01\", \"2012-12-01\", \"2014-03-01\", \"2015-03-01\", \"2015-12-01\", \"2016-10-01\", \"2018-05-01\", \"2019-06-01\", \"2020-08-01\", \"2021-04-01\", \"2021-12-01\"], \"xaxis\": \"x3\", \"y\": [3.0, 3.0, 5.0, 2.0, 6.0, 2.0, 4.0, 4.0, 3.0, 37.0, 64.0, 82.0, 149.0], \"yaxis\": \"y3\"}, {\"hovertemplate\": \"term=monsanto<br>origin=media<br>start_segment=%{x}<br>rank=%{y}<extra></extra>\", \"legendgroup\": \"monsanto\", \"line\": {\"color\": \"#FF6692\", \"dash\": \"solid\"}, \"mode\": \"markers+lines\", \"name\": \"monsanto\", \"orientation\": \"v\", \"showlegend\": false, \"type\": \"scatter\", \"x\": [\"2010-09-16\", \"2011-01-19\", \"2011-09-08\", \"2011-11-03\", \"2013-01-07\", \"2014-07-01\", \"2015-09-01\", \"2018-04-01\", \"2019-08-01\", \"2021-08-01\"], \"xaxis\": \"x2\", \"y\": [52.0, 43.0, 10.0, 3.0, 22.0, 13.0, 8.0, 3.0, 83.0, 117.0], \"yaxis\": \"y2\"}, {\"hovertemplate\": \"term=monsanto<br>origin=twitter<br>start_segment=%{x}<br>rank=%{y}<extra></extra>\", \"legendgroup\": \"monsanto\", \"line\": {\"color\": \"#FF6692\", \"dash\": \"solid\"}, \"mode\": \"markers+lines\", \"name\": \"monsanto\", \"orientation\": \"v\", \"showlegend\": false, \"type\": \"scatter\", \"x\": [\"2010-02-01\", \"2010-09-01\", \"2012-07-01\", \"2013-12-01\", \"2015-10-01\", \"2017-09-01\", \"2019-06-01\", \"2020-08-01\"], \"xaxis\": \"x\", \"y\": [16.0, 6.0, 8.0, 4.0, 6.0, 3.0, 16.0, 34.0], \"yaxis\": \"y\"}, {\"hovertemplate\": \"term=n\\u00e9onicotino\\u00efdes<br>origin=facebook<br>start_segment=%{x}<br>rank=%{y}<extra></extra>\", \"legendgroup\": \"n\\u00e9onicotino\\u00efdes\", \"line\": {\"color\": \"#B6E880\", \"dash\": \"solid\"}, \"mode\": \"markers+lines\", \"name\": \"n\\u00e9onicotino\\u00efdes\", \"orientation\": \"v\", \"showlegend\": true, \"type\": \"scatter\", \"x\": [\"2012-02-01\", \"2012-07-01\", \"2012-12-01\", \"2014-03-01\", \"2015-03-01\", \"2015-12-01\", \"2016-10-01\", \"2018-05-01\", \"2019-06-01\", \"2020-08-01\", \"2021-04-01\", \"2021-12-01\"], \"xaxis\": \"x3\", \"y\": [101.0, 106.0, 49.0, 17.0, 18.0, 6.0, 18.0, 63.0, 119.0, 2.0, 70.0, 27.0], \"yaxis\": \"y3\"}, {\"hovertemplate\": \"term=n\\u00e9onicotino\\u00efdes<br>origin=twitter<br>start_segment=%{x}<br>rank=%{y}<extra></extra>\", \"legendgroup\": \"n\\u00e9onicotino\\u00efdes\", \"line\": {\"color\": \"#B6E880\", \"dash\": \"solid\"}, \"mode\": \"markers+lines\", \"name\": \"n\\u00e9onicotino\\u00efdes\", \"orientation\": \"v\", \"showlegend\": false, \"type\": \"scatter\", \"x\": [\"2010-09-01\", \"2012-07-01\", \"2013-12-01\", \"2015-10-01\", \"2017-09-01\", \"2019-06-01\", \"2020-08-01\"], \"xaxis\": \"x\", \"y\": [82.0, 6.0, 5.0, 3.0, 10.0, 39.0, 3.0], \"yaxis\": \"y\"}, {\"hovertemplate\": \"term=ogm<br>origin=facebook<br>start_segment=%{x}<br>rank=%{y}<extra></extra>\", \"legendgroup\": \"ogm\", \"line\": {\"color\": \"#FF97FF\", \"dash\": \"solid\"}, \"mode\": \"markers+lines\", \"name\": \"ogm\", \"orientation\": \"v\", \"showlegend\": true, \"type\": \"scatter\", \"x\": [\"2011-11-16\", \"2012-02-01\", \"2012-07-01\", \"2012-12-01\", \"2014-03-01\", \"2015-03-01\", \"2015-12-01\", \"2016-10-01\", \"2018-05-01\", \"2019-06-01\", \"2020-08-01\", \"2021-04-01\", \"2021-12-01\"], \"xaxis\": \"x3\", \"y\": [15.0, 8.0, 2.0, 5.0, 4.0, 8.0, 10.0, 20.0, 48.0, 50.0, 49.0, 41.0, 57.0], \"yaxis\": \"y3\"}, {\"hovertemplate\": \"term=ogm<br>origin=media<br>start_segment=%{x}<br>rank=%{y}<extra></extra>\", \"legendgroup\": \"ogm\", \"line\": {\"color\": \"#FF97FF\", \"dash\": \"solid\"}, \"mode\": \"markers+lines\", \"name\": \"ogm\", \"orientation\": \"v\", \"showlegend\": false, \"type\": \"scatter\", \"x\": [\"2010-09-16\", \"2011-01-19\", \"2011-11-03\", \"2012-11-14\", \"2013-01-07\", \"2014-07-01\", \"2015-09-01\", \"2018-04-01\", \"2019-08-01\", \"2021-08-01\"], \"xaxis\": \"x2\", \"y\": [8.0, 65.0, 2.0, 1.0, 6.0, 56.0, 72.0, 81.0, 92.0, 139.0], \"yaxis\": \"y2\"}, {\"hovertemplate\": \"term=ogm<br>origin=twitter<br>start_segment=%{x}<br>rank=%{y}<extra></extra>\", \"legendgroup\": \"ogm\", \"line\": {\"color\": \"#FF97FF\", \"dash\": \"solid\"}, \"mode\": \"markers+lines\", \"name\": \"ogm\", \"orientation\": \"v\", \"showlegend\": false, \"type\": \"scatter\", \"x\": [\"2010-02-01\", \"2010-09-01\", \"2012-07-01\", \"2013-12-01\", \"2015-10-01\", \"2017-09-01\", \"2019-06-01\", \"2020-08-01\"], \"xaxis\": \"x\", \"y\": [9.0, 9.0, 4.0, 8.0, 11.0, 22.0, 8.0, 9.0], \"yaxis\": \"y\"}, {\"hovertemplate\": \"term=pesticides<br>origin=facebook<br>start_segment=%{x}<br>rank=%{y}<extra></extra>\", \"legendgroup\": \"pesticides\", \"line\": {\"color\": \"#FECB52\", \"dash\": \"solid\"}, \"mode\": \"markers+lines\", \"name\": \"pesticides\", \"orientation\": \"v\", \"showlegend\": true, \"type\": \"scatter\", \"x\": [\"2011-11-16\", \"2012-02-01\", \"2012-07-01\", \"2012-12-01\", \"2014-03-01\", \"2015-03-01\", \"2015-12-01\", \"2016-10-01\", \"2018-05-01\", \"2019-06-01\", \"2020-08-01\", \"2021-04-01\", \"2021-12-01\"], \"xaxis\": \"x3\", \"y\": [1.0, 1.0, 1.0, 1.0, 1.0, 1.0, 1.0, 1.0, 1.0, 1.0, 1.0, 2.0, 1.0], \"yaxis\": \"y3\"}, {\"hovertemplate\": \"term=pesticides<br>origin=media<br>start_segment=%{x}<br>rank=%{y}<extra></extra>\", \"legendgroup\": \"pesticides\", \"line\": {\"color\": \"#FECB52\", \"dash\": \"solid\"}, \"mode\": \"markers+lines\", \"name\": \"pesticides\", \"orientation\": \"v\", \"showlegend\": false, \"type\": \"scatter\", \"x\": [\"2010-09-16\", \"2011-01-19\", \"2011-03-31\", \"2011-09-08\", \"2011-11-03\", \"2012-11-14\", \"2013-01-07\", \"2014-07-01\", \"2015-09-01\", \"2018-04-01\", \"2019-08-01\", \"2021-08-01\"], \"xaxis\": \"x2\", \"y\": [1.0, 13.0, 4.0, 2.0, 1.0, 3.0, 1.0, 1.0, 1.0, 1.0, 1.0, 1.0], \"yaxis\": \"y2\"}, {\"hovertemplate\": \"term=pesticides<br>origin=twitter<br>start_segment=%{x}<br>rank=%{y}<extra></extra>\", \"legendgroup\": \"pesticides\", \"line\": {\"color\": \"#FECB52\", \"dash\": \"solid\"}, \"mode\": \"markers+lines\", \"name\": \"pesticides\", \"orientation\": \"v\", \"showlegend\": false, \"type\": \"scatter\", \"x\": [\"2010-02-01\", \"2010-09-01\", \"2012-07-01\", \"2013-12-01\", \"2015-10-01\", \"2017-09-01\", \"2019-06-01\", \"2020-08-01\"], \"xaxis\": \"x\", \"y\": [1.0, 1.0, 1.0, 1.0, 1.0, 2.0, 1.0, 1.0], \"yaxis\": \"y\"}, {\"hovertemplate\": \"term=plantes<br>origin=facebook<br>start_segment=%{x}<br>rank=%{y}<extra></extra>\", \"legendgroup\": \"plantes\", \"line\": {\"color\": \"#636efa\", \"dash\": \"solid\"}, \"mode\": \"markers+lines\", \"name\": \"plantes\", \"orientation\": \"v\", \"showlegend\": true, \"type\": \"scatter\", \"x\": [\"2011-11-16\", \"2012-02-01\", \"2012-07-01\", \"2012-12-01\", \"2014-03-01\", \"2015-03-01\", \"2015-12-01\", \"2016-10-01\", \"2018-05-01\", \"2019-06-01\", \"2020-08-01\", \"2021-04-01\", \"2021-12-01\"], \"xaxis\": \"x3\", \"y\": [10.0, 10.0, 7.0, 11.0, 7.0, 10.0, 11.0, 8.0, 15.0, 8.0, 6.0, 4.0, 6.0], \"yaxis\": \"y3\"}, {\"hovertemplate\": \"term=production<br>origin=facebook<br>start_segment=%{x}<br>rank=%{y}<extra></extra>\", \"legendgroup\": \"production\", \"line\": {\"color\": \"#EF553B\", \"dash\": \"solid\"}, \"mode\": \"markers+lines\", \"name\": \"production\", \"orientation\": \"v\", \"showlegend\": true, \"type\": \"scatter\", \"x\": [\"2011-11-16\", \"2012-02-01\", \"2012-07-01\", \"2012-12-01\", \"2014-03-01\", \"2015-03-01\", \"2015-12-01\", \"2016-10-01\", \"2018-05-01\", \"2019-06-01\", \"2020-08-01\", \"2021-04-01\", \"2021-12-01\"], \"xaxis\": \"x3\", \"y\": [4.0, 9.0, 12.0, 18.0, 14.0, 19.0, 20.0, 17.0, 26.0, 9.0, 13.0, 6.0, 8.0], \"yaxis\": \"y3\"}, {\"hovertemplate\": \"term=production<br>origin=media<br>start_segment=%{x}<br>rank=%{y}<extra></extra>\", \"legendgroup\": \"production\", \"line\": {\"color\": \"#EF553B\", \"dash\": \"solid\"}, \"mode\": \"markers+lines\", \"name\": \"production\", \"orientation\": \"v\", \"showlegend\": false, \"type\": \"scatter\", \"x\": [\"2010-09-16\", \"2011-01-19\", \"2011-03-31\", \"2011-09-08\", \"2011-11-03\", \"2012-11-14\", \"2013-01-07\", \"2014-07-01\", \"2015-09-01\", \"2018-04-01\", \"2019-08-01\", \"2021-08-01\"], \"xaxis\": \"x2\", \"y\": [77.0, 3.0, 18.0, 62.0, 29.0, 96.0, 12.0, 7.0, 12.0, 18.0, 9.0, 19.0], \"yaxis\": \"y2\"}, {\"hovertemplate\": \"term=roundup<br>origin=facebook<br>start_segment=%{x}<br>rank=%{y}<extra></extra>\", \"legendgroup\": \"roundup\", \"line\": {\"color\": \"#00cc96\", \"dash\": \"solid\"}, \"mode\": \"markers+lines\", \"name\": \"roundup\", \"orientation\": \"v\", \"showlegend\": true, \"type\": \"scatter\", \"x\": [\"2011-11-16\", \"2012-02-01\", \"2012-07-01\", \"2012-12-01\", \"2014-03-01\", \"2015-03-01\", \"2015-12-01\", \"2016-10-01\", \"2018-05-01\", \"2019-06-01\", \"2020-08-01\", \"2021-04-01\", \"2021-12-01\"], \"xaxis\": \"x3\", \"y\": [18.0, 34.0, 10.0, 7.0, 11.0, 4.0, 12.0, 21.0, 16.0, 75.0, 133.0, 94.0, 150.0], \"yaxis\": \"y3\"}, {\"hovertemplate\": \"term=roundup<br>origin=media<br>start_segment=%{x}<br>rank=%{y}<extra></extra>\", \"legendgroup\": \"roundup\", \"line\": {\"color\": \"#00cc96\", \"dash\": \"solid\"}, \"mode\": \"markers+lines\", \"name\": \"roundup\", \"orientation\": \"v\", \"showlegend\": false, \"type\": \"scatter\", \"x\": [\"2011-09-08\", \"2011-11-03\", \"2013-01-07\", \"2014-07-01\", \"2015-09-01\", \"2018-04-01\", \"2019-08-01\", \"2021-08-01\"], \"xaxis\": \"x2\", \"y\": [4.0, 35.0, 128.0, 31.0, 62.0, 34.0, 143.0, 58.0], \"yaxis\": \"y2\"}, {\"hovertemplate\": \"term=roundup<br>origin=twitter<br>start_segment=%{x}<br>rank=%{y}<extra></extra>\", \"legendgroup\": \"roundup\", \"line\": {\"color\": \"#00cc96\", \"dash\": \"solid\"}, \"mode\": \"markers+lines\", \"name\": \"roundup\", \"orientation\": \"v\", \"showlegend\": false, \"type\": \"scatter\", \"x\": [\"2010-02-01\", \"2010-09-01\", \"2012-07-01\", \"2013-12-01\", \"2015-10-01\", \"2017-09-01\", \"2019-06-01\", \"2020-08-01\"], \"xaxis\": \"x\", \"y\": [3.0, 3.0, 3.0, 2.0, 5.0, 5.0, 18.0, 23.0], \"yaxis\": \"y\"}, {\"hovertemplate\": \"term=sant\\u00e9<br>origin=facebook<br>start_segment=%{x}<br>rank=%{y}<extra></extra>\", \"legendgroup\": \"sant\\u00e9\", \"line\": {\"color\": \"#ab63fa\", \"dash\": \"solid\"}, \"mode\": \"markers+lines\", \"name\": \"sant\\u00e9\", \"orientation\": \"v\", \"showlegend\": true, \"type\": \"scatter\", \"x\": [\"2011-11-16\", \"2012-02-01\", \"2012-07-01\", \"2012-12-01\", \"2014-03-01\", \"2015-03-01\", \"2015-12-01\", \"2016-10-01\", \"2018-05-01\", \"2019-06-01\", \"2020-08-01\", \"2021-04-01\", \"2021-12-01\"], \"xaxis\": \"x3\", \"y\": [2.0, 2.0, 3.0, 4.0, 3.0, 3.0, 2.0, 3.0, 4.0, 3.0, 4.0, 3.0, 5.0], \"yaxis\": \"y3\"}, {\"hovertemplate\": \"term=sant\\u00e9<br>origin=media<br>start_segment=%{x}<br>rank=%{y}<extra></extra>\", \"legendgroup\": \"sant\\u00e9\", \"line\": {\"color\": \"#ab63fa\", \"dash\": \"solid\"}, \"mode\": \"markers+lines\", \"name\": \"sant\\u00e9\", \"orientation\": \"v\", \"showlegend\": false, \"type\": \"scatter\", \"x\": [\"2010-09-16\", \"2011-01-19\", \"2011-03-31\", \"2011-09-08\", \"2011-11-03\", \"2012-11-14\", \"2013-01-07\", \"2014-07-01\", \"2015-09-01\", \"2018-04-01\", \"2019-08-01\", \"2021-08-01\"], \"xaxis\": \"x2\", \"y\": [11.0, 95.0, 17.0, 60.0, 9.0, 5.0, 3.0, 2.0, 3.0, 4.0, 4.0, 2.0], \"yaxis\": \"y2\"}, {\"hovertemplate\": \"term=sant\\u00e9<br>origin=twitter<br>start_segment=%{x}<br>rank=%{y}<extra></extra>\", \"legendgroup\": \"sant\\u00e9\", \"line\": {\"color\": \"#ab63fa\", \"dash\": \"solid\"}, \"mode\": \"markers+lines\", \"name\": \"sant\\u00e9\", \"orientation\": \"v\", \"showlegend\": false, \"type\": \"scatter\", \"x\": [\"2010-02-01\", \"2010-09-01\", \"2012-07-01\", \"2013-12-01\", \"2015-10-01\", \"2017-09-01\", \"2019-06-01\", \"2020-08-01\"], \"xaxis\": \"x\", \"y\": [11.0, 7.0, 5.0, 9.0, 7.0, 4.0, 4.0, 6.0], \"yaxis\": \"y\"}, {\"hovertemplate\": \"term=traitements<br>origin=facebook<br>start_segment=%{x}<br>rank=%{y}<extra></extra>\", \"legendgroup\": \"traitements\", \"line\": {\"color\": \"#FFA15A\", \"dash\": \"solid\"}, \"mode\": \"markers+lines\", \"name\": \"traitements\", \"orientation\": \"v\", \"showlegend\": true, \"type\": \"scatter\", \"x\": [\"2011-11-16\", \"2012-02-01\", \"2012-07-01\", \"2012-12-01\", \"2014-03-01\", \"2015-03-01\", \"2015-12-01\", \"2016-10-01\", \"2018-05-01\", \"2019-06-01\", \"2020-08-01\", \"2021-04-01\", \"2021-12-01\"], \"xaxis\": \"x3\", \"y\": [38.0, 23.0, 22.0, 33.0, 15.0, 27.0, 24.0, 29.0, 51.0, 18.0, 26.0, 11.0, 4.0], \"yaxis\": \"y3\"}, {\"hovertemplate\": \"term=\\u00e9tudes<br>origin=facebook<br>start_segment=%{x}<br>rank=%{y}<extra></extra>\", \"legendgroup\": \"\\u00e9tudes\", \"line\": {\"color\": \"#19d3f3\", \"dash\": \"solid\"}, \"mode\": \"markers+lines\", \"name\": \"\\u00e9tudes\", \"orientation\": \"v\", \"showlegend\": true, \"type\": \"scatter\", \"x\": [\"2011-11-16\", \"2012-02-01\", \"2012-07-01\", \"2012-12-01\", \"2014-03-01\", \"2015-03-01\", \"2015-12-01\", \"2016-10-01\", \"2018-05-01\", \"2019-06-01\", \"2020-08-01\", \"2021-04-01\", \"2021-12-01\"], \"xaxis\": \"x3\", \"y\": [23.0, 30.0, 4.0, 8.0, 8.0, 11.0, 25.0, 16.0, 19.0, 23.0, 30.0, 26.0, 20.0], \"yaxis\": \"y3\"}, {\"hovertemplate\": \"term=\\u00e9tudes<br>origin=media<br>start_segment=%{x}<br>rank=%{y}<extra></extra>\", \"legendgroup\": \"\\u00e9tudes\", \"line\": {\"color\": \"#19d3f3\", \"dash\": \"solid\"}, \"mode\": \"markers+lines\", \"name\": \"\\u00e9tudes\", \"orientation\": \"v\", \"showlegend\": false, \"type\": \"scatter\", \"x\": [\"2010-09-16\", \"2011-03-31\", \"2011-09-08\", \"2011-11-03\", \"2012-11-14\", \"2013-01-07\", \"2014-07-01\", \"2015-09-01\", \"2018-04-01\", \"2019-08-01\", \"2021-08-01\"], \"xaxis\": \"x2\", \"y\": [3.0, 1.0, 9.0, 5.0, 4.0, 11.0, 19.0, 10.0, 19.0, 22.0, 12.0], \"yaxis\": \"y2\"}, {\"hovertemplate\": \"term=d\\u00e9veloppement<br>origin=media<br>start_segment=%{x}<br>rank=%{y}<extra></extra>\", \"legendgroup\": \"d\\u00e9veloppement\", \"line\": {\"color\": \"#FF6692\", \"dash\": \"solid\"}, \"mode\": \"markers+lines\", \"name\": \"d\\u00e9veloppement\", \"orientation\": \"v\", \"showlegend\": true, \"type\": \"scatter\", \"x\": [\"2010-09-16\", \"2011-01-19\", \"2011-03-31\", \"2011-11-03\", \"2012-11-14\", \"2013-01-07\", \"2014-07-01\", \"2015-09-01\", \"2018-04-01\", \"2019-08-01\", \"2021-08-01\"], \"xaxis\": \"x2\", \"y\": [2.0, 15.0, 37.0, 22.0, 55.0, 23.0, 25.0, 29.0, 43.0, 33.0, 35.0], \"yaxis\": \"y2\"}, {\"hovertemplate\": \"term=effet<br>origin=media<br>start_segment=%{x}<br>rank=%{y}<extra></extra>\", \"legendgroup\": \"effet\", \"line\": {\"color\": \"#B6E880\", \"dash\": \"solid\"}, \"mode\": \"markers+lines\", \"name\": \"effet\", \"orientation\": \"v\", \"showlegend\": true, \"type\": \"scatter\", \"x\": [\"2010-09-16\", \"2011-01-19\", \"2011-03-31\", \"2011-09-08\", \"2011-11-03\", \"2012-11-14\", \"2013-01-07\", \"2014-07-01\", \"2015-09-01\", \"2018-04-01\", \"2019-08-01\", \"2021-08-01\"], \"xaxis\": \"x2\", \"y\": [23.0, 4.0, 27.0, 15.0, 12.0, 8.0, 9.0, 8.0, 13.0, 11.0, 6.0, 5.0], \"yaxis\": \"y2\"}, {\"hovertemplate\": \"term=guadeloupe<br>origin=media<br>start_segment=%{x}<br>rank=%{y}<extra></extra>\", \"legendgroup\": \"guadeloupe\", \"line\": {\"color\": \"#FF97FF\", \"dash\": \"solid\"}, \"mode\": \"markers+lines\", \"name\": \"guadeloupe\", \"orientation\": \"v\", \"showlegend\": true, \"type\": \"scatter\", \"x\": [\"2011-11-03\", \"2013-01-07\", \"2014-07-01\", \"2015-09-01\", \"2018-04-01\", \"2019-08-01\", \"2021-08-01\"], \"xaxis\": \"x2\", \"y\": [194.0, 151.0, 175.0, 245.0, 151.0, 149.0, 3.0], \"yaxis\": \"y2\"}, {\"hovertemplate\": \"term=herbicide<br>origin=media<br>start_segment=%{x}<br>rank=%{y}<extra></extra>\", \"legendgroup\": \"herbicide\", \"line\": {\"color\": \"#FECB52\", \"dash\": \"solid\"}, \"mode\": \"markers+lines\", \"name\": \"herbicide\", \"orientation\": \"v\", \"showlegend\": true, \"type\": \"scatter\", \"x\": [\"2010-09-16\", \"2011-01-19\", \"2011-09-08\", \"2011-11-03\", \"2012-11-14\", \"2013-01-07\", \"2014-07-01\", \"2015-09-01\", \"2018-04-01\", \"2019-08-01\", \"2021-08-01\"], \"xaxis\": \"x2\", \"y\": [63.0, 80.0, 3.0, 17.0, 29.0, 56.0, 55.0, 50.0, 55.0, 97.0, 91.0], \"yaxis\": \"y2\"}, {\"hovertemplate\": \"term=maladie<br>origin=media<br>start_segment=%{x}<br>rank=%{y}<extra></extra>\", \"legendgroup\": \"maladie\", \"line\": {\"color\": \"#636efa\", \"dash\": \"solid\"}, \"mode\": \"markers+lines\", \"name\": \"maladie\", \"orientation\": \"v\", \"showlegend\": true, \"type\": \"scatter\", \"x\": [\"2010-09-16\", \"2011-03-31\", \"2011-11-03\", \"2012-11-14\", \"2013-01-07\", \"2014-07-01\", \"2015-09-01\", \"2018-04-01\", \"2019-08-01\", \"2021-08-01\"], \"xaxis\": \"x2\", \"y\": [36.0, 2.0, 4.0, 9.0, 5.0, 11.0, 20.0, 26.0, 16.0, 7.0], \"yaxis\": \"y2\"}, {\"hovertemplate\": \"term=parasite<br>origin=media<br>start_segment=%{x}<br>rank=%{y}<extra></extra>\", \"legendgroup\": \"parasite\", \"line\": {\"color\": \"#EF553B\", \"dash\": \"solid\"}, \"mode\": \"markers+lines\", \"name\": \"parasite\", \"orientation\": \"v\", \"showlegend\": true, \"type\": \"scatter\", \"x\": [\"2011-03-31\", \"2011-11-03\", \"2012-11-14\", \"2013-01-07\", \"2014-07-01\", \"2015-09-01\", \"2018-04-01\", \"2019-08-01\", \"2021-08-01\"], \"xaxis\": \"x2\", \"y\": [3.0, 146.0, 2.0, 92.0, 81.0, 163.0, 193.0, 197.0, 103.0], \"yaxis\": \"y2\"}, {\"hovertemplate\": \"term=politique<br>origin=media<br>start_segment=%{x}<br>rank=%{y}<extra></extra>\", \"legendgroup\": \"politique\", \"line\": {\"color\": \"#00cc96\", \"dash\": \"solid\"}, \"mode\": \"markers+lines\", \"name\": \"politique\", \"orientation\": \"v\", \"showlegend\": true, \"type\": \"scatter\", \"x\": [\"2010-09-16\", \"2011-01-19\", \"2011-03-31\", \"2011-11-03\", \"2012-11-14\", \"2013-01-07\", \"2014-07-01\", \"2015-09-01\", \"2018-04-01\", \"2019-08-01\", \"2021-08-01\"], \"xaxis\": \"x2\", \"y\": [16.0, 6.0, 82.0, 28.0, 91.0, 21.0, 29.0, 9.0, 5.0, 5.0, 4.0], \"yaxis\": \"y2\"}, {\"hovertemplate\": \"term=viandes<br>origin=media<br>start_segment=%{x}<br>rank=%{y}<extra></extra>\", \"legendgroup\": \"viandes\", \"line\": {\"color\": \"#ab63fa\", \"dash\": \"solid\"}, \"mode\": \"markers+lines\", \"name\": \"viandes\", \"orientation\": \"v\", \"showlegend\": true, \"type\": \"scatter\", \"x\": [\"2010-09-16\", \"2011-01-19\", \"2011-11-03\", \"2013-01-07\", \"2014-07-01\", \"2015-09-01\", \"2018-04-01\", \"2019-08-01\", \"2021-08-01\"], \"xaxis\": \"x2\", \"y\": [126.0, 1.0, 160.0, 54.0, 82.0, 79.0, 74.0, 77.0, 129.0], \"yaxis\": \"y2\"}, {\"hovertemplate\": \"term=vitamines<br>origin=media<br>start_segment=%{x}<br>rank=%{y}<extra></extra>\", \"legendgroup\": \"vitamines\", \"line\": {\"color\": \"#FFA15A\", \"dash\": \"solid\"}, \"mode\": \"markers+lines\", \"name\": \"vitamines\", \"orientation\": \"v\", \"showlegend\": true, \"type\": \"scatter\", \"x\": [\"2010-09-16\", \"2011-11-03\", \"2013-01-07\", \"2014-07-01\", \"2015-09-01\", \"2018-04-01\", \"2019-08-01\", \"2021-08-01\"], \"xaxis\": \"x2\", \"y\": [4.0, 208.0, 171.0, 191.0, 193.0, 170.0, 160.0, 141.0], \"yaxis\": \"y2\"}, {\"hovertemplate\": \"term=betterave<br>origin=twitter<br>start_segment=%{x}<br>rank=%{y}<extra></extra>\", \"legendgroup\": \"betterave\", \"line\": {\"color\": \"#19d3f3\", \"dash\": \"solid\"}, \"mode\": \"markers+lines\", \"name\": \"betterave\", \"orientation\": \"v\", \"showlegend\": true, \"type\": \"scatter\", \"x\": [\"2010-09-01\", \"2012-07-01\", \"2013-12-01\", \"2015-10-01\", \"2017-09-01\", \"2019-06-01\", \"2020-08-01\"], \"xaxis\": \"x\", \"y\": [180.0, 287.0, 264.0, 242.0, 180.0, 139.0, 4.0], \"yaxis\": \"y\"}, {\"hovertemplate\": \"term=cancers<br>origin=twitter<br>start_segment=%{x}<br>rank=%{y}<extra></extra>\", \"legendgroup\": \"cancers\", \"line\": {\"color\": \"#FF6692\", \"dash\": \"solid\"}, \"mode\": \"markers+lines\", \"name\": \"cancers\", \"orientation\": \"v\", \"showlegend\": true, \"type\": \"scatter\", \"x\": [\"2010-02-01\", \"2010-09-01\", \"2012-07-01\", \"2013-12-01\", \"2015-10-01\", \"2017-09-01\", \"2019-06-01\", \"2020-08-01\"], \"xaxis\": \"x\", \"y\": [4.0, 21.0, 24.0, 7.0, 17.0, 9.0, 14.0, 12.0], \"yaxis\": \"y\"}, {\"hovertemplate\": \"term=chlord\\u00e9cone<br>origin=twitter<br>start_segment=%{x}<br>rank=%{y}<extra></extra>\", \"legendgroup\": \"chlord\\u00e9cone\", \"line\": {\"color\": \"#B6E880\", \"dash\": \"solid\"}, \"mode\": \"markers+lines\", \"name\": \"chlord\\u00e9cone\", \"orientation\": \"v\", \"showlegend\": true, \"type\": \"scatter\", \"x\": [\"2010-02-01\", \"2010-09-01\", \"2012-07-01\", \"2013-12-01\", \"2015-10-01\", \"2017-09-01\", \"2019-06-01\", \"2020-08-01\"], \"xaxis\": \"x\", \"y\": [2.0, 23.0, 12.0, 38.0, 104.0, 15.0, 7.0, 7.0], \"yaxis\": \"y\"}, {\"hovertemplate\": \"term=ecologie<br>origin=twitter<br>start_segment=%{x}<br>rank=%{y}<extra></extra>\", \"legendgroup\": \"ecologie\", \"line\": {\"color\": \"#FF97FF\", \"dash\": \"solid\"}, \"mode\": \"markers+lines\", \"name\": \"ecologie\", \"orientation\": \"v\", \"showlegend\": true, \"type\": \"scatter\", \"x\": [\"2010-02-01\", \"2010-09-01\", \"2012-07-01\", \"2013-12-01\", \"2015-10-01\", \"2017-09-01\", \"2019-06-01\", \"2020-08-01\"], \"xaxis\": \"x\", \"y\": [50.0, 4.0, 48.0, 63.0, 76.0, 96.0, 95.0, 97.0], \"yaxis\": \"y\"}],                        {\"annotations\": [{\"font\": {}, \"showarrow\": false, \"text\": \"origin=twitter\", \"textangle\": 90, \"x\": 0.98, \"xanchor\": \"left\", \"xref\": \"paper\", \"y\": 0.15666666666666665, \"yanchor\": \"middle\", \"yref\": \"paper\"}, {\"font\": {}, \"showarrow\": false, \"text\": \"origin=media\", \"textangle\": 90, \"x\": 0.98, \"xanchor\": \"left\", \"xref\": \"paper\", \"y\": 0.4999999999999999, \"yanchor\": \"middle\", \"yref\": \"paper\"}, {\"font\": {}, \"showarrow\": false, \"text\": \"origin=facebook\", \"textangle\": 90, \"x\": 0.98, \"xanchor\": \"left\", \"xref\": \"paper\", \"y\": 0.8433333333333332, \"yanchor\": \"middle\", \"yref\": \"paper\"}], \"legend\": {\"title\": {\"text\": \"term\"}, \"tracegroupgap\": 0}, \"margin\": {\"t\": 60}, \"template\": {\"data\": {\"bar\": [{\"error_x\": {\"color\": \"#2a3f5f\"}, \"error_y\": {\"color\": \"#2a3f5f\"}, \"marker\": {\"line\": {\"color\": \"#E5ECF6\", \"width\": 0.5}}, \"type\": \"bar\"}], \"barpolar\": [{\"marker\": {\"line\": {\"color\": \"#E5ECF6\", \"width\": 0.5}}, \"type\": \"barpolar\"}], \"carpet\": [{\"aaxis\": {\"endlinecolor\": \"#2a3f5f\", \"gridcolor\": \"white\", \"linecolor\": \"white\", \"minorgridcolor\": \"white\", \"startlinecolor\": \"#2a3f5f\"}, \"baxis\": {\"endlinecolor\": \"#2a3f5f\", \"gridcolor\": \"white\", \"linecolor\": \"white\", \"minorgridcolor\": \"white\", \"startlinecolor\": \"#2a3f5f\"}, \"type\": \"carpet\"}], \"choropleth\": [{\"colorbar\": {\"outlinewidth\": 0, \"ticks\": \"\"}, \"type\": \"choropleth\"}], \"contour\": [{\"colorbar\": {\"outlinewidth\": 0, \"ticks\": \"\"}, \"colorscale\": [[0.0, \"#0d0887\"], [0.1111111111111111, \"#46039f\"], [0.2222222222222222, \"#7201a8\"], [0.3333333333333333, \"#9c179e\"], [0.4444444444444444, \"#bd3786\"], [0.5555555555555556, \"#d8576b\"], [0.6666666666666666, \"#ed7953\"], [0.7777777777777778, \"#fb9f3a\"], [0.8888888888888888, \"#fdca26\"], [1.0, \"#f0f921\"]], \"type\": \"contour\"}], \"contourcarpet\": [{\"colorbar\": {\"outlinewidth\": 0, \"ticks\": \"\"}, \"type\": \"contourcarpet\"}], \"heatmap\": [{\"colorbar\": {\"outlinewidth\": 0, \"ticks\": \"\"}, \"colorscale\": [[0.0, \"#0d0887\"], [0.1111111111111111, \"#46039f\"], [0.2222222222222222, \"#7201a8\"], [0.3333333333333333, \"#9c179e\"], [0.4444444444444444, \"#bd3786\"], [0.5555555555555556, \"#d8576b\"], [0.6666666666666666, \"#ed7953\"], [0.7777777777777778, \"#fb9f3a\"], [0.8888888888888888, \"#fdca26\"], [1.0, \"#f0f921\"]], \"type\": \"heatmap\"}], \"heatmapgl\": [{\"colorbar\": {\"outlinewidth\": 0, \"ticks\": \"\"}, \"colorscale\": [[0.0, \"#0d0887\"], [0.1111111111111111, \"#46039f\"], [0.2222222222222222, \"#7201a8\"], [0.3333333333333333, \"#9c179e\"], [0.4444444444444444, \"#bd3786\"], [0.5555555555555556, \"#d8576b\"], [0.6666666666666666, \"#ed7953\"], [0.7777777777777778, \"#fb9f3a\"], [0.8888888888888888, \"#fdca26\"], [1.0, \"#f0f921\"]], \"type\": \"heatmapgl\"}], \"histogram\": [{\"marker\": {\"colorbar\": {\"outlinewidth\": 0, \"ticks\": \"\"}}, \"type\": \"histogram\"}], \"histogram2d\": [{\"colorbar\": {\"outlinewidth\": 0, \"ticks\": \"\"}, \"colorscale\": [[0.0, \"#0d0887\"], [0.1111111111111111, \"#46039f\"], [0.2222222222222222, \"#7201a8\"], [0.3333333333333333, \"#9c179e\"], [0.4444444444444444, \"#bd3786\"], [0.5555555555555556, \"#d8576b\"], [0.6666666666666666, \"#ed7953\"], [0.7777777777777778, \"#fb9f3a\"], [0.8888888888888888, \"#fdca26\"], [1.0, \"#f0f921\"]], \"type\": \"histogram2d\"}], \"histogram2dcontour\": [{\"colorbar\": {\"outlinewidth\": 0, \"ticks\": \"\"}, \"colorscale\": [[0.0, \"#0d0887\"], [0.1111111111111111, \"#46039f\"], [0.2222222222222222, \"#7201a8\"], [0.3333333333333333, \"#9c179e\"], [0.4444444444444444, \"#bd3786\"], [0.5555555555555556, \"#d8576b\"], [0.6666666666666666, \"#ed7953\"], [0.7777777777777778, \"#fb9f3a\"], [0.8888888888888888, \"#fdca26\"], [1.0, \"#f0f921\"]], \"type\": \"histogram2dcontour\"}], \"mesh3d\": [{\"colorbar\": {\"outlinewidth\": 0, \"ticks\": \"\"}, \"type\": \"mesh3d\"}], \"parcoords\": [{\"line\": {\"colorbar\": {\"outlinewidth\": 0, \"ticks\": \"\"}}, \"type\": \"parcoords\"}], \"pie\": [{\"automargin\": true, \"type\": \"pie\"}], \"scatter\": [{\"marker\": {\"colorbar\": {\"outlinewidth\": 0, \"ticks\": \"\"}}, \"type\": \"scatter\"}], \"scatter3d\": [{\"line\": {\"colorbar\": {\"outlinewidth\": 0, \"ticks\": \"\"}}, \"marker\": {\"colorbar\": {\"outlinewidth\": 0, \"ticks\": \"\"}}, \"type\": \"scatter3d\"}], \"scattercarpet\": [{\"marker\": {\"colorbar\": {\"outlinewidth\": 0, \"ticks\": \"\"}}, \"type\": \"scattercarpet\"}], \"scattergeo\": [{\"marker\": {\"colorbar\": {\"outlinewidth\": 0, \"ticks\": \"\"}}, \"type\": \"scattergeo\"}], \"scattergl\": [{\"marker\": {\"colorbar\": {\"outlinewidth\": 0, \"ticks\": \"\"}}, \"type\": \"scattergl\"}], \"scattermapbox\": [{\"marker\": {\"colorbar\": {\"outlinewidth\": 0, \"ticks\": \"\"}}, \"type\": \"scattermapbox\"}], \"scatterpolar\": [{\"marker\": {\"colorbar\": {\"outlinewidth\": 0, \"ticks\": \"\"}}, \"type\": \"scatterpolar\"}], \"scatterpolargl\": [{\"marker\": {\"colorbar\": {\"outlinewidth\": 0, \"ticks\": \"\"}}, \"type\": \"scatterpolargl\"}], \"scatterternary\": [{\"marker\": {\"colorbar\": {\"outlinewidth\": 0, \"ticks\": \"\"}}, \"type\": \"scatterternary\"}], \"surface\": [{\"colorbar\": {\"outlinewidth\": 0, \"ticks\": \"\"}, \"colorscale\": [[0.0, \"#0d0887\"], [0.1111111111111111, \"#46039f\"], [0.2222222222222222, \"#7201a8\"], [0.3333333333333333, \"#9c179e\"], [0.4444444444444444, \"#bd3786\"], [0.5555555555555556, \"#d8576b\"], [0.6666666666666666, \"#ed7953\"], [0.7777777777777778, \"#fb9f3a\"], [0.8888888888888888, \"#fdca26\"], [1.0, \"#f0f921\"]], \"type\": \"surface\"}], \"table\": [{\"cells\": {\"fill\": {\"color\": \"#EBF0F8\"}, \"line\": {\"color\": \"white\"}}, \"header\": {\"fill\": {\"color\": \"#C8D4E3\"}, \"line\": {\"color\": \"white\"}}, \"type\": \"table\"}]}, \"layout\": {\"annotationdefaults\": {\"arrowcolor\": \"#2a3f5f\", \"arrowhead\": 0, \"arrowwidth\": 1}, \"autotypenumbers\": \"strict\", \"coloraxis\": {\"colorbar\": {\"outlinewidth\": 0, \"ticks\": \"\"}}, \"colorscale\": {\"diverging\": [[0, \"#8e0152\"], [0.1, \"#c51b7d\"], [0.2, \"#de77ae\"], [0.3, \"#f1b6da\"], [0.4, \"#fde0ef\"], [0.5, \"#f7f7f7\"], [0.6, \"#e6f5d0\"], [0.7, \"#b8e186\"], [0.8, \"#7fbc41\"], [0.9, \"#4d9221\"], [1, \"#276419\"]], \"sequential\": [[0.0, \"#0d0887\"], [0.1111111111111111, \"#46039f\"], [0.2222222222222222, \"#7201a8\"], [0.3333333333333333, \"#9c179e\"], [0.4444444444444444, \"#bd3786\"], [0.5555555555555556, \"#d8576b\"], [0.6666666666666666, \"#ed7953\"], [0.7777777777777778, \"#fb9f3a\"], [0.8888888888888888, \"#fdca26\"], [1.0, \"#f0f921\"]], \"sequentialminus\": [[0.0, \"#0d0887\"], [0.1111111111111111, \"#46039f\"], [0.2222222222222222, \"#7201a8\"], [0.3333333333333333, \"#9c179e\"], [0.4444444444444444, \"#bd3786\"], [0.5555555555555556, \"#d8576b\"], [0.6666666666666666, \"#ed7953\"], [0.7777777777777778, \"#fb9f3a\"], [0.8888888888888888, \"#fdca26\"], [1.0, \"#f0f921\"]]}, \"colorway\": [\"#636efa\", \"#EF553B\", \"#00cc96\", \"#ab63fa\", \"#FFA15A\", \"#19d3f3\", \"#FF6692\", \"#B6E880\", \"#FF97FF\", \"#FECB52\"], \"font\": {\"color\": \"#2a3f5f\"}, \"geo\": {\"bgcolor\": \"white\", \"lakecolor\": \"white\", \"landcolor\": \"#E5ECF6\", \"showlakes\": true, \"showland\": true, \"subunitcolor\": \"white\"}, \"hoverlabel\": {\"align\": \"left\"}, \"hovermode\": \"closest\", \"mapbox\": {\"style\": \"light\"}, \"paper_bgcolor\": \"white\", \"plot_bgcolor\": \"#E5ECF6\", \"polar\": {\"angularaxis\": {\"gridcolor\": \"white\", \"linecolor\": \"white\", \"ticks\": \"\"}, \"bgcolor\": \"#E5ECF6\", \"radialaxis\": {\"gridcolor\": \"white\", \"linecolor\": \"white\", \"ticks\": \"\"}}, \"scene\": {\"xaxis\": {\"backgroundcolor\": \"#E5ECF6\", \"gridcolor\": \"white\", \"gridwidth\": 2, \"linecolor\": \"white\", \"showbackground\": true, \"ticks\": \"\", \"zerolinecolor\": \"white\"}, \"yaxis\": {\"backgroundcolor\": \"#E5ECF6\", \"gridcolor\": \"white\", \"gridwidth\": 2, \"linecolor\": \"white\", \"showbackground\": true, \"ticks\": \"\", \"zerolinecolor\": \"white\"}, \"zaxis\": {\"backgroundcolor\": \"#E5ECF6\", \"gridcolor\": \"white\", \"gridwidth\": 2, \"linecolor\": \"white\", \"showbackground\": true, \"ticks\": \"\", \"zerolinecolor\": \"white\"}}, \"shapedefaults\": {\"line\": {\"color\": \"#2a3f5f\"}}, \"ternary\": {\"aaxis\": {\"gridcolor\": \"white\", \"linecolor\": \"white\", \"ticks\": \"\"}, \"baxis\": {\"gridcolor\": \"white\", \"linecolor\": \"white\", \"ticks\": \"\"}, \"bgcolor\": \"#E5ECF6\", \"caxis\": {\"gridcolor\": \"white\", \"linecolor\": \"white\", \"ticks\": \"\"}}, \"title\": {\"x\": 0.05}, \"xaxis\": {\"automargin\": true, \"gridcolor\": \"white\", \"linecolor\": \"white\", \"ticks\": \"\", \"title\": {\"standoff\": 15}, \"zerolinecolor\": \"white\", \"zerolinewidth\": 2}, \"yaxis\": {\"automargin\": true, \"gridcolor\": \"white\", \"linecolor\": \"white\", \"ticks\": \"\", \"title\": {\"standoff\": 15}, \"zerolinecolor\": \"white\", \"zerolinewidth\": 2}}}, \"xaxis\": {\"anchor\": \"y\", \"domain\": [0.0, 0.98], \"title\": {\"text\": \"start_segment\"}}, \"xaxis2\": {\"anchor\": \"y2\", \"domain\": [0.0, 0.98], \"matches\": \"x\", \"showticklabels\": false}, \"xaxis3\": {\"anchor\": \"y3\", \"domain\": [0.0, 0.98], \"matches\": \"x\", \"showticklabels\": false}, \"yaxis\": {\"anchor\": \"x\", \"autorange\": \"reversed\", \"domain\": [0.0, 0.3133333333333333], \"title\": {\"text\": \"rank\"}}, \"yaxis2\": {\"anchor\": \"x2\", \"domain\": [0.34333333333333327, 0.6566666666666665], \"matches\": \"y\", \"title\": {\"text\": \"rank\"}}, \"yaxis3\": {\"anchor\": \"x3\", \"domain\": [0.6866666666666665, 0.9999999999999998], \"matches\": \"y\", \"title\": {\"text\": \"rank\"}}},                        {\"responsive\": true}                    ).then(function(){\n",
       "                            \n",
       "var gd = document.getElementById('1089bd2f-34e7-475c-88c8-4055dfa7c5da');\n",
       "var x = new MutationObserver(function (mutations, observer) {{\n",
       "        var display = window.getComputedStyle(gd).display;\n",
       "        if (!display || display === 'none') {{\n",
       "            console.log([gd, 'removed!']);\n",
       "            Plotly.purge(gd);\n",
       "            observer.disconnect();\n",
       "        }}\n",
       "}});\n",
       "\n",
       "// Listen for the removal of the full notebook cells\n",
       "var notebookContainer = gd.closest('#notebook-container');\n",
       "if (notebookContainer) {{\n",
       "    x.observe(notebookContainer, {childList: true});\n",
       "}}\n",
       "\n",
       "// Listen for the clearing of the current output cell\n",
       "var outputEl = gd.closest('.output');\n",
       "if (outputEl) {{\n",
       "    x.observe(outputEl, {childList: true});\n",
       "}}\n",
       "\n",
       "                        })                };                });            </script>        </div>"
      ]
     },
     "metadata": {},
     "output_type": "display_data"
    }
   ],
   "source": [
    "bump = interactive_bump_chart(data = df, which = \"term\")"
   ]
  },
  {
   "cell_type": "code",
   "execution_count": null,
   "id": "55133069",
   "metadata": {},
   "outputs": [],
   "source": []
  }
 ],
 "metadata": {
  "kernelspec": {
   "display_name": "analyse_tweets",
   "language": "python",
   "name": "analyse_tweets"
  },
  "language_info": {
   "codemirror_mode": {
    "name": "ipython",
    "version": 3
   },
   "file_extension": ".py",
   "mimetype": "text/x-python",
   "name": "python",
   "nbconvert_exporter": "python",
   "pygments_lexer": "ipython3",
   "version": "3.9.7"
  }
 },
 "nbformat": 4,
 "nbformat_minor": 5
}
