{
 "cells": [
  {
   "cell_type": "code",
   "execution_count": 2,
   "metadata": {
    "colab": {
     "base_uri": "https://localhost:8080/"
    },
    "executionInfo": {
     "elapsed": 5632,
     "status": "ok",
     "timestamp": 1634722113230,
     "user": {
      "displayName": "Justin REZÉ",
      "photoUrl": "https://lh3.googleusercontent.com/a/default-user=s64",
      "userId": "06986230582124478062"
     },
     "user_tz": -120
    },
    "id": "xdY4AsaI9Xqq",
    "outputId": "02771f15-ef24-44d9-8b95-e8066854377c"
   },
   "outputs": [],
   "source": [
    "#good to start from tf env\n",
    "#let's first import a few libraries that will be helpful to train a word2vec model\n",
    "import pandas as pd\n",
    "#!pip install dateparser\n",
    "import dateparser \n",
    "from matplotlib import pyplot as plt \n",
    "import spacy \n",
    "import re\n",
    "import numpy as np\n",
    "from gensim.models import Word2Vec\n",
    "from gensim.models.phrases import Phrases, Phraser\n",
    "import logging\n",
    "logging.basicConfig(format='%(asctime)s : %(levelname)s : %(message)s', level=logging.INFO)\n",
    "pd.options.display.max_colwidth = 100"
   ]
  },
  {
   "cell_type": "markdown",
   "metadata": {
    "id": "EE9tj6SqQJS6"
   },
   "source": [
    "# We first start loading the data and preprocessing the textual **content**"
   ]
  },
  {
   "cell_type": "code",
   "execution_count": 3,
   "metadata": {
    "colab": {
     "base_uri": "https://localhost:8080/"
    },
    "executionInfo": {
     "elapsed": 14111,
     "status": "ok",
     "timestamp": 1634722169978,
     "user": {
      "displayName": "Justin REZÉ",
      "photoUrl": "https://lh3.googleusercontent.com/a/default-user=s64",
      "userId": "06986230582124478062"
     },
     "user_tz": -120
    },
    "id": "6Ay5ojhh8Z88",
    "outputId": "395961cd-b47f-4f2e-878a-52b444385cf5"
   },
   "outputs": [],
   "source": [
    "#from google.colab import drive\n",
    "#drive.mount('/content/drive')"
   ]
  },
  {
   "cell_type": "code",
   "execution_count": 108,
   "metadata": {
    "id": "Gj9IQswQc8Jz"
   },
   "outputs": [],
   "source": [
    "#data=pd.read_csv('/content/drive/Shareddrives/Decoding Biases in AI - Fall 2021/Notebooks/covax-en-3000.csv')\n",
    "#data=pd.read_csv('/Users/jpcointet/Dropbox/ts/data/covax_content_sample_2000_medium_sized.csv')\n",
    "data=pd.read_csv('../all3/fb_tw_med_data.csv.gz')"
   ]
  },
  {
   "cell_type": "code",
   "execution_count": 109,
   "metadata": {
    "colab": {
     "base_uri": "https://localhost:8080/"
    },
    "executionInfo": {
     "elapsed": 317,
     "status": "ok",
     "timestamp": 1634722184613,
     "user": {
      "displayName": "Justin REZÉ",
      "photoUrl": "https://lh3.googleusercontent.com/a/default-user=s64",
      "userId": "06986230582124478062"
     },
     "user_tz": -120
    },
    "id": "GNZdBhtX9npv",
    "outputId": "4986e816-f6d6-4e20-953a-a32e768acecb"
   },
   "outputs": [],
   "source": [
    "#we build the full content of the article concatenating the article title + lede paragraph + article\n",
    "#data['text']=data['title']+' '+data['extracted_text']\n",
    "#data=data.astype(str)# making sure that the variable is the right type"
   ]
  },
  {
   "cell_type": "code",
   "execution_count": 110,
   "metadata": {
    "colab": {
     "base_uri": "https://localhost:8080/",
     "height": 522
    },
    "executionInfo": {
     "elapsed": 321,
     "status": "ok",
     "timestamp": 1634722345694,
     "user": {
      "displayName": "Justin REZÉ",
      "photoUrl": "https://lh3.googleusercontent.com/a/default-user=s64",
      "userId": "06986230582124478062"
     },
     "user_tz": -120
    },
    "id": "XJQE6VjdOtcR",
    "outputId": "bc6e26b6-44e6-483b-8ab5-c50679bd41b0"
   },
   "outputs": [],
   "source": [
    "data=data[data['origin']=='twitter']"
   ]
  },
  {
   "cell_type": "code",
   "execution_count": 111,
   "metadata": {},
   "outputs": [
    {
     "data": {
      "text/html": [
       "<div>\n",
       "<style scoped>\n",
       "    .dataframe tbody tr th:only-of-type {\n",
       "        vertical-align: middle;\n",
       "    }\n",
       "\n",
       "    .dataframe tbody tr th {\n",
       "        vertical-align: top;\n",
       "    }\n",
       "\n",
       "    .dataframe thead th {\n",
       "        text-align: right;\n",
       "    }\n",
       "</style>\n",
       "<table border=\"1\" class=\"dataframe\">\n",
       "  <thead>\n",
       "    <tr style=\"text-align: right;\">\n",
       "      <th></th>\n",
       "      <th>Unnamed: 0</th>\n",
       "      <th>id</th>\n",
       "      <th>date</th>\n",
       "      <th>text</th>\n",
       "      <th>source</th>\n",
       "      <th>origin</th>\n",
       "    </tr>\n",
       "  </thead>\n",
       "  <tbody>\n",
       "    <tr>\n",
       "      <th>0</th>\n",
       "      <td>0</td>\n",
       "      <td>1436328269838700547</td>\n",
       "      <td>2021-09-10</td>\n",
       "      <td>@EmmanuelMacron Transition agroécologique, ou plutôt sacrifice du modèle agricole Français à la ...</td>\n",
       "      <td>Simm</td>\n",
       "      <td>twitter</td>\n",
       "    </tr>\n",
       "    <tr>\n",
       "      <th>1</th>\n",
       "      <td>1</td>\n",
       "      <td>1436327620237529092</td>\n",
       "      <td>2021-09-10</td>\n",
       "      <td>#Béthune : un fumigène insecticide alerte les voisins et fait venir les secours http://www.laven...</td>\n",
       "      <td>L'Avenir de l'Artois</td>\n",
       "      <td>twitter</td>\n",
       "    </tr>\n",
       "    <tr>\n",
       "      <th>2</th>\n",
       "      <td>2</td>\n",
       "      <td>1436327427588993030</td>\n",
       "      <td>2021-09-10</td>\n",
       "      <td>Alors je récapitule :\\nLa lavande c'est dangereux et les pesticides c'est génial ! j'ai bon à @E...</td>\n",
       "      <td>soraya</td>\n",
       "      <td>twitter</td>\n",
       "    </tr>\n",
       "    <tr>\n",
       "      <th>3</th>\n",
       "      <td>3</td>\n",
       "      <td>1436327130179284992</td>\n",
       "      <td>2021-09-10</td>\n",
       "      <td>#RappelProduit\\nPREPAUSE 60 comprimés - LABORATOIRES INEBIOS\\n\\nRisques : Dépassement des limite...</td>\n",
       "      <td>RappelConso</td>\n",
       "      <td>twitter</td>\n",
       "    </tr>\n",
       "    <tr>\n",
       "      <th>4</th>\n",
       "      <td>4</td>\n",
       "      <td>1436326456695603203</td>\n",
       "      <td>2021-09-10</td>\n",
       "      <td>#ESG Les politiques d’exclusions appliquées concernent : l’huile de #palme, les #OGM, la pâte à ...</td>\n",
       "      <td>Environnement Mag</td>\n",
       "      <td>twitter</td>\n",
       "    </tr>\n",
       "    <tr>\n",
       "      <th>...</th>\n",
       "      <td>...</td>\n",
       "      <td>...</td>\n",
       "      <td>...</td>\n",
       "      <td>...</td>\n",
       "      <td>...</td>\n",
       "      <td>...</td>\n",
       "    </tr>\n",
       "    <tr>\n",
       "      <th>1354747</th>\n",
       "      <td>1354978</td>\n",
       "      <td>1212167209704923136</td>\n",
       "      <td>2020-01-01</td>\n",
       "      <td>@laurentchemla Très bonne et heureuse année 2020 à toi, Glyphosate et tous tes chats. https://tw...</td>\n",
       "      <td>Samia M'timet 😷 🤕 #Vaccinée 💉💉 🎉</td>\n",
       "      <td>twitter</td>\n",
       "    </tr>\n",
       "    <tr>\n",
       "      <th>1354748</th>\n",
       "      <td>1354979</td>\n",
       "      <td>1212165829292429313</td>\n",
       "      <td>2020-01-01</td>\n",
       "      <td>Glyphosate dans les urines : 67 plaintes déposées au tribunal de grande instance de Saint-Étienn...</td>\n",
       "      <td>BETAIL PLUS</td>\n",
       "      <td>twitter</td>\n",
       "    </tr>\n",
       "    <tr>\n",
       "      <th>1354749</th>\n",
       "      <td>1354980</td>\n",
       "      <td>1212163918149361664</td>\n",
       "      <td>2020-01-01</td>\n",
       "      <td>Pesticides.. que fait l'Europe?\\n\\nhttps://actu.fr/societe/pesticides-solitude-ces-agriculteurs-...</td>\n",
       "      <td>nicolas coorens</td>\n",
       "      <td>twitter</td>\n",
       "    </tr>\n",
       "    <tr>\n",
       "      <th>1354750</th>\n",
       "      <td>1354981</td>\n",
       "      <td>1212163422588149761</td>\n",
       "      <td>2020-01-01</td>\n",
       "      <td>Pesticides... que fait l'Europe? https://www.facebook.com/833238703/posts/10157750956368704/</td>\n",
       "      <td>nicolas coorens</td>\n",
       "      <td>twitter</td>\n",
       "    </tr>\n",
       "    <tr>\n",
       "      <th>1354751</th>\n",
       "      <td>1354982</td>\n",
       "      <td>1212162767026892802</td>\n",
       "      <td>2020-01-01</td>\n",
       "      <td>Abeilles : deux nouveaux pesticides interdits https://www.lexpress.fr/actualite/societe/environn...</td>\n",
       "      <td>L'Express</td>\n",
       "      <td>twitter</td>\n",
       "    </tr>\n",
       "  </tbody>\n",
       "</table>\n",
       "<p>1354752 rows × 6 columns</p>\n",
       "</div>"
      ],
      "text/plain": [
       "         Unnamed: 0                   id        date  \\\n",
       "0                 0  1436328269838700547  2021-09-10   \n",
       "1                 1  1436327620237529092  2021-09-10   \n",
       "2                 2  1436327427588993030  2021-09-10   \n",
       "3                 3  1436327130179284992  2021-09-10   \n",
       "4                 4  1436326456695603203  2021-09-10   \n",
       "...             ...                  ...         ...   \n",
       "1354747     1354978  1212167209704923136  2020-01-01   \n",
       "1354748     1354979  1212165829292429313  2020-01-01   \n",
       "1354749     1354980  1212163918149361664  2020-01-01   \n",
       "1354750     1354981  1212163422588149761  2020-01-01   \n",
       "1354751     1354982  1212162767026892802  2020-01-01   \n",
       "\n",
       "                                                                                                        text  \\\n",
       "0        @EmmanuelMacron Transition agroécologique, ou plutôt sacrifice du modèle agricole Français à la ...   \n",
       "1        #Béthune : un fumigène insecticide alerte les voisins et fait venir les secours http://www.laven...   \n",
       "2        Alors je récapitule :\\nLa lavande c'est dangereux et les pesticides c'est génial ! j'ai bon à @E...   \n",
       "3        #RappelProduit\\nPREPAUSE 60 comprimés - LABORATOIRES INEBIOS\\n\\nRisques : Dépassement des limite...   \n",
       "4        #ESG Les politiques d’exclusions appliquées concernent : l’huile de #palme, les #OGM, la pâte à ...   \n",
       "...                                                                                                      ...   \n",
       "1354747  @laurentchemla Très bonne et heureuse année 2020 à toi, Glyphosate et tous tes chats. https://tw...   \n",
       "1354748  Glyphosate dans les urines : 67 plaintes déposées au tribunal de grande instance de Saint-Étienn...   \n",
       "1354749  Pesticides.. que fait l'Europe?\\n\\nhttps://actu.fr/societe/pesticides-solitude-ces-agriculteurs-...   \n",
       "1354750         Pesticides... que fait l'Europe? https://www.facebook.com/833238703/posts/10157750956368704/   \n",
       "1354751  Abeilles : deux nouveaux pesticides interdits https://www.lexpress.fr/actualite/societe/environn...   \n",
       "\n",
       "                                   source   origin  \n",
       "0                                    Simm  twitter  \n",
       "1                    L'Avenir de l'Artois  twitter  \n",
       "2                                  soraya  twitter  \n",
       "3                             RappelConso  twitter  \n",
       "4                       Environnement Mag  twitter  \n",
       "...                                   ...      ...  \n",
       "1354747  Samia M'timet 😷 🤕 #Vaccinée 💉💉 🎉  twitter  \n",
       "1354748                       BETAIL PLUS  twitter  \n",
       "1354749                   nicolas coorens  twitter  \n",
       "1354750                   nicolas coorens  twitter  \n",
       "1354751                         L'Express  twitter  \n",
       "\n",
       "[1354752 rows x 6 columns]"
      ]
     },
     "execution_count": 111,
     "metadata": {},
     "output_type": "execute_result"
    }
   ],
   "source": [
    "data"
   ]
  },
  {
   "cell_type": "code",
   "execution_count": 112,
   "metadata": {
    "colab": {
     "base_uri": "https://localhost:8080/",
     "height": 145
    },
    "executionInfo": {
     "elapsed": 362,
     "status": "error",
     "timestamp": 1634722554126,
     "user": {
      "displayName": "Justin REZÉ",
      "photoUrl": "https://lh3.googleusercontent.com/a/default-user=s64",
      "userId": "06986230582124478062"
     },
     "user_tz": -120
    },
    "id": "yTE43MKo96Ja",
    "outputId": "afce8604-175a-4fa0-fdc8-9e9190ed6a8c"
   },
   "outputs": [
    {
     "data": {
      "text/plain": [
       "L'important                5318\n",
       "Hubert MESSMER 💉💉😷 🧘‍♂️    3356\n",
       "Christian Rousseau         3100\n",
       "aatea #jesuisvacciné       3053\n",
       "Générations Futures        2355\n",
       "                           ... \n",
       "FIN                           1\n",
       "Vanessa Coste                 1\n",
       "comic sans ns                 1\n",
       "Rigoni di Asiago FRA          1\n",
       "Le Petit Yoda Corse           1\n",
       "Name: source, Length: 223153, dtype: int64"
      ]
     },
     "execution_count": 112,
     "metadata": {},
     "output_type": "execute_result"
    }
   ],
   "source": [
    "#Washington Post, The New York Times (+ International Herald TRiubne), USA Today, Boston Globe, Wall Street Journal (Dow Jones & Company, Inc.)\n",
    "#data['media_name'].value_counts()\n",
    "data.source.value_counts()"
   ]
  },
  {
   "cell_type": "code",
   "execution_count": 113,
   "metadata": {
    "id": "4HzGcQ0GPE29"
   },
   "outputs": [],
   "source": [
    "#mappring_newspaper={'Washington Post':'Washington Post','The New York Times Company':'New York Times','Dow Jones & Company, Inc.':'Wall Street Journal','USA Today Information Network':'USA Today','Boston Globe Media Partners LLC':'Boston Globe', 'International Herald Tribune':'Wall Street Journal','Dow Jones Company, Inc.':'Wall Street Journal','Dow Jones & Company, Inc. - Enterprise WSJ':'Wall Street Journal'}\n",
    "#data['journal']=data['source'].map(mappring_newspaper)"
   ]
  },
  {
   "cell_type": "code",
   "execution_count": 114,
   "metadata": {
    "colab": {
     "base_uri": "https://localhost:8080/",
     "height": 326
    },
    "executionInfo": {
     "elapsed": 14,
     "status": "ok",
     "timestamp": 1634722226603,
     "user": {
      "displayName": "Justin REZÉ",
      "photoUrl": "https://lh3.googleusercontent.com/a/default-user=s64",
      "userId": "06986230582124478062"
     },
     "user_tz": -120
    },
    "id": "01mCzL_b_erJ",
    "outputId": "0cb4ae42-66be-45a9-e997-a31b4121571b"
   },
   "outputs": [
    {
     "data": {
      "text/html": [
       "<div>\n",
       "<style scoped>\n",
       "    .dataframe tbody tr th:only-of-type {\n",
       "        vertical-align: middle;\n",
       "    }\n",
       "\n",
       "    .dataframe tbody tr th {\n",
       "        vertical-align: top;\n",
       "    }\n",
       "\n",
       "    .dataframe thead th {\n",
       "        text-align: right;\n",
       "    }\n",
       "</style>\n",
       "<table border=\"1\" class=\"dataframe\">\n",
       "  <thead>\n",
       "    <tr style=\"text-align: right;\">\n",
       "      <th></th>\n",
       "      <th>Unnamed: 0</th>\n",
       "      <th>id</th>\n",
       "      <th>date</th>\n",
       "      <th>text</th>\n",
       "      <th>source</th>\n",
       "      <th>origin</th>\n",
       "    </tr>\n",
       "  </thead>\n",
       "  <tbody>\n",
       "    <tr>\n",
       "      <th>365976</th>\n",
       "      <td>365977</td>\n",
       "      <td>910059425926385664</td>\n",
       "      <td>2017-09-19</td>\n",
       "      <td>@remy67600 @GrainHedger @floguilloteau45 @Lionel_Jeanjeau Oui sauf que le glyphosate est vieux d...</td>\n",
       "      <td>Christophe Bitsch 🇪🇺🇩🇪</td>\n",
       "      <td>twitter</td>\n",
       "    </tr>\n",
       "    <tr>\n",
       "      <th>207146</th>\n",
       "      <td>207146</td>\n",
       "      <td>723527039920152577</td>\n",
       "      <td>2016-04-22</td>\n",
       "      <td>Slip régional, pesticides et racket sur Internet : l'hebdo de la région #ALPC https://www.france...</td>\n",
       "      <td>France Bleu Gironde</td>\n",
       "      <td>twitter</td>\n",
       "    </tr>\n",
       "    <tr>\n",
       "      <th>996063</th>\n",
       "      <td>996294</td>\n",
       "      <td>1131172133265117185</td>\n",
       "      <td>2019-05-22</td>\n",
       "      <td>@MathSRIsh @Qofficiel ça, c'est sur, en tant que herbicide, il est efficace... Et en tant que ca...</td>\n",
       "      <td>challier nicolas</td>\n",
       "      <td>twitter</td>\n",
       "    </tr>\n",
       "  </tbody>\n",
       "</table>\n",
       "</div>"
      ],
      "text/plain": [
       "        Unnamed: 0                   id        date  \\\n",
       "365976      365977   910059425926385664  2017-09-19   \n",
       "207146      207146   723527039920152577  2016-04-22   \n",
       "996063      996294  1131172133265117185  2019-05-22   \n",
       "\n",
       "                                                                                                       text  \\\n",
       "365976  @remy67600 @GrainHedger @floguilloteau45 @Lionel_Jeanjeau Oui sauf que le glyphosate est vieux d...   \n",
       "207146  Slip régional, pesticides et racket sur Internet : l'hebdo de la région #ALPC https://www.france...   \n",
       "996063  @MathSRIsh @Qofficiel ça, c'est sur, en tant que herbicide, il est efficace... Et en tant que ca...   \n",
       "\n",
       "                        source   origin  \n",
       "365976  Christophe Bitsch 🇪🇺🇩🇪  twitter  \n",
       "207146     France Bleu Gironde  twitter  \n",
       "996063        challier nicolas  twitter  "
      ]
     },
     "execution_count": 114,
     "metadata": {},
     "output_type": "execute_result"
    }
   ],
   "source": [
    "data.sample(3)"
   ]
  },
  {
   "cell_type": "code",
   "execution_count": 115,
   "metadata": {
    "colab": {
     "base_uri": "https://localhost:8080/"
    },
    "executionInfo": {
     "elapsed": 402,
     "status": "ok",
     "timestamp": 1634722231305,
     "user": {
      "displayName": "Justin REZÉ",
      "photoUrl": "https://lh3.googleusercontent.com/a/default-user=s64",
      "userId": "06986230582124478062"
     },
     "user_tz": -120
    },
    "id": "jmt568biuXPZ",
    "outputId": "c6218528-1bc0-45e2-c44a-aea02e9d60be"
   },
   "outputs": [],
   "source": [
    "#data['journal'].value_counts()"
   ]
  },
  {
   "cell_type": "markdown",
   "metadata": {
    "id": "RscELSXwRTUf"
   },
   "source": [
    "Date format can be automatially processed as time information by pandas if needed"
   ]
  },
  {
   "cell_type": "code",
   "execution_count": 116,
   "metadata": {
    "id": "d-duuLgIRSyN"
   },
   "outputs": [],
   "source": [
    "#data['source']=data['media_name']"
   ]
  },
  {
   "cell_type": "code",
   "execution_count": 117,
   "metadata": {
    "colab": {
     "base_uri": "https://localhost:8080/"
    },
    "executionInfo": {
     "elapsed": 620,
     "status": "ok",
     "timestamp": 1634722609989,
     "user": {
      "displayName": "Justin REZÉ",
      "photoUrl": "https://lh3.googleusercontent.com/a/default-user=s64",
      "userId": "06986230582124478062"
     },
     "user_tz": -120
    },
    "id": "eJsOYlcUS9Fk",
    "outputId": "3f9fbe17-3f40-4405-ab74-d257afdc4c84"
   },
   "outputs": [],
   "source": [
    "#dateparser.parse('8 juillet 2019, 15h02'), dateparser.parse('yesterday')"
   ]
  },
  {
   "cell_type": "code",
   "execution_count": 118,
   "metadata": {
    "id": "HsV86QFSS8CI"
   },
   "outputs": [],
   "source": [
    "#we first turn the full date column into a datetime object\n",
    "#data['publication_date']=data['date'].apply(dateparser.parse)\n",
    "data['date'] = pd.to_datetime(data[\"date\"])\n",
    "\n"
   ]
  },
  {
   "cell_type": "code",
   "execution_count": 119,
   "metadata": {
    "colab": {
     "base_uri": "https://localhost:8080/",
     "height": 424
    },
    "executionInfo": {
     "elapsed": 311,
     "status": "ok",
     "timestamp": 1634722639886,
     "user": {
      "displayName": "Justin REZÉ",
      "photoUrl": "https://lh3.googleusercontent.com/a/default-user=s64",
      "userId": "06986230582124478062"
     },
     "user_tz": -120
    },
    "id": "6OXW4y_oTEzf",
    "outputId": "3b07f14c-f6b7-4041-b67c-740b113f4758"
   },
   "outputs": [
    {
     "data": {
      "text/html": [
       "<div>\n",
       "<style scoped>\n",
       "    .dataframe tbody tr th:only-of-type {\n",
       "        vertical-align: middle;\n",
       "    }\n",
       "\n",
       "    .dataframe tbody tr th {\n",
       "        vertical-align: top;\n",
       "    }\n",
       "\n",
       "    .dataframe thead th {\n",
       "        text-align: right;\n",
       "    }\n",
       "</style>\n",
       "<table border=\"1\" class=\"dataframe\">\n",
       "  <thead>\n",
       "    <tr style=\"text-align: right;\">\n",
       "      <th></th>\n",
       "      <th>Unnamed: 0</th>\n",
       "      <th>id</th>\n",
       "      <th>text</th>\n",
       "      <th>source</th>\n",
       "      <th>origin</th>\n",
       "    </tr>\n",
       "    <tr>\n",
       "      <th>date</th>\n",
       "      <th></th>\n",
       "      <th></th>\n",
       "      <th></th>\n",
       "      <th></th>\n",
       "      <th></th>\n",
       "    </tr>\n",
       "  </thead>\n",
       "  <tbody>\n",
       "    <tr>\n",
       "      <th>2019-04-11</th>\n",
       "      <td>1036772</td>\n",
       "      <td>1116321204959424512</td>\n",
       "      <td>@vllentine @nicolas_rouet regardez le lien que j'ai mis, s'il y a un refus de l'utilisation des ...</td>\n",
       "      <td>aatea #jesuisvacciné</td>\n",
       "      <td>twitter</td>\n",
       "    </tr>\n",
       "    <tr>\n",
       "      <th>2018-12-06</th>\n",
       "      <td>1121406</td>\n",
       "      <td>1070812912619581442</td>\n",
       "      <td>@OnceRebifera @moutoi2 Du Roundup, c’est bien aussi le roundup ! 🙃 https://twitter.com/MaevaAapo...</td>\n",
       "      <td>Maeva</td>\n",
       "      <td>twitter</td>\n",
       "    </tr>\n",
       "    <tr>\n",
       "      <th>2018-06-18</th>\n",
       "      <td>692403</td>\n",
       "      <td>1008788516258680832</td>\n",
       "      <td>Ariège: En échange de votre urine, ils vous diront si vous êtes contaminés aux pesticides https:...</td>\n",
       "      <td>Daniel Chateigner</td>\n",
       "      <td>twitter</td>\n",
       "    </tr>\n",
       "  </tbody>\n",
       "</table>\n",
       "</div>"
      ],
      "text/plain": [
       "            Unnamed: 0                   id  \\\n",
       "date                                          \n",
       "2019-04-11     1036772  1116321204959424512   \n",
       "2018-12-06     1121406  1070812912619581442   \n",
       "2018-06-18      692403  1008788516258680832   \n",
       "\n",
       "                                                                                                           text  \\\n",
       "date                                                                                                              \n",
       "2019-04-11  @vllentine @nicolas_rouet regardez le lien que j'ai mis, s'il y a un refus de l'utilisation des ...   \n",
       "2018-12-06  @OnceRebifera @moutoi2 Du Roundup, c’est bien aussi le roundup ! 🙃 https://twitter.com/MaevaAapo...   \n",
       "2018-06-18  Ariège: En échange de votre urine, ils vous diront si vous êtes contaminés aux pesticides https:...   \n",
       "\n",
       "                          source   origin  \n",
       "date                                       \n",
       "2019-04-11  aatea #jesuisvacciné  twitter  \n",
       "2018-12-06                 Maeva  twitter  \n",
       "2018-06-18     Daniel Chateigner  twitter  "
      ]
     },
     "execution_count": 119,
     "metadata": {},
     "output_type": "execute_result"
    }
   ],
   "source": [
    "#this phase simply consists in changing the index of the dataframe\n",
    "data_time=data.set_index(\"date\")\n",
    "data_time.sample(3)"
   ]
  },
  {
   "cell_type": "code",
   "execution_count": 120,
   "metadata": {
    "colab": {
     "base_uri": "https://localhost:8080/",
     "height": 309
    },
    "executionInfo": {
     "elapsed": 433,
     "status": "ok",
     "timestamp": 1634722666318,
     "user": {
      "displayName": "Justin REZÉ",
      "photoUrl": "https://lh3.googleusercontent.com/a/default-user=s64",
      "userId": "06986230582124478062"
     },
     "user_tz": -120
    },
    "id": "c32gBqUNU2Cy",
    "outputId": "4cc9f6ff-d747-4825-8a0f-0baeae2c2493"
   },
   "outputs": [
    {
     "data": {
      "text/plain": [
       "<AxesSubplot:xlabel='date'>"
      ]
     },
     "execution_count": 120,
     "metadata": {},
     "output_type": "execute_result"
    },
    {
     "data": {
      "image/png": "[encoded data removed]",
      "text/plain": [
       "<Figure size 864x288 with 1 Axes>"
      ]
     },
     "metadata": {
      "needs_background": "light"
     },
     "output_type": "display_data"
    }
   ],
   "source": [
    "fig, axis = plt.subplots(figsize=(12, 4))\n",
    "data_time['source'].resample('M').count().plot(style=\"-^\",ax=axis)"
   ]
  },
  {
   "cell_type": "code",
   "execution_count": 121,
   "metadata": {},
   "outputs": [],
   "source": [
    "data=data.sample(n=100000)"
   ]
  },
  {
   "cell_type": "markdown",
   "metadata": {
    "id": "PxMcJQor9qzY"
   },
   "source": [
    "#Let's train our Word Embedding"
   ]
  },
  {
   "cell_type": "code",
   "execution_count": 122,
   "metadata": {
    "id": "CI6nNQJ8g9wg"
   },
   "outputs": [],
   "source": [
    "#We use spacy to create a pipeline performing simple tasks with my text content, namely tokenizing the articles, removing non alphabetic strings,  lemmatizing, removing stop-words \n",
    "\n",
    "nlp = spacy.load('fr_core_news_sm', disable=['ner', 'parser']) # disabling Named Entity Recognition and dependency parsing for speed\n",
    "def cleaning(doc):\n",
    "    # Lemmatizes and removes stopwords\n",
    "    # doc needs to be a spacy Doc object\n",
    "    txt = [token.lemma_ for token in doc if not token.is_stop]\n",
    "    return ' '.join(txt)\n",
    "\n",
    "brief_cleaning = (re.sub(\"[^A-Za-z']+\", ' ', str(row)).lower() for row in data['text'])\n",
    "txt = [cleaning(doc) for doc in nlp.pipe(brief_cleaning, batch_size=500)]\n",
    "\n"
   ]
  },
  {
   "cell_type": "code",
   "execution_count": 123,
   "metadata": {
    "id": "b9aV64xail1G"
   },
   "outputs": [],
   "source": [
    "#we feed our dataframe with a new column \"cleaned\" and remove empty columns (if any)\n",
    "data['cleaned']=txt\n",
    "data=data.dropna(subset=['cleaned'])"
   ]
  },
  {
   "cell_type": "code",
   "execution_count": 124,
   "metadata": {
    "colab": {
     "base_uri": "https://localhost:8080/"
    },
    "executionInfo": {
     "elapsed": 412,
     "status": "ok",
     "timestamp": 1634723616585,
     "user": {
      "displayName": "Justin REZÉ",
      "photoUrl": "https://lh3.googleusercontent.com/a/default-user=s64",
      "userId": "06986230582124478062"
     },
     "user_tz": -120
    },
    "id": "1CmwupiWjqCK",
    "outputId": "a88ecba8-bb25-4219-e9ff-9ae6261192a2"
   },
   "outputs": [
    {
     "name": "stdout",
     "output_type": "stream",
     "text": [
      "number of documents 100000\n"
     ]
    }
   ],
   "source": [
    "print (\"number of documents\",len(data))"
   ]
  },
  {
   "cell_type": "code",
   "execution_count": 125,
   "metadata": {
    "colab": {
     "base_uri": "https://localhost:8080/",
     "height": 545
    },
    "executionInfo": {
     "elapsed": 316,
     "status": "ok",
     "timestamp": 1634723619155,
     "user": {
      "displayName": "Justin REZÉ",
      "photoUrl": "https://lh3.googleusercontent.com/a/default-user=s64",
      "userId": "06986230582124478062"
     },
     "user_tz": -120
    },
    "id": "7NVjyYRYj_oE",
    "outputId": "960822bd-b86e-45d0-bc68-312e0fce1d33"
   },
   "outputs": [
    {
     "data": {
      "text/html": [
       "<div>\n",
       "<style scoped>\n",
       "    .dataframe tbody tr th:only-of-type {\n",
       "        vertical-align: middle;\n",
       "    }\n",
       "\n",
       "    .dataframe tbody tr th {\n",
       "        vertical-align: top;\n",
       "    }\n",
       "\n",
       "    .dataframe thead th {\n",
       "        text-align: right;\n",
       "    }\n",
       "</style>\n",
       "<table border=\"1\" class=\"dataframe\">\n",
       "  <thead>\n",
       "    <tr style=\"text-align: right;\">\n",
       "      <th></th>\n",
       "      <th>Unnamed: 0</th>\n",
       "      <th>id</th>\n",
       "      <th>date</th>\n",
       "      <th>text</th>\n",
       "      <th>source</th>\n",
       "      <th>origin</th>\n",
       "      <th>cleaned</th>\n",
       "    </tr>\n",
       "  </thead>\n",
       "  <tbody>\n",
       "    <tr>\n",
       "      <th>1177851</th>\n",
       "      <td>1178082</td>\n",
       "      <td>1042001113766141953</td>\n",
       "      <td>2018-09-18</td>\n",
       "      <td>🖋️  Parmi les 63 députés qui ont refusé d'inscrire l'interdiction du glyphosate dans la loi, on ...</td>\n",
       "      <td>LEGENDRE Gérard</td>\n",
       "      <td>twitter</td>\n",
       "      <td>d put s refus inscrire interdiction glyphosate loi trouve lrem lr udi constructif modem commun...</td>\n",
       "    </tr>\n",
       "    <tr>\n",
       "      <th>63936</th>\n",
       "      <td>63936</td>\n",
       "      <td>1370857226433409024</td>\n",
       "      <td>2021-03-13</td>\n",
       "      <td>Pesticides : la Charente-Maritime est le plus gros acheteur de glyphosate #vin #wine #france #ch...</td>\n",
       "      <td>Journal du Vin</td>\n",
       "      <td>twitter</td>\n",
       "      <td>pesticide charente maritime gros acheteur glyphosate vin wine france cher https journal vin com ...</td>\n",
       "    </tr>\n",
       "    <tr>\n",
       "      <th>1348896</th>\n",
       "      <td>1349127</td>\n",
       "      <td>1216299289145749506</td>\n",
       "      <td>2020-01-12</td>\n",
       "      <td>@isidornazareth @lemondefr Les touliettes c'est l'Union Européenne. Les pesticides en hausse au ...</td>\n",
       "      <td>Schneiderduf</td>\n",
       "      <td>twitter</td>\n",
       "      <td>isidornazareth lemondefr touliette union europ enne pesticide hausse niveau achat bier t inter...</td>\n",
       "    </tr>\n",
       "  </tbody>\n",
       "</table>\n",
       "</div>"
      ],
      "text/plain": [
       "         Unnamed: 0                   id       date  \\\n",
       "1177851     1178082  1042001113766141953 2018-09-18   \n",
       "63936         63936  1370857226433409024 2021-03-13   \n",
       "1348896     1349127  1216299289145749506 2020-01-12   \n",
       "\n",
       "                                                                                                        text  \\\n",
       "1177851  🖋️  Parmi les 63 députés qui ont refusé d'inscrire l'interdiction du glyphosate dans la loi, on ...   \n",
       "63936    Pesticides : la Charente-Maritime est le plus gros acheteur de glyphosate #vin #wine #france #ch...   \n",
       "1348896  @isidornazareth @lemondefr Les touliettes c'est l'Union Européenne. Les pesticides en hausse au ...   \n",
       "\n",
       "                  source   origin  \\\n",
       "1177851  LEGENDRE Gérard  twitter   \n",
       "63936     Journal du Vin  twitter   \n",
       "1348896     Schneiderduf  twitter   \n",
       "\n",
       "                                                                                                     cleaned  \n",
       "1177851    d put s refus inscrire interdiction glyphosate loi trouve lrem lr udi constructif modem commun...  \n",
       "63936    pesticide charente maritime gros acheteur glyphosate vin wine france cher https journal vin com ...  \n",
       "1348896    isidornazareth lemondefr touliette union europ enne pesticide hausse niveau achat bier t inter...  "
      ]
     },
     "execution_count": 125,
     "metadata": {},
     "output_type": "execute_result"
    }
   ],
   "source": [
    "data.sample(3)"
   ]
  },
  {
   "cell_type": "markdown",
   "metadata": {
    "id": "CgglB2Lcabww"
   },
   "source": [
    "We are using Gensim Phrases package to automatically detect common phrases (bigrams) from a list of sentences. https://radimrehurek.com/gensim/models/phrases.html\n",
    "\n"
   ]
  },
  {
   "cell_type": "code",
   "execution_count": 126,
   "metadata": {
    "colab": {
     "base_uri": "https://localhost:8080/"
    },
    "executionInfo": {
     "elapsed": 5564,
     "status": "ok",
     "timestamp": 1634723687477,
     "user": {
      "displayName": "Justin REZÉ",
      "photoUrl": "https://lh3.googleusercontent.com/a/default-user=s64",
      "userId": "06986230582124478062"
     },
     "user_tz": -120
    },
    "id": "_2O3H-Fjioqb",
    "outputId": "01ede5d1-b764-4987-d7e4-60b6bc5e7a84"
   },
   "outputs": [
    {
     "name": "stderr",
     "output_type": "stream",
     "text": [
      "2022-04-27 14:48:28,844 : INFO : collecting all words and their counts\n",
      "2022-04-27 14:48:28,845 : INFO : PROGRESS: at sentence #0, processed 0 words and 0 word types\n",
      "2022-04-27 14:48:28,970 : INFO : PROGRESS: at sentence #10000, processed 216590 words and 137507 word types\n",
      "2022-04-27 14:48:29,099 : INFO : PROGRESS: at sentence #20000, processed 431509 words and 236840 word types\n",
      "2022-04-27 14:48:29,229 : INFO : PROGRESS: at sentence #30000, processed 646433 words and 326393 word types\n",
      "2022-04-27 14:48:29,366 : INFO : PROGRESS: at sentence #40000, processed 861595 words and 409470 word types\n",
      "2022-04-27 14:48:29,503 : INFO : PROGRESS: at sentence #50000, processed 1078638 words and 488069 word types\n",
      "2022-04-27 14:48:29,644 : INFO : PROGRESS: at sentence #60000, processed 1296403 words and 562547 word types\n",
      "2022-04-27 14:48:29,786 : INFO : PROGRESS: at sentence #70000, processed 1510922 words and 633794 word types\n",
      "2022-04-27 14:48:29,934 : INFO : PROGRESS: at sentence #80000, processed 1726009 words and 701947 word types\n",
      "2022-04-27 14:48:30,075 : INFO : PROGRESS: at sentence #90000, processed 1944274 words and 768840 word types\n",
      "2022-04-27 14:48:30,219 : INFO : collected 834137 token types (unigram + bigrams) from a corpus of 2159766 words and 100000 sentences\n",
      "2022-04-27 14:48:30,219 : INFO : merged Phrases<834137 vocab, min_count=25, threshold=10.0, max_vocab_size=40000000>\n",
      "2022-04-27 14:48:30,220 : INFO : Phrases lifecycle event {'msg': 'built Phrases<834137 vocab, min_count=25, threshold=10.0, max_vocab_size=40000000> in 1.38s', 'datetime': '2022-04-27T14:48:30.220188', 'gensim': '4.1.2', 'python': '3.8.13 | packaged by conda-forge | (default, Mar 25 2022, 06:04:14) \\n[Clang 12.0.1 ]', 'platform': 'macOS-12.3.1-arm64-arm-64bit', 'event': 'created'}\n"
     ]
    }
   ],
   "source": [
    "sent = [row.split() for row in data['cleaned']]\n",
    "phrases = Phrases(sent, min_count=25, progress_per=10000)\n",
    "\n"
   ]
  },
  {
   "cell_type": "code",
   "execution_count": 127,
   "metadata": {
    "colab": {
     "base_uri": "https://localhost:8080/"
    },
    "executionInfo": {
     "elapsed": 12625,
     "status": "ok",
     "timestamp": 1634723702322,
     "user": {
      "displayName": "Justin REZÉ",
      "photoUrl": "https://lh3.googleusercontent.com/a/default-user=s64",
      "userId": "06986230582124478062"
     },
     "user_tz": -120
    },
    "id": "ESleNDZ4jbcw",
    "outputId": "7df7dfc2-7b83-4ebf-9d86-6915dde83f45"
   },
   "outputs": [
    {
     "name": "stderr",
     "output_type": "stream",
     "text": [
      "2022-04-27 14:48:30,234 : INFO : exporting phrases from Phrases<834137 vocab, min_count=25, threshold=10.0, max_vocab_size=40000000>\n",
      "2022-04-27 14:48:31,032 : INFO : FrozenPhrases lifecycle event {'msg': 'exported FrozenPhrases<2712 phrases, min_count=25, threshold=10.0> from Phrases<834137 vocab, min_count=25, threshold=10.0, max_vocab_size=40000000> in 0.80s', 'datetime': '2022-04-27T14:48:31.032490', 'gensim': '4.1.2', 'python': '3.8.13 | packaged by conda-forge | (default, Mar 25 2022, 06:04:14) \\n[Clang 12.0.1 ]', 'platform': 'macOS-12.3.1-arm64-arm-64bit', 'event': 'created'}\n"
     ]
    }
   ],
   "source": [
    "bigram = Phraser(phrases)\n",
    "sentences = bigram[sent]\n"
   ]
  },
  {
   "cell_type": "code",
   "execution_count": 128,
   "metadata": {
    "colab": {
     "base_uri": "https://localhost:8080/"
    },
    "executionInfo": {
     "elapsed": 9117,
     "status": "ok",
     "timestamp": 1634723714593,
     "user": {
      "displayName": "Justin REZÉ",
      "photoUrl": "https://lh3.googleusercontent.com/a/default-user=s64",
      "userId": "06986230582124478062"
     },
     "user_tz": -120
    },
    "id": "h-yk6ny0io4O",
    "outputId": "09136441-9bd3-47fa-9a0e-874ead9c2d9a"
   },
   "outputs": [
    {
     "name": "stderr",
     "output_type": "stream",
     "text": [
      "2022-04-27 14:48:31,054 : INFO : Word2Vec lifecycle event {'params': 'Word2Vec(vocab=0, vector_size=300, alpha=0.03)', 'datetime': '2022-04-27T14:48:31.054743', 'gensim': '4.1.2', 'python': '3.8.13 | packaged by conda-forge | (default, Mar 25 2022, 06:04:14) \\n[Clang 12.0.1 ]', 'platform': 'macOS-12.3.1-arm64-arm-64bit', 'event': 'created'}\n",
      "2022-04-27 14:48:31,055 : INFO : collecting all words and their counts\n",
      "2022-04-27 14:48:31,055 : INFO : PROGRESS: at sentence #0, processed 0 words, keeping 0 word types\n",
      "2022-04-27 14:48:31,164 : INFO : PROGRESS: at sentence #10000, processed 183633 words, keeping 27527 word types\n",
      "2022-04-27 14:48:31,269 : INFO : PROGRESS: at sentence #20000, processed 365354 words, keeping 41368 word types\n",
      "2022-04-27 14:48:31,376 : INFO : PROGRESS: at sentence #30000, processed 547841 words, keeping 52754 word types\n",
      "2022-04-27 14:48:31,482 : INFO : PROGRESS: at sentence #40000, processed 730575 words, keeping 62879 word types\n",
      "2022-04-27 14:48:31,592 : INFO : PROGRESS: at sentence #50000, processed 914527 words, keeping 71948 word types\n",
      "2022-04-27 14:48:31,703 : INFO : PROGRESS: at sentence #60000, processed 1099169 words, keeping 80435 word types\n",
      "2022-04-27 14:48:31,809 : INFO : PROGRESS: at sentence #70000, processed 1281202 words, keeping 88656 word types\n",
      "2022-04-27 14:48:31,917 : INFO : PROGRESS: at sentence #80000, processed 1463430 words, keeping 96355 word types\n",
      "2022-04-27 14:48:32,025 : INFO : PROGRESS: at sentence #90000, processed 1648849 words, keeping 103438 word types\n",
      "2022-04-27 14:48:32,138 : INFO : collected 110374 word types from a corpus of 1831808 raw words and 100000 sentences\n",
      "2022-04-27 14:48:32,139 : INFO : Creating a fresh vocabulary\n",
      "2022-04-27 14:48:32,174 : INFO : Word2Vec lifecycle event {'msg': 'effective_min_count=25 retains 8012 unique words (7.25895591353036%% of original 110374, drops 102362)', 'datetime': '2022-04-27T14:48:32.174526', 'gensim': '4.1.2', 'python': '3.8.13 | packaged by conda-forge | (default, Mar 25 2022, 06:04:14) \\n[Clang 12.0.1 ]', 'platform': 'macOS-12.3.1-arm64-arm-64bit', 'event': 'prepare_vocab'}\n",
      "2022-04-27 14:48:32,174 : INFO : Word2Vec lifecycle event {'msg': 'effective_min_count=25 leaves 1566163 word corpus (85.49820723569282%% of original 1831808, drops 265645)', 'datetime': '2022-04-27T14:48:32.174986', 'gensim': '4.1.2', 'python': '3.8.13 | packaged by conda-forge | (default, Mar 25 2022, 06:04:14) \\n[Clang 12.0.1 ]', 'platform': 'macOS-12.3.1-arm64-arm-64bit', 'event': 'prepare_vocab'}\n",
      "2022-04-27 14:48:32,194 : INFO : deleting the raw counts dictionary of 110374 items\n",
      "2022-04-27 14:48:32,195 : INFO : sample=6e-05 downsamples 957 most-common words\n",
      "2022-04-27 14:48:32,195 : INFO : Word2Vec lifecycle event {'msg': 'downsampling leaves estimated 841368.4168454427 word corpus (53.7%% of prior 1566163)', 'datetime': '2022-04-27T14:48:32.195915', 'gensim': '4.1.2', 'python': '3.8.13 | packaged by conda-forge | (default, Mar 25 2022, 06:04:14) \\n[Clang 12.0.1 ]', 'platform': 'macOS-12.3.1-arm64-arm-64bit', 'event': 'prepare_vocab'}\n",
      "2022-04-27 14:48:32,228 : INFO : estimated required memory for 8012 words and 300 dimensions: 23234800 bytes\n",
      "2022-04-27 14:48:32,228 : INFO : resetting layer weights\n",
      "2022-04-27 14:48:32,236 : INFO : Word2Vec lifecycle event {'update': False, 'trim_rule': 'None', 'datetime': '2022-04-27T14:48:32.236395', 'gensim': '4.1.2', 'python': '3.8.13 | packaged by conda-forge | (default, Mar 25 2022, 06:04:14) \\n[Clang 12.0.1 ]', 'platform': 'macOS-12.3.1-arm64-arm-64bit', 'event': 'build_vocab'}\n"
     ]
    }
   ],
   "source": [
    "w2v_model = Word2Vec(min_count=25,\n",
    "                     window=5,\n",
    "                     vector_size=300,\n",
    "                     sample=6e-5, \n",
    "                     alpha=0.03, \n",
    "                     min_alpha=0.0007, \n",
    "                     negative=20,\n",
    "                     workers=2)\n",
    "w2v_model.build_vocab(sentences, progress_per=10000)\n"
   ]
  },
  {
   "cell_type": "code",
   "execution_count": 129,
   "metadata": {
    "colab": {
     "base_uri": "https://localhost:8080/"
    },
    "executionInfo": {
     "elapsed": 142847,
     "status": "ok",
     "timestamp": 1634723867679,
     "user": {
      "displayName": "Justin REZÉ",
      "photoUrl": "https://lh3.googleusercontent.com/a/default-user=s64",
      "userId": "06986230582124478062"
     },
     "user_tz": -120
    },
    "id": "GLvluyDdipGe",
    "outputId": "7a9259f1-9e07-4277-cb90-72fc3b4cbf59"
   },
   "outputs": [
    {
     "name": "stderr",
     "output_type": "stream",
     "text": [
      "2022-04-27 14:48:32,239 : INFO : Word2Vec lifecycle event {'msg': 'training model with 2 workers on 8012 vocabulary and 300 features, using sg=0 hs=0 sample=6e-05 negative=20 window=5 shrink_windows=True', 'datetime': '2022-04-27T14:48:32.239338', 'gensim': '4.1.2', 'python': '3.8.13 | packaged by conda-forge | (default, Mar 25 2022, 06:04:14) \\n[Clang 12.0.1 ]', 'platform': 'macOS-12.3.1-arm64-arm-64bit', 'event': 'train'}\n",
      "2022-04-27 14:48:33,259 : INFO : EPOCH 1 - PROGRESS: at 41.57% examples, 343704 words/s, in_qsize 3, out_qsize 0\n",
      "2022-04-27 14:48:34,267 : INFO : EPOCH 1 - PROGRESS: at 83.47% examples, 347240 words/s, in_qsize 3, out_qsize 0\n",
      "2022-04-27 14:48:34,658 : INFO : worker thread finished; awaiting finish of 1 more threads\n",
      "2022-04-27 14:48:34,662 : INFO : worker thread finished; awaiting finish of 0 more threads\n",
      "2022-04-27 14:48:34,662 : INFO : EPOCH - 1 : training on 1831808 raw words (840876 effective words) took 2.4s, 348016 effective words/s\n",
      "2022-04-27 14:48:35,674 : INFO : EPOCH 2 - PROGRESS: at 42.12% examples, 351447 words/s, in_qsize 3, out_qsize 0\n",
      "2022-04-27 14:48:36,695 : INFO : EPOCH 2 - PROGRESS: at 85.64% examples, 355448 words/s, in_qsize 4, out_qsize 0\n",
      "2022-04-27 14:48:37,032 : INFO : worker thread finished; awaiting finish of 1 more threads\n",
      "2022-04-27 14:48:37,040 : INFO : worker thread finished; awaiting finish of 0 more threads\n",
      "2022-04-27 14:48:37,041 : INFO : EPOCH - 2 : training on 1831808 raw words (840908 effective words) took 2.4s, 354601 effective words/s\n",
      "2022-04-27 14:48:38,051 : INFO : EPOCH 3 - PROGRESS: at 38.82% examples, 325372 words/s, in_qsize 3, out_qsize 0\n",
      "2022-04-27 14:48:39,058 : INFO : EPOCH 3 - PROGRESS: at 79.17% examples, 331175 words/s, in_qsize 3, out_qsize 0\n",
      "2022-04-27 14:48:39,559 : INFO : worker thread finished; awaiting finish of 1 more threads\n",
      "2022-04-27 14:48:39,561 : INFO : worker thread finished; awaiting finish of 0 more threads\n",
      "2022-04-27 14:48:39,561 : INFO : EPOCH - 3 : training on 1831808 raw words (841586 effective words) took 2.5s, 334928 effective words/s\n",
      "2022-04-27 14:48:40,571 : INFO : EPOCH 4 - PROGRESS: at 41.57% examples, 348353 words/s, in_qsize 4, out_qsize 0\n",
      "2022-04-27 14:48:41,581 : INFO : EPOCH 4 - PROGRESS: at 87.81% examples, 367374 words/s, in_qsize 3, out_qsize 0\n",
      "2022-04-27 14:48:41,837 : INFO : worker thread finished; awaiting finish of 1 more threads\n",
      "2022-04-27 14:48:41,844 : INFO : worker thread finished; awaiting finish of 0 more threads\n",
      "2022-04-27 14:48:41,845 : INFO : EPOCH - 4 : training on 1831808 raw words (841589 effective words) took 2.3s, 369888 effective words/s\n",
      "2022-04-27 14:48:42,865 : INFO : EPOCH 5 - PROGRESS: at 41.02% examples, 339365 words/s, in_qsize 3, out_qsize 0\n",
      "2022-04-27 14:48:43,873 : INFO : EPOCH 5 - PROGRESS: at 84.57% examples, 352020 words/s, in_qsize 4, out_qsize 0\n",
      "2022-04-27 14:48:44,179 : INFO : worker thread finished; awaiting finish of 1 more threads\n",
      "2022-04-27 14:48:44,182 : INFO : worker thread finished; awaiting finish of 0 more threads\n",
      "2022-04-27 14:48:44,182 : INFO : EPOCH - 5 : training on 1831808 raw words (841622 effective words) took 2.3s, 361031 effective words/s\n",
      "2022-04-27 14:48:45,215 : INFO : EPOCH 6 - PROGRESS: at 45.31% examples, 379395 words/s, in_qsize 4, out_qsize 0\n",
      "2022-04-27 14:48:46,217 : INFO : EPOCH 6 - PROGRESS: at 90.50% examples, 379802 words/s, in_qsize 3, out_qsize 0\n",
      "2022-04-27 14:48:46,433 : INFO : worker thread finished; awaiting finish of 1 more threads\n",
      "2022-04-27 14:48:46,438 : INFO : worker thread finished; awaiting finish of 0 more threads\n",
      "2022-04-27 14:48:46,439 : INFO : EPOCH - 6 : training on 1831808 raw words (842236 effective words) took 2.2s, 377792 effective words/s\n",
      "2022-04-27 14:48:47,456 : INFO : EPOCH 7 - PROGRESS: at 43.73% examples, 363570 words/s, in_qsize 3, out_qsize 0\n",
      "2022-04-27 14:48:48,460 : INFO : EPOCH 7 - PROGRESS: at 89.97% examples, 375863 words/s, in_qsize 4, out_qsize 0\n",
      "2022-04-27 14:48:48,658 : INFO : worker thread finished; awaiting finish of 1 more threads\n",
      "2022-04-27 14:48:48,661 : INFO : worker thread finished; awaiting finish of 0 more threads\n",
      "2022-04-27 14:48:48,661 : INFO : EPOCH - 7 : training on 1831808 raw words (841598 effective words) took 2.2s, 379820 effective words/s\n",
      "2022-04-27 14:48:49,675 : INFO : EPOCH 8 - PROGRESS: at 45.31% examples, 378152 words/s, in_qsize 4, out_qsize 0\n",
      "2022-04-27 14:48:50,677 : INFO : EPOCH 8 - PROGRESS: at 92.15% examples, 385945 words/s, in_qsize 4, out_qsize 0\n",
      "2022-04-27 14:48:50,822 : INFO : worker thread finished; awaiting finish of 1 more threads\n",
      "2022-04-27 14:48:50,823 : INFO : worker thread finished; awaiting finish of 0 more threads\n",
      "2022-04-27 14:48:50,824 : INFO : EPOCH - 8 : training on 1831808 raw words (841127 effective words) took 2.2s, 390166 effective words/s\n",
      "2022-04-27 14:48:51,834 : INFO : EPOCH 9 - PROGRESS: at 45.31% examples, 380218 words/s, in_qsize 4, out_qsize 0\n",
      "2022-04-27 14:48:52,849 : INFO : EPOCH 9 - PROGRESS: at 92.15% examples, 384574 words/s, in_qsize 4, out_qsize 0\n",
      "2022-04-27 14:48:52,994 : INFO : worker thread finished; awaiting finish of 1 more threads\n",
      "2022-04-27 14:48:53,002 : INFO : worker thread finished; awaiting finish of 0 more threads\n",
      "2022-04-27 14:48:53,002 : INFO : EPOCH - 9 : training on 1831808 raw words (841474 effective words) took 2.2s, 387733 effective words/s\n",
      "2022-04-27 14:48:54,015 : INFO : EPOCH 10 - PROGRESS: at 45.86% examples, 384044 words/s, in_qsize 3, out_qsize 0\n",
      "2022-04-27 14:48:55,015 : INFO : EPOCH 10 - PROGRESS: at 92.15% examples, 386761 words/s, in_qsize 3, out_qsize 0\n",
      "2022-04-27 14:48:55,166 : INFO : worker thread finished; awaiting finish of 1 more threads\n",
      "2022-04-27 14:48:55,171 : INFO : worker thread finished; awaiting finish of 0 more threads\n",
      "2022-04-27 14:48:55,171 : INFO : EPOCH - 10 : training on 1831808 raw words (841403 effective words) took 2.2s, 389331 effective words/s\n",
      "2022-04-27 14:48:55,171 : INFO : Word2Vec lifecycle event {'msg': 'training on 18318080 raw words (8414419 effective words) took 22.9s, 366932 effective words/s', 'datetime': '2022-04-27T14:48:55.171697', 'gensim': '4.1.2', 'python': '3.8.13 | packaged by conda-forge | (default, Mar 25 2022, 06:04:14) \\n[Clang 12.0.1 ]', 'platform': 'macOS-12.3.1-arm64-arm-64bit', 'event': 'train'}\n"
     ]
    },
    {
     "data": {
      "text/plain": [
       "(8414419, 18318080)"
      ]
     },
     "execution_count": 129,
     "metadata": {},
     "output_type": "execute_result"
    }
   ],
   "source": [
    "\n",
    "w2v_model.train(sentences, total_examples=w2v_model.corpus_count,  epochs=10, report_delay=1)\n",
    "\n"
   ]
  },
  {
   "cell_type": "markdown",
   "metadata": {
    "id": "EzGSqRg4JWjN"
   },
   "source": [
    "# Test the resulting embedding\n",
    "\n",
    "the method *similarity* allows to measure the cosine between two word vectors.\n",
    "\n",
    "The method *most_similar* lists the 10 closest words to a given target word, it also allows to play the \"analogy game\""
   ]
  },
  {
   "cell_type": "code",
   "execution_count": 130,
   "metadata": {},
   "outputs": [
    {
     "data": {
      "text/plain": [
       "['pesticide',\n",
       " 'glyphosate',\n",
       " 'd',\n",
       " 'com',\n",
       " 'l',\n",
       " 'https_twitter',\n",
       " 'http',\n",
       " 's',\n",
       " 'https_www',\n",
       " 'fr',\n",
       " 'c',\n",
       " 'statu_photo',\n",
       " 'm',\n",
       " 'html',\n",
       " 'e',\n",
       " 'https',\n",
       " 't',\n",
       " 'france',\n",
       " 'glyphosat',\n",
       " 'abeille',\n",
       " 'r',\n",
       " 'bio',\n",
       " 'insecticide',\n",
       " 'ly',\n",
       " 'contre',\n",
       " 'interdire',\n",
       " 'monsanto',\n",
       " 'n_onicotino',\n",
       " 'http_bit',\n",
       " 'non',\n",
       " 'interdiction',\n",
       " 'www',\n",
       " 'n',\n",
       " 'status_photo',\n",
       " 'agriculture',\n",
       " 'roundup',\n",
       " 'status',\n",
       " 'bien',\n",
       " 'faire',\n",
       " 'agriculteur',\n",
       " 'article',\n",
       " 'sant',\n",
       " 'an',\n",
       " \"l_'\",\n",
       " 'herbicide',\n",
       " 'pr',\n",
       " 'produit',\n",
       " 'falloir',\n",
       " 'environnement',\n",
       " 'europe',\n",
       " 'ogm',\n",
       " \"'\",\n",
       " 'http_fb',\n",
       " 'j',\n",
       " 'vouloir',\n",
       " 'p',\n",
       " 'org',\n",
       " 'statu',\n",
       " 'bon',\n",
       " 'twitter',\n",
       " 'monde',\n",
       " 're',\n",
       " 'cancer',\n",
       " 'neonicotinoide',\n",
       " 'utilisation',\n",
       " 'gouvernement',\n",
       " 'eau',\n",
       " 'nouveau',\n",
       " 'heure',\n",
       " 'b',\n",
       " 'qu',\n",
       " 'lemonde_fr',\n",
       " 'voir',\n",
       " 'anti',\n",
       " 'f',\n",
       " 'tr_s',\n",
       " 'pouvoir',\n",
       " 'apr_s',\n",
       " 'interdir',\n",
       " 'utm_medium',\n",
       " 'politique',\n",
       " 'oui',\n",
       " 'it',\n",
       " 'chlord_cone',\n",
       " 'usage',\n",
       " 'www_lemonde',\n",
       " 'savoir',\n",
       " 'php',\n",
       " 'mettre',\n",
       " 'utm_source',\n",
       " 'tude',\n",
       " 'passer',\n",
       " 'tre',\n",
       " 'ue',\n",
       " 'dangereux',\n",
       " 'rien',\n",
       " 'v',\n",
       " 'scientifique',\n",
       " 'risque',\n",
       " 'francetvinfo_fr',\n",
       " 'sol',\n",
       " 'toxique',\n",
       " 'science',\n",
       " 'tr',\n",
       " 'lobby',\n",
       " 'culture',\n",
       " 'info',\n",
       " 'franceinfo',\n",
       " 'fr_planet',\n",
       " 'glypho',\n",
       " 'utiliser',\n",
       " 'fran_ai',\n",
       " 'grand',\n",
       " 'p_tition',\n",
       " 'macron',\n",
       " 'cause',\n",
       " 'prendre',\n",
       " 'bayer',\n",
       " 'phyto',\n",
       " 'jour',\n",
       " 'loi',\n",
       " 'aucun',\n",
       " 'rapport',\n",
       " 'emmanuelmacron',\n",
       " 'lemondefr',\n",
       " 'venir',\n",
       " 'pollution',\n",
       " 'http_dlvr',\n",
       " 'tueur',\n",
       " 'planet_article',\n",
       " 'question',\n",
       " 'biodiversit',\n",
       " 'plan',\n",
       " 'terre',\n",
       " 'avoir',\n",
       " 'taire',\n",
       " 'danger',\n",
       " 'emma_ducro',\n",
       " 'alternative',\n",
       " 'justice',\n",
       " 'agricole',\n",
       " 'petit',\n",
       " 'lire',\n",
       " 'http_sumof',\n",
       " 'arr_t',\n",
       " 'enfant',\n",
       " 'fois',\n",
       " 'naturel',\n",
       " 'd_sherber',\n",
       " 'fongicide',\n",
       " 'temps',\n",
       " 'devoir',\n",
       " 'fnsea',\n",
       " 'trop',\n",
       " 'sante',\n",
       " 'd_put',\n",
       " 'gramme',\n",
       " 'tueur_abeille',\n",
       " 'utm_campaign',\n",
       " 'dire',\n",
       " 'fin',\n",
       " 'gramme_n',\n",
       " 'sujet',\n",
       " 'champ',\n",
       " 'pays',\n",
       " 'solution',\n",
       " 'victime',\n",
       " 'sortir',\n",
       " 'ici',\n",
       " 'probl',\n",
       " 'action',\n",
       " 'produit_phytosanitaire',\n",
       " 'canc_rig',\n",
       " 'cas',\n",
       " 'maire',\n",
       " 'insecte',\n",
       " 'alimentation',\n",
       " 'be',\n",
       " 'chlordecone',\n",
       " 'new',\n",
       " 'mesopinion_com',\n",
       " 'vin',\n",
       " 'être',\n",
       " 'mieux',\n",
       " 'ministre',\n",
       " 'n_hulot',\n",
       " 'vie',\n",
       " 'r_sidu',\n",
       " 'vote',\n",
       " 'ca',\n",
       " 'co',\n",
       " 'us_t',\n",
       " 'genefuture',\n",
       " 'chimique',\n",
       " 'coquelicot',\n",
       " 'utilis',\n",
       " 'aliment',\n",
       " 'lien',\n",
       " 'html_xtor',\n",
       " 'tition',\n",
       " 'impact',\n",
       " 'synth',\n",
       " 'poison',\n",
       " 'nature',\n",
       " 'photo',\n",
       " 'agricultur',\n",
       " 'vente',\n",
       " 'produire',\n",
       " 'campagne',\n",
       " 'effet',\n",
       " 'public',\n",
       " 'autorisation',\n",
       " 'd_fendre',\n",
       " 'point',\n",
       " 'mort',\n",
       " 'petition',\n",
       " 'air',\n",
       " 'cologie',\n",
       " 'contenir',\n",
       " 'video',\n",
       " 'agir',\n",
       " 'manger',\n",
       " 'urine',\n",
       " 'enn',\n",
       " 'source_twitter',\n",
       " 'social_utm',\n",
       " 'etat',\n",
       " 'html_lemondefr',\n",
       " 'appel',\n",
       " 'vraiment',\n",
       " 'prot_ger',\n",
       " 'pari',\n",
       " 'jardin',\n",
       " 'in',\n",
       " 'plante',\n",
       " 'phytosanitaire',\n",
       " 'environnemer',\n",
       " 'beaucoup',\n",
       " 'pandage',\n",
       " 'population',\n",
       " 'roundup_monsanto',\n",
       " 'exposition',\n",
       " 'mal',\n",
       " 'face',\n",
       " 'croire',\n",
       " 'demande',\n",
       " 'coup',\n",
       " 'sauver_abeille',\n",
       " 'rt',\n",
       " 'trace',\n",
       " 'http_ow',\n",
       " 'chose',\n",
       " 'ch',\n",
       " 'youtube',\n",
       " 'homme',\n",
       " 'maladie',\n",
       " 'perturbateur_endocrinien',\n",
       " 'signer_p',\n",
       " 'x',\n",
       " 'exemple',\n",
       " 'lt',\n",
       " 'monde_environnement',\n",
       " 'fruit_l',\n",
       " 'raison',\n",
       " 'marche',\n",
       " 'citoyen',\n",
       " 'recherche',\n",
       " 'commission',\n",
       " 'u',\n",
       " 'animal',\n",
       " 'aller',\n",
       " 'accord',\n",
       " 'jamais',\n",
       " 'comprendre',\n",
       " 'nucl_air',\n",
       " 'ecologie',\n",
       " 'alerte',\n",
       " 'bfmtv',\n",
       " 'travail',\n",
       " 'tt',\n",
       " 'vendre',\n",
       " 'status_video',\n",
       " 'franceinter',\n",
       " 'protection',\n",
       " 'd_shpg',\n",
       " 'lrem',\n",
       " 'id',\n",
       " 'http_sco',\n",
       " 'utilise',\n",
       " 'million',\n",
       " 'attendre',\n",
       " 'remplacer',\n",
       " 'tat',\n",
       " 'avaaz_org',\n",
       " 'dose',\n",
       " 'produit_chimique',\n",
       " 'actu',\n",
       " 'ne',\n",
       " 'national',\n",
       " 'canc_rog',\n",
       " 'barbarapompili',\n",
       " 'd_cision',\n",
       " 'ann',\n",
       " 'test',\n",
       " 'demander',\n",
       " 'traitement',\n",
       " 'k',\n",
       " 'minute',\n",
       " 'vrai',\n",
       " 'proc_s',\n",
       " 'https_secure',\n",
       " 'bretagne',\n",
       " 'autour',\n",
       " 'to',\n",
       " 'part',\n",
       " 'assembl_e',\n",
       " 'z_ro',\n",
       " \"aujourd'hui\",\n",
       " 'cs_twitter',\n",
       " 'gume',\n",
       " 'arr_ter',\n",
       " 'vigne',\n",
       " 'cher',\n",
       " 'ville',\n",
       " 'plein',\n",
       " 'gros',\n",
       " 'permettre',\n",
       " 'humain',\n",
       " 'faux',\n",
       " 'commune',\n",
       " 'li',\n",
       " 'actualit',\n",
       " 'shar',\n",
       " 'http_ift',\n",
       " 'avis',\n",
       " 'production',\n",
       " 'industriel',\n",
       " 'envoyespecial',\n",
       " 'consommateur',\n",
       " 'enqu',\n",
       " 'sanitaire',\n",
       " 'semaine',\n",
       " 'premi_re',\n",
       " 'preuve',\n",
       " 'cr',\n",
       " 'betterave',\n",
       " 'devenir',\n",
       " 'besoin',\n",
       " 'responsable',\n",
       " 'association',\n",
       " 'boire',\n",
       " 'conseil',\n",
       " 'bit_ly',\n",
       " 'etat_unir',\n",
       " 'r_duir',\n",
       " 'https_youtu',\n",
       " 'utilis_s',\n",
       " 'z',\n",
       " 'l_gume',\n",
       " 'empoisonn',\n",
       " 'hulot',\n",
       " 'affaire',\n",
       " 'agri',\n",
       " 'habitation',\n",
       " 'consommation',\n",
       " 'pleuvoir_t',\n",
       " 'penser',\n",
       " 'meilleur',\n",
       " 'limporter_fr',\n",
       " 'ouest_france',\n",
       " 'climat',\n",
       " 'gewoessner',\n",
       " 'ann_e',\n",
       " 'changefrance',\n",
       " 'paysan',\n",
       " 'vert',\n",
       " 'eelv',\n",
       " 'reporterre_net',\n",
       " 'droit',\n",
       " 'mois',\n",
       " 'parkinson',\n",
       " 'analyse',\n",
       " 'insecticide_tueur',\n",
       " 'st',\n",
       " 'pourtant',\n",
       " 'd_couvrir',\n",
       " 'peur',\n",
       " 'fran_aise',\n",
       " 'personne',\n",
       " 'd_rogation',\n",
       " 'antille',\n",
       " 'sdhi',\n",
       " 'fort',\n",
       " 'net',\n",
       " 'campaign',\n",
       " 'soutenir',\n",
       " 'march',\n",
       " 'base',\n",
       " 'ailleurs',\n",
       " 'connaître',\n",
       " 'pro',\n",
       " 'anse',\n",
       " 'signer',\n",
       " 'vot',\n",
       " 'groupe',\n",
       " 'efficace',\n",
       " 'dossier',\n",
       " 'vid',\n",
       " 'autori',\n",
       " 'taux',\n",
       " 'mission',\n",
       " 'toxicit',\n",
       " 'autoriser',\n",
       " 'ouestfrance',\n",
       " 'the',\n",
       " 'finir',\n",
       " 'blog',\n",
       " 'apiculteur',\n",
       " 'mesure',\n",
       " 'reconnaître',\n",
       " 'gr',\n",
       " 'bl',\n",
       " 'statu_video',\n",
       " 'r_sultat',\n",
       " 'yjadot',\n",
       " 'bruxelle',\n",
       " 'pr_f',\n",
       " 'france_region',\n",
       " 'autant',\n",
       " 'rer',\n",
       " 'source',\n",
       " 'alternatif',\n",
       " 'traire',\n",
       " 'tuer',\n",
       " 'lepoint',\n",
       " 'propos',\n",
       " 'mourir',\n",
       " 'appeler',\n",
       " 'com_limportant',\n",
       " 'planet',\n",
       " 'er',\n",
       " 'suisse',\n",
       " 'pire',\n",
       " 'actualite',\n",
       " 'r_duction',\n",
       " 'information',\n",
       " 'producteur',\n",
       " 'zone',\n",
       " 'pratique',\n",
       " 'partir',\n",
       " 'industrie',\n",
       " 'substance',\n",
       " 'matin',\n",
       " 'dguillaume',\n",
       " 'news',\n",
       " 'http_goo',\n",
       " 'lieu',\n",
       " 'agritof',\n",
       " 'donn',\n",
       " 'w',\n",
       " 'bannir',\n",
       " 'vite',\n",
       " 'entendre',\n",
       " 'int_r',\n",
       " 'suite',\n",
       " 'voter',\n",
       " 'facebook_com',\n",
       " 'petition_nature',\n",
       " 'alimentaire',\n",
       " 'voil',\n",
       " 'important',\n",
       " 'trouve',\n",
       " 'social',\n",
       " 'perdre',\n",
       " 'histoire',\n",
       " 'changer',\n",
       " 'ds',\n",
       " 'vaccin',\n",
       " 'brunepoirson',\n",
       " 'q',\n",
       " 'articl',\n",
       " 'scandale',\n",
       " 'scoopit_http',\n",
       " 'r_ponse',\n",
       " 'chercheur',\n",
       " 'post',\n",
       " 'oiseau',\n",
       " 'compte',\n",
       " 'position',\n",
       " 'demain',\n",
       " 'fb',\n",
       " 'carte',\n",
       " 'projet',\n",
       " 'niveau',\n",
       " 'commission_europ',\n",
       " 'nocif',\n",
       " 'libe',\n",
       " 'is',\n",
       " 'prix',\n",
       " 'continuer',\n",
       " 'greenpeace',\n",
       " \"'_taire\",\n",
       " 'reporterre',\n",
       " 'objectif',\n",
       " 'ral',\n",
       " 'syst',\n",
       " 'g',\n",
       " 'dangerosit',\n",
       " 'mauvais',\n",
       " 'europ_enn',\n",
       " 'parisien',\n",
       " 'revenir',\n",
       " 'soir',\n",
       " 'pr_sence',\n",
       " 'journaliste',\n",
       " 'qualit',\n",
       " 'partie',\n",
       " 'of',\n",
       " 'miel',\n",
       " 'main',\n",
       " 'moment',\n",
       " 'parlementaire',\n",
       " 'referring_akid',\n",
       " 'union_europ',\n",
       " 'argument',\n",
       " 'agence',\n",
       " 'anse_fr',\n",
       " 'mentir',\n",
       " 'bordeaux',\n",
       " 'soutien',\n",
       " 'cologiqu',\n",
       " 'ong',\n",
       " 'liste',\n",
       " 'partout',\n",
       " 'etude',\n",
       " 'donner',\n",
       " 'doute',\n",
       " 'viter',\n",
       " 'trouver',\n",
       " 'ferme',\n",
       " 'eau_robinet',\n",
       " 'pomme',\n",
       " 'societ',\n",
       " 'autoris',\n",
       " 'nouvelob_com',\n",
       " 'th',\n",
       " 'guerre',\n",
       " 'ac',\n",
       " 'moustique',\n",
       " 'cuivre',\n",
       " 'economie_emploi',\n",
       " 'chiffre',\n",
       " 'maison',\n",
       " 'direct',\n",
       " 'pesticide_officiellement',\n",
       " 'inrer',\n",
       " 'dr',\n",
       " 'r_duire',\n",
       " 'malade',\n",
       " 'local',\n",
       " 'combat',\n",
       " 'majorit',\n",
       " 'maclesggy',\n",
       " 'cours',\n",
       " 'bel',\n",
       " 'ser',\n",
       " 'montrer',\n",
       " 'fruit',\n",
       " 'grave',\n",
       " 'existe',\n",
       " 'place',\n",
       " 'biologique',\n",
       " 'm_thode',\n",
       " 'retrouver',\n",
       " 'viande',\n",
       " 'efsa',\n",
       " 'amendement',\n",
       " 'sco_lt',\n",
       " 'journal',\n",
       " 'fait',\n",
       " 'canada',\n",
       " 'sttravert',\n",
       " 'referrer_id',\n",
       " 'pr_sident',\n",
       " 'tribunal',\n",
       " 'vivre',\n",
       " 'lopinion_fr',\n",
       " 'acheter',\n",
       " 'attention',\n",
       " 'http_tinyurl',\n",
       " 'juge',\n",
       " 's_curit',\n",
       " 'dernier',\n",
       " 'and',\n",
       " 'canader_ca',\n",
       " 'servir',\n",
       " 'fr_actualiter',\n",
       " 'm_dicament',\n",
       " 'engrai',\n",
       " 'quantit',\n",
       " 'contiennent',\n",
       " 'moyen',\n",
       " 'site',\n",
       " 'particulier',\n",
       " 'continue',\n",
       " 'sauver',\n",
       " 'entreprise',\n",
       " 'moreaujb',\n",
       " 'fa',\n",
       " 'actu_environnement',\n",
       " 'royalsegolene',\n",
       " 'bier_t',\n",
       " 'ici_radio',\n",
       " 'propose',\n",
       " 'riverain',\n",
       " 'avenir',\n",
       " 'r_autorisation',\n",
       " 'choix',\n",
       " 'genre',\n",
       " 'assiette',\n",
       " 'ift_tt',\n",
       " 'mot',\n",
       " 'record',\n",
       " 'v_gramme',\n",
       " 'merde',\n",
       " 'gl',\n",
       " 'www_lefigaro',\n",
       " 'apenvironnement',\n",
       " 'economie',\n",
       " 'environnemental',\n",
       " 'afp',\n",
       " 'trouv',\n",
       " 'tonne',\n",
       " 'plastique',\n",
       " 'sortie_glyphosate',\n",
       " 'emmanuel_macron',\n",
       " 'oublier',\n",
       " 'generation_futur',\n",
       " 'simple',\n",
       " 'nourrir',\n",
       " 'presse',\n",
       " 'mol_cule',\n",
       " 'technique',\n",
       " 'soci_t',\n",
       " 'bravo',\n",
       " 'lutte_contre',\n",
       " 'rappeler',\n",
       " 'conventionnel',\n",
       " 'long',\n",
       " 'total',\n",
       " 'nom',\n",
       " 'truc',\n",
       " 'que',\n",
       " 'r_colte',\n",
       " 'labour',\n",
       " 'minute_fr',\n",
       " 'confirme',\n",
       " 'mondial',\n",
       " 'contamin',\n",
       " 'engagement',\n",
       " 'ceta',\n",
       " 'eliselucet',\n",
       " 'cc',\n",
       " 'www_francetvinfo',\n",
       " 'gouvernementfr',\n",
       " \"'_tre\",\n",
       " 'sucre',\n",
       " 'contamin_s',\n",
       " 'choisir',\n",
       " 'lemonde',\n",
       " 'rappel',\n",
       " 'con',\n",
       " 've',\n",
       " 'nicolas_hulot',\n",
       " 'sncf',\n",
       " 'lutter_contre',\n",
       " 'baisse',\n",
       " 'autori_s',\n",
       " 'cole',\n",
       " 'france_tv',\n",
       " 'donne',\n",
       " 'rendement',\n",
       " 'fr_actualit',\n",
       " 'vouloir_coquelicot',\n",
       " 'international',\n",
       " 'expliquer',\n",
       " 'commencer',\n",
       " 'semence',\n",
       " 'type',\n",
       " 'climatique',\n",
       " 'reportage',\n",
       " 'principe_pr',\n",
       " 'twitter_com',\n",
       " 'europ',\n",
       " 'r_gion',\n",
       " 'change',\n",
       " 'fabricant',\n",
       " 'martiniqu',\n",
       " 'but',\n",
       " 'recours',\n",
       " 'circ',\n",
       " 'malgr',\n",
       " 'covid',\n",
       " 'territoire',\n",
       " 'tweet',\n",
       " 'limite',\n",
       " 'http_chng',\n",
       " 'prochain',\n",
       " 'https_buff',\n",
       " 'sant_environnement',\n",
       " 'fbclid_iwar',\n",
       " 'nombre',\n",
       " 'sciencesetavenir_fr',\n",
       " 'u_t',\n",
       " 'sfoucart',\n",
       " 'ts',\n",
       " 'refuse',\n",
       " 'contr',\n",
       " 'fderugy',\n",
       " 'emploi',\n",
       " 'parler',\n",
       " 'chimie',\n",
       " 'jean',\n",
       " 'monsanto_paper',\n",
       " 'loin',\n",
       " 'initiative',\n",
       " 'pesticider',\n",
       " 'cocktail',\n",
       " 'autorise',\n",
       " 'qu_bec',\n",
       " 'taient',\n",
       " 'lien_maladie',\n",
       " 'oms',\n",
       " 'res',\n",
       " 'retrouve',\n",
       " 'fili_re',\n",
       " 'www_liberation',\n",
       " 'esp',\n",
       " 'distance',\n",
       " 'epandage',\n",
       " 'pression',\n",
       " 'ok',\n",
       " 'greenpeacefr',\n",
       " 'limiter',\n",
       " 'aide',\n",
       " 'medium_social',\n",
       " 'engrais',\n",
       " 'ration',\n",
       " 'galement',\n",
       " 'propre',\n",
       " 'infos_planet',\n",
       " 'veillerette',\n",
       " 'intoxication',\n",
       " 'supprimer',\n",
       " 'valuation',\n",
       " 'collectif',\n",
       " 'lancer',\n",
       " 'chasse',\n",
       " 'enmarchefr',\n",
       " 'r_ale',\n",
       " 'tour',\n",
       " 'payer',\n",
       " 'refus',\n",
       " 'com_ae',\n",
       " 'figaro',\n",
       " 'europ_ens',\n",
       " 'urgence',\n",
       " 'rendre',\n",
       " 'clair',\n",
       " 'totalement',\n",
       " 'viticulteur',\n",
       " 'durable',\n",
       " 'sortie',\n",
       " 'pdf',\n",
       " 'over_blog',\n",
       " 'fr_economie',\n",
       " 'expert',\n",
       " 'vivant',\n",
       " 'tv',\n",
       " 'francai',\n",
       " 'com_watch',\n",
       " 'super',\n",
       " 'mars',\n",
       " 'amp',\n",
       " 'afpfr',\n",
       " 'francebleu_fr',\n",
       " 'faite',\n",
       " 'bayer_monsanto',\n",
       " 'contraire',\n",
       " 'minist_re',\n",
       " 'famille',\n",
       " 'chlambert_fnsea',\n",
       " 'aider',\n",
       " 'pr_sentir',\n",
       " 'tuent',\n",
       " 'derni_re',\n",
       " 'https_act',\n",
       " 'remdumdum',\n",
       " 'montre',\n",
       " 'fraise',\n",
       " 'am_ricain',\n",
       " 'euro',\n",
       " 'fleur',\n",
       " 'gouv',\n",
       " 'cultiv',\n",
       " 't_sumofu',\n",
       " 'sain',\n",
       " 'pollinisateur',\n",
       " 'monsanto_bayer',\n",
       " 'r_alit',\n",
       " 'voie',\n",
       " 'matadon',\n",
       " 'programme',\n",
       " 'europ_enne',\n",
       " 'lci',\n",
       " 'biodiversite',\n",
       " 'm_decin',\n",
       " 'organisme',\n",
       " 'martinique',\n",
       " 'change_org',\n",
       " 'explique',\n",
       " 'us',\n",
       " 'metiers_agricultur',\n",
       " 'disent',\n",
       " 'condition',\n",
       " 'saint',\n",
       " 'transparence',\n",
       " 'empoisonner',\n",
       " 'maladie_parkinson',\n",
       " 'rue',\n",
       " 'contamination',\n",
       " 'union',\n",
       " 'probable',\n",
       " 'echobo',\n",
       " 'r_sister',\n",
       " 'royal',\n",
       " 'annonce',\n",
       " 'b_b',\n",
       " 'montr',\n",
       " 'tue',\n",
       " 'aimer',\n",
       " 'r_pondre',\n",
       " 'ruche',\n",
       " 'ben',\n",
       " 'liberation_fr',\n",
       " 'surface',\n",
       " 'juin',\n",
       " 'm_dia',\n",
       " 'lib',\n",
       " 'd_nonce',\n",
       " 'augmentation',\n",
       " 'norme',\n",
       " 'depute',\n",
       " 'consommer',\n",
       " 'id_e',\n",
       " 'eau_potable',\n",
       " 'ensemble',\n",
       " 'porte',\n",
       " 'sens',\n",
       " 'milliard',\n",
       " 'http_po',\n",
       " 'mensonge',\n",
       " 's_nat',\n",
       " 'plainte',\n",
       " 'colo',\n",
       " 'transition',\n",
       " 'jeune',\n",
       " 'sulfoxaflor_flupyradifurone',\n",
       " 'futur',\n",
       " 'mr',\n",
       " 'mer',\n",
       " 'ministre_agriculture',\n",
       " 'professionnel',\n",
       " 'mod',\n",
       " 'promesse',\n",
       " \"y'\",\n",
       " 'content',\n",
       " 'inserm',\n",
       " 'hausse',\n",
       " 'com_cyrillayroll',\n",
       " 'polluant',\n",
       " 'utm_term',\n",
       " 'produit_phyto',\n",
       " 'page',\n",
       " 'science_avenir',\n",
       " 'tabac',\n",
       " 'm_orphelin',\n",
       " 'condamn',\n",
       " 'cashinvestigation',\n",
       " 'j_denormandi',\n",
       " 'imm_diate',\n",
       " 'regarder',\n",
       " 'revoir',\n",
       " 'interdiction_total',\n",
       " 'image',\n",
       " 'fr_societ',\n",
       " 'laisse',\n",
       " 'aujourd',\n",
       " 'fond',\n",
       " 'proposition',\n",
       " 'millier',\n",
       " 'suspension',\n",
       " 'train',\n",
       " 'lcp',\n",
       " 'al',\n",
       " 'femme',\n",
       " 'pollu',\n",
       " 'www_naturopolis',\n",
       " 'nuit',\n",
       " 'ami',\n",
       " 'con_quence',\n",
       " 'couvert',\n",
       " 'arr',\n",
       " 'vent',\n",
       " 'r_sistance',\n",
       " 'refuser',\n",
       " 'journ_e',\n",
       " 'agriculture_biologique',\n",
       " 'jlmelenchon',\n",
       " 'fneasso',\n",
       " 'mauvais_herbe',\n",
       " 'corps',\n",
       " 'aegrw',\n",
       " 'conclusion',\n",
       " 'engager',\n",
       " 'mati_re',\n",
       " 'erreur',\n",
       " 'xtor_cs',\n",
       " 'septembre',\n",
       " 'sant_public',\n",
       " 'poursuivre',\n",
       " 'bonjour',\n",
       " 'd_sherbant',\n",
       " 'menacer',\n",
       " 'hier',\n",
       " 'tenir',\n",
       " 'jug',\n",
       " 'senat',\n",
       " 'ligne',\n",
       " 'commun',\n",
       " 'Monsieur',\n",
       " 'additif',\n",
       " 'https_nousvoulonsdescoquelicot',\n",
       " 'r_glementation',\n",
       " 'delphinebatho',\n",
       " 'polluer',\n",
       " 'min_agriculture',\n",
       " 'recul',\n",
       " 'service',\n",
       " 'www_change',\n",
       " 'wemove_campaign',\n",
       " 'facile',\n",
       " 'terme',\n",
       " 'chrrousseau',\n",
       " 'opinion',\n",
       " 'colonie',\n",
       " 'agirpourlenvironnemer_org',\n",
       " 'lev',\n",
       " 'n_cessaire',\n",
       " 'responsabilit',\n",
       " 'charge',\n",
       " 'normandie',\n",
       " 'mai',\n",
       " 'retrait',\n",
       " 'guyotvincent',\n",
       " 'nourriture',\n",
       " 'usa',\n",
       " 'film',\n",
       " 'atteindre',\n",
       " 'fondationnh',\n",
       " 'arriver',\n",
       " 'travailler',\n",
       " 'rejet',\n",
       " 'soja',\n",
       " 'argent',\n",
       " 'suspendre',\n",
       " 'planete',\n",
       " 'empoisonnement',\n",
       " 'augmenter',\n",
       " 'goo_gl',\n",
       " 'importation',\n",
       " 'thread',\n",
       " 'cultiver',\n",
       " 'assembleenat',\n",
       " 'janvier',\n",
       " 'centaine',\n",
       " 'banane',\n",
       " 'cash_investigation',\n",
       " 'pass',\n",
       " 'tomate',\n",
       " 'v_rit',\n",
       " 'ment',\n",
       " 'marque',\n",
       " 'd_cret',\n",
       " 'st_phane',\n",
       " 'pierre',\n",
       " 'residu',\n",
       " 'faible',\n",
       " 'rester',\n",
       " 'po',\n",
       " ...]"
      ]
     },
     "execution_count": 130,
     "metadata": {},
     "output_type": "execute_result"
    }
   ],
   "source": [
    "words = list(w2v_model.wv.index_to_key)\n",
    "words"
   ]
  },
  {
   "cell_type": "code",
   "execution_count": 140,
   "metadata": {
    "colab": {
     "base_uri": "https://localhost:8080/"
    },
    "executionInfo": {
     "elapsed": 629,
     "status": "ok",
     "timestamp": 1634723879243,
     "user": {
      "displayName": "Justin REZÉ",
      "photoUrl": "https://lh3.googleusercontent.com/a/default-user=s64",
      "userId": "06986230582124478062"
     },
     "user_tz": -120
    },
    "id": "b-ylbSL-_y7I",
    "outputId": "42ed2873-9f20-4c42-b8db-6c18d0bc40c4"
   },
   "outputs": [
    {
     "data": {
      "text/plain": [
       "-0.002238358"
      ]
     },
     "execution_count": 140,
     "metadata": {},
     "output_type": "execute_result"
    }
   ],
   "source": [
    "w2v_model.wv.similarity('glyphosate', 'pesticide') #The cosine similarity can range from -1 to +1\n"
   ]
  },
  {
   "cell_type": "code",
   "execution_count": 141,
   "metadata": {
    "colab": {
     "base_uri": "https://localhost:8080/"
    },
    "executionInfo": {
     "elapsed": 284,
     "status": "ok",
     "timestamp": 1634724322850,
     "user": {
      "displayName": "Justin REZÉ",
      "photoUrl": "https://lh3.googleusercontent.com/a/default-user=s64",
      "userId": "06986230582124478062"
     },
     "user_tz": -120
    },
    "id": "p4wv58EmBroi",
    "outputId": "b149c208-dc30-4340-a8a0-8dffd6b6e55c"
   },
   "outputs": [
    {
     "data": {
      "text/plain": [
       "[('http_eur', 0.6303067803382874),\n",
       " ('ue', 0.615733802318573),\n",
       " ('bayer_porte', 0.6107854843139648),\n",
       " ('vouloir_autoriser', 0.5900305509567261),\n",
       " ('exporter', 0.5893661379814148),\n",
       " ('allemagn', 0.5771244168281555),\n",
       " ('lunion_europeenn', 0.576347827911377),\n",
       " ('qualite_filier', 0.570594847202301),\n",
       " ('reduir_controle', 0.5701566338539124),\n",
       " ('renouvel', 0.5593519806861877)]"
      ]
     },
     "execution_count": 141,
     "metadata": {},
     "output_type": "execute_result"
    }
   ],
   "source": [
    "w2v_model.wv.most_similar('europe')"
   ]
  },
  {
   "cell_type": "code",
   "execution_count": 142,
   "metadata": {
    "colab": {
     "base_uri": "https://localhost:8080/"
    },
    "executionInfo": {
     "elapsed": 405,
     "status": "ok",
     "timestamp": 1634723898075,
     "user": {
      "displayName": "Justin REZÉ",
      "photoUrl": "https://lh3.googleusercontent.com/a/default-user=s64",
      "userId": "06986230582124478062"
     },
     "user_tz": -120
    },
    "id": "KXH4VV1EecsE",
    "outputId": "f57c5d9c-7ff9-4f9b-c7a0-488043b660c7"
   },
   "outputs": [],
   "source": [
    "#w2v_model.wv.most_similar('harvard')"
   ]
  },
  {
   "cell_type": "code",
   "execution_count": 143,
   "metadata": {
    "colab": {
     "base_uri": "https://localhost:8080/"
    },
    "executionInfo": {
     "elapsed": 424,
     "status": "ok",
     "timestamp": 1634723907917,
     "user": {
      "displayName": "Justin REZÉ",
      "photoUrl": "https://lh3.googleusercontent.com/a/default-user=s64",
      "userId": "06986230582124478062"
     },
     "user_tz": -120
    },
    "id": "p_rb--39ASt4",
    "outputId": "549f74a1-ad84-4cf8-d586-7c268e53fa5e"
   },
   "outputs": [
    {
     "data": {
      "text/plain": [
       "[('lefigaro', 0.7826823592185974),\n",
       " ('topsante', 0.7650046348571777),\n",
       " ('medecine', 0.7498327493667603),\n",
       " ('allodocteur', 0.7163767218589783),\n",
       " ('fraise_vendre', 0.6955114006996155),\n",
       " ('psychomedier', 0.6889169216156006),\n",
       " ('saveur_sante', 0.6867979764938354),\n",
       " ('www_comparateurmedicamer', 0.680696964263916),\n",
       " ('maladie_grave', 0.6791743040084839),\n",
       " ('qc_ca', 0.6672009229660034)]"
      ]
     },
     "execution_count": 143,
     "metadata": {},
     "output_type": "execute_result"
    }
   ],
   "source": [
    "w2v_model.wv.most_similar('sante')"
   ]
  },
  {
   "cell_type": "code",
   "execution_count": 144,
   "metadata": {
    "colab": {
     "base_uri": "https://localhost:8080/"
    },
    "executionInfo": {
     "elapsed": 417,
     "status": "ok",
     "timestamp": 1634723916723,
     "user": {
      "displayName": "Justin REZÉ",
      "photoUrl": "https://lh3.googleusercontent.com/a/default-user=s64",
      "userId": "06986230582124478062"
     },
     "user_tz": -120
    },
    "id": "tAhAXdyFT-UU",
    "outputId": "0a83b15d-b204-40e1-b69e-d6bc843c507a"
   },
   "outputs": [
    {
     "data": {
      "text/plain": [
       "[('www_ledevoir', 0.6693887114524841),\n",
       " ('pesticides', 0.6303040385246277),\n",
       " ('ethiqu', 0.6296125054359436),\n",
       " ('ledevoir', 0.6117292046546936),\n",
       " ('actualiter', 0.6080703139305115),\n",
       " ('infos_climat', 0.591728687286377),\n",
       " ('sant', 0.5815549492835999),\n",
       " ('biodiversite', 0.5789602398872375),\n",
       " ('humanite', 0.5756170153617859),\n",
       " ('qualite', 0.5672080516815186)]"
      ]
     },
     "execution_count": 144,
     "metadata": {},
     "output_type": "execute_result"
    }
   ],
   "source": [
    "w2v_model.wv.most_similar('environnement')"
   ]
  },
  {
   "cell_type": "code",
   "execution_count": 145,
   "metadata": {
    "colab": {
     "base_uri": "https://localhost:8080/"
    },
    "executionInfo": {
     "elapsed": 412,
     "status": "ok",
     "timestamp": 1634723921219,
     "user": {
      "displayName": "Justin REZÉ",
      "photoUrl": "https://lh3.googleusercontent.com/a/default-user=s64",
      "userId": "06986230582124478062"
     },
     "user_tz": -120
    },
    "id": "I4eGeAjFAY6H",
    "outputId": "7f9187ab-484b-4fc3-8cf9-ad22cef441a5"
   },
   "outputs": [
    {
     "data": {
      "text/plain": [
       "[('agricultur_isr', 0.9720407724380493),\n",
       " ('novethic_fr', 0.8777121305465698),\n",
       " ('isr_rse', 0.8750220537185669),\n",
       " ('fr_empreindre', 0.8714316487312317),\n",
       " ('actualit_environnement', 0.8671841621398926),\n",
       " ('www_novethic', 0.8651548624038696),\n",
       " ('novethic', 0.7783938050270081),\n",
       " ('environnement_agricultur', 0.6626186370849609),\n",
       " ('industrie_agroalimentaire', 0.5754104852676392),\n",
       " ('entreprise_finance', 0.5673340559005737)]"
      ]
     },
     "execution_count": 145,
     "metadata": {},
     "output_type": "execute_result"
    }
   ],
   "source": [
    "w2v_model.wv.most_similar('rse')"
   ]
  },
  {
   "cell_type": "code",
   "execution_count": 146,
   "metadata": {
    "colab": {
     "base_uri": "https://localhost:8080/"
    },
    "executionInfo": {
     "elapsed": 321,
     "status": "ok",
     "timestamp": 1634723932393,
     "user": {
      "displayName": "Justin REZÉ",
      "photoUrl": "https://lh3.googleusercontent.com/a/default-user=s64",
      "userId": "06986230582124478062"
     },
     "user_tz": -120
    },
    "id": "q3FypCWyAj_C",
    "outputId": "c7d4c6a2-2256-43fc-a2d2-243aa61568a8"
   },
   "outputs": [],
   "source": [
    "#w2v_model.wv.similarity('fake','hydroxychloroquine')"
   ]
  },
  {
   "cell_type": "code",
   "execution_count": 147,
   "metadata": {
    "colab": {
     "base_uri": "https://localhost:8080/"
    },
    "executionInfo": {
     "elapsed": 409,
     "status": "ok",
     "timestamp": 1634723938930,
     "user": {
      "displayName": "Justin REZÉ",
      "photoUrl": "https://lh3.googleusercontent.com/a/default-user=s64",
      "userId": "06986230582124478062"
     },
     "user_tz": -120
    },
    "id": "JbxGDKiRLxo9",
    "outputId": "13cf4050-a8b6-475a-8ebf-79834605b939"
   },
   "outputs": [],
   "source": [
    "#w2v_model.wv.most_similar('fake')"
   ]
  },
  {
   "cell_type": "code",
   "execution_count": 148,
   "metadata": {
    "colab": {
     "base_uri": "https://localhost:8080/"
    },
    "executionInfo": {
     "elapsed": 308,
     "status": "ok",
     "timestamp": 1634723945178,
     "user": {
      "displayName": "Justin REZÉ",
      "photoUrl": "https://lh3.googleusercontent.com/a/default-user=s64",
      "userId": "06986230582124478062"
     },
     "user_tz": -120
    },
    "id": "Ux_HAvJKgHsW",
    "outputId": "4230514e-7b3b-45f3-822b-fca9d0040577"
   },
   "outputs": [
    {
     "data": {
      "text/plain": [
       "[('fils', 0.8497145771980286),\n",
       " ('handicap', 0.8007912635803223),\n",
       " ('maman', 0.7719074487686157),\n",
       " ('parent', 0.7524767518043518),\n",
       " ('mere', 0.7239636182785034),\n",
       " ('naissance', 0.7003369331359863),\n",
       " ('explosion', 0.6914002895355225),\n",
       " ('cancers', 0.6774356365203857),\n",
       " ('malformation', 0.6760836839675903),\n",
       " ('mourir', 0.6752330660820007),\n",
       " ('froid', 0.6699117422103882),\n",
       " ('enfant', 0.6692668795585632),\n",
       " ('meurt', 0.6676301956176758),\n",
       " ('ain', 0.6675733327865601),\n",
       " ('gar', 0.6574674248695374),\n",
       " ('man', 0.6502112150192261),\n",
       " ('poumon', 0.6380364894866943),\n",
       " ('femme', 0.6331920623779297),\n",
       " ('respire', 0.6300638914108276),\n",
       " ('diatrique', 0.6285786628723145)]"
      ]
     },
     "execution_count": 148,
     "metadata": {},
     "output_type": "execute_result"
    }
   ],
   "source": [
    "w2v_model.wv.most_similar('fille',topn =20)"
   ]
  },
  {
   "cell_type": "markdown",
   "metadata": {
    "id": "fLh_l-fRWJT7"
   },
   "source": [
    "Now Playing the analogy game"
   ]
  },
  {
   "cell_type": "code",
   "execution_count": 149,
   "metadata": {
    "colab": {
     "base_uri": "https://localhost:8080/"
    },
    "executionInfo": {
     "elapsed": 10,
     "status": "ok",
     "timestamp": 1634724687620,
     "user": {
      "displayName": "Justin REZÉ",
      "photoUrl": "https://lh3.googleusercontent.com/a/default-user=s64",
      "userId": "06986230582124478062"
     },
     "user_tz": -120
    },
    "id": "3kp4HF38gH2L",
    "outputId": "2777dbf2-3eb6-4ed8-cc47-bd863cc6c0a9"
   },
   "outputs": [
    {
     "ename": "KeyError",
     "evalue": "\"Key 'berlin' not present\"",
     "output_type": "error",
     "traceback": [
      "\u001b[0;31m---------------------------------------------------------------------------\u001b[0m",
      "\u001b[0;31mKeyError\u001b[0m                                  Traceback (most recent call last)",
      "Input \u001b[0;32mIn [149]\u001b[0m, in \u001b[0;36m<cell line: 2>\u001b[0;34m()\u001b[0m\n\u001b[1;32m      1\u001b[0m \u001b[38;5;66;03m#playing the analogy game \u001b[39;00m\n\u001b[0;32m----> 2\u001b[0m \u001b[43mw2v_model\u001b[49m\u001b[38;5;241;43m.\u001b[39;49m\u001b[43mwv\u001b[49m\u001b[38;5;241;43m.\u001b[39;49m\u001b[43mmost_similar\u001b[49m\u001b[43m(\u001b[49m\u001b[43mpositive\u001b[49m\u001b[38;5;241;43m=\u001b[39;49m\u001b[43m[\u001b[49m\u001b[38;5;124;43m'\u001b[39;49m\u001b[38;5;124;43mfrance\u001b[39;49m\u001b[38;5;124;43m'\u001b[39;49m\u001b[43m,\u001b[49m\u001b[43m \u001b[49m\u001b[38;5;124;43m'\u001b[39;49m\u001b[38;5;124;43mberlin\u001b[39;49m\u001b[38;5;124;43m'\u001b[39;49m\u001b[43m]\u001b[49m\u001b[43m,\u001b[49m\u001b[43m \u001b[49m\u001b[43mnegative\u001b[49m\u001b[38;5;241;43m=\u001b[39;49m\u001b[43m[\u001b[49m\u001b[38;5;124;43m'\u001b[39;49m\u001b[38;5;124;43mparis\u001b[39;49m\u001b[38;5;124;43m'\u001b[39;49m\u001b[43m]\u001b[49m\u001b[43m)\u001b[49m\n",
      "File \u001b[0;32m~/miniforge3/envs/python38/lib/python3.8/site-packages/gensim/models/keyedvectors.py:773\u001b[0m, in \u001b[0;36mKeyedVectors.most_similar\u001b[0;34m(self, positive, negative, topn, clip_start, clip_end, restrict_vocab, indexer)\u001b[0m\n\u001b[1;32m    771\u001b[0m     mean\u001b[38;5;241m.\u001b[39mappend(weight \u001b[38;5;241m*\u001b[39m key)\n\u001b[1;32m    772\u001b[0m \u001b[38;5;28;01melse\u001b[39;00m:\n\u001b[0;32m--> 773\u001b[0m     mean\u001b[38;5;241m.\u001b[39mappend(weight \u001b[38;5;241m*\u001b[39m \u001b[38;5;28;43mself\u001b[39;49m\u001b[38;5;241;43m.\u001b[39;49m\u001b[43mget_vector\u001b[49m\u001b[43m(\u001b[49m\u001b[43mkey\u001b[49m\u001b[43m,\u001b[49m\u001b[43m \u001b[49m\u001b[43mnorm\u001b[49m\u001b[38;5;241;43m=\u001b[39;49m\u001b[38;5;28;43;01mTrue\u001b[39;49;00m\u001b[43m)\u001b[49m)\n\u001b[1;32m    774\u001b[0m     \u001b[38;5;28;01mif\u001b[39;00m \u001b[38;5;28mself\u001b[39m\u001b[38;5;241m.\u001b[39mhas_index_for(key):\n\u001b[1;32m    775\u001b[0m         all_keys\u001b[38;5;241m.\u001b[39madd(\u001b[38;5;28mself\u001b[39m\u001b[38;5;241m.\u001b[39mget_index(key))\n",
      "File \u001b[0;32m~/miniforge3/envs/python38/lib/python3.8/site-packages/gensim/models/keyedvectors.py:438\u001b[0m, in \u001b[0;36mKeyedVectors.get_vector\u001b[0;34m(self, key, norm)\u001b[0m\n\u001b[1;32m    414\u001b[0m \u001b[38;5;28;01mdef\u001b[39;00m \u001b[38;5;21mget_vector\u001b[39m(\u001b[38;5;28mself\u001b[39m, key, norm\u001b[38;5;241m=\u001b[39m\u001b[38;5;28;01mFalse\u001b[39;00m):\n\u001b[1;32m    415\u001b[0m     \u001b[38;5;124;03m\"\"\"Get the key's vector, as a 1D numpy array.\u001b[39;00m\n\u001b[1;32m    416\u001b[0m \n\u001b[1;32m    417\u001b[0m \u001b[38;5;124;03m    Parameters\u001b[39;00m\n\u001b[0;32m   (...)\u001b[0m\n\u001b[1;32m    436\u001b[0m \n\u001b[1;32m    437\u001b[0m \u001b[38;5;124;03m    \"\"\"\u001b[39;00m\n\u001b[0;32m--> 438\u001b[0m     index \u001b[38;5;241m=\u001b[39m \u001b[38;5;28;43mself\u001b[39;49m\u001b[38;5;241;43m.\u001b[39;49m\u001b[43mget_index\u001b[49m\u001b[43m(\u001b[49m\u001b[43mkey\u001b[49m\u001b[43m)\u001b[49m\n\u001b[1;32m    439\u001b[0m     \u001b[38;5;28;01mif\u001b[39;00m norm:\n\u001b[1;32m    440\u001b[0m         \u001b[38;5;28mself\u001b[39m\u001b[38;5;241m.\u001b[39mfill_norms()\n",
      "File \u001b[0;32m~/miniforge3/envs/python38/lib/python3.8/site-packages/gensim/models/keyedvectors.py:412\u001b[0m, in \u001b[0;36mKeyedVectors.get_index\u001b[0;34m(self, key, default)\u001b[0m\n\u001b[1;32m    410\u001b[0m     \u001b[38;5;28;01mreturn\u001b[39;00m default\n\u001b[1;32m    411\u001b[0m \u001b[38;5;28;01melse\u001b[39;00m:\n\u001b[0;32m--> 412\u001b[0m     \u001b[38;5;28;01mraise\u001b[39;00m \u001b[38;5;167;01mKeyError\u001b[39;00m(\u001b[38;5;124mf\u001b[39m\u001b[38;5;124m\"\u001b[39m\u001b[38;5;124mKey \u001b[39m\u001b[38;5;124m'\u001b[39m\u001b[38;5;132;01m{\u001b[39;00mkey\u001b[38;5;132;01m}\u001b[39;00m\u001b[38;5;124m'\u001b[39m\u001b[38;5;124m not present\u001b[39m\u001b[38;5;124m\"\u001b[39m)\n",
      "\u001b[0;31mKeyError\u001b[0m: \"Key 'berlin' not present\""
     ]
    }
   ],
   "source": [
    "#playing the analogy game \n",
    "w2v_model.wv.most_similar(positive=['france', 'berlin'], negative=['paris'])\n"
   ]
  },
  {
   "cell_type": "code",
   "execution_count": 150,
   "metadata": {
    "colab": {
     "base_uri": "https://localhost:8080/"
    },
    "executionInfo": {
     "elapsed": 317,
     "status": "ok",
     "timestamp": 1634724694874,
     "user": {
      "displayName": "Justin REZÉ",
      "photoUrl": "https://lh3.googleusercontent.com/a/default-user=s64",
      "userId": "06986230582124478062"
     },
     "user_tz": -120
    },
    "id": "j9Zc7X27Vbcc",
    "outputId": "8b4823de-20a6-46df-a854-f2464a7f7429"
   },
   "outputs": [],
   "source": [
    "#w2v_model.wv.most_similar(positive=[\"chine\",'pfizer' ], negative=['unis'])\n"
   ]
  },
  {
   "cell_type": "code",
   "execution_count": 151,
   "metadata": {
    "colab": {
     "base_uri": "https://localhost:8080/"
    },
    "executionInfo": {
     "elapsed": 661,
     "status": "ok",
     "timestamp": 1634724698528,
     "user": {
      "displayName": "Justin REZÉ",
      "photoUrl": "https://lh3.googleusercontent.com/a/default-user=s64",
      "userId": "06986230582124478062"
     },
     "user_tz": -120
    },
    "id": "4r3tGJQICUWu",
    "outputId": "281715f0-7afc-40f6-ec94-c8d92c1dff86"
   },
   "outputs": [],
   "source": [
    "#w2v_model.wv.most_similar(positive=['moderna_pfizer',\"united_kingdom\" ], negative=['united_states'])\n",
    "\n"
   ]
  },
  {
   "cell_type": "code",
   "execution_count": 152,
   "metadata": {},
   "outputs": [],
   "source": [
    "## let's define the cosine similarity as a function\n",
    "import numpy as np\n",
    "from numpy.linalg import norm\n",
    "\n",
    "def cosine_similarity(vector1,vector2):\n",
    "    result = np.dot(vector1, vector2)/(norm(vector1)*norm(vector2))\n",
    "    return result"
   ]
  },
  {
   "cell_type": "code",
   "execution_count": 179,
   "metadata": {},
   "outputs": [],
   "source": [
    "## let's define an axis\n",
    "w1 = \"sante\"\n",
    "w2 = \"environnement\"\n",
    "\n",
    "#w1 = \"sante\"\n",
    "#w2 = \"environnement\"\n",
    "\n",
    "\n",
    "axis = w2v_model.wv.get_vector(w2) - w2v_model.wv.get_vector(w1)\n",
    "\n",
    "## choose some words to project on it\n",
    "#words = [\"jean\",\"philippe\",\"michel\",\"elisabeth\", \"roselyne_bachelot\", \"jean\", \"camille\",'louise', \"camille\",\"femme\",\"homme\"]\n",
    "words = ['chlordecone','roundup','neonicotinoide','sdhi','abeille','glyphosate','ogm']\n",
    "\n",
    "projections,wordss = [],[]\n",
    "for word in words:\n",
    "    try:\n",
    "        wordvector = w2v_model.wv.get_vector(word)\n",
    "        projections.append(cosine_similarity(wordvector,axis))\n",
    "        wordss.append(word)\n",
    "    except:\n",
    "        pass"
   ]
  },
  {
   "cell_type": "code",
   "execution_count": 180,
   "metadata": {},
   "outputs": [],
   "source": [
    "#w2v_model.wv.get_vector('linky')"
   ]
  },
  {
   "cell_type": "code",
   "execution_count": 181,
   "metadata": {},
   "outputs": [
    {
     "data": {
      "text/plain": [
       "[-0.20590039,\n",
       " -0.27799168,\n",
       " 0.059457127,\n",
       " 0.033764537,\n",
       " 0.11474383,\n",
       " -0.037826564,\n",
       " -0.020954734]"
      ]
     },
     "execution_count": 181,
     "metadata": {},
     "output_type": "execute_result"
    }
   ],
   "source": [
    "projections"
   ]
  },
  {
   "cell_type": "code",
   "execution_count": 182,
   "metadata": {},
   "outputs": [
    {
     "data": {
      "image/png": "[encoded data removed]",
      "text/plain": [
       "<Figure size 864x72 with 1 Axes>"
      ]
     },
     "metadata": {
      "needs_background": "light"
     },
     "output_type": "display_data"
    }
   ],
   "source": [
    "## plot the result\n",
    "fig = plt.figure(figsize=(12,1))\n",
    "ax = fig.add_subplot(1,1,1)\n",
    "ax.scatter(projections,y=np.zeros(len(projections)))\n",
    "for i in range(len(projections)):\n",
    "    plt.text(projections[i]-0.01,0.01,wordss[i])\n",
    "ax.set_xlabel(f\"← {w1}          | projection |          {w2} →\")\n",
    "ax.set_yticks([])\n",
    "plt.show()"
   ]
  },
  {
   "cell_type": "markdown",
   "metadata": {
    "id": "V4ieUGvnCx_H"
   },
   "source": [
    "Projecting word vectors onto certain dimensions\n",
    "\n",
    "we use the scalar product to perform such projection"
   ]
  },
  {
   "cell_type": "code",
   "execution_count": 63,
   "metadata": {
    "id": "5GORhf8bNUgb"
   },
   "outputs": [
    {
     "ename": "KeyError",
     "evalue": "\"Key 'son' not present\"",
     "output_type": "error",
     "traceback": [
      "\u001b[0;31m---------------------------------------------------------------------------\u001b[0m",
      "\u001b[0;31mKeyError\u001b[0m                                  Traceback (most recent call last)",
      "Input \u001b[0;32mIn [63]\u001b[0m, in \u001b[0;36m<cell line: 4>\u001b[0;34m()\u001b[0m\n\u001b[1;32m      3\u001b[0m man_vs_woman\u001b[38;5;241m=\u001b[39mnp\u001b[38;5;241m.\u001b[39mzeros(\u001b[38;5;241m300\u001b[39m)\n\u001b[1;32m      4\u001b[0m \u001b[38;5;28;01mfor\u001b[39;00m x \u001b[38;5;129;01min\u001b[39;00m man_words:\n\u001b[0;32m----> 5\u001b[0m   man_vs_woman \u001b[38;5;241m=\u001b[39m man_vs_woman \u001b[38;5;241m+\u001b[39m \u001b[43mw2v_model\u001b[49m\u001b[38;5;241;43m.\u001b[39;49m\u001b[43mwv\u001b[49m\u001b[43m[\u001b[49m\u001b[43mx\u001b[49m\u001b[43m]\u001b[49m \u001b[38;5;241m/\u001b[39m np\u001b[38;5;241m.\u001b[39msqrt(w2v_model\u001b[38;5;241m.\u001b[39mwv[x] \u001b[38;5;241m@\u001b[39m w2v_model\u001b[38;5;241m.\u001b[39mwv[x])\n\u001b[1;32m      6\u001b[0m \u001b[38;5;28;01mfor\u001b[39;00m x \u001b[38;5;129;01min\u001b[39;00m woman_words:\n\u001b[1;32m      7\u001b[0m   man_vs_woman \u001b[38;5;241m=\u001b[39m man_vs_woman \u001b[38;5;241m-\u001b[39m w2v_model\u001b[38;5;241m.\u001b[39mwv[x] \u001b[38;5;241m/\u001b[39m np\u001b[38;5;241m.\u001b[39msqrt(w2v_model\u001b[38;5;241m.\u001b[39mwv[x] \u001b[38;5;241m@\u001b[39m w2v_model\u001b[38;5;241m.\u001b[39mwv[x])\n",
      "File \u001b[0;32m~/miniforge3/envs/tf/lib/python3.8/site-packages/gensim/models/keyedvectors.py:395\u001b[0m, in \u001b[0;36mKeyedVectors.__getitem__\u001b[0;34m(self, key_or_keys)\u001b[0m\n\u001b[1;32m    381\u001b[0m \u001b[38;5;124;03m\"\"\"Get vector representation of `key_or_keys`.\u001b[39;00m\n\u001b[1;32m    382\u001b[0m \n\u001b[1;32m    383\u001b[0m \u001b[38;5;124;03mParameters\u001b[39;00m\n\u001b[0;32m   (...)\u001b[0m\n\u001b[1;32m    392\u001b[0m \n\u001b[1;32m    393\u001b[0m \u001b[38;5;124;03m\"\"\"\u001b[39;00m\n\u001b[1;32m    394\u001b[0m \u001b[38;5;28;01mif\u001b[39;00m \u001b[38;5;28misinstance\u001b[39m(key_or_keys, _KEY_TYPES):\n\u001b[0;32m--> 395\u001b[0m     \u001b[38;5;28;01mreturn\u001b[39;00m \u001b[38;5;28;43mself\u001b[39;49m\u001b[38;5;241;43m.\u001b[39;49m\u001b[43mget_vector\u001b[49m\u001b[43m(\u001b[49m\u001b[43mkey_or_keys\u001b[49m\u001b[43m)\u001b[49m\n\u001b[1;32m    397\u001b[0m \u001b[38;5;28;01mreturn\u001b[39;00m vstack([\u001b[38;5;28mself\u001b[39m\u001b[38;5;241m.\u001b[39mget_vector(key) \u001b[38;5;28;01mfor\u001b[39;00m key \u001b[38;5;129;01min\u001b[39;00m key_or_keys])\n",
      "File \u001b[0;32m~/miniforge3/envs/tf/lib/python3.8/site-packages/gensim/models/keyedvectors.py:438\u001b[0m, in \u001b[0;36mKeyedVectors.get_vector\u001b[0;34m(self, key, norm)\u001b[0m\n\u001b[1;32m    414\u001b[0m \u001b[38;5;28;01mdef\u001b[39;00m \u001b[38;5;21mget_vector\u001b[39m(\u001b[38;5;28mself\u001b[39m, key, norm\u001b[38;5;241m=\u001b[39m\u001b[38;5;28;01mFalse\u001b[39;00m):\n\u001b[1;32m    415\u001b[0m     \u001b[38;5;124;03m\"\"\"Get the key's vector, as a 1D numpy array.\u001b[39;00m\n\u001b[1;32m    416\u001b[0m \n\u001b[1;32m    417\u001b[0m \u001b[38;5;124;03m    Parameters\u001b[39;00m\n\u001b[0;32m   (...)\u001b[0m\n\u001b[1;32m    436\u001b[0m \n\u001b[1;32m    437\u001b[0m \u001b[38;5;124;03m    \"\"\"\u001b[39;00m\n\u001b[0;32m--> 438\u001b[0m     index \u001b[38;5;241m=\u001b[39m \u001b[38;5;28;43mself\u001b[39;49m\u001b[38;5;241;43m.\u001b[39;49m\u001b[43mget_index\u001b[49m\u001b[43m(\u001b[49m\u001b[43mkey\u001b[49m\u001b[43m)\u001b[49m\n\u001b[1;32m    439\u001b[0m     \u001b[38;5;28;01mif\u001b[39;00m norm:\n\u001b[1;32m    440\u001b[0m         \u001b[38;5;28mself\u001b[39m\u001b[38;5;241m.\u001b[39mfill_norms()\n",
      "File \u001b[0;32m~/miniforge3/envs/tf/lib/python3.8/site-packages/gensim/models/keyedvectors.py:412\u001b[0m, in \u001b[0;36mKeyedVectors.get_index\u001b[0;34m(self, key, default)\u001b[0m\n\u001b[1;32m    410\u001b[0m     \u001b[38;5;28;01mreturn\u001b[39;00m default\n\u001b[1;32m    411\u001b[0m \u001b[38;5;28;01melse\u001b[39;00m:\n\u001b[0;32m--> 412\u001b[0m     \u001b[38;5;28;01mraise\u001b[39;00m \u001b[38;5;167;01mKeyError\u001b[39;00m(\u001b[38;5;124mf\u001b[39m\u001b[38;5;124m\"\u001b[39m\u001b[38;5;124mKey \u001b[39m\u001b[38;5;124m'\u001b[39m\u001b[38;5;132;01m{\u001b[39;00mkey\u001b[38;5;132;01m}\u001b[39;00m\u001b[38;5;124m'\u001b[39m\u001b[38;5;124m not present\u001b[39m\u001b[38;5;124m\"\u001b[39m)\n",
      "\u001b[0;31mKeyError\u001b[0m: \"Key 'son' not present\""
     ]
    }
   ],
   "source": [
    "man_words=[\"son\",\"father\",\"man\",\"boy\",\"male\",\"brother\"]\n",
    "woman_words=[\"daughter\",\"mother\",\"woman\",\"girl\",\"female\",\"sister\"]\n",
    "man_vs_woman=np.zeros(300)\n",
    "for x in man_words:\n",
    "  man_vs_woman = man_vs_woman + w2v_model.wv[x] / np.sqrt(w2v_model.wv[x] @ w2v_model.wv[x])\n",
    "for x in woman_words:\n",
    "  man_vs_woman = man_vs_woman - w2v_model.wv[x] / np.sqrt(w2v_model.wv[x] @ w2v_model.wv[x])\n",
    "man_vs_woman = man_vs_woman / np.sqrt(man_vs_woman @ man_vs_woman)"
   ]
  },
  {
   "cell_type": "code",
   "execution_count": null,
   "metadata": {
    "id": "9nVbq5-qNfJN"
   },
   "outputs": [],
   "source": [
    "def project(man_vs_woman,word):\n",
    "  return man_vs_woman @ w2v_model.wv[word] / np.sqrt(w2v_model.wv[word] @ w2v_model.wv[word])"
   ]
  },
  {
   "cell_type": "code",
   "execution_count": null,
   "metadata": {
    "colab": {
     "base_uri": "https://localhost:8080/"
    },
    "collapsed": true,
    "executionInfo": {
     "elapsed": 410,
     "status": "ok",
     "timestamp": 1634724731324,
     "user": {
      "displayName": "Justin REZÉ",
      "photoUrl": "https://lh3.googleusercontent.com/a/default-user=s64",
      "userId": "06986230582124478062"
     },
     "user_tz": -120
    },
    "id": "VL7ZmKW7C7p8",
    "outputId": "e499a213-0da8-469e-c17d-9b3843467bd8"
   },
   "outputs": [
    {
     "data": {
      "text/plain": [
       "-0.3702844456372121"
      ]
     },
     "execution_count": 57,
     "metadata": {},
     "output_type": "execute_result"
    }
   ],
   "source": [
    "project(man_vs_woman,'teacher')"
   ]
  },
  {
   "cell_type": "code",
   "execution_count": null,
   "metadata": {
    "colab": {
     "base_uri": "https://localhost:8080/"
    },
    "collapsed": true,
    "executionInfo": {
     "elapsed": 1135,
     "status": "ok",
     "timestamp": 1634724735214,
     "user": {
      "displayName": "Justin REZÉ",
      "photoUrl": "https://lh3.googleusercontent.com/a/default-user=s64",
      "userId": "06986230582124478062"
     },
     "user_tz": -120
    },
    "id": "tbqZJqD-POwn",
    "outputId": "e128684e-acf7-47ff-9cf6-d62859e7a0b2"
   },
   "outputs": [
    {
     "data": {
      "text/plain": [
       "0.33171054055115284"
      ]
     },
     "execution_count": 58,
     "metadata": {},
     "output_type": "execute_result"
    }
   ],
   "source": [
    "project(man_vs_woman,'surgeon')"
   ]
  },
  {
   "cell_type": "code",
   "execution_count": null,
   "metadata": {
    "colab": {
     "base_uri": "https://localhost:8080/"
    },
    "collapsed": true,
    "executionInfo": {
     "elapsed": 706,
     "status": "ok",
     "timestamp": 1634724738890,
     "user": {
      "displayName": "Justin REZÉ",
      "photoUrl": "https://lh3.googleusercontent.com/a/default-user=s64",
      "userId": "06986230582124478062"
     },
     "user_tz": -120
    },
    "id": "4ztLytEI-i6d",
    "outputId": "362a372d-a5e2-40cb-ccd4-5765f968f656"
   },
   "outputs": [
    {
     "name": "stdout",
     "output_type": "stream",
     "text": [
      "teacher \t -0.3702844456372121\n",
      "author \t 0.1932642129019581\n",
      "broker \t -0.05868376258310805\n",
      "baker \t -0.03474305222013565\n",
      "surgeon \t 0.33171054055115284\n",
      "artist \t -0.11106717894484198\n",
      "dentist \t -0.022138574311971075\n",
      "athlete \t -0.19679533074062225\n",
      "manager \t -0.007347438089954973\n",
      "secretary \t 0.07644420965927512\n",
      "economist \t 0.050847920757965244\n",
      "clerk \t -0.2602823085681751\n",
      "doctor \t 0.18572088811722706\n",
      "judge \t -0.16244452197004974\n",
      "physician \t 0.18317368320166055\n",
      "lawyer \t 0.09725298105552059\n",
      "artist \t -0.11106717894484198\n",
      "instructor \t -0.11161066086486048\n",
      "dancer \t -0.21659395335899398\n",
      "inspector \t 0.0030362802559405822\n",
      "musician \t -0.04354022949521447\n",
      "soldier \t 0.18383457644729073\n",
      "professor \t 0.01504237410107816\n",
      "nurse \t 0.06648982881780562\n",
      "sailor \t 0.2622136308411092\n",
      "architect \t 0.1026315607436855\n",
      "administrator \t -0.0792633858520707\n",
      "scientist \t 0.19670494285160062\n"
     ]
    }
   ],
   "source": [
    "occupation=[\"teacher\",\"author\",\"broker\",\"baker\",\"surgeon\",\"artist\",\"dentist\",\"athlete\",\"manager\",\"secretary\",\"economist\",\"clerk\",\"doctor\",\"judge\",\"physician\",\"lawyer\",\"artist\",\"instructor\",\"dancer\",\"inspector\",\"musician\",\"soldier\",\"professor\",\"nurse\",\"sailor\",\"architect\",\"administrator\",\"scientist\"]\n",
    "for job in occupation:\n",
    "    print(job,'\\t',project(man_vs_woman,job))\n"
   ]
  },
  {
   "cell_type": "code",
   "execution_count": null,
   "metadata": {
    "id": "E5KAqcBTYUCm"
   },
   "outputs": [],
   "source": []
  },
  {
   "cell_type": "code",
   "execution_count": null,
   "metadata": {
    "id": "3bmy6okJYl-2"
   },
   "outputs": [],
   "source": []
  },
  {
   "cell_type": "markdown",
   "metadata": {
    "id": "zi6E90_JATaz"
   },
   "source": [
    "# Final Exercise: can you identify discriminatory trends toward asian people in the first months of the pandemics ?"
   ]
  },
  {
   "cell_type": "markdown",
   "metadata": {
    "id": "ARKYZaBdngtU"
   },
   "source": []
  }
 ],
 "metadata": {
  "colab": {
   "collapsed_sections": [],
   "name": "Week 8 -  TextAsData_2.ipynb",
   "provenance": [
    {
     "file_id": "1wL8B8a1VkEcZ7ygnTHvhhMgpqkmDnLKT",
     "timestamp": 1634637891830
    },
    {
     "file_id": "1Rn7HlhxGpVeUjqyqD6rkoiYdpzMwaWtk",
     "timestamp": 1615889754294
    }
   ]
  },
  "kernelspec": {
   "display_name": "Python 3 (ipykernel)",
   "language": "python",
   "name": "python3"
  },
  "language_info": {
   "codemirror_mode": {
    "name": "ipython",
    "version": 3
   },
   "file_extension": ".py",
   "mimetype": "text/x-python",
   "name": "python",
   "nbconvert_exporter": "python",
   "pygments_lexer": "ipython3",
   "version": "3.8.13"
  }
 },
 "nbformat": 4,
 "nbformat_minor": 1
}
