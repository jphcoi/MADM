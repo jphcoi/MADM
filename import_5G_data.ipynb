{
 "cells": [
  {
   "cell_type": "code",
   "execution_count": 37,
   "id": "da6daa10",
   "metadata": {
    "execution": {
     "iopub.execute_input": "2021-12-05T11:30:00.746410Z",
     "iopub.status.busy": "2021-12-05T11:30:00.746410Z",
     "iopub.status.idle": "2021-12-05T11:30:13.397603Z",
     "shell.execute_reply": "2021-12-05T11:30:13.396563Z",
     "shell.execute_reply.started": "2021-12-05T11:30:00.746410Z"
    },
    "tags": []
   },
   "outputs": [],
   "source": [
    "import logging\n",
    "logging.basicConfig(format='%(asctime)s : %(threadName)s : %(levelname)s : %(message)s', level=logging.INFO)\n",
    "#import bamboolib as bam\n",
    "import pandas as pd\n",
    "import glob\n",
    "import sqlite3\n",
    "import spacy\n",
    "import textacy\n",
    "import explacy\n",
    "from spacy.matcher import Matcher\n",
    "from spacy.util import filter_spans\n",
    "import numpy as np\n",
    "\n",
    "from bokeh.layouts import column\n",
    "from bokeh.models import ColumnDataSource, RangeTool\n",
    "from bokeh.plotting import figure, show\n",
    "from bokeh.sampledata.stocks import AAPL\n",
    "from bokeh.plotting import ColumnDataSource, figure, show, output_file, save\n",
    "from bokeh.models import Band\n",
    "from bokeh.models import HoverTool\n",
    "\n",
    "from tqdm import tqdm\n",
    "from collections import Counter\n",
    "\n",
    "from spacy.tokenizer import _get_regex_pattern\n",
    "import re\n",
    "from operator import itemgetter\n",
    "import collections\n",
    "import math"
   ]
  },
  {
   "cell_type": "code",
   "execution_count": 38,
   "id": "f77019b4",
   "metadata": {},
   "outputs": [],
   "source": [
    "import random\n",
    "from functools import partial\n",
    "import pandas as pd\n",
    "from spacymoji import Emoji\n",
    "import csv\n",
    "import os\n",
    "\n"
   ]
  },
  {
   "cell_type": "markdown",
   "id": "c17e2923",
   "metadata": {},
   "source": [
    "## where data are located"
   ]
  },
  {
   "cell_type": "code",
   "execution_count": 39,
   "id": "46577b41",
   "metadata": {},
   "outputs": [],
   "source": [
    "\n",
    "#a changer localement\n",
    "media_filename='../medias/data/extracted_5G.csv'\n",
    "tweet_path='../twitter/data5G/*'\n",
    "fb_filename=\"../facebook/data/posts_5g.csv\"\n",
    "\n",
    "\n",
    "#smoothing_scale=7\n",
    "#context_scale=182\n",
    "#freq_threshold=100\n",
    "\n",
    "\n"
   ]
  },
  {
   "cell_type": "markdown",
   "id": "faefa443",
   "metadata": {},
   "source": [
    "## first Facebook data"
   ]
  },
  {
   "cell_type": "code",
   "execution_count": 40,
   "id": "178ed7c5",
   "metadata": {
    "execution": {
     "iopub.execute_input": "2021-12-05T11:30:13.399561Z",
     "iopub.status.busy": "2021-12-05T11:30:13.398564Z",
     "iopub.status.idle": "2021-12-05T11:30:41.947877Z",
     "shell.execute_reply": "2021-12-05T11:30:41.947877Z",
     "shell.execute_reply.started": "2021-12-05T11:30:13.399561Z"
    },
    "tags": []
   },
   "outputs": [],
   "source": [
    "fb= pd.read_csv(fb_filename)\n",
    "fb['id']=fb.index\n",
    "fb['title']=fb['title'].fillna('')\n",
    "fb['description']=fb['description'].fillna('')\n",
    "fb['caption']=fb['caption'].fillna('')\n",
    "\n",
    "fb['message']=fb['message'].fillna('')\n",
    "\n",
    "fb['text']=fb['title']+'\\n'+fb['description']+'\\n'+fb['caption']+'\\n'+fb['message']\n",
    "\n",
    "#fbcount"
   ]
  },
  {
   "cell_type": "code",
   "execution_count": null,
   "id": "db0e1335",
   "metadata": {},
   "outputs": [],
   "source": [
    "\n"
   ]
  },
  {
   "cell_type": "code",
   "execution_count": 41,
   "id": "702cb665",
   "metadata": {},
   "outputs": [],
   "source": [
    "#fbcount"
   ]
  },
  {
   "cell_type": "code",
   "execution_count": 42,
   "id": "03790576",
   "metadata": {},
   "outputs": [
    {
     "name": "stdout",
     "output_type": "stream",
     "text": [
      "205311\n"
     ]
    },
    {
     "data": {
      "text/plain": [
       "205311"
      ]
     },
     "execution_count": 42,
     "metadata": {},
     "output_type": "execute_result"
    }
   ],
   "source": [
    "print (len(fb))\n",
    "#fb=fb.dropna(subset=['text'])\n",
    "fb['text']=fb['text'].fillna('')\n",
    "fb['date'] = pd.to_datetime(fb[\"date\"])\n",
    "#fb2=fb.copy()\n",
    "#fb2.index = fb2['date']\n",
    "\n",
    "#fb2['count']=1\n",
    "\n",
    "\n",
    "fb['date']=pd.to_datetime(fb['date'].dt.date)\n",
    "\n",
    "fb.reset_index()\n",
    "len(fb)"
   ]
  },
  {
   "cell_type": "code",
   "execution_count": 43,
   "id": "e810a62f",
   "metadata": {},
   "outputs": [],
   "source": [
    "fb['cuisine']=fb.text.str.contains('cuisine|recette|sucre|pain|lingot|bonbon|safran')"
   ]
  },
  {
   "cell_type": "code",
   "execution_count": 44,
   "id": "342917bd",
   "metadata": {},
   "outputs": [
    {
     "data": {
      "text/plain": [
       "197629"
      ]
     },
     "execution_count": 44,
     "metadata": {},
     "output_type": "execute_result"
    }
   ],
   "source": [
    "fb=fb[~fb['cuisine']]\n",
    "len(fb)"
   ]
  },
  {
   "cell_type": "code",
   "execution_count": 45,
   "id": "afa2b8e0",
   "metadata": {},
   "outputs": [],
   "source": [
    "#for h in list(fb[fb.cuisine==True].sample(n=10).text.values):\n",
    "#    print ('*******\\n\\n\\n',h)\n"
   ]
  },
  {
   "cell_type": "code",
   "execution_count": 168,
   "id": "cc313566",
   "metadata": {},
   "outputs": [
    {
     "data": {
      "text/plain": [
       "False    150045\n",
       "True      47584\n",
       "Name: prix, dtype: int64"
      ]
     },
     "execution_count": 168,
     "metadata": {},
     "output_type": "execute_result"
    }
   ],
   "source": [
    "#fb['prix']=fb.text.str.contains('prix|iphone|Xiaomi|Redmi|samsung|oppo|android|Sony|Apple')\n",
    "#fb.prix.value_counts()"
   ]
  },
  {
   "cell_type": "code",
   "execution_count": null,
   "id": "5153da61",
   "metadata": {},
   "outputs": [],
   "source": []
  },
  {
   "cell_type": "code",
   "execution_count": 163,
   "id": "d486e220",
   "metadata": {},
   "outputs": [
    {
     "data": {
      "text/plain": [
       "array([['\\n\\n\\nTéléphone Neuf Sceller Xiaomi Poco f3 5G Global version CE Prix: 7.250.000 fmg Fixe Tel: 0343992467 / 0326907916 ______________________ 🟩Double Sim 5G 🟩Ecran 6,7\" FHD+ SuperAMOLED 120hz 🟩Octacore Snapdragon 870 🟩Ram 6go 🟩Stockage 128go 📷Caméra tout mode: 48Mpx Capteur Sony IMX 8Mpx Ultra grand angle 5Mpx Macro 📷Selfie 20 Mpx 🟩Empreinte 🟩Batterie 4250mah avec Fast charging 33w 🎮Gpu Adreno 650 (PUBG Max setting fluide be)'],\n",
       "       ['\\n\\n\\nL\\'arrivée des gammes des séries Redmi Note 11 GLOBAL VERSION est proche 😁 🧐 Mais avant cela , expliquons un peu les modèles en vente pour ces nouveautés de 2022 📱 🔹 Xiaomi a sorti pour cette année, 4 variantes du Redmi Note 11 1️⃣ Premièrement, le Redmi Note 11 équipé du Qualcomm Snapdragon 680 4G , d\\'un capteur principal de 50mpx 📷 , d\\'un écran de 6.43\" Amoled et un taux de rafraîchissement de 90Hz et une batterie de 5000mAh rechargeable sur 33W 2️⃣ Après, le Redmi Note 11s équipé du Mediatek Helio G96 4G donc plus de puissance que sur le Note 11 et un capteur principal de 108mpx 📸 , un même écran de 6.43\" Amoled et 90Hz et aussi une même batterie de 5000mAh à recharge de 33W. 3️⃣ Ensuite, le Redmi Note 11 Pro 4G , très similaire au niveau de la configuration que le Note 11s ( même processeur , même capteur photo ) mais un écran un peu plus large de 6.67\" Amoled et un taux de rafraîchissement de 120Hz , la même batterie de 5000mAh 🔋 MAIS une recharge à 67W , soit une recharge à 51% estimée en 15mn. 4️⃣ Et pour la dernière, le Redmi Note 11 Pro 5G 🆕 qui sera équipé du Qualcomm Snapdragon 695 5G ( gravé en 6nm ) , un même capteur photo principal, un même écran et la même batterie que celui du Redmi Note 11 Pro 4G toujours avec la recharge 67W💥 ‼️ Clin d\\'œil au POCO X4 Pro 5G qui a exactement la même configuration que le Redmi Note 11 Pro 5G 🔥‼️ 👉 Lequel attendez-vous le plus ? ❓ Bientôt disponible chez Concept Junior 🔜🔜 Staytuned 😋😜 #Concept_Junior #Be_successful_with_us'],\n",
       "       ['France: antenne 5G à 500 m des habitations belges\\nUne antenne 5G devrait bientôt s’installer dans la plaine de Maraige à la frontière belge, mais surtout à 500 mètres des habitations d’Esplechin.\\nlavenir.net\\nAprès avoir empêché l’installation d’éoliennes en France mais à quelques pas de leurs maisons, les Esplechinois vont devoir s’opposer aux nuisances d’une antenne 5G dans la commune de Wannehain, à 500 mètres de chez eux.'],\n",
       "       ['\\n\\n\\nSamsung S21 5G • Exynos 2100 5G | 8Gb Ram | 128Gb stock. • Etat 10/10 | Couleur Pink. Prix: 12.250.000 FMG a debattre MP ou 034 44 753 37'],\n",
       "       ['\\n\\n\\nCoques silicone disponible pour : Redmi note 10 5G Redmi note 10 Pro / 10 pro 5G Poco m3 pro Mi 11 lite Mi 10T lite #prix: 3500f #Contact / WhatsApp : Abidjan : 0576655008 Korhogo : 0700778056'],\n",
       "       ['This is a re-share of a post\\n## Les tours cellulaires 5G provoquent un déclin massif des insectes sur l\\'île grecque de Samos\\n\\nFor the English version, please go at https://safetechinternational.org/5g-cell-towers-cause-massive-insect-decline-on-the-greek-island-of-samos/\\n\\n3 mars 2022\\n\\nTRADUCTION : Sans insectes, il n\\'y aura pas de vie sur terre. Je me rends compte que beaucoup, sinon la plupart des gens, n\\'aiment pas particulièrement les insectes - le mot évoque des images de moustiques, d\\'araignées, de mouches ou de cafards plutôt que de papillons, de lucioles, d\\'abeilles ou de libellules. En 2018, Bloomberg News a publié un article : « La maison-mère de Google a un plan pour éliminer les moustiques dans le monde.\" qui résume à peu près l\\'attitude de nombreuses personnes envers les insectes : ils sont horribles, ils mordent ou piquent, ils peuvent être toxiques ou propager des maladies, et nous n\\'en avons pas besoin.\\n\\nLe problème, c\\'est que nous avons besoin des insectes, et même des moustiques. La vie est une chaîne, et de nombreuses créatures plus haut dans la chaîne alimentaire dépendent des moustiques (ou d\\'autres insectes) pour se nourrir, ou mangent les créatures qui mangent les moustiques, pour être mangées à leur tour par d\\'autres créatures. Nous brisons la chaîne de la vie à nos risques et périls, car nous en faisons partie.\\n\\nEn écrivant cet article, il m\\'est venu à l\\'esprit que la 5G est déployée autour du monde depuis un certain temps maintenant, mais je n\\'ai presque rien lu au sujet de ses impacts sur les insectes, le sol, la migration des oiseaux ou les animaux. Personne d\\'autre n\\'a rien remarqué? La Grèce est-elle le premier pays à avoir mis la 5G dans toutes les zones rurales ? Ou est-ce que les gens ne font tout simplement pas le lien et continuent de blâmer les pesticides et le changement climatique pour tout ce qui ne va pas dans la nature ? Parce que je ne crois pas une seconde que ce qui se passe ici ne se passe pas ailleurs. Quelque chose a causé l\\'extinction des bourdons dans neuf États américains. Et des amis ornithologues amateurs me disent qu\\'eux aussi sont sérieusement préoccupés par la migration des oiseaux.\\n\\nUne grande partie du problème est que personne ne regarde. Chaque jour, nous promenons nos chiens et voyons d\\'autres personnes marcher ou courir, mais regardent-ils autour d\\'eux ? Pratiquement toutes les personnes que nous voyons ont un smartphone, et le plus souvent, elles le regardent tout en marchant. Elles pourraient remarquer un éléphant s\\'il se mettait en travers de leur chemin, mais une abeille ? Ou un manque d\\'abeilles? Ces gens sont trop soucieux de « rester connectés » pour porter attention au monde sous leurs yeux. Si vous ne regardez pas, vous ne verrez pas. Si vous vivez votre vie dans ce que le chroniqueur du NY Times Roger Cohen a surnommé «l\\'apathie distraite par l\\'appareil», le monde qui vous entoure pourrait tout aussi bien ne pas exister.\\n\\nJ\\'en ai assez d\\'entendre certains dirent : « Les communications sans fil sont là pour rester ; nous ne pouvons pas nous en passer; nous ne pouvons pas retourner à l\\'âge de pierre. Ce dont nous ne pouvons pas nous passer - *vraiment pas nous passer* - c\\'est de la nature. Une planète avec des mers mortes et des terres mortes ne nous soutiendra pas ; nous mourrons de privation d\\'oxygène ou mourrons de faim. *Qui appellerez-vous alors ?*\\n\\nMaintenant que la 5G est arrivée, le temps presse. Je ne pense pas qu\\'il soit trop tard pour changer les choses, mais je ne pense pas qu\\'il nous reste beaucoup de temps pour le faire. Alors je vous demande – si ce document a signifié quelque chose pour vous, pensez sérieusement à renoncer à vos appareils sans fil. Il existe d\\'autres moyens de communiquer. Contactez les ONG et demandez-leur d\\'ajouter le rayonnement RF à leur liste des principales menaces pour la planète, d\\'arrêter de promouvoir les applications pour smartphone qui identifient les insectes ou les oiseaux, et d\\'arrêter de suivre les animaux, les oiseaux et les insectes à l\\'aide d\\'appareils sans fil. Contactez les représentants du gouvernement et demandez-leur de soutenir les alternatives à la technologie sans fil.\\n\\nSi vous ne vous en souciez pas, qui le fera?\\n\\nDiana Kordas\\nEd.M, M.A.\\nSamos, Greece [diana.kordas@protonmail.com](mailto:diana.kordas@protonmail.com)\\n\\nFebruary 22, 2022\\n\\n**RÉSUMÉ TRADUIT**\\n\\nEn 2017, une importante étude allemande a révélé que les insectes volants avaient diminué de plus de 75 % dans les aires protégées au cours des 27 années précédentes, tout en excluant le changement climatique et les pesticides. En 2021, le bourdon a été déclaré éteint dans neuf États américains. Les insectes, y compris les pollinisateurs, diminuent rapidement dans le monde entier, mais les gouvernements, les ONG, les médias traditionnels et même de nombreux scientifiques refusent de considérer les effets des rayonnements radiofréquences (RF) malgré un énorme corpus d\\'études scientifiques indépendantes démontrant qu\\'ils causent des dommages.\\n\\nAu (truncated)\\n\\nUne autre confirmation des impacts catastrophiques de la 5G sur les insectes et sur les animaux qui en dépendent pour leur survie.'],\n",
       "       ['Bear Paws Veggies & Fruit - Carrot Cake Cookies, 168 Grams\\nBear Paws veggies + fruits cookies are a fun, peanut-free snack that parents and kids agree on! Each soft cookie is made Better with real veggies + fruits, 5g of sugar per serving, no artificial colours or flavours, and no artificial sweeteners for a taste that kids will love. Bear Paws veggies +...\\namazon.ca\\nPATTES D\\'OURS Maintenant 2,00$ - \"Les prix et la disponibilité des produits sont exacts à la date et à l’heure de la publication, mais sont sujets à changement.\" \"Lien affilié\"'],\n",
       "       [\"Annonce du changement de nom: Stop 5G International est maintenant Safe Tech International - Association ACE - 64700 Hendaye\\n18 Février 2022 Après de longues délibérations, nous avons décidé de changer notre nom de Stop 5G International en Safe Tech International. Le changement vient à la fois de la remise en question et du démantèlement de l'ancien, et de la construction du...\\nace-hendaye.over-blog.fr\\nAnnonce du changement de nom : Stop 5G International est maintenant Safe Tech International [http://ace-hendaye.over-blog.fr/2022/02/annonce-du-changement-de-nom-stop-5g-international-est-maintenant-safe-tech-international.html](http://ace-hendaye.over-blog.fr/2022/02/annonce-du-changement-de-nom-stop-5g-international-est-maintenant-safe-tech-international.html)\"],\n",
       "       ['\\n\\n\\nSamsung S21 5G couleur noire venir de France disponible prix 350mille 0707893220'],\n",
       "       ['\\n\\n\\nZfold 2 256gb blck new une: 2.8say IPhone13 pro 128gb new blue une:3.23say IPhone13 128gb pink une:2.3say IPhone12 promax 128gb 🔋89-98% une:2.58say IPhone12 pro 256gb 🔋85% une:2.25say IPhone12 pro 128gb 🔋93%-88% une:2.18say IPhone12 128gb blck 🔋90% une:1.73say IPhone11 promax 256gb 🔋88-91% une:1.9say IPhone11 pro 256gb 🔋82-85 une:1.5say IPhone11 pro 64gb 🔋83-86% une:1.35say IPhone11 128gb 🔋80-86% une:1.25say IPhone11 64gb 🔋86% une:1.15say IPhone xs 64gb 🔋85% une:880k IPhone xr 128gb 🔋95% une:930k IPhone xr 64gb 🔋83-86% une:830k Samsung Note10 5g une:880k Samsung Tab A8 sim unshina une:850k Samsung Tab A7 lite sim unshina une:550k iPad mini6 64gb wifi une:1.65say iPad air4 wifi 64gb une:1.45say Galaxy Book Go new une:1.05say 📞88090597 88086437']],\n",
       "      dtype=object)"
      ]
     },
     "execution_count": 163,
     "metadata": {},
     "output_type": "execute_result"
    }
   ],
   "source": [
    "fb[fb.date>\"2022-01-01\"][['text']].sample(10).values"
   ]
  },
  {
   "cell_type": "code",
   "execution_count": 169,
   "id": "e857ffd0",
   "metadata": {},
   "outputs": [
    {
     "data": {
      "text/plain": [
       "<AxesSubplot:xlabel='date'>"
      ]
     },
     "execution_count": 169,
     "metadata": {},
     "output_type": "execute_result"
    },
    {
     "data": {
      "image/png": "[encoded data removed]",
      "text/plain": [
       "<Figure size 1080x288 with 1 Axes>"
      ]
     },
     "metadata": {
      "needs_background": "light"
     },
     "output_type": "display_data"
    }
   ],
   "source": [
    "#plot the overall shape of the facebook posts\n",
    "fbcount = fb.groupby(['date']).agg(id_count=('id', 'size')).reset_index()\n",
    "fbcount.index=fbcount['date']#.resample\n",
    "fbcount.resample(\"1w\")['id_count'].sum().plot(figsize=(15,4))\n"
   ]
  },
  {
   "cell_type": "code",
   "execution_count": 171,
   "id": "935c6bc8",
   "metadata": {},
   "outputs": [],
   "source": [
    "#plot the overall shape of the facebook posts\n",
    "#fbcount = fb[fb.prix==False].groupby(['date']).agg(id_count=('id', 'size')).reset_index()\n",
    "#fbcount.index=fbcount['date']#.resample\n",
    "#fbcount.resample(\"1w\")['id_count'].sum().plot(figsize=(15,4))\n",
    "\n"
   ]
  },
  {
   "cell_type": "markdown",
   "id": "ad6fbc99",
   "metadata": {},
   "source": [
    "## then mediacloud data"
   ]
  },
  {
   "cell_type": "code",
   "execution_count": 48,
   "id": "37aaaa87",
   "metadata": {
    "execution": {
     "iopub.execute_input": "2021-12-05T11:42:35.917407Z",
     "iopub.status.busy": "2021-12-05T11:42:35.917407Z",
     "iopub.status.idle": "2021-12-05T11:42:38.537004Z",
     "shell.execute_reply": "2021-12-05T11:42:38.536011Z",
     "shell.execute_reply.started": "2021-12-05T11:42:35.917407Z"
    },
    "tags": []
   },
   "outputs": [],
   "source": [
    "#media = pd.read_json('d:/Projects/Medialab/anses/BM_export_otmedia_docs_prod_v5_2018_2019_anses 2.json', lines=True)\n",
    "media = pd.read_csv(media_filename)\n",
    "media['title']=media['title'].fillna('')\n",
    "media['raw_content']=media['raw_content'].fillna('')\n",
    "\n",
    "\n",
    "media['text']=media['title']+  '\\n' + media['raw_content']\n",
    "#media['text']=media['text'].fillna('')\n",
    "\n",
    "\n",
    "media['id']=media['stories_id']\n",
    "#media['text']=media['title'] + \". \" + media['document']\n",
    "#media"
   ]
  },
  {
   "cell_type": "code",
   "execution_count": 49,
   "id": "9b39bf7a",
   "metadata": {},
   "outputs": [
    {
     "data": {
      "text/plain": [
       "(19328, 19328)"
      ]
     },
     "execution_count": 49,
     "metadata": {},
     "output_type": "execute_result"
    }
   ],
   "source": [
    "#media.id.nunique(),len(media)\n",
    "media.drop_duplicates(subset=['stories_id'],inplace=True)\n",
    "media.id.nunique(),len(media)"
   ]
  },
  {
   "cell_type": "code",
   "execution_count": 50,
   "id": "c6413922",
   "metadata": {},
   "outputs": [
    {
     "data": {
      "text/html": [
       "<div>\n",
       "<style scoped>\n",
       "    .dataframe tbody tr th:only-of-type {\n",
       "        vertical-align: middle;\n",
       "    }\n",
       "\n",
       "    .dataframe tbody tr th {\n",
       "        vertical-align: top;\n",
       "    }\n",
       "\n",
       "    .dataframe thead th {\n",
       "        text-align: right;\n",
       "    }\n",
       "</style>\n",
       "<table border=\"1\" class=\"dataframe\">\n",
       "  <thead>\n",
       "    <tr style=\"text-align: right;\">\n",
       "      <th></th>\n",
       "      <th>level_0</th>\n",
       "      <th>stories_id</th>\n",
       "      <th>publish_date</th>\n",
       "      <th>title</th>\n",
       "      <th>url</th>\n",
       "      <th>language</th>\n",
       "      <th>ap_syndicated</th>\n",
       "      <th>themes</th>\n",
       "      <th>media_id</th>\n",
       "      <th>media_name</th>\n",
       "      <th>...</th>\n",
       "      <th>description</th>\n",
       "      <th>raw_content</th>\n",
       "      <th>comments</th>\n",
       "      <th>author</th>\n",
       "      <th>categories</th>\n",
       "      <th>tags</th>\n",
       "      <th>date</th>\n",
       "      <th>sitename</th>\n",
       "      <th>text</th>\n",
       "      <th>id</th>\n",
       "    </tr>\n",
       "  </thead>\n",
       "  <tbody>\n",
       "    <tr>\n",
       "      <th>0</th>\n",
       "      <td>0</td>\n",
       "      <td>322425839</td>\n",
       "      <td>2015-02-27 07:00:05</td>\n",
       "      <td>Samsung en reconquête au congrès de Barcelone</td>\n",
       "      <td>http://rss.feedsportal.com/c/32394/f/668870/s/...</td>\n",
       "      <td>fr</td>\n",
       "      <td>False</td>\n",
       "      <td>NaN</td>\n",
       "      <td>39909</td>\n",
       "      <td>laprovence</td>\n",
       "      <td>...</td>\n",
       "      <td>NaN</td>\n",
       "      <td></td>\n",
       "      <td>NaN</td>\n",
       "      <td>NaN</td>\n",
       "      <td>NaN</td>\n",
       "      <td>NaN</td>\n",
       "      <td>2015-02-27</td>\n",
       "      <td>NaN</td>\n",
       "      <td>Samsung en reconquête au congrès de Barcelone\\n</td>\n",
       "      <td>322425839</td>\n",
       "    </tr>\n",
       "    <tr>\n",
       "      <th>1</th>\n",
       "      <td>1</td>\n",
       "      <td>367088338</td>\n",
       "      <td>2015-08-05 06:55:06</td>\n",
       "      <td>Smartphones: Xiaomi et Huawei croquent Apple e...</td>\n",
       "      <td>http://flux.20minutes.fr/c/32497/f/479493/s/48...</td>\n",
       "      <td>fr</td>\n",
       "      <td>False</td>\n",
       "      <td>NaN</td>\n",
       "      <td>62407</td>\n",
       "      <td>20minutes.fr</td>\n",
       "      <td>...</td>\n",
       "      <td>NaN</td>\n",
       "      <td></td>\n",
       "      <td>NaN</td>\n",
       "      <td>NaN</td>\n",
       "      <td>NaN</td>\n",
       "      <td>NaN</td>\n",
       "      <td>2015-08-05</td>\n",
       "      <td>NaN</td>\n",
       "      <td>Smartphones: Xiaomi et Huawei croquent Apple e...</td>\n",
       "      <td>367088338</td>\n",
       "    </tr>\n",
       "    <tr>\n",
       "      <th>2</th>\n",
       "      <td>2</td>\n",
       "      <td>342149219</td>\n",
       "      <td>2015-05-06 08:13:00</td>\n",
       "      <td>Marché unique du numérique: Bruxelles présente...</td>\n",
       "      <td>http://www.lavoixdunord.fr/economie/marche-uni...</td>\n",
       "      <td>fr</td>\n",
       "      <td>False</td>\n",
       "      <td>NaN</td>\n",
       "      <td>39802</td>\n",
       "      <td>lavoixdunord</td>\n",
       "      <td>...</td>\n",
       "      <td>NaN</td>\n",
       "      <td></td>\n",
       "      <td>NaN</td>\n",
       "      <td>NaN</td>\n",
       "      <td>NaN</td>\n",
       "      <td>NaN</td>\n",
       "      <td>2015-05-06</td>\n",
       "      <td>NaN</td>\n",
       "      <td>Marché unique du numérique: Bruxelles présente...</td>\n",
       "      <td>342149219</td>\n",
       "    </tr>\n",
       "    <tr>\n",
       "      <th>3</th>\n",
       "      <td>3</td>\n",
       "      <td>345521863</td>\n",
       "      <td>2015-05-18 13:26:18</td>\n",
       "      <td>Transports, santé, sécurité… l'industrie du fu...</td>\n",
       "      <td>http://www.capital.fr/a-la-une/politique-econo...</td>\n",
       "      <td>fr</td>\n",
       "      <td>False</td>\n",
       "      <td>NaN</td>\n",
       "      <td>39604</td>\n",
       "      <td>capital-FR</td>\n",
       "      <td>...</td>\n",
       "      <td>NaN</td>\n",
       "      <td></td>\n",
       "      <td>NaN</td>\n",
       "      <td>NaN</td>\n",
       "      <td>NaN</td>\n",
       "      <td>NaN</td>\n",
       "      <td>2015-05-18</td>\n",
       "      <td>NaN</td>\n",
       "      <td>Transports, santé, sécurité… l'industrie du fu...</td>\n",
       "      <td>345521863</td>\n",
       "    </tr>\n",
       "    <tr>\n",
       "      <th>4</th>\n",
       "      <td>4</td>\n",
       "      <td>335763144</td>\n",
       "      <td>2015-04-14 14:37:06</td>\n",
       "      <td>Nokia et Alcatel-Lucent, un rapprochement indu...</td>\n",
       "      <td>http://www.corsematin.com/article/france/nokia...</td>\n",
       "      <td>fr</td>\n",
       "      <td>False</td>\n",
       "      <td>NaN</td>\n",
       "      <td>39309</td>\n",
       "      <td>corsematin</td>\n",
       "      <td>...</td>\n",
       "      <td>NaN</td>\n",
       "      <td></td>\n",
       "      <td>NaN</td>\n",
       "      <td>NaN</td>\n",
       "      <td>NaN</td>\n",
       "      <td>NaN</td>\n",
       "      <td>2015-04-14</td>\n",
       "      <td>NaN</td>\n",
       "      <td>Nokia et Alcatel-Lucent, un rapprochement indu...</td>\n",
       "      <td>335763144</td>\n",
       "    </tr>\n",
       "    <tr>\n",
       "      <th>...</th>\n",
       "      <td>...</td>\n",
       "      <td>...</td>\n",
       "      <td>...</td>\n",
       "      <td>...</td>\n",
       "      <td>...</td>\n",
       "      <td>...</td>\n",
       "      <td>...</td>\n",
       "      <td>...</td>\n",
       "      <td>...</td>\n",
       "      <td>...</td>\n",
       "      <td>...</td>\n",
       "      <td>...</td>\n",
       "      <td>...</td>\n",
       "      <td>...</td>\n",
       "      <td>...</td>\n",
       "      <td>...</td>\n",
       "      <td>...</td>\n",
       "      <td>...</td>\n",
       "      <td>...</td>\n",
       "      <td>...</td>\n",
       "      <td>...</td>\n",
       "    </tr>\n",
       "    <tr>\n",
       "      <th>19323</th>\n",
       "      <td>19323</td>\n",
       "      <td>1889036757</td>\n",
       "      <td>2021-02-25 03:33:31</td>\n",
       "      <td>Taxe IFER pour les opérateurs mobiles : deux n...</td>\n",
       "      <td>https://www.nextinpact.com/article/46227/taxe-...</td>\n",
       "      <td>fr</td>\n",
       "      <td>False</td>\n",
       "      <td>NaN</td>\n",
       "      <td>258426</td>\n",
       "      <td>nextinpact.com</td>\n",
       "      <td>...</td>\n",
       "      <td>Bouygues Telecom, Free Mobile, Orange et SFR d...</td>\n",
       "      <td>Bouygues Telecom, Free Mobile, Orange et SFR d...</td>\n",
       "      <td>NaN</td>\n",
       "      <td>NaN</td>\n",
       "      <td>NaN</td>\n",
       "      <td>Finances</td>\n",
       "      <td>2021-02-25</td>\n",
       "      <td>Next INpact</td>\n",
       "      <td>Taxe IFER pour les opérateurs mobiles : deux n...</td>\n",
       "      <td>1889036757</td>\n",
       "    </tr>\n",
       "    <tr>\n",
       "      <th>19324</th>\n",
       "      <td>19324</td>\n",
       "      <td>1818529052</td>\n",
       "      <td>2021-01-08 09:00:37</td>\n",
       "      <td>Xavier Niel en Free style : Freebox Delta et P...</td>\n",
       "      <td>https://www.nextinpact.com/article/45318/xavie...</td>\n",
       "      <td>fr</td>\n",
       "      <td>False</td>\n",
       "      <td>NaN</td>\n",
       "      <td>258426</td>\n",
       "      <td>nextinpact.com</td>\n",
       "      <td>...</td>\n",
       "      <td>Alors que l'année commence et que Free Mobile ...</td>\n",
       "      <td>Alors que l'année commence et que Free Mobile ...</td>\n",
       "      <td>NaN</td>\n",
       "      <td>Sébastien Gavois</td>\n",
       "      <td>NaN</td>\n",
       "      <td>FAI</td>\n",
       "      <td>2021-01-08</td>\n",
       "      <td>Next INpact</td>\n",
       "      <td>Xavier Niel en Free style : Freebox Delta et P...</td>\n",
       "      <td>1818529052</td>\n",
       "    </tr>\n",
       "    <tr>\n",
       "      <th>19325</th>\n",
       "      <td>19325</td>\n",
       "      <td>1889099177</td>\n",
       "      <td>2021-02-10 04:15:42</td>\n",
       "      <td>ANFR : « près de 55 500 sites 4G et 20 000 sit...</td>\n",
       "      <td>https://www.nextinpact.com/article/45984/anfr-...</td>\n",
       "      <td>fr</td>\n",
       "      <td>False</td>\n",
       "      <td>NaN</td>\n",
       "      <td>258426</td>\n",
       "      <td>nextinpact.com</td>\n",
       "      <td>...</td>\n",
       "      <td>Comme chaque début de mois, l’Agence nationale...</td>\n",
       "      <td>Comme chaque début de mois, l’Agence nationale...</td>\n",
       "      <td>NaN</td>\n",
       "      <td>NaN</td>\n",
       "      <td>NaN</td>\n",
       "      <td>Téléphonie</td>\n",
       "      <td>2021-02-10</td>\n",
       "      <td>Next INpact</td>\n",
       "      <td>ANFR : « près de 55 500 sites 4G et 20 000 sit...</td>\n",
       "      <td>1889099177</td>\n",
       "    </tr>\n",
       "    <tr>\n",
       "      <th>19326</th>\n",
       "      <td>19326</td>\n",
       "      <td>1845852923</td>\n",
       "      <td>2021-02-08 03:57:59</td>\n",
       "      <td>#LeBrief : loi 5G « anti-Huawei » adoubée, eff...</td>\n",
       "      <td>https://www.nextinpact.com/lebrief/728</td>\n",
       "      <td>fr</td>\n",
       "      <td>False</td>\n",
       "      <td>NaN</td>\n",
       "      <td>258426</td>\n",
       "      <td>nextinpact.com</td>\n",
       "      <td>...</td>\n",
       "      <td>Retrouvez l'actualité en bref de l'informatiqu...</td>\n",
       "      <td>Aussi bien sur les réseaux sociaux que dans la...</td>\n",
       "      <td>NaN</td>\n",
       "      <td>NaN</td>\n",
       "      <td>NaN</td>\n",
       "      <td>Le Brief|Actualités|Numérique|Next INpact|Info...</td>\n",
       "      <td>2021-02-08</td>\n",
       "      <td>INpact MediaGroup</td>\n",
       "      <td>#LeBrief : loi 5G « anti-Huawei » adoubée, eff...</td>\n",
       "      <td>1845852923</td>\n",
       "    </tr>\n",
       "    <tr>\n",
       "      <th>19327</th>\n",
       "      <td>19327</td>\n",
       "      <td>1748028653</td>\n",
       "      <td>2020-10-23 04:26:37</td>\n",
       "      <td>#LeBrief : TousAntiCovid disponible, fragmenta...</td>\n",
       "      <td>https://www.nextinpact.com/lebrief/655</td>\n",
       "      <td>fr</td>\n",
       "      <td>False</td>\n",
       "      <td>NaN</td>\n",
       "      <td>258426</td>\n",
       "      <td>nextinpact.com</td>\n",
       "      <td>...</td>\n",
       "      <td>Retrouvez l'actualité en bref de l'informatiqu...</td>\n",
       "      <td>Comme prévu, elle a été mise en ligne hier (ai...</td>\n",
       "      <td>NaN</td>\n",
       "      <td>NaN</td>\n",
       "      <td>NaN</td>\n",
       "      <td>Le Brief|Actualités|Numérique|Next INpact|Info...</td>\n",
       "      <td>2020-10-23</td>\n",
       "      <td>INpact MediaGroup</td>\n",
       "      <td>#LeBrief : TousAntiCovid disponible, fragmenta...</td>\n",
       "      <td>1748028653</td>\n",
       "    </tr>\n",
       "  </tbody>\n",
       "</table>\n",
       "<p>19328 rows × 31 columns</p>\n",
       "</div>"
      ],
      "text/plain": [
       "       level_0  stories_id         publish_date  \\\n",
       "0            0   322425839  2015-02-27 07:00:05   \n",
       "1            1   367088338  2015-08-05 06:55:06   \n",
       "2            2   342149219  2015-05-06 08:13:00   \n",
       "3            3   345521863  2015-05-18 13:26:18   \n",
       "4            4   335763144  2015-04-14 14:37:06   \n",
       "...        ...         ...                  ...   \n",
       "19323    19323  1889036757  2021-02-25 03:33:31   \n",
       "19324    19324  1818529052  2021-01-08 09:00:37   \n",
       "19325    19325  1889099177  2021-02-10 04:15:42   \n",
       "19326    19326  1845852923  2021-02-08 03:57:59   \n",
       "19327    19327  1748028653  2020-10-23 04:26:37   \n",
       "\n",
       "                                                   title  \\\n",
       "0          Samsung en reconquête au congrès de Barcelone   \n",
       "1      Smartphones: Xiaomi et Huawei croquent Apple e...   \n",
       "2      Marché unique du numérique: Bruxelles présente...   \n",
       "3      Transports, santé, sécurité… l'industrie du fu...   \n",
       "4      Nokia et Alcatel-Lucent, un rapprochement indu...   \n",
       "...                                                  ...   \n",
       "19323  Taxe IFER pour les opérateurs mobiles : deux n...   \n",
       "19324  Xavier Niel en Free style : Freebox Delta et P...   \n",
       "19325  ANFR : « près de 55 500 sites 4G et 20 000 sit...   \n",
       "19326  #LeBrief : loi 5G « anti-Huawei » adoubée, eff...   \n",
       "19327  #LeBrief : TousAntiCovid disponible, fragmenta...   \n",
       "\n",
       "                                                     url language  \\\n",
       "0      http://rss.feedsportal.com/c/32394/f/668870/s/...       fr   \n",
       "1      http://flux.20minutes.fr/c/32497/f/479493/s/48...       fr   \n",
       "2      http://www.lavoixdunord.fr/economie/marche-uni...       fr   \n",
       "3      http://www.capital.fr/a-la-une/politique-econo...       fr   \n",
       "4      http://www.corsematin.com/article/france/nokia...       fr   \n",
       "...                                                  ...      ...   \n",
       "19323  https://www.nextinpact.com/article/46227/taxe-...       fr   \n",
       "19324  https://www.nextinpact.com/article/45318/xavie...       fr   \n",
       "19325  https://www.nextinpact.com/article/45984/anfr-...       fr   \n",
       "19326             https://www.nextinpact.com/lebrief/728       fr   \n",
       "19327             https://www.nextinpact.com/lebrief/655       fr   \n",
       "\n",
       "       ap_syndicated themes  media_id      media_name  ...  \\\n",
       "0              False    NaN     39909      laprovence  ...   \n",
       "1              False    NaN     62407    20minutes.fr  ...   \n",
       "2              False    NaN     39802    lavoixdunord  ...   \n",
       "3              False    NaN     39604      capital-FR  ...   \n",
       "4              False    NaN     39309      corsematin  ...   \n",
       "...              ...    ...       ...             ...  ...   \n",
       "19323          False    NaN    258426  nextinpact.com  ...   \n",
       "19324          False    NaN    258426  nextinpact.com  ...   \n",
       "19325          False    NaN    258426  nextinpact.com  ...   \n",
       "19326          False    NaN    258426  nextinpact.com  ...   \n",
       "19327          False    NaN    258426  nextinpact.com  ...   \n",
       "\n",
       "                                             description  \\\n",
       "0                                                    NaN   \n",
       "1                                                    NaN   \n",
       "2                                                    NaN   \n",
       "3                                                    NaN   \n",
       "4                                                    NaN   \n",
       "...                                                  ...   \n",
       "19323  Bouygues Telecom, Free Mobile, Orange et SFR d...   \n",
       "19324  Alors que l'année commence et que Free Mobile ...   \n",
       "19325  Comme chaque début de mois, l’Agence nationale...   \n",
       "19326  Retrouvez l'actualité en bref de l'informatiqu...   \n",
       "19327  Retrouvez l'actualité en bref de l'informatiqu...   \n",
       "\n",
       "                                             raw_content comments  \\\n",
       "0                                                             NaN   \n",
       "1                                                             NaN   \n",
       "2                                                             NaN   \n",
       "3                                                             NaN   \n",
       "4                                                             NaN   \n",
       "...                                                  ...      ...   \n",
       "19323  Bouygues Telecom, Free Mobile, Orange et SFR d...      NaN   \n",
       "19324  Alors que l'année commence et que Free Mobile ...      NaN   \n",
       "19325  Comme chaque début de mois, l’Agence nationale...      NaN   \n",
       "19326  Aussi bien sur les réseaux sociaux que dans la...      NaN   \n",
       "19327  Comme prévu, elle a été mise en ligne hier (ai...      NaN   \n",
       "\n",
       "                 author categories  \\\n",
       "0                   NaN        NaN   \n",
       "1                   NaN        NaN   \n",
       "2                   NaN        NaN   \n",
       "3                   NaN        NaN   \n",
       "4                   NaN        NaN   \n",
       "...                 ...        ...   \n",
       "19323               NaN        NaN   \n",
       "19324  Sébastien Gavois        NaN   \n",
       "19325               NaN        NaN   \n",
       "19326               NaN        NaN   \n",
       "19327               NaN        NaN   \n",
       "\n",
       "                                                    tags       date  \\\n",
       "0                                                    NaN 2015-02-27   \n",
       "1                                                    NaN 2015-08-05   \n",
       "2                                                    NaN 2015-05-06   \n",
       "3                                                    NaN 2015-05-18   \n",
       "4                                                    NaN 2015-04-14   \n",
       "...                                                  ...        ...   \n",
       "19323                                           Finances 2021-02-25   \n",
       "19324                                                FAI 2021-01-08   \n",
       "19325                                         Téléphonie 2021-02-10   \n",
       "19326  Le Brief|Actualités|Numérique|Next INpact|Info... 2021-02-08   \n",
       "19327  Le Brief|Actualités|Numérique|Next INpact|Info... 2020-10-23   \n",
       "\n",
       "                sitename                                               text  \\\n",
       "0                    NaN    Samsung en reconquête au congrès de Barcelone\\n   \n",
       "1                    NaN  Smartphones: Xiaomi et Huawei croquent Apple e...   \n",
       "2                    NaN  Marché unique du numérique: Bruxelles présente...   \n",
       "3                    NaN  Transports, santé, sécurité… l'industrie du fu...   \n",
       "4                    NaN  Nokia et Alcatel-Lucent, un rapprochement indu...   \n",
       "...                  ...                                                ...   \n",
       "19323        Next INpact  Taxe IFER pour les opérateurs mobiles : deux n...   \n",
       "19324        Next INpact  Xavier Niel en Free style : Freebox Delta et P...   \n",
       "19325        Next INpact  ANFR : « près de 55 500 sites 4G et 20 000 sit...   \n",
       "19326  INpact MediaGroup  #LeBrief : loi 5G « anti-Huawei » adoubée, eff...   \n",
       "19327  INpact MediaGroup  #LeBrief : TousAntiCovid disponible, fragmenta...   \n",
       "\n",
       "               id  \n",
       "0       322425839  \n",
       "1       367088338  \n",
       "2       342149219  \n",
       "3       345521863  \n",
       "4       335763144  \n",
       "...           ...  \n",
       "19323  1889036757  \n",
       "19324  1818529052  \n",
       "19325  1889099177  \n",
       "19326  1845852923  \n",
       "19327  1748028653  \n",
       "\n",
       "[19328 rows x 31 columns]"
      ]
     },
     "execution_count": 50,
     "metadata": {},
     "output_type": "execute_result"
    }
   ],
   "source": [
    "\n",
    "#media=media[media[\"publish_date\"]!='undateable']\n",
    "#mediaselect['date'] = pd.to_datetime(mediaselect['docTime']).dt.date\n",
    "\n",
    "media['date'] = pd.to_datetime(pd.to_datetime(media[\"publish_date\"]).dt.date)\n",
    "media = media.reset_index()\n",
    "media\n"
   ]
  },
  {
   "cell_type": "code",
   "execution_count": 127,
   "id": "5c84e3d0",
   "metadata": {},
   "outputs": [],
   "source": [
    "media['cuisine']=media.text.str.contains('cuisine|recette|sucre|pain|lingot|bonbon|safran')\n",
    "#media['5g']=media.text.str.contains('5g')\n",
    "#media['no5G']=~media.text.str.contains('5G')\n",
    "#media['out']=media['no5G']"
   ]
  },
  {
   "cell_type": "code",
   "execution_count": 129,
   "id": "bd6c69bd",
   "metadata": {},
   "outputs": [],
   "source": [
    "media=media[media['cuisine']==False]"
   ]
  },
  {
   "cell_type": "code",
   "execution_count": null,
   "id": "e0cc5529",
   "metadata": {},
   "outputs": [],
   "source": []
  },
  {
   "cell_type": "code",
   "execution_count": 130,
   "id": "daf515b9",
   "metadata": {},
   "outputs": [
    {
     "name": "stdout",
     "output_type": "stream",
     "text": [
      "18331\n",
      "18331\n"
     ]
    }
   ],
   "source": [
    "print (len(media))\n",
    "media=media.dropna(subset=['text'])\n",
    "\n",
    "#media.reset_index()\n",
    "print(len(media))"
   ]
  },
  {
   "cell_type": "code",
   "execution_count": 131,
   "id": "0d05cff7",
   "metadata": {},
   "outputs": [
    {
     "data": {
      "text/plain": [
       "18331"
      ]
     },
     "execution_count": 131,
     "metadata": {},
     "output_type": "execute_result"
    }
   ],
   "source": [
    "media=media[media['date']<'2021-09-01']\n",
    "len(media)"
   ]
  },
  {
   "cell_type": "code",
   "execution_count": 132,
   "id": "c51e9c88",
   "metadata": {},
   "outputs": [
    {
     "data": {
      "text/plain": [
       "array(['« Crise du Covid » ou comment l’OMS a agi comme un instrument de manipulation mondiale — Les Maîtres du Monde — Sott.net',\n",
       "       \"L'UE veut doubler sa part dans la production de semi-conducteurs d'ici 2030\",\n",
       "       'Coronavirus: une organisation minutieuse du massacre ?',\n",
       "       'Des failles de sécurité inquiétantes sur les réseaux 4G et 5G @TahaaNumerique',\n",
       "       'La 5G débarque en France, y a-t-il un risque sanitaire ?'],\n",
       "      dtype=object)"
      ]
     },
     "execution_count": 132,
     "metadata": {},
     "output_type": "execute_result"
    }
   ],
   "source": [
    "media.sample(5).title.values"
   ]
  },
  {
   "cell_type": "code",
   "execution_count": 133,
   "id": "d0cb10e4",
   "metadata": {},
   "outputs": [
    {
     "data": {
      "text/plain": [
       "<AxesSubplot:xlabel='date'>"
      ]
     },
     "execution_count": 133,
     "metadata": {},
     "output_type": "execute_result"
    },
    {
     "data": {
      "image/png": "[encoded data removed]",
      "text/plain": [
       "<Figure size 1080x288 with 1 Axes>"
      ]
     },
     "metadata": {
      "needs_background": "light"
     },
     "output_type": "display_data"
    }
   ],
   "source": [
    "#plot the overall shape of the media articles in time\n",
    "mediacount = media.groupby(['date']).agg(id_count=('id', 'size')).reset_index()\n",
    "mediacount.index=mediacount['date']#.resample\n",
    "mediacount.resample(\"1w\")['id_count'].sum().plot(figsize=(15,4))\n",
    "\n"
   ]
  },
  {
   "cell_type": "markdown",
   "id": "3b26fa12",
   "metadata": {},
   "source": [
    "## finally Twitter data"
   ]
  },
  {
   "cell_type": "code",
   "execution_count": 134,
   "id": "937c94fa",
   "metadata": {
    "execution": {
     "iopub.execute_input": "2021-12-05T11:33:01.830687Z",
     "iopub.status.busy": "2021-12-05T11:33:01.830687Z",
     "iopub.status.idle": "2021-12-05T11:33:01.896481Z",
     "shell.execute_reply": "2021-12-05T11:33:01.895489Z",
     "shell.execute_reply.started": "2021-12-05T11:33:01.830687Z"
    },
    "tags": []
   },
   "outputs": [
    {
     "data": {
      "text/plain": [
       "['../twitter/data5G/5G.csv',\n",
       " '../twitter/data5G/5G_until_dec28_2020.csv',\n",
       " '../twitter/data5G/5G_until_fev24_2020.csv']"
      ]
     },
     "execution_count": 134,
     "metadata": {},
     "output_type": "execute_result"
    }
   ],
   "source": [
    "#paths = glob.glob('d:/Projects/Medialab/Anses/tweetstotal/*')\n",
    "paths=glob.glob(tweet_path)\n",
    "paths"
   ]
  },
  {
   "cell_type": "code",
   "execution_count": 135,
   "id": "87adf7d3",
   "metadata": {},
   "outputs": [
    {
     "data": {
      "text/plain": [
       "'../twitter/data5G/*'"
      ]
     },
     "execution_count": 135,
     "metadata": {},
     "output_type": "execute_result"
    }
   ],
   "source": [
    "tweet_path"
   ]
  },
  {
   "cell_type": "code",
   "execution_count": 136,
   "id": "b940ec33",
   "metadata": {
    "execution": {
     "iopub.execute_input": "2021-12-05T11:33:05.978540Z",
     "iopub.status.busy": "2021-12-05T11:33:05.978540Z",
     "iopub.status.idle": "2021-12-05T11:33:41.651152Z",
     "shell.execute_reply": "2021-12-05T11:33:41.651152Z",
     "shell.execute_reply.started": "2021-12-05T11:33:05.978540Z"
    },
    "tags": []
   },
   "outputs": [
    {
     "name": "stdout",
     "output_type": "stream",
     "text": [
      "processing  ../twitter/data5G/5G.csv\n"
     ]
    },
    {
     "name": "stderr",
     "output_type": "stream",
     "text": [
      "/var/folders/bx/gl47n30d0zbbbqzp9zh3kcrr0000gn/T/ipykernel_6137/1440921129.py:13: DtypeWarning: Columns (56,57,58) have mixed types. Specify dtype option on import or set low_memory=False.\n",
      "  df=pd.read_csv(p,dtype=dico_id)\n",
      "/var/folders/bx/gl47n30d0zbbbqzp9zh3kcrr0000gn/T/ipykernel_6137/1440921129.py:14: FutureWarning: The frame.append method is deprecated and will be removed from pandas in a future version. Use pandas.concat instead.\n",
      "  tweets=tweets.append(df, ignore_index=True)\n"
     ]
    },
    {
     "name": "stdout",
     "output_type": "stream",
     "text": [
      "processing  ../twitter/data5G/5G_until_dec28_2020.csv\n"
     ]
    },
    {
     "name": "stderr",
     "output_type": "stream",
     "text": [
      "/var/folders/bx/gl47n30d0zbbbqzp9zh3kcrr0000gn/T/ipykernel_6137/1440921129.py:13: DtypeWarning: Columns (56,57,58) have mixed types. Specify dtype option on import or set low_memory=False.\n",
      "  df=pd.read_csv(p,dtype=dico_id)\n",
      "/var/folders/bx/gl47n30d0zbbbqzp9zh3kcrr0000gn/T/ipykernel_6137/1440921129.py:14: FutureWarning: The frame.append method is deprecated and will be removed from pandas in a future version. Use pandas.concat instead.\n",
      "  tweets=tweets.append(df, ignore_index=True)\n"
     ]
    },
    {
     "name": "stdout",
     "output_type": "stream",
     "text": [
      "processing  ../twitter/data5G/5G_until_fev24_2020.csv\n"
     ]
    },
    {
     "name": "stderr",
     "output_type": "stream",
     "text": [
      "/var/folders/bx/gl47n30d0zbbbqzp9zh3kcrr0000gn/T/ipykernel_6137/1440921129.py:13: DtypeWarning: Columns (39) have mixed types. Specify dtype option on import or set low_memory=False.\n",
      "  df=pd.read_csv(p,dtype=dico_id)\n",
      "/var/folders/bx/gl47n30d0zbbbqzp9zh3kcrr0000gn/T/ipykernel_6137/1440921129.py:14: FutureWarning: The frame.append method is deprecated and will be removed from pandas in a future version. Use pandas.concat instead.\n",
      "  tweets=tweets.append(df, ignore_index=True)\n"
     ]
    }
   ],
   "source": [
    "dico_id={'id': 'string',\n",
    " 'to_userid': 'string',\n",
    " 'to_tweetid': 'string',\n",
    " 'user_id': 'string',\n",
    " 'retweeted_id': 'string',\n",
    " 'retweeted_user_id': 'string',\n",
    " 'quoted_id': 'string',\n",
    " 'quoted_user_id': 'string',\n",
    " 'mentioned_ids': 'string'}\n",
    "tweets=pd.DataFrame()\n",
    "for p in [f for f in paths if not '.zip' in f]:\n",
    "    print (\"processing \",p)\n",
    "    df=pd.read_csv(p,dtype=dico_id)\n",
    "    tweets=tweets.append(df, ignore_index=True)\n",
    "tweets=tweets.drop_duplicates()\n",
    "tweets['date'] = pd.to_datetime(pd.to_datetime(tweets['local_time']).dt.date)\n",
    "#tweets"
   ]
  },
  {
   "cell_type": "code",
   "execution_count": 137,
   "id": "0a5a67a1",
   "metadata": {},
   "outputs": [
    {
     "name": "stdout",
     "output_type": "stream",
     "text": [
      "808127\n"
     ]
    }
   ],
   "source": [
    "print (len(tweets))\n",
    "tweets=tweets.dropna(subset=['text'])\n",
    "tweets = tweets.reset_index()\n",
    "\n",
    "#tweets = tweets.loc[~(tweets['text'].str.contains('N.H.L.', case=False, regex=False, na=False))]\n",
    "#print (len(tweets))\n"
   ]
  },
  {
   "cell_type": "code",
   "execution_count": 138,
   "id": "feba6be0",
   "metadata": {},
   "outputs": [
    {
     "data": {
      "text/plain": [
       "Kellerarduino      27112\n",
       "Digitaltrans4mF    10979\n",
       "marco_5g            3751\n",
       "YosAmRaN2           2240\n",
       "EricFitteDuval      2214\n",
       "                   ...  \n",
       "pierdziryjek           1\n",
       "ZorteK                 1\n",
       "HUNGRYLIFESTARF        1\n",
       "mikasimplement         1\n",
       "p_moraisribz           1\n",
       "Name: user_screen_name, Length: 227270, dtype: int64"
      ]
     },
     "execution_count": 138,
     "metadata": {},
     "output_type": "execute_result"
    }
   ],
   "source": [
    "tweets.user_screen_name.value_counts()"
   ]
  },
  {
   "cell_type": "code",
   "execution_count": 139,
   "id": "01d5ac05",
   "metadata": {},
   "outputs": [],
   "source": [
    "tweets_keller=tweets[tweets['user_screen_name']=='Kellerarduino']"
   ]
  },
  {
   "cell_type": "code",
   "execution_count": 140,
   "id": "9b72331a",
   "metadata": {},
   "outputs": [
    {
     "name": "stderr",
     "output_type": "stream",
     "text": [
      "/var/folders/bx/gl47n30d0zbbbqzp9zh3kcrr0000gn/T/ipykernel_6137/3867370031.py:1: SettingWithCopyWarning: \n",
      "A value is trying to be set on a copy of a slice from a DataFrame.\n",
      "Try using .loc[row_indexer,col_indexer] = value instead\n",
      "\n",
      "See the caveats in the documentation: https://pandas.pydata.org/pandas-docs/stable/user_guide/indexing.html#returning-a-view-versus-a-copy\n",
      "  tweets_keller['5G']=tweets_keller.text.str.contains('5G')\n"
     ]
    }
   ],
   "source": [
    "tweets_keller['5G']=tweets_keller.text.str.contains('5G')"
   ]
  },
  {
   "cell_type": "code",
   "execution_count": 141,
   "id": "ebf40a50",
   "metadata": {},
   "outputs": [
    {
     "data": {
      "text/plain": [
       "array([['fan K1 on !!! Temp. inside 13°c Hum. inside 69% H2O 9g/m^3 Temp. outside 2°c Hum. outside 75% H2O 5g/m^3',\n",
       "        False],\n",
       "       ['fan K1 on !!! Temp. inside 13°c Hum. inside 69% H2O 9g/m^3 Temp. outside 2°c Hum. outside 76% H2O 5g/m^3',\n",
       "        False],\n",
       "       ['fan K1 on !!! Temp. inside 13°c Hum. inside 69% H2O 9g/m^3 Temp. outside 2°c Hum. outside 77% H2O 5g/m^3',\n",
       "        False],\n",
       "       ...,\n",
       "       ['fan K1 on !!! Temp. inside 19°c Hum. inside 57% H2O 10g/m^3 Temp. outside 13°c Hum. outside 43% H2O 5g/m^3',\n",
       "        False],\n",
       "       ['fan K1 on !!! Temp. inside 19°c Hum. inside 57% H2O 10g/m^3 Temp. outside 14°c Hum. outside 43% H2O 5g/m^3',\n",
       "        False],\n",
       "       ['fan K1 on !!! Temp. inside 19°c Hum. inside 57% H2O 10g/m^3 Temp. outside 13°c Hum. outside 44% H2O 5g/m^3',\n",
       "        False]], dtype=object)"
      ]
     },
     "execution_count": 141,
     "metadata": {},
     "output_type": "execute_result"
    }
   ],
   "source": [
    "tweets_keller[['text','5G']].values"
   ]
  },
  {
   "cell_type": "code",
   "execution_count": 142,
   "id": "39483566",
   "metadata": {},
   "outputs": [
    {
     "data": {
      "text/plain": [
       "801512"
      ]
     },
     "execution_count": 142,
     "metadata": {},
     "output_type": "execute_result"
    }
   ],
   "source": [
    "len(tweets)\n",
    "tweets=tweets[tweets.text.str.contains('5G|5g')]\n",
    "len(tweets)"
   ]
  },
  {
   "cell_type": "code",
   "execution_count": 143,
   "id": "17feffda",
   "metadata": {},
   "outputs": [
    {
     "data": {
      "text/plain": [
       "756190"
      ]
     },
     "execution_count": 143,
     "metadata": {},
     "output_type": "execute_result"
    }
   ],
   "source": [
    "len(tweets)\n",
    "tweets=tweets[tweets.text.str.contains(' 5G| 5g|5G |5G.|5g |5g.|5g,|5G,|#5G|#5g|•5G|•5g|,5G|,5g|5G\\n|5g\\n|/5G|/5g')]\n",
    "tweets=tweets[~tweets.text.str.contains('5G/|5g/')]\n",
    "len(tweets)"
   ]
  },
  {
   "cell_type": "code",
   "execution_count": 144,
   "id": "2228bd7e",
   "metadata": {
    "scrolled": true
   },
   "outputs": [],
   "source": [
    "#for x in tweets.sample(n=20).text.values:\n",
    "#    print('****\\n',x)"
   ]
  },
  {
   "cell_type": "code",
   "execution_count": 145,
   "id": "1541c793",
   "metadata": {},
   "outputs": [
    {
     "data": {
      "text/plain": [
       "746403"
      ]
     },
     "execution_count": 145,
     "metadata": {},
     "output_type": "execute_result"
    }
   ],
   "source": [
    "tweets=tweets.drop_duplicates(subset=['user_screen_name','text'])\n",
    "len(tweets)"
   ]
  },
  {
   "cell_type": "code",
   "execution_count": 146,
   "id": "5d31b761",
   "metadata": {},
   "outputs": [],
   "source": [
    "#tweets[tweets['user_screen_name']=='YosAmRaN2'].sample(n=2).text.values"
   ]
  },
  {
   "cell_type": "code",
   "execution_count": null,
   "id": "68b4a4de",
   "metadata": {},
   "outputs": [],
   "source": []
  },
  {
   "cell_type": "code",
   "execution_count": null,
   "id": "d739ee0b",
   "metadata": {},
   "outputs": [],
   "source": []
  },
  {
   "cell_type": "code",
   "execution_count": 147,
   "id": "cbf4edf8",
   "metadata": {},
   "outputs": [],
   "source": [
    "#import csv\n",
    "#tweets.to_csv('../twitter/twitter_nonnum.csv',quoting=csv.QUOTE_NONNUMERIC)#,line_terminator='\\n',index=False)\n",
    "#dfa=pd.read_csv('../twitter/twitter_nonnum.csv',dtype=dico_id)\n",
    "#len(dfa)\n"
   ]
  },
  {
   "cell_type": "code",
   "execution_count": 148,
   "id": "69ae30e2",
   "metadata": {},
   "outputs": [
    {
     "data": {
      "text/plain": [
       "<AxesSubplot:xlabel='date'>"
      ]
     },
     "execution_count": 148,
     "metadata": {},
     "output_type": "execute_result"
    },
    {
     "data": {
      "image/png": "[encoded data removed]",
      "text/plain": [
       "<Figure size 1080x288 with 1 Axes>"
      ]
     },
     "metadata": {
      "needs_background": "light"
     },
     "output_type": "display_data"
    }
   ],
   "source": [
    "#plot the overall shape of the tweets over time\n",
    "tweetscount = tweets.groupby(['date']).agg(id_count=('id', 'size')).reset_index()\n",
    "tweetscount.index=tweetscount['date']#.resample\n",
    "tweetscount.resample(\"1d\")['id_count'].sum().plot(figsize=(15,4))\n",
    "\n",
    "\n"
   ]
  },
  {
   "cell_type": "code",
   "execution_count": null,
   "id": "31840a08",
   "metadata": {},
   "outputs": [],
   "source": []
  },
  {
   "cell_type": "markdown",
   "id": "220b599d",
   "metadata": {},
   "source": [
    "## we merge the three dataframes in one"
   ]
  },
  {
   "cell_type": "code",
   "execution_count": null,
   "id": "5c4d767b",
   "metadata": {},
   "outputs": [],
   "source": []
  },
  {
   "cell_type": "code",
   "execution_count": 149,
   "id": "74d71f38",
   "metadata": {},
   "outputs": [],
   "source": [
    "tweets['source']=tweets['user_name']\n",
    "fb['source']=fb['account_name']\n",
    "media['source']=media['media_name']\n",
    "tweets['origin']='twitter'\n",
    "media['origin']='media'\n",
    "fb['origin']='facebook'\n",
    "dfall=pd.concat([tweets[['id','date','text','source','origin']],media[['id','date','text','source','origin']],fb[['id','date','text','source','origin']]])"
   ]
  },
  {
   "cell_type": "code",
   "execution_count": 150,
   "id": "8813e8f9",
   "metadata": {},
   "outputs": [
    {
     "data": {
      "text/plain": [
       "962363"
      ]
     },
     "execution_count": 150,
     "metadata": {},
     "output_type": "execute_result"
    }
   ],
   "source": [
    "dfall.to_csv('../all3/fb_tw_med_data_5G.csv.gz',quoting=csv.QUOTE_NONNUMERIC)#,line_terminator='\\n',index=False)\n",
    "\n",
    "len(dfall)"
   ]
  },
  {
   "cell_type": "markdown",
   "id": "22e8efeb",
   "metadata": {},
   "source": [
    "# Alternatively, one can read all the agregated data at once: "
   ]
  },
  {
   "cell_type": "code",
   "execution_count": 151,
   "id": "d118f593",
   "metadata": {},
   "outputs": [],
   "source": [
    "dfall=pd.read_csv('../all3/fb_tw_med_data_5G.csv.gz')#,line_terminator='\\n',index=False)"
   ]
  },
  {
   "cell_type": "code",
   "execution_count": 152,
   "id": "f6930186",
   "metadata": {},
   "outputs": [
    {
     "data": {
      "image/png": "[encoded data removed]",
      "text/plain": [
       "<Figure size 1080x288 with 1 Axes>"
      ]
     },
     "metadata": {
      "needs_background": "light"
     },
     "output_type": "display_data"
    }
   ],
   "source": [
    "#plot the overall shape of the tweets over time\n",
    "from matplotlib import pyplot as plt\n",
    "dfall['date']=pd.to_datetime(dfall['date'])\n",
    "dfallcount = dfall.groupby(['origin','date']).agg(id_count=('id', 'size')).reset_index()\n",
    "dfallcount.index=dfallcount['date']#.resample\n",
    "dfallcount=dfallcount[dfallcount['date']>'2012']\n",
    "dfallcount[dfallcount['origin']=='media'].resample(\"1m\")['id_count'].sum().plot(figsize=(15,4), label='media (monthly)')\n",
    "dfallcount[dfallcount['origin']=='facebook' ].resample(\"1w\")['id_count'].sum().plot(figsize=(15,4), label='facebook (weekly)')\n",
    "dfallcount[dfallcount['origin']=='twitter'].resample(\"1d\")['id_count'].sum().plot(figsize=(15,4), label='twitter (daily)')\n",
    "plt.legend()\n",
    "\n",
    "plt.savefig('../images/ts_5G.pdf')"
   ]
  },
  {
   "cell_type": "code",
   "execution_count": null,
   "id": "b2e79b6e",
   "metadata": {},
   "outputs": [],
   "source": []
  }
 ],
 "metadata": {
  "kernelspec": {
   "display_name": "Python 3 (ipykernel)",
   "language": "python",
   "name": "python3"
  },
  "language_info": {
   "codemirror_mode": {
    "name": "ipython",
    "version": 3
   },
   "file_extension": ".py",
   "mimetype": "text/x-python",
   "name": "python",
   "nbconvert_exporter": "python",
   "pygments_lexer": "ipython3",
   "version": "3.8.13"
  }
 },
 "nbformat": 4,
 "nbformat_minor": 5
}
