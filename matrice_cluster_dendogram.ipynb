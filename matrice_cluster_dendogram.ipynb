{
 "cells": [
  {
   "cell_type": "code",
   "execution_count": 55,
   "id": "39d4df55",
   "metadata": {
    "execution": {
     "iopub.execute_input": "2022-05-02T15:22:15.689583Z",
     "iopub.status.busy": "2022-05-02T15:22:15.689583Z",
     "iopub.status.idle": "2022-05-02T15:22:15.697670Z",
     "shell.execute_reply": "2022-05-02T15:22:15.697670Z",
     "shell.execute_reply.started": "2022-05-02T15:22:15.689583Z"
    },
    "tags": []
   },
   "outputs": [],
   "source": [
    "import pandas as pd\n",
    "#import bamboolib\n",
    "import os\n",
    "import numpy as np\n",
    "from matplotlib import pyplot as plt\n",
    "from matplotlib.ticker import MultipleLocator, FixedFormatter, FixedLocator\n",
    "\n",
    "import seaborn as sns\n",
    "import scipy\n",
    "import scipy.cluster.hierarchy as hc\n",
    "from scipy.cluster.hierarchy import dendrogram, linkage\n",
    "import scipy.spatial as sp\n",
    "import bamboolib as bam\n"
   ]
  },
  {
   "cell_type": "markdown",
   "id": "33185b06",
   "metadata": {},
   "source": [
    "# Chargement des données"
   ]
  },
  {
   "cell_type": "code",
   "execution_count": 59,
   "id": "5ca47a4f",
   "metadata": {
    "execution": {
     "iopub.execute_input": "2022-05-02T15:38:53.333533Z",
     "iopub.status.busy": "2022-05-02T15:38:53.333533Z",
     "iopub.status.idle": "2022-05-02T15:38:53.672883Z",
     "shell.execute_reply": "2022-05-02T15:38:53.583847Z",
     "shell.execute_reply.started": "2022-05-02T15:38:53.333533Z"
    },
    "tags": []
   },
   "outputs": [
    {
     "name": "stdout",
     "output_type": "stream",
     "text": [
      "/home/aymeric/python-scripts/anses_medialab/analyse_tweets\n"
     ]
    },
    {
     "data": {
      "application/vnd.jupyter.widget-view+json": {
       "model_id": "a5e708beec834b129015f66ae8a68aca"
      },
      "text/plain": [
       "                            @genefutures  abeilles  autorité européenne  \\\n",
       "@genefutures                    1.000000  0.001486             0.000000   \n",
       "abeilles                        0.001486  1.000000             0.086298   \n",
       "autorité européenne             0.000000  0.086298             1.000000   \n",
       "cancers                         0.016128  0.023206             0.047283   \n",
       "cancérogène                     0.000000  0.004129             0.212798   \n",
       "centre international            0.000000  0.015178             0.116937   \n",
       "chercheuse                      0.000000  0.076272             0.013411   \n",
       "colonies d'abeilles             0.000000  0.344655             0.020833   \n",
       "coopérative agricole            0.000000  0.001649             0.000000   \n",
       "corrélation                     0.000000  0.000000             0.000000   \n",
       "cour d'appel                    0.000000  0.011373             0.002635   \n",
       "désherbant                      0.000000  0.002624             0.094853   \n",
       "ecologie                        0.000000  0.036582             0.000000   \n",
       "efsa                            0.000000  0.048604             0.480594   \n",
       "expositions                     0.004512  0.034369             0.051176   \n",
       "grande distribution             0.000000  0.002467             0.000000   \n",
       "greenpeace                      0.000000  0.034916             0.010204   \n",
       "jardinerie                      0.000000  0.000849             0.000000   \n",
       "lasso                           0.000000  0.000000             0.002831   \n",
       "malformations                   0.000000  0.012388             0.002364   \n",
       "milieu                          0.000000  0.057879             0.001897   \n",
       "monsanto                        0.003787  0.037666             0.041240   \n",
       "mortalité                       0.000000  0.275077             0.012337   \n",
       "moustique                       0.000000  0.002593             0.000000   \n",
       "nutréa-triskalia                0.019597  0.000000             0.000000   \n",
       "ogm                             0.000000  0.026452             0.027126   \n",
       "oms                             0.000000  0.004886             0.114391   \n",
       "paul françois                   0.007596  0.000000             0.000000   \n",
       "perturbateurs endocriniens      0.009056  0.001131             0.012227   \n",
       "pesticides                      0.031697  0.244441             0.085141   \n",
       "produits chimiques              0.000000  0.057398             0.046703   \n",
       "recherche                       0.000000  0.091097             0.062214   \n",
       "roundup                         0.004052  0.008853             0.118702   \n",
       "roundup de monsanto             0.000000  0.008547             0.124764   \n",
       "ruches                          0.000000  0.435738             0.000000   \n",
       "salariés                        0.000000  0.001244             0.000000   \n",
       "santé                           0.006275  0.062506             0.059306   \n",
       "scientifiques                   0.000000  0.168300             0.065189   \n",
       "substances                      0.007620  0.089600             0.103917   \n",
       "syngenta                        0.000000  0.114547             0.105540   \n",
       "sécurité des aliments           0.000000  0.069568             0.826465   \n",
       "taux de mortalité               0.000000  0.122958             0.000000   \n",
       "terre de diatomée               0.000000  0.000000             0.000000   \n",
       "traces                          0.000000  0.002072             0.038080   \n",
       "triskalia                       0.010372  0.000000             0.000000   \n",
       "troubles                        0.000000  0.000674             0.006558   \n",
       "viandes                         0.000000  0.004958             0.008661   \n",
       "vignerons                       0.000000  0.002732             0.000000   \n",
       "vignes                          0.000000  0.012170             0.000000   \n",
       "études                          0.002460  0.163635             0.083046   \n",
       "\n",
       "                             cancers  cancérogène  centre international  \\\n",
       "@genefutures                0.016128     0.000000              0.000000   \n",
       "abeilles                    0.023206     0.004129              0.015178   \n",
       "autorité européenne         0.047283     0.212798              0.116937   \n",
       "cancers                     1.000000     0.139005              0.335240   \n",
       "cancérogène                 0.139005     1.000000              0.293661   \n",
       "centre international        0.335240     0.293661              1.000000   \n",
       "chercheuse                  0.104766     0.032186              0.022186   \n",
       "colonies d'abeilles         0.000000     0.000000              0.000000   \n",
       "coopérative agricole        0.014058     0.000000              0.012643   \n",
       "corrélation                 0.007870     0.000000              0.007785   \n",
       "cour d'appel                0.009443     0.000000              0.000000   \n",
       "désherbant                  0.053456     0.259889              0.126455   \n",
       "ecologie                    0.007732     0.029283              0.012748   \n",
       "efsa                        0.076785     0.140345              0.127197   \n",
       "expositions                 0.135362     0.019496              0.041756   \n",
       "grande distribution         0.001275     0.000000              0.006304   \n",
       "greenpeace                  0.010726     0.004082              0.013264   \n",
       "jardinerie                  0.017101     0.049295              0.069405   \n",
       "lasso                       0.002705     0.000000              0.000000   \n",
       "malformations               0.049699     0.010807              0.027934   \n",
       "milieu                      0.038966     0.001084              0.008964   \n",
       "monsanto                    0.107318     0.126788              0.142573   \n",
       "mortalité                   0.052559     0.014099              0.029156   \n",
       "moustique                   0.006384     0.000000              0.004678   \n",
       "nutréa-triskalia            0.005057     0.000000              0.000000   \n",
       "ogm                         0.053214     0.062002              0.114654   \n",
       "oms                         0.197885     0.346522              0.268719   \n",
       "paul françois               0.006860     0.001172              0.000000   \n",
       "perturbateurs endocriniens  0.110998     0.006987              0.018782   \n",
       "pesticides                  0.188016     0.046207              0.083841   \n",
       "produits chimiques          0.116568     0.028092              0.033404   \n",
       "recherche                   0.234839     0.140782              0.407287   \n",
       "roundup                     0.128332     0.252565              0.250802   \n",
       "roundup de monsanto         0.070495     0.231988              0.191895   \n",
       "ruches                      0.005959     0.000000              0.003275   \n",
       "salariés                    0.025702     0.012295              0.006356   \n",
       "santé                       0.240458     0.123292              0.135489   \n",
       "scientifiques               0.163527     0.082651              0.137215   \n",
       "substances                  0.094635     0.079959              0.068085   \n",
       "syngenta                    0.003502     0.007539              0.013857   \n",
       "sécurité des aliments       0.077230     0.186467              0.180187   \n",
       "taux de mortalité           0.033015     0.000000              0.000000   \n",
       "terre de diatomée           0.000000     0.000000              0.000000   \n",
       "traces                      0.035855     0.111361              0.015882   \n",
       "triskalia                   0.002676     0.000000              0.000000   \n",
       "troubles                    0.124290     0.006246              0.005166   \n",
       "viandes                     0.158146     0.080603              0.093575   \n",
       "vignerons                   0.016583     0.000000              0.000000   \n",
       "vignes                      0.065683     0.000000              0.000000   \n",
       "études                      0.184909     0.063779              0.099704   \n",
       "\n",
       "                            chercheuse  colonies d'abeilles  \\\n",
       "@genefutures                  0.000000             0.000000   \n",
       "abeilles                      0.076272             0.344655   \n",
       "autorité européenne           0.013411             0.020833   \n",
       "cancers                       0.104766             0.000000   \n",
       "cancérogène                   0.032186             0.000000   \n",
       "centre international          0.022186             0.000000   \n",
       "chercheuse                    1.000000             0.026821   \n",
       "colonies d'abeilles           0.026821             1.000000   \n",
       "coopérative agricole          0.000000             0.000000   \n",
       "corrélation                   0.220523             0.000000   \n",
       "cour d'appel                  0.000000             0.003514   \n",
       "désherbant                    0.036322             0.000000   \n",
       "ecologie                      0.001389             0.021577   \n",
       "efsa                          0.036694             0.012129   \n",
       "expositions                   0.158125             0.011373   \n",
       "grande distribution           0.000000             0.000000   \n",
       "greenpeace                    0.000525             0.000000   \n",
       "jardinerie                    0.000000             0.000000   \n",
       "lasso                         0.000000             0.000000   \n",
       "malformations                 0.109563             0.000000   \n",
       "milieu                        0.035160             0.045517   \n",
       "monsanto                      0.077052             0.005453   \n",
       "mortalité                     0.023294             0.202868   \n",
       "moustique                     0.047905             0.000000   \n",
       "nutréa-triskalia              0.000000             0.000000   \n",
       "ogm                           0.073337             0.000696   \n",
       "oms                           0.059618             0.000000   \n",
       "paul françois                 0.001056             0.000000   \n",
       "perturbateurs endocriniens    0.116483             0.000000   \n",
       "pesticides                    0.107293             0.088295   \n",
       "produits chimiques            0.059494             0.011471   \n",
       "recherche                     0.222988             0.026545   \n",
       "roundup                       0.081692             0.001459   \n",
       "roundup de monsanto           0.018357             0.000000   \n",
       "ruches                        0.015700             0.084997   \n",
       "salariés                      0.004155             0.000000   \n",
       "santé                         0.100639             0.020333   \n",
       "scientifiques                 0.179917             0.054325   \n",
       "substances                    0.139349             0.049386   \n",
       "syngenta                      0.010568             0.013681   \n",
       "sécurité des aliments         0.020416             0.024398   \n",
       "taux de mortalité             0.006470             0.217758   \n",
       "terre de diatomée             0.000000             0.000000   \n",
       "traces                        0.034606             0.000000   \n",
       "triskalia                     0.000000             0.000000   \n",
       "troubles                      0.112569             0.000000   \n",
       "viandes                       0.022301             0.000000   \n",
       "vignerons                     0.011408             0.003938   \n",
       "vignes                        0.002178             0.003760   \n",
       "études                        0.233332             0.043405   \n",
       "\n",
       "                            coopérative agricole  corrélation  ...  \\\n",
       "@genefutures                            0.000000     0.000000  ...   \n",
       "abeilles                                0.001649     0.000000  ...   \n",
       "autorité européenne                     0.000000     0.000000  ...   \n",
       "cancers                                 0.014058     0.007870  ...   \n",
       "cancérogène                             0.000000     0.000000  ...   \n",
       "centre international                    0.012643     0.007785  ...   \n",
       "chercheuse                              0.000000     0.220523  ...   \n",
       "colonies d'abeilles                     0.000000     0.000000  ...   \n",
       "coopérative agricole                    1.000000     0.000000  ...   \n",
       "corrélation                             0.000000     1.000000  ...   \n",
       "cour d'appel                            0.000000     0.000000  ...   \n",
       "désherbant                              0.000000     0.006153  ...   \n",
       "ecologie                                0.000000     0.000000  ...   \n",
       "efsa                                    0.000000     0.000000  ...   \n",
       "expositions                             0.005006     0.123302  ...   \n",
       "grande distribution                     0.000000     0.000000  ...   \n",
       "greenpeace                              0.121577     0.000000  ...   \n",
       "jardinerie                              0.000000     0.000000  ...   \n",
       "lasso                                   0.000000     0.000000  ...   \n",
       "malformations                           0.009712     0.287060  ...   \n",
       "milieu                                  0.000000     0.000000  ...   \n",
       "monsanto                                0.000000     0.020694  ...   \n",
       "mortalité                               0.008447     0.000000  ...   \n",
       "moustique                               0.000000     0.000000  ...   \n",
       "nutréa-triskalia                        0.043481     0.000000  ...   \n",
       "ogm                                     0.000000     0.009238  ...   \n",
       "oms                                     0.005662     0.010460  ...   \n",
       "paul françois                           0.000000     0.000000  ...   \n",
       "perturbateurs endocriniens              0.000000     0.000000  ...   \n",
       "pesticides                              0.081434     0.030201  ...   \n",
       "produits chimiques                      0.010099     0.009328  ...   \n",
       "recherche                               0.010224     0.022035  ...   \n",
       "roundup                                 0.002247     0.015222  ...   \n",
       "roundup de monsanto                     0.000000     0.005010  ...   \n",
       "ruches                                  0.000000     0.000000  ...   \n",
       "salariés                                0.325972     0.000000  ...   \n",
       "santé                                   0.033647     0.010002  ...   \n",
       "scientifiques                           0.008370     0.010307  ...   \n",
       "substances                              0.044384     0.007809  ...   \n",
       "syngenta                                0.000000     0.000000  ...   \n",
       "sécurité des aliments                   0.000000     0.000000  ...   \n",
       "taux de mortalité                       0.000000     0.000000  ...   \n",
       "terre de diatomée                       0.000000     0.000000  ...   \n",
       "traces                                  0.000000     0.000000  ...   \n",
       "triskalia                               0.299167     0.000000  ...   \n",
       "troubles                                0.000000     0.005530  ...   \n",
       "viandes                                 0.000000     0.000000  ...   \n",
       "vignerons                               0.000000     0.000000  ...   \n",
       "vignes                                  0.000000     0.000000  ...   \n",
       "études                                  0.008189     0.028572  ...   \n",
       "\n",
       "                            sécurité des aliments  taux de mortalité  \\\n",
       "@genefutures                             0.000000           0.000000   \n",
       "abeilles                                 0.069568           0.122958   \n",
       "autorité européenne                      0.826465           0.000000   \n",
       "cancers                                  0.077230           0.033015   \n",
       "cancérogène                              0.186467           0.000000   \n",
       "centre international                     0.180187           0.000000   \n",
       "chercheuse                               0.020416           0.006470   \n",
       "colonies d'abeilles                      0.024398           0.217758   \n",
       "coopérative agricole                     0.000000           0.000000   \n",
       "corrélation                              0.000000           0.000000   \n",
       "cour d'appel                             0.003086           0.000000   \n",
       "désherbant                               0.103959           0.000000   \n",
       "ecologie                                 0.000000           0.000000   \n",
       "efsa                                     0.520204           0.000000   \n",
       "expositions                              0.038527           0.011756   \n",
       "grande distribution                      0.000000           0.000000   \n",
       "greenpeace                               0.010755           0.000000   \n",
       "jardinerie                               0.000000           0.000000   \n",
       "lasso                                    0.000000           0.000000   \n",
       "malformations                            0.005537           0.000000   \n",
       "milieu                                   0.002221           0.004575   \n",
       "monsanto                                 0.058274           0.000822   \n",
       "mortalité                                0.014447           0.371962   \n",
       "moustique                                0.000000           0.016710   \n",
       "nutréa-triskalia                         0.000000           0.000000   \n",
       "ogm                                      0.015272           0.000000   \n",
       "oms                                      0.142032           0.016622   \n",
       "paul françois                            0.000000           0.000000   \n",
       "perturbateurs endocriniens               0.012887           0.000000   \n",
       "pesticides                               0.060668           0.024992   \n",
       "produits chimiques                       0.034543           0.008894   \n",
       "recherche                                0.072858           0.006003   \n",
       "roundup                                  0.142213           0.001319   \n",
       "roundup de monsanto                      0.136832           0.000000   \n",
       "ruches                                   0.000000           0.036770   \n",
       "salariés                                 0.000000           0.000000   \n",
       "santé                                    0.076067           0.040872   \n",
       "scientifiques                            0.107356           0.058966   \n",
       "substances                               0.084343           0.014891   \n",
       "syngenta                                 0.049781           0.000000   \n",
       "sécurité des aliments                    1.000000           0.000000   \n",
       "taux de mortalité                        0.000000           1.000000   \n",
       "terre de diatomée                        0.000000           0.000000   \n",
       "traces                                   0.044595           0.000000   \n",
       "triskalia                                0.000000           0.000000   \n",
       "troubles                                 0.007680           0.000000   \n",
       "viandes                                  0.002898           0.000000   \n",
       "vignerons                                0.000000           0.000000   \n",
       "vignes                                   0.000000           0.000000   \n",
       "études                                   0.080137           0.028845   \n",
       "\n",
       "                            terre de diatomée    traces  triskalia  troubles  \\\n",
       "@genefutures                         0.000000  0.000000   0.010372  0.000000   \n",
       "abeilles                             0.000000  0.002072   0.000000  0.000674   \n",
       "autorité européenne                  0.000000  0.038080   0.000000  0.006558   \n",
       "cancers                              0.000000  0.035855   0.002676  0.124290   \n",
       "cancérogène                          0.000000  0.111361   0.000000  0.006246   \n",
       "centre international                 0.000000  0.015882   0.000000  0.005166   \n",
       "chercheuse                           0.000000  0.034606   0.000000  0.112569   \n",
       "colonies d'abeilles                  0.000000  0.000000   0.000000  0.000000   \n",
       "coopérative agricole                 0.000000  0.000000   0.299167  0.000000   \n",
       "corrélation                          0.000000  0.000000   0.000000  0.005530   \n",
       "cour d'appel                         0.000000  0.000000   0.008502  0.039816   \n",
       "désherbant                           0.000000  0.081589   0.000000  0.006125   \n",
       "ecologie                             0.000000  0.000000   0.000000  0.000000   \n",
       "efsa                                 0.000000  0.016953   0.000000  0.080173   \n",
       "expositions                          0.000000  0.016770   0.000000  0.202513   \n",
       "grande distribution                  0.000000  0.002294   0.000000  0.000000   \n",
       "greenpeace                           0.000000  0.004389   0.000000  0.038544   \n",
       "jardinerie                           0.000000  0.000000   0.000000  0.001541   \n",
       "lasso                                0.000000  0.000000   0.000000  0.040393   \n",
       "malformations                        0.000000  0.014234   0.000000  0.055561   \n",
       "milieu                               0.063221  0.014682   0.000000  0.012736   \n",
       "monsanto                             0.000000  0.030196   0.002199  0.032042   \n",
       "mortalité                            0.000000  0.000000   0.015479  0.000000   \n",
       "moustique                            0.000000  0.002554   0.000000  0.000831   \n",
       "nutréa-triskalia                     0.000000  0.000000   0.796742  0.000000   \n",
       "ogm                                  0.000000  0.081664   0.000561  0.013136   \n",
       "oms                                  0.000000  0.105509   0.000000  0.146922   \n",
       "paul françois                        0.000000  0.000000   0.008824  0.072311   \n",
       "perturbateurs endocriniens           0.000000  0.028396   0.000000  0.264787   \n",
       "pesticides                           0.000000  0.099197   0.070250  0.104743   \n",
       "produits chimiques                   0.002156  0.070831   0.013218  0.127925   \n",
       "recherche                            0.000000  0.024617   0.000000  0.076245   \n",
       "roundup                              0.000000  0.113867   0.000000  0.009642   \n",
       "roundup de monsanto                  0.000000  0.008517   0.000000  0.001662   \n",
       "ruches                               0.000000  0.002384   0.000000  0.000000   \n",
       "salariés                             0.000000  0.000000   0.598756  0.024834   \n",
       "santé                                0.000000  0.088908   0.033409  0.183006   \n",
       "scientifiques                        0.000000  0.054321   0.000000  0.120555   \n",
       "substances                           0.000000  0.027435   0.000000  0.188274   \n",
       "syngenta                             0.000000  0.002522   0.000000  0.000000   \n",
       "sécurité des aliments                0.000000  0.044595   0.000000  0.007680   \n",
       "taux de mortalité                    0.000000  0.000000   0.000000  0.000000   \n",
       "terre de diatomée                    1.000000  0.000000   0.000000  0.000000   \n",
       "traces                               0.000000  1.000000   0.000000  0.011282   \n",
       "triskalia                            0.000000  0.000000   1.000000  0.000000   \n",
       "troubles                             0.000000  0.011282   0.000000  1.000000   \n",
       "viandes                              0.000000  0.008514   0.000000  0.013502   \n",
       "vignerons                            0.000000  0.000000   0.000000  0.000000   \n",
       "vignes                               0.000000  0.000000   0.000000  0.001183   \n",
       "études                               0.000000  0.228586   0.001429  0.147782   \n",
       "\n",
       "                             viandes  vignerons    vignes    études  \n",
       "@genefutures                0.000000   0.000000  0.000000  0.002460  \n",
       "abeilles                    0.004958   0.002732  0.012170  0.163635  \n",
       "autorité européenne         0.008661   0.000000  0.000000  0.083046  \n",
       "cancers                     0.158146   0.016583  0.065683  0.184909  \n",
       "cancérogène                 0.080603   0.000000  0.000000  0.063779  \n",
       "centre international        0.093575   0.000000  0.000000  0.099704  \n",
       "chercheuse                  0.022301   0.011408  0.002178  0.233332  \n",
       "colonies d'abeilles         0.000000   0.003938  0.003760  0.043405  \n",
       "coopérative agricole        0.000000   0.000000  0.000000  0.008189  \n",
       "corrélation                 0.000000   0.000000  0.000000  0.028572  \n",
       "cour d'appel                0.000000   0.007472  0.019975  0.000672  \n",
       "désherbant                  0.006356   0.011034  0.005267  0.042503  \n",
       "ecologie                    0.000000   0.000000  0.010222  0.021330  \n",
       "efsa                        0.000720   0.000000  0.000000  0.129957  \n",
       "expositions                 0.002316   0.004837  0.038263  0.205787  \n",
       "grande distribution         0.024080   0.000000  0.000000  0.005444  \n",
       "greenpeace                  0.008727   0.002315  0.003867  0.037747  \n",
       "jardinerie                  0.001744   0.000000  0.002981  0.011238  \n",
       "lasso                       0.000000   0.000000  0.001533  0.001444  \n",
       "malformations               0.001123   0.000000  0.002560  0.107953  \n",
       "milieu                      0.009011   0.017209  0.010268  0.081770  \n",
       "monsanto                    0.021214   0.001740  0.001292  0.091038  \n",
       "mortalité                   0.042007   0.000000  0.002226  0.103860  \n",
       "moustique                   0.000000   0.000000  0.001072  0.032569  \n",
       "nutréa-triskalia            0.000000   0.000000  0.000000  0.002700  \n",
       "ogm                         0.063202   0.000887  0.000282  0.185516  \n",
       "oms                         0.174185   0.000000  0.000000  0.120601  \n",
       "paul françois               0.000000   0.000000  0.001111  0.002616  \n",
       "perturbateurs endocriniens  0.018590   0.002080  0.001986  0.156898  \n",
       "pesticides                  0.062071   0.063101  0.109144  0.281569  \n",
       "produits chimiques          0.076498   0.041123  0.032606  0.160851  \n",
       "recherche                   0.091045   0.004939  0.008084  0.214272  \n",
       "roundup                     0.032748   0.002792  0.002962  0.134808  \n",
       "roundup de monsanto         0.030110   0.007862  0.005361  0.052039  \n",
       "ruches                      0.002634   0.000786  0.009004  0.035001  \n",
       "salariés                    0.023002   0.000000  0.046598  0.011665  \n",
       "santé                       0.122374   0.016016  0.055656  0.218304  \n",
       "scientifiques               0.100180   0.010398  0.003309  0.331060  \n",
       "substances                  0.043508   0.000583  0.006128  0.181115  \n",
       "syngenta                    0.006965   0.000000  0.000794  0.025055  \n",
       "sécurité des aliments       0.002898   0.000000  0.000000  0.080137  \n",
       "taux de mortalité           0.000000   0.000000  0.000000  0.028845  \n",
       "terre de diatomée           0.000000   0.000000  0.000000  0.000000  \n",
       "traces                      0.008514   0.000000  0.000000  0.228586  \n",
       "triskalia                   0.000000   0.000000  0.000000  0.001429  \n",
       "troubles                    0.013502   0.000000  0.001183  0.147782  \n",
       "viandes                     1.000000   0.000000  0.004689  0.064711  \n",
       "vignerons                   0.000000   1.000000  0.454162  0.009042  \n",
       "vignes                      0.004689   0.454162  1.000000  0.023740  \n",
       "études                      0.064711   0.009042  0.023740  1.000000  \n",
       "\n",
       "[50 rows x 50 columns]"
      ]
     },
     "metadata": {},
     "output_type": "display_data"
    }
   ],
   "source": [
    "current_directory = os.getcwd()\n",
    "print(current_directory)\n",
    "\n",
    "if 'aymeric' in current_directory:\n",
    "    path_base = \"/home/aymeric/python-scripts/anses_medialab/datas/\" #aymeric\n",
    "elif 'Mac' in current_directory:\n",
    "    path_base = '~/Dropbox/Mac/Desktop/CRD Anses/all3/' # Jean Philippe\n",
    "else:\n",
    "    path_base = \"d:/Projects/Medialab/\"\n",
    "\n",
    "df_sim = pd.read_csv(f'{path_base}similarity_facebook_5.csv', sep = \"\\t\", index_col = 0)\n",
    "#df_sim_5 = pd.read_csv(f'{path_base}similarity_facebook_5.csv', sep = \"\\t\", index_col = 0)\n",
    "\n",
    "# df_sim = df_sim.replace('@genefutures', 'aat_genefutures')\n",
    "# df_sim = df_sim.rename(columns={'@genefutures': 'aat_genefutures'})\n",
    "# df_sim=df_sim.reset_index()\n",
    "#df_sim = df_sim.reset_index()\n",
    "df_sim"
   ]
  },
  {
   "cell_type": "markdown",
   "id": "72b82a8e",
   "metadata": {},
   "source": [
    "## From dataframe to numpy array"
   ]
  },
  {
   "cell_type": "code",
   "execution_count": 60,
   "id": "1ab50dbd",
   "metadata": {
    "execution": {
     "iopub.execute_input": "2022-05-02T15:38:59.065259Z",
     "iopub.status.busy": "2022-05-02T15:38:59.064263Z",
     "iopub.status.idle": "2022-05-02T15:38:59.084212Z",
     "shell.execute_reply": "2022-05-02T15:38:59.083211Z",
     "shell.execute_reply.started": "2022-05-02T15:38:59.065259Z"
    },
    "tags": []
   },
   "outputs": [
    {
     "name": "stdout",
     "output_type": "stream",
     "text": [
      "['@genefutures', 'abeilles', 'autorité européenne', 'cancers', 'cancérogène', 'centre international', 'chercheuse', \"colonies d'abeilles\", 'coopérative agricole', 'corrélation', \"cour d'appel\", 'désherbant', 'ecologie', 'efsa', 'expositions', 'grande distribution', 'greenpeace', 'jardinerie', 'lasso', 'malformations', 'milieu', 'monsanto', 'mortalité', 'moustique', 'nutréa-triskalia', 'ogm', 'oms', 'paul françois', 'perturbateurs endocriniens', 'pesticides', 'produits chimiques', 'recherche', 'roundup', 'roundup de monsanto', 'ruches', 'salariés', 'santé', 'scientifiques', 'substances', 'syngenta', 'sécurité des aliments', 'taux de mortalité', 'terre de diatomée', 'traces', 'triskalia', 'troubles', 'viandes', 'vignerons', 'vignes', 'études']\n"
     ]
    }
   ],
   "source": [
    "similarity = df_sim.to_numpy()\n",
    "list_name = [x for x in df_sim.columns]\n",
    "print(list_name)"
   ]
  },
  {
   "cell_type": "markdown",
   "id": "b7bb8c3c",
   "metadata": {},
   "source": [
    "# Matrice"
   ]
  },
  {
   "cell_type": "code",
   "execution_count": 61,
   "id": "c52e5af9",
   "metadata": {
    "execution": {
     "iopub.execute_input": "2022-05-02T15:39:02.431173Z",
     "iopub.status.busy": "2022-05-02T15:39:02.430148Z",
     "iopub.status.idle": "2022-05-02T15:39:03.131309Z",
     "shell.execute_reply": "2022-05-02T15:39:03.131309Z",
     "shell.execute_reply.started": "2022-05-02T15:39:02.431173Z"
    },
    "tags": []
   },
   "outputs": [
    {
     "data": {
      "image/png": "[encoded data removed]",
      "text/plain": [
       "<Figure size 1080x1080 with 4 Axes>"
      ]
     },
     "metadata": {
      "needs_background": "light"
     },
     "output_type": "display_data"
    }
   ],
   "source": [
    "from matplotlib import pyplot as plt\n",
    "\n",
    "\n",
    "cmap_reversed = plt.cm.get_cmap('spring_r')\n",
    "#sns.clustermap(rho_terms)\n",
    "ax=sns.clustermap(similarity,figsize=(15,15), cmap = cmap_reversed, linewidths=2, linecolor='white', vmax = 0.8)#,labels=range(14))\n",
    "new_labels=[]\n",
    "labels_list=list_name\n",
    "for l in ax.ax_heatmap.axes.get_xticklabels():\n",
    "    l.set_text(labels_list[int(l.get_text())])\n",
    "    new_labels.append(l)\n",
    "ax.ax_heatmap.axes.set_yticklabels(new_labels,rotation=0)\n",
    "ax.ax_heatmap.axes.set_xticklabels(new_labels,rotation = 90)\n",
    "\n",
    "#ax.setp(g.ax_heatmap.get_yticklabels(), rotation=0)\n",
    "#ax.set_xticklabels(ax.get_xticklabels(),rotation = 30)\n",
    "plt.tight_layout()"
   ]
  },
  {
   "cell_type": "markdown",
   "id": "f9d340bc",
   "metadata": {},
   "source": [
    "# Dendogramme"
   ]
  },
  {
   "cell_type": "code",
   "execution_count": 62,
   "id": "1fe92b97-bc30-4efd-a0e7-4c3c7d4406d5",
   "metadata": {
    "execution": {
     "iopub.execute_input": "2022-05-02T15:39:06.212431Z",
     "iopub.status.busy": "2022-05-02T15:39:06.212431Z",
     "iopub.status.idle": "2022-05-02T15:39:06.236367Z",
     "shell.execute_reply": "2022-05-02T15:39:06.236367Z",
     "shell.execute_reply.started": "2022-05-02T15:39:06.212431Z"
    },
    "tags": []
   },
   "outputs": [
    {
     "data": {
      "text/plain": [
       "array([[ 2.        , 40.        ,  0.27638001,  2.        ],\n",
       "       [24.        , 44.        ,  0.43042012,  2.        ],\n",
       "       [18.        , 27.        ,  0.54163984,  2.        ],\n",
       "       [47.        , 48.        ,  0.77864728,  2.        ],\n",
       "       [10.        , 52.        ,  0.7856985 ,  3.        ],\n",
       "       [32.        , 33.        ,  0.83550408,  2.        ],\n",
       "       [13.        , 50.        ,  0.86606955,  3.        ],\n",
       "       [12.        , 17.        ,  0.8867849 ,  2.        ],\n",
       "       [ 1.        , 34.        ,  0.90752548,  2.        ],\n",
       "       [35.        , 51.        ,  0.90900095,  3.        ],\n",
       "       [22.        , 41.        ,  0.93452711,  2.        ],\n",
       "       [ 5.        , 31.        ,  0.95304986,  2.        ],\n",
       "       [37.        , 49.        ,  1.00950067,  2.        ],\n",
       "       [ 4.        , 26.        ,  1.03131831,  2.        ],\n",
       "       [ 9.        , 19.        ,  1.03201066,  2.        ],\n",
       "       [15.        , 16.        ,  1.04991578,  2.        ],\n",
       "       [29.        , 36.        ,  1.05136471,  2.        ],\n",
       "       [28.        , 45.        ,  1.05914231,  2.        ],\n",
       "       [11.        , 55.        ,  1.11910788,  3.        ],\n",
       "       [ 3.        , 61.        ,  1.12303508,  3.        ],\n",
       "       [21.        , 25.        ,  1.15411423,  2.        ],\n",
       "       [ 7.        , 60.        ,  1.16137281,  3.        ],\n",
       "       [30.        , 38.        ,  1.18451764,  2.        ],\n",
       "       [14.        , 67.        ,  1.20649565,  3.        ],\n",
       "       [66.        , 72.        ,  1.25942779,  4.        ],\n",
       "       [ 6.        , 62.        ,  1.25996987,  3.        ],\n",
       "       [39.        , 70.        ,  1.32276066,  3.        ],\n",
       "       [63.        , 69.        ,  1.34829393,  5.        ],\n",
       "       [20.        , 42.        ,  1.34955707,  2.        ],\n",
       "       [57.        , 68.        ,  1.35447671,  5.        ],\n",
       "       [73.        , 75.        ,  1.35757183,  6.        ],\n",
       "       [58.        , 71.        ,  1.41362697,  5.        ],\n",
       "       [74.        , 80.        ,  1.41669959, 10.        ],\n",
       "       [ 0.        , 23.        ,  1.41799184,  2.        ],\n",
       "       [46.        , 77.        ,  1.42923548,  6.        ],\n",
       "       [78.        , 83.        ,  1.43422155,  4.        ],\n",
       "       [ 8.        , 59.        ,  1.45086079,  4.        ],\n",
       "       [43.        , 85.        ,  1.46293755,  5.        ],\n",
       "       [65.        , 87.        ,  1.47749777,  7.        ],\n",
       "       [64.        , 88.        ,  1.51126277,  9.        ],\n",
       "       [53.        , 89.        ,  1.53572787, 11.        ],\n",
       "       [82.        , 84.        ,  1.59765608, 16.        ],\n",
       "       [76.        , 79.        ,  1.62246182,  8.        ],\n",
       "       [81.        , 90.        ,  1.64908593, 16.        ],\n",
       "       [91.        , 92.        ,  1.68153495, 24.        ],\n",
       "       [93.        , 94.        ,  1.75136723, 40.        ],\n",
       "       [56.        , 95.        ,  1.82761202, 43.        ],\n",
       "       [54.        , 86.        ,  1.95179153,  7.        ],\n",
       "       [96.        , 97.        ,  2.05607903, 50.        ]])"
      ]
     },
     "execution_count": 62,
     "metadata": {},
     "output_type": "execute_result"
    },
    {
     "data": {
      "text/plain": [
       "<Figure size 1080x360 with 0 Axes>"
      ]
     },
     "metadata": {},
     "output_type": "display_data"
    }
   ],
   "source": [
    "fig = plt.figure(1, figsize=(15, 5))\n",
    "th = 1.4\n",
    "row_linkage = linkage(sp.distance.pdist(similarity), method='complete')# for x in (t.values, rho_terms.values.T))\n",
    "row_linkage"
   ]
  },
  {
   "cell_type": "code",
   "execution_count": 63,
   "id": "529d3335-2d30-4610-8f2b-9dcb449481fa",
   "metadata": {
    "execution": {
     "iopub.execute_input": "2022-05-02T15:39:09.773816Z",
     "iopub.status.busy": "2022-05-02T15:39:09.773816Z",
     "iopub.status.idle": "2022-05-02T15:39:11.004083Z",
     "shell.execute_reply": "2022-05-02T15:39:11.003086Z",
     "shell.execute_reply.started": "2022-05-02T15:39:09.773816Z"
    },
    "tags": []
   },
   "outputs": [
    {
     "data": {
      "text/plain": [
       "<matplotlib.lines.Line2D at 0x7ff0b89c71c0>"
      ]
     },
     "execution_count": 63,
     "metadata": {},
     "output_type": "execute_result"
    },
    {
     "data": {
      "image/png": "[encoded data removed]",
      "text/plain": [
       "<Figure size 432x288 with 1 Axes>"
      ]
     },
     "metadata": {
      "needs_background": "light"
     },
     "output_type": "display_data"
    }
   ],
   "source": [
    "dn = dendrogram(row_linkage, leaf_rotation=90, leaf_font_size= 12, labels=list_name, color_threshold= th)\n",
    "plt.axhline(y=th, c='grey', lw=1, linestyle='dashed')\n",
    "#cluster_idx = scipy.cluster.hierarchy.fcluster(row_linkage,t=3, criterion='maxclust_monocrit')"
   ]
  },
  {
   "cell_type": "code",
   "execution_count": 64,
   "id": "a5e9f008-5788-4677-a5db-fc203205c5eb",
   "metadata": {
    "execution": {
     "iopub.execute_input": "2022-05-02T15:39:14.029183Z",
     "iopub.status.busy": "2022-05-02T15:39:14.029183Z",
     "iopub.status.idle": "2022-05-02T15:39:14.404179Z",
     "shell.execute_reply": "2022-05-02T15:39:14.404179Z",
     "shell.execute_reply.started": "2022-05-02T15:39:14.029183Z"
    },
    "tags": []
   },
   "outputs": [
    {
     "data": {
      "application/vnd.jupyter.widget-view+json": {
       "model_id": "6179d9eafd124dc0bd124767783f93b6"
      },
      "text/plain": [
       "                   term  cluster  nbseg\n",
       "0          @genefutures        1      1\n",
       "1              abeilles        1      1\n",
       "2   autorité européenne        1      1\n",
       "3               cancers        1      1\n",
       "4           cancérogène        1      1\n",
       "..                  ...      ...    ...\n",
       "45             troubles        7     12\n",
       "46              viandes        8     12\n",
       "47            vignerons        3     12\n",
       "48               vignes        3     12\n",
       "49               études        7     12\n",
       "\n",
       "[600 rows x 3 columns]"
      ]
     },
     "metadata": {},
     "output_type": "display_data"
    }
   ],
   "source": [
    "nbclust_max=20\n",
    "dfcost=pd.DataFrame()\n",
    "for nbclust in  range(1,nbclust_max):\n",
    "    cluster_idx = scipy.cluster.hierarchy.fcluster(row_linkage,nbclust,criterion='maxclust')\n",
    "    cluster = [y for y in cluster_idx]    \n",
    "    new_df = pd.DataFrame(data = {\"term\": list_name, \"cluster\": cluster})\n",
    "    new_df['nbseg']=nbclust\n",
    "    new_df_count = new_df.groupby(['cluster']).agg(term_size=('term', 'size')).reset_index()\n",
    "    new_df_count = new_df_count.loc[new_df_count['term_size'] == 1]\n",
    "    if len(new_df_count)>0:\n",
    "        break\n",
    "        \n",
    "    dfcost=dfcost.append(new_df)\n",
    "    \n",
    "dfcost"
   ]
  },
  {
   "cell_type": "code",
   "execution_count": 65,
   "id": "d5a6cbe0",
   "metadata": {
    "execution": {
     "iopub.execute_input": "2022-05-02T15:39:18.714244Z",
     "iopub.status.busy": "2022-05-02T15:39:18.714244Z",
     "iopub.status.idle": "2022-05-02T15:39:19.028403Z",
     "shell.execute_reply": "2022-05-02T15:39:19.028403Z",
     "shell.execute_reply.started": "2022-05-02T15:39:18.714244Z"
    },
    "tags": []
   },
   "outputs": [
    {
     "data": {
      "application/vnd.jupyter.widget-view+json": {
       "model_id": "10c7776e74cd4d86bcef5203257a099c"
      },
      "text/plain": [
       "                       v1            v2       sim      dist\n",
       "0            @genefutures  @genefutures  1.000000  0.000000\n",
       "1                abeilles  @genefutures  0.001486  0.998514\n",
       "2     autorité européenne  @genefutures  0.000000  1.000000\n",
       "3                 cancers  @genefutures  0.016128  0.983872\n",
       "4             cancérogène  @genefutures  0.000000  1.000000\n",
       "...                   ...           ...       ...       ...\n",
       "2495             troubles        études  0.147782  0.852218\n",
       "2496              viandes        études  0.064711  0.935289\n",
       "2497            vignerons        études  0.009042  0.990958\n",
       "2498               vignes        études  0.023740  0.976260\n",
       "2499               études        études  1.000000  0.000000\n",
       "\n",
       "[2500 rows x 4 columns]"
      ]
     },
     "metadata": {},
     "output_type": "display_data"
    }
   ],
   "source": [
    "df_sim['v1']=df_sim.index\n",
    "df_sim_melt = df_sim.melt(id_vars=['v1'])\n",
    "df_sim_melt.columns=['v1', 'v2', 'sim']\n",
    "df_sim_melt['dist']=1-df_sim_melt['sim']\n",
    "df_sim_melt"
   ]
  },
  {
   "cell_type": "code",
   "execution_count": 66,
   "id": "807f0e38-c395-49c0-b3ce-cc60a95d6d62",
   "metadata": {
    "execution": {
     "iopub.execute_input": "2022-05-02T15:39:22.381506Z",
     "iopub.status.busy": "2022-05-02T15:39:22.381506Z",
     "iopub.status.idle": "2022-05-02T15:39:22.518141Z",
     "shell.execute_reply": "2022-05-02T15:39:22.518141Z",
     "shell.execute_reply.started": "2022-05-02T15:39:22.381506Z"
    },
    "tags": []
   },
   "outputs": [],
   "source": [
    "df_dist_clust = pd.merge(df_sim_melt, dfcost, how='inner', left_on=['v1'], right_on=['term'])\n",
    "df_dist_clust = pd.merge(df_dist_clust, dfcost, how='inner', left_on=['v2'], right_on=['term'])\n",
    "df_dist_clust = df_dist_clust.loc[df_dist_clust['nbseg_x'] == df_dist_clust['nbseg_y']]\n",
    "df_dist_clust = df_dist_clust.loc[df_dist_clust['cluster_x'] == df_dist_clust['cluster_y']]\n",
    "#df_dist_clust['distsq']=df_dist_clust['dist']*df_dist_clust['dist']\n",
    "df_dist_clust_inertia = df_dist_clust.groupby(['nbseg_x', 'cluster_x' ,'v1']).agg(dist_mean=('dist', 'mean')).reset_index()\n",
    "df_dist_clust_inertia['distsq']=df_dist_clust_inertia['dist_mean']*df_dist_clust_inertia['dist_mean']"
   ]
  },
  {
   "cell_type": "code",
   "execution_count": 67,
   "id": "85b0a271-168c-42dd-9d07-94b94355903f",
   "metadata": {
    "execution": {
     "iopub.execute_input": "2022-05-02T15:39:25.620389Z",
     "iopub.status.busy": "2022-05-02T15:39:25.619362Z",
     "iopub.status.idle": "2022-05-02T15:39:25.929532Z",
     "shell.execute_reply": "2022-05-02T15:39:25.929532Z",
     "shell.execute_reply.started": "2022-05-02T15:39:25.620389Z"
    },
    "tags": []
   },
   "outputs": [
    {
     "data": {
      "application/vnd.jupyter.widget-view+json": {
       "model_id": "e03a3810880f41bb8deb5cc6e071fe40"
      },
      "text/plain": [
       "    nbseg_x  cluster_x  dist_mean_sum\n",
       "0         1          1      43.753547\n",
       "1         2          1      36.709559\n",
       "2         2          2       3.317712\n",
       "3         3          1      36.709559\n",
       "4         3          2       0.286606\n",
       "..      ...        ...            ...\n",
       "73       12          8       2.619465\n",
       "74       12          9       0.837689\n",
       "75       12         10       1.700683\n",
       "76       12         11       0.286606\n",
       "77       12         12       0.810927\n",
       "\n",
       "[78 rows x 3 columns]"
      ]
     },
     "metadata": {},
     "output_type": "display_data"
    }
   ],
   "source": [
    "df_dist_clust_inertia = df_dist_clust_inertia.groupby(['nbseg_x', 'cluster_x']).agg(dist_mean_sum=('distsq', 'sum')).reset_index()\n",
    "df_dist_clust_inertia"
   ]
  },
  {
   "cell_type": "code",
   "execution_count": 68,
   "id": "313b2a6b-a18e-4aee-b8f4-18923f1417fa",
   "metadata": {
    "execution": {
     "iopub.execute_input": "2022-05-02T15:39:29.546878Z",
     "iopub.status.busy": "2022-05-02T15:39:29.545885Z",
     "iopub.status.idle": "2022-05-02T15:39:29.836263Z",
     "shell.execute_reply": "2022-05-02T15:39:29.665112Z",
     "shell.execute_reply.started": "2022-05-02T15:39:29.546878Z"
    },
    "tags": []
   },
   "outputs": [
    {
     "data": {
      "application/vnd.jupyter.widget-view+json": {
       "model_id": "06365c5493754ff388c9f986bf2470f6"
      },
      "text/plain": [
       "    nbseg_x  dist_mean_sum\n",
       "0         1      43.753547\n",
       "1         2      40.027272\n",
       "2         3      37.807092\n",
       "3         4      35.427271\n",
       "4         5      32.154202\n",
       "5         6      29.228704\n",
       "6         7      26.631586\n",
       "7         8      24.865916\n",
       "8         9      22.656495\n",
       "9        10      20.939708\n",
       "10       11      19.317311\n",
       "11       12      17.763540"
      ]
     },
     "metadata": {},
     "output_type": "display_data"
    }
   ],
   "source": [
    "df_dist_clust_inertia = df_dist_clust_inertia.groupby(['nbseg_x']).agg(dist_mean_sum=('dist_mean_sum', 'sum')).reset_index()\n",
    "df_dist_clust_inertia"
   ]
  },
  {
   "cell_type": "code",
   "execution_count": 69,
   "id": "ad691aba-9a7f-4ed7-b736-1043838867ca",
   "metadata": {
    "execution": {
     "iopub.execute_input": "2022-05-02T15:39:33.153200Z",
     "iopub.status.busy": "2022-05-02T15:39:33.153200Z",
     "iopub.status.idle": "2022-05-02T15:39:33.213086Z",
     "shell.execute_reply": "2022-05-02T15:39:33.212078Z",
     "shell.execute_reply.started": "2022-05-02T15:39:33.153200Z"
    },
    "tags": []
   },
   "outputs": [
    {
     "data": {
      "application/vnd.plotly.v1+json": {
       "config": {
        "plotlyServerURL": "https://plot.ly"
       },
       "data": [
        {
         "hovertemplate": "nbseg_x=%{x}<br>dist_mean_sum=%{y}<extra></extra>",
         "legendgroup": "",
         "marker": {
          "color": "#636efa",
          "symbol": "circle"
         },
         "mode": "markers",
         "name": "",
         "orientation": "v",
         "showlegend": false,
         "type": "scatter",
         "x": [
          1,
          2,
          3,
          4,
          5,
          6,
          7,
          8,
          9,
          10,
          11,
          12
         ],
         "xaxis": "x",
         "y": [
          43.753547371833626,
          40.027271607192105,
          37.807091925913106,
          35.427271125263836,
          32.15420155678802,
          29.228703770923534,
          26.631585612985933,
          24.865916473696796,
          22.656495113699645,
          20.9397077540697,
          19.317311028318457,
          17.76353956484508
         ],
         "yaxis": "y"
        }
       ],
       "layout": {
        "height": 600,
        "legend": {
         "tracegroupgap": 0
        },
        "margin": {
         "t": 60
        },
        "template": {
         "data": {
          "bar": [
           {
            "error_x": {
             "color": "#2a3f5f"
            },
            "error_y": {
             "color": "#2a3f5f"
            },
            "marker": {
             "line": {
              "color": "#E5ECF6",
              "width": 0.5
             },
             "pattern": {
              "fillmode": "overlay",
              "size": 10,
              "solidity": 0.2
             }
            },
            "type": "bar"
           }
          ],
          "barpolar": [
           {
            "marker": {
             "line": {
              "color": "#E5ECF6",
              "width": 0.5
             },
             "pattern": {
              "fillmode": "overlay",
              "size": 10,
              "solidity": 0.2
             }
            },
            "type": "barpolar"
           }
          ],
          "carpet": [
           {
            "aaxis": {
             "endlinecolor": "#2a3f5f",
             "gridcolor": "white",
             "linecolor": "white",
             "minorgridcolor": "white",
             "startlinecolor": "#2a3f5f"
            },
            "baxis": {
             "endlinecolor": "#2a3f5f",
             "gridcolor": "white",
             "linecolor": "white",
             "minorgridcolor": "white",
             "startlinecolor": "#2a3f5f"
            },
            "type": "carpet"
           }
          ],
          "choropleth": [
           {
            "colorbar": {
             "outlinewidth": 0,
             "ticks": ""
            },
            "type": "choropleth"
           }
          ],
          "contour": [
           {
            "colorbar": {
             "outlinewidth": 0,
             "ticks": ""
            },
            "colorscale": [
             [
              0,
              "#0d0887"
             ],
             [
              0.1111111111111111,
              "#46039f"
             ],
             [
              0.2222222222222222,
              "#7201a8"
             ],
             [
              0.3333333333333333,
              "#9c179e"
             ],
             [
              0.4444444444444444,
              "#bd3786"
             ],
             [
              0.5555555555555556,
              "#d8576b"
             ],
             [
              0.6666666666666666,
              "#ed7953"
             ],
             [
              0.7777777777777778,
              "#fb9f3a"
             ],
             [
              0.8888888888888888,
              "#fdca26"
             ],
             [
              1,
              "#f0f921"
             ]
            ],
            "type": "contour"
           }
          ],
          "contourcarpet": [
           {
            "colorbar": {
             "outlinewidth": 0,
             "ticks": ""
            },
            "type": "contourcarpet"
           }
          ],
          "heatmap": [
           {
            "colorbar": {
             "outlinewidth": 0,
             "ticks": ""
            },
            "colorscale": [
             [
              0,
              "#0d0887"
             ],
             [
              0.1111111111111111,
              "#46039f"
             ],
             [
              0.2222222222222222,
              "#7201a8"
             ],
             [
              0.3333333333333333,
              "#9c179e"
             ],
             [
              0.4444444444444444,
              "#bd3786"
             ],
             [
              0.5555555555555556,
              "#d8576b"
             ],
             [
              0.6666666666666666,
              "#ed7953"
             ],
             [
              0.7777777777777778,
              "#fb9f3a"
             ],
             [
              0.8888888888888888,
              "#fdca26"
             ],
             [
              1,
              "#f0f921"
             ]
            ],
            "type": "heatmap"
           }
          ],
          "heatmapgl": [
           {
            "colorbar": {
             "outlinewidth": 0,
             "ticks": ""
            },
            "colorscale": [
             [
              0,
              "#0d0887"
             ],
             [
              0.1111111111111111,
              "#46039f"
             ],
             [
              0.2222222222222222,
              "#7201a8"
             ],
             [
              0.3333333333333333,
              "#9c179e"
             ],
             [
              0.4444444444444444,
              "#bd3786"
             ],
             [
              0.5555555555555556,
              "#d8576b"
             ],
             [
              0.6666666666666666,
              "#ed7953"
             ],
             [
              0.7777777777777778,
              "#fb9f3a"
             ],
             [
              0.8888888888888888,
              "#fdca26"
             ],
             [
              1,
              "#f0f921"
             ]
            ],
            "type": "heatmapgl"
           }
          ],
          "histogram": [
           {
            "marker": {
             "pattern": {
              "fillmode": "overlay",
              "size": 10,
              "solidity": 0.2
             }
            },
            "type": "histogram"
           }
          ],
          "histogram2d": [
           {
            "colorbar": {
             "outlinewidth": 0,
             "ticks": ""
            },
            "colorscale": [
             [
              0,
              "#0d0887"
             ],
             [
              0.1111111111111111,
              "#46039f"
             ],
             [
              0.2222222222222222,
              "#7201a8"
             ],
             [
              0.3333333333333333,
              "#9c179e"
             ],
             [
              0.4444444444444444,
              "#bd3786"
             ],
             [
              0.5555555555555556,
              "#d8576b"
             ],
             [
              0.6666666666666666,
              "#ed7953"
             ],
             [
              0.7777777777777778,
              "#fb9f3a"
             ],
             [
              0.8888888888888888,
              "#fdca26"
             ],
             [
              1,
              "#f0f921"
             ]
            ],
            "type": "histogram2d"
           }
          ],
          "histogram2dcontour": [
           {
            "colorbar": {
             "outlinewidth": 0,
             "ticks": ""
            },
            "colorscale": [
             [
              0,
              "#0d0887"
             ],
             [
              0.1111111111111111,
              "#46039f"
             ],
             [
              0.2222222222222222,
              "#7201a8"
             ],
             [
              0.3333333333333333,
              "#9c179e"
             ],
             [
              0.4444444444444444,
              "#bd3786"
             ],
             [
              0.5555555555555556,
              "#d8576b"
             ],
             [
              0.6666666666666666,
              "#ed7953"
             ],
             [
              0.7777777777777778,
              "#fb9f3a"
             ],
             [
              0.8888888888888888,
              "#fdca26"
             ],
             [
              1,
              "#f0f921"
             ]
            ],
            "type": "histogram2dcontour"
           }
          ],
          "mesh3d": [
           {
            "colorbar": {
             "outlinewidth": 0,
             "ticks": ""
            },
            "type": "mesh3d"
           }
          ],
          "parcoords": [
           {
            "line": {
             "colorbar": {
              "outlinewidth": 0,
              "ticks": ""
             }
            },
            "type": "parcoords"
           }
          ],
          "pie": [
           {
            "automargin": true,
            "type": "pie"
           }
          ],
          "scatter": [
           {
            "fillpattern": {
             "fillmode": "overlay",
             "size": 10,
             "solidity": 0.2
            },
            "type": "scatter"
           }
          ],
          "scatter3d": [
           {
            "line": {
             "colorbar": {
              "outlinewidth": 0,
              "ticks": ""
             }
            },
            "marker": {
             "colorbar": {
              "outlinewidth": 0,
              "ticks": ""
             }
            },
            "type": "scatter3d"
           }
          ],
          "scattercarpet": [
           {
            "marker": {
             "colorbar": {
              "outlinewidth": 0,
              "ticks": ""
             }
            },
            "type": "scattercarpet"
           }
          ],
          "scattergeo": [
           {
            "marker": {
             "colorbar": {
              "outlinewidth": 0,
              "ticks": ""
             }
            },
            "type": "scattergeo"
           }
          ],
          "scattergl": [
           {
            "marker": {
             "colorbar": {
              "outlinewidth": 0,
              "ticks": ""
             }
            },
            "type": "scattergl"
           }
          ],
          "scattermapbox": [
           {
            "marker": {
             "colorbar": {
              "outlinewidth": 0,
              "ticks": ""
             }
            },
            "type": "scattermapbox"
           }
          ],
          "scatterpolar": [
           {
            "marker": {
             "colorbar": {
              "outlinewidth": 0,
              "ticks": ""
             }
            },
            "type": "scatterpolar"
           }
          ],
          "scatterpolargl": [
           {
            "marker": {
             "colorbar": {
              "outlinewidth": 0,
              "ticks": ""
             }
            },
            "type": "scatterpolargl"
           }
          ],
          "scatterternary": [
           {
            "marker": {
             "colorbar": {
              "outlinewidth": 0,
              "ticks": ""
             }
            },
            "type": "scatterternary"
           }
          ],
          "surface": [
           {
            "colorbar": {
             "outlinewidth": 0,
             "ticks": ""
            },
            "colorscale": [
             [
              0,
              "#0d0887"
             ],
             [
              0.1111111111111111,
              "#46039f"
             ],
             [
              0.2222222222222222,
              "#7201a8"
             ],
             [
              0.3333333333333333,
              "#9c179e"
             ],
             [
              0.4444444444444444,
              "#bd3786"
             ],
             [
              0.5555555555555556,
              "#d8576b"
             ],
             [
              0.6666666666666666,
              "#ed7953"
             ],
             [
              0.7777777777777778,
              "#fb9f3a"
             ],
             [
              0.8888888888888888,
              "#fdca26"
             ],
             [
              1,
              "#f0f921"
             ]
            ],
            "type": "surface"
           }
          ],
          "table": [
           {
            "cells": {
             "fill": {
              "color": "#EBF0F8"
             },
             "line": {
              "color": "white"
             }
            },
            "header": {
             "fill": {
              "color": "#C8D4E3"
             },
             "line": {
              "color": "white"
             }
            },
            "type": "table"
           }
          ]
         },
         "layout": {
          "annotationdefaults": {
           "arrowcolor": "#2a3f5f",
           "arrowhead": 0,
           "arrowwidth": 1
          },
          "autotypenumbers": "strict",
          "coloraxis": {
           "colorbar": {
            "outlinewidth": 0,
            "ticks": ""
           }
          },
          "colorscale": {
           "diverging": [
            [
             0,
             "#8e0152"
            ],
            [
             0.1,
             "#c51b7d"
            ],
            [
             0.2,
             "#de77ae"
            ],
            [
             0.3,
             "#f1b6da"
            ],
            [
             0.4,
             "#fde0ef"
            ],
            [
             0.5,
             "#f7f7f7"
            ],
            [
             0.6,
             "#e6f5d0"
            ],
            [
             0.7,
             "#b8e186"
            ],
            [
             0.8,
             "#7fbc41"
            ],
            [
             0.9,
             "#4d9221"
            ],
            [
             1,
             "#276419"
            ]
           ],
           "sequential": [
            [
             0,
             "#0d0887"
            ],
            [
             0.1111111111111111,
             "#46039f"
            ],
            [
             0.2222222222222222,
             "#7201a8"
            ],
            [
             0.3333333333333333,
             "#9c179e"
            ],
            [
             0.4444444444444444,
             "#bd3786"
            ],
            [
             0.5555555555555556,
             "#d8576b"
            ],
            [
             0.6666666666666666,
             "#ed7953"
            ],
            [
             0.7777777777777778,
             "#fb9f3a"
            ],
            [
             0.8888888888888888,
             "#fdca26"
            ],
            [
             1,
             "#f0f921"
            ]
           ],
           "sequentialminus": [
            [
             0,
             "#0d0887"
            ],
            [
             0.1111111111111111,
             "#46039f"
            ],
            [
             0.2222222222222222,
             "#7201a8"
            ],
            [
             0.3333333333333333,
             "#9c179e"
            ],
            [
             0.4444444444444444,
             "#bd3786"
            ],
            [
             0.5555555555555556,
             "#d8576b"
            ],
            [
             0.6666666666666666,
             "#ed7953"
            ],
            [
             0.7777777777777778,
             "#fb9f3a"
            ],
            [
             0.8888888888888888,
             "#fdca26"
            ],
            [
             1,
             "#f0f921"
            ]
           ]
          },
          "colorway": [
           "#636efa",
           "#EF553B",
           "#00cc96",
           "#ab63fa",
           "#FFA15A",
           "#19d3f3",
           "#FF6692",
           "#B6E880",
           "#FF97FF",
           "#FECB52"
          ],
          "font": {
           "color": "#2a3f5f"
          },
          "geo": {
           "bgcolor": "white",
           "lakecolor": "white",
           "landcolor": "#E5ECF6",
           "showlakes": true,
           "showland": true,
           "subunitcolor": "white"
          },
          "hoverlabel": {
           "align": "left"
          },
          "hovermode": "closest",
          "mapbox": {
           "style": "light"
          },
          "paper_bgcolor": "white",
          "plot_bgcolor": "#E5ECF6",
          "polar": {
           "angularaxis": {
            "gridcolor": "white",
            "linecolor": "white",
            "ticks": ""
           },
           "bgcolor": "#E5ECF6",
           "radialaxis": {
            "gridcolor": "white",
            "linecolor": "white",
            "ticks": ""
           }
          },
          "scene": {
           "xaxis": {
            "backgroundcolor": "#E5ECF6",
            "gridcolor": "white",
            "gridwidth": 2,
            "linecolor": "white",
            "showbackground": true,
            "ticks": "",
            "zerolinecolor": "white"
           },
           "yaxis": {
            "backgroundcolor": "#E5ECF6",
            "gridcolor": "white",
            "gridwidth": 2,
            "linecolor": "white",
            "showbackground": true,
            "ticks": "",
            "zerolinecolor": "white"
           },
           "zaxis": {
            "backgroundcolor": "#E5ECF6",
            "gridcolor": "white",
            "gridwidth": 2,
            "linecolor": "white",
            "showbackground": true,
            "ticks": "",
            "zerolinecolor": "white"
           }
          },
          "shapedefaults": {
           "line": {
            "color": "#2a3f5f"
           }
          },
          "ternary": {
           "aaxis": {
            "gridcolor": "white",
            "linecolor": "white",
            "ticks": ""
           },
           "baxis": {
            "gridcolor": "white",
            "linecolor": "white",
            "ticks": ""
           },
           "bgcolor": "#E5ECF6",
           "caxis": {
            "gridcolor": "white",
            "linecolor": "white",
            "ticks": ""
           }
          },
          "title": {
           "x": 0.05
          },
          "xaxis": {
           "automargin": true,
           "gridcolor": "white",
           "linecolor": "white",
           "ticks": "",
           "title": {
            "standoff": 15
           },
           "zerolinecolor": "white",
           "zerolinewidth": 2
          },
          "yaxis": {
           "automargin": true,
           "gridcolor": "white",
           "linecolor": "white",
           "ticks": "",
           "title": {
            "standoff": 15
           },
           "zerolinecolor": "white",
           "zerolinewidth": 2
          }
         }
        },
        "width": 800,
        "xaxis": {
         "anchor": "y",
         "domain": [
          0,
          1
         ],
         "title": {
          "text": "nbseg_x"
         }
        },
        "yaxis": {
         "anchor": "x",
         "domain": [
          0,
          1
         ],
         "title": {
          "text": "dist_mean_sum"
         }
        }
       }
      },
      "text/html": [
       "<div>                            <div id=\"2187f602-8775-4541-ac3e-4013fa0a063f\" class=\"plotly-graph-div\" style=\"height:600px; width:800px;\"></div>            <script type=\"text/javascript\">                require([\"plotly\"], function(Plotly) {                    window.PLOTLYENV=window.PLOTLYENV || {};                                    if (document.getElementById(\"2187f602-8775-4541-ac3e-4013fa0a063f\")) {                    Plotly.newPlot(                        \"2187f602-8775-4541-ac3e-4013fa0a063f\",                        [{\"hovertemplate\":\"nbseg_x=%{x}<br>dist_mean_sum=%{y}<extra></extra>\",\"legendgroup\":\"\",\"marker\":{\"color\":\"#636efa\",\"symbol\":\"circle\"},\"mode\":\"markers\",\"name\":\"\",\"orientation\":\"v\",\"showlegend\":false,\"x\":[1,2,3,4,5,6,7,8,9,10,11,12],\"xaxis\":\"x\",\"y\":[43.753547371833626,40.027271607192105,37.807091925913106,35.427271125263836,32.15420155678802,29.228703770923534,26.631585612985933,24.865916473696796,22.656495113699645,20.9397077540697,19.317311028318457,17.76353956484508],\"yaxis\":\"y\",\"type\":\"scatter\"}],                        {\"template\":{\"data\":{\"histogram2dcontour\":[{\"type\":\"histogram2dcontour\",\"colorbar\":{\"outlinewidth\":0,\"ticks\":\"\"},\"colorscale\":[[0.0,\"#0d0887\"],[0.1111111111111111,\"#46039f\"],[0.2222222222222222,\"#7201a8\"],[0.3333333333333333,\"#9c179e\"],[0.4444444444444444,\"#bd3786\"],[0.5555555555555556,\"#d8576b\"],[0.6666666666666666,\"#ed7953\"],[0.7777777777777778,\"#fb9f3a\"],[0.8888888888888888,\"#fdca26\"],[1.0,\"#f0f921\"]]}],\"choropleth\":[{\"type\":\"choropleth\",\"colorbar\":{\"outlinewidth\":0,\"ticks\":\"\"}}],\"histogram2d\":[{\"type\":\"histogram2d\",\"colorbar\":{\"outlinewidth\":0,\"ticks\":\"\"},\"colorscale\":[[0.0,\"#0d0887\"],[0.1111111111111111,\"#46039f\"],[0.2222222222222222,\"#7201a8\"],[0.3333333333333333,\"#9c179e\"],[0.4444444444444444,\"#bd3786\"],[0.5555555555555556,\"#d8576b\"],[0.6666666666666666,\"#ed7953\"],[0.7777777777777778,\"#fb9f3a\"],[0.8888888888888888,\"#fdca26\"],[1.0,\"#f0f921\"]]}],\"heatmap\":[{\"type\":\"heatmap\",\"colorbar\":{\"outlinewidth\":0,\"ticks\":\"\"},\"colorscale\":[[0.0,\"#0d0887\"],[0.1111111111111111,\"#46039f\"],[0.2222222222222222,\"#7201a8\"],[0.3333333333333333,\"#9c179e\"],[0.4444444444444444,\"#bd3786\"],[0.5555555555555556,\"#d8576b\"],[0.6666666666666666,\"#ed7953\"],[0.7777777777777778,\"#fb9f3a\"],[0.8888888888888888,\"#fdca26\"],[1.0,\"#f0f921\"]]}],\"heatmapgl\":[{\"type\":\"heatmapgl\",\"colorbar\":{\"outlinewidth\":0,\"ticks\":\"\"},\"colorscale\":[[0.0,\"#0d0887\"],[0.1111111111111111,\"#46039f\"],[0.2222222222222222,\"#7201a8\"],[0.3333333333333333,\"#9c179e\"],[0.4444444444444444,\"#bd3786\"],[0.5555555555555556,\"#d8576b\"],[0.6666666666666666,\"#ed7953\"],[0.7777777777777778,\"#fb9f3a\"],[0.8888888888888888,\"#fdca26\"],[1.0,\"#f0f921\"]]}],\"contourcarpet\":[{\"type\":\"contourcarpet\",\"colorbar\":{\"outlinewidth\":0,\"ticks\":\"\"}}],\"contour\":[{\"type\":\"contour\",\"colorbar\":{\"outlinewidth\":0,\"ticks\":\"\"},\"colorscale\":[[0.0,\"#0d0887\"],[0.1111111111111111,\"#46039f\"],[0.2222222222222222,\"#7201a8\"],[0.3333333333333333,\"#9c179e\"],[0.4444444444444444,\"#bd3786\"],[0.5555555555555556,\"#d8576b\"],[0.6666666666666666,\"#ed7953\"],[0.7777777777777778,\"#fb9f3a\"],[0.8888888888888888,\"#fdca26\"],[1.0,\"#f0f921\"]]}],\"surface\":[{\"type\":\"surface\",\"colorbar\":{\"outlinewidth\":0,\"ticks\":\"\"},\"colorscale\":[[0.0,\"#0d0887\"],[0.1111111111111111,\"#46039f\"],[0.2222222222222222,\"#7201a8\"],[0.3333333333333333,\"#9c179e\"],[0.4444444444444444,\"#bd3786\"],[0.5555555555555556,\"#d8576b\"],[0.6666666666666666,\"#ed7953\"],[0.7777777777777778,\"#fb9f3a\"],[0.8888888888888888,\"#fdca26\"],[1.0,\"#f0f921\"]]}],\"mesh3d\":[{\"type\":\"mesh3d\",\"colorbar\":{\"outlinewidth\":0,\"ticks\":\"\"}}],\"scatter\":[{\"fillpattern\":{\"fillmode\":\"overlay\",\"size\":10,\"solidity\":0.2},\"type\":\"scatter\"}],\"parcoords\":[{\"type\":\"parcoords\",\"line\":{\"colorbar\":{\"outlinewidth\":0,\"ticks\":\"\"}}}],\"scatterpolargl\":[{\"type\":\"scatterpolargl\",\"marker\":{\"colorbar\":{\"outlinewidth\":0,\"ticks\":\"\"}}}],\"bar\":[{\"error_x\":{\"color\":\"#2a3f5f\"},\"error_y\":{\"color\":\"#2a3f5f\"},\"marker\":{\"line\":{\"color\":\"#E5ECF6\",\"width\":0.5},\"pattern\":{\"fillmode\":\"overlay\",\"size\":10,\"solidity\":0.2}},\"type\":\"bar\"}],\"scattergeo\":[{\"type\":\"scattergeo\",\"marker\":{\"colorbar\":{\"outlinewidth\":0,\"ticks\":\"\"}}}],\"scatterpolar\":[{\"type\":\"scatterpolar\",\"marker\":{\"colorbar\":{\"outlinewidth\":0,\"ticks\":\"\"}}}],\"histogram\":[{\"marker\":{\"pattern\":{\"fillmode\":\"overlay\",\"size\":10,\"solidity\":0.2}},\"type\":\"histogram\"}],\"scattergl\":[{\"type\":\"scattergl\",\"marker\":{\"colorbar\":{\"outlinewidth\":0,\"ticks\":\"\"}}}],\"scatter3d\":[{\"type\":\"scatter3d\",\"line\":{\"colorbar\":{\"outlinewidth\":0,\"ticks\":\"\"}},\"marker\":{\"colorbar\":{\"outlinewidth\":0,\"ticks\":\"\"}}}],\"scattermapbox\":[{\"type\":\"scattermapbox\",\"marker\":{\"colorbar\":{\"outlinewidth\":0,\"ticks\":\"\"}}}],\"scatterternary\":[{\"type\":\"scatterternary\",\"marker\":{\"colorbar\":{\"outlinewidth\":0,\"ticks\":\"\"}}}],\"scattercarpet\":[{\"type\":\"scattercarpet\",\"marker\":{\"colorbar\":{\"outlinewidth\":0,\"ticks\":\"\"}}}],\"carpet\":[{\"aaxis\":{\"endlinecolor\":\"#2a3f5f\",\"gridcolor\":\"white\",\"linecolor\":\"white\",\"minorgridcolor\":\"white\",\"startlinecolor\":\"#2a3f5f\"},\"baxis\":{\"endlinecolor\":\"#2a3f5f\",\"gridcolor\":\"white\",\"linecolor\":\"white\",\"minorgridcolor\":\"white\",\"startlinecolor\":\"#2a3f5f\"},\"type\":\"carpet\"}],\"table\":[{\"cells\":{\"fill\":{\"color\":\"#EBF0F8\"},\"line\":{\"color\":\"white\"}},\"header\":{\"fill\":{\"color\":\"#C8D4E3\"},\"line\":{\"color\":\"white\"}},\"type\":\"table\"}],\"barpolar\":[{\"marker\":{\"line\":{\"color\":\"#E5ECF6\",\"width\":0.5},\"pattern\":{\"fillmode\":\"overlay\",\"size\":10,\"solidity\":0.2}},\"type\":\"barpolar\"}],\"pie\":[{\"automargin\":true,\"type\":\"pie\"}]},\"layout\":{\"autotypenumbers\":\"strict\",\"colorway\":[\"#636efa\",\"#EF553B\",\"#00cc96\",\"#ab63fa\",\"#FFA15A\",\"#19d3f3\",\"#FF6692\",\"#B6E880\",\"#FF97FF\",\"#FECB52\"],\"font\":{\"color\":\"#2a3f5f\"},\"hovermode\":\"closest\",\"hoverlabel\":{\"align\":\"left\"},\"paper_bgcolor\":\"white\",\"plot_bgcolor\":\"#E5ECF6\",\"polar\":{\"bgcolor\":\"#E5ECF6\",\"angularaxis\":{\"gridcolor\":\"white\",\"linecolor\":\"white\",\"ticks\":\"\"},\"radialaxis\":{\"gridcolor\":\"white\",\"linecolor\":\"white\",\"ticks\":\"\"}},\"ternary\":{\"bgcolor\":\"#E5ECF6\",\"aaxis\":{\"gridcolor\":\"white\",\"linecolor\":\"white\",\"ticks\":\"\"},\"baxis\":{\"gridcolor\":\"white\",\"linecolor\":\"white\",\"ticks\":\"\"},\"caxis\":{\"gridcolor\":\"white\",\"linecolor\":\"white\",\"ticks\":\"\"}},\"coloraxis\":{\"colorbar\":{\"outlinewidth\":0,\"ticks\":\"\"}},\"colorscale\":{\"sequential\":[[0.0,\"#0d0887\"],[0.1111111111111111,\"#46039f\"],[0.2222222222222222,\"#7201a8\"],[0.3333333333333333,\"#9c179e\"],[0.4444444444444444,\"#bd3786\"],[0.5555555555555556,\"#d8576b\"],[0.6666666666666666,\"#ed7953\"],[0.7777777777777778,\"#fb9f3a\"],[0.8888888888888888,\"#fdca26\"],[1.0,\"#f0f921\"]],\"sequentialminus\":[[0.0,\"#0d0887\"],[0.1111111111111111,\"#46039f\"],[0.2222222222222222,\"#7201a8\"],[0.3333333333333333,\"#9c179e\"],[0.4444444444444444,\"#bd3786\"],[0.5555555555555556,\"#d8576b\"],[0.6666666666666666,\"#ed7953\"],[0.7777777777777778,\"#fb9f3a\"],[0.8888888888888888,\"#fdca26\"],[1.0,\"#f0f921\"]],\"diverging\":[[0,\"#8e0152\"],[0.1,\"#c51b7d\"],[0.2,\"#de77ae\"],[0.3,\"#f1b6da\"],[0.4,\"#fde0ef\"],[0.5,\"#f7f7f7\"],[0.6,\"#e6f5d0\"],[0.7,\"#b8e186\"],[0.8,\"#7fbc41\"],[0.9,\"#4d9221\"],[1,\"#276419\"]]},\"xaxis\":{\"gridcolor\":\"white\",\"linecolor\":\"white\",\"ticks\":\"\",\"title\":{\"standoff\":15},\"zerolinecolor\":\"white\",\"automargin\":true,\"zerolinewidth\":2},\"yaxis\":{\"gridcolor\":\"white\",\"linecolor\":\"white\",\"ticks\":\"\",\"title\":{\"standoff\":15},\"zerolinecolor\":\"white\",\"automargin\":true,\"zerolinewidth\":2},\"scene\":{\"xaxis\":{\"backgroundcolor\":\"#E5ECF6\",\"gridcolor\":\"white\",\"linecolor\":\"white\",\"showbackground\":true,\"ticks\":\"\",\"zerolinecolor\":\"white\",\"gridwidth\":2},\"yaxis\":{\"backgroundcolor\":\"#E5ECF6\",\"gridcolor\":\"white\",\"linecolor\":\"white\",\"showbackground\":true,\"ticks\":\"\",\"zerolinecolor\":\"white\",\"gridwidth\":2},\"zaxis\":{\"backgroundcolor\":\"#E5ECF6\",\"gridcolor\":\"white\",\"linecolor\":\"white\",\"showbackground\":true,\"ticks\":\"\",\"zerolinecolor\":\"white\",\"gridwidth\":2}},\"shapedefaults\":{\"line\":{\"color\":\"#2a3f5f\"}},\"annotationdefaults\":{\"arrowcolor\":\"#2a3f5f\",\"arrowhead\":0,\"arrowwidth\":1},\"geo\":{\"bgcolor\":\"white\",\"landcolor\":\"#E5ECF6\",\"subunitcolor\":\"white\",\"showland\":true,\"showlakes\":true,\"lakecolor\":\"white\"},\"title\":{\"x\":0.05},\"mapbox\":{\"style\":\"light\"}}},\"xaxis\":{\"anchor\":\"y\",\"domain\":[0.0,1.0],\"title\":{\"text\":\"nbseg_x\"}},\"yaxis\":{\"anchor\":\"x\",\"domain\":[0.0,1.0],\"title\":{\"text\":\"dist_mean_sum\"}},\"legend\":{\"tracegroupgap\":0},\"margin\":{\"t\":60},\"height\":600,\"width\":800},                        {\"responsive\": true}                    ).then(function(){\n",
       "                            \n",
       "var gd = document.getElementById('2187f602-8775-4541-ac3e-4013fa0a063f');\n",
       "var x = new MutationObserver(function (mutations, observer) {{\n",
       "        var display = window.getComputedStyle(gd).display;\n",
       "        if (!display || display === 'none') {{\n",
       "            console.log([gd, 'removed!']);\n",
       "            Plotly.purge(gd);\n",
       "            observer.disconnect();\n",
       "        }}\n",
       "}});\n",
       "\n",
       "// Listen for the removal of the full notebook cells\n",
       "var notebookContainer = gd.closest('#notebook-container');\n",
       "if (notebookContainer) {{\n",
       "    x.observe(notebookContainer, {childList: true});\n",
       "}}\n",
       "\n",
       "// Listen for the clearing of the current output cell\n",
       "var outputEl = gd.closest('.output');\n",
       "if (outputEl) {{\n",
       "    x.observe(outputEl, {childList: true});\n",
       "}}\n",
       "\n",
       "                        })                };                });            </script>        </div>"
      ]
     },
     "metadata": {},
     "output_type": "display_data"
    }
   ],
   "source": [
    "import plotly.express as px\n",
    "fig = px.scatter(df_dist_clust_inertia, x='nbseg_x', y='dist_mean_sum', width=800, height=600)\n",
    "fig"
   ]
  },
  {
   "cell_type": "code",
   "execution_count": 70,
   "id": "c0d6624e",
   "metadata": {
    "execution": {
     "iopub.execute_input": "2022-05-02T15:39:38.018942Z",
     "iopub.status.busy": "2022-05-02T15:39:38.017944Z",
     "iopub.status.idle": "2022-05-02T15:39:38.024926Z",
     "shell.execute_reply": "2022-05-02T15:39:38.024926Z",
     "shell.execute_reply.started": "2022-05-02T15:39:38.018942Z"
    },
    "tags": []
   },
   "outputs": [
    {
     "name": "stdout",
     "output_type": "stream",
     "text": [
      "7\n"
     ]
    }
   ],
   "source": [
    "from kneed import KneeLocator\n",
    "x=df_dist_clust_inertia['nbseg_x'].values\n",
    "y=df_dist_clust_inertia['dist_mean_sum'].values\n",
    "kn = KneeLocator(x, y, curve='convex', direction='decreasing')\n",
    "nb_segm_optimal=kn.knee\n",
    "print(nb_segm_optimal)"
   ]
  },
  {
   "cell_type": "code",
   "execution_count": 71,
   "id": "0b727e16-75fd-4d8f-b06a-68f34a56b100",
   "metadata": {
    "execution": {
     "iopub.execute_input": "2022-05-02T15:39:43.581784Z",
     "iopub.status.busy": "2022-05-02T15:39:43.580772Z",
     "iopub.status.idle": "2022-05-02T15:39:43.874813Z",
     "shell.execute_reply": "2022-05-02T15:39:43.874813Z",
     "shell.execute_reply.started": "2022-05-02T15:39:43.581784Z"
    },
    "tags": []
   },
   "outputs": [
    {
     "data": {
      "application/vnd.jupyter.widget-view+json": {
       "model_id": "c9222cf64e95458cadb776849d84c044"
      },
      "text/plain": [
       "                          term  cluster  nbseg\n",
       "13                        efsa        1      7\n",
       "2          autorité européenne        1      7\n",
       "40       sécurité des aliments        1      7\n",
       "1                     abeilles        2      7\n",
       "22                   mortalité        2      7\n",
       "7          colonies d'abeilles        2      7\n",
       "34                      ruches        2      7\n",
       "41           taux de mortalité        2      7\n",
       "48                      vignes        3      7\n",
       "23                   moustique        3      7\n",
       "20                      milieu        3      7\n",
       "19               malformations        3      7\n",
       "16                  greenpeace        3      7\n",
       "15         grande distribution        3      7\n",
       "0                 @genefutures        3      7\n",
       "9                  corrélation        3      7\n",
       "42           terre de diatomée        3      7\n",
       "43                      traces        3      7\n",
       "47                   vignerons        3      7\n",
       "29                  pesticides        4      7\n",
       "38                  substances        4      7\n",
       "36                       santé        4      7\n",
       "31                   recherche        4      7\n",
       "45                    troubles        4      7\n",
       "46                     viandes        4      7\n",
       "30          produits chimiques        4      7\n",
       "37               scientifiques        4      7\n",
       "28  perturbateurs endocriniens        4      7\n",
       "49                      études        4      7\n",
       "26                         oms        4      7\n",
       "3                      cancers        4      7\n",
       "4                  cancérogène        4      7\n",
       "5         centre international        4      7\n",
       "6                   chercheuse        4      7\n",
       "14                 expositions        4      7\n",
       "11                  désherbant        5      7\n",
       "12                    ecologie        5      7\n",
       "39                    syngenta        5      7\n",
       "33         roundup de monsanto        5      7\n",
       "32                     roundup        5      7\n",
       "21                    monsanto        5      7\n",
       "25                         ogm        5      7\n",
       "17                  jardinerie        5      7\n",
       "27               paul françois        6      7\n",
       "18                       lasso        6      7\n",
       "10                cour d'appel        6      7\n",
       "35                    salariés        7      7\n",
       "8         coopérative agricole        7      7\n",
       "44                   triskalia        7      7\n",
       "24            nutréa-triskalia        7      7"
      ]
     },
     "metadata": {},
     "output_type": "display_data"
    }
   ],
   "source": [
    "dfcost = dfcost.loc[dfcost['nbseg'] == nb_segm_optimal]\n",
    "dfcost = dfcost.sort_values(by=['cluster'], ascending=[True])\n",
    "dfcost"
   ]
  },
  {
   "cell_type": "code",
   "execution_count": 72,
   "id": "fffc05a1-94e2-4c80-a253-ada9cca3841f",
   "metadata": {},
   "outputs": [],
   "source": [
    "term_x = []\n",
    "term_y = []\n",
    "cluster = []\n",
    "for n, x in enumerate(dfcost[\"term\"]):\n",
    "    clust_x = dfcost[\"cluster\"].iloc[n]\n",
    "    clust_list = []\n",
    "    for m, y in enumerate(dfcost[\"term\"]):\n",
    "        clust_y = dfcost[\"cluster\"].iloc[m]\n",
    "        if x == y:\n",
    "            clust = np.nan\n",
    "        elif clust_x == clust_y:\n",
    "            clust = clust_x\n",
    "        elif clust_x != clust_y:\n",
    "            clust = np.nan\n",
    "\n",
    "        clust_list.append(clust)\n",
    "    cluster.append(clust_list)\n",
    "                      \n",
    "    \n",
    "    "
   ]
  },
  {
   "cell_type": "code",
   "execution_count": 73,
   "id": "ee9f292d",
   "metadata": {},
   "outputs": [
    {
     "data": {
      "text/plain": [
       "<AxesSubplot:>"
      ]
     },
     "execution_count": 73,
     "metadata": {},
     "output_type": "execute_result"
    },
    {
     "data": {
      "image/png": "[encoded data removed]",
      "text/plain": [
       "<Figure size 432x288 with 2 Axes>"
      ]
     },
     "metadata": {
      "needs_background": "light"
     },
     "output_type": "display_data"
    }
   ],
   "source": [
    "sns.heatmap(cluster, annot = False, cmap = 'Set2')"
   ]
  },
  {
   "cell_type": "code",
   "execution_count": 42,
   "id": "a0e0a1df",
   "metadata": {},
   "outputs": [
    {
     "ename": "AttributeError",
     "evalue": "'AxesSubplot' object has no attribute 'ax_heatmap'",
     "output_type": "error",
     "traceback": [
      "\u001b[0;31m---------------------------------------------------------------------------\u001b[0m",
      "\u001b[0;31mAttributeError\u001b[0m                            Traceback (most recent call last)",
      "\u001b[0;32m/tmp/ipykernel_3630/1621475645.py\u001b[0m in \u001b[0;36m<module>\u001b[0;34m\u001b[0m\n\u001b[1;32m      2\u001b[0m \u001b[0mnew_labels\u001b[0m\u001b[0;34m=\u001b[0m\u001b[0;34m[\u001b[0m\u001b[0;34m]\u001b[0m\u001b[0;34m\u001b[0m\u001b[0;34m\u001b[0m\u001b[0m\n\u001b[1;32m      3\u001b[0m \u001b[0mlabels_list\u001b[0m\u001b[0;34m=\u001b[0m\u001b[0mlist_name\u001b[0m\u001b[0;34m\u001b[0m\u001b[0;34m\u001b[0m\u001b[0m\n\u001b[0;32m----> 4\u001b[0;31m \u001b[0;32mfor\u001b[0m \u001b[0ml\u001b[0m \u001b[0;32min\u001b[0m \u001b[0max\u001b[0m\u001b[0;34m.\u001b[0m\u001b[0max_heatmap\u001b[0m\u001b[0;34m.\u001b[0m\u001b[0maxes\u001b[0m\u001b[0;34m.\u001b[0m\u001b[0mget_xticklabels\u001b[0m\u001b[0;34m(\u001b[0m\u001b[0;34m)\u001b[0m\u001b[0;34m:\u001b[0m\u001b[0;34m\u001b[0m\u001b[0;34m\u001b[0m\u001b[0m\n\u001b[0m\u001b[1;32m      5\u001b[0m     \u001b[0ml\u001b[0m\u001b[0;34m.\u001b[0m\u001b[0mset_text\u001b[0m\u001b[0;34m(\u001b[0m\u001b[0mlabels_list\u001b[0m\u001b[0;34m[\u001b[0m\u001b[0mint\u001b[0m\u001b[0;34m(\u001b[0m\u001b[0ml\u001b[0m\u001b[0;34m.\u001b[0m\u001b[0mget_text\u001b[0m\u001b[0;34m(\u001b[0m\u001b[0;34m)\u001b[0m\u001b[0;34m)\u001b[0m\u001b[0;34m]\u001b[0m\u001b[0;34m)\u001b[0m\u001b[0;34m\u001b[0m\u001b[0;34m\u001b[0m\u001b[0m\n\u001b[1;32m      6\u001b[0m     \u001b[0mnew_labels\u001b[0m\u001b[0;34m.\u001b[0m\u001b[0mappend\u001b[0m\u001b[0;34m(\u001b[0m\u001b[0ml\u001b[0m\u001b[0;34m)\u001b[0m\u001b[0;34m\u001b[0m\u001b[0;34m\u001b[0m\u001b[0m\n",
      "\u001b[0;31mAttributeError\u001b[0m: 'AxesSubplot' object has no attribute 'ax_heatmap'"
     ]
    },
    {
     "data": {
      "image/png": "[encoded data removed]",
      "text/plain": [
       "<Figure size 432x288 with 2 Axes>"
      ]
     },
     "metadata": {
      "needs_background": "light"
     },
     "output_type": "display_data"
    }
   ],
   "source": [
    "ax=sns.heatmap(cluster, cmap = \"Set2\", linewidths=2, linecolor='white')#,labels=range(14))\n",
    "new_labels=[]\n",
    "labels_list=list_name\n",
    "for l in ax.ax_heatmap.axes.get_xticklabels():\n",
    "    l.set_text(labels_list[int(l.get_text())])\n",
    "    new_labels.append(l)"
   ]
  },
  {
   "cell_type": "code",
   "execution_count": null,
   "id": "988b3246",
   "metadata": {},
   "outputs": [],
   "source": []
  }
 ],
 "metadata": {
  "kernelspec": {
   "display_name": "analyse_tweets",
   "language": "python",
   "name": "analyse_tweets"
  },
  "language_info": {
   "codemirror_mode": {
    "name": "ipython",
    "version": 3
   },
   "file_extension": ".py",
   "mimetype": "text/x-python",
   "name": "python",
   "nbconvert_exporter": "python",
   "pygments_lexer": "ipython3",
   "version": "3.9.7"
  }
 },
 "nbformat": 4,
 "nbformat_minor": 5
}
