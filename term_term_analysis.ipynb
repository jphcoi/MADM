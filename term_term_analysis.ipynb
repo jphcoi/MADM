{
 "cells": [
  {
   "cell_type": "code",
   "execution_count": 1,
   "id": "61918cfc",
   "metadata": {},
   "outputs": [],
   "source": [
    "import pandas as pd\n",
    "import random\n",
    "\n",
    "from functools import partial\n",
    "import math\n",
    "import os\n",
    "import tqdm\n",
    "import numpy as np\n",
    "#import bamboolib as bam\n",
    "import sklearn\n",
    "from matplotlib import pyplot \n",
    "import seaborn as sns\n",
    "from sklearn import metrics\n",
    "from sklearn.neighbors import NearestNeighbors\n",
    "from matplotlib import pyplot as plt\n",
    "    \n",
    "from kneed import KneeLocator\n",
    "import scipy\n",
    "    "
   ]
  },
  {
   "cell_type": "code",
   "execution_count": 2,
   "id": "909ee1bf",
   "metadata": {},
   "outputs": [],
   "source": [
    "import networkx as nx\n",
    "import networkx.algorithms.community as nx_comm\n",
    "from ipysigma import Sigma\n",
    "import community as community_louvain\n",
    "import matplotlib.cm as cm\n",
    "import igraph as ig"
   ]
  },
  {
   "cell_type": "markdown",
   "id": "b23159e5",
   "metadata": {},
   "source": [
    "# Chargement et préparation des données"
   ]
  },
  {
   "cell_type": "code",
   "execution_count": 3,
   "id": "c605ae61",
   "metadata": {},
   "outputs": [
    {
     "data": {
      "text/plain": [
       "'/home/aymeric/python-scripts/anses_medialab/datas/index_alldefault_nameexhaustive_aymeric.csv'"
      ]
     },
     "execution_count": 3,
     "metadata": {},
     "output_type": "execute_result"
    }
   ],
   "source": [
    "aymeric = \"/home/aymeric/python-scripts/anses_medialab/datas\" #aymeric\n",
    "jp = 'd:/Projects/Medialab/Anses/' # Jean Philippe\n",
    "\n",
    "path= aymeric\n",
    "tfidf='tfidf'\n",
    "#domain='media'\n",
    "#domain='twitter'\n",
    "#domain='facebook'\n",
    "\n",
    "index_file_JP=\"indexation_results/index_alldefault_nameexhaustive_aymeric.csv\"\n",
    "index_file_AL=f\"index_alldefault_nameexhaustive_aymeric.csv\"\n",
    "term_specific =\"list_100_term_chi2.csv\"\n",
    "index_file=f\"{path}/{index_file_AL}\"\n",
    "index_file"
   ]
  },
  {
   "cell_type": "code",
   "execution_count": 4,
   "id": "5865003e",
   "metadata": {},
   "outputs": [],
   "source": [
    "df=pd.read_csv(index_file, sep='\\t', dtype={\"doc_id\" :\"string\", \"sent_id\": \"string\"})\n",
    "specific_term = pd.read_csv(f\"{path}/{term_specific}\", sep=',')\n",
    "specific_term = specific_term.drop(columns=[\"Unnamed: 2\"])\n",
    "list_periods = pd.read_csv(f'{path}/analyse_periods/list_periods_all_sources.csv', sep=',')"
   ]
  },
  {
   "cell_type": "code",
   "execution_count": 5,
   "id": "975bc557",
   "metadata": {},
   "outputs": [
    {
     "data": {
      "text/plain": [
       "7832372"
      ]
     },
     "execution_count": 5,
     "metadata": {},
     "output_type": "execute_result"
    }
   ],
   "source": [
    "df['date'] = pd.to_datetime(df['date'], infer_datetime_format=True)\n",
    "df['yearmonth']=(df['date'].dt.strftime('%Y-%m'))\n",
    "df=df[~df['yearmonth'].isin(['2008-04', '2010-01','2021-02'])]\n",
    "df=df.dropna(subset=['yearmonth'])\n",
    "len(df)"
   ]
  },
  {
   "cell_type": "code",
   "execution_count": 6,
   "id": "bf8e6195",
   "metadata": {},
   "outputs": [],
   "source": [
    "df0 = df.drop_duplicates()\n",
    "df0 = df0.merge(list_periods, on = [\"origin\", \"yearmonth\"], how= \"left\")"
   ]
  },
  {
   "cell_type": "markdown",
   "id": "8e152c04",
   "metadata": {},
   "source": [
    "## Fréquence des termes par documents (sur facebook)"
   ]
  },
  {
   "cell_type": "code",
   "execution_count": 7,
   "id": "c78d3308",
   "metadata": {},
   "outputs": [],
   "source": [
    "df0[\"doc_sent_id\"] = df0[\"doc_id\"]+\"_\"+df0[\"sent_id\"]"
   ]
  },
  {
   "cell_type": "code",
   "execution_count": 75,
   "id": "fb8f1504",
   "metadata": {},
   "outputs": [
    {
     "data": {
      "text/html": [
       "<div>\n",
       "<style scoped>\n",
       "    .dataframe tbody tr th:only-of-type {\n",
       "        vertical-align: middle;\n",
       "    }\n",
       "\n",
       "    .dataframe tbody tr th {\n",
       "        vertical-align: top;\n",
       "    }\n",
       "\n",
       "    .dataframe thead th {\n",
       "        text-align: right;\n",
       "    }\n",
       "</style>\n",
       "<table border=\"1\" class=\"dataframe\">\n",
       "  <thead>\n",
       "    <tr style=\"text-align: right;\">\n",
       "      <th></th>\n",
       "      <th>term</th>\n",
       "      <th>doc_id</th>\n",
       "      <th>sent_id</th>\n",
       "      <th>origin</th>\n",
       "      <th>source</th>\n",
       "      <th>date</th>\n",
       "      <th>yearmonth</th>\n",
       "      <th>P_twitter</th>\n",
       "      <th>P_media</th>\n",
       "      <th>P_facebook</th>\n",
       "      <th>doc_sent_id</th>\n",
       "    </tr>\n",
       "  </thead>\n",
       "  <tbody>\n",
       "    <tr>\n",
       "      <th>0</th>\n",
       "      <td>glyphosate</td>\n",
       "      <td>707244725942747136</td>\n",
       "      <td>1</td>\n",
       "      <td>twitter</td>\n",
       "      <td>Titrespresse.com</td>\n",
       "      <td>2016-03-08</td>\n",
       "      <td>2016-03</td>\n",
       "      <td>4.0</td>\n",
       "      <td>8.0</td>\n",
       "      <td>6.0</td>\n",
       "      <td>707244725942747136_1</td>\n",
       "    </tr>\n",
       "    <tr>\n",
       "      <th>1</th>\n",
       "      <td>europe</td>\n",
       "      <td>707244725942747136</td>\n",
       "      <td>1</td>\n",
       "      <td>twitter</td>\n",
       "      <td>Titrespresse.com</td>\n",
       "      <td>2016-03-08</td>\n",
       "      <td>2016-03</td>\n",
       "      <td>4.0</td>\n",
       "      <td>8.0</td>\n",
       "      <td>6.0</td>\n",
       "      <td>707244725942747136_1</td>\n",
       "    </tr>\n",
       "    <tr>\n",
       "      <th>2</th>\n",
       "      <td>pesticides</td>\n",
       "      <td>1396436134209720320</td>\n",
       "      <td>0</td>\n",
       "      <td>twitter</td>\n",
       "      <td>ChachaP</td>\n",
       "      <td>2021-05-23</td>\n",
       "      <td>2021-05</td>\n",
       "      <td>7.0</td>\n",
       "      <td>10.0</td>\n",
       "      <td>11.0</td>\n",
       "      <td>1396436134209720320_0</td>\n",
       "    </tr>\n",
       "    <tr>\n",
       "      <th>3</th>\n",
       "      <td>herbicide</td>\n",
       "      <td>1396436134209720320</td>\n",
       "      <td>0</td>\n",
       "      <td>twitter</td>\n",
       "      <td>ChachaP</td>\n",
       "      <td>2021-05-23</td>\n",
       "      <td>2021-05</td>\n",
       "      <td>7.0</td>\n",
       "      <td>10.0</td>\n",
       "      <td>11.0</td>\n",
       "      <td>1396436134209720320_0</td>\n",
       "    </tr>\n",
       "    <tr>\n",
       "      <th>4</th>\n",
       "      <td>glyphosate</td>\n",
       "      <td>1396436134209720320</td>\n",
       "      <td>0</td>\n",
       "      <td>twitter</td>\n",
       "      <td>ChachaP</td>\n",
       "      <td>2021-05-23</td>\n",
       "      <td>2021-05</td>\n",
       "      <td>7.0</td>\n",
       "      <td>10.0</td>\n",
       "      <td>11.0</td>\n",
       "      <td>1396436134209720320_0</td>\n",
       "    </tr>\n",
       "    <tr>\n",
       "      <th>...</th>\n",
       "      <td>...</td>\n",
       "      <td>...</td>\n",
       "      <td>...</td>\n",
       "      <td>...</td>\n",
       "      <td>...</td>\n",
       "      <td>...</td>\n",
       "      <td>...</td>\n",
       "      <td>...</td>\n",
       "      <td>...</td>\n",
       "      <td>...</td>\n",
       "      <td>...</td>\n",
       "    </tr>\n",
       "    <tr>\n",
       "      <th>3836926</th>\n",
       "      <td>sortie</td>\n",
       "      <td>968101561401561088</td>\n",
       "      <td>0</td>\n",
       "      <td>twitter</td>\n",
       "      <td>RiskAssur/Notre-Siecle/PereLaFouine</td>\n",
       "      <td>2018-02-26</td>\n",
       "      <td>2018-02</td>\n",
       "      <td>5.0</td>\n",
       "      <td>8.0</td>\n",
       "      <td>7.0</td>\n",
       "      <td>968101561401561088_0</td>\n",
       "    </tr>\n",
       "    <tr>\n",
       "      <th>3836927</th>\n",
       "      <td>sortie du glyphosate</td>\n",
       "      <td>968101561401561088</td>\n",
       "      <td>0</td>\n",
       "      <td>twitter</td>\n",
       "      <td>RiskAssur/Notre-Siecle/PereLaFouine</td>\n",
       "      <td>2018-02-26</td>\n",
       "      <td>2018-02</td>\n",
       "      <td>5.0</td>\n",
       "      <td>8.0</td>\n",
       "      <td>7.0</td>\n",
       "      <td>968101561401561088_0</td>\n",
       "    </tr>\n",
       "    <tr>\n",
       "      <th>3836928</th>\n",
       "      <td>glyphosate</td>\n",
       "      <td>968101561401561088</td>\n",
       "      <td>0</td>\n",
       "      <td>twitter</td>\n",
       "      <td>RiskAssur/Notre-Siecle/PereLaFouine</td>\n",
       "      <td>2018-02-26</td>\n",
       "      <td>2018-02</td>\n",
       "      <td>5.0</td>\n",
       "      <td>8.0</td>\n",
       "      <td>7.0</td>\n",
       "      <td>968101561401561088_0</td>\n",
       "    </tr>\n",
       "    <tr>\n",
       "      <th>3836929</th>\n",
       "      <td>nicolas hulot</td>\n",
       "      <td>968101561401561088</td>\n",
       "      <td>0</td>\n",
       "      <td>twitter</td>\n",
       "      <td>RiskAssur/Notre-Siecle/PereLaFouine</td>\n",
       "      <td>2018-02-26</td>\n",
       "      <td>2018-02</td>\n",
       "      <td>5.0</td>\n",
       "      <td>8.0</td>\n",
       "      <td>7.0</td>\n",
       "      <td>968101561401561088_0</td>\n",
       "    </tr>\n",
       "    <tr>\n",
       "      <th>3836930</th>\n",
       "      <td>hulot</td>\n",
       "      <td>968101561401561088</td>\n",
       "      <td>0</td>\n",
       "      <td>twitter</td>\n",
       "      <td>RiskAssur/Notre-Siecle/PereLaFouine</td>\n",
       "      <td>2018-02-26</td>\n",
       "      <td>2018-02</td>\n",
       "      <td>5.0</td>\n",
       "      <td>8.0</td>\n",
       "      <td>7.0</td>\n",
       "      <td>968101561401561088_0</td>\n",
       "    </tr>\n",
       "  </tbody>\n",
       "</table>\n",
       "<p>3836931 rows × 11 columns</p>\n",
       "</div>"
      ],
      "text/plain": [
       "                         term               doc_id sent_id   origin  \\\n",
       "0                  glyphosate   707244725942747136       1  twitter   \n",
       "1                      europe   707244725942747136       1  twitter   \n",
       "2                  pesticides  1396436134209720320       0  twitter   \n",
       "3                   herbicide  1396436134209720320       0  twitter   \n",
       "4                  glyphosate  1396436134209720320       0  twitter   \n",
       "...                       ...                  ...     ...      ...   \n",
       "3836926                sortie   968101561401561088       0  twitter   \n",
       "3836927  sortie du glyphosate   968101561401561088       0  twitter   \n",
       "3836928            glyphosate   968101561401561088       0  twitter   \n",
       "3836929         nicolas hulot   968101561401561088       0  twitter   \n",
       "3836930                 hulot   968101561401561088       0  twitter   \n",
       "\n",
       "                                      source       date yearmonth  P_twitter  \\\n",
       "0                           Titrespresse.com 2016-03-08   2016-03        4.0   \n",
       "1                           Titrespresse.com 2016-03-08   2016-03        4.0   \n",
       "2                                    ChachaP 2021-05-23   2021-05        7.0   \n",
       "3                                    ChachaP 2021-05-23   2021-05        7.0   \n",
       "4                                    ChachaP 2021-05-23   2021-05        7.0   \n",
       "...                                      ...        ...       ...        ...   \n",
       "3836926  RiskAssur/Notre-Siecle/PereLaFouine 2018-02-26   2018-02        5.0   \n",
       "3836927  RiskAssur/Notre-Siecle/PereLaFouine 2018-02-26   2018-02        5.0   \n",
       "3836928  RiskAssur/Notre-Siecle/PereLaFouine 2018-02-26   2018-02        5.0   \n",
       "3836929  RiskAssur/Notre-Siecle/PereLaFouine 2018-02-26   2018-02        5.0   \n",
       "3836930  RiskAssur/Notre-Siecle/PereLaFouine 2018-02-26   2018-02        5.0   \n",
       "\n",
       "         P_media  P_facebook            doc_sent_id  \n",
       "0            8.0         6.0   707244725942747136_1  \n",
       "1            8.0         6.0   707244725942747136_1  \n",
       "2           10.0        11.0  1396436134209720320_0  \n",
       "3           10.0        11.0  1396436134209720320_0  \n",
       "4           10.0        11.0  1396436134209720320_0  \n",
       "...          ...         ...                    ...  \n",
       "3836926      8.0         7.0   968101561401561088_0  \n",
       "3836927      8.0         7.0   968101561401561088_0  \n",
       "3836928      8.0         7.0   968101561401561088_0  \n",
       "3836929      8.0         7.0   968101561401561088_0  \n",
       "3836930      8.0         7.0   968101561401561088_0  \n",
       "\n",
       "[3836931 rows x 11 columns]"
      ]
     },
     "execution_count": 75,
     "metadata": {},
     "output_type": "execute_result"
    }
   ],
   "source": [
    "l = []\n",
    "if l is Null:\n",
    "    "
   ]
  },
  {
   "cell_type": "code",
   "execution_count": 96,
   "id": "067a0dc6",
   "metadata": {},
   "outputs": [],
   "source": [
    "def term_doc_freq(data, name_period, origin, period, what, targeted_terms, N):\n",
    "    \n",
    "    df_p = data.loc[(data[\"origin\"]== origin) & (data[name_period]== period)]\n",
    "    \n",
    "    if len(targeted_terms) > 0:\n",
    "        doc_with_targeted_terms = df_p.loc[df_p[\"term\"].isin(targeted_terms)]\n",
    "        doc_with_glypho = glypho[\"doc_id\"].to_list()\n",
    "        df_p = df_p.merge(doc_with_targeted_terms[[\"doc_id\"]], on = [\"doc_id\"], how = \"inner\")\n",
    "    else:\n",
    "        pass\n",
    "\n",
    " \n",
    "    \n",
    "    if origin == \"facebook\":\n",
    "        # Step: Keep rows where origin is one of: facebook\n",
    "        specific_term_origin = specific_term.loc[(specific_term['origin'] == 'facebook') & \n",
    "                                          (specific_term[\"P\"] == period)]\n",
    "        \n",
    "        specific_term_origin = specific_term_origin.sort_values(by=['chi2'], ascending=[False]).reset_index().head(N)\n",
    "        topN = specific_term_origin[\"term\"]\n",
    "        \n",
    "    elif origin == \"media\":\n",
    "        specific_term_origin = specific_term.loc[(specific_term['origin'] == 'media') & \n",
    "                                      (specific_term[\"P\"] == period)]\n",
    "        \n",
    "        specific_term_origin = specific_term_origin.sort_values(by=['chi2'], ascending=[False]).reset_index().head(N)\n",
    "        topN = specific_term_origin[\"term\"]\n",
    "    \n",
    "    elif origin == \"twitter\":\n",
    "        specific_term_origin = specific_term.loc[(specific_term['origin'] == 'twitter') & \n",
    "                                      (specific_term[\"P\"] == period)]\n",
    "        \n",
    "        specific_term_origin = specific_term_origin.sort_values(by=['chi2'], ascending=[False]).reset_index().head(N)\n",
    "        topN = specific_term_origin[\"term\"]\n",
    "    \n",
    "    #topN = df_p[\"term\"].value_counts().index[:N]\n",
    "    df_p=df_p.loc[(df_p[\"origin\"]==origin) & (df_p[\"term\"].isin(topN))]\n",
    "\n",
    "    df_term_freq = df_p.groupby(['term', what]).agg(freq=('sent_id', 'size')).reset_index()\n",
    "    return df_term_freq"
   ]
  },
  {
   "cell_type": "code",
   "execution_count": 197,
   "id": "ddbca999",
   "metadata": {},
   "outputs": [],
   "source": [
    "def term_doc_freq(data, name_period, origin, period, what, targeted_terms, N):\n",
    "    \n",
    "    df_p = data.loc[(data[\"origin\"]== origin)]# & (data[name_period]<= period)]\n",
    "    \n",
    "    if len(targeted_terms) > 0:\n",
    "        doc_with_targeted_terms = df_p.loc[df_p[\"term\"].isin(targeted_terms)]\n",
    "        doc_with_glypho = glypho[\"doc_id\"].to_list()\n",
    "        df_p = df_p.merge(doc_with_targeted_terms[[\"doc_id\"]], on = [\"doc_id\"], how = \"inner\")\n",
    "    else:\n",
    "        pass\n",
    "        \n",
    "    topN=df_p[\"term\"].value_counts().index[:N]\n",
    "    \n",
    "    #topN = df_p[\"term\"].value_counts().index[:N]\n",
    "    df_p=df_p.loc[(df_p[\"term\"].isin(topN))]\n",
    "\n",
    "    df_term_freq = df_p.groupby(['term', what]).agg(freq=('sent_id', 'size')).reset_index()\n",
    "    return df_term_freq"
   ]
  },
  {
   "cell_type": "markdown",
   "id": "f81a5c56",
   "metadata": {},
   "source": [
    "## Création de la matrice termes-termes\n",
    "multiplication de la matrice documents-termes par sa transposée"
   ]
  },
  {
   "cell_type": "code",
   "execution_count": 172,
   "id": "96048645",
   "metadata": {},
   "outputs": [],
   "source": [
    "def create_term_term_matrix(data, what):\n",
    "    table = pd.pivot_table(data, \n",
    "                           values='freq', index=[what],columns=[\"term\"], aggfunc=np.sum, fill_value=0, observed = True)\n",
    "    \n",
    "    term_term = np.dot(table.T, table) # multiplication de la transposé de\n",
    "    return term_term, table"
   ]
  },
  {
   "cell_type": "code",
   "execution_count": 160,
   "id": "c61bef7d",
   "metadata": {},
   "outputs": [],
   "source": [
    "def mutual_information_matrix(matrix): # a term_term matrix\n",
    "    mi_matrix = []\n",
    "    #freq_term = [x for x in matrix.diagonal()] # pour obtenir la fréquence de chaque terme (somme de chaque ligne)\n",
    "    freq_term = np.sum(matrix,axis=1).tolist() - matrix.diagonal()\n",
    "    \n",
    "    #Nombre de paires est égale à la somme des lignes moins la diagonale (à diviser par 2?)\n",
    "    #Nb_pairs = (sum(np.sum(matrix,axis=1).tolist()) -  sum(freq_term))/2 \n",
    "    Nb_pairs = sum(freq_term)\n",
    "    for i in range(len(matrix)):\n",
    "        list_mi = []\n",
    "        for j in range(len(matrix)):\n",
    "            nb_cooc = matrix[i,j] #nombre de cooccurrences des termes i et j\n",
    "            freq_i = freq_term[i] # fréquence de i\n",
    "            freq_j = freq_term[j] # fréquence de j\n",
    "        \n",
    "            if i == j : \n",
    "                mutual_info = 0\n",
    "            else:\n",
    "                if nb_cooc == 0 :\n",
    "                    mutual_info = 0\n",
    "                else: #calcule mutual information\n",
    "                    num = (nb_cooc*Nb_pairs)\n",
    "                    denom = freq_i*freq_j\n",
    "                    mutual_info = np.log(num/denom)\n",
    "                    if mutual_info < 0:\n",
    "                        mutual_info = 0\n",
    "\n",
    "            list_mi.append(mutual_info)\n",
    "        mi_matrix.append(list_mi)\n",
    "    return mi_matrix"
   ]
  },
  {
   "cell_type": "code",
   "execution_count": 159,
   "id": "d5b36a8b",
   "metadata": {},
   "outputs": [
    {
     "data": {
      "text/plain": [
       "array([ 178869,     768,      46, 1287513,      93,  177720,    1652,\n",
       "        177674,    1504,     768,      93,  521586,  177822,     148,\n",
       "        177720,     148,     148,  350546,     148,     148,  178442,\n",
       "        177674,     132,  177674,      93,  178119,     148,      46,\n",
       "        178442,  177858,     184,     148,     139,  177674,      93,\n",
       "           952,      93,     768,      93,     768, 1144667,     210,\n",
       "            46,     768,     768,  352772,     593,  350546,     148,\n",
       "            46,      46,     688,  177674,     148,     280,  351735,\n",
       "        842002,  177720,     768,     148,     360,     768,      46,\n",
       "           148,     768,      46,  177767,     916,     916,  183192,\n",
       "            93,  178119,     241,     184,     287,     768,     561,\n",
       "        350730,      93,  351407,      46,      93,     184,  178488,\n",
       "           768, 2162362,  177674,  177674,  177674,  177674,      46,\n",
       "          1006,     148,    1041,     768,     768,     445,     952,\n",
       "        177674,     148,      93,     544,      93,      93,     273,\n",
       "        352096])"
      ]
     },
     "execution_count": 159,
     "metadata": {},
     "output_type": "execute_result"
    }
   ],
   "source": [
    "mi_matrix = []\n",
    "freq_term = np.sum(term_term,axis=1).tolist() - term_term.diagonal() # pour obtenir la fréquence de chaque terme (somme de chaque ligne)\n",
    "#Nombre de paires est égale à la somme des lignes moins la diagonale (à diviser par 2?)\n",
    "\n",
    "freq_term\n",
    "Nb_pairs"
   ]
  },
  {
   "cell_type": "markdown",
   "id": "3e4c3f08",
   "metadata": {},
   "source": [
    "## Calcule du cosine"
   ]
  },
  {
   "cell_type": "code",
   "execution_count": 92,
   "id": "ae5553be",
   "metadata": {},
   "outputs": [],
   "source": [
    "def find_k_neighbor(mi_matrix, precompute):\n",
    "    mi_array = np.array(mi_matrix)\n",
    "    \n",
    "    if precompute == True:\n",
    "        m =scipy.sparse.csc_matrix(mi_array)\n",
    "        dist=metrics.pairwise.cosine_distances(m)\n",
    "        list_voisin = []\n",
    "        list_voisin_dist =[]\n",
    "        samples = dist, x\n",
    "        neigh = NearestNeighbors(n_neighbors=6, metric='precomputed')\n",
    "        neigh.fit(samples)\n",
    "        for x in range(len(dist)):\n",
    "            voisins = neigh.kneighbors(dist[[x]], return_distance=True)\n",
    "            voisins_dist = voisins[0].tolist()\n",
    "            voisins_id = voisins[1].tolist()\n",
    "            #print(voisins_id)\n",
    "            list_voisin.append(voisins_id[0])\n",
    "            list_voisin_dist.append(voisins_dist[0])\n",
    "    else:\n",
    "        list_voisin = []\n",
    "        list_voisin_dist =[]\n",
    "        samples = mi_array\n",
    "        neigh = NearestNeighbors(n_neighbors=6, metric='cosine')\n",
    "        neigh.fit(samples)\n",
    "        for x in range(len(mi_array)):\n",
    "            voisins = neigh.kneighbors(mi_array[[x]], return_distance=True)\n",
    "            voisins_dist = voisins[0].tolist()\n",
    "            voisins_id = voisins[1].tolist()\n",
    "            #print(voisins_id)\n",
    "            list_voisin.append(voisins_id[0])\n",
    "            list_voisin_dist.append(voisins_dist[0])\n",
    "    return list_voisin, list_voisin_dist\n",
    "    \n",
    "    \n",
    "        "
   ]
  },
  {
   "cell_type": "code",
   "execution_count": 93,
   "id": "51d999b0",
   "metadata": {},
   "outputs": [],
   "source": [
    "def matrix_to_df(list_voisin, list_voisin_dist, table):\n",
    "    df_dist = pd.DataFrame(list_voisin_dist)\n",
    "    df_dist[\"term\"] = table.columns\n",
    "    df_dist[\"id\"] = df_dist.index\n",
    "    list_id = []\n",
    "    list_term = []\n",
    "    list_voisins_dist =[]\n",
    "    for x, term in enumerate(df_dist[\"term\"]):\n",
    "        for col in df_dist.columns[0:-2]:\n",
    "            list_id.append(x)\n",
    "            list_term.append(term)\n",
    "            neig_dist = df_dist[col].iloc[x]\n",
    "            list_voisins_dist.append(neig_dist)\n",
    "    data = {\"id\": list_id, \"term\": list_term, \"distances\":list_voisins_dist}\n",
    "    df_dist_voisin = pd.DataFrame(data)#dtype={\"id\" :\"string\"})\n",
    "    df_dist_voisin[\"row_id\"] = df_dist_voisin.index #.astype('str')\n",
    "    df_dist_voisin = df_dist_voisin.astype({\"id\": str, \"row_id\": str})\n",
    "\n",
    "    df_voisin = pd.DataFrame(list_voisin)\n",
    "    df_voisin[\"term\"] = table.columns\n",
    "    df_voisin[\"id\"] = df_voisin.index\n",
    "    list_id = []\n",
    "    list_term = []\n",
    "    list_voisins =[]\n",
    "    for x, term in enumerate(df_voisin[\"term\"]):\n",
    "        for col in df_voisin.columns[0:-2]:\n",
    "            list_id.append(x)\n",
    "            list_term.append(term)\n",
    "            neig = df_voisin[col].iloc[x]\n",
    "            list_voisins.append(neig)\n",
    "    data = {\"id\": list_id, \"term\": list_term, \"voisins\":list_voisins}\n",
    "    df_voisin = pd.DataFrame(data)\n",
    "    df_voisin[\"row_id\"] = df_voisin.index\n",
    "    df_voisin = df_voisin.astype({\"id\": str, \"row_id\": str, \"voisins\" : str})\n",
    "    df_voisin = df_voisin.merge(df_dist_voisin, on=[\"row_id\", \"term\", \"id\"], how = \"left\")\n",
    "    \n",
    "    df_id = df_voisin[[\"id\", \"term\"]].drop_duplicates()\n",
    "    df_id[\"voisins\"] = df_id[\"id\"].astype('str')\n",
    "    df_id = df_id.astype({\"voisins\": str, \"id\": str})\n",
    "    df_voisin = df_voisin.merge(df_id, on=[\"voisins\"], how =\"left\")\n",
    "    \n",
    "    df_voisin = df_voisin.drop(columns=[\"voisins\"])\n",
    "    df_voisin[\"id_x\"] = \"id_\"+df_voisin[\"id_x\"]\n",
    "    df_voisin[\"id_y\"] = \"id_\"+df_voisin[\"id_y\"]\n",
    "    df_voisin[\"row_id\"] = \"row_id_\"+df_voisin[\"row_id\"]\n",
    "    df_voisin = df_voisin.loc[df_voisin[\"term_x\"]!=df_voisin[\"term_y\"]]\n",
    "    \n",
    "    return df_voisin"
   ]
  },
  {
   "cell_type": "code",
   "execution_count": 231,
   "id": "d629bca5",
   "metadata": {},
   "outputs": [],
   "source": [
    "df_term_freq = term_doc_freq(data = df0, origin = \"twitter\", \n",
    "                             name_period = \"P_twitter\", period = 7, \n",
    "                             what = \"doc_id\", targeted_terms = [],\n",
    "                            N = 1000)\n"
   ]
  },
  {
   "cell_type": "code",
   "execution_count": null,
   "id": "88385a3b",
   "metadata": {},
   "outputs": [],
   "source": [
    "term_term, table = create_term_term_matrix(data = df_term_freq,  what =\"doc_id\")"
   ]
  },
  {
   "cell_type": "code",
   "execution_count": 202,
   "id": "83e36a5c",
   "metadata": {},
   "outputs": [],
   "source": [
    "mi_matrix = mutual_information_matrix(matrix= term_term)"
   ]
  },
  {
   "cell_type": "code",
   "execution_count": 203,
   "id": "f0ce57c2",
   "metadata": {},
   "outputs": [],
   "source": [
    "list_voisin, list_voisin_dist = find_k_neighbor(mi_matrix = mi_matrix, precompute = \"True\")"
   ]
  },
  {
   "cell_type": "code",
   "execution_count": 204,
   "id": "d69c1942",
   "metadata": {},
   "outputs": [],
   "source": [
    "df_voisin = matrix_to_df(list_voisin, list_voisin_dist, table)"
   ]
  },
  {
   "cell_type": "code",
   "execution_count": 205,
   "id": "2b120025",
   "metadata": {},
   "outputs": [],
   "source": [
    "#df_voisin.to_csv(f\"{path}/analyse_periods/5_plus_proche_voisins_periode_0_fb.csv\", sep =\",\")"
   ]
  },
  {
   "cell_type": "code",
   "execution_count": 213,
   "id": "1c0222cc",
   "metadata": {},
   "outputs": [],
   "source": [
    "df_voisin0 = df_voisin[[\"term_x\", \"term_y\", \"distances\"]].loc[df_voisin[\"distances\"]>= 0.2]\n"
   ]
  },
  {
   "cell_type": "code",
   "execution_count": 214,
   "id": "1e8321f4",
   "metadata": {},
   "outputs": [
    {
     "data": {
      "text/plain": [
       "<AxesSubplot:>"
      ]
     },
     "execution_count": 214,
     "metadata": {},
     "output_type": "execute_result"
    },
    {
     "data": {
      "image/png": "[encoded data removed]",
      "text/plain": [
       "<Figure size 432x288 with 1 Axes>"
      ]
     },
     "metadata": {
      "needs_background": "light"
     },
     "output_type": "display_data"
    }
   ],
   "source": [
    "df_voisin0.distances.hist()"
   ]
  },
  {
   "cell_type": "code",
   "execution_count": 215,
   "id": "4e985ca5",
   "metadata": {},
   "outputs": [],
   "source": [
    "G = nx.from_pandas_edgelist(df_voisin0, 'term_x', 'term_y', ['distances'])"
   ]
  },
  {
   "cell_type": "code",
   "execution_count": 227,
   "id": "7be2601b",
   "metadata": {},
   "outputs": [
    {
     "data": {
      "text/plain": [
       "{0, 1, 2, 3, 4, 5, 6, 7, 8, 9, 10, 11, 12, 13, 14, 15, 16, 17, 18, 19, 20}"
      ]
     },
     "execution_count": 227,
     "metadata": {},
     "output_type": "execute_result"
    }
   ],
   "source": [
    "#first compute the best partition\n",
    "partition = community_louvain.best_partition(G, weight = \"distances\",resolution=2)\n",
    "list_communities = [partition[x] for x in partition]\n",
    "set(list_communities)"
   ]
  },
  {
   "cell_type": "code",
   "execution_count": 228,
   "id": "6b9660ea",
   "metadata": {},
   "outputs": [
    {
     "data": {
      "text/plain": [
       "{'% des échantillons',\n",
       " '@genefutures',\n",
       " 'allemagne',\n",
       " 'ania',\n",
       " 'animal',\n",
       " 'autorité',\n",
       " 'concentration maximale admissible',\n",
       " 'concentration supérieure',\n",
       " 'consommateurs',\n",
       " 'contrôle',\n",
       " 'fipronil',\n",
       " 'futures',\n",
       " 'génération',\n",
       " 'générations futures',\n",
       " 'industrie alimentaire',\n",
       " 'limite',\n",
       " 'limite réglementaire',\n",
       " 'limites maximales',\n",
       " 'liste des produits',\n",
       " 'lmr',\n",
       " \"oxyde d'éthylène\",\n",
       " 'résidus',\n",
       " 'résidus de pesticides',\n",
       " 'substance toxique',\n",
       " 'traces',\n",
       " 'traces de fipronil',\n",
       " 'ufc-que',\n",
       " 'élevage',\n",
       " 'œuf'}"
      ]
     },
     "execution_count": 228,
     "metadata": {},
     "output_type": "execute_result"
    }
   ],
   "source": [
    "value = {i for i in partition if partition[i]==0}\n",
    "value"
   ]
  },
  {
   "cell_type": "code",
   "execution_count": 229,
   "id": "1a42ec7d",
   "metadata": {},
   "outputs": [],
   "source": [
    "nx.set_node_attributes(G, partition, 'louvain')"
   ]
  },
  {
   "cell_type": "code",
   "execution_count": 184,
   "id": "4ed64cb4",
   "metadata": {},
   "outputs": [
    {
     "data": {
      "application/vnd.jupyter.widget-view+json": {
       "model_id": "9da254deb1de421bb8f365e61104b1b3",
       "version_major": 2,
       "version_minor": 0
      },
      "text/plain": [
       "Sigma(nx.Graph with 305 nodes and 1,150 edges)"
      ]
     },
     "metadata": {},
     "output_type": "display_data"
    }
   ],
   "source": [
    "Sigma(G, node_size = G.degree, node_color = partition)"
   ]
  },
  {
   "cell_type": "code",
   "execution_count": 230,
   "id": "845945e9",
   "metadata": {},
   "outputs": [
    {
     "data": {
      "application/vnd.jupyter.widget-view+json": {
       "model_id": "0c65afcf41cc4311a779a17c1583c647",
       "version_major": 2,
       "version_minor": 0
      },
      "text/plain": [
       "Sigma(nx.Graph with 453 nodes and 1,630 edges)"
      ]
     },
     "metadata": {},
     "output_type": "display_data"
    }
   ],
   "source": [
    "Sigma(G, node_size = G.degree, node_color = partition)"
   ]
  },
  {
   "cell_type": "code",
   "execution_count": null,
   "id": "bcd0e302",
   "metadata": {},
   "outputs": [],
   "source": []
  }
 ],
 "metadata": {
  "hide_input": false,
  "kernelspec": {
   "display_name": "analyse_tweets",
   "language": "python",
   "name": "analyse_tweets"
  },
  "language_info": {
   "codemirror_mode": {
    "name": "ipython",
    "version": 3
   },
   "file_extension": ".py",
   "mimetype": "text/x-python",
   "name": "python",
   "nbconvert_exporter": "python",
   "pygments_lexer": "ipython3",
   "version": "3.9.7"
  },
  "latex_envs": {
   "LaTeX_envs_menu_present": true,
   "autoclose": false,
   "autocomplete": true,
   "bibliofile": "biblio.bib",
   "cite_by": "apalike",
   "current_citInitial": 1,
   "eqLabelWithNumbers": true,
   "eqNumInitial": 1,
   "hotkeys": {
    "equation": "Ctrl-E",
    "itemize": "Ctrl-I"
   },
   "labels_anchors": false,
   "latex_user_defs": false,
   "report_style_numbering": false,
   "user_envs_cfg": false
  },
  "toc": {
   "base_numbering": 1,
   "nav_menu": {},
   "number_sections": true,
   "sideBar": true,
   "skip_h1_title": false,
   "title_cell": "Table of Contents",
   "title_sidebar": "Contents",
   "toc_cell": false,
   "toc_position": {},
   "toc_section_display": true,
   "toc_window_display": false
  }
 },
 "nbformat": 4,
 "nbformat_minor": 5
}
