{
 "cells": [
  {
   "cell_type": "code",
   "execution_count": 1,
   "id": "61918cfc",
   "metadata": {},
   "outputs": [],
   "source": [
    "import pandas as pd\n",
    "import random\n",
    "\n",
    "from functools import partial\n",
    "import math\n",
    "import os\n",
    "import tqdm\n",
    "import numpy as np\n",
    "#import bamboolib as bam\n",
    "import sklearn\n",
    "from matplotlib import pyplot \n",
    "import seaborn as sns\n",
    "from sklearn import metrics\n",
    "from matplotlib import pyplot as plt\n",
    "    \n",
    "from kneed import KneeLocator\n",
    "import scipy\n",
    "    "
   ]
  },
  {
   "cell_type": "markdown",
   "id": "5fffb3d5",
   "metadata": {},
   "source": [
    "# Chargement et préparation des données"
   ]
  },
  {
   "cell_type": "code",
   "execution_count": 2,
   "id": "c605ae61",
   "metadata": {},
   "outputs": [
    {
     "data": {
      "text/plain": [
       "'/home/aymeric/python-scripts/anses_medialab/datas/index_alldefault_nameexhaustive_aymeric.csv'"
      ]
     },
     "execution_count": 2,
     "metadata": {},
     "output_type": "execute_result"
    }
   ],
   "source": [
    "aymeric = \"/home/aymeric/python-scripts/anses_medialab/datas\" #aymeric\n",
    "jp = 'd:/Projects/Medialab/Anses/' # Jean Philippe\n",
    "\n",
    "path= aymeric\n",
    "tfidf='tfidf'\n",
    "#domain='media'\n",
    "#domain='twitter'\n",
    "#domain='facebook'\n",
    "\n",
    "index_file_JP=\"indexation_results/index_alldefault_nameexhaustive_aymeric.csv\"\n",
    "index_file_AL=f\"index_alldefault_nameexhaustive_aymeric.csv\"\n",
    "index_file=f\"{path}/{index_file_AL}\"\n",
    "index_file"
   ]
  },
  {
   "cell_type": "code",
   "execution_count": 3,
   "id": "5865003e",
   "metadata": {},
   "outputs": [],
   "source": [
    "df=pd.read_csv(index_file, sep='\\t', dtype={\"doc_id\" :\"string\", \"sent_id\": \"string\"})\n"
   ]
  },
  {
   "cell_type": "code",
   "execution_count": 4,
   "id": "975bc557",
   "metadata": {},
   "outputs": [
    {
     "data": {
      "text/plain": [
       "7832372"
      ]
     },
     "execution_count": 4,
     "metadata": {},
     "output_type": "execute_result"
    }
   ],
   "source": [
    "df['date'] = pd.to_datetime(df['date'], infer_datetime_format=True)\n",
    "df['yearmonth']=(df['date'].dt.strftime('%Y-%m'))\n",
    "df=df[~df['yearmonth'].isin(['2008-04', '2010-01','2021-02'])]\n",
    "df=df.dropna(subset=['yearmonth'])\n",
    "len(df)"
   ]
  },
  {
   "cell_type": "markdown",
   "id": "9cbfb26b",
   "metadata": {},
   "source": [
    "## Fréquence des termes par documents (sur facebook)"
   ]
  },
  {
   "cell_type": "code",
   "execution_count": 6,
   "id": "09ae7515",
   "metadata": {},
   "outputs": [
    {
     "data": {
      "text/html": [
       "<div>\n",
       "<style scoped>\n",
       "    .dataframe tbody tr th:only-of-type {\n",
       "        vertical-align: middle;\n",
       "    }\n",
       "\n",
       "    .dataframe tbody tr th {\n",
       "        vertical-align: top;\n",
       "    }\n",
       "\n",
       "    .dataframe thead th {\n",
       "        text-align: right;\n",
       "    }\n",
       "</style>\n",
       "<table border=\"1\" class=\"dataframe\">\n",
       "  <thead>\n",
       "    <tr style=\"text-align: right;\">\n",
       "      <th></th>\n",
       "      <th>term</th>\n",
       "      <th>doc_id</th>\n",
       "      <th>freq</th>\n",
       "    </tr>\n",
       "  </thead>\n",
       "  <tbody>\n",
       "    <tr>\n",
       "      <th>0</th>\n",
       "      <td>% des échantillons</td>\n",
       "      <td>102163</td>\n",
       "      <td>1</td>\n",
       "    </tr>\n",
       "    <tr>\n",
       "      <th>1</th>\n",
       "      <td>% des échantillons</td>\n",
       "      <td>102406</td>\n",
       "      <td>1</td>\n",
       "    </tr>\n",
       "    <tr>\n",
       "      <th>2</th>\n",
       "      <td>% des échantillons</td>\n",
       "      <td>102422</td>\n",
       "      <td>1</td>\n",
       "    </tr>\n",
       "    <tr>\n",
       "      <th>3</th>\n",
       "      <td>% des échantillons</td>\n",
       "      <td>10722</td>\n",
       "      <td>1</td>\n",
       "    </tr>\n",
       "    <tr>\n",
       "      <th>4</th>\n",
       "      <td>% des échantillons</td>\n",
       "      <td>112869</td>\n",
       "      <td>1</td>\n",
       "    </tr>\n",
       "    <tr>\n",
       "      <th>...</th>\n",
       "      <td>...</td>\n",
       "      <td>...</td>\n",
       "      <td>...</td>\n",
       "    </tr>\n",
       "    <tr>\n",
       "      <th>2284289</th>\n",
       "      <td>œuf</td>\n",
       "      <td>99387</td>\n",
       "      <td>1</td>\n",
       "    </tr>\n",
       "    <tr>\n",
       "      <th>2284290</th>\n",
       "      <td>œuf</td>\n",
       "      <td>99394</td>\n",
       "      <td>1</td>\n",
       "    </tr>\n",
       "    <tr>\n",
       "      <th>2284291</th>\n",
       "      <td>œuf</td>\n",
       "      <td>99464</td>\n",
       "      <td>1</td>\n",
       "    </tr>\n",
       "    <tr>\n",
       "      <th>2284292</th>\n",
       "      <td>œuf</td>\n",
       "      <td>99496</td>\n",
       "      <td>3</td>\n",
       "    </tr>\n",
       "    <tr>\n",
       "      <th>2284293</th>\n",
       "      <td>œuf</td>\n",
       "      <td>99601</td>\n",
       "      <td>1</td>\n",
       "    </tr>\n",
       "  </tbody>\n",
       "</table>\n",
       "<p>2284294 rows × 3 columns</p>\n",
       "</div>"
      ],
      "text/plain": [
       "                       term  doc_id  freq\n",
       "0        % des échantillons  102163     1\n",
       "1        % des échantillons  102406     1\n",
       "2        % des échantillons  102422     1\n",
       "3        % des échantillons   10722     1\n",
       "4        % des échantillons  112869     1\n",
       "...                     ...     ...   ...\n",
       "2284289                 œuf   99387     1\n",
       "2284290                 œuf   99394     1\n",
       "2284291                 œuf   99464     1\n",
       "2284292                 œuf   99496     3\n",
       "2284293                 œuf   99601     1\n",
       "\n",
       "[2284294 rows x 3 columns]"
      ]
     },
     "execution_count": 6,
     "metadata": {},
     "output_type": "execute_result"
    }
   ],
   "source": [
    "df[\"doc_sent_id\"] = df[\"doc_id\"]+\"_\"+df[\"sent_id\"]\n",
    "\n",
    "df_fb = df.loc[df[\"origin\"] == \"facebook\"]\n",
    "N=500\n",
    "topN=df_fb[\"term\"].value_counts().index[:N]\n",
    "df=df_fb[df_fb[\"term\"].isin(topN)]\n",
    "\n",
    "df_term_freq = df_fb.groupby(['term', 'doc_id']).agg(freq=('sent_id', 'size')).reset_index()"
   ]
  },
  {
   "cell_type": "markdown",
   "id": "8c9c2825",
   "metadata": {},
   "source": [
    "## pivotement du dataframe pour produire une matrice documents-termes"
   ]
  },
  {
   "cell_type": "code",
   "execution_count": 8,
   "id": "96048645",
   "metadata": {},
   "outputs": [],
   "source": [
    "table = pd.pivot_table(df_term_freq, values='freq', index=['doc_id'],columns=[\"term\"], aggfunc=np.sum, fill_value=0)"
   ]
  },
  {
   "cell_type": "markdown",
   "id": "00bc90eb",
   "metadata": {},
   "source": [
    "## Création de la matrice termes-termes\n",
    "multiplication de la matrice documents-termes par sa transposée"
   ]
  },
  {
   "cell_type": "code",
   "execution_count": 9,
   "id": "4f7d2ed5",
   "metadata": {},
   "outputs": [],
   "source": [
    "term_term = np.dot(table.T, table) # multiplication de la transposé de"
   ]
  },
  {
   "cell_type": "code",
   "execution_count": 13,
   "id": "3ab111cd",
   "metadata": {},
   "outputs": [
    {
     "data": {
      "text/plain": [
       "[]"
      ]
     },
     "execution_count": 13,
     "metadata": {},
     "output_type": "execute_result"
    }
   ],
   "source": [
    "mi_matrix = []\n",
    "type(mi_matrix)\n",
    "mi_matrix"
   ]
  },
  {
   "cell_type": "code",
   "execution_count": 15,
   "id": "08271c1c",
   "metadata": {},
   "outputs": [],
   "source": [
    "freq_term = [x for x in term_term.diagonal()] # pour obtenir la fréquence de chaque terme (somme de chaque ligne)\n",
    "\n",
    "#Nombre de paires est égale à la somme des lignes moins la diagonale (à diviser par 2?)\n",
    "Nb_pairs = sum(np.sum(term_term,axis=1).tolist()) -  sum(freq_term) \n",
    "\n",
    "for i in range(len(term_term)):\n",
    "    list_mi = []\n",
    "    for j in range(len(term_term)):\n",
    "        nb_cooc = term_term[i,j] #nombre de cooccurrences des termes i et j\n",
    "        freq_i = freq_term[i] # fréquence de i\n",
    "        freq_j = freq_term[j] # fréquence de j\n",
    "        \n",
    "        if i == j : \n",
    "            mutual_info = 0\n",
    "        else:\n",
    "            if nb_cooc == 0 :\n",
    "                mutual_info = 0\n",
    "            else: #calcule mutual information\n",
    "                num = nb_cooc*Nb_pairs\n",
    "                denom = freq_i*freq_j\n",
    "                mutual_info = np.log(num/denom)\n",
    "            \n",
    "        list_mi.append(mutual_info)\n",
    "    mi_matrix.append(list_mi)\n",
    "\n"
   ]
  },
  {
   "cell_type": "markdown",
   "id": "f8842c30",
   "metadata": {},
   "source": [
    "## Calcule du cosine"
   ]
  },
  {
   "cell_type": "code",
   "execution_count": 31,
   "id": "6ae14d88",
   "metadata": {},
   "outputs": [
    {
     "data": {
      "text/plain": [
       "array([[1.        , 0.42023496, 0.63973208, ..., 0.70165638, 0.75650301,\n",
       "        0.65661498],\n",
       "       [0.42023496, 1.        , 0.4138105 , ..., 0.47898796, 0.42830392,\n",
       "        0.39266756],\n",
       "       [0.63973208, 0.4138105 , 1.        , ..., 0.82454437, 0.86006469,\n",
       "        0.7783489 ],\n",
       "       ...,\n",
       "       [0.70165638, 0.47898796, 0.82454437, ..., 1.        , 0.82301139,\n",
       "        0.71674332],\n",
       "       [0.75650301, 0.42830392, 0.86006469, ..., 0.82301139, 1.        ,\n",
       "        0.81882193],\n",
       "       [0.65661498, 0.39266756, 0.7783489 , ..., 0.71674332, 0.81882193,\n",
       "        1.        ]])"
      ]
     },
     "execution_count": 31,
     "metadata": {},
     "output_type": "execute_result"
    }
   ],
   "source": [
    "mi_array = np.array(mi_matrix)\n",
    "m =scipy.sparse.csc_matrix(mi_array)\n",
    "dist=metrics.pairwise.cosine_similarity(m)\n",
    "dist"
   ]
  },
  {
   "cell_type": "code",
   "execution_count": 25,
   "id": "de456888",
   "metadata": {},
   "outputs": [],
   "source": [
    "from sklearn.neighbors import NearestNeighbors"
   ]
  },
  {
   "cell_type": "code",
   "execution_count": 26,
   "id": "bc6864d4",
   "metadata": {},
   "outputs": [
    {
     "data": {
      "text/plain": [
       "NearestNeighbors(n_neighbors=2, radius=0.4)"
      ]
     },
     "execution_count": 26,
     "metadata": {},
     "output_type": "execute_result"
    }
   ],
   "source": [
    "samples = [[0, 0, 2], [1, 0, 0], [0, 0, 1]]\n",
    "neigh = NearestNeighbors(n_neighbors=2, radius=0.4)\n",
    "neigh.fit(samples)"
   ]
  },
  {
   "cell_type": "code",
   "execution_count": 28,
   "id": "36516d5a",
   "metadata": {},
   "outputs": [
    {
     "data": {
      "text/plain": [
       "array([[2, 0]])"
      ]
     },
     "execution_count": 28,
     "metadata": {},
     "output_type": "execute_result"
    }
   ],
   "source": []
  }
 ],
 "metadata": {
  "hide_input": false,
  "kernelspec": {
   "display_name": "analyse_tweets",
   "language": "python",
   "name": "analyse_tweets"
  },
  "language_info": {
   "codemirror_mode": {
    "name": "ipython",
    "version": 3
   },
   "file_extension": ".py",
   "mimetype": "text/x-python",
   "name": "python",
   "nbconvert_exporter": "python",
   "pygments_lexer": "ipython3",
   "version": "3.9.7"
  },
  "latex_envs": {
   "LaTeX_envs_menu_present": true,
   "autoclose": false,
   "autocomplete": true,
   "bibliofile": "biblio.bib",
   "cite_by": "apalike",
   "current_citInitial": 1,
   "eqLabelWithNumbers": true,
   "eqNumInitial": 1,
   "hotkeys": {
    "equation": "Ctrl-E",
    "itemize": "Ctrl-I"
   },
   "labels_anchors": false,
   "latex_user_defs": false,
   "report_style_numbering": false,
   "user_envs_cfg": false
  },
  "toc": {
   "base_numbering": 1,
   "nav_menu": {},
   "number_sections": true,
   "sideBar": true,
   "skip_h1_title": false,
   "title_cell": "Table of Contents",
   "title_sidebar": "Contents",
   "toc_cell": false,
   "toc_position": {},
   "toc_section_display": true,
   "toc_window_display": false
  }
 },
 "nbformat": 4,
 "nbformat_minor": 5
}
